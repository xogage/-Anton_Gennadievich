{
  "nbformat": 4,
  "nbformat_minor": 0,
  "metadata": {
    "ExecuteTimeLog": [
      {
        "duration": 1151,
        "start_time": "2021-08-14T11:51:03.463Z"
      },
      {
        "duration": 17,
        "start_time": "2021-08-14T11:53:42.094Z"
      },
      {
        "duration": 30,
        "start_time": "2021-08-14T11:56:34.090Z"
      },
      {
        "duration": 11,
        "start_time": "2021-08-14T11:56:38.118Z"
      },
      {
        "duration": 34,
        "start_time": "2021-08-14T12:00:34.115Z"
      },
      {
        "duration": 7,
        "start_time": "2021-08-14T12:00:34.637Z"
      },
      {
        "duration": 409,
        "start_time": "2021-08-14T12:02:04.509Z"
      },
      {
        "duration": 37,
        "start_time": "2021-08-14T12:02:22.946Z"
      },
      {
        "duration": 6,
        "start_time": "2021-08-14T12:02:55.334Z"
      },
      {
        "duration": 11,
        "start_time": "2021-08-14T12:03:54.746Z"
      },
      {
        "duration": 5,
        "start_time": "2021-08-14T12:04:15.756Z"
      },
      {
        "duration": 81,
        "start_time": "2021-08-14T12:05:35.707Z"
      },
      {
        "duration": 6,
        "start_time": "2021-08-14T12:07:11.923Z"
      },
      {
        "duration": 8,
        "start_time": "2021-08-14T12:07:15.144Z"
      },
      {
        "duration": 573,
        "start_time": "2021-08-14T12:07:26.936Z"
      },
      {
        "duration": 12,
        "start_time": "2021-08-14T12:07:43.612Z"
      },
      {
        "duration": 606,
        "start_time": "2021-08-14T12:07:48.876Z"
      },
      {
        "duration": 8,
        "start_time": "2021-08-14T12:08:00.615Z"
      },
      {
        "duration": 246,
        "start_time": "2021-08-14T12:08:01.300Z"
      },
      {
        "duration": 12,
        "start_time": "2021-08-14T12:09:17.657Z"
      },
      {
        "duration": 10,
        "start_time": "2021-08-14T12:09:22.543Z"
      },
      {
        "duration": 349,
        "start_time": "2021-08-14T12:10:01.004Z"
      },
      {
        "duration": 248,
        "start_time": "2021-08-14T12:12:35.799Z"
      },
      {
        "duration": 386,
        "start_time": "2021-08-14T12:12:46.304Z"
      },
      {
        "duration": 8,
        "start_time": "2021-08-14T12:13:47.854Z"
      },
      {
        "duration": 392,
        "start_time": "2021-08-14T12:14:06.493Z"
      },
      {
        "duration": 5,
        "start_time": "2021-08-14T12:14:20.521Z"
      },
      {
        "duration": 333,
        "start_time": "2021-08-14T12:14:21.020Z"
      },
      {
        "duration": 352,
        "start_time": "2021-08-14T12:14:46.813Z"
      },
      {
        "duration": 6,
        "start_time": "2021-08-14T12:15:04.434Z"
      },
      {
        "duration": 372,
        "start_time": "2021-08-14T12:15:05.207Z"
      },
      {
        "duration": 6,
        "start_time": "2021-08-14T12:15:08.721Z"
      },
      {
        "duration": 353,
        "start_time": "2021-08-14T12:15:09.080Z"
      },
      {
        "duration": 6,
        "start_time": "2021-08-14T12:15:46.456Z"
      },
      {
        "duration": 350,
        "start_time": "2021-08-14T12:15:47.646Z"
      },
      {
        "duration": 6822,
        "start_time": "2021-08-14T12:16:54.769Z"
      },
      {
        "duration": -403,
        "start_time": "2021-08-14T12:17:01.997Z"
      },
      {
        "duration": 7,
        "start_time": "2021-08-14T12:17:56.759Z"
      },
      {
        "duration": 438,
        "start_time": "2021-08-14T12:17:58.250Z"
      },
      {
        "duration": 10,
        "start_time": "2021-08-14T12:22:17.270Z"
      },
      {
        "duration": 374,
        "start_time": "2021-08-14T12:22:18.098Z"
      },
      {
        "duration": 10,
        "start_time": "2021-08-14T12:22:25.562Z"
      },
      {
        "duration": 389,
        "start_time": "2021-08-14T12:22:26.191Z"
      },
      {
        "duration": 9,
        "start_time": "2021-08-14T12:22:34.539Z"
      },
      {
        "duration": 382,
        "start_time": "2021-08-14T12:22:34.751Z"
      },
      {
        "duration": 325,
        "start_time": "2021-08-14T12:23:18.741Z"
      },
      {
        "duration": 366,
        "start_time": "2021-08-14T12:23:30.550Z"
      },
      {
        "duration": 260,
        "start_time": "2021-08-14T12:23:44.072Z"
      },
      {
        "duration": 8,
        "start_time": "2021-08-14T12:23:52.833Z"
      },
      {
        "duration": 366,
        "start_time": "2021-08-14T12:23:54.313Z"
      },
      {
        "duration": 9,
        "start_time": "2021-08-14T12:23:59.437Z"
      },
      {
        "duration": 271,
        "start_time": "2021-08-14T12:23:59.738Z"
      },
      {
        "duration": 13,
        "start_time": "2021-08-14T13:06:31.531Z"
      },
      {
        "duration": 245,
        "start_time": "2021-08-14T13:07:06.833Z"
      },
      {
        "duration": 20,
        "start_time": "2021-08-14T13:07:27.089Z"
      },
      {
        "duration": 20,
        "start_time": "2021-08-14T13:09:40.161Z"
      },
      {
        "duration": 20,
        "start_time": "2021-08-14T13:09:51.361Z"
      },
      {
        "duration": 20,
        "start_time": "2021-08-14T13:09:58.476Z"
      },
      {
        "duration": 19,
        "start_time": "2021-08-14T13:10:01.524Z"
      },
      {
        "duration": 39,
        "start_time": "2021-08-14T13:10:05.806Z"
      },
      {
        "duration": 21,
        "start_time": "2021-08-14T13:10:09.822Z"
      },
      {
        "duration": 17,
        "start_time": "2021-08-14T13:11:42.883Z"
      },
      {
        "duration": 22,
        "start_time": "2021-08-14T13:11:47.115Z"
      },
      {
        "duration": 22,
        "start_time": "2021-08-14T13:11:53.146Z"
      },
      {
        "duration": 1953,
        "start_time": "2021-08-14T13:11:57.688Z"
      },
      {
        "duration": 1783,
        "start_time": "2021-08-14T13:12:35.763Z"
      },
      {
        "duration": 1457,
        "start_time": "2021-08-14T13:12:41.190Z"
      },
      {
        "duration": 1483,
        "start_time": "2021-08-14T13:13:00.462Z"
      },
      {
        "duration": 7,
        "start_time": "2021-08-14T13:14:40.772Z"
      },
      {
        "duration": 1613,
        "start_time": "2021-08-14T13:14:41.728Z"
      },
      {
        "duration": 23,
        "start_time": "2021-08-14T13:14:55.623Z"
      },
      {
        "duration": 18,
        "start_time": "2021-08-14T13:15:10.046Z"
      },
      {
        "duration": 23,
        "start_time": "2021-08-14T13:15:13.769Z"
      },
      {
        "duration": 22,
        "start_time": "2021-08-14T13:15:27.816Z"
      },
      {
        "duration": 23,
        "start_time": "2021-08-14T13:15:52.969Z"
      },
      {
        "duration": 10,
        "start_time": "2021-08-14T13:16:14.634Z"
      },
      {
        "duration": 23,
        "start_time": "2021-08-14T13:16:17.978Z"
      },
      {
        "duration": 5,
        "start_time": "2021-08-14T13:16:23.724Z"
      },
      {
        "duration": 1421,
        "start_time": "2021-08-14T13:16:33.119Z"
      },
      {
        "duration": 4,
        "start_time": "2021-08-14T13:16:42.344Z"
      },
      {
        "duration": 7,
        "start_time": "2021-08-14T13:16:42.662Z"
      },
      {
        "duration": 18,
        "start_time": "2021-08-14T13:16:45.204Z"
      },
      {
        "duration": 24,
        "start_time": "2021-08-14T13:16:48.502Z"
      },
      {
        "duration": 75,
        "start_time": "2021-08-14T13:18:21.747Z"
      },
      {
        "duration": 18,
        "start_time": "2021-08-14T13:18:24.166Z"
      },
      {
        "duration": 11,
        "start_time": "2021-08-14T13:18:24.389Z"
      },
      {
        "duration": 1479,
        "start_time": "2021-08-14T13:18:24.666Z"
      },
      {
        "duration": 25,
        "start_time": "2021-08-14T13:18:32.634Z"
      },
      {
        "duration": 34,
        "start_time": "2021-08-14T13:18:56.861Z"
      },
      {
        "duration": 19,
        "start_time": "2021-08-14T13:19:03.085Z"
      },
      {
        "duration": 7,
        "start_time": "2021-08-14T13:19:03.622Z"
      },
      {
        "duration": 6,
        "start_time": "2021-08-14T13:19:03.872Z"
      },
      {
        "duration": 25,
        "start_time": "2021-08-14T13:19:04.116Z"
      },
      {
        "duration": 2,
        "start_time": "2021-08-14T13:27:50.568Z"
      },
      {
        "duration": 4,
        "start_time": "2021-08-14T13:28:31.848Z"
      },
      {
        "duration": 250,
        "start_time": "2021-08-14T13:29:48.854Z"
      },
      {
        "duration": 6,
        "start_time": "2021-08-14T13:30:15.270Z"
      },
      {
        "duration": 15,
        "start_time": "2021-08-14T13:30:18.837Z"
      },
      {
        "duration": -377,
        "start_time": "2021-08-14T13:30:32.940Z"
      },
      {
        "duration": 5,
        "start_time": "2021-08-14T13:30:33.492Z"
      },
      {
        "duration": 14,
        "start_time": "2021-08-14T13:30:44.351Z"
      },
      {
        "duration": 4,
        "start_time": "2021-08-14T13:30:52.057Z"
      },
      {
        "duration": 5,
        "start_time": "2021-08-14T13:31:03.373Z"
      },
      {
        "duration": 15,
        "start_time": "2021-08-14T13:31:27.598Z"
      },
      {
        "duration": 7,
        "start_time": "2021-08-14T13:32:13.642Z"
      },
      {
        "duration": 264,
        "start_time": "2021-08-14T13:32:14.363Z"
      },
      {
        "duration": 4,
        "start_time": "2021-08-14T13:32:24.743Z"
      },
      {
        "duration": 6,
        "start_time": "2021-08-14T13:32:25.002Z"
      },
      {
        "duration": 14,
        "start_time": "2021-08-14T13:32:30.916Z"
      },
      {
        "duration": 15,
        "start_time": "2021-08-14T13:32:38.615Z"
      },
      {
        "duration": 6,
        "start_time": "2021-08-14T13:32:42.542Z"
      },
      {
        "duration": 7,
        "start_time": "2021-08-14T13:33:02.505Z"
      },
      {
        "duration": 341,
        "start_time": "2021-08-14T13:33:03.218Z"
      },
      {
        "duration": 15,
        "start_time": "2021-08-14T13:33:10.717Z"
      },
      {
        "duration": 5,
        "start_time": "2021-08-14T13:33:28.553Z"
      },
      {
        "duration": 300,
        "start_time": "2021-08-14T13:33:41.043Z"
      },
      {
        "duration": 6,
        "start_time": "2021-08-14T13:35:28.272Z"
      },
      {
        "duration": 3,
        "start_time": "2021-08-14T13:35:34.583Z"
      },
      {
        "duration": 4,
        "start_time": "2021-08-14T13:35:42.111Z"
      },
      {
        "duration": 7,
        "start_time": "2021-08-14T13:36:13.647Z"
      },
      {
        "duration": 4,
        "start_time": "2021-08-14T13:36:20.166Z"
      },
      {
        "duration": 3,
        "start_time": "2021-08-14T13:36:27.382Z"
      },
      {
        "duration": 14,
        "start_time": "2021-08-14T13:37:31.328Z"
      },
      {
        "duration": 9,
        "start_time": "2021-08-14T13:37:55.425Z"
      },
      {
        "duration": 14,
        "start_time": "2021-08-14T13:37:55.892Z"
      },
      {
        "duration": 5,
        "start_time": "2021-08-14T13:39:06.267Z"
      },
      {
        "duration": 24,
        "start_time": "2021-08-14T13:47:54.127Z"
      },
      {
        "duration": 24,
        "start_time": "2021-08-14T13:48:05.794Z"
      },
      {
        "duration": 26,
        "start_time": "2021-08-14T13:48:18.180Z"
      },
      {
        "duration": 25,
        "start_time": "2021-08-14T13:48:21.329Z"
      },
      {
        "duration": 24,
        "start_time": "2021-08-14T13:48:27.173Z"
      },
      {
        "duration": 23,
        "start_time": "2021-08-14T13:48:36.405Z"
      },
      {
        "duration": 31,
        "start_time": "2021-08-14T13:48:42.529Z"
      },
      {
        "duration": 31,
        "start_time": "2021-08-14T13:49:12.043Z"
      },
      {
        "duration": 35,
        "start_time": "2021-08-14T13:50:03.854Z"
      },
      {
        "duration": 285,
        "start_time": "2021-08-14T13:51:05.528Z"
      },
      {
        "duration": 24,
        "start_time": "2021-08-14T13:54:47.653Z"
      },
      {
        "duration": 23,
        "start_time": "2021-08-14T14:04:34.260Z"
      },
      {
        "duration": 10,
        "start_time": "2021-08-14T14:06:22.463Z"
      },
      {
        "duration": 16,
        "start_time": "2021-08-14T14:07:45.679Z"
      },
      {
        "duration": 9,
        "start_time": "2021-08-14T14:08:59.919Z"
      },
      {
        "duration": 169,
        "start_time": "2021-08-14T14:10:10.872Z"
      },
      {
        "duration": 1097,
        "start_time": "2021-08-14T14:11:17.293Z"
      },
      {
        "duration": 38,
        "start_time": "2021-08-14T14:11:18.392Z"
      },
      {
        "duration": 7,
        "start_time": "2021-08-14T14:11:18.432Z"
      },
      {
        "duration": 19,
        "start_time": "2021-08-14T14:11:18.441Z"
      },
      {
        "duration": 6,
        "start_time": "2021-08-14T14:11:18.485Z"
      },
      {
        "duration": 13,
        "start_time": "2021-08-14T14:11:18.900Z"
      },
      {
        "duration": 336,
        "start_time": "2021-08-14T14:11:19.852Z"
      },
      {
        "duration": 10,
        "start_time": "2021-08-14T14:11:21.077Z"
      },
      {
        "duration": 267,
        "start_time": "2021-08-14T14:11:21.245Z"
      },
      {
        "duration": 15,
        "start_time": "2021-08-14T14:11:21.639Z"
      },
      {
        "duration": 10,
        "start_time": "2021-08-14T14:11:24.358Z"
      },
      {
        "duration": 32,
        "start_time": "2021-08-14T14:11:24.912Z"
      },
      {
        "duration": 29,
        "start_time": "2021-08-14T14:11:26.513Z"
      },
      {
        "duration": 11,
        "start_time": "2021-08-14T14:11:42.072Z"
      },
      {
        "duration": 1183,
        "start_time": "2021-08-14T14:18:02.526Z"
      },
      {
        "duration": 39,
        "start_time": "2021-08-14T14:18:03.711Z"
      },
      {
        "duration": 7,
        "start_time": "2021-08-14T14:18:03.752Z"
      },
      {
        "duration": 16,
        "start_time": "2021-08-14T14:18:03.761Z"
      },
      {
        "duration": 6,
        "start_time": "2021-08-14T14:18:03.779Z"
      },
      {
        "duration": 21,
        "start_time": "2021-08-14T14:18:03.787Z"
      },
      {
        "duration": 344,
        "start_time": "2021-08-14T14:18:04.247Z"
      },
      {
        "duration": 10,
        "start_time": "2021-08-14T14:18:04.593Z"
      },
      {
        "duration": 261,
        "start_time": "2021-08-14T14:18:04.843Z"
      },
      {
        "duration": 445,
        "start_time": "2021-08-14T14:18:10.620Z"
      },
      {
        "duration": 51,
        "start_time": "2021-08-14T14:18:11.117Z"
      },
      {
        "duration": 6388,
        "start_time": "2021-08-14T14:18:12.560Z"
      },
      {
        "duration": 1322,
        "start_time": "2021-08-14T14:18:22.725Z"
      },
      {
        "duration": 1167,
        "start_time": "2021-08-14T14:19:22.726Z"
      },
      {
        "duration": 38,
        "start_time": "2021-08-14T14:19:23.894Z"
      },
      {
        "duration": 7,
        "start_time": "2021-08-14T14:19:23.934Z"
      },
      {
        "duration": 15,
        "start_time": "2021-08-14T14:19:23.943Z"
      },
      {
        "duration": 6,
        "start_time": "2021-08-14T14:19:25.386Z"
      },
      {
        "duration": 13,
        "start_time": "2021-08-14T14:19:26.226Z"
      },
      {
        "duration": 337,
        "start_time": "2021-08-14T14:19:27.997Z"
      },
      {
        "duration": 11,
        "start_time": "2021-08-14T14:19:28.336Z"
      },
      {
        "duration": 269,
        "start_time": "2021-08-14T14:19:28.714Z"
      },
      {
        "duration": 13,
        "start_time": "2021-08-14T14:19:29.972Z"
      },
      {
        "duration": 10,
        "start_time": "2021-08-14T14:19:40.056Z"
      },
      {
        "duration": 33,
        "start_time": "2021-08-14T14:19:40.944Z"
      },
      {
        "duration": 76,
        "start_time": "2021-08-14T14:19:45.472Z"
      },
      {
        "duration": 83,
        "start_time": "2021-08-14T14:20:18.625Z"
      },
      {
        "duration": 5,
        "start_time": "2021-08-14T14:21:45.438Z"
      },
      {
        "duration": 30,
        "start_time": "2021-08-14T14:24:58.876Z"
      },
      {
        "duration": 24,
        "start_time": "2021-08-14T14:25:04.304Z"
      },
      {
        "duration": 99,
        "start_time": "2021-08-14T14:25:20.545Z"
      },
      {
        "duration": 413,
        "start_time": "2021-08-14T14:25:24.339Z"
      },
      {
        "duration": 33,
        "start_time": "2021-08-14T14:25:28.511Z"
      },
      {
        "duration": 23,
        "start_time": "2021-08-14T14:25:32.250Z"
      },
      {
        "duration": 23,
        "start_time": "2021-08-14T14:25:34.997Z"
      },
      {
        "duration": 23,
        "start_time": "2021-08-14T14:25:37.741Z"
      },
      {
        "duration": 32,
        "start_time": "2021-08-14T14:25:40.008Z"
      },
      {
        "duration": 30,
        "start_time": "2021-08-14T14:25:42.864Z"
      },
      {
        "duration": 27,
        "start_time": "2021-08-14T14:26:04.345Z"
      },
      {
        "duration": 24,
        "start_time": "2021-08-14T14:26:09.691Z"
      },
      {
        "duration": 246,
        "start_time": "2021-08-14T14:30:28.040Z"
      },
      {
        "duration": 2017,
        "start_time": "2021-08-14T14:30:35.853Z"
      },
      {
        "duration": 77,
        "start_time": "2021-08-14T14:32:10.370Z"
      },
      {
        "duration": 82,
        "start_time": "2021-08-14T14:32:13.727Z"
      },
      {
        "duration": 256,
        "start_time": "2021-08-14T14:32:19.610Z"
      },
      {
        "duration": 53386,
        "start_time": "2021-08-14T14:32:53.093Z"
      },
      {
        "duration": 56648,
        "start_time": "2021-08-14T14:33:57.019Z"
      },
      {
        "duration": 7,
        "start_time": "2021-08-14T14:35:49.014Z"
      },
      {
        "duration": 54347,
        "start_time": "2021-08-14T14:36:13.041Z"
      },
      {
        "duration": 6,
        "start_time": "2021-08-14T14:37:10.044Z"
      },
      {
        "duration": 8,
        "start_time": "2021-08-14T14:37:21.678Z"
      },
      {
        "duration": 4,
        "start_time": "2021-08-14T14:39:35.114Z"
      },
      {
        "duration": 7,
        "start_time": "2021-08-14T14:40:46.071Z"
      },
      {
        "duration": 8796,
        "start_time": "2021-08-14T14:41:11.651Z"
      },
      {
        "duration": 17,
        "start_time": "2021-08-14T14:41:28.054Z"
      },
      {
        "duration": 10,
        "start_time": "2021-08-14T14:41:30.205Z"
      },
      {
        "duration": 242,
        "start_time": "2021-08-14T14:42:01.421Z"
      },
      {
        "duration": 8181,
        "start_time": "2021-08-14T14:42:06.142Z"
      },
      {
        "duration": 8,
        "start_time": "2021-08-14T14:42:15.576Z"
      },
      {
        "duration": 1185,
        "start_time": "2021-08-14T14:42:29.111Z"
      },
      {
        "duration": 39,
        "start_time": "2021-08-14T14:42:30.298Z"
      },
      {
        "duration": 8,
        "start_time": "2021-08-14T14:42:30.339Z"
      },
      {
        "duration": 31,
        "start_time": "2021-08-14T14:42:30.349Z"
      },
      {
        "duration": 12,
        "start_time": "2021-08-14T14:42:30.382Z"
      },
      {
        "duration": 26,
        "start_time": "2021-08-14T14:42:30.396Z"
      },
      {
        "duration": 361,
        "start_time": "2021-08-14T14:42:30.423Z"
      },
      {
        "duration": 9,
        "start_time": "2021-08-14T14:42:30.787Z"
      },
      {
        "duration": 285,
        "start_time": "2021-08-14T14:42:30.798Z"
      },
      {
        "duration": 14,
        "start_time": "2021-08-14T14:42:31.084Z"
      },
      {
        "duration": 9,
        "start_time": "2021-08-14T14:42:31.099Z"
      },
      {
        "duration": 52,
        "start_time": "2021-08-14T14:42:31.110Z"
      },
      {
        "duration": 52842,
        "start_time": "2021-08-14T14:42:31.164Z"
      },
      {
        "duration": 7,
        "start_time": "2021-08-14T14:43:24.008Z"
      },
      {
        "duration": 9,
        "start_time": "2021-08-14T14:43:34.083Z"
      },
      {
        "duration": 1226,
        "start_time": "2021-08-14T14:47:09.915Z"
      },
      {
        "duration": 40,
        "start_time": "2021-08-14T14:47:11.143Z"
      },
      {
        "duration": 7,
        "start_time": "2021-08-14T14:47:11.187Z"
      },
      {
        "duration": 13,
        "start_time": "2021-08-14T14:47:11.196Z"
      },
      {
        "duration": 6,
        "start_time": "2021-08-14T14:47:11.211Z"
      },
      {
        "duration": 13,
        "start_time": "2021-08-14T14:47:11.241Z"
      },
      {
        "duration": 364,
        "start_time": "2021-08-14T14:47:11.256Z"
      },
      {
        "duration": 10,
        "start_time": "2021-08-14T14:47:11.622Z"
      },
      {
        "duration": 274,
        "start_time": "2021-08-14T14:47:11.641Z"
      },
      {
        "duration": 41,
        "start_time": "2021-08-14T14:47:11.917Z"
      },
      {
        "duration": 12,
        "start_time": "2021-08-14T14:47:11.959Z"
      },
      {
        "duration": 376,
        "start_time": "2021-08-14T14:47:11.972Z"
      },
      {
        "duration": 108139,
        "start_time": "2021-08-14T14:47:12.350Z"
      },
      {
        "duration": 4,
        "start_time": "2021-08-14T14:49:00.491Z"
      },
      {
        "duration": 18,
        "start_time": "2021-08-14T14:49:00.496Z"
      },
      {
        "duration": 11,
        "start_time": "2021-08-14T14:49:00.516Z"
      },
      {
        "duration": 100773,
        "start_time": "2021-08-14T14:50:29.324Z"
      },
      {
        "duration": 7936,
        "start_time": "2021-08-14T14:52:15.952Z"
      },
      {
        "duration": 344380,
        "start_time": "2021-08-14T14:52:46.574Z"
      },
      {
        "duration": 3,
        "start_time": "2021-08-14T14:58:53.587Z"
      },
      {
        "duration": 4,
        "start_time": "2021-08-14T14:59:07.016Z"
      },
      {
        "duration": 7,
        "start_time": "2021-08-14T14:59:16.912Z"
      },
      {
        "duration": 708,
        "start_time": "2021-08-14T14:59:37.741Z"
      },
      {
        "duration": 760,
        "start_time": "2021-08-14T14:59:42.482Z"
      },
      {
        "duration": 859,
        "start_time": "2021-08-14T14:59:47.686Z"
      },
      {
        "duration": 35836,
        "start_time": "2021-08-14T15:00:18.754Z"
      },
      {
        "duration": 4,
        "start_time": "2021-08-14T15:01:39.659Z"
      },
      {
        "duration": 7,
        "start_time": "2021-08-14T15:01:41.162Z"
      },
      {
        "duration": 34743,
        "start_time": "2021-08-14T15:01:52.528Z"
      },
      {
        "duration": 4,
        "start_time": "2021-08-14T15:02:52.485Z"
      },
      {
        "duration": 8,
        "start_time": "2021-08-14T15:02:55.641Z"
      },
      {
        "duration": 378,
        "start_time": "2021-08-14T15:04:26.964Z"
      },
      {
        "duration": 859,
        "start_time": "2021-08-14T15:04:31.285Z"
      },
      {
        "duration": 399,
        "start_time": "2021-08-14T15:05:15.842Z"
      },
      {
        "duration": 11,
        "start_time": "2021-08-14T15:05:31.180Z"
      },
      {
        "duration": 359,
        "start_time": "2021-08-14T15:05:41.283Z"
      },
      {
        "duration": 14,
        "start_time": "2021-08-14T15:05:45.095Z"
      },
      {
        "duration": 284,
        "start_time": "2021-08-14T15:07:30.562Z"
      },
      {
        "duration": 214,
        "start_time": "2021-08-14T15:07:34.329Z"
      },
      {
        "duration": 3,
        "start_time": "2021-08-14T15:08:43.333Z"
      },
      {
        "duration": 1171,
        "start_time": "2021-08-14T15:09:46.329Z"
      },
      {
        "duration": 41,
        "start_time": "2021-08-14T15:09:47.502Z"
      },
      {
        "duration": 10,
        "start_time": "2021-08-14T15:09:47.545Z"
      },
      {
        "duration": 13,
        "start_time": "2021-08-14T15:09:47.557Z"
      },
      {
        "duration": 6,
        "start_time": "2021-08-14T15:09:47.573Z"
      },
      {
        "duration": 15,
        "start_time": "2021-08-14T15:09:48.107Z"
      },
      {
        "duration": 340,
        "start_time": "2021-08-14T15:09:48.928Z"
      },
      {
        "duration": 9,
        "start_time": "2021-08-14T15:09:49.270Z"
      },
      {
        "duration": 257,
        "start_time": "2021-08-14T15:09:49.591Z"
      },
      {
        "duration": 25,
        "start_time": "2021-08-14T15:09:51.086Z"
      },
      {
        "duration": 13,
        "start_time": "2021-08-14T15:09:54.383Z"
      },
      {
        "duration": 277,
        "start_time": "2021-08-14T15:09:57.669Z"
      },
      {
        "duration": 270,
        "start_time": "2021-08-14T15:10:12.574Z"
      },
      {
        "duration": 642,
        "start_time": "2021-08-14T15:10:18.800Z"
      },
      {
        "duration": 13,
        "start_time": "2021-08-14T15:10:25.274Z"
      },
      {
        "duration": 441,
        "start_time": "2021-08-14T15:10:37.207Z"
      },
      {
        "duration": 92,
        "start_time": "2021-08-14T15:10:42.349Z"
      },
      {
        "duration": 769,
        "start_time": "2021-08-14T15:10:59.880Z"
      },
      {
        "duration": 37978,
        "start_time": "2021-08-14T15:11:19.885Z"
      },
      {
        "duration": 4,
        "start_time": "2021-08-14T15:12:29.701Z"
      },
      {
        "duration": 8,
        "start_time": "2021-08-14T15:12:40.105Z"
      },
      {
        "duration": 35848,
        "start_time": "2021-08-14T15:13:06.421Z"
      },
      {
        "duration": 4,
        "start_time": "2021-08-14T15:13:49.206Z"
      },
      {
        "duration": 7,
        "start_time": "2021-08-14T15:13:56.033Z"
      },
      {
        "duration": 325,
        "start_time": "2021-08-14T15:22:06.527Z"
      },
      {
        "duration": 4,
        "start_time": "2021-08-14T15:22:11.007Z"
      },
      {
        "duration": 568,
        "start_time": "2021-08-14T15:22:56.576Z"
      },
      {
        "duration": 418,
        "start_time": "2021-08-14T15:24:14.628Z"
      },
      {
        "duration": 275,
        "start_time": "2021-08-14T15:24:24.067Z"
      },
      {
        "duration": 2,
        "start_time": "2021-08-14T15:28:28.581Z"
      },
      {
        "duration": 9,
        "start_time": "2021-08-14T15:32:23.158Z"
      },
      {
        "duration": 528,
        "start_time": "2021-08-14T15:32:26.919Z"
      },
      {
        "duration": 833,
        "start_time": "2021-08-14T15:32:31.216Z"
      },
      {
        "duration": 10,
        "start_time": "2021-08-14T15:32:41.031Z"
      },
      {
        "duration": 569,
        "start_time": "2021-08-14T15:32:42.572Z"
      },
      {
        "duration": 365,
        "start_time": "2021-08-14T15:38:43.982Z"
      },
      {
        "duration": 216,
        "start_time": "2021-08-14T15:38:58.117Z"
      },
      {
        "duration": 273,
        "start_time": "2021-08-14T15:39:01.818Z"
      },
      {
        "duration": 397,
        "start_time": "2021-08-14T15:39:06.757Z"
      },
      {
        "duration": 445,
        "start_time": "2021-08-14T15:39:11.398Z"
      },
      {
        "duration": 252,
        "start_time": "2021-08-14T15:39:17.540Z"
      },
      {
        "duration": 396,
        "start_time": "2021-08-14T15:39:28.212Z"
      },
      {
        "duration": 366,
        "start_time": "2021-08-14T15:39:49.905Z"
      },
      {
        "duration": 312,
        "start_time": "2021-08-14T15:39:55.689Z"
      },
      {
        "duration": 461,
        "start_time": "2021-08-14T15:40:06.580Z"
      },
      {
        "duration": 370,
        "start_time": "2021-08-14T15:40:09.560Z"
      },
      {
        "duration": 373,
        "start_time": "2021-08-14T15:43:56.694Z"
      },
      {
        "duration": 450,
        "start_time": "2021-08-14T15:44:11.863Z"
      },
      {
        "duration": 384,
        "start_time": "2021-08-14T15:44:50.061Z"
      },
      {
        "duration": 10,
        "start_time": "2021-08-14T15:46:29.561Z"
      },
      {
        "duration": 10,
        "start_time": "2021-08-14T15:46:51.000Z"
      },
      {
        "duration": 371,
        "start_time": "2021-08-14T15:49:35.854Z"
      },
      {
        "duration": 410,
        "start_time": "2021-08-14T15:49:47.022Z"
      },
      {
        "duration": 351,
        "start_time": "2021-08-14T15:51:55.462Z"
      },
      {
        "duration": 11,
        "start_time": "2021-08-14T15:54:27.864Z"
      },
      {
        "duration": 10,
        "start_time": "2021-08-14T15:55:05.695Z"
      },
      {
        "duration": 355,
        "start_time": "2021-08-14T15:57:40.128Z"
      },
      {
        "duration": 669,
        "start_time": "2021-08-14T15:57:58.241Z"
      },
      {
        "duration": 258,
        "start_time": "2021-08-14T16:02:08.325Z"
      },
      {
        "duration": 276,
        "start_time": "2021-08-14T16:03:21.412Z"
      },
      {
        "duration": 5,
        "start_time": "2021-08-14T16:03:32.211Z"
      },
      {
        "duration": 245,
        "start_time": "2021-08-14T16:03:44.182Z"
      },
      {
        "duration": 1190,
        "start_time": "2021-08-14T16:04:15.212Z"
      },
      {
        "duration": 38,
        "start_time": "2021-08-14T16:04:16.404Z"
      },
      {
        "duration": 7,
        "start_time": "2021-08-14T16:04:16.444Z"
      },
      {
        "duration": 21,
        "start_time": "2021-08-14T16:04:16.452Z"
      },
      {
        "duration": 22,
        "start_time": "2021-08-14T16:04:16.474Z"
      },
      {
        "duration": 29,
        "start_time": "2021-08-14T16:04:16.497Z"
      },
      {
        "duration": 336,
        "start_time": "2021-08-14T16:04:16.724Z"
      },
      {
        "duration": 9,
        "start_time": "2021-08-14T16:04:17.254Z"
      },
      {
        "duration": 319,
        "start_time": "2021-08-14T16:04:17.628Z"
      },
      {
        "duration": 444,
        "start_time": "2021-08-14T16:04:18.654Z"
      },
      {
        "duration": 341,
        "start_time": "2021-08-14T16:04:19.715Z"
      },
      {
        "duration": 9,
        "start_time": "2021-08-14T16:04:25.180Z"
      },
      {
        "duration": 1209,
        "start_time": "2021-08-14T16:05:03.304Z"
      },
      {
        "duration": 38,
        "start_time": "2021-08-14T16:05:04.515Z"
      },
      {
        "duration": 8,
        "start_time": "2021-08-14T16:05:04.555Z"
      },
      {
        "duration": 18,
        "start_time": "2021-08-14T16:05:04.564Z"
      },
      {
        "duration": 6,
        "start_time": "2021-08-14T16:05:04.583Z"
      },
      {
        "duration": 13,
        "start_time": "2021-08-14T16:05:04.714Z"
      },
      {
        "duration": 349,
        "start_time": "2021-08-14T16:05:06.981Z"
      },
      {
        "duration": 7,
        "start_time": "2021-08-14T16:05:21.529Z"
      },
      {
        "duration": 261,
        "start_time": "2021-08-14T16:06:30.863Z"
      },
      {
        "duration": 569,
        "start_time": "2021-08-14T16:07:48.620Z"
      },
      {
        "duration": 845,
        "start_time": "2021-08-14T16:08:25.700Z"
      },
      {
        "duration": 678,
        "start_time": "2021-08-14T16:08:31.293Z"
      },
      {
        "duration": 781,
        "start_time": "2021-08-14T16:09:08.551Z"
      },
      {
        "duration": 1120,
        "start_time": "2021-08-14T16:13:54.191Z"
      },
      {
        "duration": 38,
        "start_time": "2021-08-14T16:13:55.313Z"
      },
      {
        "duration": 7,
        "start_time": "2021-08-14T16:13:55.355Z"
      },
      {
        "duration": 12,
        "start_time": "2021-08-14T16:13:55.364Z"
      },
      {
        "duration": 6,
        "start_time": "2021-08-14T16:13:55.377Z"
      },
      {
        "duration": 14,
        "start_time": "2021-08-14T16:13:55.385Z"
      },
      {
        "duration": 389,
        "start_time": "2021-08-14T16:13:55.400Z"
      },
      {
        "duration": 7,
        "start_time": "2021-08-14T16:13:55.792Z"
      },
      {
        "duration": 707,
        "start_time": "2021-08-14T16:13:55.801Z"
      },
      {
        "duration": 8,
        "start_time": "2021-08-14T16:13:56.510Z"
      },
      {
        "duration": 391,
        "start_time": "2021-08-14T16:13:56.520Z"
      },
      {
        "duration": 388,
        "start_time": "2021-08-14T16:13:56.913Z"
      },
      {
        "duration": 38,
        "start_time": "2021-08-14T16:13:57.303Z"
      },
      {
        "duration": 11,
        "start_time": "2021-08-14T16:13:57.342Z"
      },
      {
        "duration": 887,
        "start_time": "2021-08-14T16:13:57.355Z"
      },
      {
        "duration": 35917,
        "start_time": "2021-08-14T16:13:58.244Z"
      },
      {
        "duration": 3,
        "start_time": "2021-08-14T16:14:34.163Z"
      },
      {
        "duration": 8,
        "start_time": "2021-08-14T16:14:34.168Z"
      },
      {
        "duration": 2,
        "start_time": "2021-08-14T16:14:34.178Z"
      },
      {
        "duration": 1651,
        "start_time": "2021-08-15T10:55:45.097Z"
      },
      {
        "duration": 57,
        "start_time": "2021-08-15T10:55:46.751Z"
      },
      {
        "duration": 12,
        "start_time": "2021-08-15T10:55:46.812Z"
      },
      {
        "duration": 40,
        "start_time": "2021-08-15T10:55:46.827Z"
      },
      {
        "duration": 8,
        "start_time": "2021-08-15T10:55:46.869Z"
      },
      {
        "duration": 19,
        "start_time": "2021-08-15T10:55:46.880Z"
      },
      {
        "duration": 624,
        "start_time": "2021-08-15T10:55:48.193Z"
      },
      {
        "duration": 9,
        "start_time": "2021-08-15T10:55:50.400Z"
      },
      {
        "duration": 1592,
        "start_time": "2021-08-15T10:55:54.687Z"
      },
      {
        "duration": 1507,
        "start_time": "2021-08-15T10:56:52.091Z"
      },
      {
        "duration": 1717,
        "start_time": "2021-08-15T10:56:56.947Z"
      },
      {
        "duration": 1857,
        "start_time": "2021-08-15T10:59:34.111Z"
      },
      {
        "duration": 13,
        "start_time": "2021-08-15T10:59:47.174Z"
      },
      {
        "duration": 558,
        "start_time": "2021-08-15T10:59:47.816Z"
      },
      {
        "duration": 640,
        "start_time": "2021-08-15T10:59:51.135Z"
      },
      {
        "duration": 40,
        "start_time": "2021-08-15T11:02:17.879Z"
      },
      {
        "duration": 45,
        "start_time": "2021-08-15T11:02:25.182Z"
      },
      {
        "duration": 16,
        "start_time": "2021-08-15T11:03:41.284Z"
      },
      {
        "duration": 753,
        "start_time": "2021-08-15T11:04:14.204Z"
      },
      {
        "duration": 64694,
        "start_time": "2021-08-15T11:04:17.618Z"
      },
      {
        "duration": 6,
        "start_time": "2021-08-15T11:05:22.314Z"
      },
      {
        "duration": 14,
        "start_time": "2021-08-15T11:05:22.323Z"
      },
      {
        "duration": 12,
        "start_time": "2021-08-15T11:05:41.594Z"
      },
      {
        "duration": 7,
        "start_time": "2021-08-15T11:05:50.826Z"
      },
      {
        "duration": 559,
        "start_time": "2021-08-15T11:06:06.372Z"
      },
      {
        "duration": 251,
        "start_time": "2021-08-15T11:06:42.811Z"
      },
      {
        "duration": 38,
        "start_time": "2021-08-15T11:06:52.441Z"
      },
      {
        "duration": 5,
        "start_time": "2021-08-15T11:07:02.859Z"
      },
      {
        "duration": 7,
        "start_time": "2021-08-15T11:07:09.169Z"
      },
      {
        "duration": 6,
        "start_time": "2021-08-15T11:07:35.175Z"
      },
      {
        "duration": 61,
        "start_time": "2021-08-15T11:07:43.086Z"
      },
      {
        "duration": 10,
        "start_time": "2021-08-15T11:08:20.111Z"
      },
      {
        "duration": 11,
        "start_time": "2021-08-15T11:08:34.357Z"
      },
      {
        "duration": 9,
        "start_time": "2021-08-15T11:08:37.858Z"
      },
      {
        "duration": 774,
        "start_time": "2021-08-15T11:09:23.451Z"
      },
      {
        "duration": 296,
        "start_time": "2021-08-15T11:09:27.233Z"
      },
      {
        "duration": 447,
        "start_time": "2021-08-15T11:09:30.287Z"
      },
      {
        "duration": 268,
        "start_time": "2021-08-15T11:09:33.277Z"
      },
      {
        "duration": 11,
        "start_time": "2021-08-15T11:09:38.331Z"
      },
      {
        "duration": 5,
        "start_time": "2021-08-15T11:09:49.514Z"
      },
      {
        "duration": 9,
        "start_time": "2021-08-15T11:09:51.302Z"
      },
      {
        "duration": 9,
        "start_time": "2021-08-15T11:10:56.800Z"
      },
      {
        "duration": 258,
        "start_time": "2021-08-15T11:11:02.166Z"
      },
      {
        "duration": 9,
        "start_time": "2021-08-15T11:11:05.141Z"
      },
      {
        "duration": 16,
        "start_time": "2021-08-15T11:11:19.257Z"
      },
      {
        "duration": 1599,
        "start_time": "2021-08-15T11:11:44.245Z"
      },
      {
        "duration": 52,
        "start_time": "2021-08-15T11:11:45.847Z"
      },
      {
        "duration": 11,
        "start_time": "2021-08-15T11:11:45.902Z"
      },
      {
        "duration": 39,
        "start_time": "2021-08-15T11:11:45.916Z"
      },
      {
        "duration": 8,
        "start_time": "2021-08-15T11:11:45.958Z"
      },
      {
        "duration": 19,
        "start_time": "2021-08-15T11:11:45.969Z"
      },
      {
        "duration": 637,
        "start_time": "2021-08-15T11:11:45.990Z"
      },
      {
        "duration": 23,
        "start_time": "2021-08-15T11:11:46.631Z"
      },
      {
        "duration": 1874,
        "start_time": "2021-08-15T11:11:46.657Z"
      },
      {
        "duration": 28,
        "start_time": "2021-08-15T11:11:48.533Z"
      },
      {
        "duration": 568,
        "start_time": "2021-08-15T11:11:48.563Z"
      },
      {
        "duration": 661,
        "start_time": "2021-08-15T11:11:49.134Z"
      },
      {
        "duration": 57,
        "start_time": "2021-08-15T11:11:49.797Z"
      },
      {
        "duration": 16,
        "start_time": "2021-08-15T11:11:49.857Z"
      },
      {
        "duration": 985,
        "start_time": "2021-08-15T11:11:49.876Z"
      },
      {
        "duration": 47334,
        "start_time": "2021-08-15T11:11:50.868Z"
      },
      {
        "duration": 6,
        "start_time": "2021-08-15T11:12:38.205Z"
      },
      {
        "duration": 18,
        "start_time": "2021-08-15T11:12:38.213Z"
      },
      {
        "duration": 395,
        "start_time": "2021-08-15T11:12:41.904Z"
      },
      {
        "duration": 4,
        "start_time": "2021-08-15T11:13:04.330Z"
      },
      {
        "duration": 7,
        "start_time": "2021-08-15T11:13:11.288Z"
      },
      {
        "duration": 12,
        "start_time": "2021-08-15T11:13:24.463Z"
      },
      {
        "duration": 255,
        "start_time": "2021-08-15T11:25:22.627Z"
      },
      {
        "duration": 259,
        "start_time": "2021-08-15T11:25:33.216Z"
      },
      {
        "duration": 14,
        "start_time": "2021-08-15T11:25:45.663Z"
      },
      {
        "duration": 4,
        "start_time": "2021-08-15T11:26:11.302Z"
      },
      {
        "duration": 14,
        "start_time": "2021-08-15T11:26:18.101Z"
      },
      {
        "duration": 248,
        "start_time": "2021-08-15T11:26:53.738Z"
      },
      {
        "duration": 12,
        "start_time": "2021-08-15T11:26:59.651Z"
      },
      {
        "duration": 9,
        "start_time": "2021-08-15T11:27:28.896Z"
      },
      {
        "duration": 8,
        "start_time": "2021-08-15T11:27:32.919Z"
      },
      {
        "duration": 5,
        "start_time": "2021-08-15T11:27:51.234Z"
      },
      {
        "duration": 13,
        "start_time": "2021-08-15T11:27:51.630Z"
      },
      {
        "duration": 1013,
        "start_time": "2021-08-15T11:28:08.088Z"
      },
      {
        "duration": 5,
        "start_time": "2021-08-15T11:28:12.443Z"
      },
      {
        "duration": 15,
        "start_time": "2021-08-15T11:28:15.956Z"
      },
      {
        "duration": 5,
        "start_time": "2021-08-15T11:28:43.329Z"
      },
      {
        "duration": 12,
        "start_time": "2021-08-15T11:28:47.382Z"
      },
      {
        "duration": 15,
        "start_time": "2021-08-15T11:29:08.658Z"
      },
      {
        "duration": 14,
        "start_time": "2021-08-15T11:29:13.628Z"
      },
      {
        "duration": 1533,
        "start_time": "2021-08-15T11:29:39.521Z"
      },
      {
        "duration": 51,
        "start_time": "2021-08-15T11:29:41.057Z"
      },
      {
        "duration": 11,
        "start_time": "2021-08-15T11:29:41.113Z"
      },
      {
        "duration": 38,
        "start_time": "2021-08-15T11:29:41.127Z"
      },
      {
        "duration": 18,
        "start_time": "2021-08-15T11:29:41.167Z"
      },
      {
        "duration": 25,
        "start_time": "2021-08-15T11:29:41.188Z"
      },
      {
        "duration": 614,
        "start_time": "2021-08-15T11:29:42.140Z"
      },
      {
        "duration": 10,
        "start_time": "2021-08-15T11:29:42.757Z"
      },
      {
        "duration": 1872,
        "start_time": "2021-08-15T11:29:43.872Z"
      },
      {
        "duration": 14,
        "start_time": "2021-08-15T11:30:41.971Z"
      },
      {
        "duration": 569,
        "start_time": "2021-08-15T11:30:42.252Z"
      },
      {
        "duration": 677,
        "start_time": "2021-08-15T11:30:42.824Z"
      },
      {
        "duration": 42,
        "start_time": "2021-08-15T11:30:44.985Z"
      },
      {
        "duration": 15,
        "start_time": "2021-08-15T11:30:51.512Z"
      },
      {
        "duration": 366,
        "start_time": "2021-08-15T11:30:53.296Z"
      },
      {
        "duration": 48233,
        "start_time": "2021-08-15T11:30:54.147Z"
      },
      {
        "duration": 4,
        "start_time": "2021-08-15T11:31:42.383Z"
      },
      {
        "duration": 16,
        "start_time": "2021-08-15T11:31:42.390Z"
      },
      {
        "duration": 10,
        "start_time": "2021-08-15T11:32:18.701Z"
      },
      {
        "duration": 4,
        "start_time": "2021-08-15T11:33:28.176Z"
      },
      {
        "duration": 5,
        "start_time": "2021-08-15T11:33:31.707Z"
      },
      {
        "duration": 14,
        "start_time": "2021-08-15T11:33:34.492Z"
      },
      {
        "duration": 7,
        "start_time": "2021-08-15T11:35:43.744Z"
      },
      {
        "duration": 48,
        "start_time": "2021-08-15T11:35:44.259Z"
      },
      {
        "duration": 9,
        "start_time": "2021-08-15T11:35:44.590Z"
      },
      {
        "duration": 17,
        "start_time": "2021-08-15T11:35:44.761Z"
      },
      {
        "duration": 8,
        "start_time": "2021-08-15T11:35:44.917Z"
      },
      {
        "duration": 16,
        "start_time": "2021-08-15T11:35:45.257Z"
      },
      {
        "duration": 615,
        "start_time": "2021-08-15T11:35:45.899Z"
      },
      {
        "duration": 12,
        "start_time": "2021-08-15T11:35:46.517Z"
      },
      {
        "duration": 1973,
        "start_time": "2021-08-15T11:35:46.532Z"
      },
      {
        "duration": 12,
        "start_time": "2021-08-15T11:35:48.507Z"
      },
      {
        "duration": 589,
        "start_time": "2021-08-15T11:35:48.522Z"
      },
      {
        "duration": 653,
        "start_time": "2021-08-15T11:35:49.114Z"
      },
      {
        "duration": 42,
        "start_time": "2021-08-15T11:35:49.769Z"
      },
      {
        "duration": 16,
        "start_time": "2021-08-15T11:35:49.813Z"
      },
      {
        "duration": 506,
        "start_time": "2021-08-15T11:35:49.856Z"
      },
      {
        "duration": 48423,
        "start_time": "2021-08-15T11:35:50.456Z"
      },
      {
        "duration": 5,
        "start_time": "2021-08-15T11:36:38.882Z"
      },
      {
        "duration": 15,
        "start_time": "2021-08-15T11:36:38.890Z"
      },
      {
        "duration": 403,
        "start_time": "2021-08-15T11:36:42.062Z"
      },
      {
        "duration": 275,
        "start_time": "2021-08-15T11:37:13.502Z"
      },
      {
        "duration": 8,
        "start_time": "2021-08-15T11:37:21.461Z"
      },
      {
        "duration": 7,
        "start_time": "2021-08-15T11:37:24.262Z"
      },
      {
        "duration": 5,
        "start_time": "2021-08-15T11:37:36.774Z"
      },
      {
        "duration": 12,
        "start_time": "2021-08-15T11:37:38.313Z"
      },
      {
        "duration": 4,
        "start_time": "2021-08-15T11:37:55.338Z"
      },
      {
        "duration": 7,
        "start_time": "2021-08-15T11:37:57.228Z"
      },
      {
        "duration": 14,
        "start_time": "2021-08-15T11:37:57.751Z"
      },
      {
        "duration": 262,
        "start_time": "2021-08-15T11:39:15.378Z"
      },
      {
        "duration": 12,
        "start_time": "2021-08-15T11:39:35.740Z"
      },
      {
        "duration": 263,
        "start_time": "2021-08-15T11:39:49.795Z"
      },
      {
        "duration": 10,
        "start_time": "2021-08-15T11:39:56.849Z"
      },
      {
        "duration": 4,
        "start_time": "2021-08-15T11:40:04.781Z"
      },
      {
        "duration": 15,
        "start_time": "2021-08-15T11:40:05.510Z"
      },
      {
        "duration": 269,
        "start_time": "2021-08-15T11:40:16.453Z"
      },
      {
        "duration": 407,
        "start_time": "2021-08-15T11:40:30.767Z"
      },
      {
        "duration": 110,
        "start_time": "2021-08-15T11:48:05.984Z"
      },
      {
        "duration": 85,
        "start_time": "2021-08-15T11:48:18.072Z"
      },
      {
        "duration": 611,
        "start_time": "2021-08-15T11:48:20.965Z"
      },
      {
        "duration": 683,
        "start_time": "2021-08-15T11:48:46.302Z"
      },
      {
        "duration": 635,
        "start_time": "2021-08-15T11:48:52.345Z"
      },
      {
        "duration": 657,
        "start_time": "2021-08-15T11:48:55.352Z"
      },
      {
        "duration": 639,
        "start_time": "2021-08-15T11:49:22.966Z"
      },
      {
        "duration": 294,
        "start_time": "2021-08-15T11:52:25.997Z"
      },
      {
        "duration": 263,
        "start_time": "2021-08-15T11:53:53.862Z"
      },
      {
        "duration": 325,
        "start_time": "2021-08-15T11:54:36.033Z"
      },
      {
        "duration": 8,
        "start_time": "2021-08-15T11:57:01.279Z"
      },
      {
        "duration": 88,
        "start_time": "2021-08-15T11:57:46.128Z"
      },
      {
        "duration": 7,
        "start_time": "2021-08-15T11:58:15.708Z"
      },
      {
        "duration": 7,
        "start_time": "2021-08-15T11:58:27.871Z"
      },
      {
        "duration": 6,
        "start_time": "2021-08-15T11:58:38.255Z"
      },
      {
        "duration": 7,
        "start_time": "2021-08-15T11:58:55.755Z"
      },
      {
        "duration": 7,
        "start_time": "2021-08-15T11:58:59.235Z"
      },
      {
        "duration": 117,
        "start_time": "2021-08-15T11:59:05.720Z"
      },
      {
        "duration": 6,
        "start_time": "2021-08-15T11:59:15.493Z"
      },
      {
        "duration": 4,
        "start_time": "2021-08-15T11:59:26.722Z"
      },
      {
        "duration": 705,
        "start_time": "2021-08-15T11:59:51.120Z"
      },
      {
        "duration": 5,
        "start_time": "2021-08-15T11:59:57.350Z"
      },
      {
        "duration": 687,
        "start_time": "2021-08-15T11:59:57.818Z"
      },
      {
        "duration": 5,
        "start_time": "2021-08-15T12:02:26.579Z"
      },
      {
        "duration": 649,
        "start_time": "2021-08-15T12:02:26.975Z"
      },
      {
        "duration": 4,
        "start_time": "2021-08-15T12:02:37.288Z"
      },
      {
        "duration": 646,
        "start_time": "2021-08-15T12:02:38.087Z"
      },
      {
        "duration": 640,
        "start_time": "2021-08-15T12:03:36.686Z"
      },
      {
        "duration": 25593,
        "start_time": "2021-08-15T12:12:31.645Z"
      },
      {
        "duration": 272,
        "start_time": "2021-08-15T12:14:11.724Z"
      },
      {
        "duration": 23926,
        "start_time": "2021-08-15T12:15:14.931Z"
      },
      {
        "duration": 24264,
        "start_time": "2021-08-15T12:16:10.731Z"
      },
      {
        "duration": 24755,
        "start_time": "2021-08-15T12:17:00.289Z"
      },
      {
        "duration": 547,
        "start_time": "2021-08-15T12:17:29.613Z"
      },
      {
        "duration": 53,
        "start_time": "2021-08-15T12:17:50.158Z"
      },
      {
        "duration": 51,
        "start_time": "2021-08-15T12:18:02.238Z"
      },
      {
        "duration": 62,
        "start_time": "2021-08-15T12:18:06.203Z"
      },
      {
        "duration": 49,
        "start_time": "2021-08-15T12:18:12.203Z"
      },
      {
        "duration": 751,
        "start_time": "2021-08-15T12:18:35.264Z"
      },
      {
        "duration": 764,
        "start_time": "2021-08-15T12:19:22.028Z"
      },
      {
        "duration": 273,
        "start_time": "2021-08-15T12:19:31.649Z"
      },
      {
        "duration": 526,
        "start_time": "2021-08-15T12:19:38.781Z"
      },
      {
        "duration": 645,
        "start_time": "2021-08-15T12:20:15.826Z"
      },
      {
        "duration": 420,
        "start_time": "2021-08-15T12:20:22.871Z"
      },
      {
        "duration": 583,
        "start_time": "2021-08-15T12:20:29.516Z"
      },
      {
        "duration": 457,
        "start_time": "2021-08-15T12:20:42.317Z"
      },
      {
        "duration": 475,
        "start_time": "2021-08-15T12:20:56.749Z"
      },
      {
        "duration": 469,
        "start_time": "2021-08-15T12:21:04.311Z"
      },
      {
        "duration": 51,
        "start_time": "2021-08-15T12:21:19.014Z"
      },
      {
        "duration": 526,
        "start_time": "2021-08-15T12:22:25.707Z"
      },
      {
        "duration": 540,
        "start_time": "2021-08-15T12:22:37.159Z"
      },
      {
        "duration": 53,
        "start_time": "2021-08-15T12:22:53.716Z"
      },
      {
        "duration": 723,
        "start_time": "2021-08-15T12:22:59.927Z"
      },
      {
        "duration": 717,
        "start_time": "2021-08-15T12:23:05.361Z"
      },
      {
        "duration": 525,
        "start_time": "2021-08-15T12:23:14.696Z"
      },
      {
        "duration": 505,
        "start_time": "2021-08-15T12:23:37.074Z"
      },
      {
        "duration": 79,
        "start_time": "2021-08-15T12:24:12.795Z"
      },
      {
        "duration": 519,
        "start_time": "2021-08-15T12:24:41.086Z"
      },
      {
        "duration": 24676,
        "start_time": "2021-08-15T12:25:13.556Z"
      },
      {
        "duration": 723,
        "start_time": "2021-08-15T12:26:08.307Z"
      },
      {
        "duration": 741,
        "start_time": "2021-08-15T12:26:29.465Z"
      },
      {
        "duration": 704,
        "start_time": "2021-08-15T12:26:43.770Z"
      },
      {
        "duration": 746,
        "start_time": "2021-08-15T12:26:51.467Z"
      },
      {
        "duration": 795,
        "start_time": "2021-08-15T12:26:59.438Z"
      },
      {
        "duration": 587,
        "start_time": "2021-08-15T12:27:07.993Z"
      },
      {
        "duration": 807,
        "start_time": "2021-08-15T12:27:27.274Z"
      },
      {
        "duration": 615,
        "start_time": "2021-08-15T12:27:32.367Z"
      },
      {
        "duration": 740,
        "start_time": "2021-08-15T12:27:37.710Z"
      },
      {
        "duration": 852,
        "start_time": "2021-08-15T12:27:51.224Z"
      },
      {
        "duration": 870,
        "start_time": "2021-08-15T12:28:20.660Z"
      },
      {
        "duration": 6,
        "start_time": "2021-08-15T12:30:40.454Z"
      },
      {
        "duration": 263,
        "start_time": "2021-08-15T12:30:52.262Z"
      },
      {
        "duration": 462,
        "start_time": "2021-08-15T12:31:41.479Z"
      },
      {
        "duration": 10,
        "start_time": "2021-08-15T12:31:44.574Z"
      },
      {
        "duration": 1839,
        "start_time": "2021-08-15T12:31:46.221Z"
      },
      {
        "duration": 10,
        "start_time": "2021-08-15T12:32:17.285Z"
      },
      {
        "duration": 1907,
        "start_time": "2021-08-15T12:32:17.941Z"
      },
      {
        "duration": 88,
        "start_time": "2021-08-15T12:34:31.760Z"
      },
      {
        "duration": 106,
        "start_time": "2021-08-15T12:34:47.665Z"
      },
      {
        "duration": 10,
        "start_time": "2021-08-15T12:34:53.201Z"
      },
      {
        "duration": 1768,
        "start_time": "2021-08-15T12:35:00.260Z"
      },
      {
        "duration": 14,
        "start_time": "2021-08-15T12:35:43.632Z"
      },
      {
        "duration": 1735,
        "start_time": "2021-08-15T12:35:53.059Z"
      },
      {
        "duration": 6885,
        "start_time": "2021-08-15T12:36:05.043Z"
      },
      {
        "duration": 259,
        "start_time": "2021-08-15T12:36:17.313Z"
      },
      {
        "duration": 470,
        "start_time": "2021-08-15T12:36:43.733Z"
      },
      {
        "duration": 283,
        "start_time": "2021-08-15T12:37:02.202Z"
      },
      {
        "duration": 14,
        "start_time": "2021-08-15T12:37:07.391Z"
      },
      {
        "duration": 13,
        "start_time": "2021-08-15T12:37:11.859Z"
      },
      {
        "duration": 10,
        "start_time": "2021-08-15T12:37:21.151Z"
      },
      {
        "duration": 14,
        "start_time": "2021-08-15T12:37:32.402Z"
      },
      {
        "duration": 14,
        "start_time": "2021-08-15T12:37:49.139Z"
      },
      {
        "duration": 83,
        "start_time": "2021-08-15T12:37:56.734Z"
      },
      {
        "duration": 448,
        "start_time": "2021-08-15T12:38:26.306Z"
      },
      {
        "duration": 30,
        "start_time": "2021-08-15T12:39:14.399Z"
      },
      {
        "duration": 20,
        "start_time": "2021-08-15T12:39:28.627Z"
      },
      {
        "duration": 2120,
        "start_time": "2021-08-15T12:40:35.753Z"
      },
      {
        "duration": 1714,
        "start_time": "2021-08-15T12:40:45.545Z"
      },
      {
        "duration": 1930,
        "start_time": "2021-08-15T12:40:54.312Z"
      },
      {
        "duration": 1887,
        "start_time": "2021-08-15T12:41:00.448Z"
      },
      {
        "duration": 1708,
        "start_time": "2021-08-15T12:41:24.362Z"
      },
      {
        "duration": 1607,
        "start_time": "2021-08-15T12:41:31.603Z"
      },
      {
        "duration": 1818,
        "start_time": "2021-08-15T12:41:39.329Z"
      },
      {
        "duration": 1683,
        "start_time": "2021-08-15T12:41:52.781Z"
      },
      {
        "duration": 2115,
        "start_time": "2021-08-15T12:42:01.859Z"
      },
      {
        "duration": 1777,
        "start_time": "2021-08-15T12:42:31.042Z"
      },
      {
        "duration": 1067,
        "start_time": "2021-08-15T12:43:05.681Z"
      },
      {
        "duration": 1252,
        "start_time": "2021-08-15T12:43:28.761Z"
      },
      {
        "duration": 1108,
        "start_time": "2021-08-15T12:43:33.890Z"
      },
      {
        "duration": 1325,
        "start_time": "2021-08-15T12:43:38.203Z"
      },
      {
        "duration": 1131,
        "start_time": "2021-08-15T12:43:48.702Z"
      },
      {
        "duration": 10,
        "start_time": "2021-08-15T12:45:03.669Z"
      },
      {
        "duration": 88,
        "start_time": "2021-08-15T12:51:50.882Z"
      },
      {
        "duration": 1702,
        "start_time": "2021-08-15T12:54:37.865Z"
      },
      {
        "duration": 55,
        "start_time": "2021-08-15T12:54:39.570Z"
      },
      {
        "duration": 30,
        "start_time": "2021-08-15T12:54:39.633Z"
      },
      {
        "duration": 20,
        "start_time": "2021-08-15T12:54:39.666Z"
      },
      {
        "duration": 24,
        "start_time": "2021-08-15T12:54:39.689Z"
      },
      {
        "duration": 41,
        "start_time": "2021-08-15T12:54:39.715Z"
      },
      {
        "duration": 477,
        "start_time": "2021-08-15T12:54:39.759Z"
      },
      {
        "duration": 19,
        "start_time": "2021-08-15T12:54:40.239Z"
      },
      {
        "duration": 1901,
        "start_time": "2021-08-15T12:54:40.260Z"
      },
      {
        "duration": 14,
        "start_time": "2021-08-15T12:54:42.163Z"
      },
      {
        "duration": 594,
        "start_time": "2021-08-15T12:54:42.180Z"
      },
      {
        "duration": 695,
        "start_time": "2021-08-15T12:54:42.777Z"
      },
      {
        "duration": 42,
        "start_time": "2021-08-15T12:54:43.474Z"
      },
      {
        "duration": 40,
        "start_time": "2021-08-15T12:54:43.519Z"
      },
      {
        "duration": 401,
        "start_time": "2021-08-15T12:54:43.561Z"
      },
      {
        "duration": 51452,
        "start_time": "2021-08-15T12:54:43.964Z"
      },
      {
        "duration": 5,
        "start_time": "2021-08-15T12:55:35.418Z"
      },
      {
        "duration": 46,
        "start_time": "2021-08-15T12:55:35.425Z"
      },
      {
        "duration": 32,
        "start_time": "2021-08-15T12:55:35.473Z"
      },
      {
        "duration": 31,
        "start_time": "2021-08-15T12:55:35.508Z"
      },
      {
        "duration": 874,
        "start_time": "2021-08-15T12:55:35.542Z"
      },
      {
        "duration": 3,
        "start_time": "2021-08-15T12:55:36.420Z"
      },
      {
        "duration": 1287,
        "start_time": "2021-08-15T15:50:50.865Z"
      },
      {
        "duration": 39,
        "start_time": "2021-08-15T15:50:52.154Z"
      },
      {
        "duration": 9,
        "start_time": "2021-08-15T15:50:52.195Z"
      },
      {
        "duration": 11,
        "start_time": "2021-08-15T15:50:52.805Z"
      },
      {
        "duration": 5,
        "start_time": "2021-08-15T15:50:52.817Z"
      },
      {
        "duration": 11,
        "start_time": "2021-08-15T15:50:52.823Z"
      },
      {
        "duration": 258,
        "start_time": "2021-08-15T15:50:52.835Z"
      },
      {
        "duration": 5,
        "start_time": "2021-08-15T15:50:53.095Z"
      },
      {
        "duration": 13,
        "start_time": "2021-08-15T15:51:58.730Z"
      },
      {
        "duration": 321,
        "start_time": "2021-08-15T15:52:32.204Z"
      },
      {
        "duration": 218,
        "start_time": "2021-08-15T15:52:43.012Z"
      },
      {
        "duration": 12,
        "start_time": "2021-08-15T15:52:55.665Z"
      },
      {
        "duration": 217,
        "start_time": "2021-08-15T15:52:57.311Z"
      },
      {
        "duration": 11,
        "start_time": "2021-08-15T15:53:08.934Z"
      },
      {
        "duration": 12,
        "start_time": "2021-08-15T15:53:24.133Z"
      },
      {
        "duration": 480,
        "start_time": "2021-08-15T15:53:48.392Z"
      },
      {
        "duration": 443,
        "start_time": "2021-08-15T15:53:59.072Z"
      },
      {
        "duration": 12,
        "start_time": "2021-08-15T15:54:12.097Z"
      },
      {
        "duration": 452,
        "start_time": "2021-08-15T15:54:13.465Z"
      },
      {
        "duration": 439,
        "start_time": "2021-08-15T15:56:02.088Z"
      },
      {
        "duration": 441,
        "start_time": "2021-08-15T15:56:08.350Z"
      },
      {
        "duration": 422,
        "start_time": "2021-08-15T15:56:12.602Z"
      },
      {
        "duration": 418,
        "start_time": "2021-08-15T15:56:15.118Z"
      },
      {
        "duration": 356,
        "start_time": "2021-08-15T15:56:28.879Z"
      },
      {
        "duration": 393,
        "start_time": "2021-08-15T15:56:35.238Z"
      },
      {
        "duration": 367,
        "start_time": "2021-08-15T15:56:40.537Z"
      },
      {
        "duration": 426,
        "start_time": "2021-08-15T15:56:45.224Z"
      },
      {
        "duration": 485,
        "start_time": "2021-08-15T15:57:55.029Z"
      },
      {
        "duration": 486,
        "start_time": "2021-08-15T15:57:59.472Z"
      },
      {
        "duration": 448,
        "start_time": "2021-08-15T15:58:03.430Z"
      },
      {
        "duration": 1099,
        "start_time": "2021-08-15T16:12:49.342Z"
      },
      {
        "duration": 36,
        "start_time": "2021-08-15T16:12:50.443Z"
      },
      {
        "duration": 10,
        "start_time": "2021-08-15T16:12:57.492Z"
      },
      {
        "duration": 8,
        "start_time": "2021-08-15T16:13:10.064Z"
      },
      {
        "duration": 6,
        "start_time": "2021-08-15T16:13:27.335Z"
      },
      {
        "duration": 11,
        "start_time": "2021-08-15T16:13:27.555Z"
      },
      {
        "duration": 6,
        "start_time": "2021-08-15T16:13:27.740Z"
      },
      {
        "duration": 12,
        "start_time": "2021-08-15T16:13:29.382Z"
      },
      {
        "duration": 9,
        "start_time": "2021-08-15T16:13:41.378Z"
      },
      {
        "duration": 10,
        "start_time": "2021-08-15T16:14:46.715Z"
      },
      {
        "duration": 8,
        "start_time": "2021-08-15T16:14:55.471Z"
      },
      {
        "duration": 1128,
        "start_time": "2021-08-15T17:11:36.223Z"
      },
      {
        "duration": 37,
        "start_time": "2021-08-15T17:11:37.353Z"
      },
      {
        "duration": 8,
        "start_time": "2021-08-15T17:11:37.392Z"
      },
      {
        "duration": 12,
        "start_time": "2021-08-15T17:11:37.401Z"
      },
      {
        "duration": 6,
        "start_time": "2021-08-15T17:11:37.414Z"
      },
      {
        "duration": 12,
        "start_time": "2021-08-15T17:11:37.422Z"
      },
      {
        "duration": 271,
        "start_time": "2021-08-15T17:11:37.435Z"
      },
      {
        "duration": 7,
        "start_time": "2021-08-15T17:11:37.709Z"
      },
      {
        "duration": 1099,
        "start_time": "2021-08-15T17:11:37.719Z"
      },
      {
        "duration": 9,
        "start_time": "2021-08-15T17:11:38.820Z"
      },
      {
        "duration": 315,
        "start_time": "2021-08-15T17:11:38.831Z"
      },
      {
        "duration": 372,
        "start_time": "2021-08-15T17:11:39.147Z"
      },
      {
        "duration": 25,
        "start_time": "2021-08-15T17:11:39.521Z"
      },
      {
        "duration": 9,
        "start_time": "2021-08-15T17:11:39.548Z"
      },
      {
        "duration": 839,
        "start_time": "2021-08-15T17:11:39.558Z"
      },
      {
        "duration": 39372,
        "start_time": "2021-08-15T17:11:40.400Z"
      },
      {
        "duration": 4,
        "start_time": "2021-08-15T17:12:19.774Z"
      },
      {
        "duration": 8,
        "start_time": "2021-08-15T17:12:19.779Z"
      },
      {
        "duration": 3,
        "start_time": "2021-08-15T17:12:19.789Z"
      },
      {
        "duration": 5,
        "start_time": "2021-08-15T17:12:19.793Z"
      },
      {
        "duration": 481,
        "start_time": "2021-08-15T17:12:19.799Z"
      },
      {
        "duration": 9,
        "start_time": "2021-08-15T17:12:20.282Z"
      },
      {
        "duration": 1728,
        "start_time": "2021-08-25T10:19:24.559Z"
      },
      {
        "duration": 52,
        "start_time": "2021-08-25T10:19:26.289Z"
      },
      {
        "duration": 11,
        "start_time": "2021-08-25T10:19:26.608Z"
      },
      {
        "duration": 17,
        "start_time": "2021-08-25T10:19:26.948Z"
      },
      {
        "duration": 8,
        "start_time": "2021-08-25T10:19:27.280Z"
      },
      {
        "duration": 18,
        "start_time": "2021-08-25T10:19:28.410Z"
      },
      {
        "duration": 457,
        "start_time": "2021-08-25T10:19:29.793Z"
      },
      {
        "duration": 10,
        "start_time": "2021-08-25T10:19:30.253Z"
      },
      {
        "duration": 1884,
        "start_time": "2021-08-25T10:19:30.675Z"
      },
      {
        "duration": 27,
        "start_time": "2021-08-25T10:19:32.562Z"
      },
      {
        "duration": 589,
        "start_time": "2021-08-25T10:19:32.591Z"
      },
      {
        "duration": 698,
        "start_time": "2021-08-25T10:19:33.187Z"
      },
      {
        "duration": 17,
        "start_time": "2021-08-25T10:20:00.248Z"
      },
      {
        "duration": 13,
        "start_time": "2021-08-25T10:20:04.961Z"
      },
      {
        "duration": 35,
        "start_time": "2021-08-25T10:20:15.241Z"
      },
      {
        "duration": 61103,
        "start_time": "2021-08-25T10:20:27.143Z"
      },
      {
        "duration": 4,
        "start_time": "2021-08-25T10:21:28.249Z"
      },
      {
        "duration": 62367,
        "start_time": "2021-08-25T10:22:34.727Z"
      },
      {
        "duration": 6,
        "start_time": "2021-08-25T10:23:37.098Z"
      },
      {
        "duration": 18,
        "start_time": "2021-08-25T10:24:00.053Z"
      },
      {
        "duration": 4,
        "start_time": "2021-08-25T10:24:16.360Z"
      },
      {
        "duration": 4,
        "start_time": "2021-08-25T10:24:16.630Z"
      },
      {
        "duration": 988,
        "start_time": "2021-08-25T10:24:16.860Z"
      },
      {
        "duration": 42,
        "start_time": "2021-08-25T10:25:31.213Z"
      },
      {
        "duration": 42,
        "start_time": "2021-08-25T10:25:36.877Z"
      },
      {
        "duration": 15,
        "start_time": "2021-08-25T10:25:54.705Z"
      },
      {
        "duration": 581,
        "start_time": "2021-08-25T10:25:56.508Z"
      },
      {
        "duration": 70439,
        "start_time": "2021-08-25T10:26:06.087Z"
      },
      {
        "duration": 6,
        "start_time": "2021-08-25T10:27:16.528Z"
      },
      {
        "duration": 29,
        "start_time": "2021-08-25T10:27:38.284Z"
      },
      {
        "duration": 5,
        "start_time": "2021-08-25T10:27:51.010Z"
      },
      {
        "duration": 4,
        "start_time": "2021-08-25T10:27:51.289Z"
      },
      {
        "duration": 865,
        "start_time": "2021-08-25T10:27:51.978Z"
      },
      {
        "duration": 48,
        "start_time": "2021-08-25T10:28:22.598Z"
      },
      {
        "duration": 15,
        "start_time": "2021-08-25T10:28:24.243Z"
      },
      {
        "duration": 952,
        "start_time": "2021-08-25T10:28:25.545Z"
      },
      {
        "duration": 79411,
        "start_time": "2021-08-25T10:28:29.299Z"
      },
      {
        "duration": 5,
        "start_time": "2021-08-25T10:29:48.713Z"
      },
      {
        "duration": 23,
        "start_time": "2021-08-25T10:29:48.722Z"
      },
      {
        "duration": 995,
        "start_time": "2021-08-25T10:30:38.408Z"
      },
      {
        "duration": 6054,
        "start_time": "2021-08-25T10:31:07.395Z"
      },
      {
        "duration": 355,
        "start_time": "2021-08-25T10:31:51.549Z"
      },
      {
        "duration": 166807,
        "start_time": "2021-08-25T10:32:34.610Z"
      },
      {
        "duration": 5,
        "start_time": "2021-08-25T10:35:21.420Z"
      },
      {
        "duration": 29,
        "start_time": "2021-08-25T10:35:53.705Z"
      },
      {
        "duration": 86772,
        "start_time": "2021-08-25T10:36:22.321Z"
      },
      {
        "duration": 6,
        "start_time": "2021-08-25T10:37:49.095Z"
      },
      {
        "duration": 35,
        "start_time": "2021-08-25T10:37:49.105Z"
      },
      {
        "duration": 14,
        "start_time": "2021-08-25T10:37:49.143Z"
      },
      {
        "duration": 27,
        "start_time": "2021-08-25T10:37:49.160Z"
      },
      {
        "duration": 885,
        "start_time": "2021-08-25T10:37:49.190Z"
      },
      {
        "duration": 193643,
        "start_time": "2021-08-25T10:38:35.998Z"
      },
      {
        "duration": 6,
        "start_time": "2021-08-25T10:41:49.644Z"
      },
      {
        "duration": 27,
        "start_time": "2021-08-25T10:41:49.653Z"
      },
      {
        "duration": 392,
        "start_time": "2021-08-25T10:56:12.252Z"
      },
      {
        "duration": 339,
        "start_time": "2021-08-25T10:56:20.670Z"
      },
      {
        "duration": 344,
        "start_time": "2021-08-25T10:56:24.195Z"
      },
      {
        "duration": 441,
        "start_time": "2021-08-25T10:56:31.222Z"
      },
      {
        "duration": 6,
        "start_time": "2021-08-25T10:56:56.636Z"
      },
      {
        "duration": 5,
        "start_time": "2021-08-25T10:57:13.497Z"
      },
      {
        "duration": 62678,
        "start_time": "2021-08-25T10:57:43.824Z"
      },
      {
        "duration": 6,
        "start_time": "2021-08-25T10:58:46.505Z"
      },
      {
        "duration": 15,
        "start_time": "2021-08-25T10:58:46.514Z"
      },
      {
        "duration": 78875,
        "start_time": "2021-08-25T10:59:12.790Z"
      },
      {
        "duration": 16,
        "start_time": "2021-08-25T11:00:31.668Z"
      },
      {
        "duration": 6,
        "start_time": "2021-08-25T11:00:57.962Z"
      },
      {
        "duration": 6,
        "start_time": "2021-08-25T11:01:04.036Z"
      },
      {
        "duration": 74287,
        "start_time": "2021-08-25T11:01:09.326Z"
      },
      {
        "duration": 18,
        "start_time": "2021-08-25T11:02:23.616Z"
      },
      {
        "duration": 60117,
        "start_time": "2021-08-25T11:03:13.007Z"
      },
      {
        "duration": 51929,
        "start_time": "2021-08-25T11:15:00.206Z"
      },
      {
        "duration": 12,
        "start_time": "2021-08-25T11:15:52.138Z"
      },
      {
        "duration": 60499,
        "start_time": "2021-08-25T11:15:56.687Z"
      },
      {
        "duration": 11,
        "start_time": "2021-08-25T11:16:57.188Z"
      },
      {
        "duration": 66056,
        "start_time": "2021-08-25T11:17:23.425Z"
      },
      {
        "duration": 12,
        "start_time": "2021-08-25T11:18:29.484Z"
      },
      {
        "duration": 18,
        "start_time": "2021-08-25T11:18:29.499Z"
      },
      {
        "duration": 7,
        "start_time": "2021-08-25T11:18:29.530Z"
      },
      {
        "duration": 7,
        "start_time": "2021-08-25T11:18:29.539Z"
      },
      {
        "duration": 910,
        "start_time": "2021-08-25T11:18:29.549Z"
      },
      {
        "duration": 1599,
        "start_time": "2021-09-01T14:51:48.337Z"
      },
      {
        "duration": 747,
        "start_time": "2021-09-01T14:51:57.394Z"
      },
      {
        "duration": 4057,
        "start_time": "2021-09-01T14:52:18.879Z"
      },
      {
        "duration": 2980,
        "start_time": "2021-09-01T14:52:41.554Z"
      },
      {
        "duration": 2170,
        "start_time": "2021-09-01T14:52:46.718Z"
      },
      {
        "duration": 2218,
        "start_time": "2021-10-31T12:59:13.526Z"
      },
      {
        "duration": 7,
        "start_time": "2021-10-31T13:00:07.397Z"
      },
      {
        "duration": 53,
        "start_time": "2021-10-31T13:00:30.360Z"
      },
      {
        "duration": 15,
        "start_time": "2021-10-31T13:00:31.109Z"
      },
      {
        "duration": 18,
        "start_time": "2021-10-31T13:00:31.468Z"
      },
      {
        "duration": 9,
        "start_time": "2021-10-31T13:00:31.813Z"
      },
      {
        "duration": 19,
        "start_time": "2021-10-31T13:00:32.389Z"
      },
      {
        "duration": 664,
        "start_time": "2021-10-31T13:00:37.358Z"
      },
      {
        "duration": 9,
        "start_time": "2021-10-31T13:00:38.025Z"
      },
      {
        "duration": 1898,
        "start_time": "2021-10-31T13:00:38.487Z"
      },
      {
        "duration": 5,
        "start_time": "2021-10-31T13:02:52.985Z"
      },
      {
        "duration": 476,
        "start_time": "2021-10-31T13:09:18.265Z"
      },
      {
        "duration": 570,
        "start_time": "2021-10-31T13:09:35.745Z"
      },
      {
        "duration": 306,
        "start_time": "2021-10-31T13:09:40.355Z"
      },
      {
        "duration": 281,
        "start_time": "2021-10-31T13:09:48.446Z"
      },
      {
        "duration": 583,
        "start_time": "2021-10-31T13:11:15.515Z"
      },
      {
        "duration": 581,
        "start_time": "2021-10-31T13:11:21.454Z"
      },
      {
        "duration": 510,
        "start_time": "2021-10-31T13:11:25.763Z"
      },
      {
        "duration": 433,
        "start_time": "2021-10-31T13:11:45.631Z"
      },
      {
        "duration": 12,
        "start_time": "2021-10-31T13:12:59.011Z"
      },
      {
        "duration": 550,
        "start_time": "2021-10-31T13:12:59.463Z"
      },
      {
        "duration": 683,
        "start_time": "2021-10-31T13:13:00.269Z"
      },
      {
        "duration": 425,
        "start_time": "2021-10-31T13:13:06.676Z"
      },
      {
        "duration": 523,
        "start_time": "2021-10-31T13:13:14.271Z"
      },
      {
        "duration": 425,
        "start_time": "2021-10-31T13:13:20.869Z"
      },
      {
        "duration": 704,
        "start_time": "2021-10-31T13:15:23.633Z"
      },
      {
        "duration": 608,
        "start_time": "2021-10-31T13:15:45.924Z"
      },
      {
        "duration": 690,
        "start_time": "2021-10-31T13:16:20.313Z"
      },
      {
        "duration": 717,
        "start_time": "2021-10-31T13:17:15.345Z"
      },
      {
        "duration": 575,
        "start_time": "2021-10-31T13:17:23.274Z"
      },
      {
        "duration": 592,
        "start_time": "2021-10-31T13:17:32.086Z"
      },
      {
        "duration": 567,
        "start_time": "2021-10-31T13:17:45.867Z"
      },
      {
        "duration": 645,
        "start_time": "2021-10-31T13:19:16.109Z"
      },
      {
        "duration": 301,
        "start_time": "2021-10-31T13:19:35.301Z"
      },
      {
        "duration": 452,
        "start_time": "2021-10-31T13:19:45.561Z"
      },
      {
        "duration": 12,
        "start_time": "2021-10-31T13:20:28.373Z"
      },
      {
        "duration": 907,
        "start_time": "2021-10-31T13:21:08.754Z"
      },
      {
        "duration": 572,
        "start_time": "2021-10-31T13:21:15.271Z"
      },
      {
        "duration": 457,
        "start_time": "2021-10-31T13:24:12.791Z"
      },
      {
        "duration": 486,
        "start_time": "2021-10-31T13:24:29.999Z"
      },
      {
        "duration": 469,
        "start_time": "2021-10-31T13:26:44.022Z"
      },
      {
        "duration": 465,
        "start_time": "2021-10-31T13:26:56.260Z"
      },
      {
        "duration": 431,
        "start_time": "2021-10-31T13:27:03.080Z"
      },
      {
        "duration": 563,
        "start_time": "2021-10-31T13:27:09.245Z"
      },
      {
        "duration": 440,
        "start_time": "2021-10-31T13:27:18.984Z"
      },
      {
        "duration": 428,
        "start_time": "2021-10-31T13:27:26.120Z"
      },
      {
        "duration": 430,
        "start_time": "2021-10-31T13:27:32.774Z"
      },
      {
        "duration": 472,
        "start_time": "2021-10-31T13:27:51.508Z"
      },
      {
        "duration": 444,
        "start_time": "2021-10-31T13:31:36.102Z"
      },
      {
        "duration": 484,
        "start_time": "2021-10-31T13:31:45.524Z"
      },
      {
        "duration": 443,
        "start_time": "2021-10-31T13:31:50.375Z"
      },
      {
        "duration": 492,
        "start_time": "2021-10-31T13:32:02.426Z"
      },
      {
        "duration": 720,
        "start_time": "2021-10-31T13:32:09.877Z"
      },
      {
        "duration": 457,
        "start_time": "2021-10-31T13:32:14.275Z"
      },
      {
        "duration": 594,
        "start_time": "2021-10-31T13:33:01.756Z"
      },
      {
        "duration": 574,
        "start_time": "2021-10-31T13:34:54.268Z"
      },
      {
        "duration": 490,
        "start_time": "2021-10-31T13:39:34.633Z"
      },
      {
        "duration": 7,
        "start_time": "2021-10-31T13:40:14.253Z"
      },
      {
        "duration": 45,
        "start_time": "2021-10-31T13:40:14.934Z"
      },
      {
        "duration": 10,
        "start_time": "2021-10-31T13:40:16.896Z"
      },
      {
        "duration": 18,
        "start_time": "2021-10-31T13:40:19.360Z"
      },
      {
        "duration": 9,
        "start_time": "2021-10-31T13:40:24.535Z"
      },
      {
        "duration": 585,
        "start_time": "2021-10-31T13:40:50.937Z"
      },
      {
        "duration": 127,
        "start_time": "2021-10-31T13:40:59.606Z"
      },
      {
        "duration": 10,
        "start_time": "2021-10-31T13:41:02.919Z"
      },
      {
        "duration": 468,
        "start_time": "2021-10-31T13:41:07.470Z"
      },
      {
        "duration": 462,
        "start_time": "2021-10-31T13:41:14.384Z"
      },
      {
        "duration": 1599,
        "start_time": "2021-10-31T13:42:37.433Z"
      },
      {
        "duration": 1590,
        "start_time": "2021-10-31T13:42:51.101Z"
      },
      {
        "duration": 2064,
        "start_time": "2021-10-31T13:43:00.414Z"
      },
      {
        "duration": 18,
        "start_time": "2021-10-31T13:43:46.143Z"
      },
      {
        "duration": 597,
        "start_time": "2021-10-31T13:43:59.531Z"
      },
      {
        "duration": 1803,
        "start_time": "2021-10-31T13:44:00.274Z"
      },
      {
        "duration": 472,
        "start_time": "2021-10-31T13:44:06.039Z"
      },
      {
        "duration": 468,
        "start_time": "2021-10-31T13:44:08.526Z"
      },
      {
        "duration": 16,
        "start_time": "2021-10-31T13:44:26.452Z"
      },
      {
        "duration": 433,
        "start_time": "2021-10-31T13:44:28.172Z"
      },
      {
        "duration": 10,
        "start_time": "2021-10-31T13:44:28.755Z"
      },
      {
        "duration": 8,
        "start_time": "2021-10-31T13:44:46.706Z"
      },
      {
        "duration": 46,
        "start_time": "2021-10-31T13:44:47.131Z"
      },
      {
        "duration": 13,
        "start_time": "2021-10-31T13:44:47.753Z"
      },
      {
        "duration": 19,
        "start_time": "2021-10-31T13:44:48.022Z"
      },
      {
        "duration": 8,
        "start_time": "2021-10-31T13:44:48.295Z"
      },
      {
        "duration": 18,
        "start_time": "2021-10-31T13:45:04.656Z"
      },
      {
        "duration": 499,
        "start_time": "2021-10-31T13:45:07.816Z"
      },
      {
        "duration": 9,
        "start_time": "2021-10-31T13:45:10.768Z"
      },
      {
        "duration": 1760,
        "start_time": "2021-10-31T13:45:11.670Z"
      },
      {
        "duration": 470,
        "start_time": "2021-10-31T13:45:17.916Z"
      },
      {
        "duration": 429,
        "start_time": "2021-10-31T13:45:19.672Z"
      },
      {
        "duration": 8,
        "start_time": "2021-10-31T13:45:36.700Z"
      },
      {
        "duration": 47,
        "start_time": "2021-10-31T13:45:37.196Z"
      },
      {
        "duration": 10,
        "start_time": "2021-10-31T13:45:38.473Z"
      },
      {
        "duration": 18,
        "start_time": "2021-10-31T13:45:38.843Z"
      },
      {
        "duration": 9,
        "start_time": "2021-10-31T13:45:39.777Z"
      },
      {
        "duration": 20,
        "start_time": "2021-10-31T13:45:45.312Z"
      },
      {
        "duration": 244,
        "start_time": "2021-10-31T13:45:51.325Z"
      },
      {
        "duration": 7,
        "start_time": "2021-10-31T13:45:54.961Z"
      },
      {
        "duration": 46,
        "start_time": "2021-10-31T13:45:55.278Z"
      },
      {
        "duration": 9,
        "start_time": "2021-10-31T13:45:55.586Z"
      },
      {
        "duration": 17,
        "start_time": "2021-10-31T13:45:56.070Z"
      },
      {
        "duration": 8,
        "start_time": "2021-10-31T13:45:56.560Z"
      },
      {
        "duration": 17,
        "start_time": "2021-10-31T13:46:00.259Z"
      },
      {
        "duration": 8,
        "start_time": "2021-10-31T13:47:41.072Z"
      },
      {
        "duration": 47,
        "start_time": "2021-10-31T13:47:41.411Z"
      },
      {
        "duration": 9,
        "start_time": "2021-10-31T13:47:42.334Z"
      },
      {
        "duration": 684,
        "start_time": "2021-10-31T13:47:47.951Z"
      },
      {
        "duration": 276,
        "start_time": "2021-10-31T13:47:50.453Z"
      },
      {
        "duration": 17,
        "start_time": "2021-10-31T13:48:05.891Z"
      },
      {
        "duration": 466,
        "start_time": "2021-10-31T13:48:07.901Z"
      },
      {
        "duration": 10,
        "start_time": "2021-10-31T13:48:10.152Z"
      },
      {
        "duration": 1865,
        "start_time": "2021-10-31T13:48:11.457Z"
      },
      {
        "duration": 480,
        "start_time": "2021-10-31T13:48:13.324Z"
      },
      {
        "duration": 577,
        "start_time": "2021-10-31T13:48:13.852Z"
      },
      {
        "duration": 12,
        "start_time": "2021-10-31T13:53:11.298Z"
      },
      {
        "duration": 452,
        "start_time": "2021-10-31T13:53:18.551Z"
      },
      {
        "duration": 454,
        "start_time": "2021-10-31T13:53:33.463Z"
      },
      {
        "duration": 602,
        "start_time": "2021-10-31T13:56:03.343Z"
      },
      {
        "duration": 924,
        "start_time": "2021-10-31T13:57:53.998Z"
      },
      {
        "duration": 924,
        "start_time": "2021-10-31T13:58:08.790Z"
      },
      {
        "duration": 8,
        "start_time": "2021-10-31T14:00:02.026Z"
      },
      {
        "duration": 48,
        "start_time": "2021-10-31T14:00:02.967Z"
      },
      {
        "duration": 11,
        "start_time": "2021-10-31T14:00:04.346Z"
      },
      {
        "duration": 12,
        "start_time": "2021-10-31T14:00:08.115Z"
      },
      {
        "duration": 20,
        "start_time": "2021-10-31T14:00:22.797Z"
      },
      {
        "duration": 16,
        "start_time": "2021-10-31T14:00:29.771Z"
      },
      {
        "duration": 418,
        "start_time": "2021-10-31T14:02:30.197Z"
      },
      {
        "duration": 14,
        "start_time": "2021-10-31T14:03:27.117Z"
      },
      {
        "duration": 979,
        "start_time": "2021-10-31T14:03:43.191Z"
      },
      {
        "duration": 13,
        "start_time": "2021-10-31T14:04:23.400Z"
      },
      {
        "duration": 586,
        "start_time": "2021-10-31T14:04:23.591Z"
      },
      {
        "duration": 793,
        "start_time": "2021-10-31T14:04:24.229Z"
      },
      {
        "duration": 947,
        "start_time": "2021-10-31T14:06:06.541Z"
      },
      {
        "duration": 954,
        "start_time": "2021-10-31T14:06:24.726Z"
      },
      {
        "duration": 7,
        "start_time": "2021-10-31T14:08:16.369Z"
      },
      {
        "duration": 48,
        "start_time": "2021-10-31T14:08:17.156Z"
      },
      {
        "duration": 9,
        "start_time": "2021-10-31T14:08:18.369Z"
      },
      {
        "duration": 17,
        "start_time": "2021-10-31T14:08:27.278Z"
      },
      {
        "duration": 8,
        "start_time": "2021-10-31T14:08:56.260Z"
      },
      {
        "duration": 58,
        "start_time": "2021-10-31T14:08:56.787Z"
      },
      {
        "duration": 9,
        "start_time": "2021-10-31T14:09:03.284Z"
      },
      {
        "duration": 8,
        "start_time": "2021-10-31T14:09:06.739Z"
      },
      {
        "duration": 6,
        "start_time": "2021-10-31T14:09:16.293Z"
      },
      {
        "duration": 9,
        "start_time": "2021-10-31T14:09:22.931Z"
      },
      {
        "duration": 19,
        "start_time": "2021-10-31T14:10:09.789Z"
      },
      {
        "duration": 12,
        "start_time": "2021-10-31T14:11:03.276Z"
      },
      {
        "duration": 68,
        "start_time": "2021-10-31T14:11:03.648Z"
      },
      {
        "duration": 17,
        "start_time": "2021-10-31T14:11:16.610Z"
      },
      {
        "duration": 308,
        "start_time": "2021-10-31T14:11:26.163Z"
      },
      {
        "duration": 778,
        "start_time": "2021-10-31T14:11:31.157Z"
      },
      {
        "duration": 2902,
        "start_time": "2021-10-31T14:12:28.023Z"
      },
      {
        "duration": 1102,
        "start_time": "2021-10-31T14:12:39.380Z"
      },
      {
        "duration": 7,
        "start_time": "2021-10-31T14:12:59.787Z"
      },
      {
        "duration": 47,
        "start_time": "2021-10-31T14:13:00.354Z"
      },
      {
        "duration": 10,
        "start_time": "2021-10-31T14:13:03.322Z"
      },
      {
        "duration": 24,
        "start_time": "2021-10-31T14:13:07.575Z"
      },
      {
        "duration": 316,
        "start_time": "2021-10-31T14:13:12.043Z"
      },
      {
        "duration": 10,
        "start_time": "2021-10-31T14:13:14.796Z"
      },
      {
        "duration": 2058,
        "start_time": "2021-10-31T14:13:20.935Z"
      },
      {
        "duration": 721,
        "start_time": "2021-10-31T14:15:48.789Z"
      },
      {
        "duration": 763,
        "start_time": "2021-10-31T14:15:53.829Z"
      },
      {
        "duration": 1080,
        "start_time": "2021-10-31T14:16:36.356Z"
      },
      {
        "duration": 797,
        "start_time": "2021-10-31T14:16:45.975Z"
      },
      {
        "duration": 738,
        "start_time": "2021-10-31T14:17:08.738Z"
      },
      {
        "duration": 6,
        "start_time": "2021-10-31T14:20:25.987Z"
      },
      {
        "duration": 14,
        "start_time": "2021-10-31T14:20:29.141Z"
      },
      {
        "duration": 280,
        "start_time": "2021-10-31T14:22:08.453Z"
      },
      {
        "duration": 303,
        "start_time": "2021-10-31T14:22:19.511Z"
      },
      {
        "duration": 440,
        "start_time": "2021-10-31T14:22:25.785Z"
      },
      {
        "duration": 9,
        "start_time": "2021-10-31T14:22:28.156Z"
      },
      {
        "duration": 5,
        "start_time": "2021-10-31T14:22:28.907Z"
      },
      {
        "duration": 286,
        "start_time": "2021-10-31T14:22:29.258Z"
      },
      {
        "duration": 9,
        "start_time": "2021-10-31T14:22:37.994Z"
      },
      {
        "duration": 288,
        "start_time": "2021-10-31T14:22:39.350Z"
      },
      {
        "duration": 13,
        "start_time": "2021-10-31T14:22:44.605Z"
      },
      {
        "duration": 7321,
        "start_time": "2021-10-31T14:22:53.183Z"
      },
      {
        "duration": 10,
        "start_time": "2021-10-31T14:23:02.829Z"
      },
      {
        "duration": 6,
        "start_time": "2021-10-31T14:23:03.021Z"
      },
      {
        "duration": 461,
        "start_time": "2021-10-31T14:23:03.585Z"
      },
      {
        "duration": 436,
        "start_time": "2021-10-31T14:24:09.123Z"
      },
      {
        "duration": 279,
        "start_time": "2021-10-31T14:24:21.662Z"
      },
      {
        "duration": 277,
        "start_time": "2021-10-31T14:24:29.462Z"
      },
      {
        "duration": 282,
        "start_time": "2021-10-31T14:24:34.883Z"
      },
      {
        "duration": 775,
        "start_time": "2021-10-31T14:26:22.488Z"
      },
      {
        "duration": 768,
        "start_time": "2021-10-31T14:26:29.134Z"
      },
      {
        "duration": 742,
        "start_time": "2021-10-31T14:28:03.862Z"
      },
      {
        "duration": 488,
        "start_time": "2021-10-31T14:30:18.761Z"
      }
    ],
    "kernelspec": {
      "display_name": "Python 3",
      "language": "python",
      "name": "python3"
    },
    "language_info": {
      "codemirror_mode": {
        "name": "ipython",
        "version": 3
      },
      "file_extension": ".py",
      "mimetype": "text/x-python",
      "name": "python",
      "nbconvert_exporter": "python",
      "pygments_lexer": "ipython3",
      "version": "3.7.8"
    },
    "toc": {
      "base_numbering": 1,
      "nav_menu": {},
      "number_sections": true,
      "sideBar": true,
      "skip_h1_title": true,
      "title_cell": "Содержание",
      "title_sidebar": "Contents",
      "toc_cell": true,
      "toc_position": {},
      "toc_section_display": true,
      "toc_window_display": false
    },
    "colab": {
      "name": "12.Прогнозирование заказов. Временные ряды.ipynb",
      "provenance": [],
      "collapsed_sections": []
    }
  },
  "cells": [
    {
      "cell_type": "markdown",
      "metadata": {
        "id": "Ih0H5oqfxVkM"
      },
      "source": [
        "## Подготовка"
      ]
    },
    {
      "cell_type": "markdown",
      "metadata": {
        "id": "ISf5vJzPxVkN"
      },
      "source": [
        "Импортируем библиотеки которые могут или понадобяться."
      ]
    },
    {
      "cell_type": "code",
      "metadata": {
        "id": "VuZlbHI2xVkO"
      },
      "source": [
        "import pandas as pd\n",
        "import numpy as np\n",
        "import matplotlib.pyplot as plt\n",
        "\n",
        "from sklearn.model_selection import train_test_split, TimeSeriesSplit\n",
        "from sklearn.model_selection import GridSearchCV, cross_val_score\n",
        "from statsmodels.tsa.seasonal import seasonal_decompose\n",
        "from sklearn.linear_model import LinearRegression\n",
        "from sklearn.dummy import DummyRegressor\n",
        "from catboost import CatBoostRegressor\n",
        "\n",
        "from sklearn.metrics import mean_squared_error, mean_absolute_error, r2_score\n",
        "\n",
        "import warnings\n",
        "warnings.filterwarnings('ignore')"
      ],
      "execution_count": null,
      "outputs": []
    },
    {
      "cell_type": "code",
      "metadata": {
        "id": "qqwjTMSuxVkP",
        "outputId": "57dc780a-6a0d-44c6-fa4b-14a1fd1d97fb"
      },
      "source": [
        "df = pd.read_csv('/datasets/taxi.csv', parse_dates=[0], index_col=[0])\n",
        "df.index.is_monotonic"
      ],
      "execution_count": null,
      "outputs": [
        {
          "data": {
            "text/plain": [
              "True"
            ]
          },
          "execution_count": 153,
          "metadata": {},
          "output_type": "execute_result"
        }
      ]
    },
    {
      "cell_type": "markdown",
      "metadata": {
        "id": "ZpdquOkTxVkP"
      },
      "source": [
        "Видим, что индексы идут по порядку. Глянем на тублицу. посмотрим распределение и глянем на тип данных."
      ]
    },
    {
      "cell_type": "code",
      "metadata": {
        "id": "uQzP08VmxVkP",
        "outputId": "752991d3-8701-4b9e-a6b3-3fc6a75fcf33"
      },
      "source": [
        "df.head()"
      ],
      "execution_count": null,
      "outputs": [
        {
          "data": {
            "text/html": [
              "<div>\n",
              "<style scoped>\n",
              "    .dataframe tbody tr th:only-of-type {\n",
              "        vertical-align: middle;\n",
              "    }\n",
              "\n",
              "    .dataframe tbody tr th {\n",
              "        vertical-align: top;\n",
              "    }\n",
              "\n",
              "    .dataframe thead th {\n",
              "        text-align: right;\n",
              "    }\n",
              "</style>\n",
              "<table border=\"1\" class=\"dataframe\">\n",
              "  <thead>\n",
              "    <tr style=\"text-align: right;\">\n",
              "      <th></th>\n",
              "      <th>num_orders</th>\n",
              "    </tr>\n",
              "    <tr>\n",
              "      <th>datetime</th>\n",
              "      <th></th>\n",
              "    </tr>\n",
              "  </thead>\n",
              "  <tbody>\n",
              "    <tr>\n",
              "      <td>2018-03-01 00:00:00</td>\n",
              "      <td>9</td>\n",
              "    </tr>\n",
              "    <tr>\n",
              "      <td>2018-03-01 00:10:00</td>\n",
              "      <td>14</td>\n",
              "    </tr>\n",
              "    <tr>\n",
              "      <td>2018-03-01 00:20:00</td>\n",
              "      <td>28</td>\n",
              "    </tr>\n",
              "    <tr>\n",
              "      <td>2018-03-01 00:30:00</td>\n",
              "      <td>20</td>\n",
              "    </tr>\n",
              "    <tr>\n",
              "      <td>2018-03-01 00:40:00</td>\n",
              "      <td>32</td>\n",
              "    </tr>\n",
              "  </tbody>\n",
              "</table>\n",
              "</div>"
            ],
            "text/plain": [
              "                     num_orders\n",
              "datetime                       \n",
              "2018-03-01 00:00:00           9\n",
              "2018-03-01 00:10:00          14\n",
              "2018-03-01 00:20:00          28\n",
              "2018-03-01 00:30:00          20\n",
              "2018-03-01 00:40:00          32"
            ]
          },
          "execution_count": 154,
          "metadata": {},
          "output_type": "execute_result"
        }
      ]
    },
    {
      "cell_type": "code",
      "metadata": {
        "id": "Ks_znwX_xVkP",
        "outputId": "0590528d-8825-4601-a66b-33e3baef0e64"
      },
      "source": [
        "df.describe()"
      ],
      "execution_count": null,
      "outputs": [
        {
          "data": {
            "text/html": [
              "<div>\n",
              "<style scoped>\n",
              "    .dataframe tbody tr th:only-of-type {\n",
              "        vertical-align: middle;\n",
              "    }\n",
              "\n",
              "    .dataframe tbody tr th {\n",
              "        vertical-align: top;\n",
              "    }\n",
              "\n",
              "    .dataframe thead th {\n",
              "        text-align: right;\n",
              "    }\n",
              "</style>\n",
              "<table border=\"1\" class=\"dataframe\">\n",
              "  <thead>\n",
              "    <tr style=\"text-align: right;\">\n",
              "      <th></th>\n",
              "      <th>num_orders</th>\n",
              "    </tr>\n",
              "  </thead>\n",
              "  <tbody>\n",
              "    <tr>\n",
              "      <td>count</td>\n",
              "      <td>26496.000000</td>\n",
              "    </tr>\n",
              "    <tr>\n",
              "      <td>mean</td>\n",
              "      <td>14.070463</td>\n",
              "    </tr>\n",
              "    <tr>\n",
              "      <td>std</td>\n",
              "      <td>9.211330</td>\n",
              "    </tr>\n",
              "    <tr>\n",
              "      <td>min</td>\n",
              "      <td>0.000000</td>\n",
              "    </tr>\n",
              "    <tr>\n",
              "      <td>25%</td>\n",
              "      <td>8.000000</td>\n",
              "    </tr>\n",
              "    <tr>\n",
              "      <td>50%</td>\n",
              "      <td>13.000000</td>\n",
              "    </tr>\n",
              "    <tr>\n",
              "      <td>75%</td>\n",
              "      <td>19.000000</td>\n",
              "    </tr>\n",
              "    <tr>\n",
              "      <td>max</td>\n",
              "      <td>119.000000</td>\n",
              "    </tr>\n",
              "  </tbody>\n",
              "</table>\n",
              "</div>"
            ],
            "text/plain": [
              "         num_orders\n",
              "count  26496.000000\n",
              "mean      14.070463\n",
              "std        9.211330\n",
              "min        0.000000\n",
              "25%        8.000000\n",
              "50%       13.000000\n",
              "75%       19.000000\n",
              "max      119.000000"
            ]
          },
          "execution_count": 100,
          "metadata": {},
          "output_type": "execute_result"
        }
      ]
    },
    {
      "cell_type": "code",
      "metadata": {
        "id": "PA4Lz1u-xVkQ",
        "outputId": "bc1482b2-a311-4b2a-a1ff-5baa03f28e7c"
      },
      "source": [
        "df.info()"
      ],
      "execution_count": null,
      "outputs": [
        {
          "name": "stdout",
          "output_type": "stream",
          "text": [
            "<class 'pandas.core.frame.DataFrame'>\n",
            "DatetimeIndex: 26496 entries, 2018-03-01 00:00:00 to 2018-08-31 23:50:00\n",
            "Data columns (total 1 columns):\n",
            "num_orders    26496 non-null int64\n",
            "dtypes: int64(1)\n",
            "memory usage: 414.0 KB\n"
          ]
        }
      ]
    },
    {
      "cell_type": "markdown",
      "metadata": {
        "id": "BprzJzW4xVkQ"
      },
      "source": [
        "Все в порядке. Сделаем ресемплирование и приступим к анализу данных в датасете."
      ]
    },
    {
      "cell_type": "code",
      "metadata": {
        "id": "aPvRoFYKxVkQ",
        "outputId": "0cc6199e-8cb1-4688-dd90-7046c746def6"
      },
      "source": [
        "df = df.resample('1H').sum()\n",
        "df.head()"
      ],
      "execution_count": null,
      "outputs": [
        {
          "data": {
            "text/html": [
              "<div>\n",
              "<style scoped>\n",
              "    .dataframe tbody tr th:only-of-type {\n",
              "        vertical-align: middle;\n",
              "    }\n",
              "\n",
              "    .dataframe tbody tr th {\n",
              "        vertical-align: top;\n",
              "    }\n",
              "\n",
              "    .dataframe thead th {\n",
              "        text-align: right;\n",
              "    }\n",
              "</style>\n",
              "<table border=\"1\" class=\"dataframe\">\n",
              "  <thead>\n",
              "    <tr style=\"text-align: right;\">\n",
              "      <th></th>\n",
              "      <th>num_orders</th>\n",
              "    </tr>\n",
              "    <tr>\n",
              "      <th>datetime</th>\n",
              "      <th></th>\n",
              "    </tr>\n",
              "  </thead>\n",
              "  <tbody>\n",
              "    <tr>\n",
              "      <td>2018-03-01 00:00:00</td>\n",
              "      <td>124</td>\n",
              "    </tr>\n",
              "    <tr>\n",
              "      <td>2018-03-01 01:00:00</td>\n",
              "      <td>85</td>\n",
              "    </tr>\n",
              "    <tr>\n",
              "      <td>2018-03-01 02:00:00</td>\n",
              "      <td>71</td>\n",
              "    </tr>\n",
              "    <tr>\n",
              "      <td>2018-03-01 03:00:00</td>\n",
              "      <td>66</td>\n",
              "    </tr>\n",
              "    <tr>\n",
              "      <td>2018-03-01 04:00:00</td>\n",
              "      <td>43</td>\n",
              "    </tr>\n",
              "  </tbody>\n",
              "</table>\n",
              "</div>"
            ],
            "text/plain": [
              "                     num_orders\n",
              "datetime                       \n",
              "2018-03-01 00:00:00         124\n",
              "2018-03-01 01:00:00          85\n",
              "2018-03-01 02:00:00          71\n",
              "2018-03-01 03:00:00          66\n",
              "2018-03-01 04:00:00          43"
            ]
          },
          "execution_count": 155,
          "metadata": {},
          "output_type": "execute_result"
        }
      ]
    },
    {
      "cell_type": "markdown",
      "metadata": {
        "id": "Ei3EuMVVxVkQ"
      },
      "source": [
        "## Анализ"
      ]
    },
    {
      "cell_type": "code",
      "metadata": {
        "id": "UpytJddWxVkR"
      },
      "source": [
        "df_c = df.copy()\n",
        "decomposed = seasonal_decompose(df_c)"
      ],
      "execution_count": null,
      "outputs": []
    },
    {
      "cell_type": "markdown",
      "metadata": {
        "id": "9nqaRQ4ZxVkR"
      },
      "source": [
        "Посмотрим на распределение трендах, сезонность и шумы."
      ]
    },
    {
      "cell_type": "code",
      "metadata": {
        "id": "WTZ329vHxVkR",
        "outputId": "3cb7f12c-8ce4-4b9d-8730-37e2089053c9"
      },
      "source": [
        "plt.figure(figsize=(10,12))\n",
        "plt.subplot(311)\n",
        "decomposed.trend.plot(ax=plt.gca())\n",
        "plt.title('Trend')\n",
        "plt.subplot(312)\n",
        "decomposed.seasonal.plot(ax=plt.gca())\n",
        "plt.title('Seasonal')\n",
        "plt.subplot(313)\n",
        "decomposed.resid.plot(ax=plt.gca())\n",
        "plt.title('Residuals')\n",
        "plt.tight_layout()"
      ],
      "execution_count": null,
      "outputs": [
        {
          "data": {
            "image/png": "[encoded data removed]",
            "text/plain": [
              "<Figure size 720x864 with 3 Axes>"
            ]
          },
          "metadata": {
            "needs_background": "light"
          },
          "output_type": "display_data"
        }
      ]
    },
    {
      "cell_type": "markdown",
      "metadata": {
        "id": "nU5QTdbnxVkR"
      },
      "source": [
        "Глянем на сезонность за более короткий срок тем самым сможем ее видеть."
      ]
    },
    {
      "cell_type": "code",
      "metadata": {
        "id": "6Od_CHfmxVkS",
        "outputId": "42120077-76bf-4385-a6a2-41a19587b928"
      },
      "source": [
        "plt.figure(figsize=(8,6))\n",
        "decomposed.seasonal['2018-03-01':'2018-03-07'].plot(ax=plt.gca())\n",
        "plt.title('Seasonal')\n",
        "plt.tight_layout()"
      ],
      "execution_count": null,
      "outputs": [
        {
          "data": {
            "image/png": "[encoded data removed]",
            "text/plain": [
              "<Figure size 576x432 with 1 Axes>"
            ]
          },
          "metadata": {
            "needs_background": "light"
          },
          "output_type": "display_data"
        }
      ]
    },
    {
      "cell_type": "markdown",
      "metadata": {
        "id": "3slb5GTvxVkS"
      },
      "source": [
        "Видим, что в трендах растут количество заказов ближе к концу года значит изменяется среднее и график у нас получается не стационраным. Глянем на распределение по часам в месяц."
      ]
    },
    {
      "cell_type": "code",
      "metadata": {
        "id": "30tkOKo1xVkT"
      },
      "source": [
        "df_c['num_orders'] = df_c - df_c.shift()\n",
        "df_c['rolling_mean'] = df_c['num_orders'].rolling(20).mean()\n",
        "df_c['std'] = df_c['num_orders'].rolling(20).std()"
      ],
      "execution_count": null,
      "outputs": []
    },
    {
      "cell_type": "code",
      "metadata": {
        "id": "l2NNK5jmxVkT",
        "outputId": "e75fdfad-d922-4da9-b361-b9bfd32627e8"
      },
      "source": [
        "df_c['2018-03':'2018-03'].plot(figsize=(10,6), title='График временного ряда по часам')\n",
        "plt.xlabel('Число месяца')\n",
        "plt.ylabel('Диапазон количество заказов')\n",
        "plt.show()"
      ],
      "execution_count": null,
      "outputs": [
        {
          "data": {
            "image/png": "[encoded data removed]",
            "text/plain": [
              "<Figure size 720x432 with 1 Axes>"
            ]
          },
          "metadata": {
            "needs_background": "light"
          },
          "output_type": "display_data"
        }
      ]
    },
    {
      "cell_type": "markdown",
      "metadata": {
        "id": "ow-hDlR7xVkT"
      },
      "source": [
        "Видим, что в течении месяца наш график стационарный, что означает, что он не изменяется и его можно предсказывать. Но если вызвать всю таблицу, то мы увидим, что графиг к концу года изменяется std(оно растет) и он уже нестационарный, хоть и изменения не сильные."
      ]
    },
    {
      "cell_type": "code",
      "metadata": {
        "id": "k0ePdHBZxVkT",
        "outputId": "aa9e9076-ddef-4a9e-ba48-76fcf24b47fa"
      },
      "source": [
        "df_c.plot(figsize=(12,6), title='График временного ряда по часам')\n",
        "plt.xlabel('Месяц')\n",
        "plt.ylabel('Диапазон количество заказов')\n",
        "plt.show()"
      ],
      "execution_count": null,
      "outputs": [
        {
          "data": {
            "image/png": "[encoded data removed]",
            "text/plain": [
              "<Figure size 864x432 with 1 Axes>"
            ]
          },
          "metadata": {
            "needs_background": "light"
          },
          "output_type": "display_data"
        }
      ]
    },
    {
      "cell_type": "markdown",
      "metadata": {
        "id": "Y-8ho43gxVkT"
      },
      "source": [
        "## Обучение"
      ]
    },
    {
      "cell_type": "markdown",
      "metadata": {
        "id": "sDE7CIALxVkU"
      },
      "source": [
        "Напишем функцию создания признаков для временных рядов."
      ]
    },
    {
      "cell_type": "code",
      "metadata": {
        "id": "hhfozgBOxVkU"
      },
      "source": [
        "def make_features(data, max_lag, rolling_mean_size):\n",
        "    new_data = data.copy()\n",
        "    new_data['year'] = new_data.index.year\n",
        "    new_data['month'] = new_data.index.month\n",
        "    new_data['day'] = new_data.index.day\n",
        "    new_data['dayofweek'] = new_data.index.dayofweek\n",
        "    \n",
        "    for lag in range(1, max_lag + 1):\n",
        "        new_data['lag_{}'.format(lag)] = new_data['num_orders'].shift(lag)\n",
        "\n",
        "    new_data['rolling_mean'] = new_data['num_orders'].shift().rolling(rolling_mean_size).mean()\n",
        "    \n",
        "    return new_data\n",
        "    \n",
        "new_data = make_features(df, 24, 20)"
      ],
      "execution_count": null,
      "outputs": []
    },
    {
      "cell_type": "markdown",
      "metadata": {
        "id": "jchWw2HFxVkU"
      },
      "source": [
        "Разделим на обучающую выборку и тестовую. Создадим признаки и целевой."
      ]
    },
    {
      "cell_type": "code",
      "metadata": {
        "id": "1rPlWeKKxVkU"
      },
      "source": [
        "train, test = train_test_split(new_data, shuffle=False, test_size=0.1)\n",
        "train = train.dropna()\n",
        "\n",
        "features_train = train.drop(['num_orders'], axis=1)\n",
        "features_test = test.drop(['num_orders'], axis=1)\n",
        "target_train = train['num_orders']\n",
        "target_test = test['num_orders']"
      ],
      "execution_count": null,
      "outputs": []
    },
    {
      "cell_type": "markdown",
      "metadata": {
        "id": "r1ff5eAGxVkV"
      },
      "source": [
        "Выберем модель для обучения с помощью кросс-валидации."
      ]
    },
    {
      "cell_type": "markdown",
      "metadata": {
        "id": "4qIwlGEDxVkV"
      },
      "source": [
        "Линейная регрессия"
      ]
    },
    {
      "cell_type": "code",
      "metadata": {
        "id": "9E9QPwEqxVkV",
        "outputId": "98383e92-321d-4321-a5ed-fe1ed73bfbf9"
      },
      "source": [
        "model = LinearRegression()\n",
        "tss = TimeSeriesSplit(n_splits=5)\n",
        "scores = -cross_val_score(model, features_train, target_train, scoring='neg_mean_squared_error',\n",
        "                         cv=tss)\n",
        "print('RMSE в линейной регресии:', (scores.mean() ** 0.5).round(2))"
      ],
      "execution_count": null,
      "outputs": [
        {
          "name": "stdout",
          "output_type": "stream",
          "text": [
            "RMSE в линейной регресии: 27.22\n"
          ]
        }
      ]
    },
    {
      "cell_type": "markdown",
      "metadata": {
        "id": "w-fb8BYhxVkV"
      },
      "source": [
        "CatBoost "
      ]
    },
    {
      "cell_type": "code",
      "metadata": {
        "id": "DoS2gjlnxVkX",
        "outputId": "bdf7a1c9-16ec-476b-ec8d-4eeca30b1916"
      },
      "source": [
        "model_cat = CatBoostRegressor(loss_function='RMSE', random_seed=12345)\n",
        "\n",
        "grid = {'iterations' : [250],\n",
        "        'learning_rate' : [0.4],\n",
        "        'depth': [5]\n",
        "       }\n",
        "\n",
        "result = model_cat.grid_search(grid, X=features_train, y=target_train, cv=tss)"
      ],
      "execution_count": null,
      "outputs": [
        {
          "name": "stdout",
          "output_type": "stream",
          "text": [
            "0:\tloss: 34.6781944\tbest: 34.6781944 (0)\ttotal: 6.24s\tremaining: 0us\n",
            "Estimating final quality...\n"
          ]
        }
      ]
    },
    {
      "cell_type": "code",
      "metadata": {
        "id": "RZfCcQjkxVkY",
        "outputId": "6996e19f-e5b2-41ea-ccce-b2b8c7eabd26"
      },
      "source": [
        "model_cat.get_best_score(), model_cat.get_params()"
      ],
      "execution_count": null,
      "outputs": [
        {
          "data": {
            "text/plain": [
              "({'learn': {'RMSE': 9.596730152671203}},\n",
              " {'loss_function': 'RMSE',\n",
              "  'random_seed': 12345,\n",
              "  'depth': 5,\n",
              "  'iterations': 250,\n",
              "  'learning_rate': 0.4})"
            ]
          },
          "execution_count": 77,
          "metadata": {},
          "output_type": "execute_result"
        }
      ]
    },
    {
      "cell_type": "markdown",
      "metadata": {
        "id": "COQ0Ea8OxVkY"
      },
      "source": [
        "Видим, метрика на CatBoost лучше."
      ]
    },
    {
      "cell_type": "markdown",
      "metadata": {
        "id": "NdJz8ANKxVkY"
      },
      "source": [
        "## Тестирование"
      ]
    },
    {
      "cell_type": "markdown",
      "metadata": {
        "id": "is3-RjSixVkZ"
      },
      "source": [
        "Проверим нашу модель на тестовой выборке."
      ]
    },
    {
      "cell_type": "code",
      "metadata": {
        "id": "T0pxO0hYxVkZ",
        "outputId": "3f75e0ab-b80a-4483-a9be-d8efa6f4136b"
      },
      "source": [
        "predict = model_cat.predict(features_test)\n",
        "mse = mean_squared_error(target_test, predict)\n",
        "r2 = r2_score(target_test, predict)\n",
        "\n",
        "print(\"RMSE тестовой выборки: \", mse ** 0.5)\n",
        "print('R2 тестовой выборки:', r2)"
      ],
      "execution_count": null,
      "outputs": [
        {
          "name": "stdout",
          "output_type": "stream",
          "text": [
            "RMSE тестовой выборки:  41.94096075215745\n",
            "R2 тестовой выборки: 0.4868684172328239\n"
          ]
        }
      ]
    },
    {
      "cell_type": "markdown",
      "metadata": {
        "id": "7B1L7k2AxVkZ"
      },
      "source": [
        "Видим, что RMSE на тестовой выборке 42. Это удовлетворяет ТЗ. R2 показывает адекватность модели. Она почи 50%"
      ]
    },
    {
      "cell_type": "markdown",
      "metadata": {
        "id": "7nKHRxgDxVkZ"
      },
      "source": [
        "Построим график предсказания и настоящих значений."
      ]
    },
    {
      "cell_type": "code",
      "metadata": {
        "id": "8wIe211FxVkZ"
      },
      "source": [
        "data_predict = pd.DataFrame({'target': target_test})"
      ],
      "execution_count": null,
      "outputs": []
    },
    {
      "cell_type": "code",
      "metadata": {
        "id": "LLMIVHtOxVkZ"
      },
      "source": [
        "data_predict['predict'] = predict.round()"
      ],
      "execution_count": null,
      "outputs": []
    },
    {
      "cell_type": "code",
      "metadata": {
        "id": "JTd0lhPgxVkZ",
        "outputId": "0b4227b7-655d-4a9a-dbfc-c944d9e49160"
      },
      "source": [
        "plt.figure(figsize=(26, 12))\n",
        "plt.title('График предсказания и исходных значений')\n",
        "plt.plot(data_predict['predict'], color='r', label=\"predict\")\n",
        "plt.plot(data_predict['target'], label=\"traget\")\n",
        "plt.legend()\n",
        "plt.grid(True)"
      ],
      "execution_count": null,
      "outputs": [
        {
          "data": {
            "image/png": "[encoded data removed]",
            "text/plain": [
              "<Figure size 1872x864 with 1 Axes>"
            ]
          },
          "metadata": {
            "needs_background": "light"
          },
          "output_type": "display_data"
        }
      ]
    },
    {
      "cell_type": "markdown",
      "metadata": {
        "id": "FcW5qD_axVka"
      },
      "source": [
        "# Вывод: \n",
        "\n",
        "Нужно было предсказать заказы на следующий час. Моя модель показывает, что в среднем она ошибается на 42 заказа в час. Моя ошибка удовлетворяет ТЗ и может делать предсказания для улучшение сервиса в такси.\n"
      ]
    }
  ]
}
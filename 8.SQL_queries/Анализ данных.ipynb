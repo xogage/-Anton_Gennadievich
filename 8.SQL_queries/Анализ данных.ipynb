{
  "nbformat": 4,
  "nbformat_minor": 0,
  "metadata": {
    "ExecuteTimeLog": [
      {
        "duration": 542,
        "start_time": "2021-09-12T16:01:00.405Z"
      },
      {
        "duration": 2461,
        "start_time": "2021-09-12T16:01:01.566Z"
      },
      {
        "duration": 15,
        "start_time": "2021-09-12T16:15:49.128Z"
      },
      {
        "duration": 12,
        "start_time": "2021-09-12T16:15:53.198Z"
      },
      {
        "duration": 466,
        "start_time": "2021-09-12T16:16:29.789Z"
      },
      {
        "duration": 12,
        "start_time": "2021-09-12T16:16:33.409Z"
      },
      {
        "duration": 2,
        "start_time": "2021-09-12T16:22:06.750Z"
      },
      {
        "duration": 8,
        "start_time": "2021-09-12T16:22:27.534Z"
      },
      {
        "duration": 9,
        "start_time": "2021-09-12T16:22:39.181Z"
      },
      {
        "duration": 13,
        "start_time": "2021-09-12T16:22:57.840Z"
      },
      {
        "duration": 12,
        "start_time": "2021-09-12T16:23:50.110Z"
      },
      {
        "duration": 18,
        "start_time": "2021-09-12T16:23:59.435Z"
      },
      {
        "duration": 5,
        "start_time": "2021-09-12T16:24:48.817Z"
      },
      {
        "duration": 8,
        "start_time": "2021-09-12T16:24:55.187Z"
      },
      {
        "duration": 193,
        "start_time": "2021-09-12T16:25:20.432Z"
      },
      {
        "duration": 13,
        "start_time": "2021-09-12T16:25:24.189Z"
      },
      {
        "duration": 12,
        "start_time": "2021-09-12T16:25:28.767Z"
      },
      {
        "duration": 491,
        "start_time": "2021-09-12T16:26:00.190Z"
      },
      {
        "duration": 16,
        "start_time": "2021-09-12T16:26:12.305Z"
      },
      {
        "duration": 180,
        "start_time": "2021-09-12T16:26:16.921Z"
      },
      {
        "duration": 18,
        "start_time": "2021-09-12T16:26:25.083Z"
      },
      {
        "duration": 58,
        "start_time": "2021-09-12T16:26:29.234Z"
      },
      {
        "duration": 16,
        "start_time": "2021-09-12T16:26:34.777Z"
      },
      {
        "duration": 16,
        "start_time": "2021-09-12T16:26:40.176Z"
      },
      {
        "duration": 380,
        "start_time": "2021-09-12T16:26:52.742Z"
      },
      {
        "duration": 13,
        "start_time": "2021-09-12T16:26:58.526Z"
      },
      {
        "duration": 10,
        "start_time": "2021-09-12T16:27:51.970Z"
      },
      {
        "duration": 10,
        "start_time": "2021-09-12T16:27:57.768Z"
      },
      {
        "duration": 7,
        "start_time": "2021-09-12T16:28:02.265Z"
      },
      {
        "duration": 10,
        "start_time": "2021-09-12T16:28:05.217Z"
      },
      {
        "duration": 12,
        "start_time": "2021-09-12T16:28:12.627Z"
      },
      {
        "duration": 10,
        "start_time": "2021-09-12T16:28:15.068Z"
      },
      {
        "duration": 4,
        "start_time": "2021-09-12T16:33:07.121Z"
      },
      {
        "duration": 7,
        "start_time": "2021-09-12T16:33:18.042Z"
      },
      {
        "duration": 4,
        "start_time": "2021-09-12T16:34:17.231Z"
      },
      {
        "duration": 7,
        "start_time": "2021-09-12T16:34:28.718Z"
      },
      {
        "duration": 187,
        "start_time": "2021-09-12T16:35:18.336Z"
      },
      {
        "duration": 170,
        "start_time": "2021-09-12T16:35:23.809Z"
      },
      {
        "duration": 5,
        "start_time": "2021-09-12T16:35:27.253Z"
      },
      {
        "duration": 178,
        "start_time": "2021-09-12T16:35:32.143Z"
      },
      {
        "duration": 171,
        "start_time": "2021-09-12T16:35:34.215Z"
      },
      {
        "duration": 169,
        "start_time": "2021-09-12T16:35:36.756Z"
      },
      {
        "duration": 4,
        "start_time": "2021-09-12T16:35:38.790Z"
      },
      {
        "duration": 27,
        "start_time": "2021-09-12T16:41:59.812Z"
      },
      {
        "duration": 2,
        "start_time": "2021-09-12T16:42:05.733Z"
      },
      {
        "duration": 13,
        "start_time": "2021-09-12T16:42:15.982Z"
      },
      {
        "duration": 10,
        "start_time": "2021-09-12T16:42:18.232Z"
      },
      {
        "duration": 19,
        "start_time": "2021-09-12T16:42:18.668Z"
      },
      {
        "duration": 13,
        "start_time": "2021-09-12T16:42:20.814Z"
      },
      {
        "duration": 14,
        "start_time": "2021-09-12T16:45:31.671Z"
      },
      {
        "duration": 9,
        "start_time": "2021-09-12T16:46:04.625Z"
      },
      {
        "duration": 13,
        "start_time": "2021-09-12T16:46:14.758Z"
      },
      {
        "duration": 12,
        "start_time": "2021-09-12T16:46:21.478Z"
      },
      {
        "duration": 4,
        "start_time": "2021-09-12T16:46:51.619Z"
      },
      {
        "duration": 5,
        "start_time": "2021-09-12T16:47:07.558Z"
      },
      {
        "duration": 10,
        "start_time": "2021-09-12T16:47:14.261Z"
      },
      {
        "duration": 3,
        "start_time": "2021-09-12T16:48:23.419Z"
      },
      {
        "duration": 235,
        "start_time": "2021-09-12T16:48:43.678Z"
      },
      {
        "duration": 204,
        "start_time": "2021-09-12T16:49:05.832Z"
      },
      {
        "duration": 8,
        "start_time": "2021-09-12T16:49:25.767Z"
      },
      {
        "duration": 195,
        "start_time": "2021-09-12T16:49:42.667Z"
      },
      {
        "duration": 3,
        "start_time": "2021-09-12T16:49:45.877Z"
      },
      {
        "duration": 212,
        "start_time": "2021-09-12T16:49:49.203Z"
      },
      {
        "duration": 10,
        "start_time": "2021-09-12T16:49:52.059Z"
      },
      {
        "duration": 182,
        "start_time": "2021-09-12T16:51:51.918Z"
      },
      {
        "duration": 355,
        "start_time": "2021-09-12T16:51:55.185Z"
      },
      {
        "duration": 311,
        "start_time": "2021-09-12T16:52:36.156Z"
      },
      {
        "duration": 400,
        "start_time": "2021-09-12T16:53:19.925Z"
      },
      {
        "duration": 350,
        "start_time": "2021-09-12T16:53:36.072Z"
      },
      {
        "duration": -445,
        "start_time": "2021-09-12T16:53:51.812Z"
      },
      {
        "duration": 19560,
        "start_time": "2021-09-12T16:53:53.742Z"
      },
      {
        "duration": 186,
        "start_time": "2021-09-12T16:54:18.393Z"
      },
      {
        "duration": 176,
        "start_time": "2021-09-12T16:54:26.021Z"
      },
      {
        "duration": 360,
        "start_time": "2021-09-12T16:54:44.886Z"
      },
      {
        "duration": 3,
        "start_time": "2021-09-12T16:55:27.762Z"
      },
      {
        "duration": 168,
        "start_time": "2021-09-12T16:55:31.930Z"
      },
      {
        "duration": 340,
        "start_time": "2021-09-12T16:55:41.734Z"
      },
      {
        "duration": 167,
        "start_time": "2021-09-12T16:55:52.394Z"
      },
      {
        "duration": 191,
        "start_time": "2021-09-12T16:56:12.028Z"
      },
      {
        "duration": 227,
        "start_time": "2021-09-12T16:56:19.802Z"
      },
      {
        "duration": 344,
        "start_time": "2021-09-12T16:57:13.556Z"
      },
      {
        "duration": 182,
        "start_time": "2021-09-12T16:57:24.379Z"
      },
      {
        "duration": 7542,
        "start_time": "2021-09-12T16:57:31.528Z"
      },
      {
        "duration": 195,
        "start_time": "2021-09-12T16:58:06.140Z"
      },
      {
        "duration": 4284,
        "start_time": "2021-09-12T16:58:09.091Z"
      },
      {
        "duration": 172,
        "start_time": "2021-09-12T17:00:25.897Z"
      },
      {
        "duration": 63,
        "start_time": "2021-09-12T17:01:06.466Z"
      },
      {
        "duration": 2,
        "start_time": "2021-09-12T17:01:11.180Z"
      },
      {
        "duration": 165,
        "start_time": "2021-09-12T17:01:14.518Z"
      },
      {
        "duration": 159,
        "start_time": "2021-09-12T17:01:23.753Z"
      },
      {
        "duration": 170,
        "start_time": "2021-09-12T17:01:32.851Z"
      },
      {
        "duration": 329,
        "start_time": "2021-09-12T17:01:40.686Z"
      },
      {
        "duration": 319,
        "start_time": "2021-09-12T17:01:44.145Z"
      },
      {
        "duration": 239,
        "start_time": "2021-09-12T17:01:58.046Z"
      },
      {
        "duration": 327,
        "start_time": "2021-09-12T17:02:04.715Z"
      },
      {
        "duration": 51,
        "start_time": "2021-09-12T17:02:31.235Z"
      },
      {
        "duration": 298,
        "start_time": "2021-09-12T17:02:34.923Z"
      },
      {
        "duration": 319,
        "start_time": "2021-09-12T17:04:12.869Z"
      },
      {
        "duration": 9,
        "start_time": "2021-09-12T17:07:08.187Z"
      },
      {
        "duration": 4,
        "start_time": "2021-09-12T17:07:11.654Z"
      },
      {
        "duration": 183,
        "start_time": "2021-09-12T17:07:25.653Z"
      },
      {
        "duration": 1074,
        "start_time": "2021-09-12T17:07:32.517Z"
      },
      {
        "duration": 1001,
        "start_time": "2021-09-12T17:07:37.927Z"
      },
      {
        "duration": 1079,
        "start_time": "2021-09-12T17:07:52.292Z"
      },
      {
        "duration": 1100,
        "start_time": "2021-09-12T17:08:02.898Z"
      },
      {
        "duration": 62,
        "start_time": "2021-09-12T17:08:07.794Z"
      },
      {
        "duration": 1072,
        "start_time": "2021-09-12T17:08:12.396Z"
      },
      {
        "duration": 1316,
        "start_time": "2021-09-12T17:08:19.062Z"
      },
      {
        "duration": 1795,
        "start_time": "2021-09-12T17:08:59.528Z"
      },
      {
        "duration": 2309,
        "start_time": "2021-09-12T17:09:38.686Z"
      },
      {
        "duration": 1771,
        "start_time": "2021-09-12T17:09:50.963Z"
      },
      {
        "duration": 1603,
        "start_time": "2021-09-12T17:10:06.325Z"
      },
      {
        "duration": 1667,
        "start_time": "2021-09-12T17:10:31.203Z"
      },
      {
        "duration": 302,
        "start_time": "2021-09-12T17:11:00.140Z"
      },
      {
        "duration": 1611,
        "start_time": "2021-09-12T17:11:06.929Z"
      },
      {
        "duration": 523,
        "start_time": "2021-09-12T17:12:12.081Z"
      },
      {
        "duration": 157,
        "start_time": "2021-09-12T17:12:35.571Z"
      },
      {
        "duration": 361,
        "start_time": "2021-09-12T17:12:52.660Z"
      },
      {
        "duration": 481,
        "start_time": "2021-09-12T17:13:17.018Z"
      },
      {
        "duration": 673,
        "start_time": "2021-09-12T17:13:30.314Z"
      },
      {
        "duration": 628,
        "start_time": "2021-09-12T17:13:48.708Z"
      },
      {
        "duration": 58,
        "start_time": "2021-09-12T17:13:56.034Z"
      },
      {
        "duration": 627,
        "start_time": "2021-09-12T17:14:01.028Z"
      },
      {
        "duration": 1392,
        "start_time": "2021-09-12T17:14:06.207Z"
      },
      {
        "duration": 1601,
        "start_time": "2021-09-12T17:14:23.857Z"
      },
      {
        "duration": 1452,
        "start_time": "2021-09-12T17:14:34.142Z"
      },
      {
        "duration": 1446,
        "start_time": "2021-09-12T17:14:41.292Z"
      },
      {
        "duration": 548,
        "start_time": "2021-09-12T17:15:05.062Z"
      },
      {
        "duration": 1685,
        "start_time": "2021-09-12T17:15:17.567Z"
      },
      {
        "duration": 1587,
        "start_time": "2021-09-12T17:15:27.539Z"
      },
      {
        "duration": 1623,
        "start_time": "2021-09-12T17:15:38.526Z"
      },
      {
        "duration": 1616,
        "start_time": "2021-09-12T17:15:43.148Z"
      },
      {
        "duration": 61,
        "start_time": "2021-09-12T17:17:57.421Z"
      },
      {
        "duration": 1652,
        "start_time": "2021-09-12T17:18:02.036Z"
      },
      {
        "duration": 1608,
        "start_time": "2021-09-12T17:19:06.054Z"
      },
      {
        "duration": 1661,
        "start_time": "2021-09-12T17:19:18.124Z"
      },
      {
        "duration": 179,
        "start_time": "2021-09-12T17:20:03.986Z"
      },
      {
        "duration": 188,
        "start_time": "2021-09-12T17:20:10.526Z"
      },
      {
        "duration": 184,
        "start_time": "2021-09-12T17:20:15.036Z"
      },
      {
        "duration": 170,
        "start_time": "2021-09-12T17:20:18.974Z"
      },
      {
        "duration": 2277,
        "start_time": "2021-09-12T17:20:38.686Z"
      },
      {
        "duration": 1653,
        "start_time": "2021-09-12T17:20:59.347Z"
      },
      {
        "duration": 536,
        "start_time": "2021-09-12T17:22:17.796Z"
      },
      {
        "duration": 807,
        "start_time": "2021-09-12T17:22:21.554Z"
      },
      {
        "duration": 517,
        "start_time": "2021-09-12T17:22:58.785Z"
      },
      {
        "duration": 65,
        "start_time": "2021-09-12T17:26:22.037Z"
      },
      {
        "duration": 466,
        "start_time": "2021-09-12T17:26:25.250Z"
      },
      {
        "duration": 56,
        "start_time": "2021-09-12T17:26:32.174Z"
      },
      {
        "duration": 60,
        "start_time": "2021-09-12T17:26:49.559Z"
      },
      {
        "duration": 61,
        "start_time": "2021-09-12T17:26:55.583Z"
      },
      {
        "duration": 204,
        "start_time": "2021-09-12T17:27:02.825Z"
      },
      {
        "duration": 505,
        "start_time": "2021-09-12T17:27:07.682Z"
      },
      {
        "duration": 487,
        "start_time": "2021-09-12T17:27:12.042Z"
      },
      {
        "duration": 518,
        "start_time": "2021-09-12T17:27:38.479Z"
      },
      {
        "duration": 1666,
        "start_time": "2021-09-12T17:27:44.418Z"
      },
      {
        "duration": 1673,
        "start_time": "2021-09-12T17:28:03.006Z"
      },
      {
        "duration": 1685,
        "start_time": "2021-09-12T17:28:29.206Z"
      },
      {
        "duration": 1680,
        "start_time": "2021-09-12T17:28:44.247Z"
      },
      {
        "duration": 1679,
        "start_time": "2021-09-12T17:29:08.079Z"
      },
      {
        "duration": 1696,
        "start_time": "2021-09-12T17:29:14.166Z"
      },
      {
        "duration": 1687,
        "start_time": "2021-09-12T17:29:19.151Z"
      },
      {
        "duration": 1725,
        "start_time": "2021-09-12T17:29:26.768Z"
      },
      {
        "duration": 1702,
        "start_time": "2021-09-12T17:29:44.366Z"
      },
      {
        "duration": 1651,
        "start_time": "2021-09-12T17:30:30.174Z"
      },
      {
        "duration": 1629,
        "start_time": "2021-09-12T17:30:48.282Z"
      },
      {
        "duration": 1597,
        "start_time": "2021-09-12T17:30:50.481Z"
      },
      {
        "duration": 1636,
        "start_time": "2021-09-12T17:31:11.724Z"
      },
      {
        "duration": 1799,
        "start_time": "2021-09-12T17:31:17.294Z"
      },
      {
        "duration": 1764,
        "start_time": "2021-09-12T17:31:25.024Z"
      },
      {
        "duration": 1741,
        "start_time": "2021-09-12T17:31:33.493Z"
      },
      {
        "duration": 954,
        "start_time": "2021-09-12T17:33:30.176Z"
      },
      {
        "duration": 199,
        "start_time": "2021-09-12T17:34:13.940Z"
      },
      {
        "duration": 167,
        "start_time": "2021-09-12T17:36:11.994Z"
      },
      {
        "duration": 174,
        "start_time": "2021-09-12T17:36:31.233Z"
      },
      {
        "duration": 168,
        "start_time": "2021-09-12T17:36:42.348Z"
      },
      {
        "duration": 1742,
        "start_time": "2021-09-12T17:37:02.457Z"
      },
      {
        "duration": 1776,
        "start_time": "2021-09-12T17:37:20.499Z"
      },
      {
        "duration": 179,
        "start_time": "2021-09-12T17:37:37.860Z"
      },
      {
        "duration": 197,
        "start_time": "2021-09-12T17:37:52.783Z"
      },
      {
        "duration": 205,
        "start_time": "2021-09-12T17:38:29.029Z"
      },
      {
        "duration": 81,
        "start_time": "2021-09-12T17:38:50.909Z"
      },
      {
        "duration": 419,
        "start_time": "2021-09-12T17:38:55.561Z"
      },
      {
        "duration": 289,
        "start_time": "2021-09-12T17:38:59.868Z"
      },
      {
        "duration": 226,
        "start_time": "2021-09-12T17:39:07.632Z"
      },
      {
        "duration": 205,
        "start_time": "2021-09-12T17:39:12.864Z"
      },
      {
        "duration": 209,
        "start_time": "2021-09-12T17:39:17.210Z"
      },
      {
        "duration": 214,
        "start_time": "2021-09-12T17:40:33.240Z"
      },
      {
        "duration": 200,
        "start_time": "2021-09-12T17:40:51.757Z"
      },
      {
        "duration": 1632,
        "start_time": "2021-09-12T17:41:33.485Z"
      },
      {
        "duration": 1684,
        "start_time": "2021-09-12T17:42:08.444Z"
      },
      {
        "duration": 222,
        "start_time": "2021-09-12T17:43:21.152Z"
      },
      {
        "duration": 12,
        "start_time": "2021-09-12T17:43:50.938Z"
      },
      {
        "duration": 177,
        "start_time": "2021-09-12T17:43:56.903Z"
      },
      {
        "duration": 182,
        "start_time": "2021-09-12T17:44:04.165Z"
      },
      {
        "duration": 187,
        "start_time": "2021-09-12T17:44:34.109Z"
      },
      {
        "duration": 187,
        "start_time": "2021-09-12T17:44:38.155Z"
      },
      {
        "duration": 186,
        "start_time": "2021-09-12T17:45:38.548Z"
      },
      {
        "duration": 458,
        "start_time": "2021-09-12T17:46:37.749Z"
      },
      {
        "duration": 213,
        "start_time": "2021-09-12T17:46:47.747Z"
      },
      {
        "duration": 226,
        "start_time": "2021-09-12T17:47:07.320Z"
      },
      {
        "duration": 199,
        "start_time": "2021-09-12T17:48:53.932Z"
      },
      {
        "duration": 217,
        "start_time": "2021-09-12T17:49:55.141Z"
      },
      {
        "duration": 1673,
        "start_time": "2021-09-12T17:50:21.969Z"
      },
      {
        "duration": 203,
        "start_time": "2021-09-12T17:50:40.105Z"
      },
      {
        "duration": 13,
        "start_time": "2021-09-12T17:55:46.410Z"
      },
      {
        "duration": 619,
        "start_time": "2021-09-12T18:10:18.898Z"
      },
      {
        "duration": 28,
        "start_time": "2021-09-12T18:10:19.519Z"
      },
      {
        "duration": 16,
        "start_time": "2021-09-12T18:10:19.551Z"
      },
      {
        "duration": 10,
        "start_time": "2021-09-12T18:10:19.568Z"
      },
      {
        "duration": 17,
        "start_time": "2021-09-12T18:10:19.584Z"
      },
      {
        "duration": 11,
        "start_time": "2021-09-12T18:10:19.603Z"
      },
      {
        "duration": 8,
        "start_time": "2021-09-12T18:10:19.616Z"
      },
      {
        "duration": 242,
        "start_time": "2021-09-12T18:10:19.625Z"
      },
      {
        "duration": 1776,
        "start_time": "2021-09-12T18:10:19.869Z"
      },
      {
        "duration": 236,
        "start_time": "2021-09-12T18:10:21.648Z"
      },
      {
        "duration": 931,
        "start_time": "2021-09-13T18:20:09.694Z"
      },
      {
        "duration": 31,
        "start_time": "2021-09-13T18:20:10.627Z"
      },
      {
        "duration": 15,
        "start_time": "2021-09-13T18:20:10.875Z"
      },
      {
        "duration": 10,
        "start_time": "2021-09-13T18:20:11.231Z"
      },
      {
        "duration": 19,
        "start_time": "2021-09-13T18:20:11.549Z"
      },
      {
        "duration": 12,
        "start_time": "2021-09-13T18:20:11.835Z"
      },
      {
        "duration": 9,
        "start_time": "2021-09-13T18:20:13.215Z"
      },
      {
        "duration": 184,
        "start_time": "2021-09-13T18:20:14.635Z"
      },
      {
        "duration": 1640,
        "start_time": "2021-09-13T18:20:17.505Z"
      },
      {
        "duration": 257,
        "start_time": "2021-09-13T18:20:19.146Z"
      }
    ],
    "kernelspec": {
      "display_name": "Python 3",
      "language": "python",
      "name": "python3"
    },
    "language_info": {
      "codemirror_mode": {
        "name": "ipython",
        "version": 3
      },
      "file_extension": ".py",
      "mimetype": "text/x-python",
      "name": "python",
      "nbconvert_exporter": "python",
      "pygments_lexer": "ipython3",
      "version": "3.7.8"
    },
    "toc": {
      "base_numbering": 1,
      "nav_menu": {},
      "number_sections": true,
      "sideBar": true,
      "skip_h1_title": true,
      "title_cell": "Содержание",
      "title_sidebar": "Contents",
      "toc_cell": true,
      "toc_position": {},
      "toc_section_display": true,
      "toc_window_display": false
    },
    "colab": {
      "name": "Проект №14. SQL-запросы и анализ данных..ipynb",
      "provenance": [],
      "collapsed_sections": []
    }
  },
  "cells": [
    {
      "cell_type": "markdown",
      "metadata": {
        "id": "c6IbUg74x_lV"
      },
      "source": [
        "## Аналитика"
      ]
    },
    {
      "cell_type": "markdown",
      "metadata": {
        "id": "CPRv9Sy9x_lW"
      },
      "source": [
        "Импортируем нужные библиотеки"
      ]
    },
    {
      "cell_type": "code",
      "metadata": {
        "id": "BOAUgbSxx_lY"
      },
      "source": [
        "import pandas as pd\n",
        "import matplotlib.pyplot as plt"
      ],
      "execution_count": null,
      "outputs": []
    },
    {
      "cell_type": "markdown",
      "metadata": {
        "id": "jaH90zg-x_la"
      },
      "source": [
        "Загрузим данные и проверим взгляним на них."
      ]
    },
    {
      "cell_type": "code",
      "metadata": {
        "id": "UCKDpv3-x_lb"
      },
      "source": [
        "model = pd.read_csv('/datasets/query_1.csv')\n",
        "city = pd.read_csv('/datasets/query_3.csv')"
      ],
      "execution_count": null,
      "outputs": []
    },
    {
      "cell_type": "code",
      "metadata": {
        "id": "G7f9il5Qx_lc",
        "outputId": "e9aca209-d0c9-4c2d-983b-0d20de54c87b"
      },
      "source": [
        "df = (model, city)\n",
        "display(model, city)"
      ],
      "execution_count": null,
      "outputs": [
        {
          "data": {
            "text/html": [
              "<div>\n",
              "<style scoped>\n",
              "    .dataframe tbody tr th:only-of-type {\n",
              "        vertical-align: middle;\n",
              "    }\n",
              "\n",
              "    .dataframe tbody tr th {\n",
              "        vertical-align: top;\n",
              "    }\n",
              "\n",
              "    .dataframe thead th {\n",
              "        text-align: right;\n",
              "    }\n",
              "</style>\n",
              "<table border=\"1\" class=\"dataframe\">\n",
              "  <thead>\n",
              "    <tr style=\"text-align: right;\">\n",
              "      <th></th>\n",
              "      <th>model</th>\n",
              "      <th>flights_amount</th>\n",
              "    </tr>\n",
              "  </thead>\n",
              "  <tbody>\n",
              "    <tr>\n",
              "      <td>0</td>\n",
              "      <td>Airbus A319-100</td>\n",
              "      <td>607</td>\n",
              "    </tr>\n",
              "    <tr>\n",
              "      <td>1</td>\n",
              "      <td>Airbus A321-200</td>\n",
              "      <td>960</td>\n",
              "    </tr>\n",
              "    <tr>\n",
              "      <td>2</td>\n",
              "      <td>Boeing 737-300</td>\n",
              "      <td>630</td>\n",
              "    </tr>\n",
              "    <tr>\n",
              "      <td>3</td>\n",
              "      <td>Boeing 767-300</td>\n",
              "      <td>600</td>\n",
              "    </tr>\n",
              "    <tr>\n",
              "      <td>4</td>\n",
              "      <td>Boeing 777-300</td>\n",
              "      <td>300</td>\n",
              "    </tr>\n",
              "    <tr>\n",
              "      <td>5</td>\n",
              "      <td>Bombardier CRJ-200</td>\n",
              "      <td>4446</td>\n",
              "    </tr>\n",
              "    <tr>\n",
              "      <td>6</td>\n",
              "      <td>Cessna 208 Caravan</td>\n",
              "      <td>4557</td>\n",
              "    </tr>\n",
              "    <tr>\n",
              "      <td>7</td>\n",
              "      <td>Sukhoi SuperJet-100</td>\n",
              "      <td>4185</td>\n",
              "    </tr>\n",
              "  </tbody>\n",
              "</table>\n",
              "</div>"
            ],
            "text/plain": [
              "                 model  flights_amount\n",
              "0      Airbus A319-100             607\n",
              "1      Airbus A321-200             960\n",
              "2       Boeing 737-300             630\n",
              "3       Boeing 767-300             600\n",
              "4       Boeing 777-300             300\n",
              "5   Bombardier CRJ-200            4446\n",
              "6   Cessna 208 Caravan            4557\n",
              "7  Sukhoi SuperJet-100            4185"
            ]
          },
          "metadata": {},
          "output_type": "display_data"
        },
        {
          "data": {
            "text/html": [
              "<div>\n",
              "<style scoped>\n",
              "    .dataframe tbody tr th:only-of-type {\n",
              "        vertical-align: middle;\n",
              "    }\n",
              "\n",
              "    .dataframe tbody tr th {\n",
              "        vertical-align: top;\n",
              "    }\n",
              "\n",
              "    .dataframe thead th {\n",
              "        text-align: right;\n",
              "    }\n",
              "</style>\n",
              "<table border=\"1\" class=\"dataframe\">\n",
              "  <thead>\n",
              "    <tr style=\"text-align: right;\">\n",
              "      <th></th>\n",
              "      <th>city</th>\n",
              "      <th>average_flights</th>\n",
              "    </tr>\n",
              "  </thead>\n",
              "  <tbody>\n",
              "    <tr>\n",
              "      <td>0</td>\n",
              "      <td>Абакан</td>\n",
              "      <td>3.870968</td>\n",
              "    </tr>\n",
              "    <tr>\n",
              "      <td>1</td>\n",
              "      <td>Анадырь</td>\n",
              "      <td>1.000000</td>\n",
              "    </tr>\n",
              "    <tr>\n",
              "      <td>2</td>\n",
              "      <td>Анапа</td>\n",
              "      <td>2.161290</td>\n",
              "    </tr>\n",
              "    <tr>\n",
              "      <td>3</td>\n",
              "      <td>Архангельск</td>\n",
              "      <td>5.354839</td>\n",
              "    </tr>\n",
              "    <tr>\n",
              "      <td>4</td>\n",
              "      <td>Астрахань</td>\n",
              "      <td>2.451613</td>\n",
              "    </tr>\n",
              "    <tr>\n",
              "      <td>...</td>\n",
              "      <td>...</td>\n",
              "      <td>...</td>\n",
              "    </tr>\n",
              "    <tr>\n",
              "      <td>96</td>\n",
              "      <td>Чита</td>\n",
              "      <td>1.580645</td>\n",
              "    </tr>\n",
              "    <tr>\n",
              "      <td>97</td>\n",
              "      <td>Элиста</td>\n",
              "      <td>4.870968</td>\n",
              "    </tr>\n",
              "    <tr>\n",
              "      <td>98</td>\n",
              "      <td>Южно-Сахалинск</td>\n",
              "      <td>4.290323</td>\n",
              "    </tr>\n",
              "    <tr>\n",
              "      <td>99</td>\n",
              "      <td>Якутск</td>\n",
              "      <td>2.741935</td>\n",
              "    </tr>\n",
              "    <tr>\n",
              "      <td>100</td>\n",
              "      <td>Ярославль</td>\n",
              "      <td>1.322581</td>\n",
              "    </tr>\n",
              "  </tbody>\n",
              "</table>\n",
              "<p>101 rows × 2 columns</p>\n",
              "</div>"
            ],
            "text/plain": [
              "               city  average_flights\n",
              "0            Абакан         3.870968\n",
              "1           Анадырь         1.000000\n",
              "2             Анапа         2.161290\n",
              "3       Архангельск         5.354839\n",
              "4         Астрахань         2.451613\n",
              "..              ...              ...\n",
              "96             Чита         1.580645\n",
              "97           Элиста         4.870968\n",
              "98   Южно-Сахалинск         4.290323\n",
              "99           Якутск         2.741935\n",
              "100       Ярославль         1.322581\n",
              "\n",
              "[101 rows x 2 columns]"
            ]
          },
          "metadata": {},
          "output_type": "display_data"
        }
      ]
    },
    {
      "cell_type": "code",
      "metadata": {
        "id": "RQUJt9pUx_ld",
        "outputId": "44c3c19d-1694-4ec0-9cbe-88bd64734c95"
      },
      "source": [
        "for i in df:\n",
        "    display(i.info())"
      ],
      "execution_count": null,
      "outputs": [
        {
          "name": "stdout",
          "output_type": "stream",
          "text": [
            "<class 'pandas.core.frame.DataFrame'>\n",
            "RangeIndex: 8 entries, 0 to 7\n",
            "Data columns (total 2 columns):\n",
            "model             8 non-null object\n",
            "flights_amount    8 non-null int64\n",
            "dtypes: int64(1), object(1)\n",
            "memory usage: 256.0+ bytes\n"
          ]
        },
        {
          "data": {
            "text/plain": [
              "None"
            ]
          },
          "metadata": {},
          "output_type": "display_data"
        },
        {
          "name": "stdout",
          "output_type": "stream",
          "text": [
            "<class 'pandas.core.frame.DataFrame'>\n",
            "RangeIndex: 101 entries, 0 to 100\n",
            "Data columns (total 2 columns):\n",
            "city               101 non-null object\n",
            "average_flights    101 non-null float64\n",
            "dtypes: float64(1), object(1)\n",
            "memory usage: 1.7+ KB\n"
          ]
        },
        {
          "data": {
            "text/plain": [
              "None"
            ]
          },
          "metadata": {},
          "output_type": "display_data"
        }
      ]
    },
    {
      "cell_type": "code",
      "metadata": {
        "id": "37YKPs1xx_le",
        "outputId": "402e4e21-9554-4fa0-bf15-db10c389e893"
      },
      "source": [
        "for i in df:\n",
        "    display(i.describe())"
      ],
      "execution_count": null,
      "outputs": [
        {
          "data": {
            "text/html": [
              "<div>\n",
              "<style scoped>\n",
              "    .dataframe tbody tr th:only-of-type {\n",
              "        vertical-align: middle;\n",
              "    }\n",
              "\n",
              "    .dataframe tbody tr th {\n",
              "        vertical-align: top;\n",
              "    }\n",
              "\n",
              "    .dataframe thead th {\n",
              "        text-align: right;\n",
              "    }\n",
              "</style>\n",
              "<table border=\"1\" class=\"dataframe\">\n",
              "  <thead>\n",
              "    <tr style=\"text-align: right;\">\n",
              "      <th></th>\n",
              "      <th>flights_amount</th>\n",
              "    </tr>\n",
              "  </thead>\n",
              "  <tbody>\n",
              "    <tr>\n",
              "      <td>count</td>\n",
              "      <td>8.000000</td>\n",
              "    </tr>\n",
              "    <tr>\n",
              "      <td>mean</td>\n",
              "      <td>2035.625000</td>\n",
              "    </tr>\n",
              "    <tr>\n",
              "      <td>std</td>\n",
              "      <td>1965.203947</td>\n",
              "    </tr>\n",
              "    <tr>\n",
              "      <td>min</td>\n",
              "      <td>300.000000</td>\n",
              "    </tr>\n",
              "    <tr>\n",
              "      <td>25%</td>\n",
              "      <td>605.250000</td>\n",
              "    </tr>\n",
              "    <tr>\n",
              "      <td>50%</td>\n",
              "      <td>795.000000</td>\n",
              "    </tr>\n",
              "    <tr>\n",
              "      <td>75%</td>\n",
              "      <td>4250.250000</td>\n",
              "    </tr>\n",
              "    <tr>\n",
              "      <td>max</td>\n",
              "      <td>4557.000000</td>\n",
              "    </tr>\n",
              "  </tbody>\n",
              "</table>\n",
              "</div>"
            ],
            "text/plain": [
              "       flights_amount\n",
              "count        8.000000\n",
              "mean      2035.625000\n",
              "std       1965.203947\n",
              "min        300.000000\n",
              "25%        605.250000\n",
              "50%        795.000000\n",
              "75%       4250.250000\n",
              "max       4557.000000"
            ]
          },
          "metadata": {},
          "output_type": "display_data"
        },
        {
          "data": {
            "text/html": [
              "<div>\n",
              "<style scoped>\n",
              "    .dataframe tbody tr th:only-of-type {\n",
              "        vertical-align: middle;\n",
              "    }\n",
              "\n",
              "    .dataframe tbody tr th {\n",
              "        vertical-align: top;\n",
              "    }\n",
              "\n",
              "    .dataframe thead th {\n",
              "        text-align: right;\n",
              "    }\n",
              "</style>\n",
              "<table border=\"1\" class=\"dataframe\">\n",
              "  <thead>\n",
              "    <tr style=\"text-align: right;\">\n",
              "      <th></th>\n",
              "      <th>average_flights</th>\n",
              "    </tr>\n",
              "  </thead>\n",
              "  <tbody>\n",
              "    <tr>\n",
              "      <td>count</td>\n",
              "      <td>101.000000</td>\n",
              "    </tr>\n",
              "    <tr>\n",
              "      <td>mean</td>\n",
              "      <td>5.494189</td>\n",
              "    </tr>\n",
              "    <tr>\n",
              "      <td>std</td>\n",
              "      <td>13.119790</td>\n",
              "    </tr>\n",
              "    <tr>\n",
              "      <td>min</td>\n",
              "      <td>1.000000</td>\n",
              "    </tr>\n",
              "    <tr>\n",
              "      <td>25%</td>\n",
              "      <td>2.000000</td>\n",
              "    </tr>\n",
              "    <tr>\n",
              "      <td>50%</td>\n",
              "      <td>3.000000</td>\n",
              "    </tr>\n",
              "    <tr>\n",
              "      <td>75%</td>\n",
              "      <td>5.870968</td>\n",
              "    </tr>\n",
              "    <tr>\n",
              "      <td>max</td>\n",
              "      <td>129.774194</td>\n",
              "    </tr>\n",
              "  </tbody>\n",
              "</table>\n",
              "</div>"
            ],
            "text/plain": [
              "       average_flights\n",
              "count       101.000000\n",
              "mean          5.494189\n",
              "std          13.119790\n",
              "min           1.000000\n",
              "25%           2.000000\n",
              "50%           3.000000\n",
              "75%           5.870968\n",
              "max         129.774194"
            ]
          },
          "metadata": {},
          "output_type": "display_data"
        }
      ]
    },
    {
      "cell_type": "code",
      "metadata": {
        "id": "bcMBDbM-x_lf",
        "outputId": "03eb167c-30ac-4d52-b170-d381701c30cf"
      },
      "source": [
        "for i in df:\n",
        "    display(i.isna().mean())\n",
        "    display(f'Количество дубликатов {i.duplicated().sum()}')"
      ],
      "execution_count": null,
      "outputs": [
        {
          "data": {
            "text/plain": [
              "model             0.0\n",
              "flights_amount    0.0\n",
              "dtype: float64"
            ]
          },
          "metadata": {},
          "output_type": "display_data"
        },
        {
          "data": {
            "text/plain": [
              "'Количество дубликатов 0'"
            ]
          },
          "metadata": {},
          "output_type": "display_data"
        },
        {
          "data": {
            "text/plain": [
              "city               0.0\n",
              "average_flights    0.0\n",
              "dtype: float64"
            ]
          },
          "metadata": {},
          "output_type": "display_data"
        },
        {
          "data": {
            "text/plain": [
              "'Количество дубликатов 0'"
            ]
          },
          "metadata": {},
          "output_type": "display_data"
        }
      ]
    },
    {
      "cell_type": "markdown",
      "metadata": {
        "id": "h3PcDUFxx_lg"
      },
      "source": [
        "# Вывод:\n",
        "После загрузки данных ни чего аномального не обноружено. Типы данных впорядке. Пропусков или дубликатов нет. В распределении данных нет ни чего аномального."
      ]
    },
    {
      "cell_type": "markdown",
      "metadata": {
        "id": "61e_6HPQx_lh"
      },
      "source": [
        "Создадим таблицу с топ-10 городов."
      ]
    },
    {
      "cell_type": "code",
      "metadata": {
        "id": "ongG1cUdx_lh",
        "outputId": "27d73ea2-7331-487a-a72e-1501e664ee40"
      },
      "source": [
        "top10_city = city.sort_values('average_flights', ascending=False).head(10)\n",
        "top10_city"
      ],
      "execution_count": null,
      "outputs": [
        {
          "data": {
            "text/html": [
              "<div>\n",
              "<style scoped>\n",
              "    .dataframe tbody tr th:only-of-type {\n",
              "        vertical-align: middle;\n",
              "    }\n",
              "\n",
              "    .dataframe tbody tr th {\n",
              "        vertical-align: top;\n",
              "    }\n",
              "\n",
              "    .dataframe thead th {\n",
              "        text-align: right;\n",
              "    }\n",
              "</style>\n",
              "<table border=\"1\" class=\"dataframe\">\n",
              "  <thead>\n",
              "    <tr style=\"text-align: right;\">\n",
              "      <th></th>\n",
              "      <th>city</th>\n",
              "      <th>average_flights</th>\n",
              "    </tr>\n",
              "  </thead>\n",
              "  <tbody>\n",
              "    <tr>\n",
              "      <td>43</td>\n",
              "      <td>Москва</td>\n",
              "      <td>129.774194</td>\n",
              "    </tr>\n",
              "    <tr>\n",
              "      <td>70</td>\n",
              "      <td>Санкт-Петербург</td>\n",
              "      <td>31.161290</td>\n",
              "    </tr>\n",
              "    <tr>\n",
              "      <td>54</td>\n",
              "      <td>Новосибирск</td>\n",
              "      <td>17.322581</td>\n",
              "    </tr>\n",
              "    <tr>\n",
              "      <td>33</td>\n",
              "      <td>Красноярск</td>\n",
              "      <td>11.580645</td>\n",
              "    </tr>\n",
              "    <tr>\n",
              "      <td>20</td>\n",
              "      <td>Екатеринбург</td>\n",
              "      <td>11.322581</td>\n",
              "    </tr>\n",
              "    <tr>\n",
              "      <td>67</td>\n",
              "      <td>Ростов-на-Дону</td>\n",
              "      <td>10.193548</td>\n",
              "    </tr>\n",
              "    <tr>\n",
              "      <td>63</td>\n",
              "      <td>Пермь</td>\n",
              "      <td>10.129032</td>\n",
              "    </tr>\n",
              "    <tr>\n",
              "      <td>10</td>\n",
              "      <td>Брянск</td>\n",
              "      <td>10.000000</td>\n",
              "    </tr>\n",
              "    <tr>\n",
              "      <td>74</td>\n",
              "      <td>Сочи</td>\n",
              "      <td>9.612903</td>\n",
              "    </tr>\n",
              "    <tr>\n",
              "      <td>84</td>\n",
              "      <td>Ульяновск</td>\n",
              "      <td>9.580645</td>\n",
              "    </tr>\n",
              "  </tbody>\n",
              "</table>\n",
              "</div>"
            ],
            "text/plain": [
              "               city  average_flights\n",
              "43           Москва       129.774194\n",
              "70  Санкт-Петербург        31.161290\n",
              "54      Новосибирск        17.322581\n",
              "33       Красноярск        11.580645\n",
              "20     Екатеринбург        11.322581\n",
              "67   Ростов-на-Дону        10.193548\n",
              "63            Пермь        10.129032\n",
              "10           Брянск        10.000000\n",
              "74             Сочи         9.612903\n",
              "84        Ульяновск         9.580645"
            ]
          },
          "execution_count": 7,
          "metadata": {},
          "output_type": "execute_result"
        }
      ]
    },
    {
      "cell_type": "markdown",
      "metadata": {
        "id": "WMFBq5KSx_li"
      },
      "source": [
        "По ней видно, что самый поплуряный город по среднему количеству рейсво это Москва. Еще в сильном отрыве Питер, а остальные не так уж и популярны."
      ]
    },
    {
      "cell_type": "markdown",
      "metadata": {
        "id": "hDabp0F6x_lj"
      },
      "source": [
        "Построим график моделей самолета и рейсов на них"
      ]
    },
    {
      "cell_type": "code",
      "metadata": {
        "id": "v-DL4HCJx_lk",
        "outputId": "09e5623b-1601-497a-b908-0a593a49cc02"
      },
      "source": [
        "model.set_index('model').sort_values('flights_amount').plot(y='flights_amount',\n",
        "                                                            figsize=(8,4),\n",
        "                                                            kind='barh',\n",
        "                                                            grid=True,\n",
        "                                                            label='Количество рейсов',\n",
        "                                                            legend=False\n",
        "                                                           )\n",
        "plt.title('График «Модели самолётов и количество рейсов»')\n",
        "plt.xlabel('Количество рейсов (шт)')\n",
        "plt.ylabel('Назавание самолета')\n",
        "plt.show()"
      ],
      "execution_count": null,
      "outputs": [
        {
          "data": {
            "image/png": "[encoded data removed]",
            "text/plain": [
              "<Figure size 576x288 with 1 Axes>"
            ]
          },
          "metadata": {
            "needs_background": "light"
          },
          "output_type": "display_data"
        }
      ]
    },
    {
      "cell_type": "markdown",
      "metadata": {
        "id": "b0rLLQa0x_lm"
      },
      "source": [
        "Видим, что первая тройка самолетов это пассажирские, но маленькие самолеты. Они чаще всего летают т.к. там мало человек и соответственно, чтобы взлететь нужно мало билетов продать. Остальные самолеты у нас крупные и на них меньше соответственно полетов т.к. для взлета нужно больше билетов продать, а это занимает не мало времени."
      ]
    },
    {
      "cell_type": "code",
      "metadata": {
        "id": "pgqWITYGx_ln",
        "outputId": "d7ca1ba3-ec8c-4d48-d9ad-a29648dfe779"
      },
      "source": [
        "city.set_index('city').sort_values('average_flights').plot(y='average_flights',\n",
        "                                                           kind='barh',\n",
        "                                                           figsize=(14,20),\n",
        "                                                           grid=True,\n",
        "                                                           label='Среднее количество рейсов',\n",
        "                                                           legend=False\n",
        "                                                          )\n",
        "plt.title('График «Города и количество рейсов»')\n",
        "plt.xlabel('Среднее количество рейсов (шт)')\n",
        "plt.ylabel('Назавание городов')\n",
        "plt.show()"
      ],
      "execution_count": null,
      "outputs": [
        {
          "data": {
            "image/png": "[encoded data removed]",
            "text/plain": [
              "<Figure size 1008x1440 with 1 Axes>"
            ]
          },
          "metadata": {
            "needs_background": "light"
          },
          "output_type": "display_data"
        }
      ]
    },
    {
      "cell_type": "code",
      "metadata": {
        "id": "Vl_wta-dx_lo",
        "outputId": "f2809c6a-bf3a-417d-db54-089517f641c3"
      },
      "source": [
        "top10_city.set_index('city').sort_values('average_flights').plot(y='average_flights',\n",
        "                                                                 kind='barh',\n",
        "                                                                 figsize=(8,4),\n",
        "                                                                 grid=True,\n",
        "                                                                 label='Среднее количество рейсов',\n",
        "                                                                 legend=False\n",
        "                                                                )\n",
        "plt.title('График «Топ-10 городов и количество рейсов»')\n",
        "plt.xlabel('Среднее количество рейсов (шт)')\n",
        "plt.ylabel('Назавание городов')\n",
        "plt.show()"
      ],
      "execution_count": null,
      "outputs": [
        {
          "data": {
            "image/png": "[encoded data removed]",
            "text/plain": [
              "<Figure size 576x288 with 1 Axes>"
            ]
          },
          "metadata": {
            "needs_background": "light"
          },
          "output_type": "display_data"
        }
      ]
    },
    {
      "cell_type": "markdown",
      "metadata": {
        "id": "cXdJQenYx_lp"
      },
      "source": [
        "По графику топ-10 и все города можно сказать, что самые частые рейсы в Москву и в Питер, а еще в Новосибирс. Остальные города все идут на убыль и пользуются не большим спросом."
      ]
    },
    {
      "cell_type": "markdown",
      "metadata": {
        "id": "2FoTJ0LUx_lq"
      },
      "source": [
        "# Общий вывод:\n",
        "В ходе анализа выяснил, что:\n",
        "* Самое большое количество рейсов выполняют самолеты небольшой дальности, для их перелета нужно продать меньше билетов и тем самым можно полететь в ближайшие даты ;\n",
        "* Самое большое количество рейсов выполняется в самые крупные города России."
      ]
    }
  ]
}
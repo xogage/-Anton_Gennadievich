{
 "cells": [
  {
   "cell_type": "markdown",
   "metadata": {},
   "source": [
    "# Предобработка данных"
   ]
  },
  {
   "cell_type": "code",
   "execution_count": 1,
   "metadata": {},
   "outputs": [
    {
     "name": "stdout",
     "output_type": "stream",
     "text": [
      "Defaulting to user installation because normal site-packages is not writeable\n",
      "Requirement already satisfied: eli5 in /home/jovyan/.local/lib/python3.7/site-packages (0.11.0)\n",
      "Requirement already satisfied: jinja2 in /opt/conda/lib/python3.7/site-packages (from eli5) (2.11.2)\n",
      "Requirement already satisfied: numpy>=1.9.0 in /opt/conda/lib/python3.7/site-packages (from eli5) (1.19.5)\n",
      "Requirement already satisfied: scipy in /opt/conda/lib/python3.7/site-packages (from eli5) (1.4.1)\n",
      "Requirement already satisfied: attrs>16.0.0 in /opt/conda/lib/python3.7/site-packages (from eli5) (19.1.0)\n",
      "Requirement already satisfied: graphviz in /opt/conda/lib/python3.7/site-packages (from eli5) (0.16)\n",
      "Requirement already satisfied: tabulate>=0.7.7 in /home/jovyan/.local/lib/python3.7/site-packages (from eli5) (0.8.9)\n",
      "Requirement already satisfied: six in /opt/conda/lib/python3.7/site-packages (from eli5) (1.15.0)\n",
      "Requirement already satisfied: scikit-learn>=0.20 in /opt/conda/lib/python3.7/site-packages (from eli5) (0.21.2)\n",
      "Requirement already satisfied: MarkupSafe>=0.23 in /opt/conda/lib/python3.7/site-packages (from jinja2->eli5) (2.0.1)\n",
      "Requirement already satisfied: joblib>=0.11 in /opt/conda/lib/python3.7/site-packages (from scikit-learn>=0.20->eli5) (1.0.1)\n"
     ]
    }
   ],
   "source": [
    "!pip install eli5 "
   ]
  },
  {
   "cell_type": "markdown",
   "metadata": {},
   "source": [
    "Нужные мне библиотеки:"
   ]
  },
  {
   "cell_type": "code",
   "execution_count": 2,
   "metadata": {},
   "outputs": [
    {
     "name": "stderr",
     "output_type": "stream",
     "text": [
      "/opt/conda/lib/python3.7/site-packages/tqdm/std.py:703: FutureWarning: The Panel class is removed from pandas. Accessing it from the top-level namespace will also be removed in the next version\n",
      "  from pandas import Panel\n"
     ]
    }
   ],
   "source": [
    "import pandas as pd\n",
    "import numpy as np\n",
    "import matplotlib.pyplot as plt\n",
    "from sklearn.model_selection import train_test_split\n",
    "from sklearn.preprocessing import StandardScaler\n",
    "from sklearn.utils import shuffle\n",
    "from sklearn.model_selection import GridSearchCV, cross_val_score\n",
    "from sklearn.linear_model import LogisticRegression\n",
    "from sklearn.tree import DecisionTreeClassifier\n",
    "from sklearn.ensemble import RandomForestClassifier\n",
    "from sklearn.dummy import DummyClassifier\n",
    "from catboost import CatBoostClassifier\n",
    "import eli5\n",
    "from eli5.sklearn import PermutationImportance\n",
    "from sklearn.metrics import accuracy_score\n",
    "from sklearn.metrics import roc_auc_score\n",
    "from sklearn.metrics import classification_report\n",
    "from scipy import stats as st\n",
    "from sklearn.metrics import confusion_matrix\n",
    "\n",
    "import warnings\n",
    "from tqdm.auto import tqdm\n",
    "tqdm.pandas(desc=\"Loading \")\n",
    "warnings.filterwarnings('ignore')\n",
    "pd.set_option('display.max_columns', None)"
   ]
  },
  {
   "cell_type": "markdown",
   "metadata": {},
   "source": [
    "Загружаю данные. Нужно на них взгялнуть"
   ]
  },
  {
   "cell_type": "code",
   "execution_count": 3,
   "metadata": {},
   "outputs": [],
   "source": [
    "cont = pd.read_csv('/datasets/final_provider/contract.csv', parse_dates=[1])\n",
    "pers = pd.read_csv('/datasets/final_provider/personal.csv')\n",
    "inet = pd.read_csv('/datasets/final_provider/internet.csv')\n",
    "phone = pd.read_csv('/datasets/final_provider/phone.csv')"
   ]
  },
  {
   "cell_type": "code",
   "execution_count": 4,
   "metadata": {
    "scrolled": false
   },
   "outputs": [
    {
     "data": {
      "text/plain": [
       "'Таблица cont ↓↓↓↓↓↓↓↓↓↓↓↓↓↓↓↓↓↓↓↓↓↓↓↓↓↓↓↓↓↓↓↓↓↓↓↓↓↓↓↓↓↓↓↓↓↓↓↓↓↓↓↓↓↓↓↓↓↓↓↓↓↓↓↓↓↓↓↓↓↓↓↓↓↓↓↓↓↓↓↓'"
      ]
     },
     "metadata": {},
     "output_type": "display_data"
    },
    {
     "data": {
      "text/html": [
       "<div>\n",
       "<style scoped>\n",
       "    .dataframe tbody tr th:only-of-type {\n",
       "        vertical-align: middle;\n",
       "    }\n",
       "\n",
       "    .dataframe tbody tr th {\n",
       "        vertical-align: top;\n",
       "    }\n",
       "\n",
       "    .dataframe thead th {\n",
       "        text-align: right;\n",
       "    }\n",
       "</style>\n",
       "<table border=\"1\" class=\"dataframe\">\n",
       "  <thead>\n",
       "    <tr style=\"text-align: right;\">\n",
       "      <th></th>\n",
       "      <th>customerID</th>\n",
       "      <th>BeginDate</th>\n",
       "      <th>EndDate</th>\n",
       "      <th>Type</th>\n",
       "      <th>PaperlessBilling</th>\n",
       "      <th>PaymentMethod</th>\n",
       "      <th>MonthlyCharges</th>\n",
       "      <th>TotalCharges</th>\n",
       "    </tr>\n",
       "  </thead>\n",
       "  <tbody>\n",
       "    <tr>\n",
       "      <td>0</td>\n",
       "      <td>7590-VHVEG</td>\n",
       "      <td>2020-01-01</td>\n",
       "      <td>No</td>\n",
       "      <td>Month-to-month</td>\n",
       "      <td>Yes</td>\n",
       "      <td>Electronic check</td>\n",
       "      <td>29.85</td>\n",
       "      <td>29.85</td>\n",
       "    </tr>\n",
       "    <tr>\n",
       "      <td>1</td>\n",
       "      <td>5575-GNVDE</td>\n",
       "      <td>2017-04-01</td>\n",
       "      <td>No</td>\n",
       "      <td>One year</td>\n",
       "      <td>No</td>\n",
       "      <td>Mailed check</td>\n",
       "      <td>56.95</td>\n",
       "      <td>1889.5</td>\n",
       "    </tr>\n",
       "    <tr>\n",
       "      <td>2</td>\n",
       "      <td>3668-QPYBK</td>\n",
       "      <td>2019-10-01</td>\n",
       "      <td>2019-12-01 00:00:00</td>\n",
       "      <td>Month-to-month</td>\n",
       "      <td>Yes</td>\n",
       "      <td>Mailed check</td>\n",
       "      <td>53.85</td>\n",
       "      <td>108.15</td>\n",
       "    </tr>\n",
       "    <tr>\n",
       "      <td>3</td>\n",
       "      <td>7795-CFOCW</td>\n",
       "      <td>2016-05-01</td>\n",
       "      <td>No</td>\n",
       "      <td>One year</td>\n",
       "      <td>No</td>\n",
       "      <td>Bank transfer (automatic)</td>\n",
       "      <td>42.30</td>\n",
       "      <td>1840.75</td>\n",
       "    </tr>\n",
       "    <tr>\n",
       "      <td>4</td>\n",
       "      <td>9237-HQITU</td>\n",
       "      <td>2019-09-01</td>\n",
       "      <td>2019-11-01 00:00:00</td>\n",
       "      <td>Month-to-month</td>\n",
       "      <td>Yes</td>\n",
       "      <td>Electronic check</td>\n",
       "      <td>70.70</td>\n",
       "      <td>151.65</td>\n",
       "    </tr>\n",
       "  </tbody>\n",
       "</table>\n",
       "</div>"
      ],
      "text/plain": [
       "   customerID  BeginDate              EndDate            Type  \\\n",
       "0  7590-VHVEG 2020-01-01                   No  Month-to-month   \n",
       "1  5575-GNVDE 2017-04-01                   No        One year   \n",
       "2  3668-QPYBK 2019-10-01  2019-12-01 00:00:00  Month-to-month   \n",
       "3  7795-CFOCW 2016-05-01                   No        One year   \n",
       "4  9237-HQITU 2019-09-01  2019-11-01 00:00:00  Month-to-month   \n",
       "\n",
       "  PaperlessBilling              PaymentMethod  MonthlyCharges TotalCharges  \n",
       "0              Yes           Electronic check           29.85        29.85  \n",
       "1               No               Mailed check           56.95       1889.5  \n",
       "2              Yes               Mailed check           53.85       108.15  \n",
       "3               No  Bank transfer (automatic)           42.30      1840.75  \n",
       "4              Yes           Electronic check           70.70       151.65  "
      ]
     },
     "metadata": {},
     "output_type": "display_data"
    },
    {
     "name": "stdout",
     "output_type": "stream",
     "text": [
      "<class 'pandas.core.frame.DataFrame'>\n",
      "RangeIndex: 7043 entries, 0 to 7042\n",
      "Data columns (total 8 columns):\n",
      "customerID          7043 non-null object\n",
      "BeginDate           7043 non-null datetime64[ns]\n",
      "EndDate             7043 non-null object\n",
      "Type                7043 non-null object\n",
      "PaperlessBilling    7043 non-null object\n",
      "PaymentMethod       7043 non-null object\n",
      "MonthlyCharges      7043 non-null float64\n",
      "TotalCharges        7043 non-null object\n",
      "dtypes: datetime64[ns](1), float64(1), object(6)\n",
      "memory usage: 440.3+ KB\n",
      "None\n"
     ]
    },
    {
     "data": {
      "text/plain": [
       "'Пропуски'"
      ]
     },
     "metadata": {},
     "output_type": "display_data"
    },
    {
     "data": {
      "text/plain": [
       "customerID          0.0\n",
       "BeginDate           0.0\n",
       "EndDate             0.0\n",
       "Type                0.0\n",
       "PaperlessBilling    0.0\n",
       "PaymentMethod       0.0\n",
       "MonthlyCharges      0.0\n",
       "TotalCharges        0.0\n",
       "dtype: float64"
      ]
     },
     "metadata": {},
     "output_type": "display_data"
    },
    {
     "name": "stdout",
     "output_type": "stream",
     "text": [
      "\n"
     ]
    },
    {
     "data": {
      "text/plain": [
       "'Таблица pers ↓↓↓↓↓↓↓↓↓↓↓↓↓↓↓↓↓↓↓↓↓↓↓↓↓↓↓↓↓↓↓↓↓↓↓↓↓↓↓↓↓↓↓↓↓↓↓↓↓↓↓↓↓↓↓↓↓↓↓↓↓↓↓↓↓↓↓↓↓↓↓↓↓↓↓↓↓↓↓↓'"
      ]
     },
     "metadata": {},
     "output_type": "display_data"
    },
    {
     "data": {
      "text/html": [
       "<div>\n",
       "<style scoped>\n",
       "    .dataframe tbody tr th:only-of-type {\n",
       "        vertical-align: middle;\n",
       "    }\n",
       "\n",
       "    .dataframe tbody tr th {\n",
       "        vertical-align: top;\n",
       "    }\n",
       "\n",
       "    .dataframe thead th {\n",
       "        text-align: right;\n",
       "    }\n",
       "</style>\n",
       "<table border=\"1\" class=\"dataframe\">\n",
       "  <thead>\n",
       "    <tr style=\"text-align: right;\">\n",
       "      <th></th>\n",
       "      <th>customerID</th>\n",
       "      <th>gender</th>\n",
       "      <th>SeniorCitizen</th>\n",
       "      <th>Partner</th>\n",
       "      <th>Dependents</th>\n",
       "    </tr>\n",
       "  </thead>\n",
       "  <tbody>\n",
       "    <tr>\n",
       "      <td>0</td>\n",
       "      <td>7590-VHVEG</td>\n",
       "      <td>Female</td>\n",
       "      <td>0</td>\n",
       "      <td>Yes</td>\n",
       "      <td>No</td>\n",
       "    </tr>\n",
       "    <tr>\n",
       "      <td>1</td>\n",
       "      <td>5575-GNVDE</td>\n",
       "      <td>Male</td>\n",
       "      <td>0</td>\n",
       "      <td>No</td>\n",
       "      <td>No</td>\n",
       "    </tr>\n",
       "    <tr>\n",
       "      <td>2</td>\n",
       "      <td>3668-QPYBK</td>\n",
       "      <td>Male</td>\n",
       "      <td>0</td>\n",
       "      <td>No</td>\n",
       "      <td>No</td>\n",
       "    </tr>\n",
       "    <tr>\n",
       "      <td>3</td>\n",
       "      <td>7795-CFOCW</td>\n",
       "      <td>Male</td>\n",
       "      <td>0</td>\n",
       "      <td>No</td>\n",
       "      <td>No</td>\n",
       "    </tr>\n",
       "    <tr>\n",
       "      <td>4</td>\n",
       "      <td>9237-HQITU</td>\n",
       "      <td>Female</td>\n",
       "      <td>0</td>\n",
       "      <td>No</td>\n",
       "      <td>No</td>\n",
       "    </tr>\n",
       "  </tbody>\n",
       "</table>\n",
       "</div>"
      ],
      "text/plain": [
       "   customerID  gender  SeniorCitizen Partner Dependents\n",
       "0  7590-VHVEG  Female              0     Yes         No\n",
       "1  5575-GNVDE    Male              0      No         No\n",
       "2  3668-QPYBK    Male              0      No         No\n",
       "3  7795-CFOCW    Male              0      No         No\n",
       "4  9237-HQITU  Female              0      No         No"
      ]
     },
     "metadata": {},
     "output_type": "display_data"
    },
    {
     "name": "stdout",
     "output_type": "stream",
     "text": [
      "<class 'pandas.core.frame.DataFrame'>\n",
      "RangeIndex: 7043 entries, 0 to 7042\n",
      "Data columns (total 5 columns):\n",
      "customerID       7043 non-null object\n",
      "gender           7043 non-null object\n",
      "SeniorCitizen    7043 non-null int64\n",
      "Partner          7043 non-null object\n",
      "Dependents       7043 non-null object\n",
      "dtypes: int64(1), object(4)\n",
      "memory usage: 275.2+ KB\n",
      "None\n"
     ]
    },
    {
     "data": {
      "text/plain": [
       "'Пропуски'"
      ]
     },
     "metadata": {},
     "output_type": "display_data"
    },
    {
     "data": {
      "text/plain": [
       "customerID       0.0\n",
       "gender           0.0\n",
       "SeniorCitizen    0.0\n",
       "Partner          0.0\n",
       "Dependents       0.0\n",
       "dtype: float64"
      ]
     },
     "metadata": {},
     "output_type": "display_data"
    },
    {
     "name": "stdout",
     "output_type": "stream",
     "text": [
      "\n"
     ]
    },
    {
     "data": {
      "text/plain": [
       "'Таблица inet ↓↓↓↓↓↓↓↓↓↓↓↓↓↓↓↓↓↓↓↓↓↓↓↓↓↓↓↓↓↓↓↓↓↓↓↓↓↓↓↓↓↓↓↓↓↓↓↓↓↓↓↓↓↓↓↓↓↓↓↓↓↓↓↓↓↓↓↓↓↓↓↓↓↓↓↓↓↓↓↓'"
      ]
     },
     "metadata": {},
     "output_type": "display_data"
    },
    {
     "data": {
      "text/html": [
       "<div>\n",
       "<style scoped>\n",
       "    .dataframe tbody tr th:only-of-type {\n",
       "        vertical-align: middle;\n",
       "    }\n",
       "\n",
       "    .dataframe tbody tr th {\n",
       "        vertical-align: top;\n",
       "    }\n",
       "\n",
       "    .dataframe thead th {\n",
       "        text-align: right;\n",
       "    }\n",
       "</style>\n",
       "<table border=\"1\" class=\"dataframe\">\n",
       "  <thead>\n",
       "    <tr style=\"text-align: right;\">\n",
       "      <th></th>\n",
       "      <th>customerID</th>\n",
       "      <th>InternetService</th>\n",
       "      <th>OnlineSecurity</th>\n",
       "      <th>OnlineBackup</th>\n",
       "      <th>DeviceProtection</th>\n",
       "      <th>TechSupport</th>\n",
       "      <th>StreamingTV</th>\n",
       "      <th>StreamingMovies</th>\n",
       "    </tr>\n",
       "  </thead>\n",
       "  <tbody>\n",
       "    <tr>\n",
       "      <td>0</td>\n",
       "      <td>7590-VHVEG</td>\n",
       "      <td>DSL</td>\n",
       "      <td>No</td>\n",
       "      <td>Yes</td>\n",
       "      <td>No</td>\n",
       "      <td>No</td>\n",
       "      <td>No</td>\n",
       "      <td>No</td>\n",
       "    </tr>\n",
       "    <tr>\n",
       "      <td>1</td>\n",
       "      <td>5575-GNVDE</td>\n",
       "      <td>DSL</td>\n",
       "      <td>Yes</td>\n",
       "      <td>No</td>\n",
       "      <td>Yes</td>\n",
       "      <td>No</td>\n",
       "      <td>No</td>\n",
       "      <td>No</td>\n",
       "    </tr>\n",
       "    <tr>\n",
       "      <td>2</td>\n",
       "      <td>3668-QPYBK</td>\n",
       "      <td>DSL</td>\n",
       "      <td>Yes</td>\n",
       "      <td>Yes</td>\n",
       "      <td>No</td>\n",
       "      <td>No</td>\n",
       "      <td>No</td>\n",
       "      <td>No</td>\n",
       "    </tr>\n",
       "    <tr>\n",
       "      <td>3</td>\n",
       "      <td>7795-CFOCW</td>\n",
       "      <td>DSL</td>\n",
       "      <td>Yes</td>\n",
       "      <td>No</td>\n",
       "      <td>Yes</td>\n",
       "      <td>Yes</td>\n",
       "      <td>No</td>\n",
       "      <td>No</td>\n",
       "    </tr>\n",
       "    <tr>\n",
       "      <td>4</td>\n",
       "      <td>9237-HQITU</td>\n",
       "      <td>Fiber optic</td>\n",
       "      <td>No</td>\n",
       "      <td>No</td>\n",
       "      <td>No</td>\n",
       "      <td>No</td>\n",
       "      <td>No</td>\n",
       "      <td>No</td>\n",
       "    </tr>\n",
       "  </tbody>\n",
       "</table>\n",
       "</div>"
      ],
      "text/plain": [
       "   customerID InternetService OnlineSecurity OnlineBackup DeviceProtection  \\\n",
       "0  7590-VHVEG             DSL             No          Yes               No   \n",
       "1  5575-GNVDE             DSL            Yes           No              Yes   \n",
       "2  3668-QPYBK             DSL            Yes          Yes               No   \n",
       "3  7795-CFOCW             DSL            Yes           No              Yes   \n",
       "4  9237-HQITU     Fiber optic             No           No               No   \n",
       "\n",
       "  TechSupport StreamingTV StreamingMovies  \n",
       "0          No          No              No  \n",
       "1          No          No              No  \n",
       "2          No          No              No  \n",
       "3         Yes          No              No  \n",
       "4          No          No              No  "
      ]
     },
     "metadata": {},
     "output_type": "display_data"
    },
    {
     "name": "stdout",
     "output_type": "stream",
     "text": [
      "<class 'pandas.core.frame.DataFrame'>\n",
      "RangeIndex: 5517 entries, 0 to 5516\n",
      "Data columns (total 8 columns):\n",
      "customerID          5517 non-null object\n",
      "InternetService     5517 non-null object\n",
      "OnlineSecurity      5517 non-null object\n",
      "OnlineBackup        5517 non-null object\n",
      "DeviceProtection    5517 non-null object\n",
      "TechSupport         5517 non-null object\n",
      "StreamingTV         5517 non-null object\n",
      "StreamingMovies     5517 non-null object\n",
      "dtypes: object(8)\n",
      "memory usage: 344.9+ KB\n",
      "None\n"
     ]
    },
    {
     "data": {
      "text/plain": [
       "'Пропуски'"
      ]
     },
     "metadata": {},
     "output_type": "display_data"
    },
    {
     "data": {
      "text/plain": [
       "customerID          0.0\n",
       "InternetService     0.0\n",
       "OnlineSecurity      0.0\n",
       "OnlineBackup        0.0\n",
       "DeviceProtection    0.0\n",
       "TechSupport         0.0\n",
       "StreamingTV         0.0\n",
       "StreamingMovies     0.0\n",
       "dtype: float64"
      ]
     },
     "metadata": {},
     "output_type": "display_data"
    },
    {
     "name": "stdout",
     "output_type": "stream",
     "text": [
      "\n"
     ]
    },
    {
     "data": {
      "text/plain": [
       "'Таблица phone ↓↓↓↓↓↓↓↓↓↓↓↓↓↓↓↓↓↓↓↓↓↓↓↓↓↓↓↓↓↓↓↓↓↓↓↓↓↓↓↓↓↓↓↓↓↓↓↓↓↓↓↓↓↓↓↓↓↓↓↓↓↓↓↓↓↓↓↓↓↓↓↓↓↓↓↓↓↓↓↓'"
      ]
     },
     "metadata": {},
     "output_type": "display_data"
    },
    {
     "data": {
      "text/html": [
       "<div>\n",
       "<style scoped>\n",
       "    .dataframe tbody tr th:only-of-type {\n",
       "        vertical-align: middle;\n",
       "    }\n",
       "\n",
       "    .dataframe tbody tr th {\n",
       "        vertical-align: top;\n",
       "    }\n",
       "\n",
       "    .dataframe thead th {\n",
       "        text-align: right;\n",
       "    }\n",
       "</style>\n",
       "<table border=\"1\" class=\"dataframe\">\n",
       "  <thead>\n",
       "    <tr style=\"text-align: right;\">\n",
       "      <th></th>\n",
       "      <th>customerID</th>\n",
       "      <th>MultipleLines</th>\n",
       "    </tr>\n",
       "  </thead>\n",
       "  <tbody>\n",
       "    <tr>\n",
       "      <td>0</td>\n",
       "      <td>5575-GNVDE</td>\n",
       "      <td>No</td>\n",
       "    </tr>\n",
       "    <tr>\n",
       "      <td>1</td>\n",
       "      <td>3668-QPYBK</td>\n",
       "      <td>No</td>\n",
       "    </tr>\n",
       "    <tr>\n",
       "      <td>2</td>\n",
       "      <td>9237-HQITU</td>\n",
       "      <td>No</td>\n",
       "    </tr>\n",
       "    <tr>\n",
       "      <td>3</td>\n",
       "      <td>9305-CDSKC</td>\n",
       "      <td>Yes</td>\n",
       "    </tr>\n",
       "    <tr>\n",
       "      <td>4</td>\n",
       "      <td>1452-KIOVK</td>\n",
       "      <td>Yes</td>\n",
       "    </tr>\n",
       "  </tbody>\n",
       "</table>\n",
       "</div>"
      ],
      "text/plain": [
       "   customerID MultipleLines\n",
       "0  5575-GNVDE            No\n",
       "1  3668-QPYBK            No\n",
       "2  9237-HQITU            No\n",
       "3  9305-CDSKC           Yes\n",
       "4  1452-KIOVK           Yes"
      ]
     },
     "metadata": {},
     "output_type": "display_data"
    },
    {
     "name": "stdout",
     "output_type": "stream",
     "text": [
      "<class 'pandas.core.frame.DataFrame'>\n",
      "RangeIndex: 6361 entries, 0 to 6360\n",
      "Data columns (total 2 columns):\n",
      "customerID       6361 non-null object\n",
      "MultipleLines    6361 non-null object\n",
      "dtypes: object(2)\n",
      "memory usage: 99.5+ KB\n",
      "None\n"
     ]
    },
    {
     "data": {
      "text/plain": [
       "'Пропуски'"
      ]
     },
     "metadata": {},
     "output_type": "display_data"
    },
    {
     "data": {
      "text/plain": [
       "customerID       0.0\n",
       "MultipleLines    0.0\n",
       "dtype: float64"
      ]
     },
     "metadata": {},
     "output_type": "display_data"
    },
    {
     "name": "stdout",
     "output_type": "stream",
     "text": [
      "\n"
     ]
    }
   ],
   "source": [
    "tables = cont, pers, inet, phone\n",
    "names = ['cont', 'pers', 'inet', 'phone']\n",
    "line = '↓' * 80\n",
    "\n",
    "for i in range(len(tables)):\n",
    "    display(f'Таблица {names[i]} {line}', tables[i].head())\n",
    "    print(tables[i].info())\n",
    "    display(f'Пропуски', tables[i].isna().mean())\n",
    "    print()"
   ]
  },
  {
   "cell_type": "markdown",
   "metadata": {},
   "source": [
    "Видим, что разные количества строк в таблицах, числа имеют тип \"object\". Столбец EndDate нужно изменить на дату и время.\n",
    "- Количество строк разное т.к. одни пользуются связью, а другие только интернетом.  \n",
    "\n",
    "Исправим тип данных для чисел."
   ]
  },
  {
   "cell_type": "code",
   "execution_count": 5,
   "metadata": {
    "scrolled": false
   },
   "outputs": [],
   "source": [
    "cont['TotalCharges'] = pd.to_numeric(cont['TotalCharges'], errors='coerce')"
   ]
  },
  {
   "cell_type": "markdown",
   "metadata": {},
   "source": [
    "Проверим наличие пропусков, дубликатов. Глянем на распределения значений."
   ]
  },
  {
   "cell_type": "code",
   "execution_count": 6,
   "metadata": {},
   "outputs": [
    {
     "data": {
      "text/plain": [
       "customerID          0.000000\n",
       "BeginDate           0.000000\n",
       "EndDate             0.000000\n",
       "Type                0.000000\n",
       "PaperlessBilling    0.000000\n",
       "PaymentMethod       0.000000\n",
       "MonthlyCharges      0.000000\n",
       "TotalCharges        0.001562\n",
       "dtype: float64"
      ]
     },
     "metadata": {},
     "output_type": "display_data"
    },
    {
     "data": {
      "text/plain": [
       "customerID       0.0\n",
       "gender           0.0\n",
       "SeniorCitizen    0.0\n",
       "Partner          0.0\n",
       "Dependents       0.0\n",
       "dtype: float64"
      ]
     },
     "metadata": {},
     "output_type": "display_data"
    },
    {
     "data": {
      "text/plain": [
       "customerID          0.0\n",
       "InternetService     0.0\n",
       "OnlineSecurity      0.0\n",
       "OnlineBackup        0.0\n",
       "DeviceProtection    0.0\n",
       "TechSupport         0.0\n",
       "StreamingTV         0.0\n",
       "StreamingMovies     0.0\n",
       "dtype: float64"
      ]
     },
     "metadata": {},
     "output_type": "display_data"
    },
    {
     "data": {
      "text/plain": [
       "customerID       0.0\n",
       "MultipleLines    0.0\n",
       "dtype: float64"
      ]
     },
     "metadata": {},
     "output_type": "display_data"
    }
   ],
   "source": [
    "for i in tables:\n",
    "    display(i.isna().mean())"
   ]
  },
  {
   "cell_type": "markdown",
   "metadata": {},
   "source": [
    "Видим, что появились пропуски в таблице cont. Это произошло по причине, что в этих строчках при типе \"object\" были пропуски т.к. люди только что начали пользоваться услугами компании и месяц еще не прошел для выставления общих затрат клиента."
   ]
  },
  {
   "cell_type": "code",
   "execution_count": 7,
   "metadata": {},
   "outputs": [
    {
     "data": {
      "text/html": [
       "<div>\n",
       "<style scoped>\n",
       "    .dataframe tbody tr th:only-of-type {\n",
       "        vertical-align: middle;\n",
       "    }\n",
       "\n",
       "    .dataframe tbody tr th {\n",
       "        vertical-align: top;\n",
       "    }\n",
       "\n",
       "    .dataframe thead th {\n",
       "        text-align: right;\n",
       "    }\n",
       "</style>\n",
       "<table border=\"1\" class=\"dataframe\">\n",
       "  <thead>\n",
       "    <tr style=\"text-align: right;\">\n",
       "      <th></th>\n",
       "      <th>customerID</th>\n",
       "      <th>BeginDate</th>\n",
       "      <th>EndDate</th>\n",
       "      <th>Type</th>\n",
       "      <th>PaperlessBilling</th>\n",
       "      <th>PaymentMethod</th>\n",
       "      <th>MonthlyCharges</th>\n",
       "      <th>TotalCharges</th>\n",
       "    </tr>\n",
       "  </thead>\n",
       "  <tbody>\n",
       "    <tr>\n",
       "      <td>488</td>\n",
       "      <td>4472-LVYGI</td>\n",
       "      <td>2020-02-01</td>\n",
       "      <td>No</td>\n",
       "      <td>Two year</td>\n",
       "      <td>Yes</td>\n",
       "      <td>Bank transfer (automatic)</td>\n",
       "      <td>52.55</td>\n",
       "      <td>NaN</td>\n",
       "    </tr>\n",
       "    <tr>\n",
       "      <td>753</td>\n",
       "      <td>3115-CZMZD</td>\n",
       "      <td>2020-02-01</td>\n",
       "      <td>No</td>\n",
       "      <td>Two year</td>\n",
       "      <td>No</td>\n",
       "      <td>Mailed check</td>\n",
       "      <td>20.25</td>\n",
       "      <td>NaN</td>\n",
       "    </tr>\n",
       "    <tr>\n",
       "      <td>936</td>\n",
       "      <td>5709-LVOEQ</td>\n",
       "      <td>2020-02-01</td>\n",
       "      <td>No</td>\n",
       "      <td>Two year</td>\n",
       "      <td>No</td>\n",
       "      <td>Mailed check</td>\n",
       "      <td>80.85</td>\n",
       "      <td>NaN</td>\n",
       "    </tr>\n",
       "    <tr>\n",
       "      <td>1082</td>\n",
       "      <td>4367-NUYAO</td>\n",
       "      <td>2020-02-01</td>\n",
       "      <td>No</td>\n",
       "      <td>Two year</td>\n",
       "      <td>No</td>\n",
       "      <td>Mailed check</td>\n",
       "      <td>25.75</td>\n",
       "      <td>NaN</td>\n",
       "    </tr>\n",
       "    <tr>\n",
       "      <td>1340</td>\n",
       "      <td>1371-DWPAZ</td>\n",
       "      <td>2020-02-01</td>\n",
       "      <td>No</td>\n",
       "      <td>Two year</td>\n",
       "      <td>No</td>\n",
       "      <td>Credit card (automatic)</td>\n",
       "      <td>56.05</td>\n",
       "      <td>NaN</td>\n",
       "    </tr>\n",
       "    <tr>\n",
       "      <td>3331</td>\n",
       "      <td>7644-OMVMY</td>\n",
       "      <td>2020-02-01</td>\n",
       "      <td>No</td>\n",
       "      <td>Two year</td>\n",
       "      <td>No</td>\n",
       "      <td>Mailed check</td>\n",
       "      <td>19.85</td>\n",
       "      <td>NaN</td>\n",
       "    </tr>\n",
       "    <tr>\n",
       "      <td>3826</td>\n",
       "      <td>3213-VVOLG</td>\n",
       "      <td>2020-02-01</td>\n",
       "      <td>No</td>\n",
       "      <td>Two year</td>\n",
       "      <td>No</td>\n",
       "      <td>Mailed check</td>\n",
       "      <td>25.35</td>\n",
       "      <td>NaN</td>\n",
       "    </tr>\n",
       "    <tr>\n",
       "      <td>4380</td>\n",
       "      <td>2520-SGTTA</td>\n",
       "      <td>2020-02-01</td>\n",
       "      <td>No</td>\n",
       "      <td>Two year</td>\n",
       "      <td>No</td>\n",
       "      <td>Mailed check</td>\n",
       "      <td>20.00</td>\n",
       "      <td>NaN</td>\n",
       "    </tr>\n",
       "    <tr>\n",
       "      <td>5218</td>\n",
       "      <td>2923-ARZLG</td>\n",
       "      <td>2020-02-01</td>\n",
       "      <td>No</td>\n",
       "      <td>One year</td>\n",
       "      <td>Yes</td>\n",
       "      <td>Mailed check</td>\n",
       "      <td>19.70</td>\n",
       "      <td>NaN</td>\n",
       "    </tr>\n",
       "    <tr>\n",
       "      <td>6670</td>\n",
       "      <td>4075-WKNIU</td>\n",
       "      <td>2020-02-01</td>\n",
       "      <td>No</td>\n",
       "      <td>Two year</td>\n",
       "      <td>No</td>\n",
       "      <td>Mailed check</td>\n",
       "      <td>73.35</td>\n",
       "      <td>NaN</td>\n",
       "    </tr>\n",
       "    <tr>\n",
       "      <td>6754</td>\n",
       "      <td>2775-SEFEE</td>\n",
       "      <td>2020-02-01</td>\n",
       "      <td>No</td>\n",
       "      <td>Two year</td>\n",
       "      <td>Yes</td>\n",
       "      <td>Bank transfer (automatic)</td>\n",
       "      <td>61.90</td>\n",
       "      <td>NaN</td>\n",
       "    </tr>\n",
       "  </tbody>\n",
       "</table>\n",
       "</div>"
      ],
      "text/plain": [
       "      customerID  BeginDate EndDate      Type PaperlessBilling  \\\n",
       "488   4472-LVYGI 2020-02-01      No  Two year              Yes   \n",
       "753   3115-CZMZD 2020-02-01      No  Two year               No   \n",
       "936   5709-LVOEQ 2020-02-01      No  Two year               No   \n",
       "1082  4367-NUYAO 2020-02-01      No  Two year               No   \n",
       "1340  1371-DWPAZ 2020-02-01      No  Two year               No   \n",
       "3331  7644-OMVMY 2020-02-01      No  Two year               No   \n",
       "3826  3213-VVOLG 2020-02-01      No  Two year               No   \n",
       "4380  2520-SGTTA 2020-02-01      No  Two year               No   \n",
       "5218  2923-ARZLG 2020-02-01      No  One year              Yes   \n",
       "6670  4075-WKNIU 2020-02-01      No  Two year               No   \n",
       "6754  2775-SEFEE 2020-02-01      No  Two year              Yes   \n",
       "\n",
       "                  PaymentMethod  MonthlyCharges  TotalCharges  \n",
       "488   Bank transfer (automatic)           52.55           NaN  \n",
       "753                Mailed check           20.25           NaN  \n",
       "936                Mailed check           80.85           NaN  \n",
       "1082               Mailed check           25.75           NaN  \n",
       "1340    Credit card (automatic)           56.05           NaN  \n",
       "3331               Mailed check           19.85           NaN  \n",
       "3826               Mailed check           25.35           NaN  \n",
       "4380               Mailed check           20.00           NaN  \n",
       "5218               Mailed check           19.70           NaN  \n",
       "6670               Mailed check           73.35           NaN  \n",
       "6754  Bank transfer (automatic)           61.90           NaN  "
      ]
     },
     "execution_count": 7,
     "metadata": {},
     "output_type": "execute_result"
    }
   ],
   "source": [
    "cont[cont['TotalCharges'].isna()]"
   ]
  },
  {
   "cell_type": "markdown",
   "metadata": {},
   "source": [
    "Т.к. у нас инфа о договорах актуальна на 1 февраля 2020 года, мы видим пропуски в столбце \"TotalCharges\" как раз у тех людей кто в этот день и приобрел услуги и у них еще нет выписки и соответственно от сюда и возникли пропуски. Заменим тут пропуски на месячные сборы, потому что по сути они уже все оплатили когда приобретали услугу и не важно, будут ли они пользоваться или нет, все оплачено."
   ]
  },
  {
   "cell_type": "code",
   "execution_count": 8,
   "metadata": {},
   "outputs": [],
   "source": [
    "cont['TotalCharges'] = cont['TotalCharges'].fillna(cont['MonthlyCharges'])"
   ]
  },
  {
   "cell_type": "code",
   "execution_count": 9,
   "metadata": {},
   "outputs": [
    {
     "data": {
      "text/plain": [
       "'В таблице cont 0 дубликатов'"
      ]
     },
     "metadata": {},
     "output_type": "display_data"
    },
    {
     "data": {
      "text/plain": [
       "'В таблице pers 0 дубликатов'"
      ]
     },
     "metadata": {},
     "output_type": "display_data"
    },
    {
     "data": {
      "text/plain": [
       "'В таблице inet 0 дубликатов'"
      ]
     },
     "metadata": {},
     "output_type": "display_data"
    },
    {
     "data": {
      "text/plain": [
       "'В таблице phone 0 дубликатов'"
      ]
     },
     "metadata": {},
     "output_type": "display_data"
    }
   ],
   "source": [
    "for i in range(len(tables)):\n",
    "    display(f'В таблице {names[i]} {tables[i].duplicated().sum()} дубликатов')"
   ]
  },
  {
   "cell_type": "code",
   "execution_count": 10,
   "metadata": {},
   "outputs": [
    {
     "data": {
      "text/html": [
       "<div>\n",
       "<style scoped>\n",
       "    .dataframe tbody tr th:only-of-type {\n",
       "        vertical-align: middle;\n",
       "    }\n",
       "\n",
       "    .dataframe tbody tr th {\n",
       "        vertical-align: top;\n",
       "    }\n",
       "\n",
       "    .dataframe thead th {\n",
       "        text-align: right;\n",
       "    }\n",
       "</style>\n",
       "<table border=\"1\" class=\"dataframe\">\n",
       "  <thead>\n",
       "    <tr style=\"text-align: right;\">\n",
       "      <th></th>\n",
       "      <th>MonthlyCharges</th>\n",
       "      <th>TotalCharges</th>\n",
       "    </tr>\n",
       "  </thead>\n",
       "  <tbody>\n",
       "    <tr>\n",
       "      <td>count</td>\n",
       "      <td>7043.000000</td>\n",
       "      <td>7043.000000</td>\n",
       "    </tr>\n",
       "    <tr>\n",
       "      <td>mean</td>\n",
       "      <td>64.761692</td>\n",
       "      <td>2279.798992</td>\n",
       "    </tr>\n",
       "    <tr>\n",
       "      <td>std</td>\n",
       "      <td>30.090047</td>\n",
       "      <td>2266.730170</td>\n",
       "    </tr>\n",
       "    <tr>\n",
       "      <td>min</td>\n",
       "      <td>18.250000</td>\n",
       "      <td>18.800000</td>\n",
       "    </tr>\n",
       "    <tr>\n",
       "      <td>25%</td>\n",
       "      <td>35.500000</td>\n",
       "      <td>398.550000</td>\n",
       "    </tr>\n",
       "    <tr>\n",
       "      <td>50%</td>\n",
       "      <td>70.350000</td>\n",
       "      <td>1394.550000</td>\n",
       "    </tr>\n",
       "    <tr>\n",
       "      <td>75%</td>\n",
       "      <td>89.850000</td>\n",
       "      <td>3786.600000</td>\n",
       "    </tr>\n",
       "    <tr>\n",
       "      <td>max</td>\n",
       "      <td>118.750000</td>\n",
       "      <td>8684.800000</td>\n",
       "    </tr>\n",
       "  </tbody>\n",
       "</table>\n",
       "</div>"
      ],
      "text/plain": [
       "       MonthlyCharges  TotalCharges\n",
       "count     7043.000000   7043.000000\n",
       "mean        64.761692   2279.798992\n",
       "std         30.090047   2266.730170\n",
       "min         18.250000     18.800000\n",
       "25%         35.500000    398.550000\n",
       "50%         70.350000   1394.550000\n",
       "75%         89.850000   3786.600000\n",
       "max        118.750000   8684.800000"
      ]
     },
     "execution_count": 10,
     "metadata": {},
     "output_type": "execute_result"
    }
   ],
   "source": [
    "cont.describe()"
   ]
  },
  {
   "cell_type": "markdown",
   "metadata": {},
   "source": [
    "Видно, что средние затраты по месяцам 64, а по общей инфе 2283. Так аномалий не наблюдаю. Взглянем на графике."
   ]
  },
  {
   "cell_type": "code",
   "execution_count": 11,
   "metadata": {},
   "outputs": [],
   "source": [
    "def hist(df, name='График ...', x='Ось х', y='Ось y', xlim=(None, None)):\n",
    "    plt.figure(figsize=(14, 8))\n",
    "    plt.hist(df, bins=150, alpha=0.5)\n",
    "    plt.title(name)\n",
    "    plt.xlabel(x)\n",
    "    plt.ylabel(y)\n",
    "    plt.xlim(xlim)\n",
    "    plt.show()"
   ]
  },
  {
   "cell_type": "code",
   "execution_count": 12,
   "metadata": {},
   "outputs": [
    {
     "data": {
      "image/png": "[encoded data removed]",
      "text/plain": [
       "<Figure size 1008x576 with 1 Axes>"
      ]
     },
     "metadata": {
      "needs_background": "light"
     },
     "output_type": "display_data"
    },
    {
     "data": {
      "image/png": "[encoded data removed]",
      "text/plain": [
       "<Figure size 1008x576 with 1 Axes>"
      ]
     },
     "metadata": {
      "needs_background": "light"
     },
     "output_type": "display_data"
    }
   ],
   "source": [
    "hist(cont.MonthlyCharges,\n",
    "     'График ежемесячных затрат',\n",
    "     'График 1. Сумма затрат ($)',\n",
    "     'Количетсво клиентов (шт)')\n",
    "hist(cont.TotalCharges,\n",
    "     'График затрат за все время пользования услугми',\n",
    "     'График 2. Сумма затрат ($)',\n",
    "     'Количетсво клиентов (шт)')"
   ]
  },
  {
   "cell_type": "markdown",
   "metadata": {},
   "source": [
    "- По графику 1 видно, что большенство людей тратят в месяц прмерно минимальную  сумму, видимо им много не надо. Остальные люди тратят по разному и этот разброс +- одинаковый. Но тут интересные пики - это бимодальность (бимодальное распределние) . Возможно есть оптимальные для многих параметры которые берут люди и платят примерно одинаковое число денег за услуги.\n",
    "- По графику 2 видно, что это распределение Пуассона. Распределение смещено влево, а с увеличением затрат становитс симметричным и уходит вправо. Больше всего минимальных затрат, видимо людям не нрав что-то и они прекращают позьзоваться сервисом."
   ]
  },
  {
   "cell_type": "code",
   "execution_count": 13,
   "metadata": {},
   "outputs": [
    {
     "data": {
      "image/png": "[encoded data removed]",
      "text/plain": [
       "<Figure size 432x288 with 1 Axes>"
      ]
     },
     "metadata": {
      "needs_background": "light"
     },
     "output_type": "display_data"
    },
    {
     "data": {
      "image/png": "[encoded data removed]",
      "text/plain": [
       "<Figure size 432x288 with 1 Axes>"
      ]
     },
     "metadata": {
      "needs_background": "light"
     },
     "output_type": "display_data"
    }
   ],
   "source": [
    "cont.boxplot('MonthlyCharges')\n",
    "plt.show()\n",
    "\n",
    "cont.boxplot('TotalCharges')\n",
    "plt.show()"
   ]
  },
  {
   "cell_type": "markdown",
   "metadata": {},
   "source": [
    "Аномалий по ящику с усами не наблюдаем."
   ]
  },
  {
   "cell_type": "markdown",
   "metadata": {},
   "source": [
    "# Разметка для target"
   ]
  },
  {
   "cell_type": "markdown",
   "metadata": {},
   "source": [
    "У нас есть столбец EndData которая показывает ушел человек или еще пользуется услугой. Сделаем наш целевой признак.\n",
    "- 0 - не ушел\n",
    "- 1 - ушел."
   ]
  },
  {
   "cell_type": "code",
   "execution_count": 14,
   "metadata": {
    "scrolled": false
   },
   "outputs": [],
   "source": [
    "cont['target'] = cont['EndDate'].apply(lambda x: x != 'No') * 1"
   ]
  },
  {
   "cell_type": "markdown",
   "metadata": {},
   "source": [
    "Исправим EndDate, а пропуски заменим на сегоднейшую дату, чтобы рассчитать время жизни клиента."
   ]
  },
  {
   "cell_type": "code",
   "execution_count": 15,
   "metadata": {},
   "outputs": [],
   "source": [
    "cont['EndDate'] = pd.to_datetime(cont['EndDate'], format='%Y-%m-%d', errors='coerce')\n",
    "cont['EndDate'] = cont['EndDate'].fillna(pd.Timestamp('2020-02-01'))"
   ]
  },
  {
   "cell_type": "markdown",
   "metadata": {},
   "source": [
    "Объединим таблицы, чтобы создать признаки."
   ]
  },
  {
   "cell_type": "code",
   "execution_count": 16,
   "metadata": {},
   "outputs": [],
   "source": [
    "df = cont.merge(pers, on='customerID', how='outer')\n",
    "df = df.merge(inet, on='customerID', how='outer')\n",
    "df = df.merge(phone, on='customerID', how='outer')\n",
    "df = df.fillna('No')"
   ]
  },
  {
   "cell_type": "markdown",
   "metadata": {},
   "source": [
    "Создадим еще признаки - время жизни клиента в компании (все признаки кроме 'days' будут округлены в меньшую сторону. К примеру, если 7 дней не прошло, значит неделя не засчитана)"
   ]
  },
  {
   "cell_type": "code",
   "execution_count": 17,
   "metadata": {},
   "outputs": [],
   "source": [
    "df['days'] = (df['EndDate'] - df['BeginDate']).dt.days\n",
    "df['weeks'] = (df['EndDate']-df['BeginDate']).apply(lambda x: x/np.timedelta64(1,'W')).astype(int)\n",
    "df['months'] = (df['EndDate']-df['BeginDate']).apply(lambda x: x/np.timedelta64(1,'M')).astype(int)\n",
    "df['years'] = (df['EndDate']-df['BeginDate']).apply(lambda x: x/np.timedelta64(1,'Y')).astype(int)"
   ]
  },
  {
   "cell_type": "markdown",
   "metadata": {},
   "source": [
    "Проверим на мультиколлинеарность признаки которыя я создал."
   ]
  },
  {
   "cell_type": "code",
   "execution_count": 18,
   "metadata": {},
   "outputs": [
    {
     "data": {
      "text/plain": [
       "array([3.98373492e+00, 1.61055069e-02, 3.26248414e-06, 1.56306445e-04])"
      ]
     },
     "execution_count": 18,
     "metadata": {},
     "output_type": "execute_result"
    }
   ],
   "source": [
    "data_test = df[['days', 'weeks', 'months', 'years']]\n",
    "corr = np.corrcoef(data_test, rowvar=0)\n",
    "w, v = np.linalg.eig(corr)\n",
    "w"
   ]
  },
  {
   "cell_type": "markdown",
   "metadata": {},
   "source": [
    "Мультиколлинеарность между признаками 'weeks', 'months', 'years' очень сильная т.к. значения близки к 0. Удалим их."
   ]
  },
  {
   "cell_type": "code",
   "execution_count": 19,
   "metadata": {},
   "outputs": [],
   "source": [
    "df = df.drop(['weeks', 'months', 'years'], axis=1)"
   ]
  },
  {
   "cell_type": "markdown",
   "metadata": {},
   "source": [
    "Добавим признак, количество сервисов."
   ]
  },
  {
   "cell_type": "code",
   "execution_count": 20,
   "metadata": {},
   "outputs": [],
   "source": [
    "columns = 'OnlineSecurity, OnlineBackup, DeviceProtection, TechSupport, StreamingTV, StreamingMovies, MultipleLines'\n",
    "columns = columns.split(', ')\n",
    "\n",
    "def number_of_services(df):\n",
    "    return (df[columns] == 'Yes').sum()"
   ]
  },
  {
   "cell_type": "code",
   "execution_count": 21,
   "metadata": {},
   "outputs": [
    {
     "data": {
      "application/vnd.jupyter.widget-view+json": {
       "model_id": "886fcc4b596042b1a65740f658b1ab80",
       "version_major": 2,
       "version_minor": 0
      },
      "text/plain": [
       "HBox(children=(HTML(value='Loading '), FloatProgress(value=0.0, max=7043.0), HTML(value='')))"
      ]
     },
     "metadata": {},
     "output_type": "display_data"
    },
    {
     "name": "stdout",
     "output_type": "stream",
     "text": [
      "\n"
     ]
    }
   ],
   "source": [
    "df['number_of_services'] = df.progress_apply(number_of_services, axis=1)"
   ]
  },
  {
   "cell_type": "code",
   "execution_count": 22,
   "metadata": {},
   "outputs": [
    {
     "data": {
      "text/html": [
       "<div>\n",
       "<style scoped>\n",
       "    .dataframe tbody tr th:only-of-type {\n",
       "        vertical-align: middle;\n",
       "    }\n",
       "\n",
       "    .dataframe tbody tr th {\n",
       "        vertical-align: top;\n",
       "    }\n",
       "\n",
       "    .dataframe thead th {\n",
       "        text-align: right;\n",
       "    }\n",
       "</style>\n",
       "<table border=\"1\" class=\"dataframe\">\n",
       "  <thead>\n",
       "    <tr style=\"text-align: right;\">\n",
       "      <th></th>\n",
       "      <th>customerID</th>\n",
       "      <th>BeginDate</th>\n",
       "      <th>EndDate</th>\n",
       "      <th>Type</th>\n",
       "      <th>PaperlessBilling</th>\n",
       "      <th>PaymentMethod</th>\n",
       "      <th>MonthlyCharges</th>\n",
       "      <th>TotalCharges</th>\n",
       "      <th>target</th>\n",
       "      <th>gender</th>\n",
       "      <th>SeniorCitizen</th>\n",
       "      <th>Partner</th>\n",
       "      <th>Dependents</th>\n",
       "      <th>InternetService</th>\n",
       "      <th>OnlineSecurity</th>\n",
       "      <th>OnlineBackup</th>\n",
       "      <th>DeviceProtection</th>\n",
       "      <th>TechSupport</th>\n",
       "      <th>StreamingTV</th>\n",
       "      <th>StreamingMovies</th>\n",
       "      <th>MultipleLines</th>\n",
       "      <th>days</th>\n",
       "      <th>number_of_services</th>\n",
       "    </tr>\n",
       "  </thead>\n",
       "  <tbody>\n",
       "    <tr>\n",
       "      <td>0</td>\n",
       "      <td>7590-VHVEG</td>\n",
       "      <td>2020-01-01</td>\n",
       "      <td>2020-02-01</td>\n",
       "      <td>Month-to-month</td>\n",
       "      <td>Yes</td>\n",
       "      <td>Electronic check</td>\n",
       "      <td>29.85</td>\n",
       "      <td>29.85</td>\n",
       "      <td>0</td>\n",
       "      <td>Female</td>\n",
       "      <td>0</td>\n",
       "      <td>Yes</td>\n",
       "      <td>No</td>\n",
       "      <td>DSL</td>\n",
       "      <td>No</td>\n",
       "      <td>Yes</td>\n",
       "      <td>No</td>\n",
       "      <td>No</td>\n",
       "      <td>No</td>\n",
       "      <td>No</td>\n",
       "      <td>No</td>\n",
       "      <td>31</td>\n",
       "      <td>1</td>\n",
       "    </tr>\n",
       "    <tr>\n",
       "      <td>1</td>\n",
       "      <td>5575-GNVDE</td>\n",
       "      <td>2017-04-01</td>\n",
       "      <td>2020-02-01</td>\n",
       "      <td>One year</td>\n",
       "      <td>No</td>\n",
       "      <td>Mailed check</td>\n",
       "      <td>56.95</td>\n",
       "      <td>1889.50</td>\n",
       "      <td>0</td>\n",
       "      <td>Male</td>\n",
       "      <td>0</td>\n",
       "      <td>No</td>\n",
       "      <td>No</td>\n",
       "      <td>DSL</td>\n",
       "      <td>Yes</td>\n",
       "      <td>No</td>\n",
       "      <td>Yes</td>\n",
       "      <td>No</td>\n",
       "      <td>No</td>\n",
       "      <td>No</td>\n",
       "      <td>No</td>\n",
       "      <td>1036</td>\n",
       "      <td>2</td>\n",
       "    </tr>\n",
       "    <tr>\n",
       "      <td>2</td>\n",
       "      <td>3668-QPYBK</td>\n",
       "      <td>2019-10-01</td>\n",
       "      <td>2019-12-01</td>\n",
       "      <td>Month-to-month</td>\n",
       "      <td>Yes</td>\n",
       "      <td>Mailed check</td>\n",
       "      <td>53.85</td>\n",
       "      <td>108.15</td>\n",
       "      <td>1</td>\n",
       "      <td>Male</td>\n",
       "      <td>0</td>\n",
       "      <td>No</td>\n",
       "      <td>No</td>\n",
       "      <td>DSL</td>\n",
       "      <td>Yes</td>\n",
       "      <td>Yes</td>\n",
       "      <td>No</td>\n",
       "      <td>No</td>\n",
       "      <td>No</td>\n",
       "      <td>No</td>\n",
       "      <td>No</td>\n",
       "      <td>61</td>\n",
       "      <td>2</td>\n",
       "    </tr>\n",
       "    <tr>\n",
       "      <td>3</td>\n",
       "      <td>7795-CFOCW</td>\n",
       "      <td>2016-05-01</td>\n",
       "      <td>2020-02-01</td>\n",
       "      <td>One year</td>\n",
       "      <td>No</td>\n",
       "      <td>Bank transfer (automatic)</td>\n",
       "      <td>42.30</td>\n",
       "      <td>1840.75</td>\n",
       "      <td>0</td>\n",
       "      <td>Male</td>\n",
       "      <td>0</td>\n",
       "      <td>No</td>\n",
       "      <td>No</td>\n",
       "      <td>DSL</td>\n",
       "      <td>Yes</td>\n",
       "      <td>No</td>\n",
       "      <td>Yes</td>\n",
       "      <td>Yes</td>\n",
       "      <td>No</td>\n",
       "      <td>No</td>\n",
       "      <td>No</td>\n",
       "      <td>1371</td>\n",
       "      <td>3</td>\n",
       "    </tr>\n",
       "    <tr>\n",
       "      <td>4</td>\n",
       "      <td>9237-HQITU</td>\n",
       "      <td>2019-09-01</td>\n",
       "      <td>2019-11-01</td>\n",
       "      <td>Month-to-month</td>\n",
       "      <td>Yes</td>\n",
       "      <td>Electronic check</td>\n",
       "      <td>70.70</td>\n",
       "      <td>151.65</td>\n",
       "      <td>1</td>\n",
       "      <td>Female</td>\n",
       "      <td>0</td>\n",
       "      <td>No</td>\n",
       "      <td>No</td>\n",
       "      <td>Fiber optic</td>\n",
       "      <td>No</td>\n",
       "      <td>No</td>\n",
       "      <td>No</td>\n",
       "      <td>No</td>\n",
       "      <td>No</td>\n",
       "      <td>No</td>\n",
       "      <td>No</td>\n",
       "      <td>61</td>\n",
       "      <td>0</td>\n",
       "    </tr>\n",
       "  </tbody>\n",
       "</table>\n",
       "</div>"
      ],
      "text/plain": [
       "   customerID  BeginDate    EndDate            Type PaperlessBilling  \\\n",
       "0  7590-VHVEG 2020-01-01 2020-02-01  Month-to-month              Yes   \n",
       "1  5575-GNVDE 2017-04-01 2020-02-01        One year               No   \n",
       "2  3668-QPYBK 2019-10-01 2019-12-01  Month-to-month              Yes   \n",
       "3  7795-CFOCW 2016-05-01 2020-02-01        One year               No   \n",
       "4  9237-HQITU 2019-09-01 2019-11-01  Month-to-month              Yes   \n",
       "\n",
       "               PaymentMethod  MonthlyCharges  TotalCharges  target  gender  \\\n",
       "0           Electronic check           29.85         29.85       0  Female   \n",
       "1               Mailed check           56.95       1889.50       0    Male   \n",
       "2               Mailed check           53.85        108.15       1    Male   \n",
       "3  Bank transfer (automatic)           42.30       1840.75       0    Male   \n",
       "4           Electronic check           70.70        151.65       1  Female   \n",
       "\n",
       "   SeniorCitizen Partner Dependents InternetService OnlineSecurity  \\\n",
       "0              0     Yes         No             DSL             No   \n",
       "1              0      No         No             DSL            Yes   \n",
       "2              0      No         No             DSL            Yes   \n",
       "3              0      No         No             DSL            Yes   \n",
       "4              0      No         No     Fiber optic             No   \n",
       "\n",
       "  OnlineBackup DeviceProtection TechSupport StreamingTV StreamingMovies  \\\n",
       "0          Yes               No          No          No              No   \n",
       "1           No              Yes          No          No              No   \n",
       "2          Yes               No          No          No              No   \n",
       "3           No              Yes         Yes          No              No   \n",
       "4           No               No          No          No              No   \n",
       "\n",
       "  MultipleLines  days  number_of_services  \n",
       "0            No    31                   1  \n",
       "1            No  1036                   2  \n",
       "2            No    61                   2  \n",
       "3            No  1371                   3  \n",
       "4            No    61                   0  "
      ]
     },
     "execution_count": 22,
     "metadata": {},
     "output_type": "execute_result"
    }
   ],
   "source": [
    "df.head()"
   ]
  },
  {
   "cell_type": "markdown",
   "metadata": {},
   "source": [
    "Взглянем на время жизни клиентов на графике"
   ]
  },
  {
   "cell_type": "code",
   "execution_count": 23,
   "metadata": {},
   "outputs": [
    {
     "data": {
      "image/png": "[encoded data removed]",
      "text/plain": [
       "<Figure size 1008x576 with 1 Axes>"
      ]
     },
     "metadata": {
      "needs_background": "light"
     },
     "output_type": "display_data"
    }
   ],
   "source": [
    "hist(df.days, 'График \"время жизни клиента\"',\n",
    "     'Количество дней (шт)',\n",
    "     'Количетсво клиентов (шт)')"
   ]
  },
  {
   "cell_type": "code",
   "execution_count": 24,
   "metadata": {},
   "outputs": [
    {
     "data": {
      "image/png": "[encoded data removed]",
      "text/plain": [
       "<Figure size 1008x576 with 1 Axes>"
      ]
     },
     "metadata": {
      "needs_background": "light"
     },
     "output_type": "display_data"
    }
   ],
   "source": [
    "hist(df.days, 'График \"время жизни клиента\"',\n",
    "     'Количество дней (шт)',\n",
    "     'Количетсво клиентов (шт)',\n",
    "    xlim=(0, 250))"
   ]
  },
  {
   "cell_type": "markdown",
   "metadata": {},
   "source": [
    "График у нас в начале очень сильно отличается, т.к. многие уходят после 1 месяца пользования (это видно на сокращение клиентов во 2 месяце). Затем все стабилизируется и так же много людей в хвосте которые давно пользуются услугами компании."
   ]
  },
  {
   "cell_type": "code",
   "execution_count": 25,
   "metadata": {},
   "outputs": [
    {
     "data": {
      "image/png": "[encoded data removed]",
      "text/plain": [
       "<Figure size 432x288 with 1 Axes>"
      ]
     },
     "metadata": {
      "needs_background": "light"
     },
     "output_type": "display_data"
    }
   ],
   "source": [
    "plt.boxplot(df.days)\n",
    "plt.show()"
   ]
  },
  {
   "cell_type": "markdown",
   "metadata": {},
   "source": [
    "Аномалий так же нет, данные распределены нормально."
   ]
  },
  {
   "cell_type": "markdown",
   "metadata": {},
   "source": [
    "# Поиск модели"
   ]
  },
  {
   "cell_type": "markdown",
   "metadata": {},
   "source": [
    "Закодирую признаки с категориями и создам переменные с признаками и целевым. Но сначала избавлюсь от ненужных признаков."
   ]
  },
  {
   "cell_type": "code",
   "execution_count": 26,
   "metadata": {},
   "outputs": [],
   "source": [
    "df_final = df.drop(['customerID', 'BeginDate', 'EndDate'], axis=1)"
   ]
  },
  {
   "cell_type": "code",
   "execution_count": 27,
   "metadata": {},
   "outputs": [
    {
     "data": {
      "text/plain": [
       "(7043, 24)"
      ]
     },
     "execution_count": 27,
     "metadata": {},
     "output_type": "execute_result"
    }
   ],
   "source": [
    "df_ohe = pd.get_dummies(df_final, drop_first=True)\n",
    "df_ohe.shape"
   ]
  },
  {
   "cell_type": "code",
   "execution_count": 28,
   "metadata": {},
   "outputs": [],
   "source": [
    "y = df_ohe['target']\n",
    "X = df_ohe.drop('target', axis=1)"
   ]
  },
  {
   "cell_type": "markdown",
   "metadata": {},
   "source": [
    "Сделаю 2 выборки с размерами 70/30 (train/test)."
   ]
  },
  {
   "cell_type": "code",
   "execution_count": 29,
   "metadata": {},
   "outputs": [
    {
     "data": {
      "text/plain": [
       "((4930, 23), (2113, 23))"
      ]
     },
     "execution_count": 29,
     "metadata": {},
     "output_type": "execute_result"
    }
   ],
   "source": [
    "X_train, X_test, y_train, y_test = train_test_split(X, y,\n",
    "                                                    test_size=0.3,\n",
    "                                                    random_state=12345,\n",
    "                                                    stratify=y)\n",
    "X_train.shape, X_test.shape"
   ]
  },
  {
   "cell_type": "markdown",
   "metadata": {},
   "source": [
    "Проверим дисбаланс классов"
   ]
  },
  {
   "cell_type": "code",
   "execution_count": 30,
   "metadata": {},
   "outputs": [],
   "source": [
    "def checking_classes(features, target):\n",
    "    features_zeros = features[target == 0]\n",
    "    features_ones = features[target == 1]\n",
    "    target_zeros = target[target == 0]\n",
    "    target_ones = target[target == 1]\n",
    "\n",
    "    return print(features_zeros.shape,\n",
    "                 features_ones.shape,\n",
    "                 target_zeros.shape,\n",
    "                 target_ones.shape, sep='\\n')"
   ]
  },
  {
   "cell_type": "code",
   "execution_count": 31,
   "metadata": {},
   "outputs": [
    {
     "name": "stdout",
     "output_type": "stream",
     "text": [
      "(3622, 23)\n",
      "(1308, 23)\n",
      "(3622,)\n",
      "(1308,)\n"
     ]
    }
   ],
   "source": [
    "checking_classes(X_train, y_train)"
   ]
  },
  {
   "cell_type": "markdown",
   "metadata": {},
   "source": [
    "Видим, что класс 1 почти в 3 раза меньше. Приведем баланс классов в норму"
   ]
  },
  {
   "cell_type": "code",
   "execution_count": 32,
   "metadata": {},
   "outputs": [],
   "source": [
    "def upsample(features, target, repeat):\n",
    "    features_zeros = features[target == 0]\n",
    "    features_ones = features[target == 1]\n",
    "    target_zeros = target[target == 0]\n",
    "    target_ones = target[target == 1]\n",
    "    \n",
    "    features_upsampled = pd.concat([features_zeros] + [features_ones] * repeat)\n",
    "    target_upsampled = pd.concat([target_zeros] + [target_ones] * repeat)\n",
    "    \n",
    "    return shuffle(features_upsampled, target_upsampled, random_state=12345)"
   ]
  },
  {
   "cell_type": "code",
   "execution_count": 33,
   "metadata": {},
   "outputs": [
    {
     "name": "stdout",
     "output_type": "stream",
     "text": [
      "(7546, 23)\n",
      "(7546,)\n"
     ]
    }
   ],
   "source": [
    "X_train, y_train = upsample(X_train, y_train, 3)\n",
    "print(X_train.shape)\n",
    "print(y_train.shape)"
   ]
  },
  {
   "cell_type": "code",
   "execution_count": 34,
   "metadata": {},
   "outputs": [
    {
     "name": "stdout",
     "output_type": "stream",
     "text": [
      "(3622, 23)\n",
      "(3924, 23)\n",
      "(3622,)\n",
      "(3924,)\n"
     ]
    }
   ],
   "source": [
    "checking_classes(X_train, y_train)"
   ]
  },
  {
   "cell_type": "markdown",
   "metadata": {},
   "source": [
    "Масштабируем признаки"
   ]
  },
  {
   "cell_type": "code",
   "execution_count": 35,
   "metadata": {},
   "outputs": [],
   "source": [
    "numeric = 'MonthlyCharges, TotalCharges, days, number_of_services'\n",
    "numeric = numeric.split(', ')\n",
    "\n",
    "scaler = StandardScaler()\n",
    "scaler.fit(X_train[numeric])\n",
    "X_train[numeric] = scaler.transform(X_train[numeric])\n",
    "X_test[numeric] = scaler.transform(X_test[numeric])"
   ]
  },
  {
   "cell_type": "markdown",
   "metadata": {},
   "source": [
    "Данные готовы, теперь займемся поиском модели. Глянем на логистическую регрессию, рещающее дерево, случайны лес и бустинг."
   ]
  },
  {
   "cell_type": "code",
   "execution_count": 36,
   "metadata": {},
   "outputs": [
    {
     "name": "stdout",
     "output_type": "stream",
     "text": [
      "[0.77350993 0.76688742 0.78263751 0.77137177 0.75530504]\n",
      "0.769942333689701\n"
     ]
    }
   ],
   "source": [
    "lienar_model = LogisticRegression(random_state=12345, class_weight='balanced')\n",
    "score = cross_val_score(lienar_model, X_train, y_train, cv=5, scoring='accuracy')\n",
    "print(score)\n",
    "print(score.mean())"
   ]
  },
  {
   "cell_type": "code",
   "execution_count": 37,
   "metadata": {},
   "outputs": [
    {
     "name": "stdout",
     "output_type": "stream",
     "text": [
      "[0.91059603 0.89205298 0.90125911 0.91053678 0.8938992 ]\n",
      "0.9016688204370604\n"
     ]
    }
   ],
   "source": [
    "three_model = DecisionTreeClassifier(random_state=12345, class_weight='balanced')\n",
    "score = cross_val_score(three_model, X_train, y_train, cv=5, scoring='accuracy')\n",
    "print(score)\n",
    "print(score.mean())"
   ]
  },
  {
   "cell_type": "code",
   "execution_count": 38,
   "metadata": {},
   "outputs": [
    {
     "name": "stdout",
     "output_type": "stream",
     "text": [
      "[0.91324503 0.89271523 0.91385023 0.92047714 0.90450928]\n",
      "0.9089593835677825\n"
     ]
    }
   ],
   "source": [
    "forest_model = RandomForestClassifier(random_state=12345, class_weight='balanced')\n",
    "score = cross_val_score(forest_model, X_train, y_train, cv=5, scoring='accuracy')\n",
    "print(score)\n",
    "print(score.mean())"
   ]
  },
  {
   "cell_type": "code",
   "execution_count": 39,
   "metadata": {},
   "outputs": [
    {
     "name": "stdout",
     "output_type": "stream",
     "text": [
      "Learning rate set to 0.081463\n",
      "0:\tlearn: 0.6535396\ttotal: 52ms\tremaining: 15.5s\n",
      "299:\tlearn: 0.2325119\ttotal: 6.07s\tremaining: 0us\n",
      "Learning rate set to 0.081463\n",
      "0:\tlearn: 0.6530162\ttotal: 3.27ms\tremaining: 977ms\n",
      "299:\tlearn: 0.2340966\ttotal: 6.07s\tremaining: 0us\n",
      "Learning rate set to 0.081467\n",
      "0:\tlearn: 0.6542183\ttotal: 3.4ms\tremaining: 1.02s\n",
      "299:\tlearn: 0.2334244\ttotal: 5.5s\tremaining: 0us\n",
      "Learning rate set to 0.081467\n",
      "0:\tlearn: 0.6530335\ttotal: 3.33ms\tremaining: 997ms\n",
      "299:\tlearn: 0.2345746\ttotal: 5.7s\tremaining: 0us\n",
      "Learning rate set to 0.081471\n",
      "0:\tlearn: 0.6523801\ttotal: 3.29ms\tremaining: 984ms\n",
      "299:\tlearn: 0.2282068\ttotal: 5.62s\tremaining: 0us\n",
      "[0.8781457  0.87152318 0.88071571 0.87673956 0.86405836]\n",
      "0.8742364995999028\n"
     ]
    }
   ],
   "source": [
    "cb_model = CatBoostClassifier(random_state=12345, iterations=300, verbose=300)\n",
    "score = cross_val_score(cb_model, X_train, y_train, cv=5, scoring='accuracy')\n",
    "print(score)\n",
    "print(score.mean())"
   ]
  },
  {
   "cell_type": "markdown",
   "metadata": {},
   "source": [
    "Бустинг, случайный лес и дерево решений показали лучшие результаты. Протестируем их и выберем лучшую модель для дальнейшей корректировки признаков."
   ]
  },
  {
   "cell_type": "markdown",
   "metadata": {},
   "source": [
    "Обучим дерево решений."
   ]
  },
  {
   "cell_type": "code",
   "execution_count": 40,
   "metadata": {},
   "outputs": [
    {
     "name": "stdout",
     "output_type": "stream",
     "text": [
      "CPU times: user 939 ms, sys: 13.3 ms, total: 952 ms\n",
      "Wall time: 951 ms\n"
     ]
    },
    {
     "data": {
      "text/plain": [
       "{'max_depth': 11}"
      ]
     },
     "execution_count": 40,
     "metadata": {},
     "output_type": "execute_result"
    }
   ],
   "source": [
    "%%time\n",
    "three_model = DecisionTreeClassifier(class_weight='balanced', random_state=12345)\n",
    "\n",
    "three_params = {'max_depth': range(1, 12, 1)}\n",
    "\n",
    "three_grid = GridSearchCV(three_model, three_params, cv=5, scoring='accuracy')\n",
    "three_grid.fit(X_train, y_train)\n",
    "three_grid.best_params_"
   ]
  },
  {
   "cell_type": "code",
   "execution_count": 41,
   "metadata": {},
   "outputs": [],
   "source": [
    "predictions = three_grid.predict(X_test)\n",
    "three_score = accuracy_score(y_test, predictions)"
   ]
  },
  {
   "cell_type": "code",
   "execution_count": 42,
   "metadata": {},
   "outputs": [],
   "source": [
    "probabilites_logist = three_grid.predict_proba(X_test)\n",
    "probabilites_one_logist = probabilites_logist[:, 1]\n",
    "three_roc_auc = roc_auc_score(y_test, probabilites_one_logist)"
   ]
  },
  {
   "cell_type": "markdown",
   "metadata": {},
   "source": [
    "Обучу алгоритм \"случайны лес\"."
   ]
  },
  {
   "cell_type": "code",
   "execution_count": 43,
   "metadata": {},
   "outputs": [
    {
     "name": "stdout",
     "output_type": "stream",
     "text": [
      "CPU times: user 1min 21s, sys: 589 ms, total: 1min 22s\n",
      "Wall time: 1min 22s\n"
     ]
    },
    {
     "data": {
      "text/plain": [
       "{'max_depth': 10, 'n_estimators': 100}"
      ]
     },
     "execution_count": 43,
     "metadata": {},
     "output_type": "execute_result"
    }
   ],
   "source": [
    "%%time\n",
    "forest_model = RandomForestClassifier(class_weight='balanced', random_state=12345)\n",
    "\n",
    "forest_params = {'max_depth': range(1, 11, 1),\n",
    "                 'n_estimators': range(10, 110, 10)}\n",
    "\n",
    "forest_grid = GridSearchCV(forest_model, forest_params, cv=5, scoring='accuracy')\n",
    "forest_grid.fit(X_train, y_train)\n",
    "forest_grid.best_params_"
   ]
  },
  {
   "cell_type": "code",
   "execution_count": 44,
   "metadata": {},
   "outputs": [],
   "source": [
    "predictions = forest_grid.predict(X_test)\n",
    "forest_score = accuracy_score(y_test, predictions)"
   ]
  },
  {
   "cell_type": "code",
   "execution_count": 45,
   "metadata": {},
   "outputs": [],
   "source": [
    "probabilites_logist = forest_grid.predict_proba(X_test)\n",
    "probabilites_one_logist = probabilites_logist[:, 1]\n",
    "forest_roc_auc = roc_auc_score(y_test, probabilites_one_logist)"
   ]
  },
  {
   "cell_type": "markdown",
   "metadata": {},
   "source": [
    "Обучим бустинг."
   ]
  },
  {
   "cell_type": "code",
   "execution_count": 46,
   "metadata": {},
   "outputs": [
    {
     "name": "stdout",
     "output_type": "stream",
     "text": [
      "0:\tloss: 0.9699071\tbest: 0.9699071 (0)\ttotal: 17.9s\tremaining: 0us\n",
      "Estimating final quality...\n",
      "CPU times: user 1min 53s, sys: 12 s, total: 2min 5s\n",
      "Wall time: 2min 7s\n"
     ]
    }
   ],
   "source": [
    "%%time\n",
    "cat_grid = CatBoostClassifier(loss_function='Logloss',\n",
    "                               eval_metric='AUC',\n",
    "                               task_type='CPU',\n",
    "                               random_seed=12345)\n",
    "\n",
    "cat_params = {'iterations' : [300],\n",
    "              'learning_rate' : [0.1],\n",
    "              'depth': [10]}\n",
    "\n",
    "results = cat_grid.grid_search(cat_params, X=X_train, y=y_train, cv=5)"
   ]
  },
  {
   "cell_type": "code",
   "execution_count": 47,
   "metadata": {},
   "outputs": [
    {
     "name": "stdout",
     "output_type": "stream",
     "text": [
      "{'learn': {'Logloss': 0.08421642237680346}}\n",
      "\n",
      "{'loss_function': 'Logloss', 'random_seed': 12345, 'eval_metric': 'AUC', 'task_type': 'CPU', 'depth': 10, 'iterations': 300, 'learning_rate': 0.1}\n"
     ]
    }
   ],
   "source": [
    "print(cat_grid.get_best_score(), cat_grid.get_params(), sep='\\n\\n')"
   ]
  },
  {
   "cell_type": "code",
   "execution_count": 48,
   "metadata": {},
   "outputs": [
    {
     "name": "stdout",
     "output_type": "stream",
     "text": [
      "0:\ttotal: 10.5ms\tremaining: 3.15s\n",
      "100:\ttotal: 5.16s\tremaining: 10.2s\n",
      "200:\ttotal: 10.6s\tremaining: 5.22s\n",
      "299:\ttotal: 16.8s\tremaining: 0us\n",
      "CPU times: user 15.5 s, sys: 1.5 s, total: 17 s\n",
      "Wall time: 17.7 s\n"
     ]
    },
    {
     "data": {
      "text/plain": [
       "<catboost.core.CatBoostClassifier at 0x7f3a001b2790>"
      ]
     },
     "execution_count": 48,
     "metadata": {},
     "output_type": "execute_result"
    }
   ],
   "source": [
    "%%time\n",
    "cat_grid.fit(X_train, y_train, verbose=100)"
   ]
  },
  {
   "cell_type": "code",
   "execution_count": 49,
   "metadata": {},
   "outputs": [],
   "source": [
    "predictions = cat_grid.predict(X_test)\n",
    "cb_score = accuracy_score(y_test, predictions)"
   ]
  },
  {
   "cell_type": "code",
   "execution_count": 50,
   "metadata": {},
   "outputs": [],
   "source": [
    "probabilites_logist = cat_grid.predict_proba(X_test)\n",
    "probabilites_one_logist = probabilites_logist[:, 1]\n",
    "cb_roc_auc = roc_auc_score(y_test, probabilites_one_logist)"
   ]
  },
  {
   "cell_type": "markdown",
   "metadata": {},
   "source": [
    "Глянем на итоги моделей."
   ]
  },
  {
   "cell_type": "code",
   "execution_count": 51,
   "metadata": {},
   "outputs": [
    {
     "data": {
      "text/html": [
       "<div>\n",
       "<style scoped>\n",
       "    .dataframe tbody tr th:only-of-type {\n",
       "        vertical-align: middle;\n",
       "    }\n",
       "\n",
       "    .dataframe tbody tr th {\n",
       "        vertical-align: top;\n",
       "    }\n",
       "\n",
       "    .dataframe thead th {\n",
       "        text-align: right;\n",
       "    }\n",
       "</style>\n",
       "<table border=\"1\" class=\"dataframe\">\n",
       "  <thead>\n",
       "    <tr style=\"text-align: right;\">\n",
       "      <th></th>\n",
       "      <th>score_accuracy</th>\n",
       "      <th>ROC_AUC</th>\n",
       "    </tr>\n",
       "  </thead>\n",
       "  <tbody>\n",
       "    <tr>\n",
       "      <td>Дерево решений</td>\n",
       "      <td>0.736394</td>\n",
       "      <td>0.789979</td>\n",
       "    </tr>\n",
       "    <tr>\n",
       "      <td>Случайны лес</td>\n",
       "      <td>0.775674</td>\n",
       "      <td>0.853460</td>\n",
       "    </tr>\n",
       "    <tr>\n",
       "      <td>CatBoost</td>\n",
       "      <td>0.822527</td>\n",
       "      <td>0.873985</td>\n",
       "    </tr>\n",
       "  </tbody>\n",
       "</table>\n",
       "</div>"
      ],
      "text/plain": [
       "                score_accuracy   ROC_AUC\n",
       "Дерево решений        0.736394  0.789979\n",
       "Случайны лес          0.775674  0.853460\n",
       "CatBoost              0.822527  0.873985"
      ]
     },
     "execution_count": 51,
     "metadata": {},
     "output_type": "execute_result"
    }
   ],
   "source": [
    "pd.DataFrame(data={'score_accuracy' : [three_score, forest_score, cb_score],\n",
    "                              'ROC_AUC': [three_roc_auc, forest_roc_auc, cb_roc_auc]},\n",
    "                        index=['Дерево решений', 'Случайны лес', 'CatBoost'])"
   ]
  },
  {
   "cell_type": "markdown",
   "metadata": {},
   "source": [
    "После обучения видим, что наша метрика accuracy = 0.82, а ROC_AUC = 0.87. Взглянем на важность признаков."
   ]
  },
  {
   "cell_type": "code",
   "execution_count": 53,
   "metadata": {},
   "outputs": [
    {
     "data": {
      "text/html": [
       "\n",
       "    <style>\n",
       "    table.eli5-weights tr:hover {\n",
       "        filter: brightness(85%);\n",
       "    }\n",
       "</style>\n",
       "\n",
       "\n",
       "\n",
       "    \n",
       "\n",
       "    \n",
       "\n",
       "    \n",
       "\n",
       "    \n",
       "\n",
       "    \n",
       "\n",
       "    \n",
       "\n",
       "\n",
       "    \n",
       "\n",
       "    \n",
       "\n",
       "    \n",
       "\n",
       "    \n",
       "\n",
       "    \n",
       "\n",
       "    \n",
       "\n",
       "\n",
       "    \n",
       "\n",
       "    \n",
       "\n",
       "    \n",
       "\n",
       "    \n",
       "\n",
       "    \n",
       "        <table class=\"eli5-weights eli5-feature-importances\" style=\"border-collapse: collapse; border: none; margin-top: 0em; table-layout: auto;\">\n",
       "    <thead>\n",
       "    <tr style=\"border: none;\">\n",
       "        <th style=\"padding: 0 1em 0 0.5em; text-align: right; border: none;\">Weight</th>\n",
       "        <th style=\"padding: 0 0.5em 0 0.5em; text-align: left; border: none;\">Feature</th>\n",
       "    </tr>\n",
       "    </thead>\n",
       "    <tbody>\n",
       "    \n",
       "        <tr style=\"background-color: hsl(120, 100.00%, 80.00%); border: none;\">\n",
       "            <td style=\"padding: 0 1em 0 0.5em; text-align: right; border: none;\">\n",
       "                0.1271\n",
       "                \n",
       "                    &plusmn; 0.0170\n",
       "                \n",
       "            </td>\n",
       "            <td style=\"padding: 0 0.5em 0 0.5em; text-align: left; border: none;\">\n",
       "                days\n",
       "            </td>\n",
       "        </tr>\n",
       "    \n",
       "        <tr style=\"background-color: hsl(120, 100.00%, 96.23%); border: none;\">\n",
       "            <td style=\"padding: 0 1em 0 0.5em; text-align: right; border: none;\">\n",
       "                0.0117\n",
       "                \n",
       "                    &plusmn; 0.0072\n",
       "                \n",
       "            </td>\n",
       "            <td style=\"padding: 0 0.5em 0 0.5em; text-align: left; border: none;\">\n",
       "                TotalCharges\n",
       "            </td>\n",
       "        </tr>\n",
       "    \n",
       "        <tr style=\"background-color: hsl(120, 100.00%, 97.42%); border: none;\">\n",
       "            <td style=\"padding: 0 1em 0 0.5em; text-align: right; border: none;\">\n",
       "                0.0068\n",
       "                \n",
       "                    &plusmn; 0.0064\n",
       "                \n",
       "            </td>\n",
       "            <td style=\"padding: 0 0.5em 0 0.5em; text-align: left; border: none;\">\n",
       "                InternetService_Fiber optic\n",
       "            </td>\n",
       "        </tr>\n",
       "    \n",
       "        <tr style=\"background-color: hsl(120, 100.00%, 98.09%); border: none;\">\n",
       "            <td style=\"padding: 0 1em 0 0.5em; text-align: right; border: none;\">\n",
       "                0.0044\n",
       "                \n",
       "                    &plusmn; 0.0039\n",
       "                \n",
       "            </td>\n",
       "            <td style=\"padding: 0 0.5em 0 0.5em; text-align: left; border: none;\">\n",
       "                PaperlessBilling_Yes\n",
       "            </td>\n",
       "        </tr>\n",
       "    \n",
       "        <tr style=\"background-color: hsl(120, 100.00%, 98.35%); border: none;\">\n",
       "            <td style=\"padding: 0 1em 0 0.5em; text-align: right; border: none;\">\n",
       "                0.0036\n",
       "                \n",
       "                    &plusmn; 0.0054\n",
       "                \n",
       "            </td>\n",
       "            <td style=\"padding: 0 0.5em 0 0.5em; text-align: left; border: none;\">\n",
       "                Type_Two year\n",
       "            </td>\n",
       "        </tr>\n",
       "    \n",
       "        <tr style=\"background-color: hsl(120, 100.00%, 98.54%); border: none;\">\n",
       "            <td style=\"padding: 0 1em 0 0.5em; text-align: right; border: none;\">\n",
       "                0.0030\n",
       "                \n",
       "                    &plusmn; 0.0028\n",
       "                \n",
       "            </td>\n",
       "            <td style=\"padding: 0 0.5em 0 0.5em; text-align: left; border: none;\">\n",
       "                Dependents_Yes\n",
       "            </td>\n",
       "        </tr>\n",
       "    \n",
       "        <tr style=\"background-color: hsl(120, 100.00%, 98.67%); border: none;\">\n",
       "            <td style=\"padding: 0 1em 0 0.5em; text-align: right; border: none;\">\n",
       "                0.0027\n",
       "                \n",
       "                    &plusmn; 0.0064\n",
       "                \n",
       "            </td>\n",
       "            <td style=\"padding: 0 0.5em 0 0.5em; text-align: left; border: none;\">\n",
       "                TechSupport_Yes\n",
       "            </td>\n",
       "        </tr>\n",
       "    \n",
       "        <tr style=\"background-color: hsl(120, 100.00%, 98.95%); border: none;\">\n",
       "            <td style=\"padding: 0 1em 0 0.5em; text-align: right; border: none;\">\n",
       "                0.0019\n",
       "                \n",
       "                    &plusmn; 0.0041\n",
       "                \n",
       "            </td>\n",
       "            <td style=\"padding: 0 0.5em 0 0.5em; text-align: left; border: none;\">\n",
       "                Type_One year\n",
       "            </td>\n",
       "        </tr>\n",
       "    \n",
       "        <tr style=\"background-color: hsl(120, 100.00%, 99.26%); border: none;\">\n",
       "            <td style=\"padding: 0 1em 0 0.5em; text-align: right; border: none;\">\n",
       "                0.0011\n",
       "                \n",
       "                    &plusmn; 0.0040\n",
       "                \n",
       "            </td>\n",
       "            <td style=\"padding: 0 0.5em 0 0.5em; text-align: left; border: none;\">\n",
       "                Partner_Yes\n",
       "            </td>\n",
       "        </tr>\n",
       "    \n",
       "        <tr style=\"background-color: hsl(120, 100.00%, 99.45%); border: none;\">\n",
       "            <td style=\"padding: 0 1em 0 0.5em; text-align: right; border: none;\">\n",
       "                0.0008\n",
       "                \n",
       "                    &plusmn; 0.0019\n",
       "                \n",
       "            </td>\n",
       "            <td style=\"padding: 0 0.5em 0 0.5em; text-align: left; border: none;\">\n",
       "                StreamingMovies_Yes\n",
       "            </td>\n",
       "        </tr>\n",
       "    \n",
       "        <tr style=\"background-color: hsl(120, 100.00%, 99.60%); border: none;\">\n",
       "            <td style=\"padding: 0 1em 0 0.5em; text-align: right; border: none;\">\n",
       "                0.0005\n",
       "                \n",
       "                    &plusmn; 0.0071\n",
       "                \n",
       "            </td>\n",
       "            <td style=\"padding: 0 0.5em 0 0.5em; text-align: left; border: none;\">\n",
       "                PaymentMethod_Electronic check\n",
       "            </td>\n",
       "        </tr>\n",
       "    \n",
       "        <tr style=\"background-color: hsl(120, 100.00%, 99.87%); border: none;\">\n",
       "            <td style=\"padding: 0 1em 0 0.5em; text-align: right; border: none;\">\n",
       "                0.0001\n",
       "                \n",
       "                    &plusmn; 0.0053\n",
       "                \n",
       "            </td>\n",
       "            <td style=\"padding: 0 0.5em 0 0.5em; text-align: left; border: none;\">\n",
       "                OnlineSecurity_Yes\n",
       "            </td>\n",
       "        </tr>\n",
       "    \n",
       "        <tr style=\"background-color: hsl(0, 100.00%, 99.72%); border: none;\">\n",
       "            <td style=\"padding: 0 1em 0 0.5em; text-align: right; border: none;\">\n",
       "                -0.0003\n",
       "                \n",
       "                    &plusmn; 0.0038\n",
       "                \n",
       "            </td>\n",
       "            <td style=\"padding: 0 0.5em 0 0.5em; text-align: left; border: none;\">\n",
       "                SeniorCitizen\n",
       "            </td>\n",
       "        </tr>\n",
       "    \n",
       "        <tr style=\"background-color: hsl(0, 100.00%, 99.35%); border: none;\">\n",
       "            <td style=\"padding: 0 1em 0 0.5em; text-align: right; border: none;\">\n",
       "                -0.0009\n",
       "                \n",
       "                    &plusmn; 0.0057\n",
       "                \n",
       "            </td>\n",
       "            <td style=\"padding: 0 0.5em 0 0.5em; text-align: left; border: none;\">\n",
       "                OnlineBackup_Yes\n",
       "            </td>\n",
       "        </tr>\n",
       "    \n",
       "        <tr style=\"background-color: hsl(0, 100.00%, 99.31%); border: none;\">\n",
       "            <td style=\"padding: 0 1em 0 0.5em; text-align: right; border: none;\">\n",
       "                -0.0010\n",
       "                \n",
       "                    &plusmn; 0.0050\n",
       "                \n",
       "            </td>\n",
       "            <td style=\"padding: 0 0.5em 0 0.5em; text-align: left; border: none;\">\n",
       "                DeviceProtection_Yes\n",
       "            </td>\n",
       "        </tr>\n",
       "    \n",
       "        <tr style=\"background-color: hsl(0, 100.00%, 99.02%); border: none;\">\n",
       "            <td style=\"padding: 0 1em 0 0.5em; text-align: right; border: none;\">\n",
       "                -0.0017\n",
       "                \n",
       "                    &plusmn; 0.0075\n",
       "                \n",
       "            </td>\n",
       "            <td style=\"padding: 0 0.5em 0 0.5em; text-align: left; border: none;\">\n",
       "                MonthlyCharges\n",
       "            </td>\n",
       "        </tr>\n",
       "    \n",
       "        <tr style=\"background-color: hsl(0, 100.00%, 98.98%); border: none;\">\n",
       "            <td style=\"padding: 0 1em 0 0.5em; text-align: right; border: none;\">\n",
       "                -0.0018\n",
       "                \n",
       "                    &plusmn; 0.0053\n",
       "                \n",
       "            </td>\n",
       "            <td style=\"padding: 0 0.5em 0 0.5em; text-align: left; border: none;\">\n",
       "                gender_Male\n",
       "            </td>\n",
       "        </tr>\n",
       "    \n",
       "        <tr style=\"background-color: hsl(0, 100.00%, 98.98%); border: none;\">\n",
       "            <td style=\"padding: 0 1em 0 0.5em; text-align: right; border: none;\">\n",
       "                -0.0018\n",
       "                \n",
       "                    &plusmn; 0.0011\n",
       "                \n",
       "            </td>\n",
       "            <td style=\"padding: 0 0.5em 0 0.5em; text-align: left; border: none;\">\n",
       "                InternetService_No\n",
       "            </td>\n",
       "        </tr>\n",
       "    \n",
       "        <tr style=\"background-color: hsl(0, 100.00%, 98.91%); border: none;\">\n",
       "            <td style=\"padding: 0 1em 0 0.5em; text-align: right; border: none;\">\n",
       "                -0.0020\n",
       "                \n",
       "                    &plusmn; 0.0061\n",
       "                \n",
       "            </td>\n",
       "            <td style=\"padding: 0 0.5em 0 0.5em; text-align: left; border: none;\">\n",
       "                MultipleLines_Yes\n",
       "            </td>\n",
       "        </tr>\n",
       "    \n",
       "        <tr style=\"background-color: hsl(0, 100.00%, 98.88%); border: none;\">\n",
       "            <td style=\"padding: 0 1em 0 0.5em; text-align: right; border: none;\">\n",
       "                -0.0021\n",
       "                \n",
       "                    &plusmn; 0.0027\n",
       "                \n",
       "            </td>\n",
       "            <td style=\"padding: 0 0.5em 0 0.5em; text-align: left; border: none;\">\n",
       "                PaymentMethod_Mailed check\n",
       "            </td>\n",
       "        </tr>\n",
       "    \n",
       "        <tr style=\"background-color: hsl(0, 100.00%, 98.84%); border: none;\">\n",
       "            <td style=\"padding: 0 1em 0 0.5em; text-align: right; border: none;\">\n",
       "                -0.0022\n",
       "                \n",
       "                    &plusmn; 0.0051\n",
       "                \n",
       "            </td>\n",
       "            <td style=\"padding: 0 0.5em 0 0.5em; text-align: left; border: none;\">\n",
       "                PaymentMethod_Credit card (automatic)\n",
       "            </td>\n",
       "        </tr>\n",
       "    \n",
       "        <tr style=\"background-color: hsl(0, 100.00%, 98.26%); border: none;\">\n",
       "            <td style=\"padding: 0 1em 0 0.5em; text-align: right; border: none;\">\n",
       "                -0.0039\n",
       "                \n",
       "                    &plusmn; 0.0038\n",
       "                \n",
       "            </td>\n",
       "            <td style=\"padding: 0 0.5em 0 0.5em; text-align: left; border: none;\">\n",
       "                StreamingTV_Yes\n",
       "            </td>\n",
       "        </tr>\n",
       "    \n",
       "        <tr style=\"background-color: hsl(0, 100.00%, 98.03%); border: none;\">\n",
       "            <td style=\"padding: 0 1em 0 0.5em; text-align: right; border: none;\">\n",
       "                -0.0046\n",
       "                \n",
       "                    &plusmn; 0.0078\n",
       "                \n",
       "            </td>\n",
       "            <td style=\"padding: 0 0.5em 0 0.5em; text-align: left; border: none;\">\n",
       "                number_of_services\n",
       "            </td>\n",
       "        </tr>\n",
       "    \n",
       "    \n",
       "    </tbody>\n",
       "</table>\n",
       "    \n",
       "\n",
       "    \n",
       "\n",
       "\n",
       "    \n",
       "\n",
       "    \n",
       "\n",
       "    \n",
       "\n",
       "    \n",
       "\n",
       "    \n",
       "\n",
       "    \n",
       "\n",
       "\n",
       "\n"
      ],
      "text/plain": [
       "<IPython.core.display.HTML object>"
      ]
     },
     "execution_count": 53,
     "metadata": {},
     "output_type": "execute_result"
    }
   ],
   "source": [
    "perm = PermutationImportance(cat_grid, random_state=12345)\n",
    "perm.fit(X_test, y_test)\n",
    "eli5.show_weights(perm, feature_names = X_test.columns.tolist(), top=100)"
   ]
  },
  {
   "cell_type": "markdown",
   "metadata": {},
   "source": [
    "Теперь видно, какие веса имеют признаки. Удалим ненужные."
   ]
  },
  {
   "cell_type": "markdown",
   "metadata": {},
   "source": [
    "# Обучение модели"
   ]
  },
  {
   "cell_type": "markdown",
   "metadata": {},
   "source": [
    "Скорректируем признаки в выборках."
   ]
  },
  {
   "cell_type": "code",
   "execution_count": 54,
   "metadata": {},
   "outputs": [],
   "source": [
    "unnecessary_features = 'SeniorCitizen, OnlineBackup_Yes, DeviceProtection_Yes, MonthlyCharges, gender_Male, InternetService_No, MultipleLines_Yes, PaymentMethod_Mailed check, PaymentMethod_Credit card (automatic), StreamingTV_Yes, number_of_services'\n",
    "unnecessary_features = unnecessary_features.split(', ')\n",
    "\n",
    "X_train = X_train.drop(unnecessary_features, axis=1)\n",
    "X_test = X_test.drop(unnecessary_features, axis=1)"
   ]
  },
  {
   "cell_type": "markdown",
   "metadata": {},
   "source": [
    "Обучим нашу финальную модель подбирая гиперпараметры."
   ]
  },
  {
   "cell_type": "code",
   "execution_count": 55,
   "metadata": {},
   "outputs": [
    {
     "name": "stdout",
     "output_type": "stream",
     "text": [
      "0:\tloss: 0.9521498\tbest: 0.9521498 (0)\ttotal: 40.5s\tremaining: 17m 33s\n",
      "1:\tloss: 0.9730893\tbest: 0.9730893 (1)\ttotal: 1m 12s\tremaining: 15m 6s\n",
      "2:\tloss: 0.9750911\tbest: 0.9750911 (2)\ttotal: 1m 33s\tremaining: 12m 31s\n",
      "3:\tloss: 0.9412149\tbest: 0.9750911 (2)\ttotal: 1m 49s\tremaining: 10m 27s\n",
      "4:\tloss: 0.9688856\tbest: 0.9750911 (2)\ttotal: 2m 4s\tremaining: 9m 6s\n",
      "5:\tloss: 0.9736115\tbest: 0.9750911 (2)\ttotal: 2m 19s\tremaining: 8m 9s\n",
      "6:\tloss: 0.9178778\tbest: 0.9750911 (2)\ttotal: 2m 28s\tremaining: 7m 4s\n",
      "7:\tloss: 0.9593329\tbest: 0.9750911 (2)\ttotal: 2m 37s\tremaining: 6m 14s\n",
      "8:\tloss: 0.9716465\tbest: 0.9750911 (2)\ttotal: 2m 47s\tremaining: 5m 34s\n",
      "9:\tloss: 0.9388655\tbest: 0.9750911 (2)\ttotal: 3m 3s\tremaining: 5m 12s\n",
      "10:\tloss: 0.9677184\tbest: 0.9750911 (2)\ttotal: 3m 20s\tremaining: 4m 51s\n",
      "11:\tloss: 0.9756335\tbest: 0.9756335 (11)\ttotal: 3m 37s\tremaining: 4m 31s\n",
      "12:\tloss: 0.9241807\tbest: 0.9756335 (11)\ttotal: 3m 48s\tremaining: 4m 6s\n",
      "13:\tloss: 0.9616252\tbest: 0.9756335 (11)\ttotal: 4m\tremaining: 3m 43s\n",
      "14:\tloss: 0.9734763\tbest: 0.9756335 (11)\ttotal: 4m 13s\tremaining: 3m 22s\n",
      "15:\tloss: 0.9019590\tbest: 0.9756335 (11)\ttotal: 4m 20s\tremaining: 2m 59s\n",
      "16:\tloss: 0.9506087\tbest: 0.9756335 (11)\ttotal: 4m 34s\tremaining: 2m 41s\n",
      "17:\tloss: 0.9692805\tbest: 0.9756335 (11)\ttotal: 4m 48s\tremaining: 2m 24s\n",
      "18:\tloss: 0.9195224\tbest: 0.9756335 (11)\ttotal: 5m 12s\tremaining: 2m 11s\n",
      "19:\tloss: 0.9560937\tbest: 0.9756335 (11)\ttotal: 5m 37s\tremaining: 1m 58s\n",
      "20:\tloss: 0.9703793\tbest: 0.9756335 (11)\ttotal: 6m 2s\tremaining: 1m 43s\n",
      "21:\tloss: 0.9074800\tbest: 0.9756335 (11)\ttotal: 6m 21s\tremaining: 1m 26s\n",
      "22:\tloss: 0.9508255\tbest: 0.9756335 (11)\ttotal: 6m 33s\tremaining: 1m 8s\n",
      "23:\tloss: 0.9673428\tbest: 0.9756335 (11)\ttotal: 6m 42s\tremaining: 50.3s\n",
      "24:\tloss: 0.8901579\tbest: 0.9756335 (11)\ttotal: 6m 47s\tremaining: 32.6s\n",
      "25:\tloss: 0.9344073\tbest: 0.9756335 (11)\ttotal: 6m 56s\tremaining: 16s\n",
      "26:\tloss: 0.9601833\tbest: 0.9756335 (11)\ttotal: 7m 1s\tremaining: 0us\n",
      "Estimating final quality...\n",
      "CPU times: user 7min 58s, sys: 1min, total: 8min 59s\n",
      "Wall time: 9min 11s\n"
     ]
    }
   ],
   "source": [
    "%%time\n",
    "model = CatBoostClassifier(loss_function='Logloss',\n",
    "                               eval_metric='AUC',\n",
    "                               task_type='CPU',\n",
    "                               random_seed=12345)\n",
    "\n",
    "grid = {'iterations' : [700, 500, 300],\n",
    "        'learning_rate' : [0.03, 0.1, 0.3],\n",
    "        'depth': [8, 6, 4]\n",
    "       }\n",
    "\n",
    "results = model.grid_search(grid, X=X_train, y=y_train, cv=5)"
   ]
  },
  {
   "cell_type": "code",
   "execution_count": 56,
   "metadata": {},
   "outputs": [
    {
     "name": "stdout",
     "output_type": "stream",
     "text": [
      "{'learn': {'Logloss': 0.05584539326862278}}\n",
      "\n",
      "{'loss_function': 'Logloss', 'random_seed': 12345, 'eval_metric': 'AUC', 'task_type': 'CPU', 'depth': 6, 'iterations': 700, 'learning_rate': 0.3}\n"
     ]
    }
   ],
   "source": [
    "print(model.get_best_score(), model.get_params(), sep='\\n\\n')"
   ]
  },
  {
   "cell_type": "code",
   "execution_count": 57,
   "metadata": {},
   "outputs": [
    {
     "name": "stdout",
     "output_type": "stream",
     "text": [
      "0:\ttotal: 3.49ms\tremaining: 2.44s\n",
      "100:\ttotal: 1.87s\tremaining: 11.1s\n",
      "200:\ttotal: 3.77s\tremaining: 9.37s\n",
      "300:\ttotal: 5.74s\tremaining: 7.61s\n",
      "400:\ttotal: 7.7s\tremaining: 5.74s\n",
      "500:\ttotal: 9.77s\tremaining: 3.88s\n",
      "600:\ttotal: 11.8s\tremaining: 1.95s\n",
      "699:\ttotal: 13.7s\tremaining: 0us\n",
      "CPU times: user 12.8 s, sys: 1.25 s, total: 14 s\n",
      "Wall time: 14.7 s\n"
     ]
    },
    {
     "data": {
      "text/plain": [
       "<catboost.core.CatBoostClassifier at 0x7f3a088c2850>"
      ]
     },
     "execution_count": 57,
     "metadata": {},
     "output_type": "execute_result"
    }
   ],
   "source": [
    "%%time\n",
    "model.fit(X_train, y_train, verbose=100)"
   ]
  },
  {
   "cell_type": "markdown",
   "metadata": {},
   "source": [
    "Глянем результат на тестовой выборке."
   ]
  },
  {
   "cell_type": "code",
   "execution_count": 58,
   "metadata": {},
   "outputs": [
    {
     "data": {
      "text/plain": [
       "0.8461902508282063"
      ]
     },
     "execution_count": 58,
     "metadata": {},
     "output_type": "execute_result"
    }
   ],
   "source": [
    "predictions = model.predict(X_test)\n",
    "score = accuracy_score(y_test, predictions)\n",
    "score"
   ]
  },
  {
   "cell_type": "code",
   "execution_count": 59,
   "metadata": {},
   "outputs": [
    {
     "data": {
      "text/plain": [
       "0.9078780528143777"
      ]
     },
     "execution_count": 59,
     "metadata": {},
     "output_type": "execute_result"
    }
   ],
   "source": [
    "probabilites_logist = model.predict_proba(X_test)\n",
    "probabilites_one_logist = probabilites_logist[:, 1]\n",
    "roc_auc_score(y_test, probabilites_one_logist)"
   ]
  },
  {
   "cell_type": "markdown",
   "metadata": {},
   "source": [
    "Наблюдаем прирост как и по метрике, так и по площади под кривой (наша площадь под кривой = 0.90, это говорит о том, что наша модель хорошо отделила классы друг от друга) . Это удовлетворяет нашему ТЗ."
   ]
  },
  {
   "cell_type": "markdown",
   "metadata": {},
   "source": [
    "Проверим на адекватность нашу модель."
   ]
  },
  {
   "cell_type": "code",
   "execution_count": 60,
   "metadata": {},
   "outputs": [
    {
     "data": {
      "text/plain": [
       "0.26549929010885"
      ]
     },
     "execution_count": 60,
     "metadata": {},
     "output_type": "execute_result"
    }
   ],
   "source": [
    "dummy = DummyClassifier(strategy='prior')\n",
    "dummy.fit(X_train, y_train)\n",
    "dummy_pred = dummy.predict(X_test)\n",
    "accuracy_score(y_test, dummy_pred)"
   ]
  },
  {
   "cell_type": "markdown",
   "metadata": {},
   "source": [
    "Видим, что наша модель лучше чем та, у которой все классы=1."
   ]
  },
  {
   "cell_type": "code",
   "execution_count": 61,
   "metadata": {},
   "outputs": [
    {
     "name": "stdout",
     "output_type": "stream",
     "text": [
      "              precision    recall  f1-score   support\n",
      "\n",
      "           0       0.89      0.90      0.90      1552\n",
      "           1       0.71      0.71      0.71       561\n",
      "\n",
      "    accuracy                           0.85      2113\n",
      "   macro avg       0.80      0.80      0.80      2113\n",
      "weighted avg       0.85      0.85      0.85      2113\n",
      "\n"
     ]
    }
   ],
   "source": [
    "print(classification_report(y_test, predictions))"
   ]
  },
  {
   "cell_type": "code",
   "execution_count": 62,
   "metadata": {},
   "outputs": [],
   "source": [
    "tn, fp, fn, tp = confusion_matrix(y_test, predictions).ravel()"
   ]
  },
  {
   "cell_type": "code",
   "execution_count": 63,
   "metadata": {},
   "outputs": [
    {
     "data": {
      "text/html": [
       "<div>\n",
       "<style scoped>\n",
       "    .dataframe tbody tr th:only-of-type {\n",
       "        vertical-align: middle;\n",
       "    }\n",
       "\n",
       "    .dataframe tbody tr th {\n",
       "        vertical-align: top;\n",
       "    }\n",
       "\n",
       "    .dataframe thead th {\n",
       "        text-align: right;\n",
       "    }\n",
       "</style>\n",
       "<table border=\"1\" class=\"dataframe\">\n",
       "  <thead>\n",
       "    <tr style=\"text-align: right;\">\n",
       "      <th></th>\n",
       "      <th>1</th>\n",
       "      <th>0</th>\n",
       "    </tr>\n",
       "  </thead>\n",
       "  <tbody>\n",
       "    <tr>\n",
       "      <td>1</td>\n",
       "      <td>397</td>\n",
       "      <td>161</td>\n",
       "    </tr>\n",
       "    <tr>\n",
       "      <td>0</td>\n",
       "      <td>164</td>\n",
       "      <td>1391</td>\n",
       "    </tr>\n",
       "  </tbody>\n",
       "</table>\n",
       "</div>"
      ],
      "text/plain": [
       "     1     0\n",
       "1  397   161\n",
       "0  164  1391"
      ]
     },
     "execution_count": 63,
     "metadata": {},
     "output_type": "execute_result"
    }
   ],
   "source": [
    "pd.DataFrame(data={'1': [tp, fn], '0': [fp, tn]}, index=['1', '0'])"
   ]
  },
  {
   "cell_type": "markdown",
   "metadata": {},
   "source": [
    "По матрице ошибок можно сказать следующее:\n",
    "- Столбец точность (precision) показывает долю ошибок 1 и 2 рода пока искала правильные ответы:\n",
    "    - по классу 0 - ошибка 1 рода - 11%\n",
    "    - по классу 1 - ошибка 2 рода - 29%\n",
    "    \n",
    "    \n",
    "- Столбец полноты (recall) показывает долю правильных 1 из всех 1 и долю правильных 0 из всех 0:\n",
    "    - по классу 0 - 90% правильных ответов.\n",
    "    - по классу 1 - 71% правильных ответов."
   ]
  },
  {
   "cell_type": "markdown",
   "metadata": {},
   "source": [
    "Теперь для бизнеса важно знать, какая ошибка принесет больше убытков. Если представить, что ошибка 1 рода (модель предсказала уход (1), а он остался (0)), то мы теряем 10 предоставляя ему скидку, чтобы он остался. Ошибка 2 рода (модель предсказала, что он останется (0), а он ушел (1)), то мы теряем 100 каждый месяц его отсуствия.\n",
    "- ошибка 2 рода - 161 * 100 = 16100\n",
    "- ошибка 1 рода - 164 * 10 = 1640\n",
    "\n",
    "Получается, для бизнеса уход клиента гораздо убыточеный, чем если ему случайно предложить скидку. Значит нужно минимизировать в нашей моделе ошибку 2 рода."
   ]
  },
  {
   "cell_type": "markdown",
   "metadata": {},
   "source": [
    "# Доп. рассчеты"
   ]
  },
  {
   "cell_type": "markdown",
   "metadata": {},
   "source": [
    "Обучил модель и получил прогнозы по тестовой выборке. Теперь проверим, как изменится прибыль компании с ошибкой 2 рода. Создадим таблицу, найдем тех людей кто ушел (1), а модель сказала что он остается (0) и вычтем из их общей прибыли по 100 за каждый месяц."
   ]
  },
  {
   "cell_type": "code",
   "execution_count": 64,
   "metadata": {},
   "outputs": [],
   "source": [
    "profit_table = pd.DataFrame(data=predictions, index=y_test.index, dtype=int, columns=['predict'])"
   ]
  },
  {
   "cell_type": "markdown",
   "metadata": {},
   "source": [
    "Добавляю нужные столбцы."
   ]
  },
  {
   "cell_type": "code",
   "execution_count": 65,
   "metadata": {},
   "outputs": [],
   "source": [
    "profit_table['target'] = y_test\n",
    "profit_table_final = profit_table.join(X['TotalCharges'], how='inner')\n",
    "profit_table_final = profit_table_final.join(df[['BeginDate', 'EndDate']], how='inner')\n",
    "profit_table_final['month_difference'] = (pd.Timestamp('2020-02-01') - profit_table_final['EndDate']).apply(lambda x: x/np.timedelta64(1,'M')).astype(int)"
   ]
  },
  {
   "cell_type": "markdown",
   "metadata": {},
   "source": [
    "Добавляю расчеты по ошибке 2 рода и считаю общую сумму."
   ]
  },
  {
   "cell_type": "code",
   "execution_count": 66,
   "metadata": {},
   "outputs": [],
   "source": [
    "profit_table_final['error2'] = profit_table_final[(profit_table_final['predict'] == 0) & (profit_table_final['target'] == 1)]['month_difference'] * 100\n",
    "profit_table_final['error2'] = profit_table_final['error2'].fillna(0)\n",
    "profit_table_final['TotalCharges_predict'] = profit_table_final['TotalCharges'] - profit_table_final['error2']"
   ]
  },
  {
   "cell_type": "code",
   "execution_count": 67,
   "metadata": {},
   "outputs": [
    {
     "data": {
      "text/html": [
       "<div>\n",
       "<style scoped>\n",
       "    .dataframe tbody tr th:only-of-type {\n",
       "        vertical-align: middle;\n",
       "    }\n",
       "\n",
       "    .dataframe tbody tr th {\n",
       "        vertical-align: top;\n",
       "    }\n",
       "\n",
       "    .dataframe thead th {\n",
       "        text-align: right;\n",
       "    }\n",
       "</style>\n",
       "<table border=\"1\" class=\"dataframe\">\n",
       "  <thead>\n",
       "    <tr style=\"text-align: right;\">\n",
       "      <th></th>\n",
       "      <th>predict</th>\n",
       "      <th>target</th>\n",
       "      <th>TotalCharges</th>\n",
       "      <th>BeginDate</th>\n",
       "      <th>EndDate</th>\n",
       "      <th>month_difference</th>\n",
       "      <th>error2</th>\n",
       "      <th>TotalCharges_predict</th>\n",
       "    </tr>\n",
       "  </thead>\n",
       "  <tbody>\n",
       "    <tr>\n",
       "      <td>6574</td>\n",
       "      <td>0</td>\n",
       "      <td>0</td>\n",
       "      <td>816.80</td>\n",
       "      <td>2019-05-01</td>\n",
       "      <td>2020-02-01</td>\n",
       "      <td>0</td>\n",
       "      <td>0.0</td>\n",
       "      <td>816.80</td>\n",
       "    </tr>\n",
       "    <tr>\n",
       "      <td>2691</td>\n",
       "      <td>0</td>\n",
       "      <td>0</td>\n",
       "      <td>369.25</td>\n",
       "      <td>2019-07-01</td>\n",
       "      <td>2020-02-01</td>\n",
       "      <td>0</td>\n",
       "      <td>0.0</td>\n",
       "      <td>369.25</td>\n",
       "    </tr>\n",
       "    <tr>\n",
       "      <td>6329</td>\n",
       "      <td>0</td>\n",
       "      <td>0</td>\n",
       "      <td>4904.20</td>\n",
       "      <td>2016-04-01</td>\n",
       "      <td>2020-02-01</td>\n",
       "      <td>0</td>\n",
       "      <td>0.0</td>\n",
       "      <td>4904.20</td>\n",
       "    </tr>\n",
       "    <tr>\n",
       "      <td>466</td>\n",
       "      <td>0</td>\n",
       "      <td>0</td>\n",
       "      <td>6538.45</td>\n",
       "      <td>2014-10-01</td>\n",
       "      <td>2020-02-01</td>\n",
       "      <td>0</td>\n",
       "      <td>0.0</td>\n",
       "      <td>6538.45</td>\n",
       "    </tr>\n",
       "    <tr>\n",
       "      <td>57</td>\n",
       "      <td>0</td>\n",
       "      <td>0</td>\n",
       "      <td>7076.35</td>\n",
       "      <td>2014-08-01</td>\n",
       "      <td>2020-02-01</td>\n",
       "      <td>0</td>\n",
       "      <td>0.0</td>\n",
       "      <td>7076.35</td>\n",
       "    </tr>\n",
       "  </tbody>\n",
       "</table>\n",
       "</div>"
      ],
      "text/plain": [
       "      predict  target  TotalCharges  BeginDate    EndDate  month_difference  \\\n",
       "6574        0       0        816.80 2019-05-01 2020-02-01                 0   \n",
       "2691        0       0        369.25 2019-07-01 2020-02-01                 0   \n",
       "6329        0       0       4904.20 2016-04-01 2020-02-01                 0   \n",
       "466         0       0       6538.45 2014-10-01 2020-02-01                 0   \n",
       "57          0       0       7076.35 2014-08-01 2020-02-01                 0   \n",
       "\n",
       "      error2  TotalCharges_predict  \n",
       "6574     0.0                816.80  \n",
       "2691     0.0                369.25  \n",
       "6329     0.0               4904.20  \n",
       "466      0.0               6538.45  \n",
       "57       0.0               7076.35  "
      ]
     },
     "execution_count": 67,
     "metadata": {},
     "output_type": "execute_result"
    }
   ],
   "source": [
    "profit_table_final.head()"
   ]
  },
  {
   "cell_type": "markdown",
   "metadata": {},
   "source": [
    "Проведем A/B-тест двух выборок.\n",
    "\n",
    "Сравним две выборки с общими средними затратами клиентов по предсказаниям и target и узнаем, изменилась ли средняя прибыль компании или нет.\n",
    "\n",
    "- H0 (нулевая гипотеза) - общая прибыль компании осталась без изменений\n",
    "- Н1 (альтернативная гипотеза) - общая прибыль компании поменялась\n",
    "\n",
    "\n",
    "- Порог принятие решения у нас 0.05"
   ]
  },
  {
   "cell_type": "code",
   "execution_count": 68,
   "metadata": {},
   "outputs": [],
   "source": [
    "target_sum = profit_table_final['TotalCharges']\n",
    "predict_sum = profit_table_final['TotalCharges_predict']\n",
    "\n",
    "alpha = 0.05"
   ]
  },
  {
   "cell_type": "code",
   "execution_count": 69,
   "metadata": {},
   "outputs": [
    {
     "data": {
      "text/plain": [
       "(5132806.562003178, 5127129.59154657)"
      ]
     },
     "execution_count": 69,
     "metadata": {},
     "output_type": "execute_result"
    }
   ],
   "source": [
    "np.var(target_sum, ddof=1), np.var(predict_sum, ddof=1)"
   ]
  },
  {
   "cell_type": "code",
   "execution_count": 70,
   "metadata": {},
   "outputs": [
    {
     "name": "stdout",
     "output_type": "stream",
     "text": [
      "p-значение 0.7942587354893048\n",
      "Не удалось отвергнуть нулевую гипотезу\n"
     ]
    }
   ],
   "source": [
    "result = st.ttest_ind(target_sum, predict_sum, equal_var=False)\n",
    "print('p-значение', result.pvalue)\n",
    "\n",
    "if result.pvalue < alpha:\n",
    "    print('Отвергаем нулевую гипотезу')\n",
    "else:\n",
    "    print('Не удалось отвергнуть нулевую гипотезу')"
   ]
  },
  {
   "cell_type": "markdown",
   "metadata": {},
   "source": [
    "Отвергли Н1 в пользу Н0, что говорит о том, что с вероятностью 79% можно получить различия в прибыли случайно. Это очень большая вероятность, чтобы сказать, что ошибки 2 рода в моей модели сильно влияют на убытки компании.\n",
    "\n",
    "Посмотрим на графике."
   ]
  },
  {
   "cell_type": "code",
   "execution_count": 71,
   "metadata": {},
   "outputs": [
    {
     "data": {
      "image/png": "[encoded data removed]",
      "text/plain": [
       "<Figure size 432x288 with 1 Axes>"
      ]
     },
     "metadata": {
      "needs_background": "light"
     },
     "output_type": "display_data"
    }
   ],
   "source": [
    "hypothesis0 = pd.pivot_table(profit_table_final,\n",
    "                             index=profit_table_final.index,\n",
    "                             values=['TotalCharges', 'TotalCharges_predict'])\n",
    "\n",
    "hypothesis0.columns = ['Общая сумма ответов', 'Общая сумма предсказаний']\n",
    "hypothesis0.mean().plot.bar(rot=0, title='График среднего дохода по общим затратам', grid=True)\n",
    "plt.ylabel('Сумма ($)')\n",
    "plt.show()"
   ]
  },
  {
   "cell_type": "markdown",
   "metadata": {},
   "source": [
    "Теперь наглядно все видно. Если разница и есть, то она малозаметная и с 79% вероятностью случайна. Модель готова к работе."
   ]
  },
  {
   "cell_type": "markdown",
   "metadata": {},
   "source": [
    "# Вывод по проекту:\n",
    "\n",
    "- В начале познакомились с данными и сделал небольшую предобработку. Проведены проверки по поиску: пропусков, дубликатов. Исправлены типы данных в таблицах. Провел анализ на наличие аномалий.\n",
    "- Т.к. небыло разметки по которой можно было бы проводить обучение с учителем, сделал его в ручную по столбцу \"EndDate\" который показывал дату окончания пользованием услугой.\n",
    "- Создал признаки, разделил на train и test выборки. Проверил баланса классов и провел тестировочные прогоны для моделей. \n",
    "- После тестов выбрал подходящую модель по accuracy и ROC-AUC. Отредактировал признаки и обучил заново модель подбирая гиперпараметры. Проверил мою модель на тестовых данных и получил значения удовлетворяющие ТЗ. Вывел классы на \"матрице ошибок\" и выяснил, что ошибка 2 рода самая дорогая для компании.\n",
    "- Стоило бы протестировать модели еще раз не на accuracy, а на precision, чтобы найти модель которая минимизирует ошибку 2 рода лучше всех, но проведя А/В-тест выяснил, что моя модель предсказывает неплохо для того, чтобы компания не несла убытки по ошибке 2 рода.\n",
    "\n",
    "**Итог:** Получил рабочую модель, которая не несет убытки в случае ухода клиента. "
   ]
  }
 ],
 "metadata": {
  "ExecuteTimeLog": [
   {
    "duration": 1474,
    "start_time": "2021-10-26T15:25:24.041Z"
   },
   {
    "duration": 3802,
    "start_time": "2021-10-26T15:25:33.440Z"
   },
   {
    "duration": 544,
    "start_time": "2021-10-26T15:25:45.041Z"
   },
   {
    "duration": 99,
    "start_time": "2021-10-26T15:25:53.348Z"
   },
   {
    "duration": 67,
    "start_time": "2021-10-26T15:25:53.925Z"
   },
   {
    "duration": 6,
    "start_time": "2021-10-26T15:26:15.606Z"
   },
   {
    "duration": 16,
    "start_time": "2021-10-26T15:26:16.443Z"
   },
   {
    "duration": 13,
    "start_time": "2021-10-26T15:26:18.557Z"
   },
   {
    "duration": 3,
    "start_time": "2021-10-26T15:26:22.681Z"
   },
   {
    "duration": 20,
    "start_time": "2021-10-26T15:26:22.944Z"
   },
   {
    "duration": 17,
    "start_time": "2021-10-26T15:26:23.243Z"
   },
   {
    "duration": 9,
    "start_time": "2021-10-26T15:26:28.496Z"
   },
   {
    "duration": 1103,
    "start_time": "2021-10-26T15:26:29.193Z"
   },
   {
    "duration": 256,
    "start_time": "2021-10-26T15:26:51.922Z"
   },
   {
    "duration": 7,
    "start_time": "2021-10-26T15:27:03.483Z"
   },
   {
    "duration": 12,
    "start_time": "2021-10-26T15:27:04.298Z"
   },
   {
    "duration": 39,
    "start_time": "2021-10-26T15:27:09.083Z"
   },
   {
    "duration": 285,
    "start_time": "2021-10-26T15:27:20.083Z"
   },
   {
    "duration": 7,
    "start_time": "2021-10-26T15:27:46.639Z"
   },
   {
    "duration": 5,
    "start_time": "2021-10-26T15:28:06.058Z"
   },
   {
    "duration": 3,
    "start_time": "2021-10-26T15:28:27.424Z"
   },
   {
    "duration": 5296,
    "start_time": "2021-10-26T15:28:30.801Z"
   },
   {
    "duration": 26,
    "start_time": "2021-10-26T15:28:37.405Z"
   },
   {
    "duration": 497,
    "start_time": "2021-10-26T15:28:45.119Z"
   },
   {
    "duration": 579,
    "start_time": "2021-10-26T15:28:45.837Z"
   },
   {
    "duration": 120,
    "start_time": "2021-10-26T15:28:51.295Z"
   },
   {
    "duration": 6,
    "start_time": "2021-10-26T15:29:58.454Z"
   },
   {
    "duration": 26,
    "start_time": "2021-10-26T15:30:03.829Z"
   },
   {
    "duration": 5,
    "start_time": "2021-10-26T15:30:04.715Z"
   },
   {
    "duration": 15,
    "start_time": "2021-10-26T15:31:05.291Z"
   },
   {
    "duration": 5,
    "start_time": "2021-10-26T15:31:19.692Z"
   },
   {
    "duration": 7,
    "start_time": "2021-10-26T15:31:20.916Z"
   },
   {
    "duration": 4,
    "start_time": "2021-10-26T15:36:50.656Z"
   },
   {
    "duration": 11,
    "start_time": "2021-10-26T15:36:54.421Z"
   },
   {
    "duration": 8,
    "start_time": "2021-10-26T15:37:05.969Z"
   },
   {
    "duration": 16,
    "start_time": "2021-10-26T15:37:18.814Z"
   },
   {
    "duration": 782,
    "start_time": "2021-10-26T15:37:34.811Z"
   },
   {
    "duration": 156,
    "start_time": "2021-10-26T15:37:37.398Z"
   },
   {
    "duration": 304,
    "start_time": "2021-10-26T15:37:50.449Z"
   },
   {
    "duration": 43252,
    "start_time": "2021-10-26T15:38:04.068Z"
   },
   {
    "duration": 1101,
    "start_time": "2021-10-26T15:40:00.691Z"
   },
   {
    "duration": 5,
    "start_time": "2021-10-26T15:40:59.053Z"
   },
   {
    "duration": 6,
    "start_time": "2021-10-26T15:41:00.312Z"
   },
   {
    "duration": 86179,
    "start_time": "2021-10-26T15:41:02.450Z"
   },
   {
    "duration": 33,
    "start_time": "2021-10-26T15:42:28.631Z"
   },
   {
    "duration": 53,
    "start_time": "2021-10-26T15:42:28.666Z"
   },
   {
    "duration": 134203,
    "start_time": "2021-10-26T15:44:36.611Z"
   },
   {
    "duration": 2,
    "start_time": "2021-10-26T15:46:50.816Z"
   },
   {
    "duration": 17590,
    "start_time": "2021-10-26T15:46:50.821Z"
   },
   {
    "duration": 7,
    "start_time": "2021-10-26T15:47:08.412Z"
   },
   {
    "duration": 8,
    "start_time": "2021-10-26T15:47:08.421Z"
   },
   {
    "duration": 8,
    "start_time": "2021-10-26T15:47:08.431Z"
   },
   {
    "duration": 1741,
    "start_time": "2021-10-26T15:49:30.464Z"
   },
   {
    "duration": 1602,
    "start_time": "2021-10-26T15:49:38.297Z"
   },
   {
    "duration": 5,
    "start_time": "2021-10-26T15:52:14.419Z"
   },
   {
    "duration": 150329,
    "start_time": "2021-10-26T15:57:02.770Z"
   },
   {
    "duration": 882321,
    "start_time": "2021-10-26T15:59:46.571Z"
   },
   {
    "duration": 3,
    "start_time": "2021-10-26T16:15:42.110Z"
   },
   {
    "duration": 10912,
    "start_time": "2021-10-26T16:15:52.952Z"
   },
   {
    "duration": 8,
    "start_time": "2021-10-26T16:16:06.743Z"
   },
   {
    "duration": 10,
    "start_time": "2021-10-26T16:16:08.450Z"
   },
   {
    "duration": 5,
    "start_time": "2021-10-26T16:16:55.514Z"
   },
   {
    "duration": 10,
    "start_time": "2021-10-26T16:17:22.698Z"
   },
   {
    "duration": 3,
    "start_time": "2021-10-26T16:24:55.511Z"
   },
   {
    "duration": 10,
    "start_time": "2021-10-26T16:25:08.726Z"
   },
   {
    "duration": 176,
    "start_time": "2021-10-26T16:27:57.772Z"
   },
   {
    "duration": 9,
    "start_time": "2021-10-26T16:28:10.404Z"
   },
   {
    "duration": 11,
    "start_time": "2021-10-26T16:28:26.913Z"
   },
   {
    "duration": 3,
    "start_time": "2021-10-26T16:28:31.262Z"
   },
   {
    "duration": 4,
    "start_time": "2021-10-26T16:28:43.348Z"
   },
   {
    "duration": 4,
    "start_time": "2021-10-26T16:29:05.335Z"
   },
   {
    "duration": 3,
    "start_time": "2021-10-26T16:43:19.255Z"
   },
   {
    "duration": 7,
    "start_time": "2021-10-26T16:45:20.784Z"
   },
   {
    "duration": 4,
    "start_time": "2021-10-26T16:45:59.620Z"
   },
   {
    "duration": 9,
    "start_time": "2021-10-26T16:55:20.812Z"
   },
   {
    "duration": 7,
    "start_time": "2021-10-26T16:55:22.185Z"
   },
   {
    "duration": 10,
    "start_time": "2021-10-26T16:56:09.523Z"
   },
   {
    "duration": 7,
    "start_time": "2021-10-26T16:56:09.887Z"
   },
   {
    "duration": 5,
    "start_time": "2021-10-26T16:56:54.917Z"
   },
   {
    "duration": 5,
    "start_time": "2021-10-26T16:57:01.165Z"
   },
   {
    "duration": 4,
    "start_time": "2021-10-26T16:57:09.804Z"
   },
   {
    "duration": 4,
    "start_time": "2021-10-26T16:57:13.553Z"
   },
   {
    "duration": 4,
    "start_time": "2021-10-26T16:57:27.506Z"
   },
   {
    "duration": 4,
    "start_time": "2021-10-26T16:57:32.843Z"
   },
   {
    "duration": 3,
    "start_time": "2021-10-26T16:57:38.222Z"
   },
   {
    "duration": 4,
    "start_time": "2021-10-26T16:58:27.162Z"
   },
   {
    "duration": 7,
    "start_time": "2021-10-26T16:58:32.964Z"
   },
   {
    "duration": 10,
    "start_time": "2021-10-26T17:07:28.283Z"
   },
   {
    "duration": 7,
    "start_time": "2021-10-26T17:08:27.445Z"
   },
   {
    "duration": 8,
    "start_time": "2021-10-26T17:08:30.728Z"
   },
   {
    "duration": 6,
    "start_time": "2021-10-26T17:08:30.923Z"
   },
   {
    "duration": 4,
    "start_time": "2021-10-26T18:07:49.272Z"
   },
   {
    "duration": 4,
    "start_time": "2021-10-26T18:07:49.608Z"
   },
   {
    "duration": 37,
    "start_time": "2021-10-26T18:07:50.308Z"
   },
   {
    "duration": 17,
    "start_time": "2021-10-26T18:07:58.102Z"
   },
   {
    "duration": 3,
    "start_time": "2021-10-26T18:08:20.635Z"
   },
   {
    "duration": 4,
    "start_time": "2021-10-26T18:08:20.855Z"
   },
   {
    "duration": 3,
    "start_time": "2021-10-26T18:08:21.120Z"
   },
   {
    "duration": 68,
    "start_time": "2021-10-26T18:08:21.653Z"
   },
   {
    "duration": 93,
    "start_time": "2021-10-26T18:08:21.999Z"
   },
   {
    "duration": 70,
    "start_time": "2021-10-26T18:08:22.348Z"
   },
   {
    "duration": 6,
    "start_time": "2021-10-26T18:09:22.307Z"
   },
   {
    "duration": 5,
    "start_time": "2021-10-26T18:09:44.210Z"
   },
   {
    "duration": 5,
    "start_time": "2021-10-26T18:09:56.321Z"
   },
   {
    "duration": 6,
    "start_time": "2021-10-26T18:10:07.238Z"
   },
   {
    "duration": 6,
    "start_time": "2021-10-26T18:11:58.945Z"
   },
   {
    "duration": 7,
    "start_time": "2021-10-26T18:13:08.079Z"
   },
   {
    "duration": 5,
    "start_time": "2021-10-26T18:13:09.091Z"
   },
   {
    "duration": 12,
    "start_time": "2021-10-26T18:13:10.870Z"
   },
   {
    "duration": 3,
    "start_time": "2021-10-26T18:13:15.251Z"
   },
   {
    "duration": 5,
    "start_time": "2021-10-26T18:13:16.084Z"
   },
   {
    "duration": 4,
    "start_time": "2021-10-26T18:13:48.773Z"
   },
   {
    "duration": 151,
    "start_time": "2021-10-26T18:13:54.063Z"
   },
   {
    "duration": 3,
    "start_time": "2021-10-26T18:15:11.257Z"
   },
   {
    "duration": 4,
    "start_time": "2021-10-26T18:15:11.411Z"
   },
   {
    "duration": 35,
    "start_time": "2021-10-26T18:15:11.555Z"
   },
   {
    "duration": 16,
    "start_time": "2021-10-26T18:15:11.695Z"
   },
   {
    "duration": 3,
    "start_time": "2021-10-26T18:15:11.982Z"
   },
   {
    "duration": 3,
    "start_time": "2021-10-26T18:15:12.121Z"
   },
   {
    "duration": 2,
    "start_time": "2021-10-26T18:15:12.265Z"
   },
   {
    "duration": 68,
    "start_time": "2021-10-26T18:15:12.476Z"
   },
   {
    "duration": 77,
    "start_time": "2021-10-26T18:15:12.799Z"
   },
   {
    "duration": 68,
    "start_time": "2021-10-26T18:15:12.989Z"
   },
   {
    "duration": 5,
    "start_time": "2021-10-26T18:15:13.657Z"
   },
   {
    "duration": 6,
    "start_time": "2021-10-26T18:15:14.123Z"
   },
   {
    "duration": 13,
    "start_time": "2021-10-26T18:15:15.314Z"
   },
   {
    "duration": 3,
    "start_time": "2021-10-26T18:15:16.863Z"
   },
   {
    "duration": 5,
    "start_time": "2021-10-26T18:15:17.139Z"
   },
   {
    "duration": 5,
    "start_time": "2021-10-26T18:15:19.122Z"
   },
   {
    "duration": 224,
    "start_time": "2021-10-26T18:15:24.228Z"
   },
   {
    "duration": 3,
    "start_time": "2021-10-26T18:15:39.923Z"
   },
   {
    "duration": 4,
    "start_time": "2021-10-26T18:15:40.076Z"
   },
   {
    "duration": 36,
    "start_time": "2021-10-26T18:15:40.218Z"
   },
   {
    "duration": 16,
    "start_time": "2021-10-26T18:15:40.366Z"
   },
   {
    "duration": 5,
    "start_time": "2021-10-26T18:15:40.658Z"
   },
   {
    "duration": 3,
    "start_time": "2021-10-26T18:15:40.805Z"
   },
   {
    "duration": 2,
    "start_time": "2021-10-26T18:15:40.943Z"
   },
   {
    "duration": 75,
    "start_time": "2021-10-26T18:15:41.077Z"
   },
   {
    "duration": 86,
    "start_time": "2021-10-26T18:15:41.240Z"
   },
   {
    "duration": 105,
    "start_time": "2021-10-26T18:15:41.387Z"
   },
   {
    "duration": 6,
    "start_time": "2021-10-26T18:15:41.691Z"
   },
   {
    "duration": 7,
    "start_time": "2021-10-26T18:15:42.255Z"
   },
   {
    "duration": 12,
    "start_time": "2021-10-26T18:15:43.390Z"
   },
   {
    "duration": 3,
    "start_time": "2021-10-26T18:15:44.619Z"
   },
   {
    "duration": 4,
    "start_time": "2021-10-26T18:15:45.175Z"
   },
   {
    "duration": 5,
    "start_time": "2021-10-26T18:15:46.659Z"
   },
   {
    "duration": 148,
    "start_time": "2021-10-26T18:15:49.134Z"
   },
   {
    "duration": 6,
    "start_time": "2021-10-26T18:16:06.361Z"
   },
   {
    "duration": 4,
    "start_time": "2021-10-26T18:16:10.339Z"
   },
   {
    "duration": 4,
    "start_time": "2021-10-26T18:16:35.349Z"
   },
   {
    "duration": 4,
    "start_time": "2021-10-26T18:17:43.781Z"
   },
   {
    "duration": 4,
    "start_time": "2021-10-26T18:17:43.942Z"
   },
   {
    "duration": 54,
    "start_time": "2021-10-26T18:17:44.159Z"
   },
   {
    "duration": 25,
    "start_time": "2021-10-26T18:17:44.641Z"
   },
   {
    "duration": 3,
    "start_time": "2021-10-26T18:18:21.119Z"
   },
   {
    "duration": 3,
    "start_time": "2021-10-26T18:18:56.198Z"
   },
   {
    "duration": 3,
    "start_time": "2021-10-26T18:18:56.385Z"
   },
   {
    "duration": 4,
    "start_time": "2021-10-26T18:18:56.602Z"
   },
   {
    "duration": 70,
    "start_time": "2021-10-26T18:18:57.787Z"
   },
   {
    "duration": 99,
    "start_time": "2021-10-26T18:18:58.066Z"
   },
   {
    "duration": 71,
    "start_time": "2021-10-26T18:18:58.324Z"
   },
   {
    "duration": 31,
    "start_time": "2021-10-26T18:19:01.402Z"
   },
   {
    "duration": 5,
    "start_time": "2021-10-26T18:19:38.907Z"
   },
   {
    "duration": 6,
    "start_time": "2021-10-26T18:19:39.295Z"
   },
   {
    "duration": 12,
    "start_time": "2021-10-26T18:19:46.462Z"
   },
   {
    "duration": 18,
    "start_time": "2021-10-26T18:20:03.288Z"
   },
   {
    "duration": 5,
    "start_time": "2021-10-26T18:27:05.226Z"
   },
   {
    "duration": 5,
    "start_time": "2021-10-26T18:27:11.536Z"
   },
   {
    "duration": 18,
    "start_time": "2021-10-26T18:27:33.324Z"
   },
   {
    "duration": 3,
    "start_time": "2021-10-26T18:27:40.747Z"
   },
   {
    "duration": 4,
    "start_time": "2021-10-26T18:27:40.922Z"
   },
   {
    "duration": 41,
    "start_time": "2021-10-26T18:27:52.832Z"
   },
   {
    "duration": 15,
    "start_time": "2021-10-26T18:27:56.956Z"
   },
   {
    "duration": 45,
    "start_time": "2021-10-26T18:28:43.065Z"
   },
   {
    "duration": 18,
    "start_time": "2021-10-26T18:28:43.626Z"
   },
   {
    "duration": 8,
    "start_time": "2021-10-26T18:28:56.466Z"
   },
   {
    "duration": 16,
    "start_time": "2021-10-26T18:29:00.822Z"
   },
   {
    "duration": 4,
    "start_time": "2021-10-26T18:29:24.604Z"
   },
   {
    "duration": 4,
    "start_time": "2021-10-26T18:29:24.776Z"
   },
   {
    "duration": 37,
    "start_time": "2021-10-26T18:29:24.989Z"
   },
   {
    "duration": 17,
    "start_time": "2021-10-26T18:29:25.561Z"
   },
   {
    "duration": 6,
    "start_time": "2021-10-26T18:30:35.268Z"
   },
   {
    "duration": 17,
    "start_time": "2021-10-26T18:30:48.563Z"
   },
   {
    "duration": 7,
    "start_time": "2021-10-26T18:30:51.441Z"
   },
   {
    "duration": 6,
    "start_time": "2021-10-26T18:31:35.935Z"
   },
   {
    "duration": 4,
    "start_time": "2021-10-26T18:32:06.332Z"
   },
   {
    "duration": 4,
    "start_time": "2021-10-26T18:32:06.495Z"
   },
   {
    "duration": 34,
    "start_time": "2021-10-26T18:32:06.653Z"
   },
   {
    "duration": 17,
    "start_time": "2021-10-26T18:32:15.208Z"
   },
   {
    "duration": 3,
    "start_time": "2021-10-26T18:32:30.471Z"
   },
   {
    "duration": 3,
    "start_time": "2021-10-26T18:32:30.884Z"
   },
   {
    "duration": 33,
    "start_time": "2021-10-26T18:32:32.737Z"
   },
   {
    "duration": 18,
    "start_time": "2021-10-26T18:32:33.175Z"
   },
   {
    "duration": 18,
    "start_time": "2021-10-26T18:32:47.187Z"
   },
   {
    "duration": 16,
    "start_time": "2021-10-26T18:34:32.011Z"
   },
   {
    "duration": 279,
    "start_time": "2021-10-26T18:36:27.525Z"
   },
   {
    "duration": 19,
    "start_time": "2021-10-26T18:36:43.659Z"
   },
   {
    "duration": 16,
    "start_time": "2021-10-26T18:36:48.173Z"
   },
   {
    "duration": 7,
    "start_time": "2021-10-26T18:37:23.335Z"
   },
   {
    "duration": 14,
    "start_time": "2021-10-26T18:37:23.854Z"
   },
   {
    "duration": 61,
    "start_time": "2021-10-26T18:38:13.640Z"
   },
   {
    "duration": 6,
    "start_time": "2021-10-26T18:38:22.284Z"
   },
   {
    "duration": 17,
    "start_time": "2021-10-26T18:38:24.571Z"
   },
   {
    "duration": 5,
    "start_time": "2021-10-26T18:38:42.365Z"
   },
   {
    "duration": 65,
    "start_time": "2021-10-26T18:38:46.971Z"
   },
   {
    "duration": 5,
    "start_time": "2021-10-26T18:38:49.698Z"
   },
   {
    "duration": 4,
    "start_time": "2021-10-26T18:39:12.470Z"
   },
   {
    "duration": 16,
    "start_time": "2021-10-26T18:39:17.020Z"
   },
   {
    "duration": 8,
    "start_time": "2021-10-26T18:39:50.855Z"
   },
   {
    "duration": 15,
    "start_time": "2021-10-26T18:40:01.971Z"
   },
   {
    "duration": 8,
    "start_time": "2021-10-26T18:40:07.689Z"
   },
   {
    "duration": 15,
    "start_time": "2021-10-26T18:40:24.473Z"
   },
   {
    "duration": 4,
    "start_time": "2021-10-26T18:40:30.527Z"
   },
   {
    "duration": 3,
    "start_time": "2021-10-26T18:40:30.731Z"
   },
   {
    "duration": 34,
    "start_time": "2021-10-26T18:40:31.004Z"
   },
   {
    "duration": 15,
    "start_time": "2021-10-26T18:40:32.927Z"
   },
   {
    "duration": 16,
    "start_time": "2021-10-26T18:40:35.505Z"
   },
   {
    "duration": 5128,
    "start_time": "2021-10-26T18:41:38.013Z"
   },
   {
    "duration": 16,
    "start_time": "2021-10-26T18:41:48.267Z"
   },
   {
    "duration": 7,
    "start_time": "2021-10-26T18:42:50.362Z"
   },
   {
    "duration": 8,
    "start_time": "2021-10-26T18:43:02.994Z"
   },
   {
    "duration": 6,
    "start_time": "2021-10-26T18:43:12.627Z"
   },
   {
    "duration": 18,
    "start_time": "2021-10-26T18:43:14.214Z"
   },
   {
    "duration": 5,
    "start_time": "2021-10-26T18:43:21.203Z"
   },
   {
    "duration": 4,
    "start_time": "2021-10-26T18:43:25.765Z"
   },
   {
    "duration": 5,
    "start_time": "2021-10-26T18:43:33.343Z"
   },
   {
    "duration": 179,
    "start_time": "2021-10-26T18:43:46.280Z"
   },
   {
    "duration": 19,
    "start_time": "2021-10-26T18:43:49.389Z"
   },
   {
    "duration": 5,
    "start_time": "2021-10-26T18:44:55.407Z"
   },
   {
    "duration": 3,
    "start_time": "2021-10-26T18:44:55.588Z"
   },
   {
    "duration": 34,
    "start_time": "2021-10-26T18:44:55.936Z"
   },
   {
    "duration": 8,
    "start_time": "2021-10-26T18:44:58.340Z"
   },
   {
    "duration": 18,
    "start_time": "2021-10-26T18:45:02.399Z"
   },
   {
    "duration": 4,
    "start_time": "2021-10-26T18:45:48.984Z"
   },
   {
    "duration": 17,
    "start_time": "2021-10-26T18:45:50.981Z"
   },
   {
    "duration": 18,
    "start_time": "2021-10-26T18:45:54.889Z"
   },
   {
    "duration": 16,
    "start_time": "2021-10-26T18:46:08.423Z"
   },
   {
    "duration": 4,
    "start_time": "2021-10-26T18:46:17.324Z"
   },
   {
    "duration": 3,
    "start_time": "2021-10-26T18:46:17.597Z"
   },
   {
    "duration": 3,
    "start_time": "2021-10-26T18:46:17.954Z"
   },
   {
    "duration": 71,
    "start_time": "2021-10-26T18:46:18.327Z"
   },
   {
    "duration": 100,
    "start_time": "2021-10-26T18:46:18.492Z"
   },
   {
    "duration": 71,
    "start_time": "2021-10-26T18:46:18.673Z"
   },
   {
    "duration": 17,
    "start_time": "2021-10-26T18:46:23.654Z"
   },
   {
    "duration": 70,
    "start_time": "2021-10-26T18:46:59.768Z"
   },
   {
    "duration": 85,
    "start_time": "2021-10-26T18:47:00.169Z"
   },
   {
    "duration": 75,
    "start_time": "2021-10-26T18:47:00.509Z"
   },
   {
    "duration": 19,
    "start_time": "2021-10-26T18:47:03.751Z"
   },
   {
    "duration": 20,
    "start_time": "2021-10-26T18:49:09.342Z"
   },
   {
    "duration": 5091,
    "start_time": "2021-10-26T18:53:44.046Z"
   },
   {
    "duration": 4323,
    "start_time": "2021-10-26T18:54:07.638Z"
   },
   {
    "duration": 25,
    "start_time": "2021-10-26T18:54:13.827Z"
   },
   {
    "duration": 19,
    "start_time": "2021-10-26T18:54:19.472Z"
   },
   {
    "duration": 11,
    "start_time": "2021-10-26T18:54:58.907Z"
   },
   {
    "duration": 18,
    "start_time": "2021-10-26T18:55:01.476Z"
   },
   {
    "duration": 4,
    "start_time": "2021-10-26T18:55:09.223Z"
   },
   {
    "duration": 3,
    "start_time": "2021-10-26T18:55:09.403Z"
   },
   {
    "duration": 36,
    "start_time": "2021-10-26T18:55:09.586Z"
   },
   {
    "duration": 7,
    "start_time": "2021-10-26T18:55:11.668Z"
   },
   {
    "duration": 19,
    "start_time": "2021-10-26T18:55:13.059Z"
   },
   {
    "duration": 4354,
    "start_time": "2021-10-26T18:55:16.426Z"
   },
   {
    "duration": 4904,
    "start_time": "2021-10-26T18:55:35.830Z"
   },
   {
    "duration": 184,
    "start_time": "2021-10-26T18:55:45.767Z"
   },
   {
    "duration": 209,
    "start_time": "2021-10-26T18:55:48.520Z"
   },
   {
    "duration": 55,
    "start_time": "2021-10-26T18:55:55.413Z"
   },
   {
    "duration": 20,
    "start_time": "2021-10-26T18:55:59.565Z"
   },
   {
    "duration": 18,
    "start_time": "2021-10-26T18:56:01.170Z"
   },
   {
    "duration": 3,
    "start_time": "2021-10-26T18:56:11.451Z"
   },
   {
    "duration": 3,
    "start_time": "2021-10-26T18:56:11.634Z"
   },
   {
    "duration": 34,
    "start_time": "2021-10-26T18:56:11.864Z"
   },
   {
    "duration": 7,
    "start_time": "2021-10-26T18:56:12.403Z"
   },
   {
    "duration": 18,
    "start_time": "2021-10-26T18:56:13.028Z"
   },
   {
    "duration": 3,
    "start_time": "2021-10-26T18:57:16.049Z"
   },
   {
    "duration": 4,
    "start_time": "2021-10-26T18:57:16.226Z"
   },
   {
    "duration": 37,
    "start_time": "2021-10-26T18:57:16.542Z"
   },
   {
    "duration": 16,
    "start_time": "2021-10-26T18:57:19.135Z"
   },
   {
    "duration": 8,
    "start_time": "2021-10-26T18:58:02.904Z"
   },
   {
    "duration": 17,
    "start_time": "2021-10-26T18:58:03.105Z"
   },
   {
    "duration": 4,
    "start_time": "2021-10-26T18:59:15.438Z"
   },
   {
    "duration": 19,
    "start_time": "2021-10-26T18:59:16.444Z"
   },
   {
    "duration": 4,
    "start_time": "2021-10-26T18:59:29.073Z"
   },
   {
    "duration": 5,
    "start_time": "2021-10-26T18:59:29.455Z"
   },
   {
    "duration": 5,
    "start_time": "2021-10-26T18:59:30.837Z"
   },
   {
    "duration": 6,
    "start_time": "2021-10-26T18:59:37.052Z"
   },
   {
    "duration": 136,
    "start_time": "2021-10-26T18:59:45.233Z"
   },
   {
    "duration": 3,
    "start_time": "2021-10-26T19:04:16.516Z"
   },
   {
    "duration": 4,
    "start_time": "2021-10-26T19:04:16.879Z"
   },
   {
    "duration": 35,
    "start_time": "2021-10-26T19:04:17.234Z"
   },
   {
    "duration": 7,
    "start_time": "2021-10-26T19:04:21.705Z"
   },
   {
    "duration": 4,
    "start_time": "2021-10-26T19:04:28.891Z"
   },
   {
    "duration": 19,
    "start_time": "2021-10-26T19:04:29.135Z"
   },
   {
    "duration": 57,
    "start_time": "2021-10-26T19:04:51.955Z"
   },
   {
    "duration": 11,
    "start_time": "2021-10-26T19:04:53.540Z"
   },
   {
    "duration": 3,
    "start_time": "2021-10-26T19:05:33.846Z"
   },
   {
    "duration": 5,
    "start_time": "2021-10-26T19:05:54.884Z"
   },
   {
    "duration": 4,
    "start_time": "2021-10-26T19:05:55.891Z"
   },
   {
    "duration": 5,
    "start_time": "2021-10-26T19:07:48.234Z"
   },
   {
    "duration": 167,
    "start_time": "2021-10-26T19:07:53.284Z"
   },
   {
    "duration": 3,
    "start_time": "2021-10-26T19:09:55.395Z"
   },
   {
    "duration": 4,
    "start_time": "2021-10-26T19:09:56.168Z"
   },
   {
    "duration": 4,
    "start_time": "2021-10-26T19:10:36.977Z"
   },
   {
    "duration": 4,
    "start_time": "2021-10-26T19:10:37.158Z"
   },
   {
    "duration": 111,
    "start_time": "2021-10-26T19:10:37.330Z"
   },
   {
    "duration": 9,
    "start_time": "2021-10-26T19:10:38.475Z"
   },
   {
    "duration": 4,
    "start_time": "2021-10-26T19:10:39.730Z"
   },
   {
    "duration": 14,
    "start_time": "2021-10-26T19:10:40.211Z"
   },
   {
    "duration": 3,
    "start_time": "2021-10-26T19:11:06.657Z"
   },
   {
    "duration": 3,
    "start_time": "2021-10-26T19:11:06.817Z"
   },
   {
    "duration": 35,
    "start_time": "2021-10-26T19:11:06.989Z"
   },
   {
    "duration": 8,
    "start_time": "2021-10-26T19:11:07.201Z"
   },
   {
    "duration": 4,
    "start_time": "2021-10-26T19:11:07.406Z"
   },
   {
    "duration": 11,
    "start_time": "2021-10-26T19:11:07.820Z"
   },
   {
    "duration": 3,
    "start_time": "2021-10-26T19:11:55.926Z"
   },
   {
    "duration": 4,
    "start_time": "2021-10-26T19:11:56.094Z"
   },
   {
    "duration": 33,
    "start_time": "2021-10-26T19:11:56.246Z"
   },
   {
    "duration": 7,
    "start_time": "2021-10-26T19:11:56.376Z"
   },
   {
    "duration": 4,
    "start_time": "2021-10-26T19:11:56.521Z"
   },
   {
    "duration": 12,
    "start_time": "2021-10-26T19:11:56.957Z"
   },
   {
    "duration": 2,
    "start_time": "2021-10-26T19:12:32.932Z"
   },
   {
    "duration": 5,
    "start_time": "2021-10-26T19:12:34.202Z"
   },
   {
    "duration": 8,
    "start_time": "2021-10-26T19:12:36.044Z"
   },
   {
    "duration": 133,
    "start_time": "2021-10-26T19:16:34.013Z"
   },
   {
    "duration": 13,
    "start_time": "2021-10-26T19:18:06.197Z"
   },
   {
    "duration": 18,
    "start_time": "2021-10-26T19:18:10.963Z"
   },
   {
    "duration": 1883,
    "start_time": "2021-10-26T19:22:22.529Z"
   },
   {
    "duration": 1452,
    "start_time": "2021-10-26T19:22:24.414Z"
   },
   {
    "duration": 100,
    "start_time": "2021-10-26T19:22:25.869Z"
   },
   {
    "duration": 75,
    "start_time": "2021-10-26T19:22:25.971Z"
   },
   {
    "duration": 6,
    "start_time": "2021-10-26T19:22:26.092Z"
   },
   {
    "duration": 20,
    "start_time": "2021-10-26T19:22:26.100Z"
   },
   {
    "duration": 12,
    "start_time": "2021-10-26T19:22:26.121Z"
   },
   {
    "duration": 6,
    "start_time": "2021-10-26T19:22:26.136Z"
   },
   {
    "duration": 56,
    "start_time": "2021-10-26T19:22:26.144Z"
   },
   {
    "duration": 17,
    "start_time": "2021-10-26T19:22:26.201Z"
   },
   {
    "duration": 4,
    "start_time": "2021-10-26T19:22:26.219Z"
   },
   {
    "duration": 1079,
    "start_time": "2021-10-26T19:22:26.224Z"
   },
   {
    "duration": 249,
    "start_time": "2021-10-26T19:22:27.304Z"
   },
   {
    "duration": 8,
    "start_time": "2021-10-26T19:22:27.555Z"
   },
   {
    "duration": 8,
    "start_time": "2021-10-26T19:22:27.564Z"
   },
   {
    "duration": 49,
    "start_time": "2021-10-26T19:22:27.573Z"
   },
   {
    "duration": 262,
    "start_time": "2021-10-26T19:22:27.624Z"
   },
   {
    "duration": 9,
    "start_time": "2021-10-26T19:22:27.887Z"
   },
   {
    "duration": 6,
    "start_time": "2021-10-26T19:22:27.897Z"
   },
   {
    "duration": 5,
    "start_time": "2021-10-26T19:22:27.904Z"
   },
   {
    "duration": 4970,
    "start_time": "2021-10-26T19:22:27.910Z"
   },
   {
    "duration": 25,
    "start_time": "2021-10-26T19:22:32.881Z"
   },
   {
    "duration": 485,
    "start_time": "2021-10-26T19:22:32.909Z"
   },
   {
    "duration": 563,
    "start_time": "2021-10-26T19:22:33.396Z"
   },
   {
    "duration": 116,
    "start_time": "2021-10-26T19:22:33.961Z"
   },
   {
    "duration": 13,
    "start_time": "2021-10-26T19:22:34.079Z"
   },
   {
    "duration": 25,
    "start_time": "2021-10-26T19:22:34.093Z"
   },
   {
    "duration": 4,
    "start_time": "2021-10-26T19:22:34.120Z"
   },
   {
    "duration": 11,
    "start_time": "2021-10-26T19:22:34.125Z"
   },
   {
    "duration": 4,
    "start_time": "2021-10-26T19:22:34.137Z"
   },
   {
    "duration": 15,
    "start_time": "2021-10-26T19:22:34.142Z"
   },
   {
    "duration": 9,
    "start_time": "2021-10-26T19:22:34.159Z"
   },
   {
    "duration": 24,
    "start_time": "2021-10-26T19:22:34.169Z"
   },
   {
    "duration": 7,
    "start_time": "2021-10-26T19:22:34.195Z"
   },
   {
    "duration": 16,
    "start_time": "2021-10-26T19:22:34.203Z"
   },
   {
    "duration": 775,
    "start_time": "2021-10-26T19:22:34.220Z"
   },
   {
    "duration": 341,
    "start_time": "2021-10-26T19:22:34.997Z"
   },
   {
    "duration": 284,
    "start_time": "2021-10-26T19:22:35.340Z"
   },
   {
    "duration": 33754,
    "start_time": "2021-10-26T19:22:35.625Z"
   },
   {
    "duration": 957,
    "start_time": "2021-10-26T19:23:09.380Z"
   },
   {
    "duration": 4,
    "start_time": "2021-10-26T19:23:10.338Z"
   },
   {
    "duration": 7,
    "start_time": "2021-10-26T19:23:10.344Z"
   },
   {
    "duration": 82502,
    "start_time": "2021-10-26T19:23:10.352Z"
   },
   {
    "duration": 41,
    "start_time": "2021-10-26T19:24:32.855Z"
   },
   {
    "duration": 35,
    "start_time": "2021-10-26T19:24:32.898Z"
   },
   {
    "duration": 127812,
    "start_time": "2021-10-26T19:24:32.934Z"
   },
   {
    "duration": 3,
    "start_time": "2021-10-26T19:26:40.748Z"
   },
   {
    "duration": 17681,
    "start_time": "2021-10-26T19:26:40.753Z"
   },
   {
    "duration": 8,
    "start_time": "2021-10-26T19:26:58.435Z"
   },
   {
    "duration": 13,
    "start_time": "2021-10-26T19:26:58.444Z"
   },
   {
    "duration": 7,
    "start_time": "2021-10-26T19:26:58.459Z"
   },
   {
    "duration": 275,
    "start_time": "2021-10-26T19:26:58.467Z"
   },
   {
    "duration": -42,
    "start_time": "2021-10-26T19:26:58.785Z"
   },
   {
    "duration": -44,
    "start_time": "2021-10-26T19:26:58.788Z"
   },
   {
    "duration": -46,
    "start_time": "2021-10-26T19:26:58.791Z"
   },
   {
    "duration": -48,
    "start_time": "2021-10-26T19:26:58.794Z"
   },
   {
    "duration": -50,
    "start_time": "2021-10-26T19:26:58.797Z"
   },
   {
    "duration": -52,
    "start_time": "2021-10-26T19:26:58.800Z"
   },
   {
    "duration": -54,
    "start_time": "2021-10-26T19:26:58.803Z"
   },
   {
    "duration": -56,
    "start_time": "2021-10-26T19:26:58.806Z"
   },
   {
    "duration": -58,
    "start_time": "2021-10-26T19:26:58.809Z"
   },
   {
    "duration": -61,
    "start_time": "2021-10-26T19:26:58.812Z"
   },
   {
    "duration": -63,
    "start_time": "2021-10-26T19:26:58.815Z"
   },
   {
    "duration": -65,
    "start_time": "2021-10-26T19:26:58.818Z"
   },
   {
    "duration": -67,
    "start_time": "2021-10-26T19:26:58.821Z"
   },
   {
    "duration": -69,
    "start_time": "2021-10-26T19:26:58.825Z"
   },
   {
    "duration": -71,
    "start_time": "2021-10-26T19:26:58.828Z"
   },
   {
    "duration": -73,
    "start_time": "2021-10-26T19:26:58.831Z"
   },
   {
    "duration": -74,
    "start_time": "2021-10-26T19:26:58.834Z"
   },
   {
    "duration": -77,
    "start_time": "2021-10-26T19:26:58.837Z"
   },
   {
    "duration": 1637,
    "start_time": "2021-10-26T19:29:22.119Z"
   },
   {
    "duration": 5,
    "start_time": "2021-10-26T19:29:38.137Z"
   },
   {
    "duration": 551444,
    "start_time": "2021-10-26T19:29:43.031Z"
   },
   {
    "duration": 3,
    "start_time": "2021-10-26T19:38:54.477Z"
   },
   {
    "duration": 14700,
    "start_time": "2021-10-26T19:38:54.482Z"
   },
   {
    "duration": 7,
    "start_time": "2021-10-26T19:39:09.183Z"
   },
   {
    "duration": 7,
    "start_time": "2021-10-26T19:39:09.192Z"
   },
   {
    "duration": 6,
    "start_time": "2021-10-26T19:39:09.201Z"
   },
   {
    "duration": 11,
    "start_time": "2021-10-26T19:39:09.209Z"
   },
   {
    "duration": 8,
    "start_time": "2021-10-26T19:39:09.222Z"
   },
   {
    "duration": 6,
    "start_time": "2021-10-26T19:39:09.232Z"
   },
   {
    "duration": 4,
    "start_time": "2021-10-26T19:39:09.240Z"
   },
   {
    "duration": 65,
    "start_time": "2021-10-26T19:39:09.246Z"
   },
   {
    "duration": 7,
    "start_time": "2021-10-26T19:39:09.313Z"
   },
   {
    "duration": 13,
    "start_time": "2021-10-26T19:39:09.321Z"
   },
   {
    "duration": 5,
    "start_time": "2021-10-26T19:39:09.336Z"
   },
   {
    "duration": 7,
    "start_time": "2021-10-26T19:39:09.343Z"
   },
   {
    "duration": 7,
    "start_time": "2021-10-26T19:39:09.352Z"
   },
   {
    "duration": 157,
    "start_time": "2021-10-26T19:39:09.360Z"
   },
   {
    "duration": 65,
    "start_time": "2021-10-28T10:04:31.239Z"
   }
  ],
  "kernelspec": {
   "display_name": "Python 3",
   "language": "python",
   "name": "python3"
  },
  "language_info": {
   "codemirror_mode": {
    "name": "ipython",
    "version": 3
   },
   "file_extension": ".py",
   "mimetype": "text/x-python",
   "name": "python",
   "nbconvert_exporter": "python",
   "pygments_lexer": "ipython3",
   "version": "3.7.8"
  },
  "toc": {
   "base_numbering": 1,
   "nav_menu": {},
   "number_sections": true,
   "sideBar": true,
   "skip_h1_title": true,
   "title_cell": "Table of Contents",
   "title_sidebar": "Contents",
   "toc_cell": false,
   "toc_position": {},
   "toc_section_display": true,
   "toc_window_display": false
  }
 },
 "nbformat": 4,
 "nbformat_minor": 2
}

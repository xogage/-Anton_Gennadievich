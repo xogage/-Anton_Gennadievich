{
  "nbformat": 4,
  "nbformat_minor": 0,
  "metadata": {
    "kernelspec": {
      "display_name": "Python 3",
      "language": "python",
      "name": "python3"
    },
    "language_info": {
      "codemirror_mode": {
        "name": "ipython",
        "version": 3
      },
      "file_extension": ".py",
      "mimetype": "text/x-python",
      "name": "python",
      "nbconvert_exporter": "python",
      "pygments_lexer": "ipython3",
      "version": "3.7.8"
    },
    "toc": {
      "base_numbering": 1,
      "nav_menu": {},
      "number_sections": true,
      "sideBar": true,
      "skip_h1_title": true,
      "title_cell": "Содержание",
      "title_sidebar": "Contents",
      "toc_cell": true,
      "toc_position": {
        "height": "calc(100% - 180px)",
        "left": "10px",
        "top": "150px",
        "width": "230.53px"
      },
      "toc_section_display": true,
      "toc_window_display": false
    },
    "colab": {
      "name": "3.Яндекс недвижимость.ipynb",
      "provenance": [],
      "collapsed_sections": []
    }
  },
  "cells": [
    {
      "cell_type": "markdown",
      "metadata": {
        "id": "bHI6WYbr-796"
      },
      "source": [
        "## Изучение данных из файла"
      ]
    },
    {
      "cell_type": "markdown",
      "metadata": {
        "id": "P3W1ubtw-797"
      },
      "source": [
        "Для начала импортируем библиотеки, которые могут быть полезны или точно актуальны для нас."
      ]
    },
    {
      "cell_type": "code",
      "metadata": {
        "id": "0viknXU--797"
      },
      "source": [
        "import pandas as pd\n",
        "import numpy as np\n",
        "import matplotlib.pyplot as plt\n",
        "import seaborn as sns\n",
        "pd.set_option('display.max_columns', None)\n",
        "pd.set_option('display.max_colwidth', 30)\n",
        "pd.options.display.float_format = '{:.2f}'.format"
      ],
      "execution_count": null,
      "outputs": []
    },
    {
      "cell_type": "markdown",
      "metadata": {
        "id": "cK5jNnj9-798"
      },
      "source": [
        "Прочитав файл наблюдаем картину, что все данные скреились. Добавим параметр 'seb=\"\\t\"' (Разделитель знака табуляции)."
      ]
    },
    {
      "cell_type": "code",
      "metadata": {
        "id": "OeTqML3A-799",
        "outputId": "2fb43dbc-7d44-494f-e76b-6e3b3cfd50c5"
      },
      "source": [
        "df = pd.read_csv('/datasets/real_estate_data.csv', sep='\\t')\n",
        "df.head()"
      ],
      "execution_count": null,
      "outputs": [
        {
          "data": {
            "text/html": [
              "<div>\n",
              "<style scoped>\n",
              "    .dataframe tbody tr th:only-of-type {\n",
              "        vertical-align: middle;\n",
              "    }\n",
              "\n",
              "    .dataframe tbody tr th {\n",
              "        vertical-align: top;\n",
              "    }\n",
              "\n",
              "    .dataframe thead th {\n",
              "        text-align: right;\n",
              "    }\n",
              "</style>\n",
              "<table border=\"1\" class=\"dataframe\">\n",
              "  <thead>\n",
              "    <tr style=\"text-align: right;\">\n",
              "      <th></th>\n",
              "      <th>total_images</th>\n",
              "      <th>last_price</th>\n",
              "      <th>total_area</th>\n",
              "      <th>first_day_exposition</th>\n",
              "      <th>rooms</th>\n",
              "      <th>ceiling_height</th>\n",
              "      <th>floors_total</th>\n",
              "      <th>living_area</th>\n",
              "      <th>floor</th>\n",
              "      <th>is_apartment</th>\n",
              "      <th>studio</th>\n",
              "      <th>open_plan</th>\n",
              "      <th>kitchen_area</th>\n",
              "      <th>balcony</th>\n",
              "      <th>locality_name</th>\n",
              "      <th>airports_nearest</th>\n",
              "      <th>cityCenters_nearest</th>\n",
              "      <th>parks_around3000</th>\n",
              "      <th>parks_nearest</th>\n",
              "      <th>ponds_around3000</th>\n",
              "      <th>ponds_nearest</th>\n",
              "      <th>days_exposition</th>\n",
              "    </tr>\n",
              "  </thead>\n",
              "  <tbody>\n",
              "    <tr>\n",
              "      <td>0</td>\n",
              "      <td>20</td>\n",
              "      <td>13000000.00</td>\n",
              "      <td>108.00</td>\n",
              "      <td>2019-03-07T00:00:00</td>\n",
              "      <td>3</td>\n",
              "      <td>2.70</td>\n",
              "      <td>16.00</td>\n",
              "      <td>51.00</td>\n",
              "      <td>8</td>\n",
              "      <td>NaN</td>\n",
              "      <td>False</td>\n",
              "      <td>False</td>\n",
              "      <td>25.00</td>\n",
              "      <td>nan</td>\n",
              "      <td>Санкт-Петербург</td>\n",
              "      <td>18863.00</td>\n",
              "      <td>16028.00</td>\n",
              "      <td>1.00</td>\n",
              "      <td>482.00</td>\n",
              "      <td>2.00</td>\n",
              "      <td>755.00</td>\n",
              "      <td>nan</td>\n",
              "    </tr>\n",
              "    <tr>\n",
              "      <td>1</td>\n",
              "      <td>7</td>\n",
              "      <td>3350000.00</td>\n",
              "      <td>40.40</td>\n",
              "      <td>2018-12-04T00:00:00</td>\n",
              "      <td>1</td>\n",
              "      <td>nan</td>\n",
              "      <td>11.00</td>\n",
              "      <td>18.60</td>\n",
              "      <td>1</td>\n",
              "      <td>NaN</td>\n",
              "      <td>False</td>\n",
              "      <td>False</td>\n",
              "      <td>11.00</td>\n",
              "      <td>2.00</td>\n",
              "      <td>посёлок Шушары</td>\n",
              "      <td>12817.00</td>\n",
              "      <td>18603.00</td>\n",
              "      <td>0.00</td>\n",
              "      <td>nan</td>\n",
              "      <td>0.00</td>\n",
              "      <td>nan</td>\n",
              "      <td>81.00</td>\n",
              "    </tr>\n",
              "    <tr>\n",
              "      <td>2</td>\n",
              "      <td>10</td>\n",
              "      <td>5196000.00</td>\n",
              "      <td>56.00</td>\n",
              "      <td>2015-08-20T00:00:00</td>\n",
              "      <td>2</td>\n",
              "      <td>nan</td>\n",
              "      <td>5.00</td>\n",
              "      <td>34.30</td>\n",
              "      <td>4</td>\n",
              "      <td>NaN</td>\n",
              "      <td>False</td>\n",
              "      <td>False</td>\n",
              "      <td>8.30</td>\n",
              "      <td>0.00</td>\n",
              "      <td>Санкт-Петербург</td>\n",
              "      <td>21741.00</td>\n",
              "      <td>13933.00</td>\n",
              "      <td>1.00</td>\n",
              "      <td>90.00</td>\n",
              "      <td>2.00</td>\n",
              "      <td>574.00</td>\n",
              "      <td>558.00</td>\n",
              "    </tr>\n",
              "    <tr>\n",
              "      <td>3</td>\n",
              "      <td>0</td>\n",
              "      <td>64900000.00</td>\n",
              "      <td>159.00</td>\n",
              "      <td>2015-07-24T00:00:00</td>\n",
              "      <td>3</td>\n",
              "      <td>nan</td>\n",
              "      <td>14.00</td>\n",
              "      <td>nan</td>\n",
              "      <td>9</td>\n",
              "      <td>NaN</td>\n",
              "      <td>False</td>\n",
              "      <td>False</td>\n",
              "      <td>nan</td>\n",
              "      <td>0.00</td>\n",
              "      <td>Санкт-Петербург</td>\n",
              "      <td>28098.00</td>\n",
              "      <td>6800.00</td>\n",
              "      <td>2.00</td>\n",
              "      <td>84.00</td>\n",
              "      <td>3.00</td>\n",
              "      <td>234.00</td>\n",
              "      <td>424.00</td>\n",
              "    </tr>\n",
              "    <tr>\n",
              "      <td>4</td>\n",
              "      <td>2</td>\n",
              "      <td>10000000.00</td>\n",
              "      <td>100.00</td>\n",
              "      <td>2018-06-19T00:00:00</td>\n",
              "      <td>2</td>\n",
              "      <td>3.03</td>\n",
              "      <td>14.00</td>\n",
              "      <td>32.00</td>\n",
              "      <td>13</td>\n",
              "      <td>NaN</td>\n",
              "      <td>False</td>\n",
              "      <td>False</td>\n",
              "      <td>41.00</td>\n",
              "      <td>nan</td>\n",
              "      <td>Санкт-Петербург</td>\n",
              "      <td>31856.00</td>\n",
              "      <td>8098.00</td>\n",
              "      <td>2.00</td>\n",
              "      <td>112.00</td>\n",
              "      <td>1.00</td>\n",
              "      <td>48.00</td>\n",
              "      <td>121.00</td>\n",
              "    </tr>\n",
              "  </tbody>\n",
              "</table>\n",
              "</div>"
            ],
            "text/plain": [
              "   total_images  last_price  total_area first_day_exposition  rooms  \\\n",
              "0            20 13000000.00      108.00  2019-03-07T00:00:00      3   \n",
              "1             7  3350000.00       40.40  2018-12-04T00:00:00      1   \n",
              "2            10  5196000.00       56.00  2015-08-20T00:00:00      2   \n",
              "3             0 64900000.00      159.00  2015-07-24T00:00:00      3   \n",
              "4             2 10000000.00      100.00  2018-06-19T00:00:00      2   \n",
              "\n",
              "   ceiling_height  floors_total  living_area  floor is_apartment  studio  \\\n",
              "0            2.70         16.00        51.00      8          NaN   False   \n",
              "1             nan         11.00        18.60      1          NaN   False   \n",
              "2             nan          5.00        34.30      4          NaN   False   \n",
              "3             nan         14.00          nan      9          NaN   False   \n",
              "4            3.03         14.00        32.00     13          NaN   False   \n",
              "\n",
              "   open_plan  kitchen_area  balcony    locality_name  airports_nearest  \\\n",
              "0      False         25.00      nan  Санкт-Петербург          18863.00   \n",
              "1      False         11.00     2.00   посёлок Шушары          12817.00   \n",
              "2      False          8.30     0.00  Санкт-Петербург          21741.00   \n",
              "3      False           nan     0.00  Санкт-Петербург          28098.00   \n",
              "4      False         41.00      nan  Санкт-Петербург          31856.00   \n",
              "\n",
              "   cityCenters_nearest  parks_around3000  parks_nearest  ponds_around3000  \\\n",
              "0             16028.00              1.00         482.00              2.00   \n",
              "1             18603.00              0.00            nan              0.00   \n",
              "2             13933.00              1.00          90.00              2.00   \n",
              "3              6800.00              2.00          84.00              3.00   \n",
              "4              8098.00              2.00         112.00              1.00   \n",
              "\n",
              "   ponds_nearest  days_exposition  \n",
              "0         755.00              nan  \n",
              "1            nan            81.00  \n",
              "2         574.00           558.00  \n",
              "3         234.00           424.00  \n",
              "4          48.00           121.00  "
            ]
          },
          "execution_count": 2,
          "metadata": {},
          "output_type": "execute_result"
        }
      ]
    },
    {
      "cell_type": "markdown",
      "metadata": {
        "id": "j1NfRnXO-799"
      },
      "source": [
        "Видим, что таблица отображается не полностью.\n",
        "\n",
        "- Сброс ограничений на количество выводимых рядов\n",
        "pd.set_option('display.max_rows', None)\n",
        " \n",
        "- Сброс ограничений на число столбцов\n",
        "pd.set_option('display.max_columns', None)\n",
        " \n",
        "- Сброс ограничений на количество символов в записи\n",
        "pd.set_option('display.max_colwidth', None)"
      ]
    },
    {
      "cell_type": "markdown",
      "metadata": {
        "id": "WEkWC1PO-79-"
      },
      "source": [
        "Видим кучу пустых значений. Начнем предобработку данных. Глянем на общую инфу."
      ]
    },
    {
      "cell_type": "code",
      "metadata": {
        "id": "VD4PjTEP-79-",
        "outputId": "71cf4610-494b-4a5c-a05d-b41fe9d896bf"
      },
      "source": [
        "df.info()"
      ],
      "execution_count": null,
      "outputs": [
        {
          "name": "stdout",
          "output_type": "stream",
          "text": [
            "<class 'pandas.core.frame.DataFrame'>\n",
            "RangeIndex: 23699 entries, 0 to 23698\n",
            "Data columns (total 22 columns):\n",
            "total_images            23699 non-null int64\n",
            "last_price              23699 non-null float64\n",
            "total_area              23699 non-null float64\n",
            "first_day_exposition    23699 non-null object\n",
            "rooms                   23699 non-null int64\n",
            "ceiling_height          14504 non-null float64\n",
            "floors_total            23613 non-null float64\n",
            "living_area             21796 non-null float64\n",
            "floor                   23699 non-null int64\n",
            "is_apartment            2775 non-null object\n",
            "studio                  23699 non-null bool\n",
            "open_plan               23699 non-null bool\n",
            "kitchen_area            21421 non-null float64\n",
            "balcony                 12180 non-null float64\n",
            "locality_name           23650 non-null object\n",
            "airports_nearest        18157 non-null float64\n",
            "cityCenters_nearest     18180 non-null float64\n",
            "parks_around3000        18181 non-null float64\n",
            "parks_nearest           8079 non-null float64\n",
            "ponds_around3000        18181 non-null float64\n",
            "ponds_nearest           9110 non-null float64\n",
            "days_exposition         20518 non-null float64\n",
            "dtypes: bool(2), float64(14), int64(3), object(3)\n",
            "memory usage: 3.7+ MB\n"
          ]
        }
      ]
    },
    {
      "cell_type": "code",
      "metadata": {
        "id": "PvHmeS3x-79_",
        "outputId": "b9c549a0-647b-4733-80e9-6f63060002d5"
      },
      "source": [
        "df.describe().T"
      ],
      "execution_count": null,
      "outputs": [
        {
          "data": {
            "text/html": [
              "<div>\n",
              "<style scoped>\n",
              "    .dataframe tbody tr th:only-of-type {\n",
              "        vertical-align: middle;\n",
              "    }\n",
              "\n",
              "    .dataframe tbody tr th {\n",
              "        vertical-align: top;\n",
              "    }\n",
              "\n",
              "    .dataframe thead th {\n",
              "        text-align: right;\n",
              "    }\n",
              "</style>\n",
              "<table border=\"1\" class=\"dataframe\">\n",
              "  <thead>\n",
              "    <tr style=\"text-align: right;\">\n",
              "      <th></th>\n",
              "      <th>count</th>\n",
              "      <th>mean</th>\n",
              "      <th>std</th>\n",
              "      <th>min</th>\n",
              "      <th>25%</th>\n",
              "      <th>50%</th>\n",
              "      <th>75%</th>\n",
              "      <th>max</th>\n",
              "    </tr>\n",
              "  </thead>\n",
              "  <tbody>\n",
              "    <tr>\n",
              "      <td>total_images</td>\n",
              "      <td>23699.00</td>\n",
              "      <td>9.86</td>\n",
              "      <td>5.68</td>\n",
              "      <td>0.00</td>\n",
              "      <td>6.00</td>\n",
              "      <td>9.00</td>\n",
              "      <td>14.00</td>\n",
              "      <td>50.00</td>\n",
              "    </tr>\n",
              "    <tr>\n",
              "      <td>last_price</td>\n",
              "      <td>23699.00</td>\n",
              "      <td>6541548.77</td>\n",
              "      <td>10887013.27</td>\n",
              "      <td>12190.00</td>\n",
              "      <td>3400000.00</td>\n",
              "      <td>4650000.00</td>\n",
              "      <td>6800000.00</td>\n",
              "      <td>763000000.00</td>\n",
              "    </tr>\n",
              "    <tr>\n",
              "      <td>total_area</td>\n",
              "      <td>23699.00</td>\n",
              "      <td>60.35</td>\n",
              "      <td>35.65</td>\n",
              "      <td>12.00</td>\n",
              "      <td>40.00</td>\n",
              "      <td>52.00</td>\n",
              "      <td>69.90</td>\n",
              "      <td>900.00</td>\n",
              "    </tr>\n",
              "    <tr>\n",
              "      <td>rooms</td>\n",
              "      <td>23699.00</td>\n",
              "      <td>2.07</td>\n",
              "      <td>1.08</td>\n",
              "      <td>0.00</td>\n",
              "      <td>1.00</td>\n",
              "      <td>2.00</td>\n",
              "      <td>3.00</td>\n",
              "      <td>19.00</td>\n",
              "    </tr>\n",
              "    <tr>\n",
              "      <td>ceiling_height</td>\n",
              "      <td>14504.00</td>\n",
              "      <td>2.77</td>\n",
              "      <td>1.26</td>\n",
              "      <td>1.00</td>\n",
              "      <td>2.52</td>\n",
              "      <td>2.65</td>\n",
              "      <td>2.80</td>\n",
              "      <td>100.00</td>\n",
              "    </tr>\n",
              "    <tr>\n",
              "      <td>floors_total</td>\n",
              "      <td>23613.00</td>\n",
              "      <td>10.67</td>\n",
              "      <td>6.60</td>\n",
              "      <td>1.00</td>\n",
              "      <td>5.00</td>\n",
              "      <td>9.00</td>\n",
              "      <td>16.00</td>\n",
              "      <td>60.00</td>\n",
              "    </tr>\n",
              "    <tr>\n",
              "      <td>living_area</td>\n",
              "      <td>21796.00</td>\n",
              "      <td>34.46</td>\n",
              "      <td>22.03</td>\n",
              "      <td>2.00</td>\n",
              "      <td>18.60</td>\n",
              "      <td>30.00</td>\n",
              "      <td>42.30</td>\n",
              "      <td>409.70</td>\n",
              "    </tr>\n",
              "    <tr>\n",
              "      <td>floor</td>\n",
              "      <td>23699.00</td>\n",
              "      <td>5.89</td>\n",
              "      <td>4.89</td>\n",
              "      <td>1.00</td>\n",
              "      <td>2.00</td>\n",
              "      <td>4.00</td>\n",
              "      <td>8.00</td>\n",
              "      <td>33.00</td>\n",
              "    </tr>\n",
              "    <tr>\n",
              "      <td>kitchen_area</td>\n",
              "      <td>21421.00</td>\n",
              "      <td>10.57</td>\n",
              "      <td>5.91</td>\n",
              "      <td>1.30</td>\n",
              "      <td>7.00</td>\n",
              "      <td>9.10</td>\n",
              "      <td>12.00</td>\n",
              "      <td>112.00</td>\n",
              "    </tr>\n",
              "    <tr>\n",
              "      <td>balcony</td>\n",
              "      <td>12180.00</td>\n",
              "      <td>1.15</td>\n",
              "      <td>1.07</td>\n",
              "      <td>0.00</td>\n",
              "      <td>0.00</td>\n",
              "      <td>1.00</td>\n",
              "      <td>2.00</td>\n",
              "      <td>5.00</td>\n",
              "    </tr>\n",
              "    <tr>\n",
              "      <td>airports_nearest</td>\n",
              "      <td>18157.00</td>\n",
              "      <td>28793.67</td>\n",
              "      <td>12630.88</td>\n",
              "      <td>0.00</td>\n",
              "      <td>18585.00</td>\n",
              "      <td>26726.00</td>\n",
              "      <td>37273.00</td>\n",
              "      <td>84869.00</td>\n",
              "    </tr>\n",
              "    <tr>\n",
              "      <td>cityCenters_nearest</td>\n",
              "      <td>18180.00</td>\n",
              "      <td>14191.28</td>\n",
              "      <td>8608.39</td>\n",
              "      <td>181.00</td>\n",
              "      <td>9238.00</td>\n",
              "      <td>13098.50</td>\n",
              "      <td>16293.00</td>\n",
              "      <td>65968.00</td>\n",
              "    </tr>\n",
              "    <tr>\n",
              "      <td>parks_around3000</td>\n",
              "      <td>18181.00</td>\n",
              "      <td>0.61</td>\n",
              "      <td>0.80</td>\n",
              "      <td>0.00</td>\n",
              "      <td>0.00</td>\n",
              "      <td>0.00</td>\n",
              "      <td>1.00</td>\n",
              "      <td>3.00</td>\n",
              "    </tr>\n",
              "    <tr>\n",
              "      <td>parks_nearest</td>\n",
              "      <td>8079.00</td>\n",
              "      <td>490.80</td>\n",
              "      <td>342.32</td>\n",
              "      <td>1.00</td>\n",
              "      <td>288.00</td>\n",
              "      <td>455.00</td>\n",
              "      <td>612.00</td>\n",
              "      <td>3190.00</td>\n",
              "    </tr>\n",
              "    <tr>\n",
              "      <td>ponds_around3000</td>\n",
              "      <td>18181.00</td>\n",
              "      <td>0.77</td>\n",
              "      <td>0.94</td>\n",
              "      <td>0.00</td>\n",
              "      <td>0.00</td>\n",
              "      <td>1.00</td>\n",
              "      <td>1.00</td>\n",
              "      <td>3.00</td>\n",
              "    </tr>\n",
              "    <tr>\n",
              "      <td>ponds_nearest</td>\n",
              "      <td>9110.00</td>\n",
              "      <td>517.98</td>\n",
              "      <td>277.72</td>\n",
              "      <td>13.00</td>\n",
              "      <td>294.00</td>\n",
              "      <td>502.00</td>\n",
              "      <td>729.00</td>\n",
              "      <td>1344.00</td>\n",
              "    </tr>\n",
              "    <tr>\n",
              "      <td>days_exposition</td>\n",
              "      <td>20518.00</td>\n",
              "      <td>180.89</td>\n",
              "      <td>219.73</td>\n",
              "      <td>1.00</td>\n",
              "      <td>45.00</td>\n",
              "      <td>95.00</td>\n",
              "      <td>232.00</td>\n",
              "      <td>1580.00</td>\n",
              "    </tr>\n",
              "  </tbody>\n",
              "</table>\n",
              "</div>"
            ],
            "text/plain": [
              "                       count       mean         std      min        25%  \\\n",
              "total_images        23699.00       9.86        5.68     0.00       6.00   \n",
              "last_price          23699.00 6541548.77 10887013.27 12190.00 3400000.00   \n",
              "total_area          23699.00      60.35       35.65    12.00      40.00   \n",
              "rooms               23699.00       2.07        1.08     0.00       1.00   \n",
              "ceiling_height      14504.00       2.77        1.26     1.00       2.52   \n",
              "floors_total        23613.00      10.67        6.60     1.00       5.00   \n",
              "living_area         21796.00      34.46       22.03     2.00      18.60   \n",
              "floor               23699.00       5.89        4.89     1.00       2.00   \n",
              "kitchen_area        21421.00      10.57        5.91     1.30       7.00   \n",
              "balcony             12180.00       1.15        1.07     0.00       0.00   \n",
              "airports_nearest    18157.00   28793.67    12630.88     0.00   18585.00   \n",
              "cityCenters_nearest 18180.00   14191.28     8608.39   181.00    9238.00   \n",
              "parks_around3000    18181.00       0.61        0.80     0.00       0.00   \n",
              "parks_nearest        8079.00     490.80      342.32     1.00     288.00   \n",
              "ponds_around3000    18181.00       0.77        0.94     0.00       0.00   \n",
              "ponds_nearest        9110.00     517.98      277.72    13.00     294.00   \n",
              "days_exposition     20518.00     180.89      219.73     1.00      45.00   \n",
              "\n",
              "                           50%        75%          max  \n",
              "total_images              9.00      14.00        50.00  \n",
              "last_price          4650000.00 6800000.00 763000000.00  \n",
              "total_area               52.00      69.90       900.00  \n",
              "rooms                     2.00       3.00        19.00  \n",
              "ceiling_height            2.65       2.80       100.00  \n",
              "floors_total              9.00      16.00        60.00  \n",
              "living_area              30.00      42.30       409.70  \n",
              "floor                     4.00       8.00        33.00  \n",
              "kitchen_area              9.10      12.00       112.00  \n",
              "balcony                   1.00       2.00         5.00  \n",
              "airports_nearest      26726.00   37273.00     84869.00  \n",
              "cityCenters_nearest   13098.50   16293.00     65968.00  \n",
              "parks_around3000          0.00       1.00         3.00  \n",
              "parks_nearest           455.00     612.00      3190.00  \n",
              "ponds_around3000          1.00       1.00         3.00  \n",
              "ponds_nearest           502.00     729.00      1344.00  \n",
              "days_exposition          95.00     232.00      1580.00  "
            ]
          },
          "execution_count": 4,
          "metadata": {},
          "output_type": "execute_result"
        }
      ]
    },
    {
      "cell_type": "markdown",
      "metadata": {
        "id": "3ReDH_s3-79_"
      },
      "source": [
        "\n",
        "- total_images — число фотографий квартиры в объявлении\n",
        "- last_price — цена на момент снятия с публикации\n",
        "- total_area — площадь квартиры в квадратных метрах (м²)\n",
        "- first_day_exposition — дата публикации\n",
        "- rooms — число комнат\n",
        "- ceiling_height — высота потолков (м) (NaN)\n",
        "- floors_total — всего этажей в доме (NaN)\n",
        "- living_area — жилая площадь в квадратных метрах(м²) (NaN)\n",
        "- floor — этаж\n",
        "- is_apartment — апартаменты (булев тип) (NaN)\n",
        "- studio — квартира-студия (булев тип)\n",
        "- open_plan — свободная планировка (булев тип)\n",
        "- kitchen_area — площадь кухни в квадратных метрах (м²) (NaN)\n",
        "- balcony — число балконов (NaN)\n",
        "- locality_name — название населённого пункта (NaN)\n",
        "- airports_nearest — расстояние до ближайшего аэропорта в метрах (м) (NaN)\n",
        "- cityCenters_nearest — расстояние до центра города (м) (NaN)\n",
        "- parks_around3000 — число парков в радиусе 3 км (NaN)\n",
        "- parks_nearest — расстояние до ближайшего парка (м) (NaN)\n",
        "- ponds_around3000 — число водоёмов в радиусе 3 км (NaN)\n",
        "- ponds_nearest — расстояние до ближайшего водоёма (м) (NaN)\n",
        "- days_exposition — сколько дней было размещено объявление (от публикации до снятия) (NaN)\n",
        "\n",
        "Столбец даты и время нужно перевести в правилный тип данны. \n",
        "- (NaN) - это столбы где есть пропущенные значения ."
      ]
    },
    {
      "cell_type": "markdown",
      "metadata": {
        "id": "51eDiS0S-7-A"
      },
      "source": [
        "### Вывод\n",
        "\n",
        "После вывода общей инфы видим что надо делать для начала:\n",
        "- исследовать пустые значения и понять на, что и где их заменить. \n",
        "- Заменить тип данный в столбцах.\n",
        "- Найти дубликаты и обработать их."
      ]
    },
    {
      "cell_type": "markdown",
      "metadata": {
        "id": "E6kVlTHQ-7-B"
      },
      "source": [
        "## Предобработка данных"
      ]
    },
    {
      "cell_type": "code",
      "metadata": {
        "id": "unTDsSAj-7-C"
      },
      "source": [
        "def percent_omission(df):\n",
        "    x = []\n",
        "    for i in df.columns.tolist():\n",
        "            percentage_omissions = df[i].isna().sum() / len(df)\n",
        "            omissions = df[i].isna().sum()\n",
        "            x.append({'Название таблицы': i, 'Пропуски': omissions, 'Доля пропусков': percentage_omissions})\n",
        "    data = pd.DataFrame(x)\n",
        "    data = data.style.format({'Доля пропусков': '{:.2%}'})\n",
        "    return data"
      ],
      "execution_count": null,
      "outputs": []
    },
    {
      "cell_type": "code",
      "metadata": {
        "id": "3Z6wEshY-7-C",
        "outputId": "2fa29f2f-7b94-4850-9ace-0fa421e59fcd"
      },
      "source": [
        "percent_omission(df)"
      ],
      "execution_count": null,
      "outputs": [
        {
          "data": {
            "text/html": [
              "<style  type=\"text/css\" >\n",
              "</style><table id=\"T_921aa068_a8dc_11eb_90df_02420a39a361\" ><thead>    <tr>        <th class=\"blank level0\" ></th>        <th class=\"col_heading level0 col0\" >Название таблицы</th>        <th class=\"col_heading level0 col1\" >Пропуски</th>        <th class=\"col_heading level0 col2\" >Доля пропусков</th>    </tr></thead><tbody>\n",
              "                <tr>\n",
              "                        <th id=\"T_921aa068_a8dc_11eb_90df_02420a39a361level0_row0\" class=\"row_heading level0 row0\" >0</th>\n",
              "                        <td id=\"T_921aa068_a8dc_11eb_90df_02420a39a361row0_col0\" class=\"data row0 col0\" >total_images</td>\n",
              "                        <td id=\"T_921aa068_a8dc_11eb_90df_02420a39a361row0_col1\" class=\"data row0 col1\" >0</td>\n",
              "                        <td id=\"T_921aa068_a8dc_11eb_90df_02420a39a361row0_col2\" class=\"data row0 col2\" >0.00%</td>\n",
              "            </tr>\n",
              "            <tr>\n",
              "                        <th id=\"T_921aa068_a8dc_11eb_90df_02420a39a361level0_row1\" class=\"row_heading level0 row1\" >1</th>\n",
              "                        <td id=\"T_921aa068_a8dc_11eb_90df_02420a39a361row1_col0\" class=\"data row1 col0\" >last_price</td>\n",
              "                        <td id=\"T_921aa068_a8dc_11eb_90df_02420a39a361row1_col1\" class=\"data row1 col1\" >0</td>\n",
              "                        <td id=\"T_921aa068_a8dc_11eb_90df_02420a39a361row1_col2\" class=\"data row1 col2\" >0.00%</td>\n",
              "            </tr>\n",
              "            <tr>\n",
              "                        <th id=\"T_921aa068_a8dc_11eb_90df_02420a39a361level0_row2\" class=\"row_heading level0 row2\" >2</th>\n",
              "                        <td id=\"T_921aa068_a8dc_11eb_90df_02420a39a361row2_col0\" class=\"data row2 col0\" >total_area</td>\n",
              "                        <td id=\"T_921aa068_a8dc_11eb_90df_02420a39a361row2_col1\" class=\"data row2 col1\" >0</td>\n",
              "                        <td id=\"T_921aa068_a8dc_11eb_90df_02420a39a361row2_col2\" class=\"data row2 col2\" >0.00%</td>\n",
              "            </tr>\n",
              "            <tr>\n",
              "                        <th id=\"T_921aa068_a8dc_11eb_90df_02420a39a361level0_row3\" class=\"row_heading level0 row3\" >3</th>\n",
              "                        <td id=\"T_921aa068_a8dc_11eb_90df_02420a39a361row3_col0\" class=\"data row3 col0\" >first_day_exposition</td>\n",
              "                        <td id=\"T_921aa068_a8dc_11eb_90df_02420a39a361row3_col1\" class=\"data row3 col1\" >0</td>\n",
              "                        <td id=\"T_921aa068_a8dc_11eb_90df_02420a39a361row3_col2\" class=\"data row3 col2\" >0.00%</td>\n",
              "            </tr>\n",
              "            <tr>\n",
              "                        <th id=\"T_921aa068_a8dc_11eb_90df_02420a39a361level0_row4\" class=\"row_heading level0 row4\" >4</th>\n",
              "                        <td id=\"T_921aa068_a8dc_11eb_90df_02420a39a361row4_col0\" class=\"data row4 col0\" >rooms</td>\n",
              "                        <td id=\"T_921aa068_a8dc_11eb_90df_02420a39a361row4_col1\" class=\"data row4 col1\" >0</td>\n",
              "                        <td id=\"T_921aa068_a8dc_11eb_90df_02420a39a361row4_col2\" class=\"data row4 col2\" >0.00%</td>\n",
              "            </tr>\n",
              "            <tr>\n",
              "                        <th id=\"T_921aa068_a8dc_11eb_90df_02420a39a361level0_row5\" class=\"row_heading level0 row5\" >5</th>\n",
              "                        <td id=\"T_921aa068_a8dc_11eb_90df_02420a39a361row5_col0\" class=\"data row5 col0\" >ceiling_height</td>\n",
              "                        <td id=\"T_921aa068_a8dc_11eb_90df_02420a39a361row5_col1\" class=\"data row5 col1\" >9195</td>\n",
              "                        <td id=\"T_921aa068_a8dc_11eb_90df_02420a39a361row5_col2\" class=\"data row5 col2\" >38.80%</td>\n",
              "            </tr>\n",
              "            <tr>\n",
              "                        <th id=\"T_921aa068_a8dc_11eb_90df_02420a39a361level0_row6\" class=\"row_heading level0 row6\" >6</th>\n",
              "                        <td id=\"T_921aa068_a8dc_11eb_90df_02420a39a361row6_col0\" class=\"data row6 col0\" >floors_total</td>\n",
              "                        <td id=\"T_921aa068_a8dc_11eb_90df_02420a39a361row6_col1\" class=\"data row6 col1\" >86</td>\n",
              "                        <td id=\"T_921aa068_a8dc_11eb_90df_02420a39a361row6_col2\" class=\"data row6 col2\" >0.36%</td>\n",
              "            </tr>\n",
              "            <tr>\n",
              "                        <th id=\"T_921aa068_a8dc_11eb_90df_02420a39a361level0_row7\" class=\"row_heading level0 row7\" >7</th>\n",
              "                        <td id=\"T_921aa068_a8dc_11eb_90df_02420a39a361row7_col0\" class=\"data row7 col0\" >living_area</td>\n",
              "                        <td id=\"T_921aa068_a8dc_11eb_90df_02420a39a361row7_col1\" class=\"data row7 col1\" >1903</td>\n",
              "                        <td id=\"T_921aa068_a8dc_11eb_90df_02420a39a361row7_col2\" class=\"data row7 col2\" >8.03%</td>\n",
              "            </tr>\n",
              "            <tr>\n",
              "                        <th id=\"T_921aa068_a8dc_11eb_90df_02420a39a361level0_row8\" class=\"row_heading level0 row8\" >8</th>\n",
              "                        <td id=\"T_921aa068_a8dc_11eb_90df_02420a39a361row8_col0\" class=\"data row8 col0\" >floor</td>\n",
              "                        <td id=\"T_921aa068_a8dc_11eb_90df_02420a39a361row8_col1\" class=\"data row8 col1\" >0</td>\n",
              "                        <td id=\"T_921aa068_a8dc_11eb_90df_02420a39a361row8_col2\" class=\"data row8 col2\" >0.00%</td>\n",
              "            </tr>\n",
              "            <tr>\n",
              "                        <th id=\"T_921aa068_a8dc_11eb_90df_02420a39a361level0_row9\" class=\"row_heading level0 row9\" >9</th>\n",
              "                        <td id=\"T_921aa068_a8dc_11eb_90df_02420a39a361row9_col0\" class=\"data row9 col0\" >is_apartment</td>\n",
              "                        <td id=\"T_921aa068_a8dc_11eb_90df_02420a39a361row9_col1\" class=\"data row9 col1\" >20924</td>\n",
              "                        <td id=\"T_921aa068_a8dc_11eb_90df_02420a39a361row9_col2\" class=\"data row9 col2\" >88.29%</td>\n",
              "            </tr>\n",
              "            <tr>\n",
              "                        <th id=\"T_921aa068_a8dc_11eb_90df_02420a39a361level0_row10\" class=\"row_heading level0 row10\" >10</th>\n",
              "                        <td id=\"T_921aa068_a8dc_11eb_90df_02420a39a361row10_col0\" class=\"data row10 col0\" >studio</td>\n",
              "                        <td id=\"T_921aa068_a8dc_11eb_90df_02420a39a361row10_col1\" class=\"data row10 col1\" >0</td>\n",
              "                        <td id=\"T_921aa068_a8dc_11eb_90df_02420a39a361row10_col2\" class=\"data row10 col2\" >0.00%</td>\n",
              "            </tr>\n",
              "            <tr>\n",
              "                        <th id=\"T_921aa068_a8dc_11eb_90df_02420a39a361level0_row11\" class=\"row_heading level0 row11\" >11</th>\n",
              "                        <td id=\"T_921aa068_a8dc_11eb_90df_02420a39a361row11_col0\" class=\"data row11 col0\" >open_plan</td>\n",
              "                        <td id=\"T_921aa068_a8dc_11eb_90df_02420a39a361row11_col1\" class=\"data row11 col1\" >0</td>\n",
              "                        <td id=\"T_921aa068_a8dc_11eb_90df_02420a39a361row11_col2\" class=\"data row11 col2\" >0.00%</td>\n",
              "            </tr>\n",
              "            <tr>\n",
              "                        <th id=\"T_921aa068_a8dc_11eb_90df_02420a39a361level0_row12\" class=\"row_heading level0 row12\" >12</th>\n",
              "                        <td id=\"T_921aa068_a8dc_11eb_90df_02420a39a361row12_col0\" class=\"data row12 col0\" >kitchen_area</td>\n",
              "                        <td id=\"T_921aa068_a8dc_11eb_90df_02420a39a361row12_col1\" class=\"data row12 col1\" >2278</td>\n",
              "                        <td id=\"T_921aa068_a8dc_11eb_90df_02420a39a361row12_col2\" class=\"data row12 col2\" >9.61%</td>\n",
              "            </tr>\n",
              "            <tr>\n",
              "                        <th id=\"T_921aa068_a8dc_11eb_90df_02420a39a361level0_row13\" class=\"row_heading level0 row13\" >13</th>\n",
              "                        <td id=\"T_921aa068_a8dc_11eb_90df_02420a39a361row13_col0\" class=\"data row13 col0\" >balcony</td>\n",
              "                        <td id=\"T_921aa068_a8dc_11eb_90df_02420a39a361row13_col1\" class=\"data row13 col1\" >11519</td>\n",
              "                        <td id=\"T_921aa068_a8dc_11eb_90df_02420a39a361row13_col2\" class=\"data row13 col2\" >48.61%</td>\n",
              "            </tr>\n",
              "            <tr>\n",
              "                        <th id=\"T_921aa068_a8dc_11eb_90df_02420a39a361level0_row14\" class=\"row_heading level0 row14\" >14</th>\n",
              "                        <td id=\"T_921aa068_a8dc_11eb_90df_02420a39a361row14_col0\" class=\"data row14 col0\" >locality_name</td>\n",
              "                        <td id=\"T_921aa068_a8dc_11eb_90df_02420a39a361row14_col1\" class=\"data row14 col1\" >49</td>\n",
              "                        <td id=\"T_921aa068_a8dc_11eb_90df_02420a39a361row14_col2\" class=\"data row14 col2\" >0.21%</td>\n",
              "            </tr>\n",
              "            <tr>\n",
              "                        <th id=\"T_921aa068_a8dc_11eb_90df_02420a39a361level0_row15\" class=\"row_heading level0 row15\" >15</th>\n",
              "                        <td id=\"T_921aa068_a8dc_11eb_90df_02420a39a361row15_col0\" class=\"data row15 col0\" >airports_nearest</td>\n",
              "                        <td id=\"T_921aa068_a8dc_11eb_90df_02420a39a361row15_col1\" class=\"data row15 col1\" >5542</td>\n",
              "                        <td id=\"T_921aa068_a8dc_11eb_90df_02420a39a361row15_col2\" class=\"data row15 col2\" >23.38%</td>\n",
              "            </tr>\n",
              "            <tr>\n",
              "                        <th id=\"T_921aa068_a8dc_11eb_90df_02420a39a361level0_row16\" class=\"row_heading level0 row16\" >16</th>\n",
              "                        <td id=\"T_921aa068_a8dc_11eb_90df_02420a39a361row16_col0\" class=\"data row16 col0\" >cityCenters_nearest</td>\n",
              "                        <td id=\"T_921aa068_a8dc_11eb_90df_02420a39a361row16_col1\" class=\"data row16 col1\" >5519</td>\n",
              "                        <td id=\"T_921aa068_a8dc_11eb_90df_02420a39a361row16_col2\" class=\"data row16 col2\" >23.29%</td>\n",
              "            </tr>\n",
              "            <tr>\n",
              "                        <th id=\"T_921aa068_a8dc_11eb_90df_02420a39a361level0_row17\" class=\"row_heading level0 row17\" >17</th>\n",
              "                        <td id=\"T_921aa068_a8dc_11eb_90df_02420a39a361row17_col0\" class=\"data row17 col0\" >parks_around3000</td>\n",
              "                        <td id=\"T_921aa068_a8dc_11eb_90df_02420a39a361row17_col1\" class=\"data row17 col1\" >5518</td>\n",
              "                        <td id=\"T_921aa068_a8dc_11eb_90df_02420a39a361row17_col2\" class=\"data row17 col2\" >23.28%</td>\n",
              "            </tr>\n",
              "            <tr>\n",
              "                        <th id=\"T_921aa068_a8dc_11eb_90df_02420a39a361level0_row18\" class=\"row_heading level0 row18\" >18</th>\n",
              "                        <td id=\"T_921aa068_a8dc_11eb_90df_02420a39a361row18_col0\" class=\"data row18 col0\" >parks_nearest</td>\n",
              "                        <td id=\"T_921aa068_a8dc_11eb_90df_02420a39a361row18_col1\" class=\"data row18 col1\" >15620</td>\n",
              "                        <td id=\"T_921aa068_a8dc_11eb_90df_02420a39a361row18_col2\" class=\"data row18 col2\" >65.91%</td>\n",
              "            </tr>\n",
              "            <tr>\n",
              "                        <th id=\"T_921aa068_a8dc_11eb_90df_02420a39a361level0_row19\" class=\"row_heading level0 row19\" >19</th>\n",
              "                        <td id=\"T_921aa068_a8dc_11eb_90df_02420a39a361row19_col0\" class=\"data row19 col0\" >ponds_around3000</td>\n",
              "                        <td id=\"T_921aa068_a8dc_11eb_90df_02420a39a361row19_col1\" class=\"data row19 col1\" >5518</td>\n",
              "                        <td id=\"T_921aa068_a8dc_11eb_90df_02420a39a361row19_col2\" class=\"data row19 col2\" >23.28%</td>\n",
              "            </tr>\n",
              "            <tr>\n",
              "                        <th id=\"T_921aa068_a8dc_11eb_90df_02420a39a361level0_row20\" class=\"row_heading level0 row20\" >20</th>\n",
              "                        <td id=\"T_921aa068_a8dc_11eb_90df_02420a39a361row20_col0\" class=\"data row20 col0\" >ponds_nearest</td>\n",
              "                        <td id=\"T_921aa068_a8dc_11eb_90df_02420a39a361row20_col1\" class=\"data row20 col1\" >14589</td>\n",
              "                        <td id=\"T_921aa068_a8dc_11eb_90df_02420a39a361row20_col2\" class=\"data row20 col2\" >61.56%</td>\n",
              "            </tr>\n",
              "            <tr>\n",
              "                        <th id=\"T_921aa068_a8dc_11eb_90df_02420a39a361level0_row21\" class=\"row_heading level0 row21\" >21</th>\n",
              "                        <td id=\"T_921aa068_a8dc_11eb_90df_02420a39a361row21_col0\" class=\"data row21 col0\" >days_exposition</td>\n",
              "                        <td id=\"T_921aa068_a8dc_11eb_90df_02420a39a361row21_col1\" class=\"data row21 col1\" >3181</td>\n",
              "                        <td id=\"T_921aa068_a8dc_11eb_90df_02420a39a361row21_col2\" class=\"data row21 col2\" >13.42%</td>\n",
              "            </tr>\n",
              "    </tbody></table>"
            ],
            "text/plain": [
              "<pandas.io.formats.style.Styler at 0x7f62f4006910>"
            ]
          },
          "execution_count": 7,
          "metadata": {},
          "output_type": "execute_result"
        }
      ]
    },
    {
      "cell_type": "markdown",
      "metadata": {
        "id": "9dEn7aX8-7-C"
      },
      "source": [
        "Вызвав метод isna() мы подсчитали пустые значения. Так же в названиях столбцов видим столбец 'cityCenters_nearest' с нарушением регистра. Изменим его, чтобы потом не получать ошибки. Затем приступим к замене пустых значений."
      ]
    },
    {
      "cell_type": "code",
      "metadata": {
        "id": "N8tp22oO-7-C"
      },
      "source": [
        "df.columns = ['total_images', 'last_price', 'total_area', 'first_day_exposition',\n",
        "       'rooms', 'ceiling_height', 'floors_total', 'living_area', 'floor',\n",
        "       'is_apartment', 'studio', 'open_plan', 'kitchen_area', 'balcony',\n",
        "       'locality_name', 'airports_nearest', 'city_centers_nearest',\n",
        "       'parks_around3000', 'parks_nearest', 'ponds_around3000',\n",
        "       'ponds_nearest', 'days_exposition']"
      ],
      "execution_count": null,
      "outputs": []
    },
    {
      "cell_type": "code",
      "metadata": {
        "id": "mQisnarr-7-D",
        "outputId": "ba8223ea-8012-42a6-bdf1-0ccbee9168ae"
      },
      "source": [
        "df.columns"
      ],
      "execution_count": null,
      "outputs": [
        {
          "data": {
            "text/plain": [
              "Index(['total_images', 'last_price', 'total_area', 'first_day_exposition',\n",
              "       'rooms', 'ceiling_height', 'floors_total', 'living_area', 'floor',\n",
              "       'is_apartment', 'studio', 'open_plan', 'kitchen_area', 'balcony',\n",
              "       'locality_name', 'airports_nearest', 'city_centers_nearest',\n",
              "       'parks_around3000', 'parks_nearest', 'ponds_around3000',\n",
              "       'ponds_nearest', 'days_exposition'],\n",
              "      dtype='object')"
            ]
          },
          "execution_count": 9,
          "metadata": {},
          "output_type": "execute_result"
        }
      ]
    },
    {
      "cell_type": "markdown",
      "metadata": {
        "id": "RtrXuKQZ-7-D"
      },
      "source": [
        "Нам предстоит много заменять значений. Напишем функцию замены."
      ]
    },
    {
      "cell_type": "code",
      "metadata": {
        "id": "AXjFrmN4-7-D"
      },
      "source": [
        "def mediana(name):\n",
        "    median = df[name].median()\n",
        "    df[name] = df[name].fillna(median)\n",
        "    \n",
        "    \n",
        "def values(name, value):\n",
        "    df[name] = df[name].fillna(value)"
      ],
      "execution_count": null,
      "outputs": []
    },
    {
      "cell_type": "markdown",
      "metadata": {
        "id": "JkaV419L-7-D"
      },
      "source": [
        "Начем с этих столбцов: \n",
        "\n",
        "**\"ceiling_height\" - высота потолка**\n",
        "\n",
        "**\"floors_total\" - этажей в доме**\n",
        "\n",
        "**\"living_area\" - жилая площадь** \n",
        "\n",
        "**- Причина появления NaN значений может быть, что люди писали прописью, а может быть техническая, что и для большенства столбцов.**\n",
        "- Значения в столбце с высотой потолка чисто гипотетически можно заменить на медиану. Если взглянуть на долю строк с пустыми значениями, то они занимают 39% и это не маленькая цифра, она может повлиять на результат. Хорошо бы конечно уточнить у людей кто выгружал эти данные, на что, их заменять. Заменю на медиану. \n",
        "- В столбце \"этажность дома\" могу заменить значения на медиану так как их доля меньше 1% и на статистику сильно не повлияют.\n",
        "- Значения в столбце \"жилая площадь\" заменить просто так нельзя, ведь площадь завист от стоимости, чем больше стоимость, тем больше площадь. Разделим на категории по суммам и потом исходя из категории заменим пропущенные значения на медиану.\n"
      ]
    },
    {
      "cell_type": "markdown",
      "metadata": {
        "id": "Z3a9NaaB-7-E"
      },
      "source": [
        "Заменим NaN в первых двух столбцах. Действуем по плану \"высота потолка\": создаем новый столбец с медианной, а в старом изменяем на unknown. Во втором столбце просто заменяем на медиану."
      ]
    },
    {
      "cell_type": "code",
      "metadata": {
        "id": "oCXmo1a5-7-E",
        "outputId": "f701a019-e44a-4878-a8af-294c43f92354"
      },
      "source": [
        "mediana('ceiling_height')\n",
        "mediana('floors_total')\n",
        "percent_omission(df)"
      ],
      "execution_count": null,
      "outputs": [
        {
          "data": {
            "text/html": [
              "<style  type=\"text/css\" >\n",
              "</style><table id=\"T_9227d526_a8dc_11eb_90df_02420a39a361\" ><thead>    <tr>        <th class=\"blank level0\" ></th>        <th class=\"col_heading level0 col0\" >Название таблицы</th>        <th class=\"col_heading level0 col1\" >Пропуски</th>        <th class=\"col_heading level0 col2\" >Доля пропусков</th>    </tr></thead><tbody>\n",
              "                <tr>\n",
              "                        <th id=\"T_9227d526_a8dc_11eb_90df_02420a39a361level0_row0\" class=\"row_heading level0 row0\" >0</th>\n",
              "                        <td id=\"T_9227d526_a8dc_11eb_90df_02420a39a361row0_col0\" class=\"data row0 col0\" >total_images</td>\n",
              "                        <td id=\"T_9227d526_a8dc_11eb_90df_02420a39a361row0_col1\" class=\"data row0 col1\" >0</td>\n",
              "                        <td id=\"T_9227d526_a8dc_11eb_90df_02420a39a361row0_col2\" class=\"data row0 col2\" >0.00%</td>\n",
              "            </tr>\n",
              "            <tr>\n",
              "                        <th id=\"T_9227d526_a8dc_11eb_90df_02420a39a361level0_row1\" class=\"row_heading level0 row1\" >1</th>\n",
              "                        <td id=\"T_9227d526_a8dc_11eb_90df_02420a39a361row1_col0\" class=\"data row1 col0\" >last_price</td>\n",
              "                        <td id=\"T_9227d526_a8dc_11eb_90df_02420a39a361row1_col1\" class=\"data row1 col1\" >0</td>\n",
              "                        <td id=\"T_9227d526_a8dc_11eb_90df_02420a39a361row1_col2\" class=\"data row1 col2\" >0.00%</td>\n",
              "            </tr>\n",
              "            <tr>\n",
              "                        <th id=\"T_9227d526_a8dc_11eb_90df_02420a39a361level0_row2\" class=\"row_heading level0 row2\" >2</th>\n",
              "                        <td id=\"T_9227d526_a8dc_11eb_90df_02420a39a361row2_col0\" class=\"data row2 col0\" >total_area</td>\n",
              "                        <td id=\"T_9227d526_a8dc_11eb_90df_02420a39a361row2_col1\" class=\"data row2 col1\" >0</td>\n",
              "                        <td id=\"T_9227d526_a8dc_11eb_90df_02420a39a361row2_col2\" class=\"data row2 col2\" >0.00%</td>\n",
              "            </tr>\n",
              "            <tr>\n",
              "                        <th id=\"T_9227d526_a8dc_11eb_90df_02420a39a361level0_row3\" class=\"row_heading level0 row3\" >3</th>\n",
              "                        <td id=\"T_9227d526_a8dc_11eb_90df_02420a39a361row3_col0\" class=\"data row3 col0\" >first_day_exposition</td>\n",
              "                        <td id=\"T_9227d526_a8dc_11eb_90df_02420a39a361row3_col1\" class=\"data row3 col1\" >0</td>\n",
              "                        <td id=\"T_9227d526_a8dc_11eb_90df_02420a39a361row3_col2\" class=\"data row3 col2\" >0.00%</td>\n",
              "            </tr>\n",
              "            <tr>\n",
              "                        <th id=\"T_9227d526_a8dc_11eb_90df_02420a39a361level0_row4\" class=\"row_heading level0 row4\" >4</th>\n",
              "                        <td id=\"T_9227d526_a8dc_11eb_90df_02420a39a361row4_col0\" class=\"data row4 col0\" >rooms</td>\n",
              "                        <td id=\"T_9227d526_a8dc_11eb_90df_02420a39a361row4_col1\" class=\"data row4 col1\" >0</td>\n",
              "                        <td id=\"T_9227d526_a8dc_11eb_90df_02420a39a361row4_col2\" class=\"data row4 col2\" >0.00%</td>\n",
              "            </tr>\n",
              "            <tr>\n",
              "                        <th id=\"T_9227d526_a8dc_11eb_90df_02420a39a361level0_row5\" class=\"row_heading level0 row5\" >5</th>\n",
              "                        <td id=\"T_9227d526_a8dc_11eb_90df_02420a39a361row5_col0\" class=\"data row5 col0\" >ceiling_height</td>\n",
              "                        <td id=\"T_9227d526_a8dc_11eb_90df_02420a39a361row5_col1\" class=\"data row5 col1\" >0</td>\n",
              "                        <td id=\"T_9227d526_a8dc_11eb_90df_02420a39a361row5_col2\" class=\"data row5 col2\" >0.00%</td>\n",
              "            </tr>\n",
              "            <tr>\n",
              "                        <th id=\"T_9227d526_a8dc_11eb_90df_02420a39a361level0_row6\" class=\"row_heading level0 row6\" >6</th>\n",
              "                        <td id=\"T_9227d526_a8dc_11eb_90df_02420a39a361row6_col0\" class=\"data row6 col0\" >floors_total</td>\n",
              "                        <td id=\"T_9227d526_a8dc_11eb_90df_02420a39a361row6_col1\" class=\"data row6 col1\" >0</td>\n",
              "                        <td id=\"T_9227d526_a8dc_11eb_90df_02420a39a361row6_col2\" class=\"data row6 col2\" >0.00%</td>\n",
              "            </tr>\n",
              "            <tr>\n",
              "                        <th id=\"T_9227d526_a8dc_11eb_90df_02420a39a361level0_row7\" class=\"row_heading level0 row7\" >7</th>\n",
              "                        <td id=\"T_9227d526_a8dc_11eb_90df_02420a39a361row7_col0\" class=\"data row7 col0\" >living_area</td>\n",
              "                        <td id=\"T_9227d526_a8dc_11eb_90df_02420a39a361row7_col1\" class=\"data row7 col1\" >1903</td>\n",
              "                        <td id=\"T_9227d526_a8dc_11eb_90df_02420a39a361row7_col2\" class=\"data row7 col2\" >8.03%</td>\n",
              "            </tr>\n",
              "            <tr>\n",
              "                        <th id=\"T_9227d526_a8dc_11eb_90df_02420a39a361level0_row8\" class=\"row_heading level0 row8\" >8</th>\n",
              "                        <td id=\"T_9227d526_a8dc_11eb_90df_02420a39a361row8_col0\" class=\"data row8 col0\" >floor</td>\n",
              "                        <td id=\"T_9227d526_a8dc_11eb_90df_02420a39a361row8_col1\" class=\"data row8 col1\" >0</td>\n",
              "                        <td id=\"T_9227d526_a8dc_11eb_90df_02420a39a361row8_col2\" class=\"data row8 col2\" >0.00%</td>\n",
              "            </tr>\n",
              "            <tr>\n",
              "                        <th id=\"T_9227d526_a8dc_11eb_90df_02420a39a361level0_row9\" class=\"row_heading level0 row9\" >9</th>\n",
              "                        <td id=\"T_9227d526_a8dc_11eb_90df_02420a39a361row9_col0\" class=\"data row9 col0\" >is_apartment</td>\n",
              "                        <td id=\"T_9227d526_a8dc_11eb_90df_02420a39a361row9_col1\" class=\"data row9 col1\" >20924</td>\n",
              "                        <td id=\"T_9227d526_a8dc_11eb_90df_02420a39a361row9_col2\" class=\"data row9 col2\" >88.29%</td>\n",
              "            </tr>\n",
              "            <tr>\n",
              "                        <th id=\"T_9227d526_a8dc_11eb_90df_02420a39a361level0_row10\" class=\"row_heading level0 row10\" >10</th>\n",
              "                        <td id=\"T_9227d526_a8dc_11eb_90df_02420a39a361row10_col0\" class=\"data row10 col0\" >studio</td>\n",
              "                        <td id=\"T_9227d526_a8dc_11eb_90df_02420a39a361row10_col1\" class=\"data row10 col1\" >0</td>\n",
              "                        <td id=\"T_9227d526_a8dc_11eb_90df_02420a39a361row10_col2\" class=\"data row10 col2\" >0.00%</td>\n",
              "            </tr>\n",
              "            <tr>\n",
              "                        <th id=\"T_9227d526_a8dc_11eb_90df_02420a39a361level0_row11\" class=\"row_heading level0 row11\" >11</th>\n",
              "                        <td id=\"T_9227d526_a8dc_11eb_90df_02420a39a361row11_col0\" class=\"data row11 col0\" >open_plan</td>\n",
              "                        <td id=\"T_9227d526_a8dc_11eb_90df_02420a39a361row11_col1\" class=\"data row11 col1\" >0</td>\n",
              "                        <td id=\"T_9227d526_a8dc_11eb_90df_02420a39a361row11_col2\" class=\"data row11 col2\" >0.00%</td>\n",
              "            </tr>\n",
              "            <tr>\n",
              "                        <th id=\"T_9227d526_a8dc_11eb_90df_02420a39a361level0_row12\" class=\"row_heading level0 row12\" >12</th>\n",
              "                        <td id=\"T_9227d526_a8dc_11eb_90df_02420a39a361row12_col0\" class=\"data row12 col0\" >kitchen_area</td>\n",
              "                        <td id=\"T_9227d526_a8dc_11eb_90df_02420a39a361row12_col1\" class=\"data row12 col1\" >2278</td>\n",
              "                        <td id=\"T_9227d526_a8dc_11eb_90df_02420a39a361row12_col2\" class=\"data row12 col2\" >9.61%</td>\n",
              "            </tr>\n",
              "            <tr>\n",
              "                        <th id=\"T_9227d526_a8dc_11eb_90df_02420a39a361level0_row13\" class=\"row_heading level0 row13\" >13</th>\n",
              "                        <td id=\"T_9227d526_a8dc_11eb_90df_02420a39a361row13_col0\" class=\"data row13 col0\" >balcony</td>\n",
              "                        <td id=\"T_9227d526_a8dc_11eb_90df_02420a39a361row13_col1\" class=\"data row13 col1\" >11519</td>\n",
              "                        <td id=\"T_9227d526_a8dc_11eb_90df_02420a39a361row13_col2\" class=\"data row13 col2\" >48.61%</td>\n",
              "            </tr>\n",
              "            <tr>\n",
              "                        <th id=\"T_9227d526_a8dc_11eb_90df_02420a39a361level0_row14\" class=\"row_heading level0 row14\" >14</th>\n",
              "                        <td id=\"T_9227d526_a8dc_11eb_90df_02420a39a361row14_col0\" class=\"data row14 col0\" >locality_name</td>\n",
              "                        <td id=\"T_9227d526_a8dc_11eb_90df_02420a39a361row14_col1\" class=\"data row14 col1\" >49</td>\n",
              "                        <td id=\"T_9227d526_a8dc_11eb_90df_02420a39a361row14_col2\" class=\"data row14 col2\" >0.21%</td>\n",
              "            </tr>\n",
              "            <tr>\n",
              "                        <th id=\"T_9227d526_a8dc_11eb_90df_02420a39a361level0_row15\" class=\"row_heading level0 row15\" >15</th>\n",
              "                        <td id=\"T_9227d526_a8dc_11eb_90df_02420a39a361row15_col0\" class=\"data row15 col0\" >airports_nearest</td>\n",
              "                        <td id=\"T_9227d526_a8dc_11eb_90df_02420a39a361row15_col1\" class=\"data row15 col1\" >5542</td>\n",
              "                        <td id=\"T_9227d526_a8dc_11eb_90df_02420a39a361row15_col2\" class=\"data row15 col2\" >23.38%</td>\n",
              "            </tr>\n",
              "            <tr>\n",
              "                        <th id=\"T_9227d526_a8dc_11eb_90df_02420a39a361level0_row16\" class=\"row_heading level0 row16\" >16</th>\n",
              "                        <td id=\"T_9227d526_a8dc_11eb_90df_02420a39a361row16_col0\" class=\"data row16 col0\" >city_centers_nearest</td>\n",
              "                        <td id=\"T_9227d526_a8dc_11eb_90df_02420a39a361row16_col1\" class=\"data row16 col1\" >5519</td>\n",
              "                        <td id=\"T_9227d526_a8dc_11eb_90df_02420a39a361row16_col2\" class=\"data row16 col2\" >23.29%</td>\n",
              "            </tr>\n",
              "            <tr>\n",
              "                        <th id=\"T_9227d526_a8dc_11eb_90df_02420a39a361level0_row17\" class=\"row_heading level0 row17\" >17</th>\n",
              "                        <td id=\"T_9227d526_a8dc_11eb_90df_02420a39a361row17_col0\" class=\"data row17 col0\" >parks_around3000</td>\n",
              "                        <td id=\"T_9227d526_a8dc_11eb_90df_02420a39a361row17_col1\" class=\"data row17 col1\" >5518</td>\n",
              "                        <td id=\"T_9227d526_a8dc_11eb_90df_02420a39a361row17_col2\" class=\"data row17 col2\" >23.28%</td>\n",
              "            </tr>\n",
              "            <tr>\n",
              "                        <th id=\"T_9227d526_a8dc_11eb_90df_02420a39a361level0_row18\" class=\"row_heading level0 row18\" >18</th>\n",
              "                        <td id=\"T_9227d526_a8dc_11eb_90df_02420a39a361row18_col0\" class=\"data row18 col0\" >parks_nearest</td>\n",
              "                        <td id=\"T_9227d526_a8dc_11eb_90df_02420a39a361row18_col1\" class=\"data row18 col1\" >15620</td>\n",
              "                        <td id=\"T_9227d526_a8dc_11eb_90df_02420a39a361row18_col2\" class=\"data row18 col2\" >65.91%</td>\n",
              "            </tr>\n",
              "            <tr>\n",
              "                        <th id=\"T_9227d526_a8dc_11eb_90df_02420a39a361level0_row19\" class=\"row_heading level0 row19\" >19</th>\n",
              "                        <td id=\"T_9227d526_a8dc_11eb_90df_02420a39a361row19_col0\" class=\"data row19 col0\" >ponds_around3000</td>\n",
              "                        <td id=\"T_9227d526_a8dc_11eb_90df_02420a39a361row19_col1\" class=\"data row19 col1\" >5518</td>\n",
              "                        <td id=\"T_9227d526_a8dc_11eb_90df_02420a39a361row19_col2\" class=\"data row19 col2\" >23.28%</td>\n",
              "            </tr>\n",
              "            <tr>\n",
              "                        <th id=\"T_9227d526_a8dc_11eb_90df_02420a39a361level0_row20\" class=\"row_heading level0 row20\" >20</th>\n",
              "                        <td id=\"T_9227d526_a8dc_11eb_90df_02420a39a361row20_col0\" class=\"data row20 col0\" >ponds_nearest</td>\n",
              "                        <td id=\"T_9227d526_a8dc_11eb_90df_02420a39a361row20_col1\" class=\"data row20 col1\" >14589</td>\n",
              "                        <td id=\"T_9227d526_a8dc_11eb_90df_02420a39a361row20_col2\" class=\"data row20 col2\" >61.56%</td>\n",
              "            </tr>\n",
              "            <tr>\n",
              "                        <th id=\"T_9227d526_a8dc_11eb_90df_02420a39a361level0_row21\" class=\"row_heading level0 row21\" >21</th>\n",
              "                        <td id=\"T_9227d526_a8dc_11eb_90df_02420a39a361row21_col0\" class=\"data row21 col0\" >days_exposition</td>\n",
              "                        <td id=\"T_9227d526_a8dc_11eb_90df_02420a39a361row21_col1\" class=\"data row21 col1\" >3181</td>\n",
              "                        <td id=\"T_9227d526_a8dc_11eb_90df_02420a39a361row21_col2\" class=\"data row21 col2\" >13.42%</td>\n",
              "            </tr>\n",
              "    </tbody></table>"
            ],
            "text/plain": [
              "<pandas.io.formats.style.Styler at 0x7f62f3c1b3d0>"
            ]
          },
          "execution_count": 11,
          "metadata": {},
          "output_type": "execute_result"
        }
      ]
    },
    {
      "cell_type": "markdown",
      "metadata": {
        "id": "k3mgn_H5-7-E"
      },
      "source": [
        "Делаю категоризацию с помощью метода cut() с настроеным шагом. Из меня программист ни какой(( по этому сделать задуманное я не могу, но идея такова, что бы автоматизировать рутину. Просто для более точного анализа я бы задал значения bins=np.linspace(0, 800000000, 100), но писать 100 категорий в ручную ... . Без понятия как это сделать через цикл , что бы он сам присваивал имя и менял лишь в имени цифру. "
      ]
    },
    {
      "cell_type": "code",
      "metadata": {
        "id": "IX2a7SZ5-7-E",
        "outputId": "c60c9e4b-1e3d-4051-f3cf-d55231b996df"
      },
      "source": [
        "df['living_area_categor'] = pd.cut(df['last_price'], \n",
        "                                   bins=[0, 10000000, 100000000, \n",
        "                                         300000000, 500000000, 800000000],\n",
        "                                   labels = ['up_to10', 'up_to100', \n",
        "                                             'up_to300', 'up_to500', 'up_to800']\n",
        "                                  )\n",
        "df.head()"
      ],
      "execution_count": null,
      "outputs": [
        {
          "data": {
            "text/html": [
              "<div>\n",
              "<style scoped>\n",
              "    .dataframe tbody tr th:only-of-type {\n",
              "        vertical-align: middle;\n",
              "    }\n",
              "\n",
              "    .dataframe tbody tr th {\n",
              "        vertical-align: top;\n",
              "    }\n",
              "\n",
              "    .dataframe thead th {\n",
              "        text-align: right;\n",
              "    }\n",
              "</style>\n",
              "<table border=\"1\" class=\"dataframe\">\n",
              "  <thead>\n",
              "    <tr style=\"text-align: right;\">\n",
              "      <th></th>\n",
              "      <th>total_images</th>\n",
              "      <th>last_price</th>\n",
              "      <th>total_area</th>\n",
              "      <th>first_day_exposition</th>\n",
              "      <th>rooms</th>\n",
              "      <th>ceiling_height</th>\n",
              "      <th>floors_total</th>\n",
              "      <th>living_area</th>\n",
              "      <th>floor</th>\n",
              "      <th>is_apartment</th>\n",
              "      <th>studio</th>\n",
              "      <th>open_plan</th>\n",
              "      <th>kitchen_area</th>\n",
              "      <th>balcony</th>\n",
              "      <th>locality_name</th>\n",
              "      <th>airports_nearest</th>\n",
              "      <th>city_centers_nearest</th>\n",
              "      <th>parks_around3000</th>\n",
              "      <th>parks_nearest</th>\n",
              "      <th>ponds_around3000</th>\n",
              "      <th>ponds_nearest</th>\n",
              "      <th>days_exposition</th>\n",
              "      <th>living_area_categor</th>\n",
              "    </tr>\n",
              "  </thead>\n",
              "  <tbody>\n",
              "    <tr>\n",
              "      <td>0</td>\n",
              "      <td>20</td>\n",
              "      <td>13000000.00</td>\n",
              "      <td>108.00</td>\n",
              "      <td>2019-03-07T00:00:00</td>\n",
              "      <td>3</td>\n",
              "      <td>2.70</td>\n",
              "      <td>16.00</td>\n",
              "      <td>51.00</td>\n",
              "      <td>8</td>\n",
              "      <td>NaN</td>\n",
              "      <td>False</td>\n",
              "      <td>False</td>\n",
              "      <td>25.00</td>\n",
              "      <td>nan</td>\n",
              "      <td>Санкт-Петербург</td>\n",
              "      <td>18863.00</td>\n",
              "      <td>16028.00</td>\n",
              "      <td>1.00</td>\n",
              "      <td>482.00</td>\n",
              "      <td>2.00</td>\n",
              "      <td>755.00</td>\n",
              "      <td>nan</td>\n",
              "      <td>up_to100</td>\n",
              "    </tr>\n",
              "    <tr>\n",
              "      <td>1</td>\n",
              "      <td>7</td>\n",
              "      <td>3350000.00</td>\n",
              "      <td>40.40</td>\n",
              "      <td>2018-12-04T00:00:00</td>\n",
              "      <td>1</td>\n",
              "      <td>2.65</td>\n",
              "      <td>11.00</td>\n",
              "      <td>18.60</td>\n",
              "      <td>1</td>\n",
              "      <td>NaN</td>\n",
              "      <td>False</td>\n",
              "      <td>False</td>\n",
              "      <td>11.00</td>\n",
              "      <td>2.00</td>\n",
              "      <td>посёлок Шушары</td>\n",
              "      <td>12817.00</td>\n",
              "      <td>18603.00</td>\n",
              "      <td>0.00</td>\n",
              "      <td>nan</td>\n",
              "      <td>0.00</td>\n",
              "      <td>nan</td>\n",
              "      <td>81.00</td>\n",
              "      <td>up_to10</td>\n",
              "    </tr>\n",
              "    <tr>\n",
              "      <td>2</td>\n",
              "      <td>10</td>\n",
              "      <td>5196000.00</td>\n",
              "      <td>56.00</td>\n",
              "      <td>2015-08-20T00:00:00</td>\n",
              "      <td>2</td>\n",
              "      <td>2.65</td>\n",
              "      <td>5.00</td>\n",
              "      <td>34.30</td>\n",
              "      <td>4</td>\n",
              "      <td>NaN</td>\n",
              "      <td>False</td>\n",
              "      <td>False</td>\n",
              "      <td>8.30</td>\n",
              "      <td>0.00</td>\n",
              "      <td>Санкт-Петербург</td>\n",
              "      <td>21741.00</td>\n",
              "      <td>13933.00</td>\n",
              "      <td>1.00</td>\n",
              "      <td>90.00</td>\n",
              "      <td>2.00</td>\n",
              "      <td>574.00</td>\n",
              "      <td>558.00</td>\n",
              "      <td>up_to10</td>\n",
              "    </tr>\n",
              "    <tr>\n",
              "      <td>3</td>\n",
              "      <td>0</td>\n",
              "      <td>64900000.00</td>\n",
              "      <td>159.00</td>\n",
              "      <td>2015-07-24T00:00:00</td>\n",
              "      <td>3</td>\n",
              "      <td>2.65</td>\n",
              "      <td>14.00</td>\n",
              "      <td>nan</td>\n",
              "      <td>9</td>\n",
              "      <td>NaN</td>\n",
              "      <td>False</td>\n",
              "      <td>False</td>\n",
              "      <td>nan</td>\n",
              "      <td>0.00</td>\n",
              "      <td>Санкт-Петербург</td>\n",
              "      <td>28098.00</td>\n",
              "      <td>6800.00</td>\n",
              "      <td>2.00</td>\n",
              "      <td>84.00</td>\n",
              "      <td>3.00</td>\n",
              "      <td>234.00</td>\n",
              "      <td>424.00</td>\n",
              "      <td>up_to100</td>\n",
              "    </tr>\n",
              "    <tr>\n",
              "      <td>4</td>\n",
              "      <td>2</td>\n",
              "      <td>10000000.00</td>\n",
              "      <td>100.00</td>\n",
              "      <td>2018-06-19T00:00:00</td>\n",
              "      <td>2</td>\n",
              "      <td>3.03</td>\n",
              "      <td>14.00</td>\n",
              "      <td>32.00</td>\n",
              "      <td>13</td>\n",
              "      <td>NaN</td>\n",
              "      <td>False</td>\n",
              "      <td>False</td>\n",
              "      <td>41.00</td>\n",
              "      <td>nan</td>\n",
              "      <td>Санкт-Петербург</td>\n",
              "      <td>31856.00</td>\n",
              "      <td>8098.00</td>\n",
              "      <td>2.00</td>\n",
              "      <td>112.00</td>\n",
              "      <td>1.00</td>\n",
              "      <td>48.00</td>\n",
              "      <td>121.00</td>\n",
              "      <td>up_to10</td>\n",
              "    </tr>\n",
              "  </tbody>\n",
              "</table>\n",
              "</div>"
            ],
            "text/plain": [
              "   total_images  last_price  total_area first_day_exposition  rooms  \\\n",
              "0            20 13000000.00      108.00  2019-03-07T00:00:00      3   \n",
              "1             7  3350000.00       40.40  2018-12-04T00:00:00      1   \n",
              "2            10  5196000.00       56.00  2015-08-20T00:00:00      2   \n",
              "3             0 64900000.00      159.00  2015-07-24T00:00:00      3   \n",
              "4             2 10000000.00      100.00  2018-06-19T00:00:00      2   \n",
              "\n",
              "   ceiling_height  floors_total  living_area  floor is_apartment  studio  \\\n",
              "0            2.70         16.00        51.00      8          NaN   False   \n",
              "1            2.65         11.00        18.60      1          NaN   False   \n",
              "2            2.65          5.00        34.30      4          NaN   False   \n",
              "3            2.65         14.00          nan      9          NaN   False   \n",
              "4            3.03         14.00        32.00     13          NaN   False   \n",
              "\n",
              "   open_plan  kitchen_area  balcony    locality_name  airports_nearest  \\\n",
              "0      False         25.00      nan  Санкт-Петербург          18863.00   \n",
              "1      False         11.00     2.00   посёлок Шушары          12817.00   \n",
              "2      False          8.30     0.00  Санкт-Петербург          21741.00   \n",
              "3      False           nan     0.00  Санкт-Петербург          28098.00   \n",
              "4      False         41.00      nan  Санкт-Петербург          31856.00   \n",
              "\n",
              "   city_centers_nearest  parks_around3000  parks_nearest  ponds_around3000  \\\n",
              "0              16028.00              1.00         482.00              2.00   \n",
              "1              18603.00              0.00            nan              0.00   \n",
              "2              13933.00              1.00          90.00              2.00   \n",
              "3               6800.00              2.00          84.00              3.00   \n",
              "4               8098.00              2.00         112.00              1.00   \n",
              "\n",
              "   ponds_nearest  days_exposition living_area_categor  \n",
              "0         755.00              nan            up_to100  \n",
              "1            nan            81.00             up_to10  \n",
              "2         574.00           558.00             up_to10  \n",
              "3         234.00           424.00            up_to100  \n",
              "4          48.00           121.00             up_to10  "
            ]
          },
          "execution_count": 12,
          "metadata": {},
          "output_type": "execute_result"
        }
      ]
    },
    {
      "cell_type": "markdown",
      "metadata": {
        "id": "JFDjiIDk-7-F"
      },
      "source": [
        "Теперь заменим NaN значения по категориям медианной."
      ]
    },
    {
      "cell_type": "code",
      "metadata": {
        "id": "RLX5F3O1-7-F",
        "outputId": "9a77bb6a-31e2-4490-8499-a90e0f9fed48"
      },
      "source": [
        "df['living_area'] = df.groupby('living_area_categor')['living_area'].apply(lambda x:\n",
        "                                                                           x.fillna(x.median()))\n",
        "df.isna().sum()"
      ],
      "execution_count": null,
      "outputs": [
        {
          "data": {
            "text/plain": [
              "total_images                0\n",
              "last_price                  0\n",
              "total_area                  0\n",
              "first_day_exposition        0\n",
              "rooms                       0\n",
              "ceiling_height              0\n",
              "floors_total                0\n",
              "living_area                 0\n",
              "floor                       0\n",
              "is_apartment            20924\n",
              "studio                      0\n",
              "open_plan                   0\n",
              "kitchen_area             2278\n",
              "balcony                 11519\n",
              "locality_name              49\n",
              "airports_nearest         5542\n",
              "city_centers_nearest     5519\n",
              "parks_around3000         5518\n",
              "parks_nearest           15620\n",
              "ponds_around3000         5518\n",
              "ponds_nearest           14589\n",
              "days_exposition          3181\n",
              "living_area_categor         0\n",
              "dtype: int64"
            ]
          },
          "execution_count": 13,
          "metadata": {},
          "output_type": "execute_result"
        }
      ]
    },
    {
      "cell_type": "markdown",
      "metadata": {
        "id": "f_MmWuTW-7-G"
      },
      "source": [
        "В столбце \"is_apartment\" 20924 значений с NaN. Остальное это True и False. Заменяем все NaN на False, потому что, если нет значений значит нет апартаментов(так написанно в примере в балконами)."
      ]
    },
    {
      "cell_type": "code",
      "metadata": {
        "id": "hDO3Tb80-7-G",
        "outputId": "de83dbb4-a268-477d-bf9f-701e57befa8b"
      },
      "source": [
        "values('is_apartment', False)\n",
        "df['is_apartment'].isna().sum()"
      ],
      "execution_count": null,
      "outputs": [
        {
          "data": {
            "text/plain": [
              "0"
            ]
          },
          "execution_count": 14,
          "metadata": {},
          "output_type": "execute_result"
        }
      ]
    },
    {
      "cell_type": "markdown",
      "metadata": {
        "id": "FGC2rw2x-7-G"
      },
      "source": [
        "Заодно изменился тип на bool"
      ]
    },
    {
      "cell_type": "code",
      "metadata": {
        "id": "NjCF2JlC-7-G",
        "outputId": "2e7f5dc6-e848-4749-d157-01a4a4578e14"
      },
      "source": [
        "df['is_apartment'].dtypes"
      ],
      "execution_count": null,
      "outputs": [
        {
          "data": {
            "text/plain": [
              "dtype('bool')"
            ]
          },
          "execution_count": 15,
          "metadata": {},
          "output_type": "execute_result"
        }
      ]
    },
    {
      "cell_type": "markdown",
      "metadata": {
        "id": "cBh_5BEF-7-G"
      },
      "source": [
        "Столбец \"площадь кухни\" заменим на median"
      ]
    },
    {
      "cell_type": "code",
      "metadata": {
        "id": "cuYFkMuI-7-H",
        "outputId": "85581432-eab7-4d42-824d-7b468a639d0e"
      },
      "source": [
        "mediana('kitchen_area')\n",
        "df['kitchen_area'].isna().sum()"
      ],
      "execution_count": null,
      "outputs": [
        {
          "data": {
            "text/plain": [
              "0"
            ]
          },
          "execution_count": 16,
          "metadata": {},
          "output_type": "execute_result"
        }
      ]
    },
    {
      "cell_type": "markdown",
      "metadata": {
        "id": "TiSbbOIC-7-H"
      },
      "source": [
        "Следуем логике из описания - если NaN то значит нет балкона. Заменяем на 0."
      ]
    },
    {
      "cell_type": "code",
      "metadata": {
        "id": "nqVoUbQP-7-H",
        "outputId": "c705aef8-4984-41dc-f2d6-ebafe18d8802"
      },
      "source": [
        "values('balcony', 0)\n",
        "df['balcony'].isna().sum()"
      ],
      "execution_count": null,
      "outputs": [
        {
          "data": {
            "text/plain": [
              "0"
            ]
          },
          "execution_count": 17,
          "metadata": {},
          "output_type": "execute_result"
        }
      ]
    },
    {
      "cell_type": "markdown",
      "metadata": {
        "id": "06_0HG_h-7-H"
      },
      "source": [
        "В названии населенного путнкта меняем NaN на unknown, т.к. рандомно писать, что за пункт это хуже того, что есть сейчас."
      ]
    },
    {
      "cell_type": "code",
      "metadata": {
        "id": "IFvqN0eB-7-I",
        "outputId": "bfa563f6-74c5-4579-a23d-773c9e742f75"
      },
      "source": [
        "values('locality_name', 'unknown')\n",
        "df['locality_name'].isna().sum()"
      ],
      "execution_count": null,
      "outputs": [
        {
          "data": {
            "text/plain": [
              "0"
            ]
          },
          "execution_count": 18,
          "metadata": {},
          "output_type": "execute_result"
        }
      ]
    },
    {
      "cell_type": "markdown",
      "metadata": {
        "id": "OfR6lQFF-7-I"
      },
      "source": [
        "Растояние до аэропорта заменим на устредненные данные по медиане, так значения будут более точные, нежели чем заменить на простую мениану. "
      ]
    },
    {
      "cell_type": "code",
      "metadata": {
        "id": "95Hc7hBK-7-I",
        "outputId": "c175edd3-e0f3-4483-e313-d0309f70f529"
      },
      "source": [
        "median = df.groupby('locality_name')['airports_nearest'].median().median()\n",
        "df['airports_nearest'] = df['airports_nearest'].fillna(median)\n",
        "df['airports_nearest'].isna().sum()"
      ],
      "execution_count": null,
      "outputs": [
        {
          "data": {
            "text/plain": [
              "0"
            ]
          },
          "execution_count": 19,
          "metadata": {},
          "output_type": "execute_result"
        }
      ]
    },
    {
      "cell_type": "markdown",
      "metadata": {
        "id": "9F2HOHlK-7-I"
      },
      "source": [
        "Расстояние до центра тоже заменим на усредненные данные по медиане. Тут вообще как бы 2 пути: либо у поселка-деревни нет центра, либо рассчитывают растояние до ближайшего центра другого города. По этому я пока сделаю следующее: объеденю города и выведу медиану до центра, а затем усредню данные и выведу медиану, так рассчет будет более устойчив и заменю NaN."
      ]
    },
    {
      "cell_type": "code",
      "metadata": {
        "id": "vUFIMP_f-7-I",
        "outputId": "54174201-fd9d-41e7-c9b3-93e01a96f163"
      },
      "source": [
        "median = df.groupby('locality_name')['city_centers_nearest'].median().median()\n",
        "df['city_centers_nearest'] = df['city_centers_nearest'].fillna(median)\n",
        "df['city_centers_nearest'].isna().sum()"
      ],
      "execution_count": null,
      "outputs": [
        {
          "data": {
            "text/plain": [
              "0"
            ]
          },
          "execution_count": 20,
          "metadata": {},
          "output_type": "execute_result"
        }
      ]
    },
    {
      "cell_type": "markdown",
      "metadata": {
        "id": "VWeiClSs-7-J"
      },
      "source": [
        "Далее идут 4 похожих столбца и поэтому логика для них будет одинакова. Число водоёмов и парков может и не быть и именно по этой причине могут в этих столбцах стоять NaN. Из этого следует, что пропущенные значения это скорее всего число 0. Заменим число водоемов и парков на 0 и расстояние тоже."
      ]
    },
    {
      "cell_type": "code",
      "metadata": {
        "id": "loEwHDwJ-7-J"
      },
      "source": [
        "values('parks_around3000', 0)\n",
        "values('parks_nearest', 0)\n",
        "values('ponds_around3000', 0)\n",
        "values('ponds_nearest', 0)"
      ],
      "execution_count": null,
      "outputs": []
    },
    {
      "cell_type": "code",
      "metadata": {
        "id": "8CNWX7KR-7-J",
        "outputId": "61a52262-84b8-42c2-f668-1cfeb1e7fa09"
      },
      "source": [
        "df.isna().sum()"
      ],
      "execution_count": null,
      "outputs": [
        {
          "data": {
            "text/plain": [
              "total_images               0\n",
              "last_price                 0\n",
              "total_area                 0\n",
              "first_day_exposition       0\n",
              "rooms                      0\n",
              "ceiling_height             0\n",
              "floors_total               0\n",
              "living_area                0\n",
              "floor                      0\n",
              "is_apartment               0\n",
              "studio                     0\n",
              "open_plan                  0\n",
              "kitchen_area               0\n",
              "balcony                    0\n",
              "locality_name              0\n",
              "airports_nearest           0\n",
              "city_centers_nearest       0\n",
              "parks_around3000           0\n",
              "parks_nearest              0\n",
              "ponds_around3000           0\n",
              "ponds_nearest              0\n",
              "days_exposition         3181\n",
              "living_area_categor        0\n",
              "dtype: int64"
            ]
          },
          "execution_count": 22,
          "metadata": {},
          "output_type": "execute_result"
        }
      ]
    },
    {
      "cell_type": "code",
      "metadata": {
        "id": "m4VjFjFt-7-J"
      },
      "source": [
        "mx = df.days_exposition.max()\n",
        "df.days_exposition = df.days_exposition.fillna(mx)"
      ],
      "execution_count": null,
      "outputs": []
    },
    {
      "cell_type": "code",
      "metadata": {
        "id": "vRy42ejA-7-K",
        "outputId": "6e31db81-576b-4300-bc4f-074a627924ee"
      },
      "source": [
        "df.isna().sum()"
      ],
      "execution_count": null,
      "outputs": [
        {
          "data": {
            "text/plain": [
              "total_images            0\n",
              "last_price              0\n",
              "total_area              0\n",
              "first_day_exposition    0\n",
              "rooms                   0\n",
              "ceiling_height          0\n",
              "floors_total            0\n",
              "living_area             0\n",
              "floor                   0\n",
              "is_apartment            0\n",
              "studio                  0\n",
              "open_plan               0\n",
              "kitchen_area            0\n",
              "balcony                 0\n",
              "locality_name           0\n",
              "airports_nearest        0\n",
              "city_centers_nearest    0\n",
              "parks_around3000        0\n",
              "parks_nearest           0\n",
              "ponds_around3000        0\n",
              "ponds_nearest           0\n",
              "days_exposition         0\n",
              "living_area_categor     0\n",
              "dtype: int64"
            ]
          },
          "execution_count": 24,
          "metadata": {},
          "output_type": "execute_result"
        }
      ]
    },
    {
      "cell_type": "markdown",
      "metadata": {
        "id": "vrw8LkPo-7-K"
      },
      "source": [
        "Везде пусто, отлично. Заменим в столбце \"first_day_exposition\" тип данных на datetime ведь это у нас столбец с датой."
      ]
    },
    {
      "cell_type": "code",
      "metadata": {
        "id": "5ifFEep8-7-K",
        "outputId": "94bf1126-0070-4c74-d620-4779b84afdaa"
      },
      "source": [
        "df['first_day_exposition']"
      ],
      "execution_count": null,
      "outputs": [
        {
          "data": {
            "text/plain": [
              "0        2019-03-07T00:00:00\n",
              "1        2018-12-04T00:00:00\n",
              "2        2015-08-20T00:00:00\n",
              "3        2015-07-24T00:00:00\n",
              "4        2018-06-19T00:00:00\n",
              "                ...         \n",
              "23694    2017-03-21T00:00:00\n",
              "23695    2018-01-15T00:00:00\n",
              "23696    2018-02-11T00:00:00\n",
              "23697    2017-03-28T00:00:00\n",
              "23698    2017-07-21T00:00:00\n",
              "Name: first_day_exposition, Length: 23699, dtype: object"
            ]
          },
          "execution_count": 25,
          "metadata": {},
          "output_type": "execute_result"
        }
      ]
    },
    {
      "cell_type": "code",
      "metadata": {
        "id": "WZRWZyNW-7-M",
        "outputId": "06df16c3-4a2a-4ebb-b4db-997287eee62e"
      },
      "source": [
        "df['first_day_exposition'] = pd.to_datetime(df['first_day_exposition'], format='%Y-%m-%dT%H:%M:%S')\n",
        "df.head(1)"
      ],
      "execution_count": null,
      "outputs": [
        {
          "data": {
            "text/html": [
              "<div>\n",
              "<style scoped>\n",
              "    .dataframe tbody tr th:only-of-type {\n",
              "        vertical-align: middle;\n",
              "    }\n",
              "\n",
              "    .dataframe tbody tr th {\n",
              "        vertical-align: top;\n",
              "    }\n",
              "\n",
              "    .dataframe thead th {\n",
              "        text-align: right;\n",
              "    }\n",
              "</style>\n",
              "<table border=\"1\" class=\"dataframe\">\n",
              "  <thead>\n",
              "    <tr style=\"text-align: right;\">\n",
              "      <th></th>\n",
              "      <th>total_images</th>\n",
              "      <th>last_price</th>\n",
              "      <th>total_area</th>\n",
              "      <th>first_day_exposition</th>\n",
              "      <th>rooms</th>\n",
              "      <th>ceiling_height</th>\n",
              "      <th>floors_total</th>\n",
              "      <th>living_area</th>\n",
              "      <th>floor</th>\n",
              "      <th>is_apartment</th>\n",
              "      <th>studio</th>\n",
              "      <th>open_plan</th>\n",
              "      <th>kitchen_area</th>\n",
              "      <th>balcony</th>\n",
              "      <th>locality_name</th>\n",
              "      <th>airports_nearest</th>\n",
              "      <th>city_centers_nearest</th>\n",
              "      <th>parks_around3000</th>\n",
              "      <th>parks_nearest</th>\n",
              "      <th>ponds_around3000</th>\n",
              "      <th>ponds_nearest</th>\n",
              "      <th>days_exposition</th>\n",
              "      <th>living_area_categor</th>\n",
              "    </tr>\n",
              "  </thead>\n",
              "  <tbody>\n",
              "    <tr>\n",
              "      <td>0</td>\n",
              "      <td>20</td>\n",
              "      <td>13000000.00</td>\n",
              "      <td>108.00</td>\n",
              "      <td>2019-03-07</td>\n",
              "      <td>3</td>\n",
              "      <td>2.70</td>\n",
              "      <td>16.00</td>\n",
              "      <td>51.00</td>\n",
              "      <td>8</td>\n",
              "      <td>False</td>\n",
              "      <td>False</td>\n",
              "      <td>False</td>\n",
              "      <td>25.00</td>\n",
              "      <td>0.00</td>\n",
              "      <td>Санкт-Петербург</td>\n",
              "      <td>18863.00</td>\n",
              "      <td>16028.00</td>\n",
              "      <td>1.00</td>\n",
              "      <td>482.00</td>\n",
              "      <td>2.00</td>\n",
              "      <td>755.00</td>\n",
              "      <td>1580.00</td>\n",
              "      <td>up_to100</td>\n",
              "    </tr>\n",
              "  </tbody>\n",
              "</table>\n",
              "</div>"
            ],
            "text/plain": [
              "   total_images  last_price  total_area first_day_exposition  rooms  \\\n",
              "0            20 13000000.00      108.00           2019-03-07      3   \n",
              "\n",
              "   ceiling_height  floors_total  living_area  floor  is_apartment  studio  \\\n",
              "0            2.70         16.00        51.00      8         False   False   \n",
              "\n",
              "   open_plan  kitchen_area  balcony    locality_name  airports_nearest  \\\n",
              "0      False         25.00     0.00  Санкт-Петербург          18863.00   \n",
              "\n",
              "   city_centers_nearest  parks_around3000  parks_nearest  ponds_around3000  \\\n",
              "0              16028.00              1.00         482.00              2.00   \n",
              "\n",
              "   ponds_nearest  days_exposition living_area_categor  \n",
              "0         755.00          1580.00            up_to100  "
            ]
          },
          "execution_count": 26,
          "metadata": {},
          "output_type": "execute_result"
        }
      ]
    },
    {
      "cell_type": "markdown",
      "metadata": {
        "id": "0eO1rDX3-7-M"
      },
      "source": [
        "Далее заменим столбцы на целочисленные для удобства, но в столбцах **'total_area', 'ceiling_height', 'living_area', 'kitchen_area'** это столбцы прощади m2 и для точности данных оставим их с точкой. "
      ]
    },
    {
      "cell_type": "code",
      "metadata": {
        "id": "g2_HpQUN-7-M"
      },
      "source": [
        "columns = ['last_price', 'floors_total', 'balcony', 'airports_nearest', 'city_centers_nearest',\n",
        "           'parks_around3000','parks_nearest', 'ponds_around3000', 'ponds_nearest', 'days_exposition']\n",
        "df[columns] = df[columns].astype('int')"
      ],
      "execution_count": null,
      "outputs": []
    },
    {
      "cell_type": "code",
      "metadata": {
        "id": "Rt9y1rIe-7-M",
        "outputId": "a4f60aa4-cd73-4ed4-e023-0f7fc9d03378"
      },
      "source": [
        "df"
      ],
      "execution_count": null,
      "outputs": [
        {
          "data": {
            "text/html": [
              "<div>\n",
              "<style scoped>\n",
              "    .dataframe tbody tr th:only-of-type {\n",
              "        vertical-align: middle;\n",
              "    }\n",
              "\n",
              "    .dataframe tbody tr th {\n",
              "        vertical-align: top;\n",
              "    }\n",
              "\n",
              "    .dataframe thead th {\n",
              "        text-align: right;\n",
              "    }\n",
              "</style>\n",
              "<table border=\"1\" class=\"dataframe\">\n",
              "  <thead>\n",
              "    <tr style=\"text-align: right;\">\n",
              "      <th></th>\n",
              "      <th>total_images</th>\n",
              "      <th>last_price</th>\n",
              "      <th>total_area</th>\n",
              "      <th>first_day_exposition</th>\n",
              "      <th>rooms</th>\n",
              "      <th>ceiling_height</th>\n",
              "      <th>floors_total</th>\n",
              "      <th>living_area</th>\n",
              "      <th>floor</th>\n",
              "      <th>is_apartment</th>\n",
              "      <th>studio</th>\n",
              "      <th>open_plan</th>\n",
              "      <th>kitchen_area</th>\n",
              "      <th>balcony</th>\n",
              "      <th>locality_name</th>\n",
              "      <th>airports_nearest</th>\n",
              "      <th>city_centers_nearest</th>\n",
              "      <th>parks_around3000</th>\n",
              "      <th>parks_nearest</th>\n",
              "      <th>ponds_around3000</th>\n",
              "      <th>ponds_nearest</th>\n",
              "      <th>days_exposition</th>\n",
              "      <th>living_area_categor</th>\n",
              "    </tr>\n",
              "  </thead>\n",
              "  <tbody>\n",
              "    <tr>\n",
              "      <td>0</td>\n",
              "      <td>20</td>\n",
              "      <td>13000000</td>\n",
              "      <td>108.00</td>\n",
              "      <td>2019-03-07</td>\n",
              "      <td>3</td>\n",
              "      <td>2.70</td>\n",
              "      <td>16</td>\n",
              "      <td>51.00</td>\n",
              "      <td>8</td>\n",
              "      <td>False</td>\n",
              "      <td>False</td>\n",
              "      <td>False</td>\n",
              "      <td>25.00</td>\n",
              "      <td>0</td>\n",
              "      <td>Санкт-Петербург</td>\n",
              "      <td>18863</td>\n",
              "      <td>16028</td>\n",
              "      <td>1</td>\n",
              "      <td>482</td>\n",
              "      <td>2</td>\n",
              "      <td>755</td>\n",
              "      <td>1580</td>\n",
              "      <td>up_to100</td>\n",
              "    </tr>\n",
              "    <tr>\n",
              "      <td>1</td>\n",
              "      <td>7</td>\n",
              "      <td>3350000</td>\n",
              "      <td>40.40</td>\n",
              "      <td>2018-12-04</td>\n",
              "      <td>1</td>\n",
              "      <td>2.65</td>\n",
              "      <td>11</td>\n",
              "      <td>18.60</td>\n",
              "      <td>1</td>\n",
              "      <td>False</td>\n",
              "      <td>False</td>\n",
              "      <td>False</td>\n",
              "      <td>11.00</td>\n",
              "      <td>2</td>\n",
              "      <td>посёлок Шушары</td>\n",
              "      <td>12817</td>\n",
              "      <td>18603</td>\n",
              "      <td>0</td>\n",
              "      <td>0</td>\n",
              "      <td>0</td>\n",
              "      <td>0</td>\n",
              "      <td>81</td>\n",
              "      <td>up_to10</td>\n",
              "    </tr>\n",
              "    <tr>\n",
              "      <td>2</td>\n",
              "      <td>10</td>\n",
              "      <td>5196000</td>\n",
              "      <td>56.00</td>\n",
              "      <td>2015-08-20</td>\n",
              "      <td>2</td>\n",
              "      <td>2.65</td>\n",
              "      <td>5</td>\n",
              "      <td>34.30</td>\n",
              "      <td>4</td>\n",
              "      <td>False</td>\n",
              "      <td>False</td>\n",
              "      <td>False</td>\n",
              "      <td>8.30</td>\n",
              "      <td>0</td>\n",
              "      <td>Санкт-Петербург</td>\n",
              "      <td>21741</td>\n",
              "      <td>13933</td>\n",
              "      <td>1</td>\n",
              "      <td>90</td>\n",
              "      <td>2</td>\n",
              "      <td>574</td>\n",
              "      <td>558</td>\n",
              "      <td>up_to10</td>\n",
              "    </tr>\n",
              "    <tr>\n",
              "      <td>3</td>\n",
              "      <td>0</td>\n",
              "      <td>64900000</td>\n",
              "      <td>159.00</td>\n",
              "      <td>2015-07-24</td>\n",
              "      <td>3</td>\n",
              "      <td>2.65</td>\n",
              "      <td>14</td>\n",
              "      <td>60.00</td>\n",
              "      <td>9</td>\n",
              "      <td>False</td>\n",
              "      <td>False</td>\n",
              "      <td>False</td>\n",
              "      <td>9.10</td>\n",
              "      <td>0</td>\n",
              "      <td>Санкт-Петербург</td>\n",
              "      <td>28098</td>\n",
              "      <td>6800</td>\n",
              "      <td>2</td>\n",
              "      <td>84</td>\n",
              "      <td>3</td>\n",
              "      <td>234</td>\n",
              "      <td>424</td>\n",
              "      <td>up_to100</td>\n",
              "    </tr>\n",
              "    <tr>\n",
              "      <td>4</td>\n",
              "      <td>2</td>\n",
              "      <td>10000000</td>\n",
              "      <td>100.00</td>\n",
              "      <td>2018-06-19</td>\n",
              "      <td>2</td>\n",
              "      <td>3.03</td>\n",
              "      <td>14</td>\n",
              "      <td>32.00</td>\n",
              "      <td>13</td>\n",
              "      <td>False</td>\n",
              "      <td>False</td>\n",
              "      <td>False</td>\n",
              "      <td>41.00</td>\n",
              "      <td>0</td>\n",
              "      <td>Санкт-Петербург</td>\n",
              "      <td>31856</td>\n",
              "      <td>8098</td>\n",
              "      <td>2</td>\n",
              "      <td>112</td>\n",
              "      <td>1</td>\n",
              "      <td>48</td>\n",
              "      <td>121</td>\n",
              "      <td>up_to10</td>\n",
              "    </tr>\n",
              "    <tr>\n",
              "      <td>...</td>\n",
              "      <td>...</td>\n",
              "      <td>...</td>\n",
              "      <td>...</td>\n",
              "      <td>...</td>\n",
              "      <td>...</td>\n",
              "      <td>...</td>\n",
              "      <td>...</td>\n",
              "      <td>...</td>\n",
              "      <td>...</td>\n",
              "      <td>...</td>\n",
              "      <td>...</td>\n",
              "      <td>...</td>\n",
              "      <td>...</td>\n",
              "      <td>...</td>\n",
              "      <td>...</td>\n",
              "      <td>...</td>\n",
              "      <td>...</td>\n",
              "      <td>...</td>\n",
              "      <td>...</td>\n",
              "      <td>...</td>\n",
              "      <td>...</td>\n",
              "      <td>...</td>\n",
              "      <td>...</td>\n",
              "    </tr>\n",
              "    <tr>\n",
              "      <td>23694</td>\n",
              "      <td>9</td>\n",
              "      <td>9700000</td>\n",
              "      <td>133.81</td>\n",
              "      <td>2017-03-21</td>\n",
              "      <td>3</td>\n",
              "      <td>3.70</td>\n",
              "      <td>5</td>\n",
              "      <td>73.30</td>\n",
              "      <td>3</td>\n",
              "      <td>False</td>\n",
              "      <td>False</td>\n",
              "      <td>False</td>\n",
              "      <td>13.83</td>\n",
              "      <td>0</td>\n",
              "      <td>Санкт-Петербург</td>\n",
              "      <td>24665</td>\n",
              "      <td>4232</td>\n",
              "      <td>1</td>\n",
              "      <td>796</td>\n",
              "      <td>3</td>\n",
              "      <td>381</td>\n",
              "      <td>1580</td>\n",
              "      <td>up_to10</td>\n",
              "    </tr>\n",
              "    <tr>\n",
              "      <td>23695</td>\n",
              "      <td>14</td>\n",
              "      <td>3100000</td>\n",
              "      <td>59.00</td>\n",
              "      <td>2018-01-15</td>\n",
              "      <td>3</td>\n",
              "      <td>2.65</td>\n",
              "      <td>5</td>\n",
              "      <td>38.00</td>\n",
              "      <td>4</td>\n",
              "      <td>False</td>\n",
              "      <td>False</td>\n",
              "      <td>False</td>\n",
              "      <td>8.50</td>\n",
              "      <td>0</td>\n",
              "      <td>Тосно</td>\n",
              "      <td>39231</td>\n",
              "      <td>28246</td>\n",
              "      <td>0</td>\n",
              "      <td>0</td>\n",
              "      <td>0</td>\n",
              "      <td>0</td>\n",
              "      <td>45</td>\n",
              "      <td>up_to10</td>\n",
              "    </tr>\n",
              "    <tr>\n",
              "      <td>23696</td>\n",
              "      <td>18</td>\n",
              "      <td>2500000</td>\n",
              "      <td>56.70</td>\n",
              "      <td>2018-02-11</td>\n",
              "      <td>2</td>\n",
              "      <td>2.65</td>\n",
              "      <td>3</td>\n",
              "      <td>29.70</td>\n",
              "      <td>1</td>\n",
              "      <td>False</td>\n",
              "      <td>False</td>\n",
              "      <td>False</td>\n",
              "      <td>9.10</td>\n",
              "      <td>0</td>\n",
              "      <td>село Рождествено</td>\n",
              "      <td>39231</td>\n",
              "      <td>28246</td>\n",
              "      <td>0</td>\n",
              "      <td>0</td>\n",
              "      <td>0</td>\n",
              "      <td>0</td>\n",
              "      <td>1580</td>\n",
              "      <td>up_to10</td>\n",
              "    </tr>\n",
              "    <tr>\n",
              "      <td>23697</td>\n",
              "      <td>13</td>\n",
              "      <td>11475000</td>\n",
              "      <td>76.75</td>\n",
              "      <td>2017-03-28</td>\n",
              "      <td>2</td>\n",
              "      <td>3.00</td>\n",
              "      <td>17</td>\n",
              "      <td>60.00</td>\n",
              "      <td>12</td>\n",
              "      <td>False</td>\n",
              "      <td>False</td>\n",
              "      <td>False</td>\n",
              "      <td>23.30</td>\n",
              "      <td>2</td>\n",
              "      <td>Санкт-Петербург</td>\n",
              "      <td>39140</td>\n",
              "      <td>10364</td>\n",
              "      <td>2</td>\n",
              "      <td>173</td>\n",
              "      <td>3</td>\n",
              "      <td>196</td>\n",
              "      <td>602</td>\n",
              "      <td>up_to100</td>\n",
              "    </tr>\n",
              "    <tr>\n",
              "      <td>23698</td>\n",
              "      <td>4</td>\n",
              "      <td>1350000</td>\n",
              "      <td>32.30</td>\n",
              "      <td>2017-07-21</td>\n",
              "      <td>1</td>\n",
              "      <td>2.50</td>\n",
              "      <td>5</td>\n",
              "      <td>12.30</td>\n",
              "      <td>1</td>\n",
              "      <td>False</td>\n",
              "      <td>False</td>\n",
              "      <td>False</td>\n",
              "      <td>9.00</td>\n",
              "      <td>0</td>\n",
              "      <td>поселок Новый Учхоз</td>\n",
              "      <td>39231</td>\n",
              "      <td>28246</td>\n",
              "      <td>0</td>\n",
              "      <td>0</td>\n",
              "      <td>0</td>\n",
              "      <td>0</td>\n",
              "      <td>1580</td>\n",
              "      <td>up_to10</td>\n",
              "    </tr>\n",
              "  </tbody>\n",
              "</table>\n",
              "<p>23699 rows × 23 columns</p>\n",
              "</div>"
            ],
            "text/plain": [
              "       total_images  last_price  total_area first_day_exposition  rooms  \\\n",
              "0                20    13000000      108.00           2019-03-07      3   \n",
              "1                 7     3350000       40.40           2018-12-04      1   \n",
              "2                10     5196000       56.00           2015-08-20      2   \n",
              "3                 0    64900000      159.00           2015-07-24      3   \n",
              "4                 2    10000000      100.00           2018-06-19      2   \n",
              "...             ...         ...         ...                  ...    ...   \n",
              "23694             9     9700000      133.81           2017-03-21      3   \n",
              "23695            14     3100000       59.00           2018-01-15      3   \n",
              "23696            18     2500000       56.70           2018-02-11      2   \n",
              "23697            13    11475000       76.75           2017-03-28      2   \n",
              "23698             4     1350000       32.30           2017-07-21      1   \n",
              "\n",
              "       ceiling_height  floors_total  living_area  floor  is_apartment  studio  \\\n",
              "0                2.70            16        51.00      8         False   False   \n",
              "1                2.65            11        18.60      1         False   False   \n",
              "2                2.65             5        34.30      4         False   False   \n",
              "3                2.65            14        60.00      9         False   False   \n",
              "4                3.03            14        32.00     13         False   False   \n",
              "...               ...           ...          ...    ...           ...     ...   \n",
              "23694            3.70             5        73.30      3         False   False   \n",
              "23695            2.65             5        38.00      4         False   False   \n",
              "23696            2.65             3        29.70      1         False   False   \n",
              "23697            3.00            17        60.00     12         False   False   \n",
              "23698            2.50             5        12.30      1         False   False   \n",
              "\n",
              "       open_plan  kitchen_area  balcony        locality_name  \\\n",
              "0          False         25.00        0      Санкт-Петербург   \n",
              "1          False         11.00        2       посёлок Шушары   \n",
              "2          False          8.30        0      Санкт-Петербург   \n",
              "3          False          9.10        0      Санкт-Петербург   \n",
              "4          False         41.00        0      Санкт-Петербург   \n",
              "...          ...           ...      ...                  ...   \n",
              "23694      False         13.83        0      Санкт-Петербург   \n",
              "23695      False          8.50        0                Тосно   \n",
              "23696      False          9.10        0     село Рождествено   \n",
              "23697      False         23.30        2      Санкт-Петербург   \n",
              "23698      False          9.00        0  поселок Новый Учхоз   \n",
              "\n",
              "       airports_nearest  city_centers_nearest  parks_around3000  \\\n",
              "0                 18863                 16028                 1   \n",
              "1                 12817                 18603                 0   \n",
              "2                 21741                 13933                 1   \n",
              "3                 28098                  6800                 2   \n",
              "4                 31856                  8098                 2   \n",
              "...                 ...                   ...               ...   \n",
              "23694             24665                  4232                 1   \n",
              "23695             39231                 28246                 0   \n",
              "23696             39231                 28246                 0   \n",
              "23697             39140                 10364                 2   \n",
              "23698             39231                 28246                 0   \n",
              "\n",
              "       parks_nearest  ponds_around3000  ponds_nearest  days_exposition  \\\n",
              "0                482                 2            755             1580   \n",
              "1                  0                 0              0               81   \n",
              "2                 90                 2            574              558   \n",
              "3                 84                 3            234              424   \n",
              "4                112                 1             48              121   \n",
              "...              ...               ...            ...              ...   \n",
              "23694            796                 3            381             1580   \n",
              "23695              0                 0              0               45   \n",
              "23696              0                 0              0             1580   \n",
              "23697            173                 3            196              602   \n",
              "23698              0                 0              0             1580   \n",
              "\n",
              "      living_area_categor  \n",
              "0                up_to100  \n",
              "1                 up_to10  \n",
              "2                 up_to10  \n",
              "3                up_to100  \n",
              "4                 up_to10  \n",
              "...                   ...  \n",
              "23694             up_to10  \n",
              "23695             up_to10  \n",
              "23696             up_to10  \n",
              "23697            up_to100  \n",
              "23698             up_to10  \n",
              "\n",
              "[23699 rows x 23 columns]"
            ]
          },
          "execution_count": 28,
          "metadata": {},
          "output_type": "execute_result"
        }
      ]
    },
    {
      "cell_type": "markdown",
      "metadata": {
        "id": "kb-Mb6-YECSn"
      },
      "source": [
        "Оптимизируем память в нашем датасете."
      ]
    },
    {
      "cell_type": "code",
      "metadata": {
        "id": "Ii3tBgDHEOYa"
      },
      "source": [
        "def mem_usage(pandas_obj):\n",
        "    if isinstance(pandas_obj,pd.DataFrame):\n",
        "        usage_b = pandas_obj.memory_usage(deep=True).sum()\n",
        "    else:\n",
        "        usage_b = pandas_obj.memory_usage(deep=True)\n",
        "    usage_mb = usage_b / 1024 ** 2\n",
        "    return \"{:03.2f} MB\".format(usage_mb)\n",
        "\n",
        "gl_int = df.select_dtypes(include=['int'])\n",
        "converted_int = gl_int.apply(pd.to_numeric,downcast='unsigned')\n",
        "\n",
        "print(mem_usage(gl_int))\n",
        "print(mem_usage(converted_int))\n",
        "\n",
        "\n",
        "compare_ints = pd.concat([gl_int.dtypes,converted_int.dtypes],axis=1)\n",
        "compare_ints.columns = ['before','after']\n",
        "compare_ints.apply(pd.Series.value_counts)"
      ],
      "execution_count": null,
      "outputs": []
    },
    {
      "cell_type": "code",
      "metadata": {
        "id": "8ybjfsjnETOk"
      },
      "source": [
        "gl_float = df.select_dtypes(include=['float'])\n",
        "converted_float = gl_float.apply(pd.to_numeric,downcast='float')\n",
        "\n",
        "print(mem_usage(gl_float))\n",
        "print(mem_usage(converted_float))\n",
        "\n",
        "compare_floats = pd.concat([gl_float.dtypes,converted_float.dtypes],axis=1)\n",
        "compare_floats.columns = ['before','after']\n",
        "compare_floats.apply(pd.Series.value_counts)"
      ],
      "execution_count": null,
      "outputs": []
    },
    {
      "cell_type": "code",
      "metadata": {
        "id": "9ghFcsOqEYIU"
      },
      "source": [
        "optimized_gl = df.copy()\n",
        "\n",
        "optimized_gl[converted_int.columns] = converted_int\n",
        "optimized_gl[converted_float.columns] = converted_float\n",
        "\n",
        "print(mem_usage(df))\n",
        "print(mem_usage(optimized_gl))"
      ],
      "execution_count": null,
      "outputs": []
    },
    {
      "cell_type": "code",
      "metadata": {
        "id": "sRa5bghkEaXQ"
      },
      "source": [
        "gl_obj = df.select_dtypes(include=['object']).copy()\n",
        "gl_obj.describe()"
      ],
      "execution_count": null,
      "outputs": []
    },
    {
      "cell_type": "code",
      "metadata": {
        "id": "bSjSMMxoEc2E"
      },
      "source": [
        "dow = gl_obj.locality_name\n",
        "print(dow.head())\n",
        "\n",
        "dow_cat = dow.astype('category')\n",
        "print(dow_cat.head())"
      ],
      "execution_count": null,
      "outputs": []
    },
    {
      "cell_type": "code",
      "metadata": {
        "id": "2_lqVCRkEerK"
      },
      "source": [
        "dow_cat.head().cat.codes"
      ],
      "execution_count": null,
      "outputs": []
    },
    {
      "cell_type": "code",
      "metadata": {
        "id": "Se0W8nKqEgar"
      },
      "source": [
        "print(mem_usage(dow))\n",
        "print(mem_usage(dow_cat))"
      ],
      "execution_count": null,
      "outputs": []
    },
    {
      "cell_type": "code",
      "metadata": {
        "id": "FIARjuCzEiIk"
      },
      "source": [
        "converted_obj = pd.DataFrame()\n",
        "\n",
        "for col in gl_obj.columns:\n",
        "    num_unique_values = len(gl_obj[col].unique())\n",
        "    num_total_values = len(gl_obj[col])\n",
        "    if num_unique_values / num_total_values < 0.5:\n",
        "        converted_obj.loc[:,col] = gl_obj[col].astype('category')\n",
        "    else:\n",
        "        converted_obj.loc[:,col] = gl_obj[col]"
      ],
      "execution_count": null,
      "outputs": []
    },
    {
      "cell_type": "code",
      "metadata": {
        "id": "bxY1A-PFEm8h"
      },
      "source": [
        "print(mem_usage(gl_obj))\n",
        "print(mem_usage(converted_obj))\n",
        "\n",
        "compare_obj = pd.concat([gl_obj.dtypes,converted_obj.dtypes],axis=1)\n",
        "compare_obj.columns = ['before','after']\n",
        "compare_obj.apply(pd.Series.value_counts)"
      ],
      "execution_count": null,
      "outputs": []
    },
    {
      "cell_type": "code",
      "metadata": {
        "id": "npJVVvyxEoeP"
      },
      "source": [
        "optimized_gl[converted_obj.columns] = converted_obj\n",
        "\n",
        "mem_usage(optimized_gl)"
      ],
      "execution_count": null,
      "outputs": []
    },
    {
      "cell_type": "code",
      "metadata": {
        "id": "YKvwkksiEqDH"
      },
      "source": [
        "print('{:.0%}'.format(6.5 / 1.30))"
      ],
      "execution_count": null,
      "outputs": []
    },
    {
      "cell_type": "markdown",
      "metadata": {
        "id": "7ahJu7vY-7-O"
      },
      "source": [
        "На 500% я сэкономил память."
      ]
    },
    {
      "cell_type": "markdown",
      "metadata": {
        "id": "Fq_NHESY-7-P"
      },
      "source": [
        "У нас есть столбец \"locality_name\". Посмотрим на его значения."
      ]
    },
    {
      "cell_type": "markdown",
      "metadata": {
        "id": "KZtDeBzc-7-P"
      },
      "source": [
        "Заметил, что **поселок** написан через е и ё. Исправим."
      ]
    },
    {
      "cell_type": "code",
      "metadata": {
        "id": "QdrNribz-7-P"
      },
      "source": [
        "def test_name(name):\n",
        "    count = 0\n",
        "    for i in df['locality_name'].unique():\n",
        "        if name in i:\n",
        "            count += 1\n",
        "    return count"
      ],
      "execution_count": null,
      "outputs": []
    },
    {
      "cell_type": "code",
      "metadata": {
        "id": "x5W5-eCr-7-P"
      },
      "source": [
        "def search(name):\n",
        "    x = []\n",
        "    for i in df['locality_name']:\n",
        "        if name in i:\n",
        "            if i not in x:\n",
        "                x.append(i)\n",
        "    print('Количество совпадений {:.0f}'.format(len(x)))\n",
        "    print()\n",
        "    print(x)"
      ],
      "execution_count": null,
      "outputs": []
    },
    {
      "cell_type": "code",
      "metadata": {
        "id": "fALcRQaU-7-P",
        "outputId": "56232bc5-0a5c-4c8a-a1b3-a58b753baadb"
      },
      "source": [
        "test_name('посёлок')"
      ],
      "execution_count": null,
      "outputs": [
        {
          "data": {
            "text/plain": [
              "95"
            ]
          },
          "execution_count": 31,
          "metadata": {},
          "output_type": "execute_result"
        }
      ]
    },
    {
      "cell_type": "code",
      "metadata": {
        "id": "AsTRsu3P-7-Q"
      },
      "source": [
        "df['locality_name'] = df['locality_name'].str.replace('ё', 'е')"
      ],
      "execution_count": null,
      "outputs": []
    },
    {
      "cell_type": "code",
      "metadata": {
        "id": "oLTEnjuq-7-Q",
        "outputId": "4acccadc-dacf-46e0-8910-3906cbc6ce78"
      },
      "source": [
        "test_name('Мурино')"
      ],
      "execution_count": null,
      "outputs": [
        {
          "data": {
            "text/plain": [
              "2"
            ]
          },
          "execution_count": 33,
          "metadata": {},
          "output_type": "execute_result"
        }
      ]
    },
    {
      "cell_type": "code",
      "metadata": {
        "id": "suC6s9pb-7-Q"
      },
      "source": [
        "df['locality_name'] = df['locality_name'].replace(['поселок Мурино', 'Мурино'], 'поселок Мурино')"
      ],
      "execution_count": null,
      "outputs": []
    },
    {
      "cell_type": "code",
      "metadata": {
        "id": "2wi32UR--7-R",
        "outputId": "a1082937-5bf4-417f-d9f8-6e446145e739"
      },
      "source": [
        "search('Мур')"
      ],
      "execution_count": null,
      "outputs": [
        {
          "name": "stdout",
          "output_type": "stream",
          "text": [
            "Количество совпадений 1\n",
            "\n",
            "['поселок Мурино']\n"
          ]
        }
      ]
    },
    {
      "cell_type": "code",
      "metadata": {
        "id": "3S5qU24l-7-S",
        "outputId": "b584b209-f54d-413a-c94f-862bc17cc3fb"
      },
      "source": [
        "df.duplicated().sum()"
      ],
      "execution_count": null,
      "outputs": [
        {
          "data": {
            "text/plain": [
              "0"
            ]
          },
          "execution_count": 36,
          "metadata": {},
          "output_type": "execute_result"
        }
      ]
    },
    {
      "cell_type": "markdown",
      "metadata": {
        "id": "TBA-20Lo-7-S"
      },
      "source": [
        "## Рассчёты и добавление результатов в таблицу"
      ]
    },
    {
      "cell_type": "markdown",
      "metadata": {
        "id": "VLc_OR3n-7-T"
      },
      "source": [
        "**Посчитайте и добавьте в таблицу:**\n",
        "\n",
        "1. цену квадратного метра;\n",
        "2. день недели, месяц и год публикации объявления;\n",
        "3. этаж квартиры; варианты — первый, последний, другой;\n",
        "4. соотношение жилой и общей площади, а также отношение площади кухни к общей."
      ]
    },
    {
      "cell_type": "markdown",
      "metadata": {
        "id": "nd-D73pV-7-T"
      },
      "source": [
        "1 - Цена квадратного метра."
      ]
    },
    {
      "cell_type": "code",
      "metadata": {
        "id": "vHGa2Q_Z-7-T"
      },
      "source": [
        "df['price_per_square_meter'] = df.last_price / df.total_area"
      ],
      "execution_count": null,
      "outputs": []
    },
    {
      "cell_type": "code",
      "metadata": {
        "id": "7cMV345I-7-T"
      },
      "source": [
        "df.price_per_square_meter = df.price_per_square_meter.astype('int')"
      ],
      "execution_count": null,
      "outputs": []
    },
    {
      "cell_type": "markdown",
      "metadata": {
        "id": "HXmUDrVg-7-T"
      },
      "source": [
        "2 - День недели. Месяц .Год публикации"
      ]
    },
    {
      "cell_type": "code",
      "metadata": {
        "id": "QwSl8vvV-7-T"
      },
      "source": [
        "def day_week_year(df):\n",
        "    value = df.first_day_exposition\n",
        "    df['day'] = value.dt.weekday\n",
        "    df['week'] = value.dt.month\n",
        "    df['year'] = value.dt.year\n",
        "    \n",
        "    \n",
        "day_week_year(df)"
      ],
      "execution_count": null,
      "outputs": []
    },
    {
      "cell_type": "code",
      "metadata": {
        "id": "yA43ISXE-7-T",
        "outputId": "a152ff4c-fd59-4d47-f03a-ff87e6f28bfc"
      },
      "source": [
        "df.loc[:, ['first_day_exposition', 'day', 'week', 'year']].head()"
      ],
      "execution_count": null,
      "outputs": [
        {
          "data": {
            "text/html": [
              "<div>\n",
              "<style scoped>\n",
              "    .dataframe tbody tr th:only-of-type {\n",
              "        vertical-align: middle;\n",
              "    }\n",
              "\n",
              "    .dataframe tbody tr th {\n",
              "        vertical-align: top;\n",
              "    }\n",
              "\n",
              "    .dataframe thead th {\n",
              "        text-align: right;\n",
              "    }\n",
              "</style>\n",
              "<table border=\"1\" class=\"dataframe\">\n",
              "  <thead>\n",
              "    <tr style=\"text-align: right;\">\n",
              "      <th></th>\n",
              "      <th>first_day_exposition</th>\n",
              "      <th>day</th>\n",
              "      <th>week</th>\n",
              "      <th>year</th>\n",
              "    </tr>\n",
              "  </thead>\n",
              "  <tbody>\n",
              "    <tr>\n",
              "      <td>0</td>\n",
              "      <td>2019-03-07</td>\n",
              "      <td>3</td>\n",
              "      <td>3</td>\n",
              "      <td>2019</td>\n",
              "    </tr>\n",
              "    <tr>\n",
              "      <td>1</td>\n",
              "      <td>2018-12-04</td>\n",
              "      <td>1</td>\n",
              "      <td>12</td>\n",
              "      <td>2018</td>\n",
              "    </tr>\n",
              "    <tr>\n",
              "      <td>2</td>\n",
              "      <td>2015-08-20</td>\n",
              "      <td>3</td>\n",
              "      <td>8</td>\n",
              "      <td>2015</td>\n",
              "    </tr>\n",
              "    <tr>\n",
              "      <td>3</td>\n",
              "      <td>2015-07-24</td>\n",
              "      <td>4</td>\n",
              "      <td>7</td>\n",
              "      <td>2015</td>\n",
              "    </tr>\n",
              "    <tr>\n",
              "      <td>4</td>\n",
              "      <td>2018-06-19</td>\n",
              "      <td>1</td>\n",
              "      <td>6</td>\n",
              "      <td>2018</td>\n",
              "    </tr>\n",
              "  </tbody>\n",
              "</table>\n",
              "</div>"
            ],
            "text/plain": [
              "  first_day_exposition  day  week  year\n",
              "0           2019-03-07    3     3  2019\n",
              "1           2018-12-04    1    12  2018\n",
              "2           2015-08-20    3     8  2015\n",
              "3           2015-07-24    4     7  2015\n",
              "4           2018-06-19    1     6  2018"
            ]
          },
          "execution_count": 40,
          "metadata": {},
          "output_type": "execute_result"
        }
      ]
    },
    {
      "cell_type": "markdown",
      "metadata": {
        "id": "z4E1BhfT-7-U"
      },
      "source": [
        "3 - Категоризация этажей"
      ]
    },
    {
      "cell_type": "code",
      "metadata": {
        "id": "06tLY02t-7-U"
      },
      "source": [
        "def floor(x):\n",
        "    mina = df.floor.min()\n",
        "    maxi = df.floor.max()\n",
        "    if x == mina:\n",
        "        return 'первый'\n",
        "    if x == maxi:\n",
        "        return 'последний'\n",
        "    return 'другой'\n",
        "df['floor_category'] = df['floor'].apply(floor)"
      ],
      "execution_count": null,
      "outputs": []
    },
    {
      "cell_type": "code",
      "metadata": {
        "id": "hYSTC6CY-7-U",
        "outputId": "574bb005-c199-4477-e567-a09f3795f748"
      },
      "source": [
        "df.floor_category.value_counts()"
      ],
      "execution_count": null,
      "outputs": [
        {
          "data": {
            "text/plain": [
              "другой       20781\n",
              "первый        2917\n",
              "последний        1\n",
              "Name: floor_category, dtype: int64"
            ]
          },
          "execution_count": 42,
          "metadata": {},
          "output_type": "execute_result"
        }
      ]
    },
    {
      "cell_type": "markdown",
      "metadata": {
        "id": "r8ot6oxO-7-U"
      },
      "source": [
        "4 - Подсчет доли жилого помещения и доли кухни."
      ]
    },
    {
      "cell_type": "code",
      "metadata": {
        "id": "XKj5zsFt-7-U"
      },
      "source": [
        "df['living_space'] = df['living_area'] / df['total_area']"
      ],
      "execution_count": null,
      "outputs": []
    },
    {
      "cell_type": "code",
      "metadata": {
        "id": "VuOkrixO-7-U"
      },
      "source": [
        "df['kitchen_space'] = df.kitchen_area / df.total_area"
      ],
      "execution_count": null,
      "outputs": []
    },
    {
      "cell_type": "markdown",
      "metadata": {
        "id": "HOjXkI8J-7-V"
      },
      "source": [
        "## Исследовательский анализ данных"
      ]
    },
    {
      "cell_type": "markdown",
      "metadata": {
        "id": "63t5JU2N-7-V"
      },
      "source": [
        "Изучите следующие параметры: площадь, цена, число комнат, высота потолков. Постройте гистограммы для каждого параметра.\n"
      ]
    },
    {
      "cell_type": "markdown",
      "metadata": {
        "id": "9PA5w0F4-7-V"
      },
      "source": [
        "### Площадь"
      ]
    },
    {
      "cell_type": "code",
      "metadata": {
        "id": "grIRQX1--7-V",
        "outputId": "64380c2a-34bf-4f93-b937-30af1b4a2897"
      },
      "source": [
        "df.total_area.describe()"
      ],
      "execution_count": null,
      "outputs": [
        {
          "data": {
            "text/plain": [
              "count   23699.00\n",
              "mean       60.35\n",
              "std        35.65\n",
              "min        12.00\n",
              "25%        40.00\n",
              "50%        52.00\n",
              "75%        69.90\n",
              "max       900.00\n",
              "Name: total_area, dtype: float64"
            ]
          },
          "execution_count": 45,
          "metadata": {},
          "output_type": "execute_result"
        }
      ]
    },
    {
      "cell_type": "code",
      "metadata": {
        "id": "a1WdO9Tm-7-V",
        "outputId": "6706f2b9-c88d-40ef-9846-4ad525dd0325"
      },
      "source": [
        "axarr = df.hist('total_area', bins=100, range=(0, 1000), figsize = (4, 4))\n",
        "for ax in axarr.flatten():\n",
        "    ax.set_xlabel(\"Площадь (м2)\")\n",
        "    ax.set_ylabel(\"Количество квартир (шт)\")"
      ],
      "execution_count": null,
      "outputs": [
        {
          "data": {
            "image/png": "[encoded data removed]",
            "text/plain": [
              "<Figure size 288x288 with 1 Axes>"
            ]
          },
          "metadata": {
            "needs_background": "light"
          },
          "output_type": "display_data"
        }
      ]
    },
    {
      "cell_type": "code",
      "metadata": {
        "id": "lkbZRuG8-7-W",
        "outputId": "6e62f725-094b-4f71-fd3a-102c4e8c5e03"
      },
      "source": [
        "ax = df[\"total_area\"].plot.hist(label='столбец total_area', legend=True, range=(0, 500),\n",
        "                                grid=True, bins=100, title='График площади', figsize=(4,4))\n",
        "ax.set_xlabel('Площадь (м2)')\n",
        "ax.set_ylabel('Количество квартир (шт)')\n",
        "plt.show()"
      ],
      "execution_count": null,
      "outputs": [
        {
          "data": {
            "image/png": "[encoded data removed]",
            "text/plain": [
              "<Figure size 288x288 with 1 Axes>"
            ]
          },
          "metadata": {
            "needs_background": "light"
          },
          "output_type": "display_data"
        }
      ]
    },
    {
      "cell_type": "code",
      "metadata": {
        "id": "PSdFYwd_-7-W",
        "outputId": "9de9153a-5fbc-4d6a-8180-9d1caef106e7"
      },
      "source": [
        "df.boxplot('total_area')\n",
        "plt.ylim(0, 1000)"
      ],
      "execution_count": null,
      "outputs": [
        {
          "data": {
            "text/plain": [
              "(0, 1000)"
            ]
          },
          "execution_count": 48,
          "metadata": {},
          "output_type": "execute_result"
        },
        {
          "data": {
            "image/png": "[encoded data removed]",
            "text/plain": [
              "<Figure size 432x288 with 1 Axes>"
            ]
          },
          "metadata": {
            "needs_background": "light"
          },
          "output_type": "display_data"
        }
      ]
    },
    {
      "cell_type": "markdown",
      "metadata": {
        "id": "rvhh6VCk-7-W"
      },
      "source": [
        "Построил диаграмму, построил ящик с усами и вызвал метод describe для просмотра значений и выявления стандартного отклонения.\n",
        "Гистограмма показала мне значения пика от 40 и до 70. Все что, дальше 250 уже практически единичные случаи, но ящик с усами нам показывает, что дальше 400 есть значения.\n",
        "Метод describe доказывает и показывает стандартное отклоение от среднего арифметического на 35 значений, что говорит о серьезных аномалиях или выбросах которые мы наблюдаем на диаграмме размаха. Кстати гистаграмма похожа на распределение Пуассона. Меньше 20 это какие то очень крошечные лачуги-стаудии."
      ]
    },
    {
      "cell_type": "markdown",
      "metadata": {
        "id": "rACfJOka-7-W"
      },
      "source": [
        "Отсикаем аномалии. В данном случаи с площадью у нас следующее: ящик с усами показывает, что есть значения и дальше чем за 400, но на гистограмме их уже не видно после  250. Т.к. их там мало я отрежу все что дальше 250."
      ]
    },
    {
      "cell_type": "code",
      "metadata": {
        "id": "dgQjzCEj-7-W",
        "outputId": "5e57fdd3-a4b3-4c35-bffb-9f21e42f2ad4"
      },
      "source": [
        "norm_area = df.query('total_area < 250')\n",
        "print('Процент аномалий {:.1%}'.format((len(df) - len(norm_area))/len(df)))"
      ],
      "execution_count": null,
      "outputs": [
        {
          "name": "stdout",
          "output_type": "stream",
          "text": [
            "Процент аномалий 0.5%\n"
          ]
        }
      ]
    },
    {
      "cell_type": "markdown",
      "metadata": {
        "id": "E2o_MIR0-7-X"
      },
      "source": [
        "### Цена"
      ]
    },
    {
      "cell_type": "code",
      "metadata": {
        "id": "MfAk78xu-7-X",
        "outputId": "3b1fac0e-ed5c-4a69-b42d-8c7db0e412fc"
      },
      "source": [
        "df.last_price.describe()"
      ],
      "execution_count": null,
      "outputs": [
        {
          "data": {
            "text/plain": [
              "count       23699.00\n",
              "mean      6541548.77\n",
              "std      10887013.27\n",
              "min         12190.00\n",
              "25%       3400000.00\n",
              "50%       4650000.00\n",
              "75%       6800000.00\n",
              "max     763000000.00\n",
              "Name: last_price, dtype: float64"
            ]
          },
          "execution_count": 50,
          "metadata": {},
          "output_type": "execute_result"
        }
      ]
    },
    {
      "cell_type": "code",
      "metadata": {
        "id": "pj9JgMRK-7-X",
        "outputId": "14747d6d-d27c-4f3e-bb64-7dce7c913cb6"
      },
      "source": [
        "ax = df.last_price.plot.hist(label='столбец last_price', legend=True, grid=True,\n",
        "                             bins=100, title='График цен', range=(0, 100000000))\n",
        "ax.set_xlabel('Цена (десятки млн)')\n",
        "ax.set_ylabel('Количество квартир (шт)')\n",
        "plt.show()"
      ],
      "execution_count": null,
      "outputs": [
        {
          "data": {
            "image/png": "[encoded data removed]",
            "text/plain": [
              "<Figure size 432x288 with 1 Axes>"
            ]
          },
          "metadata": {
            "needs_background": "light"
          },
          "output_type": "display_data"
        }
      ]
    },
    {
      "cell_type": "code",
      "metadata": {
        "scrolled": true,
        "id": "Oaf3Uz4P-7-X",
        "outputId": "c4464c92-d11f-4eec-f69c-68c7b72b7df4"
      },
      "source": [
        "df.boxplot('last_price')\n",
        "plt.ylim(0,1000000)"
      ],
      "execution_count": null,
      "outputs": [
        {
          "data": {
            "text/plain": [
              "(0, 1000000)"
            ]
          },
          "execution_count": 52,
          "metadata": {},
          "output_type": "execute_result"
        },
        {
          "data": {
            "image/png": "[encoded data removed]",
            "text/plain": [
              "<Figure size 432x288 with 1 Axes>"
            ]
          },
          "metadata": {
            "needs_background": "light"
          },
          "output_type": "display_data"
        }
      ]
    },
    {
      "cell_type": "markdown",
      "metadata": {
        "id": "eZz10vaQ-7-X"
      },
      "source": [
        "Метод describe позволяет видеть все значения которые нам нужны. Тут график распределения нормальный и пик где то от 3 до 5 миллионов. Все, что выше 100млн есть значения. Очень много аномалий. Проверим прежде чем фильтровать."
      ]
    },
    {
      "cell_type": "code",
      "metadata": {
        "id": "ZKzOVpJ--7-Y",
        "outputId": "c5ccaa45-71ee-4faf-e66e-e9a306a64dd9"
      },
      "source": [
        "df[df.last_price <= 500000].sort_values(by='last_price', ascending=True).head()"
      ],
      "execution_count": null,
      "outputs": [
        {
          "data": {
            "text/html": [
              "<div>\n",
              "<style scoped>\n",
              "    .dataframe tbody tr th:only-of-type {\n",
              "        vertical-align: middle;\n",
              "    }\n",
              "\n",
              "    .dataframe tbody tr th {\n",
              "        vertical-align: top;\n",
              "    }\n",
              "\n",
              "    .dataframe thead th {\n",
              "        text-align: right;\n",
              "    }\n",
              "</style>\n",
              "<table border=\"1\" class=\"dataframe\">\n",
              "  <thead>\n",
              "    <tr style=\"text-align: right;\">\n",
              "      <th></th>\n",
              "      <th>total_images</th>\n",
              "      <th>last_price</th>\n",
              "      <th>total_area</th>\n",
              "      <th>first_day_exposition</th>\n",
              "      <th>rooms</th>\n",
              "      <th>ceiling_height</th>\n",
              "      <th>floors_total</th>\n",
              "      <th>living_area</th>\n",
              "      <th>floor</th>\n",
              "      <th>is_apartment</th>\n",
              "      <th>studio</th>\n",
              "      <th>open_plan</th>\n",
              "      <th>kitchen_area</th>\n",
              "      <th>balcony</th>\n",
              "      <th>locality_name</th>\n",
              "      <th>airports_nearest</th>\n",
              "      <th>city_centers_nearest</th>\n",
              "      <th>parks_around3000</th>\n",
              "      <th>parks_nearest</th>\n",
              "      <th>ponds_around3000</th>\n",
              "      <th>ponds_nearest</th>\n",
              "      <th>days_exposition</th>\n",
              "      <th>living_area_categor</th>\n",
              "      <th>price_per_square_meter</th>\n",
              "      <th>day</th>\n",
              "      <th>week</th>\n",
              "      <th>year</th>\n",
              "      <th>floor_category</th>\n",
              "      <th>living_space</th>\n",
              "      <th>kitchen_space</th>\n",
              "    </tr>\n",
              "  </thead>\n",
              "  <tbody>\n",
              "    <tr>\n",
              "      <td>8793</td>\n",
              "      <td>7</td>\n",
              "      <td>12190</td>\n",
              "      <td>109.00</td>\n",
              "      <td>2019-03-20</td>\n",
              "      <td>2</td>\n",
              "      <td>2.75</td>\n",
              "      <td>25</td>\n",
              "      <td>32.00</td>\n",
              "      <td>25</td>\n",
              "      <td>False</td>\n",
              "      <td>False</td>\n",
              "      <td>False</td>\n",
              "      <td>40.50</td>\n",
              "      <td>0</td>\n",
              "      <td>Санкт-Петербург</td>\n",
              "      <td>36421</td>\n",
              "      <td>9176</td>\n",
              "      <td>1</td>\n",
              "      <td>805</td>\n",
              "      <td>0</td>\n",
              "      <td>0</td>\n",
              "      <td>8</td>\n",
              "      <td>up_to10</td>\n",
              "      <td>111</td>\n",
              "      <td>2</td>\n",
              "      <td>3</td>\n",
              "      <td>2019</td>\n",
              "      <td>другой</td>\n",
              "      <td>0.29</td>\n",
              "      <td>0.37</td>\n",
              "    </tr>\n",
              "    <tr>\n",
              "      <td>14911</td>\n",
              "      <td>5</td>\n",
              "      <td>430000</td>\n",
              "      <td>54.00</td>\n",
              "      <td>2018-06-26</td>\n",
              "      <td>2</td>\n",
              "      <td>2.65</td>\n",
              "      <td>3</td>\n",
              "      <td>29.00</td>\n",
              "      <td>3</td>\n",
              "      <td>False</td>\n",
              "      <td>False</td>\n",
              "      <td>False</td>\n",
              "      <td>9.10</td>\n",
              "      <td>0</td>\n",
              "      <td>поселок станции Свирь</td>\n",
              "      <td>39231</td>\n",
              "      <td>28246</td>\n",
              "      <td>0</td>\n",
              "      <td>0</td>\n",
              "      <td>0</td>\n",
              "      <td>0</td>\n",
              "      <td>44</td>\n",
              "      <td>up_to10</td>\n",
              "      <td>7962</td>\n",
              "      <td>1</td>\n",
              "      <td>6</td>\n",
              "      <td>2018</td>\n",
              "      <td>другой</td>\n",
              "      <td>0.54</td>\n",
              "      <td>0.17</td>\n",
              "    </tr>\n",
              "    <tr>\n",
              "      <td>17456</td>\n",
              "      <td>7</td>\n",
              "      <td>430000</td>\n",
              "      <td>30.40</td>\n",
              "      <td>2019-04-22</td>\n",
              "      <td>1</td>\n",
              "      <td>2.65</td>\n",
              "      <td>2</td>\n",
              "      <td>16.00</td>\n",
              "      <td>1</td>\n",
              "      <td>False</td>\n",
              "      <td>False</td>\n",
              "      <td>False</td>\n",
              "      <td>6.00</td>\n",
              "      <td>0</td>\n",
              "      <td>Сланцы</td>\n",
              "      <td>39231</td>\n",
              "      <td>28246</td>\n",
              "      <td>0</td>\n",
              "      <td>0</td>\n",
              "      <td>0</td>\n",
              "      <td>0</td>\n",
              "      <td>1580</td>\n",
              "      <td>up_to10</td>\n",
              "      <td>14144</td>\n",
              "      <td>0</td>\n",
              "      <td>4</td>\n",
              "      <td>2019</td>\n",
              "      <td>первый</td>\n",
              "      <td>0.53</td>\n",
              "      <td>0.20</td>\n",
              "    </tr>\n",
              "    <tr>\n",
              "      <td>16274</td>\n",
              "      <td>18</td>\n",
              "      <td>440000</td>\n",
              "      <td>40.00</td>\n",
              "      <td>2018-07-10</td>\n",
              "      <td>1</td>\n",
              "      <td>2.65</td>\n",
              "      <td>5</td>\n",
              "      <td>29.00</td>\n",
              "      <td>1</td>\n",
              "      <td>False</td>\n",
              "      <td>False</td>\n",
              "      <td>False</td>\n",
              "      <td>9.10</td>\n",
              "      <td>0</td>\n",
              "      <td>деревня Старополье</td>\n",
              "      <td>39231</td>\n",
              "      <td>28246</td>\n",
              "      <td>0</td>\n",
              "      <td>0</td>\n",
              "      <td>0</td>\n",
              "      <td>0</td>\n",
              "      <td>45</td>\n",
              "      <td>up_to10</td>\n",
              "      <td>11000</td>\n",
              "      <td>1</td>\n",
              "      <td>7</td>\n",
              "      <td>2018</td>\n",
              "      <td>первый</td>\n",
              "      <td>0.72</td>\n",
              "      <td>0.23</td>\n",
              "    </tr>\n",
              "    <tr>\n",
              "      <td>5698</td>\n",
              "      <td>7</td>\n",
              "      <td>450000</td>\n",
              "      <td>42.00</td>\n",
              "      <td>2017-07-31</td>\n",
              "      <td>2</td>\n",
              "      <td>2.65</td>\n",
              "      <td>1</td>\n",
              "      <td>23.00</td>\n",
              "      <td>1</td>\n",
              "      <td>False</td>\n",
              "      <td>False</td>\n",
              "      <td>False</td>\n",
              "      <td>5.80</td>\n",
              "      <td>0</td>\n",
              "      <td>городской поселок Будогощь</td>\n",
              "      <td>39231</td>\n",
              "      <td>28246</td>\n",
              "      <td>0</td>\n",
              "      <td>0</td>\n",
              "      <td>0</td>\n",
              "      <td>0</td>\n",
              "      <td>233</td>\n",
              "      <td>up_to10</td>\n",
              "      <td>10714</td>\n",
              "      <td>0</td>\n",
              "      <td>7</td>\n",
              "      <td>2017</td>\n",
              "      <td>первый</td>\n",
              "      <td>0.55</td>\n",
              "      <td>0.14</td>\n",
              "    </tr>\n",
              "  </tbody>\n",
              "</table>\n",
              "</div>"
            ],
            "text/plain": [
              "       total_images  last_price  total_area first_day_exposition  rooms  \\\n",
              "8793              7       12190      109.00           2019-03-20      2   \n",
              "14911             5      430000       54.00           2018-06-26      2   \n",
              "17456             7      430000       30.40           2019-04-22      1   \n",
              "16274            18      440000       40.00           2018-07-10      1   \n",
              "5698              7      450000       42.00           2017-07-31      2   \n",
              "\n",
              "       ceiling_height  floors_total  living_area  floor  is_apartment  studio  \\\n",
              "8793             2.75            25        32.00     25         False   False   \n",
              "14911            2.65             3        29.00      3         False   False   \n",
              "17456            2.65             2        16.00      1         False   False   \n",
              "16274            2.65             5        29.00      1         False   False   \n",
              "5698             2.65             1        23.00      1         False   False   \n",
              "\n",
              "       open_plan  kitchen_area  balcony               locality_name  \\\n",
              "8793       False         40.50        0             Санкт-Петербург   \n",
              "14911      False          9.10        0       поселок станции Свирь   \n",
              "17456      False          6.00        0                      Сланцы   \n",
              "16274      False          9.10        0          деревня Старополье   \n",
              "5698       False          5.80        0  городской поселок Будогощь   \n",
              "\n",
              "       airports_nearest  city_centers_nearest  parks_around3000  \\\n",
              "8793              36421                  9176                 1   \n",
              "14911             39231                 28246                 0   \n",
              "17456             39231                 28246                 0   \n",
              "16274             39231                 28246                 0   \n",
              "5698              39231                 28246                 0   \n",
              "\n",
              "       parks_nearest  ponds_around3000  ponds_nearest  days_exposition  \\\n",
              "8793             805                 0              0                8   \n",
              "14911              0                 0              0               44   \n",
              "17456              0                 0              0             1580   \n",
              "16274              0                 0              0               45   \n",
              "5698               0                 0              0              233   \n",
              "\n",
              "      living_area_categor  price_per_square_meter  day  week  year  \\\n",
              "8793              up_to10                     111    2     3  2019   \n",
              "14911             up_to10                    7962    1     6  2018   \n",
              "17456             up_to10                   14144    0     4  2019   \n",
              "16274             up_to10                   11000    1     7  2018   \n",
              "5698              up_to10                   10714    0     7  2017   \n",
              "\n",
              "      floor_category  living_space  kitchen_space  \n",
              "8793          другой          0.29           0.37  \n",
              "14911         другой          0.54           0.17  \n",
              "17456         первый          0.53           0.20  \n",
              "16274         первый          0.72           0.23  \n",
              "5698          первый          0.55           0.14  "
            ]
          },
          "execution_count": 53,
          "metadata": {},
          "output_type": "execute_result"
        }
      ]
    },
    {
      "cell_type": "markdown",
      "metadata": {
        "id": "xnNybcHu-7-Y"
      },
      "source": [
        "Видим аномалию. избавимся от нее и редких значений которые за 40 млн."
      ]
    },
    {
      "cell_type": "code",
      "metadata": {
        "id": "gJ8SCZtn-7-Y",
        "outputId": "0c41cf5e-12de-4f51-b3e2-1d4f0a7f4f81"
      },
      "source": [
        "norm_price = df.query('last_price > last_price.min() and last_price < 40000000')\n",
        "print('Доля аномалий {:.2%}'.format((len(df)-len(norm_price))/len(df)))"
      ],
      "execution_count": null,
      "outputs": [
        {
          "name": "stdout",
          "output_type": "stream",
          "text": [
            "Доля аномалий 0.82%\n"
          ]
        }
      ]
    },
    {
      "cell_type": "markdown",
      "metadata": {
        "id": "YXslLjkf-7-Y"
      },
      "source": [
        "<div class=\"alert alert-block alert-success\">\n",
        "Очень здорово, что считаешь % аномалий"
      ]
    },
    {
      "cell_type": "markdown",
      "metadata": {
        "id": "Jxmt6VWD-7-Y"
      },
      "source": [
        "### Число комнат"
      ]
    },
    {
      "cell_type": "code",
      "metadata": {
        "id": "7WLa0e_j-7-Y",
        "outputId": "d02f4a0e-d29b-4e8c-c6cf-37e1b682b301"
      },
      "source": [
        "ax = df.rooms.plot.hist(label='столбец rooms', legend=True, grid=True,\n",
        "                             bins=100, title='График комнат', range=(0, 10))\n",
        "ax.set_xlabel('Число комна (шт)')\n",
        "ax.set_ylabel('Количество квартир (шт)')\n",
        "plt.show()"
      ],
      "execution_count": null,
      "outputs": [
        {
          "data": {
            "image/png": "[encoded data removed]",
            "text/plain": [
              "<Figure size 432x288 with 1 Axes>"
            ]
          },
          "metadata": {
            "needs_background": "light"
          },
          "output_type": "display_data"
        }
      ]
    },
    {
      "cell_type": "markdown",
      "metadata": {
        "id": "IFF2M7gF-7-Z"
      },
      "source": [
        "Видим значения 0. Видимо это студии"
      ]
    },
    {
      "cell_type": "code",
      "metadata": {
        "id": "AR4O6Rq1-7-Z",
        "outputId": "48c7e710-aa0d-4830-bfe2-7044ab9a0ef3"
      },
      "source": [
        "df[df.rooms == 0].head()"
      ],
      "execution_count": null,
      "outputs": [
        {
          "data": {
            "text/html": [
              "<div>\n",
              "<style scoped>\n",
              "    .dataframe tbody tr th:only-of-type {\n",
              "        vertical-align: middle;\n",
              "    }\n",
              "\n",
              "    .dataframe tbody tr th {\n",
              "        vertical-align: top;\n",
              "    }\n",
              "\n",
              "    .dataframe thead th {\n",
              "        text-align: right;\n",
              "    }\n",
              "</style>\n",
              "<table border=\"1\" class=\"dataframe\">\n",
              "  <thead>\n",
              "    <tr style=\"text-align: right;\">\n",
              "      <th></th>\n",
              "      <th>total_images</th>\n",
              "      <th>last_price</th>\n",
              "      <th>total_area</th>\n",
              "      <th>first_day_exposition</th>\n",
              "      <th>rooms</th>\n",
              "      <th>ceiling_height</th>\n",
              "      <th>floors_total</th>\n",
              "      <th>living_area</th>\n",
              "      <th>floor</th>\n",
              "      <th>is_apartment</th>\n",
              "      <th>studio</th>\n",
              "      <th>open_plan</th>\n",
              "      <th>kitchen_area</th>\n",
              "      <th>balcony</th>\n",
              "      <th>locality_name</th>\n",
              "      <th>airports_nearest</th>\n",
              "      <th>city_centers_nearest</th>\n",
              "      <th>parks_around3000</th>\n",
              "      <th>parks_nearest</th>\n",
              "      <th>ponds_around3000</th>\n",
              "      <th>ponds_nearest</th>\n",
              "      <th>days_exposition</th>\n",
              "      <th>living_area_categor</th>\n",
              "      <th>price_per_square_meter</th>\n",
              "      <th>day</th>\n",
              "      <th>week</th>\n",
              "      <th>year</th>\n",
              "      <th>floor_category</th>\n",
              "      <th>living_space</th>\n",
              "      <th>kitchen_space</th>\n",
              "    </tr>\n",
              "  </thead>\n",
              "  <tbody>\n",
              "    <tr>\n",
              "      <td>144</td>\n",
              "      <td>1</td>\n",
              "      <td>2450000</td>\n",
              "      <td>27.00</td>\n",
              "      <td>2017-03-30</td>\n",
              "      <td>0</td>\n",
              "      <td>2.65</td>\n",
              "      <td>24</td>\n",
              "      <td>15.50</td>\n",
              "      <td>2</td>\n",
              "      <td>False</td>\n",
              "      <td>True</td>\n",
              "      <td>False</td>\n",
              "      <td>9.10</td>\n",
              "      <td>2</td>\n",
              "      <td>поселок Мурино</td>\n",
              "      <td>39231</td>\n",
              "      <td>28246</td>\n",
              "      <td>0</td>\n",
              "      <td>0</td>\n",
              "      <td>0</td>\n",
              "      <td>0</td>\n",
              "      <td>181</td>\n",
              "      <td>up_to10</td>\n",
              "      <td>90740</td>\n",
              "      <td>3</td>\n",
              "      <td>3</td>\n",
              "      <td>2017</td>\n",
              "      <td>другой</td>\n",
              "      <td>0.57</td>\n",
              "      <td>0.34</td>\n",
              "    </tr>\n",
              "    <tr>\n",
              "      <td>349</td>\n",
              "      <td>4</td>\n",
              "      <td>2320000</td>\n",
              "      <td>25.00</td>\n",
              "      <td>2017-09-27</td>\n",
              "      <td>0</td>\n",
              "      <td>2.65</td>\n",
              "      <td>14</td>\n",
              "      <td>17.00</td>\n",
              "      <td>1</td>\n",
              "      <td>False</td>\n",
              "      <td>False</td>\n",
              "      <td>True</td>\n",
              "      <td>9.10</td>\n",
              "      <td>0</td>\n",
              "      <td>деревня Кудрово</td>\n",
              "      <td>39231</td>\n",
              "      <td>28246</td>\n",
              "      <td>0</td>\n",
              "      <td>0</td>\n",
              "      <td>0</td>\n",
              "      <td>0</td>\n",
              "      <td>45</td>\n",
              "      <td>up_to10</td>\n",
              "      <td>92800</td>\n",
              "      <td>2</td>\n",
              "      <td>9</td>\n",
              "      <td>2017</td>\n",
              "      <td>первый</td>\n",
              "      <td>0.68</td>\n",
              "      <td>0.36</td>\n",
              "    </tr>\n",
              "    <tr>\n",
              "      <td>440</td>\n",
              "      <td>8</td>\n",
              "      <td>2480000</td>\n",
              "      <td>27.11</td>\n",
              "      <td>2018-03-12</td>\n",
              "      <td>0</td>\n",
              "      <td>2.65</td>\n",
              "      <td>17</td>\n",
              "      <td>24.75</td>\n",
              "      <td>4</td>\n",
              "      <td>False</td>\n",
              "      <td>True</td>\n",
              "      <td>False</td>\n",
              "      <td>9.10</td>\n",
              "      <td>2</td>\n",
              "      <td>Санкт-Петербург</td>\n",
              "      <td>38171</td>\n",
              "      <td>15015</td>\n",
              "      <td>0</td>\n",
              "      <td>0</td>\n",
              "      <td>2</td>\n",
              "      <td>982</td>\n",
              "      <td>64</td>\n",
              "      <td>up_to10</td>\n",
              "      <td>91479</td>\n",
              "      <td>0</td>\n",
              "      <td>3</td>\n",
              "      <td>2018</td>\n",
              "      <td>другой</td>\n",
              "      <td>0.91</td>\n",
              "      <td>0.34</td>\n",
              "    </tr>\n",
              "    <tr>\n",
              "      <td>508</td>\n",
              "      <td>0</td>\n",
              "      <td>3375000</td>\n",
              "      <td>34.40</td>\n",
              "      <td>2017-03-28</td>\n",
              "      <td>0</td>\n",
              "      <td>2.65</td>\n",
              "      <td>26</td>\n",
              "      <td>24.30</td>\n",
              "      <td>19</td>\n",
              "      <td>False</td>\n",
              "      <td>False</td>\n",
              "      <td>True</td>\n",
              "      <td>9.10</td>\n",
              "      <td>1</td>\n",
              "      <td>поселок Парголово</td>\n",
              "      <td>53115</td>\n",
              "      <td>19292</td>\n",
              "      <td>0</td>\n",
              "      <td>0</td>\n",
              "      <td>1</td>\n",
              "      <td>593</td>\n",
              "      <td>430</td>\n",
              "      <td>up_to10</td>\n",
              "      <td>98110</td>\n",
              "      <td>1</td>\n",
              "      <td>3</td>\n",
              "      <td>2017</td>\n",
              "      <td>другой</td>\n",
              "      <td>0.71</td>\n",
              "      <td>0.26</td>\n",
              "    </tr>\n",
              "    <tr>\n",
              "      <td>608</td>\n",
              "      <td>2</td>\n",
              "      <td>1850000</td>\n",
              "      <td>25.00</td>\n",
              "      <td>2019-02-20</td>\n",
              "      <td>0</td>\n",
              "      <td>2.65</td>\n",
              "      <td>10</td>\n",
              "      <td>29.00</td>\n",
              "      <td>7</td>\n",
              "      <td>False</td>\n",
              "      <td>True</td>\n",
              "      <td>False</td>\n",
              "      <td>9.10</td>\n",
              "      <td>0</td>\n",
              "      <td>поселок Шушары</td>\n",
              "      <td>39231</td>\n",
              "      <td>28246</td>\n",
              "      <td>0</td>\n",
              "      <td>0</td>\n",
              "      <td>0</td>\n",
              "      <td>0</td>\n",
              "      <td>29</td>\n",
              "      <td>up_to10</td>\n",
              "      <td>74000</td>\n",
              "      <td>2</td>\n",
              "      <td>2</td>\n",
              "      <td>2019</td>\n",
              "      <td>другой</td>\n",
              "      <td>1.16</td>\n",
              "      <td>0.36</td>\n",
              "    </tr>\n",
              "  </tbody>\n",
              "</table>\n",
              "</div>"
            ],
            "text/plain": [
              "     total_images  last_price  total_area first_day_exposition  rooms  \\\n",
              "144             1     2450000       27.00           2017-03-30      0   \n",
              "349             4     2320000       25.00           2017-09-27      0   \n",
              "440             8     2480000       27.11           2018-03-12      0   \n",
              "508             0     3375000       34.40           2017-03-28      0   \n",
              "608             2     1850000       25.00           2019-02-20      0   \n",
              "\n",
              "     ceiling_height  floors_total  living_area  floor  is_apartment  studio  \\\n",
              "144            2.65            24        15.50      2         False    True   \n",
              "349            2.65            14        17.00      1         False   False   \n",
              "440            2.65            17        24.75      4         False    True   \n",
              "508            2.65            26        24.30     19         False   False   \n",
              "608            2.65            10        29.00      7         False    True   \n",
              "\n",
              "     open_plan  kitchen_area  balcony      locality_name  airports_nearest  \\\n",
              "144      False          9.10        2     поселок Мурино             39231   \n",
              "349       True          9.10        0    деревня Кудрово             39231   \n",
              "440      False          9.10        2    Санкт-Петербург             38171   \n",
              "508       True          9.10        1  поселок Парголово             53115   \n",
              "608      False          9.10        0     поселок Шушары             39231   \n",
              "\n",
              "     city_centers_nearest  parks_around3000  parks_nearest  ponds_around3000  \\\n",
              "144                 28246                 0              0                 0   \n",
              "349                 28246                 0              0                 0   \n",
              "440                 15015                 0              0                 2   \n",
              "508                 19292                 0              0                 1   \n",
              "608                 28246                 0              0                 0   \n",
              "\n",
              "     ponds_nearest  days_exposition living_area_categor  \\\n",
              "144              0              181             up_to10   \n",
              "349              0               45             up_to10   \n",
              "440            982               64             up_to10   \n",
              "508            593              430             up_to10   \n",
              "608              0               29             up_to10   \n",
              "\n",
              "     price_per_square_meter  day  week  year floor_category  living_space  \\\n",
              "144                   90740    3     3  2017         другой          0.57   \n",
              "349                   92800    2     9  2017         первый          0.68   \n",
              "440                   91479    0     3  2018         другой          0.91   \n",
              "508                   98110    1     3  2017         другой          0.71   \n",
              "608                   74000    2     2  2019         другой          1.16   \n",
              "\n",
              "     kitchen_space  \n",
              "144           0.34  \n",
              "349           0.36  \n",
              "440           0.34  \n",
              "508           0.26  \n",
              "608           0.36  "
            ]
          },
          "execution_count": 56,
          "metadata": {},
          "output_type": "execute_result"
        }
      ]
    },
    {
      "cell_type": "markdown",
      "metadata": {
        "id": "25E7EX4n-7-Z"
      },
      "source": [
        "Нет. это какая то аномалия, придется их отбросить для корректных данных т.к. мы видим в столбце \"studio\" есть как True так и False."
      ]
    },
    {
      "cell_type": "code",
      "metadata": {
        "id": "VtEFp1lW-7-Z",
        "outputId": "26f5de2d-d677-4f0f-bcd5-1b916bebc188"
      },
      "source": [
        "df.rooms.describe()"
      ],
      "execution_count": null,
      "outputs": [
        {
          "data": {
            "text/plain": [
              "count   23699.00\n",
              "mean        2.07\n",
              "std         1.08\n",
              "min         0.00\n",
              "25%         1.00\n",
              "50%         2.00\n",
              "75%         3.00\n",
              "max        19.00\n",
              "Name: rooms, dtype: float64"
            ]
          },
          "execution_count": 57,
          "metadata": {},
          "output_type": "execute_result"
        }
      ]
    },
    {
      "cell_type": "code",
      "metadata": {
        "id": "CcWaZhvN-7-Z",
        "outputId": "326e9522-716f-4a0a-dd35-afae805fccfa"
      },
      "source": [
        "df.boxplot('rooms')\n",
        "plt.ylim(1, 10)"
      ],
      "execution_count": null,
      "outputs": [
        {
          "data": {
            "text/plain": [
              "(1, 10)"
            ]
          },
          "execution_count": 58,
          "metadata": {},
          "output_type": "execute_result"
        },
        {
          "data": {
            "image/png": "[encoded data removed]",
            "text/plain": [
              "<Figure size 432x288 with 1 Axes>"
            ]
          },
          "metadata": {
            "needs_background": "light"
          },
          "output_type": "display_data"
        }
      ]
    },
    {
      "cell_type": "markdown",
      "metadata": {
        "id": "IYJvh8tr-7-a"
      },
      "source": [
        "Пик у нас 1-2 комнаты. Видими 0 значение и стандартное отклонение не оч большое, что говорит о малом количестве выбросов. Тип распределения Пуассона.\n",
        "\n",
        "- Отбросим 0 комнат т.к. это аномалия и все, что больше 8-10 комнат, там очень мало значений."
      ]
    },
    {
      "cell_type": "code",
      "metadata": {
        "id": "mr7_v10t-7-a",
        "outputId": "23e6cbfb-066f-428f-d2f9-f2c9fd7c8408"
      },
      "source": [
        "norm_rooms = df.query('rooms >= 1 and rooms <= 8')\n",
        "norm_rooms.rooms.value_counts()"
      ],
      "execution_count": null,
      "outputs": [
        {
          "data": {
            "text/plain": [
              "1    8047\n",
              "2    7940\n",
              "3    5814\n",
              "4    1180\n",
              "5     326\n",
              "6     105\n",
              "7      59\n",
              "8      12\n",
              "Name: rooms, dtype: int64"
            ]
          },
          "execution_count": 59,
          "metadata": {},
          "output_type": "execute_result"
        }
      ]
    },
    {
      "cell_type": "code",
      "metadata": {
        "id": "ARQn_mel-7-a",
        "outputId": "8f7a8555-bde3-4e05-acac-fa00ec1d3b88"
      },
      "source": [
        "print('Доля аномалий {:.2%}'.format((len(df)-len(norm_rooms))/len(df)))"
      ],
      "execution_count": null,
      "outputs": [
        {
          "name": "stdout",
          "output_type": "stream",
          "text": [
            "Доля аномалий 0.91%\n"
          ]
        }
      ]
    },
    {
      "cell_type": "markdown",
      "metadata": {
        "id": "DTFUgtZ2-7-a"
      },
      "source": [
        "### Высота потолков."
      ]
    },
    {
      "cell_type": "code",
      "metadata": {
        "id": "nKFGnJjs-7-a",
        "outputId": "50f2f7ff-f221-4e6f-b670-c9e6b65f73c1"
      },
      "source": [
        "ax = df.ceiling_height.plot.hist(label='столбец ceiling_height', legend=True, grid=True,\n",
        "                             bins=100, title='График высоты потолков', range=(2, 5))\n",
        "ax.set_xlabel('Высота потолка (м)')\n",
        "ax.set_ylabel('Количество квартир (шт)')\n",
        "plt.show()"
      ],
      "execution_count": null,
      "outputs": [
        {
          "data": {
            "image/png": "[encoded data removed]",
            "text/plain": [
              "<Figure size 432x288 with 1 Axes>"
            ]
          },
          "metadata": {
            "needs_background": "light"
          },
          "output_type": "display_data"
        }
      ]
    },
    {
      "cell_type": "code",
      "metadata": {
        "id": "VA6rE9q7-7-a",
        "outputId": "76d5be3d-e4f7-4dbe-f6f8-fc52812e0d70"
      },
      "source": [
        "df.ceiling_height.describe()"
      ],
      "execution_count": null,
      "outputs": [
        {
          "data": {
            "text/plain": [
              "count   23699.00\n",
              "mean        2.72\n",
              "std         0.99\n",
              "min         1.00\n",
              "25%         2.60\n",
              "50%         2.65\n",
              "75%         2.70\n",
              "max       100.00\n",
              "Name: ceiling_height, dtype: float64"
            ]
          },
          "execution_count": 62,
          "metadata": {},
          "output_type": "execute_result"
        }
      ]
    },
    {
      "cell_type": "code",
      "metadata": {
        "id": "RXVLjxic-7-b",
        "outputId": "5282f878-f317-4db7-cfca-157e3c3af50e"
      },
      "source": [
        "df.boxplot('ceiling_height')\n",
        "plt.ylim()"
      ],
      "execution_count": null,
      "outputs": [
        {
          "data": {
            "text/plain": [
              "(-3.95, 104.95)"
            ]
          },
          "execution_count": 63,
          "metadata": {},
          "output_type": "execute_result"
        },
        {
          "data": {
            "image/png": "[encoded data removed]",
            "text/plain": [
              "<Figure size 432x288 with 1 Axes>"
            ]
          },
          "metadata": {
            "needs_background": "light"
          },
          "output_type": "display_data"
        }
      ]
    },
    {
      "cell_type": "markdown",
      "metadata": {
        "id": "_hbqBhGg-7-b"
      },
      "source": [
        "Явно потолок в 100 м это какая то башня. Явно лишнее значение. Пик на 2.65. Тип графика Пуасонна."
      ]
    },
    {
      "cell_type": "code",
      "metadata": {
        "id": "9zzCZDOa-7-d",
        "outputId": "3edc86b6-dbb1-42fb-e85e-b43c9df94d0d"
      },
      "source": [
        "norm_ceiling = df.query('ceiling_height >= 2.5 and ceiling_height <= 5')\n",
        "print('Доля аномалий {:.2%}'.format((len(df)-len(norm_ceiling))/len(df)))"
      ],
      "execution_count": null,
      "outputs": [
        {
          "name": "stdout",
          "output_type": "stream",
          "text": [
            "Доля аномалий 0.46%\n"
          ]
        }
      ]
    },
    {
      "cell_type": "markdown",
      "metadata": {
        "id": "c3pAFJwb-7-d"
      },
      "source": [
        "## Задачи:"
      ]
    },
    {
      "cell_type": "markdown",
      "metadata": {
        "id": "NQE_ybV1-7-d"
      },
      "source": [
        "### \"Изучите время продажи квартиры. \n",
        "\n",
        "**Постройте гистограмму. Посчитайте среднее и медиану. Опишите, сколько обычно занимает продажа. Когда можно считать, что продажи прошли очень быстро, а когда необычно долго?\"**"
      ]
    },
    {
      "cell_type": "code",
      "metadata": {
        "id": "FF6i6var-7-d",
        "outputId": "1db20d36-43a7-4697-8428-3659e67fff33"
      },
      "source": [
        "ax = df.days_exposition.plot.hist(label='столбец days_exposition', legend=True, grid=True,\n",
        "                             bins=100, title='График продажи квартир с момента публикации объявления',)\n",
        "ax.set_xlabel('Количество дней (сутки)')\n",
        "ax.set_ylabel('Количество проданных квартир (шт)')\n",
        "plt.show()"
      ],
      "execution_count": null,
      "outputs": [
        {
          "data": {
            "image/png": "[encoded data removed]",
            "text/plain": [
              "<Figure size 432x288 with 1 Axes>"
            ]
          },
          "metadata": {
            "needs_background": "light"
          },
          "output_type": "display_data"
        }
      ]
    },
    {
      "cell_type": "code",
      "metadata": {
        "id": "0vK6TUdt-7-e",
        "outputId": "fe1a5114-fb38-4e6d-8cff-3f8109ae28cd"
      },
      "source": [
        "print('Среднее время продажи:', df.days_exposition.mean())\n",
        "print('Медиана времени продажи:', df.days_exposition.median())"
      ],
      "execution_count": null,
      "outputs": [
        {
          "name": "stdout",
          "output_type": "stream",
          "text": [
            "Среднее время продажи: 368.68445925988436\n",
            "Медиана времени продажи: 124.0\n"
          ]
        }
      ]
    },
    {
      "cell_type": "markdown",
      "metadata": {
        "id": "iXZi4pw3-7-e"
      },
      "source": [
        "Видим большой отрыв у среднего чила. Это связанно с тем, что мы заменили пропущенные значения мах числом так как эти кв еще не продали. Можно отрезать эти данные и взглянуть без них."
      ]
    },
    {
      "cell_type": "code",
      "metadata": {
        "id": "pN_Nplht-7-e",
        "outputId": "1c7d90a5-8ebf-4a4e-a9fc-d8186d28c085"
      },
      "source": [
        "test = df.query('days_exposition < 1400')\n",
        "print('Среднее время продажи:', test.days_exposition.mean())\n",
        "print('Медиана времени продажи:', test.days_exposition.median())"
      ],
      "execution_count": null,
      "outputs": [
        {
          "name": "stdout",
          "output_type": "stream",
          "text": [
            "Среднее время продажи: 179.68427728181862\n",
            "Медиана времени продажи: 95.0\n"
          ]
        }
      ]
    },
    {
      "cell_type": "markdown",
      "metadata": {
        "id": "Rh3SArTO-7-e"
      },
      "source": [
        "Теперь видно среднее и медиану. На них больше не влияют непроданные объявления."
      ]
    },
    {
      "cell_type": "code",
      "metadata": {
        "id": "I2ZCRA16-7-f",
        "outputId": "f1540724-5f08-4b50-8b9e-67873f61e2f8"
      },
      "source": [
        "df.boxplot('days_exposition')"
      ],
      "execution_count": null,
      "outputs": [
        {
          "data": {
            "text/plain": [
              "<matplotlib.axes._subplots.AxesSubplot at 0x7f635ace9910>"
            ]
          },
          "execution_count": 68,
          "metadata": {},
          "output_type": "execute_result"
        },
        {
          "data": {
            "image/png": "[encoded data removed]",
            "text/plain": [
              "<Figure size 432x288 with 1 Axes>"
            ]
          },
          "metadata": {
            "needs_background": "light"
          },
          "output_type": "display_data"
        }
      ]
    },
    {
      "cell_type": "code",
      "metadata": {
        "id": "W9wrQimg-7-f",
        "outputId": "c3d302f4-42df-432b-c83c-0d68b97fcd02"
      },
      "source": [
        "df.days_exposition.describe()"
      ],
      "execution_count": null,
      "outputs": [
        {
          "data": {
            "text/plain": [
              "count   23699.00\n",
              "mean      368.68\n",
              "std       518.93\n",
              "min         1.00\n",
              "25%        45.00\n",
              "50%       124.00\n",
              "75%       390.00\n",
              "max      1580.00\n",
              "Name: days_exposition, dtype: float64"
            ]
          },
          "execution_count": 69,
          "metadata": {},
          "output_type": "execute_result"
        }
      ]
    },
    {
      "cell_type": "code",
      "metadata": {
        "id": "3ix0fTwQ-7-f",
        "outputId": "05054bcc-95d0-4e21-8c90-cffeca30a188"
      },
      "source": [
        "ax = df.days_exposition.plot.hist(label='столбец days_exposition', legend=True, grid=True,\n",
        "                             bins=100, title='График продажи квартир с момента публикации объявления',\n",
        "                                  range=(0,200), color='orange')\n",
        "ax.set_xlabel('Количество дней (сутки)')\n",
        "ax.set_ylabel('Количество проданных квартир (шт)')\n",
        "plt.show()"
      ],
      "execution_count": null,
      "outputs": [
        {
          "data": {
            "image/png": "[encoded data removed]",
            "text/plain": [
              "<Figure size 432x288 with 1 Axes>"
            ]
          },
          "metadata": {
            "needs_background": "light"
          },
          "output_type": "display_data"
        }
      ]
    },
    {
      "cell_type": "markdown",
      "metadata": {
        "id": "2nNkmDN9-7-f"
      },
      "source": [
        "**- Когда можно считать, что продажи квартиры прошли очень быстро ?**\n",
        "\n",
        "Мое мнение - это когда с момента выставления объявления прошло наименьшее количество дней по сравнению с другими объявлениями. Хотя на продажу влияет цена, расположение и наличие денег у клиента на жилье. Я свел до минимума дней что бы посмотреть пик продаж и видим от 1 до 50 это прям быстрые продажи. Сделаем срез и посмотрим на топ 10 кв которые быстро купили."
      ]
    },
    {
      "cell_type": "code",
      "metadata": {
        "id": "IsVjwm-f-7-g",
        "outputId": "a7be7903-a3c8-4e47-c869-f8f289ebed52"
      },
      "source": [
        "fast_apartaments = df.query('days_exposition < 50')\n",
        "ax = fast_apartaments.days_exposition.plot.hist(label='столбец days_exposition', legend=True, grid=True,\n",
        "                             bins=100, title='График продажи квартир с момента публикации объявления')\n",
        "ax.set_xlabel('Количество дней (сутки)')\n",
        "ax.set_ylabel('Количество проданных квартир (шт)')\n",
        "plt.show()"
      ],
      "execution_count": null,
      "outputs": [
        {
          "data": {
            "image/png": "[encoded data removed]",
            "text/plain": [
              "<Figure size 432x288 with 1 Axes>"
            ]
          },
          "metadata": {
            "needs_background": "light"
          },
          "output_type": "display_data"
        }
      ]
    },
    {
      "cell_type": "code",
      "metadata": {
        "id": "3Fz19a2l-7-g",
        "outputId": "15ae5bbb-f6d9-4d09-c5f5-d035ff5718ba"
      },
      "source": [
        "fast_apartaments.days_exposition.sort_values(ascending=True).head(10)"
      ],
      "execution_count": null,
      "outputs": [
        {
          "data": {
            "text/plain": [
              "1632     1\n",
              "16053    2\n",
              "16212    2\n",
              "13061    2\n",
              "10451    3\n",
              "19693    3\n",
              "11793    3\n",
              "5240     3\n",
              "12093    3\n",
              "5230     3\n",
              "Name: days_exposition, dtype: int64"
            ]
          },
          "execution_count": 72,
          "metadata": {},
          "output_type": "execute_result"
        }
      ]
    },
    {
      "cell_type": "markdown",
      "metadata": {
        "id": "LDHapv12-7-g"
      },
      "source": [
        "Можно взглянуть на то, где их купили и сколько метром от центра."
      ]
    },
    {
      "cell_type": "code",
      "metadata": {
        "id": "A1A_2p1_-7-g",
        "outputId": "07b0c3b6-c97d-49ee-c992-a747df2d3da8"
      },
      "source": [
        "fast_apartaments[['days_exposition',\n",
        "                'locality_name',\n",
        "                'city_centers_nearest'\n",
        "                ]].sort_values(by='days_exposition', ascending=True).head(10)"
      ],
      "execution_count": null,
      "outputs": [
        {
          "data": {
            "text/html": [
              "<div>\n",
              "<style scoped>\n",
              "    .dataframe tbody tr th:only-of-type {\n",
              "        vertical-align: middle;\n",
              "    }\n",
              "\n",
              "    .dataframe tbody tr th {\n",
              "        vertical-align: top;\n",
              "    }\n",
              "\n",
              "    .dataframe thead th {\n",
              "        text-align: right;\n",
              "    }\n",
              "</style>\n",
              "<table border=\"1\" class=\"dataframe\">\n",
              "  <thead>\n",
              "    <tr style=\"text-align: right;\">\n",
              "      <th></th>\n",
              "      <th>days_exposition</th>\n",
              "      <th>locality_name</th>\n",
              "      <th>city_centers_nearest</th>\n",
              "    </tr>\n",
              "  </thead>\n",
              "  <tbody>\n",
              "    <tr>\n",
              "      <td>1632</td>\n",
              "      <td>1</td>\n",
              "      <td>Санкт-Петербург</td>\n",
              "      <td>14384</td>\n",
              "    </tr>\n",
              "    <tr>\n",
              "      <td>16053</td>\n",
              "      <td>2</td>\n",
              "      <td>Санкт-Петербург</td>\n",
              "      <td>11668</td>\n",
              "    </tr>\n",
              "    <tr>\n",
              "      <td>16212</td>\n",
              "      <td>2</td>\n",
              "      <td>Санкт-Петербург</td>\n",
              "      <td>10302</td>\n",
              "    </tr>\n",
              "    <tr>\n",
              "      <td>13061</td>\n",
              "      <td>2</td>\n",
              "      <td>Санкт-Петербург</td>\n",
              "      <td>9389</td>\n",
              "    </tr>\n",
              "    <tr>\n",
              "      <td>10451</td>\n",
              "      <td>3</td>\n",
              "      <td>Санкт-Петербург</td>\n",
              "      <td>11486</td>\n",
              "    </tr>\n",
              "    <tr>\n",
              "      <td>19693</td>\n",
              "      <td>3</td>\n",
              "      <td>Санкт-Петербург</td>\n",
              "      <td>16921</td>\n",
              "    </tr>\n",
              "    <tr>\n",
              "      <td>11793</td>\n",
              "      <td>3</td>\n",
              "      <td>Санкт-Петербург</td>\n",
              "      <td>12430</td>\n",
              "    </tr>\n",
              "    <tr>\n",
              "      <td>5240</td>\n",
              "      <td>3</td>\n",
              "      <td>Санкт-Петербург</td>\n",
              "      <td>10602</td>\n",
              "    </tr>\n",
              "    <tr>\n",
              "      <td>12093</td>\n",
              "      <td>3</td>\n",
              "      <td>Санкт-Петербург</td>\n",
              "      <td>14255</td>\n",
              "    </tr>\n",
              "    <tr>\n",
              "      <td>5230</td>\n",
              "      <td>3</td>\n",
              "      <td>Санкт-Петербург</td>\n",
              "      <td>16094</td>\n",
              "    </tr>\n",
              "  </tbody>\n",
              "</table>\n",
              "</div>"
            ],
            "text/plain": [
              "       days_exposition    locality_name  city_centers_nearest\n",
              "1632                 1  Санкт-Петербург                 14384\n",
              "16053                2  Санкт-Петербург                 11668\n",
              "16212                2  Санкт-Петербург                 10302\n",
              "13061                2  Санкт-Петербург                  9389\n",
              "10451                3  Санкт-Петербург                 11486\n",
              "19693                3  Санкт-Петербург                 16921\n",
              "11793                3  Санкт-Петербург                 12430\n",
              "5240                 3  Санкт-Петербург                 10602\n",
              "12093                3  Санкт-Петербург                 14255\n",
              "5230                 3  Санкт-Петербург                 16094"
            ]
          },
          "execution_count": 73,
          "metadata": {},
          "output_type": "execute_result"
        }
      ]
    },
    {
      "cell_type": "code",
      "metadata": {
        "id": "fU5kB5rf-7-g",
        "outputId": "2738a394-cd67-4ab2-aa11-31bd0374f460"
      },
      "source": [
        "print('Среднее растояние до центра у топ 10:', fast_apartaments.city_centers_nearest.mean())"
      ],
      "execution_count": null,
      "outputs": [
        {
          "name": "stdout",
          "output_type": "stream",
          "text": [
            "Среднее растояние до центра у топ 10: 18176.981078072826\n"
          ]
        }
      ]
    },
    {
      "cell_type": "markdown",
      "metadata": {
        "id": "QjtOBNbG-7-g"
      },
      "source": [
        "Видим, что это крупынй город Санкт-петербург и среднее до центра 12км."
      ]
    },
    {
      "cell_type": "markdown",
      "metadata": {
        "id": "38I2iX_a-7-h"
      },
      "source": [
        "**- Когда продажи прошли необычно долго?**\n",
        "\n",
        "Интересно узнать кто как считает, что для них необычно долго. Для меня необычно долго это уже дня 3-4. Т.к. я только новичек и даже интеренет не может мне ответить на этот впорос предположу,что необычно долгая продажа это все та которая длилась, ну больше года. На это могло повлиять многое, как минимум самые лучше квартиры были куплены и стались так себе варианты, при том, что деньги у людей были. Если посмотреть на гистограмму, все что дальше 700 дней это уже единичные случаи и этот промежуток можно взять как самые долгие.\n",
        "\n",
        "А можно сделать легче, вывести топ 10 с конца, отрезав те квартиры которые не продали."
      ]
    },
    {
      "cell_type": "code",
      "metadata": {
        "id": "N8FSBMbt-7-h",
        "outputId": "d7e20f74-e5d4-4c09-c921-1cd26c3a49f7"
      },
      "source": [
        "long_time = df.query('days_exposition != days_exposition.max()')\n",
        "long_time[['days_exposition',\n",
        "            'locality_name',\n",
        "            'city_centers_nearest'\n",
        "            ]].sort_values(by='days_exposition', ascending=False).head(10)"
      ],
      "execution_count": null,
      "outputs": [
        {
          "data": {
            "text/html": [
              "<div>\n",
              "<style scoped>\n",
              "    .dataframe tbody tr th:only-of-type {\n",
              "        vertical-align: middle;\n",
              "    }\n",
              "\n",
              "    .dataframe tbody tr th {\n",
              "        vertical-align: top;\n",
              "    }\n",
              "\n",
              "    .dataframe thead th {\n",
              "        text-align: right;\n",
              "    }\n",
              "</style>\n",
              "<table border=\"1\" class=\"dataframe\">\n",
              "  <thead>\n",
              "    <tr style=\"text-align: right;\">\n",
              "      <th></th>\n",
              "      <th>days_exposition</th>\n",
              "      <th>locality_name</th>\n",
              "      <th>city_centers_nearest</th>\n",
              "    </tr>\n",
              "  </thead>\n",
              "  <tbody>\n",
              "    <tr>\n",
              "      <td>1109</td>\n",
              "      <td>1572</td>\n",
              "      <td>Санкт-Петербург</td>\n",
              "      <td>318</td>\n",
              "    </tr>\n",
              "    <tr>\n",
              "      <td>9553</td>\n",
              "      <td>1553</td>\n",
              "      <td>Санкт-Петербург</td>\n",
              "      <td>17110</td>\n",
              "    </tr>\n",
              "    <tr>\n",
              "      <td>1885</td>\n",
              "      <td>1513</td>\n",
              "      <td>Санкт-Петербург</td>\n",
              "      <td>11096</td>\n",
              "    </tr>\n",
              "    <tr>\n",
              "      <td>6691</td>\n",
              "      <td>1512</td>\n",
              "      <td>Пушкин</td>\n",
              "      <td>30358</td>\n",
              "    </tr>\n",
              "    <tr>\n",
              "      <td>20969</td>\n",
              "      <td>1512</td>\n",
              "      <td>Санкт-Петербург</td>\n",
              "      <td>5032</td>\n",
              "    </tr>\n",
              "    <tr>\n",
              "      <td>14093</td>\n",
              "      <td>1497</td>\n",
              "      <td>Санкт-Петербург</td>\n",
              "      <td>4798</td>\n",
              "    </tr>\n",
              "    <tr>\n",
              "      <td>15313</td>\n",
              "      <td>1489</td>\n",
              "      <td>Сестрорецк</td>\n",
              "      <td>35515</td>\n",
              "    </tr>\n",
              "    <tr>\n",
              "      <td>19123</td>\n",
              "      <td>1485</td>\n",
              "      <td>Павловск</td>\n",
              "      <td>34619</td>\n",
              "    </tr>\n",
              "    <tr>\n",
              "      <td>11955</td>\n",
              "      <td>1484</td>\n",
              "      <td>Санкт-Петербург</td>\n",
              "      <td>11096</td>\n",
              "    </tr>\n",
              "    <tr>\n",
              "      <td>4736</td>\n",
              "      <td>1477</td>\n",
              "      <td>Санкт-Петербург</td>\n",
              "      <td>1724</td>\n",
              "    </tr>\n",
              "  </tbody>\n",
              "</table>\n",
              "</div>"
            ],
            "text/plain": [
              "       days_exposition    locality_name  city_centers_nearest\n",
              "1109              1572  Санкт-Петербург                   318\n",
              "9553              1553  Санкт-Петербург                 17110\n",
              "1885              1513  Санкт-Петербург                 11096\n",
              "6691              1512           Пушкин                 30358\n",
              "20969             1512  Санкт-Петербург                  5032\n",
              "14093             1497  Санкт-Петербург                  4798\n",
              "15313             1489       Сестрорецк                 35515\n",
              "19123             1485         Павловск                 34619\n",
              "11955             1484  Санкт-Петербург                 11096\n",
              "4736              1477  Санкт-Петербург                  1724"
            ]
          },
          "execution_count": 75,
          "metadata": {},
          "output_type": "execute_result"
        }
      ]
    },
    {
      "cell_type": "markdown",
      "metadata": {
        "id": "g6rIVEsX-7-i"
      },
      "source": [
        "Видим большенство Санкт-Петербург, а так есть более мелкие города. Видимо в Питере эти квартиры слишком дорогие из-за близости к центру или просто в других городах далеко и не удобное расположенние дома, по этому покупатель так долго их покупал =)"
      ]
    },
    {
      "cell_type": "markdown",
      "metadata": {
        "id": "K-Ops9lM-7-i"
      },
      "source": [
        "### \"Изучите время продажи квартиры. \n",
        "\n",
        "**Какие факторы больше всего влияют на стоимость квартиры?**\n",
        "\n",
        "- Изучите, зависит ли цена от площади, числа комнат, удалённости от центра. Изучите зависимость цены от того, на каком этаже расположена квартира: первом, последнем или другом. Также изучите зависимость от даты размещения: дня недели, месяца и года."
      ]
    },
    {
      "cell_type": "markdown",
      "metadata": {
        "id": "XmpQjnlQ-7-i"
      },
      "source": [
        "**1. Зависит ли цена от площади квартиры?**  \n",
        "Если выводить отфильтрованную таблицу по площади и цене, то цена зависит и очень сильно от площади, но после 150 м2 зависимость пропадает из-за того, что количество таких квартир меньше, а цена на них очень сильно гуляет, даже есть аномальный пик 300-350 млн."
      ]
    },
    {
      "cell_type": "code",
      "metadata": {
        "scrolled": true,
        "id": "yCOBl3ry-7-i",
        "outputId": "06a5226c-27ee-4c27-f629-c8a105a6cae1"
      },
      "source": [
        "norm_area.query('last_price < 400000000').sort_values('total_area').plot(x='total_area', \n",
        "                                                                         y='last_price', \n",
        "                                                                         label='total_area', \n",
        "                                                                         legend=True, \n",
        "                                                                         grid=True,\n",
        "                                                                         title='График зависимости цены от площади',\n",
        "                                                                         style='-', alpha=0.7)\n",
        "plt.xlabel('Прощадь (м2)')\n",
        "plt.ylabel('Цена (сотни млн)')\n",
        "plt.show()"
      ],
      "execution_count": null,
      "outputs": [
        {
          "data": {
            "image/png": "[encoded data removed]",
            "text/plain": [
              "<Figure size 432x288 with 1 Axes>"
            ]
          },
          "metadata": {
            "needs_background": "light"
          },
          "output_type": "display_data"
        }
      ]
    },
    {
      "cell_type": "code",
      "metadata": {
        "id": "xDkfLANX-7-i",
        "outputId": "50478d26-40b8-4637-d292-cde63889b12d"
      },
      "source": [
        "norm_area.total_area.corr(norm_area.last_price)"
      ],
      "execution_count": null,
      "outputs": [
        {
          "data": {
            "text/plain": [
              "0.6698449055566107"
            ]
          },
          "execution_count": 77,
          "metadata": {},
          "output_type": "execute_result"
        }
      ]
    },
    {
      "cell_type": "code",
      "metadata": {
        "id": "-tc2pspr-7-i",
        "outputId": "06128c5f-3480-460c-d2db-fb7773ecb00f"
      },
      "source": [
        "norm_area.query('total_area > 150').total_area.corr(norm_area.last_price)"
      ],
      "execution_count": null,
      "outputs": [
        {
          "data": {
            "text/plain": [
              "0.23534676817556735"
            ]
          },
          "execution_count": 78,
          "metadata": {},
          "output_type": "execute_result"
        }
      ]
    },
    {
      "cell_type": "markdown",
      "metadata": {
        "id": "CKR5F9MQ-7-j"
      },
      "source": [
        "**2. Зависит ли цена от числа комнат**  \n",
        "Зависимость есть. Цена растет до 3 комнат, затем снижается, что нам и показывает коэффициент Пирсона."
      ]
    },
    {
      "cell_type": "code",
      "metadata": {
        "id": "6Wtq_iUH-7-j"
      },
      "source": [
        "rooms_old = norm_rooms.pivot_table(index='rooms', values='last_price', aggfunc=['median'])\n",
        "rooms_old.columns = ['price_median_rooms']\n",
        "rooms_old['id'] = rooms_old.index"
      ],
      "execution_count": null,
      "outputs": []
    },
    {
      "cell_type": "code",
      "metadata": {
        "id": "LIlTw2lS-7-j",
        "outputId": "7c8ccf5b-f591-4dde-e5ec-f5d698337e29"
      },
      "source": [
        "norm_rooms.query('last_price < 200000000').plot(x='rooms', y='last_price', label='total_area', \n",
        "                                                legend=True, grid=True, \n",
        "                                                title='График зависимости цены от площади',\n",
        "                                               style='o', xlim=(0, 10), alpha=0.3)\n",
        "plt.xlabel('Комнаты (шт)')\n",
        "plt.ylabel('Цена (сотни млн)')\n",
        "plt.show()\n",
        "y = norm_rooms.query('rooms < 8 and last_price < 100000000').rooms.corr(norm_price['last_price'])"
      ],
      "execution_count": null,
      "outputs": [
        {
          "data": {
            "image/png": "[encoded data removed]",
            "text/plain": [
              "<Figure size 432x288 with 1 Axes>"
            ]
          },
          "metadata": {
            "needs_background": "light"
          },
          "output_type": "display_data"
        }
      ]
    },
    {
      "cell_type": "code",
      "metadata": {
        "id": "NzJ5bmY0-7-j",
        "outputId": "77388969-13d1-4cee-e7bb-8054cee37ac9"
      },
      "source": [
        "norm_rooms.query('rooms > 4 and last_price < 100000000').rooms.corr(norm_price['last_price'])"
      ],
      "execution_count": null,
      "outputs": [
        {
          "data": {
            "text/plain": [
              "0.28580178194643824"
            ]
          },
          "execution_count": 81,
          "metadata": {},
          "output_type": "execute_result"
        }
      ]
    },
    {
      "cell_type": "markdown",
      "metadata": {
        "id": "iF8SxV0n-7-j"
      },
      "source": [
        "**3. ЗАвисит ли цена квартиры от близости к центру**  \n",
        "Тут мы набрюдаем отрицательную корреляцию и как бы это логичено, чем дальше мы от центра, тем дешевле. Пик самый это 5км, но чем дальше, тем дешевле."
      ]
    },
    {
      "cell_type": "code",
      "metadata": {
        "id": "g6nk8Dyt-7-j",
        "outputId": "707088a7-0c96-4854-d611-a1a32c745b53"
      },
      "source": [
        "city_centers_nearest_old = norm_rooms.query('last_price < 400000000 and city_centers_nearest < 40000').plot(\n",
        "                                                      x='city_centers_nearest', \n",
        "                                                      y='last_price', \n",
        "                                                      label='total_area', \n",
        "                                                      legend=True, grid=True, \n",
        "                                                      title='График зависимости цены от площади',\n",
        "                                                      style='o', alpha=0.08)\n",
        "plt.xlabel('Растояние до центра (метры)')\n",
        "plt.ylabel('Цена (сотни млн)')\n",
        "plt.show()\n",
        "norm_rooms.city_centers_nearest.corr(norm_price['last_price'])"
      ],
      "execution_count": null,
      "outputs": [
        {
          "data": {
            "image/png": "[encoded data removed]",
            "text/plain": [
              "<Figure size 432x288 with 1 Axes>"
            ]
          },
          "metadata": {
            "needs_background": "light"
          },
          "output_type": "display_data"
        },
        {
          "data": {
            "text/plain": [
              "-0.4538799731259765"
            ]
          },
          "execution_count": 82,
          "metadata": {},
          "output_type": "execute_result"
        }
      ]
    },
    {
      "cell_type": "code",
      "metadata": {
        "id": "a9K6wHp7-7-k",
        "outputId": "80952e3f-8ece-4ec0-e956-2e960677ab20"
      },
      "source": [
        "norm_rooms.query('city_centers_nearest < 40000 and last_price < 50000000').city_centers_nearest.corr(norm_price['last_price'])"
      ],
      "execution_count": null,
      "outputs": [
        {
          "data": {
            "text/plain": [
              "-0.4770836305306643"
            ]
          },
          "execution_count": 83,
          "metadata": {},
          "output_type": "execute_result"
        }
      ]
    },
    {
      "cell_type": "markdown",
      "metadata": {
        "id": "UUnrnV_--7-k"
      },
      "source": [
        "**4. Изучите зависимость цены от того, на каком этаже расположена квартира: первом, последнем или другом**"
      ]
    },
    {
      "cell_type": "markdown",
      "metadata": {
        "id": "1tT8RfgK-7-k"
      },
      "source": [
        "Видими, что последний этаж у нас аномальный и все нам портит . Уберем его для точности данных."
      ]
    },
    {
      "cell_type": "code",
      "metadata": {
        "id": "7L78Ge7n-7-k",
        "outputId": "e2e8088f-18d5-4c26-da85-7e903d4d2828"
      },
      "source": [
        "price_median_floor = norm_price.query('floor_category != \"последний\"').pivot_table(\n",
        "                                                                        index='floor_category', \n",
        "                                                                        values='last_price', \n",
        "                                                                        aggfunc=['median']\n",
        "                                                                                    )\n",
        "price_median_floor.columns = ['price_median_floor']\n",
        "price_median_floor.plot(y='price_median_floor', kind ='bar', \n",
        "                        title='График зависимости цены от этажа',\n",
        "                       rot=0)\n",
        "plt.xlabel('Этаж')\n",
        "plt.ylabel('Медиана цена квартир(млн)')\n",
        "plt.show()"
      ],
      "execution_count": null,
      "outputs": [
        {
          "data": {
            "image/png": "[encoded data removed]",
            "text/plain": [
              "<Figure size 432x288 with 1 Axes>"
            ]
          },
          "metadata": {
            "needs_background": "light"
          },
          "output_type": "display_data"
        }
      ]
    },
    {
      "cell_type": "markdown",
      "metadata": {
        "id": "_LWctf-O-7-k"
      },
      "source": [
        "Вот теперь видно что цена других этажей выше чем у первых."
      ]
    },
    {
      "cell_type": "markdown",
      "metadata": {
        "id": "Leg-g4gW-7-k"
      },
      "source": [
        "**5. Зависимость от времени.**"
      ]
    },
    {
      "cell_type": "code",
      "metadata": {
        "id": "TruiQu73-7-l",
        "outputId": "d338d438-973e-4d53-ab81-b19ddc6cd863"
      },
      "source": [
        "day_old = norm_price.pivot_table(index='day', values='last_price', aggfunc=['median', 'count'])\n",
        "day_old.columns = ['price_median_day_old', 'count']\n",
        "day_old.plot(y='price_median_day_old', kind ='bar', title='График зависимости цены от дня недели', rot=0)\n",
        "plt.xlabel('Дни недели (0-ПН, 6-ВС)')\n",
        "plt.ylabel('Медиана цена квартир(млн)')\n",
        "plt.show()"
      ],
      "execution_count": null,
      "outputs": [
        {
          "data": {
            "image/png": "[encoded data removed]",
            "text/plain": [
              "<Figure size 432x288 with 1 Axes>"
            ]
          },
          "metadata": {
            "needs_background": "light"
          },
          "output_type": "display_data"
        }
      ]
    },
    {
      "cell_type": "code",
      "metadata": {
        "id": "9LAbTF0B-7-l",
        "outputId": "c587be3a-7f89-4e00-9d22-6899f5226d76"
      },
      "source": [
        "day_old"
      ],
      "execution_count": null,
      "outputs": [
        {
          "data": {
            "text/html": [
              "<div>\n",
              "<style scoped>\n",
              "    .dataframe tbody tr th:only-of-type {\n",
              "        vertical-align: middle;\n",
              "    }\n",
              "\n",
              "    .dataframe tbody tr th {\n",
              "        vertical-align: top;\n",
              "    }\n",
              "\n",
              "    .dataframe thead th {\n",
              "        text-align: right;\n",
              "    }\n",
              "</style>\n",
              "<table border=\"1\" class=\"dataframe\">\n",
              "  <thead>\n",
              "    <tr style=\"text-align: right;\">\n",
              "      <th></th>\n",
              "      <th>price_median_day_old</th>\n",
              "      <th>count</th>\n",
              "    </tr>\n",
              "    <tr>\n",
              "      <th>day</th>\n",
              "      <th></th>\n",
              "      <th></th>\n",
              "    </tr>\n",
              "  </thead>\n",
              "  <tbody>\n",
              "    <tr>\n",
              "      <td>0</td>\n",
              "      <td>4600000</td>\n",
              "      <td>3580</td>\n",
              "    </tr>\n",
              "    <tr>\n",
              "      <td>1</td>\n",
              "      <td>4700000</td>\n",
              "      <td>4150</td>\n",
              "    </tr>\n",
              "    <tr>\n",
              "      <td>2</td>\n",
              "      <td>4700000</td>\n",
              "      <td>3951</td>\n",
              "    </tr>\n",
              "    <tr>\n",
              "      <td>3</td>\n",
              "      <td>4600000</td>\n",
              "      <td>4252</td>\n",
              "    </tr>\n",
              "    <tr>\n",
              "      <td>4</td>\n",
              "      <td>4550000</td>\n",
              "      <td>3969</td>\n",
              "    </tr>\n",
              "    <tr>\n",
              "      <td>5</td>\n",
              "      <td>4500000</td>\n",
              "      <td>1914</td>\n",
              "    </tr>\n",
              "    <tr>\n",
              "      <td>6</td>\n",
              "      <td>4500000</td>\n",
              "      <td>1688</td>\n",
              "    </tr>\n",
              "  </tbody>\n",
              "</table>\n",
              "</div>"
            ],
            "text/plain": [
              "     price_median_day_old  count\n",
              "day                             \n",
              "0                 4600000   3580\n",
              "1                 4700000   4150\n",
              "2                 4700000   3951\n",
              "3                 4600000   4252\n",
              "4                 4550000   3969\n",
              "5                 4500000   1914\n",
              "6                 4500000   1688"
            ]
          },
          "execution_count": 86,
          "metadata": {},
          "output_type": "execute_result"
        }
      ]
    },
    {
      "cell_type": "markdown",
      "metadata": {
        "id": "tFt077Yk-7-l"
      },
      "source": [
        "Зависимость от дней недели +- одинакова."
      ]
    },
    {
      "cell_type": "code",
      "metadata": {
        "id": "5911kJc3-7-l",
        "outputId": "cbf8a803-d348-456f-ab82-3ba6559e892c"
      },
      "source": [
        "week_old = norm_price.pivot_table(index='week', values='last_price', aggfunc=['median', 'count'])\n",
        "week_old.columns = ['price_median_week_old', 'count']\n",
        "week_old.plot(y='price_median_week_old', kind ='bar', title='График зависимости месяца', rot=0)\n",
        "plt.xlabel('Месяцы (1-Январь, 12-Декабрь)')\n",
        "plt.ylabel('Медиана цена квартир(млн)')\n",
        "plt.show()"
      ],
      "execution_count": null,
      "outputs": [
        {
          "data": {
            "image/png": "[encoded data removed]",
            "text/plain": [
              "<Figure size 432x288 with 1 Axes>"
            ]
          },
          "metadata": {
            "needs_background": "light"
          },
          "output_type": "display_data"
        }
      ]
    },
    {
      "cell_type": "code",
      "metadata": {
        "id": "hVT8E4iz-7-l",
        "outputId": "e4766875-d63a-445f-9cf6-8c522a74956a"
      },
      "source": [
        "week_old"
      ],
      "execution_count": null,
      "outputs": [
        {
          "data": {
            "text/html": [
              "<div>\n",
              "<style scoped>\n",
              "    .dataframe tbody tr th:only-of-type {\n",
              "        vertical-align: middle;\n",
              "    }\n",
              "\n",
              "    .dataframe tbody tr th {\n",
              "        vertical-align: top;\n",
              "    }\n",
              "\n",
              "    .dataframe thead th {\n",
              "        text-align: right;\n",
              "    }\n",
              "</style>\n",
              "<table border=\"1\" class=\"dataframe\">\n",
              "  <thead>\n",
              "    <tr style=\"text-align: right;\">\n",
              "      <th></th>\n",
              "      <th>price_median_week_old</th>\n",
              "      <th>count</th>\n",
              "    </tr>\n",
              "    <tr>\n",
              "      <th>week</th>\n",
              "      <th></th>\n",
              "      <th></th>\n",
              "    </tr>\n",
              "  </thead>\n",
              "  <tbody>\n",
              "    <tr>\n",
              "      <td>1</td>\n",
              "      <td>4600000</td>\n",
              "      <td>1488</td>\n",
              "    </tr>\n",
              "    <tr>\n",
              "      <td>2</td>\n",
              "      <td>4615000</td>\n",
              "      <td>2616</td>\n",
              "    </tr>\n",
              "    <tr>\n",
              "      <td>3</td>\n",
              "      <td>4650000</td>\n",
              "      <td>2571</td>\n",
              "    </tr>\n",
              "    <tr>\n",
              "      <td>4</td>\n",
              "      <td>4779507</td>\n",
              "      <td>2358</td>\n",
              "    </tr>\n",
              "    <tr>\n",
              "      <td>5</td>\n",
              "      <td>4500000</td>\n",
              "      <td>1263</td>\n",
              "    </tr>\n",
              "    <tr>\n",
              "      <td>6</td>\n",
              "      <td>4400000</td>\n",
              "      <td>1743</td>\n",
              "    </tr>\n",
              "    <tr>\n",
              "      <td>7</td>\n",
              "      <td>4600000</td>\n",
              "      <td>1676</td>\n",
              "    </tr>\n",
              "    <tr>\n",
              "      <td>8</td>\n",
              "      <td>4550000</td>\n",
              "      <td>1735</td>\n",
              "    </tr>\n",
              "    <tr>\n",
              "      <td>9</td>\n",
              "      <td>4670000</td>\n",
              "      <td>1965</td>\n",
              "    </tr>\n",
              "    <tr>\n",
              "      <td>10</td>\n",
              "      <td>4550000</td>\n",
              "      <td>2116</td>\n",
              "    </tr>\n",
              "    <tr>\n",
              "      <td>11</td>\n",
              "      <td>4675000</td>\n",
              "      <td>2352</td>\n",
              "    </tr>\n",
              "    <tr>\n",
              "      <td>12</td>\n",
              "      <td>4650000</td>\n",
              "      <td>1621</td>\n",
              "    </tr>\n",
              "  </tbody>\n",
              "</table>\n",
              "</div>"
            ],
            "text/plain": [
              "      price_median_week_old  count\n",
              "week                              \n",
              "1                   4600000   1488\n",
              "2                   4615000   2616\n",
              "3                   4650000   2571\n",
              "4                   4779507   2358\n",
              "5                   4500000   1263\n",
              "6                   4400000   1743\n",
              "7                   4600000   1676\n",
              "8                   4550000   1735\n",
              "9                   4670000   1965\n",
              "10                  4550000   2116\n",
              "11                  4675000   2352\n",
              "12                  4650000   1621"
            ]
          },
          "execution_count": 88,
          "metadata": {},
          "output_type": "execute_result"
        }
      ]
    },
    {
      "cell_type": "markdown",
      "metadata": {
        "id": "t5FS-Dw1-7-l"
      },
      "source": [
        "Разрыв хоть небольшой, но в 4 месяце дороже всех квартиры."
      ]
    },
    {
      "cell_type": "code",
      "metadata": {
        "id": "DNVPSr-4-7-l",
        "outputId": "e9971c81-93d5-4d7b-e18d-057278f0b077"
      },
      "source": [
        "year_old = norm_price.pivot_table(index='year', values='last_price', aggfunc=['median', 'count'])\n",
        "year_old.columns = ['price_median_year_old', 'count']\n",
        "year_old.plot(y='price_median_year_old', kind ='bar', title='График зависимости месяца', rot=0)\n",
        "plt.xlabel('Год')\n",
        "plt.ylabel('Медиана цена квартир(млн)')\n",
        "plt.show()"
      ],
      "execution_count": null,
      "outputs": [
        {
          "data": {
            "image/png": "[encoded data removed]",
            "text/plain": [
              "<Figure size 432x288 with 1 Axes>"
            ]
          },
          "metadata": {
            "needs_background": "light"
          },
          "output_type": "display_data"
        }
      ]
    },
    {
      "cell_type": "code",
      "metadata": {
        "id": "NOArYsHf-7-m",
        "outputId": "78a9dc10-eccd-4f39-d013-685a3145204b"
      },
      "source": [
        "year_old"
      ],
      "execution_count": null,
      "outputs": [
        {
          "data": {
            "text/html": [
              "<div>\n",
              "<style scoped>\n",
              "    .dataframe tbody tr th:only-of-type {\n",
              "        vertical-align: middle;\n",
              "    }\n",
              "\n",
              "    .dataframe tbody tr th {\n",
              "        vertical-align: top;\n",
              "    }\n",
              "\n",
              "    .dataframe thead th {\n",
              "        text-align: right;\n",
              "    }\n",
              "</style>\n",
              "<table border=\"1\" class=\"dataframe\">\n",
              "  <thead>\n",
              "    <tr style=\"text-align: right;\">\n",
              "      <th></th>\n",
              "      <th>price_median_year_old</th>\n",
              "      <th>count</th>\n",
              "    </tr>\n",
              "    <tr>\n",
              "      <th>year</th>\n",
              "      <th></th>\n",
              "      <th></th>\n",
              "    </tr>\n",
              "  </thead>\n",
              "  <tbody>\n",
              "    <tr>\n",
              "      <td>2014</td>\n",
              "      <td>7488280</td>\n",
              "      <td>130</td>\n",
              "    </tr>\n",
              "    <tr>\n",
              "      <td>2015</td>\n",
              "      <td>5250000</td>\n",
              "      <td>1164</td>\n",
              "    </tr>\n",
              "    <tr>\n",
              "      <td>2016</td>\n",
              "      <td>4500000</td>\n",
              "      <td>2751</td>\n",
              "    </tr>\n",
              "    <tr>\n",
              "      <td>2017</td>\n",
              "      <td>4500000</td>\n",
              "      <td>8116</td>\n",
              "    </tr>\n",
              "    <tr>\n",
              "      <td>2018</td>\n",
              "      <td>4550000</td>\n",
              "      <td>8486</td>\n",
              "    </tr>\n",
              "    <tr>\n",
              "      <td>2019</td>\n",
              "      <td>5000000</td>\n",
              "      <td>2857</td>\n",
              "    </tr>\n",
              "  </tbody>\n",
              "</table>\n",
              "</div>"
            ],
            "text/plain": [
              "      price_median_year_old  count\n",
              "year                              \n",
              "2014                7488280    130\n",
              "2015                5250000   1164\n",
              "2016                4500000   2751\n",
              "2017                4500000   8116\n",
              "2018                4550000   8486\n",
              "2019                5000000   2857"
            ]
          },
          "execution_count": 90,
          "metadata": {},
          "output_type": "execute_result"
        }
      ]
    },
    {
      "cell_type": "markdown",
      "metadata": {
        "id": "KE2QhpT8-7-m"
      },
      "source": [
        "Самые дорогие квартиры были в 2014. Чем старше год тем меньше медиана, но тем больше предложений на рынке."
      ]
    },
    {
      "cell_type": "markdown",
      "metadata": {
        "id": "BoFEq7mQ-7-m"
      },
      "source": [
        "### Выберите 10 населённых пунктов с наибольшим числом объявлений.\n",
        "\n",
        "**Посчитайте среднюю цену квадратного метра в этих населённых пунктах. Выделите среди них населённые пункты с самой высокой и низкой стоимостью жилья. Эти данные можно найти по имени в столбце 'locality_name'.**"
      ]
    },
    {
      "cell_type": "markdown",
      "metadata": {
        "id": "fUXREmAo-7-m"
      },
      "source": [
        "1. Топ 10 городов с наибольшим числом объявлений."
      ]
    },
    {
      "cell_type": "code",
      "metadata": {
        "id": "DsN6NlV--7-m",
        "outputId": "6ae0f2fc-4001-435f-be08-9067b7d9f6b0"
      },
      "source": [
        "top = df.query('locality_name != \"unknown\"').groupby('locality_name')['days_exposition'].count()\n",
        "top = top.sort_values(ascending=False).head(10)\n",
        "top"
      ],
      "execution_count": null,
      "outputs": [
        {
          "data": {
            "text/plain": [
              "locality_name\n",
              "Санкт-Петербург      15721\n",
              "поселок Мурино         590\n",
              "поселок Шушары         440\n",
              "Всеволожск             398\n",
              "Пушкин                 369\n",
              "Колпино                338\n",
              "поселок Парголово      327\n",
              "Гатчина                307\n",
              "деревня Кудрово        299\n",
              "Выборг                 237\n",
              "Name: days_exposition, dtype: int64"
            ]
          },
          "execution_count": 91,
          "metadata": {},
          "output_type": "execute_result"
        }
      ]
    },
    {
      "cell_type": "markdown",
      "metadata": {
        "id": "pWvGKmip-7-n"
      },
      "source": [
        "2. Средняя цена за м2 в этих населенных пунтктах."
      ]
    },
    {
      "cell_type": "code",
      "metadata": {
        "scrolled": true,
        "id": "MeVgvOx6-7-n",
        "outputId": "3610df8e-ad99-48b5-92af-565ddaacaaec"
      },
      "source": [
        "mean_m2 = norm_area.query('locality_name in @top.index').groupby('locality_name')['price_per_square_meter'].mean()\n",
        "mean_m2.sort_values(ascending=False)"
      ],
      "execution_count": null,
      "outputs": [
        {
          "data": {
            "text/plain": [
              "locality_name\n",
              "Санкт-Петербург     114051.69\n",
              "Пушкин              103130.41\n",
              "деревня Кудрово      92473.09\n",
              "поселок Парголово    90175.49\n",
              "поселок Мурино       86087.06\n",
              "поселок Шушары       78676.90\n",
              "Колпино              75332.87\n",
              "Гатчина              68745.69\n",
              "Всеволожск           68654.01\n",
              "Выборг               58141.49\n",
              "Name: price_per_square_meter, dtype: float64"
            ]
          },
          "execution_count": 92,
          "metadata": {},
          "output_type": "execute_result"
        }
      ]
    },
    {
      "cell_type": "markdown",
      "metadata": {
        "id": "h3zV751_-7-n"
      },
      "source": [
        "3. Hаселённые пункты с самой высокой и низкой стоимостью жилья"
      ]
    },
    {
      "cell_type": "code",
      "metadata": {
        "id": "uGyfxowR-7-n",
        "outputId": "faf00938-d97f-47ae-acce-2d9e19f9fa81"
      },
      "source": [
        "max_price = norm_price.query('locality_name in @top.index').groupby('locality_name')['last_price'].max()\n",
        "max_price.sort_values(ascending=False)"
      ],
      "execution_count": null,
      "outputs": [
        {
          "data": {
            "text/plain": [
              "locality_name\n",
              "Санкт-Петербург      39990000\n",
              "Колпино              36900000\n",
              "Пушкин               35000000\n",
              "Всеволожск           24412900\n",
              "Выборг               19990000\n",
              "Гатчина              13900000\n",
              "деревня Кудрово      13000000\n",
              "поселок Шушары       10990000\n",
              "поселок Парголово     9140000\n",
              "поселок Мурино        8500000\n",
              "Name: last_price, dtype: int64"
            ]
          },
          "execution_count": 93,
          "metadata": {},
          "output_type": "execute_result"
        }
      ]
    },
    {
      "cell_type": "code",
      "metadata": {
        "scrolled": true,
        "id": "mXGMiR3z-7-n",
        "outputId": "de21ff17-7fd1-4011-afd8-e0e2f3a427e6"
      },
      "source": [
        "min_price = norm_price.query('locality_name in @top.index').groupby('locality_name')['last_price'].min()\n",
        "min_price.sort_values(ascending=True)"
      ],
      "execution_count": null,
      "outputs": [
        {
          "data": {
            "text/plain": [
              "locality_name\n",
              "Выборг                600000\n",
              "Гатчина               850000\n",
              "Всеволожск            965780\n",
              "Санкт-Петербург      1190000\n",
              "поселок Парголово    1400000\n",
              "поселок Шушары       1500000\n",
              "поселок Мурино       1730000\n",
              "деревня Кудрово      1800000\n",
              "Пушкин               1990000\n",
              "Колпино              2100000\n",
              "Name: last_price, dtype: int64"
            ]
          },
          "execution_count": 94,
          "metadata": {},
          "output_type": "execute_result"
        }
      ]
    },
    {
      "cell_type": "markdown",
      "metadata": {
        "id": "7QJzNEzP-7-n"
      },
      "source": [
        "### Изучите предложения квартир: \n",
        "**для каждой квартиры есть информация о расстоянии до центра. Выделите квартиры в Санкт-Петербурге ('locality_name'). Ваша задача — выяснить, какая область входит в центр. Создайте столбец с расстоянием до центра в километрах: округлите до целых значений. После этого посчитайте среднюю цену для каждого километра. Постройте график: он должен показывать, как цена зависит от удалённости от центра. Определите границу, где график сильно меняется — это и будет центральная зона.**"
      ]
    },
    {
      "cell_type": "code",
      "metadata": {
        "id": "MQUjq5qk-7-n"
      },
      "source": [
        "import warnings\n",
        "warnings.filterwarnings(\"ignore\")"
      ],
      "execution_count": null,
      "outputs": []
    },
    {
      "cell_type": "code",
      "metadata": {
        "scrolled": false,
        "id": "vV6CWk0V-7-o",
        "outputId": "e204e280-4c6d-40b0-d9d0-f7ada870c5a3"
      },
      "source": [
        "spb_hous = norm_price[df['locality_name'] == \"Санкт-Петербург\"]\n",
        "spb_hous['city_centers_nearest_km'] = spb_hous['city_centers_nearest'] / 1000\n",
        "spb_hous['city_centers_nearest_km'] = spb_hous['city_centers_nearest_km'].astype('int')\n",
        "spb_hous.head(2)"
      ],
      "execution_count": null,
      "outputs": [
        {
          "data": {
            "text/html": [
              "<div>\n",
              "<style scoped>\n",
              "    .dataframe tbody tr th:only-of-type {\n",
              "        vertical-align: middle;\n",
              "    }\n",
              "\n",
              "    .dataframe tbody tr th {\n",
              "        vertical-align: top;\n",
              "    }\n",
              "\n",
              "    .dataframe thead th {\n",
              "        text-align: right;\n",
              "    }\n",
              "</style>\n",
              "<table border=\"1\" class=\"dataframe\">\n",
              "  <thead>\n",
              "    <tr style=\"text-align: right;\">\n",
              "      <th></th>\n",
              "      <th>total_images</th>\n",
              "      <th>last_price</th>\n",
              "      <th>total_area</th>\n",
              "      <th>first_day_exposition</th>\n",
              "      <th>rooms</th>\n",
              "      <th>ceiling_height</th>\n",
              "      <th>floors_total</th>\n",
              "      <th>living_area</th>\n",
              "      <th>floor</th>\n",
              "      <th>is_apartment</th>\n",
              "      <th>studio</th>\n",
              "      <th>open_plan</th>\n",
              "      <th>kitchen_area</th>\n",
              "      <th>balcony</th>\n",
              "      <th>locality_name</th>\n",
              "      <th>airports_nearest</th>\n",
              "      <th>city_centers_nearest</th>\n",
              "      <th>parks_around3000</th>\n",
              "      <th>parks_nearest</th>\n",
              "      <th>ponds_around3000</th>\n",
              "      <th>ponds_nearest</th>\n",
              "      <th>days_exposition</th>\n",
              "      <th>living_area_categor</th>\n",
              "      <th>price_per_square_meter</th>\n",
              "      <th>day</th>\n",
              "      <th>week</th>\n",
              "      <th>year</th>\n",
              "      <th>floor_category</th>\n",
              "      <th>living_space</th>\n",
              "      <th>kitchen_space</th>\n",
              "      <th>city_centers_nearest_km</th>\n",
              "    </tr>\n",
              "  </thead>\n",
              "  <tbody>\n",
              "    <tr>\n",
              "      <td>0</td>\n",
              "      <td>20</td>\n",
              "      <td>13000000</td>\n",
              "      <td>108.00</td>\n",
              "      <td>2019-03-07</td>\n",
              "      <td>3</td>\n",
              "      <td>2.70</td>\n",
              "      <td>16</td>\n",
              "      <td>51.00</td>\n",
              "      <td>8</td>\n",
              "      <td>False</td>\n",
              "      <td>False</td>\n",
              "      <td>False</td>\n",
              "      <td>25.00</td>\n",
              "      <td>0</td>\n",
              "      <td>Санкт-Петербург</td>\n",
              "      <td>18863</td>\n",
              "      <td>16028</td>\n",
              "      <td>1</td>\n",
              "      <td>482</td>\n",
              "      <td>2</td>\n",
              "      <td>755</td>\n",
              "      <td>1580</td>\n",
              "      <td>up_to100</td>\n",
              "      <td>120370</td>\n",
              "      <td>3</td>\n",
              "      <td>3</td>\n",
              "      <td>2019</td>\n",
              "      <td>другой</td>\n",
              "      <td>0.47</td>\n",
              "      <td>0.23</td>\n",
              "      <td>16</td>\n",
              "    </tr>\n",
              "    <tr>\n",
              "      <td>2</td>\n",
              "      <td>10</td>\n",
              "      <td>5196000</td>\n",
              "      <td>56.00</td>\n",
              "      <td>2015-08-20</td>\n",
              "      <td>2</td>\n",
              "      <td>2.65</td>\n",
              "      <td>5</td>\n",
              "      <td>34.30</td>\n",
              "      <td>4</td>\n",
              "      <td>False</td>\n",
              "      <td>False</td>\n",
              "      <td>False</td>\n",
              "      <td>8.30</td>\n",
              "      <td>0</td>\n",
              "      <td>Санкт-Петербург</td>\n",
              "      <td>21741</td>\n",
              "      <td>13933</td>\n",
              "      <td>1</td>\n",
              "      <td>90</td>\n",
              "      <td>2</td>\n",
              "      <td>574</td>\n",
              "      <td>558</td>\n",
              "      <td>up_to10</td>\n",
              "      <td>92785</td>\n",
              "      <td>3</td>\n",
              "      <td>8</td>\n",
              "      <td>2015</td>\n",
              "      <td>другой</td>\n",
              "      <td>0.61</td>\n",
              "      <td>0.15</td>\n",
              "      <td>13</td>\n",
              "    </tr>\n",
              "  </tbody>\n",
              "</table>\n",
              "</div>"
            ],
            "text/plain": [
              "   total_images  last_price  total_area first_day_exposition  rooms  \\\n",
              "0            20    13000000      108.00           2019-03-07      3   \n",
              "2            10     5196000       56.00           2015-08-20      2   \n",
              "\n",
              "   ceiling_height  floors_total  living_area  floor  is_apartment  studio  \\\n",
              "0            2.70            16        51.00      8         False   False   \n",
              "2            2.65             5        34.30      4         False   False   \n",
              "\n",
              "   open_plan  kitchen_area  balcony    locality_name  airports_nearest  \\\n",
              "0      False         25.00        0  Санкт-Петербург             18863   \n",
              "2      False          8.30        0  Санкт-Петербург             21741   \n",
              "\n",
              "   city_centers_nearest  parks_around3000  parks_nearest  ponds_around3000  \\\n",
              "0                 16028                 1            482                 2   \n",
              "2                 13933                 1             90                 2   \n",
              "\n",
              "   ponds_nearest  days_exposition living_area_categor  price_per_square_meter  \\\n",
              "0            755             1580            up_to100                  120370   \n",
              "2            574              558             up_to10                   92785   \n",
              "\n",
              "   day  week  year floor_category  living_space  kitchen_space  \\\n",
              "0    3     3  2019         другой          0.47           0.23   \n",
              "2    3     8  2015         другой          0.61           0.15   \n",
              "\n",
              "   city_centers_nearest_km  \n",
              "0                       16  \n",
              "2                       13  "
            ]
          },
          "execution_count": 96,
          "metadata": {},
          "output_type": "execute_result"
        }
      ]
    },
    {
      "cell_type": "markdown",
      "metadata": {
        "id": "GAWEHKQ3-7-o"
      },
      "source": [
        "\n",
        "<div class=\"alert alert-block alert-warning\">\n",
        "    \n",
        "Такие предупрежденияя пандаса можно отключить\n",
        "    \n",
        "    import warnings\n",
        "    warnings.filterwarnings(\"ignore\")"
      ]
    },
    {
      "cell_type": "code",
      "metadata": {
        "id": "b8lNcnje-7-o"
      },
      "source": [
        "spb_hous['one_km_price'] = spb_hous['last_price'] / spb_hous['city_centers_nearest_km']"
      ],
      "execution_count": null,
      "outputs": []
    },
    {
      "cell_type": "code",
      "metadata": {
        "id": "EUzEJ6d0-7-o",
        "outputId": "ac7e3d6b-5ca3-4be1-abfb-72ef6f3e2d4e"
      },
      "source": [
        "new_table = spb_hous.pivot_table(index='city_centers_nearest_km',\n",
        "                                                values='one_km_price', aggfunc='mean')\n",
        "new_table.columns = ['one_km_price_mean']\n",
        "new_table['km'] = new_table.index\n",
        "new_table.plot(x='km', y='one_km_price_mean', title='График зависимости средней цены от км',kind='bar', grid=True)\n",
        "plt.xlabel('Расстояние (км)')\n",
        "plt.ylabel('Цена (десятки млн)')\n",
        "plt.show()"
      ],
      "execution_count": null,
      "outputs": [
        {
          "data": {
            "image/png": "[encoded data removed]",
            "text/plain": [
              "<Figure size 432x288 with 1 Axes>"
            ]
          },
          "metadata": {
            "needs_background": "light"
          },
          "output_type": "display_data"
        }
      ]
    },
    {
      "cell_type": "code",
      "metadata": {
        "id": "akE984Kc-7-o",
        "outputId": "15ac967c-48f8-48c2-9697-5655c5426d9d"
      },
      "source": [
        "new_table.head()"
      ],
      "execution_count": null,
      "outputs": [
        {
          "data": {
            "text/html": [
              "<div>\n",
              "<style scoped>\n",
              "    .dataframe tbody tr th:only-of-type {\n",
              "        vertical-align: middle;\n",
              "    }\n",
              "\n",
              "    .dataframe tbody tr th {\n",
              "        vertical-align: top;\n",
              "    }\n",
              "\n",
              "    .dataframe thead th {\n",
              "        text-align: right;\n",
              "    }\n",
              "</style>\n",
              "<table border=\"1\" class=\"dataframe\">\n",
              "  <thead>\n",
              "    <tr style=\"text-align: right;\">\n",
              "      <th></th>\n",
              "      <th>one_km_price_mean</th>\n",
              "      <th>km</th>\n",
              "    </tr>\n",
              "    <tr>\n",
              "      <th>city_centers_nearest_km</th>\n",
              "      <th></th>\n",
              "      <th></th>\n",
              "    </tr>\n",
              "  </thead>\n",
              "  <tbody>\n",
              "    <tr>\n",
              "      <td>0</td>\n",
              "      <td>inf</td>\n",
              "      <td>0</td>\n",
              "    </tr>\n",
              "    <tr>\n",
              "      <td>1</td>\n",
              "      <td>12016035.87</td>\n",
              "      <td>1</td>\n",
              "    </tr>\n",
              "    <tr>\n",
              "      <td>2</td>\n",
              "      <td>5531472.57</td>\n",
              "      <td>2</td>\n",
              "    </tr>\n",
              "    <tr>\n",
              "      <td>3</td>\n",
              "      <td>3457090.95</td>\n",
              "      <td>3</td>\n",
              "    </tr>\n",
              "    <tr>\n",
              "      <td>4</td>\n",
              "      <td>2918783.88</td>\n",
              "      <td>4</td>\n",
              "    </tr>\n",
              "  </tbody>\n",
              "</table>\n",
              "</div>"
            ],
            "text/plain": [
              "                         one_km_price_mean  km\n",
              "city_centers_nearest_km                       \n",
              "0                                      inf   0\n",
              "1                              12016035.87   1\n",
              "2                               5531472.57   2\n",
              "3                               3457090.95   3\n",
              "4                               2918783.88   4"
            ]
          },
          "execution_count": 99,
          "metadata": {},
          "output_type": "execute_result"
        }
      ]
    },
    {
      "cell_type": "markdown",
      "metadata": {
        "id": "MnHVYbfw-7-p"
      },
      "source": [
        "График похож на распределение Пуассона и резко меняется уже после 1км, соотвественно все, что меньше 2 км это центр."
      ]
    },
    {
      "cell_type": "code",
      "metadata": {
        "id": "2zGz9pss-7-p",
        "outputId": "f2da42be-1991-4d00-dddb-4682cbcb5f55"
      },
      "source": [
        "spb_hous.query('city_centers_nearest_km < 2').sort_values('last_price', ascending=False).head()"
      ],
      "execution_count": null,
      "outputs": [
        {
          "data": {
            "text/html": [
              "<div>\n",
              "<style scoped>\n",
              "    .dataframe tbody tr th:only-of-type {\n",
              "        vertical-align: middle;\n",
              "    }\n",
              "\n",
              "    .dataframe tbody tr th {\n",
              "        vertical-align: top;\n",
              "    }\n",
              "\n",
              "    .dataframe thead th {\n",
              "        text-align: right;\n",
              "    }\n",
              "</style>\n",
              "<table border=\"1\" class=\"dataframe\">\n",
              "  <thead>\n",
              "    <tr style=\"text-align: right;\">\n",
              "      <th></th>\n",
              "      <th>total_images</th>\n",
              "      <th>last_price</th>\n",
              "      <th>total_area</th>\n",
              "      <th>first_day_exposition</th>\n",
              "      <th>rooms</th>\n",
              "      <th>ceiling_height</th>\n",
              "      <th>floors_total</th>\n",
              "      <th>living_area</th>\n",
              "      <th>floor</th>\n",
              "      <th>is_apartment</th>\n",
              "      <th>studio</th>\n",
              "      <th>open_plan</th>\n",
              "      <th>kitchen_area</th>\n",
              "      <th>balcony</th>\n",
              "      <th>locality_name</th>\n",
              "      <th>airports_nearest</th>\n",
              "      <th>city_centers_nearest</th>\n",
              "      <th>parks_around3000</th>\n",
              "      <th>parks_nearest</th>\n",
              "      <th>ponds_around3000</th>\n",
              "      <th>ponds_nearest</th>\n",
              "      <th>days_exposition</th>\n",
              "      <th>living_area_categor</th>\n",
              "      <th>price_per_square_meter</th>\n",
              "      <th>day</th>\n",
              "      <th>week</th>\n",
              "      <th>year</th>\n",
              "      <th>floor_category</th>\n",
              "      <th>living_space</th>\n",
              "      <th>kitchen_space</th>\n",
              "      <th>city_centers_nearest_km</th>\n",
              "      <th>one_km_price</th>\n",
              "    </tr>\n",
              "  </thead>\n",
              "  <tbody>\n",
              "    <tr>\n",
              "      <td>282</td>\n",
              "      <td>17</td>\n",
              "      <td>37000000</td>\n",
              "      <td>115.00</td>\n",
              "      <td>2018-11-15</td>\n",
              "      <td>2</td>\n",
              "      <td>2.65</td>\n",
              "      <td>5</td>\n",
              "      <td>65.00</td>\n",
              "      <td>2</td>\n",
              "      <td>False</td>\n",
              "      <td>False</td>\n",
              "      <td>False</td>\n",
              "      <td>14.00</td>\n",
              "      <td>0</td>\n",
              "      <td>Санкт-Петербург</td>\n",
              "      <td>23537</td>\n",
              "      <td>1995</td>\n",
              "      <td>2</td>\n",
              "      <td>121</td>\n",
              "      <td>2</td>\n",
              "      <td>663</td>\n",
              "      <td>158</td>\n",
              "      <td>up_to100</td>\n",
              "      <td>321739</td>\n",
              "      <td>3</td>\n",
              "      <td>11</td>\n",
              "      <td>2018</td>\n",
              "      <td>другой</td>\n",
              "      <td>0.57</td>\n",
              "      <td>0.12</td>\n",
              "      <td>1</td>\n",
              "      <td>37000000.00</td>\n",
              "    </tr>\n",
              "    <tr>\n",
              "      <td>17203</td>\n",
              "      <td>2</td>\n",
              "      <td>35300000</td>\n",
              "      <td>235.00</td>\n",
              "      <td>2018-11-15</td>\n",
              "      <td>8</td>\n",
              "      <td>4.00</td>\n",
              "      <td>4</td>\n",
              "      <td>162.00</td>\n",
              "      <td>3</td>\n",
              "      <td>False</td>\n",
              "      <td>False</td>\n",
              "      <td>False</td>\n",
              "      <td>26.00</td>\n",
              "      <td>0</td>\n",
              "      <td>Санкт-Петербург</td>\n",
              "      <td>19728</td>\n",
              "      <td>1799</td>\n",
              "      <td>3</td>\n",
              "      <td>123</td>\n",
              "      <td>3</td>\n",
              "      <td>50</td>\n",
              "      <td>7</td>\n",
              "      <td>up_to100</td>\n",
              "      <td>150212</td>\n",
              "      <td>3</td>\n",
              "      <td>11</td>\n",
              "      <td>2018</td>\n",
              "      <td>другой</td>\n",
              "      <td>0.69</td>\n",
              "      <td>0.11</td>\n",
              "      <td>1</td>\n",
              "      <td>35300000.00</td>\n",
              "    </tr>\n",
              "    <tr>\n",
              "      <td>10576</td>\n",
              "      <td>4</td>\n",
              "      <td>35000000</td>\n",
              "      <td>155.00</td>\n",
              "      <td>2018-11-18</td>\n",
              "      <td>4</td>\n",
              "      <td>2.50</td>\n",
              "      <td>5</td>\n",
              "      <td>80.00</td>\n",
              "      <td>3</td>\n",
              "      <td>False</td>\n",
              "      <td>False</td>\n",
              "      <td>False</td>\n",
              "      <td>30.00</td>\n",
              "      <td>0</td>\n",
              "      <td>Санкт-Петербург</td>\n",
              "      <td>21887</td>\n",
              "      <td>573</td>\n",
              "      <td>0</td>\n",
              "      <td>0</td>\n",
              "      <td>2</td>\n",
              "      <td>42</td>\n",
              "      <td>82</td>\n",
              "      <td>up_to100</td>\n",
              "      <td>225806</td>\n",
              "      <td>6</td>\n",
              "      <td>11</td>\n",
              "      <td>2018</td>\n",
              "      <td>другой</td>\n",
              "      <td>0.52</td>\n",
              "      <td>0.19</td>\n",
              "      <td>0</td>\n",
              "      <td>inf</td>\n",
              "    </tr>\n",
              "    <tr>\n",
              "      <td>11438</td>\n",
              "      <td>26</td>\n",
              "      <td>34979000</td>\n",
              "      <td>198.00</td>\n",
              "      <td>2017-11-23</td>\n",
              "      <td>5</td>\n",
              "      <td>2.65</td>\n",
              "      <td>5</td>\n",
              "      <td>147.00</td>\n",
              "      <td>3</td>\n",
              "      <td>False</td>\n",
              "      <td>False</td>\n",
              "      <td>False</td>\n",
              "      <td>16.00</td>\n",
              "      <td>0</td>\n",
              "      <td>Санкт-Петербург</td>\n",
              "      <td>20767</td>\n",
              "      <td>1085</td>\n",
              "      <td>3</td>\n",
              "      <td>542</td>\n",
              "      <td>2</td>\n",
              "      <td>126</td>\n",
              "      <td>90</td>\n",
              "      <td>up_to100</td>\n",
              "      <td>176661</td>\n",
              "      <td>3</td>\n",
              "      <td>11</td>\n",
              "      <td>2017</td>\n",
              "      <td>другой</td>\n",
              "      <td>0.74</td>\n",
              "      <td>0.08</td>\n",
              "      <td>1</td>\n",
              "      <td>34979000.00</td>\n",
              "    </tr>\n",
              "    <tr>\n",
              "      <td>1109</td>\n",
              "      <td>1</td>\n",
              "      <td>34878556</td>\n",
              "      <td>95.80</td>\n",
              "      <td>2014-12-09</td>\n",
              "      <td>2</td>\n",
              "      <td>2.65</td>\n",
              "      <td>6</td>\n",
              "      <td>58.30</td>\n",
              "      <td>5</td>\n",
              "      <td>True</td>\n",
              "      <td>False</td>\n",
              "      <td>False</td>\n",
              "      <td>20.00</td>\n",
              "      <td>1</td>\n",
              "      <td>Санкт-Петербург</td>\n",
              "      <td>21860</td>\n",
              "      <td>318</td>\n",
              "      <td>2</td>\n",
              "      <td>160</td>\n",
              "      <td>3</td>\n",
              "      <td>569</td>\n",
              "      <td>1572</td>\n",
              "      <td>up_to100</td>\n",
              "      <td>364076</td>\n",
              "      <td>1</td>\n",
              "      <td>12</td>\n",
              "      <td>2014</td>\n",
              "      <td>другой</td>\n",
              "      <td>0.61</td>\n",
              "      <td>0.21</td>\n",
              "      <td>0</td>\n",
              "      <td>inf</td>\n",
              "    </tr>\n",
              "  </tbody>\n",
              "</table>\n",
              "</div>"
            ],
            "text/plain": [
              "       total_images  last_price  total_area first_day_exposition  rooms  \\\n",
              "282              17    37000000      115.00           2018-11-15      2   \n",
              "17203             2    35300000      235.00           2018-11-15      8   \n",
              "10576             4    35000000      155.00           2018-11-18      4   \n",
              "11438            26    34979000      198.00           2017-11-23      5   \n",
              "1109              1    34878556       95.80           2014-12-09      2   \n",
              "\n",
              "       ceiling_height  floors_total  living_area  floor  is_apartment  studio  \\\n",
              "282              2.65             5        65.00      2         False   False   \n",
              "17203            4.00             4       162.00      3         False   False   \n",
              "10576            2.50             5        80.00      3         False   False   \n",
              "11438            2.65             5       147.00      3         False   False   \n",
              "1109             2.65             6        58.30      5          True   False   \n",
              "\n",
              "       open_plan  kitchen_area  balcony    locality_name  airports_nearest  \\\n",
              "282        False         14.00        0  Санкт-Петербург             23537   \n",
              "17203      False         26.00        0  Санкт-Петербург             19728   \n",
              "10576      False         30.00        0  Санкт-Петербург             21887   \n",
              "11438      False         16.00        0  Санкт-Петербург             20767   \n",
              "1109       False         20.00        1  Санкт-Петербург             21860   \n",
              "\n",
              "       city_centers_nearest  parks_around3000  parks_nearest  \\\n",
              "282                    1995                 2            121   \n",
              "17203                  1799                 3            123   \n",
              "10576                   573                 0              0   \n",
              "11438                  1085                 3            542   \n",
              "1109                    318                 2            160   \n",
              "\n",
              "       ponds_around3000  ponds_nearest  days_exposition living_area_categor  \\\n",
              "282                   2            663              158            up_to100   \n",
              "17203                 3             50                7            up_to100   \n",
              "10576                 2             42               82            up_to100   \n",
              "11438                 2            126               90            up_to100   \n",
              "1109                  3            569             1572            up_to100   \n",
              "\n",
              "       price_per_square_meter  day  week  year floor_category  living_space  \\\n",
              "282                    321739    3    11  2018         другой          0.57   \n",
              "17203                  150212    3    11  2018         другой          0.69   \n",
              "10576                  225806    6    11  2018         другой          0.52   \n",
              "11438                  176661    3    11  2017         другой          0.74   \n",
              "1109                   364076    1    12  2014         другой          0.61   \n",
              "\n",
              "       kitchen_space  city_centers_nearest_km  one_km_price  \n",
              "282             0.12                        1   37000000.00  \n",
              "17203           0.11                        1   35300000.00  \n",
              "10576           0.19                        0           inf  \n",
              "11438           0.08                        1   34979000.00  \n",
              "1109            0.21                        0           inf  "
            ]
          },
          "execution_count": 100,
          "metadata": {},
          "output_type": "execute_result"
        }
      ]
    },
    {
      "cell_type": "markdown",
      "metadata": {
        "id": "YS7X1eMW-7-p"
      },
      "source": [
        "### Выделите сегмент квартир в центре. \n",
        "**Проанализируйте эту территорию и изучите следующие параметры: площадь, цена, число комнат, высота потолков. Также выделите факторы, которые влияют на стоимость квартиры (число комнат, этаж, удалённость от центра, дата размещения объявления). Сделайте выводы. Отличаются ли они от общих выводов по всему городу?**"
      ]
    },
    {
      "cell_type": "code",
      "metadata": {
        "id": "yPoNjEVV-7-p",
        "outputId": "dd90c7bb-2771-436b-d933-fea59331a1bf"
      },
      "source": [
        "center = spb_hous.query('city_centers_nearest_km < 2')\n",
        "center.total_area.plot.hist(bins=50)\n",
        "plt.title('График площади и количества квартир')\n",
        "plt.xlabel('Площадь (м2)')\n",
        "plt.ylabel('Количество квартир (шт)')\n",
        "plt.show()"
      ],
      "execution_count": null,
      "outputs": [
        {
          "data": {
            "image/png": "[encoded data removed]",
            "text/plain": [
              "<Figure size 432x288 with 1 Axes>"
            ]
          },
          "metadata": {
            "needs_background": "light"
          },
          "output_type": "display_data"
        }
      ]
    },
    {
      "cell_type": "code",
      "metadata": {
        "id": "9rrlpU_P-7-p",
        "outputId": "a1ca35f8-63aa-4d2a-f425-6b844d40d455"
      },
      "source": [
        "center.total_area.describe()"
      ],
      "execution_count": null,
      "outputs": [
        {
          "data": {
            "text/plain": [
              "count   295.00\n",
              "mean     92.53\n",
              "std      42.01\n",
              "min      12.00\n",
              "25%      65.00\n",
              "50%      83.00\n",
              "75%     110.20\n",
              "max     297.50\n",
              "Name: total_area, dtype: float64"
            ]
          },
          "execution_count": 102,
          "metadata": {},
          "output_type": "execute_result"
        }
      ]
    },
    {
      "cell_type": "markdown",
      "metadata": {
        "id": "S2i2umzk-7-p"
      },
      "source": [
        "Пик площади 83м2"
      ]
    },
    {
      "cell_type": "code",
      "metadata": {
        "id": "1Eg9k88s-7-p",
        "outputId": "9340bf8d-9b9e-415e-95c8-3ec6d596e293"
      },
      "source": [
        "center.last_price.hist(bins=50)\n",
        "plt.title('График цены и количества квартир')\n",
        "plt.xlabel('Цена (десятки млн)')\n",
        "plt.ylabel('Количество квартир (шт)')\n",
        "plt.show()"
      ],
      "execution_count": null,
      "outputs": [
        {
          "data": {
            "image/png": "[encoded data removed]",
            "text/plain": [
              "<Figure size 432x288 with 1 Axes>"
            ]
          },
          "metadata": {
            "needs_background": "light"
          },
          "output_type": "display_data"
        }
      ]
    },
    {
      "cell_type": "markdown",
      "metadata": {
        "id": "om48KFAn-7-q"
      },
      "source": [
        "Пик цены где то 8-10млн"
      ]
    },
    {
      "cell_type": "code",
      "metadata": {
        "id": "T4sAGlC5-7-q",
        "outputId": "4e4f4d6e-52e7-4c91-c766-24d1bd575319"
      },
      "source": [
        "center.rooms.hist(bins=50)\n",
        "plt.title('График комнат и количества квартир')\n",
        "plt.xlabel('Комнаты (шт)')\n",
        "plt.ylabel('Количество квартир (шт)')\n",
        "plt.show()"
      ],
      "execution_count": null,
      "outputs": [
        {
          "data": {
            "image/png": "[encoded data removed]",
            "text/plain": [
              "<Figure size 432x288 with 1 Axes>"
            ]
          },
          "metadata": {
            "needs_background": "light"
          },
          "output_type": "display_data"
        }
      ]
    },
    {
      "cell_type": "markdown",
      "metadata": {
        "id": "h-tcpUNw-7-q"
      },
      "source": [
        "больше всего квартир где 2 и 3 комнаты."
      ]
    },
    {
      "cell_type": "code",
      "metadata": {
        "scrolled": true,
        "id": "t0HyTQ3v-7-q",
        "outputId": "db6678fd-5c63-4fe3-e73d-cbb9172f8e29"
      },
      "source": [
        "center.ceiling_height.hist(bins=50)\n",
        "plt.title('График высоты потолка и количества квартир')\n",
        "plt.xlabel('Высота потолка (м2)')\n",
        "plt.ylabel('Количество квартир (шт)')\n",
        "plt.show()"
      ],
      "execution_count": null,
      "outputs": [
        {
          "data": {
            "image/png": "[encoded data removed]",
            "text/plain": [
              "<Figure size 432x288 with 1 Axes>"
            ]
          },
          "metadata": {
            "needs_background": "light"
          },
          "output_type": "display_data"
        }
      ]
    },
    {
      "cell_type": "markdown",
      "metadata": {
        "id": "ubcjNSu7-7-q"
      },
      "source": [
        "Пик потолков 2.6 где то."
      ]
    },
    {
      "cell_type": "markdown",
      "metadata": {
        "id": "IWBs-G3v-7-q"
      },
      "source": [
        "### Что влияет на стоимость квартиры."
      ]
    },
    {
      "cell_type": "code",
      "metadata": {
        "id": "zrXsZpdo-7-q",
        "outputId": "4f39b5be-e76e-4747-f3f2-f7ed551fb5a1"
      },
      "source": [
        "center.sort_values('rooms').plot(x='rooms', \n",
        "                                 y='last_price', \n",
        "                                 label='total_area', \n",
        "                                 legend=True, grid=True,\n",
        "                                 title='График зависимости цены и комнат',\n",
        "                                 style='o', \n",
        "                                 alpha=0.4)\n",
        "plt.xlabel('Комнаты (шт)')\n",
        "plt.ylabel('Цена (десятки млн)')\n",
        "plt.show()\n",
        "center.query('rooms > 1 and rooms < 5').rooms.corr(center['last_price'])"
      ],
      "execution_count": null,
      "outputs": [
        {
          "data": {
            "image/png": "[encoded data removed]",
            "text/plain": [
              "<Figure size 432x288 with 1 Axes>"
            ]
          },
          "metadata": {
            "needs_background": "light"
          },
          "output_type": "display_data"
        },
        {
          "data": {
            "text/plain": [
              "0.18026789969493387"
            ]
          },
          "execution_count": 106,
          "metadata": {},
          "output_type": "execute_result"
        }
      ]
    },
    {
      "cell_type": "markdown",
      "metadata": {
        "id": "w4L7fZap-7-r"
      },
      "source": [
        "В пределах от 2 и до 4 комнат цена не сильно то и отличаются."
      ]
    },
    {
      "cell_type": "code",
      "metadata": {
        "scrolled": true,
        "id": "XRbi6xQh-7-r",
        "outputId": "d2e53485-d59c-48de-ba2a-eb0fdb43f90d"
      },
      "source": [
        "rooms_spb = center.pivot_table(index='rooms', values='last_price', aggfunc=['median'])\n",
        "rooms_spb.columns = ['rooms_spb']\n",
        "rooms_spb['id'] = rooms_spb.index\n",
        "rooms_spb.plot(y='rooms_spb', kind='bar')\n",
        "plt.xlabel('Комнаты (шт)')\n",
        "plt.ylabel('Цена (десятки млн)')\n",
        "plt.show()\n",
        "center.rooms.corr(center.last_price)"
      ],
      "execution_count": null,
      "outputs": [
        {
          "data": {
            "image/png": "[encoded data removed]",
            "text/plain": [
              "<Figure size 432x288 with 1 Axes>"
            ]
          },
          "metadata": {
            "needs_background": "light"
          },
          "output_type": "display_data"
        },
        {
          "data": {
            "text/plain": [
              "0.44163894981901886"
            ]
          },
          "execution_count": 107,
          "metadata": {},
          "output_type": "execute_result"
        }
      ]
    },
    {
      "cell_type": "markdown",
      "metadata": {
        "id": "hDxr5sd5-7-r"
      },
      "source": [
        "Стоимость квартиры растет от количества комнат."
      ]
    },
    {
      "cell_type": "code",
      "metadata": {
        "id": "j-Jb5a3Y-7-r",
        "outputId": "7e50a5d6-c556-4123-fb67-31d1e676ab4c"
      },
      "source": [
        "price_median_floor_spb = center.pivot_table(index='floor_category', \n",
        "                                        values='last_price', aggfunc=['median', 'count'])\n",
        "price_median_floor_spb.columns = ['price_median_floor_spb', 'count']\n",
        "price_median_floor_spb.plot(y='price_median_floor_spb', kind='bar', rot=0, title='График цены и этажа')\n",
        "plt.xlabel('Этаж')\n",
        "plt.ylabel('Цена (десятки млн)')\n",
        "plt.show()"
      ],
      "execution_count": null,
      "outputs": [
        {
          "data": {
            "image/png": "[encoded data removed]",
            "text/plain": [
              "<Figure size 432x288 with 1 Axes>"
            ]
          },
          "metadata": {
            "needs_background": "light"
          },
          "output_type": "display_data"
        }
      ]
    },
    {
      "cell_type": "code",
      "metadata": {
        "id": "EziSiPiS-7-r",
        "outputId": "f124931b-0698-493d-ac8e-174d0a4105e6"
      },
      "source": [
        "price_median_floor_spb"
      ],
      "execution_count": null,
      "outputs": [
        {
          "data": {
            "text/html": [
              "<div>\n",
              "<style scoped>\n",
              "    .dataframe tbody tr th:only-of-type {\n",
              "        vertical-align: middle;\n",
              "    }\n",
              "\n",
              "    .dataframe tbody tr th {\n",
              "        vertical-align: top;\n",
              "    }\n",
              "\n",
              "    .dataframe thead th {\n",
              "        text-align: right;\n",
              "    }\n",
              "</style>\n",
              "<table border=\"1\" class=\"dataframe\">\n",
              "  <thead>\n",
              "    <tr style=\"text-align: right;\">\n",
              "      <th></th>\n",
              "      <th>price_median_floor_spb</th>\n",
              "      <th>count</th>\n",
              "    </tr>\n",
              "    <tr>\n",
              "      <th>floor_category</th>\n",
              "      <th></th>\n",
              "      <th></th>\n",
              "    </tr>\n",
              "  </thead>\n",
              "  <tbody>\n",
              "    <tr>\n",
              "      <td>другой</td>\n",
              "      <td>10735000</td>\n",
              "      <td>246</td>\n",
              "    </tr>\n",
              "    <tr>\n",
              "      <td>первый</td>\n",
              "      <td>8750000</td>\n",
              "      <td>49</td>\n",
              "    </tr>\n",
              "  </tbody>\n",
              "</table>\n",
              "</div>"
            ],
            "text/plain": [
              "                price_median_floor_spb  count\n",
              "floor_category                               \n",
              "другой                        10735000    246\n",
              "первый                         8750000     49"
            ]
          },
          "execution_count": 109,
          "metadata": {},
          "output_type": "execute_result"
        }
      ]
    },
    {
      "cell_type": "markdown",
      "metadata": {
        "id": "3WQvbRMZ-7-r"
      },
      "source": [
        "Видно, что другой этаж преобладает."
      ]
    },
    {
      "cell_type": "code",
      "metadata": {
        "id": "1YXD1keN-7-r",
        "outputId": "6888562f-1962-4f5a-aabe-c3768507e7de"
      },
      "source": [
        "center.plot(x='floor', y='last_price', label='total_area', legend=True, grid=True,\n",
        "            title='График зависимости цены и этажа', style='o', alpha=0.4, xlim=(0, 7))\n",
        "plt.xlabel('Этаж')\n",
        "plt.ylabel('Цена (десятки млн)')\n",
        "plt.show()\n",
        "center.floor.corr(center['last_price'])"
      ],
      "execution_count": null,
      "outputs": [
        {
          "data": {
            "image/png": "[encoded data removed]",
            "text/plain": [
              "<Figure size 432x288 with 1 Axes>"
            ]
          },
          "metadata": {
            "needs_background": "light"
          },
          "output_type": "display_data"
        },
        {
          "data": {
            "text/plain": [
              "0.015382680858173299"
            ]
          },
          "execution_count": 110,
          "metadata": {},
          "output_type": "execute_result"
        }
      ]
    },
    {
      "cell_type": "markdown",
      "metadata": {
        "id": "9WzFZw_w-7-s"
      },
      "source": [
        "Но зависимости от этажа почти 0."
      ]
    },
    {
      "cell_type": "code",
      "metadata": {
        "id": "G8qihB3r-7-s",
        "outputId": "08fa44a3-f58b-4dd5-fcf3-235364f4dc9c"
      },
      "source": [
        "city_centers_nearest_spb = center.plot(x='city_centers_nearest', y='last_price', label='total_area', legend=True, grid=True,\n",
        "            title='График зависимости цены и удаленности от центра', kind='scatter', \n",
        "            alpha=0.7, xlim=(0, 2100))\n",
        "plt.xlabel('Расстояние до центра (м)')\n",
        "plt.ylabel('Цена (десятки млн)')\n",
        "plt.show()\n",
        "center.city_centers_nearest.corr(center.last_price)"
      ],
      "execution_count": null,
      "outputs": [
        {
          "data": {
            "image/png": "[encoded data removed]",
            "text/plain": [
              "<Figure size 432x288 with 1 Axes>"
            ]
          },
          "metadata": {
            "needs_background": "light"
          },
          "output_type": "display_data"
        },
        {
          "data": {
            "text/plain": [
              "-0.16368446332301126"
            ]
          },
          "execution_count": 111,
          "metadata": {},
          "output_type": "execute_result"
        }
      ]
    },
    {
      "cell_type": "code",
      "metadata": {
        "id": "czHw6Ca6-7-s",
        "outputId": "465fe56f-3a3f-4099-e641-d73f81206a9d"
      },
      "source": [
        "city_centers_nearest_spb_test = center.plot(x='city_centers_nearest', y='last_price', label='total_area', legend=True, grid=True,\n",
        "            title='График зависимости цены и удаленности от центра', kind='scatter', \n",
        "            alpha=0.3, xlim=(1000, 2100), ylim=(5000000, 15000000))\n",
        "plt.xlabel('Расстояние до центра (м)')\n",
        "plt.ylabel('Цена (десятки млн)')\n",
        "plt.show()"
      ],
      "execution_count": null,
      "outputs": [
        {
          "data": {
            "image/png": "[encoded data removed]",
            "text/plain": [
              "<Figure size 432x288 with 1 Axes>"
            ]
          },
          "metadata": {
            "needs_background": "light"
          },
          "output_type": "display_data"
        }
      ]
    },
    {
      "cell_type": "markdown",
      "metadata": {
        "id": "LgO_hjKh-7-s"
      },
      "source": [
        "Зависимости тоже почти нет, но есть более густой сектр."
      ]
    },
    {
      "cell_type": "code",
      "metadata": {
        "id": "IISEpITI-7-s",
        "outputId": "b61e5e29-6623-48ba-a35e-240c93a3e9e0"
      },
      "source": [
        "day_spb = center.pivot_table(index='day', values='last_price', aggfunc=['median', 'count'])\n",
        "day_spb.columns = ['price_median_day_spb', 'count']\n",
        "day_spb.plot(y='price_median_day_spb', kind='bar', rot=0, title='График цены и этажа')\n",
        "plt.xlabel('День недели (0-ПН, 6-ВС)')\n",
        "plt.ylabel('Цена (десятки млн)')\n",
        "plt.show()"
      ],
      "execution_count": null,
      "outputs": [
        {
          "data": {
            "image/png": "[encoded data removed]",
            "text/plain": [
              "<Figure size 432x288 with 1 Axes>"
            ]
          },
          "metadata": {
            "needs_background": "light"
          },
          "output_type": "display_data"
        }
      ]
    },
    {
      "cell_type": "code",
      "metadata": {
        "scrolled": true,
        "id": "sdEJJcgX-7-s",
        "outputId": "3da65161-6cba-4a85-e160-7170acfb4559"
      },
      "source": [
        "day_spb"
      ],
      "execution_count": null,
      "outputs": [
        {
          "data": {
            "text/html": [
              "<div>\n",
              "<style scoped>\n",
              "    .dataframe tbody tr th:only-of-type {\n",
              "        vertical-align: middle;\n",
              "    }\n",
              "\n",
              "    .dataframe tbody tr th {\n",
              "        vertical-align: top;\n",
              "    }\n",
              "\n",
              "    .dataframe thead th {\n",
              "        text-align: right;\n",
              "    }\n",
              "</style>\n",
              "<table border=\"1\" class=\"dataframe\">\n",
              "  <thead>\n",
              "    <tr style=\"text-align: right;\">\n",
              "      <th></th>\n",
              "      <th>price_median_day_spb</th>\n",
              "      <th>count</th>\n",
              "    </tr>\n",
              "    <tr>\n",
              "      <th>day</th>\n",
              "      <th></th>\n",
              "      <th></th>\n",
              "    </tr>\n",
              "  </thead>\n",
              "  <tbody>\n",
              "    <tr>\n",
              "      <td>0</td>\n",
              "      <td>10225000</td>\n",
              "      <td>42</td>\n",
              "    </tr>\n",
              "    <tr>\n",
              "      <td>1</td>\n",
              "      <td>9925000</td>\n",
              "      <td>44</td>\n",
              "    </tr>\n",
              "    <tr>\n",
              "      <td>2</td>\n",
              "      <td>11490000</td>\n",
              "      <td>53</td>\n",
              "    </tr>\n",
              "    <tr>\n",
              "      <td>3</td>\n",
              "      <td>10610000</td>\n",
              "      <td>58</td>\n",
              "    </tr>\n",
              "    <tr>\n",
              "      <td>4</td>\n",
              "      <td>9900000</td>\n",
              "      <td>63</td>\n",
              "    </tr>\n",
              "    <tr>\n",
              "      <td>5</td>\n",
              "      <td>8500000</td>\n",
              "      <td>19</td>\n",
              "    </tr>\n",
              "    <tr>\n",
              "      <td>6</td>\n",
              "      <td>10100000</td>\n",
              "      <td>16</td>\n",
              "    </tr>\n",
              "  </tbody>\n",
              "</table>\n",
              "</div>"
            ],
            "text/plain": [
              "     price_median_day_spb  count\n",
              "day                             \n",
              "0                10225000     42\n",
              "1                 9925000     44\n",
              "2                11490000     53\n",
              "3                10610000     58\n",
              "4                 9900000     63\n",
              "5                 8500000     19\n",
              "6                10100000     16"
            ]
          },
          "execution_count": 114,
          "metadata": {},
          "output_type": "execute_result"
        }
      ]
    },
    {
      "cell_type": "markdown",
      "metadata": {
        "id": "IPSk4ne1-7-t"
      },
      "source": [
        "На этот раз лидирует среда, а тогда был четверг."
      ]
    },
    {
      "cell_type": "code",
      "metadata": {
        "scrolled": true,
        "id": "4oCtZdLs-7-t",
        "outputId": "925aa26a-1ecf-43e7-a367-c691ab5bb3a1"
      },
      "source": [
        "week_spb = center.pivot_table(index='week', values='last_price', aggfunc=['median', 'count'])\n",
        "week_spb.columns = ['price_median_week_spb', 'count']\n",
        "week_spb.plot(y='price_median_week_spb', kind='bar', rot=0, title='График цены и этажа')\n",
        "plt.xlabel('Месяц (1-ЯНВАРЬ, 12-ДЕКАБРЬ)')\n",
        "plt.ylabel('Цена (десятки млн)')\n",
        "plt.show()"
      ],
      "execution_count": null,
      "outputs": [
        {
          "data": {
            "image/png": "[encoded data removed]",
            "text/plain": [
              "<Figure size 432x288 with 1 Axes>"
            ]
          },
          "metadata": {
            "needs_background": "light"
          },
          "output_type": "display_data"
        }
      ]
    },
    {
      "cell_type": "code",
      "metadata": {
        "id": "PLFH2K_e-7-t",
        "outputId": "9990cda1-9a24-4f3f-ec93-49b782e9552a"
      },
      "source": [
        "import statistics\n",
        "data = [1, 1, 2, 3, 3, 3, 3, 4]\n",
        "statistics.mode(data)"
      ],
      "execution_count": null,
      "outputs": [
        {
          "data": {
            "text/plain": [
              "3"
            ]
          },
          "execution_count": 145,
          "metadata": {},
          "output_type": "execute_result"
        }
      ]
    },
    {
      "cell_type": "code",
      "metadata": {
        "id": "4VJKhQuN-7-t",
        "outputId": "743bf7d4-2f84-4cba-a33d-aa316ebc997b"
      },
      "source": [
        "week_spb"
      ],
      "execution_count": null,
      "outputs": [
        {
          "data": {
            "text/html": [
              "<div>\n",
              "<style scoped>\n",
              "    .dataframe tbody tr th:only-of-type {\n",
              "        vertical-align: middle;\n",
              "    }\n",
              "\n",
              "    .dataframe tbody tr th {\n",
              "        vertical-align: top;\n",
              "    }\n",
              "\n",
              "    .dataframe thead th {\n",
              "        text-align: right;\n",
              "    }\n",
              "</style>\n",
              "<table border=\"1\" class=\"dataframe\">\n",
              "  <thead>\n",
              "    <tr style=\"text-align: right;\">\n",
              "      <th></th>\n",
              "      <th>price_median_week_spb</th>\n",
              "      <th>count</th>\n",
              "    </tr>\n",
              "    <tr>\n",
              "      <th>week</th>\n",
              "      <th></th>\n",
              "      <th></th>\n",
              "    </tr>\n",
              "  </thead>\n",
              "  <tbody>\n",
              "    <tr>\n",
              "      <td>1</td>\n",
              "      <td>12000000</td>\n",
              "      <td>25</td>\n",
              "    </tr>\n",
              "    <tr>\n",
              "      <td>2</td>\n",
              "      <td>10000000</td>\n",
              "      <td>37</td>\n",
              "    </tr>\n",
              "    <tr>\n",
              "      <td>3</td>\n",
              "      <td>10950000</td>\n",
              "      <td>22</td>\n",
              "    </tr>\n",
              "    <tr>\n",
              "      <td>4</td>\n",
              "      <td>9875000</td>\n",
              "      <td>22</td>\n",
              "    </tr>\n",
              "    <tr>\n",
              "      <td>5</td>\n",
              "      <td>10100000</td>\n",
              "      <td>15</td>\n",
              "    </tr>\n",
              "    <tr>\n",
              "      <td>6</td>\n",
              "      <td>12000000</td>\n",
              "      <td>19</td>\n",
              "    </tr>\n",
              "    <tr>\n",
              "      <td>7</td>\n",
              "      <td>9850000</td>\n",
              "      <td>30</td>\n",
              "    </tr>\n",
              "    <tr>\n",
              "      <td>8</td>\n",
              "      <td>9300000</td>\n",
              "      <td>19</td>\n",
              "    </tr>\n",
              "    <tr>\n",
              "      <td>9</td>\n",
              "      <td>9900000</td>\n",
              "      <td>29</td>\n",
              "    </tr>\n",
              "    <tr>\n",
              "      <td>10</td>\n",
              "      <td>10250000</td>\n",
              "      <td>20</td>\n",
              "    </tr>\n",
              "    <tr>\n",
              "      <td>11</td>\n",
              "      <td>12800000</td>\n",
              "      <td>28</td>\n",
              "    </tr>\n",
              "    <tr>\n",
              "      <td>12</td>\n",
              "      <td>11000000</td>\n",
              "      <td>29</td>\n",
              "    </tr>\n",
              "  </tbody>\n",
              "</table>\n",
              "</div>"
            ],
            "text/plain": [
              "      price_median_week_spb  count\n",
              "week                              \n",
              "1                  12000000     25\n",
              "2                  10000000     37\n",
              "3                  10950000     22\n",
              "4                   9875000     22\n",
              "5                  10100000     15\n",
              "6                  12000000     19\n",
              "7                   9850000     30\n",
              "8                   9300000     19\n",
              "9                   9900000     29\n",
              "10                 10250000     20\n",
              "11                 12800000     28\n",
              "12                 11000000     29"
            ]
          },
          "execution_count": 116,
          "metadata": {},
          "output_type": "execute_result"
        }
      ]
    },
    {
      "cell_type": "markdown",
      "metadata": {
        "id": "SKZytTgE-7-t"
      },
      "source": [
        "Сильнее всего преобладает 11 месяц."
      ]
    },
    {
      "cell_type": "code",
      "metadata": {
        "id": "SFnQkVG0-7-t",
        "outputId": "28c9b5d9-e5b1-461b-a5c4-170d37f6f232"
      },
      "source": [
        "year_sbp = center.pivot_table(index='year', values='last_price', aggfunc=['median', 'count'])\n",
        "year_sbp.columns = ['price_median_year_sbp', 'count']\n",
        "year_sbp.plot(y='price_median_year_sbp', kind='bar', rot=0, title='График цены и этажа')\n",
        "plt.xlabel('Год')\n",
        "plt.ylabel('Цена (десятки млн)')\n",
        "plt.show()"
      ],
      "execution_count": null,
      "outputs": [
        {
          "data": {
            "image/png": "[encoded data removed]",
            "text/plain": [
              "<Figure size 432x288 with 1 Axes>"
            ]
          },
          "metadata": {
            "needs_background": "light"
          },
          "output_type": "display_data"
        }
      ]
    },
    {
      "cell_type": "code",
      "metadata": {
        "scrolled": true,
        "id": "-xTtYV1E-7-u",
        "outputId": "852d1a40-26f9-435b-b533-976a4259389b"
      },
      "source": [
        "year_sbp"
      ],
      "execution_count": null,
      "outputs": [
        {
          "data": {
            "text/html": [
              "<div>\n",
              "<style scoped>\n",
              "    .dataframe tbody tr th:only-of-type {\n",
              "        vertical-align: middle;\n",
              "    }\n",
              "\n",
              "    .dataframe tbody tr th {\n",
              "        vertical-align: top;\n",
              "    }\n",
              "\n",
              "    .dataframe thead th {\n",
              "        text-align: right;\n",
              "    }\n",
              "</style>\n",
              "<table border=\"1\" class=\"dataframe\">\n",
              "  <thead>\n",
              "    <tr style=\"text-align: right;\">\n",
              "      <th></th>\n",
              "      <th>price_median_year_sbp</th>\n",
              "      <th>count</th>\n",
              "    </tr>\n",
              "    <tr>\n",
              "      <th>year</th>\n",
              "      <th></th>\n",
              "      <th></th>\n",
              "    </tr>\n",
              "  </thead>\n",
              "  <tbody>\n",
              "    <tr>\n",
              "      <td>2014</td>\n",
              "      <td>34878556</td>\n",
              "      <td>1</td>\n",
              "    </tr>\n",
              "    <tr>\n",
              "      <td>2015</td>\n",
              "      <td>9300000</td>\n",
              "      <td>38</td>\n",
              "    </tr>\n",
              "    <tr>\n",
              "      <td>2016</td>\n",
              "      <td>11395000</td>\n",
              "      <td>38</td>\n",
              "    </tr>\n",
              "    <tr>\n",
              "      <td>2017</td>\n",
              "      <td>9300000</td>\n",
              "      <td>113</td>\n",
              "    </tr>\n",
              "    <tr>\n",
              "      <td>2018</td>\n",
              "      <td>11000000</td>\n",
              "      <td>82</td>\n",
              "    </tr>\n",
              "    <tr>\n",
              "      <td>2019</td>\n",
              "      <td>11000000</td>\n",
              "      <td>23</td>\n",
              "    </tr>\n",
              "  </tbody>\n",
              "</table>\n",
              "</div>"
            ],
            "text/plain": [
              "      price_median_year_sbp  count\n",
              "year                              \n",
              "2014               34878556      1\n",
              "2015                9300000     38\n",
              "2016               11395000     38\n",
              "2017                9300000    113\n",
              "2018               11000000     82\n",
              "2019               11000000     23"
            ]
          },
          "execution_count": 118,
          "metadata": {},
          "output_type": "execute_result"
        }
      ]
    },
    {
      "cell_type": "markdown",
      "metadata": {
        "id": "Ku3ZpRec-7-u"
      },
      "source": [
        "Если не отбросить аномалию, будет преобладать 2014 год из-за одной проданной квартиры. Сделаю 2 графика."
      ]
    },
    {
      "cell_type": "code",
      "metadata": {
        "id": "2sNjfmcO-7-u",
        "outputId": "81a22596-27a4-4875-cd40-881943caafa0"
      },
      "source": [
        "year_sbp_filt = center.query('year > 2014')\n",
        "year_sbp_filt = year_sbp_filt.pivot_table(index='year', values='last_price', aggfunc=['median', 'count'])\n",
        "year_sbp_filt.columns = ['price_median_year_sbp_filt', 'count']\n",
        "year_sbp_filt.plot(y='price_median_year_sbp_filt', kind='bar', rot=0, title='График цены и этажа')\n",
        "plt.xlabel('Год')\n",
        "plt.ylabel('Цена (десятки млн)')\n",
        "plt.show()"
      ],
      "execution_count": null,
      "outputs": [
        {
          "data": {
            "image/png": "[encoded data removed]",
            "text/plain": [
              "<Figure size 432x288 with 1 Axes>"
            ]
          },
          "metadata": {
            "needs_background": "light"
          },
          "output_type": "display_data"
        }
      ]
    },
    {
      "cell_type": "markdown",
      "metadata": {
        "id": "3rhrqQpw-7-u"
      },
      "source": [
        "Так гуд для исследования. 2016 год лидирует."
      ]
    },
    {
      "cell_type": "code",
      "metadata": {
        "id": "Z_ctpgkp-7-u",
        "outputId": "04d2a272-3e92-4e7e-d7bf-588bfe8ffd2b"
      },
      "source": [
        "year_sbp_filt"
      ],
      "execution_count": null,
      "outputs": [
        {
          "data": {
            "text/html": [
              "<div>\n",
              "<style scoped>\n",
              "    .dataframe tbody tr th:only-of-type {\n",
              "        vertical-align: middle;\n",
              "    }\n",
              "\n",
              "    .dataframe tbody tr th {\n",
              "        vertical-align: top;\n",
              "    }\n",
              "\n",
              "    .dataframe thead th {\n",
              "        text-align: right;\n",
              "    }\n",
              "</style>\n",
              "<table border=\"1\" class=\"dataframe\">\n",
              "  <thead>\n",
              "    <tr style=\"text-align: right;\">\n",
              "      <th></th>\n",
              "      <th>price_median_year_sbp_filt</th>\n",
              "      <th>count</th>\n",
              "    </tr>\n",
              "    <tr>\n",
              "      <th>year</th>\n",
              "      <th></th>\n",
              "      <th></th>\n",
              "    </tr>\n",
              "  </thead>\n",
              "  <tbody>\n",
              "    <tr>\n",
              "      <td>2015</td>\n",
              "      <td>9300000</td>\n",
              "      <td>38</td>\n",
              "    </tr>\n",
              "    <tr>\n",
              "      <td>2016</td>\n",
              "      <td>11395000</td>\n",
              "      <td>38</td>\n",
              "    </tr>\n",
              "    <tr>\n",
              "      <td>2017</td>\n",
              "      <td>9300000</td>\n",
              "      <td>113</td>\n",
              "    </tr>\n",
              "    <tr>\n",
              "      <td>2018</td>\n",
              "      <td>11000000</td>\n",
              "      <td>82</td>\n",
              "    </tr>\n",
              "    <tr>\n",
              "      <td>2019</td>\n",
              "      <td>11000000</td>\n",
              "      <td>23</td>\n",
              "    </tr>\n",
              "  </tbody>\n",
              "</table>\n",
              "</div>"
            ],
            "text/plain": [
              "      price_median_year_sbp_filt  count\n",
              "year                                   \n",
              "2015                     9300000     38\n",
              "2016                    11395000     38\n",
              "2017                     9300000    113\n",
              "2018                    11000000     82\n",
              "2019                    11000000     23"
            ]
          },
          "execution_count": 120,
          "metadata": {},
          "output_type": "execute_result"
        }
      ]
    },
    {
      "cell_type": "markdown",
      "metadata": {
        "id": "VfaXk1xe-7-u"
      },
      "source": [
        "**Сделайте выводы. Отличаются ли они от общих выводов по всему городу?**"
      ]
    },
    {
      "cell_type": "markdown",
      "metadata": {
        "id": "aovP-GhK-7-v"
      },
      "source": [
        "Зависимость цены и комнат. Сравнение."
      ]
    },
    {
      "cell_type": "code",
      "metadata": {
        "scrolled": true,
        "id": "68XIcwKa-7-v",
        "outputId": "82adebca-9b7f-41fc-a978-cfbbfd07797d"
      },
      "source": [
        "final_rooms = rooms_spb.merge(rooms_old, on='id')\n",
        "final_rooms.columns = ['price_median_rooms_spb', 'id', 'price_median_rooms_old']\n",
        "final_rooms.corr()"
      ],
      "execution_count": null,
      "outputs": [
        {
          "data": {
            "text/html": [
              "<div>\n",
              "<style scoped>\n",
              "    .dataframe tbody tr th:only-of-type {\n",
              "        vertical-align: middle;\n",
              "    }\n",
              "\n",
              "    .dataframe tbody tr th {\n",
              "        vertical-align: top;\n",
              "    }\n",
              "\n",
              "    .dataframe thead th {\n",
              "        text-align: right;\n",
              "    }\n",
              "</style>\n",
              "<table border=\"1\" class=\"dataframe\">\n",
              "  <thead>\n",
              "    <tr style=\"text-align: right;\">\n",
              "      <th></th>\n",
              "      <th>price_median_rooms_spb</th>\n",
              "      <th>id</th>\n",
              "      <th>price_median_rooms_old</th>\n",
              "    </tr>\n",
              "  </thead>\n",
              "  <tbody>\n",
              "    <tr>\n",
              "      <td>price_median_rooms_spb</td>\n",
              "      <td>1.00</td>\n",
              "      <td>0.91</td>\n",
              "      <td>0.96</td>\n",
              "    </tr>\n",
              "    <tr>\n",
              "      <td>id</td>\n",
              "      <td>0.91</td>\n",
              "      <td>1.00</td>\n",
              "      <td>0.97</td>\n",
              "    </tr>\n",
              "    <tr>\n",
              "      <td>price_median_rooms_old</td>\n",
              "      <td>0.96</td>\n",
              "      <td>0.97</td>\n",
              "      <td>1.00</td>\n",
              "    </tr>\n",
              "  </tbody>\n",
              "</table>\n",
              "</div>"
            ],
            "text/plain": [
              "                        price_median_rooms_spb   id  price_median_rooms_old\n",
              "price_median_rooms_spb                    1.00 0.91                    0.96\n",
              "id                                        0.91 1.00                    0.97\n",
              "price_median_rooms_old                    0.96 0.97                    1.00"
            ]
          },
          "execution_count": 121,
          "metadata": {},
          "output_type": "execute_result"
        }
      ]
    },
    {
      "cell_type": "code",
      "metadata": {
        "id": "_TOgZdlz-7-v",
        "outputId": "9dc32173-d852-4aae-b84f-370cdc81e78a"
      },
      "source": [
        "center.rooms.corr(center.last_price)"
      ],
      "execution_count": null,
      "outputs": [
        {
          "data": {
            "text/plain": [
              "0.44163894981901886"
            ]
          },
          "execution_count": 122,
          "metadata": {},
          "output_type": "execute_result"
        }
      ]
    },
    {
      "cell_type": "code",
      "metadata": {
        "id": "1rqdgc8T-7-v",
        "outputId": "1d105404-2975-4daf-92b6-dda7c3799142"
      },
      "source": [
        "norm_price.rooms.corr(norm_price.last_price)"
      ],
      "execution_count": null,
      "outputs": [
        {
          "data": {
            "text/plain": [
              "0.5191676019066286"
            ]
          },
          "execution_count": 123,
          "metadata": {},
          "output_type": "execute_result"
        }
      ]
    },
    {
      "cell_type": "markdown",
      "metadata": {
        "id": "FrIyk_tE-7-v"
      },
      "source": [
        "Зависимость от цены и комнаты вы наблюдаем следующую. Положительная корреляция и зависимость в питере от комнат есть, но она чуть меньше чем в общей таблице."
      ]
    },
    {
      "cell_type": "markdown",
      "metadata": {
        "id": "tjzZMIFu-7-v"
      },
      "source": [
        "Зависимость цены от этажа. Сравнение."
      ]
    },
    {
      "cell_type": "code",
      "metadata": {
        "scrolled": true,
        "id": "2n5gRpLZ-7-v"
      },
      "source": [
        "spb = center.floor.corr(center['last_price'])\n",
        "old = norm_price.floor.corr(norm_price['last_price'])"
      ],
      "execution_count": null,
      "outputs": []
    },
    {
      "cell_type": "code",
      "metadata": {
        "id": "dYv3a-Db-7-w",
        "outputId": "de67af7b-b231-4096-a4c3-4a1acca9eca3"
      },
      "source": [
        "print('Зависимость цены от этажа:', old)\n",
        "print('Зависимость цены от этажа в СПБ:', spb)"
      ],
      "execution_count": null,
      "outputs": [
        {
          "name": "stdout",
          "output_type": "stream",
          "text": [
            "Зависимость цены от этажа: 0.06210218725189157\n",
            "Зависимость цены от этажа в СПБ: 0.015382680858173299\n"
          ]
        }
      ]
    },
    {
      "cell_type": "markdown",
      "metadata": {
        "id": "f_Rskfub-7-w"
      },
      "source": [
        "По зависимости от этажа видим уже другие вещи. Преобладает конечно общая таблица, чем в питере. Видимо в Питере не так важен этаж как вид с него."
      ]
    },
    {
      "cell_type": "markdown",
      "metadata": {
        "id": "FeS51h79-7-w"
      },
      "source": [
        "Зависимость цены от удаленности от центра. Сравнение."
      ]
    },
    {
      "cell_type": "code",
      "metadata": {
        "id": "-ddJ_XKF-7-w"
      },
      "source": [
        "sbp = center.city_centers_nearest.corr(center.last_price)"
      ],
      "execution_count": null,
      "outputs": []
    },
    {
      "cell_type": "code",
      "metadata": {
        "id": "mVsJsBfz-7-w"
      },
      "source": [
        "old = norm_rooms.city_centers_nearest.corr(norm_price['last_price'])"
      ],
      "execution_count": null,
      "outputs": []
    },
    {
      "cell_type": "code",
      "metadata": {
        "id": "G2oS3LSz-7-w",
        "outputId": "2ce2e001-d590-4763-8e27-27c7a718fcee"
      },
      "source": [
        "print('Зависимость цены от от удаленности от центра:', old)\n",
        "print('Зависимость цены от от удаленности от центра в СПБ:', spb)"
      ],
      "execution_count": null,
      "outputs": [
        {
          "name": "stdout",
          "output_type": "stream",
          "text": [
            "Зависимость цены от от удаленности от центра: -0.4538799731259765\n",
            "Зависимость цены от от удаленности от центра в СПБ: 0.015382680858173299\n"
          ]
        }
      ]
    },
    {
      "cell_type": "markdown",
      "metadata": {
        "id": "xWu-5xxI-7-w"
      },
      "source": [
        "Зависимость от удаленности. Как и следовало ожидать в общей таблице чем дальше, тем дешевле. Вот в Республике Коми за 50м2 всего то 50тыс. руб. =) "
      ]
    },
    {
      "cell_type": "markdown",
      "metadata": {
        "id": "4uKPNRVI-7-x"
      },
      "source": [
        "Зависимость цены и дата размещения и сраванение.\n",
        "\n",
        "**В днях**"
      ]
    },
    {
      "cell_type": "code",
      "metadata": {
        "id": "Iha88ya1-7-x"
      },
      "source": [
        "spb = center.day.corr(center.last_price)"
      ],
      "execution_count": null,
      "outputs": []
    },
    {
      "cell_type": "code",
      "metadata": {
        "id": "OzEBHFQc-7-x"
      },
      "source": [
        "old = norm_price.day.corr(norm_price.last_price)"
      ],
      "execution_count": null,
      "outputs": []
    },
    {
      "cell_type": "code",
      "metadata": {
        "scrolled": true,
        "id": "7FALzZyp-7-x",
        "outputId": "78fcd2b8-1727-47c3-8de5-afc2bd5e6604"
      },
      "source": [
        "print('Зависимость цены и дня размещения:', old)\n",
        "print('Зависимость цены и дня размещения в СПБ:', spb)"
      ],
      "execution_count": null,
      "outputs": [
        {
          "name": "stdout",
          "output_type": "stream",
          "text": [
            "Зависимость цены и дня размещения: -0.01184204519898182\n",
            "Зависимость цены и дня размещения в СПБ: -0.04174848550477213\n"
          ]
        }
      ]
    },
    {
      "cell_type": "markdown",
      "metadata": {
        "id": "jouQYbjp-7-x"
      },
      "source": [
        "Зависимость от дня недели никакой, одинакого почти, но мы помним, что лидер был в общей это среда, а лидер по СПБ это четверг."
      ]
    },
    {
      "cell_type": "markdown",
      "metadata": {
        "id": "SVsAp0U8-7-x"
      },
      "source": [
        "**Месяц**"
      ]
    },
    {
      "cell_type": "code",
      "metadata": {
        "id": "QiO4gwRy-7-x"
      },
      "source": [
        "spb = center.week.corr(center.last_price)"
      ],
      "execution_count": null,
      "outputs": []
    },
    {
      "cell_type": "code",
      "metadata": {
        "id": "76fXVjsZ-7-x"
      },
      "source": [
        "old = norm_price.week.corr(norm_price.last_price)"
      ],
      "execution_count": null,
      "outputs": []
    },
    {
      "cell_type": "code",
      "metadata": {
        "id": "fQQOFCP_-7-y",
        "outputId": "7d95d89a-ce67-4d4b-b5e6-3af27fa582a1"
      },
      "source": [
        "print('Зависимость цены и месяца размещения:', old)\n",
        "print('Зависимость цены и месяца размещения: в СПБ:', spb)"
      ],
      "execution_count": null,
      "outputs": [
        {
          "name": "stdout",
          "output_type": "stream",
          "text": [
            "Зависимость цены и месяца размещения: 0.004633046583869211\n",
            "Зависимость цены и месяца размещения: в СПБ: 0.062017988040305845\n"
          ]
        }
      ]
    },
    {
      "cell_type": "markdown",
      "metadata": {
        "id": "Ccjr3TPo-7-y"
      },
      "source": [
        "Зависимость от месяца горадзо сильнее если считать в сотых. Ни какой."
      ]
    },
    {
      "cell_type": "markdown",
      "metadata": {
        "id": "Zi6fVCRS-7-y"
      },
      "source": [
        "**Год**"
      ]
    },
    {
      "cell_type": "code",
      "metadata": {
        "id": "uaSu6E8R-7-y"
      },
      "source": [
        "sbp = center.year.corr(center.last_price)"
      ],
      "execution_count": null,
      "outputs": []
    },
    {
      "cell_type": "code",
      "metadata": {
        "id": "glwiwXQ9-7-y"
      },
      "source": [
        "old = norm_price.year.corr(norm_price.last_price)"
      ],
      "execution_count": null,
      "outputs": []
    },
    {
      "cell_type": "code",
      "metadata": {
        "scrolled": true,
        "id": "yE-YteMP-7-y",
        "outputId": "18079de2-23a0-4d62-fc79-a585ee5af063"
      },
      "source": [
        "print('Зависимость цены и года:', old)\n",
        "print('Зависимость цены и года в СПБ:', spb)"
      ],
      "execution_count": null,
      "outputs": [
        {
          "name": "stdout",
          "output_type": "stream",
          "text": [
            "Зависимость цены и года: -0.03759868455604987\n",
            "Зависимость цены и года в СПБ: 0.062017988040305845\n"
          ]
        }
      ]
    },
    {
      "cell_type": "markdown",
      "metadata": {
        "id": "ILfClZo2-7-y"
      },
      "source": [
        "А зависимость от года разная, в общей пошла на спад даже. Это потому, что количество квартир выросло на продажу."
      ]
    },
    {
      "cell_type": "markdown",
      "metadata": {
        "id": "k90Bk8VU-7-z"
      },
      "source": [
        "## Общий вывод"
      ]
    },
    {
      "cell_type": "markdown",
      "metadata": {
        "id": "y7L8x2ln-7-z"
      },
      "source": [
        "Что я сделал в этом проекте:\n",
        "- прочитал и изучил таблицу.  \n",
        "\n",
        "- обнаруженно пустые значения которые я заменял медиану, булевое значение, на 0 или 1 и на unknown в зависимости от характера пропуска.  \n",
        "- После предобработки данных я сделал рассчеты: \n",
        "    1. цену квадратного метра;\n",
        "    2. день недели, месяц и год публикации объявления;\n",
        "    3. этаж квартиры; варианты — первый, последний, другой;\n",
        "    4. соотношение жилой и общей площади, а также отношение площади кухни к общей.  \n",
        " и добавил их в таблицу, что бы в дальнейшем ими воспользоваться.\n",
        " \n",
        " \n",
        "- Провел исследовательский анализ:\n",
        "    - площади\n",
        "    - цены\n",
        "    - числа комнат\n",
        "    - высота потолков\n",
        "- Затем изучил зависимость цены от того, на каком этаже расположена квартира: первом, последнем или другом. Также изучите зависимость от даты размещения: дня недели, месяца и года.  \n",
        "- Отсортировал таблицу по Санкт-Питербургу и изучил те же показания для сравнения с общей таблицей.\n",
        "\n",
        "На рыночную стоимость недвижимости влияет удаленность объектов от центра города. В Питере это проявляется не сильно т.к. этот город популярный и является 2-ой столицей России. Там всегда есть спрос на недвижимость, даже далеко от центра. В других городах разница видна гораздо сильнее, чем дальше от центра города, тем дешевле."
      ]
    }
  ]
}
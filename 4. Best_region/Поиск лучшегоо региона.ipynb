{
  "nbformat": 4,
  "nbformat_minor": 0,
  "metadata": {
    "ExecuteTimeLog": [
      {
        "duration": 1487,
        "start_time": "2021-06-23T14:29:13.911Z"
      },
      {
        "duration": 161,
        "start_time": "2021-06-23T14:32:21.865Z"
      },
      {
        "duration": 22,
        "start_time": "2021-06-23T14:32:26.119Z"
      },
      {
        "duration": 458,
        "start_time": "2021-06-23T14:33:13.788Z"
      },
      {
        "duration": 17,
        "start_time": "2021-06-23T14:33:16.946Z"
      },
      {
        "duration": 16,
        "start_time": "2021-06-23T14:33:19.540Z"
      },
      {
        "duration": 18,
        "start_time": "2021-06-23T14:33:22.429Z"
      },
      {
        "duration": 18,
        "start_time": "2021-06-23T14:33:24.615Z"
      },
      {
        "duration": 404,
        "start_time": "2021-06-23T14:33:27.301Z"
      },
      {
        "duration": 17,
        "start_time": "2021-06-23T14:33:31.118Z"
      },
      {
        "duration": 17,
        "start_time": "2021-06-23T14:33:33.844Z"
      },
      {
        "duration": 18,
        "start_time": "2021-06-23T14:33:36.246Z"
      },
      {
        "duration": 22,
        "start_time": "2021-06-23T14:36:39.086Z"
      },
      {
        "duration": 32,
        "start_time": "2021-06-23T14:37:04.291Z"
      },
      {
        "duration": 20,
        "start_time": "2021-06-23T14:37:12.060Z"
      },
      {
        "duration": 21,
        "start_time": "2021-06-23T14:37:20.928Z"
      },
      {
        "duration": 21,
        "start_time": "2021-06-23T14:37:25.822Z"
      },
      {
        "duration": 21,
        "start_time": "2021-06-23T14:37:30.761Z"
      },
      {
        "duration": 33,
        "start_time": "2021-06-23T14:37:53.979Z"
      },
      {
        "duration": 21,
        "start_time": "2021-06-23T14:38:49.741Z"
      },
      {
        "duration": 34,
        "start_time": "2021-06-23T14:39:08.886Z"
      },
      {
        "duration": 23,
        "start_time": "2021-06-23T14:39:27.474Z"
      },
      {
        "duration": 36,
        "start_time": "2021-06-23T14:39:30.607Z"
      },
      {
        "duration": 88,
        "start_time": "2021-06-23T14:43:06.674Z"
      },
      {
        "duration": 17,
        "start_time": "2021-06-23T14:43:28.571Z"
      },
      {
        "duration": 34,
        "start_time": "2021-06-23T14:43:51.575Z"
      },
      {
        "duration": 89,
        "start_time": "2021-06-23T14:44:08.824Z"
      },
      {
        "duration": 35,
        "start_time": "2021-06-23T14:44:13.062Z"
      },
      {
        "duration": 32,
        "start_time": "2021-06-23T14:44:17.756Z"
      },
      {
        "duration": 33,
        "start_time": "2021-06-23T14:45:00.564Z"
      },
      {
        "duration": 34,
        "start_time": "2021-06-23T14:45:13.741Z"
      },
      {
        "duration": 52,
        "start_time": "2021-06-23T14:45:31.191Z"
      },
      {
        "duration": 14,
        "start_time": "2021-06-23T14:47:27.370Z"
      },
      {
        "duration": 29,
        "start_time": "2021-06-23T14:48:06.413Z"
      },
      {
        "duration": 28,
        "start_time": "2021-06-23T14:48:40.123Z"
      },
      {
        "duration": 26,
        "start_time": "2021-06-23T14:48:44.716Z"
      },
      {
        "duration": 27,
        "start_time": "2021-06-23T14:48:52.433Z"
      },
      {
        "duration": 35,
        "start_time": "2021-06-23T14:48:58.289Z"
      },
      {
        "duration": 23,
        "start_time": "2021-06-23T14:49:14.141Z"
      },
      {
        "duration": 283,
        "start_time": "2021-06-23T14:50:52.424Z"
      },
      {
        "duration": 241,
        "start_time": "2021-06-23T14:50:58.359Z"
      },
      {
        "duration": 313,
        "start_time": "2021-06-23T14:51:06.050Z"
      },
      {
        "duration": 288,
        "start_time": "2021-06-23T14:51:16.636Z"
      },
      {
        "duration": 189,
        "start_time": "2021-06-23T14:51:25.129Z"
      },
      {
        "duration": 95,
        "start_time": "2021-06-23T14:51:50.083Z"
      },
      {
        "duration": 5,
        "start_time": "2021-06-23T16:43:57.468Z"
      },
      {
        "duration": 14,
        "start_time": "2021-06-23T16:44:01.873Z"
      },
      {
        "duration": 14,
        "start_time": "2021-06-23T16:45:19.556Z"
      },
      {
        "duration": 14,
        "start_time": "2021-06-23T16:45:24.712Z"
      },
      {
        "duration": 14,
        "start_time": "2021-06-23T16:45:28.265Z"
      },
      {
        "duration": 386,
        "start_time": "2021-06-24T10:35:08.033Z"
      },
      {
        "duration": 1474,
        "start_time": "2021-06-24T10:35:16.138Z"
      },
      {
        "duration": 467,
        "start_time": "2021-06-24T10:35:17.614Z"
      },
      {
        "duration": 28,
        "start_time": "2021-06-24T10:35:18.084Z"
      },
      {
        "duration": 39,
        "start_time": "2021-06-24T10:35:18.716Z"
      },
      {
        "duration": 26,
        "start_time": "2021-06-24T10:35:19.335Z"
      },
      {
        "duration": 196,
        "start_time": "2021-06-24T10:35:19.951Z"
      },
      {
        "duration": 12,
        "start_time": "2021-06-24T10:35:20.580Z"
      },
      {
        "duration": 17,
        "start_time": "2021-06-24T10:35:21.921Z"
      },
      {
        "duration": 5,
        "start_time": "2021-06-24T10:35:59.494Z"
      },
      {
        "duration": 5,
        "start_time": "2021-06-24T10:36:11.351Z"
      },
      {
        "duration": 34,
        "start_time": "2021-06-24T10:37:34.832Z"
      },
      {
        "duration": 5,
        "start_time": "2021-06-24T10:38:04.217Z"
      },
      {
        "duration": 5,
        "start_time": "2021-06-24T11:10:11.286Z"
      },
      {
        "duration": 488,
        "start_time": "2021-06-24T11:15:18.507Z"
      },
      {
        "duration": 348,
        "start_time": "2021-06-24T11:16:21.923Z"
      },
      {
        "duration": 347,
        "start_time": "2021-06-24T11:16:57.569Z"
      },
      {
        "duration": 308,
        "start_time": "2021-06-24T11:17:01.663Z"
      },
      {
        "duration": 4,
        "start_time": "2021-06-24T11:17:55.123Z"
      },
      {
        "duration": 701,
        "start_time": "2021-06-24T11:17:55.623Z"
      },
      {
        "duration": 4,
        "start_time": "2021-06-24T11:18:15.084Z"
      },
      {
        "duration": 4,
        "start_time": "2021-06-24T11:18:23.971Z"
      },
      {
        "duration": 365,
        "start_time": "2021-06-24T11:18:46.843Z"
      },
      {
        "duration": 4,
        "start_time": "2021-06-24T11:20:40.560Z"
      },
      {
        "duration": 43,
        "start_time": "2021-06-24T11:21:35.631Z"
      },
      {
        "duration": 301,
        "start_time": "2021-06-24T11:22:56.169Z"
      },
      {
        "duration": 28,
        "start_time": "2021-06-24T11:23:14.225Z"
      },
      {
        "duration": 351,
        "start_time": "2021-06-24T11:24:08.327Z"
      },
      {
        "duration": 333,
        "start_time": "2021-06-24T11:24:15.321Z"
      },
      {
        "duration": 6,
        "start_time": "2021-06-24T11:26:13.013Z"
      },
      {
        "duration": 21,
        "start_time": "2021-06-24T11:26:18.193Z"
      },
      {
        "duration": 8,
        "start_time": "2021-06-24T11:26:29.011Z"
      },
      {
        "duration": 9,
        "start_time": "2021-06-24T11:29:40.688Z"
      },
      {
        "duration": 12,
        "start_time": "2021-06-24T11:30:23.339Z"
      },
      {
        "duration": 86,
        "start_time": "2021-06-24T11:46:00.475Z"
      },
      {
        "duration": 31,
        "start_time": "2021-06-24T11:46:00.942Z"
      },
      {
        "duration": 11,
        "start_time": "2021-06-24T11:46:01.325Z"
      },
      {
        "duration": 13,
        "start_time": "2021-06-24T11:55:00.778Z"
      },
      {
        "duration": 9,
        "start_time": "2021-06-24T11:55:14.175Z"
      },
      {
        "duration": 16,
        "start_time": "2021-06-24T11:55:21.556Z"
      },
      {
        "duration": 15,
        "start_time": "2021-06-24T11:55:25.814Z"
      },
      {
        "duration": 17,
        "start_time": "2021-06-24T11:56:33.968Z"
      },
      {
        "duration": 7,
        "start_time": "2021-06-24T11:57:48.707Z"
      },
      {
        "duration": 7,
        "start_time": "2021-06-24T11:57:49.529Z"
      },
      {
        "duration": 9,
        "start_time": "2021-06-24T11:57:49.991Z"
      },
      {
        "duration": 7,
        "start_time": "2021-06-24T11:58:58.640Z"
      },
      {
        "duration": 6,
        "start_time": "2021-06-24T11:59:43.447Z"
      },
      {
        "duration": 6,
        "start_time": "2021-06-24T11:59:52.976Z"
      },
      {
        "duration": 7,
        "start_time": "2021-06-24T12:00:31.875Z"
      },
      {
        "duration": 112,
        "start_time": "2021-06-24T12:01:37.532Z"
      },
      {
        "duration": 6,
        "start_time": "2021-06-24T12:01:50.374Z"
      },
      {
        "duration": 7,
        "start_time": "2021-06-24T12:02:42.304Z"
      },
      {
        "duration": 7,
        "start_time": "2021-06-24T12:02:51.200Z"
      },
      {
        "duration": 6,
        "start_time": "2021-06-24T12:02:53.081Z"
      },
      {
        "duration": 6,
        "start_time": "2021-06-24T12:04:49.119Z"
      },
      {
        "duration": 9,
        "start_time": "2021-06-24T12:06:23.020Z"
      },
      {
        "duration": 7,
        "start_time": "2021-06-24T12:06:46.824Z"
      },
      {
        "duration": 8,
        "start_time": "2021-06-24T12:07:04.347Z"
      },
      {
        "duration": 6,
        "start_time": "2021-06-24T12:50:43.283Z"
      },
      {
        "duration": 6,
        "start_time": "2021-06-24T12:50:43.821Z"
      },
      {
        "duration": 7,
        "start_time": "2021-06-24T12:50:44.482Z"
      },
      {
        "duration": 336,
        "start_time": "2021-06-24T12:52:14.948Z"
      },
      {
        "duration": 113,
        "start_time": "2021-06-24T12:52:26.261Z"
      },
      {
        "duration": 18,
        "start_time": "2021-06-24T12:52:45.309Z"
      },
      {
        "duration": 15,
        "start_time": "2021-06-24T12:52:54.338Z"
      },
      {
        "duration": 14,
        "start_time": "2021-06-24T12:54:35.028Z"
      },
      {
        "duration": 14,
        "start_time": "2021-06-24T12:54:47.454Z"
      },
      {
        "duration": 12,
        "start_time": "2021-06-24T12:54:48.502Z"
      },
      {
        "duration": 16,
        "start_time": "2021-06-24T12:54:49.826Z"
      },
      {
        "duration": 21,
        "start_time": "2021-06-24T12:55:27.823Z"
      },
      {
        "duration": 26,
        "start_time": "2021-06-24T12:55:32.441Z"
      },
      {
        "duration": 15,
        "start_time": "2021-06-24T12:55:36.111Z"
      },
      {
        "duration": 16,
        "start_time": "2021-06-24T12:55:39.431Z"
      },
      {
        "duration": 10,
        "start_time": "2021-06-24T13:15:51.592Z"
      },
      {
        "duration": 7,
        "start_time": "2021-06-24T13:15:54.664Z"
      },
      {
        "duration": 6,
        "start_time": "2021-06-24T13:16:09.185Z"
      },
      {
        "duration": 6,
        "start_time": "2021-06-24T13:16:25.440Z"
      },
      {
        "duration": 5,
        "start_time": "2021-06-24T13:21:34.811Z"
      },
      {
        "duration": 306,
        "start_time": "2021-06-24T13:21:41.355Z"
      },
      {
        "duration": 5,
        "start_time": "2021-06-24T13:21:44.665Z"
      },
      {
        "duration": 327,
        "start_time": "2021-06-24T13:22:05.786Z"
      },
      {
        "duration": 5,
        "start_time": "2021-06-24T13:22:20.521Z"
      },
      {
        "duration": 12,
        "start_time": "2021-06-24T13:22:39.155Z"
      },
      {
        "duration": 16,
        "start_time": "2021-06-24T13:23:50.435Z"
      },
      {
        "duration": 12,
        "start_time": "2021-06-24T13:24:09.743Z"
      },
      {
        "duration": 8,
        "start_time": "2021-06-24T15:38:26.760Z"
      },
      {
        "duration": 6,
        "start_time": "2021-06-24T15:38:50.251Z"
      },
      {
        "duration": 7,
        "start_time": "2021-06-24T15:39:02.760Z"
      },
      {
        "duration": 7,
        "start_time": "2021-06-24T15:41:11.470Z"
      },
      {
        "duration": 131,
        "start_time": "2021-06-24T15:48:58.743Z"
      },
      {
        "duration": 7,
        "start_time": "2021-06-24T15:56:29.462Z"
      },
      {
        "duration": 6,
        "start_time": "2021-06-24T17:40:48.110Z"
      },
      {
        "duration": 1362,
        "start_time": "2021-06-24T17:42:05.110Z"
      },
      {
        "duration": 466,
        "start_time": "2021-06-24T17:42:07.994Z"
      },
      {
        "duration": 26,
        "start_time": "2021-06-24T17:42:08.462Z"
      },
      {
        "duration": 33,
        "start_time": "2021-06-24T17:42:08.608Z"
      },
      {
        "duration": 28,
        "start_time": "2021-06-24T17:42:09.058Z"
      },
      {
        "duration": 190,
        "start_time": "2021-06-24T17:42:09.617Z"
      },
      {
        "duration": 12,
        "start_time": "2021-06-24T17:42:10.057Z"
      },
      {
        "duration": 45,
        "start_time": "2021-06-24T17:42:18.657Z"
      },
      {
        "duration": 5,
        "start_time": "2021-06-24T17:42:20.478Z"
      },
      {
        "duration": 4,
        "start_time": "2021-06-24T17:42:22.546Z"
      },
      {
        "duration": 481,
        "start_time": "2021-06-24T17:43:21.087Z"
      },
      {
        "duration": 6,
        "start_time": "2021-06-24T17:43:27.405Z"
      },
      {
        "duration": 6,
        "start_time": "2021-06-24T17:43:38.173Z"
      },
      {
        "duration": 44,
        "start_time": "2021-06-24T17:44:18.016Z"
      },
      {
        "duration": 11,
        "start_time": "2021-06-24T17:44:18.880Z"
      },
      {
        "duration": 11,
        "start_time": "2021-06-24T17:44:19.748Z"
      },
      {
        "duration": 11,
        "start_time": "2021-06-24T17:44:20.443Z"
      },
      {
        "duration": 12,
        "start_time": "2021-06-24T17:44:20.864Z"
      },
      {
        "duration": 7,
        "start_time": "2021-06-24T17:44:23.420Z"
      },
      {
        "duration": 7,
        "start_time": "2021-06-24T17:49:11.015Z"
      },
      {
        "duration": 13,
        "start_time": "2021-06-24T17:49:15.696Z"
      },
      {
        "duration": 17,
        "start_time": "2021-06-24T17:50:31.677Z"
      },
      {
        "duration": 5,
        "start_time": "2021-06-24T18:04:50.728Z"
      },
      {
        "duration": 5,
        "start_time": "2021-06-24T18:05:51.317Z"
      },
      {
        "duration": 5,
        "start_time": "2021-06-24T18:06:00.709Z"
      },
      {
        "duration": 442,
        "start_time": "2021-06-24T18:09:58.989Z"
      },
      {
        "duration": 5,
        "start_time": "2021-06-24T18:10:06.997Z"
      },
      {
        "duration": 5,
        "start_time": "2021-06-24T18:10:20.831Z"
      },
      {
        "duration": 4,
        "start_time": "2021-06-24T18:16:21.047Z"
      },
      {
        "duration": 6,
        "start_time": "2021-06-24T18:17:13.277Z"
      },
      {
        "duration": 20,
        "start_time": "2021-06-24T18:20:00.920Z"
      },
      {
        "duration": 14,
        "start_time": "2021-06-24T18:20:07.981Z"
      },
      {
        "duration": 10,
        "start_time": "2021-06-24T18:20:18.641Z"
      },
      {
        "duration": 8,
        "start_time": "2021-06-24T18:20:22.600Z"
      },
      {
        "duration": 8,
        "start_time": "2021-06-24T18:20:28.266Z"
      },
      {
        "duration": 10,
        "start_time": "2021-06-24T18:20:32.181Z"
      },
      {
        "duration": 10,
        "start_time": "2021-06-24T18:20:57.054Z"
      },
      {
        "duration": 10,
        "start_time": "2021-06-24T18:21:30.919Z"
      },
      {
        "duration": 4,
        "start_time": "2021-06-24T18:45:00.058Z"
      },
      {
        "duration": 350,
        "start_time": "2021-06-24T18:45:05.775Z"
      },
      {
        "duration": 3,
        "start_time": "2021-06-24T18:45:39.486Z"
      },
      {
        "duration": 302,
        "start_time": "2021-06-24T18:45:40.855Z"
      },
      {
        "duration": 334,
        "start_time": "2021-06-24T18:45:47.927Z"
      },
      {
        "duration": 5,
        "start_time": "2021-06-24T18:46:00.349Z"
      },
      {
        "duration": 8,
        "start_time": "2021-06-24T18:47:07.011Z"
      },
      {
        "duration": 12,
        "start_time": "2021-06-24T18:47:21.945Z"
      },
      {
        "duration": 12,
        "start_time": "2021-06-24T18:47:32.447Z"
      },
      {
        "duration": 12,
        "start_time": "2021-06-24T18:47:34.300Z"
      },
      {
        "duration": 13,
        "start_time": "2021-06-24T18:48:04.975Z"
      },
      {
        "duration": 11,
        "start_time": "2021-06-24T18:48:16.668Z"
      },
      {
        "duration": 13,
        "start_time": "2021-06-24T18:48:27.356Z"
      },
      {
        "duration": 4,
        "start_time": "2021-06-24T18:56:42.076Z"
      },
      {
        "duration": 10,
        "start_time": "2021-06-24T18:56:52.844Z"
      },
      {
        "duration": 11,
        "start_time": "2021-06-24T18:56:56.965Z"
      },
      {
        "duration": 11,
        "start_time": "2021-06-24T18:57:06.939Z"
      },
      {
        "duration": 10,
        "start_time": "2021-06-24T18:57:20.015Z"
      },
      {
        "duration": 5,
        "start_time": "2021-06-24T19:00:00.578Z"
      },
      {
        "duration": 349,
        "start_time": "2021-06-24T19:03:10.134Z"
      },
      {
        "duration": 12,
        "start_time": "2021-06-24T19:03:55.266Z"
      },
      {
        "duration": 8,
        "start_time": "2021-06-24T19:04:05.017Z"
      },
      {
        "duration": 313,
        "start_time": "2021-06-24T19:04:42.755Z"
      },
      {
        "duration": 11,
        "start_time": "2021-06-24T19:05:01.226Z"
      },
      {
        "duration": 16,
        "start_time": "2021-06-24T19:05:26.698Z"
      },
      {
        "duration": 13,
        "start_time": "2021-06-24T19:06:23.852Z"
      },
      {
        "duration": 13,
        "start_time": "2021-06-24T19:06:28.642Z"
      },
      {
        "duration": 19,
        "start_time": "2021-06-24T19:07:06.001Z"
      },
      {
        "duration": 20,
        "start_time": "2021-06-24T19:07:26.515Z"
      },
      {
        "duration": 20,
        "start_time": "2021-06-24T19:08:10.432Z"
      },
      {
        "duration": 5,
        "start_time": "2021-06-24T19:09:30.518Z"
      },
      {
        "duration": 4,
        "start_time": "2021-06-24T19:09:51.054Z"
      },
      {
        "duration": 330,
        "start_time": "2021-06-24T19:10:22.055Z"
      },
      {
        "duration": 15,
        "start_time": "2021-06-24T19:10:31.730Z"
      },
      {
        "duration": 16,
        "start_time": "2021-06-24T19:10:39.183Z"
      },
      {
        "duration": 16,
        "start_time": "2021-06-24T19:10:43.934Z"
      },
      {
        "duration": 5,
        "start_time": "2021-06-24T19:15:32.984Z"
      },
      {
        "duration": 4,
        "start_time": "2021-06-24T19:16:18.146Z"
      },
      {
        "duration": 6,
        "start_time": "2021-06-24T19:16:42.860Z"
      },
      {
        "duration": 370,
        "start_time": "2021-06-24T19:17:05.969Z"
      },
      {
        "duration": 5,
        "start_time": "2021-06-24T19:17:31.113Z"
      },
      {
        "duration": 6,
        "start_time": "2021-06-24T19:17:48.883Z"
      },
      {
        "duration": 4,
        "start_time": "2021-06-24T19:20:04.677Z"
      },
      {
        "duration": 386,
        "start_time": "2021-06-24T19:20:25.454Z"
      },
      {
        "duration": 374,
        "start_time": "2021-06-24T19:36:53.894Z"
      },
      {
        "duration": 305,
        "start_time": "2021-06-24T19:37:04.187Z"
      },
      {
        "duration": 303,
        "start_time": "2021-06-24T19:37:06.883Z"
      },
      {
        "duration": 305,
        "start_time": "2021-06-24T19:37:11.015Z"
      },
      {
        "duration": 5,
        "start_time": "2021-06-24T19:37:15.077Z"
      },
      {
        "duration": 5,
        "start_time": "2021-06-24T19:40:28.663Z"
      },
      {
        "duration": 5,
        "start_time": "2021-06-24T19:41:01.863Z"
      },
      {
        "duration": 7,
        "start_time": "2021-06-24T19:41:18.367Z"
      },
      {
        "duration": 8,
        "start_time": "2021-06-24T19:41:24.581Z"
      },
      {
        "duration": 8,
        "start_time": "2021-06-24T19:42:07.090Z"
      },
      {
        "duration": 8,
        "start_time": "2021-06-24T19:42:24.548Z"
      },
      {
        "duration": 8,
        "start_time": "2021-06-24T19:42:43.700Z"
      },
      {
        "duration": 7,
        "start_time": "2021-06-24T19:42:52.391Z"
      },
      {
        "duration": 7,
        "start_time": "2021-06-24T19:47:26.890Z"
      },
      {
        "duration": 7,
        "start_time": "2021-06-24T19:47:32.584Z"
      },
      {
        "duration": 10,
        "start_time": "2021-06-24T19:47:39.103Z"
      },
      {
        "duration": 7,
        "start_time": "2021-06-24T19:47:48.113Z"
      },
      {
        "duration": 349,
        "start_time": "2021-06-24T19:47:55.069Z"
      },
      {
        "duration": 6,
        "start_time": "2021-06-24T19:47:58.506Z"
      },
      {
        "duration": 7,
        "start_time": "2021-06-24T19:48:52.731Z"
      },
      {
        "duration": 12,
        "start_time": "2021-06-24T19:49:46.528Z"
      },
      {
        "duration": 12,
        "start_time": "2021-06-24T19:49:53.976Z"
      },
      {
        "duration": 4,
        "start_time": "2021-06-24T19:51:12.742Z"
      },
      {
        "duration": 5358,
        "start_time": "2021-06-24T19:51:35.034Z"
      },
      {
        "duration": 8,
        "start_time": "2021-06-24T19:52:00.804Z"
      },
      {
        "duration": 7,
        "start_time": "2021-06-24T19:52:33.721Z"
      },
      {
        "duration": 8,
        "start_time": "2021-06-24T19:54:45.361Z"
      },
      {
        "duration": 8,
        "start_time": "2021-06-24T19:55:03.026Z"
      },
      {
        "duration": 7,
        "start_time": "2021-06-24T19:55:29.038Z"
      },
      {
        "duration": 8,
        "start_time": "2021-06-24T19:55:33.106Z"
      },
      {
        "duration": 5,
        "start_time": "2021-06-24T19:58:01.225Z"
      },
      {
        "duration": 8,
        "start_time": "2021-06-24T20:01:39.373Z"
      },
      {
        "duration": 8,
        "start_time": "2021-06-24T20:02:07.411Z"
      },
      {
        "duration": 8,
        "start_time": "2021-06-24T20:03:16.879Z"
      },
      {
        "duration": 8,
        "start_time": "2021-06-24T20:03:23.735Z"
      },
      {
        "duration": 8,
        "start_time": "2021-06-24T20:03:59.736Z"
      },
      {
        "duration": 7,
        "start_time": "2021-06-24T20:04:11.055Z"
      },
      {
        "duration": 6,
        "start_time": "2021-06-24T20:04:17.941Z"
      },
      {
        "duration": 8,
        "start_time": "2021-06-24T20:04:32.917Z"
      },
      {
        "duration": 8,
        "start_time": "2021-06-24T20:04:39.364Z"
      },
      {
        "duration": 7,
        "start_time": "2021-06-24T20:04:51.309Z"
      },
      {
        "duration": 5170,
        "start_time": "2021-06-24T20:06:18.543Z"
      },
      {
        "duration": 7,
        "start_time": "2021-06-24T20:06:24.596Z"
      },
      {
        "duration": 7,
        "start_time": "2021-06-24T20:06:25.976Z"
      },
      {
        "duration": 7,
        "start_time": "2021-06-24T20:06:28.480Z"
      },
      {
        "duration": 5081,
        "start_time": "2021-06-24T20:07:07.634Z"
      },
      {
        "duration": 6,
        "start_time": "2021-06-24T20:07:15.692Z"
      },
      {
        "duration": 7,
        "start_time": "2021-06-24T20:07:23.932Z"
      },
      {
        "duration": 9,
        "start_time": "2021-06-24T20:07:34.707Z"
      },
      {
        "duration": 5246,
        "start_time": "2021-06-24T20:08:08.118Z"
      },
      {
        "duration": 6,
        "start_time": "2021-06-24T20:08:33.083Z"
      },
      {
        "duration": 7,
        "start_time": "2021-06-24T20:08:33.334Z"
      },
      {
        "duration": 8,
        "start_time": "2021-06-24T20:08:33.909Z"
      },
      {
        "duration": 5265,
        "start_time": "2021-06-24T20:10:40.290Z"
      },
      {
        "duration": 11,
        "start_time": "2021-06-24T20:10:46.418Z"
      },
      {
        "duration": 5330,
        "start_time": "2021-06-24T20:10:48.814Z"
      },
      {
        "duration": 8,
        "start_time": "2021-06-24T20:10:54.606Z"
      },
      {
        "duration": 5300,
        "start_time": "2021-06-24T20:10:56.277Z"
      },
      {
        "duration": 9,
        "start_time": "2021-06-24T20:11:02.401Z"
      },
      {
        "duration": 5202,
        "start_time": "2021-06-24T20:11:04.022Z"
      },
      {
        "duration": 8,
        "start_time": "2021-06-24T20:11:09.559Z"
      },
      {
        "duration": 5318,
        "start_time": "2021-06-24T20:11:13.071Z"
      },
      {
        "duration": 8,
        "start_time": "2021-06-24T20:11:18.818Z"
      },
      {
        "duration": 10,
        "start_time": "2021-06-24T20:13:55.198Z"
      },
      {
        "duration": 7,
        "start_time": "2021-06-24T20:13:58.843Z"
      },
      {
        "duration": 7,
        "start_time": "2021-06-24T20:14:14.373Z"
      },
      {
        "duration": 7,
        "start_time": "2021-06-24T20:15:12.738Z"
      },
      {
        "duration": 7,
        "start_time": "2021-06-24T20:15:35.110Z"
      },
      {
        "duration": 4,
        "start_time": "2021-06-24T20:16:08.060Z"
      },
      {
        "duration": 317,
        "start_time": "2021-06-24T20:18:26.808Z"
      },
      {
        "duration": 5,
        "start_time": "2021-06-24T20:18:58.370Z"
      },
      {
        "duration": 7,
        "start_time": "2021-06-24T20:19:05.167Z"
      },
      {
        "duration": 118,
        "start_time": "2021-06-24T20:19:42.053Z"
      },
      {
        "duration": 9,
        "start_time": "2021-06-24T20:19:47.200Z"
      },
      {
        "duration": 7,
        "start_time": "2021-06-24T20:19:51.511Z"
      },
      {
        "duration": 332,
        "start_time": "2021-06-24T20:20:01.154Z"
      },
      {
        "duration": 7,
        "start_time": "2021-06-24T20:20:09.721Z"
      },
      {
        "duration": 8,
        "start_time": "2021-06-24T20:20:35.931Z"
      },
      {
        "duration": 7,
        "start_time": "2021-06-24T20:21:08.345Z"
      },
      {
        "duration": 8,
        "start_time": "2021-06-24T20:21:11.849Z"
      },
      {
        "duration": 4,
        "start_time": "2021-06-24T20:21:30.666Z"
      },
      {
        "duration": 4,
        "start_time": "2021-06-24T20:22:34.897Z"
      },
      {
        "duration": 7,
        "start_time": "2021-06-24T20:24:04.021Z"
      },
      {
        "duration": 5,
        "start_time": "2021-06-24T20:24:37.945Z"
      },
      {
        "duration": 6,
        "start_time": "2021-06-24T20:24:45.209Z"
      },
      {
        "duration": 355,
        "start_time": "2021-06-24T20:24:54.603Z"
      },
      {
        "duration": 591,
        "start_time": "2021-06-24T20:25:00.375Z"
      },
      {
        "duration": 5,
        "start_time": "2021-06-24T20:25:02.668Z"
      },
      {
        "duration": 5,
        "start_time": "2021-06-24T20:25:21.748Z"
      },
      {
        "duration": 5,
        "start_time": "2021-06-24T20:26:16.080Z"
      },
      {
        "duration": 9,
        "start_time": "2021-06-24T20:26:34.556Z"
      },
      {
        "duration": 9,
        "start_time": "2021-06-24T20:26:50.077Z"
      },
      {
        "duration": 7,
        "start_time": "2021-06-24T20:26:55.020Z"
      },
      {
        "duration": 7,
        "start_time": "2021-06-24T20:27:21.311Z"
      },
      {
        "duration": 4,
        "start_time": "2021-06-24T20:27:39.033Z"
      },
      {
        "duration": 4,
        "start_time": "2021-06-24T20:27:48.764Z"
      },
      {
        "duration": 5,
        "start_time": "2021-06-24T20:27:50.205Z"
      },
      {
        "duration": 337,
        "start_time": "2021-06-24T20:27:58.406Z"
      },
      {
        "duration": 5,
        "start_time": "2021-06-24T20:28:07.724Z"
      },
      {
        "duration": 357,
        "start_time": "2021-06-24T20:28:42.070Z"
      },
      {
        "duration": 5,
        "start_time": "2021-06-24T20:28:46.575Z"
      },
      {
        "duration": 371,
        "start_time": "2021-06-24T20:28:59.803Z"
      },
      {
        "duration": 311,
        "start_time": "2021-06-24T20:29:08.671Z"
      },
      {
        "duration": 334,
        "start_time": "2021-06-24T20:29:12.293Z"
      },
      {
        "duration": 5,
        "start_time": "2021-06-24T20:29:15.183Z"
      },
      {
        "duration": 6,
        "start_time": "2021-06-24T20:29:18.191Z"
      },
      {
        "duration": 6,
        "start_time": "2021-06-24T20:30:35.549Z"
      },
      {
        "duration": 6,
        "start_time": "2021-06-24T20:30:47.197Z"
      },
      {
        "duration": 6,
        "start_time": "2021-06-24T20:31:06.934Z"
      },
      {
        "duration": 11,
        "start_time": "2021-06-24T20:31:26.668Z"
      },
      {
        "duration": 7,
        "start_time": "2021-06-24T20:31:54.608Z"
      },
      {
        "duration": 8,
        "start_time": "2021-06-24T20:31:59.327Z"
      },
      {
        "duration": 4,
        "start_time": "2021-06-24T20:33:43.729Z"
      },
      {
        "duration": 318,
        "start_time": "2021-06-24T20:33:45.793Z"
      },
      {
        "duration": 9,
        "start_time": "2021-06-24T20:33:49.260Z"
      },
      {
        "duration": 5,
        "start_time": "2021-06-24T20:34:03.228Z"
      },
      {
        "duration": 9,
        "start_time": "2021-06-24T20:34:04.116Z"
      },
      {
        "duration": 5,
        "start_time": "2021-06-24T20:35:25.700Z"
      },
      {
        "duration": 10,
        "start_time": "2021-06-24T20:35:26.296Z"
      },
      {
        "duration": 6,
        "start_time": "2021-06-24T20:36:05.477Z"
      },
      {
        "duration": 6,
        "start_time": "2021-06-24T20:36:36.318Z"
      },
      {
        "duration": 6,
        "start_time": "2021-06-24T20:37:06.483Z"
      },
      {
        "duration": 7,
        "start_time": "2021-06-24T20:37:44.043Z"
      },
      {
        "duration": 7,
        "start_time": "2021-06-24T20:38:02.933Z"
      },
      {
        "duration": 7,
        "start_time": "2021-06-24T20:38:48.563Z"
      },
      {
        "duration": 7,
        "start_time": "2021-06-24T20:39:16.245Z"
      },
      {
        "duration": 1452,
        "start_time": "2021-06-24T20:39:43.852Z"
      },
      {
        "duration": 474,
        "start_time": "2021-06-24T20:39:45.307Z"
      },
      {
        "duration": 27,
        "start_time": "2021-06-24T20:39:45.785Z"
      },
      {
        "duration": 66,
        "start_time": "2021-06-24T20:39:45.816Z"
      },
      {
        "duration": 28,
        "start_time": "2021-06-24T20:39:45.885Z"
      },
      {
        "duration": 219,
        "start_time": "2021-06-24T20:39:45.915Z"
      },
      {
        "duration": 11,
        "start_time": "2021-06-24T20:39:46.137Z"
      },
      {
        "duration": 51,
        "start_time": "2021-06-24T20:39:46.164Z"
      },
      {
        "duration": 5,
        "start_time": "2021-06-24T20:39:46.219Z"
      },
      {
        "duration": 135,
        "start_time": "2021-06-24T20:39:46.227Z"
      },
      {
        "duration": 6,
        "start_time": "2021-06-24T20:39:46.365Z"
      },
      {
        "duration": 14,
        "start_time": "2021-06-24T20:39:46.464Z"
      },
      {
        "duration": 188,
        "start_time": "2021-06-24T20:39:46.480Z"
      },
      {
        "duration": 101,
        "start_time": "2021-06-24T20:39:46.672Z"
      },
      {
        "duration": 9,
        "start_time": "2021-06-24T20:39:46.861Z"
      },
      {
        "duration": 13,
        "start_time": "2021-06-24T20:39:46.963Z"
      },
      {
        "duration": 14,
        "start_time": "2021-06-24T20:39:46.979Z"
      },
      {
        "duration": 6,
        "start_time": "2021-06-24T20:39:46.995Z"
      },
      {
        "duration": 7,
        "start_time": "2021-06-24T20:39:47.003Z"
      },
      {
        "duration": 5213,
        "start_time": "2021-06-24T20:39:47.012Z"
      },
      {
        "duration": 7,
        "start_time": "2021-06-24T20:39:52.228Z"
      },
      {
        "duration": 27,
        "start_time": "2021-06-24T20:39:52.238Z"
      },
      {
        "duration": 446,
        "start_time": "2021-06-24T20:39:52.272Z"
      },
      {
        "duration": -1038,
        "start_time": "2021-06-24T20:39:53.759Z"
      },
      {
        "duration": -1039,
        "start_time": "2021-06-24T20:39:53.762Z"
      },
      {
        "duration": -1046,
        "start_time": "2021-06-24T20:39:53.771Z"
      },
      {
        "duration": -1045,
        "start_time": "2021-06-24T20:39:53.773Z"
      },
      {
        "duration": -1045,
        "start_time": "2021-06-24T20:39:53.775Z"
      },
      {
        "duration": -1044,
        "start_time": "2021-06-24T20:39:53.777Z"
      },
      {
        "duration": -1044,
        "start_time": "2021-06-24T20:39:53.779Z"
      },
      {
        "duration": -1044,
        "start_time": "2021-06-24T20:39:53.781Z"
      },
      {
        "duration": -1049,
        "start_time": "2021-06-24T20:39:53.788Z"
      },
      {
        "duration": -1048,
        "start_time": "2021-06-24T20:39:53.790Z"
      },
      {
        "duration": 7,
        "start_time": "2021-06-24T20:40:15.581Z"
      },
      {
        "duration": 5127,
        "start_time": "2021-06-24T20:40:20.045Z"
      },
      {
        "duration": 6,
        "start_time": "2021-06-24T20:40:27.605Z"
      },
      {
        "duration": 9,
        "start_time": "2021-06-24T20:40:28.455Z"
      },
      {
        "duration": 8,
        "start_time": "2021-06-24T20:40:29.522Z"
      },
      {
        "duration": 5144,
        "start_time": "2021-06-24T20:40:31.305Z"
      },
      {
        "duration": 13,
        "start_time": "2021-06-24T20:40:36.452Z"
      },
      {
        "duration": 10,
        "start_time": "2021-06-24T20:40:36.469Z"
      },
      {
        "duration": 10,
        "start_time": "2021-06-24T20:40:36.482Z"
      },
      {
        "duration": 9,
        "start_time": "2021-06-24T20:40:36.495Z"
      },
      {
        "duration": 57,
        "start_time": "2021-06-24T20:40:36.506Z"
      },
      {
        "duration": 10,
        "start_time": "2021-06-24T20:41:26.299Z"
      },
      {
        "duration": 10,
        "start_time": "2021-06-24T20:42:18.966Z"
      },
      {
        "duration": 7,
        "start_time": "2021-06-24T20:42:25.011Z"
      },
      {
        "duration": 8,
        "start_time": "2021-06-24T20:42:30.299Z"
      },
      {
        "duration": 356,
        "start_time": "2021-06-24T20:43:04.471Z"
      },
      {
        "duration": 318,
        "start_time": "2021-06-24T20:43:08.185Z"
      },
      {
        "duration": 7,
        "start_time": "2021-06-24T20:43:11.903Z"
      },
      {
        "duration": 8,
        "start_time": "2021-06-24T20:43:24.925Z"
      },
      {
        "duration": 8,
        "start_time": "2021-06-24T20:43:48.875Z"
      },
      {
        "duration": 8,
        "start_time": "2021-06-24T20:44:14.335Z"
      },
      {
        "duration": 1446,
        "start_time": "2021-06-24T20:44:22.722Z"
      },
      {
        "duration": 484,
        "start_time": "2021-06-24T20:44:24.171Z"
      },
      {
        "duration": 26,
        "start_time": "2021-06-24T20:44:24.659Z"
      },
      {
        "duration": 40,
        "start_time": "2021-06-24T20:44:24.687Z"
      },
      {
        "duration": 48,
        "start_time": "2021-06-24T20:44:24.729Z"
      },
      {
        "duration": 221,
        "start_time": "2021-06-24T20:44:24.780Z"
      },
      {
        "duration": 12,
        "start_time": "2021-06-24T20:44:25.004Z"
      },
      {
        "duration": 67,
        "start_time": "2021-06-24T20:44:25.018Z"
      },
      {
        "duration": 6,
        "start_time": "2021-06-24T20:44:25.089Z"
      },
      {
        "duration": 67,
        "start_time": "2021-06-24T20:44:25.098Z"
      },
      {
        "duration": 95,
        "start_time": "2021-06-24T20:44:25.169Z"
      },
      {
        "duration": 194,
        "start_time": "2021-06-24T20:44:25.267Z"
      },
      {
        "duration": 105,
        "start_time": "2021-06-24T20:44:25.464Z"
      },
      {
        "duration": 195,
        "start_time": "2021-06-24T20:44:25.573Z"
      },
      {
        "duration": 92,
        "start_time": "2021-06-24T20:44:25.773Z"
      },
      {
        "duration": 19,
        "start_time": "2021-06-24T20:44:25.868Z"
      },
      {
        "duration": 22,
        "start_time": "2021-06-24T20:44:25.891Z"
      },
      {
        "duration": 49,
        "start_time": "2021-06-24T20:44:25.915Z"
      },
      {
        "duration": 20,
        "start_time": "2021-06-24T20:44:25.966Z"
      },
      {
        "duration": 5118,
        "start_time": "2021-06-24T20:44:25.988Z"
      },
      {
        "duration": 6,
        "start_time": "2021-06-24T20:44:31.109Z"
      },
      {
        "duration": 50,
        "start_time": "2021-06-24T20:44:31.117Z"
      },
      {
        "duration": 33,
        "start_time": "2021-06-24T20:44:31.170Z"
      },
      {
        "duration": 8120,
        "start_time": "2021-06-24T20:44:31.207Z"
      },
      {
        "duration": 8,
        "start_time": "2021-06-24T20:44:39.330Z"
      },
      {
        "duration": 26,
        "start_time": "2021-06-24T20:44:39.341Z"
      },
      {
        "duration": 7,
        "start_time": "2021-06-24T20:44:39.372Z"
      },
      {
        "duration": 5259,
        "start_time": "2021-06-24T20:44:39.382Z"
      },
      {
        "duration": 7,
        "start_time": "2021-06-24T20:44:44.644Z"
      },
      {
        "duration": 15,
        "start_time": "2021-06-24T20:44:44.653Z"
      },
      {
        "duration": 14,
        "start_time": "2021-06-24T20:44:44.670Z"
      },
      {
        "duration": 7,
        "start_time": "2021-06-24T20:44:44.687Z"
      },
      {
        "duration": 12,
        "start_time": "2021-06-24T20:44:44.696Z"
      },
      {
        "duration": 5,
        "start_time": "2021-06-24T20:52:16.954Z"
      },
      {
        "duration": 10,
        "start_time": "2021-06-24T20:53:10.447Z"
      },
      {
        "duration": 454,
        "start_time": "2021-06-24T20:57:57.920Z"
      },
      {
        "duration": 345,
        "start_time": "2021-06-24T21:00:05.297Z"
      },
      {
        "duration": 5224,
        "start_time": "2021-06-24T21:00:13.092Z"
      },
      {
        "duration": 8,
        "start_time": "2021-06-24T21:01:18.882Z"
      },
      {
        "duration": 8,
        "start_time": "2021-06-24T21:01:29.888Z"
      },
      {
        "duration": 9,
        "start_time": "2021-06-24T21:01:43.150Z"
      },
      {
        "duration": 381,
        "start_time": "2021-06-24T21:03:22.179Z"
      },
      {
        "duration": 5275,
        "start_time": "2021-06-24T21:04:49.302Z"
      },
      {
        "duration": 5246,
        "start_time": "2021-06-24T21:05:51.197Z"
      },
      {
        "duration": 5269,
        "start_time": "2021-06-24T21:06:01.843Z"
      },
      {
        "duration": 8,
        "start_time": "2021-06-24T21:06:46.670Z"
      },
      {
        "duration": 5304,
        "start_time": "2021-06-24T21:14:24.054Z"
      },
      {
        "duration": 5139,
        "start_time": "2021-06-24T21:14:49.650Z"
      },
      {
        "duration": 5155,
        "start_time": "2021-06-24T21:15:15.355Z"
      },
      {
        "duration": 5204,
        "start_time": "2021-06-24T21:16:30.802Z"
      },
      {
        "duration": 6,
        "start_time": "2021-06-24T21:16:53.291Z"
      },
      {
        "duration": 7285,
        "start_time": "2021-06-24T21:17:36.210Z"
      },
      {
        "duration": 9,
        "start_time": "2021-06-24T21:17:53.359Z"
      },
      {
        "duration": 7,
        "start_time": "2021-06-24T21:18:10.791Z"
      },
      {
        "duration": 5442,
        "start_time": "2021-06-24T21:18:58.550Z"
      },
      {
        "duration": 5252,
        "start_time": "2021-06-24T21:19:04.637Z"
      },
      {
        "duration": 7,
        "start_time": "2021-06-24T21:19:21.145Z"
      },
      {
        "duration": 6,
        "start_time": "2021-06-24T21:20:49.903Z"
      },
      {
        "duration": 7,
        "start_time": "2021-06-24T21:20:51.390Z"
      },
      {
        "duration": 1517,
        "start_time": "2021-06-24T21:21:02.022Z"
      },
      {
        "duration": 504,
        "start_time": "2021-06-24T21:21:03.542Z"
      },
      {
        "duration": 32,
        "start_time": "2021-06-24T21:21:04.049Z"
      },
      {
        "duration": 41,
        "start_time": "2021-06-24T21:21:04.084Z"
      },
      {
        "duration": 51,
        "start_time": "2021-06-24T21:21:04.128Z"
      },
      {
        "duration": 208,
        "start_time": "2021-06-24T21:21:04.182Z"
      },
      {
        "duration": 12,
        "start_time": "2021-06-24T21:21:04.392Z"
      },
      {
        "duration": 67,
        "start_time": "2021-06-24T21:21:04.408Z"
      },
      {
        "duration": 7,
        "start_time": "2021-06-24T21:21:04.478Z"
      },
      {
        "duration": 175,
        "start_time": "2021-06-24T21:21:04.488Z"
      },
      {
        "duration": 5,
        "start_time": "2021-06-24T21:21:04.667Z"
      },
      {
        "duration": 102,
        "start_time": "2021-06-24T21:21:04.675Z"
      },
      {
        "duration": 182,
        "start_time": "2021-06-24T21:21:04.780Z"
      },
      {
        "duration": 98,
        "start_time": "2021-06-24T21:21:04.966Z"
      },
      {
        "duration": 97,
        "start_time": "2021-06-24T21:21:05.067Z"
      },
      {
        "duration": 12,
        "start_time": "2021-06-24T21:21:05.167Z"
      },
      {
        "duration": 16,
        "start_time": "2021-06-24T21:21:05.181Z"
      },
      {
        "duration": 24,
        "start_time": "2021-06-24T21:21:05.200Z"
      },
      {
        "duration": 21,
        "start_time": "2021-06-24T21:21:05.227Z"
      },
      {
        "duration": 5205,
        "start_time": "2021-06-24T21:21:05.250Z"
      },
      {
        "duration": 12,
        "start_time": "2021-06-24T21:21:10.458Z"
      },
      {
        "duration": 7766,
        "start_time": "2021-06-24T21:21:10.473Z"
      },
      {
        "duration": 17,
        "start_time": "2021-06-24T21:21:18.245Z"
      },
      {
        "duration": 8158,
        "start_time": "2021-06-24T21:21:18.265Z"
      },
      {
        "duration": 8,
        "start_time": "2021-06-24T21:21:26.427Z"
      },
      {
        "duration": 24,
        "start_time": "2021-06-24T21:21:26.438Z"
      },
      {
        "duration": 13,
        "start_time": "2021-06-24T21:21:26.465Z"
      },
      {
        "duration": 1509,
        "start_time": "2021-06-24T21:30:58.770Z"
      },
      {
        "duration": 472,
        "start_time": "2021-06-24T21:31:00.282Z"
      },
      {
        "duration": 26,
        "start_time": "2021-06-24T21:31:00.757Z"
      },
      {
        "duration": 39,
        "start_time": "2021-06-24T21:31:00.785Z"
      },
      {
        "duration": 48,
        "start_time": "2021-06-24T21:31:00.826Z"
      },
      {
        "duration": 222,
        "start_time": "2021-06-24T21:31:00.876Z"
      },
      {
        "duration": 11,
        "start_time": "2021-06-24T21:31:01.101Z"
      },
      {
        "duration": 68,
        "start_time": "2021-06-24T21:31:01.116Z"
      },
      {
        "duration": 6,
        "start_time": "2021-06-24T21:31:01.187Z"
      },
      {
        "duration": 73,
        "start_time": "2021-06-24T21:31:01.196Z"
      },
      {
        "duration": 91,
        "start_time": "2021-06-24T21:31:01.272Z"
      },
      {
        "duration": 129,
        "start_time": "2021-06-24T21:31:01.366Z"
      },
      {
        "duration": 169,
        "start_time": "2021-06-24T21:31:01.498Z"
      },
      {
        "duration": 194,
        "start_time": "2021-06-24T21:31:01.669Z"
      },
      {
        "duration": 98,
        "start_time": "2021-06-24T21:31:01.870Z"
      },
      {
        "duration": 22,
        "start_time": "2021-06-24T21:31:01.970Z"
      },
      {
        "duration": 19,
        "start_time": "2021-06-24T21:31:01.994Z"
      },
      {
        "duration": 20,
        "start_time": "2021-06-24T21:31:02.015Z"
      },
      {
        "duration": 12,
        "start_time": "2021-06-24T21:31:02.037Z"
      },
      {
        "duration": 5057,
        "start_time": "2021-06-24T21:31:02.052Z"
      },
      {
        "duration": 10,
        "start_time": "2021-06-24T21:31:07.111Z"
      },
      {
        "duration": 5089,
        "start_time": "2021-06-24T21:31:07.123Z"
      },
      {
        "duration": 6,
        "start_time": "2021-06-24T21:31:12.217Z"
      },
      {
        "duration": 5072,
        "start_time": "2021-06-24T21:31:12.226Z"
      },
      {
        "duration": 5,
        "start_time": "2021-06-24T21:31:17.301Z"
      },
      {
        "duration": 14,
        "start_time": "2021-06-24T21:31:17.309Z"
      },
      {
        "duration": 12,
        "start_time": "2021-06-24T21:31:17.325Z"
      },
      {
        "duration": 1380,
        "start_time": "2021-06-24T21:34:48.799Z"
      },
      {
        "duration": 456,
        "start_time": "2021-06-24T21:34:50.182Z"
      },
      {
        "duration": 29,
        "start_time": "2021-06-24T21:34:50.641Z"
      },
      {
        "duration": 41,
        "start_time": "2021-06-24T21:34:50.672Z"
      },
      {
        "duration": 47,
        "start_time": "2021-06-24T21:34:50.716Z"
      },
      {
        "duration": 226,
        "start_time": "2021-06-24T21:34:50.766Z"
      },
      {
        "duration": 16,
        "start_time": "2021-06-24T21:34:50.995Z"
      },
      {
        "duration": 84,
        "start_time": "2021-06-24T21:34:51.016Z"
      },
      {
        "duration": 6,
        "start_time": "2021-06-24T21:34:51.105Z"
      },
      {
        "duration": 72,
        "start_time": "2021-06-24T21:34:51.114Z"
      },
      {
        "duration": 74,
        "start_time": "2021-06-24T21:34:51.189Z"
      },
      {
        "duration": 102,
        "start_time": "2021-06-24T21:34:51.266Z"
      },
      {
        "duration": 107,
        "start_time": "2021-06-24T21:34:51.464Z"
      },
      {
        "duration": 189,
        "start_time": "2021-06-24T21:34:51.575Z"
      },
      {
        "duration": 96,
        "start_time": "2021-06-24T21:34:51.768Z"
      },
      {
        "duration": 4,
        "start_time": "2021-06-24T21:34:51.866Z"
      },
      {
        "duration": 14,
        "start_time": "2021-06-24T21:34:51.873Z"
      },
      {
        "duration": 8,
        "start_time": "2021-06-24T21:34:51.889Z"
      },
      {
        "duration": 5,
        "start_time": "2021-06-24T21:34:51.899Z"
      },
      {
        "duration": 5242,
        "start_time": "2021-06-24T21:34:51.907Z"
      },
      {
        "duration": 20,
        "start_time": "2021-06-24T21:34:57.151Z"
      },
      {
        "duration": 5265,
        "start_time": "2021-06-24T21:34:57.174Z"
      },
      {
        "duration": 17,
        "start_time": "2021-06-24T21:35:02.444Z"
      },
      {
        "duration": 5181,
        "start_time": "2021-06-24T21:35:02.464Z"
      },
      {
        "duration": 7,
        "start_time": "2021-06-24T21:35:07.647Z"
      },
      {
        "duration": 5,
        "start_time": "2021-06-24T21:35:07.663Z"
      },
      {
        "duration": 10,
        "start_time": "2021-06-24T21:35:07.670Z"
      },
      {
        "duration": 102,
        "start_time": "2021-06-25T11:01:33.781Z"
      },
      {
        "duration": 1379,
        "start_time": "2021-06-25T11:06:02.393Z"
      },
      {
        "duration": 449,
        "start_time": "2021-06-25T11:06:03.776Z"
      },
      {
        "duration": 25,
        "start_time": "2021-06-25T11:06:04.228Z"
      },
      {
        "duration": 54,
        "start_time": "2021-06-25T11:06:04.256Z"
      },
      {
        "duration": 28,
        "start_time": "2021-06-25T11:06:04.452Z"
      },
      {
        "duration": 212,
        "start_time": "2021-06-25T11:06:04.821Z"
      },
      {
        "duration": 11,
        "start_time": "2021-06-25T11:06:05.246Z"
      },
      {
        "duration": 3,
        "start_time": "2021-06-25T11:32:33.350Z"
      },
      {
        "duration": 692,
        "start_time": "2021-06-25T11:32:39.468Z"
      },
      {
        "duration": 361,
        "start_time": "2021-06-25T11:32:46.812Z"
      },
      {
        "duration": -824,
        "start_time": "2021-06-25T11:32:48.000Z"
      },
      {
        "duration": 4,
        "start_time": "2021-06-25T11:32:50.797Z"
      },
      {
        "duration": 583,
        "start_time": "2021-06-25T11:32:51.638Z"
      },
      {
        "duration": 4,
        "start_time": "2021-06-25T11:33:03.136Z"
      },
      {
        "duration": 4,
        "start_time": "2021-06-25T11:33:03.808Z"
      },
      {
        "duration": 3,
        "start_time": "2021-06-25T11:33:39.532Z"
      },
      {
        "duration": 593,
        "start_time": "2021-06-25T11:33:40.252Z"
      },
      {
        "duration": 716,
        "start_time": "2021-06-25T11:33:58.719Z"
      },
      {
        "duration": -836,
        "start_time": "2021-06-25T11:34:00.274Z"
      },
      {
        "duration": 135,
        "start_time": "2021-06-25T11:34:14.291Z"
      },
      {
        "duration": 276,
        "start_time": "2021-06-25T11:40:33.970Z"
      },
      {
        "duration": 281,
        "start_time": "2021-06-25T11:40:37.967Z"
      },
      {
        "duration": 1374,
        "start_time": "2021-06-25T11:40:55.509Z"
      },
      {
        "duration": 454,
        "start_time": "2021-06-25T11:40:56.885Z"
      },
      {
        "duration": 26,
        "start_time": "2021-06-25T11:40:57.342Z"
      },
      {
        "duration": 32,
        "start_time": "2021-06-25T11:40:57.383Z"
      },
      {
        "duration": 33,
        "start_time": "2021-06-25T11:40:57.418Z"
      },
      {
        "duration": 229,
        "start_time": "2021-06-25T11:40:57.454Z"
      },
      {
        "duration": 13,
        "start_time": "2021-06-25T11:40:57.686Z"
      },
      {
        "duration": 46,
        "start_time": "2021-06-25T11:40:59.285Z"
      },
      {
        "duration": 6,
        "start_time": "2021-06-25T11:41:00.590Z"
      },
      {
        "duration": 4,
        "start_time": "2021-06-25T11:41:01.361Z"
      },
      {
        "duration": 17,
        "start_time": "2021-06-25T11:41:16.968Z"
      },
      {
        "duration": 4,
        "start_time": "2021-06-25T11:41:30.956Z"
      },
      {
        "duration": 4,
        "start_time": "2021-06-25T11:42:34.780Z"
      },
      {
        "duration": 400,
        "start_time": "2021-06-25T11:42:55.602Z"
      },
      {
        "duration": 4,
        "start_time": "2021-06-25T11:42:58.585Z"
      },
      {
        "duration": 269,
        "start_time": "2021-06-25T11:42:58.903Z"
      },
      {
        "duration": 326,
        "start_time": "2021-06-25T11:43:25.163Z"
      },
      {
        "duration": 282,
        "start_time": "2021-06-25T11:43:38.538Z"
      },
      {
        "duration": 279,
        "start_time": "2021-06-25T11:44:00.981Z"
      },
      {
        "duration": 276,
        "start_time": "2021-06-25T11:44:07.287Z"
      },
      {
        "duration": 275,
        "start_time": "2021-06-25T11:44:27.119Z"
      },
      {
        "duration": 270,
        "start_time": "2021-06-25T11:44:33.813Z"
      },
      {
        "duration": 264,
        "start_time": "2021-06-25T11:44:40.836Z"
      },
      {
        "duration": 272,
        "start_time": "2021-06-25T11:44:51.278Z"
      },
      {
        "duration": 5,
        "start_time": "2021-06-25T11:45:00.988Z"
      },
      {
        "duration": 7,
        "start_time": "2021-06-25T11:45:32.699Z"
      },
      {
        "duration": 4,
        "start_time": "2021-06-25T11:45:59.244Z"
      },
      {
        "duration": 37,
        "start_time": "2021-06-25T11:46:09.243Z"
      },
      {
        "duration": 19,
        "start_time": "2021-06-25T11:46:13.690Z"
      },
      {
        "duration": 38,
        "start_time": "2021-06-25T11:46:20.648Z"
      },
      {
        "duration": 4,
        "start_time": "2021-06-25T11:46:35.703Z"
      },
      {
        "duration": 5,
        "start_time": "2021-06-25T11:46:49.621Z"
      },
      {
        "duration": 4,
        "start_time": "2021-06-25T11:51:55.484Z"
      },
      {
        "duration": 273,
        "start_time": "2021-06-25T11:52:10.705Z"
      },
      {
        "duration": 4,
        "start_time": "2021-06-25T11:52:23.990Z"
      },
      {
        "duration": 5,
        "start_time": "2021-06-25T11:52:28.908Z"
      },
      {
        "duration": 263,
        "start_time": "2021-06-25T11:52:35.119Z"
      },
      {
        "duration": 3,
        "start_time": "2021-06-25T12:01:21.283Z"
      },
      {
        "duration": 43,
        "start_time": "2021-06-25T12:01:28.473Z"
      },
      {
        "duration": 3,
        "start_time": "2021-06-25T12:01:29.397Z"
      },
      {
        "duration": 5,
        "start_time": "2021-06-25T12:01:29.774Z"
      },
      {
        "duration": 33,
        "start_time": "2021-06-25T12:01:31.779Z"
      },
      {
        "duration": 5,
        "start_time": "2021-06-25T12:01:32.692Z"
      },
      {
        "duration": 12,
        "start_time": "2021-06-25T12:01:33.697Z"
      },
      {
        "duration": 47,
        "start_time": "2021-06-25T12:01:38.137Z"
      },
      {
        "duration": 15,
        "start_time": "2021-06-25T12:01:42.059Z"
      },
      {
        "duration": 7,
        "start_time": "2021-06-25T12:01:49.094Z"
      },
      {
        "duration": 4,
        "start_time": "2021-06-25T12:01:54.213Z"
      },
      {
        "duration": 283,
        "start_time": "2021-06-25T12:01:56.137Z"
      },
      {
        "duration": 11,
        "start_time": "2021-06-25T12:02:21.399Z"
      },
      {
        "duration": 6,
        "start_time": "2021-06-25T12:03:20.952Z"
      },
      {
        "duration": 4,
        "start_time": "2021-06-25T12:06:15.584Z"
      },
      {
        "duration": 4,
        "start_time": "2021-06-25T12:06:33.028Z"
      },
      {
        "duration": 5215,
        "start_time": "2021-06-25T12:06:36.229Z"
      },
      {
        "duration": 8,
        "start_time": "2021-06-25T13:47:57.601Z"
      },
      {
        "duration": 11,
        "start_time": "2021-06-25T13:48:26.756Z"
      },
      {
        "duration": 13,
        "start_time": "2021-06-25T13:48:42.621Z"
      },
      {
        "duration": 12,
        "start_time": "2021-06-25T13:48:45.518Z"
      },
      {
        "duration": 4,
        "start_time": "2021-06-25T13:49:25.081Z"
      },
      {
        "duration": 12,
        "start_time": "2021-06-25T13:49:44.778Z"
      },
      {
        "duration": 11,
        "start_time": "2021-06-25T13:49:52.296Z"
      },
      {
        "duration": 11,
        "start_time": "2021-06-25T13:50:01.614Z"
      },
      {
        "duration": 11,
        "start_time": "2021-06-25T13:50:08.477Z"
      },
      {
        "duration": 12,
        "start_time": "2021-06-25T13:53:22.852Z"
      },
      {
        "duration": 4,
        "start_time": "2021-06-25T13:55:15.011Z"
      },
      {
        "duration": 4,
        "start_time": "2021-06-25T13:55:17.497Z"
      },
      {
        "duration": 4726,
        "start_time": "2021-06-25T13:55:18.136Z"
      },
      {
        "duration": 89,
        "start_time": "2021-06-25T14:00:01.645Z"
      },
      {
        "duration": 6,
        "start_time": "2021-06-25T14:00:29.700Z"
      },
      {
        "duration": 6,
        "start_time": "2021-06-25T14:01:43.910Z"
      },
      {
        "duration": 6,
        "start_time": "2021-06-25T14:02:06.097Z"
      },
      {
        "duration": 5,
        "start_time": "2021-06-25T14:02:17.804Z"
      },
      {
        "duration": 7,
        "start_time": "2021-06-25T14:02:27.136Z"
      },
      {
        "duration": 6,
        "start_time": "2021-06-25T14:02:35.162Z"
      },
      {
        "duration": 6,
        "start_time": "2021-06-25T14:02:42.338Z"
      },
      {
        "duration": 5,
        "start_time": "2021-06-25T14:02:55.465Z"
      },
      {
        "duration": 6,
        "start_time": "2021-06-25T14:03:05.618Z"
      },
      {
        "duration": 5,
        "start_time": "2021-06-25T14:03:25.571Z"
      },
      {
        "duration": 5,
        "start_time": "2021-06-25T14:03:43.575Z"
      },
      {
        "duration": 4,
        "start_time": "2021-06-25T14:03:45.275Z"
      },
      {
        "duration": 5163,
        "start_time": "2021-06-25T14:03:50.207Z"
      },
      {
        "duration": 6,
        "start_time": "2021-06-25T14:04:00.492Z"
      },
      {
        "duration": 4841,
        "start_time": "2021-06-25T14:07:27.160Z"
      },
      {
        "duration": 6,
        "start_time": "2021-06-25T14:08:05.855Z"
      },
      {
        "duration": 5258,
        "start_time": "2021-06-25T14:08:14.526Z"
      },
      {
        "duration": 5,
        "start_time": "2021-06-25T14:08:42.245Z"
      },
      {
        "duration": 6,
        "start_time": "2021-06-25T14:08:46.828Z"
      },
      {
        "duration": 6,
        "start_time": "2021-06-25T14:09:06.410Z"
      },
      {
        "duration": 12,
        "start_time": "2021-06-25T14:09:11.352Z"
      },
      {
        "duration": 6,
        "start_time": "2021-06-25T14:09:40.388Z"
      },
      {
        "duration": 5,
        "start_time": "2021-06-25T14:09:45.146Z"
      },
      {
        "duration": 5,
        "start_time": "2021-06-25T14:09:46.846Z"
      },
      {
        "duration": 9,
        "start_time": "2021-06-25T14:09:47.045Z"
      },
      {
        "duration": 7,
        "start_time": "2021-06-25T14:10:13.244Z"
      },
      {
        "duration": 7,
        "start_time": "2021-06-25T14:10:28.521Z"
      },
      {
        "duration": 6,
        "start_time": "2021-06-25T14:10:32.140Z"
      },
      {
        "duration": 8,
        "start_time": "2021-06-25T14:10:32.956Z"
      },
      {
        "duration": 1418,
        "start_time": "2021-06-25T14:14:03.349Z"
      },
      {
        "duration": 448,
        "start_time": "2021-06-25T14:14:04.769Z"
      },
      {
        "duration": 27,
        "start_time": "2021-06-25T14:14:05.221Z"
      },
      {
        "duration": 49,
        "start_time": "2021-06-25T14:14:05.252Z"
      },
      {
        "duration": 26,
        "start_time": "2021-06-25T14:14:05.303Z"
      },
      {
        "duration": 208,
        "start_time": "2021-06-25T14:14:05.331Z"
      },
      {
        "duration": 11,
        "start_time": "2021-06-25T14:14:05.541Z"
      },
      {
        "duration": 76,
        "start_time": "2021-06-25T14:14:05.556Z"
      },
      {
        "duration": 4,
        "start_time": "2021-06-25T14:14:05.635Z"
      },
      {
        "duration": 12,
        "start_time": "2021-06-25T14:14:05.641Z"
      },
      {
        "duration": 130,
        "start_time": "2021-06-25T14:14:05.656Z"
      },
      {
        "duration": 94,
        "start_time": "2021-06-25T14:14:05.790Z"
      },
      {
        "duration": 20,
        "start_time": "2021-06-25T14:14:05.887Z"
      },
      {
        "duration": 106,
        "start_time": "2021-06-25T14:14:05.986Z"
      },
      {
        "duration": 191,
        "start_time": "2021-06-25T14:14:06.096Z"
      },
      {
        "duration": 97,
        "start_time": "2021-06-25T14:14:06.291Z"
      },
      {
        "duration": 4,
        "start_time": "2021-06-25T14:14:06.390Z"
      },
      {
        "duration": 11,
        "start_time": "2021-06-25T14:14:06.397Z"
      },
      {
        "duration": 7,
        "start_time": "2021-06-25T14:14:06.411Z"
      },
      {
        "duration": 8,
        "start_time": "2021-06-25T14:14:06.420Z"
      },
      {
        "duration": 5399,
        "start_time": "2021-06-25T14:14:06.430Z"
      },
      {
        "duration": 6,
        "start_time": "2021-06-25T14:14:11.832Z"
      },
      {
        "duration": 5128,
        "start_time": "2021-06-25T14:14:11.843Z"
      },
      {
        "duration": 10,
        "start_time": "2021-06-25T14:14:16.973Z"
      },
      {
        "duration": 5144,
        "start_time": "2021-06-25T14:14:16.985Z"
      },
      {
        "duration": 5,
        "start_time": "2021-06-25T14:14:22.131Z"
      },
      {
        "duration": 9,
        "start_time": "2021-06-25T14:14:22.139Z"
      },
      {
        "duration": 33,
        "start_time": "2021-06-25T14:14:22.150Z"
      },
      {
        "duration": 4783,
        "start_time": "2021-06-25T14:15:26.402Z"
      },
      {
        "duration": 4776,
        "start_time": "2021-06-25T14:16:18.766Z"
      },
      {
        "duration": 1386,
        "start_time": "2021-06-25T14:17:21.222Z"
      },
      {
        "duration": 443,
        "start_time": "2021-06-25T14:17:22.611Z"
      },
      {
        "duration": 29,
        "start_time": "2021-06-25T14:17:23.057Z"
      },
      {
        "duration": 37,
        "start_time": "2021-06-25T14:17:23.089Z"
      },
      {
        "duration": 25,
        "start_time": "2021-06-25T14:17:23.128Z"
      },
      {
        "duration": 205,
        "start_time": "2021-06-25T14:17:23.155Z"
      },
      {
        "duration": 20,
        "start_time": "2021-06-25T14:17:23.363Z"
      },
      {
        "duration": 45,
        "start_time": "2021-06-25T14:17:23.387Z"
      },
      {
        "duration": 4,
        "start_time": "2021-06-25T14:17:23.435Z"
      },
      {
        "duration": 9,
        "start_time": "2021-06-25T14:17:23.441Z"
      },
      {
        "duration": 67,
        "start_time": "2021-06-25T14:17:23.452Z"
      },
      {
        "duration": 97,
        "start_time": "2021-06-25T14:17:23.587Z"
      },
      {
        "duration": 14,
        "start_time": "2021-06-25T14:17:23.686Z"
      },
      {
        "duration": 109,
        "start_time": "2021-06-25T14:17:23.785Z"
      },
      {
        "duration": 189,
        "start_time": "2021-06-25T14:17:23.897Z"
      },
      {
        "duration": 96,
        "start_time": "2021-06-25T14:17:24.090Z"
      },
      {
        "duration": 7,
        "start_time": "2021-06-25T14:17:24.188Z"
      },
      {
        "duration": 18,
        "start_time": "2021-06-25T14:17:24.197Z"
      },
      {
        "duration": 7,
        "start_time": "2021-06-25T14:17:24.217Z"
      },
      {
        "duration": 14,
        "start_time": "2021-06-25T14:17:24.226Z"
      },
      {
        "duration": 4898,
        "start_time": "2021-06-25T14:17:24.243Z"
      },
      {
        "duration": 5091,
        "start_time": "2021-06-25T14:17:29.144Z"
      },
      {
        "duration": 4987,
        "start_time": "2021-06-25T14:17:34.239Z"
      },
      {
        "duration": 4,
        "start_time": "2021-06-25T14:17:39.229Z"
      },
      {
        "duration": 16,
        "start_time": "2021-06-25T14:17:39.236Z"
      },
      {
        "duration": 1346,
        "start_time": "2021-06-25T14:21:13.624Z"
      },
      {
        "duration": 454,
        "start_time": "2021-06-25T14:21:14.973Z"
      },
      {
        "duration": 27,
        "start_time": "2021-06-25T14:21:15.429Z"
      },
      {
        "duration": 50,
        "start_time": "2021-06-25T14:21:15.459Z"
      },
      {
        "duration": 25,
        "start_time": "2021-06-25T14:21:15.512Z"
      },
      {
        "duration": 199,
        "start_time": "2021-06-25T14:21:15.539Z"
      },
      {
        "duration": 11,
        "start_time": "2021-06-25T14:21:15.740Z"
      },
      {
        "duration": 68,
        "start_time": "2021-06-25T14:21:15.755Z"
      },
      {
        "duration": 4,
        "start_time": "2021-06-25T14:21:15.826Z"
      },
      {
        "duration": 37,
        "start_time": "2021-06-25T14:21:15.832Z"
      },
      {
        "duration": 42,
        "start_time": "2021-06-25T14:21:15.872Z"
      },
      {
        "duration": 7,
        "start_time": "2021-06-25T14:21:15.986Z"
      },
      {
        "duration": 101,
        "start_time": "2021-06-25T14:21:16.085Z"
      },
      {
        "duration": 104,
        "start_time": "2021-06-25T14:21:16.189Z"
      },
      {
        "duration": 193,
        "start_time": "2021-06-25T14:21:16.296Z"
      },
      {
        "duration": 103,
        "start_time": "2021-06-25T14:21:16.492Z"
      },
      {
        "duration": 90,
        "start_time": "2021-06-25T14:21:16.598Z"
      },
      {
        "duration": 12,
        "start_time": "2021-06-25T14:21:16.690Z"
      },
      {
        "duration": 4,
        "start_time": "2021-06-25T14:21:16.704Z"
      },
      {
        "duration": 6,
        "start_time": "2021-06-25T14:21:16.711Z"
      },
      {
        "duration": 4891,
        "start_time": "2021-06-25T14:21:16.720Z"
      },
      {
        "duration": 4829,
        "start_time": "2021-06-25T14:21:21.614Z"
      },
      {
        "duration": 4979,
        "start_time": "2021-06-25T14:21:26.447Z"
      },
      {
        "duration": 5,
        "start_time": "2021-06-25T14:21:31.429Z"
      },
      {
        "duration": 16,
        "start_time": "2021-06-25T14:21:31.436Z"
      },
      {
        "duration": 7,
        "start_time": "2021-06-27T10:53:31.356Z"
      },
      {
        "duration": 6,
        "start_time": "2021-06-27T10:56:42.513Z"
      },
      {
        "duration": 4,
        "start_time": "2021-06-27T11:14:08.157Z"
      }
    ],
    "kernelspec": {
      "display_name": "Python 3",
      "language": "python",
      "name": "python3"
    },
    "language_info": {
      "codemirror_mode": {
        "name": "ipython",
        "version": 3
      },
      "file_extension": ".py",
      "mimetype": "text/x-python",
      "name": "python",
      "nbconvert_exporter": "python",
      "pygments_lexer": "ipython3",
      "version": "3.7.8"
    },
    "toc": {
      "base_numbering": 1,
      "nav_menu": {},
      "number_sections": true,
      "sideBar": true,
      "skip_h1_title": true,
      "title_cell": "Table of Contents",
      "title_sidebar": "Contents",
      "toc_cell": false,
      "toc_position": {},
      "toc_section_display": true,
      "toc_window_display": false
    },
    "colab": {
      "name": "8.Поиск лучшегоо региона.ipynb",
      "provenance": [],
      "collapsed_sections": []
    }
  },
  "cells": [
    {
      "cell_type": "markdown",
      "metadata": {
        "id": "vshi75ukN4xZ"
      },
      "source": [
        "# Условия задачи:\n",
        "\n",
        "- При разведке региона исследуют 500 точек, из которых с помощью машинного обучения выбирают 200 лучших для разработки.\n",
        "- Бюджет на разработку скважин в регионе — 10 млрд рублей.\n",
        "- При нынешних ценах один баррель сырья приносит 450 рублей дохода. Доход с каждой единицы продукта составляет 450 тыс. рублей, поскольку объём указан в тысячах баррелей.\n",
        "- После оценки рисков нужно оставить лишь те регионы, в которых вероятность убытков меньше 2.5%. Среди них выбирают регион с наибольшей средней прибылью."
      ]
    },
    {
      "cell_type": "markdown",
      "metadata": {
        "id": "3k69_88LN4xZ"
      },
      "source": [
        "## Загрузка и подготовка данных"
      ]
    },
    {
      "cell_type": "markdown",
      "metadata": {
        "id": "joPoiAgMN4xZ"
      },
      "source": [
        "Импортируем библиотеки которые нужны или могут понадобиться."
      ]
    },
    {
      "cell_type": "code",
      "metadata": {
        "id": "2x0Zj8MkN4xa"
      },
      "source": [
        "import pandas as pd\n",
        "import numpy as np\n",
        "import matplotlib.pyplot as plt\n",
        "\n",
        "from sklearn.model_selection import train_test_split\n",
        "from sklearn.preprocessing import StandardScaler\n",
        "from sklearn.utils import shuffle\n",
        "from sklearn.model_selection import GridSearchCV, cross_val_score\n",
        "\n",
        "from sklearn.linear_model import LinearRegression\n",
        "\n",
        "from sklearn.metrics import mean_squared_error, mean_absolute_error\n",
        "\n",
        "import warnings\n",
        "warnings.filterwarnings('ignore')"
      ],
      "execution_count": null,
      "outputs": []
    },
    {
      "cell_type": "markdown",
      "metadata": {
        "id": "2uRQlh34N4xb"
      },
      "source": [
        "Прочитаем данные. Ниже описание столбцов."
      ]
    },
    {
      "cell_type": "markdown",
      "metadata": {
        "id": "LjVg_JnsN4xb"
      },
      "source": [
        "- id — уникальный идентификатор скважины;\n",
        "- f0, f1, f2 — три признака точек (неважно, что они означают, но сами признаки значимы);\n",
        "- product — объём запасов в скважине (тыс. баррелей)"
      ]
    },
    {
      "cell_type": "code",
      "metadata": {
        "id": "zXz2MbfON4xb"
      },
      "source": [
        "data_0 = pd.read_csv('/datasets/geo_data_0.csv')\n",
        "data_1 = pd.read_csv('/datasets/geo_data_1.csv')\n",
        "data_2 = pd.read_csv('/datasets/geo_data_2.csv')"
      ],
      "execution_count": null,
      "outputs": []
    },
    {
      "cell_type": "code",
      "metadata": {
        "id": "zsfWTxcMN4xc",
        "outputId": "6e49a555-88c3-4d0f-dac5-61fa3119302a"
      },
      "source": [
        "'-'*80, 'data_0', '-'*80, data_0, '-'*80, 'data_1', '-'*80, data_1, '-'*80, 'data_2', '-'*80, data_2"
      ],
      "execution_count": null,
      "outputs": [
        {
          "data": {
            "text/plain": [
              "('--------------------------------------------------------------------------------',\n",
              " 'data_0',\n",
              " '--------------------------------------------------------------------------------',\n",
              "           id        f0        f1        f2     product\n",
              " 0      txEyH  0.705745 -0.497823  1.221170  105.280062\n",
              " 1      2acmU  1.334711 -0.340164  4.365080   73.037750\n",
              " 2      409Wp  1.022732  0.151990  1.419926   85.265647\n",
              " 3      iJLyR -0.032172  0.139033  2.978566  168.620776\n",
              " 4      Xdl7t  1.988431  0.155413  4.751769  154.036647\n",
              " ...      ...       ...       ...       ...         ...\n",
              " 99995  DLsed  0.971957  0.370953  6.075346  110.744026\n",
              " 99996  QKivN  1.392429 -0.382606  1.273912  122.346843\n",
              " 99997  3rnvd  1.029585  0.018787 -1.348308   64.375443\n",
              " 99998  7kl59  0.998163 -0.528582  1.583869   74.040764\n",
              " 99999  1CWhH  1.764754 -0.266417  5.722849  149.633246\n",
              " \n",
              " [100000 rows x 5 columns],\n",
              " '--------------------------------------------------------------------------------',\n",
              " 'data_1',\n",
              " '--------------------------------------------------------------------------------',\n",
              "           id         f0         f1        f2     product\n",
              " 0      kBEdx -15.001348  -8.276000 -0.005876    3.179103\n",
              " 1      62mP7  14.272088  -3.475083  0.999183   26.953261\n",
              " 2      vyE1P   6.263187  -5.948386  5.001160  134.766305\n",
              " 3      KcrkZ -13.081196 -11.506057  4.999415  137.945408\n",
              " 4      AHL4O  12.702195  -8.147433  5.004363  134.766305\n",
              " ...      ...        ...        ...       ...         ...\n",
              " 99995  QywKC   9.535637  -6.878139  1.998296   53.906522\n",
              " 99996  ptvty -10.160631 -12.558096  5.005581  137.945408\n",
              " 99997  09gWa  -7.378891  -3.084104  4.998651  137.945408\n",
              " 99998  rqwUm   0.665714  -6.152593  1.000146   30.132364\n",
              " 99999  relB0  -3.426139  -7.794274 -0.003299    3.179103\n",
              " \n",
              " [100000 rows x 5 columns],\n",
              " '--------------------------------------------------------------------------------',\n",
              " 'data_2',\n",
              " '--------------------------------------------------------------------------------',\n",
              "           id        f0        f1        f2     product\n",
              " 0      fwXo0 -1.146987  0.963328 -0.828965   27.758673\n",
              " 1      WJtFt  0.262778  0.269839 -2.530187   56.069697\n",
              " 2      ovLUW  0.194587  0.289035 -5.586433   62.871910\n",
              " 3      q6cA6  2.236060 -0.553760  0.930038  114.572842\n",
              " 4      WPMUX -0.515993  1.716266  5.899011  149.600746\n",
              " ...      ...       ...       ...       ...         ...\n",
              " 99995  4GxBu -1.777037  1.125220  6.263374  172.327046\n",
              " 99996  YKFjq -1.261523 -0.894828  2.524545  138.748846\n",
              " 99997  tKPY3 -1.199934 -2.957637  5.219411  157.080080\n",
              " 99998  nmxp2 -2.419896  2.417221 -5.548444   51.795253\n",
              " 99999  V9kWn -2.551421 -2.025625  6.090891  102.775767\n",
              " \n",
              " [100000 rows x 5 columns])"
            ]
          },
          "execution_count": 3,
          "metadata": {},
          "output_type": "execute_result"
        }
      ]
    },
    {
      "cell_type": "markdown",
      "metadata": {
        "id": "RiBWaNscN4xc"
      },
      "source": [
        "Видим, что данные наши уже были закодированы и масштабированы. Проверим наши датасеты функцией info"
      ]
    },
    {
      "cell_type": "code",
      "metadata": {
        "id": "6k88xd5lN4xd",
        "outputId": "f19ae947-b999-4528-cd59-3548ba2a9b32"
      },
      "source": [
        "print(data_0.info(), '='*80)\n",
        "print(data_1.info(), '='*80)\n",
        "print(data_2.info())"
      ],
      "execution_count": null,
      "outputs": [
        {
          "name": "stdout",
          "output_type": "stream",
          "text": [
            "<class 'pandas.core.frame.DataFrame'>\n",
            "RangeIndex: 100000 entries, 0 to 99999\n",
            "Data columns (total 5 columns):\n",
            "id         100000 non-null object\n",
            "f0         100000 non-null float64\n",
            "f1         100000 non-null float64\n",
            "f2         100000 non-null float64\n",
            "product    100000 non-null float64\n",
            "dtypes: float64(4), object(1)\n",
            "memory usage: 3.8+ MB\n",
            "None ================================================================================\n",
            "<class 'pandas.core.frame.DataFrame'>\n",
            "RangeIndex: 100000 entries, 0 to 99999\n",
            "Data columns (total 5 columns):\n",
            "id         100000 non-null object\n",
            "f0         100000 non-null float64\n",
            "f1         100000 non-null float64\n",
            "f2         100000 non-null float64\n",
            "product    100000 non-null float64\n",
            "dtypes: float64(4), object(1)\n",
            "memory usage: 3.8+ MB\n",
            "None ================================================================================\n",
            "<class 'pandas.core.frame.DataFrame'>\n",
            "RangeIndex: 100000 entries, 0 to 99999\n",
            "Data columns (total 5 columns):\n",
            "id         100000 non-null object\n",
            "f0         100000 non-null float64\n",
            "f1         100000 non-null float64\n",
            "f2         100000 non-null float64\n",
            "product    100000 non-null float64\n",
            "dtypes: float64(4), object(1)\n",
            "memory usage: 3.8+ MB\n",
            "None\n"
          ]
        }
      ]
    },
    {
      "cell_type": "markdown",
      "metadata": {
        "id": "8khlI3pKN4xd"
      },
      "source": [
        "Данные датасетов имеют нужные нам тип данных."
      ]
    },
    {
      "cell_type": "code",
      "metadata": {
        "id": "jdtfiYOtN4xd",
        "outputId": "2750d15b-46d2-44ab-a347-6b3a60c465d2"
      },
      "source": [
        "print(data_0.isna().sum(), '='*80)\n",
        "print(data_1.isna().sum(), '='*80)\n",
        "print(data_2.isna().sum())"
      ],
      "execution_count": null,
      "outputs": [
        {
          "name": "stdout",
          "output_type": "stream",
          "text": [
            "id         0\n",
            "f0         0\n",
            "f1         0\n",
            "f2         0\n",
            "product    0\n",
            "dtype: int64 ================================================================================\n",
            "id         0\n",
            "f0         0\n",
            "f1         0\n",
            "f2         0\n",
            "product    0\n",
            "dtype: int64 ================================================================================\n",
            "id         0\n",
            "f0         0\n",
            "f1         0\n",
            "f2         0\n",
            "product    0\n",
            "dtype: int64\n"
          ]
        }
      ]
    },
    {
      "cell_type": "markdown",
      "metadata": {
        "id": "GnD1TnqRN4xd"
      },
      "source": [
        "Данные не имеют пропущенных значений. Проверим на дубликаты."
      ]
    },
    {
      "cell_type": "code",
      "metadata": {
        "id": "jvZuXLQuN4xe",
        "outputId": "29d9e6b5-e1a4-4ec0-c6f1-8fae2a0e7e38"
      },
      "source": [
        "print(data_0.duplicated().sum())\n",
        "print(data_1.duplicated().sum())\n",
        "print(data_2.duplicated().sum())"
      ],
      "execution_count": null,
      "outputs": [
        {
          "name": "stdout",
          "output_type": "stream",
          "text": [
            "0\n",
            "0\n",
            "0\n"
          ]
        }
      ]
    },
    {
      "cell_type": "markdown",
      "metadata": {
        "id": "y5phQUtdN4xe"
      },
      "source": [
        "Запишем в переменные признаки и целевой признак для каждого датасета. Удалим столбец id т.к. он не несет ни какой инфы для алгоритма."
      ]
    },
    {
      "cell_type": "code",
      "metadata": {
        "id": "PpIiPbIHN4xe"
      },
      "source": [
        "target_0 = data_0['product']\n",
        "features_0 = data_0.drop(['id', 'product'], axis=1)\n",
        "\n",
        "target_1 = data_1['product']\n",
        "features_1 = data_1.drop(['id', 'product'], axis=1)\n",
        "\n",
        "target_2 = data_2['product']\n",
        "features_2 = data_2.drop(['id', 'product'], axis=1)"
      ],
      "execution_count": null,
      "outputs": []
    },
    {
      "cell_type": "markdown",
      "metadata": {
        "id": "1wMpE_oYN4xe"
      },
      "source": [
        "Данные готовы к работе."
      ]
    },
    {
      "cell_type": "markdown",
      "metadata": {
        "id": "LS9v0ADpN4xe"
      },
      "source": [
        "## Обучение и проверка модели"
      ]
    },
    {
      "cell_type": "markdown",
      "metadata": {
        "id": "pE4eVUaMN4xf"
      },
      "source": [
        "Разбиваем признаки и целевой признак на выборки по регионам. stratify не используем т.к. решаем задачу регресии."
      ]
    },
    {
      "cell_type": "code",
      "metadata": {
        "id": "wOXW3iPSN4xf"
      },
      "source": [
        "features_train_0, features_valid_0, target_train_0, target_valid_0 = train_test_split(\n",
        "    features_0, target_0, random_state=12345, test_size=.25)\n",
        "\n",
        "features_train_1, features_valid_1, target_train_1, target_valid_1 = train_test_split(\n",
        "    features_1, target_1, random_state=12345, test_size=.25)\n",
        "\n",
        "features_train_2, features_valid_2, target_train_2, target_valid_2 = train_test_split(\n",
        "    features_2, target_2, random_state=12345, test_size=.25)"
      ],
      "execution_count": null,
      "outputs": []
    },
    {
      "cell_type": "markdown",
      "metadata": {
        "id": "8xVbkSQtN4xf"
      },
      "source": [
        "Проверим размер выборок."
      ]
    },
    {
      "cell_type": "code",
      "metadata": {
        "id": "Nh8GfasAN4xg"
      },
      "source": [
        "features_train = features_train_0, features_train_1, features_train_2\n",
        "features_valid = features_valid_0, features_valid_1, features_valid_2"
      ],
      "execution_count": null,
      "outputs": []
    },
    {
      "cell_type": "code",
      "metadata": {
        "scrolled": false,
        "id": "lbim2a1jN4xg",
        "outputId": "9c09e7a1-2763-4250-b0fe-9c7c570e7103"
      },
      "source": [
        "for i in range(len(features_train)):\n",
        "    print(features_train[i].shape, features_valid[i].shape)"
      ],
      "execution_count": null,
      "outputs": [
        {
          "name": "stdout",
          "output_type": "stream",
          "text": [
            "(75000, 3) (25000, 3)\n",
            "(75000, 3) (25000, 3)\n",
            "(75000, 3) (25000, 3)\n"
          ]
        }
      ]
    },
    {
      "cell_type": "markdown",
      "metadata": {
        "id": "Xs7lDr80N4xg"
      },
      "source": [
        "Обучаем модель и делаем предсказания на валидационной выборке."
      ]
    },
    {
      "cell_type": "markdown",
      "metadata": {
        "id": "7GPKOp_CN4xg"
      },
      "source": [
        "Делаем модель для каждого региона и обучаем."
      ]
    },
    {
      "cell_type": "code",
      "metadata": {
        "id": "b3fUzAOsN4xh"
      },
      "source": [
        "model_0 = LinearRegression()\n",
        "model_1 = LinearRegression()\n",
        "model_2 = LinearRegression()\n",
        "\n",
        "model_0.fit(features_train_0, target_train_0)\n",
        "model_1.fit(features_train_1, target_train_1)\n",
        "model_2.fit(features_train_2, target_train_2)\n",
        "\n",
        "predictions_valid_0 = model_0.predict(features_valid_0)\n",
        "predictions_valid_1 = model_1.predict(features_valid_1)\n",
        "predictions_valid_2 = model_2.predict(features_valid_2)"
      ],
      "execution_count": null,
      "outputs": []
    },
    {
      "cell_type": "markdown",
      "metadata": {
        "id": "3flfwvecN4xh"
      },
      "source": [
        "Сохраняем предсказания по валид выборке"
      ]
    },
    {
      "cell_type": "code",
      "metadata": {
        "id": "VqnkXlYON4xh"
      },
      "source": [
        "prediction_0 = pd.Series(predictions_valid_0, index=target_valid_0.index)\n",
        "prediction_1 = pd.Series(predictions_valid_1, index=target_valid_1.index)\n",
        "prediction_2 = pd.Series(predictions_valid_2, index=target_valid_2.index)"
      ],
      "execution_count": null,
      "outputs": []
    },
    {
      "cell_type": "markdown",
      "metadata": {
        "id": "puCqnBIsN4xh"
      },
      "source": [
        "Выводи на экран средний запас предсказанного сырья и RMSE модели."
      ]
    },
    {
      "cell_type": "code",
      "metadata": {
        "scrolled": true,
        "id": "E7sF1HUwN4xi",
        "outputId": "6d1af9f2-080f-4a5e-f118-18304163319c"
      },
      "source": [
        "mse_0 = mean_squared_error(target_valid_0, predictions_valid_0)\n",
        "rmse_0 = mse_0 ** 0.5\n",
        "r2_0 = model_0.score(features_valid_0, target_valid_0)\n",
        "print('Средний запас предсказанного сырья', predictions_valid_0.mean(), end='')\n",
        "print(' | RMSE модели:', rmse_0, '| R2:', r2_0)"
      ],
      "execution_count": null,
      "outputs": [
        {
          "name": "stdout",
          "output_type": "stream",
          "text": [
            "Средний запас предсказанного сырья 92.59256778438038 | RMSE модели: 37.5794217150813 | R2: 0.27994321524487786\n"
          ]
        }
      ]
    },
    {
      "cell_type": "code",
      "metadata": {
        "id": "KwyJAF77N4xi",
        "outputId": "74d4dcef-f286-44cf-fc90-beb0e17d7650"
      },
      "source": [
        "mse_1 = mean_squared_error(target_valid_1, predictions_valid_1)\n",
        "rmse_1 = mse_1 ** 0.5\n",
        "r2_1 = model_1.score(features_valid_1, target_valid_1)\n",
        "print('Средний запас предсказанного сырья', predictions_valid_1.mean(), end='')\n",
        "print(' | RMSE модели:', rmse_1, '| R2:', r2_1)"
      ],
      "execution_count": null,
      "outputs": [
        {
          "name": "stdout",
          "output_type": "stream",
          "text": [
            "Средний запас предсказанного сырья 68.728546895446 | RMSE модели: 0.893099286775616 | R2: 0.9996233978805126\n"
          ]
        }
      ]
    },
    {
      "cell_type": "code",
      "metadata": {
        "id": "j6XrYD1iN4xi",
        "outputId": "a30649b6-19bf-4226-a483-432fb3ff926c"
      },
      "source": [
        "mse_2 = mean_squared_error(target_valid_2, predictions_valid_2)\n",
        "rmse_2 = mse_2 ** 0.5\n",
        "r2_2 = model_2.score(features_valid_2, target_valid_2)\n",
        "print('Средний запас предсказанного сырья', predictions_valid_2.mean(), end='')\n",
        "print(' | RMSE модели:', rmse_2, '| R2:', r2_2)"
      ],
      "execution_count": null,
      "outputs": [
        {
          "name": "stdout",
          "output_type": "stream",
          "text": [
            "Средний запас предсказанного сырья 94.96504596800489 | RMSE модели: 40.02970873393434 | R2: 0.20524758386040443\n"
          ]
        }
      ]
    },
    {
      "cell_type": "markdown",
      "metadata": {
        "id": "nXZTuY7YN4xi"
      },
      "source": [
        "# Вывод:"
      ]
    },
    {
      "cell_type": "markdown",
      "metadata": {
        "id": "reZmqlMRN4xi"
      },
      "source": [
        "Видим, что data_1 дал лучший результат RSME, т.к. значение очень близко к 0, тем самым говорит, что модель хорошо освоила зависимости между признаками. Это можно наблюдать по метрике R2 которая хорошо показывает как хорошо или плохо мы решили задачу. В данном случае \"идеальная\" модель, R2≈1(0.99)."
      ]
    },
    {
      "cell_type": "code",
      "metadata": {
        "id": "9Y0pL39aN4xj",
        "outputId": "83d94f37-eeac-44c6-c9d1-7f314e43ad02"
      },
      "source": [
        "'МАЕ:', mean_absolute_error(target_valid_1, predictions_valid_1)"
      ],
      "execution_count": null,
      "outputs": [
        {
          "data": {
            "text/plain": [
              "('МАЕ:', 0.718766244212475)"
            ]
          },
          "execution_count": 16,
          "metadata": {},
          "output_type": "execute_result"
        }
      ]
    },
    {
      "cell_type": "markdown",
      "metadata": {
        "id": "KpvlZaJbN4xk"
      },
      "source": [
        "## Подготовка к расчёту прибыли"
      ]
    },
    {
      "cell_type": "markdown",
      "metadata": {
        "id": "COlkIxLVN4xk"
      },
      "source": [
        "Рассчитаем достаточный объем сырья для безубыточной разработки новой скважины. Бюджет на разработку 200 скважен = 10 млрд рублей. Одна единица продукта состовляет 450 тыс. рублей. Получаем следующее:"
      ]
    },
    {
      "cell_type": "code",
      "metadata": {
        "id": "425UoACvN4xk"
      },
      "source": [
        "BEST_WELLS = 200\n",
        "BUDGET = 10000000000\n",
        "ONE_PRODUCT_UNIT = 450000"
      ],
      "execution_count": null,
      "outputs": []
    },
    {
      "cell_type": "code",
      "metadata": {
        "id": "1UJD2iZsN4xl",
        "outputId": "970b8318-fbd2-404d-df21-a4decf939a60"
      },
      "source": [
        "sufficient_volume_of_raw_materials = (BUDGET / BEST_WELLS) / ONE_PRODUCT_UNIT\n",
        "print(\"Достаточный объем для безубычной разработки новой скважины: \",\n",
        "                                                                sufficient_volume_of_raw_materials)\n",
        "print('Средний запас сырья в reg_0:', data_0['product'].mean())\n",
        "print('Средний запас сырья в reg_1:', data_1['product'].mean())\n",
        "print('Средний запас сырья в reg_2:', data_2['product'].mean())"
      ],
      "execution_count": null,
      "outputs": [
        {
          "name": "stdout",
          "output_type": "stream",
          "text": [
            "Достаточный объем для безубычной разработки новой скважины:  111.11111111111111\n",
            "Средний запас сырья в reg_0: 92.50000000000001\n",
            "Средний запас сырья в reg_1: 68.82500000000002\n",
            "Средний запас сырья в reg_2: 95.00000000000004\n"
          ]
        }
      ]
    },
    {
      "cell_type": "markdown",
      "metadata": {
        "id": "qIHucqKgN4xl"
      },
      "source": [
        "# Вывод:"
      ]
    },
    {
      "cell_type": "markdown",
      "metadata": {
        "id": "1c6-tK3EN4xl"
      },
      "source": [
        "По рассчетам видно, что достаточный объем для безубычной разработки новой скважины состовляет 111, т.к. средий запас объема по регионам 70-90. Но это нам ни о чем не говорит, так как есть скважены где объем и больше. Посмотрим на них при построении функции."
      ]
    },
    {
      "cell_type": "markdown",
      "metadata": {
        "id": "MLmBLN1LN4xl"
      },
      "source": [
        "Напишем функцию для рассчета прибыли."
      ]
    },
    {
      "cell_type": "code",
      "metadata": {
        "id": "pIRZNGpyN4xl"
      },
      "source": [
        "def profit(target, predictions, count=200):\n",
        "    prob_sorted = predictions.sort_values(ascending=False)\n",
        "    selected = target[prob_sorted.index][:count]\n",
        "    return (selected.sum() * ONE_PRODUCT_UNIT) - BUDGET"
      ],
      "execution_count": null,
      "outputs": []
    },
    {
      "cell_type": "markdown",
      "metadata": {
        "id": "O2ruz69tN4xm"
      },
      "source": [
        "Подсчет прибыли готов. Рассчитаем прибыль и риски"
      ]
    },
    {
      "cell_type": "markdown",
      "metadata": {
        "id": "PHFiyaYAN4xm"
      },
      "source": [
        "## Расчёт прибыли и рисков "
      ]
    },
    {
      "cell_type": "markdown",
      "metadata": {
        "id": "hOLRmQ7LN4xm"
      },
      "source": [
        "Сохраним в переменную для постоянства рандомный вызов и по условию задачи вероятность убытка."
      ]
    },
    {
      "cell_type": "code",
      "metadata": {
        "id": "FGteiYhpN4xn"
      },
      "source": [
        "state = np.random.RandomState(12345)\n",
        "risk_losses = 2.5"
      ],
      "execution_count": null,
      "outputs": []
    },
    {
      "cell_type": "markdown",
      "metadata": {
        "id": "2hDNQWX-N4xn"
      },
      "source": [
        "Теперь подсчитем:  \n",
        "    - среднюю прибыль  \n",
        "    - 95%-й доверительный интервал  \n",
        "    - риск убытков  \n",
        "\n",
        "Так для каждого региона."
      ]
    },
    {
      "cell_type": "code",
      "metadata": {
        "id": "3VL474tNN4xn",
        "outputId": "e8301f72-baa3-4a16-97f8-d2f6171491a1"
      },
      "source": [
        "values_0 = []\n",
        "for i in range(1000):\n",
        "    target_0_subsample = target_valid_0.sample(500, random_state=state, replace=True)\n",
        "    probs_0_subsample = prediction_0[target_0_subsample.index]\n",
        "    values_0.append(profit(target_0_subsample, probs_0_subsample))\n",
        "    \n",
        "values_0 = pd.Series(values_0)\n",
        "mean_profit_0 = values_0.mean()\n",
        "lower = values_0.quantile(0.025)\n",
        "upper = values_0.quantile(0.975)\n",
        "risk_losses_0 = (values_0 < 0).mean()\n",
        "risk_losses_0 = risk_losses_0 * 100\n",
        "\n",
        "print('Средняя прибыль geo_0:', mean_profit_0)\n",
        "print(\"95%-й доверительный интервал geo_0 =\", [lower, upper])\n",
        "print('Риск потерь от geo_0 =', risk_losses_0, '%')"
      ],
      "execution_count": null,
      "outputs": [
        {
          "name": "stdout",
          "output_type": "stream",
          "text": [
            "Средняя прибыль geo_0: 425938526.9105923\n",
            "95%-й доверительный интервал geo_0 = [-102090094.83793654, 947976353.358369]\n",
            "Риск потерь от geo_0 = 6.0 %\n"
          ]
        }
      ]
    },
    {
      "cell_type": "code",
      "metadata": {
        "id": "zfE9-puiN4xo",
        "outputId": "db40034d-6705-445b-fb84-0ff2f70c3888"
      },
      "source": [
        "values_1 = []\n",
        "for i in range(1000):\n",
        "    target_1_subsample = target_valid_1.sample(500, random_state=state, replace=True)\n",
        "    probs_1_subsample = prediction_1[target_1_subsample.index]\n",
        "    values_1.append(profit(target_1_subsample, probs_1_subsample))\n",
        "    \n",
        "values_1 = pd.Series(values_1)\n",
        "mean_profit_1 = values_1.mean()\n",
        "lower = values_1.quantile(0.025)\n",
        "upper = values_1.quantile(0.975)\n",
        "risk_losses_1 = (values_1 < 0).mean()\n",
        "risk_losses_1 = risk_losses_1 * 100\n",
        "\n",
        "print('Средняя прибыль geo_1:', mean_profit_1)\n",
        "print(\"95%-й доверительный интервал geo_1 =\", [lower, upper])\n",
        "print('Риск потерь от geo_1 =', risk_losses_1, '%')"
      ],
      "execution_count": null,
      "outputs": [
        {
          "name": "stdout",
          "output_type": "stream",
          "text": [
            "Средняя прибыль geo_1: 518259493.69732493\n",
            "95%-й доверительный интервал geo_1 = [128123231.43308629, 953612982.0669085]\n",
            "Риск потерь от geo_1 = 0.3 %\n"
          ]
        }
      ]
    },
    {
      "cell_type": "code",
      "metadata": {
        "id": "BanvYEj6N4xo",
        "outputId": "20f1c290-e01d-4b26-e654-3dae88f31dbd"
      },
      "source": [
        "values_2 = []\n",
        "for i in range(1000):\n",
        "    target_2_subsample = target_valid_2.sample(500, random_state=state, replace=True)\n",
        "    probs_2_subsample = prediction_2[target_2_subsample.index]\n",
        "    values_2.append(profit(target_2_subsample, probs_2_subsample))\n",
        "    \n",
        "values_2 = pd.Series(values_2)\n",
        "mean_profit_2 = values_2.mean()\n",
        "lower = values_2.quantile(0.025)\n",
        "upper = values_2.quantile(0.975)\n",
        "risk_losses_2 = (values_2 < 0).mean()\n",
        "risk_losses_2 = risk_losses_2 * 100\n",
        "\n",
        "print('Средняя прибыль geo_2:', mean_profit_2)\n",
        "print(\"95%-й доверительный интервал geo_2 =\", [lower, upper])\n",
        "print('Риск потерь от geo_2 =', risk_losses_2, '%')"
      ],
      "execution_count": null,
      "outputs": [
        {
          "name": "stdout",
          "output_type": "stream",
          "text": [
            "Средняя прибыль geo_2: 420194005.34405005\n",
            "95%-й доверительный интервал geo_2 = [-115852609.16001143, 989629939.844574]\n",
            "Риск потерь от geo_2 = 6.2 %\n"
          ]
        }
      ]
    },
    {
      "cell_type": "code",
      "metadata": {
        "id": "Mq5ZL67xN4xo"
      },
      "source": [
        "risk_losses_all = pd.DataFrame({'процент риска': [risk_losses_0, risk_losses_1, risk_losses_2],\n",
        "                                'название региона': ['geo_0', 'geo_1', 'geo_2']}, index=[0, 1, 2])"
      ],
      "execution_count": null,
      "outputs": []
    },
    {
      "cell_type": "code",
      "metadata": {
        "id": "EOB6nsfBN4xo",
        "outputId": "239c3827-ce17-444b-ab53-8273b4b24cc0"
      },
      "source": [
        "for i in risk_losses_all['процент риска']:\n",
        "    if i < risk_losses:\n",
        "        print('Регион с риском меньше 2.5%:', \n",
        "               risk_losses_all.loc[risk_losses_all['процент риска'] == i, \n",
        "                                                'название региона'].values, '=', i, '%')"
      ],
      "execution_count": null,
      "outputs": [
        {
          "name": "stdout",
          "output_type": "stream",
          "text": [
            "Регион с риском меньше 2.5%: ['geo_1'] = 0.3 %\n"
          ]
        }
      ]
    },
    {
      "cell_type": "markdown",
      "metadata": {
        "id": "_Ioc9GIXN4xp"
      },
      "source": [
        "# Вывод:"
      ]
    },
    {
      "cell_type": "markdown",
      "metadata": {
        "id": "7N5qVi5oN4xp"
      },
      "source": [
        "Мой выбор региона для разработки скважин это регион geo_1. Самым главный порогом для принятия решения является риск убытков. У geo_1 риск убытков соотвествует Т3, а значит получить шанс убытков в этом регионе самый маленький, что делает его победителем в выборах для разработки скважен. К тому же средненный доход и доверительный интервал выше чем у других, что говорит о том, что окупаемость и рентабельность этого региона нам подходит для лучше, чем остальные регионы и с большей долей вероятности она нам принесет прибыль, т.к. это единственный регион у которого судя по доверительному интервалу нет отрицательной прибыли."
      ]
    }
  ]
}
{
 "cells": [
  {
   "cell_type": "markdown",
   "metadata": {
    "id": "k7G8EWAmK3w5"
   },
   "source": [
    "## Изучение данных."
   ]
  },
  {
   "cell_type": "markdown",
   "metadata": {
    "id": "j3mSzPROK3w6"
   },
   "source": [
    "Импортируем все необходимые библии или те которые могут понадобиться."
   ]
  },
  {
   "cell_type": "code",
   "execution_count": 1,
   "metadata": {
    "id": "M31oK95nK3w6"
   },
   "outputs": [
    {
     "name": "stderr",
     "output_type": "stream",
     "text": [
      "/opt/conda/lib/python3.7/site-packages/tqdm/std.py:703: FutureWarning:\n",
      "\n",
      "The Panel class is removed from pandas. Accessing it from the top-level namespace will also be removed in the next version\n",
      "\n"
     ]
    },
    {
     "data": {
      "text/html": [
       "        <script type=\"text/javascript\">\n",
       "        window.PlotlyConfig = {MathJaxConfig: 'local'};\n",
       "        if (window.MathJax) {MathJax.Hub.Config({SVG: {font: \"STIX-Web\"}});}\n",
       "        if (typeof require !== 'undefined') {\n",
       "        require.undef(\"plotly\");\n",
       "        requirejs.config({\n",
       "            paths: {\n",
       "                'plotly': ['https://cdn.plot.ly/plotly-latest.min']\n",
       "            }\n",
       "        });\n",
       "        require(['plotly'], function(Plotly) {\n",
       "            window._Plotly = Plotly;\n",
       "        });\n",
       "        }\n",
       "        </script>\n",
       "        "
      ]
     },
     "metadata": {},
     "output_type": "display_data"
    }
   ],
   "source": [
    "import pandas as pd\n",
    "import numpy as np\n",
    "import random\n",
    "import matplotlib.pyplot as plt\n",
    "from scipy import stats as st\n",
    "import plotly\n",
    "import plotly.graph_objs as go\n",
    "import plotly.io as pio\n",
    "from plotly.offline import download_plotlyjs, init_notebook_mode, plot, iplot\n",
    "\n",
    "from tqdm import tqdm\n",
    "tqdm.pandas(desc=\"Example Desc\")\n",
    "pio.renderers.default='notebook'\n",
    "init_notebook_mode(connected=True)"
   ]
  },
  {
   "cell_type": "markdown",
   "metadata": {
    "id": "vUs_dlQaK3w6"
   },
   "source": [
    "Прочитатем файлы"
   ]
  },
  {
   "cell_type": "code",
   "execution_count": 2,
   "metadata": {
    "id": "oOlEPMEkK3w7"
   },
   "outputs": [],
   "source": [
    "user = pd.read_csv('/datasets/users.csv')\n",
    "call = pd.read_csv('/datasets/calls.csv')\n",
    "mess = pd.read_csv('/datasets/messages.csv')\n",
    "inet = pd.read_csv('/datasets/internet.csv')\n",
    "rate = pd.read_csv('/datasets/tariffs.csv')"
   ]
  },
  {
   "cell_type": "code",
   "execution_count": 3,
   "metadata": {
    "id": "HZAuq1E8K3w7",
    "outputId": "9658026b-194a-46fd-8501-0df3388a295f"
   },
   "outputs": [
    {
     "data": {
      "text/html": [
       "<div>\n",
       "<style scoped>\n",
       "    .dataframe tbody tr th:only-of-type {\n",
       "        vertical-align: middle;\n",
       "    }\n",
       "\n",
       "    .dataframe tbody tr th {\n",
       "        vertical-align: top;\n",
       "    }\n",
       "\n",
       "    .dataframe thead th {\n",
       "        text-align: right;\n",
       "    }\n",
       "</style>\n",
       "<table border=\"1\" class=\"dataframe\">\n",
       "  <thead>\n",
       "    <tr style=\"text-align: right;\">\n",
       "      <th></th>\n",
       "      <th>user_id</th>\n",
       "      <th>age</th>\n",
       "      <th>churn_date</th>\n",
       "      <th>city</th>\n",
       "      <th>first_name</th>\n",
       "      <th>last_name</th>\n",
       "      <th>reg_date</th>\n",
       "      <th>tariff</th>\n",
       "    </tr>\n",
       "  </thead>\n",
       "  <tbody>\n",
       "    <tr>\n",
       "      <td>0</td>\n",
       "      <td>1000</td>\n",
       "      <td>52</td>\n",
       "      <td>NaN</td>\n",
       "      <td>Краснодар</td>\n",
       "      <td>Рафаил</td>\n",
       "      <td>Верещагин</td>\n",
       "      <td>2018-05-25</td>\n",
       "      <td>ultra</td>\n",
       "    </tr>\n",
       "    <tr>\n",
       "      <td>1</td>\n",
       "      <td>1001</td>\n",
       "      <td>41</td>\n",
       "      <td>NaN</td>\n",
       "      <td>Москва</td>\n",
       "      <td>Иван</td>\n",
       "      <td>Ежов</td>\n",
       "      <td>2018-11-01</td>\n",
       "      <td>smart</td>\n",
       "    </tr>\n",
       "    <tr>\n",
       "      <td>2</td>\n",
       "      <td>1002</td>\n",
       "      <td>59</td>\n",
       "      <td>NaN</td>\n",
       "      <td>Стерлитамак</td>\n",
       "      <td>Евгений</td>\n",
       "      <td>Абрамович</td>\n",
       "      <td>2018-06-17</td>\n",
       "      <td>smart</td>\n",
       "    </tr>\n",
       "    <tr>\n",
       "      <td>3</td>\n",
       "      <td>1003</td>\n",
       "      <td>23</td>\n",
       "      <td>NaN</td>\n",
       "      <td>Москва</td>\n",
       "      <td>Белла</td>\n",
       "      <td>Белякова</td>\n",
       "      <td>2018-08-17</td>\n",
       "      <td>ultra</td>\n",
       "    </tr>\n",
       "    <tr>\n",
       "      <td>4</td>\n",
       "      <td>1004</td>\n",
       "      <td>68</td>\n",
       "      <td>NaN</td>\n",
       "      <td>Новокузнецк</td>\n",
       "      <td>Татьяна</td>\n",
       "      <td>Авдеенко</td>\n",
       "      <td>2018-05-14</td>\n",
       "      <td>ultra</td>\n",
       "    </tr>\n",
       "  </tbody>\n",
       "</table>\n",
       "</div>"
      ],
      "text/plain": [
       "   user_id  age churn_date         city first_name  last_name    reg_date  \\\n",
       "0     1000   52        NaN    Краснодар     Рафаил  Верещагин  2018-05-25   \n",
       "1     1001   41        NaN       Москва       Иван       Ежов  2018-11-01   \n",
       "2     1002   59        NaN  Стерлитамак    Евгений  Абрамович  2018-06-17   \n",
       "3     1003   23        NaN       Москва      Белла   Белякова  2018-08-17   \n",
       "4     1004   68        NaN  Новокузнецк    Татьяна   Авдеенко  2018-05-14   \n",
       "\n",
       "  tariff  \n",
       "0  ultra  \n",
       "1  smart  \n",
       "2  smart  \n",
       "3  ultra  \n",
       "4  ultra  "
      ]
     },
     "execution_count": 3,
     "metadata": {},
     "output_type": "execute_result"
    }
   ],
   "source": [
    "user.head()"
   ]
  },
  {
   "cell_type": "code",
   "execution_count": 4,
   "metadata": {
    "id": "0MCe01nTK3w7",
    "outputId": "d4e6a323-fe64-4590-bac8-50c83ab9ce55"
   },
   "outputs": [
    {
     "data": {
      "text/html": [
       "<div>\n",
       "<style scoped>\n",
       "    .dataframe tbody tr th:only-of-type {\n",
       "        vertical-align: middle;\n",
       "    }\n",
       "\n",
       "    .dataframe tbody tr th {\n",
       "        vertical-align: top;\n",
       "    }\n",
       "\n",
       "    .dataframe thead th {\n",
       "        text-align: right;\n",
       "    }\n",
       "</style>\n",
       "<table border=\"1\" class=\"dataframe\">\n",
       "  <thead>\n",
       "    <tr style=\"text-align: right;\">\n",
       "      <th></th>\n",
       "      <th>id</th>\n",
       "      <th>call_date</th>\n",
       "      <th>duration</th>\n",
       "      <th>user_id</th>\n",
       "    </tr>\n",
       "  </thead>\n",
       "  <tbody>\n",
       "    <tr>\n",
       "      <td>0</td>\n",
       "      <td>1000_0</td>\n",
       "      <td>2018-07-25</td>\n",
       "      <td>0.00</td>\n",
       "      <td>1000</td>\n",
       "    </tr>\n",
       "    <tr>\n",
       "      <td>1</td>\n",
       "      <td>1000_1</td>\n",
       "      <td>2018-08-17</td>\n",
       "      <td>0.00</td>\n",
       "      <td>1000</td>\n",
       "    </tr>\n",
       "    <tr>\n",
       "      <td>2</td>\n",
       "      <td>1000_2</td>\n",
       "      <td>2018-06-11</td>\n",
       "      <td>2.85</td>\n",
       "      <td>1000</td>\n",
       "    </tr>\n",
       "    <tr>\n",
       "      <td>3</td>\n",
       "      <td>1000_3</td>\n",
       "      <td>2018-09-21</td>\n",
       "      <td>13.80</td>\n",
       "      <td>1000</td>\n",
       "    </tr>\n",
       "    <tr>\n",
       "      <td>4</td>\n",
       "      <td>1000_4</td>\n",
       "      <td>2018-12-15</td>\n",
       "      <td>5.18</td>\n",
       "      <td>1000</td>\n",
       "    </tr>\n",
       "  </tbody>\n",
       "</table>\n",
       "</div>"
      ],
      "text/plain": [
       "       id   call_date  duration  user_id\n",
       "0  1000_0  2018-07-25      0.00     1000\n",
       "1  1000_1  2018-08-17      0.00     1000\n",
       "2  1000_2  2018-06-11      2.85     1000\n",
       "3  1000_3  2018-09-21     13.80     1000\n",
       "4  1000_4  2018-12-15      5.18     1000"
      ]
     },
     "execution_count": 4,
     "metadata": {},
     "output_type": "execute_result"
    }
   ],
   "source": [
    "call.head()"
   ]
  },
  {
   "cell_type": "code",
   "execution_count": 5,
   "metadata": {
    "id": "BHfmcvyuK3w7",
    "outputId": "573d6eac-332c-43e3-f5ca-8125fe01a316"
   },
   "outputs": [
    {
     "data": {
      "text/html": [
       "<div>\n",
       "<style scoped>\n",
       "    .dataframe tbody tr th:only-of-type {\n",
       "        vertical-align: middle;\n",
       "    }\n",
       "\n",
       "    .dataframe tbody tr th {\n",
       "        vertical-align: top;\n",
       "    }\n",
       "\n",
       "    .dataframe thead th {\n",
       "        text-align: right;\n",
       "    }\n",
       "</style>\n",
       "<table border=\"1\" class=\"dataframe\">\n",
       "  <thead>\n",
       "    <tr style=\"text-align: right;\">\n",
       "      <th></th>\n",
       "      <th>id</th>\n",
       "      <th>message_date</th>\n",
       "      <th>user_id</th>\n",
       "    </tr>\n",
       "  </thead>\n",
       "  <tbody>\n",
       "    <tr>\n",
       "      <td>0</td>\n",
       "      <td>1000_0</td>\n",
       "      <td>2018-06-27</td>\n",
       "      <td>1000</td>\n",
       "    </tr>\n",
       "    <tr>\n",
       "      <td>1</td>\n",
       "      <td>1000_1</td>\n",
       "      <td>2018-10-08</td>\n",
       "      <td>1000</td>\n",
       "    </tr>\n",
       "    <tr>\n",
       "      <td>2</td>\n",
       "      <td>1000_2</td>\n",
       "      <td>2018-08-04</td>\n",
       "      <td>1000</td>\n",
       "    </tr>\n",
       "    <tr>\n",
       "      <td>3</td>\n",
       "      <td>1000_3</td>\n",
       "      <td>2018-06-16</td>\n",
       "      <td>1000</td>\n",
       "    </tr>\n",
       "    <tr>\n",
       "      <td>4</td>\n",
       "      <td>1000_4</td>\n",
       "      <td>2018-12-05</td>\n",
       "      <td>1000</td>\n",
       "    </tr>\n",
       "  </tbody>\n",
       "</table>\n",
       "</div>"
      ],
      "text/plain": [
       "       id message_date  user_id\n",
       "0  1000_0   2018-06-27     1000\n",
       "1  1000_1   2018-10-08     1000\n",
       "2  1000_2   2018-08-04     1000\n",
       "3  1000_3   2018-06-16     1000\n",
       "4  1000_4   2018-12-05     1000"
      ]
     },
     "execution_count": 5,
     "metadata": {},
     "output_type": "execute_result"
    }
   ],
   "source": [
    "mess.head()"
   ]
  },
  {
   "cell_type": "code",
   "execution_count": 6,
   "metadata": {
    "id": "f_buM_ElK3w8",
    "outputId": "0227fe33-d618-4be0-8b9f-6c98ffc11a45"
   },
   "outputs": [
    {
     "data": {
      "text/html": [
       "<div>\n",
       "<style scoped>\n",
       "    .dataframe tbody tr th:only-of-type {\n",
       "        vertical-align: middle;\n",
       "    }\n",
       "\n",
       "    .dataframe tbody tr th {\n",
       "        vertical-align: top;\n",
       "    }\n",
       "\n",
       "    .dataframe thead th {\n",
       "        text-align: right;\n",
       "    }\n",
       "</style>\n",
       "<table border=\"1\" class=\"dataframe\">\n",
       "  <thead>\n",
       "    <tr style=\"text-align: right;\">\n",
       "      <th></th>\n",
       "      <th>Unnamed: 0</th>\n",
       "      <th>id</th>\n",
       "      <th>mb_used</th>\n",
       "      <th>session_date</th>\n",
       "      <th>user_id</th>\n",
       "    </tr>\n",
       "  </thead>\n",
       "  <tbody>\n",
       "    <tr>\n",
       "      <td>0</td>\n",
       "      <td>0</td>\n",
       "      <td>1000_0</td>\n",
       "      <td>112.95</td>\n",
       "      <td>2018-11-25</td>\n",
       "      <td>1000</td>\n",
       "    </tr>\n",
       "    <tr>\n",
       "      <td>1</td>\n",
       "      <td>1</td>\n",
       "      <td>1000_1</td>\n",
       "      <td>1052.81</td>\n",
       "      <td>2018-09-07</td>\n",
       "      <td>1000</td>\n",
       "    </tr>\n",
       "    <tr>\n",
       "      <td>2</td>\n",
       "      <td>2</td>\n",
       "      <td>1000_2</td>\n",
       "      <td>1197.26</td>\n",
       "      <td>2018-06-25</td>\n",
       "      <td>1000</td>\n",
       "    </tr>\n",
       "    <tr>\n",
       "      <td>3</td>\n",
       "      <td>3</td>\n",
       "      <td>1000_3</td>\n",
       "      <td>550.27</td>\n",
       "      <td>2018-08-22</td>\n",
       "      <td>1000</td>\n",
       "    </tr>\n",
       "    <tr>\n",
       "      <td>4</td>\n",
       "      <td>4</td>\n",
       "      <td>1000_4</td>\n",
       "      <td>302.56</td>\n",
       "      <td>2018-09-24</td>\n",
       "      <td>1000</td>\n",
       "    </tr>\n",
       "  </tbody>\n",
       "</table>\n",
       "</div>"
      ],
      "text/plain": [
       "   Unnamed: 0      id  mb_used session_date  user_id\n",
       "0           0  1000_0   112.95   2018-11-25     1000\n",
       "1           1  1000_1  1052.81   2018-09-07     1000\n",
       "2           2  1000_2  1197.26   2018-06-25     1000\n",
       "3           3  1000_3   550.27   2018-08-22     1000\n",
       "4           4  1000_4   302.56   2018-09-24     1000"
      ]
     },
     "execution_count": 6,
     "metadata": {},
     "output_type": "execute_result"
    }
   ],
   "source": [
    "inet.head()"
   ]
  },
  {
   "cell_type": "code",
   "execution_count": 7,
   "metadata": {
    "id": "pq0rgLK7K3w8",
    "outputId": "ac013326-fa31-455e-e022-7230b8781e44"
   },
   "outputs": [
    {
     "data": {
      "text/html": [
       "<div>\n",
       "<style scoped>\n",
       "    .dataframe tbody tr th:only-of-type {\n",
       "        vertical-align: middle;\n",
       "    }\n",
       "\n",
       "    .dataframe tbody tr th {\n",
       "        vertical-align: top;\n",
       "    }\n",
       "\n",
       "    .dataframe thead th {\n",
       "        text-align: right;\n",
       "    }\n",
       "</style>\n",
       "<table border=\"1\" class=\"dataframe\">\n",
       "  <thead>\n",
       "    <tr style=\"text-align: right;\">\n",
       "      <th></th>\n",
       "      <th>messages_included</th>\n",
       "      <th>mb_per_month_included</th>\n",
       "      <th>minutes_included</th>\n",
       "      <th>rub_monthly_fee</th>\n",
       "      <th>rub_per_gb</th>\n",
       "      <th>rub_per_message</th>\n",
       "      <th>rub_per_minute</th>\n",
       "      <th>tariff_name</th>\n",
       "    </tr>\n",
       "  </thead>\n",
       "  <tbody>\n",
       "    <tr>\n",
       "      <td>0</td>\n",
       "      <td>50</td>\n",
       "      <td>15360</td>\n",
       "      <td>500</td>\n",
       "      <td>550</td>\n",
       "      <td>200</td>\n",
       "      <td>3</td>\n",
       "      <td>3</td>\n",
       "      <td>smart</td>\n",
       "    </tr>\n",
       "    <tr>\n",
       "      <td>1</td>\n",
       "      <td>1000</td>\n",
       "      <td>30720</td>\n",
       "      <td>3000</td>\n",
       "      <td>1950</td>\n",
       "      <td>150</td>\n",
       "      <td>1</td>\n",
       "      <td>1</td>\n",
       "      <td>ultra</td>\n",
       "    </tr>\n",
       "  </tbody>\n",
       "</table>\n",
       "</div>"
      ],
      "text/plain": [
       "   messages_included  mb_per_month_included  minutes_included  \\\n",
       "0                 50                  15360               500   \n",
       "1               1000                  30720              3000   \n",
       "\n",
       "   rub_monthly_fee  rub_per_gb  rub_per_message  rub_per_minute tariff_name  \n",
       "0              550         200                3               3       smart  \n",
       "1             1950         150                1               1       ultra  "
      ]
     },
     "execution_count": 7,
     "metadata": {},
     "output_type": "execute_result"
    }
   ],
   "source": [
    "rate.head()"
   ]
  },
  {
   "cell_type": "code",
   "execution_count": 8,
   "metadata": {
    "id": "NNhNhyGoK3w8",
    "outputId": "84352691-30a6-40eb-cca5-6ab7aecb060f"
   },
   "outputs": [
    {
     "name": "stdout",
     "output_type": "stream",
     "text": [
      "<class 'pandas.core.frame.DataFrame'>\n",
      "RangeIndex: 500 entries, 0 to 499\n",
      "Data columns (total 8 columns):\n",
      "user_id       500 non-null int64\n",
      "age           500 non-null int64\n",
      "churn_date    38 non-null object\n",
      "city          500 non-null object\n",
      "first_name    500 non-null object\n",
      "last_name     500 non-null object\n",
      "reg_date      500 non-null object\n",
      "tariff        500 non-null object\n",
      "dtypes: int64(2), object(6)\n",
      "memory usage: 31.4+ KB\n"
     ]
    }
   ],
   "source": [
    "user.info()"
   ]
  },
  {
   "cell_type": "code",
   "execution_count": 9,
   "metadata": {
    "id": "tfIQ6Ax0K3w8",
    "outputId": "75d25d6f-3844-4e53-a1c9-e1e506079511"
   },
   "outputs": [
    {
     "name": "stdout",
     "output_type": "stream",
     "text": [
      "<class 'pandas.core.frame.DataFrame'>\n",
      "RangeIndex: 202607 entries, 0 to 202606\n",
      "Data columns (total 4 columns):\n",
      "id           202607 non-null object\n",
      "call_date    202607 non-null object\n",
      "duration     202607 non-null float64\n",
      "user_id      202607 non-null int64\n",
      "dtypes: float64(1), int64(1), object(2)\n",
      "memory usage: 6.2+ MB\n"
     ]
    }
   ],
   "source": [
    "call.info()"
   ]
  },
  {
   "cell_type": "code",
   "execution_count": 10,
   "metadata": {
    "id": "vsnF2iEsK3w8",
    "outputId": "fbba411e-e31c-49c2-967a-047553f8b67b",
    "scrolled": true
   },
   "outputs": [
    {
     "name": "stdout",
     "output_type": "stream",
     "text": [
      "<class 'pandas.core.frame.DataFrame'>\n",
      "RangeIndex: 123036 entries, 0 to 123035\n",
      "Data columns (total 3 columns):\n",
      "id              123036 non-null object\n",
      "message_date    123036 non-null object\n",
      "user_id         123036 non-null int64\n",
      "dtypes: int64(1), object(2)\n",
      "memory usage: 2.8+ MB\n"
     ]
    }
   ],
   "source": [
    "mess.info()"
   ]
  },
  {
   "cell_type": "code",
   "execution_count": 11,
   "metadata": {
    "id": "VvqSqTPEK3w9",
    "outputId": "9a03ec33-d27c-49f8-f9cb-08bd5e98e15d"
   },
   "outputs": [
    {
     "name": "stdout",
     "output_type": "stream",
     "text": [
      "<class 'pandas.core.frame.DataFrame'>\n",
      "RangeIndex: 149396 entries, 0 to 149395\n",
      "Data columns (total 5 columns):\n",
      "Unnamed: 0      149396 non-null int64\n",
      "id              149396 non-null object\n",
      "mb_used         149396 non-null float64\n",
      "session_date    149396 non-null object\n",
      "user_id         149396 non-null int64\n",
      "dtypes: float64(1), int64(2), object(2)\n",
      "memory usage: 5.7+ MB\n"
     ]
    }
   ],
   "source": [
    "inet.info()"
   ]
  },
  {
   "cell_type": "code",
   "execution_count": 12,
   "metadata": {
    "id": "596tL0EmK3w9",
    "outputId": "278fa1f4-12da-4ea2-ac86-288a2b61887d"
   },
   "outputs": [
    {
     "name": "stdout",
     "output_type": "stream",
     "text": [
      "<class 'pandas.core.frame.DataFrame'>\n",
      "RangeIndex: 2 entries, 0 to 1\n",
      "Data columns (total 8 columns):\n",
      "messages_included        2 non-null int64\n",
      "mb_per_month_included    2 non-null int64\n",
      "minutes_included         2 non-null int64\n",
      "rub_monthly_fee          2 non-null int64\n",
      "rub_per_gb               2 non-null int64\n",
      "rub_per_message          2 non-null int64\n",
      "rub_per_minute           2 non-null int64\n",
      "tariff_name              2 non-null object\n",
      "dtypes: int64(7), object(1)\n",
      "memory usage: 256.0+ bytes\n"
     ]
    }
   ],
   "source": [
    "rate.info()"
   ]
  },
  {
   "cell_type": "markdown",
   "metadata": {
    "id": "WuNwgbYeK3w9"
   },
   "source": [
    "# Вывод\n",
    "После прочтения всех таблиц мы видим:\n",
    "- пустые значения. Нужно изучить их и, что-то с ними сделать.\n",
    "- время и дату. Перевести в правильный формат если это необходимо.\n",
    "- и есть странный столбец **\"Unnamed: 0\"** в датасете **inet**. Мое предположение, что это дублирование индексов.\n",
    "- По типам данных нужно заменить время и дату"
   ]
  },
  {
   "cell_type": "markdown",
   "metadata": {
    "id": "7Cfi6AJDK3w-"
   },
   "source": [
    "## Пердобработка данных."
   ]
  },
  {
   "cell_type": "markdown",
   "metadata": {
    "id": "X1Ru9eolK3w-"
   },
   "source": [
    "### Пропуски"
   ]
  },
  {
   "cell_type": "code",
   "execution_count": 13,
   "metadata": {
    "id": "f3_3mVwAK3w-",
    "outputId": "620060ea-645f-48af-94c9-52160f46c935",
    "scrolled": true
   },
   "outputs": [
    {
     "data": {
      "text/plain": [
       "user_id       0.000\n",
       "age           0.000\n",
       "churn_date    0.924\n",
       "city          0.000\n",
       "first_name    0.000\n",
       "last_name     0.000\n",
       "reg_date      0.000\n",
       "tariff        0.000\n",
       "dtype: float64"
      ]
     },
     "execution_count": 13,
     "metadata": {},
     "output_type": "execute_result"
    }
   ],
   "source": [
    "user.isna().mean()"
   ]
  },
  {
   "cell_type": "markdown",
   "metadata": {
    "id": "L0I15cvuK3w-"
   },
   "source": [
    "В таблице \"user\" 92% данных имеют пропуски. В описании сказано, что если есть пропуск то на момент выгрузки даных тариф еще действовал. Заменим тип данных и пропуски на последнюю дату, что будет говорить о том, что тарифом еще пользуются."
   ]
  },
  {
   "cell_type": "code",
   "execution_count": 14,
   "metadata": {
    "id": "cCgNyr-nK3w-",
    "outputId": "cb958c32-284f-491d-f8b8-bc1fab42fbf4"
   },
   "outputs": [
    {
     "data": {
      "text/html": [
       "<div>\n",
       "<style scoped>\n",
       "    .dataframe tbody tr th:only-of-type {\n",
       "        vertical-align: middle;\n",
       "    }\n",
       "\n",
       "    .dataframe tbody tr th {\n",
       "        vertical-align: top;\n",
       "    }\n",
       "\n",
       "    .dataframe thead th {\n",
       "        text-align: right;\n",
       "    }\n",
       "</style>\n",
       "<table border=\"1\" class=\"dataframe\">\n",
       "  <thead>\n",
       "    <tr style=\"text-align: right;\">\n",
       "      <th></th>\n",
       "      <th>user_id</th>\n",
       "      <th>age</th>\n",
       "      <th>churn_date</th>\n",
       "      <th>city</th>\n",
       "      <th>first_name</th>\n",
       "      <th>last_name</th>\n",
       "      <th>reg_date</th>\n",
       "      <th>tariff</th>\n",
       "    </tr>\n",
       "  </thead>\n",
       "  <tbody>\n",
       "    <tr>\n",
       "      <td>495</td>\n",
       "      <td>1495</td>\n",
       "      <td>65</td>\n",
       "      <td>NaN</td>\n",
       "      <td>Иркутск</td>\n",
       "      <td>Авксентий</td>\n",
       "      <td>Фокин</td>\n",
       "      <td>2018-08-28</td>\n",
       "      <td>ultra</td>\n",
       "    </tr>\n",
       "    <tr>\n",
       "      <td>496</td>\n",
       "      <td>1496</td>\n",
       "      <td>36</td>\n",
       "      <td>NaN</td>\n",
       "      <td>Вологда</td>\n",
       "      <td>Трифон</td>\n",
       "      <td>Блохин</td>\n",
       "      <td>2018-01-27</td>\n",
       "      <td>smart</td>\n",
       "    </tr>\n",
       "    <tr>\n",
       "      <td>497</td>\n",
       "      <td>1497</td>\n",
       "      <td>32</td>\n",
       "      <td>NaN</td>\n",
       "      <td>Челябинск</td>\n",
       "      <td>Каролина</td>\n",
       "      <td>Агеева</td>\n",
       "      <td>2018-10-09</td>\n",
       "      <td>smart</td>\n",
       "    </tr>\n",
       "    <tr>\n",
       "      <td>498</td>\n",
       "      <td>1498</td>\n",
       "      <td>68</td>\n",
       "      <td>2018-10-25</td>\n",
       "      <td>Владикавказ</td>\n",
       "      <td>Всеволод</td>\n",
       "      <td>Акимчин</td>\n",
       "      <td>2018-07-19</td>\n",
       "      <td>smart</td>\n",
       "    </tr>\n",
       "    <tr>\n",
       "      <td>499</td>\n",
       "      <td>1499</td>\n",
       "      <td>35</td>\n",
       "      <td>NaN</td>\n",
       "      <td>Пермь</td>\n",
       "      <td>Гектор</td>\n",
       "      <td>Корнилов</td>\n",
       "      <td>2018-09-27</td>\n",
       "      <td>smart</td>\n",
       "    </tr>\n",
       "  </tbody>\n",
       "</table>\n",
       "</div>"
      ],
      "text/plain": [
       "     user_id  age  churn_date         city first_name last_name    reg_date  \\\n",
       "495     1495   65         NaN      Иркутск  Авксентий     Фокин  2018-08-28   \n",
       "496     1496   36         NaN      Вологда     Трифон    Блохин  2018-01-27   \n",
       "497     1497   32         NaN    Челябинск   Каролина    Агеева  2018-10-09   \n",
       "498     1498   68  2018-10-25  Владикавказ   Всеволод   Акимчин  2018-07-19   \n",
       "499     1499   35         NaN        Пермь     Гектор  Корнилов  2018-09-27   \n",
       "\n",
       "    tariff  \n",
       "495  ultra  \n",
       "496  smart  \n",
       "497  smart  \n",
       "498  smart  \n",
       "499  smart  "
      ]
     },
     "execution_count": 14,
     "metadata": {},
     "output_type": "execute_result"
    }
   ],
   "source": [
    "user.tail()"
   ]
  },
  {
   "cell_type": "code",
   "execution_count": 15,
   "metadata": {
    "id": "Z803YrTOK3w_",
    "outputId": "71f02bec-eb61-4404-c20b-1fb0f35e5eb5"
   },
   "outputs": [
    {
     "data": {
      "text/plain": [
       "0"
      ]
     },
     "execution_count": 15,
     "metadata": {},
     "output_type": "execute_result"
    }
   ],
   "source": [
    "user.duplicated().sum()"
   ]
  },
  {
   "cell_type": "code",
   "execution_count": 16,
   "metadata": {
    "id": "Zd4ETXgTK3w_",
    "outputId": "98fa5d44-82bd-4633-ba28-8ea25ee3ed87"
   },
   "outputs": [
    {
     "data": {
      "text/plain": [
       "0"
      ]
     },
     "execution_count": 16,
     "metadata": {},
     "output_type": "execute_result"
    }
   ],
   "source": [
    "call.duplicated().sum()"
   ]
  },
  {
   "cell_type": "code",
   "execution_count": 17,
   "metadata": {
    "id": "87fCP9MEK3w_",
    "outputId": "bef4cb1c-fe83-465e-a399-c21990684887"
   },
   "outputs": [
    {
     "data": {
      "text/plain": [
       "0"
      ]
     },
     "execution_count": 17,
     "metadata": {},
     "output_type": "execute_result"
    }
   ],
   "source": [
    "mess.duplicated().sum()"
   ]
  },
  {
   "cell_type": "code",
   "execution_count": 18,
   "metadata": {
    "id": "eDRqoUB1K3w_",
    "outputId": "76521141-0f3d-4b4b-d9cd-ffb2a1799a6c"
   },
   "outputs": [
    {
     "data": {
      "text/plain": [
       "0"
      ]
     },
     "execution_count": 18,
     "metadata": {},
     "output_type": "execute_result"
    }
   ],
   "source": [
    "inet.duplicated().sum()"
   ]
  },
  {
   "cell_type": "code",
   "execution_count": 19,
   "metadata": {
    "id": "YyWzPmO9K3w_",
    "outputId": "83d345af-1642-4659-a8d5-d081bca8d315"
   },
   "outputs": [
    {
     "data": {
      "text/plain": [
       "0"
      ]
     },
     "execution_count": 19,
     "metadata": {},
     "output_type": "execute_result"
    }
   ],
   "source": [
    "rate.duplicated().sum()"
   ]
  },
  {
   "cell_type": "code",
   "execution_count": 20,
   "metadata": {
    "id": "XCqkjWa5K3xA"
   },
   "outputs": [],
   "source": [
    "def data(df, table):\n",
    "    df[table] = pd.to_datetime(df[table], format='%Y-%m-%dT%H:%M:%S')"
   ]
  },
  {
   "cell_type": "code",
   "execution_count": 21,
   "metadata": {
    "id": "GZezcY8SK3xA"
   },
   "outputs": [],
   "source": [
    "data(user, 'churn_date')\n",
    "data(user, 'reg_date')"
   ]
  },
  {
   "cell_type": "code",
   "execution_count": 22,
   "metadata": {
    "id": "11Wyv-i4K3xA"
   },
   "outputs": [],
   "source": [
    "user['churn_date'] = user['churn_date'].fillna(user.churn_date.max())"
   ]
  },
  {
   "cell_type": "markdown",
   "metadata": {
    "id": "NeYf6AsOK3xA"
   },
   "source": [
    "После проверки на дубликаты, уникальные значения в столбцах и пустые значения, меняем тип данных в столбцах с датой, так как в других столбцах пролем нет."
   ]
  },
  {
   "cell_type": "code",
   "execution_count": 23,
   "metadata": {
    "id": "KrqZ7GyyK3xA"
   },
   "outputs": [],
   "source": [
    "data(call, 'call_date')\n",
    "data(mess, 'message_date')\n",
    "data(inet, 'session_date')"
   ]
  },
  {
   "cell_type": "markdown",
   "metadata": {
    "id": "CTVFCfBTK3xB"
   },
   "source": [
    "Теперь о странном столбце \"Unnamed: 0\" в таблице \"inet\". Это дублирование индексов. Можно конечно его переименовать, малоли пригодиться, а можно удалить так как потом можно будет его снова сделать если надо. Удалим."
   ]
  },
  {
   "cell_type": "code",
   "execution_count": 24,
   "metadata": {
    "id": "Vfo5-tdXK3xB"
   },
   "outputs": [],
   "source": [
    "inet = inet.drop('Unnamed: 0', axis=1)"
   ]
  },
  {
   "cell_type": "markdown",
   "metadata": {
    "id": "NwH6t_YTK3xB"
   },
   "source": [
    "**Компания всегда округляет вверх значения минут и мегабайтов. Если пользователь проговорил всего 1 секунду, в тарифе засчитывается целая минута.**. \n",
    "\n",
    "Округлим столбцы минут и мегaбайтов до большего целого, а раз у нас целые, тогда избавимся от точки и изменим тип данных."
   ]
  },
  {
   "cell_type": "code",
   "execution_count": 25,
   "metadata": {
    "id": "W_LR8VbLK3xB"
   },
   "outputs": [],
   "source": [
    "call['duration'] = np.ceil(call.duration)"
   ]
  },
  {
   "cell_type": "code",
   "execution_count": 26,
   "metadata": {
    "id": "KRNU2q_sK3xB"
   },
   "outputs": [],
   "source": [
    "call['duration'] = call.duration.astype('int')"
   ]
  },
  {
   "cell_type": "code",
   "execution_count": 27,
   "metadata": {
    "id": "nGTCMlbZK3xB",
    "outputId": "8011dda9-4e6d-4cc4-c86e-59b66f3cdd8d",
    "scrolled": false
   },
   "outputs": [
    {
     "data": {
      "text/html": [
       "<div>\n",
       "<style scoped>\n",
       "    .dataframe tbody tr th:only-of-type {\n",
       "        vertical-align: middle;\n",
       "    }\n",
       "\n",
       "    .dataframe tbody tr th {\n",
       "        vertical-align: top;\n",
       "    }\n",
       "\n",
       "    .dataframe thead th {\n",
       "        text-align: right;\n",
       "    }\n",
       "</style>\n",
       "<table border=\"1\" class=\"dataframe\">\n",
       "  <thead>\n",
       "    <tr style=\"text-align: right;\">\n",
       "      <th></th>\n",
       "      <th>id</th>\n",
       "      <th>call_date</th>\n",
       "      <th>duration</th>\n",
       "      <th>user_id</th>\n",
       "    </tr>\n",
       "  </thead>\n",
       "  <tbody>\n",
       "    <tr>\n",
       "      <td>0</td>\n",
       "      <td>1000_0</td>\n",
       "      <td>2018-07-25</td>\n",
       "      <td>0</td>\n",
       "      <td>1000</td>\n",
       "    </tr>\n",
       "    <tr>\n",
       "      <td>1</td>\n",
       "      <td>1000_1</td>\n",
       "      <td>2018-08-17</td>\n",
       "      <td>0</td>\n",
       "      <td>1000</td>\n",
       "    </tr>\n",
       "    <tr>\n",
       "      <td>2</td>\n",
       "      <td>1000_2</td>\n",
       "      <td>2018-06-11</td>\n",
       "      <td>3</td>\n",
       "      <td>1000</td>\n",
       "    </tr>\n",
       "    <tr>\n",
       "      <td>3</td>\n",
       "      <td>1000_3</td>\n",
       "      <td>2018-09-21</td>\n",
       "      <td>14</td>\n",
       "      <td>1000</td>\n",
       "    </tr>\n",
       "    <tr>\n",
       "      <td>4</td>\n",
       "      <td>1000_4</td>\n",
       "      <td>2018-12-15</td>\n",
       "      <td>6</td>\n",
       "      <td>1000</td>\n",
       "    </tr>\n",
       "  </tbody>\n",
       "</table>\n",
       "</div>"
      ],
      "text/plain": [
       "       id  call_date  duration  user_id\n",
       "0  1000_0 2018-07-25         0     1000\n",
       "1  1000_1 2018-08-17         0     1000\n",
       "2  1000_2 2018-06-11         3     1000\n",
       "3  1000_3 2018-09-21        14     1000\n",
       "4  1000_4 2018-12-15         6     1000"
      ]
     },
     "execution_count": 27,
     "metadata": {},
     "output_type": "execute_result"
    }
   ],
   "source": [
    "call.head()"
   ]
  },
  {
   "cell_type": "code",
   "execution_count": 28,
   "metadata": {
    "id": "KuIeiGJaK3xC"
   },
   "outputs": [],
   "source": [
    "inet['mb_used'] = np.ceil(inet.mb_used)"
   ]
  },
  {
   "cell_type": "code",
   "execution_count": 29,
   "metadata": {
    "id": "7QB2aR2JK3xC"
   },
   "outputs": [],
   "source": [
    "inet['mb_used'] = inet.mb_used.astype('int')"
   ]
  },
  {
   "cell_type": "code",
   "execution_count": 30,
   "metadata": {
    "id": "-4h-Ntj9K3xC",
    "outputId": "dbcb0a64-c576-4b96-f18b-89183b5b3b2f",
    "scrolled": true
   },
   "outputs": [
    {
     "data": {
      "text/html": [
       "<div>\n",
       "<style scoped>\n",
       "    .dataframe tbody tr th:only-of-type {\n",
       "        vertical-align: middle;\n",
       "    }\n",
       "\n",
       "    .dataframe tbody tr th {\n",
       "        vertical-align: top;\n",
       "    }\n",
       "\n",
       "    .dataframe thead th {\n",
       "        text-align: right;\n",
       "    }\n",
       "</style>\n",
       "<table border=\"1\" class=\"dataframe\">\n",
       "  <thead>\n",
       "    <tr style=\"text-align: right;\">\n",
       "      <th></th>\n",
       "      <th>id</th>\n",
       "      <th>mb_used</th>\n",
       "      <th>session_date</th>\n",
       "      <th>user_id</th>\n",
       "    </tr>\n",
       "  </thead>\n",
       "  <tbody>\n",
       "    <tr>\n",
       "      <td>0</td>\n",
       "      <td>1000_0</td>\n",
       "      <td>113</td>\n",
       "      <td>2018-11-25</td>\n",
       "      <td>1000</td>\n",
       "    </tr>\n",
       "    <tr>\n",
       "      <td>1</td>\n",
       "      <td>1000_1</td>\n",
       "      <td>1053</td>\n",
       "      <td>2018-09-07</td>\n",
       "      <td>1000</td>\n",
       "    </tr>\n",
       "    <tr>\n",
       "      <td>2</td>\n",
       "      <td>1000_2</td>\n",
       "      <td>1198</td>\n",
       "      <td>2018-06-25</td>\n",
       "      <td>1000</td>\n",
       "    </tr>\n",
       "    <tr>\n",
       "      <td>3</td>\n",
       "      <td>1000_3</td>\n",
       "      <td>551</td>\n",
       "      <td>2018-08-22</td>\n",
       "      <td>1000</td>\n",
       "    </tr>\n",
       "    <tr>\n",
       "      <td>4</td>\n",
       "      <td>1000_4</td>\n",
       "      <td>303</td>\n",
       "      <td>2018-09-24</td>\n",
       "      <td>1000</td>\n",
       "    </tr>\n",
       "  </tbody>\n",
       "</table>\n",
       "</div>"
      ],
      "text/plain": [
       "       id  mb_used session_date  user_id\n",
       "0  1000_0      113   2018-11-25     1000\n",
       "1  1000_1     1053   2018-09-07     1000\n",
       "2  1000_2     1198   2018-06-25     1000\n",
       "3  1000_3      551   2018-08-22     1000\n",
       "4  1000_4      303   2018-09-24     1000"
      ]
     },
     "execution_count": 30,
     "metadata": {},
     "output_type": "execute_result"
    }
   ],
   "source": [
    "inet.head()"
   ]
  },
  {
   "cell_type": "code",
   "execution_count": 31,
   "metadata": {
    "id": "2mMc-rOoK3xC",
    "outputId": "3341beae-8d14-4b6c-8655-d17a97f27852"
   },
   "outputs": [
    {
     "data": {
      "text/html": [
       "<div>\n",
       "<style scoped>\n",
       "    .dataframe tbody tr th:only-of-type {\n",
       "        vertical-align: middle;\n",
       "    }\n",
       "\n",
       "    .dataframe tbody tr th {\n",
       "        vertical-align: top;\n",
       "    }\n",
       "\n",
       "    .dataframe thead th {\n",
       "        text-align: right;\n",
       "    }\n",
       "</style>\n",
       "<table border=\"1\" class=\"dataframe\">\n",
       "  <thead>\n",
       "    <tr style=\"text-align: right;\">\n",
       "      <th></th>\n",
       "      <th>messages_included</th>\n",
       "      <th>mb_per_month_included</th>\n",
       "      <th>minutes_included</th>\n",
       "      <th>rub_monthly_fee</th>\n",
       "      <th>rub_per_gb</th>\n",
       "      <th>rub_per_message</th>\n",
       "      <th>rub_per_minute</th>\n",
       "      <th>tariff_name</th>\n",
       "    </tr>\n",
       "  </thead>\n",
       "  <tbody>\n",
       "    <tr>\n",
       "      <td>0</td>\n",
       "      <td>50</td>\n",
       "      <td>15360</td>\n",
       "      <td>500</td>\n",
       "      <td>550</td>\n",
       "      <td>200</td>\n",
       "      <td>3</td>\n",
       "      <td>3</td>\n",
       "      <td>smart</td>\n",
       "    </tr>\n",
       "    <tr>\n",
       "      <td>1</td>\n",
       "      <td>1000</td>\n",
       "      <td>30720</td>\n",
       "      <td>3000</td>\n",
       "      <td>1950</td>\n",
       "      <td>150</td>\n",
       "      <td>1</td>\n",
       "      <td>1</td>\n",
       "      <td>ultra</td>\n",
       "    </tr>\n",
       "  </tbody>\n",
       "</table>\n",
       "</div>"
      ],
      "text/plain": [
       "   messages_included  mb_per_month_included  minutes_included  \\\n",
       "0                 50                  15360               500   \n",
       "1               1000                  30720              3000   \n",
       "\n",
       "   rub_monthly_fee  rub_per_gb  rub_per_message  rub_per_minute tariff_name  \n",
       "0              550         200                3               3       smart  \n",
       "1             1950         150                1               1       ultra  "
      ]
     },
     "execution_count": 31,
     "metadata": {},
     "output_type": "execute_result"
    }
   ],
   "source": [
    "rate"
   ]
  },
  {
   "cell_type": "markdown",
   "metadata": {
    "id": "I-zsfBSnK3xC"
   },
   "source": [
    "# Вывод \n",
    "- Избавились от пропущенных значений заменим их на максимальное т.к. тарифом еще пользуются.\n",
    "- Заменил тип данных в столбцах с датой.\n",
    "- Удалил столбец \"Unnamed: 0\" в таблице \"inet\" так как он там пока не нужен.\n",
    "- По поводу таблицы \"call\" и столбца \"duration\", в нем есть 0. Этот столбец показывает длительность в минутах и это могут быть пропущенные звонки, оставляю до лучших времен.\n",
    "- Округлили значения минут и мегабайтов, т.к. компания округляет их для своей выгоды и поменяли тип данных на int."
   ]
  },
  {
   "cell_type": "markdown",
   "metadata": {
    "id": "9yCGePvMK3xE"
   },
   "source": [
    "#### Количество сделанных звонков и израсходованных минут разговора по месяцам;"
   ]
  },
  {
   "cell_type": "markdown",
   "metadata": {
    "id": "b7KEG7iwK3xF"
   },
   "source": [
    "Сделаем столбец по месяцам."
   ]
  },
  {
   "cell_type": "code",
   "execution_count": 32,
   "metadata": {
    "id": "yNylCqYPK3xF"
   },
   "outputs": [],
   "source": [
    "call['month'] = pd.DatetimeIndex(call['call_date']).month"
   ]
  },
  {
   "cell_type": "code",
   "execution_count": 33,
   "metadata": {
    "id": "13HGiMk8K3xF",
    "scrolled": false
   },
   "outputs": [],
   "source": [
    "call_stat_month = call.pivot_table(index=['user_id', 'month'], values='duration', aggfunc=['count',\n",
    "                                                                                           'sum'])\n",
    "call_stat_month.columns = ['call_count', 'minutes_spent']"
   ]
  },
  {
   "cell_type": "code",
   "execution_count": 34,
   "metadata": {
    "id": "-AbHqPa5K3xF"
   },
   "outputs": [],
   "source": [
    "call_stat_month = call_stat_month.reset_index().merge(user[['user_id', 'tariff']], on='user_id',\n",
    "                                                      how='inner')"
   ]
  },
  {
   "cell_type": "code",
   "execution_count": 35,
   "metadata": {
    "id": "1F72M1eFK3xF",
    "outputId": "1603246a-b44f-44f5-b7d3-cc3a3cd2317c"
   },
   "outputs": [
    {
     "data": {
      "text/html": [
       "<div>\n",
       "<style scoped>\n",
       "    .dataframe tbody tr th:only-of-type {\n",
       "        vertical-align: middle;\n",
       "    }\n",
       "\n",
       "    .dataframe tbody tr th {\n",
       "        vertical-align: top;\n",
       "    }\n",
       "\n",
       "    .dataframe thead th {\n",
       "        text-align: right;\n",
       "    }\n",
       "</style>\n",
       "<table border=\"1\" class=\"dataframe\">\n",
       "  <thead>\n",
       "    <tr style=\"text-align: right;\">\n",
       "      <th></th>\n",
       "      <th>user_id</th>\n",
       "      <th>month</th>\n",
       "      <th>call_count</th>\n",
       "      <th>minutes_spent</th>\n",
       "      <th>tariff</th>\n",
       "    </tr>\n",
       "  </thead>\n",
       "  <tbody>\n",
       "    <tr>\n",
       "      <td>0</td>\n",
       "      <td>1000</td>\n",
       "      <td>5</td>\n",
       "      <td>22</td>\n",
       "      <td>159</td>\n",
       "      <td>ultra</td>\n",
       "    </tr>\n",
       "    <tr>\n",
       "      <td>1</td>\n",
       "      <td>1000</td>\n",
       "      <td>6</td>\n",
       "      <td>43</td>\n",
       "      <td>172</td>\n",
       "      <td>ultra</td>\n",
       "    </tr>\n",
       "    <tr>\n",
       "      <td>2</td>\n",
       "      <td>1000</td>\n",
       "      <td>7</td>\n",
       "      <td>47</td>\n",
       "      <td>340</td>\n",
       "      <td>ultra</td>\n",
       "    </tr>\n",
       "    <tr>\n",
       "      <td>3</td>\n",
       "      <td>1000</td>\n",
       "      <td>8</td>\n",
       "      <td>52</td>\n",
       "      <td>408</td>\n",
       "      <td>ultra</td>\n",
       "    </tr>\n",
       "    <tr>\n",
       "      <td>4</td>\n",
       "      <td>1000</td>\n",
       "      <td>9</td>\n",
       "      <td>58</td>\n",
       "      <td>466</td>\n",
       "      <td>ultra</td>\n",
       "    </tr>\n",
       "    <tr>\n",
       "      <td>...</td>\n",
       "      <td>...</td>\n",
       "      <td>...</td>\n",
       "      <td>...</td>\n",
       "      <td>...</td>\n",
       "      <td>...</td>\n",
       "    </tr>\n",
       "    <tr>\n",
       "      <td>3169</td>\n",
       "      <td>1498</td>\n",
       "      <td>10</td>\n",
       "      <td>41</td>\n",
       "      <td>247</td>\n",
       "      <td>smart</td>\n",
       "    </tr>\n",
       "    <tr>\n",
       "      <td>3170</td>\n",
       "      <td>1499</td>\n",
       "      <td>9</td>\n",
       "      <td>9</td>\n",
       "      <td>70</td>\n",
       "      <td>smart</td>\n",
       "    </tr>\n",
       "    <tr>\n",
       "      <td>3171</td>\n",
       "      <td>1499</td>\n",
       "      <td>10</td>\n",
       "      <td>68</td>\n",
       "      <td>449</td>\n",
       "      <td>smart</td>\n",
       "    </tr>\n",
       "    <tr>\n",
       "      <td>3172</td>\n",
       "      <td>1499</td>\n",
       "      <td>11</td>\n",
       "      <td>74</td>\n",
       "      <td>612</td>\n",
       "      <td>smart</td>\n",
       "    </tr>\n",
       "    <tr>\n",
       "      <td>3173</td>\n",
       "      <td>1499</td>\n",
       "      <td>12</td>\n",
       "      <td>69</td>\n",
       "      <td>492</td>\n",
       "      <td>smart</td>\n",
       "    </tr>\n",
       "  </tbody>\n",
       "</table>\n",
       "<p>3174 rows × 5 columns</p>\n",
       "</div>"
      ],
      "text/plain": [
       "      user_id  month  call_count  minutes_spent tariff\n",
       "0        1000      5          22            159  ultra\n",
       "1        1000      6          43            172  ultra\n",
       "2        1000      7          47            340  ultra\n",
       "3        1000      8          52            408  ultra\n",
       "4        1000      9          58            466  ultra\n",
       "...       ...    ...         ...            ...    ...\n",
       "3169     1498     10          41            247  smart\n",
       "3170     1499      9           9             70  smart\n",
       "3171     1499     10          68            449  smart\n",
       "3172     1499     11          74            612  smart\n",
       "3173     1499     12          69            492  smart\n",
       "\n",
       "[3174 rows x 5 columns]"
      ]
     },
     "execution_count": 35,
     "metadata": {},
     "output_type": "execute_result"
    }
   ],
   "source": [
    "call_stat_month"
   ]
  },
  {
   "cell_type": "markdown",
   "metadata": {
    "id": "7HnelJzZK3xG"
   },
   "source": [
    "#### Количество отправленных сообщений по месяцам;"
   ]
  },
  {
   "cell_type": "code",
   "execution_count": 36,
   "metadata": {
    "id": "bfJrLU7NK3xG"
   },
   "outputs": [],
   "source": [
    "mess['month'] = pd.DatetimeIndex(mess['message_date']).month\n",
    "mess['index'] = mess.index"
   ]
  },
  {
   "cell_type": "code",
   "execution_count": 37,
   "metadata": {
    "id": "HoXuDuwaK3xG"
   },
   "outputs": [],
   "source": [
    "mess_stat_month = mess.pivot_table(index=['user_id', 'month'], values='index', aggfunc='count')\n",
    "mess_stat_month.columns = ['mess_count']\n",
    "mess_stat_month = mess_stat_month.reset_index().merge(user[['user_id', 'tariff']], on='user_id')"
   ]
  },
  {
   "cell_type": "code",
   "execution_count": 38,
   "metadata": {
    "id": "3wxZM2l6K3xH",
    "outputId": "2c301406-3723-4fd3-a2f8-d7d0e06cc22f"
   },
   "outputs": [
    {
     "data": {
      "text/html": [
       "<div>\n",
       "<style scoped>\n",
       "    .dataframe tbody tr th:only-of-type {\n",
       "        vertical-align: middle;\n",
       "    }\n",
       "\n",
       "    .dataframe tbody tr th {\n",
       "        vertical-align: top;\n",
       "    }\n",
       "\n",
       "    .dataframe thead th {\n",
       "        text-align: right;\n",
       "    }\n",
       "</style>\n",
       "<table border=\"1\" class=\"dataframe\">\n",
       "  <thead>\n",
       "    <tr style=\"text-align: right;\">\n",
       "      <th></th>\n",
       "      <th>user_id</th>\n",
       "      <th>month</th>\n",
       "      <th>mess_count</th>\n",
       "      <th>tariff</th>\n",
       "    </tr>\n",
       "  </thead>\n",
       "  <tbody>\n",
       "    <tr>\n",
       "      <td>0</td>\n",
       "      <td>1000</td>\n",
       "      <td>5</td>\n",
       "      <td>22</td>\n",
       "      <td>ultra</td>\n",
       "    </tr>\n",
       "    <tr>\n",
       "      <td>1</td>\n",
       "      <td>1000</td>\n",
       "      <td>6</td>\n",
       "      <td>60</td>\n",
       "      <td>ultra</td>\n",
       "    </tr>\n",
       "    <tr>\n",
       "      <td>2</td>\n",
       "      <td>1000</td>\n",
       "      <td>7</td>\n",
       "      <td>75</td>\n",
       "      <td>ultra</td>\n",
       "    </tr>\n",
       "    <tr>\n",
       "      <td>3</td>\n",
       "      <td>1000</td>\n",
       "      <td>8</td>\n",
       "      <td>81</td>\n",
       "      <td>ultra</td>\n",
       "    </tr>\n",
       "    <tr>\n",
       "      <td>4</td>\n",
       "      <td>1000</td>\n",
       "      <td>9</td>\n",
       "      <td>57</td>\n",
       "      <td>ultra</td>\n",
       "    </tr>\n",
       "    <tr>\n",
       "      <td>...</td>\n",
       "      <td>...</td>\n",
       "      <td>...</td>\n",
       "      <td>...</td>\n",
       "      <td>...</td>\n",
       "    </tr>\n",
       "    <tr>\n",
       "      <td>2712</td>\n",
       "      <td>1498</td>\n",
       "      <td>10</td>\n",
       "      <td>42</td>\n",
       "      <td>smart</td>\n",
       "    </tr>\n",
       "    <tr>\n",
       "      <td>2713</td>\n",
       "      <td>1499</td>\n",
       "      <td>9</td>\n",
       "      <td>11</td>\n",
       "      <td>smart</td>\n",
       "    </tr>\n",
       "    <tr>\n",
       "      <td>2714</td>\n",
       "      <td>1499</td>\n",
       "      <td>10</td>\n",
       "      <td>48</td>\n",
       "      <td>smart</td>\n",
       "    </tr>\n",
       "    <tr>\n",
       "      <td>2715</td>\n",
       "      <td>1499</td>\n",
       "      <td>11</td>\n",
       "      <td>59</td>\n",
       "      <td>smart</td>\n",
       "    </tr>\n",
       "    <tr>\n",
       "      <td>2716</td>\n",
       "      <td>1499</td>\n",
       "      <td>12</td>\n",
       "      <td>66</td>\n",
       "      <td>smart</td>\n",
       "    </tr>\n",
       "  </tbody>\n",
       "</table>\n",
       "<p>2717 rows × 4 columns</p>\n",
       "</div>"
      ],
      "text/plain": [
       "      user_id  month  mess_count tariff\n",
       "0        1000      5          22  ultra\n",
       "1        1000      6          60  ultra\n",
       "2        1000      7          75  ultra\n",
       "3        1000      8          81  ultra\n",
       "4        1000      9          57  ultra\n",
       "...       ...    ...         ...    ...\n",
       "2712     1498     10          42  smart\n",
       "2713     1499      9          11  smart\n",
       "2714     1499     10          48  smart\n",
       "2715     1499     11          59  smart\n",
       "2716     1499     12          66  smart\n",
       "\n",
       "[2717 rows x 4 columns]"
      ]
     },
     "execution_count": 38,
     "metadata": {},
     "output_type": "execute_result"
    }
   ],
   "source": [
    "mess_stat_month"
   ]
  },
  {
   "cell_type": "markdown",
   "metadata": {
    "id": "LkJKBdcDK3xH"
   },
   "source": [
    "#### Oбъем израсходованного интернет-трафика по месяцам;"
   ]
  },
  {
   "cell_type": "code",
   "execution_count": 39,
   "metadata": {
    "id": "5QzxX8xfK3xH"
   },
   "outputs": [],
   "source": [
    "inet['month'] = pd.DatetimeIndex(inet['session_date']).month"
   ]
  },
  {
   "cell_type": "code",
   "execution_count": 40,
   "metadata": {
    "id": "OMvCaoUUK3xH"
   },
   "outputs": [],
   "source": [
    "inet_stat_month = inet.pivot_table(index=['month', 'user_id'], values='mb_used', aggfunc='sum')\n",
    "inet_stat_month.columns = ['sum_mb']\n",
    "inet_stat_month = inet_stat_month.reset_index().merge(user[['user_id', 'tariff']], on='user_id')"
   ]
  },
  {
   "cell_type": "code",
   "execution_count": 41,
   "metadata": {
    "id": "coBXKkd7K3xH",
    "outputId": "7dce0d80-aaf4-4f1a-95c3-c7370c6f0120"
   },
   "outputs": [
    {
     "data": {
      "text/html": [
       "<div>\n",
       "<style scoped>\n",
       "    .dataframe tbody tr th:only-of-type {\n",
       "        vertical-align: middle;\n",
       "    }\n",
       "\n",
       "    .dataframe tbody tr th {\n",
       "        vertical-align: top;\n",
       "    }\n",
       "\n",
       "    .dataframe thead th {\n",
       "        text-align: right;\n",
       "    }\n",
       "</style>\n",
       "<table border=\"1\" class=\"dataframe\">\n",
       "  <thead>\n",
       "    <tr style=\"text-align: right;\">\n",
       "      <th></th>\n",
       "      <th>month</th>\n",
       "      <th>user_id</th>\n",
       "      <th>sum_mb</th>\n",
       "      <th>tariff</th>\n",
       "    </tr>\n",
       "  </thead>\n",
       "  <tbody>\n",
       "    <tr>\n",
       "      <td>0</td>\n",
       "      <td>1</td>\n",
       "      <td>1005</td>\n",
       "      <td>2730</td>\n",
       "      <td>smart</td>\n",
       "    </tr>\n",
       "    <tr>\n",
       "      <td>1</td>\n",
       "      <td>2</td>\n",
       "      <td>1005</td>\n",
       "      <td>7394</td>\n",
       "      <td>smart</td>\n",
       "    </tr>\n",
       "    <tr>\n",
       "      <td>2</td>\n",
       "      <td>3</td>\n",
       "      <td>1005</td>\n",
       "      <td>11117</td>\n",
       "      <td>smart</td>\n",
       "    </tr>\n",
       "    <tr>\n",
       "      <td>3</td>\n",
       "      <td>4</td>\n",
       "      <td>1005</td>\n",
       "      <td>9365</td>\n",
       "      <td>smart</td>\n",
       "    </tr>\n",
       "    <tr>\n",
       "      <td>4</td>\n",
       "      <td>5</td>\n",
       "      <td>1005</td>\n",
       "      <td>7877</td>\n",
       "      <td>smart</td>\n",
       "    </tr>\n",
       "    <tr>\n",
       "      <td>...</td>\n",
       "      <td>...</td>\n",
       "      <td>...</td>\n",
       "      <td>...</td>\n",
       "      <td>...</td>\n",
       "    </tr>\n",
       "    <tr>\n",
       "      <td>3198</td>\n",
       "      <td>12</td>\n",
       "      <td>1398</td>\n",
       "      <td>18690</td>\n",
       "      <td>smart</td>\n",
       "    </tr>\n",
       "    <tr>\n",
       "      <td>3199</td>\n",
       "      <td>12</td>\n",
       "      <td>1406</td>\n",
       "      <td>11446</td>\n",
       "      <td>smart</td>\n",
       "    </tr>\n",
       "    <tr>\n",
       "      <td>3200</td>\n",
       "      <td>12</td>\n",
       "      <td>1434</td>\n",
       "      <td>15373</td>\n",
       "      <td>smart</td>\n",
       "    </tr>\n",
       "    <tr>\n",
       "      <td>3201</td>\n",
       "      <td>12</td>\n",
       "      <td>1445</td>\n",
       "      <td>16690</td>\n",
       "      <td>smart</td>\n",
       "    </tr>\n",
       "    <tr>\n",
       "      <td>3202</td>\n",
       "      <td>12</td>\n",
       "      <td>1485</td>\n",
       "      <td>23447</td>\n",
       "      <td>ultra</td>\n",
       "    </tr>\n",
       "  </tbody>\n",
       "</table>\n",
       "<p>3203 rows × 4 columns</p>\n",
       "</div>"
      ],
      "text/plain": [
       "      month  user_id  sum_mb tariff\n",
       "0         1     1005    2730  smart\n",
       "1         2     1005    7394  smart\n",
       "2         3     1005   11117  smart\n",
       "3         4     1005    9365  smart\n",
       "4         5     1005    7877  smart\n",
       "...     ...      ...     ...    ...\n",
       "3198     12     1398   18690  smart\n",
       "3199     12     1406   11446  smart\n",
       "3200     12     1434   15373  smart\n",
       "3201     12     1445   16690  smart\n",
       "3202     12     1485   23447  ultra\n",
       "\n",
       "[3203 rows x 4 columns]"
      ]
     },
     "execution_count": 41,
     "metadata": {},
     "output_type": "execute_result"
    }
   ],
   "source": [
    "inet_stat_month"
   ]
  },
  {
   "cell_type": "markdown",
   "metadata": {
    "id": "9ID34IObK3xH"
   },
   "source": [
    "#### Помесячная выручка с каждого пользователя."
   ]
  },
  {
   "cell_type": "code",
   "execution_count": 42,
   "metadata": {
    "id": "5uSjZ3i2K3xI",
    "outputId": "617a0528-c73b-40ce-d331-8b00bff77da6",
    "scrolled": false
   },
   "outputs": [
    {
     "data": {
      "text/html": [
       "<div>\n",
       "<style scoped>\n",
       "    .dataframe tbody tr th:only-of-type {\n",
       "        vertical-align: middle;\n",
       "    }\n",
       "\n",
       "    .dataframe tbody tr th {\n",
       "        vertical-align: top;\n",
       "    }\n",
       "\n",
       "    .dataframe thead th {\n",
       "        text-align: right;\n",
       "    }\n",
       "</style>\n",
       "<table border=\"1\" class=\"dataframe\">\n",
       "  <thead>\n",
       "    <tr style=\"text-align: right;\">\n",
       "      <th></th>\n",
       "      <th>messages_included</th>\n",
       "      <th>mb_per_month_included</th>\n",
       "      <th>minutes_included</th>\n",
       "      <th>rub_monthly_fee</th>\n",
       "      <th>rub_per_gb</th>\n",
       "      <th>rub_per_message</th>\n",
       "      <th>rub_per_minute</th>\n",
       "      <th>tariff_name</th>\n",
       "    </tr>\n",
       "  </thead>\n",
       "  <tbody>\n",
       "    <tr>\n",
       "      <td>0</td>\n",
       "      <td>50</td>\n",
       "      <td>15360</td>\n",
       "      <td>500</td>\n",
       "      <td>550</td>\n",
       "      <td>200</td>\n",
       "      <td>3</td>\n",
       "      <td>3</td>\n",
       "      <td>smart</td>\n",
       "    </tr>\n",
       "    <tr>\n",
       "      <td>1</td>\n",
       "      <td>1000</td>\n",
       "      <td>30720</td>\n",
       "      <td>3000</td>\n",
       "      <td>1950</td>\n",
       "      <td>150</td>\n",
       "      <td>1</td>\n",
       "      <td>1</td>\n",
       "      <td>ultra</td>\n",
       "    </tr>\n",
       "  </tbody>\n",
       "</table>\n",
       "</div>"
      ],
      "text/plain": [
       "   messages_included  mb_per_month_included  minutes_included  \\\n",
       "0                 50                  15360               500   \n",
       "1               1000                  30720              3000   \n",
       "\n",
       "   rub_monthly_fee  rub_per_gb  rub_per_message  rub_per_minute tariff_name  \n",
       "0              550         200                3               3       smart  \n",
       "1             1950         150                1               1       ultra  "
      ]
     },
     "execution_count": 42,
     "metadata": {},
     "output_type": "execute_result"
    }
   ],
   "source": [
    "rate"
   ]
  },
  {
   "cell_type": "code",
   "execution_count": 43,
   "metadata": {
    "id": "ZHNjQ8jUK3xJ"
   },
   "outputs": [],
   "source": [
    "def revenue(df, table, tariff_value, over_value):\n",
    "    '''\n",
    "    Возвращает значение прибыли исходя из тарифного плана.\n",
    "    df - нужная нам таблица\n",
    "    table - нужный столбец со значениями\n",
    "    tariff_value - нужный столбец со значением тарифа\n",
    "    over_value - нужный столбец со значением тарифа сверх пакета\n",
    "    \n",
    "    '''\n",
    "    tariff = df['tariff']\n",
    "    min_spent = df[table]\n",
    "    \n",
    "    smart = rate[tariff_value][0]\n",
    "    ultra = rate[tariff_value][1]\n",
    "    \n",
    "    over_smart = rate[over_value][0]\n",
    "    over_ultra = rate[over_value][1]\n",
    "    \n",
    "    if tariff == 'smart':\n",
    "        x = smart - min_spent\n",
    "        if x < 0:\n",
    "            x = x * over_smart\n",
    "            x = abs(x)\n",
    "            return x\n",
    "        else:\n",
    "            x = 0\n",
    "            return x\n",
    "    else:\n",
    "        x = ultra - min_spent\n",
    "        if x < 0:\n",
    "            x = x * over_ultra\n",
    "            x = abs(x)\n",
    "            return x\n",
    "        else:\n",
    "            x = 0\n",
    "            return x"
   ]
  },
  {
   "cell_type": "code",
   "execution_count": 44,
   "metadata": {
    "colab": {
     "referenced_widgets": [
      "817858a7754a487da334fe9934c5ecd5"
     ]
    },
    "id": "6rjw0pVuK3xJ",
    "outputId": "54291067-0ce6-4936-868f-2ebe90245c16"
   },
   "outputs": [
    {
     "name": "stderr",
     "output_type": "stream",
     "text": [
      "Example Desc: 100%|██████████| 3174/3174 [00:00<00:00, 16691.41it/s]\n"
     ]
    }
   ],
   "source": [
    "call_stat_month['call_rub'] = call_stat_month.progress_apply(lambda x: revenue(x,\n",
    "                                                                               'minutes_spent',\n",
    "                                                                               'minutes_included',\n",
    "                                                                               'rub_per_minute'),\n",
    "                                                             axis=1)"
   ]
  },
  {
   "cell_type": "code",
   "execution_count": 45,
   "metadata": {
    "colab": {
     "referenced_widgets": [
      "dfedd03934a84f109448634e5f7c21b8"
     ]
    },
    "id": "x4rbaBdBK3xK",
    "outputId": "9dec56fd-2fc9-4dd1-af64-a432067017ac"
   },
   "outputs": [
    {
     "name": "stderr",
     "output_type": "stream",
     "text": [
      "Example Desc: 100%|██████████| 2717/2717 [00:00<00:00, 15732.51it/s]\n"
     ]
    }
   ],
   "source": [
    "mess_stat_month['mess_rub'] = mess_stat_month.progress_apply(lambda x: revenue(x,\n",
    "                                                                               'mess_count',\n",
    "                                                                               'messages_included',\n",
    "                                                                               'rub_per_message'),\n",
    "                                                             axis=1)"
   ]
  },
  {
   "cell_type": "code",
   "execution_count": 46,
   "metadata": {
    "id": "WxC0GGUtK3xK"
   },
   "outputs": [],
   "source": [
    "def inet_revenue(df):\n",
    "\n",
    "    tariff = df['tariff']\n",
    "    min_spent = df['sum_mb']\n",
    "    \n",
    "    smart = rate['mb_per_month_included'][0]\n",
    "    ultra = rate['mb_per_month_included'][1]\n",
    "    \n",
    "    over_smart = rate['rub_per_gb'][0]\n",
    "    over_ultra = rate['rub_per_gb'][1]\n",
    "    \n",
    "    if tariff == 'smart':\n",
    "        x = smart - min_spent\n",
    "        if x < 0:\n",
    "            x = abs(x) / 1024\n",
    "            x = x * over_smart\n",
    "            return x\n",
    "        else:\n",
    "            x = 0\n",
    "            return x\n",
    "    else:\n",
    "        x = ultra - min_spent\n",
    "        if x < 0:\n",
    "            x = abs(x) / 1024\n",
    "            x = x * over_ultra\n",
    "            return x\n",
    "        else:\n",
    "            x = 0\n",
    "            return x"
   ]
  },
  {
   "cell_type": "code",
   "execution_count": 47,
   "metadata": {
    "colab": {
     "referenced_widgets": [
      "b5fd5c806b6845b7ba2c2377e6955749"
     ]
    },
    "id": "oCjZrb3YK3xK",
    "outputId": "6a42c091-dd11-4203-c3f5-724680a08c9d",
    "scrolled": true
   },
   "outputs": [
    {
     "name": "stderr",
     "output_type": "stream",
     "text": [
      "Example Desc: 100%|██████████| 3203/3203 [00:00<00:00, 16759.38it/s]\n"
     ]
    }
   ],
   "source": [
    "inet_stat_month['inet_rub'] = inet_stat_month.progress_apply(inet_revenue, axis=1)"
   ]
  },
  {
   "cell_type": "markdown",
   "metadata": {
    "id": "1Kj0GutFK3xK"
   },
   "source": [
    "Соеденяю в общую таблицу"
   ]
  },
  {
   "cell_type": "code",
   "execution_count": 48,
   "metadata": {
    "id": "UHu4FJ73K3xK"
   },
   "outputs": [],
   "source": [
    "csm = call_stat_month.set_index(['user_id', 'month'])"
   ]
  },
  {
   "cell_type": "code",
   "execution_count": 49,
   "metadata": {
    "id": "G_pxmnkYK3xL"
   },
   "outputs": [],
   "source": [
    "msm = mess_stat_month.set_index(['user_id', 'month'])"
   ]
  },
  {
   "cell_type": "code",
   "execution_count": 50,
   "metadata": {
    "id": "yCm-ApAiK3xL"
   },
   "outputs": [],
   "source": [
    "ism = inet_stat_month.set_index(['user_id', 'month'])"
   ]
  },
  {
   "cell_type": "code",
   "execution_count": 51,
   "metadata": {
    "id": "-NG2-K-tK3xL"
   },
   "outputs": [],
   "source": [
    "final_table = pd.concat([csm,msm,ism], axis=1).reset_index()"
   ]
  },
  {
   "cell_type": "markdown",
   "metadata": {
    "id": "zYFv8n1uK3xL"
   },
   "source": [
    "В финальной таблице есть пропуски."
   ]
  },
  {
   "cell_type": "code",
   "execution_count": 52,
   "metadata": {
    "id": "NWzoQGf7K3xL",
    "outputId": "1ccd49b3-f613-4c28-bcae-20e57c127f52",
    "scrolled": true
   },
   "outputs": [
    {
     "data": {
      "text/plain": [
       "user_id            0\n",
       "month              0\n",
       "call_count        40\n",
       "minutes_spent     40\n",
       "tariff            40\n",
       "call_rub          40\n",
       "mess_count       497\n",
       "tariff           497\n",
       "mess_rub         497\n",
       "sum_mb            11\n",
       "tariff            11\n",
       "inet_rub          11\n",
       "dtype: int64"
      ]
     },
     "execution_count": 52,
     "metadata": {},
     "output_type": "execute_result"
    }
   ],
   "source": [
    "final_table.isna().sum()"
   ]
  },
  {
   "cell_type": "markdown",
   "metadata": {
    "id": "_TNPAaCAK3xM"
   },
   "source": [
    "Видно, что пропуски есть в значениях и в тарифах. Мы сгруппировали пользвателей по месяцам. Там где NaN это означает, что человек не пользовался услугами к примеру не отправлял смс, но пользовался звонками и интернетом. По этому значения заменим на 0,чтобы сделать подсчет общей прибыли, а там где тариф добавим столбец с тарифом и удалим старые."
   ]
  },
  {
   "cell_type": "code",
   "execution_count": 53,
   "metadata": {
    "id": "0sEd0bB_K3xM",
    "scrolled": false
   },
   "outputs": [],
   "source": [
    "final_table.columns = ['user_id', 'month', 'call_count', 'minutes_spent', 'call_tariff', 'call_rub',\n",
    "       'mess_count', 'mess_tariff', 'mess_rub', 'sum_mb', 'inet_tariff', 'inet_rub']"
   ]
  },
  {
   "cell_type": "code",
   "execution_count": 54,
   "metadata": {
    "id": "MHP1o8yhK3xM"
   },
   "outputs": [],
   "source": [
    "final_table = final_table.reset_index().merge(user[['user_id', 'tariff']], on='user_id')"
   ]
  },
  {
   "cell_type": "code",
   "execution_count": 55,
   "metadata": {
    "id": "8P67XzKCK3xM"
   },
   "outputs": [],
   "source": [
    "final_table = final_table.drop(['index', 'call_tariff', 'mess_tariff', 'inet_tariff'], axis=1)"
   ]
  },
  {
   "cell_type": "code",
   "execution_count": 56,
   "metadata": {
    "id": "JaaURFw0K3xM"
   },
   "outputs": [],
   "source": [
    "columns = ['call_count', 'minutes_spent', 'call_rub', 'mess_count', 'mess_rub', 'sum_mb', 'inet_rub']\n",
    "final_table[columns] = final_table[columns].fillna(0)"
   ]
  },
  {
   "cell_type": "code",
   "execution_count": 57,
   "metadata": {
    "id": "lcIuDBzuK3xN",
    "outputId": "be7c13a2-44cd-4b3d-c17b-91495069adbf"
   },
   "outputs": [
    {
     "data": {
      "text/plain": [
       "user_id          0\n",
       "month            0\n",
       "call_count       0\n",
       "minutes_spent    0\n",
       "call_rub         0\n",
       "mess_count       0\n",
       "mess_rub         0\n",
       "sum_mb           0\n",
       "inet_rub         0\n",
       "tariff           0\n",
       "dtype: int64"
      ]
     },
     "execution_count": 57,
     "metadata": {},
     "output_type": "execute_result"
    }
   ],
   "source": [
    "final_table.isna().sum()"
   ]
  },
  {
   "cell_type": "markdown",
   "metadata": {
    "id": "Oz1kP_FuK3xO"
   },
   "source": [
    "Теперь все ок."
   ]
  },
  {
   "cell_type": "markdown",
   "metadata": {
    "id": "cC_aZDeoK3xO"
   },
   "source": [
    "Добавим столбец общей прибыли за месяц."
   ]
  },
  {
   "cell_type": "code",
   "execution_count": 58,
   "metadata": {
    "id": "QnEKcULtK3xO"
   },
   "outputs": [],
   "source": [
    "def all_sum(df):\n",
    "    tariff = df['tariff']\n",
    "    call = df['call_rub']\n",
    "    mess = df['mess_rub']\n",
    "    inet = df['inet_rub']\n",
    "    smart_month_fee = rate['rub_monthly_fee'][0] \n",
    "    ultra_month_fee = rate['rub_monthly_fee'][1]\n",
    "    \n",
    "    if tariff == 'smart':\n",
    "        all_sum = call + mess + inet + smart_month_fee\n",
    "        return all_sum\n",
    "    else:\n",
    "        all_sum = call + mess + inet + ultra_month_fee\n",
    "        return all_sum"
   ]
  },
  {
   "cell_type": "code",
   "execution_count": 59,
   "metadata": {
    "id": "7RdIzUXzK3xO"
   },
   "outputs": [],
   "source": [
    "final_table['all_rub'] = final_table.apply(all_sum, axis=1)"
   ]
  },
  {
   "cell_type": "code",
   "execution_count": 60,
   "metadata": {
    "id": "8UcGwkYpK3xO",
    "outputId": "78f4f5ce-335a-4a60-82b5-249db8ce98b7"
   },
   "outputs": [
    {
     "data": {
      "text/html": [
       "<div>\n",
       "<style scoped>\n",
       "    .dataframe tbody tr th:only-of-type {\n",
       "        vertical-align: middle;\n",
       "    }\n",
       "\n",
       "    .dataframe tbody tr th {\n",
       "        vertical-align: top;\n",
       "    }\n",
       "\n",
       "    .dataframe thead th {\n",
       "        text-align: right;\n",
       "    }\n",
       "</style>\n",
       "<table border=\"1\" class=\"dataframe\">\n",
       "  <thead>\n",
       "    <tr style=\"text-align: right;\">\n",
       "      <th></th>\n",
       "      <th>user_id</th>\n",
       "      <th>month</th>\n",
       "      <th>call_count</th>\n",
       "      <th>minutes_spent</th>\n",
       "      <th>call_rub</th>\n",
       "      <th>mess_count</th>\n",
       "      <th>mess_rub</th>\n",
       "      <th>sum_mb</th>\n",
       "      <th>inet_rub</th>\n",
       "      <th>tariff</th>\n",
       "      <th>all_rub</th>\n",
       "    </tr>\n",
       "  </thead>\n",
       "  <tbody>\n",
       "    <tr>\n",
       "      <td>0</td>\n",
       "      <td>1000</td>\n",
       "      <td>5</td>\n",
       "      <td>22.0</td>\n",
       "      <td>159.0</td>\n",
       "      <td>0.0</td>\n",
       "      <td>22.0</td>\n",
       "      <td>0.0</td>\n",
       "      <td>2256.0</td>\n",
       "      <td>0.0</td>\n",
       "      <td>ultra</td>\n",
       "      <td>1950.0</td>\n",
       "    </tr>\n",
       "    <tr>\n",
       "      <td>1</td>\n",
       "      <td>1000</td>\n",
       "      <td>6</td>\n",
       "      <td>43.0</td>\n",
       "      <td>172.0</td>\n",
       "      <td>0.0</td>\n",
       "      <td>60.0</td>\n",
       "      <td>0.0</td>\n",
       "      <td>23257.0</td>\n",
       "      <td>0.0</td>\n",
       "      <td>ultra</td>\n",
       "      <td>1950.0</td>\n",
       "    </tr>\n",
       "    <tr>\n",
       "      <td>2</td>\n",
       "      <td>1000</td>\n",
       "      <td>7</td>\n",
       "      <td>47.0</td>\n",
       "      <td>340.0</td>\n",
       "      <td>0.0</td>\n",
       "      <td>75.0</td>\n",
       "      <td>0.0</td>\n",
       "      <td>14016.0</td>\n",
       "      <td>0.0</td>\n",
       "      <td>ultra</td>\n",
       "      <td>1950.0</td>\n",
       "    </tr>\n",
       "    <tr>\n",
       "      <td>3</td>\n",
       "      <td>1000</td>\n",
       "      <td>8</td>\n",
       "      <td>52.0</td>\n",
       "      <td>408.0</td>\n",
       "      <td>0.0</td>\n",
       "      <td>81.0</td>\n",
       "      <td>0.0</td>\n",
       "      <td>14070.0</td>\n",
       "      <td>0.0</td>\n",
       "      <td>ultra</td>\n",
       "      <td>1950.0</td>\n",
       "    </tr>\n",
       "    <tr>\n",
       "      <td>4</td>\n",
       "      <td>1000</td>\n",
       "      <td>9</td>\n",
       "      <td>58.0</td>\n",
       "      <td>466.0</td>\n",
       "      <td>0.0</td>\n",
       "      <td>57.0</td>\n",
       "      <td>0.0</td>\n",
       "      <td>14581.0</td>\n",
       "      <td>0.0</td>\n",
       "      <td>ultra</td>\n",
       "      <td>1950.0</td>\n",
       "    </tr>\n",
       "  </tbody>\n",
       "</table>\n",
       "</div>"
      ],
      "text/plain": [
       "   user_id  month  call_count  minutes_spent  call_rub  mess_count  mess_rub  \\\n",
       "0     1000      5        22.0          159.0       0.0        22.0       0.0   \n",
       "1     1000      6        43.0          172.0       0.0        60.0       0.0   \n",
       "2     1000      7        47.0          340.0       0.0        75.0       0.0   \n",
       "3     1000      8        52.0          408.0       0.0        81.0       0.0   \n",
       "4     1000      9        58.0          466.0       0.0        57.0       0.0   \n",
       "\n",
       "    sum_mb  inet_rub tariff  all_rub  \n",
       "0   2256.0       0.0  ultra   1950.0  \n",
       "1  23257.0       0.0  ultra   1950.0  \n",
       "2  14016.0       0.0  ultra   1950.0  \n",
       "3  14070.0       0.0  ultra   1950.0  \n",
       "4  14581.0       0.0  ultra   1950.0  "
      ]
     },
     "execution_count": 60,
     "metadata": {},
     "output_type": "execute_result"
    }
   ],
   "source": [
    "final_table.head(5)"
   ]
  },
  {
   "cell_type": "markdown",
   "metadata": {
    "id": "l5BU6sh3K3xP"
   },
   "source": [
    "# Вывод\n",
    "\n",
    "- Чтобы сделать подсчет общей прибыли по каждому пользователю по месяцам я объеденил таблицы и рассчитал прибыль от зависимости тарифа для минут, количества смс и мегабайт трафика. Затем сделал общую таблицу где подсчитал общую прибыль.\n",
    "- По финальной таблице видно каждого клиента по месяцам, сколько он потратил лимита в тарифе и заплатил за месяц использования и переплаты по мясяцам отдельно.\n",
    "- Из 3-ех таблиц самое большое знчение строк после объеденения 3203, а в финально таблице их 3214. Это из-за того, что есть клиенты которые пользовались например только интернетом, а другими возможностями тарифа нет, из-за этого в одной таблице есть эта строка, а в другой нет. При объеденении они добавились так как user_id совпадает."
   ]
  },
  {
   "cell_type": "markdown",
   "metadata": {
    "id": "pS5oXH5oK3xP"
   },
   "source": [
    "## Проанализируем данные\n",
    "\n",
    "**Опишем поведение клиентов оператора, исходя из выборки.**"
   ]
  },
  {
   "cell_type": "markdown",
   "metadata": {
    "id": "hr5vPf-VK3xP"
   },
   "source": [
    "Решил посмотреть, сколько в финальной таблице идет упоминаний о каждом клиенте и увидел интересную вещь. Всего строк 498, а в таблице user их 500. Найдем этих клиентов которые не пользовались нашей компанией."
   ]
  },
  {
   "cell_type": "code",
   "execution_count": 61,
   "metadata": {
    "id": "wbO_3R96K3xQ",
    "outputId": "a6ee7f25-81b6-4392-8930-a7699b6cf282",
    "scrolled": true
   },
   "outputs": [
    {
     "data": {
      "text/plain": [
       "user_id\n",
       "1000     8\n",
       "1001     2\n",
       "1002     7\n",
       "1003     5\n",
       "1004     8\n",
       "        ..\n",
       "1495     5\n",
       "1496    12\n",
       "1497     3\n",
       "1498     4\n",
       "1499     4\n",
       "Name: user_id, Length: 498, dtype: int64"
      ]
     },
     "execution_count": 61,
     "metadata": {},
     "output_type": "execute_result"
    }
   ],
   "source": [
    "final_table.groupby('user_id')['user_id'].count()"
   ]
  },
  {
   "cell_type": "code",
   "execution_count": 62,
   "metadata": {
    "id": "bnApe9waK3xQ",
    "outputId": "de66195c-2231-42db-f2c2-9166392ab721"
   },
   "outputs": [
    {
     "data": {
      "text/plain": [
       "[1128, 1371]"
      ]
     },
     "execution_count": 62,
     "metadata": {},
     "output_type": "execute_result"
    }
   ],
   "source": [
    "list(set(user.user_id) - set(final_table['user_id']))"
   ]
  },
  {
   "cell_type": "code",
   "execution_count": 63,
   "metadata": {
    "id": "e5cT4XUeK3xQ",
    "outputId": "b8db6345-8df6-45fa-f18c-024d4b46ca95",
    "scrolled": true
   },
   "outputs": [
    {
     "data": {
      "text/html": [
       "<div>\n",
       "<style scoped>\n",
       "    .dataframe tbody tr th:only-of-type {\n",
       "        vertical-align: middle;\n",
       "    }\n",
       "\n",
       "    .dataframe tbody tr th {\n",
       "        vertical-align: top;\n",
       "    }\n",
       "\n",
       "    .dataframe thead th {\n",
       "        text-align: right;\n",
       "    }\n",
       "</style>\n",
       "<table border=\"1\" class=\"dataframe\">\n",
       "  <thead>\n",
       "    <tr style=\"text-align: right;\">\n",
       "      <th></th>\n",
       "      <th>age</th>\n",
       "      <th>churn_date</th>\n",
       "      <th>city</th>\n",
       "      <th>first_name</th>\n",
       "      <th>last_name</th>\n",
       "      <th>reg_date</th>\n",
       "      <th>tariff</th>\n",
       "    </tr>\n",
       "    <tr>\n",
       "      <th>user_id</th>\n",
       "      <th></th>\n",
       "      <th></th>\n",
       "      <th></th>\n",
       "      <th></th>\n",
       "      <th></th>\n",
       "      <th></th>\n",
       "      <th></th>\n",
       "    </tr>\n",
       "  </thead>\n",
       "  <tbody>\n",
       "    <tr>\n",
       "      <td>1128</td>\n",
       "      <td>51</td>\n",
       "      <td>2018-12-23</td>\n",
       "      <td>Волжский</td>\n",
       "      <td>Ксения</td>\n",
       "      <td>Агаева</td>\n",
       "      <td>2018-12-15</td>\n",
       "      <td>ultra</td>\n",
       "    </tr>\n",
       "    <tr>\n",
       "      <td>1371</td>\n",
       "      <td>50</td>\n",
       "      <td>2018-12-30</td>\n",
       "      <td>Омск</td>\n",
       "      <td>Ириней</td>\n",
       "      <td>Трофимов</td>\n",
       "      <td>2018-12-25</td>\n",
       "      <td>smart</td>\n",
       "    </tr>\n",
       "  </tbody>\n",
       "</table>\n",
       "</div>"
      ],
      "text/plain": [
       "         age churn_date      city first_name last_name   reg_date tariff\n",
       "user_id                                                                 \n",
       "1128      51 2018-12-23  Волжский     Ксения    Агаева 2018-12-15  ultra\n",
       "1371      50 2018-12-30      Омск     Ириней  Трофимов 2018-12-25  smart"
      ]
     },
     "execution_count": 63,
     "metadata": {},
     "output_type": "execute_result"
    }
   ],
   "source": [
    "user.set_index(['user_id']).loc[[1128, 1371]]"
   ]
  },
  {
   "cell_type": "markdown",
   "metadata": {
    "id": "8xaQMyFQK3xQ"
   },
   "source": [
    "Видим двух людей в возрасте. Дата подключения и дата отключения +- неделя. По этому их нет в пользователях других таблиц, они не пользовались."
   ]
  },
  {
   "cell_type": "markdown",
   "metadata": {
    "id": "83zLPtvpK3xQ"
   },
   "source": [
    "### Посчитаем, сколько минут разговора требуется пользователям каждого тарифа в месяц, среднее количество, дисперсию и стандартное отклонение."
   ]
  },
  {
   "cell_type": "code",
   "execution_count": 64,
   "metadata": {
    "id": "ptl3HyJMK3xR",
    "outputId": "32e996f5-15b6-4c7f-ad04-093cd21ebcc3",
    "scrolled": false
   },
   "outputs": [
    {
     "data": {
      "image/png": "[encoded data removed]",
      "text/plain": [
       "<Figure size 432x288 with 1 Axes>"
      ]
     },
     "metadata": {
      "needs_background": "light"
     },
     "output_type": "display_data"
    }
   ],
   "source": [
    "min_spent = final_table.pivot_table(index=['month', 'tariff'],\n",
    "                                    values='minutes_spent',\n",
    "                                    aggfunc=['sum', 'mean', 'var',\n",
    "                                             lambda x: np.sqrt(np.var(x, ddof=1))]\n",
    "                                   )\n",
    "min_spent.columns = ['number_minutes', 'mean_minutes', 'var', 'sqrt']\n",
    "min_spent.mean_minutes.plot.bar(title='Среднее количество минут по месяцам и тарифам', grid=True)\n",
    "plt.xlabel('Месяц и тариф (1-январь. 12-декабрь)')\n",
    "plt.ylabel('Количество звонков (среднее)')\n",
    "plt.show()"
   ]
  },
  {
   "cell_type": "code",
   "execution_count": 65,
   "metadata": {
    "id": "_pQT6iieK3xR",
    "outputId": "c2148ac4-8ce0-453c-b3f9-f1efd21ec17b"
   },
   "outputs": [
    {
     "data": {
      "text/html": [
       "<div>\n",
       "<style scoped>\n",
       "    .dataframe tbody tr th:only-of-type {\n",
       "        vertical-align: middle;\n",
       "    }\n",
       "\n",
       "    .dataframe tbody tr th {\n",
       "        vertical-align: top;\n",
       "    }\n",
       "\n",
       "    .dataframe thead th {\n",
       "        text-align: right;\n",
       "    }\n",
       "</style>\n",
       "<table border=\"1\" class=\"dataframe\">\n",
       "  <thead>\n",
       "    <tr style=\"text-align: right;\">\n",
       "      <th></th>\n",
       "      <th></th>\n",
       "      <th>number_minutes</th>\n",
       "      <th>mean_minutes</th>\n",
       "      <th>var</th>\n",
       "      <th>sqrt</th>\n",
       "    </tr>\n",
       "    <tr>\n",
       "      <th>month</th>\n",
       "      <th>tariff</th>\n",
       "      <th></th>\n",
       "      <th></th>\n",
       "      <th></th>\n",
       "      <th></th>\n",
       "    </tr>\n",
       "  </thead>\n",
       "  <tbody>\n",
       "    <tr>\n",
       "      <td rowspan=\"2\" valign=\"top\">1</td>\n",
       "      <td>smart</td>\n",
       "      <td>6931.0</td>\n",
       "      <td>203.852941</td>\n",
       "      <td>23787.341355</td>\n",
       "      <td>154.231454</td>\n",
       "    </tr>\n",
       "    <tr>\n",
       "      <td>ultra</td>\n",
       "      <td>3853.0</td>\n",
       "      <td>428.111111</td>\n",
       "      <td>72769.361111</td>\n",
       "      <td>269.757968</td>\n",
       "    </tr>\n",
       "    <tr>\n",
       "      <td rowspan=\"2\" valign=\"top\">2</td>\n",
       "      <td>smart</td>\n",
       "      <td>17324.0</td>\n",
       "      <td>298.689655</td>\n",
       "      <td>36412.287961</td>\n",
       "      <td>190.820041</td>\n",
       "    </tr>\n",
       "    <tr>\n",
       "      <td>ultra</td>\n",
       "      <td>7131.0</td>\n",
       "      <td>297.125000</td>\n",
       "      <td>87919.679348</td>\n",
       "      <td>296.512528</td>\n",
       "    </tr>\n",
       "    <tr>\n",
       "      <td rowspan=\"2\" valign=\"top\">3</td>\n",
       "      <td>smart</td>\n",
       "      <td>30034.0</td>\n",
       "      <td>390.051948</td>\n",
       "      <td>36823.155161</td>\n",
       "      <td>191.893604</td>\n",
       "    </tr>\n",
       "    <tr>\n",
       "      <td>ultra</td>\n",
       "      <td>18117.0</td>\n",
       "      <td>489.648649</td>\n",
       "      <td>111384.900901</td>\n",
       "      <td>333.743765</td>\n",
       "    </tr>\n",
       "    <tr>\n",
       "      <td rowspan=\"2\" valign=\"top\">4</td>\n",
       "      <td>smart</td>\n",
       "      <td>41119.0</td>\n",
       "      <td>367.133929</td>\n",
       "      <td>34778.207127</td>\n",
       "      <td>186.489161</td>\n",
       "    </tr>\n",
       "    <tr>\n",
       "      <td>ultra</td>\n",
       "      <td>25191.0</td>\n",
       "      <td>458.018182</td>\n",
       "      <td>71653.870034</td>\n",
       "      <td>267.682405</td>\n",
       "    </tr>\n",
       "    <tr>\n",
       "      <td rowspan=\"2\" valign=\"top\">5</td>\n",
       "      <td>smart</td>\n",
       "      <td>54618.0</td>\n",
       "      <td>387.361702</td>\n",
       "      <td>34820.061094</td>\n",
       "      <td>186.601343</td>\n",
       "    </tr>\n",
       "    <tr>\n",
       "      <td>ultra</td>\n",
       "      <td>34192.0</td>\n",
       "      <td>510.328358</td>\n",
       "      <td>83870.193578</td>\n",
       "      <td>289.603511</td>\n",
       "    </tr>\n",
       "    <tr>\n",
       "      <td rowspan=\"2\" valign=\"top\">6</td>\n",
       "      <td>smart</td>\n",
       "      <td>64885.0</td>\n",
       "      <td>395.640244</td>\n",
       "      <td>30742.918861</td>\n",
       "      <td>175.336587</td>\n",
       "    </tr>\n",
       "    <tr>\n",
       "      <td>ultra</td>\n",
       "      <td>40295.0</td>\n",
       "      <td>479.702381</td>\n",
       "      <td>91535.946500</td>\n",
       "      <td>302.549081</td>\n",
       "    </tr>\n",
       "    <tr>\n",
       "      <td rowspan=\"2\" valign=\"top\">7</td>\n",
       "      <td>smart</td>\n",
       "      <td>82079.0</td>\n",
       "      <td>408.353234</td>\n",
       "      <td>32250.269602</td>\n",
       "      <td>179.583601</td>\n",
       "    </tr>\n",
       "    <tr>\n",
       "      <td>ultra</td>\n",
       "      <td>49667.0</td>\n",
       "      <td>545.791209</td>\n",
       "      <td>94322.278144</td>\n",
       "      <td>307.119322</td>\n",
       "    </tr>\n",
       "    <tr>\n",
       "      <td rowspan=\"2\" valign=\"top\">8</td>\n",
       "      <td>smart</td>\n",
       "      <td>99045.0</td>\n",
       "      <td>421.468085</td>\n",
       "      <td>34793.583379</td>\n",
       "      <td>186.530382</td>\n",
       "    </tr>\n",
       "    <tr>\n",
       "      <td>ultra</td>\n",
       "      <td>54653.0</td>\n",
       "      <td>510.775701</td>\n",
       "      <td>97956.496385</td>\n",
       "      <td>312.980026</td>\n",
       "    </tr>\n",
       "    <tr>\n",
       "      <td rowspan=\"2\" valign=\"top\">9</td>\n",
       "      <td>smart</td>\n",
       "      <td>111439.0</td>\n",
       "      <td>428.611538</td>\n",
       "      <td>33535.342723</td>\n",
       "      <td>183.126576</td>\n",
       "    </tr>\n",
       "    <tr>\n",
       "      <td>ultra</td>\n",
       "      <td>62036.0</td>\n",
       "      <td>539.443478</td>\n",
       "      <td>105716.775286</td>\n",
       "      <td>325.141162</td>\n",
       "    </tr>\n",
       "    <tr>\n",
       "      <td rowspan=\"2\" valign=\"top\">10</td>\n",
       "      <td>smart</td>\n",
       "      <td>125284.0</td>\n",
       "      <td>426.136054</td>\n",
       "      <td>35392.336375</td>\n",
       "      <td>188.128510</td>\n",
       "    </tr>\n",
       "    <tr>\n",
       "      <td>ultra</td>\n",
       "      <td>68644.0</td>\n",
       "      <td>558.081301</td>\n",
       "      <td>106464.583500</td>\n",
       "      <td>326.289110</td>\n",
       "    </tr>\n",
       "    <tr>\n",
       "      <td rowspan=\"2\" valign=\"top\">11</td>\n",
       "      <td>smart</td>\n",
       "      <td>137544.0</td>\n",
       "      <td>435.265823</td>\n",
       "      <td>31605.237050</td>\n",
       "      <td>177.778618</td>\n",
       "    </tr>\n",
       "    <tr>\n",
       "      <td>ultra</td>\n",
       "      <td>72545.0</td>\n",
       "      <td>541.380597</td>\n",
       "      <td>96570.057064</td>\n",
       "      <td>310.757232</td>\n",
       "    </tr>\n",
       "    <tr>\n",
       "      <td rowspan=\"2\" valign=\"top\">12</td>\n",
       "      <td>smart</td>\n",
       "      <td>161275.0</td>\n",
       "      <td>478.560831</td>\n",
       "      <td>39698.622033</td>\n",
       "      <td>199.245131</td>\n",
       "    </tr>\n",
       "    <tr>\n",
       "      <td>ultra</td>\n",
       "      <td>82400.0</td>\n",
       "      <td>592.805755</td>\n",
       "      <td>117276.331561</td>\n",
       "      <td>342.456321</td>\n",
       "    </tr>\n",
       "  </tbody>\n",
       "</table>\n",
       "</div>"
      ],
      "text/plain": [
       "              number_minutes  mean_minutes            var        sqrt\n",
       "month tariff                                                         \n",
       "1     smart           6931.0    203.852941   23787.341355  154.231454\n",
       "      ultra           3853.0    428.111111   72769.361111  269.757968\n",
       "2     smart          17324.0    298.689655   36412.287961  190.820041\n",
       "      ultra           7131.0    297.125000   87919.679348  296.512528\n",
       "3     smart          30034.0    390.051948   36823.155161  191.893604\n",
       "      ultra          18117.0    489.648649  111384.900901  333.743765\n",
       "4     smart          41119.0    367.133929   34778.207127  186.489161\n",
       "      ultra          25191.0    458.018182   71653.870034  267.682405\n",
       "5     smart          54618.0    387.361702   34820.061094  186.601343\n",
       "      ultra          34192.0    510.328358   83870.193578  289.603511\n",
       "6     smart          64885.0    395.640244   30742.918861  175.336587\n",
       "      ultra          40295.0    479.702381   91535.946500  302.549081\n",
       "7     smart          82079.0    408.353234   32250.269602  179.583601\n",
       "      ultra          49667.0    545.791209   94322.278144  307.119322\n",
       "8     smart          99045.0    421.468085   34793.583379  186.530382\n",
       "      ultra          54653.0    510.775701   97956.496385  312.980026\n",
       "9     smart         111439.0    428.611538   33535.342723  183.126576\n",
       "      ultra          62036.0    539.443478  105716.775286  325.141162\n",
       "10    smart         125284.0    426.136054   35392.336375  188.128510\n",
       "      ultra          68644.0    558.081301  106464.583500  326.289110\n",
       "11    smart         137544.0    435.265823   31605.237050  177.778618\n",
       "      ultra          72545.0    541.380597   96570.057064  310.757232\n",
       "12    smart         161275.0    478.560831   39698.622033  199.245131\n",
       "      ultra          82400.0    592.805755  117276.331561  342.456321"
      ]
     },
     "execution_count": 65,
     "metadata": {},
     "output_type": "execute_result"
    }
   ],
   "source": [
    "min_spent"
   ]
  },
  {
   "cell_type": "code",
   "execution_count": 66,
   "metadata": {
    "id": "c6r2liP3K3xR",
    "outputId": "99ea938e-edb9-4c61-b8e4-4d1f09cc2a30"
   },
   "outputs": [
    {
     "data": {
      "text/html": [
       "<div>\n",
       "<style scoped>\n",
       "    .dataframe tbody tr th:only-of-type {\n",
       "        vertical-align: middle;\n",
       "    }\n",
       "\n",
       "    .dataframe tbody tr th {\n",
       "        vertical-align: top;\n",
       "    }\n",
       "\n",
       "    .dataframe thead th {\n",
       "        text-align: right;\n",
       "    }\n",
       "</style>\n",
       "<table border=\"1\" class=\"dataframe\">\n",
       "  <thead>\n",
       "    <tr style=\"text-align: right;\">\n",
       "      <th></th>\n",
       "      <th></th>\n",
       "      <th>count</th>\n",
       "      <th>mean</th>\n",
       "      <th>std</th>\n",
       "      <th>min</th>\n",
       "      <th>25%</th>\n",
       "      <th>50%</th>\n",
       "      <th>75%</th>\n",
       "      <th>max</th>\n",
       "    </tr>\n",
       "    <tr>\n",
       "      <th>month</th>\n",
       "      <th>tariff</th>\n",
       "      <th></th>\n",
       "      <th></th>\n",
       "      <th></th>\n",
       "      <th></th>\n",
       "      <th></th>\n",
       "      <th></th>\n",
       "      <th></th>\n",
       "      <th></th>\n",
       "    </tr>\n",
       "  </thead>\n",
       "  <tbody>\n",
       "    <tr>\n",
       "      <td rowspan=\"2\" valign=\"top\">1</td>\n",
       "      <td>smart</td>\n",
       "      <td>34.0</td>\n",
       "      <td>203.852941</td>\n",
       "      <td>154.231454</td>\n",
       "      <td>0.0</td>\n",
       "      <td>78.25</td>\n",
       "      <td>162.5</td>\n",
       "      <td>325.25</td>\n",
       "      <td>551.0</td>\n",
       "    </tr>\n",
       "    <tr>\n",
       "      <td>ultra</td>\n",
       "      <td>9.0</td>\n",
       "      <td>428.111111</td>\n",
       "      <td>269.757968</td>\n",
       "      <td>55.0</td>\n",
       "      <td>272.00</td>\n",
       "      <td>382.0</td>\n",
       "      <td>466.00</td>\n",
       "      <td>861.0</td>\n",
       "    </tr>\n",
       "    <tr>\n",
       "      <td rowspan=\"2\" valign=\"top\">2</td>\n",
       "      <td>smart</td>\n",
       "      <td>58.0</td>\n",
       "      <td>298.689655</td>\n",
       "      <td>190.820041</td>\n",
       "      <td>2.0</td>\n",
       "      <td>137.00</td>\n",
       "      <td>258.0</td>\n",
       "      <td>457.50</td>\n",
       "      <td>747.0</td>\n",
       "    </tr>\n",
       "    <tr>\n",
       "      <td>ultra</td>\n",
       "      <td>24.0</td>\n",
       "      <td>297.125000</td>\n",
       "      <td>296.512528</td>\n",
       "      <td>0.0</td>\n",
       "      <td>59.50</td>\n",
       "      <td>168.0</td>\n",
       "      <td>516.75</td>\n",
       "      <td>919.0</td>\n",
       "    </tr>\n",
       "    <tr>\n",
       "      <td rowspan=\"2\" valign=\"top\">3</td>\n",
       "      <td>smart</td>\n",
       "      <td>77.0</td>\n",
       "      <td>390.051948</td>\n",
       "      <td>191.893604</td>\n",
       "      <td>13.0</td>\n",
       "      <td>234.00</td>\n",
       "      <td>409.0</td>\n",
       "      <td>530.00</td>\n",
       "      <td>822.0</td>\n",
       "    </tr>\n",
       "    <tr>\n",
       "      <td>ultra</td>\n",
       "      <td>37.0</td>\n",
       "      <td>489.648649</td>\n",
       "      <td>333.743765</td>\n",
       "      <td>92.0</td>\n",
       "      <td>256.00</td>\n",
       "      <td>403.0</td>\n",
       "      <td>626.00</td>\n",
       "      <td>1609.0</td>\n",
       "    </tr>\n",
       "    <tr>\n",
       "      <td rowspan=\"2\" valign=\"top\">4</td>\n",
       "      <td>smart</td>\n",
       "      <td>112.0</td>\n",
       "      <td>367.133929</td>\n",
       "      <td>186.489161</td>\n",
       "      <td>0.0</td>\n",
       "      <td>222.00</td>\n",
       "      <td>368.5</td>\n",
       "      <td>493.50</td>\n",
       "      <td>785.0</td>\n",
       "    </tr>\n",
       "    <tr>\n",
       "      <td>ultra</td>\n",
       "      <td>55.0</td>\n",
       "      <td>458.018182</td>\n",
       "      <td>267.682405</td>\n",
       "      <td>0.0</td>\n",
       "      <td>278.00</td>\n",
       "      <td>453.0</td>\n",
       "      <td>632.50</td>\n",
       "      <td>1096.0</td>\n",
       "    </tr>\n",
       "    <tr>\n",
       "      <td rowspan=\"2\" valign=\"top\">5</td>\n",
       "      <td>smart</td>\n",
       "      <td>141.0</td>\n",
       "      <td>387.361702</td>\n",
       "      <td>186.601343</td>\n",
       "      <td>2.0</td>\n",
       "      <td>213.00</td>\n",
       "      <td>433.0</td>\n",
       "      <td>512.00</td>\n",
       "      <td>820.0</td>\n",
       "    </tr>\n",
       "    <tr>\n",
       "      <td>ultra</td>\n",
       "      <td>67.0</td>\n",
       "      <td>510.328358</td>\n",
       "      <td>289.603511</td>\n",
       "      <td>0.0</td>\n",
       "      <td>315.50</td>\n",
       "      <td>519.0</td>\n",
       "      <td>692.00</td>\n",
       "      <td>1232.0</td>\n",
       "    </tr>\n",
       "    <tr>\n",
       "      <td rowspan=\"2\" valign=\"top\">6</td>\n",
       "      <td>smart</td>\n",
       "      <td>164.0</td>\n",
       "      <td>395.640244</td>\n",
       "      <td>175.336587</td>\n",
       "      <td>0.0</td>\n",
       "      <td>272.75</td>\n",
       "      <td>400.0</td>\n",
       "      <td>521.00</td>\n",
       "      <td>875.0</td>\n",
       "    </tr>\n",
       "    <tr>\n",
       "      <td>ultra</td>\n",
       "      <td>84.0</td>\n",
       "      <td>479.702381</td>\n",
       "      <td>302.549081</td>\n",
       "      <td>0.0</td>\n",
       "      <td>233.25</td>\n",
       "      <td>479.0</td>\n",
       "      <td>692.75</td>\n",
       "      <td>1410.0</td>\n",
       "    </tr>\n",
       "    <tr>\n",
       "      <td rowspan=\"2\" valign=\"top\">7</td>\n",
       "      <td>smart</td>\n",
       "      <td>201.0</td>\n",
       "      <td>408.353234</td>\n",
       "      <td>179.583601</td>\n",
       "      <td>2.0</td>\n",
       "      <td>281.00</td>\n",
       "      <td>414.0</td>\n",
       "      <td>535.00</td>\n",
       "      <td>839.0</td>\n",
       "    </tr>\n",
       "    <tr>\n",
       "      <td>ultra</td>\n",
       "      <td>91.0</td>\n",
       "      <td>545.791209</td>\n",
       "      <td>307.119322</td>\n",
       "      <td>0.0</td>\n",
       "      <td>309.00</td>\n",
       "      <td>542.0</td>\n",
       "      <td>766.00</td>\n",
       "      <td>1311.0</td>\n",
       "    </tr>\n",
       "    <tr>\n",
       "      <td rowspan=\"2\" valign=\"top\">8</td>\n",
       "      <td>smart</td>\n",
       "      <td>235.0</td>\n",
       "      <td>421.468085</td>\n",
       "      <td>186.530382</td>\n",
       "      <td>0.0</td>\n",
       "      <td>287.50</td>\n",
       "      <td>432.0</td>\n",
       "      <td>537.50</td>\n",
       "      <td>1000.0</td>\n",
       "    </tr>\n",
       "    <tr>\n",
       "      <td>ultra</td>\n",
       "      <td>107.0</td>\n",
       "      <td>510.775701</td>\n",
       "      <td>312.980026</td>\n",
       "      <td>0.0</td>\n",
       "      <td>278.50</td>\n",
       "      <td>500.0</td>\n",
       "      <td>738.00</td>\n",
       "      <td>1321.0</td>\n",
       "    </tr>\n",
       "    <tr>\n",
       "      <td rowspan=\"2\" valign=\"top\">9</td>\n",
       "      <td>smart</td>\n",
       "      <td>260.0</td>\n",
       "      <td>428.611538</td>\n",
       "      <td>183.126576</td>\n",
       "      <td>0.0</td>\n",
       "      <td>297.25</td>\n",
       "      <td>435.0</td>\n",
       "      <td>549.00</td>\n",
       "      <td>843.0</td>\n",
       "    </tr>\n",
       "    <tr>\n",
       "      <td>ultra</td>\n",
       "      <td>115.0</td>\n",
       "      <td>539.443478</td>\n",
       "      <td>325.141162</td>\n",
       "      <td>0.0</td>\n",
       "      <td>291.00</td>\n",
       "      <td>520.0</td>\n",
       "      <td>784.50</td>\n",
       "      <td>1297.0</td>\n",
       "    </tr>\n",
       "    <tr>\n",
       "      <td rowspan=\"2\" valign=\"top\">10</td>\n",
       "      <td>smart</td>\n",
       "      <td>294.0</td>\n",
       "      <td>426.136054</td>\n",
       "      <td>188.128510</td>\n",
       "      <td>0.0</td>\n",
       "      <td>296.25</td>\n",
       "      <td>427.5</td>\n",
       "      <td>549.00</td>\n",
       "      <td>1005.0</td>\n",
       "    </tr>\n",
       "    <tr>\n",
       "      <td>ultra</td>\n",
       "      <td>123.0</td>\n",
       "      <td>558.081301</td>\n",
       "      <td>326.289110</td>\n",
       "      <td>0.0</td>\n",
       "      <td>328.00</td>\n",
       "      <td>533.0</td>\n",
       "      <td>804.50</td>\n",
       "      <td>1401.0</td>\n",
       "    </tr>\n",
       "    <tr>\n",
       "      <td rowspan=\"2\" valign=\"top\">11</td>\n",
       "      <td>smart</td>\n",
       "      <td>316.0</td>\n",
       "      <td>435.265823</td>\n",
       "      <td>177.778618</td>\n",
       "      <td>0.0</td>\n",
       "      <td>310.75</td>\n",
       "      <td>428.5</td>\n",
       "      <td>554.25</td>\n",
       "      <td>954.0</td>\n",
       "    </tr>\n",
       "    <tr>\n",
       "      <td>ultra</td>\n",
       "      <td>134.0</td>\n",
       "      <td>541.380597</td>\n",
       "      <td>310.757232</td>\n",
       "      <td>0.0</td>\n",
       "      <td>306.25</td>\n",
       "      <td>546.0</td>\n",
       "      <td>721.75</td>\n",
       "      <td>1257.0</td>\n",
       "    </tr>\n",
       "    <tr>\n",
       "      <td rowspan=\"2\" valign=\"top\">12</td>\n",
       "      <td>smart</td>\n",
       "      <td>337.0</td>\n",
       "      <td>478.560831</td>\n",
       "      <td>199.245131</td>\n",
       "      <td>0.0</td>\n",
       "      <td>340.00</td>\n",
       "      <td>471.0</td>\n",
       "      <td>600.00</td>\n",
       "      <td>1435.0</td>\n",
       "    </tr>\n",
       "    <tr>\n",
       "      <td>ultra</td>\n",
       "      <td>139.0</td>\n",
       "      <td>592.805755</td>\n",
       "      <td>342.456321</td>\n",
       "      <td>0.0</td>\n",
       "      <td>333.00</td>\n",
       "      <td>584.0</td>\n",
       "      <td>821.50</td>\n",
       "      <td>1673.0</td>\n",
       "    </tr>\n",
       "  </tbody>\n",
       "</table>\n",
       "</div>"
      ],
      "text/plain": [
       "              count        mean         std   min     25%    50%     75%  \\\n",
       "month tariff                                                               \n",
       "1     smart    34.0  203.852941  154.231454   0.0   78.25  162.5  325.25   \n",
       "      ultra     9.0  428.111111  269.757968  55.0  272.00  382.0  466.00   \n",
       "2     smart    58.0  298.689655  190.820041   2.0  137.00  258.0  457.50   \n",
       "      ultra    24.0  297.125000  296.512528   0.0   59.50  168.0  516.75   \n",
       "3     smart    77.0  390.051948  191.893604  13.0  234.00  409.0  530.00   \n",
       "      ultra    37.0  489.648649  333.743765  92.0  256.00  403.0  626.00   \n",
       "4     smart   112.0  367.133929  186.489161   0.0  222.00  368.5  493.50   \n",
       "      ultra    55.0  458.018182  267.682405   0.0  278.00  453.0  632.50   \n",
       "5     smart   141.0  387.361702  186.601343   2.0  213.00  433.0  512.00   \n",
       "      ultra    67.0  510.328358  289.603511   0.0  315.50  519.0  692.00   \n",
       "6     smart   164.0  395.640244  175.336587   0.0  272.75  400.0  521.00   \n",
       "      ultra    84.0  479.702381  302.549081   0.0  233.25  479.0  692.75   \n",
       "7     smart   201.0  408.353234  179.583601   2.0  281.00  414.0  535.00   \n",
       "      ultra    91.0  545.791209  307.119322   0.0  309.00  542.0  766.00   \n",
       "8     smart   235.0  421.468085  186.530382   0.0  287.50  432.0  537.50   \n",
       "      ultra   107.0  510.775701  312.980026   0.0  278.50  500.0  738.00   \n",
       "9     smart   260.0  428.611538  183.126576   0.0  297.25  435.0  549.00   \n",
       "      ultra   115.0  539.443478  325.141162   0.0  291.00  520.0  784.50   \n",
       "10    smart   294.0  426.136054  188.128510   0.0  296.25  427.5  549.00   \n",
       "      ultra   123.0  558.081301  326.289110   0.0  328.00  533.0  804.50   \n",
       "11    smart   316.0  435.265823  177.778618   0.0  310.75  428.5  554.25   \n",
       "      ultra   134.0  541.380597  310.757232   0.0  306.25  546.0  721.75   \n",
       "12    smart   337.0  478.560831  199.245131   0.0  340.00  471.0  600.00   \n",
       "      ultra   139.0  592.805755  342.456321   0.0  333.00  584.0  821.50   \n",
       "\n",
       "                 max  \n",
       "month tariff          \n",
       "1     smart    551.0  \n",
       "      ultra    861.0  \n",
       "2     smart    747.0  \n",
       "      ultra    919.0  \n",
       "3     smart    822.0  \n",
       "      ultra   1609.0  \n",
       "4     smart    785.0  \n",
       "      ultra   1096.0  \n",
       "5     smart    820.0  \n",
       "      ultra   1232.0  \n",
       "6     smart    875.0  \n",
       "      ultra   1410.0  \n",
       "7     smart    839.0  \n",
       "      ultra   1311.0  \n",
       "8     smart   1000.0  \n",
       "      ultra   1321.0  \n",
       "9     smart    843.0  \n",
       "      ultra   1297.0  \n",
       "10    smart   1005.0  \n",
       "      ultra   1401.0  \n",
       "11    smart    954.0  \n",
       "      ultra   1257.0  \n",
       "12    smart   1435.0  \n",
       "      ultra   1673.0  "
      ]
     },
     "execution_count": 66,
     "metadata": {},
     "output_type": "execute_result"
    }
   ],
   "source": [
    "final_table.groupby(['month', 'tariff']).minutes_spent.describe()"
   ]
  },
  {
   "cell_type": "markdown",
   "metadata": {
    "id": "lhxk2dMlK3xR"
   },
   "source": [
    "Визуализируем данные."
   ]
  },
  {
   "cell_type": "code",
   "execution_count": 88,
   "metadata": {
    "id": "OLhbLvFXK3xS",
    "outputId": "0bc95093-c173-4ee1-90dd-aa6fb589bf7c",
    "scrolled": false
   },
   "outputs": [
    {
     "data": {
      "application/vnd.plotly.v1+json": {
       "config": {
        "linkText": "Export to plot.ly",
        "plotlyServerURL": "https://plot.ly",
        "showLink": false
       },
       "data": [
        {
         "name": "Тариф \"СМАРТ\"",
         "type": "bar",
         "x": [
          1,
          2,
          3,
          4,
          5,
          6,
          7,
          8,
          9,
          10,
          11,
          12
         ],
         "y": [
          203.85294117647058,
          298.6896551724138,
          390.05194805194805,
          367.13392857142856,
          387.36170212765956,
          395.640243902439,
          408.3532338308458,
          421.468085106383,
          428.6115384615385,
          426.13605442176873,
          435.26582278481015,
          478.5608308605341
         ]
        },
        {
         "name": "Тариф \"УЛЬТРА\"",
         "type": "bar",
         "x": [
          1,
          2,
          3,
          4,
          5,
          6,
          7,
          8,
          9,
          10,
          11,
          12
         ],
         "y": [
          428.1111111111111,
          297.125,
          489.64864864864865,
          458.0181818181818,
          510.32835820895525,
          479.70238095238096,
          545.7912087912088,
          510.77570093457945,
          539.4434782608696,
          558.0813008130082,
          541.3805970149253,
          592.8057553956835
         ]
        }
       ],
       "layout": {
        "template": {
         "data": {
          "bar": [
           {
            "error_x": {
             "color": "#2a3f5f"
            },
            "error_y": {
             "color": "#2a3f5f"
            },
            "marker": {
             "line": {
              "color": "#E5ECF6",
              "width": 0.5
             }
            },
            "type": "bar"
           }
          ],
          "barpolar": [
           {
            "marker": {
             "line": {
              "color": "#E5ECF6",
              "width": 0.5
             }
            },
            "type": "barpolar"
           }
          ],
          "carpet": [
           {
            "aaxis": {
             "endlinecolor": "#2a3f5f",
             "gridcolor": "white",
             "linecolor": "white",
             "minorgridcolor": "white",
             "startlinecolor": "#2a3f5f"
            },
            "baxis": {
             "endlinecolor": "#2a3f5f",
             "gridcolor": "white",
             "linecolor": "white",
             "minorgridcolor": "white",
             "startlinecolor": "#2a3f5f"
            },
            "type": "carpet"
           }
          ],
          "choropleth": [
           {
            "colorbar": {
             "outlinewidth": 0,
             "ticks": ""
            },
            "type": "choropleth"
           }
          ],
          "contour": [
           {
            "colorbar": {
             "outlinewidth": 0,
             "ticks": ""
            },
            "colorscale": [
             [
              0,
              "#0d0887"
             ],
             [
              0.1111111111111111,
              "#46039f"
             ],
             [
              0.2222222222222222,
              "#7201a8"
             ],
             [
              0.3333333333333333,
              "#9c179e"
             ],
             [
              0.4444444444444444,
              "#bd3786"
             ],
             [
              0.5555555555555556,
              "#d8576b"
             ],
             [
              0.6666666666666666,
              "#ed7953"
             ],
             [
              0.7777777777777778,
              "#fb9f3a"
             ],
             [
              0.8888888888888888,
              "#fdca26"
             ],
             [
              1,
              "#f0f921"
             ]
            ],
            "type": "contour"
           }
          ],
          "contourcarpet": [
           {
            "colorbar": {
             "outlinewidth": 0,
             "ticks": ""
            },
            "type": "contourcarpet"
           }
          ],
          "heatmap": [
           {
            "colorbar": {
             "outlinewidth": 0,
             "ticks": ""
            },
            "colorscale": [
             [
              0,
              "#0d0887"
             ],
             [
              0.1111111111111111,
              "#46039f"
             ],
             [
              0.2222222222222222,
              "#7201a8"
             ],
             [
              0.3333333333333333,
              "#9c179e"
             ],
             [
              0.4444444444444444,
              "#bd3786"
             ],
             [
              0.5555555555555556,
              "#d8576b"
             ],
             [
              0.6666666666666666,
              "#ed7953"
             ],
             [
              0.7777777777777778,
              "#fb9f3a"
             ],
             [
              0.8888888888888888,
              "#fdca26"
             ],
             [
              1,
              "#f0f921"
             ]
            ],
            "type": "heatmap"
           }
          ],
          "heatmapgl": [
           {
            "colorbar": {
             "outlinewidth": 0,
             "ticks": ""
            },
            "colorscale": [
             [
              0,
              "#0d0887"
             ],
             [
              0.1111111111111111,
              "#46039f"
             ],
             [
              0.2222222222222222,
              "#7201a8"
             ],
             [
              0.3333333333333333,
              "#9c179e"
             ],
             [
              0.4444444444444444,
              "#bd3786"
             ],
             [
              0.5555555555555556,
              "#d8576b"
             ],
             [
              0.6666666666666666,
              "#ed7953"
             ],
             [
              0.7777777777777778,
              "#fb9f3a"
             ],
             [
              0.8888888888888888,
              "#fdca26"
             ],
             [
              1,
              "#f0f921"
             ]
            ],
            "type": "heatmapgl"
           }
          ],
          "histogram": [
           {
            "marker": {
             "colorbar": {
              "outlinewidth": 0,
              "ticks": ""
             }
            },
            "type": "histogram"
           }
          ],
          "histogram2d": [
           {
            "colorbar": {
             "outlinewidth": 0,
             "ticks": ""
            },
            "colorscale": [
             [
              0,
              "#0d0887"
             ],
             [
              0.1111111111111111,
              "#46039f"
             ],
             [
              0.2222222222222222,
              "#7201a8"
             ],
             [
              0.3333333333333333,
              "#9c179e"
             ],
             [
              0.4444444444444444,
              "#bd3786"
             ],
             [
              0.5555555555555556,
              "#d8576b"
             ],
             [
              0.6666666666666666,
              "#ed7953"
             ],
             [
              0.7777777777777778,
              "#fb9f3a"
             ],
             [
              0.8888888888888888,
              "#fdca26"
             ],
             [
              1,
              "#f0f921"
             ]
            ],
            "type": "histogram2d"
           }
          ],
          "histogram2dcontour": [
           {
            "colorbar": {
             "outlinewidth": 0,
             "ticks": ""
            },
            "colorscale": [
             [
              0,
              "#0d0887"
             ],
             [
              0.1111111111111111,
              "#46039f"
             ],
             [
              0.2222222222222222,
              "#7201a8"
             ],
             [
              0.3333333333333333,
              "#9c179e"
             ],
             [
              0.4444444444444444,
              "#bd3786"
             ],
             [
              0.5555555555555556,
              "#d8576b"
             ],
             [
              0.6666666666666666,
              "#ed7953"
             ],
             [
              0.7777777777777778,
              "#fb9f3a"
             ],
             [
              0.8888888888888888,
              "#fdca26"
             ],
             [
              1,
              "#f0f921"
             ]
            ],
            "type": "histogram2dcontour"
           }
          ],
          "mesh3d": [
           {
            "colorbar": {
             "outlinewidth": 0,
             "ticks": ""
            },
            "type": "mesh3d"
           }
          ],
          "parcoords": [
           {
            "line": {
             "colorbar": {
              "outlinewidth": 0,
              "ticks": ""
             }
            },
            "type": "parcoords"
           }
          ],
          "scatter": [
           {
            "marker": {
             "colorbar": {
              "outlinewidth": 0,
              "ticks": ""
             }
            },
            "type": "scatter"
           }
          ],
          "scatter3d": [
           {
            "line": {
             "colorbar": {
              "outlinewidth": 0,
              "ticks": ""
             }
            },
            "marker": {
             "colorbar": {
              "outlinewidth": 0,
              "ticks": ""
             }
            },
            "type": "scatter3d"
           }
          ],
          "scattercarpet": [
           {
            "marker": {
             "colorbar": {
              "outlinewidth": 0,
              "ticks": ""
             }
            },
            "type": "scattercarpet"
           }
          ],
          "scattergeo": [
           {
            "marker": {
             "colorbar": {
              "outlinewidth": 0,
              "ticks": ""
             }
            },
            "type": "scattergeo"
           }
          ],
          "scattergl": [
           {
            "marker": {
             "colorbar": {
              "outlinewidth": 0,
              "ticks": ""
             }
            },
            "type": "scattergl"
           }
          ],
          "scattermapbox": [
           {
            "marker": {
             "colorbar": {
              "outlinewidth": 0,
              "ticks": ""
             }
            },
            "type": "scattermapbox"
           }
          ],
          "scatterpolar": [
           {
            "marker": {
             "colorbar": {
              "outlinewidth": 0,
              "ticks": ""
             }
            },
            "type": "scatterpolar"
           }
          ],
          "scatterpolargl": [
           {
            "marker": {
             "colorbar": {
              "outlinewidth": 0,
              "ticks": ""
             }
            },
            "type": "scatterpolargl"
           }
          ],
          "scatterternary": [
           {
            "marker": {
             "colorbar": {
              "outlinewidth": 0,
              "ticks": ""
             }
            },
            "type": "scatterternary"
           }
          ],
          "surface": [
           {
            "colorbar": {
             "outlinewidth": 0,
             "ticks": ""
            },
            "colorscale": [
             [
              0,
              "#0d0887"
             ],
             [
              0.1111111111111111,
              "#46039f"
             ],
             [
              0.2222222222222222,
              "#7201a8"
             ],
             [
              0.3333333333333333,
              "#9c179e"
             ],
             [
              0.4444444444444444,
              "#bd3786"
             ],
             [
              0.5555555555555556,
              "#d8576b"
             ],
             [
              0.6666666666666666,
              "#ed7953"
             ],
             [
              0.7777777777777778,
              "#fb9f3a"
             ],
             [
              0.8888888888888888,
              "#fdca26"
             ],
             [
              1,
              "#f0f921"
             ]
            ],
            "type": "surface"
           }
          ],
          "table": [
           {
            "cells": {
             "fill": {
              "color": "#EBF0F8"
             },
             "line": {
              "color": "white"
             }
            },
            "header": {
             "fill": {
              "color": "#C8D4E3"
             },
             "line": {
              "color": "white"
             }
            },
            "type": "table"
           }
          ]
         },
         "layout": {
          "annotationdefaults": {
           "arrowcolor": "#2a3f5f",
           "arrowhead": 0,
           "arrowwidth": 1
          },
          "colorscale": {
           "diverging": [
            [
             0,
             "#8e0152"
            ],
            [
             0.1,
             "#c51b7d"
            ],
            [
             0.2,
             "#de77ae"
            ],
            [
             0.3,
             "#f1b6da"
            ],
            [
             0.4,
             "#fde0ef"
            ],
            [
             0.5,
             "#f7f7f7"
            ],
            [
             0.6,
             "#e6f5d0"
            ],
            [
             0.7,
             "#b8e186"
            ],
            [
             0.8,
             "#7fbc41"
            ],
            [
             0.9,
             "#4d9221"
            ],
            [
             1,
             "#276419"
            ]
           ],
           "sequential": [
            [
             0,
             "#0d0887"
            ],
            [
             0.1111111111111111,
             "#46039f"
            ],
            [
             0.2222222222222222,
             "#7201a8"
            ],
            [
             0.3333333333333333,
             "#9c179e"
            ],
            [
             0.4444444444444444,
             "#bd3786"
            ],
            [
             0.5555555555555556,
             "#d8576b"
            ],
            [
             0.6666666666666666,
             "#ed7953"
            ],
            [
             0.7777777777777778,
             "#fb9f3a"
            ],
            [
             0.8888888888888888,
             "#fdca26"
            ],
            [
             1,
             "#f0f921"
            ]
           ],
           "sequentialminus": [
            [
             0,
             "#0d0887"
            ],
            [
             0.1111111111111111,
             "#46039f"
            ],
            [
             0.2222222222222222,
             "#7201a8"
            ],
            [
             0.3333333333333333,
             "#9c179e"
            ],
            [
             0.4444444444444444,
             "#bd3786"
            ],
            [
             0.5555555555555556,
             "#d8576b"
            ],
            [
             0.6666666666666666,
             "#ed7953"
            ],
            [
             0.7777777777777778,
             "#fb9f3a"
            ],
            [
             0.8888888888888888,
             "#fdca26"
            ],
            [
             1,
             "#f0f921"
            ]
           ]
          },
          "colorway": [
           "#636efa",
           "#EF553B",
           "#00cc96",
           "#ab63fa",
           "#FFA15A",
           "#19d3f3",
           "#FF6692",
           "#B6E880",
           "#FF97FF",
           "#FECB52"
          ],
          "font": {
           "color": "#2a3f5f"
          },
          "geo": {
           "bgcolor": "white",
           "lakecolor": "white",
           "landcolor": "#E5ECF6",
           "showlakes": true,
           "showland": true,
           "subunitcolor": "white"
          },
          "hoverlabel": {
           "align": "left"
          },
          "hovermode": "closest",
          "mapbox": {
           "style": "light"
          },
          "paper_bgcolor": "white",
          "plot_bgcolor": "#E5ECF6",
          "polar": {
           "angularaxis": {
            "gridcolor": "white",
            "linecolor": "white",
            "ticks": ""
           },
           "bgcolor": "#E5ECF6",
           "radialaxis": {
            "gridcolor": "white",
            "linecolor": "white",
            "ticks": ""
           }
          },
          "scene": {
           "xaxis": {
            "backgroundcolor": "#E5ECF6",
            "gridcolor": "white",
            "gridwidth": 2,
            "linecolor": "white",
            "showbackground": true,
            "ticks": "",
            "zerolinecolor": "white"
           },
           "yaxis": {
            "backgroundcolor": "#E5ECF6",
            "gridcolor": "white",
            "gridwidth": 2,
            "linecolor": "white",
            "showbackground": true,
            "ticks": "",
            "zerolinecolor": "white"
           },
           "zaxis": {
            "backgroundcolor": "#E5ECF6",
            "gridcolor": "white",
            "gridwidth": 2,
            "linecolor": "white",
            "showbackground": true,
            "ticks": "",
            "zerolinecolor": "white"
           }
          },
          "shapedefaults": {
           "line": {
            "color": "#2a3f5f"
           }
          },
          "ternary": {
           "aaxis": {
            "gridcolor": "white",
            "linecolor": "white",
            "ticks": ""
           },
           "baxis": {
            "gridcolor": "white",
            "linecolor": "white",
            "ticks": ""
           },
           "bgcolor": "#E5ECF6",
           "caxis": {
            "gridcolor": "white",
            "linecolor": "white",
            "ticks": ""
           }
          },
          "title": {
           "x": 0.05
          },
          "xaxis": {
           "automargin": true,
           "gridcolor": "white",
           "linecolor": "white",
           "ticks": "",
           "zerolinecolor": "white",
           "zerolinewidth": 2
          },
          "yaxis": {
           "automargin": true,
           "gridcolor": "white",
           "linecolor": "white",
           "ticks": "",
           "zerolinecolor": "white",
           "zerolinewidth": 2
          }
         }
        },
        "title": {
         "text": "Среднее количество минут в месяц на звонки(по тарифам) "
        },
        "xaxis": {
         "title": {
          "text": "Месяц и тариф (1-январь, 12-декабрь)"
         }
        },
        "yaxis": {
         "title": {
          "text": "Количество минут (среднее)"
         }
        }
       }
      },
      "text/html": [
       "<div>\n",
       "        \n",
       "        \n",
       "            <div id=\"55702e30-1238-4ca0-9d3b-22eda96c25d8\" class=\"plotly-graph-div\" style=\"height:525px; width:100%;\"></div>\n",
       "            <script type=\"text/javascript\">\n",
       "                require([\"plotly\"], function(Plotly) {\n",
       "                    window.PLOTLYENV=window.PLOTLYENV || {};\n",
       "                    \n",
       "                if (document.getElementById(\"55702e30-1238-4ca0-9d3b-22eda96c25d8\")) {\n",
       "                    Plotly.newPlot(\n",
       "                        '55702e30-1238-4ca0-9d3b-22eda96c25d8',\n",
       "                        [{\"name\": \"\\u0422\\u0430\\u0440\\u0438\\u0444 \\\"\\u0421\\u041c\\u0410\\u0420\\u0422\\\"\", \"type\": \"bar\", \"x\": [1, 2, 3, 4, 5, 6, 7, 8, 9, 10, 11, 12], \"y\": [203.85294117647058, 298.6896551724138, 390.05194805194805, 367.13392857142856, 387.36170212765956, 395.640243902439, 408.3532338308458, 421.468085106383, 428.6115384615385, 426.13605442176873, 435.26582278481015, 478.5608308605341]}, {\"name\": \"\\u0422\\u0430\\u0440\\u0438\\u0444 \\\"\\u0423\\u041b\\u042c\\u0422\\u0420\\u0410\\\"\", \"type\": \"bar\", \"x\": [1, 2, 3, 4, 5, 6, 7, 8, 9, 10, 11, 12], \"y\": [428.1111111111111, 297.125, 489.64864864864865, 458.0181818181818, 510.32835820895525, 479.70238095238096, 545.7912087912088, 510.77570093457945, 539.4434782608696, 558.0813008130082, 541.3805970149253, 592.8057553956835]}],\n",
       "                        {\"template\": {\"data\": {\"bar\": [{\"error_x\": {\"color\": \"#2a3f5f\"}, \"error_y\": {\"color\": \"#2a3f5f\"}, \"marker\": {\"line\": {\"color\": \"#E5ECF6\", \"width\": 0.5}}, \"type\": \"bar\"}], \"barpolar\": [{\"marker\": {\"line\": {\"color\": \"#E5ECF6\", \"width\": 0.5}}, \"type\": \"barpolar\"}], \"carpet\": [{\"aaxis\": {\"endlinecolor\": \"#2a3f5f\", \"gridcolor\": \"white\", \"linecolor\": \"white\", \"minorgridcolor\": \"white\", \"startlinecolor\": \"#2a3f5f\"}, \"baxis\": {\"endlinecolor\": \"#2a3f5f\", \"gridcolor\": \"white\", \"linecolor\": \"white\", \"minorgridcolor\": \"white\", \"startlinecolor\": \"#2a3f5f\"}, \"type\": \"carpet\"}], \"choropleth\": [{\"colorbar\": {\"outlinewidth\": 0, \"ticks\": \"\"}, \"type\": \"choropleth\"}], \"contour\": [{\"colorbar\": {\"outlinewidth\": 0, \"ticks\": \"\"}, \"colorscale\": [[0.0, \"#0d0887\"], [0.1111111111111111, \"#46039f\"], [0.2222222222222222, \"#7201a8\"], [0.3333333333333333, \"#9c179e\"], [0.4444444444444444, \"#bd3786\"], [0.5555555555555556, \"#d8576b\"], [0.6666666666666666, \"#ed7953\"], [0.7777777777777778, \"#fb9f3a\"], [0.8888888888888888, \"#fdca26\"], [1.0, \"#f0f921\"]], \"type\": \"contour\"}], \"contourcarpet\": [{\"colorbar\": {\"outlinewidth\": 0, \"ticks\": \"\"}, \"type\": \"contourcarpet\"}], \"heatmap\": [{\"colorbar\": {\"outlinewidth\": 0, \"ticks\": \"\"}, \"colorscale\": [[0.0, \"#0d0887\"], [0.1111111111111111, \"#46039f\"], [0.2222222222222222, \"#7201a8\"], [0.3333333333333333, \"#9c179e\"], [0.4444444444444444, \"#bd3786\"], [0.5555555555555556, \"#d8576b\"], [0.6666666666666666, \"#ed7953\"], [0.7777777777777778, \"#fb9f3a\"], [0.8888888888888888, \"#fdca26\"], [1.0, \"#f0f921\"]], \"type\": \"heatmap\"}], \"heatmapgl\": [{\"colorbar\": {\"outlinewidth\": 0, \"ticks\": \"\"}, \"colorscale\": [[0.0, \"#0d0887\"], [0.1111111111111111, \"#46039f\"], [0.2222222222222222, \"#7201a8\"], [0.3333333333333333, \"#9c179e\"], [0.4444444444444444, \"#bd3786\"], [0.5555555555555556, \"#d8576b\"], [0.6666666666666666, \"#ed7953\"], [0.7777777777777778, \"#fb9f3a\"], [0.8888888888888888, \"#fdca26\"], [1.0, \"#f0f921\"]], \"type\": \"heatmapgl\"}], \"histogram\": [{\"marker\": {\"colorbar\": {\"outlinewidth\": 0, \"ticks\": \"\"}}, \"type\": \"histogram\"}], \"histogram2d\": [{\"colorbar\": {\"outlinewidth\": 0, \"ticks\": \"\"}, \"colorscale\": [[0.0, \"#0d0887\"], [0.1111111111111111, \"#46039f\"], [0.2222222222222222, \"#7201a8\"], [0.3333333333333333, \"#9c179e\"], [0.4444444444444444, \"#bd3786\"], [0.5555555555555556, \"#d8576b\"], [0.6666666666666666, \"#ed7953\"], [0.7777777777777778, \"#fb9f3a\"], [0.8888888888888888, \"#fdca26\"], [1.0, \"#f0f921\"]], \"type\": \"histogram2d\"}], \"histogram2dcontour\": [{\"colorbar\": {\"outlinewidth\": 0, \"ticks\": \"\"}, \"colorscale\": [[0.0, \"#0d0887\"], [0.1111111111111111, \"#46039f\"], [0.2222222222222222, \"#7201a8\"], [0.3333333333333333, \"#9c179e\"], [0.4444444444444444, \"#bd3786\"], [0.5555555555555556, \"#d8576b\"], [0.6666666666666666, \"#ed7953\"], [0.7777777777777778, \"#fb9f3a\"], [0.8888888888888888, \"#fdca26\"], [1.0, \"#f0f921\"]], \"type\": \"histogram2dcontour\"}], \"mesh3d\": [{\"colorbar\": {\"outlinewidth\": 0, \"ticks\": \"\"}, \"type\": \"mesh3d\"}], \"parcoords\": [{\"line\": {\"colorbar\": {\"outlinewidth\": 0, \"ticks\": \"\"}}, \"type\": \"parcoords\"}], \"scatter\": [{\"marker\": {\"colorbar\": {\"outlinewidth\": 0, \"ticks\": \"\"}}, \"type\": \"scatter\"}], \"scatter3d\": [{\"line\": {\"colorbar\": {\"outlinewidth\": 0, \"ticks\": \"\"}}, \"marker\": {\"colorbar\": {\"outlinewidth\": 0, \"ticks\": \"\"}}, \"type\": \"scatter3d\"}], \"scattercarpet\": [{\"marker\": {\"colorbar\": {\"outlinewidth\": 0, \"ticks\": \"\"}}, \"type\": \"scattercarpet\"}], \"scattergeo\": [{\"marker\": {\"colorbar\": {\"outlinewidth\": 0, \"ticks\": \"\"}}, \"type\": \"scattergeo\"}], \"scattergl\": [{\"marker\": {\"colorbar\": {\"outlinewidth\": 0, \"ticks\": \"\"}}, \"type\": \"scattergl\"}], \"scattermapbox\": [{\"marker\": {\"colorbar\": {\"outlinewidth\": 0, \"ticks\": \"\"}}, \"type\": \"scattermapbox\"}], \"scatterpolar\": [{\"marker\": {\"colorbar\": {\"outlinewidth\": 0, \"ticks\": \"\"}}, \"type\": \"scatterpolar\"}], \"scatterpolargl\": [{\"marker\": {\"colorbar\": {\"outlinewidth\": 0, \"ticks\": \"\"}}, \"type\": \"scatterpolargl\"}], \"scatterternary\": [{\"marker\": {\"colorbar\": {\"outlinewidth\": 0, \"ticks\": \"\"}}, \"type\": \"scatterternary\"}], \"surface\": [{\"colorbar\": {\"outlinewidth\": 0, \"ticks\": \"\"}, \"colorscale\": [[0.0, \"#0d0887\"], [0.1111111111111111, \"#46039f\"], [0.2222222222222222, \"#7201a8\"], [0.3333333333333333, \"#9c179e\"], [0.4444444444444444, \"#bd3786\"], [0.5555555555555556, \"#d8576b\"], [0.6666666666666666, \"#ed7953\"], [0.7777777777777778, \"#fb9f3a\"], [0.8888888888888888, \"#fdca26\"], [1.0, \"#f0f921\"]], \"type\": \"surface\"}], \"table\": [{\"cells\": {\"fill\": {\"color\": \"#EBF0F8\"}, \"line\": {\"color\": \"white\"}}, \"header\": {\"fill\": {\"color\": \"#C8D4E3\"}, \"line\": {\"color\": \"white\"}}, \"type\": \"table\"}]}, \"layout\": {\"annotationdefaults\": {\"arrowcolor\": \"#2a3f5f\", \"arrowhead\": 0, \"arrowwidth\": 1}, \"colorscale\": {\"diverging\": [[0, \"#8e0152\"], [0.1, \"#c51b7d\"], [0.2, \"#de77ae\"], [0.3, \"#f1b6da\"], [0.4, \"#fde0ef\"], [0.5, \"#f7f7f7\"], [0.6, \"#e6f5d0\"], [0.7, \"#b8e186\"], [0.8, \"#7fbc41\"], [0.9, \"#4d9221\"], [1, \"#276419\"]], \"sequential\": [[0.0, \"#0d0887\"], [0.1111111111111111, \"#46039f\"], [0.2222222222222222, \"#7201a8\"], [0.3333333333333333, \"#9c179e\"], [0.4444444444444444, \"#bd3786\"], [0.5555555555555556, \"#d8576b\"], [0.6666666666666666, \"#ed7953\"], [0.7777777777777778, \"#fb9f3a\"], [0.8888888888888888, \"#fdca26\"], [1.0, \"#f0f921\"]], \"sequentialminus\": [[0.0, \"#0d0887\"], [0.1111111111111111, \"#46039f\"], [0.2222222222222222, \"#7201a8\"], [0.3333333333333333, \"#9c179e\"], [0.4444444444444444, \"#bd3786\"], [0.5555555555555556, \"#d8576b\"], [0.6666666666666666, \"#ed7953\"], [0.7777777777777778, \"#fb9f3a\"], [0.8888888888888888, \"#fdca26\"], [1.0, \"#f0f921\"]]}, \"colorway\": [\"#636efa\", \"#EF553B\", \"#00cc96\", \"#ab63fa\", \"#FFA15A\", \"#19d3f3\", \"#FF6692\", \"#B6E880\", \"#FF97FF\", \"#FECB52\"], \"font\": {\"color\": \"#2a3f5f\"}, \"geo\": {\"bgcolor\": \"white\", \"lakecolor\": \"white\", \"landcolor\": \"#E5ECF6\", \"showlakes\": true, \"showland\": true, \"subunitcolor\": \"white\"}, \"hoverlabel\": {\"align\": \"left\"}, \"hovermode\": \"closest\", \"mapbox\": {\"style\": \"light\"}, \"paper_bgcolor\": \"white\", \"plot_bgcolor\": \"#E5ECF6\", \"polar\": {\"angularaxis\": {\"gridcolor\": \"white\", \"linecolor\": \"white\", \"ticks\": \"\"}, \"bgcolor\": \"#E5ECF6\", \"radialaxis\": {\"gridcolor\": \"white\", \"linecolor\": \"white\", \"ticks\": \"\"}}, \"scene\": {\"xaxis\": {\"backgroundcolor\": \"#E5ECF6\", \"gridcolor\": \"white\", \"gridwidth\": 2, \"linecolor\": \"white\", \"showbackground\": true, \"ticks\": \"\", \"zerolinecolor\": \"white\"}, \"yaxis\": {\"backgroundcolor\": \"#E5ECF6\", \"gridcolor\": \"white\", \"gridwidth\": 2, \"linecolor\": \"white\", \"showbackground\": true, \"ticks\": \"\", \"zerolinecolor\": \"white\"}, \"zaxis\": {\"backgroundcolor\": \"#E5ECF6\", \"gridcolor\": \"white\", \"gridwidth\": 2, \"linecolor\": \"white\", \"showbackground\": true, \"ticks\": \"\", \"zerolinecolor\": \"white\"}}, \"shapedefaults\": {\"line\": {\"color\": \"#2a3f5f\"}}, \"ternary\": {\"aaxis\": {\"gridcolor\": \"white\", \"linecolor\": \"white\", \"ticks\": \"\"}, \"baxis\": {\"gridcolor\": \"white\", \"linecolor\": \"white\", \"ticks\": \"\"}, \"bgcolor\": \"#E5ECF6\", \"caxis\": {\"gridcolor\": \"white\", \"linecolor\": \"white\", \"ticks\": \"\"}}, \"title\": {\"x\": 0.05}, \"xaxis\": {\"automargin\": true, \"gridcolor\": \"white\", \"linecolor\": \"white\", \"ticks\": \"\", \"zerolinecolor\": \"white\", \"zerolinewidth\": 2}, \"yaxis\": {\"automargin\": true, \"gridcolor\": \"white\", \"linecolor\": \"white\", \"ticks\": \"\", \"zerolinecolor\": \"white\", \"zerolinewidth\": 2}}}, \"title\": {\"text\": \"\\u0421\\u0440\\u0435\\u0434\\u043d\\u0435\\u0435 \\u043a\\u043e\\u043b\\u0438\\u0447\\u0435\\u0441\\u0442\\u0432\\u043e \\u043c\\u0438\\u043d\\u0443\\u0442 \\u0432 \\u043c\\u0435\\u0441\\u044f\\u0446 \\u043d\\u0430 \\u0437\\u0432\\u043e\\u043d\\u043a\\u0438(\\u043f\\u043e \\u0442\\u0430\\u0440\\u0438\\u0444\\u0430\\u043c) \"}, \"xaxis\": {\"title\": {\"text\": \"\\u041c\\u0435\\u0441\\u044f\\u0446 \\u0438 \\u0442\\u0430\\u0440\\u0438\\u0444 (1-\\u044f\\u043d\\u0432\\u0430\\u0440\\u044c, 12-\\u0434\\u0435\\u043a\\u0430\\u0431\\u0440\\u044c)\"}}, \"yaxis\": {\"title\": {\"text\": \"\\u041a\\u043e\\u043b\\u0438\\u0447\\u0435\\u0441\\u0442\\u0432\\u043e \\u043c\\u0438\\u043d\\u0443\\u0442 (\\u0441\\u0440\\u0435\\u0434\\u043d\\u0435\\u0435)\"}}},\n",
       "                        {\"responsive\": true}\n",
       "                    ).then(function(){\n",
       "                            \n",
       "var gd = document.getElementById('55702e30-1238-4ca0-9d3b-22eda96c25d8');\n",
       "var x = new MutationObserver(function (mutations, observer) {{\n",
       "        var display = window.getComputedStyle(gd).display;\n",
       "        if (!display || display === 'none') {{\n",
       "            console.log([gd, 'removed!']);\n",
       "            Plotly.purge(gd);\n",
       "            observer.disconnect();\n",
       "        }}\n",
       "}});\n",
       "\n",
       "// Listen for the removal of the full notebook cells\n",
       "var notebookContainer = gd.closest('#notebook-container');\n",
       "if (notebookContainer) {{\n",
       "    x.observe(notebookContainer, {childList: true});\n",
       "}}\n",
       "\n",
       "// Listen for the clearing of the current output cell\n",
       "var outputEl = gd.closest('.output');\n",
       "if (outputEl) {{\n",
       "    x.observe(outputEl, {childList: true});\n",
       "}}\n",
       "\n",
       "                        })\n",
       "                };\n",
       "                });\n",
       "            </script>\n",
       "        </div>"
      ]
     },
     "metadata": {},
     "output_type": "display_data"
    }
   ],
   "source": [
    "# считаем число проданных и вышедших игр по платформам\n",
    "min_spent_plot = final_table.query('tariff == \"smart\"').groupby('month')[['minutes_spent']].mean().join(\n",
    "    final_table.query('tariff == \"ultra\"').groupby('month')[['minutes_spent']].mean(), rsuffix='_')\n",
    "min_spent_plot.columns = ['smart', 'ultra']\n",
    "\n",
    "\n",
    "# создаем traces для визуализации\n",
    "trace0 = go.Bar(\n",
    "    x=min_spent_plot.index,\n",
    "    y=min_spent_plot.smart,\n",
    "    name='Тариф \"СМАРТ\"'\n",
    ")\n",
    "\n",
    "trace1 = go.Bar(\n",
    "    x=min_spent_plot.index,\n",
    "    y=min_spent_plot.ultra,\n",
    "    name='Тариф \"УЛЬТРА\"'\n",
    ")\n",
    "\n",
    "# создаем массив с данными и задаем title для графика и оси x в layout\n",
    "data = [trace0, trace1]\n",
    "layout = {'title': 'Среднее количество минут в месяц на звонки(по тарифам) ',\n",
    "          'yaxis': {'title': 'Количество минут (среднее)'},\n",
    "          'xaxis': {'title': 'Месяц и тариф (1-январь, 12-декабрь)'}}\n",
    "\n",
    "# создаем объект Figure и визуализируем его\n",
    "fig = go.Figure(data=data, layout=layout)\n",
    "iplot(fig, show_link=False)"
   ]
  },
  {
   "cell_type": "markdown",
   "metadata": {
    "id": "Z4PaXj7FK3xS"
   },
   "source": [
    "Из графика видно, что среднее значение по месяцам лидируют клиенты с тарифом \"УЛЬТРА\", но в одном месте, а точнее 2 месяц среднее наравне +-. Видимо после праздников небольшое затишье. Так же можно сказать, что клиенты с тарифом \"УЛЬТРА\" в среднем гораздо больше разговаривают, чем клиенты с тарифом \"СМАРТ\" и есть небольшая зависимость, что от начала года к концу постепенно идет рост минут на звонки. Зависимость с увеличением месяца нам доказывает корреляция."
   ]
  },
  {
   "cell_type": "code",
   "execution_count": 68,
   "metadata": {
    "id": "-V8FcwkOK3xS",
    "outputId": "6e8312a9-9763-4105-aece-75d68490ae0a",
    "scrolled": true
   },
   "outputs": [
    {
     "data": {
      "text/plain": [
       "'0.8593862368649596 - корреляция smart тарифа по звонкам'"
      ]
     },
     "metadata": {},
     "output_type": "display_data"
    },
    {
     "data": {
      "text/plain": [
       "'0.8079309376661545 - корреляция ultra тарифа по звонкам'"
      ]
     },
     "metadata": {},
     "output_type": "display_data"
    }
   ],
   "source": [
    "smart = min_spent_plot.reset_index().smart.corr(min_spent_plot.reset_index().month)\n",
    "ultra = min_spent_plot.reset_index().ultra.corr(min_spent_plot.reset_index().month)\n",
    "display(f'{smart} - корреляция smart тарифа по звонкам', f'{ultra} - корреляция ultra тарифа по звонкам')"
   ]
  },
  {
   "cell_type": "markdown",
   "metadata": {
    "id": "GwbY28AZK3xS"
   },
   "source": [
    "### Посчитаем, сколько сообщений требуется пользователям каждого тарифа в месяц, среднее количество, дисперсию и стандартное отклонение. "
   ]
  },
  {
   "cell_type": "code",
   "execution_count": 69,
   "metadata": {
    "id": "uZn1qoRJK3xS",
    "outputId": "34fc80ab-7230-4e72-bcb4-4cbeaef37335"
   },
   "outputs": [
    {
     "data": {
      "text/html": [
       "<div>\n",
       "<style scoped>\n",
       "    .dataframe tbody tr th:only-of-type {\n",
       "        vertical-align: middle;\n",
       "    }\n",
       "\n",
       "    .dataframe tbody tr th {\n",
       "        vertical-align: top;\n",
       "    }\n",
       "\n",
       "    .dataframe thead th {\n",
       "        text-align: right;\n",
       "    }\n",
       "</style>\n",
       "<table border=\"1\" class=\"dataframe\">\n",
       "  <thead>\n",
       "    <tr style=\"text-align: right;\">\n",
       "      <th></th>\n",
       "      <th></th>\n",
       "      <th>mess_count</th>\n",
       "      <th>mess_mean</th>\n",
       "      <th>var</th>\n",
       "      <th>sqrt</th>\n",
       "    </tr>\n",
       "    <tr>\n",
       "      <th>month</th>\n",
       "      <th>tariff</th>\n",
       "      <th></th>\n",
       "      <th></th>\n",
       "      <th></th>\n",
       "      <th></th>\n",
       "    </tr>\n",
       "  </thead>\n",
       "  <tbody>\n",
       "    <tr>\n",
       "      <td rowspan=\"2\" valign=\"top\">1</td>\n",
       "      <td>smart</td>\n",
       "      <td>34</td>\n",
       "      <td>18.235294</td>\n",
       "      <td>262.367201</td>\n",
       "      <td>16.197753</td>\n",
       "    </tr>\n",
       "    <tr>\n",
       "      <td>ultra</td>\n",
       "      <td>9</td>\n",
       "      <td>33.777778</td>\n",
       "      <td>940.694444</td>\n",
       "      <td>30.670742</td>\n",
       "    </tr>\n",
       "    <tr>\n",
       "      <td rowspan=\"2\" valign=\"top\">2</td>\n",
       "      <td>smart</td>\n",
       "      <td>58</td>\n",
       "      <td>24.086207</td>\n",
       "      <td>473.097701</td>\n",
       "      <td>21.750809</td>\n",
       "    </tr>\n",
       "    <tr>\n",
       "      <td>ultra</td>\n",
       "      <td>24</td>\n",
       "      <td>21.958333</td>\n",
       "      <td>716.824275</td>\n",
       "      <td>26.773574</td>\n",
       "    </tr>\n",
       "    <tr>\n",
       "      <td rowspan=\"2\" valign=\"top\">3</td>\n",
       "      <td>smart</td>\n",
       "      <td>77</td>\n",
       "      <td>31.857143</td>\n",
       "      <td>718.492481</td>\n",
       "      <td>26.804710</td>\n",
       "    </tr>\n",
       "    <tr>\n",
       "      <td>ultra</td>\n",
       "      <td>37</td>\n",
       "      <td>32.297297</td>\n",
       "      <td>1732.381381</td>\n",
       "      <td>41.621886</td>\n",
       "    </tr>\n",
       "    <tr>\n",
       "      <td rowspan=\"2\" valign=\"top\">4</td>\n",
       "      <td>smart</td>\n",
       "      <td>112</td>\n",
       "      <td>30.741071</td>\n",
       "      <td>602.139559</td>\n",
       "      <td>24.538532</td>\n",
       "    </tr>\n",
       "    <tr>\n",
       "      <td>ultra</td>\n",
       "      <td>55</td>\n",
       "      <td>31.563636</td>\n",
       "      <td>1407.287542</td>\n",
       "      <td>37.513831</td>\n",
       "    </tr>\n",
       "    <tr>\n",
       "      <td rowspan=\"2\" valign=\"top\">5</td>\n",
       "      <td>smart</td>\n",
       "      <td>141</td>\n",
       "      <td>33.773050</td>\n",
       "      <td>730.990983</td>\n",
       "      <td>27.036845</td>\n",
       "    </tr>\n",
       "    <tr>\n",
       "      <td>ultra</td>\n",
       "      <td>67</td>\n",
       "      <td>37.850746</td>\n",
       "      <td>1624.644052</td>\n",
       "      <td>40.306874</td>\n",
       "    </tr>\n",
       "    <tr>\n",
       "      <td rowspan=\"2\" valign=\"top\">6</td>\n",
       "      <td>smart</td>\n",
       "      <td>164</td>\n",
       "      <td>33.402439</td>\n",
       "      <td>806.806374</td>\n",
       "      <td>28.404337</td>\n",
       "    </tr>\n",
       "    <tr>\n",
       "      <td>ultra</td>\n",
       "      <td>84</td>\n",
       "      <td>41.726190</td>\n",
       "      <td>1986.297619</td>\n",
       "      <td>44.567899</td>\n",
       "    </tr>\n",
       "    <tr>\n",
       "      <td rowspan=\"2\" valign=\"top\">7</td>\n",
       "      <td>smart</td>\n",
       "      <td>201</td>\n",
       "      <td>33.751244</td>\n",
       "      <td>799.887811</td>\n",
       "      <td>28.282288</td>\n",
       "    </tr>\n",
       "    <tr>\n",
       "      <td>ultra</td>\n",
       "      <td>91</td>\n",
       "      <td>49.846154</td>\n",
       "      <td>2372.042735</td>\n",
       "      <td>48.703621</td>\n",
       "    </tr>\n",
       "    <tr>\n",
       "      <td rowspan=\"2\" valign=\"top\">8</td>\n",
       "      <td>smart</td>\n",
       "      <td>235</td>\n",
       "      <td>33.638298</td>\n",
       "      <td>838.257501</td>\n",
       "      <td>28.952677</td>\n",
       "    </tr>\n",
       "    <tr>\n",
       "      <td>ultra</td>\n",
       "      <td>107</td>\n",
       "      <td>48.439252</td>\n",
       "      <td>2171.739199</td>\n",
       "      <td>46.601923</td>\n",
       "    </tr>\n",
       "    <tr>\n",
       "      <td rowspan=\"2\" valign=\"top\">9</td>\n",
       "      <td>smart</td>\n",
       "      <td>260</td>\n",
       "      <td>33.638462</td>\n",
       "      <td>790.617820</td>\n",
       "      <td>28.117927</td>\n",
       "    </tr>\n",
       "    <tr>\n",
       "      <td>ultra</td>\n",
       "      <td>115</td>\n",
       "      <td>52.286957</td>\n",
       "      <td>2152.855530</td>\n",
       "      <td>46.398874</td>\n",
       "    </tr>\n",
       "    <tr>\n",
       "      <td rowspan=\"2\" valign=\"top\">10</td>\n",
       "      <td>smart</td>\n",
       "      <td>294</td>\n",
       "      <td>33.765306</td>\n",
       "      <td>816.111966</td>\n",
       "      <td>28.567673</td>\n",
       "    </tr>\n",
       "    <tr>\n",
       "      <td>ultra</td>\n",
       "      <td>123</td>\n",
       "      <td>58.430894</td>\n",
       "      <td>2697.181661</td>\n",
       "      <td>51.934398</td>\n",
       "    </tr>\n",
       "    <tr>\n",
       "      <td rowspan=\"2\" valign=\"top\">11</td>\n",
       "      <td>smart</td>\n",
       "      <td>316</td>\n",
       "      <td>34.075949</td>\n",
       "      <td>805.937071</td>\n",
       "      <td>28.389031</td>\n",
       "    </tr>\n",
       "    <tr>\n",
       "      <td>ultra</td>\n",
       "      <td>134</td>\n",
       "      <td>55.791045</td>\n",
       "      <td>2476.948491</td>\n",
       "      <td>49.768951</td>\n",
       "    </tr>\n",
       "    <tr>\n",
       "      <td rowspan=\"2\" valign=\"top\">12</td>\n",
       "      <td>smart</td>\n",
       "      <td>337</td>\n",
       "      <td>35.994065</td>\n",
       "      <td>934.952346</td>\n",
       "      <td>30.576990</td>\n",
       "    </tr>\n",
       "    <tr>\n",
       "      <td>ultra</td>\n",
       "      <td>139</td>\n",
       "      <td>60.611511</td>\n",
       "      <td>2681.978417</td>\n",
       "      <td>51.787821</td>\n",
       "    </tr>\n",
       "  </tbody>\n",
       "</table>\n",
       "</div>"
      ],
      "text/plain": [
       "              mess_count  mess_mean          var       sqrt\n",
       "month tariff                                               \n",
       "1     smart           34  18.235294   262.367201  16.197753\n",
       "      ultra            9  33.777778   940.694444  30.670742\n",
       "2     smart           58  24.086207   473.097701  21.750809\n",
       "      ultra           24  21.958333   716.824275  26.773574\n",
       "3     smart           77  31.857143   718.492481  26.804710\n",
       "      ultra           37  32.297297  1732.381381  41.621886\n",
       "4     smart          112  30.741071   602.139559  24.538532\n",
       "      ultra           55  31.563636  1407.287542  37.513831\n",
       "5     smart          141  33.773050   730.990983  27.036845\n",
       "      ultra           67  37.850746  1624.644052  40.306874\n",
       "6     smart          164  33.402439   806.806374  28.404337\n",
       "      ultra           84  41.726190  1986.297619  44.567899\n",
       "7     smart          201  33.751244   799.887811  28.282288\n",
       "      ultra           91  49.846154  2372.042735  48.703621\n",
       "8     smart          235  33.638298   838.257501  28.952677\n",
       "      ultra          107  48.439252  2171.739199  46.601923\n",
       "9     smart          260  33.638462   790.617820  28.117927\n",
       "      ultra          115  52.286957  2152.855530  46.398874\n",
       "10    smart          294  33.765306   816.111966  28.567673\n",
       "      ultra          123  58.430894  2697.181661  51.934398\n",
       "11    smart          316  34.075949   805.937071  28.389031\n",
       "      ultra          134  55.791045  2476.948491  49.768951\n",
       "12    smart          337  35.994065   934.952346  30.576990\n",
       "      ultra          139  60.611511  2681.978417  51.787821"
      ]
     },
     "execution_count": 69,
     "metadata": {},
     "output_type": "execute_result"
    }
   ],
   "source": [
    "mess_spent = final_table.pivot_table(index=['month', 'tariff'],\n",
    "                                    values='mess_count',\n",
    "                                    aggfunc=['count', 'mean', 'var',\n",
    "                                             lambda x: np.sqrt(np.var(x, ddof=1))]\n",
    "                                   )\n",
    "mess_spent.columns = ['mess_count', 'mess_mean', 'var', 'sqrt']\n",
    "mess_spent"
   ]
  },
  {
   "cell_type": "code",
   "execution_count": 89,
   "metadata": {
    "id": "1558qhHUK3xT",
    "outputId": "19cf6bcc-54b3-4389-f6f7-ffc889ebc42f"
   },
   "outputs": [
    {
     "data": {
      "application/vnd.plotly.v1+json": {
       "config": {
        "linkText": "Export to plot.ly",
        "plotlyServerURL": "https://plot.ly",
        "showLink": false
       },
       "data": [
        {
         "name": "Тариф \"СМАРТ\"",
         "type": "bar",
         "x": [
          1,
          2,
          3,
          4,
          5,
          6,
          7,
          8,
          9,
          10,
          11,
          12
         ],
         "y": [
          18.235294117647058,
          24.086206896551722,
          31.857142857142858,
          30.741071428571427,
          33.773049645390074,
          33.40243902439025,
          33.75124378109453,
          33.638297872340424,
          33.63846153846154,
          33.765306122448976,
          34.075949367088604,
          35.99406528189911
         ]
        },
        {
         "name": "Тариф \"УЛЬТРА\"",
         "type": "bar",
         "x": [
          1,
          2,
          3,
          4,
          5,
          6,
          7,
          8,
          9,
          10,
          11,
          12
         ],
         "y": [
          33.77777777777778,
          21.958333333333332,
          32.2972972972973,
          31.563636363636363,
          37.850746268656714,
          41.726190476190474,
          49.84615384615385,
          48.4392523364486,
          52.28695652173913,
          58.43089430894309,
          55.791044776119406,
          60.611510791366904
         ]
        }
       ],
       "layout": {
        "template": {
         "data": {
          "bar": [
           {
            "error_x": {
             "color": "#2a3f5f"
            },
            "error_y": {
             "color": "#2a3f5f"
            },
            "marker": {
             "line": {
              "color": "#E5ECF6",
              "width": 0.5
             }
            },
            "type": "bar"
           }
          ],
          "barpolar": [
           {
            "marker": {
             "line": {
              "color": "#E5ECF6",
              "width": 0.5
             }
            },
            "type": "barpolar"
           }
          ],
          "carpet": [
           {
            "aaxis": {
             "endlinecolor": "#2a3f5f",
             "gridcolor": "white",
             "linecolor": "white",
             "minorgridcolor": "white",
             "startlinecolor": "#2a3f5f"
            },
            "baxis": {
             "endlinecolor": "#2a3f5f",
             "gridcolor": "white",
             "linecolor": "white",
             "minorgridcolor": "white",
             "startlinecolor": "#2a3f5f"
            },
            "type": "carpet"
           }
          ],
          "choropleth": [
           {
            "colorbar": {
             "outlinewidth": 0,
             "ticks": ""
            },
            "type": "choropleth"
           }
          ],
          "contour": [
           {
            "colorbar": {
             "outlinewidth": 0,
             "ticks": ""
            },
            "colorscale": [
             [
              0,
              "#0d0887"
             ],
             [
              0.1111111111111111,
              "#46039f"
             ],
             [
              0.2222222222222222,
              "#7201a8"
             ],
             [
              0.3333333333333333,
              "#9c179e"
             ],
             [
              0.4444444444444444,
              "#bd3786"
             ],
             [
              0.5555555555555556,
              "#d8576b"
             ],
             [
              0.6666666666666666,
              "#ed7953"
             ],
             [
              0.7777777777777778,
              "#fb9f3a"
             ],
             [
              0.8888888888888888,
              "#fdca26"
             ],
             [
              1,
              "#f0f921"
             ]
            ],
            "type": "contour"
           }
          ],
          "contourcarpet": [
           {
            "colorbar": {
             "outlinewidth": 0,
             "ticks": ""
            },
            "type": "contourcarpet"
           }
          ],
          "heatmap": [
           {
            "colorbar": {
             "outlinewidth": 0,
             "ticks": ""
            },
            "colorscale": [
             [
              0,
              "#0d0887"
             ],
             [
              0.1111111111111111,
              "#46039f"
             ],
             [
              0.2222222222222222,
              "#7201a8"
             ],
             [
              0.3333333333333333,
              "#9c179e"
             ],
             [
              0.4444444444444444,
              "#bd3786"
             ],
             [
              0.5555555555555556,
              "#d8576b"
             ],
             [
              0.6666666666666666,
              "#ed7953"
             ],
             [
              0.7777777777777778,
              "#fb9f3a"
             ],
             [
              0.8888888888888888,
              "#fdca26"
             ],
             [
              1,
              "#f0f921"
             ]
            ],
            "type": "heatmap"
           }
          ],
          "heatmapgl": [
           {
            "colorbar": {
             "outlinewidth": 0,
             "ticks": ""
            },
            "colorscale": [
             [
              0,
              "#0d0887"
             ],
             [
              0.1111111111111111,
              "#46039f"
             ],
             [
              0.2222222222222222,
              "#7201a8"
             ],
             [
              0.3333333333333333,
              "#9c179e"
             ],
             [
              0.4444444444444444,
              "#bd3786"
             ],
             [
              0.5555555555555556,
              "#d8576b"
             ],
             [
              0.6666666666666666,
              "#ed7953"
             ],
             [
              0.7777777777777778,
              "#fb9f3a"
             ],
             [
              0.8888888888888888,
              "#fdca26"
             ],
             [
              1,
              "#f0f921"
             ]
            ],
            "type": "heatmapgl"
           }
          ],
          "histogram": [
           {
            "marker": {
             "colorbar": {
              "outlinewidth": 0,
              "ticks": ""
             }
            },
            "type": "histogram"
           }
          ],
          "histogram2d": [
           {
            "colorbar": {
             "outlinewidth": 0,
             "ticks": ""
            },
            "colorscale": [
             [
              0,
              "#0d0887"
             ],
             [
              0.1111111111111111,
              "#46039f"
             ],
             [
              0.2222222222222222,
              "#7201a8"
             ],
             [
              0.3333333333333333,
              "#9c179e"
             ],
             [
              0.4444444444444444,
              "#bd3786"
             ],
             [
              0.5555555555555556,
              "#d8576b"
             ],
             [
              0.6666666666666666,
              "#ed7953"
             ],
             [
              0.7777777777777778,
              "#fb9f3a"
             ],
             [
              0.8888888888888888,
              "#fdca26"
             ],
             [
              1,
              "#f0f921"
             ]
            ],
            "type": "histogram2d"
           }
          ],
          "histogram2dcontour": [
           {
            "colorbar": {
             "outlinewidth": 0,
             "ticks": ""
            },
            "colorscale": [
             [
              0,
              "#0d0887"
             ],
             [
              0.1111111111111111,
              "#46039f"
             ],
             [
              0.2222222222222222,
              "#7201a8"
             ],
             [
              0.3333333333333333,
              "#9c179e"
             ],
             [
              0.4444444444444444,
              "#bd3786"
             ],
             [
              0.5555555555555556,
              "#d8576b"
             ],
             [
              0.6666666666666666,
              "#ed7953"
             ],
             [
              0.7777777777777778,
              "#fb9f3a"
             ],
             [
              0.8888888888888888,
              "#fdca26"
             ],
             [
              1,
              "#f0f921"
             ]
            ],
            "type": "histogram2dcontour"
           }
          ],
          "mesh3d": [
           {
            "colorbar": {
             "outlinewidth": 0,
             "ticks": ""
            },
            "type": "mesh3d"
           }
          ],
          "parcoords": [
           {
            "line": {
             "colorbar": {
              "outlinewidth": 0,
              "ticks": ""
             }
            },
            "type": "parcoords"
           }
          ],
          "scatter": [
           {
            "marker": {
             "colorbar": {
              "outlinewidth": 0,
              "ticks": ""
             }
            },
            "type": "scatter"
           }
          ],
          "scatter3d": [
           {
            "line": {
             "colorbar": {
              "outlinewidth": 0,
              "ticks": ""
             }
            },
            "marker": {
             "colorbar": {
              "outlinewidth": 0,
              "ticks": ""
             }
            },
            "type": "scatter3d"
           }
          ],
          "scattercarpet": [
           {
            "marker": {
             "colorbar": {
              "outlinewidth": 0,
              "ticks": ""
             }
            },
            "type": "scattercarpet"
           }
          ],
          "scattergeo": [
           {
            "marker": {
             "colorbar": {
              "outlinewidth": 0,
              "ticks": ""
             }
            },
            "type": "scattergeo"
           }
          ],
          "scattergl": [
           {
            "marker": {
             "colorbar": {
              "outlinewidth": 0,
              "ticks": ""
             }
            },
            "type": "scattergl"
           }
          ],
          "scattermapbox": [
           {
            "marker": {
             "colorbar": {
              "outlinewidth": 0,
              "ticks": ""
             }
            },
            "type": "scattermapbox"
           }
          ],
          "scatterpolar": [
           {
            "marker": {
             "colorbar": {
              "outlinewidth": 0,
              "ticks": ""
             }
            },
            "type": "scatterpolar"
           }
          ],
          "scatterpolargl": [
           {
            "marker": {
             "colorbar": {
              "outlinewidth": 0,
              "ticks": ""
             }
            },
            "type": "scatterpolargl"
           }
          ],
          "scatterternary": [
           {
            "marker": {
             "colorbar": {
              "outlinewidth": 0,
              "ticks": ""
             }
            },
            "type": "scatterternary"
           }
          ],
          "surface": [
           {
            "colorbar": {
             "outlinewidth": 0,
             "ticks": ""
            },
            "colorscale": [
             [
              0,
              "#0d0887"
             ],
             [
              0.1111111111111111,
              "#46039f"
             ],
             [
              0.2222222222222222,
              "#7201a8"
             ],
             [
              0.3333333333333333,
              "#9c179e"
             ],
             [
              0.4444444444444444,
              "#bd3786"
             ],
             [
              0.5555555555555556,
              "#d8576b"
             ],
             [
              0.6666666666666666,
              "#ed7953"
             ],
             [
              0.7777777777777778,
              "#fb9f3a"
             ],
             [
              0.8888888888888888,
              "#fdca26"
             ],
             [
              1,
              "#f0f921"
             ]
            ],
            "type": "surface"
           }
          ],
          "table": [
           {
            "cells": {
             "fill": {
              "color": "#EBF0F8"
             },
             "line": {
              "color": "white"
             }
            },
            "header": {
             "fill": {
              "color": "#C8D4E3"
             },
             "line": {
              "color": "white"
             }
            },
            "type": "table"
           }
          ]
         },
         "layout": {
          "annotationdefaults": {
           "arrowcolor": "#2a3f5f",
           "arrowhead": 0,
           "arrowwidth": 1
          },
          "colorscale": {
           "diverging": [
            [
             0,
             "#8e0152"
            ],
            [
             0.1,
             "#c51b7d"
            ],
            [
             0.2,
             "#de77ae"
            ],
            [
             0.3,
             "#f1b6da"
            ],
            [
             0.4,
             "#fde0ef"
            ],
            [
             0.5,
             "#f7f7f7"
            ],
            [
             0.6,
             "#e6f5d0"
            ],
            [
             0.7,
             "#b8e186"
            ],
            [
             0.8,
             "#7fbc41"
            ],
            [
             0.9,
             "#4d9221"
            ],
            [
             1,
             "#276419"
            ]
           ],
           "sequential": [
            [
             0,
             "#0d0887"
            ],
            [
             0.1111111111111111,
             "#46039f"
            ],
            [
             0.2222222222222222,
             "#7201a8"
            ],
            [
             0.3333333333333333,
             "#9c179e"
            ],
            [
             0.4444444444444444,
             "#bd3786"
            ],
            [
             0.5555555555555556,
             "#d8576b"
            ],
            [
             0.6666666666666666,
             "#ed7953"
            ],
            [
             0.7777777777777778,
             "#fb9f3a"
            ],
            [
             0.8888888888888888,
             "#fdca26"
            ],
            [
             1,
             "#f0f921"
            ]
           ],
           "sequentialminus": [
            [
             0,
             "#0d0887"
            ],
            [
             0.1111111111111111,
             "#46039f"
            ],
            [
             0.2222222222222222,
             "#7201a8"
            ],
            [
             0.3333333333333333,
             "#9c179e"
            ],
            [
             0.4444444444444444,
             "#bd3786"
            ],
            [
             0.5555555555555556,
             "#d8576b"
            ],
            [
             0.6666666666666666,
             "#ed7953"
            ],
            [
             0.7777777777777778,
             "#fb9f3a"
            ],
            [
             0.8888888888888888,
             "#fdca26"
            ],
            [
             1,
             "#f0f921"
            ]
           ]
          },
          "colorway": [
           "#636efa",
           "#EF553B",
           "#00cc96",
           "#ab63fa",
           "#FFA15A",
           "#19d3f3",
           "#FF6692",
           "#B6E880",
           "#FF97FF",
           "#FECB52"
          ],
          "font": {
           "color": "#2a3f5f"
          },
          "geo": {
           "bgcolor": "white",
           "lakecolor": "white",
           "landcolor": "#E5ECF6",
           "showlakes": true,
           "showland": true,
           "subunitcolor": "white"
          },
          "hoverlabel": {
           "align": "left"
          },
          "hovermode": "closest",
          "mapbox": {
           "style": "light"
          },
          "paper_bgcolor": "white",
          "plot_bgcolor": "#E5ECF6",
          "polar": {
           "angularaxis": {
            "gridcolor": "white",
            "linecolor": "white",
            "ticks": ""
           },
           "bgcolor": "#E5ECF6",
           "radialaxis": {
            "gridcolor": "white",
            "linecolor": "white",
            "ticks": ""
           }
          },
          "scene": {
           "xaxis": {
            "backgroundcolor": "#E5ECF6",
            "gridcolor": "white",
            "gridwidth": 2,
            "linecolor": "white",
            "showbackground": true,
            "ticks": "",
            "zerolinecolor": "white"
           },
           "yaxis": {
            "backgroundcolor": "#E5ECF6",
            "gridcolor": "white",
            "gridwidth": 2,
            "linecolor": "white",
            "showbackground": true,
            "ticks": "",
            "zerolinecolor": "white"
           },
           "zaxis": {
            "backgroundcolor": "#E5ECF6",
            "gridcolor": "white",
            "gridwidth": 2,
            "linecolor": "white",
            "showbackground": true,
            "ticks": "",
            "zerolinecolor": "white"
           }
          },
          "shapedefaults": {
           "line": {
            "color": "#2a3f5f"
           }
          },
          "ternary": {
           "aaxis": {
            "gridcolor": "white",
            "linecolor": "white",
            "ticks": ""
           },
           "baxis": {
            "gridcolor": "white",
            "linecolor": "white",
            "ticks": ""
           },
           "bgcolor": "#E5ECF6",
           "caxis": {
            "gridcolor": "white",
            "linecolor": "white",
            "ticks": ""
           }
          },
          "title": {
           "x": 0.05
          },
          "xaxis": {
           "automargin": true,
           "gridcolor": "white",
           "linecolor": "white",
           "ticks": "",
           "zerolinecolor": "white",
           "zerolinewidth": 2
          },
          "yaxis": {
           "automargin": true,
           "gridcolor": "white",
           "linecolor": "white",
           "ticks": "",
           "zerolinecolor": "white",
           "zerolinewidth": 2
          }
         }
        },
        "title": {
         "text": "Среднее количество смс в месяц (по тарифам) "
        },
        "xaxis": {
         "title": {
          "text": "Месяц и тариф (1-январь, 12-декабрь)"
         }
        },
        "yaxis": {
         "title": {
          "text": "Количество смс (среднее)"
         }
        }
       }
      },
      "text/html": [
       "<div>\n",
       "        \n",
       "        \n",
       "            <div id=\"841a4a1e-8468-4231-9a66-9e26280ab30f\" class=\"plotly-graph-div\" style=\"height:525px; width:100%;\"></div>\n",
       "            <script type=\"text/javascript\">\n",
       "                require([\"plotly\"], function(Plotly) {\n",
       "                    window.PLOTLYENV=window.PLOTLYENV || {};\n",
       "                    \n",
       "                if (document.getElementById(\"841a4a1e-8468-4231-9a66-9e26280ab30f\")) {\n",
       "                    Plotly.newPlot(\n",
       "                        '841a4a1e-8468-4231-9a66-9e26280ab30f',\n",
       "                        [{\"name\": \"\\u0422\\u0430\\u0440\\u0438\\u0444 \\\"\\u0421\\u041c\\u0410\\u0420\\u0422\\\"\", \"type\": \"bar\", \"x\": [1, 2, 3, 4, 5, 6, 7, 8, 9, 10, 11, 12], \"y\": [18.235294117647058, 24.086206896551722, 31.857142857142858, 30.741071428571427, 33.773049645390074, 33.40243902439025, 33.75124378109453, 33.638297872340424, 33.63846153846154, 33.765306122448976, 34.075949367088604, 35.99406528189911]}, {\"name\": \"\\u0422\\u0430\\u0440\\u0438\\u0444 \\\"\\u0423\\u041b\\u042c\\u0422\\u0420\\u0410\\\"\", \"type\": \"bar\", \"x\": [1, 2, 3, 4, 5, 6, 7, 8, 9, 10, 11, 12], \"y\": [33.77777777777778, 21.958333333333332, 32.2972972972973, 31.563636363636363, 37.850746268656714, 41.726190476190474, 49.84615384615385, 48.4392523364486, 52.28695652173913, 58.43089430894309, 55.791044776119406, 60.611510791366904]}],\n",
       "                        {\"template\": {\"data\": {\"bar\": [{\"error_x\": {\"color\": \"#2a3f5f\"}, \"error_y\": {\"color\": \"#2a3f5f\"}, \"marker\": {\"line\": {\"color\": \"#E5ECF6\", \"width\": 0.5}}, \"type\": \"bar\"}], \"barpolar\": [{\"marker\": {\"line\": {\"color\": \"#E5ECF6\", \"width\": 0.5}}, \"type\": \"barpolar\"}], \"carpet\": [{\"aaxis\": {\"endlinecolor\": \"#2a3f5f\", \"gridcolor\": \"white\", \"linecolor\": \"white\", \"minorgridcolor\": \"white\", \"startlinecolor\": \"#2a3f5f\"}, \"baxis\": {\"endlinecolor\": \"#2a3f5f\", \"gridcolor\": \"white\", \"linecolor\": \"white\", \"minorgridcolor\": \"white\", \"startlinecolor\": \"#2a3f5f\"}, \"type\": \"carpet\"}], \"choropleth\": [{\"colorbar\": {\"outlinewidth\": 0, \"ticks\": \"\"}, \"type\": \"choropleth\"}], \"contour\": [{\"colorbar\": {\"outlinewidth\": 0, \"ticks\": \"\"}, \"colorscale\": [[0.0, \"#0d0887\"], [0.1111111111111111, \"#46039f\"], [0.2222222222222222, \"#7201a8\"], [0.3333333333333333, \"#9c179e\"], [0.4444444444444444, \"#bd3786\"], [0.5555555555555556, \"#d8576b\"], [0.6666666666666666, \"#ed7953\"], [0.7777777777777778, \"#fb9f3a\"], [0.8888888888888888, \"#fdca26\"], [1.0, \"#f0f921\"]], \"type\": \"contour\"}], \"contourcarpet\": [{\"colorbar\": {\"outlinewidth\": 0, \"ticks\": \"\"}, \"type\": \"contourcarpet\"}], \"heatmap\": [{\"colorbar\": {\"outlinewidth\": 0, \"ticks\": \"\"}, \"colorscale\": [[0.0, \"#0d0887\"], [0.1111111111111111, \"#46039f\"], [0.2222222222222222, \"#7201a8\"], [0.3333333333333333, \"#9c179e\"], [0.4444444444444444, \"#bd3786\"], [0.5555555555555556, \"#d8576b\"], [0.6666666666666666, \"#ed7953\"], [0.7777777777777778, \"#fb9f3a\"], [0.8888888888888888, \"#fdca26\"], [1.0, \"#f0f921\"]], \"type\": \"heatmap\"}], \"heatmapgl\": [{\"colorbar\": {\"outlinewidth\": 0, \"ticks\": \"\"}, \"colorscale\": [[0.0, \"#0d0887\"], [0.1111111111111111, \"#46039f\"], [0.2222222222222222, \"#7201a8\"], [0.3333333333333333, \"#9c179e\"], [0.4444444444444444, \"#bd3786\"], [0.5555555555555556, \"#d8576b\"], [0.6666666666666666, \"#ed7953\"], [0.7777777777777778, \"#fb9f3a\"], [0.8888888888888888, \"#fdca26\"], [1.0, \"#f0f921\"]], \"type\": \"heatmapgl\"}], \"histogram\": [{\"marker\": {\"colorbar\": {\"outlinewidth\": 0, \"ticks\": \"\"}}, \"type\": \"histogram\"}], \"histogram2d\": [{\"colorbar\": {\"outlinewidth\": 0, \"ticks\": \"\"}, \"colorscale\": [[0.0, \"#0d0887\"], [0.1111111111111111, \"#46039f\"], [0.2222222222222222, \"#7201a8\"], [0.3333333333333333, \"#9c179e\"], [0.4444444444444444, \"#bd3786\"], [0.5555555555555556, \"#d8576b\"], [0.6666666666666666, \"#ed7953\"], [0.7777777777777778, \"#fb9f3a\"], [0.8888888888888888, \"#fdca26\"], [1.0, \"#f0f921\"]], \"type\": \"histogram2d\"}], \"histogram2dcontour\": [{\"colorbar\": {\"outlinewidth\": 0, \"ticks\": \"\"}, \"colorscale\": [[0.0, \"#0d0887\"], [0.1111111111111111, \"#46039f\"], [0.2222222222222222, \"#7201a8\"], [0.3333333333333333, \"#9c179e\"], [0.4444444444444444, \"#bd3786\"], [0.5555555555555556, \"#d8576b\"], [0.6666666666666666, \"#ed7953\"], [0.7777777777777778, \"#fb9f3a\"], [0.8888888888888888, \"#fdca26\"], [1.0, \"#f0f921\"]], \"type\": \"histogram2dcontour\"}], \"mesh3d\": [{\"colorbar\": {\"outlinewidth\": 0, \"ticks\": \"\"}, \"type\": \"mesh3d\"}], \"parcoords\": [{\"line\": {\"colorbar\": {\"outlinewidth\": 0, \"ticks\": \"\"}}, \"type\": \"parcoords\"}], \"scatter\": [{\"marker\": {\"colorbar\": {\"outlinewidth\": 0, \"ticks\": \"\"}}, \"type\": \"scatter\"}], \"scatter3d\": [{\"line\": {\"colorbar\": {\"outlinewidth\": 0, \"ticks\": \"\"}}, \"marker\": {\"colorbar\": {\"outlinewidth\": 0, \"ticks\": \"\"}}, \"type\": \"scatter3d\"}], \"scattercarpet\": [{\"marker\": {\"colorbar\": {\"outlinewidth\": 0, \"ticks\": \"\"}}, \"type\": \"scattercarpet\"}], \"scattergeo\": [{\"marker\": {\"colorbar\": {\"outlinewidth\": 0, \"ticks\": \"\"}}, \"type\": \"scattergeo\"}], \"scattergl\": [{\"marker\": {\"colorbar\": {\"outlinewidth\": 0, \"ticks\": \"\"}}, \"type\": \"scattergl\"}], \"scattermapbox\": [{\"marker\": {\"colorbar\": {\"outlinewidth\": 0, \"ticks\": \"\"}}, \"type\": \"scattermapbox\"}], \"scatterpolar\": [{\"marker\": {\"colorbar\": {\"outlinewidth\": 0, \"ticks\": \"\"}}, \"type\": \"scatterpolar\"}], \"scatterpolargl\": [{\"marker\": {\"colorbar\": {\"outlinewidth\": 0, \"ticks\": \"\"}}, \"type\": \"scatterpolargl\"}], \"scatterternary\": [{\"marker\": {\"colorbar\": {\"outlinewidth\": 0, \"ticks\": \"\"}}, \"type\": \"scatterternary\"}], \"surface\": [{\"colorbar\": {\"outlinewidth\": 0, \"ticks\": \"\"}, \"colorscale\": [[0.0, \"#0d0887\"], [0.1111111111111111, \"#46039f\"], [0.2222222222222222, \"#7201a8\"], [0.3333333333333333, \"#9c179e\"], [0.4444444444444444, \"#bd3786\"], [0.5555555555555556, \"#d8576b\"], [0.6666666666666666, \"#ed7953\"], [0.7777777777777778, \"#fb9f3a\"], [0.8888888888888888, \"#fdca26\"], [1.0, \"#f0f921\"]], \"type\": \"surface\"}], \"table\": [{\"cells\": {\"fill\": {\"color\": \"#EBF0F8\"}, \"line\": {\"color\": \"white\"}}, \"header\": {\"fill\": {\"color\": \"#C8D4E3\"}, \"line\": {\"color\": \"white\"}}, \"type\": \"table\"}]}, \"layout\": {\"annotationdefaults\": {\"arrowcolor\": \"#2a3f5f\", \"arrowhead\": 0, \"arrowwidth\": 1}, \"colorscale\": {\"diverging\": [[0, \"#8e0152\"], [0.1, \"#c51b7d\"], [0.2, \"#de77ae\"], [0.3, \"#f1b6da\"], [0.4, \"#fde0ef\"], [0.5, \"#f7f7f7\"], [0.6, \"#e6f5d0\"], [0.7, \"#b8e186\"], [0.8, \"#7fbc41\"], [0.9, \"#4d9221\"], [1, \"#276419\"]], \"sequential\": [[0.0, \"#0d0887\"], [0.1111111111111111, \"#46039f\"], [0.2222222222222222, \"#7201a8\"], [0.3333333333333333, \"#9c179e\"], [0.4444444444444444, \"#bd3786\"], [0.5555555555555556, \"#d8576b\"], [0.6666666666666666, \"#ed7953\"], [0.7777777777777778, \"#fb9f3a\"], [0.8888888888888888, \"#fdca26\"], [1.0, \"#f0f921\"]], \"sequentialminus\": [[0.0, \"#0d0887\"], [0.1111111111111111, \"#46039f\"], [0.2222222222222222, \"#7201a8\"], [0.3333333333333333, \"#9c179e\"], [0.4444444444444444, \"#bd3786\"], [0.5555555555555556, \"#d8576b\"], [0.6666666666666666, \"#ed7953\"], [0.7777777777777778, \"#fb9f3a\"], [0.8888888888888888, \"#fdca26\"], [1.0, \"#f0f921\"]]}, \"colorway\": [\"#636efa\", \"#EF553B\", \"#00cc96\", \"#ab63fa\", \"#FFA15A\", \"#19d3f3\", \"#FF6692\", \"#B6E880\", \"#FF97FF\", \"#FECB52\"], \"font\": {\"color\": \"#2a3f5f\"}, \"geo\": {\"bgcolor\": \"white\", \"lakecolor\": \"white\", \"landcolor\": \"#E5ECF6\", \"showlakes\": true, \"showland\": true, \"subunitcolor\": \"white\"}, \"hoverlabel\": {\"align\": \"left\"}, \"hovermode\": \"closest\", \"mapbox\": {\"style\": \"light\"}, \"paper_bgcolor\": \"white\", \"plot_bgcolor\": \"#E5ECF6\", \"polar\": {\"angularaxis\": {\"gridcolor\": \"white\", \"linecolor\": \"white\", \"ticks\": \"\"}, \"bgcolor\": \"#E5ECF6\", \"radialaxis\": {\"gridcolor\": \"white\", \"linecolor\": \"white\", \"ticks\": \"\"}}, \"scene\": {\"xaxis\": {\"backgroundcolor\": \"#E5ECF6\", \"gridcolor\": \"white\", \"gridwidth\": 2, \"linecolor\": \"white\", \"showbackground\": true, \"ticks\": \"\", \"zerolinecolor\": \"white\"}, \"yaxis\": {\"backgroundcolor\": \"#E5ECF6\", \"gridcolor\": \"white\", \"gridwidth\": 2, \"linecolor\": \"white\", \"showbackground\": true, \"ticks\": \"\", \"zerolinecolor\": \"white\"}, \"zaxis\": {\"backgroundcolor\": \"#E5ECF6\", \"gridcolor\": \"white\", \"gridwidth\": 2, \"linecolor\": \"white\", \"showbackground\": true, \"ticks\": \"\", \"zerolinecolor\": \"white\"}}, \"shapedefaults\": {\"line\": {\"color\": \"#2a3f5f\"}}, \"ternary\": {\"aaxis\": {\"gridcolor\": \"white\", \"linecolor\": \"white\", \"ticks\": \"\"}, \"baxis\": {\"gridcolor\": \"white\", \"linecolor\": \"white\", \"ticks\": \"\"}, \"bgcolor\": \"#E5ECF6\", \"caxis\": {\"gridcolor\": \"white\", \"linecolor\": \"white\", \"ticks\": \"\"}}, \"title\": {\"x\": 0.05}, \"xaxis\": {\"automargin\": true, \"gridcolor\": \"white\", \"linecolor\": \"white\", \"ticks\": \"\", \"zerolinecolor\": \"white\", \"zerolinewidth\": 2}, \"yaxis\": {\"automargin\": true, \"gridcolor\": \"white\", \"linecolor\": \"white\", \"ticks\": \"\", \"zerolinecolor\": \"white\", \"zerolinewidth\": 2}}}, \"title\": {\"text\": \"\\u0421\\u0440\\u0435\\u0434\\u043d\\u0435\\u0435 \\u043a\\u043e\\u043b\\u0438\\u0447\\u0435\\u0441\\u0442\\u0432\\u043e \\u0441\\u043c\\u0441 \\u0432 \\u043c\\u0435\\u0441\\u044f\\u0446 (\\u043f\\u043e \\u0442\\u0430\\u0440\\u0438\\u0444\\u0430\\u043c) \"}, \"xaxis\": {\"title\": {\"text\": \"\\u041c\\u0435\\u0441\\u044f\\u0446 \\u0438 \\u0442\\u0430\\u0440\\u0438\\u0444 (1-\\u044f\\u043d\\u0432\\u0430\\u0440\\u044c, 12-\\u0434\\u0435\\u043a\\u0430\\u0431\\u0440\\u044c)\"}}, \"yaxis\": {\"title\": {\"text\": \"\\u041a\\u043e\\u043b\\u0438\\u0447\\u0435\\u0441\\u0442\\u0432\\u043e \\u0441\\u043c\\u0441 (\\u0441\\u0440\\u0435\\u0434\\u043d\\u0435\\u0435)\"}}},\n",
       "                        {\"responsive\": true}\n",
       "                    ).then(function(){\n",
       "                            \n",
       "var gd = document.getElementById('841a4a1e-8468-4231-9a66-9e26280ab30f');\n",
       "var x = new MutationObserver(function (mutations, observer) {{\n",
       "        var display = window.getComputedStyle(gd).display;\n",
       "        if (!display || display === 'none') {{\n",
       "            console.log([gd, 'removed!']);\n",
       "            Plotly.purge(gd);\n",
       "            observer.disconnect();\n",
       "        }}\n",
       "}});\n",
       "\n",
       "// Listen for the removal of the full notebook cells\n",
       "var notebookContainer = gd.closest('#notebook-container');\n",
       "if (notebookContainer) {{\n",
       "    x.observe(notebookContainer, {childList: true});\n",
       "}}\n",
       "\n",
       "// Listen for the clearing of the current output cell\n",
       "var outputEl = gd.closest('.output');\n",
       "if (outputEl) {{\n",
       "    x.observe(outputEl, {childList: true});\n",
       "}}\n",
       "\n",
       "                        })\n",
       "                };\n",
       "                });\n",
       "            </script>\n",
       "        </div>"
      ]
     },
     "metadata": {},
     "output_type": "display_data"
    }
   ],
   "source": [
    "mess_spent_plot = final_table.query('tariff == \"smart\"').groupby('month')[['mess_count']].mean().join(\n",
    "    final_table.query('tariff == \"ultra\"').groupby('month')[['mess_count']].mean(), rsuffix='_')\n",
    "mess_spent_plot.columns = ['smart', 'ultra']\n",
    "\n",
    "\n",
    "trace0 = go.Bar(\n",
    "    x=mess_spent_plot.index,\n",
    "    y=mess_spent_plot.smart,\n",
    "    name='Тариф \"СМАРТ\"'\n",
    ")\n",
    "\n",
    "trace1 = go.Bar(\n",
    "    x=mess_spent_plot.index,\n",
    "    y=mess_spent_plot.ultra,\n",
    "    name='Тариф \"УЛЬТРА\"'\n",
    ")\n",
    "\n",
    "data = [trace0, trace1]\n",
    "layout = {'title': 'Среднее количество смс в месяц (по тарифам) ',\n",
    "          'yaxis': {'title': 'Количество смс (среднее)'},\n",
    "          'xaxis': {'title': 'Месяц и тариф (1-январь, 12-декабрь)'}}\n",
    "\n",
    "fig = go.Figure(data=data, layout=layout)\n",
    "iplot(fig, show_link=False)"
   ]
  },
  {
   "cell_type": "code",
   "execution_count": 71,
   "metadata": {
    "id": "waksGEM9K3xT",
    "outputId": "a8bbf181-6642-4a91-ba2f-8f4bea299aa9",
    "scrolled": true
   },
   "outputs": [
    {
     "data": {
      "text/plain": [
       "'0.7733011109934177 - корреляция smart тарифа по смс'"
      ]
     },
     "metadata": {},
     "output_type": "display_data"
    },
    {
     "data": {
      "text/plain": [
       "'0.9476272073404977 - корреляция ultra тарифа по смсmess_spent_plot'"
      ]
     },
     "metadata": {},
     "output_type": "display_data"
    }
   ],
   "source": [
    "smart = mess_spent_plot.reset_index().smart.corr(mess_spent_plot.reset_index().month)\n",
    "ultra = mess_spent_plot.reset_index().ultra.corr(mess_spent_plot.reset_index().month)\n",
    "display(f'{smart} - корреляция smart тарифа по смс', f'{ultra} - корреляция ultra тарифа по смсmess_spent_plot')"
   ]
  },
  {
   "cell_type": "markdown",
   "metadata": {
    "id": "SgvnQGUeK3xT"
   },
   "source": [
    "По этой таблице я могу сказать тоже самое, что и там, а точнее:\n",
    "- В тарифе \"УЛЬТРА\" клиенты в среднем больше отправляют смс, чем в \"СМАРТ\"\n",
    "- У тарифа \"УЛЬТРА\" от начала года к концу идет рост среднего по количеству отправленных смс, а вот у \"СМАРТ\" начиная с 3 месяца почти до конца года все одинакого."
   ]
  },
  {
   "cell_type": "markdown",
   "metadata": {
    "id": "RCYr01btK3xT"
   },
   "source": [
    "### Опишем поведение клиентов оператора, исходя из выборки."
   ]
  },
  {
   "cell_type": "code",
   "execution_count": 72,
   "metadata": {
    "id": "OIQv36kiK3xT",
    "outputId": "fcc33fc2-d534-4eff-9b94-595fe8e17a7c"
   },
   "outputs": [
    {
     "data": {
      "text/html": [
       "<div>\n",
       "<style scoped>\n",
       "    .dataframe tbody tr th:only-of-type {\n",
       "        vertical-align: middle;\n",
       "    }\n",
       "\n",
       "    .dataframe tbody tr th {\n",
       "        vertical-align: top;\n",
       "    }\n",
       "\n",
       "    .dataframe thead th {\n",
       "        text-align: right;\n",
       "    }\n",
       "</style>\n",
       "<table border=\"1\" class=\"dataframe\">\n",
       "  <thead>\n",
       "    <tr style=\"text-align: right;\">\n",
       "      <th></th>\n",
       "      <th></th>\n",
       "      <th>sum_count</th>\n",
       "      <th>mb_mean</th>\n",
       "      <th>var</th>\n",
       "      <th>sqrt</th>\n",
       "    </tr>\n",
       "    <tr>\n",
       "      <th>month</th>\n",
       "      <th>tariff</th>\n",
       "      <th></th>\n",
       "      <th></th>\n",
       "      <th></th>\n",
       "      <th></th>\n",
       "    </tr>\n",
       "  </thead>\n",
       "  <tbody>\n",
       "    <tr>\n",
       "      <td rowspan=\"2\" valign=\"top\">1</td>\n",
       "      <td>smart</td>\n",
       "      <td>289831.0</td>\n",
       "      <td>8524.441176</td>\n",
       "      <td>4.162621e+07</td>\n",
       "      <td>6451.837940</td>\n",
       "    </tr>\n",
       "    <tr>\n",
       "      <td>ultra</td>\n",
       "      <td>118382.0</td>\n",
       "      <td>13153.555556</td>\n",
       "      <td>4.722641e+07</td>\n",
       "      <td>6872.147046</td>\n",
       "    </tr>\n",
       "    <tr>\n",
       "      <td rowspan=\"2\" valign=\"top\">2</td>\n",
       "      <td>smart</td>\n",
       "      <td>673461.0</td>\n",
       "      <td>11611.396552</td>\n",
       "      <td>3.911935e+07</td>\n",
       "      <td>6254.546293</td>\n",
       "    </tr>\n",
       "    <tr>\n",
       "      <td>ultra</td>\n",
       "      <td>282887.0</td>\n",
       "      <td>11786.958333</td>\n",
       "      <td>1.135150e+08</td>\n",
       "      <td>10654.343346</td>\n",
       "    </tr>\n",
       "    <tr>\n",
       "      <td rowspan=\"2\" valign=\"top\">3</td>\n",
       "      <td>smart</td>\n",
       "      <td>1164537.0</td>\n",
       "      <td>15123.857143</td>\n",
       "      <td>3.405260e+07</td>\n",
       "      <td>5835.460138</td>\n",
       "    </tr>\n",
       "    <tr>\n",
       "      <td>ultra</td>\n",
       "      <td>649423.0</td>\n",
       "      <td>17551.972973</td>\n",
       "      <td>1.201640e+08</td>\n",
       "      <td>10961.936316</td>\n",
       "    </tr>\n",
       "    <tr>\n",
       "      <td rowspan=\"2\" valign=\"top\">4</td>\n",
       "      <td>smart</td>\n",
       "      <td>1509702.0</td>\n",
       "      <td>13479.482143</td>\n",
       "      <td>3.254736e+07</td>\n",
       "      <td>5705.029114</td>\n",
       "    </tr>\n",
       "    <tr>\n",
       "      <td>ultra</td>\n",
       "      <td>926409.0</td>\n",
       "      <td>16843.800000</td>\n",
       "      <td>9.462393e+07</td>\n",
       "      <td>9727.483304</td>\n",
       "    </tr>\n",
       "    <tr>\n",
       "      <td rowspan=\"2\" valign=\"top\">5</td>\n",
       "      <td>smart</td>\n",
       "      <td>2231353.0</td>\n",
       "      <td>15825.198582</td>\n",
       "      <td>3.582236e+07</td>\n",
       "      <td>5985.177978</td>\n",
       "    </tr>\n",
       "    <tr>\n",
       "      <td>ultra</td>\n",
       "      <td>1298540.0</td>\n",
       "      <td>19381.194030</td>\n",
       "      <td>1.011158e+08</td>\n",
       "      <td>10055.634106</td>\n",
       "    </tr>\n",
       "    <tr>\n",
       "      <td rowspan=\"2\" valign=\"top\">6</td>\n",
       "      <td>smart</td>\n",
       "      <td>2593622.0</td>\n",
       "      <td>15814.768293</td>\n",
       "      <td>3.361642e+07</td>\n",
       "      <td>5797.966469</td>\n",
       "    </tr>\n",
       "    <tr>\n",
       "      <td>ultra</td>\n",
       "      <td>1591148.0</td>\n",
       "      <td>18942.238095</td>\n",
       "      <td>8.652248e+07</td>\n",
       "      <td>9301.745817</td>\n",
       "    </tr>\n",
       "    <tr>\n",
       "      <td rowspan=\"2\" valign=\"top\">7</td>\n",
       "      <td>smart</td>\n",
       "      <td>3168466.0</td>\n",
       "      <td>15763.512438</td>\n",
       "      <td>3.486110e+07</td>\n",
       "      <td>5904.328642</td>\n",
       "    </tr>\n",
       "    <tr>\n",
       "      <td>ultra</td>\n",
       "      <td>1866833.0</td>\n",
       "      <td>20514.648352</td>\n",
       "      <td>1.014776e+08</td>\n",
       "      <td>10073.606689</td>\n",
       "    </tr>\n",
       "    <tr>\n",
       "      <td rowspan=\"2\" valign=\"top\">8</td>\n",
       "      <td>smart</td>\n",
       "      <td>3908561.0</td>\n",
       "      <td>16632.174468</td>\n",
       "      <td>3.136352e+07</td>\n",
       "      <td>5600.314007</td>\n",
       "    </tr>\n",
       "    <tr>\n",
       "      <td>ultra</td>\n",
       "      <td>2096565.0</td>\n",
       "      <td>19594.065421</td>\n",
       "      <td>1.099560e+08</td>\n",
       "      <td>10485.992263</td>\n",
       "    </tr>\n",
       "    <tr>\n",
       "      <td rowspan=\"2\" valign=\"top\">9</td>\n",
       "      <td>smart</td>\n",
       "      <td>4244377.0</td>\n",
       "      <td>16324.526923</td>\n",
       "      <td>2.706215e+07</td>\n",
       "      <td>5202.129029</td>\n",
       "    </tr>\n",
       "    <tr>\n",
       "      <td>ultra</td>\n",
       "      <td>2210554.0</td>\n",
       "      <td>19222.208696</td>\n",
       "      <td>9.014880e+07</td>\n",
       "      <td>9494.672266</td>\n",
       "    </tr>\n",
       "    <tr>\n",
       "      <td rowspan=\"2\" valign=\"top\">10</td>\n",
       "      <td>smart</td>\n",
       "      <td>4932898.0</td>\n",
       "      <td>16778.564626</td>\n",
       "      <td>3.441711e+07</td>\n",
       "      <td>5866.609964</td>\n",
       "    </tr>\n",
       "    <tr>\n",
       "      <td>ultra</td>\n",
       "      <td>2467856.0</td>\n",
       "      <td>20063.869919</td>\n",
       "      <td>9.627171e+07</td>\n",
       "      <td>9811.814618</td>\n",
       "    </tr>\n",
       "    <tr>\n",
       "      <td rowspan=\"2\" valign=\"top\">11</td>\n",
       "      <td>smart</td>\n",
       "      <td>5345940.0</td>\n",
       "      <td>16917.531646</td>\n",
       "      <td>2.858852e+07</td>\n",
       "      <td>5346.823769</td>\n",
       "    </tr>\n",
       "    <tr>\n",
       "      <td>ultra</td>\n",
       "      <td>2653912.0</td>\n",
       "      <td>19805.313433</td>\n",
       "      <td>9.834044e+07</td>\n",
       "      <td>9916.674617</td>\n",
       "    </tr>\n",
       "    <tr>\n",
       "      <td rowspan=\"2\" valign=\"top\">12</td>\n",
       "      <td>smart</td>\n",
       "      <td>6112113.0</td>\n",
       "      <td>18136.833828</td>\n",
       "      <td>3.114083e+07</td>\n",
       "      <td>5580.397230</td>\n",
       "    </tr>\n",
       "    <tr>\n",
       "      <td>ultra</td>\n",
       "      <td>3032089.0</td>\n",
       "      <td>21813.589928</td>\n",
       "      <td>1.079051e+08</td>\n",
       "      <td>10387.738720</td>\n",
       "    </tr>\n",
       "  </tbody>\n",
       "</table>\n",
       "</div>"
      ],
      "text/plain": [
       "              sum_count       mb_mean           var          sqrt\n",
       "month tariff                                                     \n",
       "1     smart    289831.0   8524.441176  4.162621e+07   6451.837940\n",
       "      ultra    118382.0  13153.555556  4.722641e+07   6872.147046\n",
       "2     smart    673461.0  11611.396552  3.911935e+07   6254.546293\n",
       "      ultra    282887.0  11786.958333  1.135150e+08  10654.343346\n",
       "3     smart   1164537.0  15123.857143  3.405260e+07   5835.460138\n",
       "      ultra    649423.0  17551.972973  1.201640e+08  10961.936316\n",
       "4     smart   1509702.0  13479.482143  3.254736e+07   5705.029114\n",
       "      ultra    926409.0  16843.800000  9.462393e+07   9727.483304\n",
       "5     smart   2231353.0  15825.198582  3.582236e+07   5985.177978\n",
       "      ultra   1298540.0  19381.194030  1.011158e+08  10055.634106\n",
       "6     smart   2593622.0  15814.768293  3.361642e+07   5797.966469\n",
       "      ultra   1591148.0  18942.238095  8.652248e+07   9301.745817\n",
       "7     smart   3168466.0  15763.512438  3.486110e+07   5904.328642\n",
       "      ultra   1866833.0  20514.648352  1.014776e+08  10073.606689\n",
       "8     smart   3908561.0  16632.174468  3.136352e+07   5600.314007\n",
       "      ultra   2096565.0  19594.065421  1.099560e+08  10485.992263\n",
       "9     smart   4244377.0  16324.526923  2.706215e+07   5202.129029\n",
       "      ultra   2210554.0  19222.208696  9.014880e+07   9494.672266\n",
       "10    smart   4932898.0  16778.564626  3.441711e+07   5866.609964\n",
       "      ultra   2467856.0  20063.869919  9.627171e+07   9811.814618\n",
       "11    smart   5345940.0  16917.531646  2.858852e+07   5346.823769\n",
       "      ultra   2653912.0  19805.313433  9.834044e+07   9916.674617\n",
       "12    smart   6112113.0  18136.833828  3.114083e+07   5580.397230\n",
       "      ultra   3032089.0  21813.589928  1.079051e+08  10387.738720"
      ]
     },
     "execution_count": 72,
     "metadata": {},
     "output_type": "execute_result"
    }
   ],
   "source": [
    "inet_spent = final_table.pivot_table(index=['month', 'tariff'],\n",
    "                                    values='sum_mb',\n",
    "                                    aggfunc=['sum', 'mean', 'var',\n",
    "                                             lambda x: np.sqrt(np.var(x, ddof=1))]\n",
    "                                   )\n",
    "inet_spent.columns = ['sum_count', 'mb_mean', 'var', 'sqrt']\n",
    "inet_spent"
   ]
  },
  {
   "cell_type": "code",
   "execution_count": 90,
   "metadata": {
    "id": "SSJRcDpKK3xU",
    "outputId": "d59a8c7f-6240-4763-ee7a-f331d72daaa3"
   },
   "outputs": [
    {
     "data": {
      "application/vnd.plotly.v1+json": {
       "config": {
        "linkText": "Export to plot.ly",
        "plotlyServerURL": "https://plot.ly",
        "showLink": false
       },
       "data": [
        {
         "name": "Тариф \"СМАРТ\"",
         "type": "bar",
         "x": [
          1,
          2,
          3,
          4,
          5,
          6,
          7,
          8,
          9,
          10,
          11,
          12
         ],
         "y": [
          8524.441176470587,
          11611.396551724138,
          15123.857142857143,
          13479.482142857143,
          15825.198581560284,
          15814.768292682927,
          15763.512437810945,
          16632.174468085108,
          16324.526923076923,
          16778.56462585034,
          16917.53164556962,
          18136.833827893173
         ]
        },
        {
         "name": "Тариф \"УЛЬТРА\"",
         "type": "bar",
         "x": [
          1,
          2,
          3,
          4,
          5,
          6,
          7,
          8,
          9,
          10,
          11,
          12
         ],
         "y": [
          13153.555555555555,
          11786.958333333334,
          17551.972972972973,
          16843.8,
          19381.194029850747,
          18942.238095238095,
          20514.648351648353,
          19594.065420560746,
          19222.208695652174,
          20063.869918699187,
          19805.31343283582,
          21813.589928057554
         ]
        }
       ],
       "layout": {
        "template": {
         "data": {
          "bar": [
           {
            "error_x": {
             "color": "#2a3f5f"
            },
            "error_y": {
             "color": "#2a3f5f"
            },
            "marker": {
             "line": {
              "color": "#E5ECF6",
              "width": 0.5
             }
            },
            "type": "bar"
           }
          ],
          "barpolar": [
           {
            "marker": {
             "line": {
              "color": "#E5ECF6",
              "width": 0.5
             }
            },
            "type": "barpolar"
           }
          ],
          "carpet": [
           {
            "aaxis": {
             "endlinecolor": "#2a3f5f",
             "gridcolor": "white",
             "linecolor": "white",
             "minorgridcolor": "white",
             "startlinecolor": "#2a3f5f"
            },
            "baxis": {
             "endlinecolor": "#2a3f5f",
             "gridcolor": "white",
             "linecolor": "white",
             "minorgridcolor": "white",
             "startlinecolor": "#2a3f5f"
            },
            "type": "carpet"
           }
          ],
          "choropleth": [
           {
            "colorbar": {
             "outlinewidth": 0,
             "ticks": ""
            },
            "type": "choropleth"
           }
          ],
          "contour": [
           {
            "colorbar": {
             "outlinewidth": 0,
             "ticks": ""
            },
            "colorscale": [
             [
              0,
              "#0d0887"
             ],
             [
              0.1111111111111111,
              "#46039f"
             ],
             [
              0.2222222222222222,
              "#7201a8"
             ],
             [
              0.3333333333333333,
              "#9c179e"
             ],
             [
              0.4444444444444444,
              "#bd3786"
             ],
             [
              0.5555555555555556,
              "#d8576b"
             ],
             [
              0.6666666666666666,
              "#ed7953"
             ],
             [
              0.7777777777777778,
              "#fb9f3a"
             ],
             [
              0.8888888888888888,
              "#fdca26"
             ],
             [
              1,
              "#f0f921"
             ]
            ],
            "type": "contour"
           }
          ],
          "contourcarpet": [
           {
            "colorbar": {
             "outlinewidth": 0,
             "ticks": ""
            },
            "type": "contourcarpet"
           }
          ],
          "heatmap": [
           {
            "colorbar": {
             "outlinewidth": 0,
             "ticks": ""
            },
            "colorscale": [
             [
              0,
              "#0d0887"
             ],
             [
              0.1111111111111111,
              "#46039f"
             ],
             [
              0.2222222222222222,
              "#7201a8"
             ],
             [
              0.3333333333333333,
              "#9c179e"
             ],
             [
              0.4444444444444444,
              "#bd3786"
             ],
             [
              0.5555555555555556,
              "#d8576b"
             ],
             [
              0.6666666666666666,
              "#ed7953"
             ],
             [
              0.7777777777777778,
              "#fb9f3a"
             ],
             [
              0.8888888888888888,
              "#fdca26"
             ],
             [
              1,
              "#f0f921"
             ]
            ],
            "type": "heatmap"
           }
          ],
          "heatmapgl": [
           {
            "colorbar": {
             "outlinewidth": 0,
             "ticks": ""
            },
            "colorscale": [
             [
              0,
              "#0d0887"
             ],
             [
              0.1111111111111111,
              "#46039f"
             ],
             [
              0.2222222222222222,
              "#7201a8"
             ],
             [
              0.3333333333333333,
              "#9c179e"
             ],
             [
              0.4444444444444444,
              "#bd3786"
             ],
             [
              0.5555555555555556,
              "#d8576b"
             ],
             [
              0.6666666666666666,
              "#ed7953"
             ],
             [
              0.7777777777777778,
              "#fb9f3a"
             ],
             [
              0.8888888888888888,
              "#fdca26"
             ],
             [
              1,
              "#f0f921"
             ]
            ],
            "type": "heatmapgl"
           }
          ],
          "histogram": [
           {
            "marker": {
             "colorbar": {
              "outlinewidth": 0,
              "ticks": ""
             }
            },
            "type": "histogram"
           }
          ],
          "histogram2d": [
           {
            "colorbar": {
             "outlinewidth": 0,
             "ticks": ""
            },
            "colorscale": [
             [
              0,
              "#0d0887"
             ],
             [
              0.1111111111111111,
              "#46039f"
             ],
             [
              0.2222222222222222,
              "#7201a8"
             ],
             [
              0.3333333333333333,
              "#9c179e"
             ],
             [
              0.4444444444444444,
              "#bd3786"
             ],
             [
              0.5555555555555556,
              "#d8576b"
             ],
             [
              0.6666666666666666,
              "#ed7953"
             ],
             [
              0.7777777777777778,
              "#fb9f3a"
             ],
             [
              0.8888888888888888,
              "#fdca26"
             ],
             [
              1,
              "#f0f921"
             ]
            ],
            "type": "histogram2d"
           }
          ],
          "histogram2dcontour": [
           {
            "colorbar": {
             "outlinewidth": 0,
             "ticks": ""
            },
            "colorscale": [
             [
              0,
              "#0d0887"
             ],
             [
              0.1111111111111111,
              "#46039f"
             ],
             [
              0.2222222222222222,
              "#7201a8"
             ],
             [
              0.3333333333333333,
              "#9c179e"
             ],
             [
              0.4444444444444444,
              "#bd3786"
             ],
             [
              0.5555555555555556,
              "#d8576b"
             ],
             [
              0.6666666666666666,
              "#ed7953"
             ],
             [
              0.7777777777777778,
              "#fb9f3a"
             ],
             [
              0.8888888888888888,
              "#fdca26"
             ],
             [
              1,
              "#f0f921"
             ]
            ],
            "type": "histogram2dcontour"
           }
          ],
          "mesh3d": [
           {
            "colorbar": {
             "outlinewidth": 0,
             "ticks": ""
            },
            "type": "mesh3d"
           }
          ],
          "parcoords": [
           {
            "line": {
             "colorbar": {
              "outlinewidth": 0,
              "ticks": ""
             }
            },
            "type": "parcoords"
           }
          ],
          "scatter": [
           {
            "marker": {
             "colorbar": {
              "outlinewidth": 0,
              "ticks": ""
             }
            },
            "type": "scatter"
           }
          ],
          "scatter3d": [
           {
            "line": {
             "colorbar": {
              "outlinewidth": 0,
              "ticks": ""
             }
            },
            "marker": {
             "colorbar": {
              "outlinewidth": 0,
              "ticks": ""
             }
            },
            "type": "scatter3d"
           }
          ],
          "scattercarpet": [
           {
            "marker": {
             "colorbar": {
              "outlinewidth": 0,
              "ticks": ""
             }
            },
            "type": "scattercarpet"
           }
          ],
          "scattergeo": [
           {
            "marker": {
             "colorbar": {
              "outlinewidth": 0,
              "ticks": ""
             }
            },
            "type": "scattergeo"
           }
          ],
          "scattergl": [
           {
            "marker": {
             "colorbar": {
              "outlinewidth": 0,
              "ticks": ""
             }
            },
            "type": "scattergl"
           }
          ],
          "scattermapbox": [
           {
            "marker": {
             "colorbar": {
              "outlinewidth": 0,
              "ticks": ""
             }
            },
            "type": "scattermapbox"
           }
          ],
          "scatterpolar": [
           {
            "marker": {
             "colorbar": {
              "outlinewidth": 0,
              "ticks": ""
             }
            },
            "type": "scatterpolar"
           }
          ],
          "scatterpolargl": [
           {
            "marker": {
             "colorbar": {
              "outlinewidth": 0,
              "ticks": ""
             }
            },
            "type": "scatterpolargl"
           }
          ],
          "scatterternary": [
           {
            "marker": {
             "colorbar": {
              "outlinewidth": 0,
              "ticks": ""
             }
            },
            "type": "scatterternary"
           }
          ],
          "surface": [
           {
            "colorbar": {
             "outlinewidth": 0,
             "ticks": ""
            },
            "colorscale": [
             [
              0,
              "#0d0887"
             ],
             [
              0.1111111111111111,
              "#46039f"
             ],
             [
              0.2222222222222222,
              "#7201a8"
             ],
             [
              0.3333333333333333,
              "#9c179e"
             ],
             [
              0.4444444444444444,
              "#bd3786"
             ],
             [
              0.5555555555555556,
              "#d8576b"
             ],
             [
              0.6666666666666666,
              "#ed7953"
             ],
             [
              0.7777777777777778,
              "#fb9f3a"
             ],
             [
              0.8888888888888888,
              "#fdca26"
             ],
             [
              1,
              "#f0f921"
             ]
            ],
            "type": "surface"
           }
          ],
          "table": [
           {
            "cells": {
             "fill": {
              "color": "#EBF0F8"
             },
             "line": {
              "color": "white"
             }
            },
            "header": {
             "fill": {
              "color": "#C8D4E3"
             },
             "line": {
              "color": "white"
             }
            },
            "type": "table"
           }
          ]
         },
         "layout": {
          "annotationdefaults": {
           "arrowcolor": "#2a3f5f",
           "arrowhead": 0,
           "arrowwidth": 1
          },
          "colorscale": {
           "diverging": [
            [
             0,
             "#8e0152"
            ],
            [
             0.1,
             "#c51b7d"
            ],
            [
             0.2,
             "#de77ae"
            ],
            [
             0.3,
             "#f1b6da"
            ],
            [
             0.4,
             "#fde0ef"
            ],
            [
             0.5,
             "#f7f7f7"
            ],
            [
             0.6,
             "#e6f5d0"
            ],
            [
             0.7,
             "#b8e186"
            ],
            [
             0.8,
             "#7fbc41"
            ],
            [
             0.9,
             "#4d9221"
            ],
            [
             1,
             "#276419"
            ]
           ],
           "sequential": [
            [
             0,
             "#0d0887"
            ],
            [
             0.1111111111111111,
             "#46039f"
            ],
            [
             0.2222222222222222,
             "#7201a8"
            ],
            [
             0.3333333333333333,
             "#9c179e"
            ],
            [
             0.4444444444444444,
             "#bd3786"
            ],
            [
             0.5555555555555556,
             "#d8576b"
            ],
            [
             0.6666666666666666,
             "#ed7953"
            ],
            [
             0.7777777777777778,
             "#fb9f3a"
            ],
            [
             0.8888888888888888,
             "#fdca26"
            ],
            [
             1,
             "#f0f921"
            ]
           ],
           "sequentialminus": [
            [
             0,
             "#0d0887"
            ],
            [
             0.1111111111111111,
             "#46039f"
            ],
            [
             0.2222222222222222,
             "#7201a8"
            ],
            [
             0.3333333333333333,
             "#9c179e"
            ],
            [
             0.4444444444444444,
             "#bd3786"
            ],
            [
             0.5555555555555556,
             "#d8576b"
            ],
            [
             0.6666666666666666,
             "#ed7953"
            ],
            [
             0.7777777777777778,
             "#fb9f3a"
            ],
            [
             0.8888888888888888,
             "#fdca26"
            ],
            [
             1,
             "#f0f921"
            ]
           ]
          },
          "colorway": [
           "#636efa",
           "#EF553B",
           "#00cc96",
           "#ab63fa",
           "#FFA15A",
           "#19d3f3",
           "#FF6692",
           "#B6E880",
           "#FF97FF",
           "#FECB52"
          ],
          "font": {
           "color": "#2a3f5f"
          },
          "geo": {
           "bgcolor": "white",
           "lakecolor": "white",
           "landcolor": "#E5ECF6",
           "showlakes": true,
           "showland": true,
           "subunitcolor": "white"
          },
          "hoverlabel": {
           "align": "left"
          },
          "hovermode": "closest",
          "mapbox": {
           "style": "light"
          },
          "paper_bgcolor": "white",
          "plot_bgcolor": "#E5ECF6",
          "polar": {
           "angularaxis": {
            "gridcolor": "white",
            "linecolor": "white",
            "ticks": ""
           },
           "bgcolor": "#E5ECF6",
           "radialaxis": {
            "gridcolor": "white",
            "linecolor": "white",
            "ticks": ""
           }
          },
          "scene": {
           "xaxis": {
            "backgroundcolor": "#E5ECF6",
            "gridcolor": "white",
            "gridwidth": 2,
            "linecolor": "white",
            "showbackground": true,
            "ticks": "",
            "zerolinecolor": "white"
           },
           "yaxis": {
            "backgroundcolor": "#E5ECF6",
            "gridcolor": "white",
            "gridwidth": 2,
            "linecolor": "white",
            "showbackground": true,
            "ticks": "",
            "zerolinecolor": "white"
           },
           "zaxis": {
            "backgroundcolor": "#E5ECF6",
            "gridcolor": "white",
            "gridwidth": 2,
            "linecolor": "white",
            "showbackground": true,
            "ticks": "",
            "zerolinecolor": "white"
           }
          },
          "shapedefaults": {
           "line": {
            "color": "#2a3f5f"
           }
          },
          "ternary": {
           "aaxis": {
            "gridcolor": "white",
            "linecolor": "white",
            "ticks": ""
           },
           "baxis": {
            "gridcolor": "white",
            "linecolor": "white",
            "ticks": ""
           },
           "bgcolor": "#E5ECF6",
           "caxis": {
            "gridcolor": "white",
            "linecolor": "white",
            "ticks": ""
           }
          },
          "title": {
           "x": 0.05
          },
          "xaxis": {
           "automargin": true,
           "gridcolor": "white",
           "linecolor": "white",
           "ticks": "",
           "zerolinecolor": "white",
           "zerolinewidth": 2
          },
          "yaxis": {
           "automargin": true,
           "gridcolor": "white",
           "linecolor": "white",
           "ticks": "",
           "zerolinecolor": "white",
           "zerolinewidth": 2
          }
         }
        },
        "title": {
         "text": "Среднее количество мегабайт в месяц (по тарифам) "
        },
        "xaxis": {
         "title": {
          "text": "Месяц и тариф (1-январь, 12-декабрь)"
         }
        },
        "yaxis": {
         "title": {
          "text": "Количество мегабайт (среднее)"
         }
        }
       }
      },
      "text/html": [
       "<div>\n",
       "        \n",
       "        \n",
       "            <div id=\"4065dec8-f898-4f6e-a0a6-1e1c67c5925b\" class=\"plotly-graph-div\" style=\"height:525px; width:100%;\"></div>\n",
       "            <script type=\"text/javascript\">\n",
       "                require([\"plotly\"], function(Plotly) {\n",
       "                    window.PLOTLYENV=window.PLOTLYENV || {};\n",
       "                    \n",
       "                if (document.getElementById(\"4065dec8-f898-4f6e-a0a6-1e1c67c5925b\")) {\n",
       "                    Plotly.newPlot(\n",
       "                        '4065dec8-f898-4f6e-a0a6-1e1c67c5925b',\n",
       "                        [{\"name\": \"\\u0422\\u0430\\u0440\\u0438\\u0444 \\\"\\u0421\\u041c\\u0410\\u0420\\u0422\\\"\", \"type\": \"bar\", \"x\": [1, 2, 3, 4, 5, 6, 7, 8, 9, 10, 11, 12], \"y\": [8524.441176470587, 11611.396551724138, 15123.857142857143, 13479.482142857143, 15825.198581560284, 15814.768292682927, 15763.512437810945, 16632.174468085108, 16324.526923076923, 16778.56462585034, 16917.53164556962, 18136.833827893173]}, {\"name\": \"\\u0422\\u0430\\u0440\\u0438\\u0444 \\\"\\u0423\\u041b\\u042c\\u0422\\u0420\\u0410\\\"\", \"type\": \"bar\", \"x\": [1, 2, 3, 4, 5, 6, 7, 8, 9, 10, 11, 12], \"y\": [13153.555555555555, 11786.958333333334, 17551.972972972973, 16843.8, 19381.194029850747, 18942.238095238095, 20514.648351648353, 19594.065420560746, 19222.208695652174, 20063.869918699187, 19805.31343283582, 21813.589928057554]}],\n",
       "                        {\"template\": {\"data\": {\"bar\": [{\"error_x\": {\"color\": \"#2a3f5f\"}, \"error_y\": {\"color\": \"#2a3f5f\"}, \"marker\": {\"line\": {\"color\": \"#E5ECF6\", \"width\": 0.5}}, \"type\": \"bar\"}], \"barpolar\": [{\"marker\": {\"line\": {\"color\": \"#E5ECF6\", \"width\": 0.5}}, \"type\": \"barpolar\"}], \"carpet\": [{\"aaxis\": {\"endlinecolor\": \"#2a3f5f\", \"gridcolor\": \"white\", \"linecolor\": \"white\", \"minorgridcolor\": \"white\", \"startlinecolor\": \"#2a3f5f\"}, \"baxis\": {\"endlinecolor\": \"#2a3f5f\", \"gridcolor\": \"white\", \"linecolor\": \"white\", \"minorgridcolor\": \"white\", \"startlinecolor\": \"#2a3f5f\"}, \"type\": \"carpet\"}], \"choropleth\": [{\"colorbar\": {\"outlinewidth\": 0, \"ticks\": \"\"}, \"type\": \"choropleth\"}], \"contour\": [{\"colorbar\": {\"outlinewidth\": 0, \"ticks\": \"\"}, \"colorscale\": [[0.0, \"#0d0887\"], [0.1111111111111111, \"#46039f\"], [0.2222222222222222, \"#7201a8\"], [0.3333333333333333, \"#9c179e\"], [0.4444444444444444, \"#bd3786\"], [0.5555555555555556, \"#d8576b\"], [0.6666666666666666, \"#ed7953\"], [0.7777777777777778, \"#fb9f3a\"], [0.8888888888888888, \"#fdca26\"], [1.0, \"#f0f921\"]], \"type\": \"contour\"}], \"contourcarpet\": [{\"colorbar\": {\"outlinewidth\": 0, \"ticks\": \"\"}, \"type\": \"contourcarpet\"}], \"heatmap\": [{\"colorbar\": {\"outlinewidth\": 0, \"ticks\": \"\"}, \"colorscale\": [[0.0, \"#0d0887\"], [0.1111111111111111, \"#46039f\"], [0.2222222222222222, \"#7201a8\"], [0.3333333333333333, \"#9c179e\"], [0.4444444444444444, \"#bd3786\"], [0.5555555555555556, \"#d8576b\"], [0.6666666666666666, \"#ed7953\"], [0.7777777777777778, \"#fb9f3a\"], [0.8888888888888888, \"#fdca26\"], [1.0, \"#f0f921\"]], \"type\": \"heatmap\"}], \"heatmapgl\": [{\"colorbar\": {\"outlinewidth\": 0, \"ticks\": \"\"}, \"colorscale\": [[0.0, \"#0d0887\"], [0.1111111111111111, \"#46039f\"], [0.2222222222222222, \"#7201a8\"], [0.3333333333333333, \"#9c179e\"], [0.4444444444444444, \"#bd3786\"], [0.5555555555555556, \"#d8576b\"], [0.6666666666666666, \"#ed7953\"], [0.7777777777777778, \"#fb9f3a\"], [0.8888888888888888, \"#fdca26\"], [1.0, \"#f0f921\"]], \"type\": \"heatmapgl\"}], \"histogram\": [{\"marker\": {\"colorbar\": {\"outlinewidth\": 0, \"ticks\": \"\"}}, \"type\": \"histogram\"}], \"histogram2d\": [{\"colorbar\": {\"outlinewidth\": 0, \"ticks\": \"\"}, \"colorscale\": [[0.0, \"#0d0887\"], [0.1111111111111111, \"#46039f\"], [0.2222222222222222, \"#7201a8\"], [0.3333333333333333, \"#9c179e\"], [0.4444444444444444, \"#bd3786\"], [0.5555555555555556, \"#d8576b\"], [0.6666666666666666, \"#ed7953\"], [0.7777777777777778, \"#fb9f3a\"], [0.8888888888888888, \"#fdca26\"], [1.0, \"#f0f921\"]], \"type\": \"histogram2d\"}], \"histogram2dcontour\": [{\"colorbar\": {\"outlinewidth\": 0, \"ticks\": \"\"}, \"colorscale\": [[0.0, \"#0d0887\"], [0.1111111111111111, \"#46039f\"], [0.2222222222222222, \"#7201a8\"], [0.3333333333333333, \"#9c179e\"], [0.4444444444444444, \"#bd3786\"], [0.5555555555555556, \"#d8576b\"], [0.6666666666666666, \"#ed7953\"], [0.7777777777777778, \"#fb9f3a\"], [0.8888888888888888, \"#fdca26\"], [1.0, \"#f0f921\"]], \"type\": \"histogram2dcontour\"}], \"mesh3d\": [{\"colorbar\": {\"outlinewidth\": 0, \"ticks\": \"\"}, \"type\": \"mesh3d\"}], \"parcoords\": [{\"line\": {\"colorbar\": {\"outlinewidth\": 0, \"ticks\": \"\"}}, \"type\": \"parcoords\"}], \"scatter\": [{\"marker\": {\"colorbar\": {\"outlinewidth\": 0, \"ticks\": \"\"}}, \"type\": \"scatter\"}], \"scatter3d\": [{\"line\": {\"colorbar\": {\"outlinewidth\": 0, \"ticks\": \"\"}}, \"marker\": {\"colorbar\": {\"outlinewidth\": 0, \"ticks\": \"\"}}, \"type\": \"scatter3d\"}], \"scattercarpet\": [{\"marker\": {\"colorbar\": {\"outlinewidth\": 0, \"ticks\": \"\"}}, \"type\": \"scattercarpet\"}], \"scattergeo\": [{\"marker\": {\"colorbar\": {\"outlinewidth\": 0, \"ticks\": \"\"}}, \"type\": \"scattergeo\"}], \"scattergl\": [{\"marker\": {\"colorbar\": {\"outlinewidth\": 0, \"ticks\": \"\"}}, \"type\": \"scattergl\"}], \"scattermapbox\": [{\"marker\": {\"colorbar\": {\"outlinewidth\": 0, \"ticks\": \"\"}}, \"type\": \"scattermapbox\"}], \"scatterpolar\": [{\"marker\": {\"colorbar\": {\"outlinewidth\": 0, \"ticks\": \"\"}}, \"type\": \"scatterpolar\"}], \"scatterpolargl\": [{\"marker\": {\"colorbar\": {\"outlinewidth\": 0, \"ticks\": \"\"}}, \"type\": \"scatterpolargl\"}], \"scatterternary\": [{\"marker\": {\"colorbar\": {\"outlinewidth\": 0, \"ticks\": \"\"}}, \"type\": \"scatterternary\"}], \"surface\": [{\"colorbar\": {\"outlinewidth\": 0, \"ticks\": \"\"}, \"colorscale\": [[0.0, \"#0d0887\"], [0.1111111111111111, \"#46039f\"], [0.2222222222222222, \"#7201a8\"], [0.3333333333333333, \"#9c179e\"], [0.4444444444444444, \"#bd3786\"], [0.5555555555555556, \"#d8576b\"], [0.6666666666666666, \"#ed7953\"], [0.7777777777777778, \"#fb9f3a\"], [0.8888888888888888, \"#fdca26\"], [1.0, \"#f0f921\"]], \"type\": \"surface\"}], \"table\": [{\"cells\": {\"fill\": {\"color\": \"#EBF0F8\"}, \"line\": {\"color\": \"white\"}}, \"header\": {\"fill\": {\"color\": \"#C8D4E3\"}, \"line\": {\"color\": \"white\"}}, \"type\": \"table\"}]}, \"layout\": {\"annotationdefaults\": {\"arrowcolor\": \"#2a3f5f\", \"arrowhead\": 0, \"arrowwidth\": 1}, \"colorscale\": {\"diverging\": [[0, \"#8e0152\"], [0.1, \"#c51b7d\"], [0.2, \"#de77ae\"], [0.3, \"#f1b6da\"], [0.4, \"#fde0ef\"], [0.5, \"#f7f7f7\"], [0.6, \"#e6f5d0\"], [0.7, \"#b8e186\"], [0.8, \"#7fbc41\"], [0.9, \"#4d9221\"], [1, \"#276419\"]], \"sequential\": [[0.0, \"#0d0887\"], [0.1111111111111111, \"#46039f\"], [0.2222222222222222, \"#7201a8\"], [0.3333333333333333, \"#9c179e\"], [0.4444444444444444, \"#bd3786\"], [0.5555555555555556, \"#d8576b\"], [0.6666666666666666, \"#ed7953\"], [0.7777777777777778, \"#fb9f3a\"], [0.8888888888888888, \"#fdca26\"], [1.0, \"#f0f921\"]], \"sequentialminus\": [[0.0, \"#0d0887\"], [0.1111111111111111, \"#46039f\"], [0.2222222222222222, \"#7201a8\"], [0.3333333333333333, \"#9c179e\"], [0.4444444444444444, \"#bd3786\"], [0.5555555555555556, \"#d8576b\"], [0.6666666666666666, \"#ed7953\"], [0.7777777777777778, \"#fb9f3a\"], [0.8888888888888888, \"#fdca26\"], [1.0, \"#f0f921\"]]}, \"colorway\": [\"#636efa\", \"#EF553B\", \"#00cc96\", \"#ab63fa\", \"#FFA15A\", \"#19d3f3\", \"#FF6692\", \"#B6E880\", \"#FF97FF\", \"#FECB52\"], \"font\": {\"color\": \"#2a3f5f\"}, \"geo\": {\"bgcolor\": \"white\", \"lakecolor\": \"white\", \"landcolor\": \"#E5ECF6\", \"showlakes\": true, \"showland\": true, \"subunitcolor\": \"white\"}, \"hoverlabel\": {\"align\": \"left\"}, \"hovermode\": \"closest\", \"mapbox\": {\"style\": \"light\"}, \"paper_bgcolor\": \"white\", \"plot_bgcolor\": \"#E5ECF6\", \"polar\": {\"angularaxis\": {\"gridcolor\": \"white\", \"linecolor\": \"white\", \"ticks\": \"\"}, \"bgcolor\": \"#E5ECF6\", \"radialaxis\": {\"gridcolor\": \"white\", \"linecolor\": \"white\", \"ticks\": \"\"}}, \"scene\": {\"xaxis\": {\"backgroundcolor\": \"#E5ECF6\", \"gridcolor\": \"white\", \"gridwidth\": 2, \"linecolor\": \"white\", \"showbackground\": true, \"ticks\": \"\", \"zerolinecolor\": \"white\"}, \"yaxis\": {\"backgroundcolor\": \"#E5ECF6\", \"gridcolor\": \"white\", \"gridwidth\": 2, \"linecolor\": \"white\", \"showbackground\": true, \"ticks\": \"\", \"zerolinecolor\": \"white\"}, \"zaxis\": {\"backgroundcolor\": \"#E5ECF6\", \"gridcolor\": \"white\", \"gridwidth\": 2, \"linecolor\": \"white\", \"showbackground\": true, \"ticks\": \"\", \"zerolinecolor\": \"white\"}}, \"shapedefaults\": {\"line\": {\"color\": \"#2a3f5f\"}}, \"ternary\": {\"aaxis\": {\"gridcolor\": \"white\", \"linecolor\": \"white\", \"ticks\": \"\"}, \"baxis\": {\"gridcolor\": \"white\", \"linecolor\": \"white\", \"ticks\": \"\"}, \"bgcolor\": \"#E5ECF6\", \"caxis\": {\"gridcolor\": \"white\", \"linecolor\": \"white\", \"ticks\": \"\"}}, \"title\": {\"x\": 0.05}, \"xaxis\": {\"automargin\": true, \"gridcolor\": \"white\", \"linecolor\": \"white\", \"ticks\": \"\", \"zerolinecolor\": \"white\", \"zerolinewidth\": 2}, \"yaxis\": {\"automargin\": true, \"gridcolor\": \"white\", \"linecolor\": \"white\", \"ticks\": \"\", \"zerolinecolor\": \"white\", \"zerolinewidth\": 2}}}, \"title\": {\"text\": \"\\u0421\\u0440\\u0435\\u0434\\u043d\\u0435\\u0435 \\u043a\\u043e\\u043b\\u0438\\u0447\\u0435\\u0441\\u0442\\u0432\\u043e \\u043c\\u0435\\u0433\\u0430\\u0431\\u0430\\u0439\\u0442 \\u0432 \\u043c\\u0435\\u0441\\u044f\\u0446 (\\u043f\\u043e \\u0442\\u0430\\u0440\\u0438\\u0444\\u0430\\u043c) \"}, \"xaxis\": {\"title\": {\"text\": \"\\u041c\\u0435\\u0441\\u044f\\u0446 \\u0438 \\u0442\\u0430\\u0440\\u0438\\u0444 (1-\\u044f\\u043d\\u0432\\u0430\\u0440\\u044c, 12-\\u0434\\u0435\\u043a\\u0430\\u0431\\u0440\\u044c)\"}}, \"yaxis\": {\"title\": {\"text\": \"\\u041a\\u043e\\u043b\\u0438\\u0447\\u0435\\u0441\\u0442\\u0432\\u043e \\u043c\\u0435\\u0433\\u0430\\u0431\\u0430\\u0439\\u0442 (\\u0441\\u0440\\u0435\\u0434\\u043d\\u0435\\u0435)\"}}},\n",
       "                        {\"responsive\": true}\n",
       "                    ).then(function(){\n",
       "                            \n",
       "var gd = document.getElementById('4065dec8-f898-4f6e-a0a6-1e1c67c5925b');\n",
       "var x = new MutationObserver(function (mutations, observer) {{\n",
       "        var display = window.getComputedStyle(gd).display;\n",
       "        if (!display || display === 'none') {{\n",
       "            console.log([gd, 'removed!']);\n",
       "            Plotly.purge(gd);\n",
       "            observer.disconnect();\n",
       "        }}\n",
       "}});\n",
       "\n",
       "// Listen for the removal of the full notebook cells\n",
       "var notebookContainer = gd.closest('#notebook-container');\n",
       "if (notebookContainer) {{\n",
       "    x.observe(notebookContainer, {childList: true});\n",
       "}}\n",
       "\n",
       "// Listen for the clearing of the current output cell\n",
       "var outputEl = gd.closest('.output');\n",
       "if (outputEl) {{\n",
       "    x.observe(outputEl, {childList: true});\n",
       "}}\n",
       "\n",
       "                        })\n",
       "                };\n",
       "                });\n",
       "            </script>\n",
       "        </div>"
      ]
     },
     "metadata": {},
     "output_type": "display_data"
    }
   ],
   "source": [
    "inet_spent_plot = final_table.query('tariff == \"smart\"').groupby('month')[['sum_mb']].mean().join(\n",
    "    final_table.query('tariff == \"ultra\"').groupby('month')[['sum_mb']].mean(), rsuffix='_')\n",
    "inet_spent_plot.columns = ['smart', 'ultra']\n",
    "\n",
    "\n",
    "trace0 = go.Bar(\n",
    "    x=inet_spent_plot.index,\n",
    "    y=inet_spent_plot.smart,\n",
    "    name='Тариф \"СМАРТ\"'\n",
    ")\n",
    "\n",
    "trace1 = go.Bar(\n",
    "    x=inet_spent_plot.index,\n",
    "    y=inet_spent_plot.ultra,\n",
    "    name='Тариф \"УЛЬТРА\"'\n",
    ")\n",
    "\n",
    "data = [trace0, trace1]\n",
    "layout = {'title': 'Среднее количество мегабайт в месяц (по тарифам) ',\n",
    "          'yaxis': {'title': 'Количество мегабайт (среднее)'},\n",
    "          'xaxis': {'title': 'Месяц и тариф (1-январь, 12-декабрь)'}}\n",
    "\n",
    "fig = go.Figure(data=data, layout=layout)\n",
    "iplot(fig, show_link=False)"
   ]
  },
  {
   "cell_type": "code",
   "execution_count": 74,
   "metadata": {
    "id": "Uh_aDIOjK3xU",
    "outputId": "da970b2c-bfdb-4260-f14f-f14926894606"
   },
   "outputs": [
    {
     "data": {
      "text/plain": [
       "'0.8562610227136386 - корреляция smart тарифа по мегабайтам'"
      ]
     },
     "metadata": {},
     "output_type": "display_data"
    },
    {
     "data": {
      "text/plain": [
       "'0.8399196921887301 - корреляция ultra тарифа по мегабайтам'"
      ]
     },
     "metadata": {},
     "output_type": "display_data"
    }
   ],
   "source": [
    "smart = inet_spent_plot.reset_index().smart.corr(inet_spent_plot.reset_index().month)\n",
    "ultra = inet_spent_plot.reset_index().ultra.corr(inet_spent_plot.reset_index().month)\n",
    "display(f'{smart} - корреляция smart тарифа по мегабайтам', f'{ultra} - корреляция ultra тарифа по мегабайтам')"
   ]
  },
  {
   "cell_type": "markdown",
   "metadata": {
    "id": "XnBBp7NYK3xV"
   },
   "source": [
    "Видим лидирование клиентов с тарифом \"УЛЬТРА, и то что у обоих тарифов сначала и к концу года возрастает потребление интернета."
   ]
  },
  {
   "cell_type": "markdown",
   "metadata": {
    "id": "tfTv7imQK3xW"
   },
   "source": [
    "# Вывод\n",
    "Видим на всех 3-ех таблицах, что лидируют клиенты с тарифом \"УЛЬТРА\". Больше всех используют-тратят.\n",
    "Рост у другого тарифа тоже наблюдается по тратам тарифа, но вот смс эти клиенты отправляют не так много."
   ]
  },
  {
   "cell_type": "code",
   "execution_count": 91,
   "metadata": {
    "id": "N7GRt6j5K3xW",
    "outputId": "5d34c5ef-e3a5-444b-8982-a0f72fcddf13",
    "scrolled": false
   },
   "outputs": [
    {
     "data": {
      "application/vnd.plotly.v1+json": {
       "config": {
        "linkText": "Export to plot.ly",
        "plotlyServerURL": "https://plot.ly",
        "showLink": false
       },
       "data": [
        {
         "name": "Тариф \"СМАРТ\"",
         "type": "bar",
         "x": [
          1,
          2,
          3,
          4,
          5,
          6,
          7,
          8,
          9,
          10,
          11,
          12
         ],
         "y": [
          8524.441176470587,
          11611.396551724138,
          15123.857142857143,
          13479.482142857143,
          15825.198581560284,
          15814.768292682927,
          15763.512437810945,
          16632.174468085108,
          16324.526923076923,
          16778.56462585034,
          16917.53164556962,
          18136.833827893173
         ]
        },
        {
         "name": "Тариф \"УЛЬТРА\"",
         "type": "bar",
         "x": [
          1,
          2,
          3,
          4,
          5,
          6,
          7,
          8,
          9,
          10,
          11,
          12
         ],
         "y": [
          13153.555555555555,
          11786.958333333334,
          17551.972972972973,
          16843.8,
          19381.194029850747,
          18942.238095238095,
          20514.648351648353,
          19594.065420560746,
          19222.208695652174,
          20063.869918699187,
          19805.31343283582,
          21813.589928057554
         ]
        },
        {
         "name": "Дисперсия тарифа \"СМАРТ\"",
         "type": "bar",
         "x": [
          1,
          2,
          3,
          4,
          5,
          6,
          7,
          8,
          9,
          10,
          11,
          12
         ],
         "y": [
          41626212.79946525,
          39119349.331215985,
          34052595.01879699,
          32547357.188867457,
          35822355.43171226,
          33616415.172976196,
          34861096.71109453,
          31363516.973704323,
          27062146.43556578,
          34417112.46509253,
          28588524.421217594,
          31140833.240161777
         ]
        },
        {
         "name": "Дисперсия тарифа \"УЛЬТРА\"",
         "type": "bar",
         "x": [
          1,
          2,
          3,
          4,
          5,
          6,
          7,
          8,
          9,
          10,
          11,
          12
         ],
         "y": [
          47226405.027777776,
          113515032.12862317,
          120164047.8048048,
          94623931.42222224,
          101115777.27996382,
          86522475.24383247,
          101477551.7194139,
          109956033.74096283,
          90148801.44729215,
          96271706.09769422,
          98340435.44989341,
          107905115.70743409
         ]
        },
        {
         "name": "Std тарифа \"СМАРТ\"",
         "type": "bar",
         "x": [
          1,
          2,
          3,
          4,
          5,
          6,
          7,
          8,
          9,
          10,
          11,
          12
         ],
         "y": [
          6451.837939646752,
          6254.546292994879,
          5835.460137709535,
          5705.029113761598,
          5985.177978282038,
          5797.966468769564,
          5904.328641860522,
          5600.314006705723,
          5202.129029115463,
          5866.609963606965,
          5346.823769418402,
          5580.397229603086
         ]
        },
        {
         "name": "Std тарифа \"УЛЬТРА\"",
         "type": "bar",
         "x": [
          1,
          2,
          3,
          4,
          5,
          6,
          7,
          8,
          9,
          10,
          11,
          12
         ],
         "y": [
          6872.147046431543,
          10654.343345726344,
          10961.9363163998,
          9727.48330362084,
          10055.634106308951,
          9301.745816986855,
          10073.606688739337,
          10485.99226306041,
          9494.672266449861,
          9811.814617984497,
          9916.674616518048,
          10387.738719636436
         ]
        }
       ],
       "layout": {
        "template": {
         "data": {
          "bar": [
           {
            "error_x": {
             "color": "#2a3f5f"
            },
            "error_y": {
             "color": "#2a3f5f"
            },
            "marker": {
             "line": {
              "color": "#E5ECF6",
              "width": 0.5
             }
            },
            "type": "bar"
           }
          ],
          "barpolar": [
           {
            "marker": {
             "line": {
              "color": "#E5ECF6",
              "width": 0.5
             }
            },
            "type": "barpolar"
           }
          ],
          "carpet": [
           {
            "aaxis": {
             "endlinecolor": "#2a3f5f",
             "gridcolor": "white",
             "linecolor": "white",
             "minorgridcolor": "white",
             "startlinecolor": "#2a3f5f"
            },
            "baxis": {
             "endlinecolor": "#2a3f5f",
             "gridcolor": "white",
             "linecolor": "white",
             "minorgridcolor": "white",
             "startlinecolor": "#2a3f5f"
            },
            "type": "carpet"
           }
          ],
          "choropleth": [
           {
            "colorbar": {
             "outlinewidth": 0,
             "ticks": ""
            },
            "type": "choropleth"
           }
          ],
          "contour": [
           {
            "colorbar": {
             "outlinewidth": 0,
             "ticks": ""
            },
            "colorscale": [
             [
              0,
              "#0d0887"
             ],
             [
              0.1111111111111111,
              "#46039f"
             ],
             [
              0.2222222222222222,
              "#7201a8"
             ],
             [
              0.3333333333333333,
              "#9c179e"
             ],
             [
              0.4444444444444444,
              "#bd3786"
             ],
             [
              0.5555555555555556,
              "#d8576b"
             ],
             [
              0.6666666666666666,
              "#ed7953"
             ],
             [
              0.7777777777777778,
              "#fb9f3a"
             ],
             [
              0.8888888888888888,
              "#fdca26"
             ],
             [
              1,
              "#f0f921"
             ]
            ],
            "type": "contour"
           }
          ],
          "contourcarpet": [
           {
            "colorbar": {
             "outlinewidth": 0,
             "ticks": ""
            },
            "type": "contourcarpet"
           }
          ],
          "heatmap": [
           {
            "colorbar": {
             "outlinewidth": 0,
             "ticks": ""
            },
            "colorscale": [
             [
              0,
              "#0d0887"
             ],
             [
              0.1111111111111111,
              "#46039f"
             ],
             [
              0.2222222222222222,
              "#7201a8"
             ],
             [
              0.3333333333333333,
              "#9c179e"
             ],
             [
              0.4444444444444444,
              "#bd3786"
             ],
             [
              0.5555555555555556,
              "#d8576b"
             ],
             [
              0.6666666666666666,
              "#ed7953"
             ],
             [
              0.7777777777777778,
              "#fb9f3a"
             ],
             [
              0.8888888888888888,
              "#fdca26"
             ],
             [
              1,
              "#f0f921"
             ]
            ],
            "type": "heatmap"
           }
          ],
          "heatmapgl": [
           {
            "colorbar": {
             "outlinewidth": 0,
             "ticks": ""
            },
            "colorscale": [
             [
              0,
              "#0d0887"
             ],
             [
              0.1111111111111111,
              "#46039f"
             ],
             [
              0.2222222222222222,
              "#7201a8"
             ],
             [
              0.3333333333333333,
              "#9c179e"
             ],
             [
              0.4444444444444444,
              "#bd3786"
             ],
             [
              0.5555555555555556,
              "#d8576b"
             ],
             [
              0.6666666666666666,
              "#ed7953"
             ],
             [
              0.7777777777777778,
              "#fb9f3a"
             ],
             [
              0.8888888888888888,
              "#fdca26"
             ],
             [
              1,
              "#f0f921"
             ]
            ],
            "type": "heatmapgl"
           }
          ],
          "histogram": [
           {
            "marker": {
             "colorbar": {
              "outlinewidth": 0,
              "ticks": ""
             }
            },
            "type": "histogram"
           }
          ],
          "histogram2d": [
           {
            "colorbar": {
             "outlinewidth": 0,
             "ticks": ""
            },
            "colorscale": [
             [
              0,
              "#0d0887"
             ],
             [
              0.1111111111111111,
              "#46039f"
             ],
             [
              0.2222222222222222,
              "#7201a8"
             ],
             [
              0.3333333333333333,
              "#9c179e"
             ],
             [
              0.4444444444444444,
              "#bd3786"
             ],
             [
              0.5555555555555556,
              "#d8576b"
             ],
             [
              0.6666666666666666,
              "#ed7953"
             ],
             [
              0.7777777777777778,
              "#fb9f3a"
             ],
             [
              0.8888888888888888,
              "#fdca26"
             ],
             [
              1,
              "#f0f921"
             ]
            ],
            "type": "histogram2d"
           }
          ],
          "histogram2dcontour": [
           {
            "colorbar": {
             "outlinewidth": 0,
             "ticks": ""
            },
            "colorscale": [
             [
              0,
              "#0d0887"
             ],
             [
              0.1111111111111111,
              "#46039f"
             ],
             [
              0.2222222222222222,
              "#7201a8"
             ],
             [
              0.3333333333333333,
              "#9c179e"
             ],
             [
              0.4444444444444444,
              "#bd3786"
             ],
             [
              0.5555555555555556,
              "#d8576b"
             ],
             [
              0.6666666666666666,
              "#ed7953"
             ],
             [
              0.7777777777777778,
              "#fb9f3a"
             ],
             [
              0.8888888888888888,
              "#fdca26"
             ],
             [
              1,
              "#f0f921"
             ]
            ],
            "type": "histogram2dcontour"
           }
          ],
          "mesh3d": [
           {
            "colorbar": {
             "outlinewidth": 0,
             "ticks": ""
            },
            "type": "mesh3d"
           }
          ],
          "parcoords": [
           {
            "line": {
             "colorbar": {
              "outlinewidth": 0,
              "ticks": ""
             }
            },
            "type": "parcoords"
           }
          ],
          "scatter": [
           {
            "marker": {
             "colorbar": {
              "outlinewidth": 0,
              "ticks": ""
             }
            },
            "type": "scatter"
           }
          ],
          "scatter3d": [
           {
            "line": {
             "colorbar": {
              "outlinewidth": 0,
              "ticks": ""
             }
            },
            "marker": {
             "colorbar": {
              "outlinewidth": 0,
              "ticks": ""
             }
            },
            "type": "scatter3d"
           }
          ],
          "scattercarpet": [
           {
            "marker": {
             "colorbar": {
              "outlinewidth": 0,
              "ticks": ""
             }
            },
            "type": "scattercarpet"
           }
          ],
          "scattergeo": [
           {
            "marker": {
             "colorbar": {
              "outlinewidth": 0,
              "ticks": ""
             }
            },
            "type": "scattergeo"
           }
          ],
          "scattergl": [
           {
            "marker": {
             "colorbar": {
              "outlinewidth": 0,
              "ticks": ""
             }
            },
            "type": "scattergl"
           }
          ],
          "scattermapbox": [
           {
            "marker": {
             "colorbar": {
              "outlinewidth": 0,
              "ticks": ""
             }
            },
            "type": "scattermapbox"
           }
          ],
          "scatterpolar": [
           {
            "marker": {
             "colorbar": {
              "outlinewidth": 0,
              "ticks": ""
             }
            },
            "type": "scatterpolar"
           }
          ],
          "scatterpolargl": [
           {
            "marker": {
             "colorbar": {
              "outlinewidth": 0,
              "ticks": ""
             }
            },
            "type": "scatterpolargl"
           }
          ],
          "scatterternary": [
           {
            "marker": {
             "colorbar": {
              "outlinewidth": 0,
              "ticks": ""
             }
            },
            "type": "scatterternary"
           }
          ],
          "surface": [
           {
            "colorbar": {
             "outlinewidth": 0,
             "ticks": ""
            },
            "colorscale": [
             [
              0,
              "#0d0887"
             ],
             [
              0.1111111111111111,
              "#46039f"
             ],
             [
              0.2222222222222222,
              "#7201a8"
             ],
             [
              0.3333333333333333,
              "#9c179e"
             ],
             [
              0.4444444444444444,
              "#bd3786"
             ],
             [
              0.5555555555555556,
              "#d8576b"
             ],
             [
              0.6666666666666666,
              "#ed7953"
             ],
             [
              0.7777777777777778,
              "#fb9f3a"
             ],
             [
              0.8888888888888888,
              "#fdca26"
             ],
             [
              1,
              "#f0f921"
             ]
            ],
            "type": "surface"
           }
          ],
          "table": [
           {
            "cells": {
             "fill": {
              "color": "#EBF0F8"
             },
             "line": {
              "color": "white"
             }
            },
            "header": {
             "fill": {
              "color": "#C8D4E3"
             },
             "line": {
              "color": "white"
             }
            },
            "type": "table"
           }
          ]
         },
         "layout": {
          "annotationdefaults": {
           "arrowcolor": "#2a3f5f",
           "arrowhead": 0,
           "arrowwidth": 1
          },
          "colorscale": {
           "diverging": [
            [
             0,
             "#8e0152"
            ],
            [
             0.1,
             "#c51b7d"
            ],
            [
             0.2,
             "#de77ae"
            ],
            [
             0.3,
             "#f1b6da"
            ],
            [
             0.4,
             "#fde0ef"
            ],
            [
             0.5,
             "#f7f7f7"
            ],
            [
             0.6,
             "#e6f5d0"
            ],
            [
             0.7,
             "#b8e186"
            ],
            [
             0.8,
             "#7fbc41"
            ],
            [
             0.9,
             "#4d9221"
            ],
            [
             1,
             "#276419"
            ]
           ],
           "sequential": [
            [
             0,
             "#0d0887"
            ],
            [
             0.1111111111111111,
             "#46039f"
            ],
            [
             0.2222222222222222,
             "#7201a8"
            ],
            [
             0.3333333333333333,
             "#9c179e"
            ],
            [
             0.4444444444444444,
             "#bd3786"
            ],
            [
             0.5555555555555556,
             "#d8576b"
            ],
            [
             0.6666666666666666,
             "#ed7953"
            ],
            [
             0.7777777777777778,
             "#fb9f3a"
            ],
            [
             0.8888888888888888,
             "#fdca26"
            ],
            [
             1,
             "#f0f921"
            ]
           ],
           "sequentialminus": [
            [
             0,
             "#0d0887"
            ],
            [
             0.1111111111111111,
             "#46039f"
            ],
            [
             0.2222222222222222,
             "#7201a8"
            ],
            [
             0.3333333333333333,
             "#9c179e"
            ],
            [
             0.4444444444444444,
             "#bd3786"
            ],
            [
             0.5555555555555556,
             "#d8576b"
            ],
            [
             0.6666666666666666,
             "#ed7953"
            ],
            [
             0.7777777777777778,
             "#fb9f3a"
            ],
            [
             0.8888888888888888,
             "#fdca26"
            ],
            [
             1,
             "#f0f921"
            ]
           ]
          },
          "colorway": [
           "#636efa",
           "#EF553B",
           "#00cc96",
           "#ab63fa",
           "#FFA15A",
           "#19d3f3",
           "#FF6692",
           "#B6E880",
           "#FF97FF",
           "#FECB52"
          ],
          "font": {
           "color": "#2a3f5f"
          },
          "geo": {
           "bgcolor": "white",
           "lakecolor": "white",
           "landcolor": "#E5ECF6",
           "showlakes": true,
           "showland": true,
           "subunitcolor": "white"
          },
          "hoverlabel": {
           "align": "left"
          },
          "hovermode": "closest",
          "mapbox": {
           "style": "light"
          },
          "paper_bgcolor": "white",
          "plot_bgcolor": "#E5ECF6",
          "polar": {
           "angularaxis": {
            "gridcolor": "white",
            "linecolor": "white",
            "ticks": ""
           },
           "bgcolor": "#E5ECF6",
           "radialaxis": {
            "gridcolor": "white",
            "linecolor": "white",
            "ticks": ""
           }
          },
          "scene": {
           "xaxis": {
            "backgroundcolor": "#E5ECF6",
            "gridcolor": "white",
            "gridwidth": 2,
            "linecolor": "white",
            "showbackground": true,
            "ticks": "",
            "zerolinecolor": "white"
           },
           "yaxis": {
            "backgroundcolor": "#E5ECF6",
            "gridcolor": "white",
            "gridwidth": 2,
            "linecolor": "white",
            "showbackground": true,
            "ticks": "",
            "zerolinecolor": "white"
           },
           "zaxis": {
            "backgroundcolor": "#E5ECF6",
            "gridcolor": "white",
            "gridwidth": 2,
            "linecolor": "white",
            "showbackground": true,
            "ticks": "",
            "zerolinecolor": "white"
           }
          },
          "shapedefaults": {
           "line": {
            "color": "#2a3f5f"
           }
          },
          "ternary": {
           "aaxis": {
            "gridcolor": "white",
            "linecolor": "white",
            "ticks": ""
           },
           "baxis": {
            "gridcolor": "white",
            "linecolor": "white",
            "ticks": ""
           },
           "bgcolor": "#E5ECF6",
           "caxis": {
            "gridcolor": "white",
            "linecolor": "white",
            "ticks": ""
           }
          },
          "title": {
           "x": 0.05
          },
          "xaxis": {
           "automargin": true,
           "gridcolor": "white",
           "linecolor": "white",
           "ticks": "",
           "zerolinecolor": "white",
           "zerolinewidth": 2
          },
          "yaxis": {
           "automargin": true,
           "gridcolor": "white",
           "linecolor": "white",
           "ticks": "",
           "zerolinecolor": "white",
           "zerolinewidth": 2
          }
         }
        },
        "title": {
         "text": "Среднее количество мегабайт в месяц (по тарифам) "
        },
        "xaxis": {
         "title": {
          "text": "Месяц и тариф (1-январь, 12-декабрь)"
         }
        },
        "yaxis": {
         "title": {
          "text": "Количество мегабайт (среднее)"
         }
        }
       }
      },
      "text/html": [
       "<div>\n",
       "        \n",
       "        \n",
       "            <div id=\"29638948-9344-41bd-8a18-65cf5e13fdd7\" class=\"plotly-graph-div\" style=\"height:525px; width:100%;\"></div>\n",
       "            <script type=\"text/javascript\">\n",
       "                require([\"plotly\"], function(Plotly) {\n",
       "                    window.PLOTLYENV=window.PLOTLYENV || {};\n",
       "                    \n",
       "                if (document.getElementById(\"29638948-9344-41bd-8a18-65cf5e13fdd7\")) {\n",
       "                    Plotly.newPlot(\n",
       "                        '29638948-9344-41bd-8a18-65cf5e13fdd7',\n",
       "                        [{\"name\": \"\\u0422\\u0430\\u0440\\u0438\\u0444 \\\"\\u0421\\u041c\\u0410\\u0420\\u0422\\\"\", \"type\": \"bar\", \"x\": [1, 2, 3, 4, 5, 6, 7, 8, 9, 10, 11, 12], \"y\": [8524.441176470587, 11611.396551724138, 15123.857142857143, 13479.482142857143, 15825.198581560284, 15814.768292682927, 15763.512437810945, 16632.174468085108, 16324.526923076923, 16778.56462585034, 16917.53164556962, 18136.833827893173]}, {\"name\": \"\\u0422\\u0430\\u0440\\u0438\\u0444 \\\"\\u0423\\u041b\\u042c\\u0422\\u0420\\u0410\\\"\", \"type\": \"bar\", \"x\": [1, 2, 3, 4, 5, 6, 7, 8, 9, 10, 11, 12], \"y\": [13153.555555555555, 11786.958333333334, 17551.972972972973, 16843.8, 19381.194029850747, 18942.238095238095, 20514.648351648353, 19594.065420560746, 19222.208695652174, 20063.869918699187, 19805.31343283582, 21813.589928057554]}, {\"name\": \"\\u0414\\u0438\\u0441\\u043f\\u0435\\u0440\\u0441\\u0438\\u044f \\u0442\\u0430\\u0440\\u0438\\u0444\\u0430 \\\"\\u0421\\u041c\\u0410\\u0420\\u0422\\\"\", \"type\": \"bar\", \"x\": [1, 2, 3, 4, 5, 6, 7, 8, 9, 10, 11, 12], \"y\": [41626212.79946525, 39119349.331215985, 34052595.01879699, 32547357.188867457, 35822355.43171226, 33616415.172976196, 34861096.71109453, 31363516.973704323, 27062146.43556578, 34417112.46509253, 28588524.421217594, 31140833.240161777]}, {\"name\": \"\\u0414\\u0438\\u0441\\u043f\\u0435\\u0440\\u0441\\u0438\\u044f \\u0442\\u0430\\u0440\\u0438\\u0444\\u0430 \\\"\\u0423\\u041b\\u042c\\u0422\\u0420\\u0410\\\"\", \"type\": \"bar\", \"x\": [1, 2, 3, 4, 5, 6, 7, 8, 9, 10, 11, 12], \"y\": [47226405.027777776, 113515032.12862317, 120164047.8048048, 94623931.42222224, 101115777.27996382, 86522475.24383247, 101477551.7194139, 109956033.74096283, 90148801.44729215, 96271706.09769422, 98340435.44989341, 107905115.70743409]}, {\"name\": \"Std \\u0442\\u0430\\u0440\\u0438\\u0444\\u0430 \\\"\\u0421\\u041c\\u0410\\u0420\\u0422\\\"\", \"type\": \"bar\", \"x\": [1, 2, 3, 4, 5, 6, 7, 8, 9, 10, 11, 12], \"y\": [6451.837939646752, 6254.546292994879, 5835.460137709535, 5705.029113761598, 5985.177978282038, 5797.966468769564, 5904.328641860522, 5600.314006705723, 5202.129029115463, 5866.609963606965, 5346.823769418402, 5580.397229603086]}, {\"name\": \"Std \\u0442\\u0430\\u0440\\u0438\\u0444\\u0430 \\\"\\u0423\\u041b\\u042c\\u0422\\u0420\\u0410\\\"\", \"type\": \"bar\", \"x\": [1, 2, 3, 4, 5, 6, 7, 8, 9, 10, 11, 12], \"y\": [6872.147046431543, 10654.343345726344, 10961.9363163998, 9727.48330362084, 10055.634106308951, 9301.745816986855, 10073.606688739337, 10485.99226306041, 9494.672266449861, 9811.814617984497, 9916.674616518048, 10387.738719636436]}],\n",
       "                        {\"template\": {\"data\": {\"bar\": [{\"error_x\": {\"color\": \"#2a3f5f\"}, \"error_y\": {\"color\": \"#2a3f5f\"}, \"marker\": {\"line\": {\"color\": \"#E5ECF6\", \"width\": 0.5}}, \"type\": \"bar\"}], \"barpolar\": [{\"marker\": {\"line\": {\"color\": \"#E5ECF6\", \"width\": 0.5}}, \"type\": \"barpolar\"}], \"carpet\": [{\"aaxis\": {\"endlinecolor\": \"#2a3f5f\", \"gridcolor\": \"white\", \"linecolor\": \"white\", \"minorgridcolor\": \"white\", \"startlinecolor\": \"#2a3f5f\"}, \"baxis\": {\"endlinecolor\": \"#2a3f5f\", \"gridcolor\": \"white\", \"linecolor\": \"white\", \"minorgridcolor\": \"white\", \"startlinecolor\": \"#2a3f5f\"}, \"type\": \"carpet\"}], \"choropleth\": [{\"colorbar\": {\"outlinewidth\": 0, \"ticks\": \"\"}, \"type\": \"choropleth\"}], \"contour\": [{\"colorbar\": {\"outlinewidth\": 0, \"ticks\": \"\"}, \"colorscale\": [[0.0, \"#0d0887\"], [0.1111111111111111, \"#46039f\"], [0.2222222222222222, \"#7201a8\"], [0.3333333333333333, \"#9c179e\"], [0.4444444444444444, \"#bd3786\"], [0.5555555555555556, \"#d8576b\"], [0.6666666666666666, \"#ed7953\"], [0.7777777777777778, \"#fb9f3a\"], [0.8888888888888888, \"#fdca26\"], [1.0, \"#f0f921\"]], \"type\": \"contour\"}], \"contourcarpet\": [{\"colorbar\": {\"outlinewidth\": 0, \"ticks\": \"\"}, \"type\": \"contourcarpet\"}], \"heatmap\": [{\"colorbar\": {\"outlinewidth\": 0, \"ticks\": \"\"}, \"colorscale\": [[0.0, \"#0d0887\"], [0.1111111111111111, \"#46039f\"], [0.2222222222222222, \"#7201a8\"], [0.3333333333333333, \"#9c179e\"], [0.4444444444444444, \"#bd3786\"], [0.5555555555555556, \"#d8576b\"], [0.6666666666666666, \"#ed7953\"], [0.7777777777777778, \"#fb9f3a\"], [0.8888888888888888, \"#fdca26\"], [1.0, \"#f0f921\"]], \"type\": \"heatmap\"}], \"heatmapgl\": [{\"colorbar\": {\"outlinewidth\": 0, \"ticks\": \"\"}, \"colorscale\": [[0.0, \"#0d0887\"], [0.1111111111111111, \"#46039f\"], [0.2222222222222222, \"#7201a8\"], [0.3333333333333333, \"#9c179e\"], [0.4444444444444444, \"#bd3786\"], [0.5555555555555556, \"#d8576b\"], [0.6666666666666666, \"#ed7953\"], [0.7777777777777778, \"#fb9f3a\"], [0.8888888888888888, \"#fdca26\"], [1.0, \"#f0f921\"]], \"type\": \"heatmapgl\"}], \"histogram\": [{\"marker\": {\"colorbar\": {\"outlinewidth\": 0, \"ticks\": \"\"}}, \"type\": \"histogram\"}], \"histogram2d\": [{\"colorbar\": {\"outlinewidth\": 0, \"ticks\": \"\"}, \"colorscale\": [[0.0, \"#0d0887\"], [0.1111111111111111, \"#46039f\"], [0.2222222222222222, \"#7201a8\"], [0.3333333333333333, \"#9c179e\"], [0.4444444444444444, \"#bd3786\"], [0.5555555555555556, \"#d8576b\"], [0.6666666666666666, \"#ed7953\"], [0.7777777777777778, \"#fb9f3a\"], [0.8888888888888888, \"#fdca26\"], [1.0, \"#f0f921\"]], \"type\": \"histogram2d\"}], \"histogram2dcontour\": [{\"colorbar\": {\"outlinewidth\": 0, \"ticks\": \"\"}, \"colorscale\": [[0.0, \"#0d0887\"], [0.1111111111111111, \"#46039f\"], [0.2222222222222222, \"#7201a8\"], [0.3333333333333333, \"#9c179e\"], [0.4444444444444444, \"#bd3786\"], [0.5555555555555556, \"#d8576b\"], [0.6666666666666666, \"#ed7953\"], [0.7777777777777778, \"#fb9f3a\"], [0.8888888888888888, \"#fdca26\"], [1.0, \"#f0f921\"]], \"type\": \"histogram2dcontour\"}], \"mesh3d\": [{\"colorbar\": {\"outlinewidth\": 0, \"ticks\": \"\"}, \"type\": \"mesh3d\"}], \"parcoords\": [{\"line\": {\"colorbar\": {\"outlinewidth\": 0, \"ticks\": \"\"}}, \"type\": \"parcoords\"}], \"scatter\": [{\"marker\": {\"colorbar\": {\"outlinewidth\": 0, \"ticks\": \"\"}}, \"type\": \"scatter\"}], \"scatter3d\": [{\"line\": {\"colorbar\": {\"outlinewidth\": 0, \"ticks\": \"\"}}, \"marker\": {\"colorbar\": {\"outlinewidth\": 0, \"ticks\": \"\"}}, \"type\": \"scatter3d\"}], \"scattercarpet\": [{\"marker\": {\"colorbar\": {\"outlinewidth\": 0, \"ticks\": \"\"}}, \"type\": \"scattercarpet\"}], \"scattergeo\": [{\"marker\": {\"colorbar\": {\"outlinewidth\": 0, \"ticks\": \"\"}}, \"type\": \"scattergeo\"}], \"scattergl\": [{\"marker\": {\"colorbar\": {\"outlinewidth\": 0, \"ticks\": \"\"}}, \"type\": \"scattergl\"}], \"scattermapbox\": [{\"marker\": {\"colorbar\": {\"outlinewidth\": 0, \"ticks\": \"\"}}, \"type\": \"scattermapbox\"}], \"scatterpolar\": [{\"marker\": {\"colorbar\": {\"outlinewidth\": 0, \"ticks\": \"\"}}, \"type\": \"scatterpolar\"}], \"scatterpolargl\": [{\"marker\": {\"colorbar\": {\"outlinewidth\": 0, \"ticks\": \"\"}}, \"type\": \"scatterpolargl\"}], \"scatterternary\": [{\"marker\": {\"colorbar\": {\"outlinewidth\": 0, \"ticks\": \"\"}}, \"type\": \"scatterternary\"}], \"surface\": [{\"colorbar\": {\"outlinewidth\": 0, \"ticks\": \"\"}, \"colorscale\": [[0.0, \"#0d0887\"], [0.1111111111111111, \"#46039f\"], [0.2222222222222222, \"#7201a8\"], [0.3333333333333333, \"#9c179e\"], [0.4444444444444444, \"#bd3786\"], [0.5555555555555556, \"#d8576b\"], [0.6666666666666666, \"#ed7953\"], [0.7777777777777778, \"#fb9f3a\"], [0.8888888888888888, \"#fdca26\"], [1.0, \"#f0f921\"]], \"type\": \"surface\"}], \"table\": [{\"cells\": {\"fill\": {\"color\": \"#EBF0F8\"}, \"line\": {\"color\": \"white\"}}, \"header\": {\"fill\": {\"color\": \"#C8D4E3\"}, \"line\": {\"color\": \"white\"}}, \"type\": \"table\"}]}, \"layout\": {\"annotationdefaults\": {\"arrowcolor\": \"#2a3f5f\", \"arrowhead\": 0, \"arrowwidth\": 1}, \"colorscale\": {\"diverging\": [[0, \"#8e0152\"], [0.1, \"#c51b7d\"], [0.2, \"#de77ae\"], [0.3, \"#f1b6da\"], [0.4, \"#fde0ef\"], [0.5, \"#f7f7f7\"], [0.6, \"#e6f5d0\"], [0.7, \"#b8e186\"], [0.8, \"#7fbc41\"], [0.9, \"#4d9221\"], [1, \"#276419\"]], \"sequential\": [[0.0, \"#0d0887\"], [0.1111111111111111, \"#46039f\"], [0.2222222222222222, \"#7201a8\"], [0.3333333333333333, \"#9c179e\"], [0.4444444444444444, \"#bd3786\"], [0.5555555555555556, \"#d8576b\"], [0.6666666666666666, \"#ed7953\"], [0.7777777777777778, \"#fb9f3a\"], [0.8888888888888888, \"#fdca26\"], [1.0, \"#f0f921\"]], \"sequentialminus\": [[0.0, \"#0d0887\"], [0.1111111111111111, \"#46039f\"], [0.2222222222222222, \"#7201a8\"], [0.3333333333333333, \"#9c179e\"], [0.4444444444444444, \"#bd3786\"], [0.5555555555555556, \"#d8576b\"], [0.6666666666666666, \"#ed7953\"], [0.7777777777777778, \"#fb9f3a\"], [0.8888888888888888, \"#fdca26\"], [1.0, \"#f0f921\"]]}, \"colorway\": [\"#636efa\", \"#EF553B\", \"#00cc96\", \"#ab63fa\", \"#FFA15A\", \"#19d3f3\", \"#FF6692\", \"#B6E880\", \"#FF97FF\", \"#FECB52\"], \"font\": {\"color\": \"#2a3f5f\"}, \"geo\": {\"bgcolor\": \"white\", \"lakecolor\": \"white\", \"landcolor\": \"#E5ECF6\", \"showlakes\": true, \"showland\": true, \"subunitcolor\": \"white\"}, \"hoverlabel\": {\"align\": \"left\"}, \"hovermode\": \"closest\", \"mapbox\": {\"style\": \"light\"}, \"paper_bgcolor\": \"white\", \"plot_bgcolor\": \"#E5ECF6\", \"polar\": {\"angularaxis\": {\"gridcolor\": \"white\", \"linecolor\": \"white\", \"ticks\": \"\"}, \"bgcolor\": \"#E5ECF6\", \"radialaxis\": {\"gridcolor\": \"white\", \"linecolor\": \"white\", \"ticks\": \"\"}}, \"scene\": {\"xaxis\": {\"backgroundcolor\": \"#E5ECF6\", \"gridcolor\": \"white\", \"gridwidth\": 2, \"linecolor\": \"white\", \"showbackground\": true, \"ticks\": \"\", \"zerolinecolor\": \"white\"}, \"yaxis\": {\"backgroundcolor\": \"#E5ECF6\", \"gridcolor\": \"white\", \"gridwidth\": 2, \"linecolor\": \"white\", \"showbackground\": true, \"ticks\": \"\", \"zerolinecolor\": \"white\"}, \"zaxis\": {\"backgroundcolor\": \"#E5ECF6\", \"gridcolor\": \"white\", \"gridwidth\": 2, \"linecolor\": \"white\", \"showbackground\": true, \"ticks\": \"\", \"zerolinecolor\": \"white\"}}, \"shapedefaults\": {\"line\": {\"color\": \"#2a3f5f\"}}, \"ternary\": {\"aaxis\": {\"gridcolor\": \"white\", \"linecolor\": \"white\", \"ticks\": \"\"}, \"baxis\": {\"gridcolor\": \"white\", \"linecolor\": \"white\", \"ticks\": \"\"}, \"bgcolor\": \"#E5ECF6\", \"caxis\": {\"gridcolor\": \"white\", \"linecolor\": \"white\", \"ticks\": \"\"}}, \"title\": {\"x\": 0.05}, \"xaxis\": {\"automargin\": true, \"gridcolor\": \"white\", \"linecolor\": \"white\", \"ticks\": \"\", \"zerolinecolor\": \"white\", \"zerolinewidth\": 2}, \"yaxis\": {\"automargin\": true, \"gridcolor\": \"white\", \"linecolor\": \"white\", \"ticks\": \"\", \"zerolinecolor\": \"white\", \"zerolinewidth\": 2}}}, \"title\": {\"text\": \"\\u0421\\u0440\\u0435\\u0434\\u043d\\u0435\\u0435 \\u043a\\u043e\\u043b\\u0438\\u0447\\u0435\\u0441\\u0442\\u0432\\u043e \\u043c\\u0435\\u0433\\u0430\\u0431\\u0430\\u0439\\u0442 \\u0432 \\u043c\\u0435\\u0441\\u044f\\u0446 (\\u043f\\u043e \\u0442\\u0430\\u0440\\u0438\\u0444\\u0430\\u043c) \"}, \"xaxis\": {\"title\": {\"text\": \"\\u041c\\u0435\\u0441\\u044f\\u0446 \\u0438 \\u0442\\u0430\\u0440\\u0438\\u0444 (1-\\u044f\\u043d\\u0432\\u0430\\u0440\\u044c, 12-\\u0434\\u0435\\u043a\\u0430\\u0431\\u0440\\u044c)\"}}, \"yaxis\": {\"title\": {\"text\": \"\\u041a\\u043e\\u043b\\u0438\\u0447\\u0435\\u0441\\u0442\\u0432\\u043e \\u043c\\u0435\\u0433\\u0430\\u0431\\u0430\\u0439\\u0442 (\\u0441\\u0440\\u0435\\u0434\\u043d\\u0435\\u0435)\"}}},\n",
       "                        {\"responsive\": true}\n",
       "                    ).then(function(){\n",
       "                            \n",
       "var gd = document.getElementById('29638948-9344-41bd-8a18-65cf5e13fdd7');\n",
       "var x = new MutationObserver(function (mutations, observer) {{\n",
       "        var display = window.getComputedStyle(gd).display;\n",
       "        if (!display || display === 'none') {{\n",
       "            console.log([gd, 'removed!']);\n",
       "            Plotly.purge(gd);\n",
       "            observer.disconnect();\n",
       "        }}\n",
       "}});\n",
       "\n",
       "// Listen for the removal of the full notebook cells\n",
       "var notebookContainer = gd.closest('#notebook-container');\n",
       "if (notebookContainer) {{\n",
       "    x.observe(notebookContainer, {childList: true});\n",
       "}}\n",
       "\n",
       "// Listen for the clearing of the current output cell\n",
       "var outputEl = gd.closest('.output');\n",
       "if (outputEl) {{\n",
       "    x.observe(outputEl, {childList: true});\n",
       "}}\n",
       "\n",
       "                        })\n",
       "                };\n",
       "                });\n",
       "            </script>\n",
       "        </div>"
      ]
     },
     "metadata": {},
     "output_type": "display_data"
    }
   ],
   "source": [
    "platforms_df = final_table.query('tariff == \"smart\"').groupby('month')[['sum_mb']].agg(['mean',\n",
    "                                                                         'var',\n",
    "                                                                         lambda x: np.sqrt(\n",
    "                                                                         np.var(x, ddof=1))]).join(\n",
    "    final_table.query('tariff == \"ultra\"').groupby('month')[['sum_mb']].agg(['mean',\n",
    "                                                                         'var',\n",
    "                                                                         lambda x: np.sqrt(\n",
    "                                                                         np.var(x, ddof=1))]),\n",
    "                                                                         rsuffix='_right')\n",
    "platforms_df.columns = ['smart', 'smart_var', 'smart_sqrt', 'ultra', 'ultra_var', 'ultra_sqrt']\n",
    "\n",
    "trace0 = go.Bar(\n",
    "    x=platforms_df.index,\n",
    "    y=platforms_df.smart,\n",
    "    name='Тариф \"СМАРТ\"'\n",
    ")\n",
    "\n",
    "trace1 = go.Bar(\n",
    "    x=platforms_df.index,\n",
    "    y=platforms_df.ultra,\n",
    "    name='Тариф \"УЛЬТРА\"'\n",
    ")\n",
    "\n",
    "trace2 = go.Bar(\n",
    "    x=platforms_df.index,\n",
    "    y=platforms_df.smart_var,\n",
    "    name='Дисперсия тарифа \"СМАРТ\"'\n",
    ")\n",
    "\n",
    "trace3 = go.Bar(\n",
    "    x=platforms_df.index,\n",
    "    y=platforms_df.ultra_var,\n",
    "    name='Дисперсия тарифа \"УЛЬТРА\"'\n",
    ")\n",
    "\n",
    "trace4 = go.Bar(\n",
    "    x=platforms_df.index,\n",
    "    y=platforms_df.smart_sqrt,\n",
    "    name='Std тарифа \"СМАРТ\"'\n",
    ")\n",
    "\n",
    "trace5 = go.Bar(\n",
    "    x=platforms_df.index,\n",
    "    y=platforms_df.ultra_sqrt,\n",
    "    name='Std тарифа \"УЛЬТРА\"'\n",
    ")\n",
    "\n",
    "data = [trace0, trace1, trace2, trace3, trace4, trace5]\n",
    "layout = {'title': 'Среднее количество мегабайт в месяц (по тарифам) ',\n",
    "          'yaxis': {'title': 'Количество мегабайт (среднее)'},\n",
    "          'xaxis': {'title': 'Месяц и тариф (1-январь, 12-декабрь)'}}\n",
    "\n",
    "fig = go.Figure(data=data, layout=layout)\n",
    "iplot(fig, show_link=False)"
   ]
  },
  {
   "cell_type": "markdown",
   "metadata": {
    "id": "o75y-OJhK3xX"
   },
   "source": [
    "Сделаем график распределения среднего по тарифам."
   ]
  },
  {
   "cell_type": "code",
   "execution_count": 92,
   "metadata": {
    "id": "pmgAW-rQK3xX",
    "outputId": "e394ea9b-cc3b-4073-9172-db4b4c230ba7"
   },
   "outputs": [
    {
     "data": {
      "application/vnd.plotly.v1+json": {
       "config": {
        "linkText": "Export to plot.ly",
        "plotlyServerURL": "https://plot.ly",
        "showLink": false
       },
       "data": [
        {
         "name": "Средняя выручка (руб)",
         "type": "bar",
         "x": [
          "smart",
          "ultra"
         ],
         "y": [
          959.8984375,
          1950
         ]
        },
        {
         "name": "Среднее в минутах по звонкам (минутах)",
         "type": "bar",
         "x": [
          "smart",
          "ultra"
         ],
         "y": [
          417.9349484073576,
          526.6233502538071
         ]
        },
        {
         "name": "Среднее по смс (шт)",
         "type": "bar",
         "x": [
          "smart",
          "ultra"
         ],
         "y": [
          33.384028712427096,
          49.36345177664975
         ]
        },
        {
         "name": "Среднее в Мб",
         "type": "bar",
         "x": [
          "smart",
          "ultra"
         ],
         "y": [
          16229.188425302826,
          19486.90152284264
         ]
        }
       ],
       "layout": {
        "template": {
         "data": {
          "bar": [
           {
            "error_x": {
             "color": "#2a3f5f"
            },
            "error_y": {
             "color": "#2a3f5f"
            },
            "marker": {
             "line": {
              "color": "#E5ECF6",
              "width": 0.5
             }
            },
            "type": "bar"
           }
          ],
          "barpolar": [
           {
            "marker": {
             "line": {
              "color": "#E5ECF6",
              "width": 0.5
             }
            },
            "type": "barpolar"
           }
          ],
          "carpet": [
           {
            "aaxis": {
             "endlinecolor": "#2a3f5f",
             "gridcolor": "white",
             "linecolor": "white",
             "minorgridcolor": "white",
             "startlinecolor": "#2a3f5f"
            },
            "baxis": {
             "endlinecolor": "#2a3f5f",
             "gridcolor": "white",
             "linecolor": "white",
             "minorgridcolor": "white",
             "startlinecolor": "#2a3f5f"
            },
            "type": "carpet"
           }
          ],
          "choropleth": [
           {
            "colorbar": {
             "outlinewidth": 0,
             "ticks": ""
            },
            "type": "choropleth"
           }
          ],
          "contour": [
           {
            "colorbar": {
             "outlinewidth": 0,
             "ticks": ""
            },
            "colorscale": [
             [
              0,
              "#0d0887"
             ],
             [
              0.1111111111111111,
              "#46039f"
             ],
             [
              0.2222222222222222,
              "#7201a8"
             ],
             [
              0.3333333333333333,
              "#9c179e"
             ],
             [
              0.4444444444444444,
              "#bd3786"
             ],
             [
              0.5555555555555556,
              "#d8576b"
             ],
             [
              0.6666666666666666,
              "#ed7953"
             ],
             [
              0.7777777777777778,
              "#fb9f3a"
             ],
             [
              0.8888888888888888,
              "#fdca26"
             ],
             [
              1,
              "#f0f921"
             ]
            ],
            "type": "contour"
           }
          ],
          "contourcarpet": [
           {
            "colorbar": {
             "outlinewidth": 0,
             "ticks": ""
            },
            "type": "contourcarpet"
           }
          ],
          "heatmap": [
           {
            "colorbar": {
             "outlinewidth": 0,
             "ticks": ""
            },
            "colorscale": [
             [
              0,
              "#0d0887"
             ],
             [
              0.1111111111111111,
              "#46039f"
             ],
             [
              0.2222222222222222,
              "#7201a8"
             ],
             [
              0.3333333333333333,
              "#9c179e"
             ],
             [
              0.4444444444444444,
              "#bd3786"
             ],
             [
              0.5555555555555556,
              "#d8576b"
             ],
             [
              0.6666666666666666,
              "#ed7953"
             ],
             [
              0.7777777777777778,
              "#fb9f3a"
             ],
             [
              0.8888888888888888,
              "#fdca26"
             ],
             [
              1,
              "#f0f921"
             ]
            ],
            "type": "heatmap"
           }
          ],
          "heatmapgl": [
           {
            "colorbar": {
             "outlinewidth": 0,
             "ticks": ""
            },
            "colorscale": [
             [
              0,
              "#0d0887"
             ],
             [
              0.1111111111111111,
              "#46039f"
             ],
             [
              0.2222222222222222,
              "#7201a8"
             ],
             [
              0.3333333333333333,
              "#9c179e"
             ],
             [
              0.4444444444444444,
              "#bd3786"
             ],
             [
              0.5555555555555556,
              "#d8576b"
             ],
             [
              0.6666666666666666,
              "#ed7953"
             ],
             [
              0.7777777777777778,
              "#fb9f3a"
             ],
             [
              0.8888888888888888,
              "#fdca26"
             ],
             [
              1,
              "#f0f921"
             ]
            ],
            "type": "heatmapgl"
           }
          ],
          "histogram": [
           {
            "marker": {
             "colorbar": {
              "outlinewidth": 0,
              "ticks": ""
             }
            },
            "type": "histogram"
           }
          ],
          "histogram2d": [
           {
            "colorbar": {
             "outlinewidth": 0,
             "ticks": ""
            },
            "colorscale": [
             [
              0,
              "#0d0887"
             ],
             [
              0.1111111111111111,
              "#46039f"
             ],
             [
              0.2222222222222222,
              "#7201a8"
             ],
             [
              0.3333333333333333,
              "#9c179e"
             ],
             [
              0.4444444444444444,
              "#bd3786"
             ],
             [
              0.5555555555555556,
              "#d8576b"
             ],
             [
              0.6666666666666666,
              "#ed7953"
             ],
             [
              0.7777777777777778,
              "#fb9f3a"
             ],
             [
              0.8888888888888888,
              "#fdca26"
             ],
             [
              1,
              "#f0f921"
             ]
            ],
            "type": "histogram2d"
           }
          ],
          "histogram2dcontour": [
           {
            "colorbar": {
             "outlinewidth": 0,
             "ticks": ""
            },
            "colorscale": [
             [
              0,
              "#0d0887"
             ],
             [
              0.1111111111111111,
              "#46039f"
             ],
             [
              0.2222222222222222,
              "#7201a8"
             ],
             [
              0.3333333333333333,
              "#9c179e"
             ],
             [
              0.4444444444444444,
              "#bd3786"
             ],
             [
              0.5555555555555556,
              "#d8576b"
             ],
             [
              0.6666666666666666,
              "#ed7953"
             ],
             [
              0.7777777777777778,
              "#fb9f3a"
             ],
             [
              0.8888888888888888,
              "#fdca26"
             ],
             [
              1,
              "#f0f921"
             ]
            ],
            "type": "histogram2dcontour"
           }
          ],
          "mesh3d": [
           {
            "colorbar": {
             "outlinewidth": 0,
             "ticks": ""
            },
            "type": "mesh3d"
           }
          ],
          "parcoords": [
           {
            "line": {
             "colorbar": {
              "outlinewidth": 0,
              "ticks": ""
             }
            },
            "type": "parcoords"
           }
          ],
          "scatter": [
           {
            "marker": {
             "colorbar": {
              "outlinewidth": 0,
              "ticks": ""
             }
            },
            "type": "scatter"
           }
          ],
          "scatter3d": [
           {
            "line": {
             "colorbar": {
              "outlinewidth": 0,
              "ticks": ""
             }
            },
            "marker": {
             "colorbar": {
              "outlinewidth": 0,
              "ticks": ""
             }
            },
            "type": "scatter3d"
           }
          ],
          "scattercarpet": [
           {
            "marker": {
             "colorbar": {
              "outlinewidth": 0,
              "ticks": ""
             }
            },
            "type": "scattercarpet"
           }
          ],
          "scattergeo": [
           {
            "marker": {
             "colorbar": {
              "outlinewidth": 0,
              "ticks": ""
             }
            },
            "type": "scattergeo"
           }
          ],
          "scattergl": [
           {
            "marker": {
             "colorbar": {
              "outlinewidth": 0,
              "ticks": ""
             }
            },
            "type": "scattergl"
           }
          ],
          "scattermapbox": [
           {
            "marker": {
             "colorbar": {
              "outlinewidth": 0,
              "ticks": ""
             }
            },
            "type": "scattermapbox"
           }
          ],
          "scatterpolar": [
           {
            "marker": {
             "colorbar": {
              "outlinewidth": 0,
              "ticks": ""
             }
            },
            "type": "scatterpolar"
           }
          ],
          "scatterpolargl": [
           {
            "marker": {
             "colorbar": {
              "outlinewidth": 0,
              "ticks": ""
             }
            },
            "type": "scatterpolargl"
           }
          ],
          "scatterternary": [
           {
            "marker": {
             "colorbar": {
              "outlinewidth": 0,
              "ticks": ""
             }
            },
            "type": "scatterternary"
           }
          ],
          "surface": [
           {
            "colorbar": {
             "outlinewidth": 0,
             "ticks": ""
            },
            "colorscale": [
             [
              0,
              "#0d0887"
             ],
             [
              0.1111111111111111,
              "#46039f"
             ],
             [
              0.2222222222222222,
              "#7201a8"
             ],
             [
              0.3333333333333333,
              "#9c179e"
             ],
             [
              0.4444444444444444,
              "#bd3786"
             ],
             [
              0.5555555555555556,
              "#d8576b"
             ],
             [
              0.6666666666666666,
              "#ed7953"
             ],
             [
              0.7777777777777778,
              "#fb9f3a"
             ],
             [
              0.8888888888888888,
              "#fdca26"
             ],
             [
              1,
              "#f0f921"
             ]
            ],
            "type": "surface"
           }
          ],
          "table": [
           {
            "cells": {
             "fill": {
              "color": "#EBF0F8"
             },
             "line": {
              "color": "white"
             }
            },
            "header": {
             "fill": {
              "color": "#C8D4E3"
             },
             "line": {
              "color": "white"
             }
            },
            "type": "table"
           }
          ]
         },
         "layout": {
          "annotationdefaults": {
           "arrowcolor": "#2a3f5f",
           "arrowhead": 0,
           "arrowwidth": 1
          },
          "colorscale": {
           "diverging": [
            [
             0,
             "#8e0152"
            ],
            [
             0.1,
             "#c51b7d"
            ],
            [
             0.2,
             "#de77ae"
            ],
            [
             0.3,
             "#f1b6da"
            ],
            [
             0.4,
             "#fde0ef"
            ],
            [
             0.5,
             "#f7f7f7"
            ],
            [
             0.6,
             "#e6f5d0"
            ],
            [
             0.7,
             "#b8e186"
            ],
            [
             0.8,
             "#7fbc41"
            ],
            [
             0.9,
             "#4d9221"
            ],
            [
             1,
             "#276419"
            ]
           ],
           "sequential": [
            [
             0,
             "#0d0887"
            ],
            [
             0.1111111111111111,
             "#46039f"
            ],
            [
             0.2222222222222222,
             "#7201a8"
            ],
            [
             0.3333333333333333,
             "#9c179e"
            ],
            [
             0.4444444444444444,
             "#bd3786"
            ],
            [
             0.5555555555555556,
             "#d8576b"
            ],
            [
             0.6666666666666666,
             "#ed7953"
            ],
            [
             0.7777777777777778,
             "#fb9f3a"
            ],
            [
             0.8888888888888888,
             "#fdca26"
            ],
            [
             1,
             "#f0f921"
            ]
           ],
           "sequentialminus": [
            [
             0,
             "#0d0887"
            ],
            [
             0.1111111111111111,
             "#46039f"
            ],
            [
             0.2222222222222222,
             "#7201a8"
            ],
            [
             0.3333333333333333,
             "#9c179e"
            ],
            [
             0.4444444444444444,
             "#bd3786"
            ],
            [
             0.5555555555555556,
             "#d8576b"
            ],
            [
             0.6666666666666666,
             "#ed7953"
            ],
            [
             0.7777777777777778,
             "#fb9f3a"
            ],
            [
             0.8888888888888888,
             "#fdca26"
            ],
            [
             1,
             "#f0f921"
            ]
           ]
          },
          "colorway": [
           "#636efa",
           "#EF553B",
           "#00cc96",
           "#ab63fa",
           "#FFA15A",
           "#19d3f3",
           "#FF6692",
           "#B6E880",
           "#FF97FF",
           "#FECB52"
          ],
          "font": {
           "color": "#2a3f5f"
          },
          "geo": {
           "bgcolor": "white",
           "lakecolor": "white",
           "landcolor": "#E5ECF6",
           "showlakes": true,
           "showland": true,
           "subunitcolor": "white"
          },
          "hoverlabel": {
           "align": "left"
          },
          "hovermode": "closest",
          "mapbox": {
           "style": "light"
          },
          "paper_bgcolor": "white",
          "plot_bgcolor": "#E5ECF6",
          "polar": {
           "angularaxis": {
            "gridcolor": "white",
            "linecolor": "white",
            "ticks": ""
           },
           "bgcolor": "#E5ECF6",
           "radialaxis": {
            "gridcolor": "white",
            "linecolor": "white",
            "ticks": ""
           }
          },
          "scene": {
           "xaxis": {
            "backgroundcolor": "#E5ECF6",
            "gridcolor": "white",
            "gridwidth": 2,
            "linecolor": "white",
            "showbackground": true,
            "ticks": "",
            "zerolinecolor": "white"
           },
           "yaxis": {
            "backgroundcolor": "#E5ECF6",
            "gridcolor": "white",
            "gridwidth": 2,
            "linecolor": "white",
            "showbackground": true,
            "ticks": "",
            "zerolinecolor": "white"
           },
           "zaxis": {
            "backgroundcolor": "#E5ECF6",
            "gridcolor": "white",
            "gridwidth": 2,
            "linecolor": "white",
            "showbackground": true,
            "ticks": "",
            "zerolinecolor": "white"
           }
          },
          "shapedefaults": {
           "line": {
            "color": "#2a3f5f"
           }
          },
          "ternary": {
           "aaxis": {
            "gridcolor": "white",
            "linecolor": "white",
            "ticks": ""
           },
           "baxis": {
            "gridcolor": "white",
            "linecolor": "white",
            "ticks": ""
           },
           "bgcolor": "#E5ECF6",
           "caxis": {
            "gridcolor": "white",
            "linecolor": "white",
            "ticks": ""
           }
          },
          "title": {
           "x": 0.05
          },
          "xaxis": {
           "automargin": true,
           "gridcolor": "white",
           "linecolor": "white",
           "ticks": "",
           "zerolinecolor": "white",
           "zerolinewidth": 2
          },
          "yaxis": {
           "automargin": true,
           "gridcolor": "white",
           "linecolor": "white",
           "ticks": "",
           "zerolinecolor": "white",
           "zerolinewidth": 2
          }
         }
        },
        "title": {
         "text": "Среднее количество потребления по тарифам "
        },
        "xaxis": {
         "title": {
          "text": "Тариф"
         }
        },
        "yaxis": {
         "title": {
          "text": "Количество среднее"
         }
        }
       }
      },
      "text/html": [
       "<div>\n",
       "        \n",
       "        \n",
       "            <div id=\"bb8bb340-b6ee-4996-85b1-b6bdbeaa341b\" class=\"plotly-graph-div\" style=\"height:525px; width:100%;\"></div>\n",
       "            <script type=\"text/javascript\">\n",
       "                require([\"plotly\"], function(Plotly) {\n",
       "                    window.PLOTLYENV=window.PLOTLYENV || {};\n",
       "                    \n",
       "                if (document.getElementById(\"bb8bb340-b6ee-4996-85b1-b6bdbeaa341b\")) {\n",
       "                    Plotly.newPlot(\n",
       "                        'bb8bb340-b6ee-4996-85b1-b6bdbeaa341b',\n",
       "                        [{\"name\": \"\\u0421\\u0440\\u0435\\u0434\\u043d\\u044f\\u044f \\u0432\\u044b\\u0440\\u0443\\u0447\\u043a\\u0430 (\\u0440\\u0443\\u0431)\", \"type\": \"bar\", \"x\": [\"smart\", \"ultra\"], \"y\": [959.8984375, 1950.0]}, {\"name\": \"\\u0421\\u0440\\u0435\\u0434\\u043d\\u0435\\u0435 \\u0432 \\u043c\\u0438\\u043d\\u0443\\u0442\\u0430\\u0445 \\u043f\\u043e \\u0437\\u0432\\u043e\\u043d\\u043a\\u0430\\u043c (\\u043c\\u0438\\u043d\\u0443\\u0442\\u0430\\u0445)\", \"type\": \"bar\", \"x\": [\"smart\", \"ultra\"], \"y\": [417.9349484073576, 526.6233502538071]}, {\"name\": \"\\u0421\\u0440\\u0435\\u0434\\u043d\\u0435\\u0435 \\u043f\\u043e \\u0441\\u043c\\u0441 (\\u0448\\u0442)\", \"type\": \"bar\", \"x\": [\"smart\", \"ultra\"], \"y\": [33.384028712427096, 49.36345177664975]}, {\"name\": \"\\u0421\\u0440\\u0435\\u0434\\u043d\\u0435\\u0435 \\u0432 \\u041c\\u0431\", \"type\": \"bar\", \"x\": [\"smart\", \"ultra\"], \"y\": [16229.188425302826, 19486.90152284264]}],\n",
       "                        {\"template\": {\"data\": {\"bar\": [{\"error_x\": {\"color\": \"#2a3f5f\"}, \"error_y\": {\"color\": \"#2a3f5f\"}, \"marker\": {\"line\": {\"color\": \"#E5ECF6\", \"width\": 0.5}}, \"type\": \"bar\"}], \"barpolar\": [{\"marker\": {\"line\": {\"color\": \"#E5ECF6\", \"width\": 0.5}}, \"type\": \"barpolar\"}], \"carpet\": [{\"aaxis\": {\"endlinecolor\": \"#2a3f5f\", \"gridcolor\": \"white\", \"linecolor\": \"white\", \"minorgridcolor\": \"white\", \"startlinecolor\": \"#2a3f5f\"}, \"baxis\": {\"endlinecolor\": \"#2a3f5f\", \"gridcolor\": \"white\", \"linecolor\": \"white\", \"minorgridcolor\": \"white\", \"startlinecolor\": \"#2a3f5f\"}, \"type\": \"carpet\"}], \"choropleth\": [{\"colorbar\": {\"outlinewidth\": 0, \"ticks\": \"\"}, \"type\": \"choropleth\"}], \"contour\": [{\"colorbar\": {\"outlinewidth\": 0, \"ticks\": \"\"}, \"colorscale\": [[0.0, \"#0d0887\"], [0.1111111111111111, \"#46039f\"], [0.2222222222222222, \"#7201a8\"], [0.3333333333333333, \"#9c179e\"], [0.4444444444444444, \"#bd3786\"], [0.5555555555555556, \"#d8576b\"], [0.6666666666666666, \"#ed7953\"], [0.7777777777777778, \"#fb9f3a\"], [0.8888888888888888, \"#fdca26\"], [1.0, \"#f0f921\"]], \"type\": \"contour\"}], \"contourcarpet\": [{\"colorbar\": {\"outlinewidth\": 0, \"ticks\": \"\"}, \"type\": \"contourcarpet\"}], \"heatmap\": [{\"colorbar\": {\"outlinewidth\": 0, \"ticks\": \"\"}, \"colorscale\": [[0.0, \"#0d0887\"], [0.1111111111111111, \"#46039f\"], [0.2222222222222222, \"#7201a8\"], [0.3333333333333333, \"#9c179e\"], [0.4444444444444444, \"#bd3786\"], [0.5555555555555556, \"#d8576b\"], [0.6666666666666666, \"#ed7953\"], [0.7777777777777778, \"#fb9f3a\"], [0.8888888888888888, \"#fdca26\"], [1.0, \"#f0f921\"]], \"type\": \"heatmap\"}], \"heatmapgl\": [{\"colorbar\": {\"outlinewidth\": 0, \"ticks\": \"\"}, \"colorscale\": [[0.0, \"#0d0887\"], [0.1111111111111111, \"#46039f\"], [0.2222222222222222, \"#7201a8\"], [0.3333333333333333, \"#9c179e\"], [0.4444444444444444, \"#bd3786\"], [0.5555555555555556, \"#d8576b\"], [0.6666666666666666, \"#ed7953\"], [0.7777777777777778, \"#fb9f3a\"], [0.8888888888888888, \"#fdca26\"], [1.0, \"#f0f921\"]], \"type\": \"heatmapgl\"}], \"histogram\": [{\"marker\": {\"colorbar\": {\"outlinewidth\": 0, \"ticks\": \"\"}}, \"type\": \"histogram\"}], \"histogram2d\": [{\"colorbar\": {\"outlinewidth\": 0, \"ticks\": \"\"}, \"colorscale\": [[0.0, \"#0d0887\"], [0.1111111111111111, \"#46039f\"], [0.2222222222222222, \"#7201a8\"], [0.3333333333333333, \"#9c179e\"], [0.4444444444444444, \"#bd3786\"], [0.5555555555555556, \"#d8576b\"], [0.6666666666666666, \"#ed7953\"], [0.7777777777777778, \"#fb9f3a\"], [0.8888888888888888, \"#fdca26\"], [1.0, \"#f0f921\"]], \"type\": \"histogram2d\"}], \"histogram2dcontour\": [{\"colorbar\": {\"outlinewidth\": 0, \"ticks\": \"\"}, \"colorscale\": [[0.0, \"#0d0887\"], [0.1111111111111111, \"#46039f\"], [0.2222222222222222, \"#7201a8\"], [0.3333333333333333, \"#9c179e\"], [0.4444444444444444, \"#bd3786\"], [0.5555555555555556, \"#d8576b\"], [0.6666666666666666, \"#ed7953\"], [0.7777777777777778, \"#fb9f3a\"], [0.8888888888888888, \"#fdca26\"], [1.0, \"#f0f921\"]], \"type\": \"histogram2dcontour\"}], \"mesh3d\": [{\"colorbar\": {\"outlinewidth\": 0, \"ticks\": \"\"}, \"type\": \"mesh3d\"}], \"parcoords\": [{\"line\": {\"colorbar\": {\"outlinewidth\": 0, \"ticks\": \"\"}}, \"type\": \"parcoords\"}], \"scatter\": [{\"marker\": {\"colorbar\": {\"outlinewidth\": 0, \"ticks\": \"\"}}, \"type\": \"scatter\"}], \"scatter3d\": [{\"line\": {\"colorbar\": {\"outlinewidth\": 0, \"ticks\": \"\"}}, \"marker\": {\"colorbar\": {\"outlinewidth\": 0, \"ticks\": \"\"}}, \"type\": \"scatter3d\"}], \"scattercarpet\": [{\"marker\": {\"colorbar\": {\"outlinewidth\": 0, \"ticks\": \"\"}}, \"type\": \"scattercarpet\"}], \"scattergeo\": [{\"marker\": {\"colorbar\": {\"outlinewidth\": 0, \"ticks\": \"\"}}, \"type\": \"scattergeo\"}], \"scattergl\": [{\"marker\": {\"colorbar\": {\"outlinewidth\": 0, \"ticks\": \"\"}}, \"type\": \"scattergl\"}], \"scattermapbox\": [{\"marker\": {\"colorbar\": {\"outlinewidth\": 0, \"ticks\": \"\"}}, \"type\": \"scattermapbox\"}], \"scatterpolar\": [{\"marker\": {\"colorbar\": {\"outlinewidth\": 0, \"ticks\": \"\"}}, \"type\": \"scatterpolar\"}], \"scatterpolargl\": [{\"marker\": {\"colorbar\": {\"outlinewidth\": 0, \"ticks\": \"\"}}, \"type\": \"scatterpolargl\"}], \"scatterternary\": [{\"marker\": {\"colorbar\": {\"outlinewidth\": 0, \"ticks\": \"\"}}, \"type\": \"scatterternary\"}], \"surface\": [{\"colorbar\": {\"outlinewidth\": 0, \"ticks\": \"\"}, \"colorscale\": [[0.0, \"#0d0887\"], [0.1111111111111111, \"#46039f\"], [0.2222222222222222, \"#7201a8\"], [0.3333333333333333, \"#9c179e\"], [0.4444444444444444, \"#bd3786\"], [0.5555555555555556, \"#d8576b\"], [0.6666666666666666, \"#ed7953\"], [0.7777777777777778, \"#fb9f3a\"], [0.8888888888888888, \"#fdca26\"], [1.0, \"#f0f921\"]], \"type\": \"surface\"}], \"table\": [{\"cells\": {\"fill\": {\"color\": \"#EBF0F8\"}, \"line\": {\"color\": \"white\"}}, \"header\": {\"fill\": {\"color\": \"#C8D4E3\"}, \"line\": {\"color\": \"white\"}}, \"type\": \"table\"}]}, \"layout\": {\"annotationdefaults\": {\"arrowcolor\": \"#2a3f5f\", \"arrowhead\": 0, \"arrowwidth\": 1}, \"colorscale\": {\"diverging\": [[0, \"#8e0152\"], [0.1, \"#c51b7d\"], [0.2, \"#de77ae\"], [0.3, \"#f1b6da\"], [0.4, \"#fde0ef\"], [0.5, \"#f7f7f7\"], [0.6, \"#e6f5d0\"], [0.7, \"#b8e186\"], [0.8, \"#7fbc41\"], [0.9, \"#4d9221\"], [1, \"#276419\"]], \"sequential\": [[0.0, \"#0d0887\"], [0.1111111111111111, \"#46039f\"], [0.2222222222222222, \"#7201a8\"], [0.3333333333333333, \"#9c179e\"], [0.4444444444444444, \"#bd3786\"], [0.5555555555555556, \"#d8576b\"], [0.6666666666666666, \"#ed7953\"], [0.7777777777777778, \"#fb9f3a\"], [0.8888888888888888, \"#fdca26\"], [1.0, \"#f0f921\"]], \"sequentialminus\": [[0.0, \"#0d0887\"], [0.1111111111111111, \"#46039f\"], [0.2222222222222222, \"#7201a8\"], [0.3333333333333333, \"#9c179e\"], [0.4444444444444444, \"#bd3786\"], [0.5555555555555556, \"#d8576b\"], [0.6666666666666666, \"#ed7953\"], [0.7777777777777778, \"#fb9f3a\"], [0.8888888888888888, \"#fdca26\"], [1.0, \"#f0f921\"]]}, \"colorway\": [\"#636efa\", \"#EF553B\", \"#00cc96\", \"#ab63fa\", \"#FFA15A\", \"#19d3f3\", \"#FF6692\", \"#B6E880\", \"#FF97FF\", \"#FECB52\"], \"font\": {\"color\": \"#2a3f5f\"}, \"geo\": {\"bgcolor\": \"white\", \"lakecolor\": \"white\", \"landcolor\": \"#E5ECF6\", \"showlakes\": true, \"showland\": true, \"subunitcolor\": \"white\"}, \"hoverlabel\": {\"align\": \"left\"}, \"hovermode\": \"closest\", \"mapbox\": {\"style\": \"light\"}, \"paper_bgcolor\": \"white\", \"plot_bgcolor\": \"#E5ECF6\", \"polar\": {\"angularaxis\": {\"gridcolor\": \"white\", \"linecolor\": \"white\", \"ticks\": \"\"}, \"bgcolor\": \"#E5ECF6\", \"radialaxis\": {\"gridcolor\": \"white\", \"linecolor\": \"white\", \"ticks\": \"\"}}, \"scene\": {\"xaxis\": {\"backgroundcolor\": \"#E5ECF6\", \"gridcolor\": \"white\", \"gridwidth\": 2, \"linecolor\": \"white\", \"showbackground\": true, \"ticks\": \"\", \"zerolinecolor\": \"white\"}, \"yaxis\": {\"backgroundcolor\": \"#E5ECF6\", \"gridcolor\": \"white\", \"gridwidth\": 2, \"linecolor\": \"white\", \"showbackground\": true, \"ticks\": \"\", \"zerolinecolor\": \"white\"}, \"zaxis\": {\"backgroundcolor\": \"#E5ECF6\", \"gridcolor\": \"white\", \"gridwidth\": 2, \"linecolor\": \"white\", \"showbackground\": true, \"ticks\": \"\", \"zerolinecolor\": \"white\"}}, \"shapedefaults\": {\"line\": {\"color\": \"#2a3f5f\"}}, \"ternary\": {\"aaxis\": {\"gridcolor\": \"white\", \"linecolor\": \"white\", \"ticks\": \"\"}, \"baxis\": {\"gridcolor\": \"white\", \"linecolor\": \"white\", \"ticks\": \"\"}, \"bgcolor\": \"#E5ECF6\", \"caxis\": {\"gridcolor\": \"white\", \"linecolor\": \"white\", \"ticks\": \"\"}}, \"title\": {\"x\": 0.05}, \"xaxis\": {\"automargin\": true, \"gridcolor\": \"white\", \"linecolor\": \"white\", \"ticks\": \"\", \"zerolinecolor\": \"white\", \"zerolinewidth\": 2}, \"yaxis\": {\"automargin\": true, \"gridcolor\": \"white\", \"linecolor\": \"white\", \"ticks\": \"\", \"zerolinecolor\": \"white\", \"zerolinewidth\": 2}}}, \"title\": {\"text\": \"\\u0421\\u0440\\u0435\\u0434\\u043d\\u0435\\u0435 \\u043a\\u043e\\u043b\\u0438\\u0447\\u0435\\u0441\\u0442\\u0432\\u043e \\u043f\\u043e\\u0442\\u0440\\u0435\\u0431\\u043b\\u0435\\u043d\\u0438\\u044f \\u043f\\u043e \\u0442\\u0430\\u0440\\u0438\\u0444\\u0430\\u043c \"}, \"xaxis\": {\"title\": {\"text\": \"\\u0422\\u0430\\u0440\\u0438\\u0444\"}}, \"yaxis\": {\"title\": {\"text\": \"\\u041a\\u043e\\u043b\\u0438\\u0447\\u0435\\u0441\\u0442\\u0432\\u043e \\u0441\\u0440\\u0435\\u0434\\u043d\\u0435\\u0435\"}}},\n",
       "                        {\"responsive\": true}\n",
       "                    ).then(function(){\n",
       "                            \n",
       "var gd = document.getElementById('bb8bb340-b6ee-4996-85b1-b6bdbeaa341b');\n",
       "var x = new MutationObserver(function (mutations, observer) {{\n",
       "        var display = window.getComputedStyle(gd).display;\n",
       "        if (!display || display === 'none') {{\n",
       "            console.log([gd, 'removed!']);\n",
       "            Plotly.purge(gd);\n",
       "            observer.disconnect();\n",
       "        }}\n",
       "}});\n",
       "\n",
       "// Listen for the removal of the full notebook cells\n",
       "var notebookContainer = gd.closest('#notebook-container');\n",
       "if (notebookContainer) {{\n",
       "    x.observe(notebookContainer, {childList: true});\n",
       "}}\n",
       "\n",
       "// Listen for the clearing of the current output cell\n",
       "var outputEl = gd.closest('.output');\n",
       "if (outputEl) {{\n",
       "    x.observe(outputEl, {childList: true});\n",
       "}}\n",
       "\n",
       "                        })\n",
       "                };\n",
       "                });\n",
       "            </script>\n",
       "        </div>"
      ]
     },
     "metadata": {},
     "output_type": "display_data"
    },
    {
     "data": {
      "text/html": [
       "<div>\n",
       "<style scoped>\n",
       "    .dataframe tbody tr th:only-of-type {\n",
       "        vertical-align: middle;\n",
       "    }\n",
       "\n",
       "    .dataframe tbody tr th {\n",
       "        vertical-align: top;\n",
       "    }\n",
       "\n",
       "    .dataframe thead th {\n",
       "        text-align: right;\n",
       "    }\n",
       "</style>\n",
       "<table border=\"1\" class=\"dataframe\">\n",
       "  <thead>\n",
       "    <tr style=\"text-align: right;\">\n",
       "      <th></th>\n",
       "      <th>messages_included</th>\n",
       "      <th>mb_per_month_included</th>\n",
       "      <th>minutes_included</th>\n",
       "      <th>rub_monthly_fee</th>\n",
       "      <th>rub_per_gb</th>\n",
       "      <th>rub_per_message</th>\n",
       "      <th>rub_per_minute</th>\n",
       "      <th>tariff_name</th>\n",
       "    </tr>\n",
       "  </thead>\n",
       "  <tbody>\n",
       "    <tr>\n",
       "      <td>0</td>\n",
       "      <td>50</td>\n",
       "      <td>15360</td>\n",
       "      <td>500</td>\n",
       "      <td>550</td>\n",
       "      <td>200</td>\n",
       "      <td>3</td>\n",
       "      <td>3</td>\n",
       "      <td>smart</td>\n",
       "    </tr>\n",
       "    <tr>\n",
       "      <td>1</td>\n",
       "      <td>1000</td>\n",
       "      <td>30720</td>\n",
       "      <td>3000</td>\n",
       "      <td>1950</td>\n",
       "      <td>150</td>\n",
       "      <td>1</td>\n",
       "      <td>1</td>\n",
       "      <td>ultra</td>\n",
       "    </tr>\n",
       "  </tbody>\n",
       "</table>\n",
       "</div>"
      ],
      "text/plain": [
       "   messages_included  mb_per_month_included  minutes_included  \\\n",
       "0                 50                  15360               500   \n",
       "1               1000                  30720              3000   \n",
       "\n",
       "   rub_monthly_fee  rub_per_gb  rub_per_message  rub_per_minute tariff_name  \n",
       "0              550         200                3               3       smart  \n",
       "1             1950         150                1               1       ultra  "
      ]
     },
     "execution_count": 92,
     "metadata": {},
     "output_type": "execute_result"
    }
   ],
   "source": [
    "platforms_final = final_table.pivot_table(index=['tariff'], values=['minutes_spent',\n",
    "                                                  'mess_count',\n",
    "                                                  'sum_mb',\n",
    "                                                  'all_rub'], aggfunc={'minutes_spent': 'mean',\n",
    "                                                                       'mess_count': 'mean',\n",
    "                                                                       'sum_mb': 'mean',\n",
    "                                                                       'all_rub': 'median'})\n",
    "trace0 = go.Bar(\n",
    "    x=platforms_final.index,\n",
    "    y=platforms_final.all_rub,\n",
    "    name ='Средняя выручка (руб)'\n",
    ")\n",
    "\n",
    "trace1 = go.Bar(\n",
    "    x=platforms_final.index,\n",
    "    y=platforms_final.minutes_spent,\n",
    "    name ='Среднее в минутах по звонкам (минутах)'\n",
    ")\n",
    "\n",
    "trace2 = go.Bar(\n",
    "    x=platforms_final.index,\n",
    "    y=platforms_final.mess_count,\n",
    "    name ='Среднее по смс (шт)'\n",
    ")\n",
    "\n",
    "trace3 = go.Bar(\n",
    "    x=platforms_final.index,\n",
    "    y=platforms_final.sum_mb,\n",
    "    name ='Среднее в Мб'\n",
    ")\n",
    "\n",
    "\n",
    "data = [trace0, trace1, trace2, trace3]\n",
    "layout = {'title': 'Среднее количество потребления по тарифам ',\n",
    "          'yaxis': {'title': 'Количество среднее'},\n",
    "          'xaxis': {'title': 'Тариф'}}\n",
    "\n",
    "fig = go.Figure(data=data, layout=layout)\n",
    "iplot(fig, show_link=False)\n",
    "rate"
   ]
  },
  {
   "cell_type": "markdown",
   "metadata": {
    "id": "fdnKwQk1K3xX"
   },
   "source": [
    "По гистограмме можно убедиться о среднем распределении нашего графика выше по разделам и увидеть редких клиентов."
   ]
  },
  {
   "cell_type": "code",
   "execution_count": 93,
   "metadata": {
    "id": "5lDPtHKpK3xX",
    "outputId": "57992bb3-26b3-4c7d-a1e9-718c455ca88b"
   },
   "outputs": [
    {
     "data": {
      "image/png": "[encoded data removed]",
      "text/plain": [
       "<Figure size 432x288 with 1 Axes>"
      ]
     },
     "metadata": {
      "needs_background": "light"
     },
     "output_type": "display_data"
    },
    {
     "data": {
      "image/png": "[encoded data removed]",
      "text/plain": [
       "<Figure size 432x288 with 1 Axes>"
      ]
     },
     "metadata": {
      "needs_background": "light"
     },
     "output_type": "display_data"
    },
    {
     "data": {
      "image/png": "[encoded data removed]",
      "text/plain": [
       "<Figure size 432x288 with 1 Axes>"
      ]
     },
     "metadata": {
      "needs_background": "light"
     },
     "output_type": "display_data"
    },
    {
     "data": {
      "image/png": "[encoded data removed]",
      "text/plain": [
       "<Figure size 432x288 with 1 Axes>"
      ]
     },
     "metadata": {
      "needs_background": "light"
     },
     "output_type": "display_data"
    },
    {
     "data": {
      "text/plain": [
       "<matplotlib.axes._subplots.AxesSubplot at 0x7f3304f8a550>"
      ]
     },
     "execution_count": 93,
     "metadata": {},
     "output_type": "execute_result"
    },
    {
     "data": {
      "image/png": "[encoded data removed]",
      "text/plain": [
       "<Figure size 432x288 with 1 Axes>"
      ]
     },
     "metadata": {
      "needs_background": "light"
     },
     "output_type": "display_data"
    }
   ],
   "source": [
    "ax = final_table.query('tariff == \"smart\"').all_rub.plot.hist(bins=50, \n",
    "                                                         title='График оплаты тарифа \"СМАРТ\"',\n",
    "                                                         grid=True,\n",
    "                                                         range=(0, 6000))\n",
    "ax.set_xlabel('Рубли')\n",
    "ax.set_ylabel('Количество клиентво')\n",
    "plt.show()\n",
    "\n",
    "ax = final_table.query('tariff == \"smart\"').minutes_spent.plot.hist(bins=50, \n",
    "                                                         title='График минут тарифа \"СМАРТ\"',\n",
    "                                                         grid=True,\n",
    "                                                         range=(0, 1500))\n",
    "ax.set_xlabel('Минуты')\n",
    "ax.set_ylabel('Количество клиентво')\n",
    "plt.show()\n",
    "\n",
    "ax = final_table.query('tariff == \"smart\"').mess_count.plot.hist(bins=50, \n",
    "                                                         title='График смс тарифа \"СМАРТ\"',\n",
    "                                                         grid=True,\n",
    "                                                         )\n",
    "ax.set_xlabel('Смс (шт)')\n",
    "ax.set_ylabel('Количество клиентво')\n",
    "plt.show()\n",
    "\n",
    "ax = final_table.query('tariff == \"smart\"').sum_mb.plot.hist(bins=50, \n",
    "                                                         title='График интеренета в мб тарифа \"СМАРТ\"',\n",
    "                                                         grid=True,\n",
    "                                                         )\n",
    "ax.set_xlabel('Mb')\n",
    "ax.set_ylabel('Количество клиентво')\n",
    "plt.show()\n",
    "\n",
    "final_table.query('tariff == \"smart\"').boxplot('all_rub')"
   ]
  },
  {
   "cell_type": "code",
   "execution_count": 78,
   "metadata": {
    "id": "wqXJ3TWzK3xY",
    "outputId": "abbaf0a1-f13f-4103-ee88-85708cde47a4"
   },
   "outputs": [
    {
     "data": {
      "image/png": "[encoded data removed]",
      "text/plain": [
       "<Figure size 432x288 with 1 Axes>"
      ]
     },
     "metadata": {
      "needs_background": "light"
     },
     "output_type": "display_data"
    },
    {
     "data": {
      "image/png": "[encoded data removed]",
      "text/plain": [
       "<Figure size 432x288 with 1 Axes>"
      ]
     },
     "metadata": {
      "needs_background": "light"
     },
     "output_type": "display_data"
    },
    {
     "data": {
      "image/png": "[encoded data removed]",
      "text/plain": [
       "<Figure size 432x288 with 1 Axes>"
      ]
     },
     "metadata": {
      "needs_background": "light"
     },
     "output_type": "display_data"
    },
    {
     "data": {
      "image/png": "[encoded data removed]",
      "text/plain": [
       "<Figure size 432x288 with 1 Axes>"
      ]
     },
     "metadata": {
      "needs_background": "light"
     },
     "output_type": "display_data"
    },
    {
     "data": {
      "text/plain": [
       "<matplotlib.axes._subplots.AxesSubplot at 0x7f3304e77150>"
      ]
     },
     "execution_count": 78,
     "metadata": {},
     "output_type": "execute_result"
    },
    {
     "data": {
      "image/png": "[encoded data removed]",
      "text/plain": [
       "<Figure size 432x288 with 1 Axes>"
      ]
     },
     "metadata": {
      "needs_background": "light"
     },
     "output_type": "display_data"
    }
   ],
   "source": [
    "ax = final_table.query('tariff == \"ultra\"').all_rub.plot.hist(bins=50, \n",
    "                                                         title='График оплаты тарифа \"УЛЬТРА\"',\n",
    "                                                         grid=True,\n",
    "                                                         range=(1800, 4000))\n",
    "ax.set_xlabel('Рубли')\n",
    "ax.set_ylabel('Количество клиентво')\n",
    "plt.show()\n",
    "\n",
    "ax = final_table.query('tariff == \"ultra\"').minutes_spent.plot.hist(bins=50, \n",
    "                                                         title='График минут тарифа \"УЛЬТРА\"',\n",
    "                                                         grid=True,\n",
    "                                                         )\n",
    "ax.set_xlabel('Минуты')\n",
    "ax.set_ylabel('Количество клиентво')\n",
    "plt.show()\n",
    "\n",
    "ax = final_table.query('tariff == \"ultra\"').mess_count.plot.hist(bins=50, \n",
    "                                                         title='График смс тарифа \"УЛЬТРА\"',\n",
    "                                                         grid=True,\n",
    "                                                         )\n",
    "ax.set_xlabel('Смс (шт)')\n",
    "ax.set_ylabel('Количество клиентво')\n",
    "plt.show()\n",
    "\n",
    "ax = final_table.query('tariff == \"ultra\"').sum_mb.plot.hist(bins=50, \n",
    "                                                         title='График интеренета в мб тарифа \"УЛЬТРА\"',\n",
    "                                                         grid=True,\n",
    "                                                         )\n",
    "ax.set_xlabel('Mb')\n",
    "ax.set_ylabel('Количество клиентво')\n",
    "plt.show()\n",
    "\n",
    "final_table.query('tariff == \"ultra\"').boxplot('all_rub')"
   ]
  },
  {
   "cell_type": "markdown",
   "metadata": {
    "id": "akXgqxTPK3xY"
   },
   "source": [
    "# Вывод\n",
    "\n",
    "Сделал средний подсчет выручки по тарифам и среднее потребление по лимитам (попровка: рассчет выручки сделал по медиане т.к. выше я привел доказательства выбросов, а медиана устойчива к выбросам).\n",
    "\n",
    "Все утверждения в среднем!\n",
    "На графике видно, что тариф \"УЛЬТРА\" укладывается в лимит по минутам, смс и мб. Оплата у большенства клиентов не выходит за предел тарифа. Совсем другое у клиентов \"СМАРТ\", там потребление смс и звонков в среднем укладывается, а вот интернета этим клиентам требуется больше, тем самым они переплачивают за него и не укладываются в лимит тарифа, переплачивают."
   ]
  },
  {
   "cell_type": "markdown",
   "metadata": {
    "id": "Uqc3amntK3xY"
   },
   "source": [
    "## Проверим гипотезы\n",
    "\n",
    "1. средняя выручка пользователей тарифов «Ультра» и «Смарт» различается;\n",
    "2. средняя выручка пользователей из Москвы отличается от выручки пользователей из других регионов;"
   ]
  },
  {
   "cell_type": "markdown",
   "metadata": {
    "id": "tUyq4MwCK3xZ"
   },
   "source": [
    "Добавим города в финальную таблицу."
   ]
  },
  {
   "cell_type": "code",
   "execution_count": 79,
   "metadata": {
    "id": "6lxK3rzwK3xZ"
   },
   "outputs": [],
   "source": [
    "final_table = final_table.set_index('user_id').join(user.set_index('user_id')['city'])"
   ]
  },
  {
   "cell_type": "markdown",
   "metadata": {
    "id": "eIjhvTNYK3xZ"
   },
   "source": [
    "Делаем категоризацию для второй гипотезы."
   ]
  },
  {
   "cell_type": "code",
   "execution_count": 80,
   "metadata": {
    "id": "zcYcRHzDK3xZ"
   },
   "outputs": [],
   "source": [
    "final_table['city_gategor'] = final_table['city'].where(final_table['city'] == 'Москва', 'Регион')"
   ]
  },
  {
   "cell_type": "code",
   "execution_count": 81,
   "metadata": {
    "id": "aPwRXhY4K3xZ"
   },
   "outputs": [],
   "source": [
    "alpha = 0.05"
   ]
  },
  {
   "cell_type": "code",
   "execution_count": 82,
   "metadata": {
    "id": "wll7DaOvK3xZ",
    "outputId": "2d873377-7454-4728-85d4-0934b5ed21de"
   },
   "outputs": [
    {
     "data": {
      "image/png": "[encoded data removed]",
      "text/plain": [
       "<Figure size 432x288 with 1 Axes>"
      ]
     },
     "metadata": {
      "needs_background": "light"
     },
     "output_type": "display_data"
    }
   ],
   "source": [
    "final_table.pivot_table(index='tariff', values='all_rub').plot.bar(\n",
    "    title='График средней выручки по месяцам и тарифу')\n",
    "plt.xlabel('Месяц и тариф')\n",
    "plt.ylabel('Рубли')\n",
    "plt.show()"
   ]
  },
  {
   "cell_type": "markdown",
   "metadata": {
    "id": "gNgg3jcdK3xa"
   },
   "source": [
    "Видно, что средняя выручка по тарифам различается значит можно сказать, что средняя выручка пользователей тарифов \"УТЬТРА\" и \"СМАРТ\" различается. Проверим нашу гипотезу."
   ]
  },
  {
   "cell_type": "markdown",
   "metadata": {
    "id": "p1KQQrJ2K3xa"
   },
   "source": [
    "### Проверка гипотезы. \n",
    "# Cредняя выручка пользователей тарифов «Ультра» и «Смарт» различается.\n",
    "\n",
    "Нулевая гипотеза - средняя выручка пользователей тарифов «Ультра» и «Смарт» не различаются.  \n",
    "Альтернативаня гипотеза - средняя выручка пользователей тарифов «Ультра» и «Смарт» различается."
   ]
  },
  {
   "cell_type": "code",
   "execution_count": 83,
   "metadata": {
    "id": "14onn02MK3xb",
    "outputId": "764eaa15-b327-4c57-b279-706b664b5055"
   },
   "outputs": [
    {
     "name": "stdout",
     "output_type": "stream",
     "text": [
      "p-value 1.172655564462924e-190\n",
      "Отвергаем нулевую гипотезу\n"
     ]
    }
   ],
   "source": [
    "sample_smart = final_table.query('tariff == \"smart\"').all_rub\n",
    "sample_ultra = final_table.query('tariff == \"ultra\"').all_rub\n",
    "results = st.ttest_ind(sample_smart, sample_ultra)\n",
    "print(f'p-value {results.pvalue}')\n",
    "\n",
    "if results.pvalue < alpha:\n",
    "    print(f'Отвергаем нулевую гипотезу')\n",
    "else:\n",
    "    print(f'Не получилось отвергнуть нулевую гипотезу')"
   ]
  },
  {
   "cell_type": "markdown",
   "metadata": {
    "id": "986RS4HPK3xb"
   },
   "source": [
    "Сделаем на случайной выборке."
   ]
  },
  {
   "cell_type": "code",
   "execution_count": 84,
   "metadata": {
    "id": "gyI-DMEZK3xb"
   },
   "outputs": [],
   "source": [
    "sample_1 = list(final_table.query('tariff == \"smart\"')['all_rub'])\n",
    "sample_2 = list(final_table.query('tariff == \"ultra\"')['all_rub'])"
   ]
  },
  {
   "cell_type": "code",
   "execution_count": 85,
   "metadata": {
    "id": "PA9F6YT4K3xb",
    "outputId": "5987ac0d-d8da-4a3d-b733-a3dc33891a70"
   },
   "outputs": [
    {
     "name": "stdout",
     "output_type": "stream",
     "text": [
      "p-value 7.184948389108426e-07\n",
      "Отвергаем нулевую гипотезу\n"
     ]
    }
   ],
   "source": [
    "sample_1 = random.sample(sample_1,30)\n",
    "sample_2 = random.sample(sample_2,30)\n",
    "\n",
    "results = st.ttest_ind(sample_1, sample_2)\n",
    "print(f'p-value {results.pvalue}')\n",
    "\n",
    "if results.pvalue < alpha:\n",
    "    print(f'Отвергаем нулевую гипотезу')\n",
    "else:\n",
    "    print(f'Не получилось отвергнуть нулевую гипотезу')"
   ]
  },
  {
   "cell_type": "markdown",
   "metadata": {
    "id": "XvJTvs6nK3xc"
   },
   "source": [
    "То, что мы получили, мы не утверждаем, что та или иная гипотеза верна, мы говорим, что отвергаем нулевую гипотезу в связи со значением п-значения. У нас п-значение меньше, значит отвергаем нулевую гипотезу и говорим, что значения отличаются и это видно на графике который был выше."
   ]
  },
  {
   "cell_type": "markdown",
   "metadata": {
    "id": "R0491s-5K3xc"
   },
   "source": [
    "### Проверка гипотезы.  \n",
    "# Средняя выручка пользователей из Москвы отличается от выручки пользователей из других регионов.\n",
    "\n",
    "Нулевая гипотеза - средняя выручка пользователей из Москвы и выручка пользователей из других регионов не различаются.  \n",
    "Альтернативаня гипотеза - средняя выручка пользователей из Москвы отличается от выручки пользователей из других регионов."
   ]
  },
  {
   "cell_type": "code",
   "execution_count": 86,
   "metadata": {
    "id": "HD8EJapKK3xc",
    "outputId": "9b2ebb7d-f11c-4d20-c726-f7c879220765"
   },
   "outputs": [
    {
     "name": "stdout",
     "output_type": "stream",
     "text": [
      "p-value 0.47443187631524797\n",
      "Не получилось отвергнуть нулевую гипотезу\n"
     ]
    }
   ],
   "source": [
    "sample_moscow = final_table.query('city == \"Москва\"').all_rub\n",
    "sample_region = final_table.query('city != \"Москва\"').all_rub\n",
    "results = st.ttest_ind(sample_moscow, sample_region)\n",
    "print(f'p-value {results.pvalue}')\n",
    "\n",
    "if results.pvalue < alpha:\n",
    "    print(f'Отвергаем нулевую гипотезу')\n",
    "else:\n",
    "    print(f'Не получилось отвергнуть нулевую гипотезу')"
   ]
  },
  {
   "cell_type": "code",
   "execution_count": 87,
   "metadata": {
    "id": "iz0sOXPcK3xc",
    "outputId": "47e9c380-1e7e-4ccb-eab4-66c88ace7304"
   },
   "outputs": [
    {
     "data": {
      "image/png": "[encoded data removed]",
      "text/plain": [
       "<Figure size 432x288 with 1 Axes>"
      ]
     },
     "metadata": {
      "needs_background": "light"
     },
     "output_type": "display_data"
    },
    {
     "data": {
      "text/plain": [
       "city_gategor\n",
       "Москва    1507.276762\n",
       "Регион    1482.063727\n",
       "Name: all_rub, dtype: float64"
      ]
     },
     "execution_count": 87,
     "metadata": {},
     "output_type": "execute_result"
    }
   ],
   "source": [
    "final_table.groupby('city_gategor')['all_rub'].mean().plot.bar(\n",
    "    title='График средней выручки по городам')\n",
    "plt.xlabel('Город')\n",
    "plt.ylabel('Рубли')\n",
    "plt.show()\n",
    "final_table.groupby('city_gategor')['all_rub'].mean()"
   ]
  },
  {
   "cell_type": "markdown",
   "metadata": {
    "id": "CAl4aY2AK3xd"
   },
   "source": [
    "Провели гипотезу которая показала, что нулевая гипотеза верна, от сюда делаем вывод, что средняя выручка в Москве и других регионов не отличается. Это видно на графике выше (распределение дохода по медиане)."
   ]
  },
  {
   "cell_type": "markdown",
   "metadata": {
    "id": "Hb4nkUkOK3xd"
   },
   "source": [
    "# Общий вывод"
   ]
  },
  {
   "cell_type": "markdown",
   "metadata": {
    "id": "sVMuQ6lPK3xe"
   },
   "source": [
    "1. Прочитали все таблицы, сохранили в пременные и изучили их.\n",
    "2. Сделали предобработку данных.\n",
    "    - Заменили пустые значения.\n",
    "    - Поменяли тип данных.\n",
    "    - Убрали столбец.\n",
    "3. Подсчитатли для каждого пользователя:\n",
    "    - Количество сделанных звонков и израсходованных минут\n",
    "    - Количество отправленных смс\n",
    "    - Объем трафика\n",
    "    - Помесячную выручку \n",
    "4. Проанализировали данные:\n",
    "    - Сколько минут требуется пользователям каждого тарифа помесячно.\n",
    "    - Сколько смс требуется пользователям каждого тарифа помесячно.\n",
    "    - Объем трафика помесячно для каждого пользователя.\n",
    "5. Проанализировали гипотезы.\n",
    "    - Есть ли различие по выручке по тарифам?\n",
    "    - Есть ли различие по выручке в Москве и других регионах?\n",
    "        - В обоих случах мы получили отвержение гипотиз, т.к. среднее отличается по графику.\n",
    "\n",
    "\n",
    "- Вывод:\n",
    "\n",
    "- В общем и целом, в среднем пользователи тарифа \"СМАРТ\" расходают больше интернета, чем им позволяет тариф тем самым они переплачивают за месяц его использования. Что касается звонком и смс они в среднем укладываются в планки установленными тарифом. Клиенты тарифа \"УЛЬТРА\" в среднем платят по тарифу столько как прописанно в палне. Они укладываеюся по звонкам, смс и интернету в среднем.\n",
    "- Тариф \"УЛЬТРА\" лучше, т.к. приносит в среднем больше дохода, чем тарифа \"СМАРТ\"\n",
    "- Клинты из Москвы приносят больше прибыли в среднем, чем из других регионов."
   ]
  },
  {
   "cell_type": "code",
   "execution_count": null,
   "metadata": {
    "id": "vSELfLMn_NwF"
   },
   "outputs": [],
   "source": []
  }
 ],
 "metadata": {
  "ExecuteTimeLog": [
   {
    "duration": 1516,
    "start_time": "2021-11-01T15:01:03.469Z"
   },
   {
    "duration": 428,
    "start_time": "2021-11-01T15:01:06.988Z"
   },
   {
    "duration": 14,
    "start_time": "2021-11-01T15:01:08.320Z"
   },
   {
    "duration": 9,
    "start_time": "2021-11-01T15:01:08.886Z"
   },
   {
    "duration": 8,
    "start_time": "2021-11-01T15:01:09.460Z"
   },
   {
    "duration": 9,
    "start_time": "2021-11-01T15:01:10.260Z"
   },
   {
    "duration": 8,
    "start_time": "2021-11-01T15:01:10.683Z"
   },
   {
    "duration": 8,
    "start_time": "2021-11-01T15:01:11.133Z"
   },
   {
    "duration": 23,
    "start_time": "2021-11-01T15:01:11.494Z"
   },
   {
    "duration": 14,
    "start_time": "2021-11-01T15:01:11.792Z"
   },
   {
    "duration": 18,
    "start_time": "2021-11-01T15:01:12.065Z"
   },
   {
    "duration": 7,
    "start_time": "2021-11-01T15:01:12.303Z"
   },
   {
    "duration": 6,
    "start_time": "2021-11-01T15:01:13.388Z"
   },
   {
    "duration": 9,
    "start_time": "2021-11-01T15:01:13.886Z"
   },
   {
    "duration": 7,
    "start_time": "2021-11-01T15:01:14.099Z"
   },
   {
    "duration": 85,
    "start_time": "2021-11-01T15:01:14.300Z"
   },
   {
    "duration": 47,
    "start_time": "2021-11-01T15:01:14.483Z"
   },
   {
    "duration": 49,
    "start_time": "2021-11-01T15:01:14.814Z"
   },
   {
    "duration": 8,
    "start_time": "2021-11-01T15:01:15.004Z"
   },
   {
    "duration": 3,
    "start_time": "2021-11-01T15:01:15.159Z"
   },
   {
    "duration": 6,
    "start_time": "2021-11-01T15:01:15.326Z"
   },
   {
    "duration": 4,
    "start_time": "2021-11-01T15:01:15.645Z"
   },
   {
    "duration": 56,
    "start_time": "2021-11-01T15:01:15.992Z"
   },
   {
    "duration": 8,
    "start_time": "2021-11-01T15:01:16.336Z"
   },
   {
    "duration": 444,
    "start_time": "2021-11-01T15:01:16.679Z"
   },
   {
    "duration": -72,
    "start_time": "2021-11-01T15:01:17.196Z"
   },
   {
    "duration": 5,
    "start_time": "2021-11-01T15:01:42.531Z"
   },
   {
    "duration": 1509,
    "start_time": "2021-11-01T15:01:53.067Z"
   },
   {
    "duration": 426,
    "start_time": "2021-11-01T15:01:55.907Z"
   },
   {
    "duration": 14,
    "start_time": "2021-11-01T15:01:56.335Z"
   },
   {
    "duration": 13,
    "start_time": "2021-11-01T15:01:56.351Z"
   },
   {
    "duration": 11,
    "start_time": "2021-11-01T15:01:56.373Z"
   },
   {
    "duration": 8,
    "start_time": "2021-11-01T15:01:56.533Z"
   },
   {
    "duration": 8,
    "start_time": "2021-11-01T15:01:56.673Z"
   },
   {
    "duration": 8,
    "start_time": "2021-11-01T15:01:56.811Z"
   },
   {
    "duration": 22,
    "start_time": "2021-11-01T15:01:56.970Z"
   },
   {
    "duration": 14,
    "start_time": "2021-11-01T15:01:57.115Z"
   },
   {
    "duration": 18,
    "start_time": "2021-11-01T15:01:57.263Z"
   },
   {
    "duration": 7,
    "start_time": "2021-11-01T15:01:57.418Z"
   },
   {
    "duration": 6,
    "start_time": "2021-11-01T15:01:58.063Z"
   },
   {
    "duration": 12,
    "start_time": "2021-11-01T15:01:58.438Z"
   },
   {
    "duration": 7,
    "start_time": "2021-11-01T15:01:58.595Z"
   },
   {
    "duration": 95,
    "start_time": "2021-11-01T15:01:58.761Z"
   },
   {
    "duration": 43,
    "start_time": "2021-11-01T15:01:58.929Z"
   },
   {
    "duration": 54,
    "start_time": "2021-11-01T15:01:59.089Z"
   },
   {
    "duration": 6,
    "start_time": "2021-11-01T15:01:59.239Z"
   },
   {
    "duration": 3,
    "start_time": "2021-11-01T15:01:59.404Z"
   },
   {
    "duration": 7,
    "start_time": "2021-11-01T15:01:59.558Z"
   },
   {
    "duration": 5,
    "start_time": "2021-11-01T15:02:00.078Z"
   },
   {
    "duration": 62,
    "start_time": "2021-11-01T15:02:00.140Z"
   },
   {
    "duration": 9,
    "start_time": "2021-11-01T15:02:00.204Z"
   },
   {
    "duration": 6,
    "start_time": "2021-11-01T15:02:00.260Z"
   },
   {
    "duration": 4,
    "start_time": "2021-11-01T15:02:00.306Z"
   },
   {
    "duration": 19,
    "start_time": "2021-11-01T15:02:00.335Z"
   },
   {
    "duration": 18,
    "start_time": "2021-11-01T15:02:00.367Z"
   },
   {
    "duration": 5,
    "start_time": "2021-11-01T15:02:00.904Z"
   },
   {
    "duration": 11,
    "start_time": "2021-11-01T15:02:01.152Z"
   },
   {
    "duration": 8,
    "start_time": "2021-11-01T15:02:01.337Z"
   },
   {
    "duration": 23,
    "start_time": "2021-11-01T15:02:02.398Z"
   },
   {
    "duration": 57,
    "start_time": "2021-11-01T15:02:02.653Z"
   },
   {
    "duration": 9,
    "start_time": "2021-11-01T15:02:02.895Z"
   },
   {
    "duration": 11,
    "start_time": "2021-11-01T15:02:03.136Z"
   },
   {
    "duration": 16,
    "start_time": "2021-11-01T15:02:03.688Z"
   },
   {
    "duration": 26,
    "start_time": "2021-11-01T15:02:03.930Z"
   },
   {
    "duration": 12,
    "start_time": "2021-11-01T15:02:04.148Z"
   },
   {
    "duration": 18,
    "start_time": "2021-11-01T15:02:04.554Z"
   },
   {
    "duration": 28,
    "start_time": "2021-11-01T15:02:04.732Z"
   },
   {
    "duration": 12,
    "start_time": "2021-11-01T15:02:04.938Z"
   },
   {
    "duration": 475,
    "start_time": "2021-11-01T15:02:05.296Z"
   },
   {
    "duration": 8,
    "start_time": "2021-11-01T15:02:21.783Z"
   },
   {
    "duration": 5,
    "start_time": "2021-11-01T15:02:23.312Z"
   },
   {
    "duration": 337,
    "start_time": "2021-11-01T15:02:24.834Z"
   },
   {
    "duration": 345,
    "start_time": "2021-11-01T15:02:49.431Z"
   },
   {
    "duration": 14,
    "start_time": "2021-11-01T15:03:27.852Z"
   },
   {
    "duration": 198,
    "start_time": "2021-11-01T15:03:39.935Z"
   },
   {
    "duration": 160,
    "start_time": "2021-11-01T15:03:44.498Z"
   },
   {
    "duration": 4,
    "start_time": "2021-11-01T15:03:46.046Z"
   },
   {
    "duration": 192,
    "start_time": "2021-11-01T15:03:46.585Z"
   },
   {
    "duration": 6,
    "start_time": "2021-11-01T15:03:48.087Z"
   },
   {
    "duration": 5,
    "start_time": "2021-11-01T15:03:48.450Z"
   },
   {
    "duration": 6,
    "start_time": "2021-11-01T15:03:48.690Z"
   },
   {
    "duration": 29,
    "start_time": "2021-11-01T15:03:48.937Z"
   },
   {
    "duration": 7,
    "start_time": "2021-11-01T15:03:49.796Z"
   },
   {
    "duration": 3,
    "start_time": "2021-11-01T15:03:50.893Z"
   },
   {
    "duration": 14,
    "start_time": "2021-11-01T15:03:51.277Z"
   },
   {
    "duration": 5,
    "start_time": "2021-11-01T15:03:51.539Z"
   },
   {
    "duration": 6,
    "start_time": "2021-11-01T15:03:51.872Z"
   },
   {
    "duration": 6,
    "start_time": "2021-11-01T15:03:52.228Z"
   },
   {
    "duration": 4,
    "start_time": "2021-11-01T15:03:53.181Z"
   },
   {
    "duration": 173,
    "start_time": "2021-11-01T15:03:53.435Z"
   },
   {
    "duration": 13,
    "start_time": "2021-11-01T15:03:53.687Z"
   },
   {
    "duration": 9,
    "start_time": "2021-11-01T15:03:54.717Z"
   },
   {
    "duration": 5,
    "start_time": "2021-11-01T15:03:54.939Z"
   },
   {
    "duration": 12,
    "start_time": "2021-11-01T15:03:55.128Z"
   },
   {
    "duration": 326,
    "start_time": "2021-11-01T15:03:55.806Z"
   },
   {
    "duration": 12,
    "start_time": "2021-11-01T15:03:56.209Z"
   },
   {
    "duration": 85,
    "start_time": "2021-11-01T15:03:56.495Z"
   },
   {
    "duration": 662,
    "start_time": "2021-11-01T15:04:02.438Z"
   },
   {
    "duration": 10,
    "start_time": "2021-11-01T15:04:05.465Z"
   },
   {
    "duration": 42,
    "start_time": "2021-11-01T15:04:06.208Z"
   },
   {
    "duration": 230,
    "start_time": "2021-11-01T15:04:06.708Z"
   },
   {
    "duration": 9,
    "start_time": "2021-11-01T15:04:07.088Z"
   },
   {
    "duration": 1467,
    "start_time": "2021-11-01T15:04:16.132Z"
   },
   {
    "duration": 411,
    "start_time": "2021-11-01T15:04:17.601Z"
   },
   {
    "duration": 15,
    "start_time": "2021-11-01T15:04:18.015Z"
   },
   {
    "duration": 31,
    "start_time": "2021-11-01T15:04:18.032Z"
   },
   {
    "duration": 22,
    "start_time": "2021-11-01T15:04:18.065Z"
   },
   {
    "duration": 24,
    "start_time": "2021-11-01T15:04:18.089Z"
   },
   {
    "duration": 19,
    "start_time": "2021-11-01T15:04:18.115Z"
   },
   {
    "duration": 19,
    "start_time": "2021-11-01T15:04:18.137Z"
   },
   {
    "duration": 37,
    "start_time": "2021-11-01T15:04:18.159Z"
   },
   {
    "duration": 16,
    "start_time": "2021-11-01T15:04:18.198Z"
   },
   {
    "duration": 26,
    "start_time": "2021-11-01T15:04:18.215Z"
   },
   {
    "duration": 6,
    "start_time": "2021-11-01T15:04:18.243Z"
   },
   {
    "duration": 24,
    "start_time": "2021-11-01T15:04:18.251Z"
   },
   {
    "duration": 20,
    "start_time": "2021-11-01T15:04:18.276Z"
   },
   {
    "duration": 17,
    "start_time": "2021-11-01T15:04:18.298Z"
   },
   {
    "duration": 108,
    "start_time": "2021-11-01T15:04:18.316Z"
   },
   {
    "duration": 40,
    "start_time": "2021-11-01T15:04:18.425Z"
   },
   {
    "duration": 67,
    "start_time": "2021-11-01T15:04:18.467Z"
   },
   {
    "duration": 7,
    "start_time": "2021-11-01T15:04:18.536Z"
   },
   {
    "duration": 4,
    "start_time": "2021-11-01T15:04:18.545Z"
   },
   {
    "duration": 17,
    "start_time": "2021-11-01T15:04:18.551Z"
   },
   {
    "duration": 21,
    "start_time": "2021-11-01T15:04:18.570Z"
   },
   {
    "duration": 68,
    "start_time": "2021-11-01T15:04:18.597Z"
   },
   {
    "duration": 10,
    "start_time": "2021-11-01T15:04:18.668Z"
   },
   {
    "duration": 8,
    "start_time": "2021-11-01T15:04:18.680Z"
   },
   {
    "duration": 20,
    "start_time": "2021-11-01T15:04:18.690Z"
   },
   {
    "duration": 18,
    "start_time": "2021-11-01T15:04:18.711Z"
   },
   {
    "duration": 9,
    "start_time": "2021-11-01T15:04:18.731Z"
   },
   {
    "duration": 6,
    "start_time": "2021-11-01T15:04:18.742Z"
   },
   {
    "duration": 16,
    "start_time": "2021-11-01T15:04:18.749Z"
   },
   {
    "duration": 20,
    "start_time": "2021-11-01T15:04:18.766Z"
   },
   {
    "duration": 33,
    "start_time": "2021-11-01T15:04:18.788Z"
   },
   {
    "duration": 54,
    "start_time": "2021-11-01T15:04:18.823Z"
   },
   {
    "duration": 9,
    "start_time": "2021-11-01T15:04:18.879Z"
   },
   {
    "duration": 25,
    "start_time": "2021-11-01T15:04:18.890Z"
   },
   {
    "duration": 28,
    "start_time": "2021-11-01T15:04:18.916Z"
   },
   {
    "duration": 27,
    "start_time": "2021-11-01T15:04:18.946Z"
   },
   {
    "duration": 10,
    "start_time": "2021-11-01T15:04:18.974Z"
   },
   {
    "duration": 32,
    "start_time": "2021-11-01T15:04:18.986Z"
   },
   {
    "duration": 28,
    "start_time": "2021-11-01T15:04:19.019Z"
   },
   {
    "duration": 10,
    "start_time": "2021-11-01T15:04:19.049Z"
   },
   {
    "duration": 8,
    "start_time": "2021-11-01T15:04:19.061Z"
   },
   {
    "duration": 6,
    "start_time": "2021-11-01T15:04:19.071Z"
   },
   {
    "duration": 204,
    "start_time": "2021-11-01T15:04:19.106Z"
   },
   {
    "duration": 178,
    "start_time": "2021-11-01T15:04:19.312Z"
   },
   {
    "duration": 13,
    "start_time": "2021-11-01T15:04:19.492Z"
   },
   {
    "duration": 200,
    "start_time": "2021-11-01T15:04:19.507Z"
   },
   {
    "duration": 6,
    "start_time": "2021-11-01T15:04:19.708Z"
   },
   {
    "duration": 7,
    "start_time": "2021-11-01T15:04:19.715Z"
   },
   {
    "duration": 7,
    "start_time": "2021-11-01T15:04:19.724Z"
   },
   {
    "duration": 26,
    "start_time": "2021-11-01T15:04:19.732Z"
   },
   {
    "duration": 6,
    "start_time": "2021-11-01T15:04:19.760Z"
   },
   {
    "duration": 6,
    "start_time": "2021-11-01T15:04:19.767Z"
   },
   {
    "duration": 36,
    "start_time": "2021-11-01T15:04:19.775Z"
   },
   {
    "duration": 9,
    "start_time": "2021-11-01T15:04:19.813Z"
   },
   {
    "duration": 8,
    "start_time": "2021-11-01T15:04:19.824Z"
   },
   {
    "duration": 7,
    "start_time": "2021-11-01T15:04:19.834Z"
   },
   {
    "duration": 4,
    "start_time": "2021-11-01T15:04:19.843Z"
   },
   {
    "duration": 193,
    "start_time": "2021-11-01T15:04:19.849Z"
   },
   {
    "duration": 12,
    "start_time": "2021-11-01T15:04:20.044Z"
   },
   {
    "duration": 36,
    "start_time": "2021-11-01T15:04:20.058Z"
   },
   {
    "duration": 11,
    "start_time": "2021-11-01T15:04:20.096Z"
   },
   {
    "duration": 18,
    "start_time": "2021-11-01T15:04:20.109Z"
   },
   {
    "duration": 312,
    "start_time": "2021-11-01T15:04:20.129Z"
   },
   {
    "duration": 11,
    "start_time": "2021-11-01T15:04:20.442Z"
   },
   {
    "duration": 98,
    "start_time": "2021-11-01T15:04:20.455Z"
   },
   {
    "duration": 654,
    "start_time": "2021-11-01T15:04:20.555Z"
   },
   {
    "duration": 10,
    "start_time": "2021-11-01T15:04:21.214Z"
   },
   {
    "duration": 46,
    "start_time": "2021-11-01T15:04:21.226Z"
   },
   {
    "duration": 322,
    "start_time": "2021-11-01T15:04:21.274Z"
   },
   {
    "duration": 17,
    "start_time": "2021-11-01T15:04:21.597Z"
   },
   {
    "duration": 48,
    "start_time": "2021-11-01T15:04:21.616Z"
   },
   {
    "duration": 353,
    "start_time": "2021-11-01T15:04:21.665Z"
   },
   {
    "duration": 9,
    "start_time": "2021-11-01T15:04:22.020Z"
   },
   {
    "duration": 407,
    "start_time": "2021-11-01T15:04:22.031Z"
   },
   {
    "duration": 261,
    "start_time": "2021-11-01T15:04:22.440Z"
   },
   {
    "duration": 1343,
    "start_time": "2021-11-01T15:04:22.707Z"
   },
   {
    "duration": 1270,
    "start_time": "2021-11-01T15:04:24.052Z"
   },
   {
    "duration": 9,
    "start_time": "2021-11-01T15:04:25.324Z"
   },
   {
    "duration": 5,
    "start_time": "2021-11-01T15:04:25.335Z"
   },
   {
    "duration": 3,
    "start_time": "2021-11-01T15:04:25.342Z"
   },
   {
    "duration": 199,
    "start_time": "2021-11-01T15:04:25.347Z"
   },
   {
    "duration": 10,
    "start_time": "2021-11-01T15:04:25.547Z"
   },
   {
    "duration": 7,
    "start_time": "2021-11-01T15:04:25.559Z"
   },
   {
    "duration": 5,
    "start_time": "2021-11-01T15:04:25.568Z"
   },
   {
    "duration": 34,
    "start_time": "2021-11-01T15:04:25.575Z"
   },
   {
    "duration": 158,
    "start_time": "2021-11-01T15:04:25.611Z"
   },
   {
    "duration": 355,
    "start_time": "2021-11-01T15:04:58.236Z"
   },
   {
    "duration": 227,
    "start_time": "2021-11-01T15:05:03.700Z"
   },
   {
    "duration": 223,
    "start_time": "2021-11-01T15:05:07.923Z"
   },
   {
    "duration": 407,
    "start_time": "2021-11-01T15:05:12.826Z"
   },
   {
    "duration": 372,
    "start_time": "2021-11-01T15:05:18.608Z"
   },
   {
    "duration": 1222,
    "start_time": "2021-11-01T15:05:21.038Z"
   }
  ],
  "colab": {
   "collapsed_sections": [],
   "name": "4.Определение перспективного тарифа для телеком.ipynb",
   "provenance": []
  },
  "kernelspec": {
   "display_name": "Python 3",
   "language": "python",
   "name": "python3"
  },
  "language_info": {
   "codemirror_mode": {
    "name": "ipython",
    "version": 3
   },
   "file_extension": ".py",
   "mimetype": "text/x-python",
   "name": "python",
   "nbconvert_exporter": "python",
   "pygments_lexer": "ipython3",
   "version": "3.7.8"
  },
  "toc": {
   "base_numbering": 1,
   "nav_menu": {},
   "number_sections": true,
   "sideBar": true,
   "skip_h1_title": true,
   "title_cell": "Table of Contents",
   "title_sidebar": "Contents",
   "toc_cell": false,
   "toc_position": {
    "height": "calc(100% - 180px)",
    "left": "10px",
    "top": "150px",
    "width": "451.53px"
   },
   "toc_section_display": true,
   "toc_window_display": false
  }
 },
 "nbformat": 4,
 "nbformat_minor": 1
}

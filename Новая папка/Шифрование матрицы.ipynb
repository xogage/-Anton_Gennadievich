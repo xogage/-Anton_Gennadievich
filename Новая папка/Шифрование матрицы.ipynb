{
  "nbformat": 4,
  "nbformat_minor": 0,
  "metadata": {
    "ExecuteTimeLog": [
      {
        "duration": 1080,
        "start_time": "2021-07-18T18:04:56.019Z"
      },
      {
        "duration": 18,
        "start_time": "2021-07-18T18:05:21.250Z"
      },
      {
        "duration": 16,
        "start_time": "2021-07-18T18:05:25.587Z"
      },
      {
        "duration": 264,
        "start_time": "2021-07-18T18:08:19.009Z"
      },
      {
        "duration": 174,
        "start_time": "2021-07-18T18:08:21.558Z"
      },
      {
        "duration": 23,
        "start_time": "2021-07-18T18:08:45.218Z"
      },
      {
        "duration": 176,
        "start_time": "2021-07-18T18:16:17.591Z"
      },
      {
        "duration": 7,
        "start_time": "2021-07-18T18:18:22.948Z"
      },
      {
        "duration": 26,
        "start_time": "2021-07-18T18:23:19.355Z"
      },
      {
        "duration": 183,
        "start_time": "2021-07-18T18:34:23.417Z"
      },
      {
        "duration": 172,
        "start_time": "2021-07-18T18:34:26.252Z"
      },
      {
        "duration": 175,
        "start_time": "2021-07-18T18:34:34.647Z"
      },
      {
        "duration": 3,
        "start_time": "2021-07-18T18:34:36.740Z"
      },
      {
        "duration": 7,
        "start_time": "2021-07-18T18:34:44.263Z"
      },
      {
        "duration": 25,
        "start_time": "2021-07-18T18:34:50.466Z"
      },
      {
        "duration": 7,
        "start_time": "2021-07-18T18:35:00.064Z"
      },
      {
        "duration": 4,
        "start_time": "2021-07-18T18:35:02.531Z"
      },
      {
        "duration": 14,
        "start_time": "2021-07-18T18:35:04.585Z"
      },
      {
        "duration": 6,
        "start_time": "2021-07-18T18:35:42.142Z"
      },
      {
        "duration": 7,
        "start_time": "2021-07-18T18:36:32.181Z"
      },
      {
        "duration": 6,
        "start_time": "2021-07-18T18:36:36.910Z"
      },
      {
        "duration": 7,
        "start_time": "2021-07-18T18:36:41.868Z"
      },
      {
        "duration": 4220,
        "start_time": "2021-07-18T18:37:16.587Z"
      },
      {
        "duration": 14,
        "start_time": "2021-07-18T18:37:22.111Z"
      },
      {
        "duration": 172,
        "start_time": "2021-07-18T18:49:47.492Z"
      },
      {
        "duration": 4,
        "start_time": "2021-07-18T18:49:56.248Z"
      },
      {
        "duration": 13,
        "start_time": "2021-07-18T18:50:57.626Z"
      },
      {
        "duration": 15,
        "start_time": "2021-07-18T18:51:10.977Z"
      },
      {
        "duration": 13,
        "start_time": "2021-07-18T18:51:19.197Z"
      },
      {
        "duration": 5,
        "start_time": "2021-07-18T18:51:40.512Z"
      },
      {
        "duration": 5,
        "start_time": "2021-07-18T18:51:45.067Z"
      },
      {
        "duration": 5,
        "start_time": "2021-07-18T18:52:02.535Z"
      },
      {
        "duration": 5,
        "start_time": "2021-07-18T18:52:07.268Z"
      },
      {
        "duration": 5,
        "start_time": "2021-07-18T18:54:15.039Z"
      },
      {
        "duration": 5,
        "start_time": "2021-07-18T18:54:23.823Z"
      },
      {
        "duration": 57,
        "start_time": "2021-07-18T18:54:26.717Z"
      },
      {
        "duration": 9,
        "start_time": "2021-07-18T18:56:18.344Z"
      },
      {
        "duration": 4,
        "start_time": "2021-07-18T18:56:54.262Z"
      },
      {
        "duration": 9,
        "start_time": "2021-07-18T18:57:32.536Z"
      },
      {
        "duration": 5,
        "start_time": "2021-07-18T19:04:05.121Z"
      },
      {
        "duration": 6,
        "start_time": "2021-07-18T19:04:06.839Z"
      },
      {
        "duration": 7,
        "start_time": "2021-07-18T19:04:35.506Z"
      },
      {
        "duration": 1150,
        "start_time": "2021-07-19T11:25:20.515Z"
      },
      {
        "duration": 28,
        "start_time": "2021-07-19T11:25:21.667Z"
      },
      {
        "duration": 22,
        "start_time": "2021-07-19T11:25:23.385Z"
      },
      {
        "duration": 7,
        "start_time": "2021-07-19T11:25:24.422Z"
      },
      {
        "duration": 4,
        "start_time": "2021-07-19T11:25:25.686Z"
      },
      {
        "duration": 8,
        "start_time": "2021-07-19T11:25:26.401Z"
      },
      {
        "duration": 7,
        "start_time": "2021-07-19T11:25:26.806Z"
      },
      {
        "duration": 5,
        "start_time": "2021-07-19T11:25:27.652Z"
      },
      {
        "duration": 11,
        "start_time": "2021-07-19T12:54:58.481Z"
      },
      {
        "duration": 1122,
        "start_time": "2021-07-19T12:57:10.234Z"
      },
      {
        "duration": 27,
        "start_time": "2021-07-19T12:57:11.358Z"
      },
      {
        "duration": 20,
        "start_time": "2021-07-19T12:57:11.387Z"
      },
      {
        "duration": 17,
        "start_time": "2021-07-19T12:57:11.409Z"
      },
      {
        "duration": 4,
        "start_time": "2021-07-19T12:57:11.502Z"
      },
      {
        "duration": 6,
        "start_time": "2021-07-19T12:57:12.060Z"
      },
      {
        "duration": 6,
        "start_time": "2021-07-19T12:57:12.312Z"
      },
      {
        "duration": 340,
        "start_time": "2021-07-19T12:57:12.967Z"
      },
      {
        "duration": 13,
        "start_time": "2021-07-19T12:57:32.904Z"
      },
      {
        "duration": 11,
        "start_time": "2021-07-19T12:57:39.750Z"
      },
      {
        "duration": 6,
        "start_time": "2021-07-19T12:57:51.897Z"
      },
      {
        "duration": 11,
        "start_time": "2021-07-19T12:57:54.277Z"
      },
      {
        "duration": 1138,
        "start_time": "2021-07-19T12:58:03.931Z"
      },
      {
        "duration": 27,
        "start_time": "2021-07-19T12:58:05.071Z"
      },
      {
        "duration": 21,
        "start_time": "2021-07-19T12:58:05.100Z"
      },
      {
        "duration": 6,
        "start_time": "2021-07-19T12:58:05.122Z"
      },
      {
        "duration": 10,
        "start_time": "2021-07-19T12:58:05.130Z"
      },
      {
        "duration": 6,
        "start_time": "2021-07-19T12:58:05.479Z"
      },
      {
        "duration": 6,
        "start_time": "2021-07-19T12:58:05.837Z"
      },
      {
        "duration": 5,
        "start_time": "2021-07-19T12:58:06.687Z"
      },
      {
        "duration": 10,
        "start_time": "2021-07-19T12:58:08.336Z"
      },
      {
        "duration": 6,
        "start_time": "2021-07-19T12:58:19.827Z"
      },
      {
        "duration": 10,
        "start_time": "2021-07-19T12:58:20.488Z"
      },
      {
        "duration": 31,
        "start_time": "2021-07-19T12:59:02.981Z"
      },
      {
        "duration": 3,
        "start_time": "2021-07-19T12:59:49.110Z"
      },
      {
        "duration": 3,
        "start_time": "2021-07-19T13:00:20.998Z"
      },
      {
        "duration": 10,
        "start_time": "2021-07-19T13:00:26.002Z"
      },
      {
        "duration": 11,
        "start_time": "2021-07-19T13:00:43.819Z"
      },
      {
        "duration": 6,
        "start_time": "2021-07-19T13:29:47.069Z"
      },
      {
        "duration": 4,
        "start_time": "2021-07-19T13:30:11.583Z"
      },
      {
        "duration": 5,
        "start_time": "2021-07-19T13:30:27.181Z"
      },
      {
        "duration": 4,
        "start_time": "2021-07-19T13:30:27.545Z"
      },
      {
        "duration": 5,
        "start_time": "2021-07-19T13:30:30.894Z"
      },
      {
        "duration": 4,
        "start_time": "2021-07-19T13:30:31.186Z"
      },
      {
        "duration": 5,
        "start_time": "2021-07-19T13:30:36.796Z"
      },
      {
        "duration": 4,
        "start_time": "2021-07-19T13:30:37.019Z"
      },
      {
        "duration": 5,
        "start_time": "2021-07-19T13:30:41.109Z"
      },
      {
        "duration": 4,
        "start_time": "2021-07-19T13:30:41.287Z"
      },
      {
        "duration": 4,
        "start_time": "2021-07-19T13:35:05.938Z"
      },
      {
        "duration": 4,
        "start_time": "2021-07-19T13:35:15.152Z"
      },
      {
        "duration": 4,
        "start_time": "2021-07-19T13:35:20.780Z"
      },
      {
        "duration": 4,
        "start_time": "2021-07-19T13:35:25.916Z"
      },
      {
        "duration": 4,
        "start_time": "2021-07-19T13:35:28.945Z"
      },
      {
        "duration": 3,
        "start_time": "2021-07-19T13:35:36.420Z"
      },
      {
        "duration": 4,
        "start_time": "2021-07-19T13:35:40.664Z"
      },
      {
        "duration": 359,
        "start_time": "2021-07-19T13:36:26.767Z"
      },
      {
        "duration": 259,
        "start_time": "2021-07-19T13:36:58.747Z"
      },
      {
        "duration": 3,
        "start_time": "2021-07-19T13:37:02.953Z"
      },
      {
        "duration": 5,
        "start_time": "2021-07-19T13:37:06.217Z"
      },
      {
        "duration": 4,
        "start_time": "2021-07-19T13:37:09.711Z"
      },
      {
        "duration": 347,
        "start_time": "2021-07-19T13:38:51.064Z"
      },
      {
        "duration": 254,
        "start_time": "2021-07-19T13:39:21.079Z"
      },
      {
        "duration": 280,
        "start_time": "2021-07-19T13:39:56.748Z"
      },
      {
        "duration": 4,
        "start_time": "2021-07-19T13:40:10.851Z"
      },
      {
        "duration": 14,
        "start_time": "2021-07-19T13:40:16.001Z"
      },
      {
        "duration": 12,
        "start_time": "2021-07-19T13:40:29.117Z"
      },
      {
        "duration": 12,
        "start_time": "2021-07-19T13:40:37.005Z"
      },
      {
        "duration": 4,
        "start_time": "2021-07-19T13:44:24.498Z"
      },
      {
        "duration": 10,
        "start_time": "2021-07-19T13:44:56.066Z"
      },
      {
        "duration": 3,
        "start_time": "2021-07-19T13:45:11.392Z"
      },
      {
        "duration": 1128,
        "start_time": "2021-07-19T13:45:28.174Z"
      },
      {
        "duration": 27,
        "start_time": "2021-07-19T13:45:29.304Z"
      },
      {
        "duration": 20,
        "start_time": "2021-07-19T13:45:29.333Z"
      },
      {
        "duration": 5,
        "start_time": "2021-07-19T13:45:29.354Z"
      },
      {
        "duration": 4,
        "start_time": "2021-07-19T13:45:29.629Z"
      },
      {
        "duration": 7,
        "start_time": "2021-07-19T13:45:30.456Z"
      },
      {
        "duration": 7,
        "start_time": "2021-07-19T13:45:30.796Z"
      },
      {
        "duration": 6,
        "start_time": "2021-07-19T13:45:31.899Z"
      },
      {
        "duration": 7,
        "start_time": "2021-07-19T13:45:35.753Z"
      },
      {
        "duration": 4,
        "start_time": "2021-07-19T13:45:36.987Z"
      },
      {
        "duration": 8,
        "start_time": "2021-07-19T13:45:40.737Z"
      },
      {
        "duration": 13,
        "start_time": "2021-07-19T13:45:50.673Z"
      },
      {
        "duration": 7,
        "start_time": "2021-07-19T13:45:55.178Z"
      },
      {
        "duration": 4,
        "start_time": "2021-07-19T13:49:57.920Z"
      },
      {
        "duration": 5,
        "start_time": "2021-07-19T13:50:02.446Z"
      },
      {
        "duration": 3,
        "start_time": "2021-07-19T13:50:33.295Z"
      },
      {
        "duration": 4,
        "start_time": "2021-07-19T13:52:24.676Z"
      },
      {
        "duration": 4,
        "start_time": "2021-07-19T13:52:29.474Z"
      },
      {
        "duration": 4,
        "start_time": "2021-07-19T13:52:52.996Z"
      },
      {
        "duration": 3,
        "start_time": "2021-07-19T13:53:17.711Z"
      },
      {
        "duration": 4,
        "start_time": "2021-07-19T13:53:20.161Z"
      },
      {
        "duration": 4,
        "start_time": "2021-07-19T13:53:28.417Z"
      },
      {
        "duration": 2,
        "start_time": "2021-07-19T13:54:19.552Z"
      },
      {
        "duration": 4,
        "start_time": "2021-07-19T13:56:19.563Z"
      },
      {
        "duration": 5,
        "start_time": "2021-07-19T14:03:55.537Z"
      },
      {
        "duration": 4,
        "start_time": "2021-07-19T14:04:10.957Z"
      },
      {
        "duration": 6,
        "start_time": "2021-07-19T14:04:30.742Z"
      },
      {
        "duration": 89,
        "start_time": "2021-07-19T14:05:46.376Z"
      },
      {
        "duration": 375,
        "start_time": "2021-07-19T14:05:50.727Z"
      },
      {
        "duration": 260,
        "start_time": "2021-07-19T14:06:25.303Z"
      },
      {
        "duration": 281,
        "start_time": "2021-07-19T14:06:40.500Z"
      },
      {
        "duration": 5,
        "start_time": "2021-07-19T14:30:47.192Z"
      },
      {
        "duration": 4,
        "start_time": "2021-07-19T14:59:31.871Z"
      },
      {
        "duration": 117,
        "start_time": "2021-07-19T15:13:17.237Z"
      },
      {
        "duration": 1251,
        "start_time": "2021-07-19T15:16:06.624Z"
      },
      {
        "duration": 29,
        "start_time": "2021-07-19T15:16:07.877Z"
      },
      {
        "duration": 21,
        "start_time": "2021-07-19T15:16:07.909Z"
      },
      {
        "duration": 12,
        "start_time": "2021-07-19T15:16:07.932Z"
      },
      {
        "duration": 4,
        "start_time": "2021-07-19T15:16:08.984Z"
      },
      {
        "duration": 6,
        "start_time": "2021-07-19T15:16:09.552Z"
      },
      {
        "duration": 6,
        "start_time": "2021-07-19T15:16:09.973Z"
      },
      {
        "duration": 6,
        "start_time": "2021-07-19T15:16:10.706Z"
      },
      {
        "duration": 7,
        "start_time": "2021-07-19T15:16:14.546Z"
      },
      {
        "duration": 4,
        "start_time": "2021-07-19T15:16:15.122Z"
      },
      {
        "duration": 14,
        "start_time": "2021-07-19T15:16:15.939Z"
      },
      {
        "duration": 8,
        "start_time": "2021-07-19T15:16:17.063Z"
      },
      {
        "duration": 4,
        "start_time": "2021-07-19T15:16:18.419Z"
      },
      {
        "duration": 3,
        "start_time": "2021-07-19T15:16:26.102Z"
      },
      {
        "duration": 3,
        "start_time": "2021-07-19T15:16:26.529Z"
      },
      {
        "duration": 3,
        "start_time": "2021-07-19T15:16:26.973Z"
      },
      {
        "duration": 3,
        "start_time": "2021-07-19T15:17:52.804Z"
      },
      {
        "duration": 5,
        "start_time": "2021-07-19T15:17:58.757Z"
      },
      {
        "duration": 5,
        "start_time": "2021-07-19T15:17:59.855Z"
      },
      {
        "duration": 6,
        "start_time": "2021-07-19T15:18:01.752Z"
      },
      {
        "duration": 350,
        "start_time": "2021-07-19T15:23:28.340Z"
      },
      {
        "duration": 1154,
        "start_time": "2021-07-19T15:26:49.513Z"
      },
      {
        "duration": 30,
        "start_time": "2021-07-19T15:26:50.669Z"
      },
      {
        "duration": 24,
        "start_time": "2021-07-19T15:26:50.701Z"
      },
      {
        "duration": 16,
        "start_time": "2021-07-19T15:26:50.727Z"
      },
      {
        "duration": 4,
        "start_time": "2021-07-19T15:26:51.419Z"
      },
      {
        "duration": 7,
        "start_time": "2021-07-19T15:26:52.071Z"
      },
      {
        "duration": 7,
        "start_time": "2021-07-19T15:26:52.265Z"
      },
      {
        "duration": 7,
        "start_time": "2021-07-19T15:26:53.005Z"
      },
      {
        "duration": 9,
        "start_time": "2021-07-19T15:26:55.681Z"
      },
      {
        "duration": 15,
        "start_time": "2021-07-19T15:26:57.153Z"
      },
      {
        "duration": 8,
        "start_time": "2021-07-19T15:26:58.979Z"
      },
      {
        "duration": 4,
        "start_time": "2021-07-19T15:27:07.097Z"
      },
      {
        "duration": 3,
        "start_time": "2021-07-19T15:27:41.190Z"
      },
      {
        "duration": 3,
        "start_time": "2021-07-19T15:27:41.796Z"
      },
      {
        "duration": 2,
        "start_time": "2021-07-19T15:27:42.014Z"
      },
      {
        "duration": 6,
        "start_time": "2021-07-19T15:27:45.115Z"
      },
      {
        "duration": 7,
        "start_time": "2021-07-19T15:27:46.570Z"
      },
      {
        "duration": 5,
        "start_time": "2021-07-19T15:28:01.296Z"
      },
      {
        "duration": 1091,
        "start_time": "2021-07-19T16:39:31.682Z"
      },
      {
        "duration": 30,
        "start_time": "2021-07-19T16:39:32.775Z"
      },
      {
        "duration": 21,
        "start_time": "2021-07-19T16:39:32.807Z"
      },
      {
        "duration": 7,
        "start_time": "2021-07-19T16:39:32.899Z"
      },
      {
        "duration": 4,
        "start_time": "2021-07-19T16:39:34.019Z"
      },
      {
        "duration": 16,
        "start_time": "2021-07-19T16:39:34.025Z"
      },
      {
        "duration": 6,
        "start_time": "2021-07-19T16:39:34.404Z"
      },
      {
        "duration": 5,
        "start_time": "2021-07-19T16:39:35.295Z"
      },
      {
        "duration": 4,
        "start_time": "2021-07-19T16:39:36.180Z"
      },
      {
        "duration": 3,
        "start_time": "2021-07-19T16:40:24.009Z"
      },
      {
        "duration": 3,
        "start_time": "2021-07-19T16:40:24.498Z"
      },
      {
        "duration": 3,
        "start_time": "2021-07-19T16:40:25.121Z"
      },
      {
        "duration": 6,
        "start_time": "2021-07-19T16:40:28.558Z"
      },
      {
        "duration": 6,
        "start_time": "2021-07-19T16:40:30.699Z"
      },
      {
        "duration": 352,
        "start_time": "2021-07-19T16:40:31.302Z"
      },
      {
        "duration": 3,
        "start_time": "2021-07-19T16:40:38.918Z"
      },
      {
        "duration": 7,
        "start_time": "2021-07-19T16:40:46.996Z"
      },
      {
        "duration": 15,
        "start_time": "2021-07-19T16:40:48.081Z"
      },
      {
        "duration": 276,
        "start_time": "2021-07-19T16:40:49.302Z"
      },
      {
        "duration": 7,
        "start_time": "2021-07-19T16:40:54.715Z"
      },
      {
        "duration": 3,
        "start_time": "2021-07-19T16:40:57.117Z"
      },
      {
        "duration": 6,
        "start_time": "2021-07-19T16:41:21.201Z"
      },
      {
        "duration": 6,
        "start_time": "2021-07-19T16:41:30.745Z"
      },
      {
        "duration": 270,
        "start_time": "2021-07-19T16:41:45.506Z"
      },
      {
        "duration": 7,
        "start_time": "2021-07-19T16:41:49.825Z"
      },
      {
        "duration": 4,
        "start_time": "2021-07-19T16:41:55.066Z"
      },
      {
        "duration": 6,
        "start_time": "2021-07-19T16:42:00.984Z"
      },
      {
        "duration": 4,
        "start_time": "2021-07-19T16:42:06.316Z"
      },
      {
        "duration": 254,
        "start_time": "2021-07-19T16:43:26.282Z"
      },
      {
        "duration": 8,
        "start_time": "2021-07-19T16:43:35.069Z"
      },
      {
        "duration": 8,
        "start_time": "2021-07-19T16:43:38.720Z"
      },
      {
        "duration": 7,
        "start_time": "2021-07-19T16:43:45.173Z"
      },
      {
        "duration": 7,
        "start_time": "2021-07-19T16:44:27.147Z"
      },
      {
        "duration": 7,
        "start_time": "2021-07-19T16:44:56.822Z"
      },
      {
        "duration": 281,
        "start_time": "2021-07-19T16:45:57.350Z"
      },
      {
        "duration": 273,
        "start_time": "2021-07-19T16:46:06.431Z"
      },
      {
        "duration": 8,
        "start_time": "2021-07-19T16:46:33.974Z"
      },
      {
        "duration": 8,
        "start_time": "2021-07-19T16:48:04.787Z"
      },
      {
        "duration": 8,
        "start_time": "2021-07-19T16:48:20.834Z"
      },
      {
        "duration": 88,
        "start_time": "2021-07-19T16:48:49.012Z"
      },
      {
        "duration": 1091,
        "start_time": "2021-07-19T16:49:24.576Z"
      },
      {
        "duration": 27,
        "start_time": "2021-07-19T16:49:25.669Z"
      },
      {
        "duration": 22,
        "start_time": "2021-07-19T16:49:25.697Z"
      },
      {
        "duration": 5,
        "start_time": "2021-07-19T16:49:25.721Z"
      },
      {
        "duration": 14,
        "start_time": "2021-07-19T16:49:25.728Z"
      },
      {
        "duration": 7,
        "start_time": "2021-07-19T16:49:25.744Z"
      },
      {
        "duration": 7,
        "start_time": "2021-07-19T16:49:25.753Z"
      },
      {
        "duration": 5,
        "start_time": "2021-07-19T16:49:25.763Z"
      },
      {
        "duration": 5,
        "start_time": "2021-07-19T16:49:25.770Z"
      },
      {
        "duration": 5,
        "start_time": "2021-07-19T16:49:25.776Z"
      },
      {
        "duration": 5,
        "start_time": "2021-07-19T16:49:25.782Z"
      },
      {
        "duration": 5,
        "start_time": "2021-07-19T16:49:25.788Z"
      },
      {
        "duration": 47,
        "start_time": "2021-07-19T16:49:25.794Z"
      },
      {
        "duration": 8,
        "start_time": "2021-07-19T16:49:25.843Z"
      },
      {
        "duration": 5,
        "start_time": "2021-07-19T16:49:25.853Z"
      },
      {
        "duration": 7,
        "start_time": "2021-07-19T16:49:25.860Z"
      },
      {
        "duration": 15,
        "start_time": "2021-07-19T16:49:25.869Z"
      },
      {
        "duration": 9,
        "start_time": "2021-07-19T16:49:25.886Z"
      },
      {
        "duration": 45,
        "start_time": "2021-07-19T16:49:25.897Z"
      },
      {
        "duration": 9,
        "start_time": "2021-07-19T16:49:25.944Z"
      },
      {
        "duration": 5,
        "start_time": "2021-07-19T17:02:59.608Z"
      },
      {
        "duration": 5,
        "start_time": "2021-07-19T17:03:05.786Z"
      },
      {
        "duration": 4,
        "start_time": "2021-07-19T17:03:12.480Z"
      },
      {
        "duration": 463,
        "start_time": "2021-07-19T17:03:26.851Z"
      },
      {
        "duration": 323,
        "start_time": "2021-07-19T17:03:30.206Z"
      },
      {
        "duration": 5,
        "start_time": "2021-07-19T17:03:53.079Z"
      },
      {
        "duration": 1536,
        "start_time": "2021-07-20T10:22:43.811Z"
      },
      {
        "duration": 42,
        "start_time": "2021-07-20T10:22:45.350Z"
      },
      {
        "duration": 39,
        "start_time": "2021-07-20T10:22:45.396Z"
      },
      {
        "duration": 11,
        "start_time": "2021-07-20T10:22:45.439Z"
      },
      {
        "duration": 5,
        "start_time": "2021-07-20T10:22:46.436Z"
      },
      {
        "duration": 8,
        "start_time": "2021-07-20T10:22:46.834Z"
      },
      {
        "duration": 9,
        "start_time": "2021-07-20T10:22:46.997Z"
      },
      {
        "duration": 8,
        "start_time": "2021-07-20T10:22:47.521Z"
      },
      {
        "duration": 6,
        "start_time": "2021-07-20T10:22:48.452Z"
      },
      {
        "duration": 4,
        "start_time": "2021-07-20T10:22:53.267Z"
      },
      {
        "duration": 4,
        "start_time": "2021-07-20T10:22:53.658Z"
      },
      {
        "duration": 6,
        "start_time": "2021-07-20T10:22:58.568Z"
      },
      {
        "duration": 6,
        "start_time": "2021-07-20T10:23:05.779Z"
      },
      {
        "duration": 6,
        "start_time": "2021-07-20T10:23:27.131Z"
      },
      {
        "duration": 9,
        "start_time": "2021-07-20T10:24:31.580Z"
      },
      {
        "duration": 1579,
        "start_time": "2021-07-20T12:49:59.772Z"
      },
      {
        "duration": 41,
        "start_time": "2021-07-20T12:50:01.353Z"
      },
      {
        "duration": 39,
        "start_time": "2021-07-20T12:50:01.399Z"
      },
      {
        "duration": 11,
        "start_time": "2021-07-20T12:50:01.442Z"
      },
      {
        "duration": 7,
        "start_time": "2021-07-20T12:50:01.487Z"
      },
      {
        "duration": 27,
        "start_time": "2021-07-20T12:50:01.497Z"
      },
      {
        "duration": 29,
        "start_time": "2021-07-20T12:50:01.527Z"
      },
      {
        "duration": 10,
        "start_time": "2021-07-20T12:50:01.562Z"
      },
      {
        "duration": 21,
        "start_time": "2021-07-20T12:50:01.575Z"
      },
      {
        "duration": 17,
        "start_time": "2021-07-20T12:50:01.599Z"
      },
      {
        "duration": 32,
        "start_time": "2021-07-20T12:50:01.619Z"
      },
      {
        "duration": 31,
        "start_time": "2021-07-20T12:50:01.654Z"
      },
      {
        "duration": 19,
        "start_time": "2021-07-20T12:50:01.687Z"
      },
      {
        "duration": 31,
        "start_time": "2021-07-20T12:50:01.709Z"
      },
      {
        "duration": 33,
        "start_time": "2021-07-20T12:50:01.743Z"
      },
      {
        "duration": 39,
        "start_time": "2021-07-20T12:50:01.778Z"
      },
      {
        "duration": 42,
        "start_time": "2021-07-20T12:50:01.819Z"
      },
      {
        "duration": 56,
        "start_time": "2021-07-20T12:50:01.863Z"
      },
      {
        "duration": 22,
        "start_time": "2021-07-20T12:50:01.922Z"
      },
      {
        "duration": 48,
        "start_time": "2021-07-20T12:50:01.947Z"
      },
      {
        "duration": 32,
        "start_time": "2021-07-20T12:50:01.999Z"
      },
      {
        "duration": 20,
        "start_time": "2021-07-20T12:51:08.605Z"
      },
      {
        "duration": 7,
        "start_time": "2021-07-20T12:51:33.873Z"
      },
      {
        "duration": 20,
        "start_time": "2021-07-20T12:51:41.147Z"
      },
      {
        "duration": 6,
        "start_time": "2021-07-20T12:51:46.546Z"
      },
      {
        "duration": 4,
        "start_time": "2021-07-20T12:51:56.513Z"
      },
      {
        "duration": 5,
        "start_time": "2021-07-20T12:52:05.574Z"
      },
      {
        "duration": 1783,
        "start_time": "2021-07-20T12:52:43.660Z"
      },
      {
        "duration": 1192,
        "start_time": "2021-07-20T12:53:06.414Z"
      },
      {
        "duration": 8,
        "start_time": "2021-07-20T12:53:14.742Z"
      },
      {
        "duration": 8,
        "start_time": "2021-07-20T12:53:20.444Z"
      },
      {
        "duration": 539,
        "start_time": "2021-07-20T12:53:33.016Z"
      },
      {
        "duration": 6,
        "start_time": "2021-07-20T12:53:44.295Z"
      },
      {
        "duration": 7,
        "start_time": "2021-07-20T12:53:50.465Z"
      },
      {
        "duration": 1080,
        "start_time": "2021-07-20T12:53:54.527Z"
      },
      {
        "duration": 6,
        "start_time": "2021-07-20T12:54:55.400Z"
      },
      {
        "duration": 9,
        "start_time": "2021-07-20T12:55:21.943Z"
      },
      {
        "duration": 7,
        "start_time": "2021-07-20T12:55:31.468Z"
      },
      {
        "duration": 6,
        "start_time": "2021-07-20T12:56:57.390Z"
      },
      {
        "duration": 505,
        "start_time": "2021-07-20T12:57:01.305Z"
      },
      {
        "duration": 507,
        "start_time": "2021-07-20T12:57:35.573Z"
      },
      {
        "duration": 498,
        "start_time": "2021-07-20T12:58:12.947Z"
      },
      {
        "duration": 110,
        "start_time": "2021-07-20T12:58:15.281Z"
      },
      {
        "duration": 528,
        "start_time": "2021-07-20T12:58:18.402Z"
      },
      {
        "duration": 813,
        "start_time": "2021-07-20T12:59:10.205Z"
      },
      {
        "duration": 1517,
        "start_time": "2021-07-20T12:59:23.096Z"
      },
      {
        "duration": 755,
        "start_time": "2021-07-20T12:59:26.717Z"
      },
      {
        "duration": 306,
        "start_time": "2021-07-20T12:59:35.869Z"
      },
      {
        "duration": 6,
        "start_time": "2021-07-20T13:00:11.217Z"
      },
      {
        "duration": 40,
        "start_time": "2021-07-20T13:00:11.386Z"
      },
      {
        "duration": 35,
        "start_time": "2021-07-20T13:00:11.543Z"
      },
      {
        "duration": 9,
        "start_time": "2021-07-20T13:00:11.655Z"
      },
      {
        "duration": 6,
        "start_time": "2021-07-20T13:00:11.876Z"
      },
      {
        "duration": 10,
        "start_time": "2021-07-20T13:00:12.231Z"
      },
      {
        "duration": 10,
        "start_time": "2021-07-20T13:00:12.332Z"
      },
      {
        "duration": 10,
        "start_time": "2021-07-20T13:00:12.677Z"
      },
      {
        "duration": 5,
        "start_time": "2021-07-20T13:00:12.981Z"
      },
      {
        "duration": 4,
        "start_time": "2021-07-20T13:00:16.993Z"
      },
      {
        "duration": 5,
        "start_time": "2021-07-20T13:00:17.469Z"
      },
      {
        "duration": 6,
        "start_time": "2021-07-20T13:00:18.701Z"
      },
      {
        "duration": 7,
        "start_time": "2021-07-20T13:00:20.047Z"
      },
      {
        "duration": 327,
        "start_time": "2021-07-20T13:00:36.199Z"
      },
      {
        "duration": 304,
        "start_time": "2021-07-20T13:00:56.934Z"
      },
      {
        "duration": 6,
        "start_time": "2021-07-20T13:01:04.819Z"
      },
      {
        "duration": 6,
        "start_time": "2021-07-20T13:01:33.062Z"
      },
      {
        "duration": 305,
        "start_time": "2021-07-20T13:01:40.786Z"
      },
      {
        "duration": 6,
        "start_time": "2021-07-20T13:02:22.932Z"
      },
      {
        "duration": 6,
        "start_time": "2021-07-20T13:02:30.288Z"
      },
      {
        "duration": 839,
        "start_time": "2021-07-20T13:04:14.425Z"
      },
      {
        "duration": 488,
        "start_time": "2021-07-20T13:04:24.272Z"
      },
      {
        "duration": 6,
        "start_time": "2021-07-20T13:04:40.513Z"
      },
      {
        "duration": 562,
        "start_time": "2021-07-20T13:05:21.192Z"
      },
      {
        "duration": 4,
        "start_time": "2021-07-20T13:05:38.377Z"
      },
      {
        "duration": 6,
        "start_time": "2021-07-20T13:06:41.190Z"
      },
      {
        "duration": 6,
        "start_time": "2021-07-20T13:06:42.961Z"
      },
      {
        "duration": 5,
        "start_time": "2021-07-20T13:10:56.558Z"
      },
      {
        "duration": 6,
        "start_time": "2021-07-20T13:10:57.281Z"
      },
      {
        "duration": 7,
        "start_time": "2021-07-20T13:11:01.575Z"
      },
      {
        "duration": 1532,
        "start_time": "2021-07-20T13:11:19.299Z"
      },
      {
        "duration": 41,
        "start_time": "2021-07-20T13:11:20.834Z"
      },
      {
        "duration": 43,
        "start_time": "2021-07-20T13:11:20.879Z"
      },
      {
        "duration": 9,
        "start_time": "2021-07-20T13:11:20.925Z"
      },
      {
        "duration": 6,
        "start_time": "2021-07-20T13:11:20.936Z"
      },
      {
        "duration": 45,
        "start_time": "2021-07-20T13:11:20.945Z"
      },
      {
        "duration": 13,
        "start_time": "2021-07-20T13:11:20.993Z"
      },
      {
        "duration": 8,
        "start_time": "2021-07-20T13:11:21.010Z"
      },
      {
        "duration": 6,
        "start_time": "2021-07-20T13:11:22.067Z"
      },
      {
        "duration": 6,
        "start_time": "2021-07-20T13:11:26.270Z"
      },
      {
        "duration": 7,
        "start_time": "2021-07-20T13:11:26.588Z"
      },
      {
        "duration": 438,
        "start_time": "2021-07-20T13:11:27.631Z"
      },
      {
        "duration": 5,
        "start_time": "2021-07-20T13:12:02.495Z"
      },
      {
        "duration": 8,
        "start_time": "2021-07-20T13:12:03.791Z"
      },
      {
        "duration": 335,
        "start_time": "2021-07-20T13:12:10.057Z"
      },
      {
        "duration": 6,
        "start_time": "2021-07-20T13:15:50.835Z"
      },
      {
        "duration": 7,
        "start_time": "2021-07-20T13:15:52.344Z"
      },
      {
        "duration": 312,
        "start_time": "2021-07-20T13:15:53.447Z"
      },
      {
        "duration": 6,
        "start_time": "2021-07-20T13:16:23.410Z"
      },
      {
        "duration": 8,
        "start_time": "2021-07-20T13:16:24.208Z"
      },
      {
        "duration": 5,
        "start_time": "2021-07-20T13:16:32.635Z"
      },
      {
        "duration": 9,
        "start_time": "2021-07-20T13:16:32.994Z"
      },
      {
        "duration": 317,
        "start_time": "2021-07-20T13:16:40.406Z"
      },
      {
        "duration": 319,
        "start_time": "2021-07-20T13:16:47.793Z"
      },
      {
        "duration": 6,
        "start_time": "2021-07-20T13:18:02.407Z"
      },
      {
        "duration": 7,
        "start_time": "2021-07-20T13:18:02.930Z"
      },
      {
        "duration": 351,
        "start_time": "2021-07-20T13:18:03.971Z"
      },
      {
        "duration": 4,
        "start_time": "2021-07-20T13:18:08.046Z"
      },
      {
        "duration": 5,
        "start_time": "2021-07-20T13:18:12.319Z"
      },
      {
        "duration": 8,
        "start_time": "2021-07-20T13:18:12.656Z"
      },
      {
        "duration": 6,
        "start_time": "2021-07-20T13:18:14.001Z"
      },
      {
        "duration": 305,
        "start_time": "2021-07-20T13:18:14.471Z"
      },
      {
        "duration": 5,
        "start_time": "2021-07-20T13:19:56.933Z"
      },
      {
        "duration": 325,
        "start_time": "2021-07-20T13:19:58.784Z"
      },
      {
        "duration": 4,
        "start_time": "2021-07-20T13:20:06.416Z"
      },
      {
        "duration": 4,
        "start_time": "2021-07-20T13:20:06.647Z"
      },
      {
        "duration": 4,
        "start_time": "2021-07-20T13:20:07.151Z"
      },
      {
        "duration": 6,
        "start_time": "2021-07-20T13:20:09.546Z"
      },
      {
        "duration": 6,
        "start_time": "2021-07-20T13:20:12.838Z"
      },
      {
        "duration": 3,
        "start_time": "2021-07-20T13:20:14.115Z"
      },
      {
        "duration": 108,
        "start_time": "2021-07-20T13:21:12.705Z"
      },
      {
        "duration": 7,
        "start_time": "2021-07-20T13:21:13.086Z"
      },
      {
        "duration": 6,
        "start_time": "2021-07-20T13:21:18.828Z"
      },
      {
        "duration": 6,
        "start_time": "2021-07-20T13:21:19.416Z"
      },
      {
        "duration": 4,
        "start_time": "2021-07-20T13:21:27.066Z"
      },
      {
        "duration": 6,
        "start_time": "2021-07-20T13:21:27.464Z"
      },
      {
        "duration": 4,
        "start_time": "2021-07-20T13:22:27.214Z"
      },
      {
        "duration": 8,
        "start_time": "2021-07-20T13:22:28.090Z"
      },
      {
        "duration": 5,
        "start_time": "2021-07-20T13:22:35.228Z"
      },
      {
        "duration": 413,
        "start_time": "2021-07-20T13:22:37.527Z"
      },
      {
        "duration": 6,
        "start_time": "2021-07-20T13:22:39.462Z"
      },
      {
        "duration": 6,
        "start_time": "2021-07-20T13:22:42.094Z"
      },
      {
        "duration": 5,
        "start_time": "2021-07-20T13:23:10.686Z"
      },
      {
        "duration": 5,
        "start_time": "2021-07-20T13:23:11.028Z"
      },
      {
        "duration": 5,
        "start_time": "2021-07-20T13:23:24.973Z"
      },
      {
        "duration": 5,
        "start_time": "2021-07-20T13:23:33.519Z"
      },
      {
        "duration": 822,
        "start_time": "2021-07-20T13:23:33.867Z"
      },
      {
        "duration": 6,
        "start_time": "2021-07-20T13:23:47.670Z"
      },
      {
        "duration": 893,
        "start_time": "2021-07-20T13:23:48.293Z"
      },
      {
        "duration": 1520,
        "start_time": "2021-07-20T13:24:22.850Z"
      },
      {
        "duration": 39,
        "start_time": "2021-07-20T13:24:24.373Z"
      },
      {
        "duration": 40,
        "start_time": "2021-07-20T13:24:24.414Z"
      },
      {
        "duration": 8,
        "start_time": "2021-07-20T13:24:24.457Z"
      },
      {
        "duration": 5,
        "start_time": "2021-07-20T13:24:24.486Z"
      },
      {
        "duration": 18,
        "start_time": "2021-07-20T13:24:24.493Z"
      },
      {
        "duration": 19,
        "start_time": "2021-07-20T13:24:24.514Z"
      },
      {
        "duration": 11,
        "start_time": "2021-07-20T13:24:24.536Z"
      },
      {
        "duration": 11,
        "start_time": "2021-07-20T13:24:24.549Z"
      },
      {
        "duration": 5,
        "start_time": "2021-07-20T13:25:11.598Z"
      },
      {
        "duration": 416,
        "start_time": "2021-07-20T13:25:12.407Z"
      },
      {
        "duration": 6,
        "start_time": "2021-07-20T13:25:17.129Z"
      },
      {
        "duration": 6,
        "start_time": "2021-07-20T13:25:21.338Z"
      },
      {
        "duration": 6,
        "start_time": "2021-07-20T13:25:30.197Z"
      },
      {
        "duration": 4,
        "start_time": "2021-07-20T13:26:18.955Z"
      },
      {
        "duration": 12,
        "start_time": "2021-07-20T13:26:21.413Z"
      },
      {
        "duration": 13,
        "start_time": "2021-07-20T13:26:22.043Z"
      },
      {
        "duration": 8,
        "start_time": "2021-07-20T13:26:23.631Z"
      },
      {
        "duration": 10,
        "start_time": "2021-07-20T13:26:25.878Z"
      },
      {
        "duration": 22,
        "start_time": "2021-07-20T13:26:26.064Z"
      },
      {
        "duration": 11,
        "start_time": "2021-07-20T13:26:26.439Z"
      },
      {
        "duration": 8,
        "start_time": "2021-07-20T13:26:26.893Z"
      },
      {
        "duration": 13,
        "start_time": "2021-07-20T13:26:28.234Z"
      },
      {
        "duration": 11,
        "start_time": "2021-07-20T13:42:51.815Z"
      },
      {
        "duration": 341,
        "start_time": "2021-07-20T13:43:28.760Z"
      },
      {
        "duration": 12,
        "start_time": "2021-07-20T13:43:42.389Z"
      },
      {
        "duration": 5,
        "start_time": "2021-07-20T13:45:55.791Z"
      },
      {
        "duration": 160,
        "start_time": "2021-07-20T13:46:38.466Z"
      },
      {
        "duration": 4,
        "start_time": "2021-07-20T13:46:45.733Z"
      },
      {
        "duration": 104,
        "start_time": "2021-07-20T13:47:15.544Z"
      },
      {
        "duration": 6,
        "start_time": "2021-07-20T13:47:18.038Z"
      },
      {
        "duration": 4,
        "start_time": "2021-07-20T13:48:50.390Z"
      },
      {
        "duration": 5,
        "start_time": "2021-07-20T13:48:51.969Z"
      },
      {
        "duration": 6,
        "start_time": "2021-07-20T13:50:24.269Z"
      },
      {
        "duration": 403,
        "start_time": "2021-07-20T13:50:27.049Z"
      },
      {
        "duration": 5,
        "start_time": "2021-07-20T13:51:00.182Z"
      },
      {
        "duration": 5,
        "start_time": "2021-07-20T13:51:09.672Z"
      },
      {
        "duration": 6,
        "start_time": "2021-07-20T13:51:29.795Z"
      },
      {
        "duration": 6,
        "start_time": "2021-07-20T13:51:30.666Z"
      },
      {
        "duration": 7,
        "start_time": "2021-07-20T13:51:56.888Z"
      },
      {
        "duration": 10,
        "start_time": "2021-07-20T13:51:57.501Z"
      },
      {
        "duration": 10,
        "start_time": "2021-07-20T13:52:25.437Z"
      },
      {
        "duration": 3,
        "start_time": "2021-07-20T13:52:26.559Z"
      },
      {
        "duration": 10,
        "start_time": "2021-07-20T13:52:27.801Z"
      },
      {
        "duration": 12,
        "start_time": "2021-07-20T13:52:27.902Z"
      },
      {
        "duration": 7,
        "start_time": "2021-07-20T13:52:28.291Z"
      },
      {
        "duration": 10,
        "start_time": "2021-07-20T13:52:29.605Z"
      },
      {
        "duration": 22,
        "start_time": "2021-07-20T13:52:29.754Z"
      },
      {
        "duration": 11,
        "start_time": "2021-07-20T13:52:29.904Z"
      },
      {
        "duration": 6,
        "start_time": "2021-07-20T13:52:30.047Z"
      },
      {
        "duration": 12,
        "start_time": "2021-07-20T13:52:30.409Z"
      },
      {
        "duration": 1444,
        "start_time": "2021-07-20T13:53:21.578Z"
      },
      {
        "duration": 37,
        "start_time": "2021-07-20T13:53:23.025Z"
      },
      {
        "duration": 40,
        "start_time": "2021-07-20T13:53:23.065Z"
      },
      {
        "duration": 9,
        "start_time": "2021-07-20T13:53:23.108Z"
      },
      {
        "duration": 34,
        "start_time": "2021-07-20T13:53:23.119Z"
      },
      {
        "duration": 37,
        "start_time": "2021-07-20T13:53:23.156Z"
      },
      {
        "duration": 24,
        "start_time": "2021-07-20T13:53:23.195Z"
      },
      {
        "duration": 32,
        "start_time": "2021-07-20T13:53:23.222Z"
      },
      {
        "duration": 31,
        "start_time": "2021-07-20T13:53:23.256Z"
      },
      {
        "duration": 18,
        "start_time": "2021-07-20T13:53:23.290Z"
      },
      {
        "duration": 32,
        "start_time": "2021-07-20T13:53:23.311Z"
      },
      {
        "duration": 39,
        "start_time": "2021-07-20T13:53:23.346Z"
      },
      {
        "duration": 98,
        "start_time": "2021-07-20T13:53:23.389Z"
      },
      {
        "duration": 8,
        "start_time": "2021-07-20T13:53:23.490Z"
      },
      {
        "duration": 25,
        "start_time": "2021-07-20T13:53:23.500Z"
      },
      {
        "duration": 44,
        "start_time": "2021-07-20T13:53:23.527Z"
      },
      {
        "duration": 31,
        "start_time": "2021-07-20T13:53:23.574Z"
      },
      {
        "duration": 24,
        "start_time": "2021-07-20T13:53:23.607Z"
      },
      {
        "duration": 26,
        "start_time": "2021-07-20T13:53:23.633Z"
      },
      {
        "duration": 24,
        "start_time": "2021-07-20T13:53:23.661Z"
      },
      {
        "duration": 5,
        "start_time": "2021-07-20T14:06:16.860Z"
      },
      {
        "duration": 4,
        "start_time": "2021-07-20T14:06:21.633Z"
      },
      {
        "duration": 4,
        "start_time": "2021-07-20T14:06:27.564Z"
      },
      {
        "duration": 4,
        "start_time": "2021-07-20T14:06:35.982Z"
      },
      {
        "duration": 4,
        "start_time": "2021-07-20T14:06:40.107Z"
      },
      {
        "duration": 4,
        "start_time": "2021-07-20T14:07:06.634Z"
      },
      {
        "duration": 535,
        "start_time": "2021-07-20T14:07:12.207Z"
      },
      {
        "duration": 336,
        "start_time": "2021-07-20T14:07:38.822Z"
      },
      {
        "duration": 4,
        "start_time": "2021-07-20T14:07:55.965Z"
      },
      {
        "duration": 4,
        "start_time": "2021-07-20T14:08:51.621Z"
      },
      {
        "duration": 4,
        "start_time": "2021-07-20T14:09:02.380Z"
      },
      {
        "duration": 6,
        "start_time": "2021-07-20T14:09:09.163Z"
      },
      {
        "duration": 7,
        "start_time": "2021-07-20T14:09:28.975Z"
      },
      {
        "duration": 5,
        "start_time": "2021-07-20T14:09:31.690Z"
      },
      {
        "duration": 5,
        "start_time": "2021-07-20T14:09:41.571Z"
      },
      {
        "duration": 5,
        "start_time": "2021-07-20T14:09:45.199Z"
      },
      {
        "duration": 6,
        "start_time": "2021-07-20T14:09:57.791Z"
      },
      {
        "duration": 4,
        "start_time": "2021-07-20T14:11:05.714Z"
      },
      {
        "duration": 103,
        "start_time": "2021-07-20T14:12:08.131Z"
      },
      {
        "duration": 111,
        "start_time": "2021-07-20T14:12:15.828Z"
      },
      {
        "duration": 6,
        "start_time": "2021-07-20T14:12:17.721Z"
      },
      {
        "duration": 392,
        "start_time": "2021-07-20T14:16:11.309Z"
      },
      {
        "duration": 1634,
        "start_time": "2021-07-20T14:16:18.077Z"
      },
      {
        "duration": 390,
        "start_time": "2021-07-20T14:16:22.026Z"
      },
      {
        "duration": 321,
        "start_time": "2021-07-20T14:16:28.442Z"
      },
      {
        "duration": 6,
        "start_time": "2021-07-20T14:16:33.426Z"
      },
      {
        "duration": 40,
        "start_time": "2021-07-20T14:16:33.571Z"
      },
      {
        "duration": 34,
        "start_time": "2021-07-20T14:16:33.823Z"
      },
      {
        "duration": 9,
        "start_time": "2021-07-20T14:16:33.971Z"
      },
      {
        "duration": 5,
        "start_time": "2021-07-20T14:16:34.224Z"
      },
      {
        "duration": 8,
        "start_time": "2021-07-20T14:16:34.704Z"
      },
      {
        "duration": 10,
        "start_time": "2021-07-20T14:16:34.830Z"
      },
      {
        "duration": 8,
        "start_time": "2021-07-20T14:16:35.304Z"
      },
      {
        "duration": 6,
        "start_time": "2021-07-20T14:16:35.785Z"
      },
      {
        "duration": 9,
        "start_time": "2021-07-20T14:16:39.505Z"
      },
      {
        "duration": 5,
        "start_time": "2021-07-20T14:48:00.110Z"
      },
      {
        "duration": 5,
        "start_time": "2021-07-20T15:33:14.723Z"
      },
      {
        "duration": 5,
        "start_time": "2021-07-20T15:33:17.485Z"
      },
      {
        "duration": 4,
        "start_time": "2021-07-20T15:33:25.749Z"
      },
      {
        "duration": 6,
        "start_time": "2021-07-20T15:33:26.296Z"
      },
      {
        "duration": 4,
        "start_time": "2021-07-20T15:33:40.241Z"
      },
      {
        "duration": 6,
        "start_time": "2021-07-20T15:33:40.693Z"
      },
      {
        "duration": 4,
        "start_time": "2021-07-20T15:35:58.565Z"
      },
      {
        "duration": 5,
        "start_time": "2021-07-20T15:35:59.309Z"
      },
      {
        "duration": 4,
        "start_time": "2021-07-20T15:36:04.368Z"
      },
      {
        "duration": 6,
        "start_time": "2021-07-20T15:36:04.709Z"
      },
      {
        "duration": 6,
        "start_time": "2021-07-20T15:36:41.454Z"
      },
      {
        "duration": 5,
        "start_time": "2021-07-20T15:36:41.953Z"
      },
      {
        "duration": 7,
        "start_time": "2021-07-20T15:36:57.711Z"
      },
      {
        "duration": 7,
        "start_time": "2021-07-20T15:37:36.291Z"
      },
      {
        "duration": 6,
        "start_time": "2021-07-20T15:37:40.546Z"
      },
      {
        "duration": 297,
        "start_time": "2021-07-20T15:37:45.693Z"
      },
      {
        "duration": 6,
        "start_time": "2021-07-20T15:38:18.753Z"
      },
      {
        "duration": 4,
        "start_time": "2021-07-20T15:38:21.060Z"
      },
      {
        "duration": 5,
        "start_time": "2021-07-20T15:38:24.435Z"
      },
      {
        "duration": 481,
        "start_time": "2021-07-20T15:38:47.411Z"
      },
      {
        "duration": 6,
        "start_time": "2021-07-20T15:38:50.400Z"
      },
      {
        "duration": 6,
        "start_time": "2021-07-20T15:39:26.637Z"
      },
      {
        "duration": 320,
        "start_time": "2021-07-20T15:39:33.563Z"
      },
      {
        "duration": 6,
        "start_time": "2021-07-20T15:39:52.684Z"
      },
      {
        "duration": 4,
        "start_time": "2021-07-20T15:39:53.057Z"
      },
      {
        "duration": 6,
        "start_time": "2021-07-20T15:39:57.459Z"
      },
      {
        "duration": 6,
        "start_time": "2021-07-20T15:40:23.285Z"
      },
      {
        "duration": 6,
        "start_time": "2021-07-20T15:41:05.307Z"
      },
      {
        "duration": 372,
        "start_time": "2021-07-20T15:41:13.723Z"
      },
      {
        "duration": 7,
        "start_time": "2021-07-20T15:41:17.504Z"
      },
      {
        "duration": 6,
        "start_time": "2021-07-20T15:41:27.608Z"
      },
      {
        "duration": 5,
        "start_time": "2021-07-20T15:41:30.775Z"
      },
      {
        "duration": 6,
        "start_time": "2021-07-20T15:41:34.610Z"
      },
      {
        "duration": 674,
        "start_time": "2021-07-20T15:41:34.952Z"
      },
      {
        "duration": 6,
        "start_time": "2021-07-20T15:41:40.781Z"
      },
      {
        "duration": 5,
        "start_time": "2021-07-20T15:41:41.222Z"
      },
      {
        "duration": 344,
        "start_time": "2021-07-20T15:41:47.672Z"
      },
      {
        "duration": 352,
        "start_time": "2021-07-20T15:41:54.799Z"
      },
      {
        "duration": 407,
        "start_time": "2021-07-20T15:41:59.805Z"
      },
      {
        "duration": 7,
        "start_time": "2021-07-20T15:42:04.411Z"
      },
      {
        "duration": 7,
        "start_time": "2021-07-20T15:42:28.976Z"
      },
      {
        "duration": 7,
        "start_time": "2021-07-20T15:42:35.959Z"
      },
      {
        "duration": 330,
        "start_time": "2021-07-20T15:42:45.072Z"
      },
      {
        "duration": 6,
        "start_time": "2021-07-20T15:42:48.059Z"
      },
      {
        "duration": 7,
        "start_time": "2021-07-20T15:43:53.682Z"
      },
      {
        "duration": 330,
        "start_time": "2021-07-20T15:44:01.658Z"
      },
      {
        "duration": 376,
        "start_time": "2021-07-20T15:44:03.835Z"
      },
      {
        "duration": 7,
        "start_time": "2021-07-20T15:44:07.673Z"
      },
      {
        "duration": 313,
        "start_time": "2021-07-20T15:45:43.394Z"
      },
      {
        "duration": 345,
        "start_time": "2021-07-20T15:45:53.416Z"
      },
      {
        "duration": 331,
        "start_time": "2021-07-20T15:46:00.233Z"
      },
      {
        "duration": 1219,
        "start_time": "2021-07-20T15:46:24.840Z"
      },
      {
        "duration": 7,
        "start_time": "2021-07-20T15:47:56.083Z"
      },
      {
        "duration": 4,
        "start_time": "2021-07-20T15:48:18.419Z"
      },
      {
        "duration": 5,
        "start_time": "2021-07-20T15:48:22.022Z"
      },
      {
        "duration": 4,
        "start_time": "2021-07-20T15:48:29.758Z"
      },
      {
        "duration": 6,
        "start_time": "2021-07-20T15:48:30.373Z"
      },
      {
        "duration": 3,
        "start_time": "2021-07-20T15:48:35.674Z"
      },
      {
        "duration": 5,
        "start_time": "2021-07-20T15:48:36.351Z"
      },
      {
        "duration": 1506,
        "start_time": "2021-07-20T15:48:56.308Z"
      },
      {
        "duration": 38,
        "start_time": "2021-07-20T15:48:57.817Z"
      },
      {
        "duration": 46,
        "start_time": "2021-07-20T15:48:57.859Z"
      },
      {
        "duration": 9,
        "start_time": "2021-07-20T15:48:57.909Z"
      },
      {
        "duration": 10,
        "start_time": "2021-07-20T15:48:57.921Z"
      },
      {
        "duration": 12,
        "start_time": "2021-07-20T15:48:57.933Z"
      },
      {
        "duration": 44,
        "start_time": "2021-07-20T15:48:57.948Z"
      },
      {
        "duration": 17,
        "start_time": "2021-07-20T15:48:57.994Z"
      },
      {
        "duration": 11,
        "start_time": "2021-07-20T15:48:58.016Z"
      },
      {
        "duration": 14,
        "start_time": "2021-07-20T15:48:58.030Z"
      },
      {
        "duration": 39,
        "start_time": "2021-07-20T15:48:58.047Z"
      },
      {
        "duration": 12,
        "start_time": "2021-07-20T15:48:58.089Z"
      },
      {
        "duration": 86,
        "start_time": "2021-07-20T15:48:58.104Z"
      },
      {
        "duration": 9,
        "start_time": "2021-07-20T15:48:58.192Z"
      },
      {
        "duration": 6,
        "start_time": "2021-07-20T15:48:58.203Z"
      },
      {
        "duration": 11,
        "start_time": "2021-07-20T15:48:58.212Z"
      },
      {
        "duration": 67,
        "start_time": "2021-07-20T15:48:58.226Z"
      },
      {
        "duration": 10,
        "start_time": "2021-07-20T15:48:58.296Z"
      },
      {
        "duration": 5,
        "start_time": "2021-07-20T15:48:58.308Z"
      },
      {
        "duration": 15,
        "start_time": "2021-07-20T15:48:58.315Z"
      },
      {
        "duration": 1490,
        "start_time": "2021-07-20T15:52:57.318Z"
      },
      {
        "duration": 37,
        "start_time": "2021-07-20T15:52:58.811Z"
      },
      {
        "duration": 45,
        "start_time": "2021-07-20T15:52:58.851Z"
      },
      {
        "duration": 9,
        "start_time": "2021-07-20T15:52:58.899Z"
      },
      {
        "duration": 9,
        "start_time": "2021-07-20T15:52:58.912Z"
      },
      {
        "duration": 12,
        "start_time": "2021-07-20T15:52:58.924Z"
      },
      {
        "duration": 51,
        "start_time": "2021-07-20T15:52:58.939Z"
      },
      {
        "duration": 10,
        "start_time": "2021-07-20T15:52:58.997Z"
      },
      {
        "duration": 6,
        "start_time": "2021-07-20T15:52:59.011Z"
      },
      {
        "duration": 8,
        "start_time": "2021-07-20T15:52:59.020Z"
      },
      {
        "duration": 55,
        "start_time": "2021-07-20T15:52:59.031Z"
      },
      {
        "duration": 6,
        "start_time": "2021-07-20T15:52:59.089Z"
      },
      {
        "duration": 89,
        "start_time": "2021-07-20T15:52:59.098Z"
      },
      {
        "duration": 9,
        "start_time": "2021-07-20T15:52:59.189Z"
      },
      {
        "duration": 6,
        "start_time": "2021-07-20T15:52:59.201Z"
      },
      {
        "duration": 9,
        "start_time": "2021-07-20T15:52:59.209Z"
      },
      {
        "duration": 22,
        "start_time": "2021-07-20T15:52:59.220Z"
      },
      {
        "duration": 47,
        "start_time": "2021-07-20T15:52:59.245Z"
      },
      {
        "duration": 6,
        "start_time": "2021-07-20T15:52:59.294Z"
      },
      {
        "duration": 12,
        "start_time": "2021-07-20T15:52:59.302Z"
      },
      {
        "duration": 1511,
        "start_time": "2021-07-21T04:26:48.101Z"
      },
      {
        "duration": 35,
        "start_time": "2021-07-21T04:26:49.615Z"
      },
      {
        "duration": 45,
        "start_time": "2021-07-21T04:26:49.653Z"
      },
      {
        "duration": 9,
        "start_time": "2021-07-21T04:26:50.279Z"
      },
      {
        "duration": 5,
        "start_time": "2021-07-21T04:26:52.330Z"
      },
      {
        "duration": 8,
        "start_time": "2021-07-21T04:26:53.271Z"
      },
      {
        "duration": 9,
        "start_time": "2021-07-21T04:26:53.657Z"
      },
      {
        "duration": 7,
        "start_time": "2021-07-21T04:26:54.405Z"
      },
      {
        "duration": 6,
        "start_time": "2021-07-21T04:26:54.789Z"
      },
      {
        "duration": 6,
        "start_time": "2021-07-21T04:29:10.063Z"
      },
      {
        "duration": 6,
        "start_time": "2021-07-21T04:29:11.298Z"
      },
      {
        "duration": 4,
        "start_time": "2021-07-21T04:29:11.544Z"
      },
      {
        "duration": 1555,
        "start_time": "2021-07-21T05:57:17.450Z"
      },
      {
        "duration": 37,
        "start_time": "2021-07-21T05:57:19.008Z"
      },
      {
        "duration": 40,
        "start_time": "2021-07-21T05:57:19.049Z"
      },
      {
        "duration": 10,
        "start_time": "2021-07-21T05:57:19.092Z"
      },
      {
        "duration": 11,
        "start_time": "2021-07-21T05:57:19.104Z"
      },
      {
        "duration": 39,
        "start_time": "2021-07-21T05:57:19.117Z"
      },
      {
        "duration": 9,
        "start_time": "2021-07-21T05:57:19.159Z"
      },
      {
        "duration": 8,
        "start_time": "2021-07-21T05:57:19.172Z"
      },
      {
        "duration": 6,
        "start_time": "2021-07-21T05:57:19.183Z"
      },
      {
        "duration": 10,
        "start_time": "2021-07-21T05:57:19.192Z"
      },
      {
        "duration": 54,
        "start_time": "2021-07-21T05:57:19.205Z"
      },
      {
        "duration": 4,
        "start_time": "2021-07-21T05:57:19.262Z"
      },
      {
        "duration": 88,
        "start_time": "2021-07-21T05:57:19.269Z"
      },
      {
        "duration": 95,
        "start_time": "2021-07-21T05:57:19.360Z"
      },
      {
        "duration": 7,
        "start_time": "2021-07-21T05:57:19.458Z"
      },
      {
        "duration": 9,
        "start_time": "2021-07-21T05:57:19.467Z"
      },
      {
        "duration": 22,
        "start_time": "2021-07-21T05:57:19.479Z"
      },
      {
        "duration": 52,
        "start_time": "2021-07-21T05:57:19.503Z"
      },
      {
        "duration": 7,
        "start_time": "2021-07-21T05:57:19.557Z"
      },
      {
        "duration": 14,
        "start_time": "2021-07-21T05:57:19.566Z"
      },
      {
        "duration": 6,
        "start_time": "2021-07-21T05:57:29.012Z"
      },
      {
        "duration": 6,
        "start_time": "2021-07-21T05:57:38.574Z"
      },
      {
        "duration": 7,
        "start_time": "2021-07-21T05:57:41.422Z"
      },
      {
        "duration": 1625,
        "start_time": "2021-07-21T05:58:08.435Z"
      },
      {
        "duration": 1302,
        "start_time": "2021-07-21T05:58:27.864Z"
      },
      {
        "duration": 18244,
        "start_time": "2021-07-21T05:58:46.883Z"
      },
      {
        "duration": 497,
        "start_time": "2021-07-21T05:59:05.131Z"
      },
      {
        "duration": 6,
        "start_time": "2021-07-21T05:59:15.758Z"
      },
      {
        "duration": 4,
        "start_time": "2021-07-21T05:59:29.378Z"
      },
      {
        "duration": 6,
        "start_time": "2021-07-21T05:59:34.612Z"
      },
      {
        "duration": 6,
        "start_time": "2021-07-21T05:59:45.398Z"
      },
      {
        "duration": 364,
        "start_time": "2021-07-21T05:59:49.201Z"
      },
      {
        "duration": 292,
        "start_time": "2021-07-21T06:01:17.003Z"
      },
      {
        "duration": 100,
        "start_time": "2021-07-21T06:03:19.551Z"
      },
      {
        "duration": 4,
        "start_time": "2021-07-21T06:03:25.588Z"
      },
      {
        "duration": 6,
        "start_time": "2021-07-21T06:03:26.596Z"
      },
      {
        "duration": 4,
        "start_time": "2021-07-21T06:03:28.300Z"
      },
      {
        "duration": 292,
        "start_time": "2021-07-21T06:03:28.754Z"
      },
      {
        "duration": 298,
        "start_time": "2021-07-21T06:03:31.740Z"
      },
      {
        "duration": 4,
        "start_time": "2021-07-21T06:03:37.307Z"
      },
      {
        "duration": 7,
        "start_time": "2021-07-21T06:03:42.437Z"
      },
      {
        "duration": 6,
        "start_time": "2021-07-21T06:03:50.210Z"
      },
      {
        "duration": 8,
        "start_time": "2021-07-21T06:04:25.931Z"
      },
      {
        "duration": 7,
        "start_time": "2021-07-21T06:04:28.628Z"
      },
      {
        "duration": 298,
        "start_time": "2021-07-21T06:04:41.077Z"
      },
      {
        "duration": 7,
        "start_time": "2021-07-21T06:04:50.855Z"
      },
      {
        "duration": 290,
        "start_time": "2021-07-21T06:05:58.142Z"
      },
      {
        "duration": 282,
        "start_time": "2021-07-21T06:06:18.506Z"
      },
      {
        "duration": 7,
        "start_time": "2021-07-21T06:06:22.714Z"
      },
      {
        "duration": 4,
        "start_time": "2021-07-21T06:07:18.057Z"
      },
      {
        "duration": 6,
        "start_time": "2021-07-21T06:07:18.819Z"
      },
      {
        "duration": 5,
        "start_time": "2021-07-21T06:07:19.561Z"
      },
      {
        "duration": 300,
        "start_time": "2021-07-21T06:07:20.714Z"
      },
      {
        "duration": 3,
        "start_time": "2021-07-21T06:07:27.580Z"
      },
      {
        "duration": 6,
        "start_time": "2021-07-21T06:07:28.202Z"
      },
      {
        "duration": 7,
        "start_time": "2021-07-21T06:07:29.717Z"
      },
      {
        "duration": 8,
        "start_time": "2021-07-21T06:07:48.312Z"
      },
      {
        "duration": 306,
        "start_time": "2021-07-21T06:07:51.932Z"
      },
      {
        "duration": 280,
        "start_time": "2021-07-21T06:07:55.213Z"
      },
      {
        "duration": 284,
        "start_time": "2021-07-21T06:08:54.673Z"
      },
      {
        "duration": 7,
        "start_time": "2021-07-21T06:08:58.142Z"
      },
      {
        "duration": 7,
        "start_time": "2021-07-21T06:09:07.432Z"
      },
      {
        "duration": 4,
        "start_time": "2021-07-21T06:09:16.032Z"
      },
      {
        "duration": 4,
        "start_time": "2021-07-21T06:09:35.866Z"
      },
      {
        "duration": 4,
        "start_time": "2021-07-21T06:09:52.724Z"
      },
      {
        "duration": 6,
        "start_time": "2021-07-21T06:09:57.051Z"
      },
      {
        "duration": 367,
        "start_time": "2021-07-21T06:11:21.674Z"
      },
      {
        "duration": 4,
        "start_time": "2021-07-21T06:12:11.201Z"
      },
      {
        "duration": 174,
        "start_time": "2021-07-21T06:12:12.457Z"
      },
      {
        "duration": 5,
        "start_time": "2021-07-21T06:12:12.681Z"
      },
      {
        "duration": 303,
        "start_time": "2021-07-21T06:12:13.582Z"
      },
      {
        "duration": 4,
        "start_time": "2021-07-21T06:12:14.973Z"
      },
      {
        "duration": 12,
        "start_time": "2021-07-21T06:12:15.235Z"
      },
      {
        "duration": 15,
        "start_time": "2021-07-21T06:12:16.604Z"
      },
      {
        "duration": 7,
        "start_time": "2021-07-21T06:12:18.726Z"
      },
      {
        "duration": 4,
        "start_time": "2021-07-21T06:12:23.277Z"
      },
      {
        "duration": 5,
        "start_time": "2021-07-21T06:12:23.659Z"
      },
      {
        "duration": 4,
        "start_time": "2021-07-21T06:12:24.321Z"
      },
      {
        "duration": 6,
        "start_time": "2021-07-21T06:12:24.781Z"
      },
      {
        "duration": 294,
        "start_time": "2021-07-21T06:12:26.619Z"
      },
      {
        "duration": 283,
        "start_time": "2021-07-21T06:13:18.291Z"
      },
      {
        "duration": 797,
        "start_time": "2021-07-21T06:13:22.490Z"
      },
      {
        "duration": 361,
        "start_time": "2021-07-21T06:13:42.250Z"
      },
      {
        "duration": 358,
        "start_time": "2021-07-21T06:13:44.656Z"
      },
      {
        "duration": 295,
        "start_time": "2021-07-21T06:14:40.578Z"
      },
      {
        "duration": 1194,
        "start_time": "2021-07-21T06:14:47.474Z"
      },
      {
        "duration": 305,
        "start_time": "2021-07-21T06:15:05.858Z"
      },
      {
        "duration": 89,
        "start_time": "2021-07-21T06:15:27.414Z"
      },
      {
        "duration": 307,
        "start_time": "2021-07-21T06:15:42.798Z"
      },
      {
        "duration": 287,
        "start_time": "2021-07-21T06:15:50.327Z"
      },
      {
        "duration": 295,
        "start_time": "2021-07-21T06:16:18.448Z"
      },
      {
        "duration": 294,
        "start_time": "2021-07-21T06:16:45.645Z"
      },
      {
        "duration": 307,
        "start_time": "2021-07-21T06:16:53.665Z"
      },
      {
        "duration": 11,
        "start_time": "2021-07-21T06:17:08.619Z"
      },
      {
        "duration": 302,
        "start_time": "2021-07-21T06:17:14.914Z"
      },
      {
        "duration": 11,
        "start_time": "2021-07-21T06:17:17.909Z"
      },
      {
        "duration": 10,
        "start_time": "2021-07-21T06:17:43.312Z"
      },
      {
        "duration": 21,
        "start_time": "2021-07-21T06:18:24.931Z"
      },
      {
        "duration": 311,
        "start_time": "2021-07-21T06:18:41.151Z"
      },
      {
        "duration": 19,
        "start_time": "2021-07-21T06:18:43.611Z"
      },
      {
        "duration": 18,
        "start_time": "2021-07-21T06:18:54.313Z"
      },
      {
        "duration": 18,
        "start_time": "2021-07-21T06:19:00.424Z"
      },
      {
        "duration": 18,
        "start_time": "2021-07-21T06:19:06.601Z"
      },
      {
        "duration": 6,
        "start_time": "2021-07-21T06:19:33.818Z"
      },
      {
        "duration": 11,
        "start_time": "2021-07-21T06:19:48.509Z"
      },
      {
        "duration": 16,
        "start_time": "2021-07-21T06:20:01.834Z"
      },
      {
        "duration": 416,
        "start_time": "2021-07-21T06:20:37.596Z"
      },
      {
        "duration": 1541,
        "start_time": "2021-07-21T06:25:14.439Z"
      },
      {
        "duration": 38,
        "start_time": "2021-07-21T06:25:15.983Z"
      },
      {
        "duration": 45,
        "start_time": "2021-07-21T06:25:16.023Z"
      },
      {
        "duration": 9,
        "start_time": "2021-07-21T06:25:16.070Z"
      },
      {
        "duration": 8,
        "start_time": "2021-07-21T06:25:16.081Z"
      },
      {
        "duration": 8,
        "start_time": "2021-07-21T06:25:16.169Z"
      },
      {
        "duration": 9,
        "start_time": "2021-07-21T06:25:16.856Z"
      },
      {
        "duration": 8,
        "start_time": "2021-07-21T06:25:17.339Z"
      },
      {
        "duration": 6,
        "start_time": "2021-07-21T06:25:18.075Z"
      },
      {
        "duration": 6,
        "start_time": "2021-07-21T06:25:21.910Z"
      },
      {
        "duration": 6,
        "start_time": "2021-07-21T06:25:23.141Z"
      },
      {
        "duration": 3,
        "start_time": "2021-07-21T06:25:24.030Z"
      },
      {
        "duration": 6,
        "start_time": "2021-07-21T06:25:59.445Z"
      },
      {
        "duration": 500,
        "start_time": "2021-07-21T06:26:08.791Z"
      },
      {
        "duration": 19,
        "start_time": "2021-07-21T06:26:22.184Z"
      },
      {
        "duration": 7,
        "start_time": "2021-07-21T06:26:31.435Z"
      },
      {
        "duration": 11,
        "start_time": "2021-07-21T06:26:37.775Z"
      },
      {
        "duration": 1579,
        "start_time": "2021-07-21T06:27:06.119Z"
      },
      {
        "duration": 36,
        "start_time": "2021-07-21T06:27:07.701Z"
      },
      {
        "duration": 43,
        "start_time": "2021-07-21T06:27:07.741Z"
      },
      {
        "duration": 11,
        "start_time": "2021-07-21T06:27:07.787Z"
      },
      {
        "duration": 7,
        "start_time": "2021-07-21T06:27:07.801Z"
      },
      {
        "duration": 49,
        "start_time": "2021-07-21T06:27:07.811Z"
      },
      {
        "duration": 19,
        "start_time": "2021-07-21T06:27:07.862Z"
      },
      {
        "duration": 8,
        "start_time": "2021-07-21T06:27:08.148Z"
      },
      {
        "duration": 5,
        "start_time": "2021-07-21T06:27:08.830Z"
      },
      {
        "duration": 6,
        "start_time": "2021-07-21T06:27:13.741Z"
      },
      {
        "duration": 7,
        "start_time": "2021-07-21T06:27:15.015Z"
      },
      {
        "duration": 4,
        "start_time": "2021-07-21T06:27:15.478Z"
      },
      {
        "duration": 6,
        "start_time": "2021-07-21T06:27:21.019Z"
      },
      {
        "duration": 11,
        "start_time": "2021-07-21T06:27:26.662Z"
      },
      {
        "duration": 15,
        "start_time": "2021-07-21T06:27:51.503Z"
      },
      {
        "duration": 11,
        "start_time": "2021-07-21T06:27:56.019Z"
      },
      {
        "duration": 6,
        "start_time": "2021-07-21T06:28:02.108Z"
      },
      {
        "duration": 1595,
        "start_time": "2021-07-21T06:28:48.612Z"
      },
      {
        "duration": 38,
        "start_time": "2021-07-21T06:28:50.210Z"
      },
      {
        "duration": 35,
        "start_time": "2021-07-21T06:28:50.251Z"
      },
      {
        "duration": 10,
        "start_time": "2021-07-21T06:28:50.289Z"
      },
      {
        "duration": 11,
        "start_time": "2021-07-21T06:28:50.303Z"
      },
      {
        "duration": 40,
        "start_time": "2021-07-21T06:28:50.316Z"
      },
      {
        "duration": 11,
        "start_time": "2021-07-21T06:28:50.359Z"
      },
      {
        "duration": 10,
        "start_time": "2021-07-21T06:28:50.373Z"
      },
      {
        "duration": 6,
        "start_time": "2021-07-21T06:28:51.187Z"
      },
      {
        "duration": 7,
        "start_time": "2021-07-21T06:28:58.531Z"
      },
      {
        "duration": 7,
        "start_time": "2021-07-21T06:29:00.202Z"
      },
      {
        "duration": 4,
        "start_time": "2021-07-21T06:29:00.747Z"
      },
      {
        "duration": 9,
        "start_time": "2021-07-21T06:29:06.626Z"
      },
      {
        "duration": 9,
        "start_time": "2021-07-21T06:29:07.048Z"
      },
      {
        "duration": 6,
        "start_time": "2021-07-21T06:29:07.732Z"
      },
      {
        "duration": 488,
        "start_time": "2021-07-21T06:32:03.501Z"
      },
      {
        "duration": 4,
        "start_time": "2021-07-21T06:32:05.264Z"
      },
      {
        "duration": 643,
        "start_time": "2021-07-21T06:32:13.231Z"
      },
      {
        "duration": 5,
        "start_time": "2021-07-21T06:32:18.748Z"
      },
      {
        "duration": 323,
        "start_time": "2021-07-21T06:32:20.108Z"
      },
      {
        "duration": 5,
        "start_time": "2021-07-21T06:32:24.345Z"
      },
      {
        "duration": 421,
        "start_time": "2021-07-21T06:32:25.062Z"
      },
      {
        "duration": 6,
        "start_time": "2021-07-21T06:32:30.519Z"
      },
      {
        "duration": 358,
        "start_time": "2021-07-21T06:32:31.547Z"
      },
      {
        "duration": 4,
        "start_time": "2021-07-21T06:32:36.190Z"
      },
      {
        "duration": 153,
        "start_time": "2021-07-21T06:32:37.480Z"
      },
      {
        "duration": 348,
        "start_time": "2021-07-21T06:32:51.306Z"
      },
      {
        "duration": 185,
        "start_time": "2021-07-21T06:38:04.604Z"
      },
      {
        "duration": 10028,
        "start_time": "2021-07-21T06:38:33.858Z"
      },
      {
        "duration": 14,
        "start_time": "2021-07-21T06:38:51.808Z"
      },
      {
        "duration": 18,
        "start_time": "2021-07-21T06:39:07.129Z"
      },
      {
        "duration": 12,
        "start_time": "2021-07-21T06:39:14.348Z"
      },
      {
        "duration": 6,
        "start_time": "2021-07-21T06:39:36.081Z"
      },
      {
        "duration": 60673,
        "start_time": "2021-07-21T06:39:46.194Z"
      },
      {
        "duration": 7,
        "start_time": "2021-07-21T06:40:52.950Z"
      },
      {
        "duration": 8878,
        "start_time": "2021-07-21T06:41:03.300Z"
      },
      {
        "duration": 19,
        "start_time": "2021-07-21T06:41:14.602Z"
      },
      {
        "duration": 1481,
        "start_time": "2021-07-21T06:42:21.408Z"
      },
      {
        "duration": 37,
        "start_time": "2021-07-21T06:42:22.892Z"
      },
      {
        "duration": 46,
        "start_time": "2021-07-21T06:42:22.936Z"
      },
      {
        "duration": 9,
        "start_time": "2021-07-21T06:42:22.985Z"
      },
      {
        "duration": 5,
        "start_time": "2021-07-21T06:42:22.996Z"
      },
      {
        "duration": 16,
        "start_time": "2021-07-21T06:42:23.004Z"
      },
      {
        "duration": 9,
        "start_time": "2021-07-21T06:42:23.056Z"
      },
      {
        "duration": 9,
        "start_time": "2021-07-21T06:42:23.069Z"
      },
      {
        "duration": 5,
        "start_time": "2021-07-21T06:42:23.081Z"
      },
      {
        "duration": 15,
        "start_time": "2021-07-21T06:42:23.089Z"
      },
      {
        "duration": 50,
        "start_time": "2021-07-21T06:42:23.106Z"
      },
      {
        "duration": 4,
        "start_time": "2021-07-21T06:42:23.160Z"
      },
      {
        "duration": 90,
        "start_time": "2021-07-21T06:42:23.168Z"
      },
      {
        "duration": 11,
        "start_time": "2021-07-21T06:42:23.261Z"
      },
      {
        "duration": 10,
        "start_time": "2021-07-21T06:42:23.275Z"
      },
      {
        "duration": 11,
        "start_time": "2021-07-21T06:42:23.288Z"
      },
      {
        "duration": 65,
        "start_time": "2021-07-21T06:42:23.301Z"
      },
      {
        "duration": 11,
        "start_time": "2021-07-21T06:42:23.368Z"
      },
      {
        "duration": 7,
        "start_time": "2021-07-21T06:42:23.381Z"
      },
      {
        "duration": 15,
        "start_time": "2021-07-21T06:42:23.390Z"
      },
      {
        "duration": 1582,
        "start_time": "2021-07-21T06:52:46.797Z"
      },
      {
        "duration": 37,
        "start_time": "2021-07-21T06:52:48.382Z"
      },
      {
        "duration": 43,
        "start_time": "2021-07-21T06:52:48.422Z"
      },
      {
        "duration": 8,
        "start_time": "2021-07-21T06:52:48.468Z"
      },
      {
        "duration": 11,
        "start_time": "2021-07-21T06:52:48.478Z"
      },
      {
        "duration": 12,
        "start_time": "2021-07-21T06:52:48.491Z"
      },
      {
        "duration": 8,
        "start_time": "2021-07-21T06:52:48.505Z"
      },
      {
        "duration": 43,
        "start_time": "2021-07-21T06:52:48.516Z"
      },
      {
        "duration": 8,
        "start_time": "2021-07-21T06:52:48.563Z"
      },
      {
        "duration": 11,
        "start_time": "2021-07-21T06:52:48.573Z"
      },
      {
        "duration": 10,
        "start_time": "2021-07-21T06:52:48.587Z"
      },
      {
        "duration": 54,
        "start_time": "2021-07-21T06:52:48.601Z"
      },
      {
        "duration": 13,
        "start_time": "2021-07-21T06:52:48.660Z"
      },
      {
        "duration": 10,
        "start_time": "2021-07-21T06:52:48.754Z"
      },
      {
        "duration": 12,
        "start_time": "2021-07-21T06:52:48.766Z"
      },
      {
        "duration": 12,
        "start_time": "2021-07-21T06:52:48.781Z"
      },
      {
        "duration": 20,
        "start_time": "2021-07-21T06:52:48.796Z"
      },
      {
        "duration": 44,
        "start_time": "2021-07-21T06:52:48.819Z"
      },
      {
        "duration": 25,
        "start_time": "2021-07-21T06:52:48.866Z"
      },
      {
        "duration": 20,
        "start_time": "2021-07-21T06:52:48.894Z"
      },
      {
        "duration": 1572,
        "start_time": "2021-07-21T11:05:43.627Z"
      },
      {
        "duration": 38,
        "start_time": "2021-07-21T11:05:45.201Z"
      },
      {
        "duration": 39,
        "start_time": "2021-07-21T11:05:45.246Z"
      },
      {
        "duration": 8,
        "start_time": "2021-07-21T11:05:45.288Z"
      },
      {
        "duration": 11,
        "start_time": "2021-07-21T11:05:45.299Z"
      },
      {
        "duration": 15,
        "start_time": "2021-07-21T11:05:45.312Z"
      },
      {
        "duration": 9,
        "start_time": "2021-07-21T11:05:45.354Z"
      },
      {
        "duration": 7,
        "start_time": "2021-07-21T11:05:45.367Z"
      },
      {
        "duration": 5,
        "start_time": "2021-07-21T11:05:45.376Z"
      },
      {
        "duration": 9,
        "start_time": "2021-07-21T11:05:45.383Z"
      },
      {
        "duration": 60,
        "start_time": "2021-07-21T11:05:45.395Z"
      },
      {
        "duration": 4,
        "start_time": "2021-07-21T11:05:45.458Z"
      },
      {
        "duration": 95,
        "start_time": "2021-07-21T11:05:45.465Z"
      },
      {
        "duration": 8,
        "start_time": "2021-07-21T11:05:45.563Z"
      },
      {
        "duration": 9,
        "start_time": "2021-07-21T11:05:45.574Z"
      },
      {
        "duration": 12,
        "start_time": "2021-07-21T11:05:45.586Z"
      },
      {
        "duration": 64,
        "start_time": "2021-07-21T11:05:45.600Z"
      },
      {
        "duration": 13,
        "start_time": "2021-07-21T11:05:45.667Z"
      },
      {
        "duration": 7,
        "start_time": "2021-07-21T11:05:45.683Z"
      },
      {
        "duration": 22,
        "start_time": "2021-07-21T11:05:45.693Z"
      },
      {
        "duration": 1209,
        "start_time": "2021-07-21T11:08:20.260Z"
      },
      {
        "duration": 5,
        "start_time": "2021-07-21T11:08:30.135Z"
      },
      {
        "duration": 4,
        "start_time": "2021-07-21T11:08:54.411Z"
      },
      {
        "duration": 5,
        "start_time": "2021-07-21T11:08:57.243Z"
      },
      {
        "duration": 6,
        "start_time": "2021-07-21T11:09:11.423Z"
      },
      {
        "duration": 301,
        "start_time": "2021-07-21T11:09:17.455Z"
      },
      {
        "duration": 271,
        "start_time": "2021-07-21T11:09:21.653Z"
      },
      {
        "duration": 5,
        "start_time": "2021-07-21T11:09:24.582Z"
      },
      {
        "duration": 5,
        "start_time": "2021-07-21T11:09:29.296Z"
      },
      {
        "duration": 6,
        "start_time": "2021-07-21T11:09:30.792Z"
      },
      {
        "duration": 6,
        "start_time": "2021-07-21T11:09:36.720Z"
      },
      {
        "duration": 6,
        "start_time": "2021-07-21T11:11:01.044Z"
      },
      {
        "duration": 3,
        "start_time": "2021-07-21T11:11:03.673Z"
      },
      {
        "duration": 6,
        "start_time": "2021-07-21T11:11:07.070Z"
      },
      {
        "duration": 294,
        "start_time": "2021-07-21T11:11:49.571Z"
      },
      {
        "duration": 8,
        "start_time": "2021-07-21T11:12:15.303Z"
      },
      {
        "duration": 6,
        "start_time": "2021-07-21T11:12:36.877Z"
      },
      {
        "duration": 6,
        "start_time": "2021-07-21T11:12:40.496Z"
      },
      {
        "duration": 5,
        "start_time": "2021-07-21T11:13:20.801Z"
      },
      {
        "duration": 3,
        "start_time": "2021-07-21T11:13:21.687Z"
      },
      {
        "duration": 8,
        "start_time": "2021-07-21T11:13:25.106Z"
      },
      {
        "duration": 7,
        "start_time": "2021-07-21T11:13:58.348Z"
      },
      {
        "duration": 9,
        "start_time": "2021-07-21T11:14:42.824Z"
      },
      {
        "duration": 5,
        "start_time": "2021-07-21T11:16:58.932Z"
      },
      {
        "duration": 6,
        "start_time": "2021-07-21T11:17:16.136Z"
      },
      {
        "duration": 6,
        "start_time": "2021-07-21T11:17:20.822Z"
      },
      {
        "duration": 3,
        "start_time": "2021-07-21T11:17:30.087Z"
      },
      {
        "duration": 9,
        "start_time": "2021-07-21T11:17:54.122Z"
      },
      {
        "duration": 7,
        "start_time": "2021-07-21T11:17:59.986Z"
      },
      {
        "duration": 9,
        "start_time": "2021-07-21T11:18:05.570Z"
      },
      {
        "duration": 749,
        "start_time": "2021-07-21T11:22:08.609Z"
      },
      {
        "duration": 94,
        "start_time": "2021-07-21T11:22:16.180Z"
      },
      {
        "duration": 92,
        "start_time": "2021-07-21T11:22:28.346Z"
      },
      {
        "duration": 95,
        "start_time": "2021-07-21T11:22:32.711Z"
      },
      {
        "duration": 19,
        "start_time": "2021-07-21T11:22:38.439Z"
      },
      {
        "duration": 6,
        "start_time": "2021-07-21T11:23:07.075Z"
      },
      {
        "duration": 10,
        "start_time": "2021-07-21T11:23:18.529Z"
      },
      {
        "duration": 10,
        "start_time": "2021-07-21T11:23:41.559Z"
      },
      {
        "duration": 6,
        "start_time": "2021-07-21T11:25:21.297Z"
      },
      {
        "duration": 12,
        "start_time": "2021-07-21T11:25:24.153Z"
      },
      {
        "duration": 14,
        "start_time": "2021-07-21T11:25:25.097Z"
      },
      {
        "duration": 10,
        "start_time": "2021-07-21T11:25:25.979Z"
      },
      {
        "duration": 6,
        "start_time": "2021-07-21T11:27:06.319Z"
      },
      {
        "duration": 10,
        "start_time": "2021-07-21T11:27:06.609Z"
      },
      {
        "duration": 16,
        "start_time": "2021-07-21T11:27:07.368Z"
      },
      {
        "duration": 403,
        "start_time": "2021-07-21T11:27:15.762Z"
      },
      {
        "duration": 6,
        "start_time": "2021-07-21T11:27:57.339Z"
      },
      {
        "duration": 10,
        "start_time": "2021-07-21T11:27:57.602Z"
      },
      {
        "duration": 14,
        "start_time": "2021-07-21T11:28:01.518Z"
      },
      {
        "duration": 10,
        "start_time": "2021-07-21T11:28:02.443Z"
      },
      {
        "duration": 5,
        "start_time": "2021-07-21T11:30:10.550Z"
      },
      {
        "duration": 4,
        "start_time": "2021-07-21T11:30:10.882Z"
      },
      {
        "duration": 8,
        "start_time": "2021-07-21T11:30:11.816Z"
      },
      {
        "duration": 6,
        "start_time": "2021-07-21T11:30:15.840Z"
      },
      {
        "duration": 9,
        "start_time": "2021-07-21T11:30:16.805Z"
      },
      {
        "duration": 5,
        "start_time": "2021-07-21T11:30:21.267Z"
      },
      {
        "duration": 6,
        "start_time": "2021-07-21T11:30:25.883Z"
      },
      {
        "duration": 3,
        "start_time": "2021-07-21T11:30:26.186Z"
      },
      {
        "duration": 7,
        "start_time": "2021-07-21T11:30:26.802Z"
      },
      {
        "duration": 7,
        "start_time": "2021-07-21T11:30:30.878Z"
      },
      {
        "duration": 8,
        "start_time": "2021-07-21T11:30:31.487Z"
      },
      {
        "duration": 6,
        "start_time": "2021-07-21T11:30:43.645Z"
      },
      {
        "duration": 12,
        "start_time": "2021-07-21T11:30:44.390Z"
      },
      {
        "duration": 16,
        "start_time": "2021-07-21T11:30:51.325Z"
      },
      {
        "duration": 12,
        "start_time": "2021-07-21T11:30:51.999Z"
      },
      {
        "duration": 285,
        "start_time": "2021-07-21T11:31:59.289Z"
      },
      {
        "duration": 17470,
        "start_time": "2021-07-21T11:32:15.310Z"
      },
      {
        "duration": 528,
        "start_time": "2021-07-21T11:32:34.702Z"
      },
      {
        "duration": 325,
        "start_time": "2021-07-21T11:33:12.654Z"
      },
      {
        "duration": 293,
        "start_time": "2021-07-21T11:34:22.290Z"
      },
      {
        "duration": 6,
        "start_time": "2021-07-21T11:34:44.626Z"
      },
      {
        "duration": 159,
        "start_time": "2021-07-21T11:34:52.958Z"
      },
      {
        "duration": 3271,
        "start_time": "2021-07-21T11:36:57.775Z"
      },
      {
        "duration": 14,
        "start_time": "2021-07-21T11:37:06.738Z"
      },
      {
        "duration": 2556,
        "start_time": "2021-07-21T11:37:16.411Z"
      },
      {
        "duration": 14,
        "start_time": "2021-07-21T11:37:20.090Z"
      },
      {
        "duration": 7,
        "start_time": "2021-07-21T11:37:40.021Z"
      },
      {
        "duration": 13,
        "start_time": "2021-07-21T11:37:40.656Z"
      },
      {
        "duration": 472,
        "start_time": "2021-07-21T11:38:09.573Z"
      },
      {
        "duration": 463,
        "start_time": "2021-07-21T11:38:28.855Z"
      },
      {
        "duration": 4,
        "start_time": "2021-07-21T11:38:58.512Z"
      },
      {
        "duration": 8135,
        "start_time": "2021-07-21T11:39:05.643Z"
      },
      {
        "duration": 4,
        "start_time": "2021-07-21T11:42:05.444Z"
      },
      {
        "duration": 6,
        "start_time": "2021-07-21T11:42:06.313Z"
      },
      {
        "duration": 12,
        "start_time": "2021-07-21T11:42:06.842Z"
      },
      {
        "duration": 5,
        "start_time": "2021-07-21T11:42:44.642Z"
      },
      {
        "duration": 5,
        "start_time": "2021-07-21T11:42:47.357Z"
      },
      {
        "duration": 6,
        "start_time": "2021-07-21T11:42:55.254Z"
      },
      {
        "duration": 4,
        "start_time": "2021-07-21T11:43:28.223Z"
      },
      {
        "duration": 6,
        "start_time": "2021-07-21T11:43:30.216Z"
      },
      {
        "duration": 16,
        "start_time": "2021-07-21T11:43:33.155Z"
      },
      {
        "duration": 15,
        "start_time": "2021-07-21T11:43:48.710Z"
      },
      {
        "duration": 15,
        "start_time": "2021-07-21T11:44:01.580Z"
      },
      {
        "duration": 316,
        "start_time": "2021-07-21T11:44:15.841Z"
      },
      {
        "duration": 4,
        "start_time": "2021-07-21T11:44:20.070Z"
      },
      {
        "duration": 11,
        "start_time": "2021-07-21T11:44:45.484Z"
      },
      {
        "duration": 6,
        "start_time": "2021-07-21T11:44:46.489Z"
      },
      {
        "duration": 24,
        "start_time": "2021-07-21T11:44:49.879Z"
      },
      {
        "duration": 12,
        "start_time": "2021-07-21T11:44:51.585Z"
      },
      {
        "duration": 4,
        "start_time": "2021-07-21T11:45:00.389Z"
      },
      {
        "duration": 4,
        "start_time": "2021-07-21T11:45:00.726Z"
      },
      {
        "duration": 4,
        "start_time": "2021-07-21T11:45:01.399Z"
      },
      {
        "duration": 7,
        "start_time": "2021-07-21T11:45:02.068Z"
      },
      {
        "duration": 16,
        "start_time": "2021-07-21T11:45:02.753Z"
      },
      {
        "duration": 12,
        "start_time": "2021-07-21T11:45:03.359Z"
      },
      {
        "duration": 283,
        "start_time": "2021-07-21T11:45:50.057Z"
      },
      {
        "duration": 10,
        "start_time": "2021-07-21T11:45:51.731Z"
      },
      {
        "duration": 4,
        "start_time": "2021-07-21T11:47:24.803Z"
      },
      {
        "duration": 4,
        "start_time": "2021-07-21T11:47:25.373Z"
      },
      {
        "duration": 2227,
        "start_time": "2021-07-21T11:48:17.286Z"
      },
      {
        "duration": 19,
        "start_time": "2021-07-21T11:49:02.199Z"
      },
      {
        "duration": 4,
        "start_time": "2021-07-21T11:49:17.620Z"
      },
      {
        "duration": 21,
        "start_time": "2021-07-21T11:49:30.260Z"
      },
      {
        "duration": 19,
        "start_time": "2021-07-21T11:49:49.783Z"
      },
      {
        "duration": 22,
        "start_time": "2021-07-21T11:50:08.651Z"
      },
      {
        "duration": 5,
        "start_time": "2021-07-21T11:52:30.289Z"
      },
      {
        "duration": 4,
        "start_time": "2021-07-21T11:52:30.522Z"
      },
      {
        "duration": 4,
        "start_time": "2021-07-21T11:52:30.893Z"
      },
      {
        "duration": 4,
        "start_time": "2021-07-21T11:52:35.552Z"
      },
      {
        "duration": 94,
        "start_time": "2021-07-21T11:52:45.786Z"
      },
      {
        "duration": 4,
        "start_time": "2021-07-21T11:52:54.642Z"
      },
      {
        "duration": 288,
        "start_time": "2021-07-21T11:53:00.906Z"
      },
      {
        "duration": 277,
        "start_time": "2021-07-21T11:53:06.655Z"
      },
      {
        "duration": 6,
        "start_time": "2021-07-21T11:53:09.317Z"
      },
      {
        "duration": 4,
        "start_time": "2021-07-21T11:56:20.692Z"
      },
      {
        "duration": 5,
        "start_time": "2021-07-21T11:56:52.302Z"
      },
      {
        "duration": 13,
        "start_time": "2021-07-21T11:56:55.114Z"
      },
      {
        "duration": 4,
        "start_time": "2021-07-21T11:57:08.123Z"
      },
      {
        "duration": 5,
        "start_time": "2021-07-21T11:57:09.774Z"
      },
      {
        "duration": 8057,
        "start_time": "2021-07-21T11:57:13.751Z"
      },
      {
        "duration": 58421,
        "start_time": "2021-07-21T11:57:27.408Z"
      },
      {
        "duration": 412,
        "start_time": "2021-07-21T11:58:29.110Z"
      },
      {
        "duration": 31,
        "start_time": "2021-07-21T11:58:49.639Z"
      },
      {
        "duration": 385,
        "start_time": "2021-07-21T11:59:21.095Z"
      },
      {
        "duration": 474,
        "start_time": "2021-07-21T11:59:29.647Z"
      },
      {
        "duration": 415,
        "start_time": "2021-07-21T11:59:39.730Z"
      },
      {
        "duration": 406,
        "start_time": "2021-07-21T11:59:50.715Z"
      },
      {
        "duration": 19,
        "start_time": "2021-07-21T12:00:28.859Z"
      },
      {
        "duration": 11008,
        "start_time": "2021-07-21T12:00:36.100Z"
      },
      {
        "duration": 408,
        "start_time": "2021-07-21T12:00:52.670Z"
      },
      {
        "duration": 303,
        "start_time": "2021-07-21T12:01:30.752Z"
      },
      {
        "duration": 300,
        "start_time": "2021-07-21T12:03:16.932Z"
      },
      {
        "duration": 6,
        "start_time": "2021-07-21T12:03:24.641Z"
      },
      {
        "duration": 4,
        "start_time": "2021-07-21T12:03:31.732Z"
      },
      {
        "duration": 479,
        "start_time": "2021-07-21T12:03:49.436Z"
      },
      {
        "duration": 4,
        "start_time": "2021-07-21T12:04:01.581Z"
      },
      {
        "duration": 19,
        "start_time": "2021-07-21T12:04:02.543Z"
      },
      {
        "duration": 4,
        "start_time": "2021-07-21T12:04:04.198Z"
      },
      {
        "duration": 472,
        "start_time": "2021-07-21T12:04:04.744Z"
      },
      {
        "duration": 4,
        "start_time": "2021-07-21T12:04:11.477Z"
      },
      {
        "duration": 3,
        "start_time": "2021-07-21T12:04:15.617Z"
      },
      {
        "duration": 22,
        "start_time": "2021-07-21T12:04:17.930Z"
      },
      {
        "duration": 312,
        "start_time": "2021-07-21T12:04:26.711Z"
      },
      {
        "duration": -354,
        "start_time": "2021-07-21T12:04:27.380Z"
      },
      {
        "duration": 8,
        "start_time": "2021-07-21T12:04:32.406Z"
      },
      {
        "duration": 291,
        "start_time": "2021-07-21T12:05:17.930Z"
      },
      {
        "duration": 5,
        "start_time": "2021-07-21T12:05:24.404Z"
      },
      {
        "duration": 9,
        "start_time": "2021-07-21T12:05:25.606Z"
      },
      {
        "duration": 6,
        "start_time": "2021-07-21T12:07:41.202Z"
      },
      {
        "duration": 3,
        "start_time": "2021-07-21T12:07:41.621Z"
      },
      {
        "duration": 27,
        "start_time": "2021-07-21T12:07:41.995Z"
      },
      {
        "duration": 15,
        "start_time": "2021-07-21T12:07:44.348Z"
      },
      {
        "duration": 1488,
        "start_time": "2021-07-21T12:08:16.404Z"
      },
      {
        "duration": 37,
        "start_time": "2021-07-21T12:08:17.894Z"
      },
      {
        "duration": 44,
        "start_time": "2021-07-21T12:08:17.934Z"
      },
      {
        "duration": 9,
        "start_time": "2021-07-21T12:08:17.980Z"
      },
      {
        "duration": 14,
        "start_time": "2021-07-21T12:08:17.991Z"
      },
      {
        "duration": 16,
        "start_time": "2021-07-21T12:08:18.007Z"
      },
      {
        "duration": 30,
        "start_time": "2021-07-21T12:08:18.025Z"
      },
      {
        "duration": 7,
        "start_time": "2021-07-21T12:08:18.058Z"
      },
      {
        "duration": 5,
        "start_time": "2021-07-21T12:08:18.068Z"
      },
      {
        "duration": 8,
        "start_time": "2021-07-21T12:08:18.075Z"
      },
      {
        "duration": 7,
        "start_time": "2021-07-21T12:08:18.656Z"
      },
      {
        "duration": 4,
        "start_time": "2021-07-21T12:08:18.755Z"
      },
      {
        "duration": 8,
        "start_time": "2021-07-21T12:08:18.936Z"
      },
      {
        "duration": 9,
        "start_time": "2021-07-21T12:08:18.967Z"
      },
      {
        "duration": 8,
        "start_time": "2021-07-21T12:08:22.128Z"
      },
      {
        "duration": 10,
        "start_time": "2021-07-21T12:08:23.334Z"
      },
      {
        "duration": 22,
        "start_time": "2021-07-21T12:08:23.525Z"
      },
      {
        "duration": 12,
        "start_time": "2021-07-21T12:08:23.775Z"
      },
      {
        "duration": 6,
        "start_time": "2021-07-21T12:08:23.933Z"
      },
      {
        "duration": 12,
        "start_time": "2021-07-21T12:08:24.896Z"
      },
      {
        "duration": 13,
        "start_time": "2021-07-21T12:08:32.043Z"
      },
      {
        "duration": 4,
        "start_time": "2021-07-21T12:08:32.490Z"
      },
      {
        "duration": 7,
        "start_time": "2021-07-21T12:08:32.828Z"
      },
      {
        "duration": 7,
        "start_time": "2021-07-21T12:08:35.824Z"
      },
      {
        "duration": 482,
        "start_time": "2021-07-21T12:08:37.196Z"
      },
      {
        "duration": 1517,
        "start_time": "2021-07-21T12:12:38.162Z"
      },
      {
        "duration": 37,
        "start_time": "2021-07-21T12:12:39.682Z"
      },
      {
        "duration": 49,
        "start_time": "2021-07-21T12:12:39.723Z"
      },
      {
        "duration": 8,
        "start_time": "2021-07-21T12:12:39.775Z"
      },
      {
        "duration": 4,
        "start_time": "2021-07-21T12:12:39.786Z"
      },
      {
        "duration": 10,
        "start_time": "2021-07-21T12:12:39.793Z"
      },
      {
        "duration": 8,
        "start_time": "2021-07-21T12:12:39.806Z"
      },
      {
        "duration": 8,
        "start_time": "2021-07-21T12:12:39.855Z"
      },
      {
        "duration": 7,
        "start_time": "2021-07-21T12:12:39.867Z"
      },
      {
        "duration": 7,
        "start_time": "2021-07-21T12:12:39.877Z"
      },
      {
        "duration": 10,
        "start_time": "2021-07-21T12:12:39.887Z"
      },
      {
        "duration": 59,
        "start_time": "2021-07-21T12:12:39.900Z"
      },
      {
        "duration": 92,
        "start_time": "2021-07-21T12:12:39.962Z"
      },
      {
        "duration": 9,
        "start_time": "2021-07-21T12:12:40.057Z"
      },
      {
        "duration": 9,
        "start_time": "2021-07-21T12:12:40.068Z"
      },
      {
        "duration": 13,
        "start_time": "2021-07-21T12:12:40.080Z"
      },
      {
        "duration": 24,
        "start_time": "2021-07-21T12:12:40.095Z"
      },
      {
        "duration": 11,
        "start_time": "2021-07-21T12:12:40.154Z"
      },
      {
        "duration": 6,
        "start_time": "2021-07-21T12:12:40.167Z"
      },
      {
        "duration": 16,
        "start_time": "2021-07-21T12:12:40.175Z"
      },
      {
        "duration": 19,
        "start_time": "2021-07-21T12:12:40.194Z"
      },
      {
        "duration": 40,
        "start_time": "2021-07-21T12:12:40.217Z"
      },
      {
        "duration": 91,
        "start_time": "2021-07-21T12:12:40.265Z"
      },
      {
        "duration": 6,
        "start_time": "2021-07-21T12:12:40.359Z"
      },
      {
        "duration": 14,
        "start_time": "2021-07-21T12:12:40.368Z"
      },
      {
        "duration": 18,
        "start_time": "2021-07-21T12:12:40.385Z"
      },
      {
        "duration": 51,
        "start_time": "2021-07-21T12:12:40.406Z"
      },
      {
        "duration": 93,
        "start_time": "2021-07-21T12:12:40.461Z"
      },
      {
        "duration": 9,
        "start_time": "2021-07-21T12:12:40.557Z"
      },
      {
        "duration": 13,
        "start_time": "2021-07-21T12:12:40.568Z"
      },
      {
        "duration": 11,
        "start_time": "2021-07-21T12:12:40.584Z"
      },
      {
        "duration": 15,
        "start_time": "2021-07-21T12:12:40.597Z"
      },
      {
        "duration": 46,
        "start_time": "2021-07-21T12:12:40.615Z"
      },
      {
        "duration": 23,
        "start_time": "2021-07-21T12:12:40.664Z"
      },
      {
        "duration": 2157,
        "start_time": "2021-07-21T14:35:02.637Z"
      },
      {
        "duration": 36,
        "start_time": "2021-07-21T14:35:04.796Z"
      },
      {
        "duration": 44,
        "start_time": "2021-07-21T14:35:04.835Z"
      },
      {
        "duration": 11,
        "start_time": "2021-07-21T14:35:04.882Z"
      },
      {
        "duration": 4,
        "start_time": "2021-07-21T14:35:04.896Z"
      },
      {
        "duration": 8,
        "start_time": "2021-07-21T14:35:05.131Z"
      },
      {
        "duration": 9,
        "start_time": "2021-07-21T14:35:05.296Z"
      },
      {
        "duration": 7,
        "start_time": "2021-07-21T14:35:06.190Z"
      },
      {
        "duration": 7,
        "start_time": "2021-07-21T14:35:06.594Z"
      },
      {
        "duration": 6,
        "start_time": "2021-07-21T14:35:10.710Z"
      },
      {
        "duration": 7,
        "start_time": "2021-07-21T14:35:13.280Z"
      },
      {
        "duration": 4,
        "start_time": "2021-07-21T14:35:14.064Z"
      },
      {
        "duration": 7,
        "start_time": "2021-07-21T14:35:18.595Z"
      },
      {
        "duration": 9,
        "start_time": "2021-07-21T14:35:19.027Z"
      },
      {
        "duration": 6,
        "start_time": "2021-07-21T14:35:19.254Z"
      },
      {
        "duration": 9,
        "start_time": "2021-07-21T14:35:22.097Z"
      },
      {
        "duration": 25,
        "start_time": "2021-07-21T14:35:22.649Z"
      },
      {
        "duration": 12,
        "start_time": "2021-07-21T14:35:22.880Z"
      },
      {
        "duration": 6,
        "start_time": "2021-07-21T14:35:23.407Z"
      },
      {
        "duration": 11,
        "start_time": "2021-07-21T14:35:25.208Z"
      },
      {
        "duration": 5,
        "start_time": "2021-07-21T14:36:17.234Z"
      },
      {
        "duration": 5,
        "start_time": "2021-07-21T14:36:18.013Z"
      },
      {
        "duration": 8,
        "start_time": "2021-07-21T14:36:19.746Z"
      },
      {
        "duration": 7,
        "start_time": "2021-07-21T14:36:21.120Z"
      },
      {
        "duration": 9,
        "start_time": "2021-07-21T14:36:24.132Z"
      },
      {
        "duration": 5,
        "start_time": "2021-07-21T14:36:29.111Z"
      },
      {
        "duration": 5,
        "start_time": "2021-07-21T14:36:30.670Z"
      },
      {
        "duration": 7,
        "start_time": "2021-07-21T14:36:31.298Z"
      },
      {
        "duration": 8,
        "start_time": "2021-07-21T14:36:32.520Z"
      },
      {
        "duration": 11,
        "start_time": "2021-07-21T14:36:36.411Z"
      },
      {
        "duration": 8,
        "start_time": "2021-07-21T14:36:37.307Z"
      },
      {
        "duration": 13,
        "start_time": "2021-07-21T14:36:37.509Z"
      },
      {
        "duration": 15,
        "start_time": "2021-07-21T14:36:44.404Z"
      },
      {
        "duration": 10,
        "start_time": "2021-07-21T14:36:45.597Z"
      },
      {
        "duration": 17,
        "start_time": "2021-07-21T14:37:29.465Z"
      },
      {
        "duration": 97,
        "start_time": "2021-07-21T14:56:55.600Z"
      },
      {
        "duration": 1532,
        "start_time": "2021-07-21T15:04:46.374Z"
      },
      {
        "duration": 43,
        "start_time": "2021-07-21T15:04:47.908Z"
      },
      {
        "duration": 35,
        "start_time": "2021-07-21T15:04:47.954Z"
      },
      {
        "duration": 9,
        "start_time": "2021-07-21T15:04:47.992Z"
      },
      {
        "duration": 5,
        "start_time": "2021-07-21T15:04:48.004Z"
      },
      {
        "duration": 45,
        "start_time": "2021-07-21T15:04:48.011Z"
      },
      {
        "duration": 11,
        "start_time": "2021-07-21T15:04:48.058Z"
      },
      {
        "duration": 7,
        "start_time": "2021-07-21T15:04:48.073Z"
      },
      {
        "duration": 12,
        "start_time": "2021-07-21T15:04:48.084Z"
      },
      {
        "duration": 9,
        "start_time": "2021-07-21T15:04:48.099Z"
      },
      {
        "duration": 13,
        "start_time": "2021-07-21T15:04:48.110Z"
      },
      {
        "duration": 4,
        "start_time": "2021-07-21T15:04:48.156Z"
      },
      {
        "duration": 96,
        "start_time": "2021-07-21T15:04:48.163Z"
      },
      {
        "duration": 14,
        "start_time": "2021-07-21T15:04:48.261Z"
      },
      {
        "duration": 8,
        "start_time": "2021-07-21T15:04:48.278Z"
      },
      {
        "duration": 15,
        "start_time": "2021-07-21T15:04:48.289Z"
      },
      {
        "duration": 59,
        "start_time": "2021-07-21T15:04:48.307Z"
      },
      {
        "duration": 12,
        "start_time": "2021-07-21T15:04:48.369Z"
      },
      {
        "duration": 12,
        "start_time": "2021-07-21T15:04:48.384Z"
      },
      {
        "duration": 25,
        "start_time": "2021-07-21T15:04:48.399Z"
      },
      {
        "duration": 37,
        "start_time": "2021-07-21T15:04:48.426Z"
      },
      {
        "duration": 89,
        "start_time": "2021-07-21T15:04:48.466Z"
      },
      {
        "duration": 9,
        "start_time": "2021-07-21T15:04:48.562Z"
      },
      {
        "duration": 84,
        "start_time": "2021-07-21T15:04:48.574Z"
      },
      {
        "duration": 11,
        "start_time": "2021-07-21T15:04:48.660Z"
      },
      {
        "duration": 10,
        "start_time": "2021-07-21T15:04:48.673Z"
      },
      {
        "duration": 6,
        "start_time": "2021-07-21T15:04:48.685Z"
      },
      {
        "duration": 69,
        "start_time": "2021-07-21T15:04:48.693Z"
      },
      {
        "duration": 8,
        "start_time": "2021-07-21T15:04:48.764Z"
      },
      {
        "duration": 88,
        "start_time": "2021-07-21T15:04:48.774Z"
      },
      {
        "duration": 15,
        "start_time": "2021-07-21T15:04:48.864Z"
      },
      {
        "duration": 23,
        "start_time": "2021-07-21T15:04:48.881Z"
      },
      {
        "duration": 15,
        "start_time": "2021-07-21T15:04:48.906Z"
      },
      {
        "duration": 41,
        "start_time": "2021-07-21T15:04:48.923Z"
      },
      {
        "duration": 12,
        "start_time": "2021-07-21T15:04:48.966Z"
      }
    ],
    "kernelspec": {
      "display_name": "Python 3",
      "language": "python",
      "name": "python3"
    },
    "language_info": {
      "codemirror_mode": {
        "name": "ipython",
        "version": 3
      },
      "file_extension": ".py",
      "mimetype": "text/x-python",
      "name": "python",
      "nbconvert_exporter": "python",
      "pygments_lexer": "ipython3",
      "version": "3.7.8"
    },
    "toc": {
      "base_numbering": 1,
      "nav_menu": {},
      "number_sections": true,
      "sideBar": true,
      "skip_h1_title": true,
      "title_cell": "Содержание",
      "title_sidebar": "Contents",
      "toc_cell": true,
      "toc_position": {},
      "toc_section_display": true,
      "toc_window_display": false
    },
    "colab": {
      "name": "10.Шифрование матрицы.ipynb",
      "provenance": [],
      "collapsed_sections": []
    }
  },
  "cells": [
    {
      "cell_type": "markdown",
      "metadata": {
        "id": "aQODPsqrOqLm"
      },
      "source": [
        "## Загрузка данных"
      ]
    },
    {
      "cell_type": "markdown",
      "metadata": {
        "id": "sXCSv9I4OqLm"
      },
      "source": [
        "Импортируем нужные библиотеки или которые могут нам понадобиться."
      ]
    },
    {
      "cell_type": "code",
      "metadata": {
        "id": "wppHJylMOqLm"
      },
      "source": [
        "import pandas as pd\n",
        "import numpy as np\n",
        "import pylab as pl\n",
        "\n",
        "from sklearn.model_selection import train_test_split\n",
        "from sklearn.preprocessing import StandardScaler\n",
        "from sklearn.utils import shuffle\n",
        "\n",
        "from sklearn.linear_model import LinearRegression\n",
        "\n",
        "from sklearn.metrics import mean_squared_error\n",
        "\n",
        "\n",
        "import warnings\n",
        "warnings.filterwarnings('ignore')"
      ],
      "execution_count": null,
      "outputs": []
    },
    {
      "cell_type": "code",
      "metadata": {
        "id": "m1ceMHmXOqLn",
        "outputId": "b8b8c956-ba4f-42d5-c25c-3a80980be96a"
      },
      "source": [
        "df = pd.read_csv('/datasets/insurance.csv')\n",
        "df"
      ],
      "execution_count": null,
      "outputs": [
        {
          "data": {
            "text/html": [
              "<div>\n",
              "<style scoped>\n",
              "    .dataframe tbody tr th:only-of-type {\n",
              "        vertical-align: middle;\n",
              "    }\n",
              "\n",
              "    .dataframe tbody tr th {\n",
              "        vertical-align: top;\n",
              "    }\n",
              "\n",
              "    .dataframe thead th {\n",
              "        text-align: right;\n",
              "    }\n",
              "</style>\n",
              "<table border=\"1\" class=\"dataframe\">\n",
              "  <thead>\n",
              "    <tr style=\"text-align: right;\">\n",
              "      <th></th>\n",
              "      <th>Пол</th>\n",
              "      <th>Возраст</th>\n",
              "      <th>Зарплата</th>\n",
              "      <th>Члены семьи</th>\n",
              "      <th>Страховые выплаты</th>\n",
              "    </tr>\n",
              "  </thead>\n",
              "  <tbody>\n",
              "    <tr>\n",
              "      <td>0</td>\n",
              "      <td>1</td>\n",
              "      <td>41.0</td>\n",
              "      <td>49600.0</td>\n",
              "      <td>1</td>\n",
              "      <td>0</td>\n",
              "    </tr>\n",
              "    <tr>\n",
              "      <td>1</td>\n",
              "      <td>0</td>\n",
              "      <td>46.0</td>\n",
              "      <td>38000.0</td>\n",
              "      <td>1</td>\n",
              "      <td>1</td>\n",
              "    </tr>\n",
              "    <tr>\n",
              "      <td>2</td>\n",
              "      <td>0</td>\n",
              "      <td>29.0</td>\n",
              "      <td>21000.0</td>\n",
              "      <td>0</td>\n",
              "      <td>0</td>\n",
              "    </tr>\n",
              "    <tr>\n",
              "      <td>3</td>\n",
              "      <td>0</td>\n",
              "      <td>21.0</td>\n",
              "      <td>41700.0</td>\n",
              "      <td>2</td>\n",
              "      <td>0</td>\n",
              "    </tr>\n",
              "    <tr>\n",
              "      <td>4</td>\n",
              "      <td>1</td>\n",
              "      <td>28.0</td>\n",
              "      <td>26100.0</td>\n",
              "      <td>0</td>\n",
              "      <td>0</td>\n",
              "    </tr>\n",
              "    <tr>\n",
              "      <td>...</td>\n",
              "      <td>...</td>\n",
              "      <td>...</td>\n",
              "      <td>...</td>\n",
              "      <td>...</td>\n",
              "      <td>...</td>\n",
              "    </tr>\n",
              "    <tr>\n",
              "      <td>4995</td>\n",
              "      <td>0</td>\n",
              "      <td>28.0</td>\n",
              "      <td>35700.0</td>\n",
              "      <td>2</td>\n",
              "      <td>0</td>\n",
              "    </tr>\n",
              "    <tr>\n",
              "      <td>4996</td>\n",
              "      <td>0</td>\n",
              "      <td>34.0</td>\n",
              "      <td>52400.0</td>\n",
              "      <td>1</td>\n",
              "      <td>0</td>\n",
              "    </tr>\n",
              "    <tr>\n",
              "      <td>4997</td>\n",
              "      <td>0</td>\n",
              "      <td>20.0</td>\n",
              "      <td>33900.0</td>\n",
              "      <td>2</td>\n",
              "      <td>0</td>\n",
              "    </tr>\n",
              "    <tr>\n",
              "      <td>4998</td>\n",
              "      <td>1</td>\n",
              "      <td>22.0</td>\n",
              "      <td>32700.0</td>\n",
              "      <td>3</td>\n",
              "      <td>0</td>\n",
              "    </tr>\n",
              "    <tr>\n",
              "      <td>4999</td>\n",
              "      <td>1</td>\n",
              "      <td>28.0</td>\n",
              "      <td>40600.0</td>\n",
              "      <td>1</td>\n",
              "      <td>0</td>\n",
              "    </tr>\n",
              "  </tbody>\n",
              "</table>\n",
              "<p>5000 rows × 5 columns</p>\n",
              "</div>"
            ],
            "text/plain": [
              "      Пол  Возраст  Зарплата  Члены семьи  Страховые выплаты\n",
              "0       1     41.0   49600.0            1                  0\n",
              "1       0     46.0   38000.0            1                  1\n",
              "2       0     29.0   21000.0            0                  0\n",
              "3       0     21.0   41700.0            2                  0\n",
              "4       1     28.0   26100.0            0                  0\n",
              "...   ...      ...       ...          ...                ...\n",
              "4995    0     28.0   35700.0            2                  0\n",
              "4996    0     34.0   52400.0            1                  0\n",
              "4997    0     20.0   33900.0            2                  0\n",
              "4998    1     22.0   32700.0            3                  0\n",
              "4999    1     28.0   40600.0            1                  0\n",
              "\n",
              "[5000 rows x 5 columns]"
            ]
          },
          "execution_count": 2,
          "metadata": {},
          "output_type": "execute_result"
        }
      ]
    },
    {
      "cell_type": "code",
      "metadata": {
        "id": "wGf6d-kbOqLo",
        "outputId": "beefe758-dee5-4d91-ea8e-be18dcb51a9d"
      },
      "source": [
        "df.describe()"
      ],
      "execution_count": null,
      "outputs": [
        {
          "data": {
            "text/html": [
              "<div>\n",
              "<style scoped>\n",
              "    .dataframe tbody tr th:only-of-type {\n",
              "        vertical-align: middle;\n",
              "    }\n",
              "\n",
              "    .dataframe tbody tr th {\n",
              "        vertical-align: top;\n",
              "    }\n",
              "\n",
              "    .dataframe thead th {\n",
              "        text-align: right;\n",
              "    }\n",
              "</style>\n",
              "<table border=\"1\" class=\"dataframe\">\n",
              "  <thead>\n",
              "    <tr style=\"text-align: right;\">\n",
              "      <th></th>\n",
              "      <th>Пол</th>\n",
              "      <th>Возраст</th>\n",
              "      <th>Зарплата</th>\n",
              "      <th>Члены семьи</th>\n",
              "      <th>Страховые выплаты</th>\n",
              "    </tr>\n",
              "  </thead>\n",
              "  <tbody>\n",
              "    <tr>\n",
              "      <td>count</td>\n",
              "      <td>5000.000000</td>\n",
              "      <td>5000.000000</td>\n",
              "      <td>5000.000000</td>\n",
              "      <td>5000.000000</td>\n",
              "      <td>5000.000000</td>\n",
              "    </tr>\n",
              "    <tr>\n",
              "      <td>mean</td>\n",
              "      <td>0.499000</td>\n",
              "      <td>30.952800</td>\n",
              "      <td>39916.360000</td>\n",
              "      <td>1.194200</td>\n",
              "      <td>0.148000</td>\n",
              "    </tr>\n",
              "    <tr>\n",
              "      <td>std</td>\n",
              "      <td>0.500049</td>\n",
              "      <td>8.440807</td>\n",
              "      <td>9900.083569</td>\n",
              "      <td>1.091387</td>\n",
              "      <td>0.463183</td>\n",
              "    </tr>\n",
              "    <tr>\n",
              "      <td>min</td>\n",
              "      <td>0.000000</td>\n",
              "      <td>18.000000</td>\n",
              "      <td>5300.000000</td>\n",
              "      <td>0.000000</td>\n",
              "      <td>0.000000</td>\n",
              "    </tr>\n",
              "    <tr>\n",
              "      <td>25%</td>\n",
              "      <td>0.000000</td>\n",
              "      <td>24.000000</td>\n",
              "      <td>33300.000000</td>\n",
              "      <td>0.000000</td>\n",
              "      <td>0.000000</td>\n",
              "    </tr>\n",
              "    <tr>\n",
              "      <td>50%</td>\n",
              "      <td>0.000000</td>\n",
              "      <td>30.000000</td>\n",
              "      <td>40200.000000</td>\n",
              "      <td>1.000000</td>\n",
              "      <td>0.000000</td>\n",
              "    </tr>\n",
              "    <tr>\n",
              "      <td>75%</td>\n",
              "      <td>1.000000</td>\n",
              "      <td>37.000000</td>\n",
              "      <td>46600.000000</td>\n",
              "      <td>2.000000</td>\n",
              "      <td>0.000000</td>\n",
              "    </tr>\n",
              "    <tr>\n",
              "      <td>max</td>\n",
              "      <td>1.000000</td>\n",
              "      <td>65.000000</td>\n",
              "      <td>79000.000000</td>\n",
              "      <td>6.000000</td>\n",
              "      <td>5.000000</td>\n",
              "    </tr>\n",
              "  </tbody>\n",
              "</table>\n",
              "</div>"
            ],
            "text/plain": [
              "               Пол      Возраст      Зарплата  Члены семьи  Страховые выплаты\n",
              "count  5000.000000  5000.000000   5000.000000  5000.000000        5000.000000\n",
              "mean      0.499000    30.952800  39916.360000     1.194200           0.148000\n",
              "std       0.500049     8.440807   9900.083569     1.091387           0.463183\n",
              "min       0.000000    18.000000   5300.000000     0.000000           0.000000\n",
              "25%       0.000000    24.000000  33300.000000     0.000000           0.000000\n",
              "50%       0.000000    30.000000  40200.000000     1.000000           0.000000\n",
              "75%       1.000000    37.000000  46600.000000     2.000000           0.000000\n",
              "max       1.000000    65.000000  79000.000000     6.000000           5.000000"
            ]
          },
          "execution_count": 3,
          "metadata": {},
          "output_type": "execute_result"
        }
      ]
    },
    {
      "cell_type": "code",
      "metadata": {
        "id": "R8x7s8WPOqLo",
        "outputId": "a7bb7333-4af9-4761-f11f-b6ee95889d7f"
      },
      "source": [
        "df.info()"
      ],
      "execution_count": null,
      "outputs": [
        {
          "name": "stdout",
          "output_type": "stream",
          "text": [
            "<class 'pandas.core.frame.DataFrame'>\n",
            "RangeIndex: 5000 entries, 0 to 4999\n",
            "Data columns (total 5 columns):\n",
            "Пол                  5000 non-null int64\n",
            "Возраст              5000 non-null float64\n",
            "Зарплата             5000 non-null float64\n",
            "Члены семьи          5000 non-null int64\n",
            "Страховые выплаты    5000 non-null int64\n",
            "dtypes: float64(2), int64(3)\n",
            "memory usage: 195.4 KB\n"
          ]
        }
      ]
    },
    {
      "cell_type": "markdown",
      "metadata": {
        "id": "CYtOWeiIOqLo"
      },
      "source": [
        "Мы вывели таблицу, вывели значния методом describe() и инфо. Получили, что все таблицы распределены нормально: у нас нет пола с цифрой 2, нет лиц моложе 18 и мы видим, что лиц старше 65 нет, заплаты нет нулевой. В инфо видим, что все столбцы имеют правильный тип данных -> числовой. Можно перобразовать столбец \"Возраст\" в челочисленное для наглядности."
      ]
    },
    {
      "cell_type": "code",
      "metadata": {
        "id": "_XCVvxPzOqLo"
      },
      "source": [
        "df['Возраст'] = df['Возраст'].astype('int')"
      ],
      "execution_count": null,
      "outputs": []
    },
    {
      "cell_type": "markdown",
      "metadata": {
        "id": "T0NQXCriOqLp"
      },
      "source": [
        "Посмотрим пропуски и дубликаты."
      ]
    },
    {
      "cell_type": "code",
      "metadata": {
        "id": "DmrWrs8bOqLp",
        "outputId": "271fca5d-9670-45b1-ed91-3fefda354eee"
      },
      "source": [
        "df.isna().mean()"
      ],
      "execution_count": null,
      "outputs": [
        {
          "data": {
            "text/plain": [
              "Пол                  0.0\n",
              "Возраст              0.0\n",
              "Зарплата             0.0\n",
              "Члены семьи          0.0\n",
              "Страховые выплаты    0.0\n",
              "dtype: float64"
            ]
          },
          "execution_count": 6,
          "metadata": {},
          "output_type": "execute_result"
        }
      ]
    },
    {
      "cell_type": "code",
      "metadata": {
        "id": "r0DY1InqOqLp",
        "outputId": "91effd5a-8bbf-4221-dc0c-4a5905b66190"
      },
      "source": [
        "df.duplicated().sum()"
      ],
      "execution_count": null,
      "outputs": [
        {
          "data": {
            "text/plain": [
              "153"
            ]
          },
          "execution_count": 7,
          "metadata": {},
          "output_type": "execute_result"
        }
      ]
    },
    {
      "cell_type": "markdown",
      "metadata": {
        "id": "qhfk2H3nOqLp"
      },
      "source": [
        "Вы видим, что у нас есть 153 явных дупликатов. Удалим их и восстановим порядок индексов."
      ]
    },
    {
      "cell_type": "code",
      "metadata": {
        "id": "GYbISf5lOqLp"
      },
      "source": [
        "df = df.drop_duplicates().reset_index(drop=True)"
      ],
      "execution_count": null,
      "outputs": []
    },
    {
      "cell_type": "markdown",
      "metadata": {
        "id": "K1p-uDPtOqLq"
      },
      "source": [
        "Отделим признаки и целевой."
      ]
    },
    {
      "cell_type": "code",
      "metadata": {
        "id": "RUXqNpzBOqLq"
      },
      "source": [
        "target = df['Страховые выплаты']\n",
        "features = df.drop('Страховые выплаты', axis=1)"
      ],
      "execution_count": null,
      "outputs": []
    },
    {
      "cell_type": "markdown",
      "metadata": {
        "id": "6u1qU6u7OqLq"
      },
      "source": [
        "## Умножение матриц"
      ]
    },
    {
      "cell_type": "markdown",
      "metadata": {
        "id": "fTMjZrKxOqLq"
      },
      "source": [
        "Задание: Если признаки умножить на обратимую матрицу. Изменится ли качество линейной регрессии?"
      ]
    },
    {
      "cell_type": "markdown",
      "metadata": {
        "id": "uCoQX5JtOqLq"
      },
      "source": [
        "Обозначения:\n",
        "\n",
        "- $X$ — матрица признаков (нулевой столбец состоит из единиц)\n",
        "\n",
        "- $y$ — вектор целевого признака\n",
        "\n",
        "- $P$ — матрица, на которую умножаются признаки (наша матрица)\n",
        "\n",
        "- $w$ — вектор весов линейной регрессии (нулевой элемент равен сдвигу)"
      ]
    },
    {
      "cell_type": "markdown",
      "metadata": {
        "id": "hAVGuigNOqLr"
      },
      "source": [
        "Предсказания:\n",
        "\n",
        "$$\n",
        "a = Xw\n",
        "$$\n",
        "\n",
        "Задача обучения:\n",
        "\n",
        "$$\n",
        "w = \\arg\\min_w MSE(Xw, y)\n",
        "$$\n",
        "\n",
        "Формула обучения:\n",
        "\n",
        "$$\n",
        "w = (X^T X)^{-1} X^T y\n",
        "$$\n",
        "\n",
        "Если матрицу умножить на обратную матрицу самой себе получим единичную матрицу. Порядок умножения не важен.\n",
        "\n",
        "$$\n",
        "XX^{-1}=X^{-1}X=E\n",
        "$$\n",
        "\n",
        "Если единичную матрицу умножить на любую матрицу получится таже матрица. Порядок умножения не важен.\n",
        "\n",
        "$$\n",
        "EX=XE=X\n",
        "$$"
      ]
    },
    {
      "cell_type": "markdown",
      "metadata": {
        "id": "3Vpy-NdJOqLr"
      },
      "source": [
        "**Ответ:** Не изменится. Ниже я привожу математическое решение и соотвестственно обоснование.  \n",
        "\n",
        "**Обоснование:** \n",
        "\n",
        "У нас есть, что $$a = Xw$$ \n",
        "Тогда $$a_1 = XPw_1$$ так как чтобы получить преобразованную матрицу, мы матрицу X умножаем на обратимую P.\n",
        "\n",
        "Мы знаем, по формуле выше что $$w = (X^TX)^{-1}X^Ty$$ Теперь найдем w_1\n",
        "\n",
        "$$XPw_1=y$$ Нам нужно избавиться XP, чтобы получить w_1. \n",
        "Для этого мы для начала превращаем нащу матрицу в квадратную домнажая ее на транспонированную самой себе,\n",
        "\n",
        "$$(XP)^TXPw_1=(XP)^Ty$$ \n",
        "\n",
        "а затем умножаем нашу квадратную матрицу на обратимую, чтобы получить E или 1. Формула выше.\n",
        "\n",
        "$$(XP^TXP)^{-1}(XP^TXP)w_1=(XP^TXP)^{-1}(XP)^Ty$$\n",
        "\n",
        "Получаем:\n",
        "\n",
        "$$w_1=(XP^TXP)^{-1}(XP)^Ty$$\n",
        "\n",
        "Теперь раскроем скобки наших параметров весов и скоратим.\n",
        "\n",
        "$$w=(X^TX)^{-1}X^Ty=X^{-1}(X^T)^{-1}X^Ty=X^{-1}y$$\n",
        "$$w_1=((XP)^TXP)^{-1}(XP)^Ty=(XP)^{-1}((XP)^T)^{-1}(XP)^Ty=(XP)^{-1}y=P^{-1}X^{-1}y=P^{-1}w$$\n",
        "\n",
        "Подставим все значения в предсказания:\n",
        "\n",
        "$$a=Xw$$\n",
        "$$a_1=XPw_1=XPP^{-1}w=Xw$$\n",
        "\n",
        "Видим, что у а_1 получился тот же ответ. Из этого следует, что:\n",
        "\n",
        "$$a=a_1$$"
      ]
    },
    {
      "cell_type": "markdown",
      "metadata": {
        "id": "VmsaAi9nOqLr"
      },
      "source": [
        "## Алгоритм преобразования"
      ]
    },
    {
      "cell_type": "markdown",
      "metadata": {
        "id": "01LPELzkOqLs"
      },
      "source": [
        "**Алгоритм**\n",
        "\n",
        "Создадим из признаков вектор X.  \n",
        "Создадим квадратную матрицу из рандомных чисел P.  \n",
        "Сделаем проверку.\n",
        "Умножим X и P.  \n",
        "Посмотрим метрику и напишем предположение."
      ]
    },
    {
      "cell_type": "code",
      "metadata": {
        "id": "OW5BkE3hOqLs"
      },
      "source": [
        "def checking_the_conversion(features):\n",
        "    value = []\n",
        "    X_features = features.values\n",
        "    while True:\n",
        "        P = np.random.randint(0, 10, size = (X_features.shape[1], X_features.shape[1]))\n",
        "        P_reverse = np.linalg.inv(P)\n",
        "        if np.allclose(np.dot(P, P_reverse), np.eye(P.shape[0])) is True:\n",
        "            value.append('Массив обратимый')\n",
        "            return X_features, P, value\n",
        "            break\n",
        "        value.append('Ошибка')"
      ],
      "execution_count": null,
      "outputs": []
    },
    {
      "cell_type": "markdown",
      "metadata": {
        "id": "5yzfkxEXOqLs"
      },
      "source": [
        "Проверим статус нашей матрицы. \"value\" нам покажет, если у нас вдруг наша матрица окажется не обратимой то в нее будет записана ошибка, а сама матрица пересоздается."
      ]
    },
    {
      "cell_type": "code",
      "metadata": {
        "id": "UZXeJNlgOqLt",
        "outputId": "327acad0-f560-4824-a6dd-ab8ff7d2abca"
      },
      "source": [
        "X_features, P, value = checking_the_conversion(features)\n",
        "print('Статус массива:', value)"
      ],
      "execution_count": null,
      "outputs": [
        {
          "name": "stdout",
          "output_type": "stream",
          "text": [
            "Статус массива: ['Массив обратимый']\n"
          ]
        }
      ]
    },
    {
      "cell_type": "code",
      "metadata": {
        "id": "saTxkksDOqLt"
      },
      "source": [
        "XP_features = X_features @ P"
      ],
      "execution_count": null,
      "outputs": []
    },
    {
      "cell_type": "markdown",
      "metadata": {
        "id": "_uC1FQ4oOqLu"
      },
      "source": [
        "Делим на обучающую и тестовую."
      ]
    },
    {
      "cell_type": "code",
      "metadata": {
        "id": "eZJFbnmROqLu",
        "outputId": "2e873bd6-302b-41b6-d0b8-f599fe783088"
      },
      "source": [
        "XP_features_train, XP_features_valid, target_train, target_valid = train_test_split(\n",
        "                                            XP_features, target, test_size=0.3, random_state=12345)\n",
        "XP_features_train.shape[0], XP_features_valid.shape[0]"
      ],
      "execution_count": null,
      "outputs": [
        {
          "data": {
            "text/plain": [
              "(3392, 1455)"
            ]
          },
          "execution_count": 13,
          "metadata": {},
          "output_type": "execute_result"
        }
      ]
    },
    {
      "cell_type": "code",
      "metadata": {
        "id": "PUswJI6OOqLu",
        "outputId": "31f19933-3e3b-4d6e-eeaf-fdbe515b3a12"
      },
      "source": [
        "model = LinearRegression()\n",
        "model.fit(XP_features_train, target_train)\n",
        "XP_predictions = model.predict(XP_features_valid)\n",
        "XP_r2 = r2_score(target_valid, XP_predictions)\n",
        "XP_r2"
      ],
      "execution_count": null,
      "outputs": [
        {
          "data": {
            "text/plain": [
              "0.43287552621820424"
            ]
          },
          "execution_count": 14,
          "metadata": {},
          "output_type": "execute_result"
        }
      ]
    },
    {
      "cell_type": "code",
      "metadata": {
        "id": "MiXMPVgbOqLv",
        "outputId": "ff07cfd6-12dc-4702-ca2d-9e47df5f4e0e"
      },
      "source": [
        "XP_mse = mean_squared_error(target_valid, XP_predictions)\n",
        "XP_mse"
      ],
      "execution_count": null,
      "outputs": [
        {
          "data": {
            "text/plain": [
              "0.12972611526820765"
            ]
          },
          "execution_count": 15,
          "metadata": {},
          "output_type": "execute_result"
        }
      ]
    },
    {
      "cell_type": "markdown",
      "metadata": {
        "id": "Prf4PAcEOqLv"
      },
      "source": [
        "На преобразованных данных у меня получилась метрика r2-0.43, MSE-0.13."
      ]
    },
    {
      "cell_type": "markdown",
      "metadata": {
        "id": "0fRGFFMKOqLv"
      },
      "source": [
        "**Обоснование**\n",
        "\n",
        "Мне кажется качество линейной регрессии не поменяется из-за того, что перемножая матрицы у нас меняется лишь их значения, а сами координаты остаются в тех же позициях, изменяясь лишь в цифрах. Это как пороги на ROC_AUC. Если мы домножим признаки на число, то распределение порогов у нас не изменится так же как и классы. Тут такой же принцип."
      ]
    },
    {
      "cell_type": "markdown",
      "metadata": {
        "id": "sDKRAzrdOqLv"
      },
      "source": [
        "## Проверка алгоритма"
      ]
    },
    {
      "cell_type": "code",
      "metadata": {
        "id": "F3HC4jb0OqLv",
        "outputId": "7d526d8e-8c18-4af0-fb1a-58d59a871185"
      },
      "source": [
        "features_train, features_valid, target_train, target_valid = train_test_split(\n",
        "                                                 features, target, test_size=0.3, random_state=12345)\n",
        "features_train.shape[0], features_valid.shape[0]"
      ],
      "execution_count": null,
      "outputs": [
        {
          "data": {
            "text/plain": [
              "(3392, 1455)"
            ]
          },
          "execution_count": 16,
          "metadata": {},
          "output_type": "execute_result"
        }
      ]
    },
    {
      "cell_type": "code",
      "metadata": {
        "id": "7nqMOOlvOqLw"
      },
      "source": [
        "numeric = ['Пол', 'Возраст', 'Зарплата', 'Члены семьи']\n",
        "scaler = StandardScaler()\n",
        "scaler.fit(features_train[numeric])\n",
        "features_train[numeric] = scaler.transform(features_train[numeric])\n",
        "features_valid[numeric] = scaler.transform(features_valid[numeric])"
      ],
      "execution_count": null,
      "outputs": []
    },
    {
      "cell_type": "code",
      "metadata": {
        "id": "9PgWr-CcOqLw",
        "outputId": "1b663f59-c631-4599-8e3d-96c402105179"
      },
      "source": [
        "model.fit(features_train, target_train)\n",
        "X_predictions = model.predict(features_valid)\n",
        "X_r2 = r2_score(target_valid, X_predictions)\n",
        "X_r2"
      ],
      "execution_count": null,
      "outputs": [
        {
          "data": {
            "text/plain": [
              "0.43287552621918113"
            ]
          },
          "execution_count": 18,
          "metadata": {},
          "output_type": "execute_result"
        }
      ]
    },
    {
      "cell_type": "code",
      "metadata": {
        "id": "hGOwGhPOOqLw",
        "outputId": "30e7aa7f-b056-4e18-ece2-a19d8b3e6ed8"
      },
      "source": [
        "X_mse = mean_squared_error(target_valid, X_predictions)\n",
        "X_mse"
      ],
      "execution_count": null,
      "outputs": [
        {
          "data": {
            "text/plain": [
              "0.1297261152679842"
            ]
          },
          "execution_count": 19,
          "metadata": {},
          "output_type": "execute_result"
        }
      ]
    },
    {
      "cell_type": "markdown",
      "metadata": {
        "id": "hpWU2jfHOqLw"
      },
      "source": [
        "На обычных данных у меня получилась метрика r2-0.43, MSE-0.13."
      ]
    },
    {
      "cell_type": "code",
      "metadata": {
        "id": "JzvYGGBXOqLx",
        "outputId": "97f10ac3-78fd-4efb-f7eb-328ec8735a44"
      },
      "source": [
        "print()\n",
        "print('Сравнение качества метрик на обычной выборке и после преобразования')\n",
        "pd.DataFrame({'X_values': [X_r2, X_mse], 'XP_values': [XP_r2, XP_mse]},index=['r2', 'mse'])"
      ],
      "execution_count": null,
      "outputs": [
        {
          "name": "stdout",
          "output_type": "stream",
          "text": [
            "\n",
            "Сравнение качества метрик на обычной выборке и после преобразования\n"
          ]
        },
        {
          "data": {
            "text/html": [
              "<div>\n",
              "<style scoped>\n",
              "    .dataframe tbody tr th:only-of-type {\n",
              "        vertical-align: middle;\n",
              "    }\n",
              "\n",
              "    .dataframe tbody tr th {\n",
              "        vertical-align: top;\n",
              "    }\n",
              "\n",
              "    .dataframe thead th {\n",
              "        text-align: right;\n",
              "    }\n",
              "</style>\n",
              "<table border=\"1\" class=\"dataframe\">\n",
              "  <thead>\n",
              "    <tr style=\"text-align: right;\">\n",
              "      <th></th>\n",
              "      <th>X_values</th>\n",
              "      <th>XP_values</th>\n",
              "    </tr>\n",
              "  </thead>\n",
              "  <tbody>\n",
              "    <tr>\n",
              "      <td>r2</td>\n",
              "      <td>0.432876</td>\n",
              "      <td>0.432876</td>\n",
              "    </tr>\n",
              "    <tr>\n",
              "      <td>mse</td>\n",
              "      <td>0.129726</td>\n",
              "      <td>0.129726</td>\n",
              "    </tr>\n",
              "  </tbody>\n",
              "</table>\n",
              "</div>"
            ],
            "text/plain": [
              "     X_values  XP_values\n",
              "r2   0.432876   0.432876\n",
              "mse  0.129726   0.129726"
            ]
          },
          "execution_count": 20,
          "metadata": {},
          "output_type": "execute_result"
        }
      ]
    },
    {
      "cell_type": "markdown",
      "metadata": {
        "id": "_ftOc9xsOqLx"
      },
      "source": [
        "Как мы видим, метрика не изменилась!"
      ]
    },
    {
      "cell_type": "markdown",
      "metadata": {
        "id": "D8uheKtmOqLx"
      },
      "source": [
        "# Общий вывод:\n",
        "\n",
        "1. Мы Прочитали файл, сделали небольшую предобработку и отделили признаки и целевой признак.\n",
        "2. Прежде чем начинать делать практическую часть, мы решили уравнение математически и ответом оказалось, то что при преобразовании матрицы предсказания у нас не изменятся.\n",
        "3. Мы создали преобразованную матрицу путем умножения нашей исходной матрицы на рандомную квадратную обратимую матрицу. На ней обучили выборку и получили метрику качества.\n",
        "4. Обучили алгоритм на нашей исходной матрице и получили на ней метрику качетсва.\n",
        "5. Получили одинаковые результаты, что на исходной, что на преобразованной матрице. Метрика осталась неизменной, что нам доказало решеннное уравнение."
      ]
    }
  ]
}
{
 "cells": [
  {
   "cell_type": "markdown",
   "metadata": {},
   "source": [
    "# Особенности:\n",
    "В наборе данных попадается аббревиатура ESRB (Entertainment Software Rating Board) — это ассоциация, определяющая возрастной рейтинг компьютерных игр.\n",
    "\n",
    "Расшифровка аббревиатур рейтинга ESBR.\n",
    "\n",
    "- «EC» («Early childhood») — «Для детей младшего возраста»\n",
    "- «E» («Everyone») — «Для всех»\n",
    "- «K-A» - «Для широкой аудитории» (Это рейтинг использовался до 1998 года, потом был переименован в «E»)\n",
    "- «E10+» («Everyone 10 and older») — «Для всех от 10 лет и старше»\n",
    "- «T» («Teen») — «Подросткам»\n",
    "- «M» («Mature») — «Для взрослых»\n",
    "- «AO» («Adults Only 18+») — «Только для взрослых»\n",
    "- «RP» («Rating Pending») — «Рейтинг ожидается»"
   ]
  },
  {
   "cell_type": "markdown",
   "metadata": {},
   "source": [
    "# Описание данных\n",
    "\n",
    "- Name — название игры\n",
    "- Platform — платформа\n",
    "- Year_of_Release — год выпуска\n",
    "- Genre — жанр игры\n",
    "- NA_sales — продажи в Северной Америке (миллионы проданных копий)\n",
    "- EU_sales — продажи в Европе (миллионы проданных копий)\n",
    "- JP_sales — продажи в Японии (миллионы проданных копий)\n",
    "- Other_sales — продажи в других странах (миллионы проданных копий)\n",
    "- Critic_Score — оценка критиков (максимум 100)\n",
    "- User_Score — оценка пользователей (максимум 10)\n",
    "- Rating — рейтинг от организации ESRB (англ. Entertainment Software Rating Board). Эта ассоциация определяет рейтинг компьютерных игр и присваивает им подходящую возрастную категорию.  "
   ]
  },
  {
   "cell_type": "markdown",
   "metadata": {},
   "source": [
    "# Знакомство с данными"
   ]
  },
  {
   "cell_type": "markdown",
   "metadata": {},
   "source": [
    "Импортируем все необходимые библиотеки которые нужны или могут понадобиться."
   ]
  },
  {
   "cell_type": "code",
   "execution_count": 1,
   "metadata": {},
   "outputs": [
    {
     "data": {
      "text/html": [
       "        <script type=\"text/javascript\">\n",
       "        window.PlotlyConfig = {MathJaxConfig: 'local'};\n",
       "        if (window.MathJax) {MathJax.Hub.Config({SVG: {font: \"STIX-Web\"}});}\n",
       "        if (typeof require !== 'undefined') {\n",
       "        require.undef(\"plotly\");\n",
       "        requirejs.config({\n",
       "            paths: {\n",
       "                'plotly': ['https://cdn.plot.ly/plotly-2.3.1.min']\n",
       "            }\n",
       "        });\n",
       "        require(['plotly'], function(Plotly) {\n",
       "            window._Plotly = Plotly;\n",
       "        });\n",
       "        }\n",
       "        </script>\n",
       "        "
      ]
     },
     "metadata": {},
     "output_type": "display_data"
    }
   ],
   "source": [
    "import pandas as pd\n",
    "import numpy as np\n",
    "import matplotlib.pyplot as plt\n",
    "from scipy import stats as st\n",
    "from plotly.offline import download_plotlyjs, init_notebook_mode, plot, iplot\n",
    "import plotly.graph_objs as go\n",
    "\n",
    "init_notebook_mode(connected=True)"
   ]
  },
  {
   "cell_type": "markdown",
   "metadata": {},
   "source": [
    "Прочитаем файл и изучим его общую инфу."
   ]
  },
  {
   "cell_type": "code",
   "execution_count": 2,
   "metadata": {},
   "outputs": [],
   "source": [
    "df = pd.read_csv('/datasets/games.csv')"
   ]
  },
  {
   "cell_type": "code",
   "execution_count": 3,
   "metadata": {},
   "outputs": [
    {
     "data": {
      "text/html": [
       "<div>\n",
       "<style scoped>\n",
       "    .dataframe tbody tr th:only-of-type {\n",
       "        vertical-align: middle;\n",
       "    }\n",
       "\n",
       "    .dataframe tbody tr th {\n",
       "        vertical-align: top;\n",
       "    }\n",
       "\n",
       "    .dataframe thead th {\n",
       "        text-align: right;\n",
       "    }\n",
       "</style>\n",
       "<table border=\"1\" class=\"dataframe\">\n",
       "  <thead>\n",
       "    <tr style=\"text-align: right;\">\n",
       "      <th></th>\n",
       "      <th>Name</th>\n",
       "      <th>Platform</th>\n",
       "      <th>Year_of_Release</th>\n",
       "      <th>Genre</th>\n",
       "      <th>NA_sales</th>\n",
       "      <th>EU_sales</th>\n",
       "      <th>JP_sales</th>\n",
       "      <th>Other_sales</th>\n",
       "      <th>Critic_Score</th>\n",
       "      <th>User_Score</th>\n",
       "      <th>Rating</th>\n",
       "    </tr>\n",
       "  </thead>\n",
       "  <tbody>\n",
       "    <tr>\n",
       "      <td>9699</td>\n",
       "      <td>Disney's PK: Out of the Shadows</td>\n",
       "      <td>PS2</td>\n",
       "      <td>2002.0</td>\n",
       "      <td>Platform</td>\n",
       "      <td>0.06</td>\n",
       "      <td>0.05</td>\n",
       "      <td>0.00</td>\n",
       "      <td>0.02</td>\n",
       "      <td>49.0</td>\n",
       "      <td>5</td>\n",
       "      <td>E</td>\n",
       "    </tr>\n",
       "    <tr>\n",
       "      <td>11691</td>\n",
       "      <td>Katekyoo Hitman Reborn! DS: Flame Rumble Kaien...</td>\n",
       "      <td>DS</td>\n",
       "      <td>2007.0</td>\n",
       "      <td>Fighting</td>\n",
       "      <td>0.00</td>\n",
       "      <td>0.00</td>\n",
       "      <td>0.08</td>\n",
       "      <td>0.00</td>\n",
       "      <td>NaN</td>\n",
       "      <td>NaN</td>\n",
       "      <td>NaN</td>\n",
       "    </tr>\n",
       "    <tr>\n",
       "      <td>2444</td>\n",
       "      <td>Burnout 2: Point of Impact</td>\n",
       "      <td>PS2</td>\n",
       "      <td>2002.0</td>\n",
       "      <td>Racing</td>\n",
       "      <td>0.42</td>\n",
       "      <td>0.32</td>\n",
       "      <td>0.00</td>\n",
       "      <td>0.11</td>\n",
       "      <td>86.0</td>\n",
       "      <td>8.2</td>\n",
       "      <td>E</td>\n",
       "    </tr>\n",
       "    <tr>\n",
       "      <td>7885</td>\n",
       "      <td>Shining Force II</td>\n",
       "      <td>GEN</td>\n",
       "      <td>1993.0</td>\n",
       "      <td>Strategy</td>\n",
       "      <td>0.00</td>\n",
       "      <td>0.00</td>\n",
       "      <td>0.19</td>\n",
       "      <td>0.00</td>\n",
       "      <td>NaN</td>\n",
       "      <td>NaN</td>\n",
       "      <td>NaN</td>\n",
       "    </tr>\n",
       "    <tr>\n",
       "      <td>5894</td>\n",
       "      <td>Dynasty Warriors 8: Xtreme Legends</td>\n",
       "      <td>PS4</td>\n",
       "      <td>2014.0</td>\n",
       "      <td>Action</td>\n",
       "      <td>0.09</td>\n",
       "      <td>0.11</td>\n",
       "      <td>0.06</td>\n",
       "      <td>0.04</td>\n",
       "      <td>NaN</td>\n",
       "      <td>NaN</td>\n",
       "      <td>NaN</td>\n",
       "    </tr>\n",
       "  </tbody>\n",
       "</table>\n",
       "</div>"
      ],
      "text/plain": [
       "                                                    Name Platform  \\\n",
       "9699                     Disney's PK: Out of the Shadows      PS2   \n",
       "11691  Katekyoo Hitman Reborn! DS: Flame Rumble Kaien...       DS   \n",
       "2444                          Burnout 2: Point of Impact      PS2   \n",
       "7885                                    Shining Force II      GEN   \n",
       "5894                  Dynasty Warriors 8: Xtreme Legends      PS4   \n",
       "\n",
       "       Year_of_Release     Genre  NA_sales  EU_sales  JP_sales  Other_sales  \\\n",
       "9699            2002.0  Platform      0.06      0.05      0.00         0.02   \n",
       "11691           2007.0  Fighting      0.00      0.00      0.08         0.00   \n",
       "2444            2002.0    Racing      0.42      0.32      0.00         0.11   \n",
       "7885            1993.0  Strategy      0.00      0.00      0.19         0.00   \n",
       "5894            2014.0    Action      0.09      0.11      0.06         0.04   \n",
       "\n",
       "       Critic_Score User_Score Rating  \n",
       "9699           49.0          5      E  \n",
       "11691           NaN        NaN    NaN  \n",
       "2444           86.0        8.2      E  \n",
       "7885            NaN        NaN    NaN  \n",
       "5894            NaN        NaN    NaN  "
      ]
     },
     "execution_count": 3,
     "metadata": {},
     "output_type": "execute_result"
    }
   ],
   "source": [
    "df.sample(5, random_state=4)"
   ]
  },
  {
   "cell_type": "code",
   "execution_count": 4,
   "metadata": {},
   "outputs": [
    {
     "data": {
      "text/html": [
       "<div>\n",
       "<style scoped>\n",
       "    .dataframe tbody tr th:only-of-type {\n",
       "        vertical-align: middle;\n",
       "    }\n",
       "\n",
       "    .dataframe tbody tr th {\n",
       "        vertical-align: top;\n",
       "    }\n",
       "\n",
       "    .dataframe thead th {\n",
       "        text-align: right;\n",
       "    }\n",
       "</style>\n",
       "<table border=\"1\" class=\"dataframe\">\n",
       "  <thead>\n",
       "    <tr style=\"text-align: right;\">\n",
       "      <th></th>\n",
       "      <th>Year_of_Release</th>\n",
       "      <th>NA_sales</th>\n",
       "      <th>EU_sales</th>\n",
       "      <th>JP_sales</th>\n",
       "      <th>Other_sales</th>\n",
       "      <th>Critic_Score</th>\n",
       "    </tr>\n",
       "  </thead>\n",
       "  <tbody>\n",
       "    <tr>\n",
       "      <td>count</td>\n",
       "      <td>16446.000000</td>\n",
       "      <td>16715.000000</td>\n",
       "      <td>16715.000000</td>\n",
       "      <td>16715.000000</td>\n",
       "      <td>16715.000000</td>\n",
       "      <td>8137.000000</td>\n",
       "    </tr>\n",
       "    <tr>\n",
       "      <td>mean</td>\n",
       "      <td>2006.484616</td>\n",
       "      <td>0.263377</td>\n",
       "      <td>0.145060</td>\n",
       "      <td>0.077617</td>\n",
       "      <td>0.047342</td>\n",
       "      <td>68.967679</td>\n",
       "    </tr>\n",
       "    <tr>\n",
       "      <td>std</td>\n",
       "      <td>5.877050</td>\n",
       "      <td>0.813604</td>\n",
       "      <td>0.503339</td>\n",
       "      <td>0.308853</td>\n",
       "      <td>0.186731</td>\n",
       "      <td>13.938165</td>\n",
       "    </tr>\n",
       "    <tr>\n",
       "      <td>min</td>\n",
       "      <td>1980.000000</td>\n",
       "      <td>0.000000</td>\n",
       "      <td>0.000000</td>\n",
       "      <td>0.000000</td>\n",
       "      <td>0.000000</td>\n",
       "      <td>13.000000</td>\n",
       "    </tr>\n",
       "    <tr>\n",
       "      <td>25%</td>\n",
       "      <td>2003.000000</td>\n",
       "      <td>0.000000</td>\n",
       "      <td>0.000000</td>\n",
       "      <td>0.000000</td>\n",
       "      <td>0.000000</td>\n",
       "      <td>60.000000</td>\n",
       "    </tr>\n",
       "    <tr>\n",
       "      <td>50%</td>\n",
       "      <td>2007.000000</td>\n",
       "      <td>0.080000</td>\n",
       "      <td>0.020000</td>\n",
       "      <td>0.000000</td>\n",
       "      <td>0.010000</td>\n",
       "      <td>71.000000</td>\n",
       "    </tr>\n",
       "    <tr>\n",
       "      <td>75%</td>\n",
       "      <td>2010.000000</td>\n",
       "      <td>0.240000</td>\n",
       "      <td>0.110000</td>\n",
       "      <td>0.040000</td>\n",
       "      <td>0.030000</td>\n",
       "      <td>79.000000</td>\n",
       "    </tr>\n",
       "    <tr>\n",
       "      <td>max</td>\n",
       "      <td>2016.000000</td>\n",
       "      <td>41.360000</td>\n",
       "      <td>28.960000</td>\n",
       "      <td>10.220000</td>\n",
       "      <td>10.570000</td>\n",
       "      <td>98.000000</td>\n",
       "    </tr>\n",
       "  </tbody>\n",
       "</table>\n",
       "</div>"
      ],
      "text/plain": [
       "       Year_of_Release      NA_sales      EU_sales      JP_sales  \\\n",
       "count     16446.000000  16715.000000  16715.000000  16715.000000   \n",
       "mean       2006.484616      0.263377      0.145060      0.077617   \n",
       "std           5.877050      0.813604      0.503339      0.308853   \n",
       "min        1980.000000      0.000000      0.000000      0.000000   \n",
       "25%        2003.000000      0.000000      0.000000      0.000000   \n",
       "50%        2007.000000      0.080000      0.020000      0.000000   \n",
       "75%        2010.000000      0.240000      0.110000      0.040000   \n",
       "max        2016.000000     41.360000     28.960000     10.220000   \n",
       "\n",
       "        Other_sales  Critic_Score  \n",
       "count  16715.000000   8137.000000  \n",
       "mean       0.047342     68.967679  \n",
       "std        0.186731     13.938165  \n",
       "min        0.000000     13.000000  \n",
       "25%        0.000000     60.000000  \n",
       "50%        0.010000     71.000000  \n",
       "75%        0.030000     79.000000  \n",
       "max       10.570000     98.000000  "
      ]
     },
     "execution_count": 4,
     "metadata": {},
     "output_type": "execute_result"
    }
   ],
   "source": [
    "df.describe()"
   ]
  },
  {
   "cell_type": "markdown",
   "metadata": {},
   "source": [
    "Видим, что мin год у нас 1980, а max 2016. В других колонках данные тоже в нормальных пределах, аномалий нет."
   ]
  },
  {
   "cell_type": "code",
   "execution_count": 5,
   "metadata": {
    "scrolled": false
   },
   "outputs": [
    {
     "name": "stdout",
     "output_type": "stream",
     "text": [
      "<class 'pandas.core.frame.DataFrame'>\n",
      "RangeIndex: 16715 entries, 0 to 16714\n",
      "Data columns (total 11 columns):\n",
      "Name               16713 non-null object\n",
      "Platform           16715 non-null object\n",
      "Year_of_Release    16446 non-null float64\n",
      "Genre              16713 non-null object\n",
      "NA_sales           16715 non-null float64\n",
      "EU_sales           16715 non-null float64\n",
      "JP_sales           16715 non-null float64\n",
      "Other_sales        16715 non-null float64\n",
      "Critic_Score       8137 non-null float64\n",
      "User_Score         10014 non-null object\n",
      "Rating             9949 non-null object\n",
      "dtypes: float64(6), object(5)\n",
      "memory usage: 1.4+ MB\n"
     ]
    }
   ],
   "source": [
    "df.info()"
   ]
  },
  {
   "cell_type": "code",
   "execution_count": 6,
   "metadata": {},
   "outputs": [
    {
     "data": {
      "text/plain": [
       "Name               0.000120\n",
       "Platform           0.000000\n",
       "Year_of_Release    0.016093\n",
       "Genre              0.000120\n",
       "NA_sales           0.000000\n",
       "EU_sales           0.000000\n",
       "JP_sales           0.000000\n",
       "Other_sales        0.000000\n",
       "Critic_Score       0.513192\n",
       "User_Score         0.400897\n",
       "Rating             0.404786\n",
       "dtype: float64"
      ]
     },
     "execution_count": 6,
     "metadata": {},
     "output_type": "execute_result"
    }
   ],
   "source": [
    "df.isna().mean()"
   ]
  },
  {
   "cell_type": "markdown",
   "metadata": {},
   "source": [
    "# Вывод\n",
    "\n",
    "После того как прочитали файл мы видим следующее:\n",
    "- Видим пропуски в таблице.\n",
    "- Видим столбцы с разным регистром в названии.\n",
    "- Видим у столбца \"User_Score\" тип данных object когда там числа.\n",
    "- Видим в столбцах числа с плавающей точкой."
   ]
  },
  {
   "cell_type": "markdown",
   "metadata": {},
   "source": [
    "## Предобработка данных."
   ]
  },
  {
   "cell_type": "markdown",
   "metadata": {},
   "source": [
    "Приведем название столбзов к нижнему регистру."
   ]
  },
  {
   "cell_type": "code",
   "execution_count": 7,
   "metadata": {},
   "outputs": [],
   "source": [
    "df.columns = df.columns.str.lower()"
   ]
  },
  {
   "cell_type": "markdown",
   "metadata": {},
   "source": [
    "Будем заменять пропуски в данных. Посмотрим на столбец name."
   ]
  },
  {
   "cell_type": "code",
   "execution_count": 8,
   "metadata": {},
   "outputs": [
    {
     "data": {
      "text/html": [
       "<div>\n",
       "<style scoped>\n",
       "    .dataframe tbody tr th:only-of-type {\n",
       "        vertical-align: middle;\n",
       "    }\n",
       "\n",
       "    .dataframe tbody tr th {\n",
       "        vertical-align: top;\n",
       "    }\n",
       "\n",
       "    .dataframe thead th {\n",
       "        text-align: right;\n",
       "    }\n",
       "</style>\n",
       "<table border=\"1\" class=\"dataframe\">\n",
       "  <thead>\n",
       "    <tr style=\"text-align: right;\">\n",
       "      <th></th>\n",
       "      <th>name</th>\n",
       "      <th>platform</th>\n",
       "      <th>year_of_release</th>\n",
       "      <th>genre</th>\n",
       "      <th>na_sales</th>\n",
       "      <th>eu_sales</th>\n",
       "      <th>jp_sales</th>\n",
       "      <th>other_sales</th>\n",
       "      <th>critic_score</th>\n",
       "      <th>user_score</th>\n",
       "      <th>rating</th>\n",
       "    </tr>\n",
       "  </thead>\n",
       "  <tbody>\n",
       "    <tr>\n",
       "      <td>659</td>\n",
       "      <td>NaN</td>\n",
       "      <td>GEN</td>\n",
       "      <td>1993.0</td>\n",
       "      <td>NaN</td>\n",
       "      <td>1.78</td>\n",
       "      <td>0.53</td>\n",
       "      <td>0.00</td>\n",
       "      <td>0.08</td>\n",
       "      <td>NaN</td>\n",
       "      <td>NaN</td>\n",
       "      <td>NaN</td>\n",
       "    </tr>\n",
       "    <tr>\n",
       "      <td>14244</td>\n",
       "      <td>NaN</td>\n",
       "      <td>GEN</td>\n",
       "      <td>1993.0</td>\n",
       "      <td>NaN</td>\n",
       "      <td>0.00</td>\n",
       "      <td>0.00</td>\n",
       "      <td>0.03</td>\n",
       "      <td>0.00</td>\n",
       "      <td>NaN</td>\n",
       "      <td>NaN</td>\n",
       "      <td>NaN</td>\n",
       "    </tr>\n",
       "  </tbody>\n",
       "</table>\n",
       "</div>"
      ],
      "text/plain": [
       "      name platform  year_of_release genre  na_sales  eu_sales  jp_sales  \\\n",
       "659    NaN      GEN           1993.0   NaN      1.78      0.53      0.00   \n",
       "14244  NaN      GEN           1993.0   NaN      0.00      0.00      0.03   \n",
       "\n",
       "       other_sales  critic_score user_score rating  \n",
       "659           0.08           NaN        NaN    NaN  \n",
       "14244         0.00           NaN        NaN    NaN  "
      ]
     },
     "execution_count": 8,
     "metadata": {},
     "output_type": "execute_result"
    }
   ],
   "source": [
    "df[df.name.isna()]"
   ]
  },
  {
   "cell_type": "code",
   "execution_count": 9,
   "metadata": {},
   "outputs": [
    {
     "data": {
      "text/plain": [
       "0"
      ]
     },
     "execution_count": 9,
     "metadata": {},
     "output_type": "execute_result"
    }
   ],
   "source": [
    "df.duplicated().sum()"
   ]
  },
  {
   "cell_type": "code",
   "execution_count": 10,
   "metadata": {},
   "outputs": [
    {
     "data": {
      "text/plain": [
       "name               0.000120\n",
       "platform           0.000000\n",
       "year_of_release    0.016093\n",
       "genre              0.000120\n",
       "na_sales           0.000000\n",
       "eu_sales           0.000000\n",
       "jp_sales           0.000000\n",
       "other_sales        0.000000\n",
       "critic_score       0.513192\n",
       "user_score         0.400897\n",
       "rating             0.404786\n",
       "dtype: float64"
      ]
     },
     "execution_count": 10,
     "metadata": {},
     "output_type": "execute_result"
    }
   ],
   "source": [
    "df.isna().mean()"
   ]
  },
  {
   "cell_type": "markdown",
   "metadata": {},
   "source": [
    "ДУбликатов в этой таблице нет. Образование пропусков полностью случайные, т.к. вероятность встретить такой пропуск не зависит от других значений. Можно конечно заменить пропуски на 0 и unknown, но я удалю эти 2 строчки т.к. среди всех строк это меньше 1%, а среди платформы GEN это примерно 7% и данных у этих строк нет, значит удаляя эти строки я не теряю особо информацию. Правильно конечно было бы запросить инфу у тех кто выгружал данные."
   ]
  },
  {
   "cell_type": "code",
   "execution_count": 11,
   "metadata": {},
   "outputs": [],
   "source": [
    "df.dropna(subset=['name'], inplace=True)"
   ]
  },
  {
   "cell_type": "code",
   "execution_count": 12,
   "metadata": {},
   "outputs": [
    {
     "data": {
      "text/plain": [
       "name               0.000000\n",
       "platform           0.000000\n",
       "year_of_release    0.016095\n",
       "genre              0.000000\n",
       "na_sales           0.000000\n",
       "eu_sales           0.000000\n",
       "jp_sales           0.000000\n",
       "other_sales        0.000000\n",
       "critic_score       0.513133\n",
       "user_score         0.400826\n",
       "rating             0.404715\n",
       "dtype: float64"
      ]
     },
     "execution_count": 12,
     "metadata": {},
     "output_type": "execute_result"
    }
   ],
   "source": [
    "df.isna().mean()"
   ]
  },
  {
   "cell_type": "markdown",
   "metadata": {},
   "source": [
    "Изменим типы данных. Но прежде чем изменить тип данных разберем проблему в столбце \"user_score\", точнее оценку пользователей \"tbd\". TBD - в скором времени анонсируют. Когда разработчик той или иной игры уже сообщил о том, что она готовится к выходу, но пока еще не может назвать точную дату, именно это сокращение и используется.  \n",
    "\n",
    "Имея эту инфу можно сделат вывод, что игра еще не анонсирована и знчаит можно заменить эти значения на NaN, так как нам надо перевести тип данных в этом столбце на числа. Сделаю еще й столбец который сохранит в этих стоках значение \"tbd\" для того, чтобы значть какие игры были еще не анонсированы, вдруг эта инфа пригодится.\n",
    "\n",
    "0 означает, что игра не анонсирована и у нее еще нет рейтинга."
   ]
  },
  {
   "cell_type": "code",
   "execution_count": 13,
   "metadata": {},
   "outputs": [],
   "source": [
    "def new_table(df):\n",
    "    if df['user_score'] == 'tbd':\n",
    "        return 'tbd'\n",
    "    return 'announced'"
   ]
  },
  {
   "cell_type": "code",
   "execution_count": 14,
   "metadata": {},
   "outputs": [],
   "source": [
    "df['games_announced'] = df.apply(new_table, axis=1)"
   ]
  },
  {
   "cell_type": "markdown",
   "metadata": {},
   "source": [
    "Теперь заменим \"tbd\" на NaN, т.к. игра еще не вышла и там будет пустое значение."
   ]
  },
  {
   "cell_type": "code",
   "execution_count": 15,
   "metadata": {},
   "outputs": [
    {
     "data": {
      "text/plain": [
       "name               0.000000\n",
       "platform           0.000000\n",
       "year_of_release    0.016095\n",
       "genre              0.000000\n",
       "na_sales           0.000000\n",
       "eu_sales           0.000000\n",
       "jp_sales           0.000000\n",
       "other_sales        0.000000\n",
       "critic_score       0.513133\n",
       "user_score         0.400826\n",
       "rating             0.404715\n",
       "games_announced    0.000000\n",
       "dtype: float64"
      ]
     },
     "execution_count": 15,
     "metadata": {},
     "output_type": "execute_result"
    }
   ],
   "source": [
    "df.isna().mean()"
   ]
  },
  {
   "cell_type": "code",
   "execution_count": 16,
   "metadata": {},
   "outputs": [],
   "source": [
    "df.user_score = df.user_score.replace('tbd', np.nan)"
   ]
  },
  {
   "cell_type": "markdown",
   "metadata": {},
   "source": [
    "В столбце \"year_of_release\" пропуски заменять не будем, т.к. даных с пропусками меньше 1% и результат это не повлияет.  \n",
    "Изменим тип данных в \"user_score\" на число с плавающей точкой. Остальное оставим без изменения."
   ]
  },
  {
   "cell_type": "code",
   "execution_count": 17,
   "metadata": {},
   "outputs": [],
   "source": [
    "df.user_score = pd.to_numeric(df.user_score, errors='coerce')"
   ]
  },
  {
   "cell_type": "markdown",
   "metadata": {},
   "source": [
    "Остались пропуски.\n",
    "\n",
    "Пропусков в \"critic_score\" 51%. Если их заменить на среднее или медиану, то это сильно отразится на результате. По этому раз там нет значения, значит так и оставим, что бы не искажать данные.\n",
    "Тоже сделаем и для \"user_score\" и столбца \"rating\"."
   ]
  },
  {
   "cell_type": "markdown",
   "metadata": {},
   "source": [
    "Подсчитаем суммарные продажи."
   ]
  },
  {
   "cell_type": "code",
   "execution_count": 18,
   "metadata": {},
   "outputs": [],
   "source": [
    "df['all_sales'] = df.na_sales + df.eu_sales + df.jp_sales + df.other_sales"
   ]
  },
  {
   "cell_type": "markdown",
   "metadata": {},
   "source": [
    "Посмотрим на рейтинг ESBR"
   ]
  },
  {
   "cell_type": "code",
   "execution_count": 19,
   "metadata": {},
   "outputs": [
    {
     "data": {
      "text/plain": [
       "array(['E', nan, 'M', 'T', 'E10+', 'K-A', 'AO', 'EC', 'RP'], dtype=object)"
      ]
     },
     "execution_count": 19,
     "metadata": {},
     "output_type": "execute_result"
    }
   ],
   "source": [
    "df.rating.unique()"
   ]
  },
  {
   "cell_type": "markdown",
   "metadata": {},
   "source": [
    "Видим рейтинг \"К-А\", его заменили на рейтинг \"Е\" после 1998 года. Посмотрим сколько игр с этим рейтингом."
   ]
  },
  {
   "cell_type": "code",
   "execution_count": 20,
   "metadata": {},
   "outputs": [
    {
     "data": {
      "text/html": [
       "<div>\n",
       "<style scoped>\n",
       "    .dataframe tbody tr th:only-of-type {\n",
       "        vertical-align: middle;\n",
       "    }\n",
       "\n",
       "    .dataframe tbody tr th {\n",
       "        vertical-align: top;\n",
       "    }\n",
       "\n",
       "    .dataframe thead th {\n",
       "        text-align: right;\n",
       "    }\n",
       "</style>\n",
       "<table border=\"1\" class=\"dataframe\">\n",
       "  <thead>\n",
       "    <tr style=\"text-align: right;\">\n",
       "      <th></th>\n",
       "      <th>name</th>\n",
       "      <th>platform</th>\n",
       "      <th>year_of_release</th>\n",
       "      <th>genre</th>\n",
       "      <th>na_sales</th>\n",
       "      <th>eu_sales</th>\n",
       "      <th>jp_sales</th>\n",
       "      <th>other_sales</th>\n",
       "      <th>critic_score</th>\n",
       "      <th>user_score</th>\n",
       "      <th>rating</th>\n",
       "      <th>games_announced</th>\n",
       "      <th>all_sales</th>\n",
       "    </tr>\n",
       "  </thead>\n",
       "  <tbody>\n",
       "    <tr>\n",
       "      <td>656</td>\n",
       "      <td>Theme Hospital</td>\n",
       "      <td>PC</td>\n",
       "      <td>1997.0</td>\n",
       "      <td>Strategy</td>\n",
       "      <td>2.30</td>\n",
       "      <td>0.10</td>\n",
       "      <td>0.00</td>\n",
       "      <td>0.00</td>\n",
       "      <td>NaN</td>\n",
       "      <td>9.0</td>\n",
       "      <td>K-A</td>\n",
       "      <td>announced</td>\n",
       "      <td>2.40</td>\n",
       "    </tr>\n",
       "    <tr>\n",
       "      <td>903</td>\n",
       "      <td>PaRappa The Rapper</td>\n",
       "      <td>PS</td>\n",
       "      <td>1996.0</td>\n",
       "      <td>Misc</td>\n",
       "      <td>0.26</td>\n",
       "      <td>0.16</td>\n",
       "      <td>1.46</td>\n",
       "      <td>0.03</td>\n",
       "      <td>92.0</td>\n",
       "      <td>7.4</td>\n",
       "      <td>K-A</td>\n",
       "      <td>announced</td>\n",
       "      <td>1.91</td>\n",
       "    </tr>\n",
       "    <tr>\n",
       "      <td>16681</td>\n",
       "      <td>Worms 2</td>\n",
       "      <td>PC</td>\n",
       "      <td>1997.0</td>\n",
       "      <td>Strategy</td>\n",
       "      <td>0.00</td>\n",
       "      <td>0.01</td>\n",
       "      <td>0.00</td>\n",
       "      <td>0.00</td>\n",
       "      <td>NaN</td>\n",
       "      <td>8.1</td>\n",
       "      <td>K-A</td>\n",
       "      <td>announced</td>\n",
       "      <td>0.01</td>\n",
       "    </tr>\n",
       "  </tbody>\n",
       "</table>\n",
       "</div>"
      ],
      "text/plain": [
       "                     name platform  year_of_release     genre  na_sales  \\\n",
       "656        Theme Hospital       PC           1997.0  Strategy      2.30   \n",
       "903    PaRappa The Rapper       PS           1996.0      Misc      0.26   \n",
       "16681             Worms 2       PC           1997.0  Strategy      0.00   \n",
       "\n",
       "       eu_sales  jp_sales  other_sales  critic_score  user_score rating  \\\n",
       "656        0.10      0.00         0.00           NaN         9.0    K-A   \n",
       "903        0.16      1.46         0.03          92.0         7.4    K-A   \n",
       "16681      0.01      0.00         0.00           NaN         8.1    K-A   \n",
       "\n",
       "      games_announced  all_sales  \n",
       "656         announced       2.40  \n",
       "903         announced       1.91  \n",
       "16681       announced       0.01  "
      ]
     },
     "execution_count": 20,
     "metadata": {},
     "output_type": "execute_result"
    }
   ],
   "source": [
    "df[df.rating == \"K-A\"]"
   ]
  },
  {
   "cell_type": "markdown",
   "metadata": {},
   "source": [
    "Видно, что рейтинг игр \"К-А\" всего 3 шт. Для удобства можно заменить этот рейтинг на общепринятный после 1998 года."
   ]
  },
  {
   "cell_type": "code",
   "execution_count": 21,
   "metadata": {},
   "outputs": [],
   "source": [
    "df['rating'] = df['rating'].replace('K-A', 'E')"
   ]
  },
  {
   "cell_type": "markdown",
   "metadata": {},
   "source": [
    "# Вывод:\n",
    "\n",
    "- Привели название столбцов к нижнему регистру.\n",
    "- Изменили тип данных в столбеце \"user_score\".\n",
    "- Пропуски с годами оставили без изменения\n",
    "- \"tbd\" - это рейтинг игр которые еще не анонсированы, заменил их на NaN.\n",
    "- Удалил 2 строчки которые не имеют вообще нужной нам инфы, только год написан и продажи, так, что эти строчки бесполезны.\n",
    "- Подсчитал суммарные продажи.\n",
    "- Заменили рейтинг игр \"Е-А\" на общепринятный рейтинг после 1998 года \"Е\" для удобства работы с данными."
   ]
  },
  {
   "cell_type": "markdown",
   "metadata": {},
   "source": [
    "## Проведем исследовательский анализ данных"
   ]
  },
  {
   "cell_type": "markdown",
   "metadata": {},
   "source": [
    "### Посмотрим, сколько игр выпускалось в разные годы."
   ]
  },
  {
   "cell_type": "code",
   "execution_count": 22,
   "metadata": {},
   "outputs": [],
   "source": [
    "all_game_years_number = df.pivot_table(index='year_of_release',\n",
    "                                values='name',\n",
    "                                aggfunc='count')"
   ]
  },
  {
   "cell_type": "code",
   "execution_count": 23,
   "metadata": {},
   "outputs": [],
   "source": [
    "all_game_years_number.sort_values('year_of_release', ascending=False, inplace=True)"
   ]
  },
  {
   "cell_type": "code",
   "execution_count": 24,
   "metadata": {},
   "outputs": [
    {
     "data": {
      "application/vnd.plotly.v1+json": {
       "config": {
        "linkText": "Export to plot.ly",
        "plotlyServerURL": "https://plot.ly",
        "showLink": false
       },
       "data": [
        {
         "name": "Global Sales",
         "type": "bar",
         "x": [
          2016,
          2015,
          2014,
          2013,
          2012,
          2011,
          2010,
          2009,
          2008,
          2007,
          2006,
          2005,
          2004,
          2003,
          2002,
          2001,
          2000,
          1999,
          1998,
          1997,
          1996,
          1995,
          1994,
          1993,
          1992,
          1991,
          1990,
          1989,
          1988,
          1987,
          1986,
          1985,
          1984,
          1983,
          1982,
          1981,
          1980
         ],
         "y": [
          502,
          606,
          581,
          544,
          653,
          1136,
          1255,
          1426,
          1427,
          1197,
          1006,
          939,
          762,
          775,
          829,
          482,
          350,
          338,
          379,
          289,
          263,
          219,
          121,
          60,
          43,
          41,
          16,
          17,
          15,
          16,
          21,
          14,
          14,
          17,
          36,
          46,
          9
         ]
        }
       ],
       "layout": {
        "template": {
         "data": {
          "bar": [
           {
            "error_x": {
             "color": "#2a3f5f"
            },
            "error_y": {
             "color": "#2a3f5f"
            },
            "marker": {
             "line": {
              "color": "#E5ECF6",
              "width": 0.5
             },
             "pattern": {
              "fillmode": "overlay",
              "size": 10,
              "solidity": 0.2
             }
            },
            "type": "bar"
           }
          ],
          "barpolar": [
           {
            "marker": {
             "line": {
              "color": "#E5ECF6",
              "width": 0.5
             },
             "pattern": {
              "fillmode": "overlay",
              "size": 10,
              "solidity": 0.2
             }
            },
            "type": "barpolar"
           }
          ],
          "carpet": [
           {
            "aaxis": {
             "endlinecolor": "#2a3f5f",
             "gridcolor": "white",
             "linecolor": "white",
             "minorgridcolor": "white",
             "startlinecolor": "#2a3f5f"
            },
            "baxis": {
             "endlinecolor": "#2a3f5f",
             "gridcolor": "white",
             "linecolor": "white",
             "minorgridcolor": "white",
             "startlinecolor": "#2a3f5f"
            },
            "type": "carpet"
           }
          ],
          "choropleth": [
           {
            "colorbar": {
             "outlinewidth": 0,
             "ticks": ""
            },
            "type": "choropleth"
           }
          ],
          "contour": [
           {
            "colorbar": {
             "outlinewidth": 0,
             "ticks": ""
            },
            "colorscale": [
             [
              0,
              "#0d0887"
             ],
             [
              0.1111111111111111,
              "#46039f"
             ],
             [
              0.2222222222222222,
              "#7201a8"
             ],
             [
              0.3333333333333333,
              "#9c179e"
             ],
             [
              0.4444444444444444,
              "#bd3786"
             ],
             [
              0.5555555555555556,
              "#d8576b"
             ],
             [
              0.6666666666666666,
              "#ed7953"
             ],
             [
              0.7777777777777778,
              "#fb9f3a"
             ],
             [
              0.8888888888888888,
              "#fdca26"
             ],
             [
              1,
              "#f0f921"
             ]
            ],
            "type": "contour"
           }
          ],
          "contourcarpet": [
           {
            "colorbar": {
             "outlinewidth": 0,
             "ticks": ""
            },
            "type": "contourcarpet"
           }
          ],
          "heatmap": [
           {
            "colorbar": {
             "outlinewidth": 0,
             "ticks": ""
            },
            "colorscale": [
             [
              0,
              "#0d0887"
             ],
             [
              0.1111111111111111,
              "#46039f"
             ],
             [
              0.2222222222222222,
              "#7201a8"
             ],
             [
              0.3333333333333333,
              "#9c179e"
             ],
             [
              0.4444444444444444,
              "#bd3786"
             ],
             [
              0.5555555555555556,
              "#d8576b"
             ],
             [
              0.6666666666666666,
              "#ed7953"
             ],
             [
              0.7777777777777778,
              "#fb9f3a"
             ],
             [
              0.8888888888888888,
              "#fdca26"
             ],
             [
              1,
              "#f0f921"
             ]
            ],
            "type": "heatmap"
           }
          ],
          "heatmapgl": [
           {
            "colorbar": {
             "outlinewidth": 0,
             "ticks": ""
            },
            "colorscale": [
             [
              0,
              "#0d0887"
             ],
             [
              0.1111111111111111,
              "#46039f"
             ],
             [
              0.2222222222222222,
              "#7201a8"
             ],
             [
              0.3333333333333333,
              "#9c179e"
             ],
             [
              0.4444444444444444,
              "#bd3786"
             ],
             [
              0.5555555555555556,
              "#d8576b"
             ],
             [
              0.6666666666666666,
              "#ed7953"
             ],
             [
              0.7777777777777778,
              "#fb9f3a"
             ],
             [
              0.8888888888888888,
              "#fdca26"
             ],
             [
              1,
              "#f0f921"
             ]
            ],
            "type": "heatmapgl"
           }
          ],
          "histogram": [
           {
            "marker": {
             "pattern": {
              "fillmode": "overlay",
              "size": 10,
              "solidity": 0.2
             }
            },
            "type": "histogram"
           }
          ],
          "histogram2d": [
           {
            "colorbar": {
             "outlinewidth": 0,
             "ticks": ""
            },
            "colorscale": [
             [
              0,
              "#0d0887"
             ],
             [
              0.1111111111111111,
              "#46039f"
             ],
             [
              0.2222222222222222,
              "#7201a8"
             ],
             [
              0.3333333333333333,
              "#9c179e"
             ],
             [
              0.4444444444444444,
              "#bd3786"
             ],
             [
              0.5555555555555556,
              "#d8576b"
             ],
             [
              0.6666666666666666,
              "#ed7953"
             ],
             [
              0.7777777777777778,
              "#fb9f3a"
             ],
             [
              0.8888888888888888,
              "#fdca26"
             ],
             [
              1,
              "#f0f921"
             ]
            ],
            "type": "histogram2d"
           }
          ],
          "histogram2dcontour": [
           {
            "colorbar": {
             "outlinewidth": 0,
             "ticks": ""
            },
            "colorscale": [
             [
              0,
              "#0d0887"
             ],
             [
              0.1111111111111111,
              "#46039f"
             ],
             [
              0.2222222222222222,
              "#7201a8"
             ],
             [
              0.3333333333333333,
              "#9c179e"
             ],
             [
              0.4444444444444444,
              "#bd3786"
             ],
             [
              0.5555555555555556,
              "#d8576b"
             ],
             [
              0.6666666666666666,
              "#ed7953"
             ],
             [
              0.7777777777777778,
              "#fb9f3a"
             ],
             [
              0.8888888888888888,
              "#fdca26"
             ],
             [
              1,
              "#f0f921"
             ]
            ],
            "type": "histogram2dcontour"
           }
          ],
          "mesh3d": [
           {
            "colorbar": {
             "outlinewidth": 0,
             "ticks": ""
            },
            "type": "mesh3d"
           }
          ],
          "parcoords": [
           {
            "line": {
             "colorbar": {
              "outlinewidth": 0,
              "ticks": ""
             }
            },
            "type": "parcoords"
           }
          ],
          "pie": [
           {
            "automargin": true,
            "type": "pie"
           }
          ],
          "scatter": [
           {
            "marker": {
             "colorbar": {
              "outlinewidth": 0,
              "ticks": ""
             }
            },
            "type": "scatter"
           }
          ],
          "scatter3d": [
           {
            "line": {
             "colorbar": {
              "outlinewidth": 0,
              "ticks": ""
             }
            },
            "marker": {
             "colorbar": {
              "outlinewidth": 0,
              "ticks": ""
             }
            },
            "type": "scatter3d"
           }
          ],
          "scattercarpet": [
           {
            "marker": {
             "colorbar": {
              "outlinewidth": 0,
              "ticks": ""
             }
            },
            "type": "scattercarpet"
           }
          ],
          "scattergeo": [
           {
            "marker": {
             "colorbar": {
              "outlinewidth": 0,
              "ticks": ""
             }
            },
            "type": "scattergeo"
           }
          ],
          "scattergl": [
           {
            "marker": {
             "colorbar": {
              "outlinewidth": 0,
              "ticks": ""
             }
            },
            "type": "scattergl"
           }
          ],
          "scattermapbox": [
           {
            "marker": {
             "colorbar": {
              "outlinewidth": 0,
              "ticks": ""
             }
            },
            "type": "scattermapbox"
           }
          ],
          "scatterpolar": [
           {
            "marker": {
             "colorbar": {
              "outlinewidth": 0,
              "ticks": ""
             }
            },
            "type": "scatterpolar"
           }
          ],
          "scatterpolargl": [
           {
            "marker": {
             "colorbar": {
              "outlinewidth": 0,
              "ticks": ""
             }
            },
            "type": "scatterpolargl"
           }
          ],
          "scatterternary": [
           {
            "marker": {
             "colorbar": {
              "outlinewidth": 0,
              "ticks": ""
             }
            },
            "type": "scatterternary"
           }
          ],
          "surface": [
           {
            "colorbar": {
             "outlinewidth": 0,
             "ticks": ""
            },
            "colorscale": [
             [
              0,
              "#0d0887"
             ],
             [
              0.1111111111111111,
              "#46039f"
             ],
             [
              0.2222222222222222,
              "#7201a8"
             ],
             [
              0.3333333333333333,
              "#9c179e"
             ],
             [
              0.4444444444444444,
              "#bd3786"
             ],
             [
              0.5555555555555556,
              "#d8576b"
             ],
             [
              0.6666666666666666,
              "#ed7953"
             ],
             [
              0.7777777777777778,
              "#fb9f3a"
             ],
             [
              0.8888888888888888,
              "#fdca26"
             ],
             [
              1,
              "#f0f921"
             ]
            ],
            "type": "surface"
           }
          ],
          "table": [
           {
            "cells": {
             "fill": {
              "color": "#EBF0F8"
             },
             "line": {
              "color": "white"
             }
            },
            "header": {
             "fill": {
              "color": "#C8D4E3"
             },
             "line": {
              "color": "white"
             }
            },
            "type": "table"
           }
          ]
         },
         "layout": {
          "annotationdefaults": {
           "arrowcolor": "#2a3f5f",
           "arrowhead": 0,
           "arrowwidth": 1
          },
          "autotypenumbers": "strict",
          "coloraxis": {
           "colorbar": {
            "outlinewidth": 0,
            "ticks": ""
           }
          },
          "colorscale": {
           "diverging": [
            [
             0,
             "#8e0152"
            ],
            [
             0.1,
             "#c51b7d"
            ],
            [
             0.2,
             "#de77ae"
            ],
            [
             0.3,
             "#f1b6da"
            ],
            [
             0.4,
             "#fde0ef"
            ],
            [
             0.5,
             "#f7f7f7"
            ],
            [
             0.6,
             "#e6f5d0"
            ],
            [
             0.7,
             "#b8e186"
            ],
            [
             0.8,
             "#7fbc41"
            ],
            [
             0.9,
             "#4d9221"
            ],
            [
             1,
             "#276419"
            ]
           ],
           "sequential": [
            [
             0,
             "#0d0887"
            ],
            [
             0.1111111111111111,
             "#46039f"
            ],
            [
             0.2222222222222222,
             "#7201a8"
            ],
            [
             0.3333333333333333,
             "#9c179e"
            ],
            [
             0.4444444444444444,
             "#bd3786"
            ],
            [
             0.5555555555555556,
             "#d8576b"
            ],
            [
             0.6666666666666666,
             "#ed7953"
            ],
            [
             0.7777777777777778,
             "#fb9f3a"
            ],
            [
             0.8888888888888888,
             "#fdca26"
            ],
            [
             1,
             "#f0f921"
            ]
           ],
           "sequentialminus": [
            [
             0,
             "#0d0887"
            ],
            [
             0.1111111111111111,
             "#46039f"
            ],
            [
             0.2222222222222222,
             "#7201a8"
            ],
            [
             0.3333333333333333,
             "#9c179e"
            ],
            [
             0.4444444444444444,
             "#bd3786"
            ],
            [
             0.5555555555555556,
             "#d8576b"
            ],
            [
             0.6666666666666666,
             "#ed7953"
            ],
            [
             0.7777777777777778,
             "#fb9f3a"
            ],
            [
             0.8888888888888888,
             "#fdca26"
            ],
            [
             1,
             "#f0f921"
            ]
           ]
          },
          "colorway": [
           "#636efa",
           "#EF553B",
           "#00cc96",
           "#ab63fa",
           "#FFA15A",
           "#19d3f3",
           "#FF6692",
           "#B6E880",
           "#FF97FF",
           "#FECB52"
          ],
          "font": {
           "color": "#2a3f5f"
          },
          "geo": {
           "bgcolor": "white",
           "lakecolor": "white",
           "landcolor": "#E5ECF6",
           "showlakes": true,
           "showland": true,
           "subunitcolor": "white"
          },
          "hoverlabel": {
           "align": "left"
          },
          "hovermode": "closest",
          "mapbox": {
           "style": "light"
          },
          "paper_bgcolor": "white",
          "plot_bgcolor": "#E5ECF6",
          "polar": {
           "angularaxis": {
            "gridcolor": "white",
            "linecolor": "white",
            "ticks": ""
           },
           "bgcolor": "#E5ECF6",
           "radialaxis": {
            "gridcolor": "white",
            "linecolor": "white",
            "ticks": ""
           }
          },
          "scene": {
           "xaxis": {
            "backgroundcolor": "#E5ECF6",
            "gridcolor": "white",
            "gridwidth": 2,
            "linecolor": "white",
            "showbackground": true,
            "ticks": "",
            "zerolinecolor": "white"
           },
           "yaxis": {
            "backgroundcolor": "#E5ECF6",
            "gridcolor": "white",
            "gridwidth": 2,
            "linecolor": "white",
            "showbackground": true,
            "ticks": "",
            "zerolinecolor": "white"
           },
           "zaxis": {
            "backgroundcolor": "#E5ECF6",
            "gridcolor": "white",
            "gridwidth": 2,
            "linecolor": "white",
            "showbackground": true,
            "ticks": "",
            "zerolinecolor": "white"
           }
          },
          "shapedefaults": {
           "line": {
            "color": "#2a3f5f"
           }
          },
          "ternary": {
           "aaxis": {
            "gridcolor": "white",
            "linecolor": "white",
            "ticks": ""
           },
           "baxis": {
            "gridcolor": "white",
            "linecolor": "white",
            "ticks": ""
           },
           "bgcolor": "#E5ECF6",
           "caxis": {
            "gridcolor": "white",
            "linecolor": "white",
            "ticks": ""
           }
          },
          "title": {
           "x": 0.05
          },
          "xaxis": {
           "automargin": true,
           "gridcolor": "white",
           "linecolor": "white",
           "ticks": "",
           "title": {
            "standoff": 15
           },
           "zerolinecolor": "white",
           "zerolinewidth": 2
          },
          "yaxis": {
           "automargin": true,
           "gridcolor": "white",
           "linecolor": "white",
           "ticks": "",
           "title": {
            "standoff": 15
           },
           "zerolinecolor": "white",
           "zerolinewidth": 2
          }
         }
        },
        "title": {
         "text": "График игр по годам"
        },
        "xaxis": {
         "title": {
          "text": "Года"
         }
        },
        "yaxis": {
         "title": {
          "text": "Количество игр (шт)"
         }
        }
       }
      },
      "text/html": [
       "<div>                            <div id=\"f9f3c48d-9edb-4f95-acb3-746a3b6e77c4\" class=\"plotly-graph-div\" style=\"height:525px; width:100%;\"></div>            <script type=\"text/javascript\">                require([\"plotly\"], function(Plotly) {                    window.PLOTLYENV=window.PLOTLYENV || {};                                    if (document.getElementById(\"f9f3c48d-9edb-4f95-acb3-746a3b6e77c4\")) {                    Plotly.newPlot(                        \"f9f3c48d-9edb-4f95-acb3-746a3b6e77c4\",                        [{\"name\":\"Global Sales\",\"type\":\"bar\",\"x\":[2016.0,2015.0,2014.0,2013.0,2012.0,2011.0,2010.0,2009.0,2008.0,2007.0,2006.0,2005.0,2004.0,2003.0,2002.0,2001.0,2000.0,1999.0,1998.0,1997.0,1996.0,1995.0,1994.0,1993.0,1992.0,1991.0,1990.0,1989.0,1988.0,1987.0,1986.0,1985.0,1984.0,1983.0,1982.0,1981.0,1980.0],\"y\":[502,606,581,544,653,1136,1255,1426,1427,1197,1006,939,762,775,829,482,350,338,379,289,263,219,121,60,43,41,16,17,15,16,21,14,14,17,36,46,9]}],                        {\"template\":{\"data\":{\"bar\":[{\"error_x\":{\"color\":\"#2a3f5f\"},\"error_y\":{\"color\":\"#2a3f5f\"},\"marker\":{\"line\":{\"color\":\"#E5ECF6\",\"width\":0.5},\"pattern\":{\"fillmode\":\"overlay\",\"size\":10,\"solidity\":0.2}},\"type\":\"bar\"}],\"barpolar\":[{\"marker\":{\"line\":{\"color\":\"#E5ECF6\",\"width\":0.5},\"pattern\":{\"fillmode\":\"overlay\",\"size\":10,\"solidity\":0.2}},\"type\":\"barpolar\"}],\"carpet\":[{\"aaxis\":{\"endlinecolor\":\"#2a3f5f\",\"gridcolor\":\"white\",\"linecolor\":\"white\",\"minorgridcolor\":\"white\",\"startlinecolor\":\"#2a3f5f\"},\"baxis\":{\"endlinecolor\":\"#2a3f5f\",\"gridcolor\":\"white\",\"linecolor\":\"white\",\"minorgridcolor\":\"white\",\"startlinecolor\":\"#2a3f5f\"},\"type\":\"carpet\"}],\"choropleth\":[{\"colorbar\":{\"outlinewidth\":0,\"ticks\":\"\"},\"type\":\"choropleth\"}],\"contour\":[{\"colorbar\":{\"outlinewidth\":0,\"ticks\":\"\"},\"colorscale\":[[0.0,\"#0d0887\"],[0.1111111111111111,\"#46039f\"],[0.2222222222222222,\"#7201a8\"],[0.3333333333333333,\"#9c179e\"],[0.4444444444444444,\"#bd3786\"],[0.5555555555555556,\"#d8576b\"],[0.6666666666666666,\"#ed7953\"],[0.7777777777777778,\"#fb9f3a\"],[0.8888888888888888,\"#fdca26\"],[1.0,\"#f0f921\"]],\"type\":\"contour\"}],\"contourcarpet\":[{\"colorbar\":{\"outlinewidth\":0,\"ticks\":\"\"},\"type\":\"contourcarpet\"}],\"heatmap\":[{\"colorbar\":{\"outlinewidth\":0,\"ticks\":\"\"},\"colorscale\":[[0.0,\"#0d0887\"],[0.1111111111111111,\"#46039f\"],[0.2222222222222222,\"#7201a8\"],[0.3333333333333333,\"#9c179e\"],[0.4444444444444444,\"#bd3786\"],[0.5555555555555556,\"#d8576b\"],[0.6666666666666666,\"#ed7953\"],[0.7777777777777778,\"#fb9f3a\"],[0.8888888888888888,\"#fdca26\"],[1.0,\"#f0f921\"]],\"type\":\"heatmap\"}],\"heatmapgl\":[{\"colorbar\":{\"outlinewidth\":0,\"ticks\":\"\"},\"colorscale\":[[0.0,\"#0d0887\"],[0.1111111111111111,\"#46039f\"],[0.2222222222222222,\"#7201a8\"],[0.3333333333333333,\"#9c179e\"],[0.4444444444444444,\"#bd3786\"],[0.5555555555555556,\"#d8576b\"],[0.6666666666666666,\"#ed7953\"],[0.7777777777777778,\"#fb9f3a\"],[0.8888888888888888,\"#fdca26\"],[1.0,\"#f0f921\"]],\"type\":\"heatmapgl\"}],\"histogram\":[{\"marker\":{\"pattern\":{\"fillmode\":\"overlay\",\"size\":10,\"solidity\":0.2}},\"type\":\"histogram\"}],\"histogram2d\":[{\"colorbar\":{\"outlinewidth\":0,\"ticks\":\"\"},\"colorscale\":[[0.0,\"#0d0887\"],[0.1111111111111111,\"#46039f\"],[0.2222222222222222,\"#7201a8\"],[0.3333333333333333,\"#9c179e\"],[0.4444444444444444,\"#bd3786\"],[0.5555555555555556,\"#d8576b\"],[0.6666666666666666,\"#ed7953\"],[0.7777777777777778,\"#fb9f3a\"],[0.8888888888888888,\"#fdca26\"],[1.0,\"#f0f921\"]],\"type\":\"histogram2d\"}],\"histogram2dcontour\":[{\"colorbar\":{\"outlinewidth\":0,\"ticks\":\"\"},\"colorscale\":[[0.0,\"#0d0887\"],[0.1111111111111111,\"#46039f\"],[0.2222222222222222,\"#7201a8\"],[0.3333333333333333,\"#9c179e\"],[0.4444444444444444,\"#bd3786\"],[0.5555555555555556,\"#d8576b\"],[0.6666666666666666,\"#ed7953\"],[0.7777777777777778,\"#fb9f3a\"],[0.8888888888888888,\"#fdca26\"],[1.0,\"#f0f921\"]],\"type\":\"histogram2dcontour\"}],\"mesh3d\":[{\"colorbar\":{\"outlinewidth\":0,\"ticks\":\"\"},\"type\":\"mesh3d\"}],\"parcoords\":[{\"line\":{\"colorbar\":{\"outlinewidth\":0,\"ticks\":\"\"}},\"type\":\"parcoords\"}],\"pie\":[{\"automargin\":true,\"type\":\"pie\"}],\"scatter\":[{\"marker\":{\"colorbar\":{\"outlinewidth\":0,\"ticks\":\"\"}},\"type\":\"scatter\"}],\"scatter3d\":[{\"line\":{\"colorbar\":{\"outlinewidth\":0,\"ticks\":\"\"}},\"marker\":{\"colorbar\":{\"outlinewidth\":0,\"ticks\":\"\"}},\"type\":\"scatter3d\"}],\"scattercarpet\":[{\"marker\":{\"colorbar\":{\"outlinewidth\":0,\"ticks\":\"\"}},\"type\":\"scattercarpet\"}],\"scattergeo\":[{\"marker\":{\"colorbar\":{\"outlinewidth\":0,\"ticks\":\"\"}},\"type\":\"scattergeo\"}],\"scattergl\":[{\"marker\":{\"colorbar\":{\"outlinewidth\":0,\"ticks\":\"\"}},\"type\":\"scattergl\"}],\"scattermapbox\":[{\"marker\":{\"colorbar\":{\"outlinewidth\":0,\"ticks\":\"\"}},\"type\":\"scattermapbox\"}],\"scatterpolar\":[{\"marker\":{\"colorbar\":{\"outlinewidth\":0,\"ticks\":\"\"}},\"type\":\"scatterpolar\"}],\"scatterpolargl\":[{\"marker\":{\"colorbar\":{\"outlinewidth\":0,\"ticks\":\"\"}},\"type\":\"scatterpolargl\"}],\"scatterternary\":[{\"marker\":{\"colorbar\":{\"outlinewidth\":0,\"ticks\":\"\"}},\"type\":\"scatterternary\"}],\"surface\":[{\"colorbar\":{\"outlinewidth\":0,\"ticks\":\"\"},\"colorscale\":[[0.0,\"#0d0887\"],[0.1111111111111111,\"#46039f\"],[0.2222222222222222,\"#7201a8\"],[0.3333333333333333,\"#9c179e\"],[0.4444444444444444,\"#bd3786\"],[0.5555555555555556,\"#d8576b\"],[0.6666666666666666,\"#ed7953\"],[0.7777777777777778,\"#fb9f3a\"],[0.8888888888888888,\"#fdca26\"],[1.0,\"#f0f921\"]],\"type\":\"surface\"}],\"table\":[{\"cells\":{\"fill\":{\"color\":\"#EBF0F8\"},\"line\":{\"color\":\"white\"}},\"header\":{\"fill\":{\"color\":\"#C8D4E3\"},\"line\":{\"color\":\"white\"}},\"type\":\"table\"}]},\"layout\":{\"annotationdefaults\":{\"arrowcolor\":\"#2a3f5f\",\"arrowhead\":0,\"arrowwidth\":1},\"autotypenumbers\":\"strict\",\"coloraxis\":{\"colorbar\":{\"outlinewidth\":0,\"ticks\":\"\"}},\"colorscale\":{\"diverging\":[[0,\"#8e0152\"],[0.1,\"#c51b7d\"],[0.2,\"#de77ae\"],[0.3,\"#f1b6da\"],[0.4,\"#fde0ef\"],[0.5,\"#f7f7f7\"],[0.6,\"#e6f5d0\"],[0.7,\"#b8e186\"],[0.8,\"#7fbc41\"],[0.9,\"#4d9221\"],[1,\"#276419\"]],\"sequential\":[[0.0,\"#0d0887\"],[0.1111111111111111,\"#46039f\"],[0.2222222222222222,\"#7201a8\"],[0.3333333333333333,\"#9c179e\"],[0.4444444444444444,\"#bd3786\"],[0.5555555555555556,\"#d8576b\"],[0.6666666666666666,\"#ed7953\"],[0.7777777777777778,\"#fb9f3a\"],[0.8888888888888888,\"#fdca26\"],[1.0,\"#f0f921\"]],\"sequentialminus\":[[0.0,\"#0d0887\"],[0.1111111111111111,\"#46039f\"],[0.2222222222222222,\"#7201a8\"],[0.3333333333333333,\"#9c179e\"],[0.4444444444444444,\"#bd3786\"],[0.5555555555555556,\"#d8576b\"],[0.6666666666666666,\"#ed7953\"],[0.7777777777777778,\"#fb9f3a\"],[0.8888888888888888,\"#fdca26\"],[1.0,\"#f0f921\"]]},\"colorway\":[\"#636efa\",\"#EF553B\",\"#00cc96\",\"#ab63fa\",\"#FFA15A\",\"#19d3f3\",\"#FF6692\",\"#B6E880\",\"#FF97FF\",\"#FECB52\"],\"font\":{\"color\":\"#2a3f5f\"},\"geo\":{\"bgcolor\":\"white\",\"lakecolor\":\"white\",\"landcolor\":\"#E5ECF6\",\"showlakes\":true,\"showland\":true,\"subunitcolor\":\"white\"},\"hoverlabel\":{\"align\":\"left\"},\"hovermode\":\"closest\",\"mapbox\":{\"style\":\"light\"},\"paper_bgcolor\":\"white\",\"plot_bgcolor\":\"#E5ECF6\",\"polar\":{\"angularaxis\":{\"gridcolor\":\"white\",\"linecolor\":\"white\",\"ticks\":\"\"},\"bgcolor\":\"#E5ECF6\",\"radialaxis\":{\"gridcolor\":\"white\",\"linecolor\":\"white\",\"ticks\":\"\"}},\"scene\":{\"xaxis\":{\"backgroundcolor\":\"#E5ECF6\",\"gridcolor\":\"white\",\"gridwidth\":2,\"linecolor\":\"white\",\"showbackground\":true,\"ticks\":\"\",\"zerolinecolor\":\"white\"},\"yaxis\":{\"backgroundcolor\":\"#E5ECF6\",\"gridcolor\":\"white\",\"gridwidth\":2,\"linecolor\":\"white\",\"showbackground\":true,\"ticks\":\"\",\"zerolinecolor\":\"white\"},\"zaxis\":{\"backgroundcolor\":\"#E5ECF6\",\"gridcolor\":\"white\",\"gridwidth\":2,\"linecolor\":\"white\",\"showbackground\":true,\"ticks\":\"\",\"zerolinecolor\":\"white\"}},\"shapedefaults\":{\"line\":{\"color\":\"#2a3f5f\"}},\"ternary\":{\"aaxis\":{\"gridcolor\":\"white\",\"linecolor\":\"white\",\"ticks\":\"\"},\"baxis\":{\"gridcolor\":\"white\",\"linecolor\":\"white\",\"ticks\":\"\"},\"bgcolor\":\"#E5ECF6\",\"caxis\":{\"gridcolor\":\"white\",\"linecolor\":\"white\",\"ticks\":\"\"}},\"title\":{\"x\":0.05},\"xaxis\":{\"automargin\":true,\"gridcolor\":\"white\",\"linecolor\":\"white\",\"ticks\":\"\",\"title\":{\"standoff\":15},\"zerolinecolor\":\"white\",\"zerolinewidth\":2},\"yaxis\":{\"automargin\":true,\"gridcolor\":\"white\",\"linecolor\":\"white\",\"ticks\":\"\",\"title\":{\"standoff\":15},\"zerolinecolor\":\"white\",\"zerolinewidth\":2}}},\"title\":{\"text\":\"\\u0413\\u0440\\u0430\\u0444\\u0438\\u043a \\u0438\\u0433\\u0440 \\u043f\\u043e \\u0433\\u043e\\u0434\\u0430\\u043c\"},\"xaxis\":{\"title\":{\"text\":\"\\u0413\\u043e\\u0434\\u0430\"}},\"yaxis\":{\"title\":{\"text\":\"\\u041a\\u043e\\u043b\\u0438\\u0447\\u0435\\u0441\\u0442\\u0432\\u043e \\u0438\\u0433\\u0440 (\\u0448\\u0442)\"}}},                        {\"responsive\": true}                    ).then(function(){\n",
       "                            \n",
       "var gd = document.getElementById('f9f3c48d-9edb-4f95-acb3-746a3b6e77c4');\n",
       "var x = new MutationObserver(function (mutations, observer) {{\n",
       "        var display = window.getComputedStyle(gd).display;\n",
       "        if (!display || display === 'none') {{\n",
       "            console.log([gd, 'removed!']);\n",
       "            Plotly.purge(gd);\n",
       "            observer.disconnect();\n",
       "        }}\n",
       "}});\n",
       "\n",
       "// Listen for the removal of the full notebook cells\n",
       "var notebookContainer = gd.closest('#notebook-container');\n",
       "if (notebookContainer) {{\n",
       "    x.observe(notebookContainer, {childList: true});\n",
       "}}\n",
       "\n",
       "// Listen for the clearing of the current output cell\n",
       "var outputEl = gd.closest('.output');\n",
       "if (outputEl) {{\n",
       "    x.observe(outputEl, {childList: true});\n",
       "}}\n",
       "\n",
       "                        })                };                });            </script>        </div>"
      ]
     },
     "metadata": {},
     "output_type": "display_data"
    }
   ],
   "source": [
    "trace0 = go.Bar(                   \n",
    "    x=all_game_years_number.index,\n",
    "    y=all_game_years_number.name,\n",
    "    name='Global Sales'\n",
    ")\n",
    "\n",
    "data = trace0\n",
    "layout = {'title': 'График игр по годам',\n",
    "          'xaxis': {'title': 'Года'},\n",
    "          'yaxis': {'title': 'Количество игр (шт)'}}\n",
    "\n",
    "fig = go.Figure(data=data, layout=layout)\n",
    "iplot(fig, show_link=False)"
   ]
  },
  {
   "cell_type": "markdown",
   "metadata": {},
   "source": [
    "Построив график игр за все года мы видим сколько игр было в разные года. Видим мах значение в 2008 году и видим как количество выпускаемых игр росло, а затем падало. Такая динамика может быть связана с тем, что сначала было очень мало платформ на которые выпускались игры, это связано с маленьким количествои игр. Затем начали выпускать ноыве платформы, что привело к росту игр, а после 2008 старые платформы устарели и на них перестали выпускать игры и это сказалось на падении роста игр. Можно сказать, что все периоды в данных являются важными."
   ]
  },
  {
   "cell_type": "markdown",
   "metadata": {},
   "source": [
    "### Посмотрим, как менялись продажи по платформам и выберем платформы с наибольшими суммарными продажами. Построим для них распределение по годам."
   ]
  },
  {
   "cell_type": "code",
   "execution_count": 25,
   "metadata": {},
   "outputs": [],
   "source": [
    "sales_by_platform = df.pivot_table(index='platform',\n",
    "                                   values='all_sales',\n",
    "                                   aggfunc='sum')\n",
    "sales_by_platform.columns = ['sum_sales']\n",
    "sales_by_platform.sort_values('sum_sales', ascending=False, inplace=True)"
   ]
  },
  {
   "cell_type": "code",
   "execution_count": 26,
   "metadata": {},
   "outputs": [
    {
     "data": {
      "application/vnd.plotly.v1+json": {
       "config": {
        "linkText": "Export to plot.ly",
        "plotlyServerURL": "https://plot.ly",
        "showLink": false
       },
       "data": [
        {
         "name": "Суммарное количество продаж (млн)",
         "type": "bar",
         "x": [
          "PS2",
          "X360",
          "PS3",
          "Wii",
          "DS",
          "PS",
          "GBA",
          "PS4",
          "PSP",
          "PC",
          "3DS",
          "XB",
          "GB",
          "NES",
          "N64",
          "SNES",
          "GC",
          "XOne",
          "2600",
          "WiiU",
          "PSV",
          "SAT",
          "GEN",
          "DC",
          "SCD",
          "NG",
          "WS",
          "TG16",
          "3DO",
          "GG",
          "PCFX"
         ],
         "y": [
          1255.7699999999925,
          971.419999999998,
          939.6499999999982,
          907.5099999999959,
          806.119999999985,
          730.8599999999957,
          317.84999999999854,
          314.1399999999991,
          294.0499999999952,
          259.5199999999979,
          258.99999999999864,
          257.7399999999991,
          255.4599999999999,
          251.0499999999999,
          218.67999999999984,
          200.04000000000022,
          198.93000000000066,
          159.32,
          96.98000000000003,
          82.19,
          54.070000000000135,
          33.59000000000002,
          28.35,
          15.95,
          1.8600000000000003,
          1.4400000000000004,
          1.42,
          0.16,
          0.1,
          0.04,
          0.03
         ]
        }
       ],
       "layout": {
        "template": {
         "data": {
          "bar": [
           {
            "error_x": {
             "color": "#2a3f5f"
            },
            "error_y": {
             "color": "#2a3f5f"
            },
            "marker": {
             "line": {
              "color": "#E5ECF6",
              "width": 0.5
             },
             "pattern": {
              "fillmode": "overlay",
              "size": 10,
              "solidity": 0.2
             }
            },
            "type": "bar"
           }
          ],
          "barpolar": [
           {
            "marker": {
             "line": {
              "color": "#E5ECF6",
              "width": 0.5
             },
             "pattern": {
              "fillmode": "overlay",
              "size": 10,
              "solidity": 0.2
             }
            },
            "type": "barpolar"
           }
          ],
          "carpet": [
           {
            "aaxis": {
             "endlinecolor": "#2a3f5f",
             "gridcolor": "white",
             "linecolor": "white",
             "minorgridcolor": "white",
             "startlinecolor": "#2a3f5f"
            },
            "baxis": {
             "endlinecolor": "#2a3f5f",
             "gridcolor": "white",
             "linecolor": "white",
             "minorgridcolor": "white",
             "startlinecolor": "#2a3f5f"
            },
            "type": "carpet"
           }
          ],
          "choropleth": [
           {
            "colorbar": {
             "outlinewidth": 0,
             "ticks": ""
            },
            "type": "choropleth"
           }
          ],
          "contour": [
           {
            "colorbar": {
             "outlinewidth": 0,
             "ticks": ""
            },
            "colorscale": [
             [
              0,
              "#0d0887"
             ],
             [
              0.1111111111111111,
              "#46039f"
             ],
             [
              0.2222222222222222,
              "#7201a8"
             ],
             [
              0.3333333333333333,
              "#9c179e"
             ],
             [
              0.4444444444444444,
              "#bd3786"
             ],
             [
              0.5555555555555556,
              "#d8576b"
             ],
             [
              0.6666666666666666,
              "#ed7953"
             ],
             [
              0.7777777777777778,
              "#fb9f3a"
             ],
             [
              0.8888888888888888,
              "#fdca26"
             ],
             [
              1,
              "#f0f921"
             ]
            ],
            "type": "contour"
           }
          ],
          "contourcarpet": [
           {
            "colorbar": {
             "outlinewidth": 0,
             "ticks": ""
            },
            "type": "contourcarpet"
           }
          ],
          "heatmap": [
           {
            "colorbar": {
             "outlinewidth": 0,
             "ticks": ""
            },
            "colorscale": [
             [
              0,
              "#0d0887"
             ],
             [
              0.1111111111111111,
              "#46039f"
             ],
             [
              0.2222222222222222,
              "#7201a8"
             ],
             [
              0.3333333333333333,
              "#9c179e"
             ],
             [
              0.4444444444444444,
              "#bd3786"
             ],
             [
              0.5555555555555556,
              "#d8576b"
             ],
             [
              0.6666666666666666,
              "#ed7953"
             ],
             [
              0.7777777777777778,
              "#fb9f3a"
             ],
             [
              0.8888888888888888,
              "#fdca26"
             ],
             [
              1,
              "#f0f921"
             ]
            ],
            "type": "heatmap"
           }
          ],
          "heatmapgl": [
           {
            "colorbar": {
             "outlinewidth": 0,
             "ticks": ""
            },
            "colorscale": [
             [
              0,
              "#0d0887"
             ],
             [
              0.1111111111111111,
              "#46039f"
             ],
             [
              0.2222222222222222,
              "#7201a8"
             ],
             [
              0.3333333333333333,
              "#9c179e"
             ],
             [
              0.4444444444444444,
              "#bd3786"
             ],
             [
              0.5555555555555556,
              "#d8576b"
             ],
             [
              0.6666666666666666,
              "#ed7953"
             ],
             [
              0.7777777777777778,
              "#fb9f3a"
             ],
             [
              0.8888888888888888,
              "#fdca26"
             ],
             [
              1,
              "#f0f921"
             ]
            ],
            "type": "heatmapgl"
           }
          ],
          "histogram": [
           {
            "marker": {
             "pattern": {
              "fillmode": "overlay",
              "size": 10,
              "solidity": 0.2
             }
            },
            "type": "histogram"
           }
          ],
          "histogram2d": [
           {
            "colorbar": {
             "outlinewidth": 0,
             "ticks": ""
            },
            "colorscale": [
             [
              0,
              "#0d0887"
             ],
             [
              0.1111111111111111,
              "#46039f"
             ],
             [
              0.2222222222222222,
              "#7201a8"
             ],
             [
              0.3333333333333333,
              "#9c179e"
             ],
             [
              0.4444444444444444,
              "#bd3786"
             ],
             [
              0.5555555555555556,
              "#d8576b"
             ],
             [
              0.6666666666666666,
              "#ed7953"
             ],
             [
              0.7777777777777778,
              "#fb9f3a"
             ],
             [
              0.8888888888888888,
              "#fdca26"
             ],
             [
              1,
              "#f0f921"
             ]
            ],
            "type": "histogram2d"
           }
          ],
          "histogram2dcontour": [
           {
            "colorbar": {
             "outlinewidth": 0,
             "ticks": ""
            },
            "colorscale": [
             [
              0,
              "#0d0887"
             ],
             [
              0.1111111111111111,
              "#46039f"
             ],
             [
              0.2222222222222222,
              "#7201a8"
             ],
             [
              0.3333333333333333,
              "#9c179e"
             ],
             [
              0.4444444444444444,
              "#bd3786"
             ],
             [
              0.5555555555555556,
              "#d8576b"
             ],
             [
              0.6666666666666666,
              "#ed7953"
             ],
             [
              0.7777777777777778,
              "#fb9f3a"
             ],
             [
              0.8888888888888888,
              "#fdca26"
             ],
             [
              1,
              "#f0f921"
             ]
            ],
            "type": "histogram2dcontour"
           }
          ],
          "mesh3d": [
           {
            "colorbar": {
             "outlinewidth": 0,
             "ticks": ""
            },
            "type": "mesh3d"
           }
          ],
          "parcoords": [
           {
            "line": {
             "colorbar": {
              "outlinewidth": 0,
              "ticks": ""
             }
            },
            "type": "parcoords"
           }
          ],
          "pie": [
           {
            "automargin": true,
            "type": "pie"
           }
          ],
          "scatter": [
           {
            "marker": {
             "colorbar": {
              "outlinewidth": 0,
              "ticks": ""
             }
            },
            "type": "scatter"
           }
          ],
          "scatter3d": [
           {
            "line": {
             "colorbar": {
              "outlinewidth": 0,
              "ticks": ""
             }
            },
            "marker": {
             "colorbar": {
              "outlinewidth": 0,
              "ticks": ""
             }
            },
            "type": "scatter3d"
           }
          ],
          "scattercarpet": [
           {
            "marker": {
             "colorbar": {
              "outlinewidth": 0,
              "ticks": ""
             }
            },
            "type": "scattercarpet"
           }
          ],
          "scattergeo": [
           {
            "marker": {
             "colorbar": {
              "outlinewidth": 0,
              "ticks": ""
             }
            },
            "type": "scattergeo"
           }
          ],
          "scattergl": [
           {
            "marker": {
             "colorbar": {
              "outlinewidth": 0,
              "ticks": ""
             }
            },
            "type": "scattergl"
           }
          ],
          "scattermapbox": [
           {
            "marker": {
             "colorbar": {
              "outlinewidth": 0,
              "ticks": ""
             }
            },
            "type": "scattermapbox"
           }
          ],
          "scatterpolar": [
           {
            "marker": {
             "colorbar": {
              "outlinewidth": 0,
              "ticks": ""
             }
            },
            "type": "scatterpolar"
           }
          ],
          "scatterpolargl": [
           {
            "marker": {
             "colorbar": {
              "outlinewidth": 0,
              "ticks": ""
             }
            },
            "type": "scatterpolargl"
           }
          ],
          "scatterternary": [
           {
            "marker": {
             "colorbar": {
              "outlinewidth": 0,
              "ticks": ""
             }
            },
            "type": "scatterternary"
           }
          ],
          "surface": [
           {
            "colorbar": {
             "outlinewidth": 0,
             "ticks": ""
            },
            "colorscale": [
             [
              0,
              "#0d0887"
             ],
             [
              0.1111111111111111,
              "#46039f"
             ],
             [
              0.2222222222222222,
              "#7201a8"
             ],
             [
              0.3333333333333333,
              "#9c179e"
             ],
             [
              0.4444444444444444,
              "#bd3786"
             ],
             [
              0.5555555555555556,
              "#d8576b"
             ],
             [
              0.6666666666666666,
              "#ed7953"
             ],
             [
              0.7777777777777778,
              "#fb9f3a"
             ],
             [
              0.8888888888888888,
              "#fdca26"
             ],
             [
              1,
              "#f0f921"
             ]
            ],
            "type": "surface"
           }
          ],
          "table": [
           {
            "cells": {
             "fill": {
              "color": "#EBF0F8"
             },
             "line": {
              "color": "white"
             }
            },
            "header": {
             "fill": {
              "color": "#C8D4E3"
             },
             "line": {
              "color": "white"
             }
            },
            "type": "table"
           }
          ]
         },
         "layout": {
          "annotationdefaults": {
           "arrowcolor": "#2a3f5f",
           "arrowhead": 0,
           "arrowwidth": 1
          },
          "autotypenumbers": "strict",
          "coloraxis": {
           "colorbar": {
            "outlinewidth": 0,
            "ticks": ""
           }
          },
          "colorscale": {
           "diverging": [
            [
             0,
             "#8e0152"
            ],
            [
             0.1,
             "#c51b7d"
            ],
            [
             0.2,
             "#de77ae"
            ],
            [
             0.3,
             "#f1b6da"
            ],
            [
             0.4,
             "#fde0ef"
            ],
            [
             0.5,
             "#f7f7f7"
            ],
            [
             0.6,
             "#e6f5d0"
            ],
            [
             0.7,
             "#b8e186"
            ],
            [
             0.8,
             "#7fbc41"
            ],
            [
             0.9,
             "#4d9221"
            ],
            [
             1,
             "#276419"
            ]
           ],
           "sequential": [
            [
             0,
             "#0d0887"
            ],
            [
             0.1111111111111111,
             "#46039f"
            ],
            [
             0.2222222222222222,
             "#7201a8"
            ],
            [
             0.3333333333333333,
             "#9c179e"
            ],
            [
             0.4444444444444444,
             "#bd3786"
            ],
            [
             0.5555555555555556,
             "#d8576b"
            ],
            [
             0.6666666666666666,
             "#ed7953"
            ],
            [
             0.7777777777777778,
             "#fb9f3a"
            ],
            [
             0.8888888888888888,
             "#fdca26"
            ],
            [
             1,
             "#f0f921"
            ]
           ],
           "sequentialminus": [
            [
             0,
             "#0d0887"
            ],
            [
             0.1111111111111111,
             "#46039f"
            ],
            [
             0.2222222222222222,
             "#7201a8"
            ],
            [
             0.3333333333333333,
             "#9c179e"
            ],
            [
             0.4444444444444444,
             "#bd3786"
            ],
            [
             0.5555555555555556,
             "#d8576b"
            ],
            [
             0.6666666666666666,
             "#ed7953"
            ],
            [
             0.7777777777777778,
             "#fb9f3a"
            ],
            [
             0.8888888888888888,
             "#fdca26"
            ],
            [
             1,
             "#f0f921"
            ]
           ]
          },
          "colorway": [
           "#636efa",
           "#EF553B",
           "#00cc96",
           "#ab63fa",
           "#FFA15A",
           "#19d3f3",
           "#FF6692",
           "#B6E880",
           "#FF97FF",
           "#FECB52"
          ],
          "font": {
           "color": "#2a3f5f"
          },
          "geo": {
           "bgcolor": "white",
           "lakecolor": "white",
           "landcolor": "#E5ECF6",
           "showlakes": true,
           "showland": true,
           "subunitcolor": "white"
          },
          "hoverlabel": {
           "align": "left"
          },
          "hovermode": "closest",
          "mapbox": {
           "style": "light"
          },
          "paper_bgcolor": "white",
          "plot_bgcolor": "#E5ECF6",
          "polar": {
           "angularaxis": {
            "gridcolor": "white",
            "linecolor": "white",
            "ticks": ""
           },
           "bgcolor": "#E5ECF6",
           "radialaxis": {
            "gridcolor": "white",
            "linecolor": "white",
            "ticks": ""
           }
          },
          "scene": {
           "xaxis": {
            "backgroundcolor": "#E5ECF6",
            "gridcolor": "white",
            "gridwidth": 2,
            "linecolor": "white",
            "showbackground": true,
            "ticks": "",
            "zerolinecolor": "white"
           },
           "yaxis": {
            "backgroundcolor": "#E5ECF6",
            "gridcolor": "white",
            "gridwidth": 2,
            "linecolor": "white",
            "showbackground": true,
            "ticks": "",
            "zerolinecolor": "white"
           },
           "zaxis": {
            "backgroundcolor": "#E5ECF6",
            "gridcolor": "white",
            "gridwidth": 2,
            "linecolor": "white",
            "showbackground": true,
            "ticks": "",
            "zerolinecolor": "white"
           }
          },
          "shapedefaults": {
           "line": {
            "color": "#2a3f5f"
           }
          },
          "ternary": {
           "aaxis": {
            "gridcolor": "white",
            "linecolor": "white",
            "ticks": ""
           },
           "baxis": {
            "gridcolor": "white",
            "linecolor": "white",
            "ticks": ""
           },
           "bgcolor": "#E5ECF6",
           "caxis": {
            "gridcolor": "white",
            "linecolor": "white",
            "ticks": ""
           }
          },
          "title": {
           "x": 0.05
          },
          "xaxis": {
           "automargin": true,
           "gridcolor": "white",
           "linecolor": "white",
           "ticks": "",
           "title": {
            "standoff": 15
           },
           "zerolinecolor": "white",
           "zerolinewidth": 2
          },
          "yaxis": {
           "automargin": true,
           "gridcolor": "white",
           "linecolor": "white",
           "ticks": "",
           "title": {
            "standoff": 15
           },
           "zerolinecolor": "white",
           "zerolinewidth": 2
          }
         }
        },
        "title": {
         "text": "График суммарных продаж по платформам"
        },
        "xaxis": {
         "title": {
          "text": "Платформы"
         }
        },
        "yaxis": {
         "title": {
          "text": "Количество (млн)"
         }
        }
       }
      },
      "text/html": [
       "<div>                            <div id=\"293d9b4c-c556-4844-98bd-4c01ac14bc77\" class=\"plotly-graph-div\" style=\"height:525px; width:100%;\"></div>            <script type=\"text/javascript\">                require([\"plotly\"], function(Plotly) {                    window.PLOTLYENV=window.PLOTLYENV || {};                                    if (document.getElementById(\"293d9b4c-c556-4844-98bd-4c01ac14bc77\")) {                    Plotly.newPlot(                        \"293d9b4c-c556-4844-98bd-4c01ac14bc77\",                        [{\"name\":\"\\u0421\\u0443\\u043c\\u043c\\u0430\\u0440\\u043d\\u043e\\u0435 \\u043a\\u043e\\u043b\\u0438\\u0447\\u0435\\u0441\\u0442\\u0432\\u043e \\u043f\\u0440\\u043e\\u0434\\u0430\\u0436 (\\u043c\\u043b\\u043d)\",\"type\":\"bar\",\"x\":[\"PS2\",\"X360\",\"PS3\",\"Wii\",\"DS\",\"PS\",\"GBA\",\"PS4\",\"PSP\",\"PC\",\"3DS\",\"XB\",\"GB\",\"NES\",\"N64\",\"SNES\",\"GC\",\"XOne\",\"2600\",\"WiiU\",\"PSV\",\"SAT\",\"GEN\",\"DC\",\"SCD\",\"NG\",\"WS\",\"TG16\",\"3DO\",\"GG\",\"PCFX\"],\"y\":[1255.7699999999925,971.419999999998,939.6499999999982,907.5099999999959,806.119999999985,730.8599999999957,317.84999999999854,314.1399999999991,294.0499999999952,259.5199999999979,258.99999999999864,257.7399999999991,255.4599999999999,251.0499999999999,218.67999999999984,200.04000000000022,198.93000000000066,159.32,96.98000000000003,82.19,54.070000000000135,33.59000000000002,28.35,15.95,1.8600000000000003,1.4400000000000004,1.42,0.16,0.1,0.04,0.03]}],                        {\"template\":{\"data\":{\"bar\":[{\"error_x\":{\"color\":\"#2a3f5f\"},\"error_y\":{\"color\":\"#2a3f5f\"},\"marker\":{\"line\":{\"color\":\"#E5ECF6\",\"width\":0.5},\"pattern\":{\"fillmode\":\"overlay\",\"size\":10,\"solidity\":0.2}},\"type\":\"bar\"}],\"barpolar\":[{\"marker\":{\"line\":{\"color\":\"#E5ECF6\",\"width\":0.5},\"pattern\":{\"fillmode\":\"overlay\",\"size\":10,\"solidity\":0.2}},\"type\":\"barpolar\"}],\"carpet\":[{\"aaxis\":{\"endlinecolor\":\"#2a3f5f\",\"gridcolor\":\"white\",\"linecolor\":\"white\",\"minorgridcolor\":\"white\",\"startlinecolor\":\"#2a3f5f\"},\"baxis\":{\"endlinecolor\":\"#2a3f5f\",\"gridcolor\":\"white\",\"linecolor\":\"white\",\"minorgridcolor\":\"white\",\"startlinecolor\":\"#2a3f5f\"},\"type\":\"carpet\"}],\"choropleth\":[{\"colorbar\":{\"outlinewidth\":0,\"ticks\":\"\"},\"type\":\"choropleth\"}],\"contour\":[{\"colorbar\":{\"outlinewidth\":0,\"ticks\":\"\"},\"colorscale\":[[0.0,\"#0d0887\"],[0.1111111111111111,\"#46039f\"],[0.2222222222222222,\"#7201a8\"],[0.3333333333333333,\"#9c179e\"],[0.4444444444444444,\"#bd3786\"],[0.5555555555555556,\"#d8576b\"],[0.6666666666666666,\"#ed7953\"],[0.7777777777777778,\"#fb9f3a\"],[0.8888888888888888,\"#fdca26\"],[1.0,\"#f0f921\"]],\"type\":\"contour\"}],\"contourcarpet\":[{\"colorbar\":{\"outlinewidth\":0,\"ticks\":\"\"},\"type\":\"contourcarpet\"}],\"heatmap\":[{\"colorbar\":{\"outlinewidth\":0,\"ticks\":\"\"},\"colorscale\":[[0.0,\"#0d0887\"],[0.1111111111111111,\"#46039f\"],[0.2222222222222222,\"#7201a8\"],[0.3333333333333333,\"#9c179e\"],[0.4444444444444444,\"#bd3786\"],[0.5555555555555556,\"#d8576b\"],[0.6666666666666666,\"#ed7953\"],[0.7777777777777778,\"#fb9f3a\"],[0.8888888888888888,\"#fdca26\"],[1.0,\"#f0f921\"]],\"type\":\"heatmap\"}],\"heatmapgl\":[{\"colorbar\":{\"outlinewidth\":0,\"ticks\":\"\"},\"colorscale\":[[0.0,\"#0d0887\"],[0.1111111111111111,\"#46039f\"],[0.2222222222222222,\"#7201a8\"],[0.3333333333333333,\"#9c179e\"],[0.4444444444444444,\"#bd3786\"],[0.5555555555555556,\"#d8576b\"],[0.6666666666666666,\"#ed7953\"],[0.7777777777777778,\"#fb9f3a\"],[0.8888888888888888,\"#fdca26\"],[1.0,\"#f0f921\"]],\"type\":\"heatmapgl\"}],\"histogram\":[{\"marker\":{\"pattern\":{\"fillmode\":\"overlay\",\"size\":10,\"solidity\":0.2}},\"type\":\"histogram\"}],\"histogram2d\":[{\"colorbar\":{\"outlinewidth\":0,\"ticks\":\"\"},\"colorscale\":[[0.0,\"#0d0887\"],[0.1111111111111111,\"#46039f\"],[0.2222222222222222,\"#7201a8\"],[0.3333333333333333,\"#9c179e\"],[0.4444444444444444,\"#bd3786\"],[0.5555555555555556,\"#d8576b\"],[0.6666666666666666,\"#ed7953\"],[0.7777777777777778,\"#fb9f3a\"],[0.8888888888888888,\"#fdca26\"],[1.0,\"#f0f921\"]],\"type\":\"histogram2d\"}],\"histogram2dcontour\":[{\"colorbar\":{\"outlinewidth\":0,\"ticks\":\"\"},\"colorscale\":[[0.0,\"#0d0887\"],[0.1111111111111111,\"#46039f\"],[0.2222222222222222,\"#7201a8\"],[0.3333333333333333,\"#9c179e\"],[0.4444444444444444,\"#bd3786\"],[0.5555555555555556,\"#d8576b\"],[0.6666666666666666,\"#ed7953\"],[0.7777777777777778,\"#fb9f3a\"],[0.8888888888888888,\"#fdca26\"],[1.0,\"#f0f921\"]],\"type\":\"histogram2dcontour\"}],\"mesh3d\":[{\"colorbar\":{\"outlinewidth\":0,\"ticks\":\"\"},\"type\":\"mesh3d\"}],\"parcoords\":[{\"line\":{\"colorbar\":{\"outlinewidth\":0,\"ticks\":\"\"}},\"type\":\"parcoords\"}],\"pie\":[{\"automargin\":true,\"type\":\"pie\"}],\"scatter\":[{\"marker\":{\"colorbar\":{\"outlinewidth\":0,\"ticks\":\"\"}},\"type\":\"scatter\"}],\"scatter3d\":[{\"line\":{\"colorbar\":{\"outlinewidth\":0,\"ticks\":\"\"}},\"marker\":{\"colorbar\":{\"outlinewidth\":0,\"ticks\":\"\"}},\"type\":\"scatter3d\"}],\"scattercarpet\":[{\"marker\":{\"colorbar\":{\"outlinewidth\":0,\"ticks\":\"\"}},\"type\":\"scattercarpet\"}],\"scattergeo\":[{\"marker\":{\"colorbar\":{\"outlinewidth\":0,\"ticks\":\"\"}},\"type\":\"scattergeo\"}],\"scattergl\":[{\"marker\":{\"colorbar\":{\"outlinewidth\":0,\"ticks\":\"\"}},\"type\":\"scattergl\"}],\"scattermapbox\":[{\"marker\":{\"colorbar\":{\"outlinewidth\":0,\"ticks\":\"\"}},\"type\":\"scattermapbox\"}],\"scatterpolar\":[{\"marker\":{\"colorbar\":{\"outlinewidth\":0,\"ticks\":\"\"}},\"type\":\"scatterpolar\"}],\"scatterpolargl\":[{\"marker\":{\"colorbar\":{\"outlinewidth\":0,\"ticks\":\"\"}},\"type\":\"scatterpolargl\"}],\"scatterternary\":[{\"marker\":{\"colorbar\":{\"outlinewidth\":0,\"ticks\":\"\"}},\"type\":\"scatterternary\"}],\"surface\":[{\"colorbar\":{\"outlinewidth\":0,\"ticks\":\"\"},\"colorscale\":[[0.0,\"#0d0887\"],[0.1111111111111111,\"#46039f\"],[0.2222222222222222,\"#7201a8\"],[0.3333333333333333,\"#9c179e\"],[0.4444444444444444,\"#bd3786\"],[0.5555555555555556,\"#d8576b\"],[0.6666666666666666,\"#ed7953\"],[0.7777777777777778,\"#fb9f3a\"],[0.8888888888888888,\"#fdca26\"],[1.0,\"#f0f921\"]],\"type\":\"surface\"}],\"table\":[{\"cells\":{\"fill\":{\"color\":\"#EBF0F8\"},\"line\":{\"color\":\"white\"}},\"header\":{\"fill\":{\"color\":\"#C8D4E3\"},\"line\":{\"color\":\"white\"}},\"type\":\"table\"}]},\"layout\":{\"annotationdefaults\":{\"arrowcolor\":\"#2a3f5f\",\"arrowhead\":0,\"arrowwidth\":1},\"autotypenumbers\":\"strict\",\"coloraxis\":{\"colorbar\":{\"outlinewidth\":0,\"ticks\":\"\"}},\"colorscale\":{\"diverging\":[[0,\"#8e0152\"],[0.1,\"#c51b7d\"],[0.2,\"#de77ae\"],[0.3,\"#f1b6da\"],[0.4,\"#fde0ef\"],[0.5,\"#f7f7f7\"],[0.6,\"#e6f5d0\"],[0.7,\"#b8e186\"],[0.8,\"#7fbc41\"],[0.9,\"#4d9221\"],[1,\"#276419\"]],\"sequential\":[[0.0,\"#0d0887\"],[0.1111111111111111,\"#46039f\"],[0.2222222222222222,\"#7201a8\"],[0.3333333333333333,\"#9c179e\"],[0.4444444444444444,\"#bd3786\"],[0.5555555555555556,\"#d8576b\"],[0.6666666666666666,\"#ed7953\"],[0.7777777777777778,\"#fb9f3a\"],[0.8888888888888888,\"#fdca26\"],[1.0,\"#f0f921\"]],\"sequentialminus\":[[0.0,\"#0d0887\"],[0.1111111111111111,\"#46039f\"],[0.2222222222222222,\"#7201a8\"],[0.3333333333333333,\"#9c179e\"],[0.4444444444444444,\"#bd3786\"],[0.5555555555555556,\"#d8576b\"],[0.6666666666666666,\"#ed7953\"],[0.7777777777777778,\"#fb9f3a\"],[0.8888888888888888,\"#fdca26\"],[1.0,\"#f0f921\"]]},\"colorway\":[\"#636efa\",\"#EF553B\",\"#00cc96\",\"#ab63fa\",\"#FFA15A\",\"#19d3f3\",\"#FF6692\",\"#B6E880\",\"#FF97FF\",\"#FECB52\"],\"font\":{\"color\":\"#2a3f5f\"},\"geo\":{\"bgcolor\":\"white\",\"lakecolor\":\"white\",\"landcolor\":\"#E5ECF6\",\"showlakes\":true,\"showland\":true,\"subunitcolor\":\"white\"},\"hoverlabel\":{\"align\":\"left\"},\"hovermode\":\"closest\",\"mapbox\":{\"style\":\"light\"},\"paper_bgcolor\":\"white\",\"plot_bgcolor\":\"#E5ECF6\",\"polar\":{\"angularaxis\":{\"gridcolor\":\"white\",\"linecolor\":\"white\",\"ticks\":\"\"},\"bgcolor\":\"#E5ECF6\",\"radialaxis\":{\"gridcolor\":\"white\",\"linecolor\":\"white\",\"ticks\":\"\"}},\"scene\":{\"xaxis\":{\"backgroundcolor\":\"#E5ECF6\",\"gridcolor\":\"white\",\"gridwidth\":2,\"linecolor\":\"white\",\"showbackground\":true,\"ticks\":\"\",\"zerolinecolor\":\"white\"},\"yaxis\":{\"backgroundcolor\":\"#E5ECF6\",\"gridcolor\":\"white\",\"gridwidth\":2,\"linecolor\":\"white\",\"showbackground\":true,\"ticks\":\"\",\"zerolinecolor\":\"white\"},\"zaxis\":{\"backgroundcolor\":\"#E5ECF6\",\"gridcolor\":\"white\",\"gridwidth\":2,\"linecolor\":\"white\",\"showbackground\":true,\"ticks\":\"\",\"zerolinecolor\":\"white\"}},\"shapedefaults\":{\"line\":{\"color\":\"#2a3f5f\"}},\"ternary\":{\"aaxis\":{\"gridcolor\":\"white\",\"linecolor\":\"white\",\"ticks\":\"\"},\"baxis\":{\"gridcolor\":\"white\",\"linecolor\":\"white\",\"ticks\":\"\"},\"bgcolor\":\"#E5ECF6\",\"caxis\":{\"gridcolor\":\"white\",\"linecolor\":\"white\",\"ticks\":\"\"}},\"title\":{\"x\":0.05},\"xaxis\":{\"automargin\":true,\"gridcolor\":\"white\",\"linecolor\":\"white\",\"ticks\":\"\",\"title\":{\"standoff\":15},\"zerolinecolor\":\"white\",\"zerolinewidth\":2},\"yaxis\":{\"automargin\":true,\"gridcolor\":\"white\",\"linecolor\":\"white\",\"ticks\":\"\",\"title\":{\"standoff\":15},\"zerolinecolor\":\"white\",\"zerolinewidth\":2}}},\"title\":{\"text\":\"\\u0413\\u0440\\u0430\\u0444\\u0438\\u043a \\u0441\\u0443\\u043c\\u043c\\u0430\\u0440\\u043d\\u044b\\u0445 \\u043f\\u0440\\u043e\\u0434\\u0430\\u0436 \\u043f\\u043e \\u043f\\u043b\\u0430\\u0442\\u0444\\u043e\\u0440\\u043c\\u0430\\u043c\"},\"xaxis\":{\"title\":{\"text\":\"\\u041f\\u043b\\u0430\\u0442\\u0444\\u043e\\u0440\\u043c\\u044b\"}},\"yaxis\":{\"title\":{\"text\":\"\\u041a\\u043e\\u043b\\u0438\\u0447\\u0435\\u0441\\u0442\\u0432\\u043e (\\u043c\\u043b\\u043d)\"}}},                        {\"responsive\": true}                    ).then(function(){\n",
       "                            \n",
       "var gd = document.getElementById('293d9b4c-c556-4844-98bd-4c01ac14bc77');\n",
       "var x = new MutationObserver(function (mutations, observer) {{\n",
       "        var display = window.getComputedStyle(gd).display;\n",
       "        if (!display || display === 'none') {{\n",
       "            console.log([gd, 'removed!']);\n",
       "            Plotly.purge(gd);\n",
       "            observer.disconnect();\n",
       "        }}\n",
       "}});\n",
       "\n",
       "// Listen for the removal of the full notebook cells\n",
       "var notebookContainer = gd.closest('#notebook-container');\n",
       "if (notebookContainer) {{\n",
       "    x.observe(notebookContainer, {childList: true});\n",
       "}}\n",
       "\n",
       "// Listen for the clearing of the current output cell\n",
       "var outputEl = gd.closest('.output');\n",
       "if (outputEl) {{\n",
       "    x.observe(outputEl, {childList: true});\n",
       "}}\n",
       "\n",
       "                        })                };                });            </script>        </div>"
      ]
     },
     "metadata": {},
     "output_type": "display_data"
    }
   ],
   "source": [
    "trace0 = go.Bar(                   \n",
    "    x=sales_by_platform.index,\n",
    "    y=sales_by_platform.sum_sales,\n",
    "    name='Суммарное количество продаж (млн)'\n",
    ")\n",
    "\n",
    "data = trace0\n",
    "layout = {'title': 'График суммарных продаж по платформам',\n",
    "          'xaxis': {'title': 'Платформы'},\n",
    "          'yaxis': {'title': 'Количество (млн)'}}\n",
    "\n",
    "fig = go.Figure(data=data, layout=layout)\n",
    "iplot(fig, show_link=False, )"
   ]
  },
  {
   "cell_type": "markdown",
   "metadata": {},
   "source": [
    "По графику видно, что больше всего продаж у платформы PS2, а самые больше продажи с платформы PS2 по PS включительно, т.к. после платформы PS идет резкий спуск продаж. Построим для них распределение по годам."
   ]
  },
  {
   "cell_type": "code",
   "execution_count": 27,
   "metadata": {},
   "outputs": [],
   "source": [
    "sales_by_platform.reset_index(inplace=True)"
   ]
  },
  {
   "cell_type": "code",
   "execution_count": 28,
   "metadata": {
    "scrolled": true
   },
   "outputs": [],
   "source": [
    "value_platforms = sales_by_platform.platform.values[:6]\n",
    "value_platforms = df[df.platform.isin(value_platforms)]"
   ]
  },
  {
   "cell_type": "code",
   "execution_count": 29,
   "metadata": {},
   "outputs": [
    {
     "data": {
      "application/vnd.plotly.v1+json": {
       "config": {
        "linkText": "Export to plot.ly",
        "plotlyServerURL": "https://plot.ly",
        "showLink": false
       },
       "data": [
        {
         "name": "DS",
         "type": "bar",
         "x": [
          2016,
          2015,
          2014,
          2013,
          2012,
          2011,
          2010,
          2009,
          2008,
          2007,
          2006,
          2005,
          2004,
          2003,
          2002,
          2001,
          2000,
          1999,
          1998,
          1997,
          1996,
          1995,
          1994,
          1985
         ],
         "y": [
          null,
          null,
          null,
          8,
          23,
          153,
          323,
          403,
          492,
          376,
          201,
          118,
          23,
          null,
          null,
          null,
          null,
          null,
          null,
          null,
          null,
          null,
          null,
          1
         ]
        },
        {
         "name": "PS",
         "type": "bar",
         "x": [
          2016,
          2015,
          2014,
          2013,
          2012,
          2011,
          2010,
          2009,
          2008,
          2007,
          2006,
          2005,
          2004,
          2003,
          2002,
          2001,
          2000,
          1999,
          1998,
          1997,
          1996,
          1995,
          1994,
          1985
         ],
         "y": [
          null,
          null,
          null,
          null,
          null,
          null,
          null,
          null,
          null,
          null,
          null,
          null,
          null,
          3,
          20,
          91,
          160,
          200,
          248,
          188,
          164,
          99,
          17,
          null
         ]
        },
        {
         "name": "PS2",
         "type": "bar",
         "x": [
          2016,
          2015,
          2014,
          2013,
          2012,
          2011,
          2010,
          2009,
          2008,
          2007,
          2006,
          2005,
          2004,
          2003,
          2002,
          2001,
          2000,
          1999,
          1998,
          1997,
          1996,
          1995,
          1994,
          1985
         ],
         "y": [
          null,
          null,
          null,
          null,
          null,
          7,
          38,
          96,
          191,
          214,
          259,
          260,
          259,
          256,
          280,
          185,
          82,
          null,
          null,
          null,
          null,
          null,
          null,
          null
         ]
        },
        {
         "name": "PS3",
         "type": "bar",
         "x": [
          2016,
          2015,
          2014,
          2013,
          2012,
          2011,
          2010,
          2009,
          2008,
          2007,
          2006,
          2005,
          2004,
          2003,
          2002,
          2001,
          2000,
          1999,
          1998,
          1997,
          1996,
          1995,
          1994,
          1985
         ],
         "y": [
          38,
          73,
          108,
          126,
          148,
          215,
          181,
          162,
          138,
          90,
          27,
          null,
          null,
          null,
          null,
          null,
          null,
          null,
          null,
          null,
          null,
          null,
          null,
          null
         ]
        },
        {
         "name": "Wii",
         "type": "bar",
         "x": [
          2016,
          2015,
          2014,
          2013,
          2012,
          2011,
          2010,
          2009,
          2008,
          2007,
          2006,
          2005,
          2004,
          2003,
          2002,
          2001,
          2000,
          1999,
          1998,
          1997,
          1996,
          1995,
          1994,
          1985
         ],
         "y": [
          1,
          4,
          6,
          12,
          31,
          143,
          253,
          325,
          282,
          185,
          44,
          null,
          null,
          null,
          null,
          null,
          null,
          null,
          null,
          null,
          null,
          null,
          null,
          null
         ]
        },
        {
         "name": "X360",
         "type": "bar",
         "x": [
          2016,
          2015,
          2014,
          2013,
          2012,
          2011,
          2010,
          2009,
          2008,
          2007,
          2006,
          2005,
          2004,
          2003,
          2002,
          2001,
          2000,
          1999,
          1998,
          1997,
          1996,
          1995,
          1994,
          1985
         ],
         "y": [
          13,
          35,
          63,
          75,
          106,
          206,
          182,
          172,
          146,
          123,
          93,
          18,
          null,
          null,
          null,
          null,
          null,
          null,
          null,
          null,
          null,
          null,
          null,
          null
         ]
        }
       ],
       "layout": {
        "template": {
         "data": {
          "bar": [
           {
            "error_x": {
             "color": "#2a3f5f"
            },
            "error_y": {
             "color": "#2a3f5f"
            },
            "marker": {
             "line": {
              "color": "#E5ECF6",
              "width": 0.5
             },
             "pattern": {
              "fillmode": "overlay",
              "size": 10,
              "solidity": 0.2
             }
            },
            "type": "bar"
           }
          ],
          "barpolar": [
           {
            "marker": {
             "line": {
              "color": "#E5ECF6",
              "width": 0.5
             },
             "pattern": {
              "fillmode": "overlay",
              "size": 10,
              "solidity": 0.2
             }
            },
            "type": "barpolar"
           }
          ],
          "carpet": [
           {
            "aaxis": {
             "endlinecolor": "#2a3f5f",
             "gridcolor": "white",
             "linecolor": "white",
             "minorgridcolor": "white",
             "startlinecolor": "#2a3f5f"
            },
            "baxis": {
             "endlinecolor": "#2a3f5f",
             "gridcolor": "white",
             "linecolor": "white",
             "minorgridcolor": "white",
             "startlinecolor": "#2a3f5f"
            },
            "type": "carpet"
           }
          ],
          "choropleth": [
           {
            "colorbar": {
             "outlinewidth": 0,
             "ticks": ""
            },
            "type": "choropleth"
           }
          ],
          "contour": [
           {
            "colorbar": {
             "outlinewidth": 0,
             "ticks": ""
            },
            "colorscale": [
             [
              0,
              "#0d0887"
             ],
             [
              0.1111111111111111,
              "#46039f"
             ],
             [
              0.2222222222222222,
              "#7201a8"
             ],
             [
              0.3333333333333333,
              "#9c179e"
             ],
             [
              0.4444444444444444,
              "#bd3786"
             ],
             [
              0.5555555555555556,
              "#d8576b"
             ],
             [
              0.6666666666666666,
              "#ed7953"
             ],
             [
              0.7777777777777778,
              "#fb9f3a"
             ],
             [
              0.8888888888888888,
              "#fdca26"
             ],
             [
              1,
              "#f0f921"
             ]
            ],
            "type": "contour"
           }
          ],
          "contourcarpet": [
           {
            "colorbar": {
             "outlinewidth": 0,
             "ticks": ""
            },
            "type": "contourcarpet"
           }
          ],
          "heatmap": [
           {
            "colorbar": {
             "outlinewidth": 0,
             "ticks": ""
            },
            "colorscale": [
             [
              0,
              "#0d0887"
             ],
             [
              0.1111111111111111,
              "#46039f"
             ],
             [
              0.2222222222222222,
              "#7201a8"
             ],
             [
              0.3333333333333333,
              "#9c179e"
             ],
             [
              0.4444444444444444,
              "#bd3786"
             ],
             [
              0.5555555555555556,
              "#d8576b"
             ],
             [
              0.6666666666666666,
              "#ed7953"
             ],
             [
              0.7777777777777778,
              "#fb9f3a"
             ],
             [
              0.8888888888888888,
              "#fdca26"
             ],
             [
              1,
              "#f0f921"
             ]
            ],
            "type": "heatmap"
           }
          ],
          "heatmapgl": [
           {
            "colorbar": {
             "outlinewidth": 0,
             "ticks": ""
            },
            "colorscale": [
             [
              0,
              "#0d0887"
             ],
             [
              0.1111111111111111,
              "#46039f"
             ],
             [
              0.2222222222222222,
              "#7201a8"
             ],
             [
              0.3333333333333333,
              "#9c179e"
             ],
             [
              0.4444444444444444,
              "#bd3786"
             ],
             [
              0.5555555555555556,
              "#d8576b"
             ],
             [
              0.6666666666666666,
              "#ed7953"
             ],
             [
              0.7777777777777778,
              "#fb9f3a"
             ],
             [
              0.8888888888888888,
              "#fdca26"
             ],
             [
              1,
              "#f0f921"
             ]
            ],
            "type": "heatmapgl"
           }
          ],
          "histogram": [
           {
            "marker": {
             "pattern": {
              "fillmode": "overlay",
              "size": 10,
              "solidity": 0.2
             }
            },
            "type": "histogram"
           }
          ],
          "histogram2d": [
           {
            "colorbar": {
             "outlinewidth": 0,
             "ticks": ""
            },
            "colorscale": [
             [
              0,
              "#0d0887"
             ],
             [
              0.1111111111111111,
              "#46039f"
             ],
             [
              0.2222222222222222,
              "#7201a8"
             ],
             [
              0.3333333333333333,
              "#9c179e"
             ],
             [
              0.4444444444444444,
              "#bd3786"
             ],
             [
              0.5555555555555556,
              "#d8576b"
             ],
             [
              0.6666666666666666,
              "#ed7953"
             ],
             [
              0.7777777777777778,
              "#fb9f3a"
             ],
             [
              0.8888888888888888,
              "#fdca26"
             ],
             [
              1,
              "#f0f921"
             ]
            ],
            "type": "histogram2d"
           }
          ],
          "histogram2dcontour": [
           {
            "colorbar": {
             "outlinewidth": 0,
             "ticks": ""
            },
            "colorscale": [
             [
              0,
              "#0d0887"
             ],
             [
              0.1111111111111111,
              "#46039f"
             ],
             [
              0.2222222222222222,
              "#7201a8"
             ],
             [
              0.3333333333333333,
              "#9c179e"
             ],
             [
              0.4444444444444444,
              "#bd3786"
             ],
             [
              0.5555555555555556,
              "#d8576b"
             ],
             [
              0.6666666666666666,
              "#ed7953"
             ],
             [
              0.7777777777777778,
              "#fb9f3a"
             ],
             [
              0.8888888888888888,
              "#fdca26"
             ],
             [
              1,
              "#f0f921"
             ]
            ],
            "type": "histogram2dcontour"
           }
          ],
          "mesh3d": [
           {
            "colorbar": {
             "outlinewidth": 0,
             "ticks": ""
            },
            "type": "mesh3d"
           }
          ],
          "parcoords": [
           {
            "line": {
             "colorbar": {
              "outlinewidth": 0,
              "ticks": ""
             }
            },
            "type": "parcoords"
           }
          ],
          "pie": [
           {
            "automargin": true,
            "type": "pie"
           }
          ],
          "scatter": [
           {
            "marker": {
             "colorbar": {
              "outlinewidth": 0,
              "ticks": ""
             }
            },
            "type": "scatter"
           }
          ],
          "scatter3d": [
           {
            "line": {
             "colorbar": {
              "outlinewidth": 0,
              "ticks": ""
             }
            },
            "marker": {
             "colorbar": {
              "outlinewidth": 0,
              "ticks": ""
             }
            },
            "type": "scatter3d"
           }
          ],
          "scattercarpet": [
           {
            "marker": {
             "colorbar": {
              "outlinewidth": 0,
              "ticks": ""
             }
            },
            "type": "scattercarpet"
           }
          ],
          "scattergeo": [
           {
            "marker": {
             "colorbar": {
              "outlinewidth": 0,
              "ticks": ""
             }
            },
            "type": "scattergeo"
           }
          ],
          "scattergl": [
           {
            "marker": {
             "colorbar": {
              "outlinewidth": 0,
              "ticks": ""
             }
            },
            "type": "scattergl"
           }
          ],
          "scattermapbox": [
           {
            "marker": {
             "colorbar": {
              "outlinewidth": 0,
              "ticks": ""
             }
            },
            "type": "scattermapbox"
           }
          ],
          "scatterpolar": [
           {
            "marker": {
             "colorbar": {
              "outlinewidth": 0,
              "ticks": ""
             }
            },
            "type": "scatterpolar"
           }
          ],
          "scatterpolargl": [
           {
            "marker": {
             "colorbar": {
              "outlinewidth": 0,
              "ticks": ""
             }
            },
            "type": "scatterpolargl"
           }
          ],
          "scatterternary": [
           {
            "marker": {
             "colorbar": {
              "outlinewidth": 0,
              "ticks": ""
             }
            },
            "type": "scatterternary"
           }
          ],
          "surface": [
           {
            "colorbar": {
             "outlinewidth": 0,
             "ticks": ""
            },
            "colorscale": [
             [
              0,
              "#0d0887"
             ],
             [
              0.1111111111111111,
              "#46039f"
             ],
             [
              0.2222222222222222,
              "#7201a8"
             ],
             [
              0.3333333333333333,
              "#9c179e"
             ],
             [
              0.4444444444444444,
              "#bd3786"
             ],
             [
              0.5555555555555556,
              "#d8576b"
             ],
             [
              0.6666666666666666,
              "#ed7953"
             ],
             [
              0.7777777777777778,
              "#fb9f3a"
             ],
             [
              0.8888888888888888,
              "#fdca26"
             ],
             [
              1,
              "#f0f921"
             ]
            ],
            "type": "surface"
           }
          ],
          "table": [
           {
            "cells": {
             "fill": {
              "color": "#EBF0F8"
             },
             "line": {
              "color": "white"
             }
            },
            "header": {
             "fill": {
              "color": "#C8D4E3"
             },
             "line": {
              "color": "white"
             }
            },
            "type": "table"
           }
          ]
         },
         "layout": {
          "annotationdefaults": {
           "arrowcolor": "#2a3f5f",
           "arrowhead": 0,
           "arrowwidth": 1
          },
          "autotypenumbers": "strict",
          "coloraxis": {
           "colorbar": {
            "outlinewidth": 0,
            "ticks": ""
           }
          },
          "colorscale": {
           "diverging": [
            [
             0,
             "#8e0152"
            ],
            [
             0.1,
             "#c51b7d"
            ],
            [
             0.2,
             "#de77ae"
            ],
            [
             0.3,
             "#f1b6da"
            ],
            [
             0.4,
             "#fde0ef"
            ],
            [
             0.5,
             "#f7f7f7"
            ],
            [
             0.6,
             "#e6f5d0"
            ],
            [
             0.7,
             "#b8e186"
            ],
            [
             0.8,
             "#7fbc41"
            ],
            [
             0.9,
             "#4d9221"
            ],
            [
             1,
             "#276419"
            ]
           ],
           "sequential": [
            [
             0,
             "#0d0887"
            ],
            [
             0.1111111111111111,
             "#46039f"
            ],
            [
             0.2222222222222222,
             "#7201a8"
            ],
            [
             0.3333333333333333,
             "#9c179e"
            ],
            [
             0.4444444444444444,
             "#bd3786"
            ],
            [
             0.5555555555555556,
             "#d8576b"
            ],
            [
             0.6666666666666666,
             "#ed7953"
            ],
            [
             0.7777777777777778,
             "#fb9f3a"
            ],
            [
             0.8888888888888888,
             "#fdca26"
            ],
            [
             1,
             "#f0f921"
            ]
           ],
           "sequentialminus": [
            [
             0,
             "#0d0887"
            ],
            [
             0.1111111111111111,
             "#46039f"
            ],
            [
             0.2222222222222222,
             "#7201a8"
            ],
            [
             0.3333333333333333,
             "#9c179e"
            ],
            [
             0.4444444444444444,
             "#bd3786"
            ],
            [
             0.5555555555555556,
             "#d8576b"
            ],
            [
             0.6666666666666666,
             "#ed7953"
            ],
            [
             0.7777777777777778,
             "#fb9f3a"
            ],
            [
             0.8888888888888888,
             "#fdca26"
            ],
            [
             1,
             "#f0f921"
            ]
           ]
          },
          "colorway": [
           "#636efa",
           "#EF553B",
           "#00cc96",
           "#ab63fa",
           "#FFA15A",
           "#19d3f3",
           "#FF6692",
           "#B6E880",
           "#FF97FF",
           "#FECB52"
          ],
          "font": {
           "color": "#2a3f5f"
          },
          "geo": {
           "bgcolor": "white",
           "lakecolor": "white",
           "landcolor": "#E5ECF6",
           "showlakes": true,
           "showland": true,
           "subunitcolor": "white"
          },
          "hoverlabel": {
           "align": "left"
          },
          "hovermode": "closest",
          "mapbox": {
           "style": "light"
          },
          "paper_bgcolor": "white",
          "plot_bgcolor": "#E5ECF6",
          "polar": {
           "angularaxis": {
            "gridcolor": "white",
            "linecolor": "white",
            "ticks": ""
           },
           "bgcolor": "#E5ECF6",
           "radialaxis": {
            "gridcolor": "white",
            "linecolor": "white",
            "ticks": ""
           }
          },
          "scene": {
           "xaxis": {
            "backgroundcolor": "#E5ECF6",
            "gridcolor": "white",
            "gridwidth": 2,
            "linecolor": "white",
            "showbackground": true,
            "ticks": "",
            "zerolinecolor": "white"
           },
           "yaxis": {
            "backgroundcolor": "#E5ECF6",
            "gridcolor": "white",
            "gridwidth": 2,
            "linecolor": "white",
            "showbackground": true,
            "ticks": "",
            "zerolinecolor": "white"
           },
           "zaxis": {
            "backgroundcolor": "#E5ECF6",
            "gridcolor": "white",
            "gridwidth": 2,
            "linecolor": "white",
            "showbackground": true,
            "ticks": "",
            "zerolinecolor": "white"
           }
          },
          "shapedefaults": {
           "line": {
            "color": "#2a3f5f"
           }
          },
          "ternary": {
           "aaxis": {
            "gridcolor": "white",
            "linecolor": "white",
            "ticks": ""
           },
           "baxis": {
            "gridcolor": "white",
            "linecolor": "white",
            "ticks": ""
           },
           "bgcolor": "#E5ECF6",
           "caxis": {
            "gridcolor": "white",
            "linecolor": "white",
            "ticks": ""
           }
          },
          "title": {
           "x": 0.05
          },
          "xaxis": {
           "automargin": true,
           "gridcolor": "white",
           "linecolor": "white",
           "ticks": "",
           "title": {
            "standoff": 15
           },
           "zerolinecolor": "white",
           "zerolinewidth": 2
          },
          "yaxis": {
           "automargin": true,
           "gridcolor": "white",
           "linecolor": "white",
           "ticks": "",
           "title": {
            "standoff": 15
           },
           "zerolinecolor": "white",
           "zerolinewidth": 2
          }
         }
        },
        "title": {
         "text": "График распределения платформ по годам"
        },
        "xaxis": {
         "title": {
          "text": "Года"
         }
        },
        "yaxis": {
         "title": {
          "text": "Количество платформ (шт)"
         }
        }
       }
      },
      "text/html": [
       "<div>                            <div id=\"bfd3db20-8337-4823-b927-024321d14a10\" class=\"plotly-graph-div\" style=\"height:525px; width:100%;\"></div>            <script type=\"text/javascript\">                require([\"plotly\"], function(Plotly) {                    window.PLOTLYENV=window.PLOTLYENV || {};                                    if (document.getElementById(\"bfd3db20-8337-4823-b927-024321d14a10\")) {                    Plotly.newPlot(                        \"bfd3db20-8337-4823-b927-024321d14a10\",                        [{\"name\":\"DS\",\"type\":\"bar\",\"x\":[2016.0,2015.0,2014.0,2013.0,2012.0,2011.0,2010.0,2009.0,2008.0,2007.0,2006.0,2005.0,2004.0,2003.0,2002.0,2001.0,2000.0,1999.0,1998.0,1997.0,1996.0,1995.0,1994.0,1985.0],\"y\":[null,null,null,8.0,23.0,153.0,323.0,403.0,492.0,376.0,201.0,118.0,23.0,null,null,null,null,null,null,null,null,null,null,1.0]},{\"name\":\"PS\",\"type\":\"bar\",\"x\":[2016.0,2015.0,2014.0,2013.0,2012.0,2011.0,2010.0,2009.0,2008.0,2007.0,2006.0,2005.0,2004.0,2003.0,2002.0,2001.0,2000.0,1999.0,1998.0,1997.0,1996.0,1995.0,1994.0,1985.0],\"y\":[null,null,null,null,null,null,null,null,null,null,null,null,null,3.0,20.0,91.0,160.0,200.0,248.0,188.0,164.0,99.0,17.0,null]},{\"name\":\"PS2\",\"type\":\"bar\",\"x\":[2016.0,2015.0,2014.0,2013.0,2012.0,2011.0,2010.0,2009.0,2008.0,2007.0,2006.0,2005.0,2004.0,2003.0,2002.0,2001.0,2000.0,1999.0,1998.0,1997.0,1996.0,1995.0,1994.0,1985.0],\"y\":[null,null,null,null,null,7.0,38.0,96.0,191.0,214.0,259.0,260.0,259.0,256.0,280.0,185.0,82.0,null,null,null,null,null,null,null]},{\"name\":\"PS3\",\"type\":\"bar\",\"x\":[2016.0,2015.0,2014.0,2013.0,2012.0,2011.0,2010.0,2009.0,2008.0,2007.0,2006.0,2005.0,2004.0,2003.0,2002.0,2001.0,2000.0,1999.0,1998.0,1997.0,1996.0,1995.0,1994.0,1985.0],\"y\":[38.0,73.0,108.0,126.0,148.0,215.0,181.0,162.0,138.0,90.0,27.0,null,null,null,null,null,null,null,null,null,null,null,null,null]},{\"name\":\"Wii\",\"type\":\"bar\",\"x\":[2016.0,2015.0,2014.0,2013.0,2012.0,2011.0,2010.0,2009.0,2008.0,2007.0,2006.0,2005.0,2004.0,2003.0,2002.0,2001.0,2000.0,1999.0,1998.0,1997.0,1996.0,1995.0,1994.0,1985.0],\"y\":[1.0,4.0,6.0,12.0,31.0,143.0,253.0,325.0,282.0,185.0,44.0,null,null,null,null,null,null,null,null,null,null,null,null,null]},{\"name\":\"X360\",\"type\":\"bar\",\"x\":[2016.0,2015.0,2014.0,2013.0,2012.0,2011.0,2010.0,2009.0,2008.0,2007.0,2006.0,2005.0,2004.0,2003.0,2002.0,2001.0,2000.0,1999.0,1998.0,1997.0,1996.0,1995.0,1994.0,1985.0],\"y\":[13.0,35.0,63.0,75.0,106.0,206.0,182.0,172.0,146.0,123.0,93.0,18.0,null,null,null,null,null,null,null,null,null,null,null,null]}],                        {\"template\":{\"data\":{\"bar\":[{\"error_x\":{\"color\":\"#2a3f5f\"},\"error_y\":{\"color\":\"#2a3f5f\"},\"marker\":{\"line\":{\"color\":\"#E5ECF6\",\"width\":0.5},\"pattern\":{\"fillmode\":\"overlay\",\"size\":10,\"solidity\":0.2}},\"type\":\"bar\"}],\"barpolar\":[{\"marker\":{\"line\":{\"color\":\"#E5ECF6\",\"width\":0.5},\"pattern\":{\"fillmode\":\"overlay\",\"size\":10,\"solidity\":0.2}},\"type\":\"barpolar\"}],\"carpet\":[{\"aaxis\":{\"endlinecolor\":\"#2a3f5f\",\"gridcolor\":\"white\",\"linecolor\":\"white\",\"minorgridcolor\":\"white\",\"startlinecolor\":\"#2a3f5f\"},\"baxis\":{\"endlinecolor\":\"#2a3f5f\",\"gridcolor\":\"white\",\"linecolor\":\"white\",\"minorgridcolor\":\"white\",\"startlinecolor\":\"#2a3f5f\"},\"type\":\"carpet\"}],\"choropleth\":[{\"colorbar\":{\"outlinewidth\":0,\"ticks\":\"\"},\"type\":\"choropleth\"}],\"contour\":[{\"colorbar\":{\"outlinewidth\":0,\"ticks\":\"\"},\"colorscale\":[[0.0,\"#0d0887\"],[0.1111111111111111,\"#46039f\"],[0.2222222222222222,\"#7201a8\"],[0.3333333333333333,\"#9c179e\"],[0.4444444444444444,\"#bd3786\"],[0.5555555555555556,\"#d8576b\"],[0.6666666666666666,\"#ed7953\"],[0.7777777777777778,\"#fb9f3a\"],[0.8888888888888888,\"#fdca26\"],[1.0,\"#f0f921\"]],\"type\":\"contour\"}],\"contourcarpet\":[{\"colorbar\":{\"outlinewidth\":0,\"ticks\":\"\"},\"type\":\"contourcarpet\"}],\"heatmap\":[{\"colorbar\":{\"outlinewidth\":0,\"ticks\":\"\"},\"colorscale\":[[0.0,\"#0d0887\"],[0.1111111111111111,\"#46039f\"],[0.2222222222222222,\"#7201a8\"],[0.3333333333333333,\"#9c179e\"],[0.4444444444444444,\"#bd3786\"],[0.5555555555555556,\"#d8576b\"],[0.6666666666666666,\"#ed7953\"],[0.7777777777777778,\"#fb9f3a\"],[0.8888888888888888,\"#fdca26\"],[1.0,\"#f0f921\"]],\"type\":\"heatmap\"}],\"heatmapgl\":[{\"colorbar\":{\"outlinewidth\":0,\"ticks\":\"\"},\"colorscale\":[[0.0,\"#0d0887\"],[0.1111111111111111,\"#46039f\"],[0.2222222222222222,\"#7201a8\"],[0.3333333333333333,\"#9c179e\"],[0.4444444444444444,\"#bd3786\"],[0.5555555555555556,\"#d8576b\"],[0.6666666666666666,\"#ed7953\"],[0.7777777777777778,\"#fb9f3a\"],[0.8888888888888888,\"#fdca26\"],[1.0,\"#f0f921\"]],\"type\":\"heatmapgl\"}],\"histogram\":[{\"marker\":{\"pattern\":{\"fillmode\":\"overlay\",\"size\":10,\"solidity\":0.2}},\"type\":\"histogram\"}],\"histogram2d\":[{\"colorbar\":{\"outlinewidth\":0,\"ticks\":\"\"},\"colorscale\":[[0.0,\"#0d0887\"],[0.1111111111111111,\"#46039f\"],[0.2222222222222222,\"#7201a8\"],[0.3333333333333333,\"#9c179e\"],[0.4444444444444444,\"#bd3786\"],[0.5555555555555556,\"#d8576b\"],[0.6666666666666666,\"#ed7953\"],[0.7777777777777778,\"#fb9f3a\"],[0.8888888888888888,\"#fdca26\"],[1.0,\"#f0f921\"]],\"type\":\"histogram2d\"}],\"histogram2dcontour\":[{\"colorbar\":{\"outlinewidth\":0,\"ticks\":\"\"},\"colorscale\":[[0.0,\"#0d0887\"],[0.1111111111111111,\"#46039f\"],[0.2222222222222222,\"#7201a8\"],[0.3333333333333333,\"#9c179e\"],[0.4444444444444444,\"#bd3786\"],[0.5555555555555556,\"#d8576b\"],[0.6666666666666666,\"#ed7953\"],[0.7777777777777778,\"#fb9f3a\"],[0.8888888888888888,\"#fdca26\"],[1.0,\"#f0f921\"]],\"type\":\"histogram2dcontour\"}],\"mesh3d\":[{\"colorbar\":{\"outlinewidth\":0,\"ticks\":\"\"},\"type\":\"mesh3d\"}],\"parcoords\":[{\"line\":{\"colorbar\":{\"outlinewidth\":0,\"ticks\":\"\"}},\"type\":\"parcoords\"}],\"pie\":[{\"automargin\":true,\"type\":\"pie\"}],\"scatter\":[{\"marker\":{\"colorbar\":{\"outlinewidth\":0,\"ticks\":\"\"}},\"type\":\"scatter\"}],\"scatter3d\":[{\"line\":{\"colorbar\":{\"outlinewidth\":0,\"ticks\":\"\"}},\"marker\":{\"colorbar\":{\"outlinewidth\":0,\"ticks\":\"\"}},\"type\":\"scatter3d\"}],\"scattercarpet\":[{\"marker\":{\"colorbar\":{\"outlinewidth\":0,\"ticks\":\"\"}},\"type\":\"scattercarpet\"}],\"scattergeo\":[{\"marker\":{\"colorbar\":{\"outlinewidth\":0,\"ticks\":\"\"}},\"type\":\"scattergeo\"}],\"scattergl\":[{\"marker\":{\"colorbar\":{\"outlinewidth\":0,\"ticks\":\"\"}},\"type\":\"scattergl\"}],\"scattermapbox\":[{\"marker\":{\"colorbar\":{\"outlinewidth\":0,\"ticks\":\"\"}},\"type\":\"scattermapbox\"}],\"scatterpolar\":[{\"marker\":{\"colorbar\":{\"outlinewidth\":0,\"ticks\":\"\"}},\"type\":\"scatterpolar\"}],\"scatterpolargl\":[{\"marker\":{\"colorbar\":{\"outlinewidth\":0,\"ticks\":\"\"}},\"type\":\"scatterpolargl\"}],\"scatterternary\":[{\"marker\":{\"colorbar\":{\"outlinewidth\":0,\"ticks\":\"\"}},\"type\":\"scatterternary\"}],\"surface\":[{\"colorbar\":{\"outlinewidth\":0,\"ticks\":\"\"},\"colorscale\":[[0.0,\"#0d0887\"],[0.1111111111111111,\"#46039f\"],[0.2222222222222222,\"#7201a8\"],[0.3333333333333333,\"#9c179e\"],[0.4444444444444444,\"#bd3786\"],[0.5555555555555556,\"#d8576b\"],[0.6666666666666666,\"#ed7953\"],[0.7777777777777778,\"#fb9f3a\"],[0.8888888888888888,\"#fdca26\"],[1.0,\"#f0f921\"]],\"type\":\"surface\"}],\"table\":[{\"cells\":{\"fill\":{\"color\":\"#EBF0F8\"},\"line\":{\"color\":\"white\"}},\"header\":{\"fill\":{\"color\":\"#C8D4E3\"},\"line\":{\"color\":\"white\"}},\"type\":\"table\"}]},\"layout\":{\"annotationdefaults\":{\"arrowcolor\":\"#2a3f5f\",\"arrowhead\":0,\"arrowwidth\":1},\"autotypenumbers\":\"strict\",\"coloraxis\":{\"colorbar\":{\"outlinewidth\":0,\"ticks\":\"\"}},\"colorscale\":{\"diverging\":[[0,\"#8e0152\"],[0.1,\"#c51b7d\"],[0.2,\"#de77ae\"],[0.3,\"#f1b6da\"],[0.4,\"#fde0ef\"],[0.5,\"#f7f7f7\"],[0.6,\"#e6f5d0\"],[0.7,\"#b8e186\"],[0.8,\"#7fbc41\"],[0.9,\"#4d9221\"],[1,\"#276419\"]],\"sequential\":[[0.0,\"#0d0887\"],[0.1111111111111111,\"#46039f\"],[0.2222222222222222,\"#7201a8\"],[0.3333333333333333,\"#9c179e\"],[0.4444444444444444,\"#bd3786\"],[0.5555555555555556,\"#d8576b\"],[0.6666666666666666,\"#ed7953\"],[0.7777777777777778,\"#fb9f3a\"],[0.8888888888888888,\"#fdca26\"],[1.0,\"#f0f921\"]],\"sequentialminus\":[[0.0,\"#0d0887\"],[0.1111111111111111,\"#46039f\"],[0.2222222222222222,\"#7201a8\"],[0.3333333333333333,\"#9c179e\"],[0.4444444444444444,\"#bd3786\"],[0.5555555555555556,\"#d8576b\"],[0.6666666666666666,\"#ed7953\"],[0.7777777777777778,\"#fb9f3a\"],[0.8888888888888888,\"#fdca26\"],[1.0,\"#f0f921\"]]},\"colorway\":[\"#636efa\",\"#EF553B\",\"#00cc96\",\"#ab63fa\",\"#FFA15A\",\"#19d3f3\",\"#FF6692\",\"#B6E880\",\"#FF97FF\",\"#FECB52\"],\"font\":{\"color\":\"#2a3f5f\"},\"geo\":{\"bgcolor\":\"white\",\"lakecolor\":\"white\",\"landcolor\":\"#E5ECF6\",\"showlakes\":true,\"showland\":true,\"subunitcolor\":\"white\"},\"hoverlabel\":{\"align\":\"left\"},\"hovermode\":\"closest\",\"mapbox\":{\"style\":\"light\"},\"paper_bgcolor\":\"white\",\"plot_bgcolor\":\"#E5ECF6\",\"polar\":{\"angularaxis\":{\"gridcolor\":\"white\",\"linecolor\":\"white\",\"ticks\":\"\"},\"bgcolor\":\"#E5ECF6\",\"radialaxis\":{\"gridcolor\":\"white\",\"linecolor\":\"white\",\"ticks\":\"\"}},\"scene\":{\"xaxis\":{\"backgroundcolor\":\"#E5ECF6\",\"gridcolor\":\"white\",\"gridwidth\":2,\"linecolor\":\"white\",\"showbackground\":true,\"ticks\":\"\",\"zerolinecolor\":\"white\"},\"yaxis\":{\"backgroundcolor\":\"#E5ECF6\",\"gridcolor\":\"white\",\"gridwidth\":2,\"linecolor\":\"white\",\"showbackground\":true,\"ticks\":\"\",\"zerolinecolor\":\"white\"},\"zaxis\":{\"backgroundcolor\":\"#E5ECF6\",\"gridcolor\":\"white\",\"gridwidth\":2,\"linecolor\":\"white\",\"showbackground\":true,\"ticks\":\"\",\"zerolinecolor\":\"white\"}},\"shapedefaults\":{\"line\":{\"color\":\"#2a3f5f\"}},\"ternary\":{\"aaxis\":{\"gridcolor\":\"white\",\"linecolor\":\"white\",\"ticks\":\"\"},\"baxis\":{\"gridcolor\":\"white\",\"linecolor\":\"white\",\"ticks\":\"\"},\"bgcolor\":\"#E5ECF6\",\"caxis\":{\"gridcolor\":\"white\",\"linecolor\":\"white\",\"ticks\":\"\"}},\"title\":{\"x\":0.05},\"xaxis\":{\"automargin\":true,\"gridcolor\":\"white\",\"linecolor\":\"white\",\"ticks\":\"\",\"title\":{\"standoff\":15},\"zerolinecolor\":\"white\",\"zerolinewidth\":2},\"yaxis\":{\"automargin\":true,\"gridcolor\":\"white\",\"linecolor\":\"white\",\"ticks\":\"\",\"title\":{\"standoff\":15},\"zerolinecolor\":\"white\",\"zerolinewidth\":2}}},\"title\":{\"text\":\"\\u0413\\u0440\\u0430\\u0444\\u0438\\u043a \\u0440\\u0430\\u0441\\u043f\\u0440\\u0435\\u0434\\u0435\\u043b\\u0435\\u043d\\u0438\\u044f \\u043f\\u043b\\u0430\\u0442\\u0444\\u043e\\u0440\\u043c \\u043f\\u043e \\u0433\\u043e\\u0434\\u0430\\u043c\"},\"xaxis\":{\"title\":{\"text\":\"\\u0413\\u043e\\u0434\\u0430\"}},\"yaxis\":{\"title\":{\"text\":\"\\u041a\\u043e\\u043b\\u0438\\u0447\\u0435\\u0441\\u0442\\u0432\\u043e \\u043f\\u043b\\u0430\\u0442\\u0444\\u043e\\u0440\\u043c (\\u0448\\u0442)\"}}},                        {\"responsive\": true}                    ).then(function(){\n",
       "                            \n",
       "var gd = document.getElementById('bfd3db20-8337-4823-b927-024321d14a10');\n",
       "var x = new MutationObserver(function (mutations, observer) {{\n",
       "        var display = window.getComputedStyle(gd).display;\n",
       "        if (!display || display === 'none') {{\n",
       "            console.log([gd, 'removed!']);\n",
       "            Plotly.purge(gd);\n",
       "            observer.disconnect();\n",
       "        }}\n",
       "}});\n",
       "\n",
       "// Listen for the removal of the full notebook cells\n",
       "var notebookContainer = gd.closest('#notebook-container');\n",
       "if (notebookContainer) {{\n",
       "    x.observe(notebookContainer, {childList: true});\n",
       "}}\n",
       "\n",
       "// Listen for the clearing of the current output cell\n",
       "var outputEl = gd.closest('.output');\n",
       "if (outputEl) {{\n",
       "    x.observe(outputEl, {childList: true});\n",
       "}}\n",
       "\n",
       "                        })                };                });            </script>        </div>"
      ]
     },
     "metadata": {},
     "output_type": "display_data"
    }
   ],
   "source": [
    "value_platforms_on_years = value_platforms.pivot_table(index='year_of_release', columns='platform',\n",
    "                                                       values='name', aggfunc='count')\n",
    "value_platforms_on_years.sort_values('year_of_release', ascending=False, inplace=True)\n",
    "\n",
    "data = [ go.Bar(                   \n",
    "    x=value_platforms_on_years.index,\n",
    "    y=value_platforms_on_years[platform_name],\n",
    "    name=platform_name\n",
    "               ) for platform_name in value_platforms_on_years.columns]\n",
    "\n",
    "layout = {'title': 'График распределения платформ по годам',\n",
    "          'xaxis': {'title': 'Года'},\n",
    "          'yaxis': {'title': 'Количество платформ (шт)'}}\n",
    "\n",
    "fig = go.Figure(data=data, layout=layout)\n",
    "iplot(fig, show_link=False)"
   ]
  },
  {
   "cell_type": "markdown",
   "metadata": {},
   "source": [
    "Характерный период это 9 лет (с 2005 по 2014). В 2005 появляются PS3 и Х360 и начинается рост игр на наших платформах, а в 2014 уже нет платформы DS и платформа Wii уже не такая популярная как в 2009."
   ]
  },
  {
   "cell_type": "markdown",
   "metadata": {
    "scrolled": true
   },
   "source": [
    "### Найдем актуальный период. Он поможет нам в будущем построить прогноз на 2017 год.\n",
    "\n",
    "**Не будем учитывать в работе данные за предыдущие года.**"
   ]
  },
  {
   "cell_type": "code",
   "execution_count": 30,
   "metadata": {},
   "outputs": [],
   "source": [
    "actual_period = df.query('year_of_release >= 2010')"
   ]
  },
  {
   "cell_type": "markdown",
   "metadata": {},
   "source": [
    "Период с 2010 выбрал по графику распределения платформ по годам т.к. с этого года есть рост и падение платформ."
   ]
  },
  {
   "cell_type": "markdown",
   "metadata": {
    "scrolled": true
   },
   "source": [
    "### Найдем платформы лидирующие по продажам."
   ]
  },
  {
   "cell_type": "markdown",
   "metadata": {},
   "source": [
    "Чтобы найти какие платформы растут или падают, нужно смотерть в сравнении, а не только данные за актуальный период."
   ]
  },
  {
   "cell_type": "code",
   "execution_count": 31,
   "metadata": {},
   "outputs": [],
   "source": [
    "leaders_platforms = actual_period.query(\n",
    "    'year_of_release == 2010').groupby('platform')[['all_sales']].sum().join(actual_period.query(\n",
    "    'year_of_release > 2010').groupby('platform')[['all_sales']].sum(), rsuffix='_right')"
   ]
  },
  {
   "cell_type": "markdown",
   "metadata": {},
   "source": [
    "Допустим, что потенциально прибыльные платформы это те которые выше 100млн продаж."
   ]
  },
  {
   "cell_type": "code",
   "execution_count": 32,
   "metadata": {},
   "outputs": [
    {
     "data": {
      "application/vnd.plotly.v1+json": {
       "config": {
        "linkText": "Export to plot.ly",
        "plotlyServerURL": "https://plot.ly",
        "showLink": false
       },
       "data": [
        {
         "name": "Данные за 2010г",
         "type": "bar",
         "x": [
          "X360",
          "PS3",
          "Wii",
          "DS",
          "PSP",
          "PC",
          "PS2"
         ],
         "y": [
          170.02999999999992,
          142.17000000000004,
          127.95,
          85.02,
          35.04000000000007,
          24.28000000000002,
          5.639999999999996
         ]
        },
        {
         "name": "Данные после 2010г",
         "type": "bar",
         "x": [
          "X360",
          "PS3",
          "Wii",
          "DS",
          "PSP",
          "PC",
          "PS2"
         ],
         "y": [
          380.37999999999903,
          445.5699999999984,
          95.02000000000011,
          38.73000000000005,
          29.01000000000002,
          97.68000000000009,
          0.45
         ]
        }
       ],
       "layout": {
        "template": {
         "data": {
          "bar": [
           {
            "error_x": {
             "color": "#2a3f5f"
            },
            "error_y": {
             "color": "#2a3f5f"
            },
            "marker": {
             "line": {
              "color": "#E5ECF6",
              "width": 0.5
             },
             "pattern": {
              "fillmode": "overlay",
              "size": 10,
              "solidity": 0.2
             }
            },
            "type": "bar"
           }
          ],
          "barpolar": [
           {
            "marker": {
             "line": {
              "color": "#E5ECF6",
              "width": 0.5
             },
             "pattern": {
              "fillmode": "overlay",
              "size": 10,
              "solidity": 0.2
             }
            },
            "type": "barpolar"
           }
          ],
          "carpet": [
           {
            "aaxis": {
             "endlinecolor": "#2a3f5f",
             "gridcolor": "white",
             "linecolor": "white",
             "minorgridcolor": "white",
             "startlinecolor": "#2a3f5f"
            },
            "baxis": {
             "endlinecolor": "#2a3f5f",
             "gridcolor": "white",
             "linecolor": "white",
             "minorgridcolor": "white",
             "startlinecolor": "#2a3f5f"
            },
            "type": "carpet"
           }
          ],
          "choropleth": [
           {
            "colorbar": {
             "outlinewidth": 0,
             "ticks": ""
            },
            "type": "choropleth"
           }
          ],
          "contour": [
           {
            "colorbar": {
             "outlinewidth": 0,
             "ticks": ""
            },
            "colorscale": [
             [
              0,
              "#0d0887"
             ],
             [
              0.1111111111111111,
              "#46039f"
             ],
             [
              0.2222222222222222,
              "#7201a8"
             ],
             [
              0.3333333333333333,
              "#9c179e"
             ],
             [
              0.4444444444444444,
              "#bd3786"
             ],
             [
              0.5555555555555556,
              "#d8576b"
             ],
             [
              0.6666666666666666,
              "#ed7953"
             ],
             [
              0.7777777777777778,
              "#fb9f3a"
             ],
             [
              0.8888888888888888,
              "#fdca26"
             ],
             [
              1,
              "#f0f921"
             ]
            ],
            "type": "contour"
           }
          ],
          "contourcarpet": [
           {
            "colorbar": {
             "outlinewidth": 0,
             "ticks": ""
            },
            "type": "contourcarpet"
           }
          ],
          "heatmap": [
           {
            "colorbar": {
             "outlinewidth": 0,
             "ticks": ""
            },
            "colorscale": [
             [
              0,
              "#0d0887"
             ],
             [
              0.1111111111111111,
              "#46039f"
             ],
             [
              0.2222222222222222,
              "#7201a8"
             ],
             [
              0.3333333333333333,
              "#9c179e"
             ],
             [
              0.4444444444444444,
              "#bd3786"
             ],
             [
              0.5555555555555556,
              "#d8576b"
             ],
             [
              0.6666666666666666,
              "#ed7953"
             ],
             [
              0.7777777777777778,
              "#fb9f3a"
             ],
             [
              0.8888888888888888,
              "#fdca26"
             ],
             [
              1,
              "#f0f921"
             ]
            ],
            "type": "heatmap"
           }
          ],
          "heatmapgl": [
           {
            "colorbar": {
             "outlinewidth": 0,
             "ticks": ""
            },
            "colorscale": [
             [
              0,
              "#0d0887"
             ],
             [
              0.1111111111111111,
              "#46039f"
             ],
             [
              0.2222222222222222,
              "#7201a8"
             ],
             [
              0.3333333333333333,
              "#9c179e"
             ],
             [
              0.4444444444444444,
              "#bd3786"
             ],
             [
              0.5555555555555556,
              "#d8576b"
             ],
             [
              0.6666666666666666,
              "#ed7953"
             ],
             [
              0.7777777777777778,
              "#fb9f3a"
             ],
             [
              0.8888888888888888,
              "#fdca26"
             ],
             [
              1,
              "#f0f921"
             ]
            ],
            "type": "heatmapgl"
           }
          ],
          "histogram": [
           {
            "marker": {
             "pattern": {
              "fillmode": "overlay",
              "size": 10,
              "solidity": 0.2
             }
            },
            "type": "histogram"
           }
          ],
          "histogram2d": [
           {
            "colorbar": {
             "outlinewidth": 0,
             "ticks": ""
            },
            "colorscale": [
             [
              0,
              "#0d0887"
             ],
             [
              0.1111111111111111,
              "#46039f"
             ],
             [
              0.2222222222222222,
              "#7201a8"
             ],
             [
              0.3333333333333333,
              "#9c179e"
             ],
             [
              0.4444444444444444,
              "#bd3786"
             ],
             [
              0.5555555555555556,
              "#d8576b"
             ],
             [
              0.6666666666666666,
              "#ed7953"
             ],
             [
              0.7777777777777778,
              "#fb9f3a"
             ],
             [
              0.8888888888888888,
              "#fdca26"
             ],
             [
              1,
              "#f0f921"
             ]
            ],
            "type": "histogram2d"
           }
          ],
          "histogram2dcontour": [
           {
            "colorbar": {
             "outlinewidth": 0,
             "ticks": ""
            },
            "colorscale": [
             [
              0,
              "#0d0887"
             ],
             [
              0.1111111111111111,
              "#46039f"
             ],
             [
              0.2222222222222222,
              "#7201a8"
             ],
             [
              0.3333333333333333,
              "#9c179e"
             ],
             [
              0.4444444444444444,
              "#bd3786"
             ],
             [
              0.5555555555555556,
              "#d8576b"
             ],
             [
              0.6666666666666666,
              "#ed7953"
             ],
             [
              0.7777777777777778,
              "#fb9f3a"
             ],
             [
              0.8888888888888888,
              "#fdca26"
             ],
             [
              1,
              "#f0f921"
             ]
            ],
            "type": "histogram2dcontour"
           }
          ],
          "mesh3d": [
           {
            "colorbar": {
             "outlinewidth": 0,
             "ticks": ""
            },
            "type": "mesh3d"
           }
          ],
          "parcoords": [
           {
            "line": {
             "colorbar": {
              "outlinewidth": 0,
              "ticks": ""
             }
            },
            "type": "parcoords"
           }
          ],
          "pie": [
           {
            "automargin": true,
            "type": "pie"
           }
          ],
          "scatter": [
           {
            "marker": {
             "colorbar": {
              "outlinewidth": 0,
              "ticks": ""
             }
            },
            "type": "scatter"
           }
          ],
          "scatter3d": [
           {
            "line": {
             "colorbar": {
              "outlinewidth": 0,
              "ticks": ""
             }
            },
            "marker": {
             "colorbar": {
              "outlinewidth": 0,
              "ticks": ""
             }
            },
            "type": "scatter3d"
           }
          ],
          "scattercarpet": [
           {
            "marker": {
             "colorbar": {
              "outlinewidth": 0,
              "ticks": ""
             }
            },
            "type": "scattercarpet"
           }
          ],
          "scattergeo": [
           {
            "marker": {
             "colorbar": {
              "outlinewidth": 0,
              "ticks": ""
             }
            },
            "type": "scattergeo"
           }
          ],
          "scattergl": [
           {
            "marker": {
             "colorbar": {
              "outlinewidth": 0,
              "ticks": ""
             }
            },
            "type": "scattergl"
           }
          ],
          "scattermapbox": [
           {
            "marker": {
             "colorbar": {
              "outlinewidth": 0,
              "ticks": ""
             }
            },
            "type": "scattermapbox"
           }
          ],
          "scatterpolar": [
           {
            "marker": {
             "colorbar": {
              "outlinewidth": 0,
              "ticks": ""
             }
            },
            "type": "scatterpolar"
           }
          ],
          "scatterpolargl": [
           {
            "marker": {
             "colorbar": {
              "outlinewidth": 0,
              "ticks": ""
             }
            },
            "type": "scatterpolargl"
           }
          ],
          "scatterternary": [
           {
            "marker": {
             "colorbar": {
              "outlinewidth": 0,
              "ticks": ""
             }
            },
            "type": "scatterternary"
           }
          ],
          "surface": [
           {
            "colorbar": {
             "outlinewidth": 0,
             "ticks": ""
            },
            "colorscale": [
             [
              0,
              "#0d0887"
             ],
             [
              0.1111111111111111,
              "#46039f"
             ],
             [
              0.2222222222222222,
              "#7201a8"
             ],
             [
              0.3333333333333333,
              "#9c179e"
             ],
             [
              0.4444444444444444,
              "#bd3786"
             ],
             [
              0.5555555555555556,
              "#d8576b"
             ],
             [
              0.6666666666666666,
              "#ed7953"
             ],
             [
              0.7777777777777778,
              "#fb9f3a"
             ],
             [
              0.8888888888888888,
              "#fdca26"
             ],
             [
              1,
              "#f0f921"
             ]
            ],
            "type": "surface"
           }
          ],
          "table": [
           {
            "cells": {
             "fill": {
              "color": "#EBF0F8"
             },
             "line": {
              "color": "white"
             }
            },
            "header": {
             "fill": {
              "color": "#C8D4E3"
             },
             "line": {
              "color": "white"
             }
            },
            "type": "table"
           }
          ]
         },
         "layout": {
          "annotationdefaults": {
           "arrowcolor": "#2a3f5f",
           "arrowhead": 0,
           "arrowwidth": 1
          },
          "autotypenumbers": "strict",
          "coloraxis": {
           "colorbar": {
            "outlinewidth": 0,
            "ticks": ""
           }
          },
          "colorscale": {
           "diverging": [
            [
             0,
             "#8e0152"
            ],
            [
             0.1,
             "#c51b7d"
            ],
            [
             0.2,
             "#de77ae"
            ],
            [
             0.3,
             "#f1b6da"
            ],
            [
             0.4,
             "#fde0ef"
            ],
            [
             0.5,
             "#f7f7f7"
            ],
            [
             0.6,
             "#e6f5d0"
            ],
            [
             0.7,
             "#b8e186"
            ],
            [
             0.8,
             "#7fbc41"
            ],
            [
             0.9,
             "#4d9221"
            ],
            [
             1,
             "#276419"
            ]
           ],
           "sequential": [
            [
             0,
             "#0d0887"
            ],
            [
             0.1111111111111111,
             "#46039f"
            ],
            [
             0.2222222222222222,
             "#7201a8"
            ],
            [
             0.3333333333333333,
             "#9c179e"
            ],
            [
             0.4444444444444444,
             "#bd3786"
            ],
            [
             0.5555555555555556,
             "#d8576b"
            ],
            [
             0.6666666666666666,
             "#ed7953"
            ],
            [
             0.7777777777777778,
             "#fb9f3a"
            ],
            [
             0.8888888888888888,
             "#fdca26"
            ],
            [
             1,
             "#f0f921"
            ]
           ],
           "sequentialminus": [
            [
             0,
             "#0d0887"
            ],
            [
             0.1111111111111111,
             "#46039f"
            ],
            [
             0.2222222222222222,
             "#7201a8"
            ],
            [
             0.3333333333333333,
             "#9c179e"
            ],
            [
             0.4444444444444444,
             "#bd3786"
            ],
            [
             0.5555555555555556,
             "#d8576b"
            ],
            [
             0.6666666666666666,
             "#ed7953"
            ],
            [
             0.7777777777777778,
             "#fb9f3a"
            ],
            [
             0.8888888888888888,
             "#fdca26"
            ],
            [
             1,
             "#f0f921"
            ]
           ]
          },
          "colorway": [
           "#636efa",
           "#EF553B",
           "#00cc96",
           "#ab63fa",
           "#FFA15A",
           "#19d3f3",
           "#FF6692",
           "#B6E880",
           "#FF97FF",
           "#FECB52"
          ],
          "font": {
           "color": "#2a3f5f"
          },
          "geo": {
           "bgcolor": "white",
           "lakecolor": "white",
           "landcolor": "#E5ECF6",
           "showlakes": true,
           "showland": true,
           "subunitcolor": "white"
          },
          "hoverlabel": {
           "align": "left"
          },
          "hovermode": "closest",
          "mapbox": {
           "style": "light"
          },
          "paper_bgcolor": "white",
          "plot_bgcolor": "#E5ECF6",
          "polar": {
           "angularaxis": {
            "gridcolor": "white",
            "linecolor": "white",
            "ticks": ""
           },
           "bgcolor": "#E5ECF6",
           "radialaxis": {
            "gridcolor": "white",
            "linecolor": "white",
            "ticks": ""
           }
          },
          "scene": {
           "xaxis": {
            "backgroundcolor": "#E5ECF6",
            "gridcolor": "white",
            "gridwidth": 2,
            "linecolor": "white",
            "showbackground": true,
            "ticks": "",
            "zerolinecolor": "white"
           },
           "yaxis": {
            "backgroundcolor": "#E5ECF6",
            "gridcolor": "white",
            "gridwidth": 2,
            "linecolor": "white",
            "showbackground": true,
            "ticks": "",
            "zerolinecolor": "white"
           },
           "zaxis": {
            "backgroundcolor": "#E5ECF6",
            "gridcolor": "white",
            "gridwidth": 2,
            "linecolor": "white",
            "showbackground": true,
            "ticks": "",
            "zerolinecolor": "white"
           }
          },
          "shapedefaults": {
           "line": {
            "color": "#2a3f5f"
           }
          },
          "ternary": {
           "aaxis": {
            "gridcolor": "white",
            "linecolor": "white",
            "ticks": ""
           },
           "baxis": {
            "gridcolor": "white",
            "linecolor": "white",
            "ticks": ""
           },
           "bgcolor": "#E5ECF6",
           "caxis": {
            "gridcolor": "white",
            "linecolor": "white",
            "ticks": ""
           }
          },
          "title": {
           "x": 0.05
          },
          "xaxis": {
           "automargin": true,
           "gridcolor": "white",
           "linecolor": "white",
           "ticks": "",
           "title": {
            "standoff": 15
           },
           "zerolinecolor": "white",
           "zerolinewidth": 2
          },
          "yaxis": {
           "automargin": true,
           "gridcolor": "white",
           "linecolor": "white",
           "ticks": "",
           "title": {
            "standoff": 15
           },
           "zerolinecolor": "white",
           "zerolinewidth": 2
          }
         }
        },
        "title": {
         "text": "График продаж по платформам"
        },
        "xaxis": {
         "title": {
          "text": "Платформы"
         }
        },
        "yaxis": {
         "title": {
          "text": "Количество продаж (млн)"
         }
        }
       }
      },
      "text/html": [
       "<div>                            <div id=\"5e8b62df-5e37-4395-81c9-0b0db1915b62\" class=\"plotly-graph-div\" style=\"height:525px; width:100%;\"></div>            <script type=\"text/javascript\">                require([\"plotly\"], function(Plotly) {                    window.PLOTLYENV=window.PLOTLYENV || {};                                    if (document.getElementById(\"5e8b62df-5e37-4395-81c9-0b0db1915b62\")) {                    Plotly.newPlot(                        \"5e8b62df-5e37-4395-81c9-0b0db1915b62\",                        [{\"name\":\"\\u0414\\u0430\\u043d\\u043d\\u044b\\u0435 \\u0437\\u0430 2010\\u0433\",\"type\":\"bar\",\"x\":[\"X360\",\"PS3\",\"Wii\",\"DS\",\"PSP\",\"PC\",\"PS2\"],\"y\":[170.02999999999992,142.17000000000004,127.95,85.02,35.04000000000007,24.28000000000002,5.639999999999996]},{\"name\":\"\\u0414\\u0430\\u043d\\u043d\\u044b\\u0435 \\u043f\\u043e\\u0441\\u043b\\u0435 2010\\u0433\",\"type\":\"bar\",\"x\":[\"X360\",\"PS3\",\"Wii\",\"DS\",\"PSP\",\"PC\",\"PS2\"],\"y\":[380.37999999999903,445.5699999999984,95.02000000000011,38.73000000000005,29.01000000000002,97.68000000000009,0.45]}],                        {\"template\":{\"data\":{\"bar\":[{\"error_x\":{\"color\":\"#2a3f5f\"},\"error_y\":{\"color\":\"#2a3f5f\"},\"marker\":{\"line\":{\"color\":\"#E5ECF6\",\"width\":0.5},\"pattern\":{\"fillmode\":\"overlay\",\"size\":10,\"solidity\":0.2}},\"type\":\"bar\"}],\"barpolar\":[{\"marker\":{\"line\":{\"color\":\"#E5ECF6\",\"width\":0.5},\"pattern\":{\"fillmode\":\"overlay\",\"size\":10,\"solidity\":0.2}},\"type\":\"barpolar\"}],\"carpet\":[{\"aaxis\":{\"endlinecolor\":\"#2a3f5f\",\"gridcolor\":\"white\",\"linecolor\":\"white\",\"minorgridcolor\":\"white\",\"startlinecolor\":\"#2a3f5f\"},\"baxis\":{\"endlinecolor\":\"#2a3f5f\",\"gridcolor\":\"white\",\"linecolor\":\"white\",\"minorgridcolor\":\"white\",\"startlinecolor\":\"#2a3f5f\"},\"type\":\"carpet\"}],\"choropleth\":[{\"colorbar\":{\"outlinewidth\":0,\"ticks\":\"\"},\"type\":\"choropleth\"}],\"contour\":[{\"colorbar\":{\"outlinewidth\":0,\"ticks\":\"\"},\"colorscale\":[[0.0,\"#0d0887\"],[0.1111111111111111,\"#46039f\"],[0.2222222222222222,\"#7201a8\"],[0.3333333333333333,\"#9c179e\"],[0.4444444444444444,\"#bd3786\"],[0.5555555555555556,\"#d8576b\"],[0.6666666666666666,\"#ed7953\"],[0.7777777777777778,\"#fb9f3a\"],[0.8888888888888888,\"#fdca26\"],[1.0,\"#f0f921\"]],\"type\":\"contour\"}],\"contourcarpet\":[{\"colorbar\":{\"outlinewidth\":0,\"ticks\":\"\"},\"type\":\"contourcarpet\"}],\"heatmap\":[{\"colorbar\":{\"outlinewidth\":0,\"ticks\":\"\"},\"colorscale\":[[0.0,\"#0d0887\"],[0.1111111111111111,\"#46039f\"],[0.2222222222222222,\"#7201a8\"],[0.3333333333333333,\"#9c179e\"],[0.4444444444444444,\"#bd3786\"],[0.5555555555555556,\"#d8576b\"],[0.6666666666666666,\"#ed7953\"],[0.7777777777777778,\"#fb9f3a\"],[0.8888888888888888,\"#fdca26\"],[1.0,\"#f0f921\"]],\"type\":\"heatmap\"}],\"heatmapgl\":[{\"colorbar\":{\"outlinewidth\":0,\"ticks\":\"\"},\"colorscale\":[[0.0,\"#0d0887\"],[0.1111111111111111,\"#46039f\"],[0.2222222222222222,\"#7201a8\"],[0.3333333333333333,\"#9c179e\"],[0.4444444444444444,\"#bd3786\"],[0.5555555555555556,\"#d8576b\"],[0.6666666666666666,\"#ed7953\"],[0.7777777777777778,\"#fb9f3a\"],[0.8888888888888888,\"#fdca26\"],[1.0,\"#f0f921\"]],\"type\":\"heatmapgl\"}],\"histogram\":[{\"marker\":{\"pattern\":{\"fillmode\":\"overlay\",\"size\":10,\"solidity\":0.2}},\"type\":\"histogram\"}],\"histogram2d\":[{\"colorbar\":{\"outlinewidth\":0,\"ticks\":\"\"},\"colorscale\":[[0.0,\"#0d0887\"],[0.1111111111111111,\"#46039f\"],[0.2222222222222222,\"#7201a8\"],[0.3333333333333333,\"#9c179e\"],[0.4444444444444444,\"#bd3786\"],[0.5555555555555556,\"#d8576b\"],[0.6666666666666666,\"#ed7953\"],[0.7777777777777778,\"#fb9f3a\"],[0.8888888888888888,\"#fdca26\"],[1.0,\"#f0f921\"]],\"type\":\"histogram2d\"}],\"histogram2dcontour\":[{\"colorbar\":{\"outlinewidth\":0,\"ticks\":\"\"},\"colorscale\":[[0.0,\"#0d0887\"],[0.1111111111111111,\"#46039f\"],[0.2222222222222222,\"#7201a8\"],[0.3333333333333333,\"#9c179e\"],[0.4444444444444444,\"#bd3786\"],[0.5555555555555556,\"#d8576b\"],[0.6666666666666666,\"#ed7953\"],[0.7777777777777778,\"#fb9f3a\"],[0.8888888888888888,\"#fdca26\"],[1.0,\"#f0f921\"]],\"type\":\"histogram2dcontour\"}],\"mesh3d\":[{\"colorbar\":{\"outlinewidth\":0,\"ticks\":\"\"},\"type\":\"mesh3d\"}],\"parcoords\":[{\"line\":{\"colorbar\":{\"outlinewidth\":0,\"ticks\":\"\"}},\"type\":\"parcoords\"}],\"pie\":[{\"automargin\":true,\"type\":\"pie\"}],\"scatter\":[{\"marker\":{\"colorbar\":{\"outlinewidth\":0,\"ticks\":\"\"}},\"type\":\"scatter\"}],\"scatter3d\":[{\"line\":{\"colorbar\":{\"outlinewidth\":0,\"ticks\":\"\"}},\"marker\":{\"colorbar\":{\"outlinewidth\":0,\"ticks\":\"\"}},\"type\":\"scatter3d\"}],\"scattercarpet\":[{\"marker\":{\"colorbar\":{\"outlinewidth\":0,\"ticks\":\"\"}},\"type\":\"scattercarpet\"}],\"scattergeo\":[{\"marker\":{\"colorbar\":{\"outlinewidth\":0,\"ticks\":\"\"}},\"type\":\"scattergeo\"}],\"scattergl\":[{\"marker\":{\"colorbar\":{\"outlinewidth\":0,\"ticks\":\"\"}},\"type\":\"scattergl\"}],\"scattermapbox\":[{\"marker\":{\"colorbar\":{\"outlinewidth\":0,\"ticks\":\"\"}},\"type\":\"scattermapbox\"}],\"scatterpolar\":[{\"marker\":{\"colorbar\":{\"outlinewidth\":0,\"ticks\":\"\"}},\"type\":\"scatterpolar\"}],\"scatterpolargl\":[{\"marker\":{\"colorbar\":{\"outlinewidth\":0,\"ticks\":\"\"}},\"type\":\"scatterpolargl\"}],\"scatterternary\":[{\"marker\":{\"colorbar\":{\"outlinewidth\":0,\"ticks\":\"\"}},\"type\":\"scatterternary\"}],\"surface\":[{\"colorbar\":{\"outlinewidth\":0,\"ticks\":\"\"},\"colorscale\":[[0.0,\"#0d0887\"],[0.1111111111111111,\"#46039f\"],[0.2222222222222222,\"#7201a8\"],[0.3333333333333333,\"#9c179e\"],[0.4444444444444444,\"#bd3786\"],[0.5555555555555556,\"#d8576b\"],[0.6666666666666666,\"#ed7953\"],[0.7777777777777778,\"#fb9f3a\"],[0.8888888888888888,\"#fdca26\"],[1.0,\"#f0f921\"]],\"type\":\"surface\"}],\"table\":[{\"cells\":{\"fill\":{\"color\":\"#EBF0F8\"},\"line\":{\"color\":\"white\"}},\"header\":{\"fill\":{\"color\":\"#C8D4E3\"},\"line\":{\"color\":\"white\"}},\"type\":\"table\"}]},\"layout\":{\"annotationdefaults\":{\"arrowcolor\":\"#2a3f5f\",\"arrowhead\":0,\"arrowwidth\":1},\"autotypenumbers\":\"strict\",\"coloraxis\":{\"colorbar\":{\"outlinewidth\":0,\"ticks\":\"\"}},\"colorscale\":{\"diverging\":[[0,\"#8e0152\"],[0.1,\"#c51b7d\"],[0.2,\"#de77ae\"],[0.3,\"#f1b6da\"],[0.4,\"#fde0ef\"],[0.5,\"#f7f7f7\"],[0.6,\"#e6f5d0\"],[0.7,\"#b8e186\"],[0.8,\"#7fbc41\"],[0.9,\"#4d9221\"],[1,\"#276419\"]],\"sequential\":[[0.0,\"#0d0887\"],[0.1111111111111111,\"#46039f\"],[0.2222222222222222,\"#7201a8\"],[0.3333333333333333,\"#9c179e\"],[0.4444444444444444,\"#bd3786\"],[0.5555555555555556,\"#d8576b\"],[0.6666666666666666,\"#ed7953\"],[0.7777777777777778,\"#fb9f3a\"],[0.8888888888888888,\"#fdca26\"],[1.0,\"#f0f921\"]],\"sequentialminus\":[[0.0,\"#0d0887\"],[0.1111111111111111,\"#46039f\"],[0.2222222222222222,\"#7201a8\"],[0.3333333333333333,\"#9c179e\"],[0.4444444444444444,\"#bd3786\"],[0.5555555555555556,\"#d8576b\"],[0.6666666666666666,\"#ed7953\"],[0.7777777777777778,\"#fb9f3a\"],[0.8888888888888888,\"#fdca26\"],[1.0,\"#f0f921\"]]},\"colorway\":[\"#636efa\",\"#EF553B\",\"#00cc96\",\"#ab63fa\",\"#FFA15A\",\"#19d3f3\",\"#FF6692\",\"#B6E880\",\"#FF97FF\",\"#FECB52\"],\"font\":{\"color\":\"#2a3f5f\"},\"geo\":{\"bgcolor\":\"white\",\"lakecolor\":\"white\",\"landcolor\":\"#E5ECF6\",\"showlakes\":true,\"showland\":true,\"subunitcolor\":\"white\"},\"hoverlabel\":{\"align\":\"left\"},\"hovermode\":\"closest\",\"mapbox\":{\"style\":\"light\"},\"paper_bgcolor\":\"white\",\"plot_bgcolor\":\"#E5ECF6\",\"polar\":{\"angularaxis\":{\"gridcolor\":\"white\",\"linecolor\":\"white\",\"ticks\":\"\"},\"bgcolor\":\"#E5ECF6\",\"radialaxis\":{\"gridcolor\":\"white\",\"linecolor\":\"white\",\"ticks\":\"\"}},\"scene\":{\"xaxis\":{\"backgroundcolor\":\"#E5ECF6\",\"gridcolor\":\"white\",\"gridwidth\":2,\"linecolor\":\"white\",\"showbackground\":true,\"ticks\":\"\",\"zerolinecolor\":\"white\"},\"yaxis\":{\"backgroundcolor\":\"#E5ECF6\",\"gridcolor\":\"white\",\"gridwidth\":2,\"linecolor\":\"white\",\"showbackground\":true,\"ticks\":\"\",\"zerolinecolor\":\"white\"},\"zaxis\":{\"backgroundcolor\":\"#E5ECF6\",\"gridcolor\":\"white\",\"gridwidth\":2,\"linecolor\":\"white\",\"showbackground\":true,\"ticks\":\"\",\"zerolinecolor\":\"white\"}},\"shapedefaults\":{\"line\":{\"color\":\"#2a3f5f\"}},\"ternary\":{\"aaxis\":{\"gridcolor\":\"white\",\"linecolor\":\"white\",\"ticks\":\"\"},\"baxis\":{\"gridcolor\":\"white\",\"linecolor\":\"white\",\"ticks\":\"\"},\"bgcolor\":\"#E5ECF6\",\"caxis\":{\"gridcolor\":\"white\",\"linecolor\":\"white\",\"ticks\":\"\"}},\"title\":{\"x\":0.05},\"xaxis\":{\"automargin\":true,\"gridcolor\":\"white\",\"linecolor\":\"white\",\"ticks\":\"\",\"title\":{\"standoff\":15},\"zerolinecolor\":\"white\",\"zerolinewidth\":2},\"yaxis\":{\"automargin\":true,\"gridcolor\":\"white\",\"linecolor\":\"white\",\"ticks\":\"\",\"title\":{\"standoff\":15},\"zerolinecolor\":\"white\",\"zerolinewidth\":2}}},\"title\":{\"text\":\"\\u0413\\u0440\\u0430\\u0444\\u0438\\u043a \\u043f\\u0440\\u043e\\u0434\\u0430\\u0436 \\u043f\\u043e \\u043f\\u043b\\u0430\\u0442\\u0444\\u043e\\u0440\\u043c\\u0430\\u043c\"},\"xaxis\":{\"title\":{\"text\":\"\\u041f\\u043b\\u0430\\u0442\\u0444\\u043e\\u0440\\u043c\\u044b\"}},\"yaxis\":{\"title\":{\"text\":\"\\u041a\\u043e\\u043b\\u0438\\u0447\\u0435\\u0441\\u0442\\u0432\\u043e \\u043f\\u0440\\u043e\\u0434\\u0430\\u0436 (\\u043c\\u043b\\u043d)\"}}},                        {\"responsive\": true}                    ).then(function(){\n",
       "                            \n",
       "var gd = document.getElementById('5e8b62df-5e37-4395-81c9-0b0db1915b62');\n",
       "var x = new MutationObserver(function (mutations, observer) {{\n",
       "        var display = window.getComputedStyle(gd).display;\n",
       "        if (!display || display === 'none') {{\n",
       "            console.log([gd, 'removed!']);\n",
       "            Plotly.purge(gd);\n",
       "            observer.disconnect();\n",
       "        }}\n",
       "}});\n",
       "\n",
       "// Listen for the removal of the full notebook cells\n",
       "var notebookContainer = gd.closest('#notebook-container');\n",
       "if (notebookContainer) {{\n",
       "    x.observe(notebookContainer, {childList: true});\n",
       "}}\n",
       "\n",
       "// Listen for the clearing of the current output cell\n",
       "var outputEl = gd.closest('.output');\n",
       "if (outputEl) {{\n",
       "    x.observe(outputEl, {childList: true});\n",
       "}}\n",
       "\n",
       "                        })                };                });            </script>        </div>"
      ]
     },
     "metadata": {},
     "output_type": "display_data"
    }
   ],
   "source": [
    "leaders_platforms.sort_values('all_sales', ascending=False, inplace=True)\n",
    "leaders_platforms.sort_values('all_sales', ascending=False, inplace=True)\n",
    "platforms = leaders_platforms.columns\n",
    "name = ['Данные за 2010г', 'Данные после 2010г']\n",
    "\n",
    "data = [ go.Bar(x=leaders_platforms.index,\n",
    "                y=leaders_platforms[platforms[i]],\n",
    "                name=name[i]) for i in range(len(platforms))]\n",
    "    \n",
    "layout = {'title': 'График продаж по платформам',\n",
    "          'xaxis': {'title': 'Платформы'},\n",
    "          'yaxis': {'title': 'Количество продаж (млн)'}}\n",
    "\n",
    "fig = go.Figure(data=data, layout=layout)\n",
    "iplot(fig, show_link=False)"
   ]
  },
  {
   "cell_type": "markdown",
   "metadata": {},
   "source": [
    "Данные за актуальный период.  \n",
    "Лидирует по продажам платформа X360. Актуальные платформы по продажам выделим 3 платформы: Х360, PS3 and Wii. Все остальные платформы не могу сказать растут или падают продажи т.к. это обзор за 2010 год.\n",
    "\n",
    "Данные после 2010.  \n",
    "Падение продаж произошло у платформ: Wii, DS, PSP, PS2  \n",
    "Рост платформ: X360, PS3, PC, 3DS\n",
    "\n",
    "Тем самым можно сделать прогноз на на 2017 год. Платформы X360, PS3, PC и 3DS будут определенно расти в продажах игр, а вот на остальные платформы в скором времени прекратят выпускать игры."
   ]
  },
  {
   "cell_type": "markdown",
   "metadata": {
    "scrolled": true
   },
   "source": [
    "### Построим график «ящик с усами» по глобальным продажам игр по платформам."
   ]
  },
  {
   "cell_type": "code",
   "execution_count": 33,
   "metadata": {},
   "outputs": [
    {
     "data": {
      "image/png": "[encoded data removed]",
      "text/plain": [
       "<Figure size 432x288 with 1 Axes>"
      ]
     },
     "metadata": {
      "needs_background": "light"
     },
     "output_type": "display_data"
    },
    {
     "data": {
      "text/html": [
       "<div>\n",
       "<style scoped>\n",
       "    .dataframe tbody tr th:only-of-type {\n",
       "        vertical-align: middle;\n",
       "    }\n",
       "\n",
       "    .dataframe tbody tr th {\n",
       "        vertical-align: top;\n",
       "    }\n",
       "\n",
       "    .dataframe thead th {\n",
       "        text-align: right;\n",
       "    }\n",
       "</style>\n",
       "<table border=\"1\" class=\"dataframe\">\n",
       "  <thead>\n",
       "    <tr style=\"text-align: right;\">\n",
       "      <th></th>\n",
       "      <th>all_sales</th>\n",
       "    </tr>\n",
       "  </thead>\n",
       "  <tbody>\n",
       "    <tr>\n",
       "      <td>count</td>\n",
       "      <td>31.000000</td>\n",
       "    </tr>\n",
       "    <tr>\n",
       "      <td>mean</td>\n",
       "      <td>287.525484</td>\n",
       "    </tr>\n",
       "    <tr>\n",
       "      <td>std</td>\n",
       "      <td>348.220029</td>\n",
       "    </tr>\n",
       "    <tr>\n",
       "      <td>min</td>\n",
       "      <td>0.030000</td>\n",
       "    </tr>\n",
       "    <tr>\n",
       "      <td>25%</td>\n",
       "      <td>22.150000</td>\n",
       "    </tr>\n",
       "    <tr>\n",
       "      <td>50%</td>\n",
       "      <td>200.040000</td>\n",
       "    </tr>\n",
       "    <tr>\n",
       "      <td>75%</td>\n",
       "      <td>304.095000</td>\n",
       "    </tr>\n",
       "    <tr>\n",
       "      <td>max</td>\n",
       "      <td>1255.770000</td>\n",
       "    </tr>\n",
       "  </tbody>\n",
       "</table>\n",
       "</div>"
      ],
      "text/plain": [
       "         all_sales\n",
       "count    31.000000\n",
       "mean    287.525484\n",
       "std     348.220029\n",
       "min       0.030000\n",
       "25%      22.150000\n",
       "50%     200.040000\n",
       "75%     304.095000\n",
       "max    1255.770000"
      ]
     },
     "execution_count": 33,
     "metadata": {},
     "output_type": "execute_result"
    }
   ],
   "source": [
    "global_sales_by_platform = df.pivot_table(index='platform', values='all_sales', aggfunc='sum')\n",
    "global_sales_by_platform.boxplot()\n",
    "plt.title('Глобальные продажи игр по платформам')\n",
    "plt.ylabel('Количетсво (млн)')\n",
    "plt.show()\n",
    "global_sales_by_platform.describe()"
   ]
  },
  {
   "cell_type": "markdown",
   "metadata": {},
   "source": [
    "Видим основная концентрация продаж от 22млн до 304млн, есть выбросы, но их не много. Медиана у нас 200млн."
   ]
  },
  {
   "cell_type": "code",
   "execution_count": 34,
   "metadata": {},
   "outputs": [
    {
     "data": {
      "text/plain": [
       "platform\n",
       "PS2     1255.77\n",
       "X360     971.42\n",
       "PS3      939.65\n",
       "Wii      907.51\n",
       "DS       806.12\n",
       "PS       730.86\n",
       "GBA      317.85\n",
       "PS4      314.14\n",
       "PSP      294.05\n",
       "PC       259.52\n",
       "3DS      259.00\n",
       "XB       257.74\n",
       "GB       255.46\n",
       "NES      251.05\n",
       "N64      218.68\n",
       "SNES     200.04\n",
       "GC       198.93\n",
       "XOne     159.32\n",
       "2600      96.98\n",
       "WiiU      82.19\n",
       "PSV       54.07\n",
       "SAT       33.59\n",
       "GEN       28.35\n",
       "DC        15.95\n",
       "SCD        1.86\n",
       "NG         1.44\n",
       "WS         1.42\n",
       "TG16       0.16\n",
       "3DO        0.10\n",
       "GG         0.04\n",
       "PCFX       0.03\n",
       "Name: all_sales, dtype: float64"
      ]
     },
     "execution_count": 34,
     "metadata": {},
     "output_type": "execute_result"
    }
   ],
   "source": [
    "df.groupby('platform')['all_sales'].sum().sort_values(ascending=False)"
   ]
  },
  {
   "cell_type": "markdown",
   "metadata": {},
   "source": [
    "Если сгурппировать по платформам, то видно, что самые большие продажи игр у платформы PS2. Это самая популярная платформа."
   ]
  },
  {
   "cell_type": "markdown",
   "metadata": {},
   "source": [
    "### Глянем, как влияют на продажи внутри одной популярной платформы отзывы пользователей и критиков."
   ]
  },
  {
   "cell_type": "code",
   "execution_count": 35,
   "metadata": {},
   "outputs": [],
   "source": [
    "top_platform = df.query('platform == \"PS2\"')"
   ]
  },
  {
   "cell_type": "code",
   "execution_count": 36,
   "metadata": {},
   "outputs": [
    {
     "data": {
      "image/png": "[encoded data removed]",
      "text/plain": [
       "<Figure size 936x432 with 1 Axes>"
      ]
     },
     "metadata": {
      "needs_background": "light"
     },
     "output_type": "display_data"
    },
    {
     "data": {
      "image/png": "[encoded data removed]",
      "text/plain": [
       "<Figure size 936x432 with 1 Axes>"
      ]
     },
     "metadata": {
      "needs_background": "light"
     },
     "output_type": "display_data"
    }
   ],
   "source": [
    "top_platform.plot(x='all_sales',\n",
    "                  y='critic_score',\n",
    "                  kind='scatter',\n",
    "                  figsize=(13, 6),\n",
    "                  alpha=0.3,\n",
    "                  grid=True,\n",
    "                  title=('Диаграмма продаж и отзывов критиков')\n",
    "                  )\n",
    "plt.xlabel('Количество продаж (млн)')\n",
    "plt.ylabel('Оценка критиков')\n",
    "plt.show()\n",
    "\n",
    "top_platform.plot(x='all_sales',\n",
    "                  y='user_score',\n",
    "                  kind='scatter',\n",
    "                  figsize=(13, 6),\n",
    "                  alpha=0.3,\n",
    "                  ylim=(0, 10),\n",
    "                  grid=True,\n",
    "                  title=('Диаграмма продаж и отзывов пользователей')\n",
    "                  )\n",
    "plt.xlabel('Количество продаж (млн)')\n",
    "plt.ylabel('Оценка пользователей')\n",
    "plt.show()"
   ]
  },
  {
   "cell_type": "code",
   "execution_count": 37,
   "metadata": {},
   "outputs": [
    {
     "data": {
      "text/plain": [
       "'Корреляция продаж и отзывов критиков:      0.3954345494545487'"
      ]
     },
     "metadata": {},
     "output_type": "display_data"
    },
    {
     "data": {
      "text/plain": [
       "'Корреляция продаж и отзывов пользователей: 0.17286551112058213'"
      ]
     },
     "metadata": {},
     "output_type": "display_data"
    }
   ],
   "source": [
    "top_critic_score = top_platform.all_sales.corr(top_platform.critic_score)\n",
    "top_user_score = top_platform.all_sales.corr(top_platform.user_score)\n",
    "display(f'Корреляция продаж и отзывов критиков:      {top_critic_score}',\n",
    "        f'Корреляция продаж и отзывов пользователей: {top_user_score}')"
   ]
  },
  {
   "cell_type": "markdown",
   "metadata": {},
   "source": [
    "Наблюдаем, что с ростом оценки возрастают и продажи игр на этой платформе. Только вот зависимость у них не сильная. Самая большая зависимость продаж это от оценки отзывов критиков, т.к. можно предположить, что его оценка для многих важна, ведь этот человек значет о чем говорит, это его работа. Ему верят, по этому покупают чаще, чем игры на которые поставили оценку пользователи."
   ]
  },
  {
   "cell_type": "markdown",
   "metadata": {},
   "source": [
    "### Соотнесем выводы с продажами игр на других платформах."
   ]
  },
  {
   "cell_type": "code",
   "execution_count": 38,
   "metadata": {},
   "outputs": [],
   "source": [
    "other_platforms = df.query('platform != \"PS2\"')"
   ]
  },
  {
   "cell_type": "code",
   "execution_count": 39,
   "metadata": {},
   "outputs": [
    {
     "data": {
      "image/png": "[encoded data removed]",
      "text/plain": [
       "<Figure size 936x432 with 1 Axes>"
      ]
     },
     "metadata": {
      "needs_background": "light"
     },
     "output_type": "display_data"
    },
    {
     "data": {
      "image/png": "[encoded data removed]",
      "text/plain": [
       "<Figure size 936x432 with 1 Axes>"
      ]
     },
     "metadata": {
      "needs_background": "light"
     },
     "output_type": "display_data"
    }
   ],
   "source": [
    "other_platforms.plot(x='all_sales',\n",
    "                  y='critic_score',\n",
    "                  kind='scatter',\n",
    "                  figsize=(13, 6),\n",
    "                  alpha=0.3,\n",
    "                  grid=True,\n",
    "                  title=('Диаграмма продаж и отзывов критиков')\n",
    "                  )\n",
    "plt.xlabel('Количество продаж (млн)')\n",
    "plt.ylabel('Оценка критиков')\n",
    "plt.show()\n",
    "\n",
    "other_platforms.plot(x='all_sales',\n",
    "                  y='user_score',\n",
    "                  kind='scatter',\n",
    "                  figsize=(13, 6),\n",
    "                  alpha=0.3,\n",
    "                  ylim=(0, 10),\n",
    "                  grid=True,\n",
    "                  title=('Диаграмма продаж и отзывов пользователей')\n",
    "                  )\n",
    "plt.xlabel('Количество продаж (млн)')\n",
    "plt.ylabel('Оценка пользователей')\n",
    "plt.show()"
   ]
  },
  {
   "cell_type": "code",
   "execution_count": 40,
   "metadata": {},
   "outputs": [
    {
     "data": {
      "text/plain": [
       "'Топ платформа    | Корреляция продаж и отзывов критиков: 0.3954345494545487'"
      ]
     },
     "metadata": {},
     "output_type": "display_data"
    },
    {
     "data": {
      "text/plain": [
       "'Другие платформы  | Корреляция продаж и отзывов критиков: 0.2273821385284529'"
      ]
     },
     "metadata": {},
     "output_type": "display_data"
    },
    {
     "data": {
      "text/plain": [
       "'                                                                                                    '"
      ]
     },
     "metadata": {},
     "output_type": "display_data"
    },
    {
     "data": {
      "text/plain": [
       "'Топ платформа    | Корреляция продаж и отзывов пользователей: 0.17286551112058213'"
      ]
     },
     "metadata": {},
     "output_type": "display_data"
    },
    {
     "data": {
      "text/plain": [
       "'Другие платформы  | Корреляция продаж и отзывов пользователей: 0.07664164557482003'"
      ]
     },
     "metadata": {},
     "output_type": "display_data"
    }
   ],
   "source": [
    "other_critic_score = other_platforms.all_sales.corr(other_platforms.critic_score)\n",
    "other_user_score = other_platforms.all_sales.corr(other_platforms.user_score)\n",
    "display(f'Топ платформа    | Корреляция продаж и отзывов критиков: {top_critic_score}',\n",
    "        f'Другие платформы  | Корреляция продаж и отзывов критиков: {other_critic_score}',\n",
    "        ' '*100,\n",
    "        f'Топ платформа    | Корреляция продаж и отзывов пользователей: {top_user_score}',\n",
    "        f'Другие платформы  | Корреляция продаж и отзывов пользователей: {other_user_score}'\n",
    "       )"
   ]
  },
  {
   "cell_type": "markdown",
   "metadata": {},
   "source": [
    "Сопоставив значения видим, что несмотря на то, что других платформ суммарно больше во всех смыслах, зависимость по отзывам пользователей и критиков меньше почти в 2 раза! Это говорит о том, что PS2 это платформа которая нрав большенству людей и если выходит игра пользоватули готовы их покупать чаще, чем на другие платформы."
   ]
  },
  {
   "cell_type": "markdown",
   "metadata": {},
   "source": [
    "### Посмотрим на общее распределение игр по жанрам."
   ]
  },
  {
   "cell_type": "code",
   "execution_count": 41,
   "metadata": {},
   "outputs": [],
   "source": [
    "distribution_by_genre = df.pivot_table(index='genre', values='all_sales', aggfunc=['sum', 'count'])\n",
    "distribution_by_genre.columns = ['sum_genre', 'number_genre']\n",
    "distribution_by_genre.sort_values('sum_genre', ascending=False, inplace=True)"
   ]
  },
  {
   "cell_type": "code",
   "execution_count": 42,
   "metadata": {},
   "outputs": [
    {
     "data": {
      "application/vnd.plotly.v1+json": {
       "config": {
        "linkText": "Export to plot.ly",
        "plotlyServerURL": "https://plot.ly",
        "showLink": false
       },
       "data": [
        {
         "name": "Суммарные продажи игр (млн)",
         "type": "bar",
         "x": [
          "Action",
          "Sports",
          "Shooter",
          "Role-Playing",
          "Platform",
          "Misc",
          "Racing",
          "Fighting",
          "Simulation",
          "Puzzle",
          "Adventure",
          "Strategy"
         ],
         "y": [
          1744.1699999999694,
          1331.269999999986,
          1052.449999999977,
          934.5599999999939,
          827.7699999999961,
          802.509999999992,
          728.6699999999944,
          447.52999999999855,
          389.9699999999978,
          242.5700000000005,
          237.59000000000125,
          174.2300000000004
         ]
        },
        {
         "name": "Количество игр (шт)",
         "type": "bar",
         "x": [
          "Action",
          "Sports",
          "Shooter",
          "Role-Playing",
          "Platform",
          "Misc",
          "Racing",
          "Fighting",
          "Simulation",
          "Puzzle",
          "Adventure",
          "Strategy"
         ],
         "y": [
          3369,
          2348,
          1323,
          1498,
          888,
          1750,
          1249,
          849,
          873,
          580,
          1303,
          683
         ]
        }
       ],
       "layout": {
        "template": {
         "data": {
          "bar": [
           {
            "error_x": {
             "color": "#2a3f5f"
            },
            "error_y": {
             "color": "#2a3f5f"
            },
            "marker": {
             "line": {
              "color": "#E5ECF6",
              "width": 0.5
             },
             "pattern": {
              "fillmode": "overlay",
              "size": 10,
              "solidity": 0.2
             }
            },
            "type": "bar"
           }
          ],
          "barpolar": [
           {
            "marker": {
             "line": {
              "color": "#E5ECF6",
              "width": 0.5
             },
             "pattern": {
              "fillmode": "overlay",
              "size": 10,
              "solidity": 0.2
             }
            },
            "type": "barpolar"
           }
          ],
          "carpet": [
           {
            "aaxis": {
             "endlinecolor": "#2a3f5f",
             "gridcolor": "white",
             "linecolor": "white",
             "minorgridcolor": "white",
             "startlinecolor": "#2a3f5f"
            },
            "baxis": {
             "endlinecolor": "#2a3f5f",
             "gridcolor": "white",
             "linecolor": "white",
             "minorgridcolor": "white",
             "startlinecolor": "#2a3f5f"
            },
            "type": "carpet"
           }
          ],
          "choropleth": [
           {
            "colorbar": {
             "outlinewidth": 0,
             "ticks": ""
            },
            "type": "choropleth"
           }
          ],
          "contour": [
           {
            "colorbar": {
             "outlinewidth": 0,
             "ticks": ""
            },
            "colorscale": [
             [
              0,
              "#0d0887"
             ],
             [
              0.1111111111111111,
              "#46039f"
             ],
             [
              0.2222222222222222,
              "#7201a8"
             ],
             [
              0.3333333333333333,
              "#9c179e"
             ],
             [
              0.4444444444444444,
              "#bd3786"
             ],
             [
              0.5555555555555556,
              "#d8576b"
             ],
             [
              0.6666666666666666,
              "#ed7953"
             ],
             [
              0.7777777777777778,
              "#fb9f3a"
             ],
             [
              0.8888888888888888,
              "#fdca26"
             ],
             [
              1,
              "#f0f921"
             ]
            ],
            "type": "contour"
           }
          ],
          "contourcarpet": [
           {
            "colorbar": {
             "outlinewidth": 0,
             "ticks": ""
            },
            "type": "contourcarpet"
           }
          ],
          "heatmap": [
           {
            "colorbar": {
             "outlinewidth": 0,
             "ticks": ""
            },
            "colorscale": [
             [
              0,
              "#0d0887"
             ],
             [
              0.1111111111111111,
              "#46039f"
             ],
             [
              0.2222222222222222,
              "#7201a8"
             ],
             [
              0.3333333333333333,
              "#9c179e"
             ],
             [
              0.4444444444444444,
              "#bd3786"
             ],
             [
              0.5555555555555556,
              "#d8576b"
             ],
             [
              0.6666666666666666,
              "#ed7953"
             ],
             [
              0.7777777777777778,
              "#fb9f3a"
             ],
             [
              0.8888888888888888,
              "#fdca26"
             ],
             [
              1,
              "#f0f921"
             ]
            ],
            "type": "heatmap"
           }
          ],
          "heatmapgl": [
           {
            "colorbar": {
             "outlinewidth": 0,
             "ticks": ""
            },
            "colorscale": [
             [
              0,
              "#0d0887"
             ],
             [
              0.1111111111111111,
              "#46039f"
             ],
             [
              0.2222222222222222,
              "#7201a8"
             ],
             [
              0.3333333333333333,
              "#9c179e"
             ],
             [
              0.4444444444444444,
              "#bd3786"
             ],
             [
              0.5555555555555556,
              "#d8576b"
             ],
             [
              0.6666666666666666,
              "#ed7953"
             ],
             [
              0.7777777777777778,
              "#fb9f3a"
             ],
             [
              0.8888888888888888,
              "#fdca26"
             ],
             [
              1,
              "#f0f921"
             ]
            ],
            "type": "heatmapgl"
           }
          ],
          "histogram": [
           {
            "marker": {
             "pattern": {
              "fillmode": "overlay",
              "size": 10,
              "solidity": 0.2
             }
            },
            "type": "histogram"
           }
          ],
          "histogram2d": [
           {
            "colorbar": {
             "outlinewidth": 0,
             "ticks": ""
            },
            "colorscale": [
             [
              0,
              "#0d0887"
             ],
             [
              0.1111111111111111,
              "#46039f"
             ],
             [
              0.2222222222222222,
              "#7201a8"
             ],
             [
              0.3333333333333333,
              "#9c179e"
             ],
             [
              0.4444444444444444,
              "#bd3786"
             ],
             [
              0.5555555555555556,
              "#d8576b"
             ],
             [
              0.6666666666666666,
              "#ed7953"
             ],
             [
              0.7777777777777778,
              "#fb9f3a"
             ],
             [
              0.8888888888888888,
              "#fdca26"
             ],
             [
              1,
              "#f0f921"
             ]
            ],
            "type": "histogram2d"
           }
          ],
          "histogram2dcontour": [
           {
            "colorbar": {
             "outlinewidth": 0,
             "ticks": ""
            },
            "colorscale": [
             [
              0,
              "#0d0887"
             ],
             [
              0.1111111111111111,
              "#46039f"
             ],
             [
              0.2222222222222222,
              "#7201a8"
             ],
             [
              0.3333333333333333,
              "#9c179e"
             ],
             [
              0.4444444444444444,
              "#bd3786"
             ],
             [
              0.5555555555555556,
              "#d8576b"
             ],
             [
              0.6666666666666666,
              "#ed7953"
             ],
             [
              0.7777777777777778,
              "#fb9f3a"
             ],
             [
              0.8888888888888888,
              "#fdca26"
             ],
             [
              1,
              "#f0f921"
             ]
            ],
            "type": "histogram2dcontour"
           }
          ],
          "mesh3d": [
           {
            "colorbar": {
             "outlinewidth": 0,
             "ticks": ""
            },
            "type": "mesh3d"
           }
          ],
          "parcoords": [
           {
            "line": {
             "colorbar": {
              "outlinewidth": 0,
              "ticks": ""
             }
            },
            "type": "parcoords"
           }
          ],
          "pie": [
           {
            "automargin": true,
            "type": "pie"
           }
          ],
          "scatter": [
           {
            "marker": {
             "colorbar": {
              "outlinewidth": 0,
              "ticks": ""
             }
            },
            "type": "scatter"
           }
          ],
          "scatter3d": [
           {
            "line": {
             "colorbar": {
              "outlinewidth": 0,
              "ticks": ""
             }
            },
            "marker": {
             "colorbar": {
              "outlinewidth": 0,
              "ticks": ""
             }
            },
            "type": "scatter3d"
           }
          ],
          "scattercarpet": [
           {
            "marker": {
             "colorbar": {
              "outlinewidth": 0,
              "ticks": ""
             }
            },
            "type": "scattercarpet"
           }
          ],
          "scattergeo": [
           {
            "marker": {
             "colorbar": {
              "outlinewidth": 0,
              "ticks": ""
             }
            },
            "type": "scattergeo"
           }
          ],
          "scattergl": [
           {
            "marker": {
             "colorbar": {
              "outlinewidth": 0,
              "ticks": ""
             }
            },
            "type": "scattergl"
           }
          ],
          "scattermapbox": [
           {
            "marker": {
             "colorbar": {
              "outlinewidth": 0,
              "ticks": ""
             }
            },
            "type": "scattermapbox"
           }
          ],
          "scatterpolar": [
           {
            "marker": {
             "colorbar": {
              "outlinewidth": 0,
              "ticks": ""
             }
            },
            "type": "scatterpolar"
           }
          ],
          "scatterpolargl": [
           {
            "marker": {
             "colorbar": {
              "outlinewidth": 0,
              "ticks": ""
             }
            },
            "type": "scatterpolargl"
           }
          ],
          "scatterternary": [
           {
            "marker": {
             "colorbar": {
              "outlinewidth": 0,
              "ticks": ""
             }
            },
            "type": "scatterternary"
           }
          ],
          "surface": [
           {
            "colorbar": {
             "outlinewidth": 0,
             "ticks": ""
            },
            "colorscale": [
             [
              0,
              "#0d0887"
             ],
             [
              0.1111111111111111,
              "#46039f"
             ],
             [
              0.2222222222222222,
              "#7201a8"
             ],
             [
              0.3333333333333333,
              "#9c179e"
             ],
             [
              0.4444444444444444,
              "#bd3786"
             ],
             [
              0.5555555555555556,
              "#d8576b"
             ],
             [
              0.6666666666666666,
              "#ed7953"
             ],
             [
              0.7777777777777778,
              "#fb9f3a"
             ],
             [
              0.8888888888888888,
              "#fdca26"
             ],
             [
              1,
              "#f0f921"
             ]
            ],
            "type": "surface"
           }
          ],
          "table": [
           {
            "cells": {
             "fill": {
              "color": "#EBF0F8"
             },
             "line": {
              "color": "white"
             }
            },
            "header": {
             "fill": {
              "color": "#C8D4E3"
             },
             "line": {
              "color": "white"
             }
            },
            "type": "table"
           }
          ]
         },
         "layout": {
          "annotationdefaults": {
           "arrowcolor": "#2a3f5f",
           "arrowhead": 0,
           "arrowwidth": 1
          },
          "autotypenumbers": "strict",
          "coloraxis": {
           "colorbar": {
            "outlinewidth": 0,
            "ticks": ""
           }
          },
          "colorscale": {
           "diverging": [
            [
             0,
             "#8e0152"
            ],
            [
             0.1,
             "#c51b7d"
            ],
            [
             0.2,
             "#de77ae"
            ],
            [
             0.3,
             "#f1b6da"
            ],
            [
             0.4,
             "#fde0ef"
            ],
            [
             0.5,
             "#f7f7f7"
            ],
            [
             0.6,
             "#e6f5d0"
            ],
            [
             0.7,
             "#b8e186"
            ],
            [
             0.8,
             "#7fbc41"
            ],
            [
             0.9,
             "#4d9221"
            ],
            [
             1,
             "#276419"
            ]
           ],
           "sequential": [
            [
             0,
             "#0d0887"
            ],
            [
             0.1111111111111111,
             "#46039f"
            ],
            [
             0.2222222222222222,
             "#7201a8"
            ],
            [
             0.3333333333333333,
             "#9c179e"
            ],
            [
             0.4444444444444444,
             "#bd3786"
            ],
            [
             0.5555555555555556,
             "#d8576b"
            ],
            [
             0.6666666666666666,
             "#ed7953"
            ],
            [
             0.7777777777777778,
             "#fb9f3a"
            ],
            [
             0.8888888888888888,
             "#fdca26"
            ],
            [
             1,
             "#f0f921"
            ]
           ],
           "sequentialminus": [
            [
             0,
             "#0d0887"
            ],
            [
             0.1111111111111111,
             "#46039f"
            ],
            [
             0.2222222222222222,
             "#7201a8"
            ],
            [
             0.3333333333333333,
             "#9c179e"
            ],
            [
             0.4444444444444444,
             "#bd3786"
            ],
            [
             0.5555555555555556,
             "#d8576b"
            ],
            [
             0.6666666666666666,
             "#ed7953"
            ],
            [
             0.7777777777777778,
             "#fb9f3a"
            ],
            [
             0.8888888888888888,
             "#fdca26"
            ],
            [
             1,
             "#f0f921"
            ]
           ]
          },
          "colorway": [
           "#636efa",
           "#EF553B",
           "#00cc96",
           "#ab63fa",
           "#FFA15A",
           "#19d3f3",
           "#FF6692",
           "#B6E880",
           "#FF97FF",
           "#FECB52"
          ],
          "font": {
           "color": "#2a3f5f"
          },
          "geo": {
           "bgcolor": "white",
           "lakecolor": "white",
           "landcolor": "#E5ECF6",
           "showlakes": true,
           "showland": true,
           "subunitcolor": "white"
          },
          "hoverlabel": {
           "align": "left"
          },
          "hovermode": "closest",
          "mapbox": {
           "style": "light"
          },
          "paper_bgcolor": "white",
          "plot_bgcolor": "#E5ECF6",
          "polar": {
           "angularaxis": {
            "gridcolor": "white",
            "linecolor": "white",
            "ticks": ""
           },
           "bgcolor": "#E5ECF6",
           "radialaxis": {
            "gridcolor": "white",
            "linecolor": "white",
            "ticks": ""
           }
          },
          "scene": {
           "xaxis": {
            "backgroundcolor": "#E5ECF6",
            "gridcolor": "white",
            "gridwidth": 2,
            "linecolor": "white",
            "showbackground": true,
            "ticks": "",
            "zerolinecolor": "white"
           },
           "yaxis": {
            "backgroundcolor": "#E5ECF6",
            "gridcolor": "white",
            "gridwidth": 2,
            "linecolor": "white",
            "showbackground": true,
            "ticks": "",
            "zerolinecolor": "white"
           },
           "zaxis": {
            "backgroundcolor": "#E5ECF6",
            "gridcolor": "white",
            "gridwidth": 2,
            "linecolor": "white",
            "showbackground": true,
            "ticks": "",
            "zerolinecolor": "white"
           }
          },
          "shapedefaults": {
           "line": {
            "color": "#2a3f5f"
           }
          },
          "ternary": {
           "aaxis": {
            "gridcolor": "white",
            "linecolor": "white",
            "ticks": ""
           },
           "baxis": {
            "gridcolor": "white",
            "linecolor": "white",
            "ticks": ""
           },
           "bgcolor": "#E5ECF6",
           "caxis": {
            "gridcolor": "white",
            "linecolor": "white",
            "ticks": ""
           }
          },
          "title": {
           "x": 0.05
          },
          "xaxis": {
           "automargin": true,
           "gridcolor": "white",
           "linecolor": "white",
           "ticks": "",
           "title": {
            "standoff": 15
           },
           "zerolinecolor": "white",
           "zerolinewidth": 2
          },
          "yaxis": {
           "automargin": true,
           "gridcolor": "white",
           "linecolor": "white",
           "ticks": "",
           "title": {
            "standoff": 15
           },
           "zerolinecolor": "white",
           "zerolinewidth": 2
          }
         }
        },
        "title": {
         "text": "График распределения игр по жанрам"
        },
        "xaxis": {
         "title": {
          "text": "Жанры"
         }
        },
        "yaxis": {
         "title": {
          "text": "Количество"
         }
        }
       }
      },
      "text/html": [
       "<div>                            <div id=\"13f29f5e-e318-4058-9a4d-80c6b9f37ab5\" class=\"plotly-graph-div\" style=\"height:525px; width:100%;\"></div>            <script type=\"text/javascript\">                require([\"plotly\"], function(Plotly) {                    window.PLOTLYENV=window.PLOTLYENV || {};                                    if (document.getElementById(\"13f29f5e-e318-4058-9a4d-80c6b9f37ab5\")) {                    Plotly.newPlot(                        \"13f29f5e-e318-4058-9a4d-80c6b9f37ab5\",                        [{\"name\":\"\\u0421\\u0443\\u043c\\u043c\\u0430\\u0440\\u043d\\u044b\\u0435 \\u043f\\u0440\\u043e\\u0434\\u0430\\u0436\\u0438 \\u0438\\u0433\\u0440 (\\u043c\\u043b\\u043d)\",\"type\":\"bar\",\"x\":[\"Action\",\"Sports\",\"Shooter\",\"Role-Playing\",\"Platform\",\"Misc\",\"Racing\",\"Fighting\",\"Simulation\",\"Puzzle\",\"Adventure\",\"Strategy\"],\"y\":[1744.1699999999694,1331.269999999986,1052.449999999977,934.5599999999939,827.7699999999961,802.509999999992,728.6699999999944,447.52999999999855,389.9699999999978,242.5700000000005,237.59000000000125,174.2300000000004]},{\"name\":\"\\u041a\\u043e\\u043b\\u0438\\u0447\\u0435\\u0441\\u0442\\u0432\\u043e \\u0438\\u0433\\u0440 (\\u0448\\u0442)\",\"type\":\"bar\",\"x\":[\"Action\",\"Sports\",\"Shooter\",\"Role-Playing\",\"Platform\",\"Misc\",\"Racing\",\"Fighting\",\"Simulation\",\"Puzzle\",\"Adventure\",\"Strategy\"],\"y\":[3369,2348,1323,1498,888,1750,1249,849,873,580,1303,683]}],                        {\"template\":{\"data\":{\"bar\":[{\"error_x\":{\"color\":\"#2a3f5f\"},\"error_y\":{\"color\":\"#2a3f5f\"},\"marker\":{\"line\":{\"color\":\"#E5ECF6\",\"width\":0.5},\"pattern\":{\"fillmode\":\"overlay\",\"size\":10,\"solidity\":0.2}},\"type\":\"bar\"}],\"barpolar\":[{\"marker\":{\"line\":{\"color\":\"#E5ECF6\",\"width\":0.5},\"pattern\":{\"fillmode\":\"overlay\",\"size\":10,\"solidity\":0.2}},\"type\":\"barpolar\"}],\"carpet\":[{\"aaxis\":{\"endlinecolor\":\"#2a3f5f\",\"gridcolor\":\"white\",\"linecolor\":\"white\",\"minorgridcolor\":\"white\",\"startlinecolor\":\"#2a3f5f\"},\"baxis\":{\"endlinecolor\":\"#2a3f5f\",\"gridcolor\":\"white\",\"linecolor\":\"white\",\"minorgridcolor\":\"white\",\"startlinecolor\":\"#2a3f5f\"},\"type\":\"carpet\"}],\"choropleth\":[{\"colorbar\":{\"outlinewidth\":0,\"ticks\":\"\"},\"type\":\"choropleth\"}],\"contour\":[{\"colorbar\":{\"outlinewidth\":0,\"ticks\":\"\"},\"colorscale\":[[0.0,\"#0d0887\"],[0.1111111111111111,\"#46039f\"],[0.2222222222222222,\"#7201a8\"],[0.3333333333333333,\"#9c179e\"],[0.4444444444444444,\"#bd3786\"],[0.5555555555555556,\"#d8576b\"],[0.6666666666666666,\"#ed7953\"],[0.7777777777777778,\"#fb9f3a\"],[0.8888888888888888,\"#fdca26\"],[1.0,\"#f0f921\"]],\"type\":\"contour\"}],\"contourcarpet\":[{\"colorbar\":{\"outlinewidth\":0,\"ticks\":\"\"},\"type\":\"contourcarpet\"}],\"heatmap\":[{\"colorbar\":{\"outlinewidth\":0,\"ticks\":\"\"},\"colorscale\":[[0.0,\"#0d0887\"],[0.1111111111111111,\"#46039f\"],[0.2222222222222222,\"#7201a8\"],[0.3333333333333333,\"#9c179e\"],[0.4444444444444444,\"#bd3786\"],[0.5555555555555556,\"#d8576b\"],[0.6666666666666666,\"#ed7953\"],[0.7777777777777778,\"#fb9f3a\"],[0.8888888888888888,\"#fdca26\"],[1.0,\"#f0f921\"]],\"type\":\"heatmap\"}],\"heatmapgl\":[{\"colorbar\":{\"outlinewidth\":0,\"ticks\":\"\"},\"colorscale\":[[0.0,\"#0d0887\"],[0.1111111111111111,\"#46039f\"],[0.2222222222222222,\"#7201a8\"],[0.3333333333333333,\"#9c179e\"],[0.4444444444444444,\"#bd3786\"],[0.5555555555555556,\"#d8576b\"],[0.6666666666666666,\"#ed7953\"],[0.7777777777777778,\"#fb9f3a\"],[0.8888888888888888,\"#fdca26\"],[1.0,\"#f0f921\"]],\"type\":\"heatmapgl\"}],\"histogram\":[{\"marker\":{\"pattern\":{\"fillmode\":\"overlay\",\"size\":10,\"solidity\":0.2}},\"type\":\"histogram\"}],\"histogram2d\":[{\"colorbar\":{\"outlinewidth\":0,\"ticks\":\"\"},\"colorscale\":[[0.0,\"#0d0887\"],[0.1111111111111111,\"#46039f\"],[0.2222222222222222,\"#7201a8\"],[0.3333333333333333,\"#9c179e\"],[0.4444444444444444,\"#bd3786\"],[0.5555555555555556,\"#d8576b\"],[0.6666666666666666,\"#ed7953\"],[0.7777777777777778,\"#fb9f3a\"],[0.8888888888888888,\"#fdca26\"],[1.0,\"#f0f921\"]],\"type\":\"histogram2d\"}],\"histogram2dcontour\":[{\"colorbar\":{\"outlinewidth\":0,\"ticks\":\"\"},\"colorscale\":[[0.0,\"#0d0887\"],[0.1111111111111111,\"#46039f\"],[0.2222222222222222,\"#7201a8\"],[0.3333333333333333,\"#9c179e\"],[0.4444444444444444,\"#bd3786\"],[0.5555555555555556,\"#d8576b\"],[0.6666666666666666,\"#ed7953\"],[0.7777777777777778,\"#fb9f3a\"],[0.8888888888888888,\"#fdca26\"],[1.0,\"#f0f921\"]],\"type\":\"histogram2dcontour\"}],\"mesh3d\":[{\"colorbar\":{\"outlinewidth\":0,\"ticks\":\"\"},\"type\":\"mesh3d\"}],\"parcoords\":[{\"line\":{\"colorbar\":{\"outlinewidth\":0,\"ticks\":\"\"}},\"type\":\"parcoords\"}],\"pie\":[{\"automargin\":true,\"type\":\"pie\"}],\"scatter\":[{\"marker\":{\"colorbar\":{\"outlinewidth\":0,\"ticks\":\"\"}},\"type\":\"scatter\"}],\"scatter3d\":[{\"line\":{\"colorbar\":{\"outlinewidth\":0,\"ticks\":\"\"}},\"marker\":{\"colorbar\":{\"outlinewidth\":0,\"ticks\":\"\"}},\"type\":\"scatter3d\"}],\"scattercarpet\":[{\"marker\":{\"colorbar\":{\"outlinewidth\":0,\"ticks\":\"\"}},\"type\":\"scattercarpet\"}],\"scattergeo\":[{\"marker\":{\"colorbar\":{\"outlinewidth\":0,\"ticks\":\"\"}},\"type\":\"scattergeo\"}],\"scattergl\":[{\"marker\":{\"colorbar\":{\"outlinewidth\":0,\"ticks\":\"\"}},\"type\":\"scattergl\"}],\"scattermapbox\":[{\"marker\":{\"colorbar\":{\"outlinewidth\":0,\"ticks\":\"\"}},\"type\":\"scattermapbox\"}],\"scatterpolar\":[{\"marker\":{\"colorbar\":{\"outlinewidth\":0,\"ticks\":\"\"}},\"type\":\"scatterpolar\"}],\"scatterpolargl\":[{\"marker\":{\"colorbar\":{\"outlinewidth\":0,\"ticks\":\"\"}},\"type\":\"scatterpolargl\"}],\"scatterternary\":[{\"marker\":{\"colorbar\":{\"outlinewidth\":0,\"ticks\":\"\"}},\"type\":\"scatterternary\"}],\"surface\":[{\"colorbar\":{\"outlinewidth\":0,\"ticks\":\"\"},\"colorscale\":[[0.0,\"#0d0887\"],[0.1111111111111111,\"#46039f\"],[0.2222222222222222,\"#7201a8\"],[0.3333333333333333,\"#9c179e\"],[0.4444444444444444,\"#bd3786\"],[0.5555555555555556,\"#d8576b\"],[0.6666666666666666,\"#ed7953\"],[0.7777777777777778,\"#fb9f3a\"],[0.8888888888888888,\"#fdca26\"],[1.0,\"#f0f921\"]],\"type\":\"surface\"}],\"table\":[{\"cells\":{\"fill\":{\"color\":\"#EBF0F8\"},\"line\":{\"color\":\"white\"}},\"header\":{\"fill\":{\"color\":\"#C8D4E3\"},\"line\":{\"color\":\"white\"}},\"type\":\"table\"}]},\"layout\":{\"annotationdefaults\":{\"arrowcolor\":\"#2a3f5f\",\"arrowhead\":0,\"arrowwidth\":1},\"autotypenumbers\":\"strict\",\"coloraxis\":{\"colorbar\":{\"outlinewidth\":0,\"ticks\":\"\"}},\"colorscale\":{\"diverging\":[[0,\"#8e0152\"],[0.1,\"#c51b7d\"],[0.2,\"#de77ae\"],[0.3,\"#f1b6da\"],[0.4,\"#fde0ef\"],[0.5,\"#f7f7f7\"],[0.6,\"#e6f5d0\"],[0.7,\"#b8e186\"],[0.8,\"#7fbc41\"],[0.9,\"#4d9221\"],[1,\"#276419\"]],\"sequential\":[[0.0,\"#0d0887\"],[0.1111111111111111,\"#46039f\"],[0.2222222222222222,\"#7201a8\"],[0.3333333333333333,\"#9c179e\"],[0.4444444444444444,\"#bd3786\"],[0.5555555555555556,\"#d8576b\"],[0.6666666666666666,\"#ed7953\"],[0.7777777777777778,\"#fb9f3a\"],[0.8888888888888888,\"#fdca26\"],[1.0,\"#f0f921\"]],\"sequentialminus\":[[0.0,\"#0d0887\"],[0.1111111111111111,\"#46039f\"],[0.2222222222222222,\"#7201a8\"],[0.3333333333333333,\"#9c179e\"],[0.4444444444444444,\"#bd3786\"],[0.5555555555555556,\"#d8576b\"],[0.6666666666666666,\"#ed7953\"],[0.7777777777777778,\"#fb9f3a\"],[0.8888888888888888,\"#fdca26\"],[1.0,\"#f0f921\"]]},\"colorway\":[\"#636efa\",\"#EF553B\",\"#00cc96\",\"#ab63fa\",\"#FFA15A\",\"#19d3f3\",\"#FF6692\",\"#B6E880\",\"#FF97FF\",\"#FECB52\"],\"font\":{\"color\":\"#2a3f5f\"},\"geo\":{\"bgcolor\":\"white\",\"lakecolor\":\"white\",\"landcolor\":\"#E5ECF6\",\"showlakes\":true,\"showland\":true,\"subunitcolor\":\"white\"},\"hoverlabel\":{\"align\":\"left\"},\"hovermode\":\"closest\",\"mapbox\":{\"style\":\"light\"},\"paper_bgcolor\":\"white\",\"plot_bgcolor\":\"#E5ECF6\",\"polar\":{\"angularaxis\":{\"gridcolor\":\"white\",\"linecolor\":\"white\",\"ticks\":\"\"},\"bgcolor\":\"#E5ECF6\",\"radialaxis\":{\"gridcolor\":\"white\",\"linecolor\":\"white\",\"ticks\":\"\"}},\"scene\":{\"xaxis\":{\"backgroundcolor\":\"#E5ECF6\",\"gridcolor\":\"white\",\"gridwidth\":2,\"linecolor\":\"white\",\"showbackground\":true,\"ticks\":\"\",\"zerolinecolor\":\"white\"},\"yaxis\":{\"backgroundcolor\":\"#E5ECF6\",\"gridcolor\":\"white\",\"gridwidth\":2,\"linecolor\":\"white\",\"showbackground\":true,\"ticks\":\"\",\"zerolinecolor\":\"white\"},\"zaxis\":{\"backgroundcolor\":\"#E5ECF6\",\"gridcolor\":\"white\",\"gridwidth\":2,\"linecolor\":\"white\",\"showbackground\":true,\"ticks\":\"\",\"zerolinecolor\":\"white\"}},\"shapedefaults\":{\"line\":{\"color\":\"#2a3f5f\"}},\"ternary\":{\"aaxis\":{\"gridcolor\":\"white\",\"linecolor\":\"white\",\"ticks\":\"\"},\"baxis\":{\"gridcolor\":\"white\",\"linecolor\":\"white\",\"ticks\":\"\"},\"bgcolor\":\"#E5ECF6\",\"caxis\":{\"gridcolor\":\"white\",\"linecolor\":\"white\",\"ticks\":\"\"}},\"title\":{\"x\":0.05},\"xaxis\":{\"automargin\":true,\"gridcolor\":\"white\",\"linecolor\":\"white\",\"ticks\":\"\",\"title\":{\"standoff\":15},\"zerolinecolor\":\"white\",\"zerolinewidth\":2},\"yaxis\":{\"automargin\":true,\"gridcolor\":\"white\",\"linecolor\":\"white\",\"ticks\":\"\",\"title\":{\"standoff\":15},\"zerolinecolor\":\"white\",\"zerolinewidth\":2}}},\"title\":{\"text\":\"\\u0413\\u0440\\u0430\\u0444\\u0438\\u043a \\u0440\\u0430\\u0441\\u043f\\u0440\\u0435\\u0434\\u0435\\u043b\\u0435\\u043d\\u0438\\u044f \\u0438\\u0433\\u0440 \\u043f\\u043e \\u0436\\u0430\\u043d\\u0440\\u0430\\u043c\"},\"xaxis\":{\"title\":{\"text\":\"\\u0416\\u0430\\u043d\\u0440\\u044b\"}},\"yaxis\":{\"title\":{\"text\":\"\\u041a\\u043e\\u043b\\u0438\\u0447\\u0435\\u0441\\u0442\\u0432\\u043e\"}}},                        {\"responsive\": true}                    ).then(function(){\n",
       "                            \n",
       "var gd = document.getElementById('13f29f5e-e318-4058-9a4d-80c6b9f37ab5');\n",
       "var x = new MutationObserver(function (mutations, observer) {{\n",
       "        var display = window.getComputedStyle(gd).display;\n",
       "        if (!display || display === 'none') {{\n",
       "            console.log([gd, 'removed!']);\n",
       "            Plotly.purge(gd);\n",
       "            observer.disconnect();\n",
       "        }}\n",
       "}});\n",
       "\n",
       "// Listen for the removal of the full notebook cells\n",
       "var notebookContainer = gd.closest('#notebook-container');\n",
       "if (notebookContainer) {{\n",
       "    x.observe(notebookContainer, {childList: true});\n",
       "}}\n",
       "\n",
       "// Listen for the clearing of the current output cell\n",
       "var outputEl = gd.closest('.output');\n",
       "if (outputEl) {{\n",
       "    x.observe(outputEl, {childList: true});\n",
       "}}\n",
       "\n",
       "                        })                };                });            </script>        </div>"
      ]
     },
     "metadata": {},
     "output_type": "display_data"
    }
   ],
   "source": [
    "values = distribution_by_genre.columns\n",
    "name = ['Суммарные продажи игр (млн)', 'Количество игр (шт)']\n",
    "\n",
    "data = [ go.Bar(x=distribution_by_genre.index,\n",
    "                y=distribution_by_genre[values[i]],\n",
    "                name=name[i]) for i in range(len(values))]\n",
    "\n",
    "layout = {'title': 'График распределения игр по жанрам',\n",
    "          'xaxis': {'title': 'Жанры'},\n",
    "          'yaxis': {'title': 'Количество'}}\n",
    "\n",
    "fig = go.Figure(data=data, layout=layout)\n",
    "iplot(fig, show_link=False)"
   ]
  },
  {
   "cell_type": "markdown",
   "metadata": {},
   "source": [
    "- Самый прибыльные жанр(больше 1000 млн копий) это экшен, спорт и стелялки. Самый прибыльный -  это экшн, он как боевик, но только ты там главный герой, по этому так и популярно.  \n",
    "- Затем идут жанры ролевой игры, платформы, аркады и гонки это бы я отнес к среднему заработку.  \n",
    "- А остальное на любителя исходя по числам продаж судя по графику. Низкие продажи у жанров драк, симуляции, головоломок, приключения и стратегий. Самый низкие продажи по стратегиям.\n"
   ]
  },
  {
   "cell_type": "markdown",
   "metadata": {},
   "source": [
    "## Составьте портрет пользователя каждого региона"
   ]
  },
  {
   "cell_type": "code",
   "execution_count": 43,
   "metadata": {},
   "outputs": [],
   "source": [
    "values = ['na_sales', 'eu_sales', 'jp_sales']"
   ]
  },
  {
   "cell_type": "markdown",
   "metadata": {},
   "source": [
    "### Глянем на самые популярные платформы (топ-5)."
   ]
  },
  {
   "cell_type": "code",
   "execution_count": 44,
   "metadata": {},
   "outputs": [],
   "source": [
    "top_saling_platforms = df.pivot_table(index='platform',\n",
    "                                      values=values,\n",
    "                                      aggfunc='sum')"
   ]
  },
  {
   "cell_type": "code",
   "execution_count": 45,
   "metadata": {},
   "outputs": [
    {
     "data": {
      "text/plain": [
       "platform\n",
       "X360    602.47\n",
       "PS2     583.84\n",
       "Wii     496.90\n",
       "PS3     393.49\n",
       "DS      382.40\n",
       "Name: na_sales, dtype: float64"
      ]
     },
     "execution_count": 45,
     "metadata": {},
     "output_type": "execute_result"
    }
   ],
   "source": [
    "top_saling_platforms.na_sales.sort_values(ascending=False).head()"
   ]
  },
  {
   "cell_type": "markdown",
   "metadata": {},
   "source": [
    "Топ 5 популярных платформ по продажам в Северной Америке. "
   ]
  },
  {
   "cell_type": "code",
   "execution_count": 46,
   "metadata": {},
   "outputs": [
    {
     "data": {
      "text/plain": [
       "platform\n",
       "PS2     339.29\n",
       "PS3     330.29\n",
       "X360    270.76\n",
       "Wii     262.21\n",
       "PS      213.61\n",
       "Name: eu_sales, dtype: float64"
      ]
     },
     "execution_count": 46,
     "metadata": {},
     "output_type": "execute_result"
    }
   ],
   "source": [
    "top_saling_platforms.eu_sales.sort_values(ascending=False).head()"
   ]
  },
  {
   "cell_type": "markdown",
   "metadata": {},
   "source": [
    "Топ 5 популярных платформ по продажам в Европе. "
   ]
  },
  {
   "cell_type": "code",
   "execution_count": 47,
   "metadata": {},
   "outputs": [
    {
     "data": {
      "text/plain": [
       "platform\n",
       "DS      175.57\n",
       "PS      139.82\n",
       "PS2     139.20\n",
       "SNES    116.55\n",
       "3DS     100.67\n",
       "Name: jp_sales, dtype: float64"
      ]
     },
     "execution_count": 47,
     "metadata": {},
     "output_type": "execute_result"
    }
   ],
   "source": [
    "top_saling_platforms.jp_sales.sort_values(ascending=False).head()"
   ]
  },
  {
   "cell_type": "markdown",
   "metadata": {},
   "source": [
    "Топ 5 популярных платформ по продажам в Японии. "
   ]
  },
  {
   "cell_type": "markdown",
   "metadata": {},
   "source": [
    "Видно, что в Америке и Европе люди предпочитают более современные платформы PS2, PS3, X360, Wii, а вот в Японии видимо пользователи любят ретро игры и поэтому больше всего продаж на старых платформах PS, PS2, DS, SNES   \n",
    "Что по продажам, то больше всего люди покупают в Америке, а разница почти в 2 раза с Европой и в почти в 3 раза с Японией. То же самое можно сказать о разнице Европы и Японии, в Евпропе продаж почти в 2 раза больше чем в Японии."
   ]
  },
  {
   "cell_type": "markdown",
   "metadata": {},
   "source": [
    "### Самые популярные жанры (топ-5)."
   ]
  },
  {
   "cell_type": "code",
   "execution_count": 48,
   "metadata": {},
   "outputs": [],
   "source": [
    "top_geners_platform = df.pivot_table(index='genre', values=values, aggfunc='sum')"
   ]
  },
  {
   "cell_type": "code",
   "execution_count": 49,
   "metadata": {},
   "outputs": [
    {
     "data": {
      "text/plain": [
       "genre\n",
       "Action      879.01\n",
       "Sports      684.43\n",
       "Shooter     592.24\n",
       "Platform    445.50\n",
       "Misc        407.27\n",
       "Name: na_sales, dtype: float64"
      ]
     },
     "execution_count": 49,
     "metadata": {},
     "output_type": "execute_result"
    }
   ],
   "source": [
    "top_geners_platform.na_sales.sort_values(ascending=False).head()"
   ]
  },
  {
   "cell_type": "markdown",
   "metadata": {},
   "source": [
    "Топ 5 популярных жанров по продажам в Северной Америке."
   ]
  },
  {
   "cell_type": "code",
   "execution_count": 50,
   "metadata": {},
   "outputs": [
    {
     "data": {
      "text/plain": [
       "genre\n",
       "Action     519.13\n",
       "Sports     376.79\n",
       "Shooter    317.34\n",
       "Racing     236.51\n",
       "Misc       212.74\n",
       "Name: eu_sales, dtype: float64"
      ]
     },
     "execution_count": 50,
     "metadata": {},
     "output_type": "execute_result"
    }
   ],
   "source": [
    "top_geners_platform.eu_sales.sort_values(ascending=False).head()"
   ]
  },
  {
   "cell_type": "markdown",
   "metadata": {},
   "source": [
    "Топ 5 популярных жанров по продажам в Европе."
   ]
  },
  {
   "cell_type": "code",
   "execution_count": 51,
   "metadata": {},
   "outputs": [
    {
     "data": {
      "text/plain": [
       "genre\n",
       "Role-Playing    355.41\n",
       "Action          161.43\n",
       "Sports          135.54\n",
       "Platform        130.83\n",
       "Misc            108.11\n",
       "Name: jp_sales, dtype: float64"
      ]
     },
     "execution_count": 51,
     "metadata": {},
     "output_type": "execute_result"
    }
   ],
   "source": [
    "top_geners_platform.jp_sales.sort_values(ascending=False).head()"
   ]
  },
  {
   "cell_type": "markdown",
   "metadata": {},
   "source": [
    "Топ 5 популярных жанров по продажам в Японии."
   ]
  },
  {
   "cell_type": "markdown",
   "metadata": {},
   "source": [
    "В Америке больше всего продаж по жанрам, а топ самых попурялных почти похож на топ жанров в Европе. В Японии мы снова видим отличие, если в Америке и Европе первое место это экшен, то в Японии это ролевые-игры, а потом уже экшен. Видимо там совсем другие интересы и вкусы на жанр и платформы игр.\n",
    "По разнице в продажах примерно также как у платформ. Лидирует Америка, примерно в 2 раза меньше Европа и больше чем в 3 раза Япония."
   ]
  },
  {
   "cell_type": "markdown",
   "metadata": {},
   "source": [
    "### Отдельно посмотрим на влияние рейтинга ESRB на продажи в каждом регионе"
   ]
  },
  {
   "cell_type": "markdown",
   "metadata": {},
   "source": [
    "Выведем ещще раз для наглядности.  \n",
    "Расшифровка аббревиатур рейтинга ESBR:\n",
    "\n",
    "- «EC» («Early childhood») — «Для детей младшего возраста»\n",
    "- «E» («Everyone») — «Для всех»\n",
    "- «E10+» («Everyone 10 and older») — «Для всех от 10 лет и старше»\n",
    "- «T» («Teen») — «Подросткам»\n",
    "- «M» («Mature») — «Для взрослых»\n",
    "- «AO» («Adults Only 18+») — «Только для взрослых»\n",
    "- «RP» («Rating Pending») — «Рейтинг ожидается»"
   ]
  },
  {
   "cell_type": "code",
   "execution_count": 52,
   "metadata": {},
   "outputs": [],
   "source": [
    "sales_by_esrb = df.pivot_table(index='rating', values=values, aggfunc='sum')"
   ]
  },
  {
   "cell_type": "code",
   "execution_count": 53,
   "metadata": {},
   "outputs": [
    {
     "data": {
      "text/plain": [
       "rating\n",
       "E       1295.55\n",
       "T        759.75\n",
       "M        748.48\n",
       "E10+     353.32\n",
       "EC         1.53\n",
       "AO         1.26\n",
       "RP         0.00\n",
       "Name: na_sales, dtype: float64"
      ]
     },
     "execution_count": 53,
     "metadata": {},
     "output_type": "execute_result"
    }
   ],
   "source": [
    "sales_by_esrb.na_sales.sort_values(ascending=False)"
   ]
  },
  {
   "cell_type": "markdown",
   "metadata": {},
   "source": [
    "Продажи игр с рейтингом ESBR в Северной Америке."
   ]
  },
  {
   "cell_type": "code",
   "execution_count": 54,
   "metadata": {},
   "outputs": [
    {
     "data": {
      "text/plain": [
       "rating\n",
       "E       710.52\n",
       "M       483.97\n",
       "T       427.03\n",
       "E10+    188.52\n",
       "AO        0.61\n",
       "EC        0.11\n",
       "RP        0.08\n",
       "Name: eu_sales, dtype: float64"
      ]
     },
     "execution_count": 54,
     "metadata": {},
     "output_type": "execute_result"
    }
   ],
   "source": [
    "sales_by_esrb.eu_sales.sort_values(ascending=False)"
   ]
  },
  {
   "cell_type": "markdown",
   "metadata": {},
   "source": [
    "Продажи игр с рейтингом ESBR в Европе."
   ]
  },
  {
   "cell_type": "code",
   "execution_count": 55,
   "metadata": {
    "scrolled": true
   },
   "outputs": [
    {
     "data": {
      "text/plain": [
       "rating\n",
       "E       199.57\n",
       "T       151.40\n",
       "M        64.24\n",
       "E10+     40.20\n",
       "RP        0.00\n",
       "EC        0.00\n",
       "AO        0.00\n",
       "Name: jp_sales, dtype: float64"
      ]
     },
     "execution_count": 55,
     "metadata": {},
     "output_type": "execute_result"
    }
   ],
   "source": [
    "sales_by_esrb.jp_sales.sort_values(ascending=False)"
   ]
  },
  {
   "cell_type": "markdown",
   "metadata": {},
   "source": [
    "Продажи игр с рейтингом ESBR в Японии."
   ]
  },
  {
   "cell_type": "markdown",
   "metadata": {},
   "source": [
    "- В Америке чаще всего продаются игры с рейтингом \"Для всех\" и почти одинакого продаются игры с рейтингом \"Подросткам\" и \"Взрослым\"  \n",
    "- В Евпропе аналогичная ситуация, только количество продаж меньше почти в 2 раза. Еще в Европе есть продажи игр с рейтингом \"Рейтинг игр ожидается\", то как в остальных регионах такого нет.\n",
    "- В Японии как ни странно люди тоже покупают игры с таким же рейтингом как и в других регионах, но совсем нет продаж игр с рейтингом \"Для детей младшего возраста\" и \"Только для взрослых\", то как в остальных регионах такие продажи имеются.\n",
    "\n",
    "Чаще всего рейтинг игр влияет на продажи, т.к. одни и теже игры с рейтингом покупают в разных регионах, есть конечно исключения, но на общем фоне они очень малы."
   ]
  },
  {
   "cell_type": "markdown",
   "metadata": {},
   "source": [
    "## Проверка гипотез"
   ]
  },
  {
   "cell_type": "markdown",
   "metadata": {},
   "source": [
    "Сформируем гипотезу:\n",
    "\n",
    "### Средние пользовательские рейтинги платформ Xbox One и PC одинаковые.\n",
    "\n",
    "- Нулевая гипотеза - средние ользовательские рейтинги платформ равны.  \n",
    "- Альтернативная гипотеза - средние пользовательские рейтинги платформ разные."
   ]
  },
  {
   "cell_type": "markdown",
   "metadata": {},
   "source": [
    "Используем метод о равенстве средних двух генеральных совокупностей."
   ]
  },
  {
   "cell_type": "code",
   "execution_count": 56,
   "metadata": {},
   "outputs": [],
   "source": [
    "xbox_one = df.query('platform == \"XOne\"').user_score.dropna()\n",
    "pc = df.query('platform == \"PC\"').user_score.dropna()"
   ]
  },
  {
   "cell_type": "code",
   "execution_count": 57,
   "metadata": {},
   "outputs": [],
   "source": [
    "alpha = 0.05"
   ]
  },
  {
   "cell_type": "code",
   "execution_count": 58,
   "metadata": {},
   "outputs": [
    {
     "name": "stdout",
     "output_type": "stream",
     "text": [
      "p-значение 4.935072360183565e-06\n",
      "Отвергаем нулевую гипотезу\n"
     ]
    }
   ],
   "source": [
    "result = st.ttest_ind(xbox_one, pc, equal_var=False)\n",
    "print('p-значение', result.pvalue)\n",
    "\n",
    "if result.pvalue < alpha:\n",
    "    print('Отвергаем нулевую гипотезу')\n",
    "else:\n",
    "    print('Не удалось отвергнуть нулевую гипотезу')"
   ]
  },
  {
   "cell_type": "code",
   "execution_count": 59,
   "metadata": {
    "scrolled": false
   },
   "outputs": [
    {
     "data": {
      "image/png": "[encoded data removed]",
      "text/plain": [
       "<Figure size 432x288 with 1 Axes>"
      ]
     },
     "metadata": {
      "needs_background": "light"
     },
     "output_type": "display_data"
    }
   ],
   "source": [
    "hypothesis0 = df.query('platform == \"PC\"')[['user_score']].reset_index().join(\n",
    "                  df.query('platform == \"XOne\"')[['user_score']].reset_index(),rsuffix='_right')\\\n",
    "                                                                  [['user_score', 'user_score_right']]\n",
    "hypothesis0.columns = ['pc', 'xbox_one']\n",
    "hypothesis0.mean().plot.bar(rot=0,\n",
    "                            title='График среднего пользовательского рейтинга',\n",
    "                            grid=True\n",
    "                           )\n",
    "plt.xlabel('Платформы')\n",
    "plt.ylabel('Рейтинг')\n",
    "plt.show()"
   ]
  },
  {
   "cell_type": "markdown",
   "metadata": {},
   "source": [
    "Мы отвергаем 0 гипотезу и принимаем альтернативную, что пользовательские рейтинги платформ XBox One и PC разные. Мы можем сравнить показания на графике и видно, что они и в правду разные."
   ]
  },
  {
   "cell_type": "markdown",
   "metadata": {},
   "source": [
    "Сформируем гипотезу:\n",
    "\n",
    "### Средние пользовательские рейтинги жанров Action и Sports разные.\n",
    "\n",
    "- Нулевая гипотеза - cредние пользовательские рейтинги жанров равны.\n",
    "- Альтернативная гипотеза - cредние пользовательские рейтинги жанров разные."
   ]
  },
  {
   "cell_type": "code",
   "execution_count": 60,
   "metadata": {},
   "outputs": [],
   "source": [
    "action = df.query('genre == \"Action\"').user_score.dropna()\n",
    "sports = df.query('genre == \"Sports\"').user_score.dropna()"
   ]
  },
  {
   "cell_type": "code",
   "execution_count": 61,
   "metadata": {},
   "outputs": [
    {
     "name": "stdout",
     "output_type": "stream",
     "text": [
      "p-значение 0.10406951359049141\n",
      "Не удалось отвергнуть нулевую гипотезу\n"
     ]
    }
   ],
   "source": [
    "result = st.ttest_ind(action, sports)\n",
    "print('p-значение', result.pvalue)\n",
    "\n",
    "if result.pvalue < alpha:\n",
    "    print('Отвергаем нулевую гипотезу')\n",
    "else:\n",
    "    print('Не удалось отвергнуть нулевую гипотезу')"
   ]
  },
  {
   "cell_type": "code",
   "execution_count": 62,
   "metadata": {
    "scrolled": true
   },
   "outputs": [
    {
     "data": {
      "image/png": "[encoded data removed]",
      "text/plain": [
       "<Figure size 432x288 with 1 Axes>"
      ]
     },
     "metadata": {
      "needs_background": "light"
     },
     "output_type": "display_data"
    }
   ],
   "source": [
    "hypothesis1 = df.query('genre == \"Action\"')[['user_score']].reset_index().join(\n",
    "                  df.query('genre == \"Sports\"')[['user_score']].reset_index(), rsuffix='_right')\\\n",
    "                                                                  [['user_score', 'user_score_right']]\n",
    "hypothesis1.columns = ['action', 'sports']\n",
    "hypothesis1.mean().plot.bar(rot=0,\n",
    "                            title='График среднего пользовательского рейтинга',\n",
    "                            grid=True\n",
    "                           )\n",
    "plt.xlabel('Платформы')\n",
    "plt.ylabel('Рейтинг')\n",
    "plt.show()"
   ]
  },
  {
   "cell_type": "markdown",
   "metadata": {},
   "source": [
    "Полученное p-значение говорит, что пользовательский рейтинг из разных жанров одинаков и нам не удалось отвергнуть 0 гипотезу. С вероятностью 10% различия между рейтингами можно получить случайно. Это не такая уж и маленькая вероятность, так что можно сказать, что средний пользовательский рейтинг этих жанров равны."
   ]
  },
  {
   "cell_type": "markdown",
   "metadata": {},
   "source": [
    "# Общий вывод:"
   ]
  },
  {
   "cell_type": "markdown",
   "metadata": {},
   "source": [
    "- Прочитали файл и изучили его.    \n",
    "\n",
    "\n",
    "- Предобработка данных.\n",
    "\n",
    "    - Привели колонки к нижнему регистру.\n",
    "    - Привели столбец \"user_score\" к нужному типу данных.\n",
    "    - \"tbd\" - это рейтинг игр которые еще не анонсированы, заменил их на NaN.\n",
    "    - Удалил 2 строчки которые не имеют вообще нужной нам инфы, только год написан и продажи, так, что эти строчки бесполезны.\n",
    "    - Подсчитал суммарные продажи.\n",
    "    - Заменили рейтинг игр \"Е-А\" на общепринятный рейтинг после 1998 года \"Е\" для удобства работы с данными.  \n",
    "    \n",
    "    \n",
    "- Исследовательский анализ.  \n",
    "\n",
    "    - Посмотрели сколько игр выпускалось в разные года и как менялись продажи по платформам. Характерный период это 9 лет (с 2005 по 2014). В 2005 появляются PS3 и Х360 и начинается рост игр на наших платформах, а в 2014 уже нет платформы DS и платформа Wii уже не такая популярная как в 2009.\n",
    "    - Взяли актуальный период и узнали какие платформы лидируют по продажам. \n",
    "    \n",
    "        - Лидирует по продажам платформа X360. Актуальные платформы по продажам выделим 3 платформы: Х360, PS3 and Wii. Все остальные платформы не могу сказать растут или падают продажи т.к. это обзор за 2010 год.\n",
    "\n",
    "        - Данные после 2010. Падение продаж произошло у платформ: Wii, DS, PSP, PS2 Рост платформ: X360, PS3, PC, 3DS\n",
    "\n",
    "        - Тем самым можно сделать прогноз на на 2017 год. Платформы X360, PS3, PC и 3DS будут определенно расти в продажах игр, а вот на остальные платформы в скором времени прекратят выпускать игры.\n",
    "        \n",
    "    - Построили ящик с усами по глобальным продажам для игр по платформам.  \n",
    "    - Посмотрели, как влияют на продажи внутри одной популярной платформы отзывы пользователей и критиков и соотнесли результаты с другими платформами.  \n",
    "    \n",
    "        - Сопоставив значения видим, что несмотря на то, что других платформ суммарно больше во всех смыслах, зависимость по отзывам пользователей и критиков меньше почти в 2 раза! Это говорит о том, что PS2 это платформа которая нрав большенству людей и если выходит игра пользоватули готовы их покупать чаще, чем на другие платформы.\n",
    "        \n",
    "    - Посмотрели на распределение по жанрам.\n",
    "    \n",
    "        - Самый прибыльные жанр(больше 1000 млн копий) это экшен, спорт и стелялки. Самый прибыльный -  это экшн, он как боевик, но только ты там главный герой, по этому так и популярно.  \n",
    "        - Затем идут жанры ролевой игры, платформы, аркады и гонки это бы я отнес к среднему заработку.  \n",
    "        - А остальное на любителя исходя по числам продаж судя по графику. Низкие продажи у жанров драк, симуляции, головоломок, приключения и стратегий. Самый низкие продажи по стратегиям.\n",
    "\n",
    "\n",
    "- Составьте портрет пользователя каждого региона.\n",
    "\n",
    "    - Япония отличается от Северной Америки и Европы как по жанрам так и по платформам. Там совсем другой менталитет.\n",
    "    \n",
    "- Проверьте гипотезы.\n",
    "    \n",
    "    - Средние пользовательские рейтинги платформ Xbox One и PC одинаковые;  \n",
    "    \n",
    "        - Мы отвергли 0 гипотезу и приняли альтернативную.  \n",
    "        \n",
    "    - Средние пользовательские рейтинги жанров Action (англ. «действие», экшен-игры) и Sports (англ. «спортивные соревнования») разные.\n",
    "        - Тут нам не удалось отвергнуть 0 гипотезу.\n",
    "        \n",
    "- Вывод:\n",
    "    - На популярность игр влияют много факторов, но основные которые можно выделить из проделанной работы это: платформа, жанр, регион где будет продаваться игра. Так же возрастная категория, она тоже может влиять на популярность игры."
   ]
  }
 ],
 "metadata": {
  "ExecuteTimeLog": [
   {
    "duration": 1501,
    "start_time": "2021-08-28T12:51:11.451Z"
   },
   {
    "duration": 4,
    "start_time": "2021-08-28T12:51:22.380Z"
   },
   {
    "duration": 35,
    "start_time": "2021-08-28T12:51:29.151Z"
   },
   {
    "duration": 15,
    "start_time": "2021-08-28T12:51:53.626Z"
   },
   {
    "duration": 13,
    "start_time": "2021-08-28T12:51:58.108Z"
   },
   {
    "duration": 14,
    "start_time": "2021-08-28T12:52:11.440Z"
   },
   {
    "duration": 13,
    "start_time": "2021-08-28T12:52:17.395Z"
   },
   {
    "duration": 27,
    "start_time": "2021-08-28T12:55:52.710Z"
   },
   {
    "duration": 4,
    "start_time": "2021-08-28T13:14:23.961Z"
   },
   {
    "duration": 13,
    "start_time": "2021-08-28T13:14:24.596Z"
   },
   {
    "duration": 15,
    "start_time": "2021-08-28T13:14:24.821Z"
   },
   {
    "duration": 8,
    "start_time": "2021-08-28T13:14:25.026Z"
   },
   {
    "duration": 6,
    "start_time": "2021-08-28T13:14:25.787Z"
   },
   {
    "duration": 9,
    "start_time": "2021-08-28T13:14:26.024Z"
   },
   {
    "duration": 3,
    "start_time": "2021-08-28T13:14:28.251Z"
   },
   {
    "duration": 176,
    "start_time": "2021-08-28T13:14:29.379Z"
   },
   {
    "duration": 10,
    "start_time": "2021-08-28T13:14:30.474Z"
   },
   {
    "duration": 5,
    "start_time": "2021-08-28T13:14:30.850Z"
   },
   {
    "duration": 9,
    "start_time": "2021-08-28T13:20:19.690Z"
   },
   {
    "duration": 4,
    "start_time": "2021-08-28T13:20:22.041Z"
   },
   {
    "duration": 180,
    "start_time": "2021-08-28T13:20:39.746Z"
   },
   {
    "duration": 10,
    "start_time": "2021-08-28T13:20:55.750Z"
   },
   {
    "duration": 9504,
    "start_time": "2021-08-28T13:21:04.040Z"
   },
   {
    "duration": 5,
    "start_time": "2021-08-28T13:21:29.961Z"
   },
   {
    "duration": 8780,
    "start_time": "2021-08-28T13:21:40.314Z"
   },
   {
    "duration": 9,
    "start_time": "2021-08-28T13:22:56.524Z"
   },
   {
    "duration": 18,
    "start_time": "2021-08-28T13:23:14.782Z"
   },
   {
    "duration": 19,
    "start_time": "2021-08-28T13:26:07.380Z"
   },
   {
    "duration": 182,
    "start_time": "2021-08-28T13:27:03.416Z"
   },
   {
    "duration": 175,
    "start_time": "2021-08-28T13:27:06.489Z"
   },
   {
    "duration": 13,
    "start_time": "2021-08-28T13:27:13.910Z"
   },
   {
    "duration": 13,
    "start_time": "2021-08-28T13:28:43.372Z"
   },
   {
    "duration": 14,
    "start_time": "2021-08-28T13:28:54.940Z"
   },
   {
    "duration": 13,
    "start_time": "2021-08-28T13:29:08.194Z"
   },
   {
    "duration": 1351,
    "start_time": "2021-08-28T13:32:17.946Z"
   },
   {
    "duration": 36,
    "start_time": "2021-08-28T13:32:19.299Z"
   },
   {
    "duration": 16,
    "start_time": "2021-08-28T13:32:19.337Z"
   },
   {
    "duration": 26,
    "start_time": "2021-08-28T13:32:41.368Z"
   },
   {
    "duration": 19,
    "start_time": "2021-08-28T13:33:04.486Z"
   },
   {
    "duration": 10,
    "start_time": "2021-08-28T13:33:42.494Z"
   },
   {
    "duration": 14,
    "start_time": "2021-08-28T13:33:49.319Z"
   },
   {
    "duration": 14,
    "start_time": "2021-08-28T13:34:13.737Z"
   },
   {
    "duration": 15,
    "start_time": "2021-08-28T13:34:28.587Z"
   },
   {
    "duration": 15,
    "start_time": "2021-08-28T13:34:50.023Z"
   },
   {
    "duration": 15,
    "start_time": "2021-08-28T13:35:06.211Z"
   },
   {
    "duration": 14,
    "start_time": "2021-08-28T13:35:15.588Z"
   },
   {
    "duration": 21,
    "start_time": "2021-08-28T13:35:29.274Z"
   },
   {
    "duration": 70,
    "start_time": "2021-08-28T13:36:02.822Z"
   },
   {
    "duration": 5106,
    "start_time": "2021-08-28T13:36:05.318Z"
   },
   {
    "duration": 4285,
    "start_time": "2021-08-28T13:36:11.661Z"
   },
   {
    "duration": 203,
    "start_time": "2021-08-28T13:36:20.894Z"
   },
   {
    "duration": 20,
    "start_time": "2021-08-28T13:36:26.201Z"
   },
   {
    "duration": 7,
    "start_time": "2021-08-28T13:36:31.742Z"
   },
   {
    "duration": 19,
    "start_time": "2021-08-28T13:36:40.345Z"
   },
   {
    "duration": 6,
    "start_time": "2021-08-28T13:36:51.264Z"
   },
   {
    "duration": 6,
    "start_time": "2021-08-28T13:36:59.469Z"
   },
   {
    "duration": 8,
    "start_time": "2021-08-28T13:37:03.367Z"
   },
   {
    "duration": 20,
    "start_time": "2021-08-28T13:37:11.206Z"
   },
   {
    "duration": 29,
    "start_time": "2021-08-28T13:37:26.693Z"
   },
   {
    "duration": 9,
    "start_time": "2021-08-28T13:37:26.724Z"
   },
   {
    "duration": 8,
    "start_time": "2021-08-28T13:37:26.735Z"
   },
   {
    "duration": 3,
    "start_time": "2021-08-28T13:37:28.548Z"
   },
   {
    "duration": 13,
    "start_time": "2021-08-28T13:37:30.960Z"
   },
   {
    "duration": 17,
    "start_time": "2021-08-28T13:37:32.326Z"
   },
   {
    "duration": 9,
    "start_time": "2021-08-28T13:37:32.798Z"
   },
   {
    "duration": 8,
    "start_time": "2021-08-28T13:37:33.329Z"
   },
   {
    "duration": 10,
    "start_time": "2021-08-28T13:37:33.660Z"
   },
   {
    "duration": 3,
    "start_time": "2021-08-28T13:37:34.776Z"
   },
   {
    "duration": 167,
    "start_time": "2021-08-28T13:37:34.959Z"
   },
   {
    "duration": 12,
    "start_time": "2021-08-28T13:37:35.377Z"
   },
   {
    "duration": 5,
    "start_time": "2021-08-28T13:37:35.692Z"
   },
   {
    "duration": 4,
    "start_time": "2021-08-28T13:37:37.441Z"
   },
   {
    "duration": 10306,
    "start_time": "2021-08-28T13:37:38.299Z"
   },
   {
    "duration": 4798,
    "start_time": "2021-08-28T13:38:05.060Z"
   },
   {
    "duration": 15,
    "start_time": "2021-08-28T13:38:19.867Z"
   },
   {
    "duration": 15,
    "start_time": "2021-08-28T13:38:33.358Z"
   },
   {
    "duration": 15,
    "start_time": "2021-08-28T13:38:59.113Z"
   },
   {
    "duration": 1288,
    "start_time": "2021-08-28T13:40:07.800Z"
   },
   {
    "duration": 37,
    "start_time": "2021-08-28T13:40:09.090Z"
   },
   {
    "duration": 18,
    "start_time": "2021-08-28T13:40:09.128Z"
   },
   {
    "duration": 4,
    "start_time": "2021-08-28T13:40:21.697Z"
   },
   {
    "duration": 13,
    "start_time": "2021-08-28T13:40:22.011Z"
   },
   {
    "duration": 16,
    "start_time": "2021-08-28T13:40:22.159Z"
   },
   {
    "duration": 9,
    "start_time": "2021-08-28T13:40:22.309Z"
   },
   {
    "duration": 7,
    "start_time": "2021-08-28T13:40:22.603Z"
   },
   {
    "duration": 9,
    "start_time": "2021-08-28T13:40:22.721Z"
   },
   {
    "duration": 3,
    "start_time": "2021-08-28T13:40:23.037Z"
   },
   {
    "duration": 185,
    "start_time": "2021-08-28T13:40:23.181Z"
   },
   {
    "duration": 13,
    "start_time": "2021-08-28T13:40:23.489Z"
   },
   {
    "duration": 5,
    "start_time": "2021-08-28T13:40:23.638Z"
   },
   {
    "duration": 4,
    "start_time": "2021-08-28T13:40:23.944Z"
   },
   {
    "duration": 10552,
    "start_time": "2021-08-28T13:40:24.850Z"
   },
   {
    "duration": 14,
    "start_time": "2021-08-28T13:40:42.420Z"
   },
   {
    "duration": 15,
    "start_time": "2021-08-28T13:40:46.156Z"
   },
   {
    "duration": 14,
    "start_time": "2021-08-28T13:40:53.710Z"
   },
   {
    "duration": 6,
    "start_time": "2021-08-28T13:41:33.368Z"
   },
   {
    "duration": 418,
    "start_time": "2021-08-28T13:42:07.898Z"
   },
   {
    "duration": 183,
    "start_time": "2021-08-28T13:42:19.772Z"
   },
   {
    "duration": 183,
    "start_time": "2021-08-28T13:42:28.039Z"
   },
   {
    "duration": 6,
    "start_time": "2021-08-28T13:42:31.424Z"
   },
   {
    "duration": 6,
    "start_time": "2021-08-28T13:44:35.707Z"
   },
   {
    "duration": 7,
    "start_time": "2021-08-28T13:45:20.547Z"
   },
   {
    "duration": 13,
    "start_time": "2021-08-28T13:46:02.876Z"
   },
   {
    "duration": 4,
    "start_time": "2021-08-28T13:46:35.047Z"
   },
   {
    "duration": 4,
    "start_time": "2021-08-28T13:46:42.756Z"
   },
   {
    "duration": 18,
    "start_time": "2021-08-28T13:46:46.237Z"
   },
   {
    "duration": 17,
    "start_time": "2021-08-28T13:46:52.086Z"
   },
   {
    "duration": 5,
    "start_time": "2021-08-28T13:47:05.839Z"
   },
   {
    "duration": 7,
    "start_time": "2021-08-28T13:47:29.177Z"
   },
   {
    "duration": 13,
    "start_time": "2021-08-28T13:47:44.358Z"
   },
   {
    "duration": 13,
    "start_time": "2021-08-28T13:48:04.383Z"
   },
   {
    "duration": 13,
    "start_time": "2021-08-28T13:48:14.139Z"
   },
   {
    "duration": 14,
    "start_time": "2021-08-28T13:48:45.993Z"
   },
   {
    "duration": 1297,
    "start_time": "2021-08-28T13:49:01.217Z"
   },
   {
    "duration": 36,
    "start_time": "2021-08-28T13:49:02.516Z"
   },
   {
    "duration": 16,
    "start_time": "2021-08-28T13:49:02.554Z"
   },
   {
    "duration": 3,
    "start_time": "2021-08-28T13:49:07.934Z"
   },
   {
    "duration": 14,
    "start_time": "2021-08-28T13:49:08.222Z"
   },
   {
    "duration": 21,
    "start_time": "2021-08-28T13:49:08.367Z"
   },
   {
    "duration": 9,
    "start_time": "2021-08-28T13:49:08.517Z"
   },
   {
    "duration": 8,
    "start_time": "2021-08-28T13:49:08.855Z"
   },
   {
    "duration": 8,
    "start_time": "2021-08-28T13:49:09.062Z"
   },
   {
    "duration": 3,
    "start_time": "2021-08-28T13:49:09.556Z"
   },
   {
    "duration": 178,
    "start_time": "2021-08-28T13:49:09.848Z"
   },
   {
    "duration": 12,
    "start_time": "2021-08-28T13:49:10.299Z"
   },
   {
    "duration": 5,
    "start_time": "2021-08-28T13:49:10.681Z"
   },
   {
    "duration": 13,
    "start_time": "2021-08-28T13:49:24.224Z"
   },
   {
    "duration": 14,
    "start_time": "2021-08-28T13:49:33.241Z"
   },
   {
    "duration": 6,
    "start_time": "2021-08-28T13:49:43.235Z"
   },
   {
    "duration": 7,
    "start_time": "2021-08-28T13:49:51.753Z"
   },
   {
    "duration": 7,
    "start_time": "2021-08-28T13:49:56.727Z"
   },
   {
    "duration": 7,
    "start_time": "2021-08-28T13:50:00.184Z"
   },
   {
    "duration": 17,
    "start_time": "2021-08-28T13:50:07.873Z"
   },
   {
    "duration": 4,
    "start_time": "2021-08-28T13:50:12.648Z"
   },
   {
    "duration": 17,
    "start_time": "2021-08-28T13:50:15.963Z"
   },
   {
    "duration": 14,
    "start_time": "2021-08-28T13:50:34.216Z"
   },
   {
    "duration": 16,
    "start_time": "2021-08-28T13:50:37.794Z"
   },
   {
    "duration": 18,
    "start_time": "2021-08-28T13:51:01.531Z"
   },
   {
    "duration": 4,
    "start_time": "2021-08-28T13:52:54.085Z"
   },
   {
    "duration": 536,
    "start_time": "2021-08-28T13:52:58.700Z"
   },
   {
    "duration": 2378,
    "start_time": "2021-08-28T13:53:26.627Z"
   },
   {
    "duration": 385,
    "start_time": "2021-08-28T13:53:31.441Z"
   },
   {
    "duration": 4,
    "start_time": "2021-08-28T13:54:13.212Z"
   },
   {
    "duration": 907,
    "start_time": "2021-08-28T13:54:13.972Z"
   },
   {
    "duration": 272,
    "start_time": "2021-08-28T13:56:57.064Z"
   },
   {
    "duration": 28,
    "start_time": "2021-08-28T13:56:59.828Z"
   },
   {
    "duration": 191,
    "start_time": "2021-08-28T13:57:05.278Z"
   },
   {
    "duration": 9,
    "start_time": "2021-08-28T13:57:19.631Z"
   },
   {
    "duration": 9,
    "start_time": "2021-08-28T13:57:22.522Z"
   },
   {
    "duration": 177,
    "start_time": "2021-08-28T13:57:27.183Z"
   },
   {
    "duration": 10,
    "start_time": "2021-08-28T13:57:29.324Z"
   },
   {
    "duration": 20,
    "start_time": "2021-08-28T13:57:41.401Z"
   },
   {
    "duration": 7,
    "start_time": "2021-08-28T13:57:49.245Z"
   },
   {
    "duration": 6,
    "start_time": "2021-08-28T13:58:44.738Z"
   },
   {
    "duration": 7,
    "start_time": "2021-08-28T13:58:50.807Z"
   },
   {
    "duration": 7,
    "start_time": "2021-08-28T13:58:55.490Z"
   },
   {
    "duration": 193,
    "start_time": "2021-08-28T13:59:33.368Z"
   },
   {
    "duration": 192,
    "start_time": "2021-08-28T13:59:36.833Z"
   },
   {
    "duration": 191,
    "start_time": "2021-08-28T13:59:40.037Z"
   },
   {
    "duration": 18,
    "start_time": "2021-08-28T13:59:44.589Z"
   },
   {
    "duration": 18,
    "start_time": "2021-08-28T14:00:00.914Z"
   },
   {
    "duration": 17,
    "start_time": "2021-08-28T14:00:09.282Z"
   },
   {
    "duration": 17,
    "start_time": "2021-08-28T14:00:12.032Z"
   },
   {
    "duration": 17,
    "start_time": "2021-08-28T14:00:15.440Z"
   },
   {
    "duration": 15,
    "start_time": "2021-08-28T14:00:19.804Z"
   },
   {
    "duration": 6,
    "start_time": "2021-08-28T14:04:13.594Z"
   },
   {
    "duration": 16,
    "start_time": "2021-08-28T14:04:20.184Z"
   },
   {
    "duration": 6,
    "start_time": "2021-08-28T14:05:36.417Z"
   },
   {
    "duration": 198,
    "start_time": "2021-08-28T14:06:37.004Z"
   },
   {
    "duration": 6,
    "start_time": "2021-08-28T14:06:40.766Z"
   },
   {
    "duration": 6,
    "start_time": "2021-08-28T14:06:45.283Z"
   },
   {
    "duration": 7,
    "start_time": "2021-08-28T14:06:54.244Z"
   },
   {
    "duration": 12,
    "start_time": "2021-08-28T14:06:56.749Z"
   },
   {
    "duration": 59,
    "start_time": "2021-08-28T14:07:23.718Z"
   },
   {
    "duration": 8,
    "start_time": "2021-08-28T14:07:29.386Z"
   },
   {
    "duration": 11,
    "start_time": "2021-08-28T14:07:32.667Z"
   },
   {
    "duration": 11,
    "start_time": "2021-08-28T14:07:48.351Z"
   },
   {
    "duration": 11,
    "start_time": "2021-08-28T14:08:06.781Z"
   },
   {
    "duration": 10,
    "start_time": "2021-08-28T14:08:15.094Z"
   },
   {
    "duration": 9,
    "start_time": "2021-08-28T14:08:20.322Z"
   },
   {
    "duration": 9,
    "start_time": "2021-08-28T14:08:24.712Z"
   },
   {
    "duration": 10,
    "start_time": "2021-08-28T14:09:47.710Z"
   },
   {
    "duration": 23,
    "start_time": "2021-08-28T14:09:53.966Z"
   },
   {
    "duration": 4481,
    "start_time": "2021-08-28T14:10:01.552Z"
   },
   {
    "duration": 10,
    "start_time": "2021-08-28T14:10:10.636Z"
   },
   {
    "duration": 6,
    "start_time": "2021-08-28T14:10:30.565Z"
   },
   {
    "duration": 16,
    "start_time": "2021-08-28T14:10:37.430Z"
   },
   {
    "duration": 7,
    "start_time": "2021-08-28T14:10:46.298Z"
   },
   {
    "duration": 8,
    "start_time": "2021-08-28T14:11:01.833Z"
   },
   {
    "duration": 19,
    "start_time": "2021-08-28T14:11:05.480Z"
   },
   {
    "duration": 20,
    "start_time": "2021-08-28T14:15:14.563Z"
   },
   {
    "duration": 7,
    "start_time": "2021-08-28T14:15:17.782Z"
   },
   {
    "duration": 9,
    "start_time": "2021-08-28T14:15:25.544Z"
   },
   {
    "duration": 19,
    "start_time": "2021-08-28T14:15:44.406Z"
   },
   {
    "duration": 16,
    "start_time": "2021-08-28T14:18:23.291Z"
   },
   {
    "duration": 17,
    "start_time": "2021-08-28T14:18:37.620Z"
   },
   {
    "duration": 16,
    "start_time": "2021-08-28T14:20:13.483Z"
   },
   {
    "duration": 244,
    "start_time": "2021-08-28T14:21:01.825Z"
   },
   {
    "duration": 245,
    "start_time": "2021-08-28T14:21:08.942Z"
   },
   {
    "duration": -1697,
    "start_time": "2021-08-28T14:21:27.600Z"
   },
   {
    "duration": 5,
    "start_time": "2021-08-28T14:21:26.974Z"
   },
   {
    "duration": 4469,
    "start_time": "2021-08-28T14:21:32.816Z"
   },
   {
    "duration": 3545,
    "start_time": "2021-08-28T14:21:38.266Z"
   },
   {
    "duration": 172,
    "start_time": "2021-08-28T14:21:42.618Z"
   },
   {
    "duration": 228,
    "start_time": "2021-08-28T14:21:48.180Z"
   },
   {
    "duration": 6,
    "start_time": "2021-08-28T14:21:56.317Z"
   },
   {
    "duration": 9,
    "start_time": "2021-08-28T14:22:01.607Z"
   },
   {
    "duration": 22,
    "start_time": "2021-08-28T14:22:08.125Z"
   },
   {
    "duration": 3267,
    "start_time": "2021-08-28T14:23:08.944Z"
   },
   {
    "duration": 172,
    "start_time": "2021-08-28T14:23:13.945Z"
   },
   {
    "duration": 700,
    "start_time": "2021-08-28T14:23:24.696Z"
   },
   {
    "duration": 177,
    "start_time": "2021-08-28T14:23:56.349Z"
   },
   {
    "duration": 58,
    "start_time": "2021-08-28T14:24:11.838Z"
   },
   {
    "duration": 6,
    "start_time": "2021-08-28T14:24:21.877Z"
   },
   {
    "duration": 6,
    "start_time": "2021-08-28T14:24:26.527Z"
   },
   {
    "duration": 14,
    "start_time": "2021-08-28T14:24:34.197Z"
   },
   {
    "duration": 7,
    "start_time": "2021-08-28T14:25:06.677Z"
   },
   {
    "duration": 17,
    "start_time": "2021-08-28T14:25:42.284Z"
   },
   {
    "duration": 20,
    "start_time": "2021-08-28T14:25:46.437Z"
   },
   {
    "duration": 8,
    "start_time": "2021-08-28T14:27:21.836Z"
   },
   {
    "duration": 6,
    "start_time": "2021-08-28T14:27:26.967Z"
   },
   {
    "duration": 6,
    "start_time": "2021-08-28T14:27:33.728Z"
   },
   {
    "duration": 175,
    "start_time": "2021-08-28T14:28:55.659Z"
   },
   {
    "duration": 200,
    "start_time": "2021-08-28T14:29:01.640Z"
   },
   {
    "duration": 7,
    "start_time": "2021-08-28T14:29:05.827Z"
   },
   {
    "duration": 210,
    "start_time": "2021-08-28T14:29:13.728Z"
   },
   {
    "duration": 7,
    "start_time": "2021-08-28T14:29:20.440Z"
   },
   {
    "duration": 204,
    "start_time": "2021-08-28T14:29:50.517Z"
   },
   {
    "duration": 181,
    "start_time": "2021-08-28T14:29:54.531Z"
   },
   {
    "duration": 6,
    "start_time": "2021-08-28T14:29:57.888Z"
   },
   {
    "duration": 6,
    "start_time": "2021-08-28T14:30:07.239Z"
   },
   {
    "duration": 5,
    "start_time": "2021-08-28T14:30:51.079Z"
   },
   {
    "duration": 7,
    "start_time": "2021-08-28T14:30:54.480Z"
   },
   {
    "duration": 7,
    "start_time": "2021-08-28T14:30:56.528Z"
   },
   {
    "duration": 5,
    "start_time": "2021-08-28T14:31:44.920Z"
   },
   {
    "duration": 5,
    "start_time": "2021-08-28T14:31:47.856Z"
   },
   {
    "duration": 17,
    "start_time": "2021-08-28T14:33:29.096Z"
   },
   {
    "duration": 16,
    "start_time": "2021-08-28T14:33:39.069Z"
   },
   {
    "duration": 6,
    "start_time": "2021-08-28T14:36:48.034Z"
   },
   {
    "duration": 4,
    "start_time": "2021-08-28T14:37:04.648Z"
   },
   {
    "duration": 4,
    "start_time": "2021-08-28T14:37:16.212Z"
   },
   {
    "duration": 9,
    "start_time": "2021-08-28T14:38:42.640Z"
   },
   {
    "duration": 10,
    "start_time": "2021-08-28T14:38:48.842Z"
   },
   {
    "duration": 12,
    "start_time": "2021-08-28T14:38:53.994Z"
   },
   {
    "duration": 5,
    "start_time": "2021-08-28T14:39:04.375Z"
   },
   {
    "duration": 5,
    "start_time": "2021-08-28T14:39:12.246Z"
   },
   {
    "duration": 15,
    "start_time": "2021-08-28T14:39:44.838Z"
   },
   {
    "duration": 10,
    "start_time": "2021-08-28T14:39:55.429Z"
   },
   {
    "duration": 7,
    "start_time": "2021-08-28T14:40:04.850Z"
   },
   {
    "duration": 9,
    "start_time": "2021-08-28T14:40:15.429Z"
   },
   {
    "duration": 5,
    "start_time": "2021-08-28T14:40:24.814Z"
   },
   {
    "duration": 10,
    "start_time": "2021-08-28T14:40:27.575Z"
   },
   {
    "duration": 7,
    "start_time": "2021-08-28T14:40:32.274Z"
   },
   {
    "duration": 5,
    "start_time": "2021-08-28T14:40:53.403Z"
   },
   {
    "duration": 10,
    "start_time": "2021-08-28T14:40:59.451Z"
   },
   {
    "duration": 10,
    "start_time": "2021-08-28T14:41:05.183Z"
   },
   {
    "duration": 5,
    "start_time": "2021-08-28T14:41:09.286Z"
   },
   {
    "duration": 5,
    "start_time": "2021-08-28T14:41:11.876Z"
   },
   {
    "duration": 7,
    "start_time": "2021-08-28T14:41:20.241Z"
   },
   {
    "duration": 4,
    "start_time": "2021-08-28T14:41:24.380Z"
   },
   {
    "duration": 7,
    "start_time": "2021-08-28T14:41:55.553Z"
   },
   {
    "duration": 5,
    "start_time": "2021-08-28T14:42:09.019Z"
   },
   {
    "duration": 4,
    "start_time": "2021-08-28T14:42:11.184Z"
   },
   {
    "duration": 1324,
    "start_time": "2021-08-28T14:42:38.307Z"
   },
   {
    "duration": 36,
    "start_time": "2021-08-28T14:42:39.633Z"
   },
   {
    "duration": 15,
    "start_time": "2021-08-28T14:42:39.671Z"
   },
   {
    "duration": 4411,
    "start_time": "2021-08-28T14:42:39.688Z"
   },
   {
    "duration": 4,
    "start_time": "2021-08-28T14:42:53.297Z"
   },
   {
    "duration": 14,
    "start_time": "2021-08-28T14:42:53.614Z"
   },
   {
    "duration": 18,
    "start_time": "2021-08-28T14:42:53.771Z"
   },
   {
    "duration": 10,
    "start_time": "2021-08-28T14:42:54.072Z"
   },
   {
    "duration": 8,
    "start_time": "2021-08-28T14:42:54.887Z"
   },
   {
    "duration": 9,
    "start_time": "2021-08-28T14:42:55.564Z"
   },
   {
    "duration": 3,
    "start_time": "2021-08-28T14:42:56.275Z"
   },
   {
    "duration": 167,
    "start_time": "2021-08-28T14:42:57.039Z"
   },
   {
    "duration": 11,
    "start_time": "2021-08-28T14:42:59.255Z"
   },
   {
    "duration": 5,
    "start_time": "2021-08-28T14:42:59.700Z"
   },
   {
    "duration": 8,
    "start_time": "2021-08-28T14:43:11.082Z"
   },
   {
    "duration": 11,
    "start_time": "2021-08-28T14:43:17.084Z"
   },
   {
    "duration": 23,
    "start_time": "2021-08-28T14:43:38.291Z"
   },
   {
    "duration": 10,
    "start_time": "2021-08-28T14:44:09.093Z"
   },
   {
    "duration": 9,
    "start_time": "2021-08-28T14:44:18.856Z"
   },
   {
    "duration": 9,
    "start_time": "2021-08-28T14:45:36.207Z"
   },
   {
    "duration": 5,
    "start_time": "2021-08-28T14:45:39.765Z"
   },
   {
    "duration": 5,
    "start_time": "2021-08-28T14:47:58.377Z"
   },
   {
    "duration": 5,
    "start_time": "2021-08-28T14:48:00.340Z"
   },
   {
    "duration": 10,
    "start_time": "2021-08-28T14:48:03.044Z"
   },
   {
    "duration": 7,
    "start_time": "2021-08-28T14:50:13.059Z"
   },
   {
    "duration": 8,
    "start_time": "2021-08-28T14:50:17.917Z"
   },
   {
    "duration": 1312,
    "start_time": "2021-08-28T14:50:48.826Z"
   },
   {
    "duration": 37,
    "start_time": "2021-08-28T14:50:50.140Z"
   },
   {
    "duration": 16,
    "start_time": "2021-08-28T14:50:50.179Z"
   },
   {
    "duration": 3,
    "start_time": "2021-08-28T14:50:54.384Z"
   },
   {
    "duration": 13,
    "start_time": "2021-08-28T14:50:54.704Z"
   },
   {
    "duration": 16,
    "start_time": "2021-08-28T14:50:54.854Z"
   },
   {
    "duration": 9,
    "start_time": "2021-08-28T14:50:55.013Z"
   },
   {
    "duration": 7,
    "start_time": "2021-08-28T14:50:55.322Z"
   },
   {
    "duration": 9,
    "start_time": "2021-08-28T14:50:55.502Z"
   },
   {
    "duration": 2,
    "start_time": "2021-08-28T14:50:55.837Z"
   },
   {
    "duration": 173,
    "start_time": "2021-08-28T14:50:56.127Z"
   },
   {
    "duration": 12,
    "start_time": "2021-08-28T14:50:56.797Z"
   },
   {
    "duration": 4,
    "start_time": "2021-08-28T14:50:57.161Z"
   },
   {
    "duration": 9,
    "start_time": "2021-08-28T14:51:04.035Z"
   },
   {
    "duration": 8,
    "start_time": "2021-08-28T14:51:06.296Z"
   },
   {
    "duration": 9,
    "start_time": "2021-08-28T14:51:08.483Z"
   },
   {
    "duration": 18,
    "start_time": "2021-08-28T14:51:53.603Z"
   },
   {
    "duration": 18,
    "start_time": "2021-08-28T14:51:56.303Z"
   },
   {
    "duration": 6,
    "start_time": "2021-08-28T14:52:15.217Z"
   },
   {
    "duration": 7,
    "start_time": "2021-08-28T14:52:17.412Z"
   },
   {
    "duration": 32,
    "start_time": "2021-08-28T14:52:42.313Z"
   },
   {
    "duration": 17,
    "start_time": "2021-08-28T14:54:40.880Z"
   },
   {
    "duration": 3,
    "start_time": "2021-08-28T14:56:49.139Z"
   },
   {
    "duration": 518,
    "start_time": "2021-08-28T14:56:56.768Z"
   },
   {
    "duration": 1394,
    "start_time": "2021-08-28T14:58:03.217Z"
   },
   {
    "duration": 8,
    "start_time": "2021-08-28T14:59:11.977Z"
   },
   {
    "duration": 18,
    "start_time": "2021-08-28T14:59:19.343Z"
   },
   {
    "duration": 4,
    "start_time": "2021-08-28T15:05:31.395Z"
   },
   {
    "duration": 3036,
    "start_time": "2021-08-28T15:05:31.788Z"
   },
   {
    "duration": 1229,
    "start_time": "2021-08-28T15:07:43.544Z"
   },
   {
    "duration": 4,
    "start_time": "2021-08-28T15:07:53.273Z"
   },
   {
    "duration": 38,
    "start_time": "2021-08-28T15:07:54.046Z"
   },
   {
    "duration": 27,
    "start_time": "2021-08-28T15:07:54.239Z"
   },
   {
    "duration": 28,
    "start_time": "2021-08-28T15:07:54.430Z"
   },
   {
    "duration": 10,
    "start_time": "2021-08-28T15:07:55.203Z"
   },
   {
    "duration": 9,
    "start_time": "2021-08-28T15:07:55.365Z"
   },
   {
    "duration": 4,
    "start_time": "2021-08-28T15:07:55.960Z"
   },
   {
    "duration": 13,
    "start_time": "2021-08-28T15:07:56.029Z"
   },
   {
    "duration": 16,
    "start_time": "2021-08-28T15:07:56.059Z"
   },
   {
    "duration": 9,
    "start_time": "2021-08-28T15:07:56.090Z"
   },
   {
    "duration": 8,
    "start_time": "2021-08-28T15:07:56.157Z"
   },
   {
    "duration": 9,
    "start_time": "2021-08-28T15:07:56.186Z"
   },
   {
    "duration": 3,
    "start_time": "2021-08-28T15:07:56.240Z"
   },
   {
    "duration": 167,
    "start_time": "2021-08-28T15:07:56.270Z"
   },
   {
    "duration": 11,
    "start_time": "2021-08-28T15:07:56.438Z"
   },
   {
    "duration": 4,
    "start_time": "2021-08-28T15:07:56.450Z"
   },
   {
    "duration": 3,
    "start_time": "2021-08-28T15:07:56.487Z"
   },
   {
    "duration": 272,
    "start_time": "2021-08-28T15:11:09.665Z"
   },
   {
    "duration": 173,
    "start_time": "2021-08-28T15:11:29.926Z"
   },
   {
    "duration": 5,
    "start_time": "2021-08-28T15:12:08.577Z"
   },
   {
    "duration": 10,
    "start_time": "2021-08-28T15:12:11.080Z"
   },
   {
    "duration": 1248,
    "start_time": "2021-08-28T15:13:42.136Z"
   },
   {
    "duration": 37,
    "start_time": "2021-08-28T15:13:43.386Z"
   },
   {
    "duration": 18,
    "start_time": "2021-08-28T15:13:43.425Z"
   },
   {
    "duration": 29,
    "start_time": "2021-08-28T15:13:43.444Z"
   },
   {
    "duration": 18,
    "start_time": "2021-08-28T15:13:43.474Z"
   },
   {
    "duration": 12,
    "start_time": "2021-08-28T15:13:43.494Z"
   },
   {
    "duration": 3,
    "start_time": "2021-08-28T15:13:44.396Z"
   },
   {
    "duration": 13,
    "start_time": "2021-08-28T15:13:44.713Z"
   },
   {
    "duration": 17,
    "start_time": "2021-08-28T15:13:44.904Z"
   },
   {
    "duration": 9,
    "start_time": "2021-08-28T15:13:45.511Z"
   },
   {
    "duration": 7,
    "start_time": "2021-08-28T15:13:47.486Z"
   },
   {
    "duration": 9,
    "start_time": "2021-08-28T15:14:29.662Z"
   },
   {
    "duration": 4,
    "start_time": "2021-08-28T15:14:30.502Z"
   },
   {
    "duration": 174,
    "start_time": "2021-08-28T15:14:31.017Z"
   },
   {
    "duration": 16,
    "start_time": "2021-08-28T15:14:34.214Z"
   },
   {
    "duration": 5,
    "start_time": "2021-08-28T15:14:39.846Z"
   },
   {
    "duration": 295,
    "start_time": "2021-08-28T15:16:07.367Z"
   },
   {
    "duration": 4,
    "start_time": "2021-08-28T15:16:30.300Z"
   },
   {
    "duration": 8,
    "start_time": "2021-08-28T15:17:22.780Z"
   },
   {
    "duration": 5,
    "start_time": "2021-08-28T15:17:58.180Z"
   },
   {
    "duration": 5,
    "start_time": "2021-08-28T15:17:59.060Z"
   },
   {
    "duration": 16,
    "start_time": "2021-08-28T15:18:00.444Z"
   },
   {
    "duration": 4,
    "start_time": "2021-08-28T15:18:11.446Z"
   },
   {
    "duration": 2,
    "start_time": "2021-08-28T15:20:33.491Z"
   },
   {
    "duration": 10,
    "start_time": "2021-08-28T15:20:40.671Z"
   },
   {
    "duration": 4,
    "start_time": "2021-08-28T15:20:40.934Z"
   },
   {
    "duration": 628,
    "start_time": "2021-08-28T15:20:41.346Z"
   },
   {
    "duration": 16,
    "start_time": "2021-08-28T15:31:11.260Z"
   },
   {
    "duration": 219,
    "start_time": "2021-08-28T15:31:47.199Z"
   },
   {
    "duration": 15,
    "start_time": "2021-08-28T15:31:56.649Z"
   },
   {
    "duration": 15,
    "start_time": "2021-08-28T15:32:08.759Z"
   },
   {
    "duration": 14,
    "start_time": "2021-08-28T15:32:18.481Z"
   },
   {
    "duration": 12,
    "start_time": "2021-08-28T15:32:26.162Z"
   },
   {
    "duration": 10,
    "start_time": "2021-08-28T15:33:30.140Z"
   },
   {
    "duration": 14,
    "start_time": "2021-08-28T15:33:36.449Z"
   },
   {
    "duration": 23,
    "start_time": "2021-08-28T15:33:42.329Z"
   },
   {
    "duration": 16,
    "start_time": "2021-08-28T15:33:47.090Z"
   },
   {
    "duration": 15,
    "start_time": "2021-08-28T15:33:55.421Z"
   },
   {
    "duration": 16,
    "start_time": "2021-08-28T15:34:20.479Z"
   },
   {
    "duration": 10,
    "start_time": "2021-08-28T15:34:30.674Z"
   },
   {
    "duration": 12,
    "start_time": "2021-08-28T15:34:38.476Z"
   },
   {
    "duration": 172,
    "start_time": "2021-08-28T15:34:53.106Z"
   },
   {
    "duration": 214,
    "start_time": "2021-08-28T15:35:08.986Z"
   },
   {
    "duration": 16,
    "start_time": "2021-08-28T15:35:15.076Z"
   },
   {
    "duration": 20,
    "start_time": "2021-08-28T15:35:19.792Z"
   },
   {
    "duration": 11,
    "start_time": "2021-08-28T15:35:42.850Z"
   },
   {
    "duration": 14,
    "start_time": "2021-08-28T15:35:43.686Z"
   },
   {
    "duration": 195,
    "start_time": "2021-08-28T15:35:50.808Z"
   },
   {
    "duration": 6,
    "start_time": "2021-08-28T15:35:55.673Z"
   },
   {
    "duration": 175,
    "start_time": "2021-08-28T15:35:59.425Z"
   },
   {
    "duration": 7,
    "start_time": "2021-08-28T15:36:01.997Z"
   },
   {
    "duration": 15,
    "start_time": "2021-08-28T15:36:39.961Z"
   },
   {
    "duration": 13,
    "start_time": "2021-08-28T15:37:06.715Z"
   },
   {
    "duration": 14,
    "start_time": "2021-08-28T15:37:14.440Z"
   },
   {
    "duration": 22,
    "start_time": "2021-08-28T15:37:30.535Z"
   },
   {
    "duration": 14,
    "start_time": "2021-08-28T15:38:13.815Z"
   },
   {
    "duration": 19,
    "start_time": "2021-08-28T15:39:16.786Z"
   },
   {
    "duration": 63,
    "start_time": "2021-08-28T15:39:36.705Z"
   },
   {
    "duration": 21,
    "start_time": "2021-08-28T15:39:41.501Z"
   },
   {
    "duration": 22,
    "start_time": "2021-08-28T15:40:21.417Z"
   },
   {
    "duration": 10,
    "start_time": "2021-08-28T15:42:09.142Z"
   },
   {
    "duration": 198,
    "start_time": "2021-08-28T15:42:09.720Z"
   },
   {
    "duration": 4,
    "start_time": "2021-08-28T15:42:33.600Z"
   },
   {
    "duration": 6,
    "start_time": "2021-08-28T15:42:34.433Z"
   },
   {
    "duration": 25,
    "start_time": "2021-08-28T15:42:35.274Z"
   },
   {
    "duration": 355,
    "start_time": "2021-08-28T15:42:37.067Z"
   },
   {
    "duration": 231,
    "start_time": "2021-08-28T15:43:38.089Z"
   },
   {
    "duration": 1346,
    "start_time": "2021-08-28T15:43:46.459Z"
   },
   {
    "duration": 35,
    "start_time": "2021-08-28T15:43:47.807Z"
   },
   {
    "duration": 16,
    "start_time": "2021-08-28T15:43:47.844Z"
   },
   {
    "duration": 28,
    "start_time": "2021-08-28T15:43:47.862Z"
   },
   {
    "duration": 9,
    "start_time": "2021-08-28T15:43:47.891Z"
   },
   {
    "duration": 8,
    "start_time": "2021-08-28T15:43:47.901Z"
   },
   {
    "duration": 3,
    "start_time": "2021-08-28T15:43:47.911Z"
   },
   {
    "duration": 14,
    "start_time": "2021-08-28T15:43:47.916Z"
   },
   {
    "duration": 15,
    "start_time": "2021-08-28T15:43:47.932Z"
   },
   {
    "duration": 37,
    "start_time": "2021-08-28T15:43:47.949Z"
   },
   {
    "duration": 10,
    "start_time": "2021-08-28T15:43:47.987Z"
   },
   {
    "duration": 9,
    "start_time": "2021-08-28T15:43:47.998Z"
   },
   {
    "duration": 5,
    "start_time": "2021-08-28T15:43:48.008Z"
   },
   {
    "duration": 197,
    "start_time": "2021-08-28T15:43:48.015Z"
   },
   {
    "duration": 11,
    "start_time": "2021-08-28T15:43:48.214Z"
   },
   {
    "duration": 9,
    "start_time": "2021-08-28T15:43:48.226Z"
   },
   {
    "duration": 11,
    "start_time": "2021-08-28T15:43:48.237Z"
   },
   {
    "duration": 8,
    "start_time": "2021-08-28T15:43:48.249Z"
   },
   {
    "duration": 5,
    "start_time": "2021-08-28T15:43:48.260Z"
   },
   {
    "duration": 37,
    "start_time": "2021-08-28T15:43:48.267Z"
   },
   {
    "duration": 4,
    "start_time": "2021-08-28T15:43:48.312Z"
   },
   {
    "duration": 9,
    "start_time": "2021-08-28T15:43:50.828Z"
   },
   {
    "duration": 3,
    "start_time": "2021-08-28T15:43:51.333Z"
   },
   {
    "duration": 657,
    "start_time": "2021-08-28T15:43:51.367Z"
   },
   {
    "duration": 10,
    "start_time": "2021-08-28T15:43:52.026Z"
   },
   {
    "duration": 245,
    "start_time": "2021-08-28T15:43:52.037Z"
   },
   {
    "duration": 4,
    "start_time": "2021-08-28T15:43:52.284Z"
   },
   {
    "duration": 34,
    "start_time": "2021-08-28T15:43:52.290Z"
   },
   {
    "duration": 424,
    "start_time": "2021-08-28T15:43:52.326Z"
   },
   {
    "duration": 6,
    "start_time": "2021-08-28T15:48:50.635Z"
   },
   {
    "duration": 13,
    "start_time": "2021-08-28T15:50:35.993Z"
   },
   {
    "duration": 13,
    "start_time": "2021-08-28T15:52:31.756Z"
   },
   {
    "duration": 8,
    "start_time": "2021-08-28T15:52:41.537Z"
   },
   {
    "duration": 329,
    "start_time": "2021-08-28T15:52:49.880Z"
   },
   {
    "duration": 8,
    "start_time": "2021-08-28T15:52:59.514Z"
   },
   {
    "duration": 216,
    "start_time": "2021-08-28T15:53:44.087Z"
   },
   {
    "duration": 7,
    "start_time": "2021-08-28T15:54:13.053Z"
   },
   {
    "duration": 4,
    "start_time": "2021-08-28T15:54:18.630Z"
   },
   {
    "duration": 3,
    "start_time": "2021-08-28T15:54:25.764Z"
   },
   {
    "duration": 4,
    "start_time": "2021-08-28T15:54:43.202Z"
   },
   {
    "duration": 4,
    "start_time": "2021-08-28T15:55:05.753Z"
   },
   {
    "duration": 3,
    "start_time": "2021-08-28T15:55:40.427Z"
   },
   {
    "duration": 196,
    "start_time": "2021-08-28T15:55:46.352Z"
   },
   {
    "duration": 3,
    "start_time": "2021-08-28T15:55:59.057Z"
   },
   {
    "duration": 3,
    "start_time": "2021-08-28T15:56:46.366Z"
   },
   {
    "duration": 3,
    "start_time": "2021-08-28T15:56:51.528Z"
   },
   {
    "duration": 3,
    "start_time": "2021-08-28T15:56:55.256Z"
   },
   {
    "duration": 4760,
    "start_time": "2021-08-28T15:59:22.017Z"
   },
   {
    "duration": 4527,
    "start_time": "2021-08-28T16:00:08.771Z"
   },
   {
    "duration": 4404,
    "start_time": "2021-08-28T16:00:20.026Z"
   },
   {
    "duration": 4865,
    "start_time": "2021-08-28T16:01:09.099Z"
   },
   {
    "duration": 318,
    "start_time": "2021-08-28T16:01:25.108Z"
   },
   {
    "duration": 301,
    "start_time": "2021-08-28T16:01:41.184Z"
   },
   {
    "duration": 4946,
    "start_time": "2021-08-28T16:01:55.906Z"
   },
   {
    "duration": 4619,
    "start_time": "2021-08-28T16:03:00.042Z"
   },
   {
    "duration": 193,
    "start_time": "2021-08-28T16:03:43.972Z"
   },
   {
    "duration": 177,
    "start_time": "2021-08-28T16:04:50.526Z"
   },
   {
    "duration": 3459,
    "start_time": "2021-08-28T16:05:02.890Z"
   },
   {
    "duration": 4,
    "start_time": "2021-08-28T16:05:08.372Z"
   },
   {
    "duration": 187,
    "start_time": "2021-08-28T16:05:11.768Z"
   },
   {
    "duration": 4678,
    "start_time": "2021-08-28T16:05:24.230Z"
   },
   {
    "duration": 4363,
    "start_time": "2021-08-28T16:06:21.662Z"
   },
   {
    "duration": 224,
    "start_time": "2021-08-28T16:07:00.094Z"
   },
   {
    "duration": 56,
    "start_time": "2021-08-28T16:07:30.378Z"
   },
   {
    "duration": 4,
    "start_time": "2021-08-28T16:07:37.271Z"
   },
   {
    "duration": 4,
    "start_time": "2021-08-28T16:07:40.486Z"
   },
   {
    "duration": 3,
    "start_time": "2021-08-28T16:07:45.950Z"
   },
   {
    "duration": 5,
    "start_time": "2021-08-28T16:08:13.744Z"
   },
   {
    "duration": 5423,
    "start_time": "2021-08-28T16:08:22.893Z"
   },
   {
    "duration": 325,
    "start_time": "2021-08-28T16:08:43.377Z"
   },
   {
    "duration": 448,
    "start_time": "2021-08-28T16:08:49.651Z"
   },
   {
    "duration": 299,
    "start_time": "2021-08-28T16:08:57.468Z"
   },
   {
    "duration": 4,
    "start_time": "2021-08-28T16:09:30.250Z"
   },
   {
    "duration": 215,
    "start_time": "2021-08-28T16:10:50.307Z"
   },
   {
    "duration": 8,
    "start_time": "2021-08-28T16:13:22.565Z"
   },
   {
    "duration": 381,
    "start_time": "2021-08-28T16:13:32.685Z"
   },
   {
    "duration": 341,
    "start_time": "2021-08-28T16:15:40.191Z"
   },
   {
    "duration": 215,
    "start_time": "2021-08-28T16:16:30.337Z"
   },
   {
    "duration": 159,
    "start_time": "2021-08-28T16:20:57.468Z"
   },
   {
    "duration": 9,
    "start_time": "2021-08-28T16:21:38.007Z"
   },
   {
    "duration": 4,
    "start_time": "2021-08-28T18:02:10.803Z"
   },
   {
    "duration": 4424,
    "start_time": "2021-08-28T18:03:56.286Z"
   },
   {
    "duration": 4309,
    "start_time": "2021-08-28T18:07:21.801Z"
   },
   {
    "duration": 370,
    "start_time": "2021-08-28T18:07:45.933Z"
   },
   {
    "duration": 217,
    "start_time": "2021-08-28T18:11:49.099Z"
   },
   {
    "duration": 7,
    "start_time": "2021-08-28T18:15:24.961Z"
   },
   {
    "duration": 745,
    "start_time": "2021-08-28T18:15:35.819Z"
   },
   {
    "duration": 7,
    "start_time": "2021-08-28T18:15:41.232Z"
   },
   {
    "duration": 7,
    "start_time": "2021-08-28T18:17:39.623Z"
   },
   {
    "duration": 850,
    "start_time": "2021-08-28T18:17:45.891Z"
   },
   {
    "duration": 16,
    "start_time": "2021-08-28T18:20:15.678Z"
   },
   {
    "duration": 10,
    "start_time": "2021-08-28T18:20:57.705Z"
   },
   {
    "duration": 10,
    "start_time": "2021-08-28T18:21:10.507Z"
   },
   {
    "duration": 20,
    "start_time": "2021-08-28T18:21:52.403Z"
   },
   {
    "duration": 61,
    "start_time": "2021-08-28T18:24:14.353Z"
   },
   {
    "duration": 363,
    "start_time": "2021-08-28T18:24:23.511Z"
   },
   {
    "duration": 222,
    "start_time": "2021-08-28T18:25:56.356Z"
   },
   {
    "duration": 379,
    "start_time": "2021-08-28T18:26:09.784Z"
   },
   {
    "duration": 8,
    "start_time": "2021-08-28T18:26:42.995Z"
   },
   {
    "duration": 224,
    "start_time": "2021-08-28T18:27:20.816Z"
   },
   {
    "duration": 342,
    "start_time": "2021-08-28T18:28:26.744Z"
   },
   {
    "duration": 214,
    "start_time": "2021-08-28T18:28:45.586Z"
   },
   {
    "duration": 402,
    "start_time": "2021-08-28T18:30:10.375Z"
   },
   {
    "duration": 214,
    "start_time": "2021-08-28T18:30:26.696Z"
   },
   {
    "duration": 16,
    "start_time": "2021-08-28T18:31:03.956Z"
   },
   {
    "duration": 343,
    "start_time": "2021-08-28T18:31:04.596Z"
   },
   {
    "duration": 7,
    "start_time": "2021-08-28T18:31:21.701Z"
   },
   {
    "duration": 209,
    "start_time": "2021-08-28T18:32:05.903Z"
   },
   {
    "duration": 359,
    "start_time": "2021-08-28T18:33:59.697Z"
   },
   {
    "duration": 4,
    "start_time": "2021-08-28T18:34:31.249Z"
   },
   {
    "duration": 193,
    "start_time": "2021-08-28T18:34:41.522Z"
   },
   {
    "duration": 307,
    "start_time": "2021-08-28T18:35:23.373Z"
   },
   {
    "duration": 334,
    "start_time": "2021-08-28T18:35:44.380Z"
   },
   {
    "duration": 205,
    "start_time": "2021-08-28T18:36:12.447Z"
   },
   {
    "duration": 342,
    "start_time": "2021-08-28T18:36:25.883Z"
   },
   {
    "duration": 209,
    "start_time": "2021-08-28T18:37:01.104Z"
   },
   {
    "duration": 336,
    "start_time": "2021-08-28T18:37:09.321Z"
   },
   {
    "duration": 3,
    "start_time": "2021-08-28T18:38:55.595Z"
   },
   {
    "duration": 11,
    "start_time": "2021-08-28T18:40:26.164Z"
   },
   {
    "duration": 6,
    "start_time": "2021-08-28T18:40:26.495Z"
   },
   {
    "duration": 6,
    "start_time": "2021-08-28T18:40:28.546Z"
   },
   {
    "duration": 7,
    "start_time": "2021-08-28T18:40:28.985Z"
   },
   {
    "duration": 10,
    "start_time": "2021-08-28T18:40:49.174Z"
   },
   {
    "duration": 6,
    "start_time": "2021-08-28T18:40:49.365Z"
   },
   {
    "duration": 6,
    "start_time": "2021-08-28T18:40:50.447Z"
   },
   {
    "duration": 6,
    "start_time": "2021-08-28T18:40:51.506Z"
   },
   {
    "duration": 12,
    "start_time": "2021-08-28T18:42:26.360Z"
   },
   {
    "duration": 6,
    "start_time": "2021-08-28T18:42:26.720Z"
   },
   {
    "duration": 6,
    "start_time": "2021-08-28T18:42:27.664Z"
   },
   {
    "duration": 5,
    "start_time": "2021-08-28T18:42:28.150Z"
   },
   {
    "duration": 10,
    "start_time": "2021-08-28T18:44:08.312Z"
   },
   {
    "duration": 3,
    "start_time": "2021-08-28T18:44:08.943Z"
   },
   {
    "duration": 5,
    "start_time": "2021-08-28T18:44:10.331Z"
   },
   {
    "duration": 164,
    "start_time": "2021-08-28T18:44:24.138Z"
   },
   {
    "duration": 10,
    "start_time": "2021-08-28T18:45:26.797Z"
   },
   {
    "duration": 5,
    "start_time": "2021-08-28T18:45:44.122Z"
   },
   {
    "duration": 162,
    "start_time": "2021-08-28T18:46:08.404Z"
   },
   {
    "duration": 1419,
    "start_time": "2021-08-28T19:00:17.881Z"
   },
   {
    "duration": 36,
    "start_time": "2021-08-28T19:00:19.302Z"
   },
   {
    "duration": 16,
    "start_time": "2021-08-28T19:00:19.342Z"
   },
   {
    "duration": 38,
    "start_time": "2021-08-28T19:00:19.360Z"
   },
   {
    "duration": 19,
    "start_time": "2021-08-28T19:00:19.399Z"
   },
   {
    "duration": 10,
    "start_time": "2021-08-28T19:00:19.420Z"
   },
   {
    "duration": 3,
    "start_time": "2021-08-28T19:00:19.433Z"
   },
   {
    "duration": 15,
    "start_time": "2021-08-28T19:00:19.438Z"
   },
   {
    "duration": 57,
    "start_time": "2021-08-28T19:00:19.455Z"
   },
   {
    "duration": 12,
    "start_time": "2021-08-28T19:00:19.514Z"
   },
   {
    "duration": 9,
    "start_time": "2021-08-28T19:00:19.529Z"
   },
   {
    "duration": 9,
    "start_time": "2021-08-28T19:00:19.540Z"
   },
   {
    "duration": 4,
    "start_time": "2021-08-28T19:00:19.550Z"
   },
   {
    "duration": 214,
    "start_time": "2021-08-28T19:00:19.555Z"
   },
   {
    "duration": 11,
    "start_time": "2021-08-28T19:00:19.770Z"
   },
   {
    "duration": 10,
    "start_time": "2021-08-28T19:00:19.786Z"
   },
   {
    "duration": 17,
    "start_time": "2021-08-28T19:00:19.798Z"
   },
   {
    "duration": 5,
    "start_time": "2021-08-28T19:00:19.819Z"
   },
   {
    "duration": 7,
    "start_time": "2021-08-28T19:00:19.825Z"
   },
   {
    "duration": 18,
    "start_time": "2021-08-28T19:00:19.834Z"
   },
   {
    "duration": 4,
    "start_time": "2021-08-28T19:00:19.853Z"
   },
   {
    "duration": 31,
    "start_time": "2021-08-28T19:00:19.861Z"
   },
   {
    "duration": 4,
    "start_time": "2021-08-28T19:00:19.898Z"
   },
   {
    "duration": 620,
    "start_time": "2021-08-28T19:00:19.907Z"
   },
   {
    "duration": 13,
    "start_time": "2021-08-28T19:00:20.529Z"
   },
   {
    "duration": 383,
    "start_time": "2021-08-28T19:00:20.544Z"
   },
   {
    "duration": 4,
    "start_time": "2021-08-28T19:00:20.929Z"
   },
   {
    "duration": 9,
    "start_time": "2021-08-28T19:00:20.935Z"
   },
   {
    "duration": 303,
    "start_time": "2021-08-28T19:00:20.946Z"
   },
   {
    "duration": 6,
    "start_time": "2021-08-28T19:00:21.251Z"
   },
   {
    "duration": 20,
    "start_time": "2021-08-28T19:00:21.259Z"
   },
   {
    "duration": 399,
    "start_time": "2021-08-28T19:00:21.281Z"
   },
   {
    "duration": 178,
    "start_time": "2021-08-28T19:00:21.682Z"
   },
   {
    "duration": 7,
    "start_time": "2021-08-28T19:00:21.861Z"
   },
   {
    "duration": 31,
    "start_time": "2021-08-28T19:00:21.870Z"
   },
   {
    "duration": 764,
    "start_time": "2021-08-28T19:00:21.903Z"
   },
   {
    "duration": 7,
    "start_time": "2021-08-28T19:00:22.669Z"
   },
   {
    "duration": 19,
    "start_time": "2021-08-28T19:00:22.690Z"
   },
   {
    "duration": 929,
    "start_time": "2021-08-28T19:00:22.711Z"
   },
   {
    "duration": 12,
    "start_time": "2021-08-28T19:00:23.642Z"
   },
   {
    "duration": 40,
    "start_time": "2021-08-28T19:00:23.656Z"
   },
   {
    "duration": 395,
    "start_time": "2021-08-28T19:00:23.698Z"
   },
   {
    "duration": 3,
    "start_time": "2021-08-28T19:00:24.095Z"
   },
   {
    "duration": 27,
    "start_time": "2021-08-28T19:00:24.100Z"
   },
   {
    "duration": 8,
    "start_time": "2021-08-28T19:00:24.129Z"
   },
   {
    "duration": 8,
    "start_time": "2021-08-28T19:00:24.138Z"
   },
   {
    "duration": 8,
    "start_time": "2021-08-28T19:00:24.147Z"
   },
   {
    "duration": 13,
    "start_time": "2021-08-28T19:00:24.156Z"
   },
   {
    "duration": 34,
    "start_time": "2021-08-28T19:00:24.170Z"
   },
   {
    "duration": 13,
    "start_time": "2021-08-28T19:00:24.206Z"
   },
   {
    "duration": 6,
    "start_time": "2021-08-28T19:00:24.221Z"
   },
   {
    "duration": 11,
    "start_time": "2021-08-28T19:00:24.229Z"
   },
   {
    "duration": 6,
    "start_time": "2021-08-28T19:00:24.241Z"
   },
   {
    "duration": 7,
    "start_time": "2021-08-28T19:00:24.248Z"
   },
   {
    "duration": 7,
    "start_time": "2021-08-28T19:00:24.256Z"
   },
   {
    "duration": 43,
    "start_time": "2021-08-28T19:00:24.264Z"
   },
   {
    "duration": 8,
    "start_time": "2021-08-28T19:00:24.310Z"
   },
   {
    "duration": 8,
    "start_time": "2021-08-28T19:00:24.321Z"
   },
   {
    "duration": 193,
    "start_time": "2021-08-28T19:00:24.331Z"
   },
   {
    "duration": 11,
    "start_time": "2021-08-28T19:00:24.526Z"
   },
   {
    "duration": 6,
    "start_time": "2021-08-28T19:00:24.538Z"
   },
   {
    "duration": 197,
    "start_time": "2021-08-28T19:00:24.546Z"
   },
   {
    "duration": 1411,
    "start_time": "2021-08-28T19:01:27.749Z"
   },
   {
    "duration": 41,
    "start_time": "2021-08-28T19:01:29.162Z"
   },
   {
    "duration": 21,
    "start_time": "2021-08-28T19:01:29.206Z"
   },
   {
    "duration": 28,
    "start_time": "2021-08-28T19:01:29.229Z"
   },
   {
    "duration": 29,
    "start_time": "2021-08-28T19:01:29.259Z"
   },
   {
    "duration": 15,
    "start_time": "2021-08-28T19:01:29.291Z"
   },
   {
    "duration": 13,
    "start_time": "2021-08-28T19:01:29.308Z"
   },
   {
    "duration": 34,
    "start_time": "2021-08-28T19:01:29.324Z"
   },
   {
    "duration": 35,
    "start_time": "2021-08-28T19:01:29.360Z"
   },
   {
    "duration": 11,
    "start_time": "2021-08-28T19:01:29.397Z"
   },
   {
    "duration": 23,
    "start_time": "2021-08-28T19:01:29.410Z"
   },
   {
    "duration": 21,
    "start_time": "2021-08-28T19:01:29.435Z"
   },
   {
    "duration": 25,
    "start_time": "2021-08-28T19:01:29.458Z"
   },
   {
    "duration": 193,
    "start_time": "2021-08-28T19:01:29.484Z"
   },
   {
    "duration": 21,
    "start_time": "2021-08-28T19:01:29.678Z"
   },
   {
    "duration": 341,
    "start_time": "2021-08-28T19:01:29.701Z"
   },
   {
    "duration": -1025,
    "start_time": "2021-08-28T19:01:31.070Z"
   },
   {
    "duration": -1030,
    "start_time": "2021-08-28T19:01:31.076Z"
   },
   {
    "duration": -1033,
    "start_time": "2021-08-28T19:01:31.080Z"
   },
   {
    "duration": -1034,
    "start_time": "2021-08-28T19:01:31.082Z"
   },
   {
    "duration": -1036,
    "start_time": "2021-08-28T19:01:31.085Z"
   },
   {
    "duration": -1038,
    "start_time": "2021-08-28T19:01:31.088Z"
   },
   {
    "duration": -1040,
    "start_time": "2021-08-28T19:01:31.091Z"
   },
   {
    "duration": -1043,
    "start_time": "2021-08-28T19:01:31.095Z"
   },
   {
    "duration": -1044,
    "start_time": "2021-08-28T19:01:31.098Z"
   },
   {
    "duration": -1046,
    "start_time": "2021-08-28T19:01:31.101Z"
   },
   {
    "duration": -1051,
    "start_time": "2021-08-28T19:01:31.107Z"
   },
   {
    "duration": -1053,
    "start_time": "2021-08-28T19:01:31.110Z"
   },
   {
    "duration": -1055,
    "start_time": "2021-08-28T19:01:31.113Z"
   },
   {
    "duration": -1056,
    "start_time": "2021-08-28T19:01:31.115Z"
   },
   {
    "duration": -1058,
    "start_time": "2021-08-28T19:01:31.118Z"
   },
   {
    "duration": -1060,
    "start_time": "2021-08-28T19:01:31.121Z"
   },
   {
    "duration": -1061,
    "start_time": "2021-08-28T19:01:31.123Z"
   },
   {
    "duration": -1063,
    "start_time": "2021-08-28T19:01:31.126Z"
   },
   {
    "duration": -1065,
    "start_time": "2021-08-28T19:01:31.129Z"
   },
   {
    "duration": -1066,
    "start_time": "2021-08-28T19:01:31.131Z"
   },
   {
    "duration": -1068,
    "start_time": "2021-08-28T19:01:31.134Z"
   },
   {
    "duration": -1070,
    "start_time": "2021-08-28T19:01:31.137Z"
   },
   {
    "duration": -1072,
    "start_time": "2021-08-28T19:01:31.140Z"
   },
   {
    "duration": -1073,
    "start_time": "2021-08-28T19:01:31.142Z"
   },
   {
    "duration": -1075,
    "start_time": "2021-08-28T19:01:31.145Z"
   },
   {
    "duration": -1076,
    "start_time": "2021-08-28T19:01:31.147Z"
   },
   {
    "duration": -1078,
    "start_time": "2021-08-28T19:01:31.150Z"
   },
   {
    "duration": -1080,
    "start_time": "2021-08-28T19:01:31.153Z"
   },
   {
    "duration": -1082,
    "start_time": "2021-08-28T19:01:31.156Z"
   },
   {
    "duration": -1088,
    "start_time": "2021-08-28T19:01:31.163Z"
   },
   {
    "duration": -1090,
    "start_time": "2021-08-28T19:01:31.166Z"
   },
   {
    "duration": -1091,
    "start_time": "2021-08-28T19:01:31.168Z"
   },
   {
    "duration": -1093,
    "start_time": "2021-08-28T19:01:31.171Z"
   },
   {
    "duration": -1095,
    "start_time": "2021-08-28T19:01:31.174Z"
   },
   {
    "duration": -1096,
    "start_time": "2021-08-28T19:01:31.176Z"
   },
   {
    "duration": -1098,
    "start_time": "2021-08-28T19:01:31.179Z"
   },
   {
    "duration": -1100,
    "start_time": "2021-08-28T19:01:31.182Z"
   },
   {
    "duration": -1098,
    "start_time": "2021-08-28T19:01:31.184Z"
   },
   {
    "duration": -1099,
    "start_time": "2021-08-28T19:01:31.187Z"
   },
   {
    "duration": -1097,
    "start_time": "2021-08-28T19:01:31.190Z"
   },
   {
    "duration": -1098,
    "start_time": "2021-08-28T19:01:31.192Z"
   },
   {
    "duration": -1100,
    "start_time": "2021-08-28T19:01:31.195Z"
   },
   {
    "duration": -1102,
    "start_time": "2021-08-28T19:01:31.198Z"
   },
   {
    "duration": -1103,
    "start_time": "2021-08-28T19:01:31.200Z"
   },
   {
    "duration": -1105,
    "start_time": "2021-08-28T19:01:31.203Z"
   },
   {
    "duration": -1107,
    "start_time": "2021-08-28T19:01:31.206Z"
   },
   {
    "duration": 1334,
    "start_time": "2021-08-28T19:02:01.814Z"
   },
   {
    "duration": 37,
    "start_time": "2021-08-28T19:02:03.150Z"
   },
   {
    "duration": 20,
    "start_time": "2021-08-28T19:02:03.190Z"
   },
   {
    "duration": 44,
    "start_time": "2021-08-28T19:02:03.211Z"
   },
   {
    "duration": 11,
    "start_time": "2021-08-28T19:02:03.257Z"
   },
   {
    "duration": 29,
    "start_time": "2021-08-28T19:02:03.270Z"
   },
   {
    "duration": 7,
    "start_time": "2021-08-28T19:02:03.300Z"
   },
   {
    "duration": 26,
    "start_time": "2021-08-28T19:02:03.309Z"
   },
   {
    "duration": 24,
    "start_time": "2021-08-28T19:02:03.339Z"
   },
   {
    "duration": 9,
    "start_time": "2021-08-28T19:02:03.365Z"
   },
   {
    "duration": 24,
    "start_time": "2021-08-28T19:02:03.375Z"
   },
   {
    "duration": 14,
    "start_time": "2021-08-28T19:02:03.401Z"
   },
   {
    "duration": 6,
    "start_time": "2021-08-28T19:02:03.417Z"
   },
   {
    "duration": 206,
    "start_time": "2021-08-28T19:02:03.426Z"
   },
   {
    "duration": 10,
    "start_time": "2021-08-28T19:02:03.633Z"
   },
   {
    "duration": 5,
    "start_time": "2021-08-28T19:02:03.644Z"
   },
   {
    "duration": 14,
    "start_time": "2021-08-28T19:02:03.650Z"
   },
   {
    "duration": 19,
    "start_time": "2021-08-28T19:02:03.666Z"
   },
   {
    "duration": 12,
    "start_time": "2021-08-28T19:02:03.688Z"
   },
   {
    "duration": 22,
    "start_time": "2021-08-28T19:02:03.702Z"
   },
   {
    "duration": 10,
    "start_time": "2021-08-28T19:02:03.726Z"
   },
   {
    "duration": 16,
    "start_time": "2021-08-28T19:02:03.738Z"
   },
   {
    "duration": 3,
    "start_time": "2021-08-28T19:02:03.756Z"
   },
   {
    "duration": 606,
    "start_time": "2021-08-28T19:02:03.760Z"
   },
   {
    "duration": 26,
    "start_time": "2021-08-28T19:02:04.367Z"
   },
   {
    "duration": 340,
    "start_time": "2021-08-28T19:02:04.394Z"
   },
   {
    "duration": 4,
    "start_time": "2021-08-28T19:02:04.737Z"
   },
   {
    "duration": 8,
    "start_time": "2021-08-28T19:02:04.743Z"
   },
   {
    "duration": 285,
    "start_time": "2021-08-28T19:02:04.752Z"
   },
   {
    "duration": 6,
    "start_time": "2021-08-28T19:02:05.038Z"
   },
   {
    "duration": 16,
    "start_time": "2021-08-28T19:02:05.046Z"
   },
   {
    "duration": 397,
    "start_time": "2021-08-28T19:02:05.063Z"
   },
   {
    "duration": 185,
    "start_time": "2021-08-28T19:02:05.462Z"
   },
   {
    "duration": 8,
    "start_time": "2021-08-28T19:02:05.649Z"
   },
   {
    "duration": 28,
    "start_time": "2021-08-28T19:02:05.659Z"
   },
   {
    "duration": 782,
    "start_time": "2021-08-28T19:02:05.688Z"
   },
   {
    "duration": 17,
    "start_time": "2021-08-28T19:02:06.471Z"
   },
   {
    "duration": 8,
    "start_time": "2021-08-28T19:02:06.490Z"
   },
   {
    "duration": 950,
    "start_time": "2021-08-28T19:02:06.502Z"
   },
   {
    "duration": 10,
    "start_time": "2021-08-28T19:02:07.453Z"
   },
   {
    "duration": 39,
    "start_time": "2021-08-28T19:02:07.465Z"
   },
   {
    "duration": 389,
    "start_time": "2021-08-28T19:02:07.506Z"
   },
   {
    "duration": 2,
    "start_time": "2021-08-28T19:02:07.898Z"
   },
   {
    "duration": 17,
    "start_time": "2021-08-28T19:02:07.903Z"
   },
   {
    "duration": 7,
    "start_time": "2021-08-28T19:02:07.922Z"
   },
   {
    "duration": 7,
    "start_time": "2021-08-28T19:02:07.931Z"
   },
   {
    "duration": 9,
    "start_time": "2021-08-28T19:02:07.940Z"
   },
   {
    "duration": 12,
    "start_time": "2021-08-28T19:02:07.950Z"
   },
   {
    "duration": 34,
    "start_time": "2021-08-28T19:02:07.964Z"
   },
   {
    "duration": 28,
    "start_time": "2021-08-28T19:02:08.000Z"
   },
   {
    "duration": 21,
    "start_time": "2021-08-28T19:02:08.030Z"
   },
   {
    "duration": 30,
    "start_time": "2021-08-28T19:02:08.053Z"
   },
   {
    "duration": 21,
    "start_time": "2021-08-28T19:02:08.084Z"
   },
   {
    "duration": 33,
    "start_time": "2021-08-28T19:02:08.107Z"
   },
   {
    "duration": 20,
    "start_time": "2021-08-28T19:02:08.142Z"
   },
   {
    "duration": 39,
    "start_time": "2021-08-28T19:02:08.164Z"
   },
   {
    "duration": 7,
    "start_time": "2021-08-28T19:02:08.206Z"
   },
   {
    "duration": 26,
    "start_time": "2021-08-28T19:02:08.215Z"
   },
   {
    "duration": 195,
    "start_time": "2021-08-28T19:02:08.243Z"
   },
   {
    "duration": 9,
    "start_time": "2021-08-28T19:02:08.439Z"
   },
   {
    "duration": 4,
    "start_time": "2021-08-28T19:02:08.450Z"
   },
   {
    "duration": 198,
    "start_time": "2021-08-28T19:02:08.456Z"
   },
   {
    "duration": 1802,
    "start_time": "2021-08-29T12:13:17.461Z"
   },
   {
    "duration": 239,
    "start_time": "2021-08-29T12:13:19.266Z"
   },
   {
    "duration": 27,
    "start_time": "2021-08-29T12:13:19.508Z"
   },
   {
    "duration": 45,
    "start_time": "2021-08-29T12:13:19.539Z"
   },
   {
    "duration": 16,
    "start_time": "2021-08-29T12:13:19.588Z"
   },
   {
    "duration": 14,
    "start_time": "2021-08-29T12:13:19.607Z"
   },
   {
    "duration": 39,
    "start_time": "2021-08-29T12:13:19.624Z"
   },
   {
    "duration": 20,
    "start_time": "2021-08-29T12:13:19.669Z"
   },
   {
    "duration": 24,
    "start_time": "2021-08-29T12:13:19.692Z"
   },
   {
    "duration": 47,
    "start_time": "2021-08-29T12:13:19.718Z"
   },
   {
    "duration": 10,
    "start_time": "2021-08-29T12:13:19.768Z"
   },
   {
    "duration": 11,
    "start_time": "2021-08-29T12:13:19.781Z"
   },
   {
    "duration": 3,
    "start_time": "2021-08-29T12:13:19.795Z"
   },
   {
    "duration": 304,
    "start_time": "2021-08-29T12:13:19.800Z"
   },
   {
    "duration": 17,
    "start_time": "2021-08-29T12:13:20.107Z"
   },
   {
    "duration": 7,
    "start_time": "2021-08-29T12:13:20.126Z"
   },
   {
    "duration": 33,
    "start_time": "2021-08-29T12:13:20.135Z"
   },
   {
    "duration": 10,
    "start_time": "2021-08-29T12:13:20.170Z"
   },
   {
    "duration": 7,
    "start_time": "2021-08-29T12:13:20.182Z"
   },
   {
    "duration": 23,
    "start_time": "2021-08-29T12:13:20.191Z"
   },
   {
    "duration": 5,
    "start_time": "2021-08-29T12:13:20.217Z"
   },
   {
    "duration": 54,
    "start_time": "2021-08-29T12:13:20.224Z"
   },
   {
    "duration": 4,
    "start_time": "2021-08-29T12:13:20.284Z"
   },
   {
    "duration": 1065,
    "start_time": "2021-08-29T12:13:20.292Z"
   },
   {
    "duration": 18,
    "start_time": "2021-08-29T12:13:21.359Z"
   },
   {
    "duration": 472,
    "start_time": "2021-08-29T12:13:21.380Z"
   },
   {
    "duration": 7,
    "start_time": "2021-08-29T12:13:21.854Z"
   },
   {
    "duration": 8,
    "start_time": "2021-08-29T12:13:21.863Z"
   },
   {
    "duration": 409,
    "start_time": "2021-08-29T12:13:21.874Z"
   },
   {
    "duration": 9,
    "start_time": "2021-08-29T12:13:22.285Z"
   },
   {
    "duration": 18,
    "start_time": "2021-08-29T12:13:22.296Z"
   },
   {
    "duration": 516,
    "start_time": "2021-08-29T12:13:22.317Z"
   },
   {
    "duration": 254,
    "start_time": "2021-08-29T12:13:22.836Z"
   },
   {
    "duration": 10,
    "start_time": "2021-08-29T12:13:23.092Z"
   },
   {
    "duration": 7,
    "start_time": "2021-08-29T12:13:23.104Z"
   },
   {
    "duration": 1022,
    "start_time": "2021-08-29T12:13:23.113Z"
   },
   {
    "duration": 9,
    "start_time": "2021-08-29T12:13:24.137Z"
   },
   {
    "duration": 25,
    "start_time": "2021-08-29T12:13:24.161Z"
   },
   {
    "duration": 1238,
    "start_time": "2021-08-29T12:13:24.188Z"
   },
   {
    "duration": 14,
    "start_time": "2021-08-29T12:13:25.428Z"
   },
   {
    "duration": 23,
    "start_time": "2021-08-29T12:13:25.463Z"
   },
   {
    "duration": 486,
    "start_time": "2021-08-29T12:13:25.489Z"
   },
   {
    "duration": 3,
    "start_time": "2021-08-29T12:13:25.978Z"
   },
   {
    "duration": 35,
    "start_time": "2021-08-29T12:13:25.983Z"
   },
   {
    "duration": 31,
    "start_time": "2021-08-29T12:13:26.021Z"
   },
   {
    "duration": 30,
    "start_time": "2021-08-29T12:13:26.054Z"
   },
   {
    "duration": 34,
    "start_time": "2021-08-29T12:13:26.086Z"
   },
   {
    "duration": 31,
    "start_time": "2021-08-29T12:13:26.122Z"
   },
   {
    "duration": 21,
    "start_time": "2021-08-29T12:13:26.156Z"
   },
   {
    "duration": 28,
    "start_time": "2021-08-29T12:13:26.179Z"
   },
   {
    "duration": 18,
    "start_time": "2021-08-29T12:13:26.210Z"
   },
   {
    "duration": 36,
    "start_time": "2021-08-29T12:13:26.230Z"
   },
   {
    "duration": 20,
    "start_time": "2021-08-29T12:13:26.269Z"
   },
   {
    "duration": 22,
    "start_time": "2021-08-29T12:13:26.292Z"
   },
   {
    "duration": 26,
    "start_time": "2021-08-29T12:13:26.316Z"
   },
   {
    "duration": 26,
    "start_time": "2021-08-29T12:13:26.344Z"
   },
   {
    "duration": 4,
    "start_time": "2021-08-29T12:13:26.372Z"
   },
   {
    "duration": 35,
    "start_time": "2021-08-29T12:13:26.378Z"
   },
   {
    "duration": 251,
    "start_time": "2021-08-29T12:13:26.416Z"
   },
   {
    "duration": 13,
    "start_time": "2021-08-29T12:13:26.669Z"
   },
   {
    "duration": 34,
    "start_time": "2021-08-29T12:13:26.684Z"
   },
   {
    "duration": 246,
    "start_time": "2021-08-29T12:13:26.720Z"
   },
   {
    "duration": 1797,
    "start_time": "2021-08-29T12:32:05.711Z"
   },
   {
    "duration": 48,
    "start_time": "2021-08-29T12:32:07.510Z"
   },
   {
    "duration": 28,
    "start_time": "2021-08-29T12:32:07.564Z"
   },
   {
    "duration": 72,
    "start_time": "2021-08-29T12:32:07.595Z"
   },
   {
    "duration": 19,
    "start_time": "2021-08-29T12:32:07.673Z"
   },
   {
    "duration": 17,
    "start_time": "2021-08-29T12:32:07.695Z"
   },
   {
    "duration": 4,
    "start_time": "2021-08-29T12:32:07.718Z"
   },
   {
    "duration": 72,
    "start_time": "2021-08-29T12:32:07.727Z"
   },
   {
    "duration": 24,
    "start_time": "2021-08-29T12:32:07.802Z"
   },
   {
    "duration": 34,
    "start_time": "2021-08-29T12:32:07.829Z"
   },
   {
    "duration": 16,
    "start_time": "2021-08-29T12:32:07.866Z"
   },
   {
    "duration": 19,
    "start_time": "2021-08-29T12:32:07.885Z"
   },
   {
    "duration": 4,
    "start_time": "2021-08-29T12:32:07.906Z"
   },
   {
    "duration": 365,
    "start_time": "2021-08-29T12:32:07.913Z"
   },
   {
    "duration": 19,
    "start_time": "2021-08-29T12:32:08.282Z"
   },
   {
    "duration": 15,
    "start_time": "2021-08-29T12:32:08.304Z"
   },
   {
    "duration": 12,
    "start_time": "2021-08-29T12:32:08.322Z"
   },
   {
    "duration": 12,
    "start_time": "2021-08-29T12:32:08.336Z"
   },
   {
    "duration": 8,
    "start_time": "2021-08-29T12:32:08.361Z"
   },
   {
    "duration": 28,
    "start_time": "2021-08-29T12:32:08.371Z"
   },
   {
    "duration": 9,
    "start_time": "2021-08-29T12:32:08.401Z"
   },
   {
    "duration": 44,
    "start_time": "2021-08-29T12:32:08.418Z"
   },
   {
    "duration": 4,
    "start_time": "2021-08-29T12:32:08.466Z"
   },
   {
    "duration": 842,
    "start_time": "2021-08-29T12:32:08.472Z"
   },
   {
    "duration": 16,
    "start_time": "2021-08-29T12:32:09.317Z"
   },
   {
    "duration": 508,
    "start_time": "2021-08-29T12:32:09.335Z"
   },
   {
    "duration": 5,
    "start_time": "2021-08-29T12:32:09.845Z"
   },
   {
    "duration": 12,
    "start_time": "2021-08-29T12:32:09.863Z"
   },
   {
    "duration": 430,
    "start_time": "2021-08-29T12:32:09.878Z"
   },
   {
    "duration": 9,
    "start_time": "2021-08-29T12:32:10.310Z"
   },
   {
    "duration": 21,
    "start_time": "2021-08-29T12:32:10.321Z"
   },
   {
    "duration": 546,
    "start_time": "2021-08-29T12:32:10.365Z"
   },
   {
    "duration": 253,
    "start_time": "2021-08-29T12:32:10.913Z"
   },
   {
    "duration": 16,
    "start_time": "2021-08-29T12:32:11.168Z"
   },
   {
    "duration": 7,
    "start_time": "2021-08-29T12:32:11.187Z"
   },
   {
    "duration": 1155,
    "start_time": "2021-08-29T12:32:11.197Z"
   },
   {
    "duration": 17,
    "start_time": "2021-08-29T12:32:12.354Z"
   },
   {
    "duration": 10,
    "start_time": "2021-08-29T12:32:12.375Z"
   },
   {
    "duration": 1296,
    "start_time": "2021-08-29T12:32:12.389Z"
   },
   {
    "duration": 19,
    "start_time": "2021-08-29T12:32:13.689Z"
   },
   {
    "duration": 59,
    "start_time": "2021-08-29T12:32:13.711Z"
   },
   {
    "duration": 488,
    "start_time": "2021-08-29T12:32:13.772Z"
   },
   {
    "duration": 3,
    "start_time": "2021-08-29T12:32:14.267Z"
   },
   {
    "duration": 162,
    "start_time": "2021-08-29T12:32:14.272Z"
   },
   {
    "duration": 7,
    "start_time": "2021-08-29T12:32:14.437Z"
   },
   {
    "duration": 12,
    "start_time": "2021-08-29T12:32:14.447Z"
   },
   {
    "duration": 30,
    "start_time": "2021-08-29T12:32:14.467Z"
   },
   {
    "duration": 17,
    "start_time": "2021-08-29T12:32:14.500Z"
   },
   {
    "duration": 8,
    "start_time": "2021-08-29T12:32:14.519Z"
   },
   {
    "duration": 13,
    "start_time": "2021-08-29T12:32:14.530Z"
   },
   {
    "duration": 21,
    "start_time": "2021-08-29T12:32:14.546Z"
   },
   {
    "duration": 23,
    "start_time": "2021-08-29T12:32:14.572Z"
   },
   {
    "duration": 11,
    "start_time": "2021-08-29T12:32:14.598Z"
   },
   {
    "duration": 12,
    "start_time": "2021-08-29T12:32:14.611Z"
   },
   {
    "duration": 43,
    "start_time": "2021-08-29T12:32:14.625Z"
   },
   {
    "duration": 87,
    "start_time": "2021-08-29T12:32:14.676Z"
   },
   {
    "duration": 3,
    "start_time": "2021-08-29T12:32:14.766Z"
   },
   {
    "duration": 13,
    "start_time": "2021-08-29T12:32:14.774Z"
   },
   {
    "duration": 289,
    "start_time": "2021-08-29T12:32:14.790Z"
   },
   {
    "duration": 18,
    "start_time": "2021-08-29T12:32:15.084Z"
   },
   {
    "duration": 7,
    "start_time": "2021-08-29T12:32:15.105Z"
   },
   {
    "duration": 296,
    "start_time": "2021-08-29T12:32:15.115Z"
   },
   {
    "duration": 7,
    "start_time": "2021-08-29T12:35:34.145Z"
   },
   {
    "duration": 1854,
    "start_time": "2021-08-29T12:35:40.700Z"
   },
   {
    "duration": 54,
    "start_time": "2021-08-29T12:35:42.556Z"
   },
   {
    "duration": 26,
    "start_time": "2021-08-29T12:35:42.614Z"
   },
   {
    "duration": 67,
    "start_time": "2021-08-29T12:35:42.644Z"
   },
   {
    "duration": 13,
    "start_time": "2021-08-29T12:35:42.714Z"
   },
   {
    "duration": 11,
    "start_time": "2021-08-29T12:35:42.729Z"
   },
   {
    "duration": 5,
    "start_time": "2021-08-29T12:35:42.763Z"
   },
   {
    "duration": 35,
    "start_time": "2021-08-29T12:35:42.772Z"
   },
   {
    "duration": 26,
    "start_time": "2021-08-29T12:35:42.810Z"
   },
   {
    "duration": 33,
    "start_time": "2021-08-29T12:35:42.839Z"
   },
   {
    "duration": 13,
    "start_time": "2021-08-29T12:35:42.874Z"
   },
   {
    "duration": 14,
    "start_time": "2021-08-29T12:35:42.890Z"
   },
   {
    "duration": 9,
    "start_time": "2021-08-29T12:35:42.906Z"
   },
   {
    "duration": 361,
    "start_time": "2021-08-29T12:35:42.917Z"
   },
   {
    "duration": 18,
    "start_time": "2021-08-29T12:35:43.280Z"
   },
   {
    "duration": 15,
    "start_time": "2021-08-29T12:35:43.300Z"
   },
   {
    "duration": 19,
    "start_time": "2021-08-29T12:35:43.317Z"
   },
   {
    "duration": 8,
    "start_time": "2021-08-29T12:35:43.339Z"
   },
   {
    "duration": 10,
    "start_time": "2021-08-29T12:35:43.362Z"
   },
   {
    "duration": 26,
    "start_time": "2021-08-29T12:35:43.374Z"
   },
   {
    "duration": 5,
    "start_time": "2021-08-29T12:35:43.402Z"
   },
   {
    "duration": 20,
    "start_time": "2021-08-29T12:35:43.409Z"
   },
   {
    "duration": 7,
    "start_time": "2021-08-29T12:35:43.465Z"
   },
   {
    "duration": 876,
    "start_time": "2021-08-29T12:35:43.476Z"
   },
   {
    "duration": 19,
    "start_time": "2021-08-29T12:35:44.355Z"
   },
   {
    "duration": 486,
    "start_time": "2021-08-29T12:35:44.376Z"
   },
   {
    "duration": 5,
    "start_time": "2021-08-29T12:35:44.865Z"
   },
   {
    "duration": 13,
    "start_time": "2021-08-29T12:35:44.873Z"
   },
   {
    "duration": 482,
    "start_time": "2021-08-29T12:35:44.889Z"
   },
   {
    "duration": 12,
    "start_time": "2021-08-29T12:35:45.374Z"
   },
   {
    "duration": 23,
    "start_time": "2021-08-29T12:35:45.388Z"
   },
   {
    "duration": 555,
    "start_time": "2021-08-29T12:35:45.414Z"
   },
   {
    "duration": 320,
    "start_time": "2021-08-29T12:35:45.972Z"
   },
   {
    "duration": 12,
    "start_time": "2021-08-29T12:35:46.295Z"
   },
   {
    "duration": 8,
    "start_time": "2021-08-29T12:35:46.309Z"
   },
   {
    "duration": 1182,
    "start_time": "2021-08-29T12:35:46.320Z"
   },
   {
    "duration": 10,
    "start_time": "2021-08-29T12:35:47.505Z"
   },
   {
    "duration": 13,
    "start_time": "2021-08-29T12:35:47.518Z"
   },
   {
    "duration": 1372,
    "start_time": "2021-08-29T12:35:47.534Z"
   },
   {
    "duration": 16,
    "start_time": "2021-08-29T12:35:48.909Z"
   },
   {
    "duration": 62,
    "start_time": "2021-08-29T12:35:48.927Z"
   },
   {
    "duration": 542,
    "start_time": "2021-08-29T12:35:48.992Z"
   },
   {
    "duration": 3,
    "start_time": "2021-08-29T12:35:49.536Z"
   },
   {
    "duration": 35,
    "start_time": "2021-08-29T12:35:49.541Z"
   },
   {
    "duration": 21,
    "start_time": "2021-08-29T12:35:49.579Z"
   },
   {
    "duration": 22,
    "start_time": "2021-08-29T12:35:49.602Z"
   },
   {
    "duration": 18,
    "start_time": "2021-08-29T12:35:49.626Z"
   },
   {
    "duration": 45,
    "start_time": "2021-08-29T12:35:49.647Z"
   },
   {
    "duration": 25,
    "start_time": "2021-08-29T12:35:49.695Z"
   },
   {
    "duration": 23,
    "start_time": "2021-08-29T12:35:49.723Z"
   },
   {
    "duration": 27,
    "start_time": "2021-08-29T12:35:49.749Z"
   },
   {
    "duration": 27,
    "start_time": "2021-08-29T12:35:49.779Z"
   },
   {
    "duration": 18,
    "start_time": "2021-08-29T12:35:49.809Z"
   },
   {
    "duration": 11,
    "start_time": "2021-08-29T12:35:49.829Z"
   },
   {
    "duration": 20,
    "start_time": "2021-08-29T12:35:49.843Z"
   },
   {
    "duration": 19,
    "start_time": "2021-08-29T12:35:49.866Z"
   },
   {
    "duration": 19,
    "start_time": "2021-08-29T12:35:49.888Z"
   },
   {
    "duration": 21,
    "start_time": "2021-08-29T12:35:49.910Z"
   },
   {
    "duration": 275,
    "start_time": "2021-08-29T12:35:49.934Z"
   },
   {
    "duration": 14,
    "start_time": "2021-08-29T12:35:50.211Z"
   },
   {
    "duration": 13,
    "start_time": "2021-08-29T12:35:50.227Z"
   },
   {
    "duration": 307,
    "start_time": "2021-08-29T12:35:50.243Z"
   },
   {
    "duration": 6,
    "start_time": "2021-08-29T12:43:27.133Z"
   },
   {
    "duration": 2357,
    "start_time": "2021-08-29T12:43:35.359Z"
   },
   {
    "duration": -56,
    "start_time": "2021-08-29T12:43:37.778Z"
   },
   {
    "duration": -59,
    "start_time": "2021-08-29T12:43:37.782Z"
   },
   {
    "duration": -63,
    "start_time": "2021-08-29T12:43:37.787Z"
   },
   {
    "duration": -64,
    "start_time": "2021-08-29T12:43:37.790Z"
   },
   {
    "duration": -67,
    "start_time": "2021-08-29T12:43:37.794Z"
   },
   {
    "duration": -75,
    "start_time": "2021-08-29T12:43:37.803Z"
   },
   {
    "duration": -77,
    "start_time": "2021-08-29T12:43:37.806Z"
   },
   {
    "duration": -78,
    "start_time": "2021-08-29T12:43:37.809Z"
   },
   {
    "duration": -80,
    "start_time": "2021-08-29T12:43:37.812Z"
   },
   {
    "duration": -81,
    "start_time": "2021-08-29T12:43:37.815Z"
   },
   {
    "duration": -83,
    "start_time": "2021-08-29T12:43:37.818Z"
   },
   {
    "duration": -85,
    "start_time": "2021-08-29T12:43:37.821Z"
   },
   {
    "duration": -86,
    "start_time": "2021-08-29T12:43:37.824Z"
   },
   {
    "duration": -87,
    "start_time": "2021-08-29T12:43:37.827Z"
   },
   {
    "duration": -89,
    "start_time": "2021-08-29T12:43:37.830Z"
   },
   {
    "duration": -90,
    "start_time": "2021-08-29T12:43:37.833Z"
   },
   {
    "duration": -92,
    "start_time": "2021-08-29T12:43:37.836Z"
   },
   {
    "duration": -92,
    "start_time": "2021-08-29T12:43:37.838Z"
   },
   {
    "duration": -94,
    "start_time": "2021-08-29T12:43:37.841Z"
   },
   {
    "duration": -100,
    "start_time": "2021-08-29T12:43:37.848Z"
   },
   {
    "duration": -102,
    "start_time": "2021-08-29T12:43:37.851Z"
   },
   {
    "duration": -103,
    "start_time": "2021-08-29T12:43:37.854Z"
   },
   {
    "duration": -105,
    "start_time": "2021-08-29T12:43:37.857Z"
   },
   {
    "duration": -106,
    "start_time": "2021-08-29T12:43:37.859Z"
   },
   {
    "duration": -107,
    "start_time": "2021-08-29T12:43:37.862Z"
   },
   {
    "duration": -108,
    "start_time": "2021-08-29T12:43:37.864Z"
   },
   {
    "duration": -111,
    "start_time": "2021-08-29T12:43:37.868Z"
   },
   {
    "duration": -112,
    "start_time": "2021-08-29T12:43:37.870Z"
   },
   {
    "duration": -114,
    "start_time": "2021-08-29T12:43:37.873Z"
   },
   {
    "duration": -115,
    "start_time": "2021-08-29T12:43:37.875Z"
   },
   {
    "duration": -121,
    "start_time": "2021-08-29T12:43:37.882Z"
   },
   {
    "duration": -122,
    "start_time": "2021-08-29T12:43:37.884Z"
   },
   {
    "duration": -314,
    "start_time": "2021-08-29T12:43:38.077Z"
   },
   {
    "duration": -415,
    "start_time": "2021-08-29T12:43:38.179Z"
   },
   {
    "duration": -417,
    "start_time": "2021-08-29T12:43:38.182Z"
   },
   {
    "duration": -420,
    "start_time": "2021-08-29T12:43:38.190Z"
   },
   {
    "duration": -422,
    "start_time": "2021-08-29T12:43:38.193Z"
   },
   {
    "duration": -424,
    "start_time": "2021-08-29T12:43:38.196Z"
   },
   {
    "duration": -426,
    "start_time": "2021-08-29T12:43:38.199Z"
   },
   {
    "duration": -432,
    "start_time": "2021-08-29T12:43:38.207Z"
   },
   {
    "duration": -434,
    "start_time": "2021-08-29T12:43:38.210Z"
   },
   {
    "duration": -435,
    "start_time": "2021-08-29T12:43:38.213Z"
   },
   {
    "duration": -438,
    "start_time": "2021-08-29T12:43:38.217Z"
   },
   {
    "duration": -443,
    "start_time": "2021-08-29T12:43:38.223Z"
   },
   {
    "duration": -444,
    "start_time": "2021-08-29T12:43:38.226Z"
   },
   {
    "duration": -446,
    "start_time": "2021-08-29T12:43:38.229Z"
   },
   {
    "duration": -449,
    "start_time": "2021-08-29T12:43:38.233Z"
   },
   {
    "duration": -454,
    "start_time": "2021-08-29T12:43:38.239Z"
   },
   {
    "duration": -455,
    "start_time": "2021-08-29T12:43:38.241Z"
   },
   {
    "duration": -456,
    "start_time": "2021-08-29T12:43:38.244Z"
   },
   {
    "duration": -458,
    "start_time": "2021-08-29T12:43:38.247Z"
   },
   {
    "duration": -460,
    "start_time": "2021-08-29T12:43:38.250Z"
   },
   {
    "duration": -465,
    "start_time": "2021-08-29T12:43:38.256Z"
   },
   {
    "duration": -466,
    "start_time": "2021-08-29T12:43:38.259Z"
   },
   {
    "duration": -468,
    "start_time": "2021-08-29T12:43:38.262Z"
   },
   {
    "duration": -470,
    "start_time": "2021-08-29T12:43:38.265Z"
   },
   {
    "duration": -503,
    "start_time": "2021-08-29T12:43:38.299Z"
   },
   {
    "duration": -508,
    "start_time": "2021-08-29T12:43:38.305Z"
   },
   {
    "duration": -509,
    "start_time": "2021-08-29T12:43:38.308Z"
   },
   {
    "duration": -511,
    "start_time": "2021-08-29T12:43:38.311Z"
   },
   {
    "duration": -513,
    "start_time": "2021-08-29T12:43:38.314Z"
   },
   {
    "duration": 2549,
    "start_time": "2021-08-29T12:44:01.006Z"
   },
   {
    "duration": 684,
    "start_time": "2021-08-29T12:44:03.558Z"
   },
   {
    "duration": 27,
    "start_time": "2021-08-29T12:44:04.245Z"
   },
   {
    "duration": 41,
    "start_time": "2021-08-29T12:44:04.275Z"
   },
   {
    "duration": 13,
    "start_time": "2021-08-29T12:44:04.318Z"
   },
   {
    "duration": 42,
    "start_time": "2021-08-29T12:44:04.333Z"
   },
   {
    "duration": 4,
    "start_time": "2021-08-29T12:44:04.380Z"
   },
   {
    "duration": 23,
    "start_time": "2021-08-29T12:44:04.387Z"
   },
   {
    "duration": 49,
    "start_time": "2021-08-29T12:44:04.413Z"
   },
   {
    "duration": 16,
    "start_time": "2021-08-29T12:44:04.464Z"
   },
   {
    "duration": 17,
    "start_time": "2021-08-29T12:44:04.483Z"
   },
   {
    "duration": 11,
    "start_time": "2021-08-29T12:44:04.503Z"
   },
   {
    "duration": 4,
    "start_time": "2021-08-29T12:44:04.517Z"
   },
   {
    "duration": 322,
    "start_time": "2021-08-29T12:44:04.523Z"
   },
   {
    "duration": 31,
    "start_time": "2021-08-29T12:44:04.847Z"
   },
   {
    "duration": 7,
    "start_time": "2021-08-29T12:44:04.880Z"
   },
   {
    "duration": 14,
    "start_time": "2021-08-29T12:44:04.889Z"
   },
   {
    "duration": 12,
    "start_time": "2021-08-29T12:44:04.905Z"
   },
   {
    "duration": 7,
    "start_time": "2021-08-29T12:44:04.920Z"
   },
   {
    "duration": 55,
    "start_time": "2021-08-29T12:44:04.929Z"
   },
   {
    "duration": 6,
    "start_time": "2021-08-29T12:44:04.986Z"
   },
   {
    "duration": 18,
    "start_time": "2021-08-29T12:44:04.994Z"
   },
   {
    "duration": 5,
    "start_time": "2021-08-29T12:44:05.017Z"
   },
   {
    "duration": 1499,
    "start_time": "2021-08-29T12:44:05.025Z"
   },
   {
    "duration": -56,
    "start_time": "2021-08-29T12:44:06.583Z"
   },
   {
    "duration": -58,
    "start_time": "2021-08-29T12:44:06.587Z"
   },
   {
    "duration": -59,
    "start_time": "2021-08-29T12:44:06.590Z"
   },
   {
    "duration": -61,
    "start_time": "2021-08-29T12:44:06.593Z"
   },
   {
    "duration": -62,
    "start_time": "2021-08-29T12:44:06.597Z"
   },
   {
    "duration": -63,
    "start_time": "2021-08-29T12:44:06.600Z"
   },
   {
    "duration": -64,
    "start_time": "2021-08-29T12:44:06.603Z"
   },
   {
    "duration": -65,
    "start_time": "2021-08-29T12:44:06.606Z"
   },
   {
    "duration": -66,
    "start_time": "2021-08-29T12:44:06.609Z"
   },
   {
    "duration": -68,
    "start_time": "2021-08-29T12:44:06.612Z"
   },
   {
    "duration": -69,
    "start_time": "2021-08-29T12:44:06.615Z"
   },
   {
    "duration": -70,
    "start_time": "2021-08-29T12:44:06.618Z"
   },
   {
    "duration": -76,
    "start_time": "2021-08-29T12:44:06.626Z"
   },
   {
    "duration": -78,
    "start_time": "2021-08-29T12:44:06.629Z"
   },
   {
    "duration": -79,
    "start_time": "2021-08-29T12:44:06.632Z"
   },
   {
    "duration": -79,
    "start_time": "2021-08-29T12:44:06.634Z"
   },
   {
    "duration": -81,
    "start_time": "2021-08-29T12:44:06.637Z"
   },
   {
    "duration": -83,
    "start_time": "2021-08-29T12:44:06.641Z"
   },
   {
    "duration": -85,
    "start_time": "2021-08-29T12:44:06.644Z"
   },
   {
    "duration": -86,
    "start_time": "2021-08-29T12:44:06.647Z"
   },
   {
    "duration": -87,
    "start_time": "2021-08-29T12:44:06.650Z"
   },
   {
    "duration": -87,
    "start_time": "2021-08-29T12:44:06.652Z"
   },
   {
    "duration": -88,
    "start_time": "2021-08-29T12:44:06.656Z"
   },
   {
    "duration": -88,
    "start_time": "2021-08-29T12:44:06.658Z"
   },
   {
    "duration": -89,
    "start_time": "2021-08-29T12:44:06.661Z"
   },
   {
    "duration": -89,
    "start_time": "2021-08-29T12:44:06.663Z"
   },
   {
    "duration": -90,
    "start_time": "2021-08-29T12:44:06.666Z"
   },
   {
    "duration": -92,
    "start_time": "2021-08-29T12:44:06.669Z"
   },
   {
    "duration": -97,
    "start_time": "2021-08-29T12:44:06.676Z"
   },
   {
    "duration": -99,
    "start_time": "2021-08-29T12:44:06.679Z"
   },
   {
    "duration": -100,
    "start_time": "2021-08-29T12:44:06.682Z"
   },
   {
    "duration": -101,
    "start_time": "2021-08-29T12:44:06.684Z"
   },
   {
    "duration": -102,
    "start_time": "2021-08-29T12:44:06.687Z"
   },
   {
    "duration": -103,
    "start_time": "2021-08-29T12:44:06.689Z"
   },
   {
    "duration": -104,
    "start_time": "2021-08-29T12:44:06.692Z"
   },
   {
    "duration": -105,
    "start_time": "2021-08-29T12:44:06.695Z"
   },
   {
    "duration": -106,
    "start_time": "2021-08-29T12:44:06.697Z"
   },
   {
    "duration": -107,
    "start_time": "2021-08-29T12:44:06.700Z"
   },
   {
    "duration": 2176,
    "start_time": "2021-08-29T12:44:52.590Z"
   },
   {
    "duration": 47,
    "start_time": "2021-08-29T12:44:54.769Z"
   },
   {
    "duration": 28,
    "start_time": "2021-08-29T12:44:54.820Z"
   },
   {
    "duration": 45,
    "start_time": "2021-08-29T12:44:54.864Z"
   },
   {
    "duration": 13,
    "start_time": "2021-08-29T12:44:54.912Z"
   },
   {
    "duration": 39,
    "start_time": "2021-08-29T12:44:54.927Z"
   },
   {
    "duration": 11,
    "start_time": "2021-08-29T12:44:54.969Z"
   },
   {
    "duration": 22,
    "start_time": "2021-08-29T12:44:54.984Z"
   },
   {
    "duration": 24,
    "start_time": "2021-08-29T12:44:55.009Z"
   },
   {
    "duration": 37,
    "start_time": "2021-08-29T12:44:55.035Z"
   },
   {
    "duration": 11,
    "start_time": "2021-08-29T12:44:55.075Z"
   },
   {
    "duration": 13,
    "start_time": "2021-08-29T12:44:55.088Z"
   },
   {
    "duration": 6,
    "start_time": "2021-08-29T12:44:55.103Z"
   },
   {
    "duration": 326,
    "start_time": "2021-08-29T12:44:55.112Z"
   },
   {
    "duration": 22,
    "start_time": "2021-08-29T12:44:55.441Z"
   },
   {
    "duration": 6,
    "start_time": "2021-08-29T12:44:55.466Z"
   },
   {
    "duration": 13,
    "start_time": "2021-08-29T12:44:55.475Z"
   },
   {
    "duration": 10,
    "start_time": "2021-08-29T12:44:55.491Z"
   },
   {
    "duration": 12,
    "start_time": "2021-08-29T12:44:55.503Z"
   },
   {
    "duration": 54,
    "start_time": "2021-08-29T12:44:55.517Z"
   },
   {
    "duration": 7,
    "start_time": "2021-08-29T12:44:55.575Z"
   },
   {
    "duration": 17,
    "start_time": "2021-08-29T12:44:55.585Z"
   },
   {
    "duration": 5,
    "start_time": "2021-08-29T12:44:55.608Z"
   },
   {
    "duration": 977,
    "start_time": "2021-08-29T12:44:55.617Z"
   },
   {
    "duration": 20,
    "start_time": "2021-08-29T12:44:56.597Z"
   },
   {
    "duration": 733,
    "start_time": "2021-08-29T12:44:56.620Z"
   },
   {
    "duration": 5,
    "start_time": "2021-08-29T12:44:57.361Z"
   },
   {
    "duration": 26,
    "start_time": "2021-08-29T12:44:57.368Z"
   },
   {
    "duration": 467,
    "start_time": "2021-08-29T12:44:57.397Z"
   },
   {
    "duration": 9,
    "start_time": "2021-08-29T12:44:57.866Z"
   },
   {
    "duration": 30,
    "start_time": "2021-08-29T12:44:57.877Z"
   },
   {
    "duration": 517,
    "start_time": "2021-08-29T12:44:57.909Z"
   },
   {
    "duration": 268,
    "start_time": "2021-08-29T12:44:58.428Z"
   },
   {
    "duration": 11,
    "start_time": "2021-08-29T12:44:58.698Z"
   },
   {
    "duration": 16,
    "start_time": "2021-08-29T12:44:58.712Z"
   },
   {
    "duration": 1057,
    "start_time": "2021-08-29T12:44:58.731Z"
   },
   {
    "duration": 10,
    "start_time": "2021-08-29T12:44:59.790Z"
   },
   {
    "duration": 26,
    "start_time": "2021-08-29T12:44:59.802Z"
   },
   {
    "duration": 1220,
    "start_time": "2021-08-29T12:44:59.830Z"
   },
   {
    "duration": 18,
    "start_time": "2021-08-29T12:45:01.052Z"
   },
   {
    "duration": 40,
    "start_time": "2021-08-29T12:45:01.072Z"
   },
   {
    "duration": 512,
    "start_time": "2021-08-29T12:45:01.114Z"
   },
   {
    "duration": 3,
    "start_time": "2021-08-29T12:45:01.629Z"
   },
   {
    "duration": 36,
    "start_time": "2021-08-29T12:45:01.634Z"
   },
   {
    "duration": 12,
    "start_time": "2021-08-29T12:45:01.673Z"
   },
   {
    "duration": 22,
    "start_time": "2021-08-29T12:45:01.687Z"
   },
   {
    "duration": 40,
    "start_time": "2021-08-29T12:45:01.712Z"
   },
   {
    "duration": 25,
    "start_time": "2021-08-29T12:45:01.755Z"
   },
   {
    "duration": 10,
    "start_time": "2021-08-29T12:45:01.783Z"
   },
   {
    "duration": 31,
    "start_time": "2021-08-29T12:45:01.796Z"
   },
   {
    "duration": 37,
    "start_time": "2021-08-29T12:45:01.830Z"
   },
   {
    "duration": 41,
    "start_time": "2021-08-29T12:45:01.870Z"
   },
   {
    "duration": 17,
    "start_time": "2021-08-29T12:45:01.914Z"
   },
   {
    "duration": 16,
    "start_time": "2021-08-29T12:45:01.933Z"
   },
   {
    "duration": 35,
    "start_time": "2021-08-29T12:45:01.952Z"
   },
   {
    "duration": 24,
    "start_time": "2021-08-29T12:45:01.990Z"
   },
   {
    "duration": 15,
    "start_time": "2021-08-29T12:45:02.017Z"
   },
   {
    "duration": 27,
    "start_time": "2021-08-29T12:45:02.035Z"
   },
   {
    "duration": 259,
    "start_time": "2021-08-29T12:45:02.065Z"
   },
   {
    "duration": 13,
    "start_time": "2021-08-29T12:45:02.326Z"
   },
   {
    "duration": 31,
    "start_time": "2021-08-29T12:45:02.342Z"
   },
   {
    "duration": 249,
    "start_time": "2021-08-29T12:45:02.376Z"
   },
   {
    "duration": 1815,
    "start_time": "2021-08-29T12:46:04.502Z"
   },
   {
    "duration": 48,
    "start_time": "2021-08-29T12:46:06.319Z"
   },
   {
    "duration": 24,
    "start_time": "2021-08-29T12:46:06.371Z"
   },
   {
    "duration": 43,
    "start_time": "2021-08-29T12:46:06.398Z"
   },
   {
    "duration": 30,
    "start_time": "2021-08-29T12:46:06.444Z"
   },
   {
    "duration": 12,
    "start_time": "2021-08-29T12:46:06.476Z"
   },
   {
    "duration": 13,
    "start_time": "2021-08-29T12:46:06.490Z"
   },
   {
    "duration": 33,
    "start_time": "2021-08-29T12:46:06.508Z"
   },
   {
    "duration": 49,
    "start_time": "2021-08-29T12:46:06.544Z"
   },
   {
    "duration": 18,
    "start_time": "2021-08-29T12:46:06.596Z"
   },
   {
    "duration": 45,
    "start_time": "2021-08-29T12:46:06.617Z"
   },
   {
    "duration": 12,
    "start_time": "2021-08-29T12:46:06.665Z"
   },
   {
    "duration": 7,
    "start_time": "2021-08-29T12:46:06.679Z"
   },
   {
    "duration": 319,
    "start_time": "2021-08-29T12:46:06.688Z"
   },
   {
    "duration": 16,
    "start_time": "2021-08-29T12:46:07.010Z"
   },
   {
    "duration": 10,
    "start_time": "2021-08-29T12:46:07.028Z"
   },
   {
    "duration": 33,
    "start_time": "2021-08-29T12:46:07.040Z"
   },
   {
    "duration": 10,
    "start_time": "2021-08-29T12:46:07.075Z"
   },
   {
    "duration": 13,
    "start_time": "2021-08-29T12:46:07.088Z"
   },
   {
    "duration": 24,
    "start_time": "2021-08-29T12:46:07.103Z"
   },
   {
    "duration": 33,
    "start_time": "2021-08-29T12:46:07.129Z"
   },
   {
    "duration": 34,
    "start_time": "2021-08-29T12:46:07.165Z"
   },
   {
    "duration": 5,
    "start_time": "2021-08-29T12:46:07.206Z"
   },
   {
    "duration": 924,
    "start_time": "2021-08-29T12:46:07.214Z"
   },
   {
    "duration": 32,
    "start_time": "2021-08-29T12:46:08.141Z"
   },
   {
    "duration": 614,
    "start_time": "2021-08-29T12:46:08.176Z"
   },
   {
    "duration": 5,
    "start_time": "2021-08-29T12:46:08.792Z"
   },
   {
    "duration": 11,
    "start_time": "2021-08-29T12:46:08.799Z"
   },
   {
    "duration": 442,
    "start_time": "2021-08-29T12:46:08.813Z"
   },
   {
    "duration": 9,
    "start_time": "2021-08-29T12:46:09.258Z"
   },
   {
    "duration": 21,
    "start_time": "2021-08-29T12:46:09.272Z"
   },
   {
    "duration": 532,
    "start_time": "2021-08-29T12:46:09.296Z"
   },
   {
    "duration": 271,
    "start_time": "2021-08-29T12:46:09.830Z"
   },
   {
    "duration": 12,
    "start_time": "2021-08-29T12:46:10.104Z"
   },
   {
    "duration": 12,
    "start_time": "2021-08-29T12:46:10.119Z"
   },
   {
    "duration": 1137,
    "start_time": "2021-08-29T12:46:10.134Z"
   },
   {
    "duration": 9,
    "start_time": "2021-08-29T12:46:11.274Z"
   },
   {
    "duration": 10,
    "start_time": "2021-08-29T12:46:11.285Z"
   },
   {
    "duration": 1408,
    "start_time": "2021-08-29T12:46:11.298Z"
   },
   {
    "duration": 15,
    "start_time": "2021-08-29T12:46:12.708Z"
   },
   {
    "duration": 70,
    "start_time": "2021-08-29T12:46:12.725Z"
   },
   {
    "duration": 875,
    "start_time": "2021-08-29T12:46:12.798Z"
   },
   {
    "duration": 6,
    "start_time": "2021-08-29T12:46:13.676Z"
   },
   {
    "duration": 19,
    "start_time": "2021-08-29T12:46:13.684Z"
   },
   {
    "duration": 8,
    "start_time": "2021-08-29T12:46:13.705Z"
   },
   {
    "duration": 10,
    "start_time": "2021-08-29T12:46:13.716Z"
   },
   {
    "duration": 41,
    "start_time": "2021-08-29T12:46:13.728Z"
   },
   {
    "duration": 22,
    "start_time": "2021-08-29T12:46:13.772Z"
   },
   {
    "duration": 8,
    "start_time": "2021-08-29T12:46:13.796Z"
   },
   {
    "duration": 10,
    "start_time": "2021-08-29T12:46:13.806Z"
   },
   {
    "duration": 46,
    "start_time": "2021-08-29T12:46:13.818Z"
   },
   {
    "duration": 16,
    "start_time": "2021-08-29T12:46:13.867Z"
   },
   {
    "duration": 7,
    "start_time": "2021-08-29T12:46:13.885Z"
   },
   {
    "duration": 12,
    "start_time": "2021-08-29T12:46:13.895Z"
   },
   {
    "duration": 9,
    "start_time": "2021-08-29T12:46:13.909Z"
   },
   {
    "duration": 56,
    "start_time": "2021-08-29T12:46:13.920Z"
   },
   {
    "duration": 4,
    "start_time": "2021-08-29T12:46:13.979Z"
   },
   {
    "duration": 11,
    "start_time": "2021-08-29T12:46:13.986Z"
   },
   {
    "duration": 271,
    "start_time": "2021-08-29T12:46:14.000Z"
   },
   {
    "duration": 15,
    "start_time": "2021-08-29T12:46:14.274Z"
   },
   {
    "duration": 8,
    "start_time": "2021-08-29T12:46:14.292Z"
   },
   {
    "duration": 299,
    "start_time": "2021-08-29T12:46:14.316Z"
   },
   {
    "duration": 937,
    "start_time": "2021-08-29T12:50:21.560Z"
   },
   {
    "duration": 6,
    "start_time": "2021-08-29T12:50:31.093Z"
   },
   {
    "duration": 44,
    "start_time": "2021-08-29T12:50:32.193Z"
   },
   {
    "duration": 26,
    "start_time": "2021-08-29T12:50:32.357Z"
   },
   {
    "duration": 46,
    "start_time": "2021-08-29T12:50:32.527Z"
   },
   {
    "duration": 17,
    "start_time": "2021-08-29T12:50:33.065Z"
   },
   {
    "duration": 31,
    "start_time": "2021-08-29T12:50:33.091Z"
   },
   {
    "duration": 4,
    "start_time": "2021-08-29T12:50:33.214Z"
   },
   {
    "duration": 20,
    "start_time": "2021-08-29T12:50:33.279Z"
   },
   {
    "duration": 45,
    "start_time": "2021-08-29T12:50:33.309Z"
   },
   {
    "duration": 19,
    "start_time": "2021-08-29T12:50:33.357Z"
   },
   {
    "duration": 13,
    "start_time": "2021-08-29T12:50:33.400Z"
   },
   {
    "duration": 15,
    "start_time": "2021-08-29T12:50:33.434Z"
   },
   {
    "duration": 4,
    "start_time": "2021-08-29T12:50:33.500Z"
   },
   {
    "duration": 311,
    "start_time": "2021-08-29T12:50:33.532Z"
   },
   {
    "duration": 23,
    "start_time": "2021-08-29T12:50:33.846Z"
   },
   {
    "duration": 21,
    "start_time": "2021-08-29T12:50:33.872Z"
   },
   {
    "duration": 32,
    "start_time": "2021-08-29T12:50:33.896Z"
   },
   {
    "duration": 22,
    "start_time": "2021-08-29T12:50:33.931Z"
   },
   {
    "duration": 8,
    "start_time": "2021-08-29T12:50:34.328Z"
   },
   {
    "duration": 26,
    "start_time": "2021-08-29T12:50:34.733Z"
   },
   {
    "duration": 6,
    "start_time": "2021-08-29T12:50:35.102Z"
   },
   {
    "duration": 15,
    "start_time": "2021-08-29T12:50:36.160Z"
   },
   {
    "duration": 4,
    "start_time": "2021-08-29T12:50:36.569Z"
   },
   {
    "duration": 343,
    "start_time": "2021-08-29T12:50:37.184Z"
   },
   {
    "duration": 2446,
    "start_time": "2021-08-29T12:50:52.066Z"
   },
   {
    "duration": 64,
    "start_time": "2021-08-29T12:50:54.516Z"
   },
   {
    "duration": 39,
    "start_time": "2021-08-29T12:50:54.585Z"
   },
   {
    "duration": 67,
    "start_time": "2021-08-29T12:50:54.626Z"
   },
   {
    "duration": 18,
    "start_time": "2021-08-29T12:50:54.696Z"
   },
   {
    "duration": 11,
    "start_time": "2021-08-29T12:50:54.716Z"
   },
   {
    "duration": 34,
    "start_time": "2021-08-29T12:50:54.730Z"
   },
   {
    "duration": 21,
    "start_time": "2021-08-29T12:50:54.767Z"
   },
   {
    "duration": 29,
    "start_time": "2021-08-29T12:50:54.792Z"
   },
   {
    "duration": 40,
    "start_time": "2021-08-29T12:50:54.825Z"
   },
   {
    "duration": 11,
    "start_time": "2021-08-29T12:50:54.867Z"
   },
   {
    "duration": 20,
    "start_time": "2021-08-29T12:50:54.881Z"
   },
   {
    "duration": 4,
    "start_time": "2021-08-29T12:50:54.903Z"
   },
   {
    "duration": 319,
    "start_time": "2021-08-29T12:50:54.910Z"
   },
   {
    "duration": 14,
    "start_time": "2021-08-29T12:50:55.232Z"
   },
   {
    "duration": 7,
    "start_time": "2021-08-29T12:50:55.262Z"
   },
   {
    "duration": 27,
    "start_time": "2021-08-29T12:50:55.271Z"
   },
   {
    "duration": 13,
    "start_time": "2021-08-29T12:50:55.301Z"
   },
   {
    "duration": 26,
    "start_time": "2021-08-29T12:50:55.316Z"
   },
   {
    "duration": 33,
    "start_time": "2021-08-29T12:50:55.346Z"
   },
   {
    "duration": 7,
    "start_time": "2021-08-29T12:50:55.381Z"
   },
   {
    "duration": 33,
    "start_time": "2021-08-29T12:50:55.390Z"
   },
   {
    "duration": 4,
    "start_time": "2021-08-29T12:50:55.425Z"
   },
   {
    "duration": 881,
    "start_time": "2021-08-29T12:50:55.431Z"
   },
   {
    "duration": 15,
    "start_time": "2021-08-29T12:50:56.315Z"
   },
   {
    "duration": 487,
    "start_time": "2021-08-29T12:50:56.333Z"
   },
   {
    "duration": 4,
    "start_time": "2021-08-29T12:50:56.825Z"
   },
   {
    "duration": 13,
    "start_time": "2021-08-29T12:50:56.832Z"
   },
   {
    "duration": 410,
    "start_time": "2021-08-29T12:50:56.863Z"
   },
   {
    "duration": 9,
    "start_time": "2021-08-29T12:50:57.275Z"
   },
   {
    "duration": 21,
    "start_time": "2021-08-29T12:50:57.286Z"
   },
   {
    "duration": 557,
    "start_time": "2021-08-29T12:50:57.309Z"
   },
   {
    "duration": 275,
    "start_time": "2021-08-29T12:50:57.869Z"
   },
   {
    "duration": 23,
    "start_time": "2021-08-29T12:50:58.147Z"
   },
   {
    "duration": 25,
    "start_time": "2021-08-29T12:50:58.173Z"
   },
   {
    "duration": 1064,
    "start_time": "2021-08-29T12:50:58.201Z"
   },
   {
    "duration": 10,
    "start_time": "2021-08-29T12:50:59.269Z"
   },
   {
    "duration": 13,
    "start_time": "2021-08-29T12:50:59.282Z"
   },
   {
    "duration": 1436,
    "start_time": "2021-08-29T12:50:59.298Z"
   },
   {
    "duration": 25,
    "start_time": "2021-08-29T12:51:00.738Z"
   },
   {
    "duration": 51,
    "start_time": "2021-08-29T12:51:00.765Z"
   },
   {
    "duration": 522,
    "start_time": "2021-08-29T12:51:00.819Z"
   },
   {
    "duration": 3,
    "start_time": "2021-08-29T12:51:01.343Z"
   },
   {
    "duration": 39,
    "start_time": "2021-08-29T12:51:01.361Z"
   },
   {
    "duration": 9,
    "start_time": "2021-08-29T12:51:01.402Z"
   },
   {
    "duration": 17,
    "start_time": "2021-08-29T12:51:01.413Z"
   },
   {
    "duration": 12,
    "start_time": "2021-08-29T12:51:01.432Z"
   },
   {
    "duration": 34,
    "start_time": "2021-08-29T12:51:01.447Z"
   },
   {
    "duration": 12,
    "start_time": "2021-08-29T12:51:01.485Z"
   },
   {
    "duration": 13,
    "start_time": "2021-08-29T12:51:01.500Z"
   },
   {
    "duration": 26,
    "start_time": "2021-08-29T12:51:01.515Z"
   },
   {
    "duration": 30,
    "start_time": "2021-08-29T12:51:01.544Z"
   },
   {
    "duration": 17,
    "start_time": "2021-08-29T12:51:01.577Z"
   },
   {
    "duration": 21,
    "start_time": "2021-08-29T12:51:01.597Z"
   },
   {
    "duration": 18,
    "start_time": "2021-08-29T12:51:01.620Z"
   },
   {
    "duration": 38,
    "start_time": "2021-08-29T12:51:01.641Z"
   },
   {
    "duration": 5,
    "start_time": "2021-08-29T12:51:01.682Z"
   },
   {
    "duration": 10,
    "start_time": "2021-08-29T12:51:01.690Z"
   },
   {
    "duration": 337,
    "start_time": "2021-08-29T12:51:01.702Z"
   },
   {
    "duration": 24,
    "start_time": "2021-08-29T12:51:02.042Z"
   },
   {
    "duration": 62,
    "start_time": "2021-08-29T12:51:02.068Z"
   },
   {
    "duration": 321,
    "start_time": "2021-08-29T12:51:02.133Z"
   },
   {
    "duration": 97,
    "start_time": "2021-08-29T12:52:45.051Z"
   },
   {
    "duration": 3428,
    "start_time": "2021-08-29T12:52:52.206Z"
   },
   {
    "duration": 29467,
    "start_time": "2021-08-29T12:52:59.309Z"
   },
   {
    "duration": 109,
    "start_time": "2021-08-29T12:54:12.956Z"
   },
   {
    "duration": 50,
    "start_time": "2021-08-29T12:54:28.970Z"
   },
   {
    "duration": 23,
    "start_time": "2021-08-29T12:54:29.606Z"
   },
   {
    "duration": 48,
    "start_time": "2021-08-29T12:54:30.188Z"
   },
   {
    "duration": 16,
    "start_time": "2021-08-29T12:54:30.932Z"
   },
   {
    "duration": 13,
    "start_time": "2021-08-29T12:54:31.221Z"
   },
   {
    "duration": 4,
    "start_time": "2021-08-29T12:54:32.236Z"
   },
   {
    "duration": 20,
    "start_time": "2021-08-29T12:54:32.298Z"
   },
   {
    "duration": 26,
    "start_time": "2021-08-29T12:54:32.330Z"
   },
   {
    "duration": 12,
    "start_time": "2021-08-29T12:54:32.370Z"
   },
   {
    "duration": 11,
    "start_time": "2021-08-29T12:54:32.416Z"
   },
   {
    "duration": 16,
    "start_time": "2021-08-29T12:54:32.450Z"
   },
   {
    "duration": 4,
    "start_time": "2021-08-29T12:54:32.512Z"
   },
   {
    "duration": 304,
    "start_time": "2021-08-29T12:54:32.542Z"
   },
   {
    "duration": 22,
    "start_time": "2021-08-29T12:54:32.849Z"
   },
   {
    "duration": 8,
    "start_time": "2021-08-29T12:54:32.874Z"
   },
   {
    "duration": 10,
    "start_time": "2021-08-29T12:54:33.123Z"
   },
   {
    "duration": 7,
    "start_time": "2021-08-29T12:54:33.847Z"
   },
   {
    "duration": 6,
    "start_time": "2021-08-29T12:54:34.351Z"
   },
   {
    "duration": 22,
    "start_time": "2021-08-29T12:54:34.842Z"
   },
   {
    "duration": 6,
    "start_time": "2021-08-29T12:54:35.551Z"
   },
   {
    "duration": 17,
    "start_time": "2021-08-29T12:54:36.684Z"
   },
   {
    "duration": 5,
    "start_time": "2021-08-29T12:54:36.982Z"
   },
   {
    "duration": 359,
    "start_time": "2021-08-29T12:54:37.459Z"
   },
   {
    "duration": 16,
    "start_time": "2021-08-29T12:54:40.011Z"
   },
   {
    "duration": 542,
    "start_time": "2021-08-29T12:54:40.041Z"
   },
   {
    "duration": 6,
    "start_time": "2021-08-29T12:54:40.586Z"
   },
   {
    "duration": 24,
    "start_time": "2021-08-29T12:54:40.596Z"
   },
   {
    "duration": 464,
    "start_time": "2021-08-29T12:54:40.624Z"
   },
   {
    "duration": 8,
    "start_time": "2021-08-29T12:54:41.091Z"
   },
   {
    "duration": 22,
    "start_time": "2021-08-29T12:54:41.101Z"
   },
   {
    "duration": 569,
    "start_time": "2021-08-29T12:54:41.125Z"
   },
   {
    "duration": 270,
    "start_time": "2021-08-29T12:54:41.698Z"
   },
   {
    "duration": 10,
    "start_time": "2021-08-29T12:54:41.973Z"
   },
   {
    "duration": 9,
    "start_time": "2021-08-29T12:54:41.985Z"
   },
   {
    "duration": 1193,
    "start_time": "2021-08-29T12:54:41.996Z"
   },
   {
    "duration": 10,
    "start_time": "2021-08-29T12:54:43.192Z"
   },
   {
    "duration": 11,
    "start_time": "2021-08-29T12:54:43.204Z"
   },
   {
    "duration": 1367,
    "start_time": "2021-08-29T12:54:43.217Z"
   },
   {
    "duration": 15,
    "start_time": "2021-08-29T12:54:44.586Z"
   },
   {
    "duration": 70,
    "start_time": "2021-08-29T12:54:44.604Z"
   },
   {
    "duration": 532,
    "start_time": "2021-08-29T12:54:44.678Z"
   },
   {
    "duration": 4,
    "start_time": "2021-08-29T12:54:45.213Z"
   },
   {
    "duration": 22,
    "start_time": "2021-08-29T12:54:45.219Z"
   },
   {
    "duration": 30,
    "start_time": "2021-08-29T12:54:45.243Z"
   },
   {
    "duration": 19,
    "start_time": "2021-08-29T12:54:45.276Z"
   },
   {
    "duration": 12,
    "start_time": "2021-08-29T12:54:45.297Z"
   },
   {
    "duration": 16,
    "start_time": "2021-08-29T12:54:45.315Z"
   },
   {
    "duration": 28,
    "start_time": "2021-08-29T12:54:45.335Z"
   },
   {
    "duration": 22,
    "start_time": "2021-08-29T12:54:45.366Z"
   },
   {
    "duration": 11,
    "start_time": "2021-08-29T12:54:45.391Z"
   },
   {
    "duration": 16,
    "start_time": "2021-08-29T12:54:45.405Z"
   },
   {
    "duration": 8,
    "start_time": "2021-08-29T12:54:45.423Z"
   },
   {
    "duration": 10,
    "start_time": "2021-08-29T12:54:45.461Z"
   },
   {
    "duration": 15,
    "start_time": "2021-08-29T12:54:45.473Z"
   },
   {
    "duration": 17,
    "start_time": "2021-08-29T12:54:45.491Z"
   },
   {
    "duration": 4,
    "start_time": "2021-08-29T12:54:45.511Z"
   },
   {
    "duration": 8,
    "start_time": "2021-08-29T12:54:45.519Z"
   },
   {
    "duration": 255,
    "start_time": "2021-08-29T12:54:45.562Z"
   },
   {
    "duration": 14,
    "start_time": "2021-08-29T12:54:45.820Z"
   },
   {
    "duration": 30,
    "start_time": "2021-08-29T12:54:45.837Z"
   },
   {
    "duration": 254,
    "start_time": "2021-08-29T12:54:45.870Z"
   },
   {
    "duration": 3,
    "start_time": "2021-08-29T12:58:48.836Z"
   },
   {
    "duration": 4,
    "start_time": "2021-08-29T12:58:49.210Z"
   },
   {
    "duration": 4,
    "start_time": "2021-08-29T12:59:06.801Z"
   },
   {
    "duration": 6,
    "start_time": "2021-08-29T12:59:06.808Z"
   },
   {
    "duration": 1939,
    "start_time": "2021-08-29T12:59:06.817Z"
   },
   {
    "duration": 55,
    "start_time": "2021-08-29T12:59:08.759Z"
   },
   {
    "duration": 26,
    "start_time": "2021-08-29T12:59:08.816Z"
   },
   {
    "duration": 63,
    "start_time": "2021-08-29T12:59:08.845Z"
   },
   {
    "duration": 14,
    "start_time": "2021-08-29T12:59:08.910Z"
   },
   {
    "duration": 12,
    "start_time": "2021-08-29T12:59:08.927Z"
   },
   {
    "duration": 5,
    "start_time": "2021-08-29T12:59:08.966Z"
   },
   {
    "duration": 32,
    "start_time": "2021-08-29T12:59:08.976Z"
   },
   {
    "duration": 53,
    "start_time": "2021-08-29T12:59:09.011Z"
   },
   {
    "duration": 17,
    "start_time": "2021-08-29T12:59:09.068Z"
   },
   {
    "duration": 39,
    "start_time": "2021-08-29T12:59:09.088Z"
   },
   {
    "duration": 12,
    "start_time": "2021-08-29T12:59:09.130Z"
   },
   {
    "duration": 4,
    "start_time": "2021-08-29T12:59:09.144Z"
   },
   {
    "duration": 334,
    "start_time": "2021-08-29T12:59:09.163Z"
   },
   {
    "duration": 15,
    "start_time": "2021-08-29T12:59:09.500Z"
   },
   {
    "duration": 8,
    "start_time": "2021-08-29T12:59:09.518Z"
   },
   {
    "duration": 46,
    "start_time": "2021-08-29T12:59:09.528Z"
   },
   {
    "duration": 11,
    "start_time": "2021-08-29T12:59:09.577Z"
   },
   {
    "duration": 8,
    "start_time": "2021-08-29T12:59:09.593Z"
   },
   {
    "duration": 24,
    "start_time": "2021-08-29T12:59:09.604Z"
   },
   {
    "duration": 5,
    "start_time": "2021-08-29T12:59:09.631Z"
   },
   {
    "duration": 23,
    "start_time": "2021-08-29T12:59:09.662Z"
   },
   {
    "duration": 5,
    "start_time": "2021-08-29T12:59:09.688Z"
   },
   {
    "duration": 356,
    "start_time": "2021-08-29T12:59:09.702Z"
   },
   {
    "duration": 25,
    "start_time": "2021-08-29T12:59:10.063Z"
   },
   {
    "duration": 57,
    "start_time": "2021-08-29T12:59:10.092Z"
   },
   {
    "duration": 5,
    "start_time": "2021-08-29T12:59:10.151Z"
   },
   {
    "duration": 12,
    "start_time": "2021-08-29T12:59:10.163Z"
   },
   {
    "duration": 90,
    "start_time": "2021-08-29T12:59:10.178Z"
   },
   {
    "duration": 8,
    "start_time": "2021-08-29T12:59:10.270Z"
   },
   {
    "duration": 29,
    "start_time": "2021-08-29T12:59:10.280Z"
   },
   {
    "duration": 69,
    "start_time": "2021-08-29T12:59:10.312Z"
   },
   {
    "duration": 256,
    "start_time": "2021-08-29T12:59:10.384Z"
   },
   {
    "duration": 22,
    "start_time": "2021-08-29T12:59:10.642Z"
   },
   {
    "duration": 7,
    "start_time": "2021-08-29T12:59:10.667Z"
   },
   {
    "duration": 963,
    "start_time": "2021-08-29T12:59:10.677Z"
   },
   {
    "duration": 30,
    "start_time": "2021-08-29T12:59:11.642Z"
   },
   {
    "duration": 12,
    "start_time": "2021-08-29T12:59:11.676Z"
   },
   {
    "duration": 1420,
    "start_time": "2021-08-29T12:59:11.691Z"
   },
   {
    "duration": 13,
    "start_time": "2021-08-29T12:59:13.114Z"
   },
   {
    "duration": 58,
    "start_time": "2021-08-29T12:59:13.129Z"
   },
   {
    "duration": 40,
    "start_time": "2021-08-29T12:59:13.190Z"
   },
   {
    "duration": 29,
    "start_time": "2021-08-29T12:59:13.233Z"
   },
   {
    "duration": 23,
    "start_time": "2021-08-29T12:59:13.264Z"
   },
   {
    "duration": 8,
    "start_time": "2021-08-29T12:59:13.290Z"
   },
   {
    "duration": 18,
    "start_time": "2021-08-29T12:59:13.301Z"
   },
   {
    "duration": 10,
    "start_time": "2021-08-29T12:59:13.322Z"
   },
   {
    "duration": 22,
    "start_time": "2021-08-29T12:59:13.362Z"
   },
   {
    "duration": 9,
    "start_time": "2021-08-29T12:59:13.387Z"
   },
   {
    "duration": 10,
    "start_time": "2021-08-29T12:59:13.399Z"
   },
   {
    "duration": 9,
    "start_time": "2021-08-29T12:59:13.412Z"
   },
   {
    "duration": 51,
    "start_time": "2021-08-29T12:59:13.424Z"
   },
   {
    "duration": 10,
    "start_time": "2021-08-29T12:59:13.478Z"
   },
   {
    "duration": 9,
    "start_time": "2021-08-29T12:59:13.491Z"
   },
   {
    "duration": 10,
    "start_time": "2021-08-29T12:59:13.503Z"
   },
   {
    "duration": 59,
    "start_time": "2021-08-29T12:59:13.515Z"
   },
   {
    "duration": 4,
    "start_time": "2021-08-29T12:59:13.577Z"
   },
   {
    "duration": 10,
    "start_time": "2021-08-29T12:59:13.584Z"
   },
   {
    "duration": 293,
    "start_time": "2021-08-29T12:59:13.596Z"
   },
   {
    "duration": 13,
    "start_time": "2021-08-29T12:59:13.891Z"
   },
   {
    "duration": 13,
    "start_time": "2021-08-29T12:59:13.907Z"
   },
   {
    "duration": 290,
    "start_time": "2021-08-29T12:59:13.922Z"
   },
   {
    "duration": 634,
    "start_time": "2021-08-29T12:59:50.933Z"
   },
   {
    "duration": 9,
    "start_time": "2021-08-29T13:02:09.858Z"
   },
   {
    "duration": 40,
    "start_time": "2021-08-29T13:02:19.094Z"
   },
   {
    "duration": 421,
    "start_time": "2021-08-29T13:02:29.673Z"
   },
   {
    "duration": 39,
    "start_time": "2021-08-29T13:02:38.351Z"
   },
   {
    "duration": 350,
    "start_time": "2021-08-29T13:03:38.946Z"
   },
   {
    "duration": 316,
    "start_time": "2021-08-29T13:04:38.285Z"
   },
   {
    "duration": 21,
    "start_time": "2021-08-29T13:12:59.986Z"
   },
   {
    "duration": 23,
    "start_time": "2021-08-29T13:13:30.172Z"
   },
   {
    "duration": 49,
    "start_time": "2021-08-29T13:13:31.164Z"
   },
   {
    "duration": 20,
    "start_time": "2021-08-29T13:13:31.238Z"
   },
   {
    "duration": 44,
    "start_time": "2021-08-29T13:13:31.311Z"
   },
   {
    "duration": 15,
    "start_time": "2021-08-29T13:13:31.398Z"
   },
   {
    "duration": 13,
    "start_time": "2021-08-29T13:13:31.465Z"
   },
   {
    "duration": 5,
    "start_time": "2021-08-29T13:13:31.657Z"
   },
   {
    "duration": 20,
    "start_time": "2021-08-29T13:13:31.745Z"
   },
   {
    "duration": 25,
    "start_time": "2021-08-29T13:13:31.816Z"
   },
   {
    "duration": 13,
    "start_time": "2021-08-29T13:13:31.891Z"
   },
   {
    "duration": 12,
    "start_time": "2021-08-29T13:13:31.981Z"
   },
   {
    "duration": 12,
    "start_time": "2021-08-29T13:13:32.045Z"
   },
   {
    "duration": 4,
    "start_time": "2021-08-29T13:13:32.159Z"
   },
   {
    "duration": 275,
    "start_time": "2021-08-29T13:13:32.222Z"
   },
   {
    "duration": 14,
    "start_time": "2021-08-29T13:13:32.737Z"
   },
   {
    "duration": 6,
    "start_time": "2021-08-29T13:13:32.965Z"
   },
   {
    "duration": 10,
    "start_time": "2021-08-29T13:13:33.365Z"
   },
   {
    "duration": 7,
    "start_time": "2021-08-29T13:13:33.949Z"
   },
   {
    "duration": 7,
    "start_time": "2021-08-29T13:13:34.323Z"
   },
   {
    "duration": 23,
    "start_time": "2021-08-29T13:13:34.716Z"
   },
   {
    "duration": 6,
    "start_time": "2021-08-29T13:13:35.544Z"
   },
   {
    "duration": 14,
    "start_time": "2021-08-29T13:13:36.378Z"
   },
   {
    "duration": 5,
    "start_time": "2021-08-29T13:13:36.846Z"
   },
   {
    "duration": 39,
    "start_time": "2021-08-29T13:13:37.216Z"
   },
   {
    "duration": 5,
    "start_time": "2021-08-29T13:13:49.416Z"
   },
   {
    "duration": 10,
    "start_time": "2021-08-29T13:13:49.424Z"
   },
   {
    "duration": 1887,
    "start_time": "2021-08-29T13:13:49.437Z"
   },
   {
    "duration": 47,
    "start_time": "2021-08-29T13:13:51.327Z"
   },
   {
    "duration": 25,
    "start_time": "2021-08-29T13:13:51.376Z"
   },
   {
    "duration": 56,
    "start_time": "2021-08-29T13:13:51.405Z"
   },
   {
    "duration": 13,
    "start_time": "2021-08-29T13:13:51.465Z"
   },
   {
    "duration": 23,
    "start_time": "2021-08-29T13:13:51.480Z"
   },
   {
    "duration": 4,
    "start_time": "2021-08-29T13:13:51.505Z"
   },
   {
    "duration": 21,
    "start_time": "2021-08-29T13:13:51.512Z"
   },
   {
    "duration": 50,
    "start_time": "2021-08-29T13:13:51.536Z"
   },
   {
    "duration": 11,
    "start_time": "2021-08-29T13:13:51.589Z"
   },
   {
    "duration": 16,
    "start_time": "2021-08-29T13:13:51.602Z"
   },
   {
    "duration": 40,
    "start_time": "2021-08-29T13:13:51.623Z"
   },
   {
    "duration": 3,
    "start_time": "2021-08-29T13:13:51.667Z"
   },
   {
    "duration": 301,
    "start_time": "2021-08-29T13:13:51.673Z"
   },
   {
    "duration": 15,
    "start_time": "2021-08-29T13:13:51.976Z"
   },
   {
    "duration": 7,
    "start_time": "2021-08-29T13:13:51.993Z"
   },
   {
    "duration": 13,
    "start_time": "2021-08-29T13:13:52.002Z"
   },
   {
    "duration": 12,
    "start_time": "2021-08-29T13:13:52.018Z"
   },
   {
    "duration": 6,
    "start_time": "2021-08-29T13:13:52.063Z"
   },
   {
    "duration": 30,
    "start_time": "2021-08-29T13:13:52.072Z"
   },
   {
    "duration": 6,
    "start_time": "2021-08-29T13:13:52.104Z"
   },
   {
    "duration": 19,
    "start_time": "2021-08-29T13:13:52.112Z"
   },
   {
    "duration": 28,
    "start_time": "2021-08-29T13:13:52.134Z"
   },
   {
    "duration": 314,
    "start_time": "2021-08-29T13:13:52.165Z"
   },
   {
    "duration": 17,
    "start_time": "2021-08-29T13:13:52.481Z"
   },
   {
    "duration": 61,
    "start_time": "2021-08-29T13:13:52.501Z"
   },
   {
    "duration": 5,
    "start_time": "2021-08-29T13:13:52.564Z"
   },
   {
    "duration": 11,
    "start_time": "2021-08-29T13:13:52.572Z"
   },
   {
    "duration": 93,
    "start_time": "2021-08-29T13:13:52.585Z"
   },
   {
    "duration": 9,
    "start_time": "2021-08-29T13:13:52.680Z"
   },
   {
    "duration": 26,
    "start_time": "2021-08-29T13:13:52.692Z"
   },
   {
    "duration": 85,
    "start_time": "2021-08-29T13:13:52.721Z"
   },
   {
    "duration": 298,
    "start_time": "2021-08-29T13:13:52.809Z"
   },
   {
    "duration": 10,
    "start_time": "2021-08-29T13:13:53.109Z"
   },
   {
    "duration": 8,
    "start_time": "2021-08-29T13:13:53.122Z"
   },
   {
    "duration": 1198,
    "start_time": "2021-08-29T13:13:53.136Z"
   },
   {
    "duration": 9,
    "start_time": "2021-08-29T13:13:54.337Z"
   },
   {
    "duration": 19,
    "start_time": "2021-08-29T13:13:54.349Z"
   },
   {
    "duration": 1352,
    "start_time": "2021-08-29T13:13:54.371Z"
   },
   {
    "duration": 39,
    "start_time": "2021-08-29T13:13:55.726Z"
   },
   {
    "duration": 24,
    "start_time": "2021-08-29T13:13:55.767Z"
   },
   {
    "duration": 42,
    "start_time": "2021-08-29T13:13:55.793Z"
   },
   {
    "duration": 28,
    "start_time": "2021-08-29T13:13:55.837Z"
   },
   {
    "duration": 18,
    "start_time": "2021-08-29T13:13:55.867Z"
   },
   {
    "duration": 9,
    "start_time": "2021-08-29T13:13:55.887Z"
   },
   {
    "duration": 10,
    "start_time": "2021-08-29T13:13:55.898Z"
   },
   {
    "duration": 15,
    "start_time": "2021-08-29T13:13:55.910Z"
   },
   {
    "duration": 50,
    "start_time": "2021-08-29T13:13:55.927Z"
   },
   {
    "duration": 8,
    "start_time": "2021-08-29T13:13:55.980Z"
   },
   {
    "duration": 24,
    "start_time": "2021-08-29T13:13:55.990Z"
   },
   {
    "duration": 12,
    "start_time": "2021-08-29T13:13:56.017Z"
   },
   {
    "duration": 31,
    "start_time": "2021-08-29T13:13:56.031Z"
   },
   {
    "duration": 9,
    "start_time": "2021-08-29T13:13:56.064Z"
   },
   {
    "duration": 11,
    "start_time": "2021-08-29T13:13:56.076Z"
   },
   {
    "duration": 10,
    "start_time": "2021-08-29T13:13:56.090Z"
   },
   {
    "duration": 27,
    "start_time": "2021-08-29T13:13:56.102Z"
   },
   {
    "duration": 31,
    "start_time": "2021-08-29T13:13:56.132Z"
   },
   {
    "duration": 11,
    "start_time": "2021-08-29T13:13:56.166Z"
   },
   {
    "duration": 259,
    "start_time": "2021-08-29T13:13:56.180Z"
   },
   {
    "duration": 26,
    "start_time": "2021-08-29T13:13:56.441Z"
   },
   {
    "duration": 7,
    "start_time": "2021-08-29T13:13:56.470Z"
   },
   {
    "duration": 258,
    "start_time": "2021-08-29T13:13:56.480Z"
   },
   {
    "duration": 1556,
    "start_time": "2021-08-29T13:41:27.232Z"
   },
   {
    "duration": 47,
    "start_time": "2021-08-29T13:41:28.791Z"
   },
   {
    "duration": 24,
    "start_time": "2021-08-29T13:41:28.841Z"
   },
   {
    "duration": 43,
    "start_time": "2021-08-29T13:41:28.868Z"
   },
   {
    "duration": 13,
    "start_time": "2021-08-29T13:41:28.913Z"
   },
   {
    "duration": 35,
    "start_time": "2021-08-29T13:41:28.928Z"
   },
   {
    "duration": 4,
    "start_time": "2021-08-29T13:41:28.965Z"
   },
   {
    "duration": 21,
    "start_time": "2021-08-29T13:41:28.973Z"
   },
   {
    "duration": 23,
    "start_time": "2021-08-29T13:41:28.997Z"
   },
   {
    "duration": 41,
    "start_time": "2021-08-29T13:41:29.022Z"
   },
   {
    "duration": 9,
    "start_time": "2021-08-29T13:41:29.065Z"
   },
   {
    "duration": 12,
    "start_time": "2021-08-29T13:41:29.077Z"
   },
   {
    "duration": 3,
    "start_time": "2021-08-29T13:41:29.091Z"
   },
   {
    "duration": 327,
    "start_time": "2021-08-29T13:41:29.096Z"
   },
   {
    "duration": 14,
    "start_time": "2021-08-29T13:41:29.425Z"
   },
   {
    "duration": 6,
    "start_time": "2021-08-29T13:41:29.441Z"
   },
   {
    "duration": 9,
    "start_time": "2021-08-29T13:41:29.461Z"
   },
   {
    "duration": 10,
    "start_time": "2021-08-29T13:41:29.471Z"
   },
   {
    "duration": 7,
    "start_time": "2021-08-29T13:41:29.483Z"
   },
   {
    "duration": 25,
    "start_time": "2021-08-29T13:41:29.492Z"
   },
   {
    "duration": 4,
    "start_time": "2021-08-29T13:41:29.520Z"
   },
   {
    "duration": 14,
    "start_time": "2021-08-29T13:41:29.562Z"
   },
   {
    "duration": 4,
    "start_time": "2021-08-29T13:41:29.582Z"
   },
   {
    "duration": 292,
    "start_time": "2021-08-29T13:41:29.589Z"
   },
   {
    "duration": 22,
    "start_time": "2021-08-29T13:41:29.883Z"
   },
   {
    "duration": 67,
    "start_time": "2021-08-29T13:41:29.907Z"
   },
   {
    "duration": 5,
    "start_time": "2021-08-29T13:41:29.977Z"
   },
   {
    "duration": 11,
    "start_time": "2021-08-29T13:41:29.985Z"
   },
   {
    "duration": 97,
    "start_time": "2021-08-29T13:41:29.998Z"
   },
   {
    "duration": 8,
    "start_time": "2021-08-29T13:41:30.097Z"
   },
   {
    "duration": 33,
    "start_time": "2021-08-29T13:41:30.108Z"
   },
   {
    "duration": 59,
    "start_time": "2021-08-29T13:41:30.144Z"
   },
   {
    "duration": 280,
    "start_time": "2021-08-29T13:41:30.206Z"
   },
   {
    "duration": 10,
    "start_time": "2021-08-29T13:41:30.489Z"
   },
   {
    "duration": 12,
    "start_time": "2021-08-29T13:41:30.502Z"
   },
   {
    "duration": 1160,
    "start_time": "2021-08-29T13:41:30.516Z"
   },
   {
    "duration": 10,
    "start_time": "2021-08-29T13:41:31.679Z"
   },
   {
    "duration": 33,
    "start_time": "2021-08-29T13:41:31.692Z"
   },
   {
    "duration": 1596,
    "start_time": "2021-08-29T13:41:31.727Z"
   },
   {
    "duration": 16,
    "start_time": "2021-08-29T13:41:33.325Z"
   },
   {
    "duration": 24,
    "start_time": "2021-08-29T13:41:33.362Z"
   },
   {
    "duration": 39,
    "start_time": "2021-08-29T13:41:33.389Z"
   },
   {
    "duration": 30,
    "start_time": "2021-08-29T13:41:33.431Z"
   },
   {
    "duration": 14,
    "start_time": "2021-08-29T13:41:33.464Z"
   },
   {
    "duration": 7,
    "start_time": "2021-08-29T13:41:33.481Z"
   },
   {
    "duration": 9,
    "start_time": "2021-08-29T13:41:33.490Z"
   },
   {
    "duration": 10,
    "start_time": "2021-08-29T13:41:33.501Z"
   },
   {
    "duration": 53,
    "start_time": "2021-08-29T13:41:33.513Z"
   },
   {
    "duration": 8,
    "start_time": "2021-08-29T13:41:33.568Z"
   },
   {
    "duration": 9,
    "start_time": "2021-08-29T13:41:33.579Z"
   },
   {
    "duration": 9,
    "start_time": "2021-08-29T13:41:33.591Z"
   },
   {
    "duration": 16,
    "start_time": "2021-08-29T13:41:33.603Z"
   },
   {
    "duration": 41,
    "start_time": "2021-08-29T13:41:33.622Z"
   },
   {
    "duration": 8,
    "start_time": "2021-08-29T13:41:33.665Z"
   },
   {
    "duration": 10,
    "start_time": "2021-08-29T13:41:33.675Z"
   },
   {
    "duration": 15,
    "start_time": "2021-08-29T13:41:33.688Z"
   },
   {
    "duration": 3,
    "start_time": "2021-08-29T13:41:33.706Z"
   },
   {
    "duration": 13,
    "start_time": "2021-08-29T13:41:33.711Z"
   },
   {
    "duration": 238,
    "start_time": "2021-08-29T13:41:33.763Z"
   },
   {
    "duration": 14,
    "start_time": "2021-08-29T13:41:34.004Z"
   },
   {
    "duration": 22,
    "start_time": "2021-08-29T13:41:34.021Z"
   },
   {
    "duration": 250,
    "start_time": "2021-08-29T13:41:34.046Z"
   },
   {
    "duration": 123,
    "start_time": "2021-08-29T13:45:20.972Z"
   },
   {
    "duration": 1595,
    "start_time": "2021-08-29T13:51:34.217Z"
   },
   {
    "duration": 64,
    "start_time": "2021-08-29T13:51:35.815Z"
   },
   {
    "duration": 38,
    "start_time": "2021-08-29T13:51:35.883Z"
   },
   {
    "duration": 86,
    "start_time": "2021-08-29T13:51:35.925Z"
   },
   {
    "duration": 21,
    "start_time": "2021-08-29T13:51:36.014Z"
   },
   {
    "duration": 33,
    "start_time": "2021-08-29T13:51:36.038Z"
   },
   {
    "duration": 10,
    "start_time": "2021-08-29T13:51:36.075Z"
   },
   {
    "duration": 28,
    "start_time": "2021-08-29T13:51:36.091Z"
   },
   {
    "duration": 60,
    "start_time": "2021-08-29T13:51:36.124Z"
   },
   {
    "duration": 18,
    "start_time": "2021-08-29T13:51:36.188Z"
   },
   {
    "duration": 15,
    "start_time": "2021-08-29T13:51:36.209Z"
   },
   {
    "duration": 49,
    "start_time": "2021-08-29T13:51:36.228Z"
   },
   {
    "duration": 5,
    "start_time": "2021-08-29T13:51:36.280Z"
   },
   {
    "duration": 315,
    "start_time": "2021-08-29T13:51:36.287Z"
   },
   {
    "duration": 15,
    "start_time": "2021-08-29T13:51:36.604Z"
   },
   {
    "duration": 7,
    "start_time": "2021-08-29T13:51:36.622Z"
   },
   {
    "duration": 38,
    "start_time": "2021-08-29T13:51:36.632Z"
   },
   {
    "duration": 17,
    "start_time": "2021-08-29T13:51:36.673Z"
   },
   {
    "duration": 17,
    "start_time": "2021-08-29T13:51:36.693Z"
   },
   {
    "duration": 32,
    "start_time": "2021-08-29T13:51:36.712Z"
   },
   {
    "duration": 19,
    "start_time": "2021-08-29T13:51:36.746Z"
   },
   {
    "duration": 22,
    "start_time": "2021-08-29T13:51:36.768Z"
   },
   {
    "duration": 4,
    "start_time": "2021-08-29T13:51:36.796Z"
   },
   {
    "duration": 367,
    "start_time": "2021-08-29T13:51:36.803Z"
   },
   {
    "duration": 22,
    "start_time": "2021-08-29T13:51:37.173Z"
   },
   {
    "duration": 82,
    "start_time": "2021-08-29T13:51:37.198Z"
   },
   {
    "duration": 7,
    "start_time": "2021-08-29T13:51:37.283Z"
   },
   {
    "duration": 19,
    "start_time": "2021-08-29T13:51:37.293Z"
   },
   {
    "duration": 122,
    "start_time": "2021-08-29T13:51:37.316Z"
   },
   {
    "duration": 22,
    "start_time": "2021-08-29T13:51:37.440Z"
   },
   {
    "duration": 25,
    "start_time": "2021-08-29T13:51:37.465Z"
   },
   {
    "duration": 45,
    "start_time": "2021-08-29T13:51:37.493Z"
   },
   {
    "duration": 274,
    "start_time": "2021-08-29T13:51:37.540Z"
   },
   {
    "duration": 11,
    "start_time": "2021-08-29T13:51:37.817Z"
   },
   {
    "duration": 33,
    "start_time": "2021-08-29T13:51:37.830Z"
   },
   {
    "duration": 1079,
    "start_time": "2021-08-29T13:51:37.865Z"
   },
   {
    "duration": 22,
    "start_time": "2021-08-29T13:51:38.946Z"
   },
   {
    "duration": 13,
    "start_time": "2021-08-29T13:51:38.971Z"
   },
   {
    "duration": 1462,
    "start_time": "2021-08-29T13:51:38.987Z"
   },
   {
    "duration": 21,
    "start_time": "2021-08-29T13:51:40.451Z"
   },
   {
    "duration": 25,
    "start_time": "2021-08-29T13:51:40.474Z"
   },
   {
    "duration": 75,
    "start_time": "2021-08-29T13:51:40.501Z"
   },
   {
    "duration": 4,
    "start_time": "2021-08-29T13:51:40.578Z"
   },
   {
    "duration": 22,
    "start_time": "2021-08-29T13:51:40.584Z"
   },
   {
    "duration": 9,
    "start_time": "2021-08-29T13:51:40.609Z"
   },
   {
    "duration": 43,
    "start_time": "2021-08-29T13:51:40.621Z"
   },
   {
    "duration": 11,
    "start_time": "2021-08-29T13:51:40.667Z"
   },
   {
    "duration": 17,
    "start_time": "2021-08-29T13:51:40.681Z"
   },
   {
    "duration": 8,
    "start_time": "2021-08-29T13:51:40.700Z"
   },
   {
    "duration": 7,
    "start_time": "2021-08-29T13:51:40.711Z"
   },
   {
    "duration": 49,
    "start_time": "2021-08-29T13:51:40.720Z"
   },
   {
    "duration": 23,
    "start_time": "2021-08-29T13:51:40.771Z"
   },
   {
    "duration": 7,
    "start_time": "2021-08-29T13:51:40.797Z"
   },
   {
    "duration": 14,
    "start_time": "2021-08-29T13:51:40.806Z"
   },
   {
    "duration": 10,
    "start_time": "2021-08-29T13:51:40.822Z"
   },
   {
    "duration": 15,
    "start_time": "2021-08-29T13:51:40.863Z"
   },
   {
    "duration": 8,
    "start_time": "2021-08-29T13:51:40.880Z"
   },
   {
    "duration": 9,
    "start_time": "2021-08-29T13:51:40.890Z"
   },
   {
    "duration": 255,
    "start_time": "2021-08-29T13:51:40.902Z"
   },
   {
    "duration": 14,
    "start_time": "2021-08-29T13:51:41.159Z"
   },
   {
    "duration": 7,
    "start_time": "2021-08-29T13:51:41.176Z"
   },
   {
    "duration": 280,
    "start_time": "2021-08-29T13:51:41.186Z"
   }
  ],
  "kernelspec": {
   "display_name": "Python 3",
   "language": "python",
   "name": "python3"
  },
  "language_info": {
   "codemirror_mode": {
    "name": "ipython",
    "version": 3
   },
   "file_extension": ".py",
   "mimetype": "text/x-python",
   "name": "python",
   "nbconvert_exporter": "python",
   "pygments_lexer": "ipython3",
   "version": "3.7.8"
  },
  "toc": {
   "base_numbering": 1,
   "nav_menu": {},
   "number_sections": true,
   "sideBar": true,
   "skip_h1_title": true,
   "title_cell": "Table of Contents",
   "title_sidebar": "Contents",
   "toc_cell": false,
   "toc_position": {
    "height": "calc(100% - 180px)",
    "left": "10px",
    "top": "150px",
    "width": "480.75px"
   },
   "toc_section_display": true,
   "toc_window_display": false
  }
 },
 "nbformat": 4,
 "nbformat_minor": 2
}

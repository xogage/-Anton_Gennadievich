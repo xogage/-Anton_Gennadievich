{
  "nbformat": 4,
  "nbformat_minor": 0,
  "metadata": {
    "ExecuteTimeLog": [
      {
        "duration": 3,
        "start_time": "2021-08-22T18:26:59.550Z"
      },
      {
        "duration": 209,
        "start_time": "2021-08-22T18:27:00.602Z"
      },
      {
        "duration": 4247,
        "start_time": "2021-08-22T18:27:11.866Z"
      },
      {
        "duration": 607,
        "start_time": "2021-08-22T18:27:20.128Z"
      }
    ],
    "colab": {
      "name": "13. Предсказание эмоциональной окраски текста. BERT.ipynb",
      "provenance": [],
      "collapsed_sections": []
    },
    "kernelspec": {
      "display_name": "Python 3",
      "language": "python",
      "name": "python3"
    },
    "language_info": {
      "codemirror_mode": {
        "name": "ipython",
        "version": 3
      },
      "file_extension": ".py",
      "mimetype": "text/x-python",
      "name": "python",
      "nbconvert_exporter": "python",
      "pygments_lexer": "ipython3",
      "version": "3.7.8"
    },
    "toc": {
      "base_numbering": 1,
      "nav_menu": {},
      "number_sections": true,
      "sideBar": true,
      "skip_h1_title": true,
      "title_cell": "Table of Contents",
      "title_sidebar": "Contents",
      "toc_cell": false,
      "toc_position": {},
      "toc_section_display": true,
      "toc_window_display": false
    }
  },
  "cells": [
    {
      "cell_type": "markdown",
      "metadata": {
        "id": "k9yzvZeDVCkC"
      },
      "source": [
        "**Описание данных**\n",
        "\n",
        "Столбец *text* в нём содержит текст комментария, а *toxic* — целевой признак."
      ]
    },
    {
      "cell_type": "markdown",
      "metadata": {
        "id": "yNrmVPYLXTKG"
      },
      "source": [
        "## Подготовка"
      ]
    },
    {
      "cell_type": "markdown",
      "metadata": {
        "id": "NigNgvIUVoR0"
      },
      "source": [
        "Импортируем библ которые могут понадобиться."
      ]
    },
    {
      "cell_type": "code",
      "metadata": {
        "colab": {
          "base_uri": "https://localhost:8080/"
        },
        "id": "ZcFeYnsH6lsu",
        "outputId": "054b3f25-0370-4285-d9a7-950c6c347013"
      },
      "source": [
        "import pandas as pd\n",
        "import numpy as np\n",
        "import nltk\n",
        "import torch\n",
        "\n",
        "from nltk.corpus import stopwords\n",
        "from pymystem3 import Mystem\n",
        "from nltk.stem import WordNetLemmatizer\n",
        "from nltk import word_tokenize, pos_tag\n",
        "\n",
        "from sklearn.model_selection import train_test_split\n",
        "from sklearn.feature_extraction.text import CountVectorizer, TfidfVectorizer\n",
        "\n",
        "from sklearn.linear_model import LogisticRegression\n",
        "from sklearn.dummy import DummyClassifier\n",
        "\n",
        "import lightgbm as lgb\n",
        "import xgboost as xgb\n",
        "\n",
        "from sklearn.metrics import  f1_score\n",
        "from sklearn.metrics import classification_report, roc_auc_score\n",
        "\n",
        "\n",
        "import warnings\n",
        "warnings.filterwarnings('ignore')"
      ],
      "execution_count": null,
      "outputs": [
        {
          "output_type": "stream",
          "name": "stderr",
          "text": [
            "/usr/local/lib/python3.7/dist-packages/sklearn/utils/deprecation.py:144: FutureWarning: The sklearn.metrics.scorer module is  deprecated in version 0.22 and will be removed in version 0.24. The corresponding classes / functions should instead be imported from sklearn.metrics. Anything that cannot be imported from sklearn.metrics is now part of the private API.\n",
            "  warnings.warn(message, FutureWarning)\n"
          ]
        }
      ]
    },
    {
      "cell_type": "code",
      "metadata": {
        "id": "QsdYr1u9_15M"
      },
      "source": [
        "df = pd.read_csv('/content/toxic_comments.csv')"
      ],
      "execution_count": null,
      "outputs": []
    },
    {
      "cell_type": "code",
      "metadata": {
        "colab": {
          "base_uri": "https://localhost:8080/",
          "height": 202
        },
        "id": "jfRU5phzWBRJ",
        "outputId": "7fca6bc4-d49e-42b7-f913-b525e8ed5a9b"
      },
      "source": [
        "df.head()"
      ],
      "execution_count": null,
      "outputs": [
        {
          "output_type": "execute_result",
          "data": {
            "text/html": [
              "<div>\n",
              "<style scoped>\n",
              "    .dataframe tbody tr th:only-of-type {\n",
              "        vertical-align: middle;\n",
              "    }\n",
              "\n",
              "    .dataframe tbody tr th {\n",
              "        vertical-align: top;\n",
              "    }\n",
              "\n",
              "    .dataframe thead th {\n",
              "        text-align: right;\n",
              "    }\n",
              "</style>\n",
              "<table border=\"1\" class=\"dataframe\">\n",
              "  <thead>\n",
              "    <tr style=\"text-align: right;\">\n",
              "      <th></th>\n",
              "      <th>text</th>\n",
              "      <th>toxic</th>\n",
              "    </tr>\n",
              "  </thead>\n",
              "  <tbody>\n",
              "    <tr>\n",
              "      <th>0</th>\n",
              "      <td>Explanation\\nWhy the edits made under my usern...</td>\n",
              "      <td>0</td>\n",
              "    </tr>\n",
              "    <tr>\n",
              "      <th>1</th>\n",
              "      <td>D'aww! He matches this background colour I'm s...</td>\n",
              "      <td>0</td>\n",
              "    </tr>\n",
              "    <tr>\n",
              "      <th>2</th>\n",
              "      <td>Hey man, I'm really not trying to edit war. It...</td>\n",
              "      <td>0</td>\n",
              "    </tr>\n",
              "    <tr>\n",
              "      <th>3</th>\n",
              "      <td>\"\\nMore\\nI can't make any real suggestions on ...</td>\n",
              "      <td>0</td>\n",
              "    </tr>\n",
              "    <tr>\n",
              "      <th>4</th>\n",
              "      <td>You, sir, are my hero. Any chance you remember...</td>\n",
              "      <td>0</td>\n",
              "    </tr>\n",
              "  </tbody>\n",
              "</table>\n",
              "</div>"
            ],
            "text/plain": [
              "                                                text  toxic\n",
              "0  Explanation\\nWhy the edits made under my usern...      0\n",
              "1  D'aww! He matches this background colour I'm s...      0\n",
              "2  Hey man, I'm really not trying to edit war. It...      0\n",
              "3  \"\\nMore\\nI can't make any real suggestions on ...      0\n",
              "4  You, sir, are my hero. Any chance you remember...      0"
            ]
          },
          "metadata": {},
          "execution_count": 4
        }
      ]
    },
    {
      "cell_type": "markdown",
      "metadata": {
        "id": "iYjE0NmgWEZs"
      },
      "source": [
        "Проверим на наличие пропусков и дубликатов."
      ]
    },
    {
      "cell_type": "code",
      "metadata": {
        "colab": {
          "base_uri": "https://localhost:8080/"
        },
        "id": "mHAIN6HsWOV_",
        "outputId": "33af1868-e831-4c07-f9e9-3e83917f1052"
      },
      "source": [
        "print(df.isna().mean(), 'Дубликаты: {}'.format(df.duplicated().sum()), sep='\\n')"
      ],
      "execution_count": null,
      "outputs": [
        {
          "output_type": "stream",
          "name": "stdout",
          "text": [
            "text     0.0\n",
            "toxic    0.0\n",
            "dtype: float64\n",
            "Дубликаты: 0\n"
          ]
        }
      ]
    },
    {
      "cell_type": "markdown",
      "metadata": {
        "id": "5hRivgTOXoF8"
      },
      "source": [
        "Посмотрим на общую инфу и распределение."
      ]
    },
    {
      "cell_type": "code",
      "metadata": {
        "colab": {
          "base_uri": "https://localhost:8080/"
        },
        "id": "dUALnMNTXrUr",
        "outputId": "86a0fc88-de67-48d8-ca47-1c5932747715"
      },
      "source": [
        "df.info()"
      ],
      "execution_count": null,
      "outputs": [
        {
          "output_type": "stream",
          "name": "stdout",
          "text": [
            "<class 'pandas.core.frame.DataFrame'>\n",
            "RangeIndex: 159571 entries, 0 to 159570\n",
            "Data columns (total 2 columns):\n",
            " #   Column  Non-Null Count   Dtype \n",
            "---  ------  --------------   ----- \n",
            " 0   text    159571 non-null  object\n",
            " 1   toxic   159571 non-null  int64 \n",
            "dtypes: int64(1), object(1)\n",
            "memory usage: 2.4+ MB\n"
          ]
        }
      ]
    },
    {
      "cell_type": "code",
      "metadata": {
        "colab": {
          "base_uri": "https://localhost:8080/",
          "height": 294
        },
        "id": "g6RTVOnAXty2",
        "outputId": "00b2b0d8-3849-46e5-b5f1-f40c61195eda"
      },
      "source": [
        "df.describe()"
      ],
      "execution_count": null,
      "outputs": [
        {
          "output_type": "execute_result",
          "data": {
            "text/html": [
              "<div>\n",
              "<style scoped>\n",
              "    .dataframe tbody tr th:only-of-type {\n",
              "        vertical-align: middle;\n",
              "    }\n",
              "\n",
              "    .dataframe tbody tr th {\n",
              "        vertical-align: top;\n",
              "    }\n",
              "\n",
              "    .dataframe thead th {\n",
              "        text-align: right;\n",
              "    }\n",
              "</style>\n",
              "<table border=\"1\" class=\"dataframe\">\n",
              "  <thead>\n",
              "    <tr style=\"text-align: right;\">\n",
              "      <th></th>\n",
              "      <th>toxic</th>\n",
              "    </tr>\n",
              "  </thead>\n",
              "  <tbody>\n",
              "    <tr>\n",
              "      <th>count</th>\n",
              "      <td>159571.000000</td>\n",
              "    </tr>\n",
              "    <tr>\n",
              "      <th>mean</th>\n",
              "      <td>0.101679</td>\n",
              "    </tr>\n",
              "    <tr>\n",
              "      <th>std</th>\n",
              "      <td>0.302226</td>\n",
              "    </tr>\n",
              "    <tr>\n",
              "      <th>min</th>\n",
              "      <td>0.000000</td>\n",
              "    </tr>\n",
              "    <tr>\n",
              "      <th>25%</th>\n",
              "      <td>0.000000</td>\n",
              "    </tr>\n",
              "    <tr>\n",
              "      <th>50%</th>\n",
              "      <td>0.000000</td>\n",
              "    </tr>\n",
              "    <tr>\n",
              "      <th>75%</th>\n",
              "      <td>0.000000</td>\n",
              "    </tr>\n",
              "    <tr>\n",
              "      <th>max</th>\n",
              "      <td>1.000000</td>\n",
              "    </tr>\n",
              "  </tbody>\n",
              "</table>\n",
              "</div>"
            ],
            "text/plain": [
              "               toxic\n",
              "count  159571.000000\n",
              "mean        0.101679\n",
              "std         0.302226\n",
              "min         0.000000\n",
              "25%         0.000000\n",
              "50%         0.000000\n",
              "75%         0.000000\n",
              "max         1.000000"
            ]
          },
          "metadata": {},
          "execution_count": 7
        }
      ]
    },
    {
      "cell_type": "markdown",
      "metadata": {
        "id": "SUb19vQ2XEsH"
      },
      "source": [
        "Данные впорядке. Приступим к подготовки текста."
      ]
    },
    {
      "cell_type": "markdown",
      "metadata": {
        "id": "bVjxPvmrYCNM"
      },
      "source": [
        "Подгрузим необходимые словари и обработаем наш текст и удалим от туда не нужные символы. Сохраним все в столбец в датасет."
      ]
    },
    {
      "cell_type": "code",
      "metadata": {
        "colab": {
          "base_uri": "https://localhost:8080/"
        },
        "id": "Ab1xnzWwy7C0",
        "outputId": "237ee982-378c-48a4-e18a-87a8928c3037"
      },
      "source": [
        "nltk.download('averaged_perceptron_tagger')\n",
        "nltk.download('punkt')\n",
        "nltk.download('wordnet')"
      ],
      "execution_count": null,
      "outputs": [
        {
          "output_type": "stream",
          "name": "stdout",
          "text": [
            "[nltk_data] Downloading package averaged_perceptron_tagger to\n",
            "[nltk_data]     /root/nltk_data...\n",
            "[nltk_data]   Unzipping taggers/averaged_perceptron_tagger.zip.\n",
            "[nltk_data] Downloading package punkt to /root/nltk_data...\n",
            "[nltk_data]   Unzipping tokenizers/punkt.zip.\n",
            "[nltk_data] Downloading package wordnet to /root/nltk_data...\n",
            "[nltk_data]   Unzipping corpora/wordnet.zip.\n"
          ]
        },
        {
          "output_type": "execute_result",
          "data": {
            "text/plain": [
              "True"
            ]
          },
          "metadata": {},
          "execution_count": 8
        }
      ]
    },
    {
      "cell_type": "code",
      "metadata": {
        "id": "JHr4GP6dRQuX"
      },
      "source": [
        "wnl = WordNetLemmatizer()\n",
        "\n",
        "def clear_text(txt):\n",
        "  text = ' '.join(re.sub(r'[^a-zA-Z ]', ' ', txt).split())\n",
        "  tokens = word_tokenize(text)\n",
        "  text = [wnl.lemmatize(i,j[0].lower()) if j[0].lower() in ['a','n','v'] else wnl.lemmatize(i) for i,j in pos_tag(tokens)]\n",
        "  text = ' '.join(text)\n",
        "  return text"
      ],
      "execution_count": null,
      "outputs": []
    },
    {
      "cell_type": "code",
      "metadata": {
        "id": "XlzwcWZuI9aA"
      },
      "source": [
        "df['lemm_text'] = df['text'].apply(clear_text)"
      ],
      "execution_count": null,
      "outputs": []
    },
    {
      "cell_type": "markdown",
      "metadata": {
        "id": "49K-xHmAYzEY"
      },
      "source": [
        "Сравним наш lemm_text и text"
      ]
    },
    {
      "cell_type": "code",
      "metadata": {
        "colab": {
          "base_uri": "https://localhost:8080/"
        },
        "id": "VAtNDW5HYo1t",
        "outputId": "71943bdb-595a-47f5-c536-82933f638673"
      },
      "source": [
        "print('Старый тест: {}'.format(df['text'][0]))\n",
        "print()\n",
        "print('Обработанный тест:', df['lemm_text'][0], sep='\\n')"
      ],
      "execution_count": null,
      "outputs": [
        {
          "output_type": "stream",
          "name": "stdout",
          "text": [
            "Старый тест: Explanation\n",
            "Why the edits made under my username Hardcore Metallica Fan were reverted? They weren't vandalisms, just closure on some GAs after I voted at New York Dolls FAC. And please don't remove the template from the talk page since I'm retired now.89.205.38.27\n",
            "\n",
            "Обработанный тест:\n",
            "Explanation Why the edits make under my username Hardcore Metallica Fan be revert They weren t vandalism just closure on some GAs after I vote at New York Dolls FAC And please don t remove the template from the talk page since I m retire now\n"
          ]
        }
      ]
    },
    {
      "cell_type": "markdown",
      "metadata": {
        "id": "eJQnCaL9ZOyh"
      },
      "source": [
        "## Вывод\n",
        "Обработали тест, теперь он имеет просто слова без лишнего мусора в виде символов. Можно приступать к обучению моделей."
      ]
    },
    {
      "cell_type": "markdown",
      "metadata": {
        "id": "FTw1iFmuZNVl"
      },
      "source": [
        "## Обучение"
      ]
    },
    {
      "cell_type": "markdown",
      "metadata": {
        "id": "tarHznH1Zlo1"
      },
      "source": [
        "Прежде разобьем наши данные на обучающую и тестовую выборку с сохранением баланса классов в них."
      ]
    },
    {
      "cell_type": "code",
      "metadata": {
        "id": "PA7YjCw3TXB-"
      },
      "source": [
        "train, test = train_test_split(df, random_state=12345, test_size=0.3, stratify=df['toxic'])"
      ],
      "execution_count": null,
      "outputs": []
    },
    {
      "cell_type": "markdown",
      "metadata": {
        "id": "yTvedchGZuWd"
      },
      "source": [
        "Теперь мы создадим корпуса выборок с признаками и отдельно целевой признак."
      ]
    },
    {
      "cell_type": "code",
      "metadata": {
        "id": "rGOq-xwnUQcN"
      },
      "source": [
        "corpus_features_train = list(train['lemm_text'])\n",
        "target_train = train['toxic']\n",
        "\n",
        "corpus_features_test = list(test['lemm_text'])\n",
        "target_test = test['toxic']"
      ],
      "execution_count": null,
      "outputs": []
    },
    {
      "cell_type": "markdown",
      "metadata": {
        "id": "b6LG1LOEaOky"
      },
      "source": [
        "Подгрузим стоп слова и передадим их нашей TF-IDF, чтобы избавиться от не нужных для контекста слов."
      ]
    },
    {
      "cell_type": "code",
      "metadata": {
        "colab": {
          "base_uri": "https://localhost:8080/"
        },
        "id": "BVvRdopcagdl",
        "outputId": "d9bfe149-1fb7-44ec-de51-821936162470"
      },
      "source": [
        "nltk.download('stopwords')"
      ],
      "execution_count": null,
      "outputs": [
        {
          "output_type": "stream",
          "name": "stdout",
          "text": [
            "[nltk_data] Downloading package stopwords to /root/nltk_data...\n",
            "[nltk_data]   Unzipping corpora/stopwords.zip.\n"
          ]
        },
        {
          "output_type": "execute_result",
          "data": {
            "text/plain": [
              "True"
            ]
          },
          "metadata": {},
          "execution_count": 14
        }
      ]
    },
    {
      "cell_type": "code",
      "metadata": {
        "id": "PcHWZvNPxsGK"
      },
      "source": [
        "stopwords = set(stopwords.words('english'))"
      ],
      "execution_count": null,
      "outputs": []
    },
    {
      "cell_type": "code",
      "metadata": {
        "id": "hMZLz2j0QNMR"
      },
      "source": [
        "count_tf_idf = TfidfVectorizer(stop_words=stopwords)"
      ],
      "execution_count": null,
      "outputs": []
    },
    {
      "cell_type": "markdown",
      "metadata": {
        "id": "8XoiDA7Pawz6"
      },
      "source": [
        "Чтобы посчитать TF-IDF для корпуса текстов вызовем и обучим на train."
      ]
    },
    {
      "cell_type": "code",
      "metadata": {
        "id": "bAKby1VlXOYi"
      },
      "source": [
        "tf_idf_train = count_tf_idf.fit_transform(corpus_features_train)\n",
        "tf_idf_test = count_tf_idf.transform(corpus_features_test)"
      ],
      "execution_count": null,
      "outputs": []
    },
    {
      "cell_type": "markdown",
      "metadata": {
        "id": "NDJ-ExxBbLVt"
      },
      "source": [
        "Сделаем функцию для наших моделей которая покажет нам F1-метрику."
      ]
    },
    {
      "cell_type": "code",
      "metadata": {
        "id": "Jwh0FJH7XfMN"
      },
      "source": [
        "def predict_model(model):\n",
        "  model.fit(tf_idf_train, target_train)\n",
        "  predict = model.predict(tf_idf_test)\n",
        "  return predict, f1_score(target_test, predict)"
      ],
      "execution_count": null,
      "outputs": []
    },
    {
      "cell_type": "markdown",
      "metadata": {
        "id": "Yg6pOJaJba7q"
      },
      "source": [
        "Глянем на логистическую регрессию."
      ]
    },
    {
      "cell_type": "code",
      "metadata": {
        "colab": {
          "base_uri": "https://localhost:8080/"
        },
        "id": "DQ09nl8laowJ",
        "outputId": "603b2400-aee6-4b1d-e546-768f847a78e3"
      },
      "source": [
        "model_logist = LogisticRegression(random_state=12345, class_weight='balanced')\n",
        "predict, score = predict_model(model_logist)\n",
        "score"
      ],
      "execution_count": null,
      "outputs": [
        {
          "output_type": "execute_result",
          "data": {
            "text/plain": [
              "0.7502492974345029"
            ]
          },
          "metadata": {},
          "execution_count": 19
        }
      ]
    },
    {
      "cell_type": "markdown",
      "metadata": {
        "id": "rEwfp5ckcFgV"
      },
      "source": [
        "Получили метрику 0.75. Неплохо!"
      ]
    },
    {
      "cell_type": "markdown",
      "metadata": {
        "id": "MsLL9VCQx7GG"
      },
      "source": [
        "Сделаем XGBoost"
      ]
    },
    {
      "cell_type": "code",
      "metadata": {
        "colab": {
          "base_uri": "https://localhost:8080/"
        },
        "id": "otZrWCGex5rN",
        "outputId": "e11b2529-9ef3-4ae8-e9a6-ca6e485ac3de"
      },
      "source": [
        "model_xgb = xgb.XGBClassifier(learning_rate=0.5, max_depth=4, n_estimators=250, random_state=12345)\n",
        "predict, score = predict_model(model_xgb)\n",
        "score"
      ],
      "execution_count": null,
      "outputs": [
        {
          "output_type": "execute_result",
          "data": {
            "text/plain": [
              "0.7617251944378978"
            ]
          },
          "metadata": {},
          "execution_count": 25
        }
      ]
    },
    {
      "cell_type": "markdown",
      "metadata": {
        "id": "uzeomvZo9hWy"
      },
      "source": [
        "Получили 0.76"
      ]
    },
    {
      "cell_type": "markdown",
      "metadata": {
        "id": "j6ZqZpOYx4hA"
      },
      "source": [
        "Глянем на LGBM."
      ]
    },
    {
      "cell_type": "code",
      "metadata": {
        "colab": {
          "base_uri": "https://localhost:8080/"
        },
        "id": "jH3RLNxpXNOi",
        "outputId": "c917d423-c4cf-4659-bf29-3eb09d0e8bed"
      },
      "source": [
        "model_lgbm = lgb.LGBMClassifier(boosting_type='dart', random_state=12345, learning_rate=0.5, n_estimators=250)\n",
        "predict, score = predict_model(model_lgbm)\n",
        "score"
      ],
      "execution_count": null,
      "outputs": [
        {
          "output_type": "execute_result",
          "data": {
            "text/plain": [
              "0.7739686228936664"
            ]
          },
          "metadata": {},
          "execution_count": 26
        }
      ]
    },
    {
      "cell_type": "markdown",
      "metadata": {
        "id": "l_EvJt7el7k8"
      },
      "source": [
        "Получил метрику 0.77. Это удовлетворяет ТЗ. Глянем на общую инфу и глянем на площадь под кривой."
      ]
    },
    {
      "cell_type": "code",
      "metadata": {
        "colab": {
          "base_uri": "https://localhost:8080/"
        },
        "id": "0EbaqL9pcuk6",
        "outputId": "15802de3-6700-4544-8212-9d3baf5ca5ed"
      },
      "source": [
        "print(classification_report(target_test, predict))"
      ],
      "execution_count": null,
      "outputs": [
        {
          "output_type": "stream",
          "name": "stdout",
          "text": [
            "              precision    recall  f1-score   support\n",
            "\n",
            "           0       0.97      0.99      0.98     43004\n",
            "           1       0.89      0.68      0.77      4868\n",
            "\n",
            "    accuracy                           0.96     47872\n",
            "   macro avg       0.93      0.84      0.88     47872\n",
            "weighted avg       0.96      0.96      0.96     47872\n",
            "\n"
          ]
        }
      ]
    },
    {
      "cell_type": "code",
      "metadata": {
        "colab": {
          "base_uri": "https://localhost:8080/"
        },
        "id": "gxDQEQpMj_BW",
        "outputId": "ceef3327-583e-4094-abe4-118e116f87a2"
      },
      "source": [
        "roc_auc_score(target_test, model_lgbm.predict_proba(tf_idf_test)[:,1])"
      ],
      "execution_count": null,
      "outputs": [
        {
          "output_type": "execute_result",
          "data": {
            "text/plain": [
              "0.962017752815335"
            ]
          },
          "metadata": {},
          "execution_count": 28
        }
      ]
    },
    {
      "cell_type": "markdown",
      "metadata": {
        "id": "oauAb-UqXaVV"
      },
      "source": [
        "## Выводы"
      ]
    },
    {
      "cell_type": "markdown",
      "metadata": {
        "id": "vGDBBX6sn3aB"
      },
      "source": [
        "Мы сделали несколько моделей и лучше показала себя LGBM. Получили метрику F1 - 0.77, что удовлетворяет ТЗ. Precision показала 0.89, что говорит о том, что ошибок 2 рода у нас всего 11%, а ошибок 1 рода 3%. Площадь под кривой = 0.96, что говорит о том, что наша модель хорошо научилась отделять классы друг от друга."
      ]
    }
  ]
}
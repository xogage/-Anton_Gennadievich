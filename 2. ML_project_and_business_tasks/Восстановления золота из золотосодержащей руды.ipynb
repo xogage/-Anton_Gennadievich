{
 "cells": [
  {
   "cell_type": "markdown",
   "source": [
    "<h1>Содержание<span class=\"tocSkip\"></span></h1>\n",
    "<div class=\"toc\"><ul class=\"toc-item\"></ul></div>"
   ],
   "metadata": {
    "toc": true
   }
  },
  {
   "cell_type": "markdown",
   "source": [
    "# Подготовка данных"
   ],
   "metadata": {}
  },
  {
   "cell_type": "markdown",
   "source": [
    "Импортируем библиотеки которые нам понадобятся или могут понадобиться."
   ],
   "metadata": {}
  },
  {
   "cell_type": "code",
   "execution_count": 1,
   "source": [
    "import pandas as pd\n",
    "import numpy as np\n",
    "import matplotlib.pyplot as plt\n",
    "from tqdm.notebook import trange, tqdm\n",
    "import time\n",
    "\n",
    "from sklearn.preprocessing import StandardScaler\n",
    "from sklearn.utils import shuffle\n",
    "from sklearn.model_selection import GridSearchCV, cross_val_score\n",
    "\n",
    "from sklearn.linear_model import LinearRegression\n",
    "from sklearn.tree import DecisionTreeRegressor\n",
    "from sklearn.ensemble import RandomForestRegressor\n",
    "from sklearn.dummy import DummyRegressor\n",
    "\n",
    "from sklearn.metrics import mean_squared_error, mean_absolute_error\n",
    "from sklearn.metrics.scorer import make_scorer\n",
    "\n",
    "import warnings\n",
    "warnings.filterwarnings('ignore')"
   ],
   "outputs": [],
   "metadata": {}
  },
  {
   "cell_type": "code",
   "execution_count": 2,
   "source": [
    "data_full = pd.read_csv('/datasets/gold_recovery_full_new.csv')\n",
    "data_train = pd.read_csv('/datasets/gold_recovery_train_new.csv')\n",
    "data_test = pd.read_csv('/datasets/gold_recovery_test_new.csv')"
   ],
   "outputs": [],
   "metadata": {}
  },
  {
   "cell_type": "markdown",
   "source": [
    "У нас 3 датасета:\n",
    "- full это полный датасет\n",
    "- train это датасет с обучающими данными\n",
    "- test это данные из будущего на которых мы будем тестить нашу модель"
   ],
   "metadata": {}
  },
  {
   "cell_type": "code",
   "execution_count": 3,
   "source": [
    "data_full.head()"
   ],
   "outputs": [
    {
     "output_type": "execute_result",
     "data": {
      "text/html": [
       "<div>\n",
       "<style scoped>\n",
       "    .dataframe tbody tr th:only-of-type {\n",
       "        vertical-align: middle;\n",
       "    }\n",
       "\n",
       "    .dataframe tbody tr th {\n",
       "        vertical-align: top;\n",
       "    }\n",
       "\n",
       "    .dataframe thead th {\n",
       "        text-align: right;\n",
       "    }\n",
       "</style>\n",
       "<table border=\"1\" class=\"dataframe\">\n",
       "  <thead>\n",
       "    <tr style=\"text-align: right;\">\n",
       "      <th></th>\n",
       "      <th>date</th>\n",
       "      <th>final.output.concentrate_ag</th>\n",
       "      <th>final.output.concentrate_pb</th>\n",
       "      <th>final.output.concentrate_sol</th>\n",
       "      <th>final.output.concentrate_au</th>\n",
       "      <th>final.output.recovery</th>\n",
       "      <th>final.output.tail_ag</th>\n",
       "      <th>final.output.tail_pb</th>\n",
       "      <th>final.output.tail_sol</th>\n",
       "      <th>final.output.tail_au</th>\n",
       "      <th>...</th>\n",
       "      <th>secondary_cleaner.state.floatbank4_a_air</th>\n",
       "      <th>secondary_cleaner.state.floatbank4_a_level</th>\n",
       "      <th>secondary_cleaner.state.floatbank4_b_air</th>\n",
       "      <th>secondary_cleaner.state.floatbank4_b_level</th>\n",
       "      <th>secondary_cleaner.state.floatbank5_a_air</th>\n",
       "      <th>secondary_cleaner.state.floatbank5_a_level</th>\n",
       "      <th>secondary_cleaner.state.floatbank5_b_air</th>\n",
       "      <th>secondary_cleaner.state.floatbank5_b_level</th>\n",
       "      <th>secondary_cleaner.state.floatbank6_a_air</th>\n",
       "      <th>secondary_cleaner.state.floatbank6_a_level</th>\n",
       "    </tr>\n",
       "  </thead>\n",
       "  <tbody>\n",
       "    <tr>\n",
       "      <td>0</td>\n",
       "      <td>2016-01-15 00:00:00</td>\n",
       "      <td>6.055403</td>\n",
       "      <td>9.889648</td>\n",
       "      <td>5.507324</td>\n",
       "      <td>42.192020</td>\n",
       "      <td>70.541216</td>\n",
       "      <td>10.411962</td>\n",
       "      <td>0.895447</td>\n",
       "      <td>16.904297</td>\n",
       "      <td>2.143149</td>\n",
       "      <td>...</td>\n",
       "      <td>14.016835</td>\n",
       "      <td>-502.488007</td>\n",
       "      <td>12.099931</td>\n",
       "      <td>-504.715942</td>\n",
       "      <td>9.925633</td>\n",
       "      <td>-498.310211</td>\n",
       "      <td>8.079666</td>\n",
       "      <td>-500.470978</td>\n",
       "      <td>14.151341</td>\n",
       "      <td>-605.841980</td>\n",
       "    </tr>\n",
       "    <tr>\n",
       "      <td>1</td>\n",
       "      <td>2016-01-15 01:00:00</td>\n",
       "      <td>6.029369</td>\n",
       "      <td>9.968944</td>\n",
       "      <td>5.257781</td>\n",
       "      <td>42.701629</td>\n",
       "      <td>69.266198</td>\n",
       "      <td>10.462676</td>\n",
       "      <td>0.927452</td>\n",
       "      <td>16.634514</td>\n",
       "      <td>2.224930</td>\n",
       "      <td>...</td>\n",
       "      <td>13.992281</td>\n",
       "      <td>-505.503262</td>\n",
       "      <td>11.950531</td>\n",
       "      <td>-501.331529</td>\n",
       "      <td>10.039245</td>\n",
       "      <td>-500.169983</td>\n",
       "      <td>7.984757</td>\n",
       "      <td>-500.582168</td>\n",
       "      <td>13.998353</td>\n",
       "      <td>-599.787184</td>\n",
       "    </tr>\n",
       "    <tr>\n",
       "      <td>2</td>\n",
       "      <td>2016-01-15 02:00:00</td>\n",
       "      <td>6.055926</td>\n",
       "      <td>10.213995</td>\n",
       "      <td>5.383759</td>\n",
       "      <td>42.657501</td>\n",
       "      <td>68.116445</td>\n",
       "      <td>10.507046</td>\n",
       "      <td>0.953716</td>\n",
       "      <td>16.208849</td>\n",
       "      <td>2.257889</td>\n",
       "      <td>...</td>\n",
       "      <td>14.015015</td>\n",
       "      <td>-502.520901</td>\n",
       "      <td>11.912783</td>\n",
       "      <td>-501.133383</td>\n",
       "      <td>10.070913</td>\n",
       "      <td>-500.129135</td>\n",
       "      <td>8.013877</td>\n",
       "      <td>-500.517572</td>\n",
       "      <td>14.028663</td>\n",
       "      <td>-601.427363</td>\n",
       "    </tr>\n",
       "    <tr>\n",
       "      <td>3</td>\n",
       "      <td>2016-01-15 03:00:00</td>\n",
       "      <td>6.047977</td>\n",
       "      <td>9.977019</td>\n",
       "      <td>4.858634</td>\n",
       "      <td>42.689819</td>\n",
       "      <td>68.347543</td>\n",
       "      <td>10.422762</td>\n",
       "      <td>0.883763</td>\n",
       "      <td>16.532835</td>\n",
       "      <td>2.146849</td>\n",
       "      <td>...</td>\n",
       "      <td>14.036510</td>\n",
       "      <td>-500.857308</td>\n",
       "      <td>11.999550</td>\n",
       "      <td>-501.193686</td>\n",
       "      <td>9.970366</td>\n",
       "      <td>-499.201640</td>\n",
       "      <td>7.977324</td>\n",
       "      <td>-500.255908</td>\n",
       "      <td>14.005551</td>\n",
       "      <td>-599.996129</td>\n",
       "    </tr>\n",
       "    <tr>\n",
       "      <td>4</td>\n",
       "      <td>2016-01-15 04:00:00</td>\n",
       "      <td>6.148599</td>\n",
       "      <td>10.142511</td>\n",
       "      <td>4.939416</td>\n",
       "      <td>42.774141</td>\n",
       "      <td>66.927016</td>\n",
       "      <td>10.360302</td>\n",
       "      <td>0.792826</td>\n",
       "      <td>16.525686</td>\n",
       "      <td>2.055292</td>\n",
       "      <td>...</td>\n",
       "      <td>14.027298</td>\n",
       "      <td>-499.838632</td>\n",
       "      <td>11.953070</td>\n",
       "      <td>-501.053894</td>\n",
       "      <td>9.925709</td>\n",
       "      <td>-501.686727</td>\n",
       "      <td>7.894242</td>\n",
       "      <td>-500.356035</td>\n",
       "      <td>13.996647</td>\n",
       "      <td>-601.496691</td>\n",
       "    </tr>\n",
       "  </tbody>\n",
       "</table>\n",
       "<p>5 rows × 87 columns</p>\n",
       "</div>"
      ],
      "text/plain": [
       "                  date  final.output.concentrate_ag  \\\n",
       "0  2016-01-15 00:00:00                     6.055403   \n",
       "1  2016-01-15 01:00:00                     6.029369   \n",
       "2  2016-01-15 02:00:00                     6.055926   \n",
       "3  2016-01-15 03:00:00                     6.047977   \n",
       "4  2016-01-15 04:00:00                     6.148599   \n",
       "\n",
       "   final.output.concentrate_pb  final.output.concentrate_sol  \\\n",
       "0                     9.889648                      5.507324   \n",
       "1                     9.968944                      5.257781   \n",
       "2                    10.213995                      5.383759   \n",
       "3                     9.977019                      4.858634   \n",
       "4                    10.142511                      4.939416   \n",
       "\n",
       "   final.output.concentrate_au  final.output.recovery  final.output.tail_ag  \\\n",
       "0                    42.192020              70.541216             10.411962   \n",
       "1                    42.701629              69.266198             10.462676   \n",
       "2                    42.657501              68.116445             10.507046   \n",
       "3                    42.689819              68.347543             10.422762   \n",
       "4                    42.774141              66.927016             10.360302   \n",
       "\n",
       "   final.output.tail_pb  final.output.tail_sol  final.output.tail_au  ...  \\\n",
       "0              0.895447              16.904297              2.143149  ...   \n",
       "1              0.927452              16.634514              2.224930  ...   \n",
       "2              0.953716              16.208849              2.257889  ...   \n",
       "3              0.883763              16.532835              2.146849  ...   \n",
       "4              0.792826              16.525686              2.055292  ...   \n",
       "\n",
       "   secondary_cleaner.state.floatbank4_a_air  \\\n",
       "0                                 14.016835   \n",
       "1                                 13.992281   \n",
       "2                                 14.015015   \n",
       "3                                 14.036510   \n",
       "4                                 14.027298   \n",
       "\n",
       "   secondary_cleaner.state.floatbank4_a_level  \\\n",
       "0                                 -502.488007   \n",
       "1                                 -505.503262   \n",
       "2                                 -502.520901   \n",
       "3                                 -500.857308   \n",
       "4                                 -499.838632   \n",
       "\n",
       "   secondary_cleaner.state.floatbank4_b_air  \\\n",
       "0                                 12.099931   \n",
       "1                                 11.950531   \n",
       "2                                 11.912783   \n",
       "3                                 11.999550   \n",
       "4                                 11.953070   \n",
       "\n",
       "   secondary_cleaner.state.floatbank4_b_level  \\\n",
       "0                                 -504.715942   \n",
       "1                                 -501.331529   \n",
       "2                                 -501.133383   \n",
       "3                                 -501.193686   \n",
       "4                                 -501.053894   \n",
       "\n",
       "   secondary_cleaner.state.floatbank5_a_air  \\\n",
       "0                                  9.925633   \n",
       "1                                 10.039245   \n",
       "2                                 10.070913   \n",
       "3                                  9.970366   \n",
       "4                                  9.925709   \n",
       "\n",
       "   secondary_cleaner.state.floatbank5_a_level  \\\n",
       "0                                 -498.310211   \n",
       "1                                 -500.169983   \n",
       "2                                 -500.129135   \n",
       "3                                 -499.201640   \n",
       "4                                 -501.686727   \n",
       "\n",
       "   secondary_cleaner.state.floatbank5_b_air  \\\n",
       "0                                  8.079666   \n",
       "1                                  7.984757   \n",
       "2                                  8.013877   \n",
       "3                                  7.977324   \n",
       "4                                  7.894242   \n",
       "\n",
       "   secondary_cleaner.state.floatbank5_b_level  \\\n",
       "0                                 -500.470978   \n",
       "1                                 -500.582168   \n",
       "2                                 -500.517572   \n",
       "3                                 -500.255908   \n",
       "4                                 -500.356035   \n",
       "\n",
       "   secondary_cleaner.state.floatbank6_a_air  \\\n",
       "0                                 14.151341   \n",
       "1                                 13.998353   \n",
       "2                                 14.028663   \n",
       "3                                 14.005551   \n",
       "4                                 13.996647   \n",
       "\n",
       "   secondary_cleaner.state.floatbank6_a_level  \n",
       "0                                 -605.841980  \n",
       "1                                 -599.787184  \n",
       "2                                 -601.427363  \n",
       "3                                 -599.996129  \n",
       "4                                 -601.496691  \n",
       "\n",
       "[5 rows x 87 columns]"
      ]
     },
     "metadata": {},
     "execution_count": 3
    }
   ],
   "metadata": {}
  },
  {
   "cell_type": "markdown",
   "source": [
    "Глянем на общую информацию датасета целиком."
   ],
   "metadata": {}
  },
  {
   "cell_type": "code",
   "execution_count": 4,
   "source": [
    "dates = data_full, data_train, data_test"
   ],
   "outputs": [],
   "metadata": {}
  },
  {
   "cell_type": "code",
   "execution_count": 5,
   "source": [
    "for i in range(len(dates)):\n",
    "    display(dates[i].info(), '-'*80)"
   ],
   "outputs": [
    {
     "output_type": "stream",
     "name": "stdout",
     "text": [
      "<class 'pandas.core.frame.DataFrame'>\n",
      "RangeIndex: 19439 entries, 0 to 19438\n",
      "Data columns (total 87 columns):\n",
      "date                                                  19439 non-null object\n",
      "final.output.concentrate_ag                           19438 non-null float64\n",
      "final.output.concentrate_pb                           19438 non-null float64\n",
      "final.output.concentrate_sol                          19228 non-null float64\n",
      "final.output.concentrate_au                           19439 non-null float64\n",
      "final.output.recovery                                 19439 non-null float64\n",
      "final.output.tail_ag                                  19438 non-null float64\n",
      "final.output.tail_pb                                  19338 non-null float64\n",
      "final.output.tail_sol                                 19433 non-null float64\n",
      "final.output.tail_au                                  19439 non-null float64\n",
      "primary_cleaner.input.sulfate                         19415 non-null float64\n",
      "primary_cleaner.input.depressant                      19402 non-null float64\n",
      "primary_cleaner.input.feed_size                       19439 non-null float64\n",
      "primary_cleaner.input.xanthate                        19335 non-null float64\n",
      "primary_cleaner.output.concentrate_ag                 19439 non-null float64\n",
      "primary_cleaner.output.concentrate_pb                 19323 non-null float64\n",
      "primary_cleaner.output.concentrate_sol                19069 non-null float64\n",
      "primary_cleaner.output.concentrate_au                 19439 non-null float64\n",
      "primary_cleaner.output.tail_ag                        19435 non-null float64\n",
      "primary_cleaner.output.tail_pb                        19418 non-null float64\n",
      "primary_cleaner.output.tail_sol                       19377 non-null float64\n",
      "primary_cleaner.output.tail_au                        19439 non-null float64\n",
      "primary_cleaner.state.floatbank8_a_air                19435 non-null float64\n",
      "primary_cleaner.state.floatbank8_a_level              19438 non-null float64\n",
      "primary_cleaner.state.floatbank8_b_air                19435 non-null float64\n",
      "primary_cleaner.state.floatbank8_b_level              19438 non-null float64\n",
      "primary_cleaner.state.floatbank8_c_air                19437 non-null float64\n",
      "primary_cleaner.state.floatbank8_c_level              19438 non-null float64\n",
      "primary_cleaner.state.floatbank8_d_air                19436 non-null float64\n",
      "primary_cleaner.state.floatbank8_d_level              19438 non-null float64\n",
      "rougher.calculation.sulfate_to_au_concentrate         19437 non-null float64\n",
      "rougher.calculation.floatbank10_sulfate_to_au_feed    19437 non-null float64\n",
      "rougher.calculation.floatbank11_sulfate_to_au_feed    19437 non-null float64\n",
      "rougher.calculation.au_pb_ratio                       19439 non-null float64\n",
      "rougher.input.feed_ag                                 19439 non-null float64\n",
      "rougher.input.feed_pb                                 19339 non-null float64\n",
      "rougher.input.feed_rate                               19428 non-null float64\n",
      "rougher.input.feed_size                               19294 non-null float64\n",
      "rougher.input.feed_sol                                19340 non-null float64\n",
      "rougher.input.feed_au                                 19439 non-null float64\n",
      "rougher.input.floatbank10_sulfate                     19405 non-null float64\n",
      "rougher.input.floatbank10_xanthate                    19431 non-null float64\n",
      "rougher.input.floatbank11_sulfate                     19395 non-null float64\n",
      "rougher.input.floatbank11_xanthate                    18986 non-null float64\n",
      "rougher.output.concentrate_ag                         19439 non-null float64\n",
      "rougher.output.concentrate_pb                         19439 non-null float64\n",
      "rougher.output.concentrate_sol                        19416 non-null float64\n",
      "rougher.output.concentrate_au                         19439 non-null float64\n",
      "rougher.output.recovery                               19439 non-null float64\n",
      "rougher.output.tail_ag                                19438 non-null float64\n",
      "rougher.output.tail_pb                                19439 non-null float64\n",
      "rougher.output.tail_sol                               19439 non-null float64\n",
      "rougher.output.tail_au                                19439 non-null float64\n",
      "rougher.state.floatbank10_a_air                       19438 non-null float64\n",
      "rougher.state.floatbank10_a_level                     19438 non-null float64\n",
      "rougher.state.floatbank10_b_air                       19438 non-null float64\n",
      "rougher.state.floatbank10_b_level                     19438 non-null float64\n",
      "rougher.state.floatbank10_c_air                       19438 non-null float64\n",
      "rougher.state.floatbank10_c_level                     19438 non-null float64\n",
      "rougher.state.floatbank10_d_air                       19439 non-null float64\n",
      "rougher.state.floatbank10_d_level                     19439 non-null float64\n",
      "rougher.state.floatbank10_e_air                       19003 non-null float64\n",
      "rougher.state.floatbank10_e_level                     19439 non-null float64\n",
      "rougher.state.floatbank10_f_air                       19439 non-null float64\n",
      "rougher.state.floatbank10_f_level                     19439 non-null float64\n",
      "secondary_cleaner.output.tail_ag                      19437 non-null float64\n",
      "secondary_cleaner.output.tail_pb                      19427 non-null float64\n",
      "secondary_cleaner.output.tail_sol                     17691 non-null float64\n",
      "secondary_cleaner.output.tail_au                      19439 non-null float64\n",
      "secondary_cleaner.state.floatbank2_a_air              19219 non-null float64\n",
      "secondary_cleaner.state.floatbank2_a_level            19438 non-null float64\n",
      "secondary_cleaner.state.floatbank2_b_air              19416 non-null float64\n",
      "secondary_cleaner.state.floatbank2_b_level            19438 non-null float64\n",
      "secondary_cleaner.state.floatbank3_a_air              19426 non-null float64\n",
      "secondary_cleaner.state.floatbank3_a_level            19438 non-null float64\n",
      "secondary_cleaner.state.floatbank3_b_air              19438 non-null float64\n",
      "secondary_cleaner.state.floatbank3_b_level            19438 non-null float64\n",
      "secondary_cleaner.state.floatbank4_a_air              19433 non-null float64\n",
      "secondary_cleaner.state.floatbank4_a_level            19438 non-null float64\n",
      "secondary_cleaner.state.floatbank4_b_air              19438 non-null float64\n",
      "secondary_cleaner.state.floatbank4_b_level            19438 non-null float64\n",
      "secondary_cleaner.state.floatbank5_a_air              19438 non-null float64\n",
      "secondary_cleaner.state.floatbank5_a_level            19438 non-null float64\n",
      "secondary_cleaner.state.floatbank5_b_air              19438 non-null float64\n",
      "secondary_cleaner.state.floatbank5_b_level            19438 non-null float64\n",
      "secondary_cleaner.state.floatbank6_a_air              19437 non-null float64\n",
      "secondary_cleaner.state.floatbank6_a_level            19438 non-null float64\n",
      "dtypes: float64(86), object(1)\n",
      "memory usage: 12.9+ MB\n"
     ]
    },
    {
     "output_type": "display_data",
     "data": {
      "text/plain": [
       "None"
      ]
     },
     "metadata": {}
    },
    {
     "output_type": "display_data",
     "data": {
      "text/plain": [
       "'--------------------------------------------------------------------------------'"
      ]
     },
     "metadata": {}
    },
    {
     "output_type": "stream",
     "name": "stdout",
     "text": [
      "<class 'pandas.core.frame.DataFrame'>\n",
      "RangeIndex: 14149 entries, 0 to 14148\n",
      "Data columns (total 87 columns):\n",
      "date                                                  14149 non-null object\n",
      "final.output.concentrate_ag                           14148 non-null float64\n",
      "final.output.concentrate_pb                           14148 non-null float64\n",
      "final.output.concentrate_sol                          13938 non-null float64\n",
      "final.output.concentrate_au                           14149 non-null float64\n",
      "final.output.recovery                                 14149 non-null float64\n",
      "final.output.tail_ag                                  14149 non-null float64\n",
      "final.output.tail_pb                                  14049 non-null float64\n",
      "final.output.tail_sol                                 14144 non-null float64\n",
      "final.output.tail_au                                  14149 non-null float64\n",
      "primary_cleaner.input.sulfate                         14129 non-null float64\n",
      "primary_cleaner.input.depressant                      14117 non-null float64\n",
      "primary_cleaner.input.feed_size                       14149 non-null float64\n",
      "primary_cleaner.input.xanthate                        14049 non-null float64\n",
      "primary_cleaner.output.concentrate_ag                 14149 non-null float64\n",
      "primary_cleaner.output.concentrate_pb                 14063 non-null float64\n",
      "primary_cleaner.output.concentrate_sol                13863 non-null float64\n",
      "primary_cleaner.output.concentrate_au                 14149 non-null float64\n",
      "primary_cleaner.output.tail_ag                        14148 non-null float64\n",
      "primary_cleaner.output.tail_pb                        14134 non-null float64\n",
      "primary_cleaner.output.tail_sol                       14103 non-null float64\n",
      "primary_cleaner.output.tail_au                        14149 non-null float64\n",
      "primary_cleaner.state.floatbank8_a_air                14145 non-null float64\n",
      "primary_cleaner.state.floatbank8_a_level              14148 non-null float64\n",
      "primary_cleaner.state.floatbank8_b_air                14145 non-null float64\n",
      "primary_cleaner.state.floatbank8_b_level              14148 non-null float64\n",
      "primary_cleaner.state.floatbank8_c_air                14147 non-null float64\n",
      "primary_cleaner.state.floatbank8_c_level              14148 non-null float64\n",
      "primary_cleaner.state.floatbank8_d_air                14146 non-null float64\n",
      "primary_cleaner.state.floatbank8_d_level              14148 non-null float64\n",
      "rougher.calculation.sulfate_to_au_concentrate         14148 non-null float64\n",
      "rougher.calculation.floatbank10_sulfate_to_au_feed    14148 non-null float64\n",
      "rougher.calculation.floatbank11_sulfate_to_au_feed    14148 non-null float64\n",
      "rougher.calculation.au_pb_ratio                       14149 non-null float64\n",
      "rougher.input.feed_ag                                 14149 non-null float64\n",
      "rougher.input.feed_pb                                 14049 non-null float64\n",
      "rougher.input.feed_rate                               14141 non-null float64\n",
      "rougher.input.feed_size                               14005 non-null float64\n",
      "rougher.input.feed_sol                                14071 non-null float64\n",
      "rougher.input.feed_au                                 14149 non-null float64\n",
      "rougher.input.floatbank10_sulfate                     14120 non-null float64\n",
      "rougher.input.floatbank10_xanthate                    14141 non-null float64\n",
      "rougher.input.floatbank11_sulfate                     14113 non-null float64\n",
      "rougher.input.floatbank11_xanthate                    13721 non-null float64\n",
      "rougher.output.concentrate_ag                         14149 non-null float64\n",
      "rougher.output.concentrate_pb                         14149 non-null float64\n",
      "rougher.output.concentrate_sol                        14127 non-null float64\n",
      "rougher.output.concentrate_au                         14149 non-null float64\n",
      "rougher.output.recovery                               14149 non-null float64\n",
      "rougher.output.tail_ag                                14148 non-null float64\n",
      "rougher.output.tail_pb                                14149 non-null float64\n",
      "rougher.output.tail_sol                               14149 non-null float64\n",
      "rougher.output.tail_au                                14149 non-null float64\n",
      "rougher.state.floatbank10_a_air                       14148 non-null float64\n",
      "rougher.state.floatbank10_a_level                     14148 non-null float64\n",
      "rougher.state.floatbank10_b_air                       14148 non-null float64\n",
      "rougher.state.floatbank10_b_level                     14148 non-null float64\n",
      "rougher.state.floatbank10_c_air                       14148 non-null float64\n",
      "rougher.state.floatbank10_c_level                     14148 non-null float64\n",
      "rougher.state.floatbank10_d_air                       14149 non-null float64\n",
      "rougher.state.floatbank10_d_level                     14149 non-null float64\n",
      "rougher.state.floatbank10_e_air                       13713 non-null float64\n",
      "rougher.state.floatbank10_e_level                     14149 non-null float64\n",
      "rougher.state.floatbank10_f_air                       14149 non-null float64\n",
      "rougher.state.floatbank10_f_level                     14149 non-null float64\n",
      "secondary_cleaner.output.tail_ag                      14147 non-null float64\n",
      "secondary_cleaner.output.tail_pb                      14139 non-null float64\n",
      "secondary_cleaner.output.tail_sol                     12544 non-null float64\n",
      "secondary_cleaner.output.tail_au                      14149 non-null float64\n",
      "secondary_cleaner.state.floatbank2_a_air              13932 non-null float64\n",
      "secondary_cleaner.state.floatbank2_a_level            14148 non-null float64\n",
      "secondary_cleaner.state.floatbank2_b_air              14128 non-null float64\n",
      "secondary_cleaner.state.floatbank2_b_level            14148 non-null float64\n",
      "secondary_cleaner.state.floatbank3_a_air              14145 non-null float64\n",
      "secondary_cleaner.state.floatbank3_a_level            14148 non-null float64\n",
      "secondary_cleaner.state.floatbank3_b_air              14148 non-null float64\n",
      "secondary_cleaner.state.floatbank3_b_level            14148 non-null float64\n",
      "secondary_cleaner.state.floatbank4_a_air              14143 non-null float64\n",
      "secondary_cleaner.state.floatbank4_a_level            14148 non-null float64\n",
      "secondary_cleaner.state.floatbank4_b_air              14148 non-null float64\n",
      "secondary_cleaner.state.floatbank4_b_level            14148 non-null float64\n",
      "secondary_cleaner.state.floatbank5_a_air              14148 non-null float64\n",
      "secondary_cleaner.state.floatbank5_a_level            14148 non-null float64\n",
      "secondary_cleaner.state.floatbank5_b_air              14148 non-null float64\n",
      "secondary_cleaner.state.floatbank5_b_level            14148 non-null float64\n",
      "secondary_cleaner.state.floatbank6_a_air              14147 non-null float64\n",
      "secondary_cleaner.state.floatbank6_a_level            14148 non-null float64\n",
      "dtypes: float64(86), object(1)\n",
      "memory usage: 9.4+ MB\n"
     ]
    },
    {
     "output_type": "display_data",
     "data": {
      "text/plain": [
       "None"
      ]
     },
     "metadata": {}
    },
    {
     "output_type": "display_data",
     "data": {
      "text/plain": [
       "'--------------------------------------------------------------------------------'"
      ]
     },
     "metadata": {}
    },
    {
     "output_type": "stream",
     "name": "stdout",
     "text": [
      "<class 'pandas.core.frame.DataFrame'>\n",
      "RangeIndex: 5290 entries, 0 to 5289\n",
      "Data columns (total 53 columns):\n",
      "date                                          5290 non-null object\n",
      "primary_cleaner.input.sulfate                 5286 non-null float64\n",
      "primary_cleaner.input.depressant              5285 non-null float64\n",
      "primary_cleaner.input.feed_size               5290 non-null float64\n",
      "primary_cleaner.input.xanthate                5286 non-null float64\n",
      "primary_cleaner.state.floatbank8_a_air        5290 non-null float64\n",
      "primary_cleaner.state.floatbank8_a_level      5290 non-null float64\n",
      "primary_cleaner.state.floatbank8_b_air        5290 non-null float64\n",
      "primary_cleaner.state.floatbank8_b_level      5290 non-null float64\n",
      "primary_cleaner.state.floatbank8_c_air        5290 non-null float64\n",
      "primary_cleaner.state.floatbank8_c_level      5290 non-null float64\n",
      "primary_cleaner.state.floatbank8_d_air        5290 non-null float64\n",
      "primary_cleaner.state.floatbank8_d_level      5290 non-null float64\n",
      "rougher.input.feed_ag                         5290 non-null float64\n",
      "rougher.input.feed_pb                         5290 non-null float64\n",
      "rougher.input.feed_rate                       5287 non-null float64\n",
      "rougher.input.feed_size                       5289 non-null float64\n",
      "rougher.input.feed_sol                        5269 non-null float64\n",
      "rougher.input.feed_au                         5290 non-null float64\n",
      "rougher.input.floatbank10_sulfate             5285 non-null float64\n",
      "rougher.input.floatbank10_xanthate            5290 non-null float64\n",
      "rougher.input.floatbank11_sulfate             5282 non-null float64\n",
      "rougher.input.floatbank11_xanthate            5265 non-null float64\n",
      "rougher.state.floatbank10_a_air               5290 non-null float64\n",
      "rougher.state.floatbank10_a_level             5290 non-null float64\n",
      "rougher.state.floatbank10_b_air               5290 non-null float64\n",
      "rougher.state.floatbank10_b_level             5290 non-null float64\n",
      "rougher.state.floatbank10_c_air               5290 non-null float64\n",
      "rougher.state.floatbank10_c_level             5290 non-null float64\n",
      "rougher.state.floatbank10_d_air               5290 non-null float64\n",
      "rougher.state.floatbank10_d_level             5290 non-null float64\n",
      "rougher.state.floatbank10_e_air               5290 non-null float64\n",
      "rougher.state.floatbank10_e_level             5290 non-null float64\n",
      "rougher.state.floatbank10_f_air               5290 non-null float64\n",
      "rougher.state.floatbank10_f_level             5290 non-null float64\n",
      "secondary_cleaner.state.floatbank2_a_air      5287 non-null float64\n",
      "secondary_cleaner.state.floatbank2_a_level    5290 non-null float64\n",
      "secondary_cleaner.state.floatbank2_b_air      5288 non-null float64\n",
      "secondary_cleaner.state.floatbank2_b_level    5290 non-null float64\n",
      "secondary_cleaner.state.floatbank3_a_air      5281 non-null float64\n",
      "secondary_cleaner.state.floatbank3_a_level    5290 non-null float64\n",
      "secondary_cleaner.state.floatbank3_b_air      5290 non-null float64\n",
      "secondary_cleaner.state.floatbank3_b_level    5290 non-null float64\n",
      "secondary_cleaner.state.floatbank4_a_air      5290 non-null float64\n",
      "secondary_cleaner.state.floatbank4_a_level    5290 non-null float64\n",
      "secondary_cleaner.state.floatbank4_b_air      5290 non-null float64\n",
      "secondary_cleaner.state.floatbank4_b_level    5290 non-null float64\n",
      "secondary_cleaner.state.floatbank5_a_air      5290 non-null float64\n",
      "secondary_cleaner.state.floatbank5_a_level    5290 non-null float64\n",
      "secondary_cleaner.state.floatbank5_b_air      5290 non-null float64\n",
      "secondary_cleaner.state.floatbank5_b_level    5290 non-null float64\n",
      "secondary_cleaner.state.floatbank6_a_air      5290 non-null float64\n",
      "secondary_cleaner.state.floatbank6_a_level    5290 non-null float64\n",
      "dtypes: float64(52), object(1)\n",
      "memory usage: 2.1+ MB\n"
     ]
    },
    {
     "output_type": "display_data",
     "data": {
      "text/plain": [
       "None"
      ]
     },
     "metadata": {}
    },
    {
     "output_type": "display_data",
     "data": {
      "text/plain": [
       "'--------------------------------------------------------------------------------'"
      ]
     },
     "metadata": {}
    }
   ],
   "metadata": {
    "scrolled": false
   }
  },
  {
   "cell_type": "markdown",
   "source": [
    "Мы посмотрели общую инфу о датасете и видим, что типы данных в них правильные (числовые) за исключением столбца \"date\". Исправим тип данный для этого столбца."
   ],
   "metadata": {}
  },
  {
   "cell_type": "markdown",
   "source": [
    "Видим, что столбец \"date\" имеет неправильный тип данных. Переведем в правильный."
   ],
   "metadata": {}
  },
  {
   "cell_type": "code",
   "execution_count": 6,
   "source": [
    "for i in range(len(dates)):\n",
    "    dates[i]['date'] = pd.to_datetime(dates[i]['date'], format='%Y-%m-%d %H:%M:%S')"
   ],
   "outputs": [],
   "metadata": {}
  },
  {
   "cell_type": "markdown",
   "source": [
    "У нас есть столбец \"rougher.output.recovery\" который показывает эфективность обогащения. Для начала проверим правильность его подсчетов тем самым поймем что из чего складывается. Сравним наши подсчеты с уже существующим столбцом, проверим качество на метрике MAE."
   ],
   "metadata": {}
  },
  {
   "cell_type": "markdown",
   "source": [
    "Напишем функция которая будет искать нужные совпадения букв в датасете нужной нам колонки."
   ],
   "metadata": {}
  },
  {
   "cell_type": "code",
   "execution_count": 7,
   "source": [
    "def search(word1, word2):\n",
    "    for i in data_full.columns:\n",
    "        if word1 in i and word2 in i:\n",
    "            print(i)"
   ],
   "outputs": [],
   "metadata": {}
  },
  {
   "cell_type": "code",
   "execution_count": 8,
   "source": [
    "search('rougher', 'au')"
   ],
   "outputs": [
    {
     "output_type": "stream",
     "name": "stdout",
     "text": [
      "rougher.calculation.sulfate_to_au_concentrate\n",
      "rougher.calculation.floatbank10_sulfate_to_au_feed\n",
      "rougher.calculation.floatbank11_sulfate_to_au_feed\n",
      "rougher.calculation.au_pb_ratio\n",
      "rougher.input.feed_au\n",
      "rougher.output.concentrate_au\n",
      "rougher.output.tail_au\n"
     ]
    }
   ],
   "metadata": {}
  },
  {
   "cell_type": "code",
   "execution_count": 9,
   "source": [
    "search('out', 'recovery')"
   ],
   "outputs": [
    {
     "output_type": "stream",
     "name": "stdout",
     "text": [
      "final.output.recovery\n",
      "rougher.output.recovery\n"
     ]
    }
   ],
   "metadata": {}
  },
  {
   "cell_type": "code",
   "execution_count": 10,
   "source": [
    "C = data_train['rougher.output.concentrate_au']\n",
    "F = data_train['rougher.input.feed_au']\n",
    "T = data_train['rougher.output.tail_au']\n",
    "R = data_train['rougher.output.recovery']"
   ],
   "outputs": [],
   "metadata": {}
  },
  {
   "cell_type": "code",
   "execution_count": 11,
   "source": [
    "df = pd.DataFrame({'C': C,\n",
    "                   'F': F,\n",
    "                   'T': T,\n",
    "                   'R_old': R\n",
    "})"
   ],
   "outputs": [],
   "metadata": {}
  },
  {
   "cell_type": "code",
   "execution_count": 12,
   "source": [
    "df['R_new'] = ((df['C'] * (df['F'] - df['T'])) / (df['F'] * (df['C'] - df['T']))) * 100"
   ],
   "outputs": [],
   "metadata": {}
  },
  {
   "cell_type": "code",
   "execution_count": 13,
   "source": [
    "df"
   ],
   "outputs": [
    {
     "output_type": "execute_result",
     "data": {
      "text/html": [
       "<div>\n",
       "<style scoped>\n",
       "    .dataframe tbody tr th:only-of-type {\n",
       "        vertical-align: middle;\n",
       "    }\n",
       "\n",
       "    .dataframe tbody tr th {\n",
       "        vertical-align: top;\n",
       "    }\n",
       "\n",
       "    .dataframe thead th {\n",
       "        text-align: right;\n",
       "    }\n",
       "</style>\n",
       "<table border=\"1\" class=\"dataframe\">\n",
       "  <thead>\n",
       "    <tr style=\"text-align: right;\">\n",
       "      <th></th>\n",
       "      <th>C</th>\n",
       "      <th>F</th>\n",
       "      <th>T</th>\n",
       "      <th>R_old</th>\n",
       "      <th>R_new</th>\n",
       "    </tr>\n",
       "  </thead>\n",
       "  <tbody>\n",
       "    <tr>\n",
       "      <td>0</td>\n",
       "      <td>19.793808</td>\n",
       "      <td>6.486150</td>\n",
       "      <td>1.170244</td>\n",
       "      <td>87.107763</td>\n",
       "      <td>87.107763</td>\n",
       "    </tr>\n",
       "    <tr>\n",
       "      <td>1</td>\n",
       "      <td>20.050975</td>\n",
       "      <td>6.478583</td>\n",
       "      <td>1.184827</td>\n",
       "      <td>86.843261</td>\n",
       "      <td>86.843261</td>\n",
       "    </tr>\n",
       "    <tr>\n",
       "      <td>2</td>\n",
       "      <td>19.737170</td>\n",
       "      <td>6.362222</td>\n",
       "      <td>1.162562</td>\n",
       "      <td>86.842308</td>\n",
       "      <td>86.842308</td>\n",
       "    </tr>\n",
       "    <tr>\n",
       "      <td>3</td>\n",
       "      <td>19.320810</td>\n",
       "      <td>6.118189</td>\n",
       "      <td>1.079755</td>\n",
       "      <td>87.226430</td>\n",
       "      <td>87.226430</td>\n",
       "    </tr>\n",
       "    <tr>\n",
       "      <td>4</td>\n",
       "      <td>19.216101</td>\n",
       "      <td>5.663707</td>\n",
       "      <td>1.012642</td>\n",
       "      <td>86.688794</td>\n",
       "      <td>86.688794</td>\n",
       "    </tr>\n",
       "    <tr>\n",
       "      <td>...</td>\n",
       "      <td>...</td>\n",
       "      <td>...</td>\n",
       "      <td>...</td>\n",
       "      <td>...</td>\n",
       "      <td>...</td>\n",
       "    </tr>\n",
       "    <tr>\n",
       "      <td>14144</td>\n",
       "      <td>18.603550</td>\n",
       "      <td>5.335862</td>\n",
       "      <td>0.748633</td>\n",
       "      <td>89.574376</td>\n",
       "      <td>89.574376</td>\n",
       "    </tr>\n",
       "    <tr>\n",
       "      <td>14145</td>\n",
       "      <td>18.441436</td>\n",
       "      <td>4.838619</td>\n",
       "      <td>0.771582</td>\n",
       "      <td>87.724007</td>\n",
       "      <td>87.724007</td>\n",
       "    </tr>\n",
       "    <tr>\n",
       "      <td>14146</td>\n",
       "      <td>15.111231</td>\n",
       "      <td>4.525061</td>\n",
       "      <td>0.685059</td>\n",
       "      <td>88.890579</td>\n",
       "      <td>88.890579</td>\n",
       "    </tr>\n",
       "    <tr>\n",
       "      <td>14147</td>\n",
       "      <td>17.834772</td>\n",
       "      <td>4.362781</td>\n",
       "      <td>0.567130</td>\n",
       "      <td>89.858126</td>\n",
       "      <td>89.858126</td>\n",
       "    </tr>\n",
       "    <tr>\n",
       "      <td>14148</td>\n",
       "      <td>17.804134</td>\n",
       "      <td>4.365491</td>\n",
       "      <td>0.586439</td>\n",
       "      <td>89.514960</td>\n",
       "      <td>89.514960</td>\n",
       "    </tr>\n",
       "  </tbody>\n",
       "</table>\n",
       "<p>14149 rows × 5 columns</p>\n",
       "</div>"
      ],
      "text/plain": [
       "               C         F         T      R_old      R_new\n",
       "0      19.793808  6.486150  1.170244  87.107763  87.107763\n",
       "1      20.050975  6.478583  1.184827  86.843261  86.843261\n",
       "2      19.737170  6.362222  1.162562  86.842308  86.842308\n",
       "3      19.320810  6.118189  1.079755  87.226430  87.226430\n",
       "4      19.216101  5.663707  1.012642  86.688794  86.688794\n",
       "...          ...       ...       ...        ...        ...\n",
       "14144  18.603550  5.335862  0.748633  89.574376  89.574376\n",
       "14145  18.441436  4.838619  0.771582  87.724007  87.724007\n",
       "14146  15.111231  4.525061  0.685059  88.890579  88.890579\n",
       "14147  17.834772  4.362781  0.567130  89.858126  89.858126\n",
       "14148  17.804134  4.365491  0.586439  89.514960  89.514960\n",
       "\n",
       "[14149 rows x 5 columns]"
      ]
     },
     "metadata": {},
     "execution_count": 13
    }
   ],
   "metadata": {}
  },
  {
   "cell_type": "code",
   "execution_count": 14,
   "source": [
    "mae = mean_absolute_error(df['R_old'], df['R_new'])\n",
    "print('MAE между нашими расчетами и значением признака =', mae)"
   ],
   "outputs": [
    {
     "output_type": "stream",
     "name": "stdout",
     "text": [
      "MAE между нашими расчетами и значением признака = 9.682896147825551e-15\n"
     ]
    }
   ],
   "metadata": {}
  },
  {
   "cell_type": "markdown",
   "source": [
    "Это значит, что в среднем мы ошибаемся на 9.68*10^(-15) единицы. Получается очень маленькое число 0.000... . Мы получили числа которые оказались практически равны подсчетам по оригинальному столбцу. Значит мы все сделали верно."
   ],
   "metadata": {}
  },
  {
   "cell_type": "markdown",
   "source": [
    "Найдем признаки которых нет в тестовой выборке."
   ],
   "metadata": {}
  },
  {
   "cell_type": "code",
   "execution_count": 15,
   "source": [
    "for i in data_train.columns:\n",
    "    if i not in data_test.columns:\n",
    "        print(i)"
   ],
   "outputs": [
    {
     "output_type": "stream",
     "name": "stdout",
     "text": [
      "final.output.concentrate_ag\n",
      "final.output.concentrate_pb\n",
      "final.output.concentrate_sol\n",
      "final.output.concentrate_au\n",
      "final.output.recovery\n",
      "final.output.tail_ag\n",
      "final.output.tail_pb\n",
      "final.output.tail_sol\n",
      "final.output.tail_au\n",
      "primary_cleaner.output.concentrate_ag\n",
      "primary_cleaner.output.concentrate_pb\n",
      "primary_cleaner.output.concentrate_sol\n",
      "primary_cleaner.output.concentrate_au\n",
      "primary_cleaner.output.tail_ag\n",
      "primary_cleaner.output.tail_pb\n",
      "primary_cleaner.output.tail_sol\n",
      "primary_cleaner.output.tail_au\n",
      "rougher.calculation.sulfate_to_au_concentrate\n",
      "rougher.calculation.floatbank10_sulfate_to_au_feed\n",
      "rougher.calculation.floatbank11_sulfate_to_au_feed\n",
      "rougher.calculation.au_pb_ratio\n",
      "rougher.output.concentrate_ag\n",
      "rougher.output.concentrate_pb\n",
      "rougher.output.concentrate_sol\n",
      "rougher.output.concentrate_au\n",
      "rougher.output.recovery\n",
      "rougher.output.tail_ag\n",
      "rougher.output.tail_pb\n",
      "rougher.output.tail_sol\n",
      "rougher.output.tail_au\n",
      "secondary_cleaner.output.tail_ag\n",
      "secondary_cleaner.output.tail_pb\n",
      "secondary_cleaner.output.tail_sol\n",
      "secondary_cleaner.output.tail_au\n"
     ]
    }
   ],
   "metadata": {}
  },
  {
   "cell_type": "markdown",
   "source": [
    "- Видно, что эти признаков нет в тестовой выборке:\n",
    "    1. Финальная характеристики после обработки -> концентраты металов, эффективность обогащения, хвосты металов.\n",
    "    2. Первичная очистка после обрабоки -> концентратов металов, хвостов металов.\n",
    "    3. Флотация по расчетный характеристикам -> добавление разных пропроций.\n",
    "    4. Флотация после обработки -> концетратов металов, эффективность обогощения и хвосты металов.\n",
    "    5. Вторичный этап очистки после обработки -> хвостов металов.\n",
    "    \n",
    "Это все этапы после обработки. Их невозможно получить/измерить во время выполнения технологического процесса."
   ],
   "metadata": {}
  },
  {
   "cell_type": "markdown",
   "source": [
    "Проведем предобработку данных. Заменим пропуски.  \n",
    "Для начала посмотрим сколько пропусков в каждом датасете."
   ],
   "metadata": {}
  },
  {
   "cell_type": "code",
   "execution_count": 16,
   "source": [
    "text = ['data_full', 'data_train', 'data_test']\n",
    "for i in range(len(dates)):\n",
    "    display('-'*40, text[i], '-'*40, dates[i].isna().mean())"
   ],
   "outputs": [
    {
     "output_type": "display_data",
     "data": {
      "text/plain": [
       "'----------------------------------------'"
      ]
     },
     "metadata": {}
    },
    {
     "output_type": "display_data",
     "data": {
      "text/plain": [
       "'data_full'"
      ]
     },
     "metadata": {}
    },
    {
     "output_type": "display_data",
     "data": {
      "text/plain": [
       "'----------------------------------------'"
      ]
     },
     "metadata": {}
    },
    {
     "output_type": "display_data",
     "data": {
      "text/plain": [
       "date                                          0.000000\n",
       "final.output.concentrate_ag                   0.000051\n",
       "final.output.concentrate_pb                   0.000051\n",
       "final.output.concentrate_sol                  0.010854\n",
       "final.output.concentrate_au                   0.000000\n",
       "                                                ...   \n",
       "secondary_cleaner.state.floatbank5_a_level    0.000051\n",
       "secondary_cleaner.state.floatbank5_b_air      0.000051\n",
       "secondary_cleaner.state.floatbank5_b_level    0.000051\n",
       "secondary_cleaner.state.floatbank6_a_air      0.000103\n",
       "secondary_cleaner.state.floatbank6_a_level    0.000051\n",
       "Length: 87, dtype: float64"
      ]
     },
     "metadata": {}
    },
    {
     "output_type": "display_data",
     "data": {
      "text/plain": [
       "'----------------------------------------'"
      ]
     },
     "metadata": {}
    },
    {
     "output_type": "display_data",
     "data": {
      "text/plain": [
       "'data_train'"
      ]
     },
     "metadata": {}
    },
    {
     "output_type": "display_data",
     "data": {
      "text/plain": [
       "'----------------------------------------'"
      ]
     },
     "metadata": {}
    },
    {
     "output_type": "display_data",
     "data": {
      "text/plain": [
       "date                                          0.000000\n",
       "final.output.concentrate_ag                   0.000071\n",
       "final.output.concentrate_pb                   0.000071\n",
       "final.output.concentrate_sol                  0.014913\n",
       "final.output.concentrate_au                   0.000000\n",
       "                                                ...   \n",
       "secondary_cleaner.state.floatbank5_a_level    0.000071\n",
       "secondary_cleaner.state.floatbank5_b_air      0.000071\n",
       "secondary_cleaner.state.floatbank5_b_level    0.000071\n",
       "secondary_cleaner.state.floatbank6_a_air      0.000141\n",
       "secondary_cleaner.state.floatbank6_a_level    0.000071\n",
       "Length: 87, dtype: float64"
      ]
     },
     "metadata": {}
    },
    {
     "output_type": "display_data",
     "data": {
      "text/plain": [
       "'----------------------------------------'"
      ]
     },
     "metadata": {}
    },
    {
     "output_type": "display_data",
     "data": {
      "text/plain": [
       "'data_test'"
      ]
     },
     "metadata": {}
    },
    {
     "output_type": "display_data",
     "data": {
      "text/plain": [
       "'----------------------------------------'"
      ]
     },
     "metadata": {}
    },
    {
     "output_type": "display_data",
     "data": {
      "text/plain": [
       "date                                          0.000000\n",
       "primary_cleaner.input.sulfate                 0.000756\n",
       "primary_cleaner.input.depressant              0.000945\n",
       "primary_cleaner.input.feed_size               0.000000\n",
       "primary_cleaner.input.xanthate                0.000756\n",
       "primary_cleaner.state.floatbank8_a_air        0.000000\n",
       "primary_cleaner.state.floatbank8_a_level      0.000000\n",
       "primary_cleaner.state.floatbank8_b_air        0.000000\n",
       "primary_cleaner.state.floatbank8_b_level      0.000000\n",
       "primary_cleaner.state.floatbank8_c_air        0.000000\n",
       "primary_cleaner.state.floatbank8_c_level      0.000000\n",
       "primary_cleaner.state.floatbank8_d_air        0.000000\n",
       "primary_cleaner.state.floatbank8_d_level      0.000000\n",
       "rougher.input.feed_ag                         0.000000\n",
       "rougher.input.feed_pb                         0.000000\n",
       "rougher.input.feed_rate                       0.000567\n",
       "rougher.input.feed_size                       0.000189\n",
       "rougher.input.feed_sol                        0.003970\n",
       "rougher.input.feed_au                         0.000000\n",
       "rougher.input.floatbank10_sulfate             0.000945\n",
       "rougher.input.floatbank10_xanthate            0.000000\n",
       "rougher.input.floatbank11_sulfate             0.001512\n",
       "rougher.input.floatbank11_xanthate            0.004726\n",
       "rougher.state.floatbank10_a_air               0.000000\n",
       "rougher.state.floatbank10_a_level             0.000000\n",
       "rougher.state.floatbank10_b_air               0.000000\n",
       "rougher.state.floatbank10_b_level             0.000000\n",
       "rougher.state.floatbank10_c_air               0.000000\n",
       "rougher.state.floatbank10_c_level             0.000000\n",
       "rougher.state.floatbank10_d_air               0.000000\n",
       "rougher.state.floatbank10_d_level             0.000000\n",
       "rougher.state.floatbank10_e_air               0.000000\n",
       "rougher.state.floatbank10_e_level             0.000000\n",
       "rougher.state.floatbank10_f_air               0.000000\n",
       "rougher.state.floatbank10_f_level             0.000000\n",
       "secondary_cleaner.state.floatbank2_a_air      0.000567\n",
       "secondary_cleaner.state.floatbank2_a_level    0.000000\n",
       "secondary_cleaner.state.floatbank2_b_air      0.000378\n",
       "secondary_cleaner.state.floatbank2_b_level    0.000000\n",
       "secondary_cleaner.state.floatbank3_a_air      0.001701\n",
       "secondary_cleaner.state.floatbank3_a_level    0.000000\n",
       "secondary_cleaner.state.floatbank3_b_air      0.000000\n",
       "secondary_cleaner.state.floatbank3_b_level    0.000000\n",
       "secondary_cleaner.state.floatbank4_a_air      0.000000\n",
       "secondary_cleaner.state.floatbank4_a_level    0.000000\n",
       "secondary_cleaner.state.floatbank4_b_air      0.000000\n",
       "secondary_cleaner.state.floatbank4_b_level    0.000000\n",
       "secondary_cleaner.state.floatbank5_a_air      0.000000\n",
       "secondary_cleaner.state.floatbank5_a_level    0.000000\n",
       "secondary_cleaner.state.floatbank5_b_air      0.000000\n",
       "secondary_cleaner.state.floatbank5_b_level    0.000000\n",
       "secondary_cleaner.state.floatbank6_a_air      0.000000\n",
       "secondary_cleaner.state.floatbank6_a_level    0.000000\n",
       "dtype: float64"
      ]
     },
     "metadata": {}
    }
   ],
   "metadata": {}
  },
  {
   "cell_type": "markdown",
   "source": [
    "У функции fillna есть аргумент который заменяет пустые значения по ближайшим соседям. Сделаем замену по ближайшим соседям т.к. в ТЗ сказанно что, - \"Данные индексируются датой и временем получения информации и соседние по времени параметры часто похожи.\" Заменим пропуски отдельно на обучающей и тестовой датасетах."
   ],
   "metadata": {}
  },
  {
   "cell_type": "code",
   "execution_count": 17,
   "source": [
    "data_train.fillna(method='ffill', inplace=True)\n",
    "data_test.fillna(method='ffill', inplace=True)"
   ],
   "outputs": [],
   "metadata": {}
  },
  {
   "cell_type": "code",
   "execution_count": 18,
   "source": [
    "for i in range(len(dates)):\n",
    "    print(text[i], dates[i].isna().mean().sum())"
   ],
   "outputs": [
    {
     "output_type": "stream",
     "name": "stdout",
     "text": [
      "data_full 0.23051597304388083\n",
      "data_train 0.0\n",
      "data_test 0.0\n"
     ]
    }
   ],
   "metadata": {
    "scrolled": true
   }
  },
  {
   "cell_type": "markdown",
   "source": [
    "Данные предобработанны"
   ],
   "metadata": {}
  },
  {
   "cell_type": "markdown",
   "source": [
    "# Анализ данных"
   ],
   "metadata": {}
  },
  {
   "cell_type": "markdown",
   "source": [
    "- Проанализируем данные\n",
    "    1. Посмотрим, как меняется концентрация металлов (Au-золото, Ag-серебро, Pb-свинец) на различных этапах очистки.\n",
    "    2. Сравним распределения размеров гранул сырья на обучающей и тестовой выборках.\n",
    "    3. Исследуем суммарную концентрацию всех веществ на разных стадиях: в сырье, в черновом и финальном концентратах."
   ],
   "metadata": {}
  },
  {
   "cell_type": "markdown",
   "source": [
    "Найдем все концентраты металов на различных этапах очистки."
   ],
   "metadata": {}
  },
  {
   "cell_type": "code",
   "execution_count": 19,
   "source": [
    "stage = ['rougher', 'primary_cleaner', 'secondary_cleaner', 'final']\n",
    "metal = ['concentrate_au', 'concentrate_ag', 'concentrate_pb']\n",
    "for i in metal:\n",
    "    print()\n",
    "    for a in range(len(stage)):\n",
    "        search(stage[a], i)"
   ],
   "outputs": [
    {
     "output_type": "stream",
     "name": "stdout",
     "text": [
      "\n",
      "rougher.output.concentrate_au\n",
      "primary_cleaner.output.concentrate_au\n",
      "final.output.concentrate_au\n",
      "\n",
      "rougher.output.concentrate_ag\n",
      "primary_cleaner.output.concentrate_ag\n",
      "final.output.concentrate_ag\n",
      "\n",
      "rougher.output.concentrate_pb\n",
      "primary_cleaner.output.concentrate_pb\n",
      "final.output.concentrate_pb\n"
     ]
    }
   ],
   "metadata": {}
  },
  {
   "cell_type": "code",
   "execution_count": 20,
   "source": [
    "values = [('au', ['date', 'rougher.output.concentrate_au',\n",
    "                'primary_cleaner.output.concentrate_au',\n",
    "                'final.output.concentrate_au']),\n",
    "         ('ag', ['date', 'rougher.output.concentrate_ag',\n",
    "                'primary_cleaner.output.concentrate_ag',\n",
    "                'final.output.concentrate_ag']),\n",
    "         ('pb', ['date', 'rougher.output.concentrate_pb',\n",
    "                'primary_cleaner.output.concentrate_pb',\n",
    "                'final.output.concentrate_pb'])]\n",
    "\n",
    "df = []\n",
    "for a, b in values:\n",
    "    a = data_train[b]\n",
    "    df.append(a)"
   ],
   "outputs": [],
   "metadata": {}
  },
  {
   "cell_type": "code",
   "execution_count": 21,
   "source": [
    "for i in ['rougher.output.concentrate_au', 'primary_cleaner.output.concentrate_au',\n",
    "          'final.output.concentrate_au']:\n",
    "    df[0].pivot_table(index='date', values=i).plot.hist(bins=200, legend=True, grid=True)\n",
    "    plt.title('Концентрат Аu на разных этапах')\n",
    "    plt.xlabel('Единиц метала')\n",
    "    plt.ylabel('Количество (шт)')\n",
    "    plt.show()\n",
    "df[0].boxplot(figsize=(10,5))\n",
    "plt.show()"
   ],
   "outputs": [
    {
     "output_type": "display_data",
     "data": {
      "image/png": "[encoded data removed]",
      "text/plain": [
       "<Figure size 432x288 with 1 Axes>"
      ]
     },
     "metadata": {
      "needs_background": "light"
     }
    },
    {
     "output_type": "display_data",
     "data": {
      "image/png": "[encoded data removed]",
      "text/plain": [
       "<Figure size 432x288 with 1 Axes>"
      ]
     },
     "metadata": {
      "needs_background": "light"
     }
    },
    {
     "output_type": "display_data",
     "data": {
      "image/png": "[encoded data removed]",
      "text/plain": [
       "<Figure size 432x288 with 1 Axes>"
      ]
     },
     "metadata": {
      "needs_background": "light"
     }
    },
    {
     "output_type": "display_data",
     "data": {
      "image/png": "[encoded data removed]",
      "text/plain": [
       "<Figure size 720x360 with 1 Axes>"
      ]
     },
     "metadata": {
      "needs_background": "light"
     }
    }
   ],
   "metadata": {}
  },
  {
   "cell_type": "markdown",
   "source": [
    "Мы видим концентрат золота на разных этапах. Заметно большое количество выбросов возле 0. Это может быть руда которая и вовсе не обогощена нужным нам металом. Так, что убирать эти выбросы не буду. Мне кажется для модели это нужная инфа, чтобы она видела и 0 концентраты \"пустой руды\". А сама концентрация можно сказать на МАХ."
   ],
   "metadata": {}
  },
  {
   "cell_type": "markdown",
   "source": [
    "Посмотрим на распределение контентрации металов."
   ],
   "metadata": {}
  },
  {
   "cell_type": "code",
   "execution_count": 22,
   "source": [
    "for i in ['rougher.output.concentrate_ag', 'primary_cleaner.output.concentrate_ag',\n",
    "          'final.output.concentrate_ag']:\n",
    "    df[1].pivot_table(index='date', values=i).plot.hist(bins=200, legend=True, grid=True)\n",
    "    plt.title('Концентрат Аg на разных этапах')\n",
    "    plt.xlabel('Единиц метала')\n",
    "    plt.ylabel('Количество (шт)')\n",
    "    plt.show()\n",
    "df[1].boxplot(figsize=(10,5))\n",
    "plt.show()"
   ],
   "outputs": [
    {
     "output_type": "display_data",
     "data": {
      "image/png": "[encoded data removed]",
      "text/plain": [
       "<Figure size 432x288 with 1 Axes>"
      ]
     },
     "metadata": {
      "needs_background": "light"
     }
    },
    {
     "output_type": "display_data",
     "data": {
      "image/png": "[encoded data removed]",
      "text/plain": [
       "<Figure size 432x288 with 1 Axes>"
      ]
     },
     "metadata": {
      "needs_background": "light"
     }
    },
    {
     "output_type": "display_data",
     "data": {
      "image/png": "[encoded data removed]",
      "text/plain": [
       "<Figure size 432x288 with 1 Axes>"
      ]
     },
     "metadata": {
      "needs_background": "light"
     }
    },
    {
     "output_type": "display_data",
     "data": {
      "image/png": "[encoded data removed]",
      "text/plain": [
       "<Figure size 720x360 with 1 Axes>"
      ]
     },
     "metadata": {
      "needs_background": "light"
     }
    }
   ],
   "metadata": {}
  },
  {
   "cell_type": "markdown",
   "source": [
    "Концентрация серебра уже съехала к середине и так же наблюдаем болшое количество выбросов.  \n",
    "Гляем как дела у свинца."
   ],
   "metadata": {}
  },
  {
   "cell_type": "code",
   "execution_count": 23,
   "source": [
    "for i in ['rougher.output.concentrate_pb', 'primary_cleaner.output.concentrate_pb',\n",
    "          'final.output.concentrate_pb']:\n",
    "    df[2].pivot_table(index='date', values=i).plot.hist(bins=200, legend=True, grid=True)\n",
    "    plt.title('Концентрат Pb на разных этапах')\n",
    "    plt.xlabel('Единиц метала')\n",
    "    plt.ylabel('Количество (шт)')\n",
    "    plt.show()\n",
    "df[2].boxplot(figsize=(10,5))\n",
    "plt.show()"
   ],
   "outputs": [
    {
     "output_type": "display_data",
     "data": {
      "image/png": "[encoded data removed]",
      "text/plain": [
       "<Figure size 432x288 with 1 Axes>"
      ]
     },
     "metadata": {
      "needs_background": "light"
     }
    },
    {
     "output_type": "display_data",
     "data": {
      "image/png": "[encoded data removed]",
      "text/plain": [
       "<Figure size 432x288 with 1 Axes>"
      ]
     },
     "metadata": {
      "needs_background": "light"
     }
    },
    {
     "output_type": "display_data",
     "data": {
      "image/png": "[encoded data removed]",
      "text/plain": [
       "<Figure size 432x288 with 1 Axes>"
      ]
     },
     "metadata": {
      "needs_background": "light"
     }
    },
    {
     "output_type": "display_data",
     "data": {
      "image/png": "[encoded data removed]",
      "text/plain": [
       "<Figure size 720x360 with 1 Axes>"
      ]
     },
     "metadata": {
      "needs_background": "light"
     }
    }
   ],
   "metadata": {}
  },
  {
   "cell_type": "markdown",
   "source": [
    "Со свинцом такая же ситуация как и с серебром."
   ],
   "metadata": {}
  },
  {
   "cell_type": "markdown",
   "source": [
    "Сравним гранулы сырья на обучайющей выборке и на тестовой. Через нашу функцию найдем гранулы."
   ],
   "metadata": {}
  },
  {
   "cell_type": "code",
   "execution_count": 24,
   "source": [
    "search('input', 'feed_size')"
   ],
   "outputs": [
    {
     "output_type": "stream",
     "name": "stdout",
     "text": [
      "primary_cleaner.input.feed_size\n",
      "rougher.input.feed_size\n"
     ]
    }
   ],
   "metadata": {}
  },
  {
   "cell_type": "code",
   "execution_count": 25,
   "source": [
    "plt.figure(figsize=(10,5))\n",
    "plt.hist(data_train['rougher.input.feed_size'], alpha = 0.5, label='Обучающая выборка', bins=100)\n",
    "plt.hist(data_test['rougher.input.feed_size'], alpha = 0.5, label='Тестовая выборка', bins =100)\n",
    "plt.xlabel('Размер гранул')\n",
    "plt.ylabel('Количество (шт)')\n",
    "plt.title('Распределения размеров гранул сырья на обучающей и тестовой выборках')\n",
    "plt.legend()\n",
    "plt.grid(True)\n",
    "plt.show()"
   ],
   "outputs": [
    {
     "output_type": "display_data",
     "data": {
      "image/png": "[encoded data removed]",
      "text/plain": [
       "<Figure size 720x360 with 1 Axes>"
      ]
     },
     "metadata": {
      "needs_background": "light"
     }
    }
   ],
   "metadata": {}
  },
  {
   "cell_type": "markdown",
   "source": [
    "Как видно основные распределения не сильно отличаются друг от друга, т.к. если у нас на тестовой выборке было бы другое распределение, то тогда моель получила значения которые никогда не видила и у нас была бы низкая метрика у модели."
   ],
   "metadata": {}
  },
  {
   "cell_type": "markdown",
   "source": [
    "Исследуем суммарную концентрацию всех веществ на разных стадиях: в сырье, в черновом и финальном концентратах."
   ],
   "metadata": {}
  },
  {
   "cell_type": "code",
   "execution_count": 26,
   "source": [
    "search('concentrate', '')"
   ],
   "outputs": [
    {
     "output_type": "stream",
     "name": "stdout",
     "text": [
      "final.output.concentrate_ag\n",
      "final.output.concentrate_pb\n",
      "final.output.concentrate_sol\n",
      "final.output.concentrate_au\n",
      "primary_cleaner.output.concentrate_ag\n",
      "primary_cleaner.output.concentrate_pb\n",
      "primary_cleaner.output.concentrate_sol\n",
      "primary_cleaner.output.concentrate_au\n",
      "rougher.calculation.sulfate_to_au_concentrate\n",
      "rougher.output.concentrate_ag\n",
      "rougher.output.concentrate_pb\n",
      "rougher.output.concentrate_sol\n",
      "rougher.output.concentrate_au\n"
     ]
    }
   ],
   "metadata": {
    "scrolled": true
   }
  },
  {
   "cell_type": "code",
   "execution_count": 27,
   "source": [
    "search('input', '')"
   ],
   "outputs": [
    {
     "output_type": "stream",
     "name": "stdout",
     "text": [
      "primary_cleaner.input.sulfate\n",
      "primary_cleaner.input.depressant\n",
      "primary_cleaner.input.feed_size\n",
      "primary_cleaner.input.xanthate\n",
      "rougher.input.feed_ag\n",
      "rougher.input.feed_pb\n",
      "rougher.input.feed_rate\n",
      "rougher.input.feed_size\n",
      "rougher.input.feed_sol\n",
      "rougher.input.feed_au\n",
      "rougher.input.floatbank10_sulfate\n",
      "rougher.input.floatbank10_xanthate\n",
      "rougher.input.floatbank11_sulfate\n",
      "rougher.input.floatbank11_xanthate\n"
     ]
    }
   ],
   "metadata": {}
  },
  {
   "cell_type": "code",
   "execution_count": 28,
   "source": [
    "rougher_input = data_train[['rougher.input.feed_au', 'rougher.input.feed_sol',\n",
    "                                 'rougher.input.feed_ag', 'rougher.input.feed_pb']].sum(axis='columns')\n",
    "rougher_output = data_train[['rougher.output.concentrate_au', 'primary_cleaner.output.concentrate_sol',\n",
    "                                         'rougher.output.concentrate_ag', 'rougher.output.concentrate_pb']].sum(axis='columns')\n",
    "primary_cleaner = data_train[['primary_cleaner.output.concentrate_au', 'primary_cleaner.output.concentrate_sol',\n",
    "                              'primary_cleaner.output.concentrate_ag', \n",
    "                              'primary_cleaner.output.concentrate_au']].sum(axis='columns')\n",
    "final_output = data_train[['final.output.concentrate_au', 'final.output.concentrate_sol', \n",
    "                           'final.output.concentrate_ag', 'final.output.concentrate_pb']].sum(axis='columns')\n",
    "\n",
    "values = rougher_input, rougher_output, primary_cleaner, final_output\n",
    "name = ['Сырье', 'Черновой после обработки', \"Черновой первичная очистка\", \"Финальный концентрат\"]\n",
    "for i in range(len(values)):\n",
    "    plt.figure(figsize=(10,5))\n",
    "    plt.hist(values[i], label=name[i], bins=100)\n",
    "    plt.xlabel('Единиц металла')\n",
    "    plt.ylabel('Количество (шт)')\n",
    "    plt.title('График суммарной концентрации всех веществ на разных стадиях')\n",
    "    plt.legend()\n",
    "    plt.grid(True)\n",
    "    plt.show()"
   ],
   "outputs": [
    {
     "output_type": "display_data",
     "data": {
      "image/png": "[encoded data removed]",
      "text/plain": [
       "<Figure size 720x360 with 1 Axes>"
      ]
     },
     "metadata": {
      "needs_background": "light"
     }
    },
    {
     "output_type": "display_data",
     "data": {
      "image/png": "[encoded data removed]",
      "text/plain": [
       "<Figure size 720x360 with 1 Axes>"
      ]
     },
     "metadata": {
      "needs_background": "light"
     }
    },
    {
     "output_type": "display_data",
     "data": {
      "image/png": "[encoded data removed]",
      "text/plain": [
       "<Figure size 720x360 with 1 Axes>"
      ]
     },
     "metadata": {
      "needs_background": "light"
     }
    },
    {
     "output_type": "display_data",
     "data": {
      "image/png": "[encoded data removed]",
      "text/plain": [
       "<Figure size 720x360 with 1 Axes>"
      ]
     },
     "metadata": {
      "needs_background": "light"
     }
    }
   ],
   "metadata": {
    "scrolled": false
   }
  },
  {
   "cell_type": "markdown",
   "source": [
    "Видим, что у нас есть аномалии 0 на суммароной концентрации. Это значит, что в сложении объектов были 0 во всех признаках. Нам это ни к чему и для алгоритма они не несут ни какой инфы, это лишняя нагрузка. Избавимся от этих выбрасов, но сначала глянем сколько \"обрезать\"."
   ],
   "metadata": {}
  },
  {
   "cell_type": "code",
   "execution_count": 29,
   "source": [
    "for i in range(len(values)):\n",
    "    values[i].hist(figsize=(10,6), grid=True, range=(-1, 5), label=name[i], alpha=0.7, bins=100)\n",
    "    plt.title('График суммарной концентрации веществ на разных стадиях')\n",
    "    plt.xlabel('Единиц металла')\n",
    "    plt.ylabel('Количество (шт)')\n",
    "    plt.legend()"
   ],
   "outputs": [
    {
     "output_type": "display_data",
     "data": {
      "image/png": "[encoded data removed]",
      "text/plain": [
       "<Figure size 720x432 with 1 Axes>"
      ]
     },
     "metadata": {
      "needs_background": "light"
     }
    }
   ],
   "metadata": {}
  },
  {
   "cell_type": "markdown",
   "source": [
    "Видим, что надо нам удалить столбцы, где значение = 0. Дело в том, что нам нужнен хоть грамм чего-нибудь в руде. А если мы имеем ноль, значит большая вероятность неточности измерений."
   ],
   "metadata": {}
  },
  {
   "cell_type": "markdown",
   "source": [
    "Удалим значение равные 0."
   ],
   "metadata": {}
  },
  {
   "cell_type": "code",
   "execution_count": 30,
   "source": [
    "data_train.shape"
   ],
   "outputs": [
    {
     "output_type": "execute_result",
     "data": {
      "text/plain": [
       "(14149, 87)"
      ]
     },
     "metadata": {},
     "execution_count": 30
    }
   ],
   "metadata": {}
  },
  {
   "cell_type": "code",
   "execution_count": 31,
   "source": [
    "index = []\n",
    "for i in values:\n",
    "    index.append(i[i == 0])\n",
    "\n",
    "index = pd.DataFrame(data=index, index=[0, 1, 2, 3])\n",
    "\n",
    "data_train = data_train.drop(index=index.columns).reset_index(drop=True)\n",
    "data_train.shape"
   ],
   "outputs": [
    {
     "output_type": "execute_result",
     "data": {
      "text/plain": [
       "(14019, 87)"
      ]
     },
     "metadata": {},
     "execution_count": 31
    }
   ],
   "metadata": {}
  },
  {
   "cell_type": "markdown",
   "source": [
    "# Построение модели"
   ],
   "metadata": {}
  },
  {
   "cell_type": "markdown",
   "source": [
    "- Построим модель\n",
    "    1. Напишем функцию для вычисления итоговой sMAPE (кастомная).\n",
    "    2. Обучим разные модели и оцените их качество кросс-валидацией. Выберем лучшую модель и проверем её на тестовой выборке."
   ],
   "metadata": {}
  },
  {
   "cell_type": "markdown",
   "source": [
    "Напишем функцию для вычисления sMAPE"
   ],
   "metadata": {}
  },
  {
   "cell_type": "code",
   "execution_count": 32,
   "source": [
    "def smape(target, predictions):\n",
    "    target_rougher = target['rougher.output.recovery']\n",
    "    predictions_rougher = predictions[:,0]\n",
    "    target_final = target['final.output.recovery']\n",
    "    predictions_final = predictions[:,1]\n",
    "    \n",
    "    rougher = (abs(target_rougher - predictions_rougher) / ((abs(target_rougher) + abs(predictions_rougher)) / 2)).mean() * 100\n",
    "    final = (abs(target_final - predictions_final) / ((abs(target_final) + abs(predictions_final)) / 2)).mean() * 100\n",
    "    \n",
    "    smape = 0.25 * rougher + 0.75 * final\n",
    "    return smape"
   ],
   "outputs": [],
   "metadata": {}
  },
  {
   "cell_type": "markdown",
   "source": [
    "Получим целевой признак для тестового датасета. Добавим значения в таблицу по столбцу."
   ],
   "metadata": {}
  },
  {
   "cell_type": "code",
   "execution_count": 33,
   "source": [
    "data_test = data_test.merge(data_full[['date', 'rougher.output.recovery', 'final.output.recovery']], on='date', how='left')"
   ],
   "outputs": [],
   "metadata": {}
  },
  {
   "cell_type": "markdown",
   "source": [
    "Сохраним признак и целевой признак для обучающего датасета."
   ],
   "metadata": {}
  },
  {
   "cell_type": "code",
   "execution_count": 34,
   "source": [
    "columns = data_test.drop(['date', 'rougher.output.recovery', 'final.output.recovery'], axis=1).columns\n",
    "\n",
    "target_train = data_train[['rougher.output.recovery', 'final.output.recovery']]\n",
    "features_train = data_train[columns]\n",
    "\n",
    "target_test = data_test[['rougher.output.recovery', 'final.output.recovery']]\n",
    "features_test = data_test[columns]"
   ],
   "outputs": [],
   "metadata": {}
  },
  {
   "cell_type": "markdown",
   "source": [
    "Делаем стандартизацию признаков."
   ],
   "metadata": {}
  },
  {
   "cell_type": "code",
   "execution_count": 35,
   "source": [
    "numeric = columns\n",
    "scaler = StandardScaler()\n",
    "scaler.fit(features_train[numeric])\n",
    "features_train[numeric] = scaler.transform(features_train[numeric])\n",
    "features_test[numeric] = scaler.transform(features_test[numeric])"
   ],
   "outputs": [],
   "metadata": {}
  },
  {
   "cell_type": "markdown",
   "source": [
    "Наша кастомная метрика"
   ],
   "metadata": {}
  },
  {
   "cell_type": "code",
   "execution_count": 36,
   "source": [
    "custom_metric = make_scorer(smape, greater_is_better=True)"
   ],
   "outputs": [],
   "metadata": {}
  },
  {
   "cell_type": "markdown",
   "source": [
    "Теперь посмотрим 3 модели на кросс-валидации и выберем лучшую."
   ],
   "metadata": {}
  },
  {
   "cell_type": "code",
   "execution_count": 37,
   "source": [
    "lienar_model = LinearRegression()\n",
    "score = cross_val_score(lienar_model, features_train, target_train, cv=3, scoring=custom_metric)\n",
    "print(score)\n",
    "print(score.mean())"
   ],
   "outputs": [
    {
     "output_type": "stream",
     "name": "stdout",
     "text": [
      "[11.94811176 15.9768852  16.22562256]\n",
      "14.716873173827844\n"
     ]
    }
   ],
   "metadata": {}
  },
  {
   "cell_type": "code",
   "execution_count": 38,
   "source": [
    "tree_model = DecisionTreeRegressor(random_state=0)\n",
    "score = cross_val_score(tree_model, features_train, target_train, cv=3, scoring=custom_metric)\n",
    "print(score)\n",
    "print(score.mean())"
   ],
   "outputs": [
    {
     "output_type": "stream",
     "name": "stdout",
     "text": [
      "[20.26309682 16.98638765 17.28728277]\n",
      "18.178922412255\n"
     ]
    }
   ],
   "metadata": {}
  },
  {
   "cell_type": "code",
   "execution_count": 39,
   "source": [
    "forest_model = RandomForestRegressor(random_state=0)\n",
    "score = cross_val_score(forest_model, features_train, target_train, cv=3, scoring=custom_metric)\n",
    "print(score)\n",
    "print(score.mean())"
   ],
   "outputs": [
    {
     "output_type": "stream",
     "name": "stdout",
     "text": [
      "[11.99698951 10.65283346 16.94130228]\n",
      "13.19704174904854\n"
     ]
    }
   ],
   "metadata": {}
  },
  {
   "cell_type": "markdown",
   "source": [
    "Видим, что лучший показатель (меньший) у леса."
   ],
   "metadata": {}
  },
  {
   "cell_type": "markdown",
   "source": [
    "Напишем функцию которая обучит модель c помощью GridSearchCV."
   ],
   "metadata": {}
  },
  {
   "cell_type": "code",
   "execution_count": 40,
   "source": [
    "def clf(x_train, y_train, model, value, number, score):\n",
    "    clf = model\n",
    "    parametrs = value\n",
    "    grid = GridSearchCV(clf,\n",
    "                    parametrs,\n",
    "                    cv=number,\n",
    "                    scoring = score\n",
    "                   )\n",
    "    grid.fit(x_train, y_train)\n",
    "    print(grid.best_params_, grid.best_score_)\n",
    "    return grid.best_estimator_"
   ],
   "outputs": [],
   "metadata": {}
  },
  {
   "cell_type": "code",
   "execution_count": 41,
   "source": [
    "%%time\n",
    "model_final = clf(features_train, target_train, RandomForestRegressor(random_state=42), {'max_depth': [2, 3, 4],\n",
    "                                                                                         'n_estimators': [80, 100, 120]},\n",
    "                                                                                          3, custom_metric)"
   ],
   "outputs": [
    {
     "output_type": "stream",
     "name": "stdout",
     "text": [
      "{'max_depth': 2, 'n_estimators': 80} 11.551103451515504\n",
      "CPU times: user 3min 57s, sys: 154 ms, total: 3min 57s\n",
      "Wall time: 4min 3s\n"
     ]
    }
   ],
   "metadata": {}
  },
  {
   "cell_type": "markdown",
   "source": [
    "Проверим результат на тестовой выборке."
   ],
   "metadata": {}
  },
  {
   "cell_type": "code",
   "execution_count": 42,
   "source": [
    "predicted_test = model_final.predict(features_test)\n",
    "smape(target_test, predicted_test)"
   ],
   "outputs": [
    {
     "output_type": "execute_result",
     "data": {
      "text/plain": [
       "8.97366889369489"
      ]
     },
     "metadata": {},
     "execution_count": 42
    }
   ],
   "metadata": {}
  },
  {
   "cell_type": "markdown",
   "source": [
    "Получили 9. Мы не знаем хорошо это или плохо. Проверим нашу модель на адекватность и узнаем какой вес имеет наша цифра."
   ],
   "metadata": {}
  },
  {
   "cell_type": "code",
   "execution_count": 43,
   "source": [
    "dummy_reg = DummyRegressor(strategy=\"median\")\n",
    "dummy_reg.fit(features_train, target_train)\n",
    "predict_test = dummy_reg.predict(features_test)\n",
    "smape(target_test, predict_test)"
   ],
   "outputs": [
    {
     "output_type": "execute_result",
     "data": {
      "text/plain": [
       "9.46905213378656"
      ]
     },
     "metadata": {},
     "execution_count": 43
    }
   ],
   "metadata": {}
  },
  {
   "cell_type": "markdown",
   "source": [
    "Видим, что константная модель выдает 9.5, что говорит, что наша модель работает лучше чем константная модель по медиане."
   ],
   "metadata": {}
  },
  {
   "cell_type": "markdown",
   "source": [
    "# Вывод:"
   ],
   "metadata": {}
  },
  {
   "cell_type": "markdown",
   "source": [
    "Мы обучили модель и протестировали её на тесте. Кастомная метрика показала, что наша модель ошибается на 9.6 % относительно поступающей в нее руды(в зависимоти от сырья и финальных показателей)."
   ],
   "metadata": {}
  },
  {
   "cell_type": "markdown",
   "source": [
    "# Общий вывод:"
   ],
   "metadata": {}
  },
  {
   "cell_type": "markdown",
   "source": [
    "- В начале мы делали предобработку данны. Изменяли тип данных в датасете. Заменяли пропуски и обрабатывали аномалии.  \r\n",
    "- Исследовали концентраты металов и гранулы сырья. Посмотрели на распределение вьобучающей выборке и тесте, что показало, что они схожи(это главное). Затем посмотрели на суммарную концентрацию металлов в разных стадиях и концентрат который давал в сумме 0.  \r\n",
    "- Написали кастомную метрику для проверки нашей модели. Чтобы не разбивать выборку на обучающую и валидационную, я проверил на кросс-валидации и выбрал лучшую модель. На тестовых данных моя модель на кастомной метрике показала 9 и это хорошо, так как на медианной модели значения гораздо хуже (9.5). Это нам говорит, что в среднем мы ошибаемся на 9% по предсказанию относительно поступающих на производство сырья."
   ],
   "metadata": {}
  }
 ],
 "metadata": {
  "ExecuteTimeLog": [
   {
    "duration": 1529,
    "start_time": "2021-06-29T13:08:55.973Z"
   },
   {
    "duration": 486,
    "start_time": "2021-06-29T13:10:52.656Z"
   },
   {
    "duration": 2412,
    "start_time": "2021-06-29T13:11:02.841Z"
   },
   {
    "duration": 2319,
    "start_time": "2021-06-29T13:11:09.327Z"
   },
   {
    "duration": 2157,
    "start_time": "2021-06-29T13:11:12.936Z"
   },
   {
    "duration": 338,
    "start_time": "2021-06-29T13:12:11.901Z"
   },
   {
    "duration": 44,
    "start_time": "2021-06-29T13:12:21.029Z"
   },
   {
    "duration": 8479,
    "start_time": "2021-06-29T13:14:55.953Z"
   },
   {
    "duration": 68,
    "start_time": "2021-06-29T13:15:48.712Z"
   },
   {
    "duration": 40,
    "start_time": "2021-06-29T13:16:01.054Z"
   },
   {
    "duration": 43,
    "start_time": "2021-06-29T13:16:08.149Z"
   },
   {
    "duration": 307,
    "start_time": "2021-06-29T13:17:50.293Z"
   },
   {
    "duration": 7915,
    "start_time": "2021-06-29T13:17:55.967Z"
   },
   {
    "duration": -103,
    "start_time": "2021-06-29T13:19:51.540Z"
   },
   {
    "duration": 3896,
    "start_time": "2021-06-29T13:19:54.625Z"
   },
   {
    "duration": 7640,
    "start_time": "2021-06-29T13:20:04.571Z"
   },
   {
    "duration": 7567,
    "start_time": "2021-06-29T13:20:15.978Z"
   },
   {
    "duration": 4,
    "start_time": "2021-06-29T13:20:57.263Z"
   },
   {
    "duration": 7709,
    "start_time": "2021-06-29T13:21:02.112Z"
   },
   {
    "duration": 3,
    "start_time": "2021-06-29T13:21:11.021Z"
   },
   {
    "duration": 5,
    "start_time": "2021-06-29T13:21:11.572Z"
   },
   {
    "duration": 7390,
    "start_time": "2021-06-29T13:21:35.406Z"
   },
   {
    "duration": 357,
    "start_time": "2021-06-29T13:21:53.916Z"
   },
   {
    "duration": 3,
    "start_time": "2021-06-29T13:22:04.253Z"
   },
   {
    "duration": 5,
    "start_time": "2021-06-29T13:22:04.444Z"
   },
   {
    "duration": 154,
    "start_time": "2021-06-29T13:22:16.544Z"
   },
   {
    "duration": 5,
    "start_time": "2021-06-29T13:23:00.060Z"
   },
   {
    "duration": 40,
    "start_time": "2021-06-29T13:23:11.481Z"
   },
   {
    "duration": 56,
    "start_time": "2021-06-29T13:23:37.130Z"
   },
   {
    "duration": 43,
    "start_time": "2021-06-29T13:26:14.697Z"
   },
   {
    "duration": 45,
    "start_time": "2021-06-29T13:26:33.636Z"
   },
   {
    "duration": 31,
    "start_time": "2021-06-29T13:27:13.959Z"
   },
   {
    "duration": 1500,
    "start_time": "2021-06-30T11:27:01.283Z"
   },
   {
    "duration": 799,
    "start_time": "2021-06-30T11:27:02.786Z"
   },
   {
    "duration": 32,
    "start_time": "2021-06-30T11:27:03.588Z"
   },
   {
    "duration": 60,
    "start_time": "2021-06-30T11:27:48.012Z"
   },
   {
    "duration": 42,
    "start_time": "2021-06-30T11:28:35.091Z"
   },
   {
    "duration": 46,
    "start_time": "2021-06-30T11:29:03.691Z"
   },
   {
    "duration": 51,
    "start_time": "2021-06-30T12:08:32.863Z"
   },
   {
    "duration": 47,
    "start_time": "2021-06-30T12:09:04.322Z"
   },
   {
    "duration": 42,
    "start_time": "2021-06-30T12:09:22.706Z"
   },
   {
    "duration": 408,
    "start_time": "2021-06-30T12:10:52.782Z"
   },
   {
    "duration": 8,
    "start_time": "2021-06-30T12:11:01.004Z"
   },
   {
    "duration": 8,
    "start_time": "2021-06-30T12:44:38.039Z"
   },
   {
    "duration": 369,
    "start_time": "2021-06-30T12:44:50.298Z"
   },
   {
    "duration": 251,
    "start_time": "2021-06-30T12:44:55.472Z"
   },
   {
    "duration": 7,
    "start_time": "2021-06-30T12:45:11.138Z"
   },
   {
    "duration": 12,
    "start_time": "2021-06-30T12:46:58.511Z"
   },
   {
    "duration": 21,
    "start_time": "2021-06-30T12:47:24.120Z"
   },
   {
    "duration": 11,
    "start_time": "2021-06-30T12:47:47.837Z"
   },
   {
    "duration": 10,
    "start_time": "2021-06-30T12:47:58.146Z"
   },
   {
    "duration": 9,
    "start_time": "2021-06-30T12:48:09.454Z"
   },
   {
    "duration": 274,
    "start_time": "2021-06-30T12:48:24.452Z"
   },
   {
    "duration": 260,
    "start_time": "2021-06-30T12:48:34.145Z"
   },
   {
    "duration": 268,
    "start_time": "2021-06-30T12:48:41.848Z"
   },
   {
    "duration": 11,
    "start_time": "2021-06-30T12:48:46.192Z"
   },
   {
    "duration": 280,
    "start_time": "2021-06-30T12:48:50.837Z"
   },
   {
    "duration": 10,
    "start_time": "2021-06-30T12:49:02.893Z"
   },
   {
    "duration": 16,
    "start_time": "2021-06-30T12:49:19.588Z"
   },
   {
    "duration": 10,
    "start_time": "2021-06-30T12:49:29.870Z"
   },
   {
    "duration": 9,
    "start_time": "2021-06-30T12:49:39.954Z"
   },
   {
    "duration": 263,
    "start_time": "2021-06-30T12:49:48.225Z"
   },
   {
    "duration": 108,
    "start_time": "2021-06-30T12:50:10.626Z"
   },
   {
    "duration": 279,
    "start_time": "2021-06-30T12:50:15.351Z"
   },
   {
    "duration": 7,
    "start_time": "2021-06-30T12:50:23.435Z"
   },
   {
    "duration": 13,
    "start_time": "2021-06-30T12:50:27.310Z"
   },
   {
    "duration": 14,
    "start_time": "2021-06-30T12:51:10.953Z"
   },
   {
    "duration": 11,
    "start_time": "2021-06-30T12:51:24.250Z"
   },
   {
    "duration": 12,
    "start_time": "2021-06-30T12:52:05.579Z"
   },
   {
    "duration": 8,
    "start_time": "2021-06-30T12:53:05.806Z"
   },
   {
    "duration": 8,
    "start_time": "2021-06-30T12:59:55.213Z"
   },
   {
    "duration": 6,
    "start_time": "2021-06-30T13:16:15.129Z"
   },
   {
    "duration": 7,
    "start_time": "2021-06-30T13:16:27.902Z"
   },
   {
    "duration": 7,
    "start_time": "2021-06-30T13:16:32.030Z"
   },
   {
    "duration": 9,
    "start_time": "2021-06-30T13:16:37.315Z"
   },
   {
    "duration": 9,
    "start_time": "2021-06-30T13:18:50.488Z"
   },
   {
    "duration": 8,
    "start_time": "2021-06-30T13:19:53.772Z"
   },
   {
    "duration": 7,
    "start_time": "2021-06-30T13:20:03.715Z"
   },
   {
    "duration": 7,
    "start_time": "2021-06-30T13:20:07.897Z"
   },
   {
    "duration": 4,
    "start_time": "2021-06-30T13:23:08.162Z"
   },
   {
    "duration": 7,
    "start_time": "2021-06-30T13:23:17.498Z"
   },
   {
    "duration": 6,
    "start_time": "2021-06-30T13:25:31.994Z"
   },
   {
    "duration": 271,
    "start_time": "2021-06-30T13:26:16.459Z"
   },
   {
    "duration": 4,
    "start_time": "2021-06-30T13:26:21.980Z"
   },
   {
    "duration": 4,
    "start_time": "2021-06-30T13:26:26.940Z"
   },
   {
    "duration": 7,
    "start_time": "2021-06-30T13:26:28.473Z"
   },
   {
    "duration": 8,
    "start_time": "2021-06-30T13:27:43.519Z"
   },
   {
    "duration": 248,
    "start_time": "2021-06-30T13:28:44.477Z"
   },
   {
    "duration": 4,
    "start_time": "2021-06-30T13:28:52.517Z"
   },
   {
    "duration": 281,
    "start_time": "2021-06-30T13:28:52.963Z"
   },
   {
    "duration": 8,
    "start_time": "2021-06-30T13:29:05.405Z"
   },
   {
    "duration": 5,
    "start_time": "2021-06-30T13:29:19.634Z"
   },
   {
    "duration": 352,
    "start_time": "2021-06-30T13:29:20.301Z"
   },
   {
    "duration": 6,
    "start_time": "2021-06-30T13:29:39.449Z"
   },
   {
    "duration": 15,
    "start_time": "2021-06-30T13:29:48.349Z"
   },
   {
    "duration": 262,
    "start_time": "2021-06-30T13:30:12.632Z"
   },
   {
    "duration": 4,
    "start_time": "2021-06-30T13:30:22.950Z"
   },
   {
    "duration": 5,
    "start_time": "2021-06-30T13:30:26.659Z"
   },
   {
    "duration": 14,
    "start_time": "2021-06-30T13:30:39.266Z"
   },
   {
    "duration": 4,
    "start_time": "2021-06-30T13:31:02.740Z"
   },
   {
    "duration": 6,
    "start_time": "2021-06-30T13:31:03.109Z"
   },
   {
    "duration": 15,
    "start_time": "2021-06-30T13:31:06.830Z"
   },
   {
    "duration": 12,
    "start_time": "2021-06-30T13:33:17.976Z"
   },
   {
    "duration": 18,
    "start_time": "2021-06-30T13:33:22.798Z"
   },
   {
    "duration": 252,
    "start_time": "2021-06-30T13:35:05.970Z"
   },
   {
    "duration": 5,
    "start_time": "2021-06-30T13:35:09.673Z"
   },
   {
    "duration": 5,
    "start_time": "2021-06-30T13:35:09.882Z"
   },
   {
    "duration": 15,
    "start_time": "2021-06-30T13:35:11.245Z"
   },
   {
    "duration": 7,
    "start_time": "2021-06-30T13:35:38.792Z"
   },
   {
    "duration": 17,
    "start_time": "2021-06-30T13:35:39.259Z"
   },
   {
    "duration": 8,
    "start_time": "2021-06-30T13:35:57.767Z"
   },
   {
    "duration": 20,
    "start_time": "2021-06-30T13:35:58.150Z"
   },
   {
    "duration": 4,
    "start_time": "2021-06-30T13:36:03.260Z"
   },
   {
    "duration": 6,
    "start_time": "2021-06-30T13:36:03.443Z"
   },
   {
    "duration": 16,
    "start_time": "2021-06-30T13:36:03.685Z"
   },
   {
    "duration": 7,
    "start_time": "2021-06-30T13:36:03.987Z"
   },
   {
    "duration": 18,
    "start_time": "2021-06-30T13:36:04.705Z"
   },
   {
    "duration": 6,
    "start_time": "2021-06-30T13:36:32.692Z"
   },
   {
    "duration": 7,
    "start_time": "2021-06-30T13:36:44.613Z"
   },
   {
    "duration": 7,
    "start_time": "2021-06-30T13:36:53.773Z"
   },
   {
    "duration": 10,
    "start_time": "2021-06-30T13:37:00.988Z"
   },
   {
    "duration": 8,
    "start_time": "2021-06-30T13:37:06.740Z"
   },
   {
    "duration": 7,
    "start_time": "2021-06-30T13:39:33.819Z"
   },
   {
    "duration": 5,
    "start_time": "2021-06-30T13:39:48.276Z"
   },
   {
    "duration": 99,
    "start_time": "2021-06-30T13:41:16.929Z"
   },
   {
    "duration": 16,
    "start_time": "2021-06-30T13:42:15.037Z"
   },
   {
    "duration": 62,
    "start_time": "2021-06-30T13:47:01.316Z"
   },
   {
    "duration": 183,
    "start_time": "2021-06-30T13:47:12.669Z"
   },
   {
    "duration": 251,
    "start_time": "2021-06-30T13:47:41.019Z"
   },
   {
    "duration": 244,
    "start_time": "2021-06-30T13:47:47.009Z"
   },
   {
    "duration": 6345,
    "start_time": "2021-06-30T13:47:58.518Z"
   },
   {
    "duration": 11,
    "start_time": "2021-06-30T13:48:19.279Z"
   },
   {
    "duration": 289,
    "start_time": "2021-06-30T13:48:29.969Z"
   },
   {
    "duration": 252,
    "start_time": "2021-06-30T13:48:34.703Z"
   },
   {
    "duration": 9,
    "start_time": "2021-06-30T13:48:37.615Z"
   },
   {
    "duration": 21,
    "start_time": "2021-06-30T13:53:11.409Z"
   },
   {
    "duration": 10,
    "start_time": "2021-06-30T13:53:30.090Z"
   },
   {
    "duration": 11,
    "start_time": "2021-06-30T13:53:55.878Z"
   },
   {
    "duration": 15,
    "start_time": "2021-06-30T13:53:56.178Z"
   },
   {
    "duration": 9,
    "start_time": "2021-06-30T13:53:59.351Z"
   },
   {
    "duration": 7,
    "start_time": "2021-06-30T13:54:00.003Z"
   },
   {
    "duration": 9,
    "start_time": "2021-06-30T13:54:28.021Z"
   },
   {
    "duration": 8,
    "start_time": "2021-06-30T13:54:28.360Z"
   },
   {
    "duration": 24,
    "start_time": "2021-06-30T13:54:38.739Z"
   },
   {
    "duration": 274,
    "start_time": "2021-06-30T13:55:20.352Z"
   },
   {
    "duration": 53,
    "start_time": "2021-06-30T13:55:24.452Z"
   },
   {
    "duration": 10,
    "start_time": "2021-06-30T13:55:31.853Z"
   },
   {
    "duration": 66,
    "start_time": "2021-06-30T13:55:32.380Z"
   },
   {
    "duration": 4,
    "start_time": "2021-06-30T13:56:23.074Z"
   },
   {
    "duration": 11,
    "start_time": "2021-06-30T13:56:23.680Z"
   },
   {
    "duration": 9,
    "start_time": "2021-06-30T13:56:25.578Z"
   },
   {
    "duration": 17,
    "start_time": "2021-06-30T13:56:25.742Z"
   },
   {
    "duration": 4,
    "start_time": "2021-06-30T13:56:51.239Z"
   },
   {
    "duration": 5,
    "start_time": "2021-06-30T13:56:51.454Z"
   },
   {
    "duration": 9,
    "start_time": "2021-06-30T13:56:51.795Z"
   },
   {
    "duration": 22,
    "start_time": "2021-06-30T13:56:52.183Z"
   },
   {
    "duration": 7,
    "start_time": "2021-06-30T13:58:53.918Z"
   },
   {
    "duration": 8,
    "start_time": "2021-06-30T14:01:28.738Z"
   },
   {
    "duration": 7,
    "start_time": "2021-06-30T14:01:48.466Z"
   },
   {
    "duration": 8,
    "start_time": "2021-06-30T14:01:57.816Z"
   },
   {
    "duration": 8,
    "start_time": "2021-06-30T14:02:32.756Z"
   },
   {
    "duration": 6,
    "start_time": "2021-06-30T14:03:54.698Z"
   },
   {
    "duration": 8,
    "start_time": "2021-06-30T14:05:43.191Z"
   },
   {
    "duration": 41,
    "start_time": "2021-06-30T14:13:12.418Z"
   },
   {
    "duration": 6,
    "start_time": "2021-06-30T14:13:23.094Z"
   },
   {
    "duration": 90,
    "start_time": "2021-06-30T14:13:57.999Z"
   },
   {
    "duration": 98,
    "start_time": "2021-06-30T14:14:04.016Z"
   },
   {
    "duration": 14,
    "start_time": "2021-06-30T14:15:07.785Z"
   },
   {
    "duration": 6,
    "start_time": "2021-06-30T14:15:28.289Z"
   },
   {
    "duration": 94,
    "start_time": "2021-06-30T14:15:48.296Z"
   },
   {
    "duration": 85,
    "start_time": "2021-06-30T14:15:55.804Z"
   },
   {
    "duration": 10,
    "start_time": "2021-06-30T14:16:01.182Z"
   },
   {
    "duration": 6,
    "start_time": "2021-06-30T14:24:28.219Z"
   },
   {
    "duration": 16,
    "start_time": "2021-06-30T14:24:28.671Z"
   },
   {
    "duration": 7,
    "start_time": "2021-06-30T14:24:59.558Z"
   },
   {
    "duration": 8,
    "start_time": "2021-06-30T14:31:01.023Z"
   },
   {
    "duration": 7,
    "start_time": "2021-06-30T14:31:42.616Z"
   },
   {
    "duration": 7,
    "start_time": "2021-06-30T14:32:01.906Z"
   },
   {
    "duration": 7,
    "start_time": "2021-06-30T14:32:12.713Z"
   },
   {
    "duration": 8,
    "start_time": "2021-06-30T14:32:16.311Z"
   },
   {
    "duration": 7,
    "start_time": "2021-06-30T14:35:40.783Z"
   },
   {
    "duration": 11,
    "start_time": "2021-06-30T15:00:57.563Z"
   },
   {
    "duration": 13,
    "start_time": "2021-06-30T15:01:04.932Z"
   },
   {
    "duration": 9,
    "start_time": "2021-06-30T15:01:24.524Z"
   },
   {
    "duration": 16,
    "start_time": "2021-06-30T15:32:21.701Z"
   },
   {
    "duration": 14,
    "start_time": "2021-06-30T15:32:56.057Z"
   },
   {
    "duration": 10,
    "start_time": "2021-06-30T15:33:01.805Z"
   },
   {
    "duration": 46,
    "start_time": "2021-06-30T15:33:19.386Z"
   },
   {
    "duration": 380,
    "start_time": "2021-06-30T15:34:08.384Z"
   },
   {
    "duration": 371,
    "start_time": "2021-06-30T15:34:14.791Z"
   },
   {
    "duration": 25,
    "start_time": "2021-06-30T15:34:20.553Z"
   },
   {
    "duration": 23,
    "start_time": "2021-06-30T15:34:26.411Z"
   },
   {
    "duration": 25,
    "start_time": "2021-06-30T15:49:00.310Z"
   },
   {
    "duration": 1439,
    "start_time": "2021-07-01T12:00:38.874Z"
   },
   {
    "duration": 942,
    "start_time": "2021-07-01T12:00:41.490Z"
   },
   {
    "duration": 41,
    "start_time": "2021-07-01T12:00:42.434Z"
   },
   {
    "duration": 62,
    "start_time": "2021-07-01T12:00:43.430Z"
   },
   {
    "duration": 2806,
    "start_time": "2021-07-01T12:00:44.923Z"
   },
   {
    "duration": -528,
    "start_time": "2021-07-01T12:00:48.260Z"
   },
   {
    "duration": -529,
    "start_time": "2021-07-01T12:00:48.262Z"
   },
   {
    "duration": -529,
    "start_time": "2021-07-01T12:00:48.263Z"
   },
   {
    "duration": 270,
    "start_time": "2021-07-01T12:00:54.964Z"
   },
   {
    "duration": 20,
    "start_time": "2021-07-01T12:01:19.673Z"
   },
   {
    "duration": 5,
    "start_time": "2021-07-01T12:01:21.339Z"
   },
   {
    "duration": 4,
    "start_time": "2021-07-01T12:01:21.778Z"
   },
   {
    "duration": 5,
    "start_time": "2021-07-01T12:01:22.251Z"
   },
   {
    "duration": 13,
    "start_time": "2021-07-01T12:01:22.846Z"
   },
   {
    "duration": 17,
    "start_time": "2021-07-01T12:01:24.025Z"
   },
   {
    "duration": 7,
    "start_time": "2021-07-01T12:01:27.172Z"
   },
   {
    "duration": 12,
    "start_time": "2021-07-01T12:01:50.516Z"
   },
   {
    "duration": 22,
    "start_time": "2021-07-01T12:03:43.399Z"
   },
   {
    "duration": 20,
    "start_time": "2021-07-01T12:04:28.471Z"
   },
   {
    "duration": 22,
    "start_time": "2021-07-01T12:05:12.786Z"
   },
   {
    "duration": 279,
    "start_time": "2021-07-01T12:05:20.084Z"
   },
   {
    "duration": 20,
    "start_time": "2021-07-01T12:05:27.367Z"
   },
   {
    "duration": 75,
    "start_time": "2021-07-01T12:05:41.196Z"
   },
   {
    "duration": 188,
    "start_time": "2021-07-01T12:05:49.453Z"
   },
   {
    "duration": 94,
    "start_time": "2021-07-01T12:05:53.654Z"
   },
   {
    "duration": 20,
    "start_time": "2021-07-01T12:05:59.505Z"
   },
   {
    "duration": 94,
    "start_time": "2021-07-01T12:06:02.195Z"
   },
   {
    "duration": 20,
    "start_time": "2021-07-01T12:06:04.496Z"
   },
   {
    "duration": 73,
    "start_time": "2021-07-01T12:06:22.796Z"
   },
   {
    "duration": 72,
    "start_time": "2021-07-01T12:06:32.564Z"
   },
   {
    "duration": 95,
    "start_time": "2021-07-01T12:06:41.042Z"
   },
   {
    "duration": 292,
    "start_time": "2021-07-01T12:07:24.375Z"
   },
   {
    "duration": 21,
    "start_time": "2021-07-01T12:07:29.932Z"
   },
   {
    "duration": 20,
    "start_time": "2021-07-01T12:08:28.321Z"
   },
   {
    "duration": 45,
    "start_time": "2021-07-01T12:08:47.479Z"
   },
   {
    "duration": 26,
    "start_time": "2021-07-01T12:08:52.355Z"
   },
   {
    "duration": 47,
    "start_time": "2021-07-01T12:08:55.492Z"
   },
   {
    "duration": 64,
    "start_time": "2021-07-01T12:09:18.643Z"
   },
   {
    "duration": 55,
    "start_time": "2021-07-01T12:09:32.482Z"
   },
   {
    "duration": 40,
    "start_time": "2021-07-01T12:09:36.813Z"
   },
   {
    "duration": 272,
    "start_time": "2021-07-01T12:09:40.419Z"
   },
   {
    "duration": 63,
    "start_time": "2021-07-01T12:09:57.225Z"
   },
   {
    "duration": 105,
    "start_time": "2021-07-01T12:10:10.076Z"
   },
   {
    "duration": 40,
    "start_time": "2021-07-01T12:10:21.832Z"
   },
   {
    "duration": 15,
    "start_time": "2021-07-01T12:10:34.111Z"
   },
   {
    "duration": 29,
    "start_time": "2021-07-01T12:10:46.847Z"
   },
   {
    "duration": 21,
    "start_time": "2021-07-01T12:11:29.702Z"
   },
   {
    "duration": 23,
    "start_time": "2021-07-01T12:11:48.588Z"
   },
   {
    "duration": 24,
    "start_time": "2021-07-01T12:12:03.749Z"
   },
   {
    "duration": 24,
    "start_time": "2021-07-01T12:12:12.480Z"
   },
   {
    "duration": 22,
    "start_time": "2021-07-01T12:12:23.046Z"
   },
   {
    "duration": 21,
    "start_time": "2021-07-01T12:12:42.947Z"
   },
   {
    "duration": 23,
    "start_time": "2021-07-01T12:26:20.520Z"
   },
   {
    "duration": 39,
    "start_time": "2021-07-01T12:27:01.475Z"
   },
   {
    "duration": 9,
    "start_time": "2021-07-01T12:27:46.213Z"
   },
   {
    "duration": 10,
    "start_time": "2021-07-01T12:27:56.668Z"
   },
   {
    "duration": 11,
    "start_time": "2021-07-01T12:28:12.473Z"
   },
   {
    "duration": 11,
    "start_time": "2021-07-01T12:28:23.700Z"
   },
   {
    "duration": 12,
    "start_time": "2021-07-01T12:28:29.495Z"
   },
   {
    "duration": 11,
    "start_time": "2021-07-01T12:28:38.127Z"
   },
   {
    "duration": 11,
    "start_time": "2021-07-01T12:28:55.223Z"
   },
   {
    "duration": 10,
    "start_time": "2021-07-01T12:29:21.104Z"
   },
   {
    "duration": 11,
    "start_time": "2021-07-01T12:29:26.002Z"
   },
   {
    "duration": 11,
    "start_time": "2021-07-01T12:29:30.663Z"
   },
   {
    "duration": 6,
    "start_time": "2021-07-01T12:29:42.088Z"
   },
   {
    "duration": 8,
    "start_time": "2021-07-01T12:29:47.692Z"
   },
   {
    "duration": 8,
    "start_time": "2021-07-01T12:29:53.325Z"
   },
   {
    "duration": 7,
    "start_time": "2021-07-01T12:29:58.351Z"
   },
   {
    "duration": 7,
    "start_time": "2021-07-01T12:30:03.453Z"
   },
   {
    "duration": 7,
    "start_time": "2021-07-01T12:33:32.410Z"
   },
   {
    "duration": 9,
    "start_time": "2021-07-01T12:33:36.169Z"
   },
   {
    "duration": 7,
    "start_time": "2021-07-01T12:33:39.071Z"
   },
   {
    "duration": 1360,
    "start_time": "2021-07-01T12:34:54.150Z"
   },
   {
    "duration": 935,
    "start_time": "2021-07-01T12:34:55.513Z"
   },
   {
    "duration": 38,
    "start_time": "2021-07-01T12:34:56.452Z"
   },
   {
    "duration": 61,
    "start_time": "2021-07-01T12:34:56.500Z"
   },
   {
    "duration": 45,
    "start_time": "2021-07-01T12:34:56.564Z"
   },
   {
    "duration": 7,
    "start_time": "2021-07-01T12:34:57.412Z"
   },
   {
    "duration": 5,
    "start_time": "2021-07-01T12:34:58.337Z"
   },
   {
    "duration": 5,
    "start_time": "2021-07-01T12:34:58.737Z"
   },
   {
    "duration": 45,
    "start_time": "2021-07-01T12:35:16.674Z"
   },
   {
    "duration": 25,
    "start_time": "2021-07-01T12:35:23.077Z"
   },
   {
    "duration": 44,
    "start_time": "2021-07-01T12:35:33.703Z"
   },
   {
    "duration": 7,
    "start_time": "2021-07-01T12:35:54.495Z"
   },
   {
    "duration": 8,
    "start_time": "2021-07-01T12:36:07.115Z"
   },
   {
    "duration": 7,
    "start_time": "2021-07-01T12:36:14.544Z"
   },
   {
    "duration": 8,
    "start_time": "2021-07-01T12:36:33.905Z"
   },
   {
    "duration": 10,
    "start_time": "2021-07-01T12:36:40.447Z"
   },
   {
    "duration": 8,
    "start_time": "2021-07-01T12:36:55.027Z"
   },
   {
    "duration": 7,
    "start_time": "2021-07-01T12:37:26.598Z"
   },
   {
    "duration": 9,
    "start_time": "2021-07-01T12:37:33.729Z"
   },
   {
    "duration": 9,
    "start_time": "2021-07-01T12:37:41.296Z"
   },
   {
    "duration": 9,
    "start_time": "2021-07-01T12:37:44.730Z"
   },
   {
    "duration": 7,
    "start_time": "2021-07-01T12:37:49.436Z"
   },
   {
    "duration": 7,
    "start_time": "2021-07-01T12:37:52.581Z"
   },
   {
    "duration": 8,
    "start_time": "2021-07-01T12:38:03.846Z"
   },
   {
    "duration": 8,
    "start_time": "2021-07-01T12:38:06.244Z"
   },
   {
    "duration": 8,
    "start_time": "2021-07-01T12:38:11.211Z"
   },
   {
    "duration": 9,
    "start_time": "2021-07-01T12:38:14.065Z"
   },
   {
    "duration": 1365,
    "start_time": "2021-07-01T12:38:36.135Z"
   },
   {
    "duration": 897,
    "start_time": "2021-07-01T12:38:37.503Z"
   },
   {
    "duration": 35,
    "start_time": "2021-07-01T12:38:38.403Z"
   },
   {
    "duration": 76,
    "start_time": "2021-07-01T12:38:38.440Z"
   },
   {
    "duration": 19,
    "start_time": "2021-07-01T12:38:38.519Z"
   },
   {
    "duration": 8,
    "start_time": "2021-07-01T12:38:52.920Z"
   },
   {
    "duration": 9,
    "start_time": "2021-07-01T12:38:57.310Z"
   },
   {
    "duration": 8,
    "start_time": "2021-07-01T12:39:01.440Z"
   },
   {
    "duration": 8,
    "start_time": "2021-07-01T12:39:04.601Z"
   },
   {
    "duration": 9,
    "start_time": "2021-07-01T12:39:09.631Z"
   },
   {
    "duration": 9,
    "start_time": "2021-07-01T12:39:13.501Z"
   },
   {
    "duration": 11,
    "start_time": "2021-07-01T12:39:21.519Z"
   },
   {
    "duration": 10,
    "start_time": "2021-07-01T12:39:22.613Z"
   },
   {
    "duration": 8,
    "start_time": "2021-07-01T12:39:27.821Z"
   },
   {
    "duration": 8,
    "start_time": "2021-07-01T12:39:31.102Z"
   },
   {
    "duration": 9,
    "start_time": "2021-07-01T12:39:54.971Z"
   },
   {
    "duration": 9,
    "start_time": "2021-07-01T12:39:55.967Z"
   },
   {
    "duration": 8,
    "start_time": "2021-07-01T12:40:01.095Z"
   },
   {
    "duration": 9,
    "start_time": "2021-07-01T12:40:05.111Z"
   },
   {
    "duration": 9,
    "start_time": "2021-07-01T12:40:05.745Z"
   },
   {
    "duration": 9,
    "start_time": "2021-07-01T12:40:07.978Z"
   },
   {
    "duration": 8,
    "start_time": "2021-07-01T12:40:08.611Z"
   },
   {
    "duration": 1494,
    "start_time": "2021-07-01T12:40:27.306Z"
   },
   {
    "duration": 893,
    "start_time": "2021-07-01T12:40:28.803Z"
   },
   {
    "duration": 37,
    "start_time": "2021-07-01T12:40:29.698Z"
   },
   {
    "duration": 88,
    "start_time": "2021-07-01T12:40:29.737Z"
   },
   {
    "duration": 20,
    "start_time": "2021-07-01T12:40:29.827Z"
   },
   {
    "duration": 6,
    "start_time": "2021-07-01T12:40:29.947Z"
   },
   {
    "duration": 5,
    "start_time": "2021-07-01T12:40:30.560Z"
   },
   {
    "duration": 6,
    "start_time": "2021-07-01T12:40:31.756Z"
   },
   {
    "duration": 13,
    "start_time": "2021-07-01T12:40:32.453Z"
   },
   {
    "duration": 18,
    "start_time": "2021-07-01T12:40:33.118Z"
   },
   {
    "duration": 6,
    "start_time": "2021-07-01T12:40:34.884Z"
   },
   {
    "duration": 12,
    "start_time": "2021-07-01T12:40:36.208Z"
   },
   {
    "duration": 25,
    "start_time": "2021-07-01T12:40:38.128Z"
   },
   {
    "duration": 30,
    "start_time": "2021-07-01T12:40:47.256Z"
   },
   {
    "duration": 9,
    "start_time": "2021-07-01T12:40:49.385Z"
   },
   {
    "duration": 8,
    "start_time": "2021-07-01T12:40:54.164Z"
   },
   {
    "duration": 9,
    "start_time": "2021-07-01T12:40:56.649Z"
   },
   {
    "duration": 8,
    "start_time": "2021-07-01T12:40:59.173Z"
   },
   {
    "duration": 8,
    "start_time": "2021-07-01T12:41:02.181Z"
   },
   {
    "duration": 9,
    "start_time": "2021-07-01T12:41:14.774Z"
   },
   {
    "duration": 9,
    "start_time": "2021-07-01T12:42:26.348Z"
   },
   {
    "duration": 7,
    "start_time": "2021-07-01T12:42:46.501Z"
   },
   {
    "duration": 7,
    "start_time": "2021-07-01T12:42:54.865Z"
   },
   {
    "duration": 582,
    "start_time": "2021-07-01T12:42:58.708Z"
   },
   {
    "duration": 5,
    "start_time": "2021-07-01T12:43:07.598Z"
   },
   {
    "duration": 49,
    "start_time": "2021-07-01T12:43:19.098Z"
   },
   {
    "duration": -521,
    "start_time": "2021-07-01T12:43:41.291Z"
   },
   {
    "duration": 281,
    "start_time": "2021-07-01T12:43:41.437Z"
   },
   {
    "duration": 30,
    "start_time": "2021-07-01T12:43:48.952Z"
   },
   {
    "duration": 30,
    "start_time": "2021-07-01T12:44:05.042Z"
   },
   {
    "duration": 39,
    "start_time": "2021-07-01T12:45:01.118Z"
   },
   {
    "duration": 287,
    "start_time": "2021-07-01T12:45:30.962Z"
   },
   {
    "duration": 8,
    "start_time": "2021-07-01T12:45:35.817Z"
   },
   {
    "duration": 30,
    "start_time": "2021-07-01T12:45:39.391Z"
   },
   {
    "duration": 31,
    "start_time": "2021-07-01T12:45:54.875Z"
   },
   {
    "duration": 7,
    "start_time": "2021-07-01T12:48:15.178Z"
   },
   {
    "duration": 10,
    "start_time": "2021-07-01T12:48:19.733Z"
   },
   {
    "duration": 32,
    "start_time": "2021-07-01T12:48:25.347Z"
   },
   {
    "duration": 299,
    "start_time": "2021-07-01T12:50:07.733Z"
   },
   {
    "duration": 278,
    "start_time": "2021-07-01T12:50:19.015Z"
   },
   {
    "duration": 32,
    "start_time": "2021-07-01T12:50:23.475Z"
   },
   {
    "duration": 281,
    "start_time": "2021-07-01T12:50:26.831Z"
   },
   {
    "duration": 32,
    "start_time": "2021-07-01T12:50:31.353Z"
   },
   {
    "duration": 8,
    "start_time": "2021-07-01T12:51:09.496Z"
   },
   {
    "duration": 8,
    "start_time": "2021-07-01T12:51:15.505Z"
   },
   {
    "duration": 8,
    "start_time": "2021-07-01T12:51:18.587Z"
   },
   {
    "duration": 7,
    "start_time": "2021-07-01T12:52:33.560Z"
   },
   {
    "duration": 32,
    "start_time": "2021-07-01T12:53:12.569Z"
   },
   {
    "duration": 26,
    "start_time": "2021-07-01T12:54:04.944Z"
   },
   {
    "duration": 16,
    "start_time": "2021-07-01T12:54:16.603Z"
   },
   {
    "duration": 17,
    "start_time": "2021-07-01T12:54:46.264Z"
   },
   {
    "duration": 17,
    "start_time": "2021-07-01T12:54:51.030Z"
   },
   {
    "duration": 19,
    "start_time": "2021-07-01T12:54:54.795Z"
   },
   {
    "duration": 16,
    "start_time": "2021-07-01T12:54:58.024Z"
   },
   {
    "duration": 329,
    "start_time": "2021-07-01T12:56:21.796Z"
   },
   {
    "duration": 8,
    "start_time": "2021-07-01T12:56:29.020Z"
   },
   {
    "duration": 7,
    "start_time": "2021-07-01T12:56:32.515Z"
   },
   {
    "duration": 7,
    "start_time": "2021-07-01T12:56:37.941Z"
   },
   {
    "duration": 5,
    "start_time": "2021-07-01T12:59:38.465Z"
   },
   {
    "duration": 922,
    "start_time": "2021-07-01T12:59:40.262Z"
   },
   {
    "duration": 1443,
    "start_time": "2021-07-01T12:59:48.469Z"
   },
   {
    "duration": 943,
    "start_time": "2021-07-01T12:59:49.915Z"
   },
   {
    "duration": 41,
    "start_time": "2021-07-01T12:59:51.493Z"
   },
   {
    "duration": 65,
    "start_time": "2021-07-01T12:59:52.454Z"
   },
   {
    "duration": 20,
    "start_time": "2021-07-01T12:59:54.643Z"
   },
   {
    "duration": 6,
    "start_time": "2021-07-01T12:59:55.679Z"
   },
   {
    "duration": 5,
    "start_time": "2021-07-01T12:59:56.134Z"
   },
   {
    "duration": 6,
    "start_time": "2021-07-01T12:59:56.538Z"
   },
   {
    "duration": 12,
    "start_time": "2021-07-01T12:59:56.977Z"
   },
   {
    "duration": 17,
    "start_time": "2021-07-01T12:59:57.445Z"
   },
   {
    "duration": 7,
    "start_time": "2021-07-01T12:59:59.359Z"
   },
   {
    "duration": 10,
    "start_time": "2021-07-01T13:00:01.994Z"
   },
   {
    "duration": 38,
    "start_time": "2021-07-01T13:05:00.601Z"
   },
   {
    "duration": 16,
    "start_time": "2021-07-01T13:05:06.401Z"
   },
   {
    "duration": 520,
    "start_time": "2021-07-01T13:05:11.224Z"
   },
   {
    "duration": 342,
    "start_time": "2021-07-01T13:05:23.635Z"
   },
   {
    "duration": 309,
    "start_time": "2021-07-01T13:05:30.443Z"
   },
   {
    "duration": 322,
    "start_time": "2021-07-01T13:05:41.667Z"
   },
   {
    "duration": 18,
    "start_time": "2021-07-01T13:05:50.652Z"
   },
   {
    "duration": 13,
    "start_time": "2021-07-01T13:05:56.496Z"
   },
   {
    "duration": 330,
    "start_time": "2021-07-01T13:06:11.729Z"
   },
   {
    "duration": 11,
    "start_time": "2021-07-01T13:06:18.605Z"
   },
   {
    "duration": 13,
    "start_time": "2021-07-01T13:06:27.084Z"
   },
   {
    "duration": 15,
    "start_time": "2021-07-01T13:06:34.413Z"
   },
   {
    "duration": 279,
    "start_time": "2021-07-01T13:06:45.962Z"
   },
   {
    "duration": 13,
    "start_time": "2021-07-01T13:06:54.322Z"
   },
   {
    "duration": 31,
    "start_time": "2021-07-01T13:10:08.704Z"
   },
   {
    "duration": 8,
    "start_time": "2021-07-01T13:10:13.916Z"
   },
   {
    "duration": 43,
    "start_time": "2021-07-01T13:13:14.612Z"
   },
   {
    "duration": 38,
    "start_time": "2021-07-01T13:13:23.010Z"
   },
   {
    "duration": 347,
    "start_time": "2021-07-01T13:13:33.452Z"
   },
   {
    "duration": 57,
    "start_time": "2021-07-01T13:13:38.489Z"
   },
   {
    "duration": 56,
    "start_time": "2021-07-01T13:14:12.592Z"
   },
   {
    "duration": 40,
    "start_time": "2021-07-01T13:14:49.430Z"
   },
   {
    "duration": 8,
    "start_time": "2021-07-01T13:15:15.175Z"
   },
   {
    "duration": 6,
    "start_time": "2021-07-01T13:16:20.224Z"
   },
   {
    "duration": 18,
    "start_time": "2021-07-01T13:16:28.290Z"
   },
   {
    "duration": 9,
    "start_time": "2021-07-01T13:16:42.745Z"
   },
   {
    "duration": 26,
    "start_time": "2021-07-01T13:17:01.505Z"
   },
   {
    "duration": 5,
    "start_time": "2021-07-01T13:17:25.703Z"
   },
   {
    "duration": 4505,
    "start_time": "2021-07-01T13:17:37.996Z"
   },
   {
    "duration": 7,
    "start_time": "2021-07-01T13:17:44.862Z"
   },
   {
    "duration": 21,
    "start_time": "2021-07-01T13:17:50.141Z"
   },
   {
    "duration": 8,
    "start_time": "2021-07-01T13:17:56.243Z"
   },
   {
    "duration": 21,
    "start_time": "2021-07-01T13:19:55.567Z"
   },
   {
    "duration": 10200,
    "start_time": "2021-07-01T13:20:09.837Z"
   },
   {
    "duration": 9,
    "start_time": "2021-07-01T13:21:36.513Z"
   },
   {
    "duration": 36,
    "start_time": "2021-07-01T13:21:47.648Z"
   },
   {
    "duration": 13,
    "start_time": "2021-07-01T13:21:51.557Z"
   },
   {
    "duration": 6,
    "start_time": "2021-07-01T13:21:59.493Z"
   },
   {
    "duration": 7,
    "start_time": "2021-07-01T13:22:06.854Z"
   },
   {
    "duration": 12,
    "start_time": "2021-07-01T13:25:04.108Z"
   },
   {
    "duration": 13,
    "start_time": "2021-07-01T13:25:07.586Z"
   },
   {
    "duration": 13,
    "start_time": "2021-07-01T13:25:12.110Z"
   },
   {
    "duration": 13,
    "start_time": "2021-07-01T13:25:22.625Z"
   },
   {
    "duration": 13,
    "start_time": "2021-07-01T13:25:34.025Z"
   },
   {
    "duration": 12,
    "start_time": "2021-07-01T13:25:45.591Z"
   },
   {
    "duration": 13,
    "start_time": "2021-07-01T13:25:48.212Z"
   },
   {
    "duration": 14,
    "start_time": "2021-07-01T13:25:51.257Z"
   },
   {
    "duration": 13,
    "start_time": "2021-07-01T13:25:53.931Z"
   },
   {
    "duration": 14,
    "start_time": "2021-07-01T13:25:57.672Z"
   },
   {
    "duration": 14,
    "start_time": "2021-07-01T13:26:06.588Z"
   },
   {
    "duration": 18,
    "start_time": "2021-07-01T13:26:11.377Z"
   },
   {
    "duration": 14,
    "start_time": "2021-07-01T13:26:30.250Z"
   },
   {
    "duration": 14,
    "start_time": "2021-07-01T13:26:39.746Z"
   },
   {
    "duration": 8,
    "start_time": "2021-07-01T13:27:25.463Z"
   },
   {
    "duration": 12,
    "start_time": "2021-07-01T13:27:28.937Z"
   },
   {
    "duration": 24,
    "start_time": "2021-07-01T13:27:47.610Z"
   },
   {
    "duration": 460,
    "start_time": "2021-07-01T13:28:09.994Z"
   },
   {
    "duration": 276,
    "start_time": "2021-07-01T13:28:20.977Z"
   },
   {
    "duration": 466,
    "start_time": "2021-07-01T13:28:23.349Z"
   },
   {
    "duration": 624,
    "start_time": "2021-07-01T13:30:38.977Z"
   },
   {
    "duration": 612,
    "start_time": "2021-07-01T13:31:00.700Z"
   },
   {
    "duration": 597,
    "start_time": "2021-07-01T13:31:13.661Z"
   },
   {
    "duration": 573,
    "start_time": "2021-07-01T13:31:19.228Z"
   },
   {
    "duration": 4,
    "start_time": "2021-07-01T13:41:31.662Z"
   },
   {
    "duration": 10,
    "start_time": "2021-07-01T13:45:22.882Z"
   },
   {
    "duration": 10,
    "start_time": "2021-07-01T13:45:30.322Z"
   },
   {
    "duration": 283,
    "start_time": "2021-07-01T13:45:40.484Z"
   },
   {
    "duration": 348,
    "start_time": "2021-07-01T13:45:45.604Z"
   },
   {
    "duration": 10,
    "start_time": "2021-07-01T13:45:47.690Z"
   },
   {
    "duration": 11,
    "start_time": "2021-07-01T13:45:53.020Z"
   },
   {
    "duration": 13,
    "start_time": "2021-07-01T13:47:05.265Z"
   },
   {
    "duration": 333,
    "start_time": "2021-07-01T13:47:15.710Z"
   },
   {
    "duration": 12,
    "start_time": "2021-07-01T13:47:32.465Z"
   },
   {
    "duration": 12,
    "start_time": "2021-07-01T13:47:52.343Z"
   },
   {
    "duration": 12,
    "start_time": "2021-07-01T13:47:59.889Z"
   },
   {
    "duration": 12,
    "start_time": "2021-07-01T13:48:01.971Z"
   },
   {
    "duration": 18,
    "start_time": "2021-07-01T13:48:12.213Z"
   },
   {
    "duration": 12,
    "start_time": "2021-07-01T13:48:20.796Z"
   },
   {
    "duration": 11,
    "start_time": "2021-07-01T13:48:23.872Z"
   },
   {
    "duration": 12,
    "start_time": "2021-07-01T13:48:34.014Z"
   },
   {
    "duration": 12,
    "start_time": "2021-07-01T13:48:39.811Z"
   },
   {
    "duration": 11,
    "start_time": "2021-07-01T13:48:43.794Z"
   },
   {
    "duration": 7,
    "start_time": "2021-07-01T13:49:34.302Z"
   },
   {
    "duration": 42,
    "start_time": "2021-07-01T13:50:00.505Z"
   },
   {
    "duration": 74,
    "start_time": "2021-07-01T13:50:31.654Z"
   },
   {
    "duration": 13,
    "start_time": "2021-07-01T13:51:48.643Z"
   },
   {
    "duration": 43,
    "start_time": "2021-07-01T13:53:06.501Z"
   },
   {
    "duration": 6,
    "start_time": "2021-07-01T13:53:28.118Z"
   },
   {
    "duration": 6,
    "start_time": "2021-07-01T13:53:35.647Z"
   },
   {
    "duration": 7,
    "start_time": "2021-07-01T13:53:50.021Z"
   },
   {
    "duration": 17,
    "start_time": "2021-07-01T13:55:08.043Z"
   },
   {
    "duration": 16,
    "start_time": "2021-07-01T13:56:12.192Z"
   },
   {
    "duration": 1274,
    "start_time": "2021-07-01T13:56:25.726Z"
   },
   {
    "duration": 13,
    "start_time": "2021-07-01T13:56:29.338Z"
   },
   {
    "duration": 7,
    "start_time": "2021-07-01T13:58:44.726Z"
   },
   {
    "duration": 51,
    "start_time": "2021-07-01T13:58:49.264Z"
   },
   {
    "duration": 11,
    "start_time": "2021-07-01T13:59:12.710Z"
   },
   {
    "duration": 11,
    "start_time": "2021-07-01T13:59:16.579Z"
   },
   {
    "duration": 13,
    "start_time": "2021-07-01T13:59:34.022Z"
   },
   {
    "duration": 13,
    "start_time": "2021-07-01T13:59:39.090Z"
   },
   {
    "duration": 13,
    "start_time": "2021-07-01T13:59:41.484Z"
   },
   {
    "duration": 13,
    "start_time": "2021-07-01T13:59:44.571Z"
   },
   {
    "duration": 46,
    "start_time": "2021-07-01T14:00:02.969Z"
   },
   {
    "duration": 1391,
    "start_time": "2021-07-01T14:00:19.954Z"
   },
   {
    "duration": 890,
    "start_time": "2021-07-01T14:00:21.653Z"
   },
   {
    "duration": 37,
    "start_time": "2021-07-01T14:00:22.546Z"
   },
   {
    "duration": 65,
    "start_time": "2021-07-01T14:00:22.976Z"
   },
   {
    "duration": 20,
    "start_time": "2021-07-01T14:00:23.520Z"
   },
   {
    "duration": 5,
    "start_time": "2021-07-01T14:00:24.033Z"
   },
   {
    "duration": 5,
    "start_time": "2021-07-01T14:00:24.329Z"
   },
   {
    "duration": 5,
    "start_time": "2021-07-01T14:00:24.649Z"
   },
   {
    "duration": 13,
    "start_time": "2021-07-01T14:00:25.019Z"
   },
   {
    "duration": 19,
    "start_time": "2021-07-01T14:00:25.495Z"
   },
   {
    "duration": 6,
    "start_time": "2021-07-01T14:00:26.291Z"
   },
   {
    "duration": 13,
    "start_time": "2021-07-01T14:00:27.556Z"
   },
   {
    "duration": 25,
    "start_time": "2021-07-01T14:00:31.796Z"
   },
   {
    "duration": 25,
    "start_time": "2021-07-01T14:01:14.164Z"
   },
   {
    "duration": 8,
    "start_time": "2021-07-01T14:01:38.180Z"
   },
   {
    "duration": 31,
    "start_time": "2021-07-01T14:01:46.441Z"
   },
   {
    "duration": 29,
    "start_time": "2021-07-01T14:02:04.544Z"
   },
   {
    "duration": 42,
    "start_time": "2021-07-01T14:02:18.380Z"
   },
   {
    "duration": 9,
    "start_time": "2021-07-01T14:02:25.889Z"
   },
   {
    "duration": 2038,
    "start_time": "2021-07-01T14:02:39.518Z"
   },
   {
    "duration": 9,
    "start_time": "2021-07-01T14:02:49.578Z"
   },
   {
    "duration": 1947,
    "start_time": "2021-07-01T14:03:04.536Z"
   },
   {
    "duration": 8,
    "start_time": "2021-07-01T14:04:39.419Z"
   },
   {
    "duration": 7,
    "start_time": "2021-07-01T14:04:44.592Z"
   },
   {
    "duration": 7,
    "start_time": "2021-07-01T14:05:16.524Z"
   },
   {
    "duration": 39,
    "start_time": "2021-07-01T14:05:23.347Z"
   },
   {
    "duration": 103,
    "start_time": "2021-07-01T14:05:40.711Z"
   },
   {
    "duration": 101,
    "start_time": "2021-07-01T14:06:09.619Z"
   },
   {
    "duration": 8,
    "start_time": "2021-07-01T14:06:14.430Z"
   },
   {
    "duration": 11,
    "start_time": "2021-07-01T14:06:41.246Z"
   },
   {
    "duration": 1896,
    "start_time": "2021-07-01T14:06:49.226Z"
   },
   {
    "duration": 392,
    "start_time": "2021-07-01T14:06:59.114Z"
   },
   {
    "duration": 1952,
    "start_time": "2021-07-01T14:07:01.236Z"
   },
   {
    "duration": 51,
    "start_time": "2021-07-01T14:07:16.383Z"
   },
   {
    "duration": 67,
    "start_time": "2021-07-01T14:08:41.404Z"
   },
   {
    "duration": 50,
    "start_time": "2021-07-01T14:08:47.647Z"
   },
   {
    "duration": 1526,
    "start_time": "2021-07-01T14:12:30.604Z"
   },
   {
    "duration": 924,
    "start_time": "2021-07-01T14:12:32.133Z"
   },
   {
    "duration": 35,
    "start_time": "2021-07-01T14:12:33.060Z"
   },
   {
    "duration": 61,
    "start_time": "2021-07-01T14:12:33.098Z"
   },
   {
    "duration": 21,
    "start_time": "2021-07-01T14:12:33.162Z"
   },
   {
    "duration": 15,
    "start_time": "2021-07-01T14:12:33.185Z"
   },
   {
    "duration": 8,
    "start_time": "2021-07-01T14:12:33.202Z"
   },
   {
    "duration": 9,
    "start_time": "2021-07-01T14:12:33.213Z"
   },
   {
    "duration": 33,
    "start_time": "2021-07-01T14:12:33.225Z"
   },
   {
    "duration": 18,
    "start_time": "2021-07-01T14:12:33.260Z"
   },
   {
    "duration": 6,
    "start_time": "2021-07-01T14:12:33.772Z"
   },
   {
    "duration": 13,
    "start_time": "2021-07-01T14:12:33.782Z"
   },
   {
    "duration": 24,
    "start_time": "2021-07-01T14:12:34.167Z"
   },
   {
    "duration": 42,
    "start_time": "2021-07-01T14:12:35.339Z"
   },
   {
    "duration": 8,
    "start_time": "2021-07-01T14:12:42.856Z"
   },
   {
    "duration": 8,
    "start_time": "2021-07-01T14:12:47.485Z"
   },
   {
    "duration": 25,
    "start_time": "2021-07-01T14:17:40.971Z"
   },
   {
    "duration": 8,
    "start_time": "2021-07-01T14:17:53.127Z"
   },
   {
    "duration": 12,
    "start_time": "2021-07-01T14:18:09.143Z"
   },
   {
    "duration": 9,
    "start_time": "2021-07-01T14:18:18.055Z"
   },
   {
    "duration": 1502,
    "start_time": "2021-07-01T14:18:31.648Z"
   },
   {
    "duration": 1132,
    "start_time": "2021-07-01T14:18:33.152Z"
   },
   {
    "duration": 49,
    "start_time": "2021-07-01T14:18:34.287Z"
   },
   {
    "duration": 87,
    "start_time": "2021-07-01T14:18:34.339Z"
   },
   {
    "duration": 23,
    "start_time": "2021-07-01T14:18:34.429Z"
   },
   {
    "duration": 6,
    "start_time": "2021-07-01T14:18:34.455Z"
   },
   {
    "duration": 37,
    "start_time": "2021-07-01T14:18:34.464Z"
   },
   {
    "duration": 7,
    "start_time": "2021-07-01T14:18:34.503Z"
   },
   {
    "duration": 12,
    "start_time": "2021-07-01T14:18:34.515Z"
   },
   {
    "duration": 22,
    "start_time": "2021-07-01T14:18:34.529Z"
   },
   {
    "duration": 16,
    "start_time": "2021-07-01T14:18:34.554Z"
   },
   {
    "duration": 9,
    "start_time": "2021-07-01T14:18:34.602Z"
   },
   {
    "duration": 34,
    "start_time": "2021-07-01T14:18:34.618Z"
   },
   {
    "duration": 8,
    "start_time": "2021-07-01T14:18:34.654Z"
   },
   {
    "duration": 57,
    "start_time": "2021-07-01T14:20:22.758Z"
   },
   {
    "duration": 24,
    "start_time": "2021-07-01T14:20:50.090Z"
   },
   {
    "duration": 4,
    "start_time": "2021-07-01T14:21:20.956Z"
   },
   {
    "duration": 4,
    "start_time": "2021-07-01T14:21:32.699Z"
   },
   {
    "duration": 1526,
    "start_time": "2021-07-01T14:21:44.930Z"
   },
   {
    "duration": 889,
    "start_time": "2021-07-01T14:21:46.458Z"
   },
   {
    "duration": 36,
    "start_time": "2021-07-01T14:21:47.350Z"
   },
   {
    "duration": 11,
    "start_time": "2021-07-01T14:21:47.389Z"
   },
   {
    "duration": 60,
    "start_time": "2021-07-01T14:21:47.403Z"
   },
   {
    "duration": 416,
    "start_time": "2021-07-01T14:21:47.466Z"
   },
   {
    "duration": -527,
    "start_time": "2021-07-01T14:21:48.412Z"
   },
   {
    "duration": -528,
    "start_time": "2021-07-01T14:21:48.414Z"
   },
   {
    "duration": -528,
    "start_time": "2021-07-01T14:21:48.415Z"
   },
   {
    "duration": -529,
    "start_time": "2021-07-01T14:21:48.417Z"
   },
   {
    "duration": -529,
    "start_time": "2021-07-01T14:21:48.419Z"
   },
   {
    "duration": -529,
    "start_time": "2021-07-01T14:21:48.420Z"
   },
   {
    "duration": -529,
    "start_time": "2021-07-01T14:21:48.421Z"
   },
   {
    "duration": -530,
    "start_time": "2021-07-01T14:21:48.423Z"
   },
   {
    "duration": -530,
    "start_time": "2021-07-01T14:21:48.424Z"
   },
   {
    "duration": 22,
    "start_time": "2021-07-01T14:22:04.921Z"
   },
   {
    "duration": 5,
    "start_time": "2021-07-01T14:22:07.412Z"
   },
   {
    "duration": 4,
    "start_time": "2021-07-01T14:22:07.732Z"
   },
   {
    "duration": 5,
    "start_time": "2021-07-01T14:22:08.446Z"
   },
   {
    "duration": 14,
    "start_time": "2021-07-01T14:22:08.753Z"
   },
   {
    "duration": 18,
    "start_time": "2021-07-01T14:22:09.101Z"
   },
   {
    "duration": 6,
    "start_time": "2021-07-01T14:22:09.621Z"
   },
   {
    "duration": 11,
    "start_time": "2021-07-01T14:22:11.514Z"
   },
   {
    "duration": 23,
    "start_time": "2021-07-01T14:22:15.713Z"
   },
   {
    "duration": 13,
    "start_time": "2021-07-01T14:22:58.337Z"
   },
   {
    "duration": 27,
    "start_time": "2021-07-01T14:23:03.138Z"
   },
   {
    "duration": 25,
    "start_time": "2021-07-01T14:23:12.416Z"
   },
   {
    "duration": 26,
    "start_time": "2021-07-01T14:23:20.683Z"
   },
   {
    "duration": 26,
    "start_time": "2021-07-01T14:23:49.785Z"
   },
   {
    "duration": 26,
    "start_time": "2021-07-01T14:23:56.638Z"
   },
   {
    "duration": 25,
    "start_time": "2021-07-01T14:24:03.109Z"
   },
   {
    "duration": 76,
    "start_time": "2021-07-01T14:30:54.540Z"
   },
   {
    "duration": 14,
    "start_time": "2021-07-01T14:31:20.004Z"
   },
   {
    "duration": 94,
    "start_time": "2021-07-01T14:33:17.490Z"
   },
   {
    "duration": 108,
    "start_time": "2021-07-01T14:33:21.033Z"
   },
   {
    "duration": 4,
    "start_time": "2021-07-01T14:33:27.330Z"
   },
   {
    "duration": 5,
    "start_time": "2021-07-01T14:33:51.772Z"
   },
   {
    "duration": 4,
    "start_time": "2021-07-01T14:34:40.364Z"
   },
   {
    "duration": 6,
    "start_time": "2021-07-01T14:34:40.885Z"
   },
   {
    "duration": 6,
    "start_time": "2021-07-01T14:35:07.552Z"
   },
   {
    "duration": 5,
    "start_time": "2021-07-01T14:35:08.068Z"
   },
   {
    "duration": 3,
    "start_time": "2021-07-01T14:35:26.132Z"
   },
   {
    "duration": 7,
    "start_time": "2021-07-01T14:35:26.307Z"
   },
   {
    "duration": 6,
    "start_time": "2021-07-01T14:36:39.816Z"
   },
   {
    "duration": 4,
    "start_time": "2021-07-01T14:36:54.772Z"
   },
   {
    "duration": 4,
    "start_time": "2021-07-01T14:37:00.137Z"
   },
   {
    "duration": 4,
    "start_time": "2021-07-01T14:38:48.382Z"
   },
   {
    "duration": 4,
    "start_time": "2021-07-01T14:39:00.390Z"
   },
   {
    "duration": 13,
    "start_time": "2021-07-01T14:41:29.537Z"
   },
   {
    "duration": 10,
    "start_time": "2021-07-01T14:42:01.085Z"
   },
   {
    "duration": 6,
    "start_time": "2021-07-01T14:42:42.139Z"
   },
   {
    "duration": 8,
    "start_time": "2021-07-01T14:42:47.934Z"
   },
   {
    "duration": 99,
    "start_time": "2021-07-01T14:43:12.349Z"
   },
   {
    "duration": 359,
    "start_time": "2021-07-01T14:43:15.712Z"
   },
   {
    "duration": 10,
    "start_time": "2021-07-01T14:43:20.220Z"
   },
   {
    "duration": 6,
    "start_time": "2021-07-01T14:43:28.590Z"
   },
   {
    "duration": 99,
    "start_time": "2021-07-01T14:44:51.264Z"
   },
   {
    "duration": 6,
    "start_time": "2021-07-01T14:45:17.479Z"
   },
   {
    "duration": 9,
    "start_time": "2021-07-01T14:45:29.312Z"
   },
   {
    "duration": 7,
    "start_time": "2021-07-01T14:45:32.903Z"
   },
   {
    "duration": 6,
    "start_time": "2021-07-01T14:45:54.748Z"
   },
   {
    "duration": 9,
    "start_time": "2021-07-01T14:46:26.657Z"
   },
   {
    "duration": 9,
    "start_time": "2021-07-01T14:47:03.682Z"
   },
   {
    "duration": 11,
    "start_time": "2021-07-01T14:47:34.898Z"
   },
   {
    "duration": 8,
    "start_time": "2021-07-01T14:48:24.152Z"
   },
   {
    "duration": 8,
    "start_time": "2021-07-01T14:48:31.568Z"
   },
   {
    "duration": 7,
    "start_time": "2021-07-01T14:48:44.526Z"
   },
   {
    "duration": 6,
    "start_time": "2021-07-01T14:50:26.935Z"
   },
   {
    "duration": 6,
    "start_time": "2021-07-01T14:50:31.308Z"
   },
   {
    "duration": 6,
    "start_time": "2021-07-01T14:51:00.523Z"
   },
   {
    "duration": 14,
    "start_time": "2021-07-01T14:51:43.405Z"
   },
   {
    "duration": 16,
    "start_time": "2021-07-01T14:52:06.774Z"
   },
   {
    "duration": 10,
    "start_time": "2021-07-01T14:54:31.255Z"
   },
   {
    "duration": 339,
    "start_time": "2021-07-01T14:55:38.961Z"
   },
   {
    "duration": 6,
    "start_time": "2021-07-01T14:56:35.394Z"
   },
   {
    "duration": 299,
    "start_time": "2021-07-01T14:56:48.945Z"
   },
   {
    "duration": 317,
    "start_time": "2021-07-01T14:57:02.676Z"
   },
   {
    "duration": 296,
    "start_time": "2021-07-01T14:57:16.525Z"
   },
   {
    "duration": 13,
    "start_time": "2021-07-01T14:57:47.812Z"
   },
   {
    "duration": 7,
    "start_time": "2021-07-01T14:58:31.585Z"
   },
   {
    "duration": 105,
    "start_time": "2021-07-01T14:59:00.140Z"
   },
   {
    "duration": 277,
    "start_time": "2021-07-01T14:59:03.446Z"
   },
   {
    "duration": 131,
    "start_time": "2021-07-01T14:59:08.568Z"
   },
   {
    "duration": 310,
    "start_time": "2021-07-01T14:59:10.887Z"
   },
   {
    "duration": 7,
    "start_time": "2021-07-01T14:59:19.289Z"
   },
   {
    "duration": 8,
    "start_time": "2021-07-01T14:59:27.174Z"
   },
   {
    "duration": 7,
    "start_time": "2021-07-01T14:59:35.117Z"
   },
   {
    "duration": 7,
    "start_time": "2021-07-01T14:59:40.033Z"
   },
   {
    "duration": 11,
    "start_time": "2021-07-01T14:59:43.609Z"
   },
   {
    "duration": 93,
    "start_time": "2021-07-01T15:00:00.879Z"
   },
   {
    "duration": 10,
    "start_time": "2021-07-01T15:00:04.129Z"
   },
   {
    "duration": 117,
    "start_time": "2021-07-01T15:00:09.568Z"
   },
   {
    "duration": 11,
    "start_time": "2021-07-01T15:00:12.075Z"
   },
   {
    "duration": 7,
    "start_time": "2021-07-01T15:00:19.217Z"
   },
   {
    "duration": 8,
    "start_time": "2021-07-01T15:00:23.225Z"
   },
   {
    "duration": 10,
    "start_time": "2021-07-01T15:00:33.799Z"
   },
   {
    "duration": 5,
    "start_time": "2021-07-01T15:01:01.651Z"
   },
   {
    "duration": 8,
    "start_time": "2021-07-01T15:01:03.166Z"
   },
   {
    "duration": 6,
    "start_time": "2021-07-01T15:01:11.574Z"
   },
   {
    "duration": 7,
    "start_time": "2021-07-01T15:01:12.068Z"
   },
   {
    "duration": 7,
    "start_time": "2021-07-01T15:01:18.140Z"
   },
   {
    "duration": 4,
    "start_time": "2021-07-01T15:01:29.527Z"
   },
   {
    "duration": 8,
    "start_time": "2021-07-01T15:01:35.821Z"
   },
   {
    "duration": 7,
    "start_time": "2021-07-01T15:02:05.172Z"
   },
   {
    "duration": 6,
    "start_time": "2021-07-01T15:03:08.248Z"
   },
   {
    "duration": 5,
    "start_time": "2021-07-01T15:03:42.475Z"
   },
   {
    "duration": 9,
    "start_time": "2021-07-01T15:05:14.028Z"
   },
   {
    "duration": 9,
    "start_time": "2021-07-01T15:05:25.727Z"
   },
   {
    "duration": 15,
    "start_time": "2021-07-01T15:05:27.884Z"
   },
   {
    "duration": 16,
    "start_time": "2021-07-01T15:05:32.180Z"
   },
   {
    "duration": 17,
    "start_time": "2021-07-01T15:05:35.400Z"
   },
   {
    "duration": 317,
    "start_time": "2021-07-01T15:07:40.307Z"
   },
   {
    "duration": 309,
    "start_time": "2021-07-01T15:07:44.224Z"
   },
   {
    "duration": 9,
    "start_time": "2021-07-01T15:07:57.218Z"
   },
   {
    "duration": 7,
    "start_time": "2021-07-01T15:08:02.370Z"
   },
   {
    "duration": 9,
    "start_time": "2021-07-01T15:08:28.176Z"
   },
   {
    "duration": 6,
    "start_time": "2021-07-01T15:08:37.907Z"
   },
   {
    "duration": 292,
    "start_time": "2021-07-01T15:10:25.238Z"
   },
   {
    "duration": 8,
    "start_time": "2021-07-01T15:10:29.538Z"
   },
   {
    "duration": 6,
    "start_time": "2021-07-01T15:10:33.876Z"
   },
   {
    "duration": 8,
    "start_time": "2021-07-01T15:10:42.485Z"
   },
   {
    "duration": 373,
    "start_time": "2021-07-01T15:10:45.765Z"
   },
   {
    "duration": 10,
    "start_time": "2021-07-01T15:10:48.904Z"
   },
   {
    "duration": 6,
    "start_time": "2021-07-01T15:10:49.199Z"
   },
   {
    "duration": 9,
    "start_time": "2021-07-01T15:11:00.235Z"
   },
   {
    "duration": 4,
    "start_time": "2021-07-01T15:12:39.724Z"
   },
   {
    "duration": 322,
    "start_time": "2021-07-01T15:14:13.783Z"
   },
   {
    "duration": 18,
    "start_time": "2021-07-01T15:14:16.711Z"
   },
   {
    "duration": 4,
    "start_time": "2021-07-01T15:15:03.663Z"
   },
   {
    "duration": 4,
    "start_time": "2021-07-01T15:15:09.489Z"
   },
   {
    "duration": 4,
    "start_time": "2021-07-01T15:15:19.486Z"
   },
   {
    "duration": 99,
    "start_time": "2021-07-01T15:16:07.533Z"
   },
   {
    "duration": 109,
    "start_time": "2021-07-01T15:16:31.695Z"
   },
   {
    "duration": 7291,
    "start_time": "2021-07-01T15:16:47.555Z"
   },
   {
    "duration": 296,
    "start_time": "2021-07-01T15:16:59.411Z"
   },
   {
    "duration": 7528,
    "start_time": "2021-07-01T15:17:17.588Z"
   },
   {
    "duration": 4,
    "start_time": "2021-07-01T15:17:38.635Z"
   },
   {
    "duration": 5,
    "start_time": "2021-07-01T15:17:44.283Z"
   },
   {
    "duration": 289,
    "start_time": "2021-07-01T15:18:02.888Z"
   },
   {
    "duration": -536,
    "start_time": "2021-07-01T15:18:20.666Z"
   },
   {
    "duration": 6994,
    "start_time": "2021-07-01T15:18:20.760Z"
   },
   {
    "duration": 23,
    "start_time": "2021-07-01T15:18:42.019Z"
   },
   {
    "duration": 8,
    "start_time": "2021-07-01T15:18:57.583Z"
   },
   {
    "duration": 11,
    "start_time": "2021-07-01T15:19:11.392Z"
   },
   {
    "duration": 6,
    "start_time": "2021-07-01T15:19:21.057Z"
   },
   {
    "duration": 5,
    "start_time": "2021-07-01T15:19:23.781Z"
   },
   {
    "duration": 6,
    "start_time": "2021-07-01T15:19:26.564Z"
   },
   {
    "duration": 102,
    "start_time": "2021-07-01T15:19:33.952Z"
   },
   {
    "duration": 564,
    "start_time": "2021-07-01T15:19:47.313Z"
   },
   {
    "duration": 466,
    "start_time": "2021-07-01T15:19:52.866Z"
   },
   {
    "duration": 10,
    "start_time": "2021-07-01T15:20:01.596Z"
   },
   {
    "duration": 14,
    "start_time": "2021-07-01T15:20:03.451Z"
   },
   {
    "duration": 11,
    "start_time": "2021-07-01T15:20:28.636Z"
   },
   {
    "duration": 13,
    "start_time": "2021-07-01T15:20:29.843Z"
   },
   {
    "duration": 16,
    "start_time": "2021-07-01T15:20:32.133Z"
   },
   {
    "duration": 24,
    "start_time": "2021-07-01T15:22:28.347Z"
   },
   {
    "duration": 7,
    "start_time": "2021-07-01T15:25:11.644Z"
   },
   {
    "duration": 9,
    "start_time": "2021-07-01T15:27:30.818Z"
   },
   {
    "duration": 5,
    "start_time": "2021-07-01T15:27:34.968Z"
   },
   {
    "duration": 6,
    "start_time": "2021-07-01T15:27:38.329Z"
   },
   {
    "duration": 7,
    "start_time": "2021-07-01T15:27:47.202Z"
   },
   {
    "duration": 6,
    "start_time": "2021-07-01T15:27:52.547Z"
   },
   {
    "duration": 8,
    "start_time": "2021-07-01T15:28:04.891Z"
   },
   {
    "duration": 5,
    "start_time": "2021-07-01T15:28:07.544Z"
   },
   {
    "duration": 6,
    "start_time": "2021-07-01T15:28:10.226Z"
   },
   {
    "duration": 309,
    "start_time": "2021-07-01T15:28:13.078Z"
   },
   {
    "duration": 8,
    "start_time": "2021-07-01T15:28:23.185Z"
   },
   {
    "duration": 6,
    "start_time": "2021-07-01T15:28:24.798Z"
   },
   {
    "duration": 7,
    "start_time": "2021-07-01T15:28:27.524Z"
   },
   {
    "duration": 5,
    "start_time": "2021-07-01T15:28:29.991Z"
   },
   {
    "duration": 291,
    "start_time": "2021-07-01T15:30:04.880Z"
   },
   {
    "duration": 5,
    "start_time": "2021-07-01T15:30:25.149Z"
   },
   {
    "duration": 6,
    "start_time": "2021-07-01T15:30:30.499Z"
   },
   {
    "duration": 468,
    "start_time": "2021-07-01T15:30:44.982Z"
   },
   {
    "duration": 283,
    "start_time": "2021-07-01T15:30:58.187Z"
   },
   {
    "duration": 9,
    "start_time": "2021-07-01T15:31:01.639Z"
   },
   {
    "duration": 7,
    "start_time": "2021-07-01T15:31:09.719Z"
   },
   {
    "duration": 8,
    "start_time": "2021-07-01T15:31:50.090Z"
   },
   {
    "duration": 18,
    "start_time": "2021-07-01T15:31:52.395Z"
   },
   {
    "duration": 92,
    "start_time": "2021-07-01T15:32:29.442Z"
   },
   {
    "duration": 4,
    "start_time": "2021-07-01T15:32:35.915Z"
   },
   {
    "duration": 1015,
    "start_time": "2021-07-01T15:32:44.625Z"
   },
   {
    "duration": 5,
    "start_time": "2021-07-01T15:33:09.615Z"
   },
   {
    "duration": 319,
    "start_time": "2021-07-01T15:33:14.946Z"
   },
   {
    "duration": 301,
    "start_time": "2021-07-01T15:33:17.755Z"
   },
   {
    "duration": 4,
    "start_time": "2021-07-01T15:33:23.426Z"
   },
   {
    "duration": 6,
    "start_time": "2021-07-01T15:34:12.673Z"
   },
   {
    "duration": 5,
    "start_time": "2021-07-01T15:34:34.921Z"
   },
   {
    "duration": 6,
    "start_time": "2021-07-01T15:34:37.706Z"
   },
   {
    "duration": 5,
    "start_time": "2021-07-01T15:34:51.547Z"
   },
   {
    "duration": 5,
    "start_time": "2021-07-01T15:34:55.125Z"
   },
   {
    "duration": 314,
    "start_time": "2021-07-01T15:34:57.342Z"
   },
   {
    "duration": 5,
    "start_time": "2021-07-01T15:34:59.979Z"
   },
   {
    "duration": 4,
    "start_time": "2021-07-01T15:36:34.435Z"
   },
   {
    "duration": 7,
    "start_time": "2021-07-01T15:36:38.006Z"
   },
   {
    "duration": 6,
    "start_time": "2021-07-01T15:36:43.140Z"
   },
   {
    "duration": 5,
    "start_time": "2021-07-01T15:36:47.361Z"
   },
   {
    "duration": 6,
    "start_time": "2021-07-01T15:36:49.895Z"
   },
   {
    "duration": 6,
    "start_time": "2021-07-01T15:37:12.552Z"
   },
   {
    "duration": 307,
    "start_time": "2021-07-01T15:38:06.138Z"
   },
   {
    "duration": 287,
    "start_time": "2021-07-01T15:38:18.022Z"
   },
   {
    "duration": 205,
    "start_time": "2021-07-01T15:38:31.196Z"
   },
   {
    "duration": 3593,
    "start_time": "2021-07-01T15:38:35.955Z"
   },
   {
    "duration": 4268,
    "start_time": "2021-07-01T15:38:42.289Z"
   },
   {
    "duration": 296,
    "start_time": "2021-07-01T15:38:52.210Z"
   },
   {
    "duration": 341,
    "start_time": "2021-07-01T15:39:11.022Z"
   },
   {
    "duration": 8,
    "start_time": "2021-07-01T15:39:15.738Z"
   },
   {
    "duration": 22,
    "start_time": "2021-07-01T15:39:24.606Z"
   },
   {
    "duration": 8,
    "start_time": "2021-07-01T15:39:46.664Z"
   },
   {
    "duration": 15,
    "start_time": "2021-07-01T15:39:48.949Z"
   },
   {
    "duration": 512,
    "start_time": "2021-07-01T15:39:55.854Z"
   },
   {
    "duration": 8,
    "start_time": "2021-07-01T15:40:24.970Z"
   },
   {
    "duration": 18,
    "start_time": "2021-07-01T15:40:27.353Z"
   },
   {
    "duration": 301,
    "start_time": "2021-07-01T15:40:56.301Z"
   },
   {
    "duration": 9,
    "start_time": "2021-07-01T15:41:09.103Z"
   },
   {
    "duration": 14,
    "start_time": "2021-07-01T15:41:11.878Z"
   },
   {
    "duration": 15,
    "start_time": "2021-07-01T15:41:16.589Z"
   },
   {
    "duration": 15,
    "start_time": "2021-07-01T15:41:18.880Z"
   },
   {
    "duration": 15,
    "start_time": "2021-07-01T15:41:22.729Z"
   },
   {
    "duration": 16,
    "start_time": "2021-07-01T15:41:26.214Z"
   },
   {
    "duration": 14,
    "start_time": "2021-07-01T15:41:28.817Z"
   },
   {
    "duration": 614,
    "start_time": "2021-07-01T15:41:45.116Z"
   },
   {
    "duration": 10,
    "start_time": "2021-07-01T15:41:56.449Z"
   },
   {
    "duration": 15,
    "start_time": "2021-07-01T15:41:59.537Z"
   },
   {
    "duration": 14,
    "start_time": "2021-07-01T15:42:05.232Z"
   },
   {
    "duration": 5,
    "start_time": "2021-07-01T15:42:07.836Z"
   },
   {
    "duration": 6,
    "start_time": "2021-07-01T15:42:09.808Z"
   },
   {
    "duration": 306,
    "start_time": "2021-07-01T15:49:13.732Z"
   },
   {
    "duration": 293,
    "start_time": "2021-07-01T15:49:20.658Z"
   },
   {
    "duration": 9,
    "start_time": "2021-07-01T15:49:23.309Z"
   },
   {
    "duration": 19,
    "start_time": "2021-07-01T15:49:26.042Z"
   },
   {
    "duration": 14,
    "start_time": "2021-07-01T15:49:35.634Z"
   },
   {
    "duration": 105,
    "start_time": "2021-07-01T15:52:38.497Z"
   },
   {
    "duration": 13,
    "start_time": "2021-07-01T15:52:57.260Z"
   },
   {
    "duration": 15,
    "start_time": "2021-07-01T15:53:02.090Z"
   },
   {
    "duration": 15,
    "start_time": "2021-07-01T15:53:11.461Z"
   },
   {
    "duration": 20,
    "start_time": "2021-07-01T15:53:16.343Z"
   },
   {
    "duration": 18,
    "start_time": "2021-07-01T15:54:15.866Z"
   },
   {
    "duration": 16,
    "start_time": "2021-07-01T15:54:25.618Z"
   },
   {
    "duration": 85,
    "start_time": "2021-07-01T15:54:33.791Z"
   },
   {
    "duration": 14,
    "start_time": "2021-07-01T15:54:43.802Z"
   },
   {
    "duration": 4,
    "start_time": "2021-07-01T15:55:25.407Z"
   },
   {
    "duration": 12,
    "start_time": "2021-07-01T15:55:26.049Z"
   },
   {
    "duration": 17,
    "start_time": "2021-07-01T15:55:27.032Z"
   },
   {
    "duration": 6,
    "start_time": "2021-07-01T15:55:42.286Z"
   },
   {
    "duration": 8,
    "start_time": "2021-07-01T15:55:42.751Z"
   },
   {
    "duration": 17,
    "start_time": "2021-07-01T15:55:43.312Z"
   },
   {
    "duration": 19,
    "start_time": "2021-07-01T15:58:00.904Z"
   },
   {
    "duration": 16,
    "start_time": "2021-07-01T15:58:34.420Z"
   },
   {
    "duration": 9,
    "start_time": "2021-07-01T16:03:21.089Z"
   },
   {
    "duration": 5,
    "start_time": "2021-07-01T16:03:22.804Z"
   },
   {
    "duration": 9,
    "start_time": "2021-07-01T16:03:23.166Z"
   },
   {
    "duration": 18,
    "start_time": "2021-07-01T16:03:23.870Z"
   },
   {
    "duration": 295,
    "start_time": "2021-07-01T16:10:03.443Z"
   },
   {
    "duration": 9,
    "start_time": "2021-07-01T16:11:00.653Z"
   },
   {
    "duration": 17,
    "start_time": "2021-07-01T16:11:01.333Z"
   },
   {
    "duration": 7,
    "start_time": "2021-07-01T16:12:09.170Z"
   },
   {
    "duration": 297,
    "start_time": "2021-07-01T16:12:17.003Z"
   },
   {
    "duration": 312,
    "start_time": "2021-07-01T16:12:27.606Z"
   },
   {
    "duration": 297,
    "start_time": "2021-07-01T16:12:36.884Z"
   },
   {
    "duration": 31,
    "start_time": "2021-07-01T16:15:30.689Z"
   },
   {
    "duration": 328,
    "start_time": "2021-07-01T16:15:39.176Z"
   },
   {
    "duration": 324,
    "start_time": "2021-07-01T16:17:53.793Z"
   },
   {
    "duration": 277,
    "start_time": "2021-07-01T16:18:49.252Z"
   },
   {
    "duration": 277,
    "start_time": "2021-07-01T16:18:58.313Z"
   },
   {
    "duration": 343,
    "start_time": "2021-07-01T16:19:04.524Z"
   },
   {
    "duration": 282,
    "start_time": "2021-07-01T16:19:09.690Z"
   },
   {
    "duration": 517,
    "start_time": "2021-07-01T16:19:16.592Z"
   },
   {
    "duration": 287,
    "start_time": "2021-07-01T16:19:39.748Z"
   },
   {
    "duration": 774,
    "start_time": "2021-07-01T16:19:44.988Z"
   },
   {
    "duration": 695,
    "start_time": "2021-07-01T16:20:02.473Z"
   },
   {
    "duration": 942,
    "start_time": "2021-07-01T16:21:06.000Z"
   },
   {
    "duration": 1058,
    "start_time": "2021-07-01T16:22:34.142Z"
   },
   {
    "duration": 1374,
    "start_time": "2021-07-01T16:22:37.981Z"
   },
   {
    "duration": 1831,
    "start_time": "2021-07-01T16:22:45.303Z"
   },
   {
    "duration": 16,
    "start_time": "2021-07-01T16:22:55.833Z"
   },
   {
    "duration": 1306,
    "start_time": "2021-07-01T16:24:03.186Z"
   },
   {
    "duration": 532,
    "start_time": "2021-07-01T16:24:09.120Z"
   },
   {
    "duration": 871,
    "start_time": "2021-07-01T16:24:13.717Z"
   },
   {
    "duration": 1749,
    "start_time": "2021-07-01T16:25:46.959Z"
   },
   {
    "duration": 2082,
    "start_time": "2021-07-01T16:25:55.996Z"
   },
   {
    "duration": 1775,
    "start_time": "2021-07-01T16:26:04.082Z"
   },
   {
    "duration": 7,
    "start_time": "2021-07-01T16:28:13.386Z"
   },
   {
    "duration": 9,
    "start_time": "2021-07-01T16:28:26.450Z"
   },
   {
    "duration": 278,
    "start_time": "2021-07-01T16:32:46.202Z"
   },
   {
    "duration": 8,
    "start_time": "2021-07-01T16:32:57.238Z"
   },
   {
    "duration": 7,
    "start_time": "2021-07-01T16:33:02.869Z"
   },
   {
    "duration": 7,
    "start_time": "2021-07-01T16:33:08.294Z"
   },
   {
    "duration": 11,
    "start_time": "2021-07-01T16:33:52.507Z"
   },
   {
    "duration": 993,
    "start_time": "2021-07-01T16:34:33.978Z"
   },
   {
    "duration": 126,
    "start_time": "2021-07-01T16:34:42.405Z"
   },
   {
    "duration": 99,
    "start_time": "2021-07-01T16:34:46.532Z"
   },
   {
    "duration": 1968,
    "start_time": "2021-07-01T16:34:51.300Z"
   },
   {
    "duration": 9,
    "start_time": "2021-07-01T16:35:09.398Z"
   },
   {
    "duration": 1777,
    "start_time": "2021-07-01T16:35:09.481Z"
   },
   {
    "duration": 1985,
    "start_time": "2021-07-01T16:35:54.686Z"
   },
   {
    "duration": 282,
    "start_time": "2021-07-01T16:37:02.770Z"
   },
   {
    "duration": 6,
    "start_time": "2021-07-01T16:37:08.445Z"
   },
   {
    "duration": 3709,
    "start_time": "2021-07-01T16:38:15.322Z"
   },
   {
    "duration": 1969,
    "start_time": "2021-07-01T16:38:26.194Z"
   },
   {
    "duration": 1941,
    "start_time": "2021-07-01T16:38:53.904Z"
   },
   {
    "duration": 1923,
    "start_time": "2021-07-01T16:39:34.219Z"
   },
   {
    "duration": 2868,
    "start_time": "2021-07-01T16:39:53.539Z"
   },
   {
    "duration": 1764,
    "start_time": "2021-07-01T16:40:33.944Z"
   },
   {
    "duration": 1895,
    "start_time": "2021-07-01T16:41:52.716Z"
   },
   {
    "duration": 878,
    "start_time": "2021-07-01T16:43:04.898Z"
   },
   {
    "duration": 678,
    "start_time": "2021-07-01T16:43:28.369Z"
   },
   {
    "duration": 2892,
    "start_time": "2021-07-01T16:43:34.798Z"
   },
   {
    "duration": 2062,
    "start_time": "2021-07-01T16:43:53.266Z"
   },
   {
    "duration": 3470,
    "start_time": "2021-07-01T16:44:00.674Z"
   },
   {
    "duration": 3392,
    "start_time": "2021-07-01T16:46:35.835Z"
   },
   {
    "duration": 3377,
    "start_time": "2021-07-01T16:53:25.853Z"
   },
   {
    "duration": 3555,
    "start_time": "2021-07-01T16:54:09.841Z"
   },
   {
    "duration": 4394,
    "start_time": "2021-07-01T16:55:19.734Z"
   },
   {
    "duration": 3686,
    "start_time": "2021-07-01T16:55:33.341Z"
   },
   {
    "duration": 3775,
    "start_time": "2021-07-01T16:55:51.168Z"
   },
   {
    "duration": 3730,
    "start_time": "2021-07-01T16:56:13.890Z"
   },
   {
    "duration": 3698,
    "start_time": "2021-07-01T16:56:20.574Z"
   },
   {
    "duration": 1509,
    "start_time": "2021-07-02T16:48:54.996Z"
   },
   {
    "duration": 489,
    "start_time": "2021-07-02T16:51:22.381Z"
   },
   {
    "duration": 15,
    "start_time": "2021-07-02T16:52:11.811Z"
   },
   {
    "duration": 921,
    "start_time": "2021-07-02T16:52:16.188Z"
   },
   {
    "duration": 36,
    "start_time": "2021-07-02T16:52:17.111Z"
   },
   {
    "duration": 3,
    "start_time": "2021-07-02T16:52:17.241Z"
   },
   {
    "duration": 61,
    "start_time": "2021-07-02T16:52:17.579Z"
   },
   {
    "duration": 29,
    "start_time": "2021-07-02T16:52:18.131Z"
   },
   {
    "duration": 6,
    "start_time": "2021-07-02T16:52:18.635Z"
   },
   {
    "duration": 4,
    "start_time": "2021-07-02T16:52:18.827Z"
   },
   {
    "duration": 4,
    "start_time": "2021-07-02T16:52:19.160Z"
   },
   {
    "duration": 5,
    "start_time": "2021-07-02T16:52:19.453Z"
   },
   {
    "duration": 11,
    "start_time": "2021-07-02T16:52:19.836Z"
   },
   {
    "duration": 17,
    "start_time": "2021-07-02T16:52:20.039Z"
   },
   {
    "duration": 6,
    "start_time": "2021-07-02T16:52:20.225Z"
   },
   {
    "duration": 9,
    "start_time": "2021-07-02T16:52:21.092Z"
   },
   {
    "duration": 29,
    "start_time": "2021-07-02T16:52:22.546Z"
   },
   {
    "duration": 13,
    "start_time": "2021-07-02T16:52:24.431Z"
   },
   {
    "duration": 17,
    "start_time": "2021-07-02T16:52:25.437Z"
   },
   {
    "duration": 8,
    "start_time": "2021-07-02T16:52:34.516Z"
   },
   {
    "duration": 14,
    "start_time": "2021-07-02T16:52:35.201Z"
   },
   {
    "duration": 3913,
    "start_time": "2021-07-02T16:52:44.490Z"
   },
   {
    "duration": 5,
    "start_time": "2021-07-02T17:11:25.224Z"
   },
   {
    "duration": 5,
    "start_time": "2021-07-02T17:11:28.952Z"
   },
   {
    "duration": 6,
    "start_time": "2021-07-02T17:11:31.334Z"
   },
   {
    "duration": 5,
    "start_time": "2021-07-02T17:11:34.035Z"
   },
   {
    "duration": 5,
    "start_time": "2021-07-02T17:11:36.543Z"
   },
   {
    "duration": 392,
    "start_time": "2021-07-02T17:11:43.463Z"
   },
   {
    "duration": 330,
    "start_time": "2021-07-02T17:11:45.475Z"
   },
   {
    "duration": 303,
    "start_time": "2021-07-02T17:11:48.027Z"
   },
   {
    "duration": 6,
    "start_time": "2021-07-02T17:11:53.637Z"
   },
   {
    "duration": 7,
    "start_time": "2021-07-02T17:11:56.580Z"
   },
   {
    "duration": 5,
    "start_time": "2021-07-02T17:12:07.052Z"
   },
   {
    "duration": 5,
    "start_time": "2021-07-02T17:12:41.834Z"
   },
   {
    "duration": 7,
    "start_time": "2021-07-02T17:12:46.083Z"
   },
   {
    "duration": 6,
    "start_time": "2021-07-02T17:12:56.446Z"
   },
   {
    "duration": 5,
    "start_time": "2021-07-02T17:13:01.160Z"
   },
   {
    "duration": 43,
    "start_time": "2021-07-02T17:13:39.999Z"
   },
   {
    "duration": 428,
    "start_time": "2021-07-02T17:13:50.321Z"
   },
   {
    "duration": 8,
    "start_time": "2021-07-02T17:13:56.296Z"
   },
   {
    "duration": 10,
    "start_time": "2021-07-02T17:14:19.062Z"
   },
   {
    "duration": 8,
    "start_time": "2021-07-02T17:14:22.932Z"
   },
   {
    "duration": 7,
    "start_time": "2021-07-02T17:14:25.819Z"
   },
   {
    "duration": 307,
    "start_time": "2021-07-02T17:14:35.643Z"
   },
   {
    "duration": 304,
    "start_time": "2021-07-02T17:14:57.140Z"
   },
   {
    "duration": 316,
    "start_time": "2021-07-02T17:16:22.928Z"
   },
   {
    "duration": 44,
    "start_time": "2021-07-02T17:16:47.810Z"
   },
   {
    "duration": 11,
    "start_time": "2021-07-02T17:17:13.583Z"
   },
   {
    "duration": 14,
    "start_time": "2021-07-02T17:18:02.262Z"
   },
   {
    "duration": 12,
    "start_time": "2021-07-02T17:18:09.818Z"
   },
   {
    "duration": 11,
    "start_time": "2021-07-02T17:18:14.697Z"
   },
   {
    "duration": 14,
    "start_time": "2021-07-02T17:18:16.667Z"
   },
   {
    "duration": 13,
    "start_time": "2021-07-02T17:18:46.575Z"
   },
   {
    "duration": 54,
    "start_time": "2021-07-02T17:18:52.588Z"
   },
   {
    "duration": 8006,
    "start_time": "2021-07-02T17:22:00.855Z"
   },
   {
    "duration": 19,
    "start_time": "2021-07-02T17:22:55.361Z"
   },
   {
    "duration": 5974,
    "start_time": "2021-07-02T17:23:04.305Z"
   },
   {
    "duration": 4,
    "start_time": "2021-07-02T17:24:36.343Z"
   },
   {
    "duration": 3,
    "start_time": "2021-07-02T17:28:26.261Z"
   },
   {
    "duration": 47,
    "start_time": "2021-07-02T17:28:28.892Z"
   },
   {
    "duration": 10,
    "start_time": "2021-07-02T17:28:46.729Z"
   },
   {
    "duration": 3844,
    "start_time": "2021-07-02T17:28:52.108Z"
   },
   {
    "duration": 16,
    "start_time": "2021-07-02T17:29:29.816Z"
   },
   {
    "duration": 10,
    "start_time": "2021-07-02T17:29:37.286Z"
   },
   {
    "duration": 3685,
    "start_time": "2021-07-02T17:29:38.510Z"
   },
   {
    "duration": 3603,
    "start_time": "2021-07-02T17:31:31.701Z"
   },
   {
    "duration": 19,
    "start_time": "2021-07-02T17:33:49.872Z"
   },
   {
    "duration": 16,
    "start_time": "2021-07-02T17:33:54.115Z"
   },
   {
    "duration": 6162,
    "start_time": "2021-07-02T17:35:03.454Z"
   },
   {
    "duration": 497,
    "start_time": "2021-07-02T17:35:20.521Z"
   },
   {
    "duration": 354,
    "start_time": "2021-07-02T17:35:54.062Z"
   },
   {
    "duration": 5,
    "start_time": "2021-07-02T17:36:49.552Z"
   },
   {
    "duration": 36,
    "start_time": "2021-07-02T17:37:27.104Z"
   },
   {
    "duration": 3669,
    "start_time": "2021-07-02T17:37:34.631Z"
   },
   {
    "duration": 4469,
    "start_time": "2021-07-02T17:39:19.087Z"
   },
   {
    "duration": 3667,
    "start_time": "2021-07-02T17:46:17.021Z"
   },
   {
    "duration": 11,
    "start_time": "2021-07-02T17:46:57.896Z"
   },
   {
    "duration": 3676,
    "start_time": "2021-07-02T17:47:08.975Z"
   },
   {
    "duration": 1488,
    "start_time": "2021-07-02T17:47:32.642Z"
   },
   {
    "duration": 954,
    "start_time": "2021-07-02T17:47:34.132Z"
   },
   {
    "duration": 42,
    "start_time": "2021-07-02T17:47:35.090Z"
   },
   {
    "duration": 4,
    "start_time": "2021-07-02T17:47:35.134Z"
   },
   {
    "duration": 75,
    "start_time": "2021-07-02T17:47:35.140Z"
   },
   {
    "duration": 21,
    "start_time": "2021-07-02T17:47:35.218Z"
   },
   {
    "duration": 5,
    "start_time": "2021-07-02T17:47:35.241Z"
   },
   {
    "duration": 14,
    "start_time": "2021-07-02T17:47:35.250Z"
   },
   {
    "duration": 17,
    "start_time": "2021-07-02T17:47:35.266Z"
   },
   {
    "duration": 6,
    "start_time": "2021-07-02T17:47:36.365Z"
   },
   {
    "duration": 19,
    "start_time": "2021-07-02T17:47:36.375Z"
   },
   {
    "duration": 71,
    "start_time": "2021-07-02T17:47:36.398Z"
   },
   {
    "duration": 22,
    "start_time": "2021-07-02T17:47:36.472Z"
   },
   {
    "duration": 18,
    "start_time": "2021-07-02T17:47:36.496Z"
   },
   {
    "duration": 23,
    "start_time": "2021-07-02T17:47:36.984Z"
   },
   {
    "duration": 14,
    "start_time": "2021-07-02T17:47:37.731Z"
   },
   {
    "duration": 18,
    "start_time": "2021-07-02T17:47:37.991Z"
   },
   {
    "duration": 10,
    "start_time": "2021-07-02T17:47:39.581Z"
   },
   {
    "duration": 9,
    "start_time": "2021-07-02T17:47:39.916Z"
   },
   {
    "duration": 3713,
    "start_time": "2021-07-02T17:47:40.540Z"
   },
   {
    "duration": 3,
    "start_time": "2021-07-02T17:55:00.492Z"
   },
   {
    "duration": 436,
    "start_time": "2021-07-02T17:59:22.382Z"
   },
   {
    "duration": 3895,
    "start_time": "2021-07-02T17:59:40.277Z"
   },
   {
    "duration": 3841,
    "start_time": "2021-07-02T17:59:44.175Z"
   },
   {
    "duration": 298,
    "start_time": "2021-07-02T18:08:23.348Z"
   },
   {
    "duration": 6,
    "start_time": "2021-07-02T18:08:27.980Z"
   },
   {
    "duration": 5,
    "start_time": "2021-07-02T18:08:41.056Z"
   },
   {
    "duration": 5,
    "start_time": "2021-07-02T18:10:14.448Z"
   },
   {
    "duration": 14,
    "start_time": "2021-07-02T18:12:09.331Z"
   },
   {
    "duration": 18,
    "start_time": "2021-07-02T18:14:38.266Z"
   },
   {
    "duration": 11,
    "start_time": "2021-07-02T18:17:03.044Z"
   },
   {
    "duration": 9,
    "start_time": "2021-07-02T18:17:07.332Z"
   },
   {
    "duration": 16,
    "start_time": "2021-07-02T18:18:01.461Z"
   },
   {
    "duration": 14,
    "start_time": "2021-07-02T18:18:03.040Z"
   },
   {
    "duration": 7569,
    "start_time": "2021-07-02T18:19:33.145Z"
   },
   {
    "duration": 2057,
    "start_time": "2021-07-02T18:19:49.490Z"
   },
   {
    "duration": 2200,
    "start_time": "2021-07-02T18:21:54.818Z"
   },
   {
    "duration": 2154,
    "start_time": "2021-07-02T18:22:54.590Z"
   },
   {
    "duration": 2075,
    "start_time": "2021-07-02T18:22:58.111Z"
   },
   {
    "duration": 1833,
    "start_time": "2021-07-02T18:28:44.588Z"
   },
   {
    "duration": 510,
    "start_time": "2021-07-02T18:30:29.364Z"
   },
   {
    "duration": 478,
    "start_time": "2021-07-02T18:30:35.129Z"
   },
   {
    "duration": 483,
    "start_time": "2021-07-02T18:30:39.334Z"
   },
   {
    "duration": 503,
    "start_time": "2021-07-02T18:30:52.000Z"
   },
   {
    "duration": 1141,
    "start_time": "2021-07-02T18:31:58.821Z"
   },
   {
    "duration": 1038,
    "start_time": "2021-07-02T18:32:34.026Z"
   },
   {
    "duration": 2194,
    "start_time": "2021-07-02T18:33:05.793Z"
   },
   {
    "duration": 2049,
    "start_time": "2021-07-02T18:33:27.524Z"
   },
   {
    "duration": 2218,
    "start_time": "2021-07-02T18:33:40.730Z"
   },
   {
    "duration": 805,
    "start_time": "2021-07-02T18:34:57.502Z"
   },
   {
    "duration": 1169,
    "start_time": "2021-07-02T18:35:08.237Z"
   },
   {
    "duration": 1276,
    "start_time": "2021-07-02T18:36:32.736Z"
   },
   {
    "duration": 1141,
    "start_time": "2021-07-02T18:36:45.014Z"
   },
   {
    "duration": 5,
    "start_time": "2021-07-02T18:40:56.925Z"
   },
   {
    "duration": 96,
    "start_time": "2021-07-02T18:41:28.222Z"
   },
   {
    "duration": 4,
    "start_time": "2021-07-02T18:42:01.127Z"
   },
   {
    "duration": 5,
    "start_time": "2021-07-02T18:42:09.914Z"
   },
   {
    "duration": 5,
    "start_time": "2021-07-02T18:42:22.809Z"
   },
   {
    "duration": 5,
    "start_time": "2021-07-02T18:42:47.932Z"
   },
   {
    "duration": 6,
    "start_time": "2021-07-02T18:43:50.497Z"
   },
   {
    "duration": 6,
    "start_time": "2021-07-02T18:52:46.813Z"
   },
   {
    "duration": 5,
    "start_time": "2021-07-02T18:55:17.689Z"
   },
   {
    "duration": 7,
    "start_time": "2021-07-02T18:56:38.536Z"
   },
   {
    "duration": 5,
    "start_time": "2021-07-02T19:06:46.223Z"
   },
   {
    "duration": 17,
    "start_time": "2021-07-02T19:09:29.376Z"
   },
   {
    "duration": 6,
    "start_time": "2021-07-02T20:05:54.262Z"
   },
   {
    "duration": 6,
    "start_time": "2021-07-02T20:06:23.798Z"
   },
   {
    "duration": 9,
    "start_time": "2021-07-02T20:07:13.378Z"
   },
   {
    "duration": 7,
    "start_time": "2021-07-02T20:08:32.665Z"
   },
   {
    "duration": 6,
    "start_time": "2021-07-02T20:08:41.140Z"
   },
   {
    "duration": 5,
    "start_time": "2021-07-02T20:08:49.778Z"
   },
   {
    "duration": 5,
    "start_time": "2021-07-02T20:11:23.439Z"
   },
   {
    "duration": 1450,
    "start_time": "2021-07-03T11:06:32.201Z"
   },
   {
    "duration": 973,
    "start_time": "2021-07-03T11:06:33.655Z"
   },
   {
    "duration": 36,
    "start_time": "2021-07-03T11:06:34.635Z"
   },
   {
    "duration": 3,
    "start_time": "2021-07-03T11:06:34.674Z"
   },
   {
    "duration": 86,
    "start_time": "2021-07-03T11:06:34.680Z"
   },
   {
    "duration": 47,
    "start_time": "2021-07-03T11:06:34.768Z"
   },
   {
    "duration": 5,
    "start_time": "2021-07-03T11:06:34.820Z"
   },
   {
    "duration": 6,
    "start_time": "2021-07-03T11:06:34.829Z"
   },
   {
    "duration": 8,
    "start_time": "2021-07-03T11:06:34.837Z"
   },
   {
    "duration": 7,
    "start_time": "2021-07-03T11:06:34.848Z"
   },
   {
    "duration": 52,
    "start_time": "2021-07-03T11:06:34.857Z"
   },
   {
    "duration": 18,
    "start_time": "2021-07-03T11:06:34.912Z"
   },
   {
    "duration": 6,
    "start_time": "2021-07-03T11:06:34.932Z"
   },
   {
    "duration": 12,
    "start_time": "2021-07-03T11:06:34.940Z"
   },
   {
    "duration": 62,
    "start_time": "2021-07-03T11:06:34.954Z"
   },
   {
    "duration": 16,
    "start_time": "2021-07-03T11:06:35.018Z"
   },
   {
    "duration": 21,
    "start_time": "2021-07-03T11:06:35.037Z"
   },
   {
    "duration": 44,
    "start_time": "2021-07-03T11:06:35.061Z"
   },
   {
    "duration": 13,
    "start_time": "2021-07-03T11:06:35.108Z"
   },
   {
    "duration": 3648,
    "start_time": "2021-07-03T11:06:35.124Z"
   },
   {
    "duration": 3776,
    "start_time": "2021-07-03T11:06:38.774Z"
   },
   {
    "duration": 3712,
    "start_time": "2021-07-03T11:06:42.554Z"
   },
   {
    "duration": 6,
    "start_time": "2021-07-03T11:06:46.268Z"
   },
   {
    "duration": 1119,
    "start_time": "2021-07-03T11:06:46.276Z"
   },
   {
    "duration": 7,
    "start_time": "2021-07-03T11:06:47.401Z"
   },
   {
    "duration": 12,
    "start_time": "2021-07-03T11:06:47.411Z"
   },
   {
    "duration": 7,
    "start_time": "2021-07-03T11:06:47.426Z"
   },
   {
    "duration": 6,
    "start_time": "2021-07-03T11:06:47.436Z"
   },
   {
    "duration": 10,
    "start_time": "2021-07-03T11:06:47.444Z"
   },
   {
    "duration": 1116,
    "start_time": "2021-07-04T09:47:59.718Z"
   },
   {
    "duration": 657,
    "start_time": "2021-07-04T09:48:00.836Z"
   },
   {
    "duration": 22,
    "start_time": "2021-07-04T09:48:01.495Z"
   },
   {
    "duration": 2,
    "start_time": "2021-07-04T09:48:01.519Z"
   },
   {
    "duration": 36,
    "start_time": "2021-07-04T09:48:01.523Z"
   },
   {
    "duration": 33,
    "start_time": "2021-07-04T09:48:01.561Z"
   },
   {
    "duration": 2,
    "start_time": "2021-07-04T09:48:01.596Z"
   },
   {
    "duration": 10,
    "start_time": "2021-07-04T09:48:01.600Z"
   },
   {
    "duration": 6,
    "start_time": "2021-07-04T09:48:01.612Z"
   },
   {
    "duration": 12,
    "start_time": "2021-07-04T09:48:01.620Z"
   },
   {
    "duration": 17,
    "start_time": "2021-07-04T09:48:01.633Z"
   },
   {
    "duration": 21,
    "start_time": "2021-07-04T09:48:01.651Z"
   },
   {
    "duration": 15,
    "start_time": "2021-07-04T09:48:01.674Z"
   },
   {
    "duration": 21,
    "start_time": "2021-07-04T09:48:01.690Z"
   },
   {
    "duration": 24,
    "start_time": "2021-07-04T09:48:01.712Z"
   },
   {
    "duration": 10,
    "start_time": "2021-07-04T09:48:01.737Z"
   },
   {
    "duration": 15,
    "start_time": "2021-07-04T09:48:01.748Z"
   },
   {
    "duration": 4,
    "start_time": "2021-07-04T09:48:01.764Z"
   },
   {
    "duration": 17,
    "start_time": "2021-07-04T09:48:01.770Z"
   },
   {
    "duration": 1759,
    "start_time": "2021-07-04T09:48:01.788Z"
   },
   {
    "duration": 1814,
    "start_time": "2021-07-04T09:48:03.548Z"
   },
   {
    "duration": 1833,
    "start_time": "2021-07-04T09:48:05.363Z"
   },
   {
    "duration": 3,
    "start_time": "2021-07-04T09:48:07.197Z"
   },
   {
    "duration": 528,
    "start_time": "2021-07-04T09:48:07.202Z"
   },
   {
    "duration": 3,
    "start_time": "2021-07-04T09:48:07.732Z"
   },
   {
    "duration": 16,
    "start_time": "2021-07-04T09:48:07.737Z"
   },
   {
    "duration": 14,
    "start_time": "2021-07-04T09:48:07.755Z"
   },
   {
    "duration": 25,
    "start_time": "2021-07-04T09:48:07.770Z"
   },
   {
    "duration": 24,
    "start_time": "2021-07-04T09:48:07.796Z"
   },
   {
    "duration": 10,
    "start_time": "2021-07-04T09:52:06.765Z"
   },
   {
    "duration": 7,
    "start_time": "2021-07-04T09:53:29.890Z"
   },
   {
    "duration": 6,
    "start_time": "2021-07-04T09:53:37.806Z"
   },
   {
    "duration": 9,
    "start_time": "2021-07-04T09:54:01.311Z"
   },
   {
    "duration": 306,
    "start_time": "2021-07-04T09:54:13.303Z"
   },
   {
    "duration": 153,
    "start_time": "2021-07-04T09:54:27.339Z"
   },
   {
    "duration": 363,
    "start_time": "2021-07-04T09:54:37.461Z"
   },
   {
    "duration": 389,
    "start_time": "2021-07-04T09:54:42.241Z"
   },
   {
    "duration": 158,
    "start_time": "2021-07-04T09:54:54.762Z"
   },
   {
    "duration": 160,
    "start_time": "2021-07-04T09:55:06.816Z"
   },
   {
    "duration": 152,
    "start_time": "2021-07-04T09:55:25.752Z"
   },
   {
    "duration": 232,
    "start_time": "2021-07-04T09:56:25.844Z"
   },
   {
    "duration": 227,
    "start_time": "2021-07-04T09:56:40.185Z"
   },
   {
    "duration": 382,
    "start_time": "2021-07-04T09:56:56.565Z"
   },
   {
    "duration": 149,
    "start_time": "2021-07-04T09:56:59.461Z"
   },
   {
    "duration": 263,
    "start_time": "2021-07-04T09:57:10.178Z"
   },
   {
    "duration": 253,
    "start_time": "2021-07-04T09:57:21.040Z"
   },
   {
    "duration": 173,
    "start_time": "2021-07-04T09:57:47.227Z"
   },
   {
    "duration": 330,
    "start_time": "2021-07-04T09:58:07.889Z"
   },
   {
    "duration": 264,
    "start_time": "2021-07-04T10:11:57.925Z"
   },
   {
    "duration": 232,
    "start_time": "2021-07-04T10:14:34.505Z"
   },
   {
    "duration": 1098,
    "start_time": "2021-07-04T10:15:50.570Z"
   },
   {
    "duration": 779,
    "start_time": "2021-07-04T10:15:51.670Z"
   },
   {
    "duration": 42,
    "start_time": "2021-07-04T10:15:52.454Z"
   },
   {
    "duration": 9,
    "start_time": "2021-07-04T10:15:52.498Z"
   },
   {
    "duration": 85,
    "start_time": "2021-07-04T10:15:52.509Z"
   },
   {
    "duration": 23,
    "start_time": "2021-07-04T10:15:52.596Z"
   },
   {
    "duration": 3,
    "start_time": "2021-07-04T10:15:52.622Z"
   },
   {
    "duration": 13,
    "start_time": "2021-07-04T10:15:52.628Z"
   },
   {
    "duration": 16,
    "start_time": "2021-07-04T10:15:52.642Z"
   },
   {
    "duration": 12,
    "start_time": "2021-07-04T10:15:52.660Z"
   },
   {
    "duration": 10,
    "start_time": "2021-07-04T10:15:52.673Z"
   },
   {
    "duration": 17,
    "start_time": "2021-07-04T10:15:52.684Z"
   },
   {
    "duration": 7,
    "start_time": "2021-07-04T10:15:52.703Z"
   },
   {
    "duration": 16,
    "start_time": "2021-07-04T10:15:52.712Z"
   },
   {
    "duration": 27,
    "start_time": "2021-07-04T10:15:52.731Z"
   },
   {
    "duration": 11,
    "start_time": "2021-07-04T10:15:52.760Z"
   },
   {
    "duration": 16,
    "start_time": "2021-07-04T10:15:52.772Z"
   },
   {
    "duration": 4,
    "start_time": "2021-07-04T10:15:52.790Z"
   },
   {
    "duration": 13,
    "start_time": "2021-07-04T10:15:52.796Z"
   },
   {
    "duration": 2001,
    "start_time": "2021-07-04T10:15:52.810Z"
   },
   {
    "duration": 1906,
    "start_time": "2021-07-04T10:15:54.812Z"
   },
   {
    "duration": 2006,
    "start_time": "2021-07-04T10:15:56.720Z"
   },
   {
    "duration": 4,
    "start_time": "2021-07-04T10:15:58.728Z"
   },
   {
    "duration": 534,
    "start_time": "2021-07-04T10:15:58.733Z"
   },
   {
    "duration": 7,
    "start_time": "2021-07-04T10:15:59.268Z"
   },
   {
    "duration": 6,
    "start_time": "2021-07-04T10:15:59.276Z"
   },
   {
    "duration": 2,
    "start_time": "2021-07-04T10:15:59.292Z"
   },
   {
    "duration": 10,
    "start_time": "2021-07-04T10:15:59.295Z"
   },
   {
    "duration": 6,
    "start_time": "2021-07-04T10:15:59.306Z"
   },
   {
    "duration": 7,
    "start_time": "2021-07-04T10:15:59.314Z"
   },
   {
    "duration": 4,
    "start_time": "2021-07-04T10:17:18.688Z"
   },
   {
    "duration": 364,
    "start_time": "2021-07-04T10:17:35.984Z"
   },
   {
    "duration": 347,
    "start_time": "2021-07-04T10:17:48.896Z"
   },
   {
    "duration": 10,
    "start_time": "2021-07-04T10:18:18.377Z"
   },
   {
    "duration": 11,
    "start_time": "2021-07-04T10:18:30.515Z"
   },
   {
    "duration": 7,
    "start_time": "2021-07-04T10:18:46.933Z"
   },
   {
    "duration": 160,
    "start_time": "2021-07-04T10:18:52.976Z"
   },
   {
    "duration": 371,
    "start_time": "2021-07-04T10:20:05.264Z"
   },
   {
    "duration": 311,
    "start_time": "2021-07-04T10:20:44.521Z"
   },
   {
    "duration": 213,
    "start_time": "2021-07-04T10:21:10.164Z"
   },
   {
    "duration": 234,
    "start_time": "2021-07-04T10:21:18.831Z"
   },
   {
    "duration": 254,
    "start_time": "2021-07-04T10:21:23.187Z"
   },
   {
    "duration": 308,
    "start_time": "2021-07-04T10:22:07.269Z"
   },
   {
    "duration": 771,
    "start_time": "2021-07-04T10:23:14.791Z"
   },
   {
    "duration": 4,
    "start_time": "2021-07-04T10:23:50.681Z"
   },
   {
    "duration": 824,
    "start_time": "2021-07-04T10:24:12.712Z"
   },
   {
    "duration": 221,
    "start_time": "2021-07-04T10:25:27.367Z"
   },
   {
    "duration": 1255,
    "start_time": "2021-07-04T10:25:36.805Z"
   },
   {
    "duration": 5,
    "start_time": "2021-07-04T10:27:03.238Z"
   },
   {
    "duration": 4,
    "start_time": "2021-07-04T10:28:12.914Z"
   },
   {
    "duration": 4,
    "start_time": "2021-07-04T10:28:16.032Z"
   },
   {
    "duration": 4,
    "start_time": "2021-07-04T10:28:23.604Z"
   },
   {
    "duration": 4,
    "start_time": "2021-07-04T10:28:30.436Z"
   },
   {
    "duration": 4,
    "start_time": "2021-07-04T10:28:33.391Z"
   },
   {
    "duration": 4,
    "start_time": "2021-07-04T10:28:40.932Z"
   },
   {
    "duration": 5,
    "start_time": "2021-07-04T10:28:43.006Z"
   },
   {
    "duration": 11,
    "start_time": "2021-07-04T10:38:21.740Z"
   },
   {
    "duration": 12,
    "start_time": "2021-07-04T10:39:21.636Z"
   },
   {
    "duration": 6012,
    "start_time": "2021-07-04T10:39:33.888Z"
   },
   {
    "duration": 15,
    "start_time": "2021-07-04T10:39:58.003Z"
   },
   {
    "duration": 12,
    "start_time": "2021-07-04T10:40:05.396Z"
   },
   {
    "duration": 11,
    "start_time": "2021-07-04T10:40:10.065Z"
   },
   {
    "duration": 80,
    "start_time": "2021-07-04T10:43:28.835Z"
   },
   {
    "duration": 11,
    "start_time": "2021-07-04T10:43:33.090Z"
   },
   {
    "duration": 259,
    "start_time": "2021-07-04T10:48:01.387Z"
   },
   {
    "duration": 5,
    "start_time": "2021-07-04T10:48:14.619Z"
   },
   {
    "duration": 5,
    "start_time": "2021-07-04T10:49:42.651Z"
   },
   {
    "duration": 4,
    "start_time": "2021-07-04T10:49:51.769Z"
   },
   {
    "duration": 6,
    "start_time": "2021-07-04T10:49:58.288Z"
   },
   {
    "duration": 4,
    "start_time": "2021-07-04T10:50:04.981Z"
   },
   {
    "duration": 5,
    "start_time": "2021-07-04T10:50:20.895Z"
   },
   {
    "duration": 5,
    "start_time": "2021-07-04T10:50:25.704Z"
   },
   {
    "duration": 246,
    "start_time": "2021-07-04T10:51:04.878Z"
   },
   {
    "duration": 259,
    "start_time": "2021-07-04T10:52:52.798Z"
   },
   {
    "duration": 265,
    "start_time": "2021-07-04T10:53:11.926Z"
   },
   {
    "duration": 4,
    "start_time": "2021-07-04T10:53:37.879Z"
   },
   {
    "duration": 8,
    "start_time": "2021-07-04T10:53:41.558Z"
   },
   {
    "duration": 9,
    "start_time": "2021-07-04T10:54:20.719Z"
   },
   {
    "duration": 8,
    "start_time": "2021-07-04T10:54:28.279Z"
   },
   {
    "duration": 9,
    "start_time": "2021-07-04T10:55:00.457Z"
   },
   {
    "duration": 7,
    "start_time": "2021-07-04T10:55:03.655Z"
   },
   {
    "duration": 9,
    "start_time": "2021-07-04T10:55:10.747Z"
   },
   {
    "duration": 5,
    "start_time": "2021-07-04T10:56:13.807Z"
   },
   {
    "duration": 14,
    "start_time": "2021-07-04T10:56:26.520Z"
   },
   {
    "duration": 13,
    "start_time": "2021-07-04T10:56:49.686Z"
   },
   {
    "duration": 162,
    "start_time": "2021-07-04T10:57:13.965Z"
   },
   {
    "duration": 72,
    "start_time": "2021-07-04T10:57:24.393Z"
   },
   {
    "duration": 324,
    "start_time": "2021-07-04T10:57:41.667Z"
   },
   {
    "duration": 4,
    "start_time": "2021-07-04T11:02:30.047Z"
   },
   {
    "duration": 80,
    "start_time": "2021-07-04T11:06:40.684Z"
   },
   {
    "duration": 833,
    "start_time": "2021-07-04T11:06:48.907Z"
   },
   {
    "duration": 84,
    "start_time": "2021-07-04T11:07:17.609Z"
   },
   {
    "duration": 233,
    "start_time": "2021-07-04T11:07:22.849Z"
   },
   {
    "duration": 716,
    "start_time": "2021-07-04T11:07:27.825Z"
   },
   {
    "duration": 652,
    "start_time": "2021-07-04T11:08:33.904Z"
   },
   {
    "duration": 736,
    "start_time": "2021-07-04T11:08:39.851Z"
   },
   {
    "duration": 220,
    "start_time": "2021-07-04T11:09:37.589Z"
   },
   {
    "duration": 4,
    "start_time": "2021-07-04T11:10:14.358Z"
   },
   {
    "duration": 7,
    "start_time": "2021-07-04T11:10:38.508Z"
   },
   {
    "duration": 19,
    "start_time": "2021-07-04T11:10:46.099Z"
   },
   {
    "duration": 4541,
    "start_time": "2021-07-04T11:10:56.537Z"
   },
   {
    "duration": 230,
    "start_time": "2021-07-04T11:11:28.881Z"
   },
   {
    "duration": 550,
    "start_time": "2021-07-04T11:11:47.959Z"
   },
   {
    "duration": 959,
    "start_time": "2021-07-04T11:12:04.438Z"
   },
   {
    "duration": 282,
    "start_time": "2021-07-04T11:12:33.782Z"
   },
   {
    "duration": 509,
    "start_time": "2021-07-04T11:13:19.841Z"
   },
   {
    "duration": 251,
    "start_time": "2021-07-04T11:13:27.256Z"
   },
   {
    "duration": 499,
    "start_time": "2021-07-04T11:14:07.849Z"
   },
   {
    "duration": 235,
    "start_time": "2021-07-04T11:14:19.056Z"
   },
   {
    "duration": 568,
    "start_time": "2021-07-04T11:14:39.070Z"
   },
   {
    "duration": 1415,
    "start_time": "2021-07-04T11:14:45.183Z"
   },
   {
    "duration": 1570,
    "start_time": "2021-07-04T11:16:40.193Z"
   },
   {
    "duration": 5,
    "start_time": "2021-07-04T11:17:26.911Z"
   },
   {
    "duration": 4,
    "start_time": "2021-07-04T11:17:30.899Z"
   },
   {
    "duration": 1411,
    "start_time": "2021-07-04T11:17:42.103Z"
   },
   {
    "duration": 236,
    "start_time": "2021-07-04T11:17:51.144Z"
   },
   {
    "duration": 1602,
    "start_time": "2021-07-04T11:17:54.291Z"
   },
   {
    "duration": 1625,
    "start_time": "2021-07-04T11:19:40.814Z"
   },
   {
    "duration": 75,
    "start_time": "2021-07-04T11:20:17.265Z"
   },
   {
    "duration": 84,
    "start_time": "2021-07-04T11:20:25.063Z"
   },
   {
    "duration": 74,
    "start_time": "2021-07-04T11:20:40.014Z"
   },
   {
    "duration": 76,
    "start_time": "2021-07-04T11:20:44.028Z"
   },
   {
    "duration": 1738,
    "start_time": "2021-07-04T11:20:53.129Z"
   },
   {
    "duration": 76,
    "start_time": "2021-07-04T11:21:08.705Z"
   },
   {
    "duration": 268,
    "start_time": "2021-07-04T11:21:35.146Z"
   },
   {
    "duration": 262,
    "start_time": "2021-07-04T11:23:32.554Z"
   },
   {
    "duration": 82,
    "start_time": "2021-07-04T11:23:37.517Z"
   },
   {
    "duration": 1457,
    "start_time": "2021-07-04T11:23:41.441Z"
   },
   {
    "duration": 1630,
    "start_time": "2021-07-04T11:23:58.947Z"
   },
   {
    "duration": 1512,
    "start_time": "2021-07-04T11:24:12.515Z"
   },
   {
    "duration": 1511,
    "start_time": "2021-07-04T11:24:22.855Z"
   },
   {
    "duration": 1500,
    "start_time": "2021-07-04T11:30:49.626Z"
   },
   {
    "duration": 1826,
    "start_time": "2021-07-04T11:31:05.965Z"
   },
   {
    "duration": 162,
    "start_time": "2021-07-04T11:31:24.086Z"
   },
   {
    "duration": 355,
    "start_time": "2021-07-04T11:32:09.790Z"
   },
   {
    "duration": 474,
    "start_time": "2021-07-04T11:32:26.102Z"
   },
   {
    "duration": 804,
    "start_time": "2021-07-04T11:38:11.030Z"
   },
   {
    "duration": 691,
    "start_time": "2021-07-04T11:38:28.099Z"
   },
   {
    "duration": 194,
    "start_time": "2021-07-04T11:40:27.425Z"
   },
   {
    "duration": 774,
    "start_time": "2021-07-04T11:40:39.683Z"
   },
   {
    "duration": 198,
    "start_time": "2021-07-04T11:40:48.224Z"
   },
   {
    "duration": 216,
    "start_time": "2021-07-04T11:41:09.742Z"
   },
   {
    "duration": 239,
    "start_time": "2021-07-04T11:41:16.635Z"
   },
   {
    "duration": 903,
    "start_time": "2021-07-04T11:41:26.595Z"
   },
   {
    "duration": 568,
    "start_time": "2021-07-04T11:41:45.109Z"
   },
   {
    "duration": 567,
    "start_time": "2021-07-04T11:41:55.849Z"
   },
   {
    "duration": 572,
    "start_time": "2021-07-04T11:42:04.437Z"
   },
   {
    "duration": 682,
    "start_time": "2021-07-04T11:42:18.134Z"
   },
   {
    "duration": 562,
    "start_time": "2021-07-04T11:42:57.093Z"
   },
   {
    "duration": 592,
    "start_time": "2021-07-04T11:43:02.139Z"
   },
   {
    "duration": 568,
    "start_time": "2021-07-04T11:43:52.321Z"
   },
   {
    "duration": 826,
    "start_time": "2021-07-04T11:45:02.985Z"
   },
   {
    "duration": 835,
    "start_time": "2021-07-04T11:45:09.244Z"
   },
   {
    "duration": 244,
    "start_time": "2021-07-04T11:45:18.801Z"
   },
   {
    "duration": 416,
    "start_time": "2021-07-04T11:45:39.742Z"
   },
   {
    "duration": 313,
    "start_time": "2021-07-04T11:45:52.530Z"
   },
   {
    "duration": 78,
    "start_time": "2021-07-04T11:46:59.954Z"
   },
   {
    "duration": 252,
    "start_time": "2021-07-04T11:47:17.523Z"
   },
   {
    "duration": 258,
    "start_time": "2021-07-04T11:47:25.456Z"
   },
   {
    "duration": 577,
    "start_time": "2021-07-04T11:47:37.722Z"
   },
   {
    "duration": 428,
    "start_time": "2021-07-04T11:48:07.432Z"
   },
   {
    "duration": 641,
    "start_time": "2021-07-04T11:48:10.716Z"
   },
   {
    "duration": 434,
    "start_time": "2021-07-04T11:48:31.604Z"
   },
   {
    "duration": 395,
    "start_time": "2021-07-04T11:51:21.991Z"
   },
   {
    "duration": 371,
    "start_time": "2021-07-04T11:51:31.306Z"
   },
   {
    "duration": 310,
    "start_time": "2021-07-04T11:52:04.750Z"
   },
   {
    "duration": 313,
    "start_time": "2021-07-04T11:52:14.203Z"
   },
   {
    "duration": 299,
    "start_time": "2021-07-04T11:52:48.112Z"
   },
   {
    "duration": 303,
    "start_time": "2021-07-04T11:52:57.616Z"
   },
   {
    "duration": 272,
    "start_time": "2021-07-04T11:53:07.797Z"
   },
   {
    "duration": 241,
    "start_time": "2021-07-04T11:53:16.214Z"
   },
   {
    "duration": 611,
    "start_time": "2021-07-04T11:53:28.780Z"
   },
   {
    "duration": 515,
    "start_time": "2021-07-04T11:53:33.170Z"
   },
   {
    "duration": 392,
    "start_time": "2021-07-04T11:53:37.301Z"
   },
   {
    "duration": 396,
    "start_time": "2021-07-04T11:53:44.778Z"
   },
   {
    "duration": 282,
    "start_time": "2021-07-04T11:54:05.576Z"
   },
   {
    "duration": 295,
    "start_time": "2021-07-04T11:54:33.158Z"
   },
   {
    "duration": 298,
    "start_time": "2021-07-04T11:54:49.552Z"
   },
   {
    "duration": 324,
    "start_time": "2021-07-04T11:54:54.974Z"
   },
   {
    "duration": 354,
    "start_time": "2021-07-04T11:55:22.745Z"
   },
   {
    "duration": 4,
    "start_time": "2021-07-04T11:55:29.425Z"
   },
   {
    "duration": 1046,
    "start_time": "2021-07-04T11:56:12.804Z"
   },
   {
    "duration": 1112,
    "start_time": "2021-07-04T11:56:25.643Z"
   },
   {
    "duration": 1150,
    "start_time": "2021-07-04T11:56:33.241Z"
   },
   {
    "duration": 926,
    "start_time": "2021-07-04T11:56:59.817Z"
   },
   {
    "duration": 1476,
    "start_time": "2021-07-04T11:57:05.123Z"
   },
   {
    "duration": 998,
    "start_time": "2021-07-04T11:57:10.767Z"
   },
   {
    "duration": 1089,
    "start_time": "2021-07-04T11:57:14.751Z"
   },
   {
    "duration": 957,
    "start_time": "2021-07-04T11:57:21.359Z"
   },
   {
    "duration": 1080,
    "start_time": "2021-07-04T11:57:29.129Z"
   },
   {
    "duration": 1016,
    "start_time": "2021-07-04T11:57:33.395Z"
   },
   {
    "duration": 1103,
    "start_time": "2021-07-04T11:57:38.560Z"
   },
   {
    "duration": 979,
    "start_time": "2021-07-04T11:59:00.598Z"
   },
   {
    "duration": 932,
    "start_time": "2021-07-04T11:59:06.206Z"
   },
   {
    "duration": 7,
    "start_time": "2021-07-04T11:59:50.158Z"
   },
   {
    "duration": 5,
    "start_time": "2021-07-04T11:59:59.358Z"
   },
   {
    "duration": 6,
    "start_time": "2021-07-04T12:00:11.818Z"
   },
   {
    "duration": 217,
    "start_time": "2021-07-04T12:00:18.869Z"
   },
   {
    "duration": 5,
    "start_time": "2021-07-04T12:00:21.428Z"
   },
   {
    "duration": 6,
    "start_time": "2021-07-04T12:00:29.710Z"
   },
   {
    "duration": 86,
    "start_time": "2021-07-04T12:00:37.165Z"
   },
   {
    "duration": 6,
    "start_time": "2021-07-04T12:00:39.086Z"
   },
   {
    "duration": 5,
    "start_time": "2021-07-04T12:00:59.975Z"
   },
   {
    "duration": 5,
    "start_time": "2021-07-04T12:01:39.877Z"
   },
   {
    "duration": 8,
    "start_time": "2021-07-04T12:01:46.313Z"
   },
   {
    "duration": 7,
    "start_time": "2021-07-04T12:02:28.854Z"
   },
   {
    "duration": 10,
    "start_time": "2021-07-04T12:02:32.599Z"
   },
   {
    "duration": 8,
    "start_time": "2021-07-04T12:02:47.993Z"
   },
   {
    "duration": 10,
    "start_time": "2021-07-04T12:03:02.304Z"
   },
   {
    "duration": 11,
    "start_time": "2021-07-04T12:03:13.737Z"
   },
   {
    "duration": 7,
    "start_time": "2021-07-04T12:03:25.709Z"
   },
   {
    "duration": 11,
    "start_time": "2021-07-04T12:03:29.324Z"
   },
   {
    "duration": 12,
    "start_time": "2021-07-04T12:04:14.990Z"
   },
   {
    "duration": 9,
    "start_time": "2021-07-04T12:04:30.748Z"
   },
   {
    "duration": 7,
    "start_time": "2021-07-04T12:05:19.394Z"
   },
   {
    "duration": 8,
    "start_time": "2021-07-04T12:05:27.582Z"
   },
   {
    "duration": 7,
    "start_time": "2021-07-04T12:05:37.485Z"
   },
   {
    "duration": 8,
    "start_time": "2021-07-04T12:06:15.006Z"
   },
   {
    "duration": 8,
    "start_time": "2021-07-04T12:06:37.498Z"
   },
   {
    "duration": 411,
    "start_time": "2021-07-04T12:06:46.642Z"
   },
   {
    "duration": 234,
    "start_time": "2021-07-04T12:06:48.876Z"
   },
   {
    "duration": 11,
    "start_time": "2021-07-04T12:06:52.748Z"
   },
   {
    "duration": 7,
    "start_time": "2021-07-04T12:06:56.624Z"
   },
   {
    "duration": 234,
    "start_time": "2021-07-04T12:07:02.642Z"
   },
   {
    "duration": 246,
    "start_time": "2021-07-04T12:07:04.547Z"
   },
   {
    "duration": 230,
    "start_time": "2021-07-04T12:07:07.750Z"
   },
   {
    "duration": 244,
    "start_time": "2021-07-04T12:07:10.124Z"
   },
   {
    "duration": 78,
    "start_time": "2021-07-04T12:07:12.288Z"
   },
   {
    "duration": 241,
    "start_time": "2021-07-04T12:07:14.446Z"
   },
   {
    "duration": 9,
    "start_time": "2021-07-04T12:07:17.579Z"
   },
   {
    "duration": 8,
    "start_time": "2021-07-04T12:07:50.972Z"
   },
   {
    "duration": 9,
    "start_time": "2021-07-04T12:07:53.060Z"
   },
   {
    "duration": 9,
    "start_time": "2021-07-04T12:07:55.350Z"
   },
   {
    "duration": 13,
    "start_time": "2021-07-04T12:08:11.063Z"
   },
   {
    "duration": 8,
    "start_time": "2021-07-04T12:19:07.349Z"
   },
   {
    "duration": 288,
    "start_time": "2021-07-04T12:19:15.068Z"
   },
   {
    "duration": 227,
    "start_time": "2021-07-04T12:19:16.876Z"
   },
   {
    "duration": 10,
    "start_time": "2021-07-04T12:19:21.820Z"
   },
   {
    "duration": 6,
    "start_time": "2021-07-04T12:19:37.667Z"
   },
   {
    "duration": 11,
    "start_time": "2021-07-04T12:19:40.866Z"
   },
   {
    "duration": 10,
    "start_time": "2021-07-04T12:20:08.832Z"
   },
   {
    "duration": 224,
    "start_time": "2021-07-04T12:21:18.108Z"
   },
   {
    "duration": 250,
    "start_time": "2021-07-04T12:21:32.437Z"
   },
   {
    "duration": 239,
    "start_time": "2021-07-04T12:21:49.188Z"
   },
   {
    "duration": 240,
    "start_time": "2021-07-04T12:21:56.620Z"
   },
   {
    "duration": 283,
    "start_time": "2021-07-04T12:22:00.249Z"
   },
   {
    "duration": 232,
    "start_time": "2021-07-04T12:22:04.413Z"
   },
   {
    "duration": 228,
    "start_time": "2021-07-04T12:22:07.498Z"
   },
   {
    "duration": 241,
    "start_time": "2021-07-04T12:22:13.987Z"
   },
   {
    "duration": 230,
    "start_time": "2021-07-04T12:22:17.833Z"
   },
   {
    "duration": 71,
    "start_time": "2021-07-04T12:22:21.993Z"
   },
   {
    "duration": 222,
    "start_time": "2021-07-04T12:22:24.808Z"
   },
   {
    "duration": 236,
    "start_time": "2021-07-04T12:22:48.329Z"
   },
   {
    "duration": 239,
    "start_time": "2021-07-04T12:23:52.641Z"
   },
   {
    "duration": 238,
    "start_time": "2021-07-04T12:23:56.178Z"
   },
   {
    "duration": 23,
    "start_time": "2021-07-04T12:24:01.259Z"
   },
   {
    "duration": 75,
    "start_time": "2021-07-04T12:24:22.704Z"
   },
   {
    "duration": 72,
    "start_time": "2021-07-04T12:24:26.267Z"
   },
   {
    "duration": 75,
    "start_time": "2021-07-04T12:25:04.783Z"
   },
   {
    "duration": 78,
    "start_time": "2021-07-04T12:25:20.226Z"
   },
   {
    "duration": 4,
    "start_time": "2021-07-04T12:25:27.211Z"
   },
   {
    "duration": 5,
    "start_time": "2021-07-04T12:25:32.599Z"
   },
   {
    "duration": 79,
    "start_time": "2021-07-04T12:25:44.864Z"
   },
   {
    "duration": 82,
    "start_time": "2021-07-04T12:25:50.845Z"
   },
   {
    "duration": 23,
    "start_time": "2021-07-04T12:32:50.549Z"
   },
   {
    "duration": 24,
    "start_time": "2021-07-04T12:33:05.328Z"
   },
   {
    "duration": 13,
    "start_time": "2021-07-04T12:33:22.106Z"
   },
   {
    "duration": 33,
    "start_time": "2021-07-04T12:33:59.653Z"
   },
   {
    "duration": 30,
    "start_time": "2021-07-04T12:34:18.404Z"
   },
   {
    "duration": 31,
    "start_time": "2021-07-04T12:34:20.914Z"
   },
   {
    "duration": 17,
    "start_time": "2021-07-04T12:34:26.282Z"
   },
   {
    "duration": 24,
    "start_time": "2021-07-04T12:34:33.657Z"
   },
   {
    "duration": 29,
    "start_time": "2021-07-04T12:34:57.145Z"
   },
   {
    "duration": 25,
    "start_time": "2021-07-04T12:35:09.251Z"
   },
   {
    "duration": 4,
    "start_time": "2021-07-04T12:35:14.827Z"
   },
   {
    "duration": 237,
    "start_time": "2021-07-04T12:36:22.049Z"
   },
   {
    "duration": 12,
    "start_time": "2021-07-04T12:36:24.398Z"
   },
   {
    "duration": 5,
    "start_time": "2021-07-04T12:37:02.528Z"
   },
   {
    "duration": 4,
    "start_time": "2021-07-04T12:37:04.436Z"
   },
   {
    "duration": 16,
    "start_time": "2021-07-04T12:41:42.644Z"
   },
   {
    "duration": 5,
    "start_time": "2021-07-04T12:41:44.297Z"
   },
   {
    "duration": 4,
    "start_time": "2021-07-04T12:41:45.689Z"
   },
   {
    "duration": 20,
    "start_time": "2021-07-04T12:41:53.669Z"
   },
   {
    "duration": 4,
    "start_time": "2021-07-04T12:41:56.463Z"
   },
   {
    "duration": 496,
    "start_time": "2021-07-04T12:42:01.079Z"
   },
   {
    "duration": 14,
    "start_time": "2021-07-04T12:42:09.842Z"
   },
   {
    "duration": 5,
    "start_time": "2021-07-04T12:42:11.412Z"
   },
   {
    "duration": 4,
    "start_time": "2021-07-04T12:42:37.148Z"
   },
   {
    "duration": 8,
    "start_time": "2021-07-04T12:42:46.600Z"
   },
   {
    "duration": 276,
    "start_time": "2021-07-04T12:42:51.636Z"
   },
   {
    "duration": 246,
    "start_time": "2021-07-04T12:42:57.297Z"
   },
   {
    "duration": 222,
    "start_time": "2021-07-04T12:43:03.173Z"
   },
   {
    "duration": 18,
    "start_time": "2021-07-04T12:43:20.566Z"
   },
   {
    "duration": 4,
    "start_time": "2021-07-04T12:43:22.203Z"
   },
   {
    "duration": 25,
    "start_time": "2021-07-04T12:43:57.354Z"
   },
   {
    "duration": 4,
    "start_time": "2021-07-04T12:44:35.389Z"
   },
   {
    "duration": 4,
    "start_time": "2021-07-04T12:44:43.733Z"
   },
   {
    "duration": 14,
    "start_time": "2021-07-04T12:44:54.611Z"
   },
   {
    "duration": 3,
    "start_time": "2021-07-04T12:44:58.868Z"
   },
   {
    "duration": 36,
    "start_time": "2021-07-04T12:45:07.067Z"
   },
   {
    "duration": 24,
    "start_time": "2021-07-04T12:45:25.313Z"
   },
   {
    "duration": 18,
    "start_time": "2021-07-04T12:45:33.347Z"
   },
   {
    "duration": 4,
    "start_time": "2021-07-04T12:46:03.349Z"
   },
   {
    "duration": 15,
    "start_time": "2021-07-04T12:46:12.992Z"
   },
   {
    "duration": 4,
    "start_time": "2021-07-04T12:46:14.910Z"
   },
   {
    "duration": 1066,
    "start_time": "2021-07-04T12:46:50.638Z"
   },
   {
    "duration": 635,
    "start_time": "2021-07-04T12:46:51.706Z"
   },
   {
    "duration": 23,
    "start_time": "2021-07-04T12:46:52.343Z"
   },
   {
    "duration": 3,
    "start_time": "2021-07-04T12:46:52.368Z"
   },
   {
    "duration": 53,
    "start_time": "2021-07-04T12:46:52.373Z"
   },
   {
    "duration": 18,
    "start_time": "2021-07-04T12:46:52.428Z"
   },
   {
    "duration": 5,
    "start_time": "2021-07-04T12:46:52.447Z"
   },
   {
    "duration": 10,
    "start_time": "2021-07-04T12:46:52.453Z"
   },
   {
    "duration": 24,
    "start_time": "2021-07-04T12:46:52.467Z"
   },
   {
    "duration": 4,
    "start_time": "2021-07-04T12:46:52.495Z"
   },
   {
    "duration": 8,
    "start_time": "2021-07-04T12:46:52.501Z"
   },
   {
    "duration": 17,
    "start_time": "2021-07-04T12:46:52.511Z"
   },
   {
    "duration": 10,
    "start_time": "2021-07-04T12:46:52.530Z"
   },
   {
    "duration": 11,
    "start_time": "2021-07-04T12:46:52.541Z"
   },
   {
    "duration": 52,
    "start_time": "2021-07-04T12:46:52.554Z"
   },
   {
    "duration": 15,
    "start_time": "2021-07-04T12:46:52.608Z"
   },
   {
    "duration": 19,
    "start_time": "2021-07-04T12:46:52.624Z"
   },
   {
    "duration": 6,
    "start_time": "2021-07-04T12:46:52.644Z"
   },
   {
    "duration": 9,
    "start_time": "2021-07-04T12:46:52.652Z"
   },
   {
    "duration": 3009,
    "start_time": "2021-07-04T12:46:52.663Z"
   },
   {
    "duration": 3021,
    "start_time": "2021-07-04T12:46:55.673Z"
   },
   {
    "duration": 2956,
    "start_time": "2021-07-04T12:46:58.695Z"
   },
   {
    "duration": 3,
    "start_time": "2021-07-04T12:47:01.653Z"
   },
   {
    "duration": 888,
    "start_time": "2021-07-04T12:47:01.658Z"
   },
   {
    "duration": 4,
    "start_time": "2021-07-04T12:47:02.548Z"
   },
   {
    "duration": 2398,
    "start_time": "2021-07-04T12:47:02.554Z"
   },
   {
    "duration": 1436,
    "start_time": "2021-07-04T12:47:04.955Z"
   },
   {
    "duration": 356,
    "start_time": "2021-07-04T12:47:06.393Z"
   },
   {
    "duration": -1009,
    "start_time": "2021-07-04T12:47:07.760Z"
   },
   {
    "duration": -1010,
    "start_time": "2021-07-04T12:47:07.762Z"
   },
   {
    "duration": 4,
    "start_time": "2021-07-04T12:47:11.393Z"
   },
   {
    "duration": 57,
    "start_time": "2021-07-04T12:47:14.979Z"
   },
   {
    "duration": 27,
    "start_time": "2021-07-04T12:47:36.723Z"
   },
   {
    "duration": 4,
    "start_time": "2021-07-04T12:47:52.365Z"
   },
   {
    "duration": 41,
    "start_time": "2021-07-04T12:48:24.342Z"
   },
   {
    "duration": 23,
    "start_time": "2021-07-04T12:48:32.407Z"
   },
   {
    "duration": 18,
    "start_time": "2021-07-04T12:49:05.119Z"
   },
   {
    "duration": 24,
    "start_time": "2021-07-04T12:49:09.893Z"
   },
   {
    "duration": 4,
    "start_time": "2021-07-04T12:49:17.679Z"
   },
   {
    "duration": 17,
    "start_time": "2021-07-04T12:53:54.656Z"
   },
   {
    "duration": 998,
    "start_time": "2021-07-04T12:54:38.638Z"
   },
   {
    "duration": 640,
    "start_time": "2021-07-04T12:54:39.638Z"
   },
   {
    "duration": 20,
    "start_time": "2021-07-04T12:54:40.280Z"
   },
   {
    "duration": 2,
    "start_time": "2021-07-04T12:54:40.302Z"
   },
   {
    "duration": 37,
    "start_time": "2021-07-04T12:54:40.305Z"
   },
   {
    "duration": 12,
    "start_time": "2021-07-04T12:54:40.344Z"
   },
   {
    "duration": 9,
    "start_time": "2021-07-04T12:54:40.357Z"
   },
   {
    "duration": 7,
    "start_time": "2021-07-04T12:54:40.368Z"
   },
   {
    "duration": 15,
    "start_time": "2021-07-04T12:54:40.376Z"
   },
   {
    "duration": 8,
    "start_time": "2021-07-04T12:54:40.393Z"
   },
   {
    "duration": 10,
    "start_time": "2021-07-04T12:54:40.403Z"
   },
   {
    "duration": 16,
    "start_time": "2021-07-04T12:54:40.414Z"
   },
   {
    "duration": 9,
    "start_time": "2021-07-04T12:54:40.431Z"
   },
   {
    "duration": 13,
    "start_time": "2021-07-04T12:54:40.441Z"
   },
   {
    "duration": 20,
    "start_time": "2021-07-04T12:54:40.456Z"
   },
   {
    "duration": 10,
    "start_time": "2021-07-04T12:54:40.477Z"
   },
   {
    "duration": 17,
    "start_time": "2021-07-04T12:54:40.489Z"
   },
   {
    "duration": 5,
    "start_time": "2021-07-04T12:54:40.507Z"
   },
   {
    "duration": 15,
    "start_time": "2021-07-04T12:54:40.513Z"
   },
   {
    "duration": 1755,
    "start_time": "2021-07-04T12:54:40.530Z"
   },
   {
    "duration": 1760,
    "start_time": "2021-07-04T12:54:42.286Z"
   },
   {
    "duration": 1809,
    "start_time": "2021-07-04T12:54:44.048Z"
   },
   {
    "duration": 3,
    "start_time": "2021-07-04T12:54:45.860Z"
   },
   {
    "duration": 527,
    "start_time": "2021-07-04T12:54:45.864Z"
   },
   {
    "duration": 4,
    "start_time": "2021-07-04T12:54:46.392Z"
   },
   {
    "duration": 1511,
    "start_time": "2021-07-04T12:54:46.398Z"
   },
   {
    "duration": 850,
    "start_time": "2021-07-04T12:54:47.910Z"
   },
   {
    "duration": 314,
    "start_time": "2021-07-04T12:54:48.762Z"
   },
   {
    "duration": -1015,
    "start_time": "2021-07-04T12:54:50.093Z"
   },
   {
    "duration": -1018,
    "start_time": "2021-07-04T12:54:50.097Z"
   },
   {
    "duration": 5,
    "start_time": "2021-07-04T12:55:24.724Z"
   },
   {
    "duration": 8,
    "start_time": "2021-07-04T12:55:41.317Z"
   },
   {
    "duration": 6,
    "start_time": "2021-07-04T12:55:55.263Z"
   },
   {
    "duration": 10,
    "start_time": "2021-07-04T12:56:29.787Z"
   },
   {
    "duration": 10,
    "start_time": "2021-07-04T12:56:59.717Z"
   },
   {
    "duration": 10,
    "start_time": "2021-07-04T12:57:42.189Z"
   },
   {
    "duration": 22,
    "start_time": "2021-07-04T12:58:09.577Z"
   },
   {
    "duration": 6148,
    "start_time": "2021-07-04T12:58:27.134Z"
   },
   {
    "duration": 6,
    "start_time": "2021-07-04T12:58:34.244Z"
   },
   {
    "duration": 27,
    "start_time": "2021-07-04T12:59:14.340Z"
   },
   {
    "duration": 5408,
    "start_time": "2021-07-04T12:59:50.405Z"
   },
   {
    "duration": 4,
    "start_time": "2021-07-04T13:00:45.652Z"
   },
   {
    "duration": 5,
    "start_time": "2021-07-04T13:00:51.483Z"
   },
   {
    "duration": 5,
    "start_time": "2021-07-04T13:00:56.652Z"
   },
   {
    "duration": 6,
    "start_time": "2021-07-04T13:00:59.386Z"
   },
   {
    "duration": 10,
    "start_time": "2021-07-04T13:01:20.364Z"
   },
   {
    "duration": 24,
    "start_time": "2021-07-04T13:01:29.665Z"
   },
   {
    "duration": 5,
    "start_time": "2021-07-04T13:01:48.435Z"
   },
   {
    "duration": 5,
    "start_time": "2021-07-04T13:01:53.047Z"
   },
   {
    "duration": 4,
    "start_time": "2021-07-04T13:01:57.820Z"
   },
   {
    "duration": 10,
    "start_time": "2021-07-04T13:02:31.538Z"
   },
   {
    "duration": -1040,
    "start_time": "2021-07-04T13:02:41.446Z"
   },
   {
    "duration": 6,
    "start_time": "2021-07-04T13:02:41.656Z"
   },
   {
    "duration": 6,
    "start_time": "2021-07-04T13:02:50.010Z"
   },
   {
    "duration": 4,
    "start_time": "2021-07-04T13:03:38.287Z"
   },
   {
    "duration": 27,
    "start_time": "2021-07-04T13:03:45.722Z"
   },
   {
    "duration": 1478,
    "start_time": "2021-07-04T13:04:14.702Z"
   },
   {
    "duration": 154,
    "start_time": "2021-07-04T13:05:09.404Z"
   },
   {
    "duration": 268,
    "start_time": "2021-07-04T13:05:16.282Z"
   },
   {
    "duration": 505,
    "start_time": "2021-07-04T13:05:46.026Z"
   },
   {
    "duration": 365,
    "start_time": "2021-07-04T13:06:13.232Z"
   },
   {
    "duration": 353,
    "start_time": "2021-07-04T13:06:23.545Z"
   },
   {
    "duration": 72,
    "start_time": "2021-07-04T13:06:33.849Z"
   },
   {
    "duration": 6,
    "start_time": "2021-07-04T13:06:37.416Z"
   },
   {
    "duration": 6,
    "start_time": "2021-07-04T13:06:47.942Z"
   },
   {
    "duration": 274,
    "start_time": "2021-07-04T13:07:03.664Z"
   },
   {
    "duration": 269,
    "start_time": "2021-07-04T13:07:08.858Z"
   },
   {
    "duration": 21,
    "start_time": "2021-07-04T13:08:04.920Z"
   },
   {
    "duration": 1516,
    "start_time": "2021-07-04T13:08:11.051Z"
   },
   {
    "duration": 867,
    "start_time": "2021-07-04T13:08:19.692Z"
   },
   {
    "duration": 3,
    "start_time": "2021-07-04T13:20:06.949Z"
   },
   {
    "duration": 25,
    "start_time": "2021-07-04T13:34:19.921Z"
   },
   {
    "duration": 3,
    "start_time": "2021-07-04T13:34:24.011Z"
   },
   {
    "duration": 1120,
    "start_time": "2021-07-04T13:34:31.665Z"
   },
   {
    "duration": 677,
    "start_time": "2021-07-04T13:34:32.787Z"
   },
   {
    "duration": 25,
    "start_time": "2021-07-04T13:34:33.467Z"
   },
   {
    "duration": 3,
    "start_time": "2021-07-04T13:34:33.495Z"
   },
   {
    "duration": 40,
    "start_time": "2021-07-04T13:34:33.500Z"
   },
   {
    "duration": 13,
    "start_time": "2021-07-04T13:34:33.541Z"
   },
   {
    "duration": 6,
    "start_time": "2021-07-04T13:34:33.556Z"
   },
   {
    "duration": 7,
    "start_time": "2021-07-04T13:34:33.563Z"
   },
   {
    "duration": 19,
    "start_time": "2021-07-04T13:34:33.573Z"
   },
   {
    "duration": 10,
    "start_time": "2021-07-04T13:34:33.594Z"
   },
   {
    "duration": 13,
    "start_time": "2021-07-04T13:34:33.606Z"
   },
   {
    "duration": 15,
    "start_time": "2021-07-04T13:34:33.620Z"
   },
   {
    "duration": 17,
    "start_time": "2021-07-04T13:34:33.636Z"
   },
   {
    "duration": 18,
    "start_time": "2021-07-04T13:34:33.655Z"
   },
   {
    "duration": 30,
    "start_time": "2021-07-04T13:34:33.675Z"
   },
   {
    "duration": 11,
    "start_time": "2021-07-04T13:34:33.707Z"
   },
   {
    "duration": 15,
    "start_time": "2021-07-04T13:34:33.720Z"
   },
   {
    "duration": 5,
    "start_time": "2021-07-04T13:34:33.736Z"
   },
   {
    "duration": 13,
    "start_time": "2021-07-04T13:34:33.742Z"
   },
   {
    "duration": 1902,
    "start_time": "2021-07-04T13:34:33.756Z"
   },
   {
    "duration": 2626,
    "start_time": "2021-07-04T13:34:35.659Z"
   },
   {
    "duration": 1957,
    "start_time": "2021-07-04T13:34:38.288Z"
   },
   {
    "duration": 3,
    "start_time": "2021-07-04T13:34:40.246Z"
   },
   {
    "duration": 557,
    "start_time": "2021-07-04T13:34:40.251Z"
   },
   {
    "duration": 4,
    "start_time": "2021-07-04T13:34:40.810Z"
   },
   {
    "duration": 1645,
    "start_time": "2021-07-04T13:34:40.815Z"
   },
   {
    "duration": 915,
    "start_time": "2021-07-04T13:34:42.463Z"
   },
   {
    "duration": 3,
    "start_time": "2021-07-04T13:34:43.380Z"
   },
   {
    "duration": 27,
    "start_time": "2021-07-04T13:34:43.391Z"
   },
   {
    "duration": 3,
    "start_time": "2021-07-04T13:34:43.419Z"
   },
   {
    "duration": 13,
    "start_time": "2021-07-04T13:34:43.423Z"
   },
   {
    "duration": 5,
    "start_time": "2021-07-04T13:35:14.903Z"
   },
   {
    "duration": 3,
    "start_time": "2021-07-04T13:38:28.657Z"
   },
   {
    "duration": 9,
    "start_time": "2021-07-04T13:41:04.067Z"
   },
   {
    "duration": 10,
    "start_time": "2021-07-04T13:41:08.310Z"
   },
   {
    "duration": 22,
    "start_time": "2021-07-04T13:41:14.337Z"
   },
   {
    "duration": 12,
    "start_time": "2021-07-04T13:42:52.564Z"
   },
   {
    "duration": 22,
    "start_time": "2021-07-04T13:42:56.544Z"
   },
   {
    "duration": 5,
    "start_time": "2021-07-04T13:45:39.654Z"
   },
   {
    "duration": 318,
    "start_time": "2021-07-04T13:46:58.134Z"
   },
   {
    "duration": 11,
    "start_time": "2021-07-04T13:47:23.204Z"
   },
   {
    "duration": 4,
    "start_time": "2021-07-04T13:47:38.329Z"
   },
   {
    "duration": 238,
    "start_time": "2021-07-04T13:47:49.255Z"
   },
   {
    "duration": 24,
    "start_time": "2021-07-04T13:48:09.676Z"
   },
   {
    "duration": 10,
    "start_time": "2021-07-04T13:48:16.999Z"
   },
   {
    "duration": 3,
    "start_time": "2021-07-04T13:52:50.760Z"
   },
   {
    "duration": 3,
    "start_time": "2021-07-04T13:53:57.008Z"
   },
   {
    "duration": 1266,
    "start_time": "2021-07-04T13:54:38.726Z"
   },
   {
    "duration": 4,
    "start_time": "2021-07-04T13:54:45.269Z"
   },
   {
    "duration": 4,
    "start_time": "2021-07-04T13:54:54.232Z"
   },
   {
    "duration": 4,
    "start_time": "2021-07-04T13:55:39.785Z"
   },
   {
    "duration": 8,
    "start_time": "2021-07-04T13:56:01.798Z"
   },
   {
    "duration": 5,
    "start_time": "2021-07-04T13:56:04.364Z"
   },
   {
    "duration": 216,
    "start_time": "2021-07-04T13:56:42.924Z"
   },
   {
    "duration": 4372,
    "start_time": "2021-07-04T13:57:12.126Z"
   },
   {
    "duration": 4,
    "start_time": "2021-07-04T13:57:17.475Z"
   },
   {
    "duration": 235,
    "start_time": "2021-07-04T13:57:41.117Z"
   },
   {
    "duration": 228,
    "start_time": "2021-07-04T13:58:58.598Z"
   },
   {
    "duration": 1310,
    "start_time": "2021-07-04T13:59:13.303Z"
   },
   {
    "duration": 4,
    "start_time": "2021-07-04T13:59:15.382Z"
   },
   {
    "duration": 838,
    "start_time": "2021-07-04T13:59:34.776Z"
   },
   {
    "duration": 4,
    "start_time": "2021-07-04T13:59:36.038Z"
   },
   {
    "duration": 13,
    "start_time": "2021-07-04T14:43:55.174Z"
   },
   {
    "duration": 4,
    "start_time": "2021-07-04T14:44:06.435Z"
   },
   {
    "duration": 17,
    "start_time": "2021-07-04T14:44:52.701Z"
   },
   {
    "duration": 5,
    "start_time": "2021-07-04T14:44:53.535Z"
   },
   {
    "duration": 17,
    "start_time": "2021-07-04T14:46:02.023Z"
   },
   {
    "duration": 4,
    "start_time": "2021-07-04T14:46:13.318Z"
   },
   {
    "duration": 1085,
    "start_time": "2021-07-04T14:46:41.824Z"
   },
   {
    "duration": 693,
    "start_time": "2021-07-04T14:46:42.910Z"
   },
   {
    "duration": 19,
    "start_time": "2021-07-04T14:46:43.604Z"
   },
   {
    "duration": 6,
    "start_time": "2021-07-04T14:46:43.624Z"
   },
   {
    "duration": 36,
    "start_time": "2021-07-04T14:46:43.631Z"
   },
   {
    "duration": 23,
    "start_time": "2021-07-04T14:46:43.668Z"
   },
   {
    "duration": 3,
    "start_time": "2021-07-04T14:46:43.692Z"
   },
   {
    "duration": 7,
    "start_time": "2021-07-04T14:46:43.697Z"
   },
   {
    "duration": 5,
    "start_time": "2021-07-04T14:46:43.705Z"
   },
   {
    "duration": 6,
    "start_time": "2021-07-04T14:46:43.712Z"
   },
   {
    "duration": 16,
    "start_time": "2021-07-04T14:46:43.719Z"
   },
   {
    "duration": 12,
    "start_time": "2021-07-04T14:46:43.737Z"
   },
   {
    "duration": 8,
    "start_time": "2021-07-04T14:46:43.751Z"
   },
   {
    "duration": 9,
    "start_time": "2021-07-04T14:46:43.761Z"
   },
   {
    "duration": 29,
    "start_time": "2021-07-04T14:46:43.771Z"
   },
   {
    "duration": 12,
    "start_time": "2021-07-04T14:46:43.801Z"
   },
   {
    "duration": 13,
    "start_time": "2021-07-04T14:46:43.814Z"
   },
   {
    "duration": 5,
    "start_time": "2021-07-04T14:46:43.829Z"
   },
   {
    "duration": 10,
    "start_time": "2021-07-04T14:46:43.835Z"
   },
   {
    "duration": 2092,
    "start_time": "2021-07-04T14:46:43.846Z"
   },
   {
    "duration": 1851,
    "start_time": "2021-07-04T14:46:45.940Z"
   },
   {
    "duration": 1820,
    "start_time": "2021-07-04T14:46:47.793Z"
   },
   {
    "duration": 3,
    "start_time": "2021-07-04T14:46:49.616Z"
   },
   {
    "duration": 536,
    "start_time": "2021-07-04T14:46:49.620Z"
   },
   {
    "duration": 4,
    "start_time": "2021-07-04T14:46:50.158Z"
   },
   {
    "duration": 1546,
    "start_time": "2021-07-04T14:46:50.164Z"
   },
   {
    "duration": 979,
    "start_time": "2021-07-04T14:46:51.712Z"
   },
   {
    "duration": 5,
    "start_time": "2021-07-04T14:46:52.693Z"
   },
   {
    "duration": 37,
    "start_time": "2021-07-04T14:46:52.700Z"
   },
   {
    "duration": 4,
    "start_time": "2021-07-04T14:46:52.740Z"
   },
   {
    "duration": 57,
    "start_time": "2021-07-04T14:46:52.746Z"
   },
   {
    "duration": 378,
    "start_time": "2021-07-04T14:46:52.805Z"
   },
   {
    "duration": -1017,
    "start_time": "2021-07-04T14:46:54.202Z"
   },
   {
    "duration": -1017,
    "start_time": "2021-07-04T14:46:54.204Z"
   },
   {
    "duration": -1020,
    "start_time": "2021-07-04T14:46:54.208Z"
   },
   {
    "duration": 4,
    "start_time": "2021-07-04T14:46:56.479Z"
   },
   {
    "duration": 121,
    "start_time": "2021-07-04T14:47:18.451Z"
   },
   {
    "duration": 120,
    "start_time": "2021-07-04T14:49:45.537Z"
   },
   {
    "duration": 5,
    "start_time": "2021-07-04T14:49:57.217Z"
   },
   {
    "duration": 5,
    "start_time": "2021-07-04T14:50:22.633Z"
   },
   {
    "duration": 609,
    "start_time": "2021-07-04T14:50:49.612Z"
   },
   {
    "duration": 3,
    "start_time": "2021-07-04T14:50:54.273Z"
   },
   {
    "duration": 4,
    "start_time": "2021-07-04T14:58:22.162Z"
   },
   {
    "duration": 1048,
    "start_time": "2021-07-04T15:01:23.449Z"
   },
   {
    "duration": 679,
    "start_time": "2021-07-04T15:01:24.499Z"
   },
   {
    "duration": 26,
    "start_time": "2021-07-04T15:01:25.180Z"
   },
   {
    "duration": 3,
    "start_time": "2021-07-04T15:01:25.208Z"
   },
   {
    "duration": 50,
    "start_time": "2021-07-04T15:01:25.213Z"
   },
   {
    "duration": 12,
    "start_time": "2021-07-04T15:01:25.265Z"
   },
   {
    "duration": 12,
    "start_time": "2021-07-04T15:01:25.279Z"
   },
   {
    "duration": 6,
    "start_time": "2021-07-04T15:01:25.293Z"
   },
   {
    "duration": 5,
    "start_time": "2021-07-04T15:01:25.301Z"
   },
   {
    "duration": 8,
    "start_time": "2021-07-04T15:01:25.308Z"
   },
   {
    "duration": 12,
    "start_time": "2021-07-04T15:01:25.318Z"
   },
   {
    "duration": 10,
    "start_time": "2021-07-04T15:01:25.331Z"
   },
   {
    "duration": 11,
    "start_time": "2021-07-04T15:01:25.343Z"
   },
   {
    "duration": 13,
    "start_time": "2021-07-04T15:01:25.356Z"
   },
   {
    "duration": 24,
    "start_time": "2021-07-04T15:01:25.371Z"
   },
   {
    "duration": 11,
    "start_time": "2021-07-04T15:01:25.396Z"
   },
   {
    "duration": 20,
    "start_time": "2021-07-04T15:01:25.409Z"
   },
   {
    "duration": 5,
    "start_time": "2021-07-04T15:01:25.430Z"
   },
   {
    "duration": 10,
    "start_time": "2021-07-04T15:01:25.437Z"
   },
   {
    "duration": 1803,
    "start_time": "2021-07-04T15:01:25.448Z"
   },
   {
    "duration": 1812,
    "start_time": "2021-07-04T15:01:27.252Z"
   },
   {
    "duration": 1842,
    "start_time": "2021-07-04T15:01:29.066Z"
   },
   {
    "duration": 3,
    "start_time": "2021-07-04T15:01:30.910Z"
   },
   {
    "duration": 530,
    "start_time": "2021-07-04T15:01:30.914Z"
   },
   {
    "duration": 4,
    "start_time": "2021-07-04T15:01:31.446Z"
   },
   {
    "duration": 1528,
    "start_time": "2021-07-04T15:01:31.451Z"
   },
   {
    "duration": 856,
    "start_time": "2021-07-04T15:01:32.982Z"
   },
   {
    "duration": 4,
    "start_time": "2021-07-04T15:01:33.840Z"
   },
   {
    "duration": 25,
    "start_time": "2021-07-04T15:01:33.845Z"
   },
   {
    "duration": 3,
    "start_time": "2021-07-04T15:01:33.872Z"
   },
   {
    "duration": 23,
    "start_time": "2021-07-04T15:01:33.891Z"
   },
   {
    "duration": 4,
    "start_time": "2021-07-04T15:01:33.915Z"
   },
   {
    "duration": 304,
    "start_time": "2021-07-04T15:01:33.920Z"
   },
   {
    "duration": -1022,
    "start_time": "2021-07-04T15:01:35.247Z"
   },
   {
    "duration": -1024,
    "start_time": "2021-07-04T15:01:35.250Z"
   },
   {
    "duration": -1025,
    "start_time": "2021-07-04T15:01:35.252Z"
   },
   {
    "duration": 28,
    "start_time": "2021-07-04T15:02:08.683Z"
   },
   {
    "duration": 22,
    "start_time": "2021-07-04T15:02:14.840Z"
   },
   {
    "duration": 4,
    "start_time": "2021-07-04T15:04:39.320Z"
   },
   {
    "duration": 3,
    "start_time": "2021-07-04T15:05:03.732Z"
   },
   {
    "duration": 7230,
    "start_time": "2021-07-04T15:05:09.519Z"
   },
   {
    "duration": 153,
    "start_time": "2021-07-04T15:06:05.517Z"
   },
   {
    "duration": 6985,
    "start_time": "2021-07-04T15:06:13.733Z"
   },
   {
    "duration": 3,
    "start_time": "2021-07-04T15:06:43.416Z"
   },
   {
    "duration": 6870,
    "start_time": "2021-07-04T15:06:44.637Z"
   },
   {
    "duration": 408,
    "start_time": "2021-07-04T15:07:22.828Z"
   },
   {
    "duration": 189,
    "start_time": "2021-07-04T15:07:39.574Z"
   },
   {
    "duration": 98,
    "start_time": "2021-07-04T15:07:46.240Z"
   },
   {
    "duration": 190,
    "start_time": "2021-07-04T15:07:51.915Z"
   },
   {
    "duration": 197,
    "start_time": "2021-07-04T15:08:00.164Z"
   },
   {
    "duration": 405,
    "start_time": "2021-07-04T15:25:27.713Z"
   },
   {
    "duration": 4,
    "start_time": "2021-07-04T15:26:05.106Z"
   },
   {
    "duration": 628,
    "start_time": "2021-07-04T15:26:12.875Z"
   },
   {
    "duration": 920,
    "start_time": "2021-07-04T15:26:21.304Z"
   },
   {
    "duration": 609,
    "start_time": "2021-07-04T15:29:47.808Z"
   },
   {
    "duration": 419,
    "start_time": "2021-07-04T15:30:38.103Z"
   },
   {
    "duration": 576,
    "start_time": "2021-07-04T15:31:44.377Z"
   },
   {
    "duration": 779,
    "start_time": "2021-07-04T15:32:18.568Z"
   },
   {
    "duration": 864,
    "start_time": "2021-07-04T15:32:46.867Z"
   },
   {
    "duration": 928,
    "start_time": "2021-07-04T15:33:53.797Z"
   },
   {
    "duration": 783,
    "start_time": "2021-07-04T15:34:12.424Z"
   },
   {
    "duration": 440,
    "start_time": "2021-07-04T15:35:03.238Z"
   },
   {
    "duration": 1503,
    "start_time": "2021-07-04T15:37:18.949Z"
   },
   {
    "duration": 1554,
    "start_time": "2021-07-04T15:37:54.199Z"
   },
   {
    "duration": 457,
    "start_time": "2021-07-04T15:38:23.316Z"
   },
   {
    "duration": 4,
    "start_time": "2021-07-04T15:42:46.095Z"
   },
   {
    "duration": 3,
    "start_time": "2021-07-04T15:45:01.659Z"
   },
   {
    "duration": 677,
    "start_time": "2021-07-04T15:45:06.888Z"
   },
   {
    "duration": 3,
    "start_time": "2021-07-04T15:45:34.181Z"
   },
   {
    "duration": 464,
    "start_time": "2021-07-04T15:45:36.115Z"
   },
   {
    "duration": 5,
    "start_time": "2021-07-04T15:46:15.194Z"
   },
   {
    "duration": 5,
    "start_time": "2021-07-04T15:46:53.521Z"
   },
   {
    "duration": 3,
    "start_time": "2021-07-04T15:46:56.538Z"
   },
   {
    "duration": 694,
    "start_time": "2021-07-04T15:47:01.654Z"
   },
   {
    "duration": 3,
    "start_time": "2021-07-04T15:48:28.387Z"
   },
   {
    "duration": 5,
    "start_time": "2021-07-04T15:48:30.990Z"
   },
   {
    "duration": 472,
    "start_time": "2021-07-04T15:48:31.471Z"
   },
   {
    "duration": 4,
    "start_time": "2021-07-04T15:51:13.877Z"
   },
   {
    "duration": 4,
    "start_time": "2021-07-04T15:51:16.014Z"
   },
   {
    "duration": 439,
    "start_time": "2021-07-04T15:51:16.272Z"
   },
   {
    "duration": 5,
    "start_time": "2021-07-04T15:51:44.644Z"
   },
   {
    "duration": 5,
    "start_time": "2021-07-04T15:53:21.398Z"
   },
   {
    "duration": 5,
    "start_time": "2021-07-04T15:53:23.004Z"
   },
   {
    "duration": 456,
    "start_time": "2021-07-04T15:53:23.460Z"
   },
   {
    "duration": 4,
    "start_time": "2021-07-04T15:56:59.339Z"
   },
   {
    "duration": 518,
    "start_time": "2021-07-04T15:57:42.914Z"
   },
   {
    "duration": 440,
    "start_time": "2021-07-04T15:57:47.356Z"
   },
   {
    "duration": 435,
    "start_time": "2021-07-04T15:57:57.402Z"
   },
   {
    "duration": 242,
    "start_time": "2021-07-04T15:58:22.944Z"
   },
   {
    "duration": 7,
    "start_time": "2021-07-04T15:58:30.853Z"
   },
   {
    "duration": 496,
    "start_time": "2021-07-04T15:58:47.781Z"
   },
   {
    "duration": 439,
    "start_time": "2021-07-04T15:59:05.662Z"
   },
   {
    "duration": 533,
    "start_time": "2021-07-04T16:06:14.246Z"
   },
   {
    "duration": 6,
    "start_time": "2021-07-04T16:06:37.900Z"
   },
   {
    "duration": 3,
    "start_time": "2021-07-04T16:08:19.975Z"
   },
   {
    "duration": 7,
    "start_time": "2021-07-04T16:08:21.122Z"
   },
   {
    "duration": 5,
    "start_time": "2021-07-04T16:08:22.975Z"
   },
   {
    "duration": 479,
    "start_time": "2021-07-04T16:08:23.327Z"
   },
   {
    "duration": 218,
    "start_time": "2021-07-04T16:10:20.193Z"
   },
   {
    "duration": 233,
    "start_time": "2021-07-04T16:10:24.308Z"
   },
   {
    "duration": 221,
    "start_time": "2021-07-04T16:10:31.700Z"
   },
   {
    "duration": 4,
    "start_time": "2021-07-04T16:10:42.098Z"
   },
   {
    "duration": 209,
    "start_time": "2021-07-04T16:10:45.787Z"
   },
   {
    "duration": 3,
    "start_time": "2021-07-04T16:14:18.352Z"
   },
   {
    "duration": 442,
    "start_time": "2021-07-04T16:14:27.155Z"
   },
   {
    "duration": 1083,
    "start_time": "2021-07-04T16:15:16.808Z"
   },
   {
    "duration": 697,
    "start_time": "2021-07-04T16:15:17.893Z"
   },
   {
    "duration": 21,
    "start_time": "2021-07-04T16:15:18.591Z"
   },
   {
    "duration": 2,
    "start_time": "2021-07-04T16:15:18.614Z"
   },
   {
    "duration": 38,
    "start_time": "2021-07-04T16:15:18.618Z"
   },
   {
    "duration": 40,
    "start_time": "2021-07-04T16:15:18.658Z"
   },
   {
    "duration": 4,
    "start_time": "2021-07-04T16:15:18.700Z"
   },
   {
    "duration": 7,
    "start_time": "2021-07-04T16:15:18.706Z"
   },
   {
    "duration": 5,
    "start_time": "2021-07-04T16:15:18.715Z"
   },
   {
    "duration": 9,
    "start_time": "2021-07-04T16:15:18.721Z"
   },
   {
    "duration": 11,
    "start_time": "2021-07-04T16:15:18.732Z"
   },
   {
    "duration": 14,
    "start_time": "2021-07-04T16:15:18.745Z"
   },
   {
    "duration": 32,
    "start_time": "2021-07-04T16:15:18.761Z"
   },
   {
    "duration": 10,
    "start_time": "2021-07-04T16:15:18.795Z"
   },
   {
    "duration": 19,
    "start_time": "2021-07-04T16:15:18.807Z"
   },
   {
    "duration": 11,
    "start_time": "2021-07-04T16:15:18.827Z"
   },
   {
    "duration": 13,
    "start_time": "2021-07-04T16:15:18.840Z"
   },
   {
    "duration": 5,
    "start_time": "2021-07-04T16:15:18.855Z"
   },
   {
    "duration": 6,
    "start_time": "2021-07-04T16:15:18.892Z"
   },
   {
    "duration": 1870,
    "start_time": "2021-07-04T16:15:18.900Z"
   },
   {
    "duration": 1825,
    "start_time": "2021-07-04T16:15:20.772Z"
   },
   {
    "duration": 1829,
    "start_time": "2021-07-04T16:15:22.599Z"
   },
   {
    "duration": 3,
    "start_time": "2021-07-04T16:15:24.431Z"
   },
   {
    "duration": 533,
    "start_time": "2021-07-04T16:15:24.436Z"
   },
   {
    "duration": 4,
    "start_time": "2021-07-04T16:15:24.971Z"
   },
   {
    "duration": 1569,
    "start_time": "2021-07-04T16:15:24.977Z"
   },
   {
    "duration": 866,
    "start_time": "2021-07-04T16:15:26.548Z"
   },
   {
    "duration": 3,
    "start_time": "2021-07-04T16:15:27.416Z"
   },
   {
    "duration": 25,
    "start_time": "2021-07-04T16:15:27.421Z"
   },
   {
    "duration": 2,
    "start_time": "2021-07-04T16:15:27.448Z"
   },
   {
    "duration": 83,
    "start_time": "2021-07-04T16:15:27.452Z"
   },
   {
    "duration": -1021,
    "start_time": "2021-07-04T16:15:28.558Z"
   },
   {
    "duration": -1033,
    "start_time": "2021-07-04T16:15:28.572Z"
   },
   {
    "duration": -1034,
    "start_time": "2021-07-04T16:15:28.574Z"
   },
   {
    "duration": -1035,
    "start_time": "2021-07-04T16:15:28.576Z"
   },
   {
    "duration": -1038,
    "start_time": "2021-07-04T16:15:28.579Z"
   },
   {
    "duration": -1040,
    "start_time": "2021-07-04T16:15:28.582Z"
   },
   {
    "duration": -1041,
    "start_time": "2021-07-04T16:15:28.584Z"
   },
   {
    "duration": -1043,
    "start_time": "2021-07-04T16:15:28.586Z"
   },
   {
    "duration": -1049,
    "start_time": "2021-07-04T16:15:28.593Z"
   },
   {
    "duration": -1052,
    "start_time": "2021-07-04T16:15:28.597Z"
   },
   {
    "duration": -1053,
    "start_time": "2021-07-04T16:15:28.599Z"
   },
   {
    "duration": 517,
    "start_time": "2021-07-04T16:15:49.528Z"
   },
   {
    "duration": 70,
    "start_time": "2021-07-04T16:17:09.670Z"
   },
   {
    "duration": 242,
    "start_time": "2021-07-04T16:17:13.794Z"
   },
   {
    "duration": 2,
    "start_time": "2021-07-04T16:18:23.436Z"
   },
   {
    "duration": 241,
    "start_time": "2021-07-04T16:18:29.281Z"
   },
   {
    "duration": 3,
    "start_time": "2021-07-04T16:19:19.618Z"
   },
   {
    "duration": 946,
    "start_time": "2021-07-04T16:19:19.962Z"
   },
   {
    "duration": 3,
    "start_time": "2021-07-04T16:23:30.980Z"
   },
   {
    "duration": 20,
    "start_time": "2021-07-04T16:23:48.339Z"
   },
   {
    "duration": 477,
    "start_time": "2021-07-04T16:24:13.120Z"
   },
   {
    "duration": 3,
    "start_time": "2021-07-04T16:25:07.233Z"
   },
   {
    "duration": 441,
    "start_time": "2021-07-04T16:25:09.978Z"
   },
   {
    "duration": 4,
    "start_time": "2021-07-04T16:25:35.534Z"
   },
   {
    "duration": 9,
    "start_time": "2021-07-04T16:25:38.707Z"
   },
   {
    "duration": 4,
    "start_time": "2021-07-04T16:25:52.172Z"
   },
   {
    "duration": 491,
    "start_time": "2021-07-04T16:25:54.176Z"
   },
   {
    "duration": 3,
    "start_time": "2021-07-04T16:29:47.807Z"
   },
   {
    "duration": 1722,
    "start_time": "2021-07-04T16:29:52.057Z"
   },
   {
    "duration": 443,
    "start_time": "2021-07-04T16:30:03.220Z"
   },
   {
    "duration": 4,
    "start_time": "2021-07-04T16:31:10.717Z"
   },
   {
    "duration": 11,
    "start_time": "2021-07-04T16:31:43.283Z"
   },
   {
    "duration": 9,
    "start_time": "2021-07-04T16:31:43.857Z"
   },
   {
    "duration": 5,
    "start_time": "2021-07-04T16:31:44.213Z"
   },
   {
    "duration": 18,
    "start_time": "2021-07-04T16:32:30.715Z"
   },
   {
    "duration": 5,
    "start_time": "2021-07-04T16:32:31.086Z"
   },
   {
    "duration": 1161,
    "start_time": "2021-07-04T16:32:49.277Z"
   },
   {
    "duration": 965,
    "start_time": "2021-07-04T16:32:50.440Z"
   },
   {
    "duration": 28,
    "start_time": "2021-07-04T16:32:51.408Z"
   },
   {
    "duration": 3,
    "start_time": "2021-07-04T16:32:51.438Z"
   },
   {
    "duration": 72,
    "start_time": "2021-07-04T16:32:51.442Z"
   },
   {
    "duration": 21,
    "start_time": "2021-07-04T16:32:51.515Z"
   },
   {
    "duration": 3,
    "start_time": "2021-07-04T16:32:51.538Z"
   },
   {
    "duration": 12,
    "start_time": "2021-07-04T16:32:51.542Z"
   },
   {
    "duration": 8,
    "start_time": "2021-07-04T16:32:51.557Z"
   },
   {
    "duration": 7,
    "start_time": "2021-07-04T16:32:51.568Z"
   },
   {
    "duration": 21,
    "start_time": "2021-07-04T16:32:51.577Z"
   },
   {
    "duration": 11,
    "start_time": "2021-07-04T16:32:51.599Z"
   },
   {
    "duration": 8,
    "start_time": "2021-07-04T16:32:51.612Z"
   },
   {
    "duration": 10,
    "start_time": "2021-07-04T16:32:51.621Z"
   },
   {
    "duration": 25,
    "start_time": "2021-07-04T16:32:51.632Z"
   },
   {
    "duration": 42,
    "start_time": "2021-07-04T16:32:51.658Z"
   },
   {
    "duration": 17,
    "start_time": "2021-07-04T16:32:51.701Z"
   },
   {
    "duration": 5,
    "start_time": "2021-07-04T16:32:51.720Z"
   },
   {
    "duration": 8,
    "start_time": "2021-07-04T16:32:51.726Z"
   },
   {
    "duration": 2027,
    "start_time": "2021-07-04T16:32:51.735Z"
   },
   {
    "duration": 2020,
    "start_time": "2021-07-04T16:32:53.764Z"
   },
   {
    "duration": 1944,
    "start_time": "2021-07-04T16:32:55.785Z"
   },
   {
    "duration": 3,
    "start_time": "2021-07-04T16:32:57.731Z"
   },
   {
    "duration": 531,
    "start_time": "2021-07-04T16:32:57.736Z"
   },
   {
    "duration": 4,
    "start_time": "2021-07-04T16:32:58.269Z"
   },
   {
    "duration": 1551,
    "start_time": "2021-07-04T16:32:58.275Z"
   },
   {
    "duration": 882,
    "start_time": "2021-07-04T16:32:59.829Z"
   },
   {
    "duration": 5,
    "start_time": "2021-07-04T16:33:00.713Z"
   },
   {
    "duration": 41,
    "start_time": "2021-07-04T16:33:00.719Z"
   },
   {
    "duration": 2,
    "start_time": "2021-07-04T16:33:00.762Z"
   },
   {
    "duration": 14,
    "start_time": "2021-07-04T16:33:00.766Z"
   },
   {
    "duration": 319,
    "start_time": "2021-07-04T16:33:00.782Z"
   },
   {
    "duration": -1043,
    "start_time": "2021-07-04T16:33:02.146Z"
   },
   {
    "duration": -1043,
    "start_time": "2021-07-04T16:33:02.148Z"
   },
   {
    "duration": -1044,
    "start_time": "2021-07-04T16:33:02.150Z"
   },
   {
    "duration": -1045,
    "start_time": "2021-07-04T16:33:02.152Z"
   },
   {
    "duration": -1049,
    "start_time": "2021-07-04T16:33:02.158Z"
   },
   {
    "duration": -1050,
    "start_time": "2021-07-04T16:33:02.160Z"
   },
   {
    "duration": -1051,
    "start_time": "2021-07-04T16:33:02.162Z"
   },
   {
    "duration": 19,
    "start_time": "2021-07-04T16:33:05.340Z"
   },
   {
    "duration": 4,
    "start_time": "2021-07-04T16:33:06.341Z"
   },
   {
    "duration": 27,
    "start_time": "2021-07-04T16:33:15.547Z"
   },
   {
    "duration": 1732,
    "start_time": "2021-07-04T16:33:29.718Z"
   },
   {
    "duration": 4,
    "start_time": "2021-07-04T16:33:49.503Z"
   },
   {
    "duration": 3713,
    "start_time": "2021-07-04T16:33:51.579Z"
   },
   {
    "duration": 4,
    "start_time": "2021-07-04T16:36:14.287Z"
   },
   {
    "duration": 3520,
    "start_time": "2021-07-04T16:36:19.863Z"
   },
   {
    "duration": 3531,
    "start_time": "2021-07-04T16:36:31.761Z"
   },
   {
    "duration": 2,
    "start_time": "2021-07-04T16:37:07.652Z"
   },
   {
    "duration": 8601,
    "start_time": "2021-07-04T16:37:08.348Z"
   },
   {
    "duration": 1822,
    "start_time": "2021-07-04T16:37:30.818Z"
   },
   {
    "duration": 3,
    "start_time": "2021-07-04T16:38:18.924Z"
   },
   {
    "duration": 13947,
    "start_time": "2021-07-04T16:38:20.039Z"
   },
   {
    "duration": 2810,
    "start_time": "2021-07-04T16:38:42.429Z"
   },
   {
    "duration": 2954,
    "start_time": "2021-07-04T16:38:50.409Z"
   },
   {
    "duration": 1834,
    "start_time": "2021-07-04T16:38:55.721Z"
   },
   {
    "duration": 1986,
    "start_time": "2021-07-04T16:39:01.931Z"
   },
   {
    "duration": 278,
    "start_time": "2021-07-04T16:42:02.822Z"
   },
   {
    "duration": 1980,
    "start_time": "2021-07-04T16:42:08.147Z"
   },
   {
    "duration": 3541,
    "start_time": "2021-07-04T16:42:17.435Z"
   },
   {
    "duration": 3687,
    "start_time": "2021-07-04T16:42:28.698Z"
   },
   {
    "duration": 3531,
    "start_time": "2021-07-04T16:44:16.585Z"
   },
   {
    "duration": 21194,
    "start_time": "2021-07-04T16:44:27.985Z"
   },
   {
    "duration": 220,
    "start_time": "2021-07-04T16:47:31.580Z"
   },
   {
    "duration": 2,
    "start_time": "2021-07-04T16:47:37.291Z"
   },
   {
    "duration": 242,
    "start_time": "2021-07-04T16:47:44.938Z"
   },
   {
    "duration": 245,
    "start_time": "2021-07-04T16:48:06.677Z"
   },
   {
    "duration": 4,
    "start_time": "2021-07-04T16:48:21.410Z"
   },
   {
    "duration": 4,
    "start_time": "2021-07-04T16:48:35.445Z"
   },
   {
    "duration": 4,
    "start_time": "2021-07-04T16:48:40.880Z"
   },
   {
    "duration": 3014,
    "start_time": "2021-07-04T16:49:32.280Z"
   },
   {
    "duration": 4,
    "start_time": "2021-07-04T16:51:48.752Z"
   },
   {
    "duration": 407,
    "start_time": "2021-07-04T16:51:54.546Z"
   },
   {
    "duration": 4,
    "start_time": "2021-07-04T16:52:27.934Z"
   },
   {
    "duration": 1554,
    "start_time": "2021-07-04T16:52:32.347Z"
   },
   {
    "duration": 215,
    "start_time": "2021-07-04T16:54:39.409Z"
   },
   {
    "duration": 3,
    "start_time": "2021-07-04T16:54:50.669Z"
   },
   {
    "duration": 251,
    "start_time": "2021-07-04T16:55:57.497Z"
   },
   {
    "duration": 236,
    "start_time": "2021-07-04T16:56:44.095Z"
   },
   {
    "duration": 232,
    "start_time": "2021-07-04T16:56:55.012Z"
   },
   {
    "duration": 219,
    "start_time": "2021-07-04T16:56:57.543Z"
   },
   {
    "duration": 242,
    "start_time": "2021-07-04T16:57:00.474Z"
   },
   {
    "duration": 73,
    "start_time": "2021-07-04T16:59:07.820Z"
   },
   {
    "duration": 8,
    "start_time": "2021-07-04T16:59:50.788Z"
   },
   {
    "duration": 9,
    "start_time": "2021-07-04T16:59:57.364Z"
   },
   {
    "duration": 9,
    "start_time": "2021-07-04T17:00:06.767Z"
   },
   {
    "duration": 6,
    "start_time": "2021-07-04T17:00:15.990Z"
   },
   {
    "duration": 225,
    "start_time": "2021-07-04T17:00:23.270Z"
   },
   {
    "duration": 5,
    "start_time": "2021-07-04T17:00:38.367Z"
   },
   {
    "duration": 8,
    "start_time": "2021-07-04T17:00:52.727Z"
   },
   {
    "duration": 5,
    "start_time": "2021-07-04T17:00:56.773Z"
   },
   {
    "duration": 6,
    "start_time": "2021-07-04T17:00:59.415Z"
   },
   {
    "duration": 6,
    "start_time": "2021-07-04T17:01:09.594Z"
   },
   {
    "duration": 93,
    "start_time": "2021-07-04T17:04:32.229Z"
   },
   {
    "duration": 75,
    "start_time": "2021-07-04T17:06:02.597Z"
   },
   {
    "duration": 4,
    "start_time": "2021-07-04T17:06:10.567Z"
   },
   {
    "duration": 77,
    "start_time": "2021-07-04T17:06:17.018Z"
   },
   {
    "duration": 20783,
    "start_time": "2021-07-04T17:06:20.921Z"
   },
   {
    "duration": 1417,
    "start_time": "2021-07-04T17:06:43.783Z"
   },
   {
    "duration": 1799,
    "start_time": "2021-07-04T17:07:00.693Z"
   },
   {
    "duration": 5,
    "start_time": "2021-07-04T17:10:41.177Z"
   },
   {
    "duration": 5,
    "start_time": "2021-07-04T17:10:50.590Z"
   },
   {
    "duration": 1711,
    "start_time": "2021-07-04T17:10:53.881Z"
   },
   {
    "duration": 20722,
    "start_time": "2021-07-04T17:11:01.953Z"
   },
   {
    "duration": 2,
    "start_time": "2021-07-04T17:12:01.428Z"
   },
   {
    "duration": 2,
    "start_time": "2021-07-04T17:12:15.974Z"
   },
   {
    "duration": 20991,
    "start_time": "2021-07-04T17:12:34.150Z"
   },
   {
    "duration": 1479,
    "start_time": "2021-07-04T17:20:27.012Z"
   },
   {
    "duration": 1709,
    "start_time": "2021-07-04T17:20:33.384Z"
   },
   {
    "duration": 21052,
    "start_time": "2021-07-04T17:24:50.982Z"
   },
   {
    "duration": 1067,
    "start_time": "2021-07-04T17:29:58.226Z"
   },
   {
    "duration": 3514,
    "start_time": "2021-07-04T17:30:01.629Z"
   },
   {
    "duration": 313,
    "start_time": "2021-07-04T17:34:21.823Z"
   },
   {
    "duration": 751,
    "start_time": "2021-07-04T17:34:54.043Z"
   },
   {
    "duration": 228,
    "start_time": "2021-07-04T17:35:13.159Z"
   },
   {
    "duration": 226,
    "start_time": "2021-07-04T17:35:20.245Z"
   },
   {
    "duration": 3613,
    "start_time": "2021-07-04T17:35:26.714Z"
   },
   {
    "duration": 969,
    "start_time": "2021-07-04T17:35:30.330Z"
   },
   {
    "duration": 969,
    "start_time": "2021-07-04T17:36:54.225Z"
   },
   {
    "duration": 21134,
    "start_time": "2021-07-04T17:36:58.726Z"
   },
   {
    "duration": 237,
    "start_time": "2021-07-04T17:37:32.576Z"
   },
   {
    "duration": 201,
    "start_time": "2021-07-04T17:37:41.299Z"
   },
   {
    "duration": 204,
    "start_time": "2021-07-04T17:37:49.891Z"
   },
   {
    "duration": 723,
    "start_time": "2021-07-04T17:38:19.455Z"
   },
   {
    "duration": 2,
    "start_time": "2021-07-04T17:39:08.620Z"
   },
   {
    "duration": 3,
    "start_time": "2021-07-04T17:39:51.196Z"
   },
   {
    "duration": 20516,
    "start_time": "2021-07-04T17:40:07.508Z"
   },
   {
    "duration": 3,
    "start_time": "2021-07-04T17:40:30.848Z"
   },
   {
    "duration": 9478,
    "start_time": "2021-07-04T17:40:31.534Z"
   },
   {
    "duration": 57,
    "start_time": "2021-07-04T17:40:54.606Z"
   },
   {
    "duration": 372,
    "start_time": "2021-07-04T17:42:12.319Z"
   },
   {
    "duration": 404,
    "start_time": "2021-07-04T17:42:35.820Z"
   },
   {
    "duration": 395,
    "start_time": "2021-07-04T17:42:40.960Z"
   },
   {
    "duration": 5,
    "start_time": "2021-07-04T17:45:36.920Z"
   },
   {
    "duration": 4,
    "start_time": "2021-07-04T17:47:24.195Z"
   },
   {
    "duration": 4,
    "start_time": "2021-07-04T17:48:04.285Z"
   },
   {
    "duration": 10563,
    "start_time": "2021-07-04T17:51:47.757Z"
   },
   {
    "duration": 4,
    "start_time": "2021-07-04T17:52:08.278Z"
   },
   {
    "duration": 10693,
    "start_time": "2021-07-04T17:52:08.639Z"
   },
   {
    "duration": 3,
    "start_time": "2021-07-04T17:59:00.199Z"
   },
   {
    "duration": 2960,
    "start_time": "2021-07-04T17:59:00.488Z"
   },
   {
    "duration": 2,
    "start_time": "2021-07-04T17:59:08.630Z"
   },
   {
    "duration": 29767,
    "start_time": "2021-07-04T17:59:08.812Z"
   },
   {
    "duration": 3,
    "start_time": "2021-07-04T17:59:46.429Z"
   },
   {
    "duration": 3,
    "start_time": "2021-07-04T18:02:11.752Z"
   },
   {
    "duration": 10047,
    "start_time": "2021-07-04T18:02:12.323Z"
   },
   {
    "duration": 4,
    "start_time": "2021-07-04T18:03:00.479Z"
   },
   {
    "duration": 3,
    "start_time": "2021-07-04T18:03:15.429Z"
   },
   {
    "duration": 1068,
    "start_time": "2021-07-04T18:29:46.537Z"
   },
   {
    "duration": 687,
    "start_time": "2021-07-04T18:29:47.607Z"
   },
   {
    "duration": 20,
    "start_time": "2021-07-04T18:29:48.296Z"
   },
   {
    "duration": 14,
    "start_time": "2021-07-04T18:29:48.318Z"
   },
   {
    "duration": 39,
    "start_time": "2021-07-04T18:29:48.333Z"
   },
   {
    "duration": 18,
    "start_time": "2021-07-04T18:29:48.373Z"
   },
   {
    "duration": 2,
    "start_time": "2021-07-04T18:29:48.393Z"
   },
   {
    "duration": 11,
    "start_time": "2021-07-04T18:29:48.397Z"
   },
   {
    "duration": 6,
    "start_time": "2021-07-04T18:29:48.410Z"
   },
   {
    "duration": 7,
    "start_time": "2021-07-04T18:29:48.417Z"
   },
   {
    "duration": 13,
    "start_time": "2021-07-04T18:29:48.426Z"
   },
   {
    "duration": 13,
    "start_time": "2021-07-04T18:29:48.440Z"
   },
   {
    "duration": 11,
    "start_time": "2021-07-04T18:29:48.454Z"
   },
   {
    "duration": 15,
    "start_time": "2021-07-04T18:29:48.467Z"
   },
   {
    "duration": 20,
    "start_time": "2021-07-04T18:29:48.484Z"
   },
   {
    "duration": 12,
    "start_time": "2021-07-04T18:29:48.505Z"
   },
   {
    "duration": 16,
    "start_time": "2021-07-04T18:29:48.519Z"
   },
   {
    "duration": 6,
    "start_time": "2021-07-04T18:29:48.537Z"
   },
   {
    "duration": 14,
    "start_time": "2021-07-04T18:29:48.544Z"
   },
   {
    "duration": 2138,
    "start_time": "2021-07-04T18:29:48.559Z"
   },
   {
    "duration": 2059,
    "start_time": "2021-07-04T18:29:50.698Z"
   },
   {
    "duration": 2356,
    "start_time": "2021-07-04T18:29:52.759Z"
   },
   {
    "duration": 3,
    "start_time": "2021-07-04T18:29:55.119Z"
   },
   {
    "duration": 642,
    "start_time": "2021-07-04T18:29:55.124Z"
   },
   {
    "duration": 4,
    "start_time": "2021-07-04T18:29:55.767Z"
   },
   {
    "duration": 2170,
    "start_time": "2021-07-04T18:29:55.773Z"
   },
   {
    "duration": 886,
    "start_time": "2021-07-04T18:29:57.945Z"
   },
   {
    "duration": 4,
    "start_time": "2021-07-04T18:29:58.832Z"
   },
   {
    "duration": 27,
    "start_time": "2021-07-04T18:29:58.837Z"
   },
   {
    "duration": 4,
    "start_time": "2021-07-04T18:29:58.865Z"
   },
   {
    "duration": 32,
    "start_time": "2021-07-04T18:29:58.870Z"
   },
   {
    "duration": 3,
    "start_time": "2021-07-04T18:29:58.904Z"
   },
   {
    "duration": 31,
    "start_time": "2021-07-04T18:29:58.909Z"
   },
   {
    "duration": 3,
    "start_time": "2021-07-04T18:29:58.941Z"
   },
   {
    "duration": 3573,
    "start_time": "2021-07-04T18:29:58.945Z"
   },
   {
    "duration": 28626,
    "start_time": "2021-07-04T18:30:02.520Z"
   },
   {
    "duration": 80,
    "start_time": "2021-07-04T18:30:31.147Z"
   },
   {
    "duration": -1038,
    "start_time": "2021-07-04T18:30:32.267Z"
   },
   {
    "duration": -1039,
    "start_time": "2021-07-04T18:30:32.269Z"
   },
   {
    "duration": -1041,
    "start_time": "2021-07-04T18:30:32.272Z"
   },
   {
    "duration": -1041,
    "start_time": "2021-07-04T18:30:32.274Z"
   },
   {
    "duration": -1044,
    "start_time": "2021-07-04T18:30:32.278Z"
   },
   {
    "duration": -1045,
    "start_time": "2021-07-04T18:30:32.280Z"
   },
   {
    "duration": -1046,
    "start_time": "2021-07-04T18:30:32.282Z"
   },
   {
    "duration": -1047,
    "start_time": "2021-07-04T18:30:32.284Z"
   },
   {
    "duration": -1049,
    "start_time": "2021-07-04T18:30:32.287Z"
   },
   {
    "duration": 770,
    "start_time": "2021-07-04T18:31:03.027Z"
   },
   {
    "duration": 3,
    "start_time": "2021-07-04T18:31:05.673Z"
   },
   {
    "duration": 3,
    "start_time": "2021-07-04T18:31:10.005Z"
   },
   {
    "duration": 3,
    "start_time": "2021-07-04T18:31:15.244Z"
   },
   {
    "duration": 4,
    "start_time": "2021-07-04T18:31:26.840Z"
   },
   {
    "duration": 281,
    "start_time": "2021-07-04T18:31:48.231Z"
   },
   {
    "duration": 279,
    "start_time": "2021-07-04T18:32:03.508Z"
   },
   {
    "duration": 3,
    "start_time": "2021-07-04T18:32:35.320Z"
   },
   {
    "duration": 10644,
    "start_time": "2021-07-04T18:32:35.868Z"
   },
   {
    "duration": 239,
    "start_time": "2021-07-04T18:33:16.486Z"
   },
   {
    "duration": 157,
    "start_time": "2021-07-04T18:34:26.919Z"
   },
   {
    "duration": 998,
    "start_time": "2021-07-04T19:03:45.123Z"
   },
   {
    "duration": 695,
    "start_time": "2021-07-04T19:03:46.123Z"
   },
   {
    "duration": 21,
    "start_time": "2021-07-04T19:03:46.820Z"
   },
   {
    "duration": 8,
    "start_time": "2021-07-04T19:03:46.843Z"
   },
   {
    "duration": 48,
    "start_time": "2021-07-04T19:03:46.853Z"
   },
   {
    "duration": 12,
    "start_time": "2021-07-04T19:03:46.903Z"
   },
   {
    "duration": 8,
    "start_time": "2021-07-04T19:03:46.916Z"
   },
   {
    "duration": 16,
    "start_time": "2021-07-04T19:03:46.926Z"
   },
   {
    "duration": 21,
    "start_time": "2021-07-04T19:03:46.943Z"
   },
   {
    "duration": 9,
    "start_time": "2021-07-04T19:03:46.966Z"
   },
   {
    "duration": 15,
    "start_time": "2021-07-04T19:03:46.976Z"
   },
   {
    "duration": 10,
    "start_time": "2021-07-04T19:03:46.992Z"
   },
   {
    "duration": 9,
    "start_time": "2021-07-04T19:03:47.003Z"
   },
   {
    "duration": 10,
    "start_time": "2021-07-04T19:03:47.014Z"
   },
   {
    "duration": 22,
    "start_time": "2021-07-04T19:03:47.025Z"
   },
   {
    "duration": 11,
    "start_time": "2021-07-04T19:03:47.048Z"
   },
   {
    "duration": 31,
    "start_time": "2021-07-04T19:03:47.061Z"
   },
   {
    "duration": 4,
    "start_time": "2021-07-04T19:03:47.093Z"
   },
   {
    "duration": 8,
    "start_time": "2021-07-04T19:03:47.098Z"
   },
   {
    "duration": 1783,
    "start_time": "2021-07-04T19:03:47.108Z"
   },
   {
    "duration": 1867,
    "start_time": "2021-07-04T19:03:48.893Z"
   },
   {
    "duration": 1913,
    "start_time": "2021-07-04T19:03:50.762Z"
   },
   {
    "duration": 3,
    "start_time": "2021-07-04T19:03:52.679Z"
   },
   {
    "duration": 606,
    "start_time": "2021-07-04T19:03:52.692Z"
   },
   {
    "duration": 4,
    "start_time": "2021-07-04T19:03:53.300Z"
   },
   {
    "duration": 1642,
    "start_time": "2021-07-04T19:03:53.305Z"
   },
   {
    "duration": 901,
    "start_time": "2021-07-04T19:03:54.949Z"
   },
   {
    "duration": 3,
    "start_time": "2021-07-04T19:03:55.851Z"
   },
   {
    "duration": 26,
    "start_time": "2021-07-04T19:03:55.856Z"
   },
   {
    "duration": 8,
    "start_time": "2021-07-04T19:03:55.883Z"
   },
   {
    "duration": 18,
    "start_time": "2021-07-04T19:03:55.892Z"
   },
   {
    "duration": 6,
    "start_time": "2021-07-04T19:03:55.911Z"
   },
   {
    "duration": 31,
    "start_time": "2021-07-04T19:03:55.918Z"
   },
   {
    "duration": 2,
    "start_time": "2021-07-04T19:03:55.951Z"
   },
   {
    "duration": 82,
    "start_time": "2021-07-04T19:03:55.960Z"
   },
   {
    "duration": -1034,
    "start_time": "2021-07-04T19:03:57.078Z"
   },
   {
    "duration": -1040,
    "start_time": "2021-07-04T19:03:57.085Z"
   },
   {
    "duration": -1045,
    "start_time": "2021-07-04T19:03:57.091Z"
   },
   {
    "duration": -1047,
    "start_time": "2021-07-04T19:03:57.094Z"
   },
   {
    "duration": -1049,
    "start_time": "2021-07-04T19:03:57.096Z"
   },
   {
    "duration": -1050,
    "start_time": "2021-07-04T19:03:57.098Z"
   },
   {
    "duration": -1051,
    "start_time": "2021-07-04T19:03:57.100Z"
   },
   {
    "duration": -1052,
    "start_time": "2021-07-04T19:03:57.102Z"
   },
   {
    "duration": -1058,
    "start_time": "2021-07-04T19:03:57.109Z"
   },
   {
    "duration": -1060,
    "start_time": "2021-07-04T19:03:57.112Z"
   },
   {
    "duration": 12370,
    "start_time": "2021-07-04T19:04:21.169Z"
   },
   {
    "duration": 3630,
    "start_time": "2021-07-04T19:04:55.881Z"
   },
   {
    "duration": 1635,
    "start_time": "2021-07-04T19:05:10.677Z"
   },
   {
    "duration": 1571,
    "start_time": "2021-07-04T19:06:10.757Z"
   },
   {
    "duration": 13092,
    "start_time": "2021-07-04T19:06:36.283Z"
   },
   {
    "duration": 13738,
    "start_time": "2021-07-04T19:08:15.627Z"
   },
   {
    "duration": 1010,
    "start_time": "2021-07-04T19:14:25.607Z"
   },
   {
    "duration": 10132,
    "start_time": "2021-07-04T19:14:29.414Z"
   },
   {
    "duration": 690,
    "start_time": "2021-07-04T19:14:42.220Z"
   },
   {
    "duration": 22,
    "start_time": "2021-07-04T19:14:44.299Z"
   },
   {
    "duration": 3,
    "start_time": "2021-07-04T19:14:58.562Z"
   },
   {
    "duration": 35,
    "start_time": "2021-07-04T19:14:58.966Z"
   },
   {
    "duration": 15,
    "start_time": "2021-07-04T19:15:04.938Z"
   },
   {
    "duration": 3,
    "start_time": "2021-07-04T19:15:05.639Z"
   },
   {
    "duration": 4,
    "start_time": "2021-07-04T19:15:06.853Z"
   },
   {
    "duration": 4,
    "start_time": "2021-07-04T19:15:12.185Z"
   },
   {
    "duration": 3,
    "start_time": "2021-07-04T19:15:19.479Z"
   },
   {
    "duration": 4,
    "start_time": "2021-07-04T19:15:20.141Z"
   },
   {
    "duration": 8,
    "start_time": "2021-07-04T19:15:20.483Z"
   },
   {
    "duration": 12,
    "start_time": "2021-07-04T19:15:20.697Z"
   },
   {
    "duration": 4,
    "start_time": "2021-07-04T19:15:21.075Z"
   },
   {
    "duration": 6,
    "start_time": "2021-07-04T19:15:21.848Z"
   },
   {
    "duration": 17,
    "start_time": "2021-07-04T19:15:22.792Z"
   },
   {
    "duration": 11,
    "start_time": "2021-07-04T19:15:23.620Z"
   },
   {
    "duration": 14,
    "start_time": "2021-07-04T19:15:23.968Z"
   },
   {
    "duration": 5,
    "start_time": "2021-07-04T19:15:25.322Z"
   },
   {
    "duration": 6,
    "start_time": "2021-07-04T19:15:25.647Z"
   },
   {
    "duration": 1907,
    "start_time": "2021-07-04T19:15:25.939Z"
   },
   {
    "duration": 1836,
    "start_time": "2021-07-04T19:15:27.867Z"
   },
   {
    "duration": 1883,
    "start_time": "2021-07-04T19:15:29.705Z"
   },
   {
    "duration": 3,
    "start_time": "2021-07-04T19:15:31.591Z"
   },
   {
    "duration": 526,
    "start_time": "2021-07-04T19:15:31.596Z"
   },
   {
    "duration": 522,
    "start_time": "2021-07-04T19:15:36.337Z"
   },
   {
    "duration": 621,
    "start_time": "2021-07-04T19:15:44.823Z"
   },
   {
    "duration": 559,
    "start_time": "2021-07-04T19:15:54.891Z"
   },
   {
    "duration": 3,
    "start_time": "2021-07-04T19:15:57.929Z"
   },
   {
    "duration": 1540,
    "start_time": "2021-07-04T19:15:58.603Z"
   },
   {
    "duration": 909,
    "start_time": "2021-07-04T19:16:00.146Z"
   },
   {
    "duration": 4,
    "start_time": "2021-07-04T19:16:01.057Z"
   },
   {
    "duration": 34,
    "start_time": "2021-07-04T19:16:01.063Z"
   },
   {
    "duration": 4,
    "start_time": "2021-07-04T19:16:02.824Z"
   },
   {
    "duration": 18,
    "start_time": "2021-07-04T19:16:04.108Z"
   },
   {
    "duration": 4,
    "start_time": "2021-07-04T19:16:04.433Z"
   },
   {
    "duration": 28,
    "start_time": "2021-07-04T19:16:06.601Z"
   },
   {
    "duration": 2,
    "start_time": "2021-07-04T19:16:07.080Z"
   },
   {
    "duration": 3647,
    "start_time": "2021-07-04T19:16:12.896Z"
   },
   {
    "duration": 3541,
    "start_time": "2021-07-04T19:16:23.665Z"
   },
   {
    "duration": 3640,
    "start_time": "2021-07-04T19:16:34.133Z"
   },
   {
    "duration": 10108,
    "start_time": "2021-07-04T19:16:40.525Z"
   },
   {
    "duration": 87,
    "start_time": "2021-07-04T19:17:39.978Z"
   },
   {
    "duration": 3,
    "start_time": "2021-07-04T19:17:45.718Z"
   },
   {
    "duration": 18,
    "start_time": "2021-07-04T19:17:55.877Z"
   },
   {
    "duration": 4,
    "start_time": "2021-07-04T19:18:27.178Z"
   },
   {
    "duration": 4,
    "start_time": "2021-07-04T19:18:36.273Z"
   },
   {
    "duration": 3522,
    "start_time": "2021-07-04T19:18:44.528Z"
   },
   {
    "duration": 5,
    "start_time": "2021-07-04T19:25:32.948Z"
   },
   {
    "duration": 924,
    "start_time": "2021-07-04T19:25:39.118Z"
   },
   {
    "duration": 3525,
    "start_time": "2021-07-04T19:25:44.528Z"
   },
   {
    "duration": 511,
    "start_time": "2021-07-04T19:26:31.933Z"
   },
   {
    "duration": 3655,
    "start_time": "2021-07-04T19:26:35.460Z"
   },
   {
    "duration": 224,
    "start_time": "2021-07-04T19:26:54.123Z"
   },
   {
    "duration": 521,
    "start_time": "2021-07-04T19:26:58.281Z"
   },
   {
    "duration": 3594,
    "start_time": "2021-07-04T19:27:00.835Z"
   },
   {
    "duration": 4,
    "start_time": "2021-07-04T19:31:22.143Z"
   },
   {
    "duration": 3,
    "start_time": "2021-07-04T19:32:07.459Z"
   },
   {
    "duration": 236,
    "start_time": "2021-07-04T19:32:11.975Z"
   },
   {
    "duration": 375,
    "start_time": "2021-07-04T19:33:19.248Z"
   },
   {
    "duration": 4,
    "start_time": "2021-07-04T19:33:25.430Z"
   },
   {
    "duration": 292,
    "start_time": "2021-07-04T19:33:25.704Z"
   },
   {
    "duration": 567,
    "start_time": "2021-07-04T19:34:05.750Z"
   },
   {
    "duration": 9,
    "start_time": "2021-07-04T19:34:54.352Z"
   },
   {
    "duration": 446,
    "start_time": "2021-07-04T19:34:54.826Z"
   },
   {
    "duration": 1088,
    "start_time": "2021-07-04T19:38:12.329Z"
   },
   {
    "duration": 66845,
    "start_time": "2021-07-04T19:38:27.439Z"
   },
   {
    "duration": 6270,
    "start_time": "2021-07-04T19:39:39.531Z"
   },
   {
    "duration": 643,
    "start_time": "2021-07-04T19:39:47.133Z"
   },
   {
    "duration": 649,
    "start_time": "2021-07-04T19:40:01.769Z"
   },
   {
    "duration": 3,
    "start_time": "2021-07-04T19:45:46.607Z"
   },
   {
    "duration": 303,
    "start_time": "2021-07-04T19:45:54.856Z"
   },
   {
    "duration": 5,
    "start_time": "2021-07-04T19:46:01.877Z"
   },
   {
    "duration": 222,
    "start_time": "2021-07-04T19:48:21.204Z"
   },
   {
    "duration": 212,
    "start_time": "2021-07-04T19:48:32.757Z"
   },
   {
    "duration": 999,
    "start_time": "2021-07-04T19:53:02.812Z"
   },
   {
    "duration": 674,
    "start_time": "2021-07-04T19:53:03.813Z"
   },
   {
    "duration": 21,
    "start_time": "2021-07-04T19:53:04.489Z"
   },
   {
    "duration": 5,
    "start_time": "2021-07-04T19:53:04.512Z"
   },
   {
    "duration": 41,
    "start_time": "2021-07-04T19:53:04.519Z"
   },
   {
    "duration": 13,
    "start_time": "2021-07-04T19:53:04.561Z"
   },
   {
    "duration": 2,
    "start_time": "2021-07-04T19:53:04.575Z"
   },
   {
    "duration": 21,
    "start_time": "2021-07-04T19:53:04.580Z"
   },
   {
    "duration": 5,
    "start_time": "2021-07-04T19:53:04.603Z"
   },
   {
    "duration": 8,
    "start_time": "2021-07-04T19:53:04.610Z"
   },
   {
    "duration": 13,
    "start_time": "2021-07-04T19:53:04.619Z"
   },
   {
    "duration": 12,
    "start_time": "2021-07-04T19:53:04.633Z"
   },
   {
    "duration": 7,
    "start_time": "2021-07-04T19:53:04.646Z"
   },
   {
    "duration": 11,
    "start_time": "2021-07-04T19:53:04.654Z"
   },
   {
    "duration": 31,
    "start_time": "2021-07-04T19:53:04.667Z"
   },
   {
    "duration": 11,
    "start_time": "2021-07-04T19:53:04.699Z"
   },
   {
    "duration": 15,
    "start_time": "2021-07-04T19:53:04.711Z"
   },
   {
    "duration": 5,
    "start_time": "2021-07-04T19:53:04.727Z"
   },
   {
    "duration": 12,
    "start_time": "2021-07-04T19:53:04.733Z"
   },
   {
    "duration": 1813,
    "start_time": "2021-07-04T19:53:04.746Z"
   },
   {
    "duration": 1857,
    "start_time": "2021-07-04T19:53:06.561Z"
   },
   {
    "duration": 1993,
    "start_time": "2021-07-04T19:53:08.419Z"
   },
   {
    "duration": 3,
    "start_time": "2021-07-04T19:53:10.415Z"
   },
   {
    "duration": 526,
    "start_time": "2021-07-04T19:53:10.420Z"
   },
   {
    "duration": 5,
    "start_time": "2021-07-04T19:53:10.948Z"
   },
   {
    "duration": 1560,
    "start_time": "2021-07-04T19:53:10.954Z"
   },
   {
    "duration": 873,
    "start_time": "2021-07-04T19:53:12.515Z"
   },
   {
    "duration": 3,
    "start_time": "2021-07-04T19:53:13.390Z"
   },
   {
    "duration": 31,
    "start_time": "2021-07-04T19:53:13.395Z"
   },
   {
    "duration": 4,
    "start_time": "2021-07-04T19:53:13.427Z"
   },
   {
    "duration": 28,
    "start_time": "2021-07-04T19:53:13.432Z"
   },
   {
    "duration": 3,
    "start_time": "2021-07-04T19:53:13.461Z"
   },
   {
    "duration": 31,
    "start_time": "2021-07-04T19:53:13.466Z"
   },
   {
    "duration": 3,
    "start_time": "2021-07-04T19:53:13.498Z"
   },
   {
    "duration": 3713,
    "start_time": "2021-07-04T19:53:13.503Z"
   },
   {
    "duration": 20783,
    "start_time": "2021-07-04T19:53:17.218Z"
   },
   {
    "duration": 795,
    "start_time": "2021-07-04T19:53:38.002Z"
   },
   {
    "duration": 12039,
    "start_time": "2021-07-04T19:53:38.799Z"
   },
   {
    "duration": 2,
    "start_time": "2021-07-04T19:53:50.840Z"
   },
   {
    "duration": 9,
    "start_time": "2021-07-04T19:53:50.843Z"
   },
   {
    "duration": 9640,
    "start_time": "2021-07-04T19:53:50.854Z"
   },
   {
    "duration": 2,
    "start_time": "2021-07-04T19:54:00.496Z"
   },
   {
    "duration": 15,
    "start_time": "2021-07-04T19:54:00.499Z"
   },
   {
    "duration": 16,
    "start_time": "2021-07-04T19:54:00.515Z"
   },
   {
    "duration": 7,
    "start_time": "2021-07-04T19:54:00.533Z"
   },
   {
    "duration": 9,
    "start_time": "2021-07-04T19:54:00.542Z"
   },
   {
    "duration": 1047,
    "start_time": "2021-07-04T19:54:42.557Z"
   },
   {
    "duration": 665,
    "start_time": "2021-07-04T19:54:43.606Z"
   },
   {
    "duration": 19,
    "start_time": "2021-07-04T19:54:44.273Z"
   },
   {
    "duration": 2,
    "start_time": "2021-07-04T19:54:44.294Z"
   },
   {
    "duration": 42,
    "start_time": "2021-07-04T19:54:44.297Z"
   },
   {
    "duration": 12,
    "start_time": "2021-07-04T19:54:44.341Z"
   },
   {
    "duration": 3,
    "start_time": "2021-07-04T19:54:44.354Z"
   },
   {
    "duration": 7,
    "start_time": "2021-07-04T19:54:44.358Z"
   },
   {
    "duration": 4,
    "start_time": "2021-07-04T19:54:44.367Z"
   },
   {
    "duration": 6,
    "start_time": "2021-07-04T19:54:44.373Z"
   },
   {
    "duration": 8,
    "start_time": "2021-07-04T19:54:44.391Z"
   },
   {
    "duration": 11,
    "start_time": "2021-07-04T19:54:44.400Z"
   },
   {
    "duration": 9,
    "start_time": "2021-07-04T19:54:44.412Z"
   },
   {
    "duration": 12,
    "start_time": "2021-07-04T19:54:44.422Z"
   },
   {
    "duration": 22,
    "start_time": "2021-07-04T19:54:44.435Z"
   },
   {
    "duration": 10,
    "start_time": "2021-07-04T19:54:44.458Z"
   },
   {
    "duration": 24,
    "start_time": "2021-07-04T19:54:44.470Z"
   },
   {
    "duration": 4,
    "start_time": "2021-07-04T19:54:44.495Z"
   },
   {
    "duration": 9,
    "start_time": "2021-07-04T19:54:44.501Z"
   },
   {
    "duration": 1845,
    "start_time": "2021-07-04T19:54:44.512Z"
   },
   {
    "duration": 1850,
    "start_time": "2021-07-04T19:54:46.360Z"
   },
   {
    "duration": 1849,
    "start_time": "2021-07-04T19:54:48.212Z"
   },
   {
    "duration": 4,
    "start_time": "2021-07-04T19:54:50.063Z"
   },
   {
    "duration": 556,
    "start_time": "2021-07-04T19:54:50.068Z"
   },
   {
    "duration": 4,
    "start_time": "2021-07-04T19:54:50.626Z"
   },
   {
    "duration": 1533,
    "start_time": "2021-07-04T19:54:50.631Z"
   },
   {
    "duration": 953,
    "start_time": "2021-07-04T19:54:52.168Z"
   },
   {
    "duration": 3,
    "start_time": "2021-07-04T19:54:53.123Z"
   },
   {
    "duration": 27,
    "start_time": "2021-07-04T19:54:53.128Z"
   },
   {
    "duration": 4,
    "start_time": "2021-07-04T19:54:53.157Z"
   },
   {
    "duration": 31,
    "start_time": "2021-07-04T19:54:53.163Z"
   },
   {
    "duration": 1137,
    "start_time": "2021-07-04T19:54:53.196Z"
   },
   {
    "duration": -1059,
    "start_time": "2021-07-04T19:54:55.394Z"
   },
   {
    "duration": -1060,
    "start_time": "2021-07-04T19:54:55.396Z"
   },
   {
    "duration": -1062,
    "start_time": "2021-07-04T19:54:55.399Z"
   },
   {
    "duration": -1063,
    "start_time": "2021-07-04T19:54:55.401Z"
   },
   {
    "duration": -1064,
    "start_time": "2021-07-04T19:54:55.403Z"
   },
   {
    "duration": -1065,
    "start_time": "2021-07-04T19:54:55.405Z"
   },
   {
    "duration": -1067,
    "start_time": "2021-07-04T19:54:55.408Z"
   },
   {
    "duration": -1068,
    "start_time": "2021-07-04T19:54:55.410Z"
   },
   {
    "duration": -1069,
    "start_time": "2021-07-04T19:54:55.412Z"
   },
   {
    "duration": -1071,
    "start_time": "2021-07-04T19:54:55.415Z"
   },
   {
    "duration": -1072,
    "start_time": "2021-07-04T19:54:55.417Z"
   },
   {
    "duration": -1073,
    "start_time": "2021-07-04T19:54:55.419Z"
   },
   {
    "duration": -1075,
    "start_time": "2021-07-04T19:54:55.421Z"
   },
   {
    "duration": -1075,
    "start_time": "2021-07-04T19:54:55.423Z"
   },
   {
    "duration": 2,
    "start_time": "2021-07-04T19:55:12.927Z"
   },
   {
    "duration": 28,
    "start_time": "2021-07-04T19:55:20.692Z"
   },
   {
    "duration": 3,
    "start_time": "2021-07-04T19:55:22.138Z"
   },
   {
    "duration": 225,
    "start_time": "2021-07-04T19:55:23.511Z"
   },
   {
    "duration": 5311,
    "start_time": "2021-07-04T19:55:38.215Z"
   },
   {
    "duration": 32087,
    "start_time": "2021-07-04T19:55:56.708Z"
   },
   {
    "duration": 13,
    "start_time": "2021-07-04T19:57:07.983Z"
   },
   {
    "duration": 4,
    "start_time": "2021-07-04T19:57:08.242Z"
   },
   {
    "duration": 24,
    "start_time": "2021-07-04T19:57:09.675Z"
   },
   {
    "duration": 2,
    "start_time": "2021-07-04T19:57:09.701Z"
   },
   {
    "duration": 3883,
    "start_time": "2021-07-04T19:57:10.216Z"
   },
   {
    "duration": 22360,
    "start_time": "2021-07-04T19:57:14.101Z"
   },
   {
    "duration": 1040,
    "start_time": "2021-07-04T19:57:36.463Z"
   },
   {
    "duration": 12114,
    "start_time": "2021-07-04T19:58:34.352Z"
   },
   {
    "duration": 1805,
    "start_time": "2021-07-04T19:59:30.415Z"
   },
   {
    "duration": 4,
    "start_time": "2021-07-04T19:59:41.362Z"
   },
   {
    "duration": 230,
    "start_time": "2021-07-04T20:00:29.644Z"
   },
   {
    "duration": 8,
    "start_time": "2021-07-04T20:00:37.424Z"
   },
   {
    "duration": 4,
    "start_time": "2021-07-04T20:00:43.292Z"
   },
   {
    "duration": 6,
    "start_time": "2021-07-04T20:01:14.827Z"
   },
   {
    "duration": 5,
    "start_time": "2021-07-04T20:03:46.267Z"
   },
   {
    "duration": 4,
    "start_time": "2021-07-04T20:03:50.278Z"
   },
   {
    "duration": 562,
    "start_time": "2021-07-04T20:04:03.422Z"
   },
   {
    "duration": 222,
    "start_time": "2021-07-04T20:04:47.880Z"
   },
   {
    "duration": 4,
    "start_time": "2021-07-04T20:05:11.627Z"
   },
   {
    "duration": 22,
    "start_time": "2021-07-04T20:05:37.992Z"
   },
   {
    "duration": 20,
    "start_time": "2021-07-04T20:06:11.841Z"
   },
   {
    "duration": 26,
    "start_time": "2021-07-04T20:07:44.970Z"
   },
   {
    "duration": 14,
    "start_time": "2021-07-04T20:07:46.463Z"
   },
   {
    "duration": 3,
    "start_time": "2021-07-04T20:07:46.829Z"
   },
   {
    "duration": 29,
    "start_time": "2021-07-04T20:07:47.847Z"
   },
   {
    "duration": 2,
    "start_time": "2021-07-04T20:07:51.585Z"
   },
   {
    "duration": 3672,
    "start_time": "2021-07-04T20:07:52.010Z"
   },
   {
    "duration": 1811,
    "start_time": "2021-07-04T20:08:08.417Z"
   },
   {
    "duration": 3,
    "start_time": "2021-07-04T20:08:10.230Z"
   },
   {
    "duration": 9,
    "start_time": "2021-07-04T20:08:10.235Z"
   },
   {
    "duration": 4,
    "start_time": "2021-07-04T20:08:25.099Z"
   },
   {
    "duration": 5,
    "start_time": "2021-07-04T20:08:28.504Z"
   },
   {
    "duration": 3,
    "start_time": "2021-07-04T20:09:12.742Z"
   },
   {
    "duration": 9,
    "start_time": "2021-07-04T20:09:31.668Z"
   },
   {
    "duration": 10,
    "start_time": "2021-07-04T20:11:20.594Z"
   },
   {
    "duration": 481,
    "start_time": "2021-07-04T20:11:44.816Z"
   },
   {
    "duration": 4,
    "start_time": "2021-07-04T20:11:59.817Z"
   },
   {
    "duration": 7,
    "start_time": "2021-07-04T20:12:00.848Z"
   },
   {
    "duration": 76,
    "start_time": "2021-07-04T20:13:13.635Z"
   },
   {
    "duration": 4,
    "start_time": "2021-07-04T20:13:40.766Z"
   },
   {
    "duration": 4,
    "start_time": "2021-07-04T20:13:41.433Z"
   },
   {
    "duration": 6,
    "start_time": "2021-07-04T20:13:42.020Z"
   },
   {
    "duration": 6,
    "start_time": "2021-07-04T20:13:44.424Z"
   },
   {
    "duration": 3,
    "start_time": "2021-07-04T20:13:47.861Z"
   },
   {
    "duration": 6,
    "start_time": "2021-07-04T20:13:48.280Z"
   },
   {
    "duration": 995,
    "start_time": "2021-07-04T20:18:31.830Z"
   },
   {
    "duration": 664,
    "start_time": "2021-07-04T20:18:32.827Z"
   },
   {
    "duration": 19,
    "start_time": "2021-07-04T20:18:33.495Z"
   },
   {
    "duration": 2,
    "start_time": "2021-07-04T20:18:33.516Z"
   },
   {
    "duration": 38,
    "start_time": "2021-07-04T20:18:33.519Z"
   },
   {
    "duration": 12,
    "start_time": "2021-07-04T20:18:33.559Z"
   },
   {
    "duration": 3,
    "start_time": "2021-07-04T20:18:33.592Z"
   },
   {
    "duration": 8,
    "start_time": "2021-07-04T20:18:33.596Z"
   },
   {
    "duration": 6,
    "start_time": "2021-07-04T20:18:33.605Z"
   },
   {
    "duration": 9,
    "start_time": "2021-07-04T20:18:33.612Z"
   },
   {
    "duration": 13,
    "start_time": "2021-07-04T20:18:33.622Z"
   },
   {
    "duration": 11,
    "start_time": "2021-07-04T20:18:33.636Z"
   },
   {
    "duration": 8,
    "start_time": "2021-07-04T20:18:33.649Z"
   },
   {
    "duration": 13,
    "start_time": "2021-07-04T20:18:33.659Z"
   },
   {
    "duration": 23,
    "start_time": "2021-07-04T20:18:33.673Z"
   },
   {
    "duration": 10,
    "start_time": "2021-07-04T20:18:33.698Z"
   },
   {
    "duration": 14,
    "start_time": "2021-07-04T20:18:33.710Z"
   },
   {
    "duration": 4,
    "start_time": "2021-07-04T20:18:33.725Z"
   },
   {
    "duration": 13,
    "start_time": "2021-07-04T20:18:33.731Z"
   },
   {
    "duration": 1913,
    "start_time": "2021-07-04T20:18:33.746Z"
   },
   {
    "duration": 2032,
    "start_time": "2021-07-04T20:18:35.661Z"
   },
   {
    "duration": 1814,
    "start_time": "2021-07-04T20:18:37.696Z"
   },
   {
    "duration": 3,
    "start_time": "2021-07-04T20:18:39.513Z"
   },
   {
    "duration": 546,
    "start_time": "2021-07-04T20:18:39.517Z"
   },
   {
    "duration": 4,
    "start_time": "2021-07-04T20:18:40.064Z"
   },
   {
    "duration": 1644,
    "start_time": "2021-07-04T20:18:40.070Z"
   },
   {
    "duration": 863,
    "start_time": "2021-07-04T20:18:41.716Z"
   },
   {
    "duration": 4,
    "start_time": "2021-07-04T20:18:42.581Z"
   },
   {
    "duration": 29,
    "start_time": "2021-07-04T20:18:42.586Z"
   },
   {
    "duration": 4,
    "start_time": "2021-07-04T20:18:42.616Z"
   },
   {
    "duration": 23,
    "start_time": "2021-07-04T20:18:42.622Z"
   },
   {
    "duration": 4,
    "start_time": "2021-07-04T20:18:42.647Z"
   },
   {
    "duration": 57,
    "start_time": "2021-07-04T20:18:42.653Z"
   },
   {
    "duration": 3,
    "start_time": "2021-07-04T20:18:42.712Z"
   },
   {
    "duration": 3746,
    "start_time": "2021-07-04T20:18:42.716Z"
   },
   {
    "duration": 21110,
    "start_time": "2021-07-04T20:18:46.464Z"
   },
   {
    "duration": 819,
    "start_time": "2021-07-04T20:19:07.576Z"
   },
   {
    "duration": 12722,
    "start_time": "2021-07-04T20:19:08.397Z"
   },
   {
    "duration": 2,
    "start_time": "2021-07-04T20:19:21.121Z"
   },
   {
    "duration": 11,
    "start_time": "2021-07-04T20:19:21.124Z"
   },
   {
    "duration": 9860,
    "start_time": "2021-07-04T20:19:21.136Z"
   },
   {
    "duration": 1813,
    "start_time": "2021-07-04T20:19:30.998Z"
   },
   {
    "duration": 4,
    "start_time": "2021-07-04T20:19:32.812Z"
   },
   {
    "duration": 13,
    "start_time": "2021-07-04T20:19:32.817Z"
   },
   {
    "duration": 16,
    "start_time": "2021-07-04T20:19:32.831Z"
   },
   {
    "duration": 12,
    "start_time": "2021-07-04T20:19:32.848Z"
   },
   {
    "duration": 11,
    "start_time": "2021-07-04T20:19:32.861Z"
   },
   {
    "duration": 3,
    "start_time": "2021-07-04T20:19:32.873Z"
   },
   {
    "duration": 6,
    "start_time": "2021-07-04T20:19:32.878Z"
   },
   {
    "duration": 8,
    "start_time": "2021-07-04T20:19:32.885Z"
   },
   {
    "duration": 8,
    "start_time": "2021-07-04T20:19:32.894Z"
   },
   {
    "duration": 14,
    "start_time": "2021-07-04T20:19:32.903Z"
   },
   {
    "duration": 1524,
    "start_time": "2021-07-04T21:24:15.521Z"
   },
   {
    "duration": 899,
    "start_time": "2021-07-04T21:24:17.047Z"
   },
   {
    "duration": 1484,
    "start_time": "2021-07-05T11:22:49.343Z"
   },
   {
    "duration": 911,
    "start_time": "2021-07-05T11:22:50.829Z"
   },
   {
    "duration": 36,
    "start_time": "2021-07-05T11:22:51.743Z"
   },
   {
    "duration": 4,
    "start_time": "2021-07-05T11:22:51.786Z"
   },
   {
    "duration": 63,
    "start_time": "2021-07-05T11:22:52.464Z"
   },
   {
    "duration": 21,
    "start_time": "2021-07-05T11:23:17.576Z"
   },
   {
    "duration": 4,
    "start_time": "2021-07-05T11:23:18.624Z"
   },
   {
    "duration": 6,
    "start_time": "2021-07-05T11:23:19.726Z"
   },
   {
    "duration": 5,
    "start_time": "2021-07-05T11:23:20.206Z"
   },
   {
    "duration": 5,
    "start_time": "2021-07-05T11:23:20.924Z"
   },
   {
    "duration": 14,
    "start_time": "2021-07-05T11:23:21.200Z"
   },
   {
    "duration": 17,
    "start_time": "2021-07-05T11:23:21.493Z"
   },
   {
    "duration": 6,
    "start_time": "2021-07-05T11:23:22.025Z"
   },
   {
    "duration": 11,
    "start_time": "2021-07-05T11:23:25.832Z"
   },
   {
    "duration": 26,
    "start_time": "2021-07-05T11:25:01.366Z"
   },
   {
    "duration": 62,
    "start_time": "2021-07-05T11:26:12.990Z"
   },
   {
    "duration": 429,
    "start_time": "2021-07-05T11:26:24.058Z"
   },
   {
    "duration": 79,
    "start_time": "2021-07-05T11:26:29.990Z"
   },
   {
    "duration": 47,
    "start_time": "2021-07-05T11:27:01.542Z"
   },
   {
    "duration": 41,
    "start_time": "2021-07-05T11:27:07.299Z"
   },
   {
    "duration": 64,
    "start_time": "2021-07-05T11:27:16.310Z"
   },
   {
    "duration": 60,
    "start_time": "2021-07-05T11:27:32.320Z"
   },
   {
    "duration": 14,
    "start_time": "2021-07-05T11:27:57.811Z"
   },
   {
    "duration": 14,
    "start_time": "2021-07-05T11:28:25.173Z"
   },
   {
    "duration": 14,
    "start_time": "2021-07-05T11:28:28.537Z"
   },
   {
    "duration": 14,
    "start_time": "2021-07-05T11:28:31.492Z"
   },
   {
    "duration": 13,
    "start_time": "2021-07-05T11:28:43.729Z"
   },
   {
    "duration": 14,
    "start_time": "2021-07-05T11:28:53.047Z"
   },
   {
    "duration": 14,
    "start_time": "2021-07-05T11:28:55.549Z"
   },
   {
    "duration": 6,
    "start_time": "2021-07-05T11:29:59.770Z"
   },
   {
    "duration": 9,
    "start_time": "2021-07-05T11:30:03.923Z"
   },
   {
    "duration": 317,
    "start_time": "2021-07-05T11:30:16.207Z"
   },
   {
    "duration": 42,
    "start_time": "2021-07-05T11:30:17.780Z"
   },
   {
    "duration": 8,
    "start_time": "2021-07-05T11:30:30.014Z"
   },
   {
    "duration": 6,
    "start_time": "2021-07-05T11:30:54.917Z"
   },
   {
    "duration": 80,
    "start_time": "2021-07-05T11:31:44.296Z"
   },
   {
    "duration": 25,
    "start_time": "2021-07-05T11:31:47.413Z"
   },
   {
    "duration": 75,
    "start_time": "2021-07-05T11:32:19.878Z"
   },
   {
    "duration": 84,
    "start_time": "2021-07-05T11:32:26.106Z"
   },
   {
    "duration": 5,
    "start_time": "2021-07-05T11:32:29.334Z"
   },
   {
    "duration": 73,
    "start_time": "2021-07-05T11:32:50.639Z"
   },
   {
    "duration": 24,
    "start_time": "2021-07-05T11:32:52.440Z"
   },
   {
    "duration": 367,
    "start_time": "2021-07-05T11:33:28.521Z"
   },
   {
    "duration": 6,
    "start_time": "2021-07-05T11:33:36.463Z"
   },
   {
    "duration": 76,
    "start_time": "2021-07-05T11:33:54.213Z"
   },
   {
    "duration": 896,
    "start_time": "2021-07-05T11:33:55.841Z"
   },
   {
    "duration": 6,
    "start_time": "2021-07-05T11:34:12.466Z"
   },
   {
    "duration": 371,
    "start_time": "2021-07-05T11:34:18.021Z"
   },
   {
    "duration": 74,
    "start_time": "2021-07-05T11:34:27.151Z"
   },
   {
    "duration": 25,
    "start_time": "2021-07-05T11:34:29.207Z"
   },
   {
    "duration": 326,
    "start_time": "2021-07-05T11:34:45.757Z"
   },
   {
    "duration": 289,
    "start_time": "2021-07-05T11:34:48.004Z"
   },
   {
    "duration": 27,
    "start_time": "2021-07-05T11:34:53.427Z"
   },
   {
    "duration": 9,
    "start_time": "2021-07-05T11:35:08.852Z"
   },
   {
    "duration": 6,
    "start_time": "2021-07-05T11:35:17.801Z"
   },
   {
    "duration": 4,
    "start_time": "2021-07-05T11:35:27.690Z"
   },
   {
    "duration": 15,
    "start_time": "2021-07-05T11:35:33.098Z"
   },
   {
    "duration": 8,
    "start_time": "2021-07-05T11:38:19.430Z"
   },
   {
    "duration": 108,
    "start_time": "2021-07-05T11:38:33.981Z"
   },
   {
    "duration": 4,
    "start_time": "2021-07-05T11:38:38.094Z"
   },
   {
    "duration": 11,
    "start_time": "2021-07-05T11:38:41.641Z"
   },
   {
    "duration": 75,
    "start_time": "2021-07-05T11:38:53.297Z"
   },
   {
    "duration": 24,
    "start_time": "2021-07-05T11:38:54.500Z"
   },
   {
    "duration": 6,
    "start_time": "2021-07-05T11:39:08.515Z"
   },
   {
    "duration": 6,
    "start_time": "2021-07-05T11:39:10.973Z"
   },
   {
    "duration": 6,
    "start_time": "2021-07-05T11:39:12.860Z"
   },
   {
    "duration": 6,
    "start_time": "2021-07-05T11:39:14.591Z"
   },
   {
    "duration": 30,
    "start_time": "2021-07-05T11:39:55.354Z"
   },
   {
    "duration": 358,
    "start_time": "2021-07-05T11:40:07.182Z"
   },
   {
    "duration": 362,
    "start_time": "2021-07-05T11:40:11.865Z"
   },
   {
    "duration": 29,
    "start_time": "2021-07-05T11:40:16.377Z"
   },
   {
    "duration": 4,
    "start_time": "2021-07-05T11:40:31.515Z"
   },
   {
    "duration": 35,
    "start_time": "2021-07-05T11:40:33.441Z"
   },
   {
    "duration": 78,
    "start_time": "2021-07-05T11:40:40.643Z"
   },
   {
    "duration": 33,
    "start_time": "2021-07-05T11:40:42.512Z"
   },
   {
    "duration": 1532,
    "start_time": "2021-07-05T11:41:44.108Z"
   },
   {
    "duration": 926,
    "start_time": "2021-07-05T11:41:45.643Z"
   },
   {
    "duration": 40,
    "start_time": "2021-07-05T11:41:46.572Z"
   },
   {
    "duration": 3,
    "start_time": "2021-07-05T11:41:46.615Z"
   },
   {
    "duration": 83,
    "start_time": "2021-07-05T11:41:46.620Z"
   },
   {
    "duration": 20,
    "start_time": "2021-07-05T11:41:46.706Z"
   },
   {
    "duration": 8,
    "start_time": "2021-07-05T11:41:46.729Z"
   },
   {
    "duration": 14,
    "start_time": "2021-07-05T11:41:46.741Z"
   },
   {
    "duration": 28,
    "start_time": "2021-07-05T11:41:46.757Z"
   },
   {
    "duration": 7,
    "start_time": "2021-07-05T11:44:46.317Z"
   },
   {
    "duration": 882,
    "start_time": "2021-07-05T11:44:46.512Z"
   },
   {
    "duration": 33,
    "start_time": "2021-07-05T11:44:48.137Z"
   },
   {
    "duration": 4,
    "start_time": "2021-07-05T11:44:48.576Z"
   },
   {
    "duration": 57,
    "start_time": "2021-07-05T11:44:48.774Z"
   },
   {
    "duration": 20,
    "start_time": "2021-07-05T11:44:49.613Z"
   },
   {
    "duration": 4,
    "start_time": "2021-07-05T11:44:50.014Z"
   },
   {
    "duration": 6,
    "start_time": "2021-07-05T11:44:50.195Z"
   },
   {
    "duration": 4,
    "start_time": "2021-07-05T11:44:50.423Z"
   },
   {
    "duration": 5,
    "start_time": "2021-07-05T11:44:50.627Z"
   },
   {
    "duration": 14,
    "start_time": "2021-07-05T11:44:50.865Z"
   },
   {
    "duration": 18,
    "start_time": "2021-07-05T11:44:51.074Z"
   },
   {
    "duration": 8,
    "start_time": "2021-07-05T11:44:51.326Z"
   },
   {
    "duration": 12,
    "start_time": "2021-07-05T11:44:52.545Z"
   },
   {
    "duration": 23,
    "start_time": "2021-07-05T11:44:53.804Z"
   },
   {
    "duration": 81,
    "start_time": "2021-07-05T11:44:55.314Z"
   },
   {
    "duration": 25,
    "start_time": "2021-07-05T11:45:10.186Z"
   },
   {
    "duration": 5,
    "start_time": "2021-07-05T11:46:08.401Z"
   },
   {
    "duration": 5,
    "start_time": "2021-07-05T11:46:11.008Z"
   },
   {
    "duration": 6,
    "start_time": "2021-07-05T11:46:13.368Z"
   },
   {
    "duration": 6,
    "start_time": "2021-07-05T11:46:16.134Z"
   },
   {
    "duration": 442,
    "start_time": "2021-07-05T11:46:28.330Z"
   },
   {
    "duration": 336,
    "start_time": "2021-07-05T11:46:32.482Z"
   },
   {
    "duration": 300,
    "start_time": "2021-07-05T11:46:34.202Z"
   },
   {
    "duration": 306,
    "start_time": "2021-07-05T11:46:38.415Z"
   },
   {
    "duration": 6,
    "start_time": "2021-07-05T11:46:42.365Z"
   },
   {
    "duration": 13,
    "start_time": "2021-07-05T11:47:50.155Z"
   },
   {
    "duration": 13,
    "start_time": "2021-07-05T11:47:55.373Z"
   },
   {
    "duration": 20,
    "start_time": "2021-07-05T11:48:16.559Z"
   },
   {
    "duration": 84,
    "start_time": "2021-07-05T11:48:36.483Z"
   },
   {
    "duration": 19,
    "start_time": "2021-07-05T11:48:43.413Z"
   },
   {
    "duration": 18,
    "start_time": "2021-07-05T11:48:58.224Z"
   },
   {
    "duration": 19,
    "start_time": "2021-07-05T11:49:01.547Z"
   },
   {
    "duration": 19,
    "start_time": "2021-07-05T11:49:05.475Z"
   },
   {
    "duration": 388,
    "start_time": "2021-07-05T11:49:12.958Z"
   },
   {
    "duration": 457,
    "start_time": "2021-07-05T11:49:18.732Z"
   },
   {
    "duration": 19,
    "start_time": "2021-07-05T11:49:22.215Z"
   },
   {
    "duration": 11,
    "start_time": "2021-07-05T11:49:26.051Z"
   },
   {
    "duration": 14,
    "start_time": "2021-07-05T11:49:49.983Z"
   },
   {
    "duration": 373,
    "start_time": "2021-07-05T11:49:55.603Z"
   },
   {
    "duration": 337,
    "start_time": "2021-07-05T11:50:09.978Z"
   },
   {
    "duration": 14,
    "start_time": "2021-07-05T11:50:17.247Z"
   },
   {
    "duration": 12,
    "start_time": "2021-07-05T11:50:33.049Z"
   },
   {
    "duration": 13,
    "start_time": "2021-07-05T11:51:02.005Z"
   },
   {
    "duration": 8,
    "start_time": "2021-07-05T11:51:39.790Z"
   },
   {
    "duration": 8,
    "start_time": "2021-07-05T11:51:57.704Z"
   },
   {
    "duration": 9,
    "start_time": "2021-07-05T11:52:04.041Z"
   },
   {
    "duration": 334,
    "start_time": "2021-07-05T11:52:12.543Z"
   },
   {
    "duration": 8,
    "start_time": "2021-07-05T11:52:17.259Z"
   },
   {
    "duration": 8,
    "start_time": "2021-07-05T11:52:33.213Z"
   },
   {
    "duration": 8,
    "start_time": "2021-07-05T11:56:10.868Z"
   },
   {
    "duration": 13,
    "start_time": "2021-07-05T11:56:13.717Z"
   },
   {
    "duration": 21,
    "start_time": "2021-07-05T11:56:17.460Z"
   },
   {
    "duration": 7,
    "start_time": "2021-07-05T11:56:30.268Z"
   },
   {
    "duration": 9,
    "start_time": "2021-07-05T11:56:30.459Z"
   },
   {
    "duration": 3890,
    "start_time": "2021-07-05T11:56:30.683Z"
   },
   {
    "duration": 3686,
    "start_time": "2021-07-05T11:56:44.926Z"
   },
   {
    "duration": 3549,
    "start_time": "2021-07-05T11:56:48.615Z"
   },
   {
    "duration": 5,
    "start_time": "2021-07-05T11:56:52.167Z"
   },
   {
    "duration": 1153,
    "start_time": "2021-07-05T11:56:52.175Z"
   },
   {
    "duration": 7,
    "start_time": "2021-07-05T11:57:13.450Z"
   },
   {
    "duration": 3002,
    "start_time": "2021-07-05T11:57:13.748Z"
   },
   {
    "duration": 1742,
    "start_time": "2021-07-05T11:57:16.753Z"
   },
   {
    "duration": 7,
    "start_time": "2021-07-05T12:01:30.310Z"
   },
   {
    "duration": 437,
    "start_time": "2021-07-05T12:01:38.118Z"
   },
   {
    "duration": 323,
    "start_time": "2021-07-05T12:02:40.169Z"
   },
   {
    "duration": 328,
    "start_time": "2021-07-05T12:02:48.559Z"
   },
   {
    "duration": 340,
    "start_time": "2021-07-05T12:02:51.048Z"
   },
   {
    "duration": 297,
    "start_time": "2021-07-05T12:02:57.645Z"
   },
   {
    "duration": 17,
    "start_time": "2021-07-05T12:03:01.610Z"
   },
   {
    "duration": 319,
    "start_time": "2021-07-05T12:03:15.313Z"
   },
   {
    "duration": 17,
    "start_time": "2021-07-05T12:03:21.791Z"
   },
   {
    "duration": 8,
    "start_time": "2021-07-05T12:03:27.341Z"
   },
   {
    "duration": 332,
    "start_time": "2021-07-05T12:03:32.813Z"
   },
   {
    "duration": 328,
    "start_time": "2021-07-05T12:04:23.280Z"
   },
   {
    "duration": 1569,
    "start_time": "2021-07-05T12:05:52.466Z"
   },
   {
    "duration": 997,
    "start_time": "2021-07-05T12:05:54.037Z"
   },
   {
    "duration": 59,
    "start_time": "2021-07-05T12:05:55.038Z"
   },
   {
    "duration": 4,
    "start_time": "2021-07-05T12:05:55.100Z"
   },
   {
    "duration": 110,
    "start_time": "2021-07-05T12:05:55.107Z"
   },
   {
    "duration": 26,
    "start_time": "2021-07-05T12:05:55.220Z"
   },
   {
    "duration": 7,
    "start_time": "2021-07-05T12:05:55.248Z"
   },
   {
    "duration": 36,
    "start_time": "2021-07-05T12:05:55.259Z"
   },
   {
    "duration": 10,
    "start_time": "2021-07-05T12:05:55.298Z"
   },
   {
    "duration": 17,
    "start_time": "2021-07-05T12:05:55.311Z"
   },
   {
    "duration": 27,
    "start_time": "2021-07-05T12:05:55.331Z"
   },
   {
    "duration": 17,
    "start_time": "2021-07-05T12:05:55.361Z"
   },
   {
    "duration": 8,
    "start_time": "2021-07-05T12:05:55.381Z"
   },
   {
    "duration": 11,
    "start_time": "2021-07-05T12:05:55.391Z"
   },
   {
    "duration": 30,
    "start_time": "2021-07-05T12:05:55.405Z"
   },
   {
    "duration": 48,
    "start_time": "2021-07-05T12:05:55.437Z"
   },
   {
    "duration": 7,
    "start_time": "2021-07-05T12:05:55.488Z"
   },
   {
    "duration": 17,
    "start_time": "2021-07-05T12:05:55.498Z"
   },
   {
    "duration": 22,
    "start_time": "2021-07-05T12:05:55.518Z"
   },
   {
    "duration": 6,
    "start_time": "2021-07-05T12:05:55.543Z"
   },
   {
    "duration": 13,
    "start_time": "2021-07-05T12:05:55.587Z"
   },
   {
    "duration": 3516,
    "start_time": "2021-07-05T12:05:55.603Z"
   },
   {
    "duration": 3621,
    "start_time": "2021-07-05T12:05:59.125Z"
   },
   {
    "duration": 3588,
    "start_time": "2021-07-05T12:06:02.749Z"
   },
   {
    "duration": 4,
    "start_time": "2021-07-05T12:06:06.340Z"
   },
   {
    "duration": 1223,
    "start_time": "2021-07-05T12:06:06.347Z"
   },
   {
    "duration": 16,
    "start_time": "2021-07-05T12:06:07.572Z"
   },
   {
    "duration": 3286,
    "start_time": "2021-07-05T12:06:07.591Z"
   },
   {
    "duration": 1811,
    "start_time": "2021-07-05T12:06:10.880Z"
   },
   {
    "duration": 132,
    "start_time": "2021-07-05T12:06:12.693Z"
   },
   {
    "duration": -2081,
    "start_time": "2021-07-05T12:06:14.908Z"
   },
   {
    "duration": -2084,
    "start_time": "2021-07-05T12:06:14.913Z"
   },
   {
    "duration": -2086,
    "start_time": "2021-07-05T12:06:14.916Z"
   },
   {
    "duration": -2089,
    "start_time": "2021-07-05T12:06:14.920Z"
   },
   {
    "duration": -2091,
    "start_time": "2021-07-05T12:06:14.923Z"
   },
   {
    "duration": -2094,
    "start_time": "2021-07-05T12:06:14.928Z"
   },
   {
    "duration": -2096,
    "start_time": "2021-07-05T12:06:14.931Z"
   },
   {
    "duration": -2099,
    "start_time": "2021-07-05T12:06:14.935Z"
   },
   {
    "duration": -2101,
    "start_time": "2021-07-05T12:06:14.938Z"
   },
   {
    "duration": -2103,
    "start_time": "2021-07-05T12:06:14.942Z"
   },
   {
    "duration": -2105,
    "start_time": "2021-07-05T12:06:14.945Z"
   },
   {
    "duration": -2107,
    "start_time": "2021-07-05T12:06:14.948Z"
   },
   {
    "duration": -2110,
    "start_time": "2021-07-05T12:06:14.952Z"
   },
   {
    "duration": -2122,
    "start_time": "2021-07-05T12:06:14.965Z"
   },
   {
    "duration": -2124,
    "start_time": "2021-07-05T12:06:14.968Z"
   },
   {
    "duration": -2126,
    "start_time": "2021-07-05T12:06:14.971Z"
   },
   {
    "duration": -2127,
    "start_time": "2021-07-05T12:06:14.974Z"
   },
   {
    "duration": -2129,
    "start_time": "2021-07-05T12:06:14.978Z"
   },
   {
    "duration": -2130,
    "start_time": "2021-07-05T12:06:14.981Z"
   },
   {
    "duration": -2132,
    "start_time": "2021-07-05T12:06:14.984Z"
   },
   {
    "duration": -2133,
    "start_time": "2021-07-05T12:06:14.987Z"
   },
   {
    "duration": -2135,
    "start_time": "2021-07-05T12:06:14.990Z"
   },
   {
    "duration": -2137,
    "start_time": "2021-07-05T12:06:14.993Z"
   },
   {
    "duration": -2139,
    "start_time": "2021-07-05T12:06:14.996Z"
   },
   {
    "duration": -2140,
    "start_time": "2021-07-05T12:06:14.999Z"
   },
   {
    "duration": -2142,
    "start_time": "2021-07-05T12:06:15.002Z"
   },
   {
    "duration": -2144,
    "start_time": "2021-07-05T12:06:15.005Z"
   },
   {
    "duration": -2145,
    "start_time": "2021-07-05T12:06:15.008Z"
   },
   {
    "duration": -2147,
    "start_time": "2021-07-05T12:06:15.011Z"
   },
   {
    "duration": -2148,
    "start_time": "2021-07-05T12:06:15.014Z"
   },
   {
    "duration": -2131,
    "start_time": "2021-07-05T12:06:15.017Z"
   },
   {
    "duration": 49,
    "start_time": "2021-07-05T12:07:15.803Z"
   },
   {
    "duration": -2080,
    "start_time": "2021-07-05T12:07:43.367Z"
   },
   {
    "duration": 8,
    "start_time": "2021-07-05T12:07:47.410Z"
   },
   {
    "duration": 798,
    "start_time": "2021-07-05T12:07:56.774Z"
   },
   {
    "duration": 505,
    "start_time": "2021-07-05T12:08:37.843Z"
   },
   {
    "duration": 16,
    "start_time": "2021-07-05T12:08:43.954Z"
   },
   {
    "duration": 490,
    "start_time": "2021-07-05T12:08:57.769Z"
   },
   {
    "duration": 16,
    "start_time": "2021-07-05T12:09:11.669Z"
   },
   {
    "duration": 598,
    "start_time": "2021-07-05T12:09:18.981Z"
   },
   {
    "duration": 487,
    "start_time": "2021-07-05T12:09:21.118Z"
   },
   {
    "duration": 504,
    "start_time": "2021-07-05T12:09:27.344Z"
   },
   {
    "duration": 17,
    "start_time": "2021-07-05T12:09:35.561Z"
   },
   {
    "duration": 509,
    "start_time": "2021-07-05T12:09:41.257Z"
   },
   {
    "duration": 76,
    "start_time": "2021-07-05T12:10:11.791Z"
   },
   {
    "duration": 7626,
    "start_time": "2021-07-05T12:10:28.861Z"
   },
   {
    "duration": 9077,
    "start_time": "2021-07-05T12:10:40.783Z"
   },
   {
    "duration": 21401,
    "start_time": "2021-07-05T12:11:10.159Z"
   },
   {
    "duration": 10,
    "start_time": "2021-07-05T12:11:58.619Z"
   },
   {
    "duration": 357,
    "start_time": "2021-07-05T12:12:07.459Z"
   },
   {
    "duration": 19,
    "start_time": "2021-07-05T12:12:14.151Z"
   },
   {
    "duration": 289,
    "start_time": "2021-07-05T12:12:39.441Z"
   },
   {
    "duration": 16,
    "start_time": "2021-07-05T12:12:55.766Z"
   },
   {
    "duration": 674,
    "start_time": "2021-07-05T12:13:09.018Z"
   },
   {
    "duration": 561,
    "start_time": "2021-07-05T12:13:13.216Z"
   },
   {
    "duration": 1472,
    "start_time": "2021-07-05T12:14:48.949Z"
   },
   {
    "duration": 876,
    "start_time": "2021-07-05T12:14:50.424Z"
   },
   {
    "duration": 36,
    "start_time": "2021-07-05T12:14:51.303Z"
   },
   {
    "duration": 3,
    "start_time": "2021-07-05T12:14:51.342Z"
   },
   {
    "duration": 91,
    "start_time": "2021-07-05T12:14:51.348Z"
   },
   {
    "duration": 19,
    "start_time": "2021-07-05T12:14:51.443Z"
   },
   {
    "duration": 21,
    "start_time": "2021-07-05T12:14:51.465Z"
   },
   {
    "duration": 10,
    "start_time": "2021-07-05T12:14:51.488Z"
   },
   {
    "duration": 12,
    "start_time": "2021-07-05T12:14:51.500Z"
   },
   {
    "duration": 14,
    "start_time": "2021-07-05T12:14:51.514Z"
   },
   {
    "duration": 19,
    "start_time": "2021-07-05T12:14:51.530Z"
   },
   {
    "duration": 35,
    "start_time": "2021-07-05T12:14:51.552Z"
   },
   {
    "duration": 7,
    "start_time": "2021-07-05T12:14:51.589Z"
   },
   {
    "duration": 18,
    "start_time": "2021-07-05T12:14:51.598Z"
   },
   {
    "duration": 28,
    "start_time": "2021-07-05T12:14:51.619Z"
   },
   {
    "duration": 50,
    "start_time": "2021-07-05T12:14:51.650Z"
   },
   {
    "duration": 9,
    "start_time": "2021-07-05T12:14:51.703Z"
   },
   {
    "duration": 15,
    "start_time": "2021-07-05T12:14:51.962Z"
   },
   {
    "duration": 24,
    "start_time": "2021-07-05T12:14:52.760Z"
   },
   {
    "duration": 10,
    "start_time": "2021-07-05T12:14:53.930Z"
   },
   {
    "duration": 10,
    "start_time": "2021-07-05T12:14:54.213Z"
   },
   {
    "duration": 3527,
    "start_time": "2021-07-05T12:14:54.466Z"
   },
   {
    "duration": 3498,
    "start_time": "2021-07-05T12:14:57.997Z"
   },
   {
    "duration": 3518,
    "start_time": "2021-07-05T12:15:01.498Z"
   },
   {
    "duration": 5,
    "start_time": "2021-07-05T12:15:05.019Z"
   },
   {
    "duration": 1053,
    "start_time": "2021-07-05T12:15:05.027Z"
   },
   {
    "duration": 6,
    "start_time": "2021-07-05T12:15:06.085Z"
   },
   {
    "duration": 2901,
    "start_time": "2021-07-05T12:15:06.093Z"
   },
   {
    "duration": 1864,
    "start_time": "2021-07-05T12:15:08.997Z"
   },
   {
    "duration": 2268,
    "start_time": "2021-07-05T12:15:10.864Z"
   },
   {
    "duration": 22,
    "start_time": "2021-07-05T12:15:39.288Z"
   },
   {
    "duration": 312,
    "start_time": "2021-07-05T12:16:41.685Z"
   },
   {
    "duration": 25,
    "start_time": "2021-07-05T12:19:02.785Z"
   },
   {
    "duration": 235,
    "start_time": "2021-07-05T12:19:10.172Z"
   },
   {
    "duration": 206,
    "start_time": "2021-07-05T12:20:09.606Z"
   },
   {
    "duration": 276,
    "start_time": "2021-07-05T12:20:43.559Z"
   },
   {
    "duration": 447,
    "start_time": "2021-07-05T12:20:49.028Z"
   },
   {
    "duration": 105,
    "start_time": "2021-07-05T12:22:37.277Z"
   },
   {
    "duration": 321,
    "start_time": "2021-07-05T12:22:40.145Z"
   },
   {
    "duration": 7,
    "start_time": "2021-07-05T12:22:50.682Z"
   },
   {
    "duration": 393,
    "start_time": "2021-07-05T12:23:01.913Z"
   },
   {
    "duration": 318,
    "start_time": "2021-07-05T12:23:12.720Z"
   },
   {
    "duration": 7,
    "start_time": "2021-07-05T12:23:46.266Z"
   },
   {
    "duration": 118,
    "start_time": "2021-07-05T12:23:59.918Z"
   },
   {
    "duration": 260,
    "start_time": "2021-07-05T12:24:02.353Z"
   },
   {
    "duration": 663,
    "start_time": "2021-07-05T12:25:04.414Z"
   },
   {
    "duration": 242,
    "start_time": "2021-07-05T12:25:55.048Z"
   },
   {
    "duration": 226,
    "start_time": "2021-07-05T12:26:00.196Z"
   },
   {
    "duration": 218,
    "start_time": "2021-07-05T12:26:03.306Z"
   },
   {
    "duration": 606,
    "start_time": "2021-07-05T12:26:22.613Z"
   },
   {
    "duration": 221,
    "start_time": "2021-07-05T12:28:40.826Z"
   },
   {
    "duration": 419,
    "start_time": "2021-07-05T12:29:27.555Z"
   },
   {
    "duration": 491,
    "start_time": "2021-07-05T12:29:38.969Z"
   },
   {
    "duration": 491,
    "start_time": "2021-07-05T12:30:47.243Z"
   },
   {
    "duration": 485,
    "start_time": "2021-07-05T12:30:56.925Z"
   },
   {
    "duration": 553,
    "start_time": "2021-07-05T12:31:05.945Z"
   },
   {
    "duration": 492,
    "start_time": "2021-07-05T12:31:12.376Z"
   },
   {
    "duration": 319,
    "start_time": "2021-07-05T12:32:59.502Z"
   },
   {
    "duration": 120,
    "start_time": "2021-07-05T12:33:13.954Z"
   },
   {
    "duration": 323,
    "start_time": "2021-07-05T12:33:16.385Z"
   },
   {
    "duration": 544,
    "start_time": "2021-07-05T12:33:51.007Z"
   },
   {
    "duration": 7,
    "start_time": "2021-07-05T12:34:02.857Z"
   },
   {
    "duration": 5,
    "start_time": "2021-07-05T12:34:07.011Z"
   },
   {
    "duration": 329,
    "start_time": "2021-07-05T12:34:11.634Z"
   },
   {
    "duration": 7,
    "start_time": "2021-07-05T12:34:13.851Z"
   },
   {
    "duration": 6,
    "start_time": "2021-07-05T12:34:30.898Z"
   },
   {
    "duration": 358,
    "start_time": "2021-07-05T12:34:37.808Z"
   },
   {
    "duration": 7,
    "start_time": "2021-07-05T12:34:57.195Z"
   },
   {
    "duration": 13,
    "start_time": "2021-07-05T12:35:54.206Z"
   },
   {
    "duration": 5,
    "start_time": "2021-07-05T12:36:03.831Z"
   },
   {
    "duration": 12,
    "start_time": "2021-07-05T12:36:19.629Z"
   },
   {
    "duration": 324,
    "start_time": "2021-07-05T12:36:27.587Z"
   },
   {
    "duration": 432,
    "start_time": "2021-07-05T12:36:51.141Z"
   },
   {
    "duration": 12,
    "start_time": "2021-07-05T12:37:09.498Z"
   },
   {
    "duration": 239,
    "start_time": "2021-07-05T12:37:16.288Z"
   },
   {
    "duration": 386,
    "start_time": "2021-07-05T12:37:27.906Z"
   },
   {
    "duration": 372,
    "start_time": "2021-07-05T12:37:34.682Z"
   },
   {
    "duration": 359,
    "start_time": "2021-07-05T12:38:02.507Z"
   },
   {
    "duration": 359,
    "start_time": "2021-07-05T12:38:06.327Z"
   },
   {
    "duration": 11,
    "start_time": "2021-07-05T12:46:56.082Z"
   },
   {
    "duration": 7,
    "start_time": "2021-07-05T12:47:05.894Z"
   },
   {
    "duration": 6,
    "start_time": "2021-07-05T12:48:21.894Z"
   },
   {
    "duration": 9,
    "start_time": "2021-07-05T12:48:27.460Z"
   },
   {
    "duration": 540,
    "start_time": "2021-07-05T12:48:53.878Z"
   },
   {
    "duration": 8,
    "start_time": "2021-07-05T12:49:00.595Z"
   },
   {
    "duration": 9,
    "start_time": "2021-07-05T12:49:07.589Z"
   },
   {
    "duration": 8,
    "start_time": "2021-07-05T12:49:36.796Z"
   },
   {
    "duration": 107,
    "start_time": "2021-07-05T12:49:56.336Z"
   },
   {
    "duration": 10,
    "start_time": "2021-07-05T12:49:58.760Z"
   },
   {
    "duration": 8,
    "start_time": "2021-07-05T12:50:03.557Z"
   },
   {
    "duration": 10,
    "start_time": "2021-07-05T12:50:07.304Z"
   },
   {
    "duration": 10,
    "start_time": "2021-07-05T12:50:21.443Z"
   },
   {
    "duration": 7,
    "start_time": "2021-07-05T12:50:25.421Z"
   },
   {
    "duration": 12,
    "start_time": "2021-07-05T12:51:35.293Z"
   },
   {
    "duration": 10,
    "start_time": "2021-07-05T12:52:07.808Z"
   },
   {
    "duration": 13,
    "start_time": "2021-07-05T12:52:19.727Z"
   },
   {
    "duration": 13,
    "start_time": "2021-07-05T12:52:31.205Z"
   },
   {
    "duration": 13,
    "start_time": "2021-07-05T12:53:31.176Z"
   },
   {
    "duration": 12,
    "start_time": "2021-07-05T12:55:31.079Z"
   },
   {
    "duration": 10,
    "start_time": "2021-07-05T12:56:25.320Z"
   },
   {
    "duration": 10,
    "start_time": "2021-07-05T12:57:14.654Z"
   },
   {
    "duration": 100,
    "start_time": "2021-07-05T12:57:23.903Z"
   },
   {
    "duration": 10,
    "start_time": "2021-07-05T12:57:26.783Z"
   },
   {
    "duration": 11,
    "start_time": "2021-07-05T12:57:45.817Z"
   },
   {
    "duration": 12,
    "start_time": "2021-07-05T12:58:02.531Z"
   },
   {
    "duration": 11,
    "start_time": "2021-07-05T12:58:21.158Z"
   },
   {
    "duration": 9,
    "start_time": "2021-07-05T12:58:24.338Z"
   },
   {
    "duration": 10,
    "start_time": "2021-07-05T12:58:26.737Z"
   },
   {
    "duration": 11,
    "start_time": "2021-07-05T12:58:28.843Z"
   },
   {
    "duration": 295,
    "start_time": "2021-07-05T12:58:43.012Z"
   },
   {
    "duration": 12,
    "start_time": "2021-07-05T12:58:44.993Z"
   },
   {
    "duration": 11,
    "start_time": "2021-07-05T12:58:52.894Z"
   },
   {
    "duration": 14,
    "start_time": "2021-07-05T12:59:18.492Z"
   },
   {
    "duration": 12,
    "start_time": "2021-07-05T12:59:48.272Z"
   },
   {
    "duration": 13,
    "start_time": "2021-07-05T13:01:19.010Z"
   },
   {
    "duration": 13,
    "start_time": "2021-07-05T13:01:28.822Z"
   },
   {
    "duration": 12,
    "start_time": "2021-07-05T13:01:41.046Z"
   },
   {
    "duration": 13,
    "start_time": "2021-07-05T13:03:28.549Z"
   },
   {
    "duration": 14,
    "start_time": "2021-07-05T13:05:09.106Z"
   },
   {
    "duration": 16,
    "start_time": "2021-07-05T13:05:14.298Z"
   },
   {
    "duration": 15,
    "start_time": "2021-07-05T13:05:44.187Z"
   },
   {
    "duration": 13,
    "start_time": "2021-07-05T13:08:25.551Z"
   },
   {
    "duration": 13,
    "start_time": "2021-07-05T13:08:33.014Z"
   },
   {
    "duration": 12,
    "start_time": "2021-07-05T13:08:39.779Z"
   },
   {
    "duration": 5,
    "start_time": "2021-07-05T13:09:48.936Z"
   },
   {
    "duration": 39,
    "start_time": "2021-07-05T13:09:49.950Z"
   },
   {
    "duration": 6,
    "start_time": "2021-07-05T13:10:29.765Z"
   },
   {
    "duration": 1675,
    "start_time": "2021-07-05T13:10:52.661Z"
   },
   {
    "duration": 949,
    "start_time": "2021-07-05T13:10:54.339Z"
   },
   {
    "duration": 36,
    "start_time": "2021-07-05T13:10:55.292Z"
   },
   {
    "duration": 3,
    "start_time": "2021-07-05T13:10:55.331Z"
   },
   {
    "duration": 96,
    "start_time": "2021-07-05T13:10:55.337Z"
   },
   {
    "duration": 22,
    "start_time": "2021-07-05T13:10:55.435Z"
   },
   {
    "duration": 27,
    "start_time": "2021-07-05T13:10:55.459Z"
   },
   {
    "duration": 10,
    "start_time": "2021-07-05T13:10:55.490Z"
   },
   {
    "duration": 17,
    "start_time": "2021-07-05T13:10:55.503Z"
   },
   {
    "duration": 12,
    "start_time": "2021-07-05T13:10:55.523Z"
   },
   {
    "duration": 27,
    "start_time": "2021-07-05T13:10:55.538Z"
   },
   {
    "duration": 26,
    "start_time": "2021-07-05T13:10:55.567Z"
   },
   {
    "duration": 6,
    "start_time": "2021-07-05T13:10:55.893Z"
   },
   {
    "duration": 18,
    "start_time": "2021-07-05T13:10:56.018Z"
   },
   {
    "duration": 29,
    "start_time": "2021-07-05T13:10:56.139Z"
   },
   {
    "duration": 17,
    "start_time": "2021-07-05T13:10:56.201Z"
   },
   {
    "duration": 8,
    "start_time": "2021-07-05T13:10:56.229Z"
   },
   {
    "duration": 16,
    "start_time": "2021-07-05T13:10:56.300Z"
   },
   {
    "duration": 24,
    "start_time": "2021-07-05T13:10:56.367Z"
   },
   {
    "duration": 8,
    "start_time": "2021-07-05T13:10:56.506Z"
   },
   {
    "duration": 9,
    "start_time": "2021-07-05T13:10:56.540Z"
   },
   {
    "duration": 3478,
    "start_time": "2021-07-05T13:10:56.571Z"
   },
   {
    "duration": 3484,
    "start_time": "2021-07-05T13:11:00.052Z"
   },
   {
    "duration": 3608,
    "start_time": "2021-07-05T13:11:03.539Z"
   },
   {
    "duration": 5,
    "start_time": "2021-07-05T13:11:07.150Z"
   },
   {
    "duration": 1030,
    "start_time": "2021-07-05T13:11:07.158Z"
   },
   {
    "duration": 6,
    "start_time": "2021-07-05T13:11:08.191Z"
   },
   {
    "duration": 2853,
    "start_time": "2021-07-05T13:11:08.199Z"
   },
   {
    "duration": 1738,
    "start_time": "2021-07-05T13:11:11.056Z"
   },
   {
    "duration": 4,
    "start_time": "2021-07-05T13:11:12.797Z"
   },
   {
    "duration": 389,
    "start_time": "2021-07-05T13:11:12.803Z"
   },
   {
    "duration": 11,
    "start_time": "2021-07-05T13:11:13.195Z"
   },
   {
    "duration": 12,
    "start_time": "2021-07-05T13:11:13.208Z"
   },
   {
    "duration": 35,
    "start_time": "2021-07-05T13:11:39.680Z"
   },
   {
    "duration": 6,
    "start_time": "2021-07-05T13:11:51.474Z"
   },
   {
    "duration": 44,
    "start_time": "2021-07-05T13:13:45.898Z"
   },
   {
    "duration": 16,
    "start_time": "2021-07-05T13:14:25.449Z"
   },
   {
    "duration": 1866,
    "start_time": "2021-07-05T13:14:38.671Z"
   },
   {
    "duration": 4338,
    "start_time": "2021-07-05T13:14:40.540Z"
   },
   {
    "duration": 61,
    "start_time": "2021-07-05T13:14:45.898Z"
   },
   {
    "duration": 33,
    "start_time": "2021-07-05T13:15:01.374Z"
   },
   {
    "duration": 4,
    "start_time": "2021-07-05T13:15:05.245Z"
   },
   {
    "duration": 61,
    "start_time": "2021-07-05T13:15:05.787Z"
   },
   {
    "duration": 50,
    "start_time": "2021-07-05T13:15:46.799Z"
   },
   {
    "duration": 69,
    "start_time": "2021-07-05T13:15:59.318Z"
   },
   {
    "duration": 115,
    "start_time": "2021-07-05T13:16:33.816Z"
   },
   {
    "duration": 75,
    "start_time": "2021-07-05T13:16:51.706Z"
   },
   {
    "duration": 110,
    "start_time": "2021-07-05T13:17:35.575Z"
   },
   {
    "duration": 108,
    "start_time": "2021-07-05T13:17:42.262Z"
   },
   {
    "duration": 48,
    "start_time": "2021-07-05T13:17:50.257Z"
   },
   {
    "duration": 218,
    "start_time": "2021-07-05T13:18:05.086Z"
   },
   {
    "duration": 217,
    "start_time": "2021-07-05T13:18:09.740Z"
   },
   {
    "duration": 53,
    "start_time": "2021-07-05T13:18:29.997Z"
   },
   {
    "duration": 75,
    "start_time": "2021-07-05T13:18:42.608Z"
   },
   {
    "duration": 22,
    "start_time": "2021-07-05T13:19:36.731Z"
   },
   {
    "duration": 8,
    "start_time": "2021-07-05T13:19:49.158Z"
   },
   {
    "duration": 8,
    "start_time": "2021-07-05T13:20:40.156Z"
   },
   {
    "duration": 41,
    "start_time": "2021-07-05T13:20:45.065Z"
   },
   {
    "duration": 861,
    "start_time": "2021-07-05T13:21:14.396Z"
   },
   {
    "duration": 1799,
    "start_time": "2021-07-05T13:21:24.543Z"
   },
   {
    "duration": 982,
    "start_time": "2021-07-05T13:21:26.344Z"
   },
   {
    "duration": 38,
    "start_time": "2021-07-05T13:21:27.329Z"
   },
   {
    "duration": 17,
    "start_time": "2021-07-05T13:21:27.370Z"
   },
   {
    "duration": 63,
    "start_time": "2021-07-05T13:21:27.980Z"
   },
   {
    "duration": 23,
    "start_time": "2021-07-05T13:21:36.123Z"
   },
   {
    "duration": 9,
    "start_time": "2021-07-05T13:21:36.691Z"
   },
   {
    "duration": 4,
    "start_time": "2021-07-05T13:21:37.832Z"
   },
   {
    "duration": 6,
    "start_time": "2021-07-05T13:21:38.212Z"
   },
   {
    "duration": 5,
    "start_time": "2021-07-05T13:21:38.592Z"
   },
   {
    "duration": 5,
    "start_time": "2021-07-05T13:21:39.019Z"
   },
   {
    "duration": 19,
    "start_time": "2021-07-05T13:21:39.253Z"
   },
   {
    "duration": 18,
    "start_time": "2021-07-05T13:21:39.438Z"
   },
   {
    "duration": 6,
    "start_time": "2021-07-05T13:21:40.144Z"
   },
   {
    "duration": 12,
    "start_time": "2021-07-05T13:21:40.949Z"
   },
   {
    "duration": 31,
    "start_time": "2021-07-05T13:21:41.624Z"
   },
   {
    "duration": 24,
    "start_time": "2021-07-05T13:21:41.973Z"
   },
   {
    "duration": 10,
    "start_time": "2021-07-05T13:21:42.130Z"
   },
   {
    "duration": 15,
    "start_time": "2021-07-05T13:21:42.679Z"
   },
   {
    "duration": 22,
    "start_time": "2021-07-05T13:21:43.009Z"
   },
   {
    "duration": 8,
    "start_time": "2021-07-05T13:21:43.920Z"
   },
   {
    "duration": 9,
    "start_time": "2021-07-05T13:21:44.081Z"
   },
   {
    "duration": 3476,
    "start_time": "2021-07-05T13:21:44.190Z"
   },
   {
    "duration": 3563,
    "start_time": "2021-07-05T13:21:47.668Z"
   },
   {
    "duration": 3654,
    "start_time": "2021-07-05T13:21:51.236Z"
   },
   {
    "duration": 5,
    "start_time": "2021-07-05T13:21:54.894Z"
   },
   {
    "duration": 1063,
    "start_time": "2021-07-05T13:21:54.902Z"
   },
   {
    "duration": 16,
    "start_time": "2021-07-05T13:21:55.968Z"
   },
   {
    "duration": 2887,
    "start_time": "2021-07-05T13:21:55.987Z"
   },
   {
    "duration": 1772,
    "start_time": "2021-07-05T13:21:58.886Z"
   },
   {
    "duration": 4,
    "start_time": "2021-07-05T13:22:00.660Z"
   },
   {
    "duration": 374,
    "start_time": "2021-07-05T13:22:00.667Z"
   },
   {
    "duration": 368,
    "start_time": "2021-07-05T13:22:16.573Z"
   },
   {
    "duration": 13,
    "start_time": "2021-07-05T13:22:21.974Z"
   },
   {
    "duration": 6,
    "start_time": "2021-07-05T13:22:27.281Z"
   },
   {
    "duration": 35,
    "start_time": "2021-07-05T13:22:28.092Z"
   },
   {
    "duration": 6,
    "start_time": "2021-07-05T13:22:43.487Z"
   },
   {
    "duration": 42,
    "start_time": "2021-07-05T13:22:58.203Z"
   },
   {
    "duration": 6,
    "start_time": "2021-07-05T13:24:25.398Z"
   },
   {
    "duration": 5,
    "start_time": "2021-07-05T13:24:29.767Z"
   },
   {
    "duration": 8,
    "start_time": "2021-07-05T13:25:08.618Z"
   },
   {
    "duration": 433,
    "start_time": "2021-07-05T13:25:36.531Z"
   },
   {
    "duration": 345,
    "start_time": "2021-07-05T13:25:53.853Z"
   },
   {
    "duration": 20,
    "start_time": "2021-07-05T13:26:06.180Z"
   },
   {
    "duration": 307,
    "start_time": "2021-07-05T13:26:23.619Z"
   },
   {
    "duration": 7,
    "start_time": "2021-07-05T13:29:24.197Z"
   },
   {
    "duration": 6,
    "start_time": "2021-07-05T13:29:33.471Z"
   },
   {
    "duration": 3673,
    "start_time": "2021-07-05T13:30:07.414Z"
   },
   {
    "duration": 106,
    "start_time": "2021-07-05T13:30:18.771Z"
   },
   {
    "duration": 627,
    "start_time": "2021-07-05T13:31:05.839Z"
   },
   {
    "duration": 27,
    "start_time": "2021-07-05T13:31:11.589Z"
   },
   {
    "duration": 5710,
    "start_time": "2021-07-05T13:32:29.950Z"
   },
   {
    "duration": 137,
    "start_time": "2021-07-05T13:32:37.526Z"
   },
   {
    "duration": 5,
    "start_time": "2021-07-05T13:32:56.350Z"
   },
   {
    "duration": 470,
    "start_time": "2021-07-05T13:33:08.185Z"
   },
   {
    "duration": 5914,
    "start_time": "2021-07-05T13:33:11.587Z"
   },
   {
    "duration": 8,
    "start_time": "2021-07-05T13:33:19.585Z"
   },
   {
    "duration": 130,
    "start_time": "2021-07-05T13:33:24.137Z"
   },
   {
    "duration": 319,
    "start_time": "2021-07-05T13:33:31.438Z"
   },
   {
    "duration": 141,
    "start_time": "2021-07-05T13:33:34.995Z"
   },
   {
    "duration": 9,
    "start_time": "2021-07-05T13:33:49.263Z"
   },
   {
    "duration": 6,
    "start_time": "2021-07-05T13:33:59.406Z"
   },
   {
    "duration": 8,
    "start_time": "2021-07-05T13:34:04.210Z"
   },
   {
    "duration": 9,
    "start_time": "2021-07-05T13:34:08.138Z"
   },
   {
    "duration": 8,
    "start_time": "2021-07-05T13:34:12.644Z"
   },
   {
    "duration": 330,
    "start_time": "2021-07-05T13:34:17.888Z"
   },
   {
    "duration": 346,
    "start_time": "2021-07-05T13:34:22.081Z"
   },
   {
    "duration": 9,
    "start_time": "2021-07-05T13:34:27.685Z"
   },
   {
    "duration": 10,
    "start_time": "2021-07-05T13:34:38.411Z"
   },
   {
    "duration": 20,
    "start_time": "2021-07-05T13:34:55.552Z"
   },
   {
    "duration": 8,
    "start_time": "2021-07-05T13:35:03.636Z"
   },
   {
    "duration": 533,
    "start_time": "2021-07-05T13:35:14.519Z"
   },
   {
    "duration": 31,
    "start_time": "2021-07-05T13:35:25.532Z"
   },
   {
    "duration": 8,
    "start_time": "2021-07-05T13:35:36.855Z"
   },
   {
    "duration": 8,
    "start_time": "2021-07-05T13:35:41.763Z"
   },
   {
    "duration": 378,
    "start_time": "2021-07-05T13:35:45.000Z"
   },
   {
    "duration": 341,
    "start_time": "2021-07-05T13:35:47.128Z"
   },
   {
    "duration": 8,
    "start_time": "2021-07-05T13:35:51.828Z"
   },
   {
    "duration": 7,
    "start_time": "2021-07-05T13:35:59.972Z"
   },
   {
    "duration": 7,
    "start_time": "2021-07-05T13:36:10.533Z"
   },
   {
    "duration": 5848,
    "start_time": "2021-07-05T13:36:17.861Z"
   },
   {
    "duration": 28,
    "start_time": "2021-07-05T13:36:25.617Z"
   },
   {
    "duration": 444,
    "start_time": "2021-07-05T13:36:38.649Z"
   },
   {
    "duration": 6,
    "start_time": "2021-07-05T13:36:48.318Z"
   },
   {
    "duration": 10,
    "start_time": "2021-07-05T13:37:25.983Z"
   },
   {
    "duration": 6,
    "start_time": "2021-07-05T13:38:04.865Z"
   },
   {
    "duration": 16,
    "start_time": "2021-07-05T13:38:23.469Z"
   },
   {
    "duration": 2801,
    "start_time": "2021-07-05T13:38:37.499Z"
   },
   {
    "duration": 8001,
    "start_time": "2021-07-05T13:39:09.056Z"
   },
   {
    "duration": 5805,
    "start_time": "2021-07-05T13:39:22.410Z"
   },
   {
    "duration": 321,
    "start_time": "2021-07-05T13:39:29.469Z"
   },
   {
    "duration": 7736,
    "start_time": "2021-07-05T13:39:43.933Z"
   },
   {
    "duration": 306,
    "start_time": "2021-07-05T13:40:48.458Z"
   },
   {
    "duration": 306,
    "start_time": "2021-07-05T13:40:55.563Z"
   },
   {
    "duration": 43,
    "start_time": "2021-07-05T13:41:02.192Z"
   },
   {
    "duration": 28,
    "start_time": "2021-07-05T13:41:26.441Z"
   },
   {
    "duration": 6,
    "start_time": "2021-07-05T13:41:38.238Z"
   },
   {
    "duration": 40,
    "start_time": "2021-07-05T13:41:50.725Z"
   },
   {
    "duration": 47,
    "start_time": "2021-07-05T13:42:40.108Z"
   },
   {
    "duration": 313,
    "start_time": "2021-07-05T13:42:56.813Z"
   },
   {
    "duration": 311,
    "start_time": "2021-07-05T13:43:06.541Z"
   },
   {
    "duration": 45,
    "start_time": "2021-07-05T13:43:12.140Z"
   },
   {
    "duration": 320,
    "start_time": "2021-07-05T13:43:16.556Z"
   },
   {
    "duration": 46,
    "start_time": "2021-07-05T13:43:20.127Z"
   },
   {
    "duration": 354,
    "start_time": "2021-07-05T13:43:41.811Z"
   },
   {
    "duration": 26,
    "start_time": "2021-07-05T13:43:46.185Z"
   },
   {
    "duration": 5,
    "start_time": "2021-07-05T13:43:55.873Z"
   },
   {
    "duration": 5,
    "start_time": "2021-07-05T13:44:03.682Z"
   },
   {
    "duration": 5,
    "start_time": "2021-07-05T13:44:12.393Z"
   },
   {
    "duration": 25,
    "start_time": "2021-07-05T13:44:16.339Z"
   },
   {
    "duration": 8,
    "start_time": "2021-07-05T13:44:31.471Z"
   },
   {
    "duration": 20,
    "start_time": "2021-07-05T13:44:44.617Z"
   },
   {
    "duration": 9,
    "start_time": "2021-07-05T13:45:18.456Z"
   },
   {
    "duration": 19,
    "start_time": "2021-07-05T13:45:24.293Z"
   },
   {
    "duration": 19,
    "start_time": "2021-07-05T13:46:34.171Z"
   },
   {
    "duration": 13,
    "start_time": "2021-07-05T13:47:07.342Z"
   },
   {
    "duration": 40,
    "start_time": "2021-07-05T13:47:14.023Z"
   },
   {
    "duration": 18,
    "start_time": "2021-07-05T13:48:29.910Z"
   },
   {
    "duration": 23,
    "start_time": "2021-07-05T13:49:03.058Z"
   },
   {
    "duration": 19,
    "start_time": "2021-07-05T13:49:39.920Z"
   },
   {
    "duration": 19,
    "start_time": "2021-07-05T13:50:00.177Z"
   },
   {
    "duration": 11,
    "start_time": "2021-07-05T13:50:45.935Z"
   },
   {
    "duration": 43,
    "start_time": "2021-07-05T13:50:46.423Z"
   },
   {
    "duration": 114,
    "start_time": "2021-07-05T13:51:11.949Z"
   },
   {
    "duration": 11,
    "start_time": "2021-07-05T13:51:24.502Z"
   },
   {
    "duration": 42,
    "start_time": "2021-07-05T13:51:28.044Z"
   },
   {
    "duration": 302,
    "start_time": "2021-07-05T13:53:07.863Z"
   },
   {
    "duration": 7,
    "start_time": "2021-07-05T13:53:34.521Z"
   },
   {
    "duration": 6,
    "start_time": "2021-07-05T13:53:52.116Z"
   },
   {
    "duration": 7,
    "start_time": "2021-07-05T13:53:55.150Z"
   },
   {
    "duration": 300,
    "start_time": "2021-07-05T13:53:59.270Z"
   },
   {
    "duration": 305,
    "start_time": "2021-07-05T13:57:12.423Z"
   },
   {
    "duration": 17,
    "start_time": "2021-07-05T13:57:31.778Z"
   },
   {
    "duration": 39,
    "start_time": "2021-07-05T13:58:48.352Z"
   },
   {
    "duration": 13,
    "start_time": "2021-07-05T13:58:54.760Z"
   },
   {
    "duration": 39,
    "start_time": "2021-07-05T13:59:00.486Z"
   },
   {
    "duration": 13,
    "start_time": "2021-07-05T13:59:05.985Z"
   },
   {
    "duration": 36,
    "start_time": "2021-07-05T13:59:14.236Z"
   },
   {
    "duration": 14,
    "start_time": "2021-07-05T14:01:15.985Z"
   },
   {
    "duration": 21,
    "start_time": "2021-07-05T14:02:08.013Z"
   },
   {
    "duration": 22,
    "start_time": "2021-07-05T14:02:28.168Z"
   },
   {
    "duration": 6,
    "start_time": "2021-07-05T14:02:37.299Z"
   },
   {
    "duration": 5,
    "start_time": "2021-07-05T14:02:50.597Z"
   },
   {
    "duration": 40,
    "start_time": "2021-07-05T14:06:18.181Z"
   },
   {
    "duration": 3,
    "start_time": "2021-07-05T14:06:39.262Z"
   },
   {
    "duration": 1489,
    "start_time": "2021-07-05T14:06:55.033Z"
   },
   {
    "duration": 937,
    "start_time": "2021-07-05T14:06:56.525Z"
   },
   {
    "duration": 42,
    "start_time": "2021-07-05T14:06:57.465Z"
   },
   {
    "duration": 3,
    "start_time": "2021-07-05T14:06:57.510Z"
   },
   {
    "duration": 88,
    "start_time": "2021-07-05T14:06:57.515Z"
   },
   {
    "duration": 20,
    "start_time": "2021-07-05T14:06:57.606Z"
   },
   {
    "duration": 15,
    "start_time": "2021-07-05T14:06:57.628Z"
   },
   {
    "duration": 15,
    "start_time": "2021-07-05T14:06:57.646Z"
   },
   {
    "duration": 22,
    "start_time": "2021-07-05T14:06:57.663Z"
   },
   {
    "duration": 12,
    "start_time": "2021-07-05T14:06:57.688Z"
   },
   {
    "duration": 21,
    "start_time": "2021-07-05T14:06:57.702Z"
   },
   {
    "duration": 20,
    "start_time": "2021-07-05T14:06:57.726Z"
   },
   {
    "duration": 12,
    "start_time": "2021-07-05T14:06:57.749Z"
   },
   {
    "duration": 9,
    "start_time": "2021-07-05T14:06:58.232Z"
   },
   {
    "duration": 30,
    "start_time": "2021-07-05T14:06:58.864Z"
   },
   {
    "duration": 17,
    "start_time": "2021-07-05T14:06:59.210Z"
   },
   {
    "duration": 8,
    "start_time": "2021-07-05T14:06:59.322Z"
   },
   {
    "duration": 15,
    "start_time": "2021-07-05T14:06:59.716Z"
   },
   {
    "duration": 24,
    "start_time": "2021-07-05T14:07:00.035Z"
   },
   {
    "duration": 8,
    "start_time": "2021-07-05T14:07:00.936Z"
   },
   {
    "duration": 10,
    "start_time": "2021-07-05T14:07:01.100Z"
   },
   {
    "duration": 3692,
    "start_time": "2021-07-05T14:07:01.263Z"
   },
   {
    "duration": 3696,
    "start_time": "2021-07-05T14:07:04.958Z"
   },
   {
    "duration": 4150,
    "start_time": "2021-07-05T14:07:08.657Z"
   },
   {
    "duration": 5,
    "start_time": "2021-07-05T14:07:12.811Z"
   },
   {
    "duration": 1043,
    "start_time": "2021-07-05T14:07:12.819Z"
   },
   {
    "duration": 7,
    "start_time": "2021-07-05T14:07:13.864Z"
   },
   {
    "duration": 2870,
    "start_time": "2021-07-05T14:07:13.886Z"
   },
   {
    "duration": 1738,
    "start_time": "2021-07-05T14:07:16.759Z"
   },
   {
    "duration": 5,
    "start_time": "2021-07-05T14:07:18.500Z"
   },
   {
    "duration": 280,
    "start_time": "2021-07-05T14:07:18.508Z"
   },
   {
    "duration": 12,
    "start_time": "2021-07-05T14:07:18.790Z"
   },
   {
    "duration": 11,
    "start_time": "2021-07-05T14:07:18.805Z"
   },
   {
    "duration": 38,
    "start_time": "2021-07-05T14:07:18.818Z"
   },
   {
    "duration": 31,
    "start_time": "2021-07-05T14:07:18.858Z"
   },
   {
    "duration": 16,
    "start_time": "2021-07-05T14:07:22.272Z"
   },
   {
    "duration": 39,
    "start_time": "2021-07-05T14:07:24.062Z"
   },
   {
    "duration": 30,
    "start_time": "2021-07-05T14:08:00.989Z"
   },
   {
    "duration": 6,
    "start_time": "2021-07-05T14:08:01.493Z"
   },
   {
    "duration": 50,
    "start_time": "2021-07-05T14:09:23.949Z"
   },
   {
    "duration": 4,
    "start_time": "2021-07-05T14:09:26.078Z"
   },
   {
    "duration": 5617,
    "start_time": "2021-07-05T14:09:48.310Z"
   },
   {
    "duration": 38234,
    "start_time": "2021-07-05T14:09:53.930Z"
   },
   {
    "duration": 1419,
    "start_time": "2021-07-05T14:10:32.168Z"
   },
   {
    "duration": 19596,
    "start_time": "2021-07-05T14:30:44.043Z"
   },
   {
    "duration": 19854,
    "start_time": "2021-07-05T14:36:04.120Z"
   },
   {
    "duration": 6,
    "start_time": "2021-07-05T14:36:29.556Z"
   },
   {
    "duration": 20254,
    "start_time": "2021-07-05T14:37:52.769Z"
   },
   {
    "duration": 5,
    "start_time": "2021-07-05T14:38:13.026Z"
   },
   {
    "duration": 458,
    "start_time": "2021-07-05T14:38:59.348Z"
   },
   {
    "duration": 313,
    "start_time": "2021-07-05T14:39:02.878Z"
   },
   {
    "duration": 349,
    "start_time": "2021-07-05T14:39:29.758Z"
   },
   {
    "duration": 19,
    "start_time": "2021-07-05T14:39:34.301Z"
   },
   {
    "duration": 128,
    "start_time": "2021-07-05T14:40:00.591Z"
   },
   {
    "duration": 99,
    "start_time": "2021-07-05T14:40:08.967Z"
   },
   {
    "duration": 110,
    "start_time": "2021-07-05T14:40:20.787Z"
   },
   {
    "duration": 7,
    "start_time": "2021-07-05T14:41:05.732Z"
   },
   {
    "duration": 6,
    "start_time": "2021-07-05T14:49:30.571Z"
   },
   {
    "duration": 105,
    "start_time": "2021-07-05T14:49:37.098Z"
   },
   {
    "duration": 108,
    "start_time": "2021-07-05T14:49:43.378Z"
   },
   {
    "duration": 129,
    "start_time": "2021-07-05T14:49:48.755Z"
   },
   {
    "duration": 5,
    "start_time": "2021-07-05T14:49:52.088Z"
   },
   {
    "duration": 6,
    "start_time": "2021-07-05T14:49:55.165Z"
   },
   {
    "duration": 14,
    "start_time": "2021-07-05T14:50:11.797Z"
   },
   {
    "duration": 76370,
    "start_time": "2021-07-05T14:50:59.287Z"
   },
   {
    "duration": 13,
    "start_time": "2021-07-05T14:52:26.053Z"
   },
   {
    "duration": 43959,
    "start_time": "2021-07-05T14:52:59.097Z"
   },
   {
    "duration": 13,
    "start_time": "2021-07-05T14:54:11.759Z"
   },
   {
    "duration": 1453,
    "start_time": "2021-07-05T15:12:19.018Z"
   },
   {
    "duration": 1090,
    "start_time": "2021-07-05T15:12:20.474Z"
   },
   {
    "duration": 43,
    "start_time": "2021-07-05T15:12:21.567Z"
   },
   {
    "duration": 3,
    "start_time": "2021-07-05T15:12:21.613Z"
   },
   {
    "duration": 92,
    "start_time": "2021-07-05T15:12:21.619Z"
   },
   {
    "duration": 21,
    "start_time": "2021-07-05T15:12:24.494Z"
   },
   {
    "duration": 4,
    "start_time": "2021-07-05T15:12:25.059Z"
   },
   {
    "duration": 6,
    "start_time": "2021-07-05T15:12:34.818Z"
   },
   {
    "duration": 4,
    "start_time": "2021-07-05T15:12:35.805Z"
   },
   {
    "duration": 6,
    "start_time": "2021-07-05T15:12:36.086Z"
   },
   {
    "duration": 14,
    "start_time": "2021-07-05T15:12:36.304Z"
   },
   {
    "duration": 20,
    "start_time": "2021-07-05T15:12:36.499Z"
   },
   {
    "duration": 7,
    "start_time": "2021-07-05T15:12:36.709Z"
   },
   {
    "duration": 9,
    "start_time": "2021-07-05T15:12:37.479Z"
   },
   {
    "duration": 27,
    "start_time": "2021-07-05T15:12:38.301Z"
   },
   {
    "duration": 21,
    "start_time": "2021-07-05T15:12:38.897Z"
   },
   {
    "duration": 8,
    "start_time": "2021-07-05T15:12:39.495Z"
   },
   {
    "duration": 15,
    "start_time": "2021-07-05T15:12:40.883Z"
   },
   {
    "duration": 22,
    "start_time": "2021-07-05T15:12:42.144Z"
   },
   {
    "duration": 8,
    "start_time": "2021-07-05T15:12:43.617Z"
   },
   {
    "duration": 11,
    "start_time": "2021-07-05T15:12:43.893Z"
   },
   {
    "duration": 3473,
    "start_time": "2021-07-05T15:12:44.150Z"
   },
   {
    "duration": 3762,
    "start_time": "2021-07-05T15:12:47.626Z"
   },
   {
    "duration": 3559,
    "start_time": "2021-07-05T15:12:51.391Z"
   },
   {
    "duration": 4,
    "start_time": "2021-07-05T15:12:54.954Z"
   },
   {
    "duration": 1070,
    "start_time": "2021-07-05T15:12:54.961Z"
   },
   {
    "duration": 6,
    "start_time": "2021-07-05T15:12:56.034Z"
   },
   {
    "duration": 2882,
    "start_time": "2021-07-05T15:12:56.042Z"
   },
   {
    "duration": 1730,
    "start_time": "2021-07-05T15:12:58.930Z"
   },
   {
    "duration": 5,
    "start_time": "2021-07-05T15:13:00.665Z"
   },
   {
    "duration": 270,
    "start_time": "2021-07-05T15:13:00.686Z"
   },
   {
    "duration": 27,
    "start_time": "2021-07-05T15:13:00.959Z"
   },
   {
    "duration": 27,
    "start_time": "2021-07-05T15:13:00.989Z"
   },
   {
    "duration": 42,
    "start_time": "2021-07-05T15:13:01.018Z"
   },
   {
    "duration": 6,
    "start_time": "2021-07-05T15:13:01.062Z"
   },
   {
    "duration": 30,
    "start_time": "2021-07-05T15:13:01.070Z"
   },
   {
    "duration": 35,
    "start_time": "2021-07-05T15:13:01.103Z"
   },
   {
    "duration": 5,
    "start_time": "2021-07-05T15:13:01.141Z"
   },
   {
    "duration": 62,
    "start_time": "2021-07-05T15:13:01.149Z"
   },
   {
    "duration": 4,
    "start_time": "2021-07-05T15:13:01.213Z"
   },
   {
    "duration": 5194,
    "start_time": "2021-07-05T15:13:01.219Z"
   },
   {
    "duration": 30264,
    "start_time": "2021-07-05T15:13:06.415Z"
   },
   {
    "duration": 1300,
    "start_time": "2021-07-05T15:13:36.685Z"
   },
   {
    "duration": 137,
    "start_time": "2021-07-05T15:14:38.351Z"
   },
   {
    "duration": 6297,
    "start_time": "2021-07-05T15:15:12.880Z"
   },
   {
    "duration": 363,
    "start_time": "2021-07-05T15:16:21.290Z"
   },
   {
    "duration": 215,
    "start_time": "2021-07-05T15:16:59.812Z"
   },
   {
    "duration": 3977,
    "start_time": "2021-07-05T15:17:22.696Z"
   },
   {
    "duration": 1460,
    "start_time": "2021-07-05T15:32:54.114Z"
   },
   {
    "duration": 967,
    "start_time": "2021-07-05T15:32:55.577Z"
   },
   {
    "duration": 40,
    "start_time": "2021-07-05T15:32:56.547Z"
   },
   {
    "duration": 3,
    "start_time": "2021-07-05T15:32:56.590Z"
   },
   {
    "duration": 71,
    "start_time": "2021-07-05T15:32:56.595Z"
   },
   {
    "duration": 29,
    "start_time": "2021-07-05T15:32:56.675Z"
   },
   {
    "duration": 4,
    "start_time": "2021-07-05T15:32:56.741Z"
   },
   {
    "duration": 5,
    "start_time": "2021-07-05T15:32:56.773Z"
   },
   {
    "duration": 4,
    "start_time": "2021-07-05T15:32:56.807Z"
   },
   {
    "duration": 5,
    "start_time": "2021-07-05T15:32:56.838Z"
   },
   {
    "duration": 15,
    "start_time": "2021-07-05T15:32:56.869Z"
   },
   {
    "duration": 18,
    "start_time": "2021-07-05T15:32:56.901Z"
   },
   {
    "duration": 6,
    "start_time": "2021-07-05T15:32:56.934Z"
   },
   {
    "duration": 8,
    "start_time": "2021-07-05T15:32:57.045Z"
   },
   {
    "duration": 28,
    "start_time": "2021-07-05T15:32:57.167Z"
   },
   {
    "duration": 16,
    "start_time": "2021-07-05T15:32:57.226Z"
   },
   {
    "duration": 9,
    "start_time": "2021-07-05T15:32:57.256Z"
   },
   {
    "duration": 16,
    "start_time": "2021-07-05T15:32:57.322Z"
   },
   {
    "duration": 22,
    "start_time": "2021-07-05T15:32:57.383Z"
   },
   {
    "duration": 7,
    "start_time": "2021-07-05T15:32:57.808Z"
   },
   {
    "duration": 10,
    "start_time": "2021-07-05T15:32:58.003Z"
   },
   {
    "duration": 3463,
    "start_time": "2021-07-05T15:32:58.176Z"
   },
   {
    "duration": 3483,
    "start_time": "2021-07-05T15:33:01.641Z"
   },
   {
    "duration": 3542,
    "start_time": "2021-07-05T15:33:05.127Z"
   },
   {
    "duration": 13,
    "start_time": "2021-07-05T15:33:08.672Z"
   },
   {
    "duration": 1073,
    "start_time": "2021-07-05T15:33:08.687Z"
   },
   {
    "duration": 23,
    "start_time": "2021-07-05T15:33:09.764Z"
   },
   {
    "duration": 2883,
    "start_time": "2021-07-05T15:33:09.790Z"
   },
   {
    "duration": 1774,
    "start_time": "2021-07-05T15:33:12.677Z"
   },
   {
    "duration": 5,
    "start_time": "2021-07-05T15:33:14.454Z"
   },
   {
    "duration": 295,
    "start_time": "2021-07-05T15:33:14.462Z"
   },
   {
    "duration": 27,
    "start_time": "2021-07-05T15:33:14.760Z"
   },
   {
    "duration": 5,
    "start_time": "2021-07-05T15:33:14.789Z"
   },
   {
    "duration": 37,
    "start_time": "2021-07-05T15:33:14.796Z"
   },
   {
    "duration": 5,
    "start_time": "2021-07-05T15:33:14.836Z"
   },
   {
    "duration": 43,
    "start_time": "2021-07-05T15:33:14.843Z"
   },
   {
    "duration": 30,
    "start_time": "2021-07-05T15:33:14.888Z"
   },
   {
    "duration": 5,
    "start_time": "2021-07-05T15:33:14.920Z"
   },
   {
    "duration": 82,
    "start_time": "2021-07-05T15:33:14.928Z"
   },
   {
    "duration": 4,
    "start_time": "2021-07-05T15:33:15.012Z"
   },
   {
    "duration": 3889,
    "start_time": "2021-07-05T15:33:31.922Z"
   },
   {
    "duration": 41397,
    "start_time": "2021-07-05T15:34:18.830Z"
   },
   {
    "duration": 312356,
    "start_time": "2021-07-05T15:35:22.257Z"
   },
   {
    "duration": 4042,
    "start_time": "2021-07-05T15:43:18.236Z"
   },
   {
    "duration": 18081,
    "start_time": "2021-07-05T15:43:56.305Z"
   },
   {
    "duration": 89969,
    "start_time": "2021-07-05T15:44:36.252Z"
   },
   {
    "duration": 5,
    "start_time": "2021-07-05T15:46:28.672Z"
   },
   {
    "duration": 23980,
    "start_time": "2021-07-05T15:47:17.434Z"
   },
   {
    "duration": 1522,
    "start_time": "2021-07-05T15:49:47.611Z"
   },
   {
    "duration": 943,
    "start_time": "2021-07-05T15:49:49.136Z"
   },
   {
    "duration": 37,
    "start_time": "2021-07-05T15:49:50.083Z"
   },
   {
    "duration": 4,
    "start_time": "2021-07-05T15:49:50.124Z"
   },
   {
    "duration": 91,
    "start_time": "2021-07-05T15:49:50.131Z"
   },
   {
    "duration": 20,
    "start_time": "2021-07-05T15:49:50.224Z"
   },
   {
    "duration": 4,
    "start_time": "2021-07-05T15:49:50.246Z"
   },
   {
    "duration": 14,
    "start_time": "2021-07-05T15:49:50.253Z"
   },
   {
    "duration": 5,
    "start_time": "2021-07-05T15:49:50.287Z"
   },
   {
    "duration": 11,
    "start_time": "2021-07-05T15:49:50.294Z"
   },
   {
    "duration": 22,
    "start_time": "2021-07-05T15:49:50.307Z"
   },
   {
    "duration": 16,
    "start_time": "2021-07-05T15:49:50.332Z"
   },
   {
    "duration": 9,
    "start_time": "2021-07-05T15:49:50.350Z"
   },
   {
    "duration": 10,
    "start_time": "2021-07-05T15:49:50.946Z"
   },
   {
    "duration": 27,
    "start_time": "2021-07-05T15:49:51.566Z"
   },
   {
    "duration": 17,
    "start_time": "2021-07-05T15:49:51.864Z"
   },
   {
    "duration": 9,
    "start_time": "2021-07-05T15:49:52.017Z"
   },
   {
    "duration": 14,
    "start_time": "2021-07-05T15:49:52.298Z"
   },
   {
    "duration": 21,
    "start_time": "2021-07-05T15:49:52.653Z"
   },
   {
    "duration": 7,
    "start_time": "2021-07-05T15:49:53.574Z"
   },
   {
    "duration": 10,
    "start_time": "2021-07-05T15:49:53.725Z"
   },
   {
    "duration": 3420,
    "start_time": "2021-07-05T15:49:53.877Z"
   },
   {
    "duration": 3430,
    "start_time": "2021-07-05T15:49:57.300Z"
   },
   {
    "duration": 3526,
    "start_time": "2021-07-05T15:50:00.734Z"
   },
   {
    "duration": 4,
    "start_time": "2021-07-05T15:50:04.262Z"
   },
   {
    "duration": 1050,
    "start_time": "2021-07-05T15:50:04.269Z"
   },
   {
    "duration": 7,
    "start_time": "2021-07-05T15:50:05.322Z"
   },
   {
    "duration": 2884,
    "start_time": "2021-07-05T15:50:05.332Z"
   },
   {
    "duration": 1688,
    "start_time": "2021-07-05T15:50:08.222Z"
   },
   {
    "duration": 5,
    "start_time": "2021-07-05T15:50:09.913Z"
   },
   {
    "duration": 290,
    "start_time": "2021-07-05T15:50:09.920Z"
   },
   {
    "duration": 12,
    "start_time": "2021-07-05T15:50:10.212Z"
   },
   {
    "duration": 17,
    "start_time": "2021-07-05T15:50:10.226Z"
   },
   {
    "duration": 58,
    "start_time": "2021-07-05T15:50:10.245Z"
   },
   {
    "duration": 6,
    "start_time": "2021-07-05T15:50:10.305Z"
   },
   {
    "duration": 29,
    "start_time": "2021-07-05T15:50:10.313Z"
   },
   {
    "duration": 45,
    "start_time": "2021-07-05T15:50:10.344Z"
   },
   {
    "duration": 6,
    "start_time": "2021-07-05T15:50:10.391Z"
   },
   {
    "duration": 54,
    "start_time": "2021-07-05T15:50:10.399Z"
   },
   {
    "duration": 3,
    "start_time": "2021-07-05T15:50:10.455Z"
   },
   {
    "duration": 30390,
    "start_time": "2021-07-05T15:50:10.460Z"
   },
   {
    "duration": 29610,
    "start_time": "2021-07-05T15:58:24.070Z"
   },
   {
    "duration": 6005,
    "start_time": "2021-07-05T15:59:06.084Z"
   },
   {
    "duration": 26380,
    "start_time": "2021-07-05T15:59:31.527Z"
   },
   {
    "duration": 8849,
    "start_time": "2021-07-05T16:00:48.712Z"
   },
   {
    "duration": 36147,
    "start_time": "2021-07-05T16:01:13.145Z"
   },
   {
    "duration": 63580,
    "start_time": "2021-07-05T16:02:18.439Z"
   },
   {
    "duration": 64102,
    "start_time": "2021-07-05T16:04:35.206Z"
   },
   {
    "duration": 64168,
    "start_time": "2021-07-05T16:05:53.383Z"
   },
   {
    "duration": 259526,
    "start_time": "2021-07-05T16:10:43.964Z"
   },
   {
    "duration": 112,
    "start_time": "2021-07-05T16:15:03.493Z"
   },
   {
    "duration": 1502,
    "start_time": "2021-07-05T16:22:31.240Z"
   },
   {
    "duration": 945,
    "start_time": "2021-07-05T16:22:32.748Z"
   },
   {
    "duration": 36,
    "start_time": "2021-07-05T16:22:33.696Z"
   },
   {
    "duration": 12,
    "start_time": "2021-07-05T16:22:33.735Z"
   },
   {
    "duration": 73,
    "start_time": "2021-07-05T16:22:33.750Z"
   },
   {
    "duration": 19,
    "start_time": "2021-07-05T16:22:33.826Z"
   },
   {
    "duration": 12,
    "start_time": "2021-07-05T16:22:33.849Z"
   },
   {
    "duration": 26,
    "start_time": "2021-07-05T16:22:33.864Z"
   },
   {
    "duration": 11,
    "start_time": "2021-07-05T16:22:33.893Z"
   },
   {
    "duration": 12,
    "start_time": "2021-07-05T16:22:33.906Z"
   },
   {
    "duration": 29,
    "start_time": "2021-07-05T16:22:33.921Z"
   },
   {
    "duration": 34,
    "start_time": "2021-07-05T16:22:33.953Z"
   },
   {
    "duration": 8,
    "start_time": "2021-07-05T16:22:33.989Z"
   },
   {
    "duration": 20,
    "start_time": "2021-07-05T16:22:34.000Z"
   },
   {
    "duration": 25,
    "start_time": "2021-07-05T16:22:34.025Z"
   },
   {
    "duration": 15,
    "start_time": "2021-07-05T16:22:34.087Z"
   },
   {
    "duration": 9,
    "start_time": "2021-07-05T16:22:34.105Z"
   },
   {
    "duration": 20,
    "start_time": "2021-07-05T16:22:34.117Z"
   },
   {
    "duration": 55,
    "start_time": "2021-07-05T16:22:34.140Z"
   },
   {
    "duration": 8,
    "start_time": "2021-07-05T16:22:34.197Z"
   },
   {
    "duration": 19,
    "start_time": "2021-07-05T16:22:34.207Z"
   },
   {
    "duration": 3644,
    "start_time": "2021-07-05T16:22:34.228Z"
   },
   {
    "duration": 3502,
    "start_time": "2021-07-05T16:22:37.874Z"
   },
   {
    "duration": 3522,
    "start_time": "2021-07-05T16:22:41.386Z"
   },
   {
    "duration": 4,
    "start_time": "2021-07-05T16:22:44.913Z"
   },
   {
    "duration": 1055,
    "start_time": "2021-07-05T16:22:44.920Z"
   },
   {
    "duration": 12,
    "start_time": "2021-07-05T16:22:45.977Z"
   },
   {
    "duration": 3061,
    "start_time": "2021-07-05T16:22:45.991Z"
   },
   {
    "duration": 1841,
    "start_time": "2021-07-05T16:22:49.055Z"
   },
   {
    "duration": 5,
    "start_time": "2021-07-05T16:22:50.899Z"
   },
   {
    "duration": 283,
    "start_time": "2021-07-05T16:22:50.907Z"
   },
   {
    "duration": 12,
    "start_time": "2021-07-05T16:22:51.192Z"
   },
   {
    "duration": 8,
    "start_time": "2021-07-05T16:22:51.207Z"
   },
   {
    "duration": 37,
    "start_time": "2021-07-05T16:22:51.217Z"
   },
   {
    "duration": 30,
    "start_time": "2021-07-05T16:22:51.256Z"
   },
   {
    "duration": 19,
    "start_time": "2021-07-05T16:22:51.289Z"
   },
   {
    "duration": 36,
    "start_time": "2021-07-05T16:22:51.311Z"
   },
   {
    "duration": 6,
    "start_time": "2021-07-05T16:22:51.349Z"
   },
   {
    "duration": 78,
    "start_time": "2021-07-05T16:22:51.358Z"
   },
   {
    "duration": 5,
    "start_time": "2021-07-05T16:22:51.439Z"
   },
   {
    "duration": 5487,
    "start_time": "2021-07-05T16:22:51.446Z"
   },
   {
    "duration": 794,
    "start_time": "2021-07-05T16:22:56.936Z"
   },
   {
    "duration": 41879,
    "start_time": "2021-07-05T16:23:46.301Z"
   },
   {
    "duration": 123890,
    "start_time": "2021-07-05T16:25:52.133Z"
   },
   {
    "duration": 31172,
    "start_time": "2021-07-05T16:29:03.707Z"
   },
   {
    "duration": 31783,
    "start_time": "2021-07-05T16:30:05.790Z"
   },
   {
    "duration": 50,
    "start_time": "2021-07-05T16:35:49.309Z"
   },
   {
    "duration": 7,
    "start_time": "2021-07-05T16:43:14.023Z"
   },
   {
    "duration": 10,
    "start_time": "2021-07-05T16:44:13.881Z"
   },
   {
    "duration": 482,
    "start_time": "2021-07-05T16:44:29.242Z"
   },
   {
    "duration": 623,
    "start_time": "2021-07-05T16:46:06.426Z"
   },
   {
    "duration": 12,
    "start_time": "2021-07-05T16:46:18.840Z"
   },
   {
    "duration": 1609,
    "start_time": "2021-07-05T17:11:39.413Z"
   },
   {
    "duration": 1049,
    "start_time": "2021-07-05T17:11:41.025Z"
   },
   {
    "duration": 39,
    "start_time": "2021-07-05T17:11:42.078Z"
   },
   {
    "duration": 4,
    "start_time": "2021-07-05T17:11:42.120Z"
   },
   {
    "duration": 83,
    "start_time": "2021-07-05T17:11:42.126Z"
   },
   {
    "duration": 7504,
    "start_time": "2021-07-05T17:11:42.211Z"
   },
   {
    "duration": -78,
    "start_time": "2021-07-05T17:11:49.798Z"
   },
   {
    "duration": -80,
    "start_time": "2021-07-05T17:11:49.802Z"
   },
   {
    "duration": -82,
    "start_time": "2021-07-05T17:11:49.805Z"
   },
   {
    "duration": -84,
    "start_time": "2021-07-05T17:11:49.809Z"
   },
   {
    "duration": -93,
    "start_time": "2021-07-05T17:11:49.819Z"
   },
   {
    "duration": -94,
    "start_time": "2021-07-05T17:11:49.822Z"
   },
   {
    "duration": -97,
    "start_time": "2021-07-05T17:11:49.826Z"
   },
   {
    "duration": -105,
    "start_time": "2021-07-05T17:11:49.836Z"
   },
   {
    "duration": -107,
    "start_time": "2021-07-05T17:11:49.839Z"
   },
   {
    "duration": -108,
    "start_time": "2021-07-05T17:11:49.842Z"
   },
   {
    "duration": -118,
    "start_time": "2021-07-05T17:11:49.853Z"
   },
   {
    "duration": -119,
    "start_time": "2021-07-05T17:11:49.856Z"
   },
   {
    "duration": -129,
    "start_time": "2021-07-05T17:11:49.867Z"
   },
   {
    "duration": -131,
    "start_time": "2021-07-05T17:11:49.870Z"
   },
   {
    "duration": -134,
    "start_time": "2021-07-05T17:11:49.875Z"
   },
   {
    "duration": -143,
    "start_time": "2021-07-05T17:11:49.885Z"
   },
   {
    "duration": -144,
    "start_time": "2021-07-05T17:11:49.888Z"
   },
   {
    "duration": -146,
    "start_time": "2021-07-05T17:11:49.891Z"
   },
   {
    "duration": -158,
    "start_time": "2021-07-05T17:11:49.905Z"
   },
   {
    "duration": -161,
    "start_time": "2021-07-05T17:11:49.909Z"
   },
   {
    "duration": -171,
    "start_time": "2021-07-05T17:11:49.920Z"
   },
   {
    "duration": -172,
    "start_time": "2021-07-05T17:11:49.923Z"
   },
   {
    "duration": -175,
    "start_time": "2021-07-05T17:11:49.927Z"
   },
   {
    "duration": -182,
    "start_time": "2021-07-05T17:11:49.936Z"
   },
   {
    "duration": -184,
    "start_time": "2021-07-05T17:11:49.939Z"
   },
   {
    "duration": -187,
    "start_time": "2021-07-05T17:11:49.943Z"
   },
   {
    "duration": -168,
    "start_time": "2021-07-05T17:11:49.953Z"
   },
   {
    "duration": -169,
    "start_time": "2021-07-05T17:11:49.956Z"
   },
   {
    "duration": -171,
    "start_time": "2021-07-05T17:11:49.959Z"
   },
   {
    "duration": -179,
    "start_time": "2021-07-05T17:11:49.969Z"
   },
   {
    "duration": -181,
    "start_time": "2021-07-05T17:11:49.973Z"
   },
   {
    "duration": -183,
    "start_time": "2021-07-05T17:11:49.976Z"
   },
   {
    "duration": -190,
    "start_time": "2021-07-05T17:11:49.986Z"
   },
   {
    "duration": -191,
    "start_time": "2021-07-05T17:11:49.989Z"
   },
   {
    "duration": -193,
    "start_time": "2021-07-05T17:11:49.992Z"
   },
   {
    "duration": -202,
    "start_time": "2021-07-05T17:11:50.002Z"
   },
   {
    "duration": -203,
    "start_time": "2021-07-05T17:11:50.005Z"
   },
   {
    "duration": -205,
    "start_time": "2021-07-05T17:11:50.008Z"
   },
   {
    "duration": -214,
    "start_time": "2021-07-05T17:11:50.019Z"
   },
   {
    "duration": -217,
    "start_time": "2021-07-05T17:11:50.023Z"
   },
   {
    "duration": -226,
    "start_time": "2021-07-05T17:11:50.033Z"
   },
   {
    "duration": 1490,
    "start_time": "2021-07-05T17:14:25.141Z"
   },
   {
    "duration": 900,
    "start_time": "2021-07-05T17:14:26.634Z"
   },
   {
    "duration": 46,
    "start_time": "2021-07-05T17:14:27.539Z"
   },
   {
    "duration": 3,
    "start_time": "2021-07-05T17:14:27.588Z"
   },
   {
    "duration": 62,
    "start_time": "2021-07-05T17:14:27.593Z"
   },
   {
    "duration": 37,
    "start_time": "2021-07-05T17:14:27.657Z"
   },
   {
    "duration": 5,
    "start_time": "2021-07-05T17:14:27.696Z"
   },
   {
    "duration": 9,
    "start_time": "2021-07-05T17:14:27.705Z"
   },
   {
    "duration": 7,
    "start_time": "2021-07-05T17:14:27.716Z"
   },
   {
    "duration": 14,
    "start_time": "2021-07-05T17:14:27.725Z"
   },
   {
    "duration": 18,
    "start_time": "2021-07-05T17:14:27.742Z"
   },
   {
    "duration": 34,
    "start_time": "2021-07-05T17:14:27.763Z"
   },
   {
    "duration": 6,
    "start_time": "2021-07-05T17:14:27.799Z"
   },
   {
    "duration": 13,
    "start_time": "2021-07-05T17:14:27.807Z"
   },
   {
    "duration": 33,
    "start_time": "2021-07-05T17:14:27.822Z"
   },
   {
    "duration": 14,
    "start_time": "2021-07-05T17:14:27.886Z"
   },
   {
    "duration": 8,
    "start_time": "2021-07-05T17:14:27.903Z"
   },
   {
    "duration": 19,
    "start_time": "2021-07-05T17:14:27.914Z"
   },
   {
    "duration": 51,
    "start_time": "2021-07-05T17:14:27.935Z"
   },
   {
    "duration": 8,
    "start_time": "2021-07-05T17:14:27.989Z"
   },
   {
    "duration": 12,
    "start_time": "2021-07-05T17:14:27.999Z"
   },
   {
    "duration": 3486,
    "start_time": "2021-07-05T17:14:28.013Z"
   },
   {
    "duration": 3900,
    "start_time": "2021-07-05T17:14:31.505Z"
   },
   {
    "duration": 3445,
    "start_time": "2021-07-05T17:14:35.409Z"
   },
   {
    "duration": 6,
    "start_time": "2021-07-05T17:14:38.857Z"
   },
   {
    "duration": 1041,
    "start_time": "2021-07-05T17:14:38.866Z"
   },
   {
    "duration": 7,
    "start_time": "2021-07-05T17:14:39.909Z"
   },
   {
    "duration": 2861,
    "start_time": "2021-07-05T17:14:39.918Z"
   },
   {
    "duration": 1709,
    "start_time": "2021-07-05T17:14:42.782Z"
   },
   {
    "duration": 5,
    "start_time": "2021-07-05T17:14:44.493Z"
   },
   {
    "duration": 278,
    "start_time": "2021-07-05T17:14:44.500Z"
   },
   {
    "duration": 12,
    "start_time": "2021-07-05T17:14:44.785Z"
   },
   {
    "duration": 8,
    "start_time": "2021-07-05T17:14:44.800Z"
   },
   {
    "duration": 37,
    "start_time": "2021-07-05T17:14:44.810Z"
   },
   {
    "duration": 35,
    "start_time": "2021-07-05T17:14:44.850Z"
   },
   {
    "duration": 19,
    "start_time": "2021-07-05T17:14:44.889Z"
   },
   {
    "duration": 28,
    "start_time": "2021-07-05T17:14:44.911Z"
   },
   {
    "duration": 6,
    "start_time": "2021-07-05T17:14:44.941Z"
   },
   {
    "duration": 48,
    "start_time": "2021-07-05T17:14:44.985Z"
   },
   {
    "duration": 4,
    "start_time": "2021-07-05T17:14:45.035Z"
   },
   {
    "duration": 5095,
    "start_time": "2021-07-05T17:14:45.042Z"
   },
   {
    "duration": 29998,
    "start_time": "2021-07-05T17:14:50.139Z"
   },
   {
    "duration": 1255,
    "start_time": "2021-07-05T17:15:20.140Z"
   },
   {
    "duration": 32686,
    "start_time": "2021-07-05T17:15:21.486Z"
   },
   {
    "duration": 1536,
    "start_time": "2021-07-05T17:17:20.895Z"
   },
   {
    "duration": 934,
    "start_time": "2021-07-05T17:17:22.434Z"
   },
   {
    "duration": 35,
    "start_time": "2021-07-05T17:17:23.371Z"
   },
   {
    "duration": 17,
    "start_time": "2021-07-05T17:17:23.409Z"
   },
   {
    "duration": 75,
    "start_time": "2021-07-05T17:17:23.429Z"
   },
   {
    "duration": 21,
    "start_time": "2021-07-05T17:17:23.507Z"
   },
   {
    "duration": 15,
    "start_time": "2021-07-05T17:17:23.531Z"
   },
   {
    "duration": 17,
    "start_time": "2021-07-05T17:17:23.551Z"
   },
   {
    "duration": 5,
    "start_time": "2021-07-05T17:17:23.587Z"
   },
   {
    "duration": 19,
    "start_time": "2021-07-05T17:17:23.594Z"
   },
   {
    "duration": 23,
    "start_time": "2021-07-05T17:17:23.616Z"
   },
   {
    "duration": 20,
    "start_time": "2021-07-05T17:17:23.642Z"
   },
   {
    "duration": 19,
    "start_time": "2021-07-05T17:17:23.665Z"
   },
   {
    "duration": 16,
    "start_time": "2021-07-05T17:17:23.686Z"
   },
   {
    "duration": 30,
    "start_time": "2021-07-05T17:17:23.705Z"
   },
   {
    "duration": 15,
    "start_time": "2021-07-05T17:17:23.738Z"
   },
   {
    "duration": 37,
    "start_time": "2021-07-05T17:17:23.755Z"
   },
   {
    "duration": 19,
    "start_time": "2021-07-05T17:17:23.795Z"
   },
   {
    "duration": 22,
    "start_time": "2021-07-05T17:17:23.816Z"
   },
   {
    "duration": 6,
    "start_time": "2021-07-05T17:17:23.841Z"
   },
   {
    "duration": 9,
    "start_time": "2021-07-05T17:17:23.888Z"
   },
   {
    "duration": 3558,
    "start_time": "2021-07-05T17:17:23.900Z"
   },
   {
    "duration": 3650,
    "start_time": "2021-07-05T17:17:27.466Z"
   },
   {
    "duration": 3749,
    "start_time": "2021-07-05T17:17:31.121Z"
   },
   {
    "duration": 12,
    "start_time": "2021-07-05T17:17:34.873Z"
   },
   {
    "duration": 1300,
    "start_time": "2021-07-05T17:17:34.888Z"
   },
   {
    "duration": 5,
    "start_time": "2021-07-05T17:17:36.191Z"
   },
   {
    "duration": 3024,
    "start_time": "2021-07-05T17:17:36.201Z"
   },
   {
    "duration": 1955,
    "start_time": "2021-07-05T17:17:39.228Z"
   },
   {
    "duration": 4,
    "start_time": "2021-07-05T17:17:41.186Z"
   },
   {
    "duration": 275,
    "start_time": "2021-07-05T17:17:41.192Z"
   },
   {
    "duration": 18,
    "start_time": "2021-07-05T17:17:41.470Z"
   },
   {
    "duration": 17,
    "start_time": "2021-07-05T17:17:41.490Z"
   },
   {
    "duration": 32,
    "start_time": "2021-07-05T17:17:41.510Z"
   },
   {
    "duration": 7,
    "start_time": "2021-07-05T17:17:41.545Z"
   },
   {
    "duration": 41,
    "start_time": "2021-07-05T17:17:41.555Z"
   },
   {
    "duration": 29,
    "start_time": "2021-07-05T17:17:41.599Z"
   },
   {
    "duration": 5,
    "start_time": "2021-07-05T17:17:41.631Z"
   },
   {
    "duration": 77,
    "start_time": "2021-07-05T17:17:41.638Z"
   },
   {
    "duration": 3,
    "start_time": "2021-07-05T17:17:41.718Z"
   },
   {
    "duration": 122,
    "start_time": "2021-07-05T17:17:41.723Z"
   },
   {
    "duration": -61,
    "start_time": "2021-07-05T17:17:41.909Z"
   },
   {
    "duration": -64,
    "start_time": "2021-07-05T17:17:41.913Z"
   },
   {
    "duration": -68,
    "start_time": "2021-07-05T17:17:41.919Z"
   },
   {
    "duration": -70,
    "start_time": "2021-07-05T17:17:41.922Z"
   },
   {
    "duration": -71,
    "start_time": "2021-07-05T17:17:41.925Z"
   },
   {
    "duration": -73,
    "start_time": "2021-07-05T17:17:41.928Z"
   },
   {
    "duration": 3048,
    "start_time": "2021-07-05T17:18:14.155Z"
   },
   {
    "duration": 17955,
    "start_time": "2021-07-05T17:18:28.662Z"
   },
   {
    "duration": 24592,
    "start_time": "2021-07-05T17:19:07.950Z"
   },
   {
    "duration": 5599,
    "start_time": "2021-07-05T17:19:41.415Z"
   },
   {
    "duration": 18565,
    "start_time": "2021-07-05T17:19:53.794Z"
   },
   {
    "duration": 1130,
    "start_time": "2021-07-05T17:20:12.362Z"
   },
   {
    "duration": 3097,
    "start_time": "2021-07-05T17:20:18.814Z"
   },
   {
    "duration": 33743,
    "start_time": "2021-07-05T17:20:24.473Z"
   },
   {
    "duration": 2817352,
    "start_time": "2021-07-05T17:21:21.682Z"
   },
   {
    "duration": 30421,
    "start_time": "2021-07-05T18:13:09.335Z"
   },
   {
    "duration": 47,
    "start_time": "2021-07-05T18:16:01.954Z"
   },
   {
    "duration": 12,
    "start_time": "2021-07-05T18:16:14.331Z"
   },
   {
    "duration": 6,
    "start_time": "2021-07-05T18:19:53.699Z"
   },
   {
    "duration": 5,
    "start_time": "2021-07-05T18:21:31.885Z"
   },
   {
    "duration": 776,
    "start_time": "2021-07-05T18:22:07.386Z"
   },
   {
    "duration": 622,
    "start_time": "2021-07-05T18:22:51.071Z"
   },
   {
    "duration": 604,
    "start_time": "2021-07-05T18:22:55.274Z"
   },
   {
    "duration": 115,
    "start_time": "2021-07-05T18:23:00.120Z"
   },
   {
    "duration": 83502,
    "start_time": "2021-07-05T18:23:04.700Z"
   },
   {
    "duration": 5,
    "start_time": "2021-07-05T18:24:47.715Z"
   },
   {
    "duration": 626,
    "start_time": "2021-07-05T18:24:50.673Z"
   },
   {
    "duration": 84275,
    "start_time": "2021-07-05T18:25:05.156Z"
   },
   {
    "duration": 40,
    "start_time": "2021-07-05T18:34:19.454Z"
   },
   {
    "duration": 38,
    "start_time": "2021-07-05T18:36:11.403Z"
   },
   {
    "duration": 7,
    "start_time": "2021-07-05T18:36:34.923Z"
   },
   {
    "duration": 10,
    "start_time": "2021-07-05T18:36:55.367Z"
   },
   {
    "duration": 6,
    "start_time": "2021-07-05T18:36:59.964Z"
   },
   {
    "duration": 43,
    "start_time": "2021-07-05T18:37:40.347Z"
   },
   {
    "duration": 164065,
    "start_time": "2021-07-05T18:39:51.527Z"
   },
   {
    "duration": 837,
    "start_time": "2021-07-05T18:43:12.641Z"
   },
   {
    "duration": 6,
    "start_time": "2021-07-05T18:43:16.907Z"
   },
   {
    "duration": 321,
    "start_time": "2021-07-05T18:43:38.392Z"
   },
   {
    "duration": 45451,
    "start_time": "2021-07-05T18:44:48.270Z"
   },
   {
    "duration": 6,
    "start_time": "2021-07-05T18:47:28.301Z"
   },
   {
    "duration": 130467,
    "start_time": "2021-07-05T18:47:37.408Z"
   },
   {
    "duration": -72,
    "start_time": "2021-07-05T18:49:47.950Z"
   },
   {
    "duration": 45,
    "start_time": "2021-07-05T18:50:24.853Z"
   },
   {
    "duration": 5,
    "start_time": "2021-07-05T18:51:17.441Z"
   },
   {
    "duration": 22733,
    "start_time": "2021-07-05T18:51:19.899Z"
   },
   {
    "duration": 7,
    "start_time": "2021-07-05T18:51:53.848Z"
   },
   {
    "duration": 31349,
    "start_time": "2021-07-05T18:52:05.585Z"
   },
   {
    "duration": 8,
    "start_time": "2021-07-05T18:53:54.000Z"
   },
   {
    "duration": 6,
    "start_time": "2021-07-05T18:54:56.165Z"
   },
   {
    "duration": 1950,
    "start_time": "2021-07-05T18:58:37.116Z"
   },
   {
    "duration": 1347,
    "start_time": "2021-07-05T18:58:39.070Z"
   },
   {
    "duration": 47,
    "start_time": "2021-07-05T18:58:40.421Z"
   },
   {
    "duration": 17,
    "start_time": "2021-07-05T18:58:40.471Z"
   },
   {
    "duration": 73,
    "start_time": "2021-07-05T18:58:40.491Z"
   },
   {
    "duration": 23,
    "start_time": "2021-07-05T18:58:40.585Z"
   },
   {
    "duration": 9,
    "start_time": "2021-07-05T18:58:40.611Z"
   },
   {
    "duration": 14,
    "start_time": "2021-07-05T18:58:40.624Z"
   },
   {
    "duration": 15,
    "start_time": "2021-07-05T18:58:40.640Z"
   },
   {
    "duration": 28,
    "start_time": "2021-07-05T18:58:40.658Z"
   },
   {
    "duration": 27,
    "start_time": "2021-07-05T18:58:40.689Z"
   },
   {
    "duration": 31,
    "start_time": "2021-07-05T18:58:40.719Z"
   },
   {
    "duration": 18,
    "start_time": "2021-07-05T18:58:40.753Z"
   },
   {
    "duration": 11,
    "start_time": "2021-07-05T18:58:41.064Z"
   },
   {
    "duration": 29,
    "start_time": "2021-07-05T18:58:41.682Z"
   },
   {
    "duration": 15,
    "start_time": "2021-07-05T18:58:42.229Z"
   },
   {
    "duration": 8,
    "start_time": "2021-07-05T18:58:42.256Z"
   },
   {
    "duration": 14,
    "start_time": "2021-07-05T18:58:42.317Z"
   },
   {
    "duration": 21,
    "start_time": "2021-07-05T18:58:42.428Z"
   },
   {
    "duration": 7,
    "start_time": "2021-07-05T18:58:42.538Z"
   },
   {
    "duration": 9,
    "start_time": "2021-07-05T18:58:42.571Z"
   },
   {
    "duration": 3706,
    "start_time": "2021-07-05T18:58:42.603Z"
   },
   {
    "duration": 3951,
    "start_time": "2021-07-05T18:58:46.312Z"
   },
   {
    "duration": 3651,
    "start_time": "2021-07-05T18:58:50.266Z"
   },
   {
    "duration": 5,
    "start_time": "2021-07-05T18:58:53.920Z"
   },
   {
    "duration": 1077,
    "start_time": "2021-07-05T18:58:53.928Z"
   },
   {
    "duration": 9,
    "start_time": "2021-07-05T18:58:55.007Z"
   },
   {
    "duration": 4597,
    "start_time": "2021-07-05T18:58:55.019Z"
   },
   {
    "duration": 2858,
    "start_time": "2021-07-05T18:58:59.621Z"
   },
   {
    "duration": 5,
    "start_time": "2021-07-05T18:59:02.485Z"
   },
   {
    "duration": 285,
    "start_time": "2021-07-05T18:59:02.492Z"
   },
   {
    "duration": 14,
    "start_time": "2021-07-05T18:59:02.780Z"
   },
   {
    "duration": 7,
    "start_time": "2021-07-05T18:59:02.797Z"
   },
   {
    "duration": 40,
    "start_time": "2021-07-05T18:59:02.807Z"
   },
   {
    "duration": 38,
    "start_time": "2021-07-05T18:59:02.849Z"
   },
   {
    "duration": 28,
    "start_time": "2021-07-05T18:59:02.890Z"
   },
   {
    "duration": 29,
    "start_time": "2021-07-05T18:59:02.921Z"
   },
   {
    "duration": 5,
    "start_time": "2021-07-05T18:59:02.952Z"
   },
   {
    "duration": 49,
    "start_time": "2021-07-05T18:59:15.118Z"
   },
   {
    "duration": 3,
    "start_time": "2021-07-05T18:59:15.848Z"
   },
   {
    "duration": 3093,
    "start_time": "2021-07-05T18:59:16.451Z"
   },
   {
    "duration": 18009,
    "start_time": "2021-07-05T18:59:19.547Z"
   },
   {
    "duration": 1629,
    "start_time": "2021-07-05T18:59:37.559Z"
   },
   {
    "duration": 28837,
    "start_time": "2021-07-05T18:59:39.191Z"
   },
   {
    "duration": 5,
    "start_time": "2021-07-05T19:00:08.030Z"
   },
   {
    "duration": 21,
    "start_time": "2021-07-05T19:00:08.038Z"
   },
   {
    "duration": 7,
    "start_time": "2021-07-05T19:00:08.062Z"
   },
   {
    "duration": 128826,
    "start_time": "2021-07-05T19:00:08.086Z"
   },
   {
    "duration": 47,
    "start_time": "2021-07-05T19:02:36.368Z"
   },
   {
    "duration": 13,
    "start_time": "2021-07-05T19:02:39.865Z"
   },
   {
    "duration": 1557,
    "start_time": "2021-07-05T19:22:25.177Z"
   },
   {
    "duration": 939,
    "start_time": "2021-07-05T19:22:26.736Z"
   },
   {
    "duration": 36,
    "start_time": "2021-07-05T19:22:27.679Z"
   },
   {
    "duration": 3,
    "start_time": "2021-07-05T19:22:27.719Z"
   },
   {
    "duration": 93,
    "start_time": "2021-07-05T19:22:27.724Z"
   },
   {
    "duration": 22,
    "start_time": "2021-07-05T19:22:27.819Z"
   },
   {
    "duration": 4,
    "start_time": "2021-07-05T19:22:27.843Z"
   },
   {
    "duration": 37,
    "start_time": "2021-07-05T19:22:27.851Z"
   },
   {
    "duration": 12,
    "start_time": "2021-07-05T19:22:27.892Z"
   },
   {
    "duration": 19,
    "start_time": "2021-07-05T19:22:27.907Z"
   },
   {
    "duration": 27,
    "start_time": "2021-07-05T19:22:27.929Z"
   },
   {
    "duration": 17,
    "start_time": "2021-07-05T19:22:27.959Z"
   },
   {
    "duration": 12,
    "start_time": "2021-07-05T19:22:27.979Z"
   },
   {
    "duration": 19,
    "start_time": "2021-07-05T19:22:27.993Z"
   },
   {
    "duration": 32,
    "start_time": "2021-07-05T19:22:28.017Z"
   },
   {
    "duration": 39,
    "start_time": "2021-07-05T19:22:28.052Z"
   },
   {
    "duration": 8,
    "start_time": "2021-07-05T19:22:28.094Z"
   },
   {
    "duration": 24,
    "start_time": "2021-07-05T19:22:28.104Z"
   },
   {
    "duration": 19,
    "start_time": "2021-07-05T19:22:28.130Z"
   },
   {
    "duration": 34,
    "start_time": "2021-07-05T19:22:28.151Z"
   },
   {
    "duration": 10,
    "start_time": "2021-07-05T19:22:28.188Z"
   },
   {
    "duration": 3488,
    "start_time": "2021-07-05T19:22:28.200Z"
   },
   {
    "duration": 3559,
    "start_time": "2021-07-05T19:22:31.694Z"
   },
   {
    "duration": 3508,
    "start_time": "2021-07-05T19:22:35.257Z"
   },
   {
    "duration": 16,
    "start_time": "2021-07-05T19:22:38.769Z"
   },
   {
    "duration": 1120,
    "start_time": "2021-07-05T19:22:38.788Z"
   },
   {
    "duration": 8,
    "start_time": "2021-07-05T19:22:39.911Z"
   },
   {
    "duration": 3082,
    "start_time": "2021-07-05T19:22:39.921Z"
   },
   {
    "duration": 1702,
    "start_time": "2021-07-05T19:22:43.005Z"
   },
   {
    "duration": 5,
    "start_time": "2021-07-05T19:22:44.710Z"
   },
   {
    "duration": 276,
    "start_time": "2021-07-05T19:22:44.717Z"
   },
   {
    "duration": 15,
    "start_time": "2021-07-05T19:22:44.996Z"
   },
   {
    "duration": 18,
    "start_time": "2021-07-05T19:22:45.014Z"
   },
   {
    "duration": 59,
    "start_time": "2021-07-05T19:22:45.034Z"
   },
   {
    "duration": 6,
    "start_time": "2021-07-05T19:22:45.096Z"
   },
   {
    "duration": 30,
    "start_time": "2021-07-05T19:22:45.104Z"
   },
   {
    "duration": 51,
    "start_time": "2021-07-05T19:22:45.136Z"
   },
   {
    "duration": 6,
    "start_time": "2021-07-05T19:22:45.189Z"
   },
   {
    "duration": 54,
    "start_time": "2021-07-05T19:22:45.198Z"
   },
   {
    "duration": 31,
    "start_time": "2021-07-05T19:22:45.255Z"
   },
   {
    "duration": 3040,
    "start_time": "2021-07-05T19:22:45.289Z"
   },
   {
    "duration": 18044,
    "start_time": "2021-07-05T19:22:48.332Z"
   },
   {
    "duration": 1116,
    "start_time": "2021-07-05T19:23:06.378Z"
   },
   {
    "duration": 28510,
    "start_time": "2021-07-05T19:23:07.497Z"
   },
   {
    "duration": 5,
    "start_time": "2021-07-05T19:23:36.010Z"
   },
   {
    "duration": 15,
    "start_time": "2021-07-05T19:23:36.018Z"
   },
   {
    "duration": 13,
    "start_time": "2021-07-05T19:23:36.036Z"
   },
   {
    "duration": 127009,
    "start_time": "2021-07-05T19:23:36.052Z"
   },
   {
    "duration": 55,
    "start_time": "2021-07-05T19:25:43.063Z"
   },
   {
    "duration": 13,
    "start_time": "2021-07-05T19:25:43.120Z"
   },
   {
    "duration": 1052,
    "start_time": "2021-07-06T14:13:45.014Z"
   },
   {
    "duration": 934,
    "start_time": "2021-07-06T14:13:47.498Z"
   },
   {
    "duration": -463,
    "start_time": "2021-07-06T14:13:48.897Z"
   },
   {
    "duration": 679,
    "start_time": "2021-07-06T14:14:37.426Z"
   },
   {
    "duration": 22,
    "start_time": "2021-07-06T14:14:40.250Z"
   },
   {
    "duration": 3,
    "start_time": "2021-07-06T14:14:41.864Z"
   },
   {
    "duration": 35,
    "start_time": "2021-07-06T14:14:44.906Z"
   },
   {
    "duration": 13,
    "start_time": "2021-07-06T14:14:54.833Z"
   },
   {
    "duration": 3,
    "start_time": "2021-07-06T14:14:55.392Z"
   },
   {
    "duration": 4,
    "start_time": "2021-07-06T14:14:55.586Z"
   },
   {
    "duration": 3,
    "start_time": "2021-07-06T14:14:55.792Z"
   },
   {
    "duration": 4,
    "start_time": "2021-07-06T14:14:55.990Z"
   },
   {
    "duration": 7,
    "start_time": "2021-07-06T14:14:56.247Z"
   },
   {
    "duration": 12,
    "start_time": "2021-07-06T14:14:56.422Z"
   },
   {
    "duration": 5,
    "start_time": "2021-07-06T14:14:56.577Z"
   },
   {
    "duration": 6,
    "start_time": "2021-07-06T14:14:57.246Z"
   },
   {
    "duration": 15,
    "start_time": "2021-07-06T14:14:57.904Z"
   },
   {
    "duration": 10,
    "start_time": "2021-07-06T14:14:58.248Z"
   },
   {
    "duration": 6,
    "start_time": "2021-07-06T14:14:58.433Z"
   },
   {
    "duration": 10,
    "start_time": "2021-07-06T14:14:59.656Z"
   },
   {
    "duration": 13,
    "start_time": "2021-07-06T14:15:00.099Z"
   },
   {
    "duration": 5,
    "start_time": "2021-07-06T14:15:01.264Z"
   },
   {
    "duration": 7,
    "start_time": "2021-07-06T14:15:01.455Z"
   },
   {
    "duration": 2124,
    "start_time": "2021-07-06T14:15:01.650Z"
   },
   {
    "duration": 2204,
    "start_time": "2021-07-06T14:15:03.776Z"
   },
   {
    "duration": 2146,
    "start_time": "2021-07-06T14:15:05.981Z"
   },
   {
    "duration": 3,
    "start_time": "2021-07-06T14:15:08.129Z"
   },
   {
    "duration": 638,
    "start_time": "2021-07-06T14:15:08.133Z"
   },
   {
    "duration": 14,
    "start_time": "2021-07-06T14:15:08.773Z"
   },
   {
    "duration": 1811,
    "start_time": "2021-07-06T14:15:08.788Z"
   },
   {
    "duration": 1015,
    "start_time": "2021-07-06T14:15:10.601Z"
   },
   {
    "duration": 3,
    "start_time": "2021-07-06T14:15:11.618Z"
   },
   {
    "duration": 184,
    "start_time": "2021-07-06T14:15:11.622Z"
   },
   {
    "duration": 9,
    "start_time": "2021-07-06T14:15:11.808Z"
   },
   {
    "duration": 63,
    "start_time": "2021-07-06T14:15:11.819Z"
   },
   {
    "duration": -433,
    "start_time": "2021-07-06T14:15:12.317Z"
   },
   {
    "duration": -435,
    "start_time": "2021-07-06T14:15:12.321Z"
   },
   {
    "duration": 3,
    "start_time": "2021-07-06T14:15:23.989Z"
   },
   {
    "duration": 19,
    "start_time": "2021-07-06T14:15:26.212Z"
   },
   {
    "duration": 4,
    "start_time": "2021-07-06T14:15:31.526Z"
   },
   {
    "duration": 9,
    "start_time": "2021-07-06T14:15:32.232Z"
   },
   {
    "duration": 16,
    "start_time": "2021-07-06T14:15:33.335Z"
   },
   {
    "duration": 4,
    "start_time": "2021-07-06T14:15:33.813Z"
   },
   {
    "duration": 34,
    "start_time": "2021-07-06T14:15:36.238Z"
   },
   {
    "duration": 2,
    "start_time": "2021-07-06T14:15:39.454Z"
   },
   {
    "duration": 2301,
    "start_time": "2021-07-06T14:15:40.656Z"
   },
   {
    "duration": 13167,
    "start_time": "2021-07-06T14:15:42.959Z"
   },
   {
    "duration": 758,
    "start_time": "2021-07-06T14:15:56.128Z"
   },
   {
    "duration": 21339,
    "start_time": "2021-07-06T14:15:56.888Z"
   },
   {
    "duration": 4,
    "start_time": "2021-07-06T14:16:18.228Z"
   },
   {
    "duration": 14,
    "start_time": "2021-07-06T14:16:18.233Z"
   },
   {
    "duration": 5,
    "start_time": "2021-07-06T14:16:18.248Z"
   },
   {
    "duration": 92538,
    "start_time": "2021-07-06T14:16:18.255Z"
   },
   {
    "duration": 29,
    "start_time": "2021-07-06T14:17:50.795Z"
   },
   {
    "duration": 7,
    "start_time": "2021-07-06T14:18:30.977Z"
   },
   {
    "duration": 9,
    "start_time": "2021-07-06T14:18:51.067Z"
   },
   {
    "duration": 1100,
    "start_time": "2021-07-06T14:26:38.049Z"
   },
   {
    "duration": 689,
    "start_time": "2021-07-06T14:26:39.151Z"
   },
   {
    "duration": 23,
    "start_time": "2021-07-06T14:26:39.842Z"
   },
   {
    "duration": 2,
    "start_time": "2021-07-06T14:26:39.867Z"
   },
   {
    "duration": 47,
    "start_time": "2021-07-06T14:26:39.871Z"
   },
   {
    "duration": 14,
    "start_time": "2021-07-06T14:26:40.498Z"
   },
   {
    "duration": 4,
    "start_time": "2021-07-06T14:26:40.780Z"
   },
   {
    "duration": 4,
    "start_time": "2021-07-06T14:26:41.286Z"
   },
   {
    "duration": 3,
    "start_time": "2021-07-06T14:26:41.316Z"
   },
   {
    "duration": 3,
    "start_time": "2021-07-06T14:26:41.350Z"
   },
   {
    "duration": 6,
    "start_time": "2021-07-06T14:26:41.381Z"
   },
   {
    "duration": 11,
    "start_time": "2021-07-06T14:26:41.414Z"
   },
   {
    "duration": 5,
    "start_time": "2021-07-06T14:26:41.446Z"
   },
   {
    "duration": 6,
    "start_time": "2021-07-06T14:26:41.565Z"
   },
   {
    "duration": 20,
    "start_time": "2021-07-06T14:26:41.743Z"
   },
   {
    "duration": 13,
    "start_time": "2021-07-06T14:26:41.798Z"
   },
   {
    "duration": 6,
    "start_time": "2021-07-06T14:26:41.829Z"
   },
   {
    "duration": 12,
    "start_time": "2021-07-06T14:26:41.884Z"
   },
   {
    "duration": 16,
    "start_time": "2021-07-06T14:26:41.937Z"
   },
   {
    "duration": 5,
    "start_time": "2021-07-06T14:26:42.067Z"
   },
   {
    "duration": 6,
    "start_time": "2021-07-06T14:26:42.099Z"
   },
   {
    "duration": 2170,
    "start_time": "2021-07-06T14:26:42.137Z"
   },
   {
    "duration": 2207,
    "start_time": "2021-07-06T14:26:44.309Z"
   },
   {
    "duration": 2212,
    "start_time": "2021-07-06T14:26:46.518Z"
   },
   {
    "duration": 4,
    "start_time": "2021-07-06T14:26:48.731Z"
   },
   {
    "duration": 644,
    "start_time": "2021-07-06T14:26:48.736Z"
   },
   {
    "duration": 4,
    "start_time": "2021-07-06T14:26:49.384Z"
   },
   {
    "duration": 1808,
    "start_time": "2021-07-06T14:26:49.390Z"
   },
   {
    "duration": 1070,
    "start_time": "2021-07-06T14:26:51.200Z"
   },
   {
    "duration": 4,
    "start_time": "2021-07-06T14:26:52.272Z"
   },
   {
    "duration": 171,
    "start_time": "2021-07-06T14:26:52.285Z"
   },
   {
    "duration": 10,
    "start_time": "2021-07-06T14:26:52.458Z"
   },
   {
    "duration": 16,
    "start_time": "2021-07-06T14:26:52.470Z"
   },
   {
    "duration": 29,
    "start_time": "2021-07-06T14:26:52.488Z"
   },
   {
    "duration": 4,
    "start_time": "2021-07-06T14:26:52.519Z"
   },
   {
    "duration": 13,
    "start_time": "2021-07-06T14:26:52.525Z"
   },
   {
    "duration": 16,
    "start_time": "2021-07-06T14:26:54.062Z"
   },
   {
    "duration": 271,
    "start_time": "2021-07-06T14:26:54.437Z"
   },
   {
    "duration": 5,
    "start_time": "2021-07-06T14:27:04.937Z"
   },
   {
    "duration": 5,
    "start_time": "2021-07-06T14:27:15.513Z"
   },
   {
    "duration": 37,
    "start_time": "2021-07-06T14:27:22.298Z"
   },
   {
    "duration": 3,
    "start_time": "2021-07-06T14:27:25.069Z"
   },
   {
    "duration": 3542,
    "start_time": "2021-07-06T14:27:27.819Z"
   },
   {
    "duration": 21261,
    "start_time": "2021-07-06T14:27:31.363Z"
   },
   {
    "duration": 1360,
    "start_time": "2021-07-06T14:27:52.626Z"
   },
   {
    "duration": 1069,
    "start_time": "2021-07-06T14:28:33.347Z"
   },
   {
    "duration": 728,
    "start_time": "2021-07-06T14:28:34.418Z"
   },
   {
    "duration": 39,
    "start_time": "2021-07-06T14:28:35.148Z"
   },
   {
    "duration": 2,
    "start_time": "2021-07-06T14:28:35.189Z"
   },
   {
    "duration": 41,
    "start_time": "2021-07-06T14:28:35.193Z"
   },
   {
    "duration": 14,
    "start_time": "2021-07-06T14:28:35.235Z"
   },
   {
    "duration": 5,
    "start_time": "2021-07-06T14:28:35.251Z"
   },
   {
    "duration": 26,
    "start_time": "2021-07-06T14:28:35.258Z"
   },
   {
    "duration": 4,
    "start_time": "2021-07-06T14:28:35.286Z"
   },
   {
    "duration": 8,
    "start_time": "2021-07-06T14:28:35.292Z"
   },
   {
    "duration": 12,
    "start_time": "2021-07-06T14:28:35.302Z"
   },
   {
    "duration": 16,
    "start_time": "2021-07-06T14:28:35.315Z"
   },
   {
    "duration": 9,
    "start_time": "2021-07-06T14:28:35.332Z"
   },
   {
    "duration": 44,
    "start_time": "2021-07-06T14:28:35.343Z"
   },
   {
    "duration": 17,
    "start_time": "2021-07-06T14:28:35.388Z"
   },
   {
    "duration": 9,
    "start_time": "2021-07-06T14:28:35.406Z"
   },
   {
    "duration": 6,
    "start_time": "2021-07-06T14:28:35.417Z"
   },
   {
    "duration": 12,
    "start_time": "2021-07-06T14:28:35.425Z"
   },
   {
    "duration": 53,
    "start_time": "2021-07-06T14:28:35.438Z"
   },
   {
    "duration": 5,
    "start_time": "2021-07-06T14:28:35.493Z"
   },
   {
    "duration": 10,
    "start_time": "2021-07-06T14:28:35.499Z"
   },
   {
    "duration": 2251,
    "start_time": "2021-07-06T14:28:35.510Z"
   },
   {
    "duration": 2296,
    "start_time": "2021-07-06T14:28:37.763Z"
   },
   {
    "duration": 2268,
    "start_time": "2021-07-06T14:28:40.061Z"
   },
   {
    "duration": 4,
    "start_time": "2021-07-06T14:28:42.331Z"
   },
   {
    "duration": 661,
    "start_time": "2021-07-06T14:28:42.336Z"
   },
   {
    "duration": 5,
    "start_time": "2021-07-06T14:28:42.999Z"
   },
   {
    "duration": 1872,
    "start_time": "2021-07-06T14:28:43.006Z"
   },
   {
    "duration": 1105,
    "start_time": "2021-07-06T14:28:44.880Z"
   },
   {
    "duration": 4,
    "start_time": "2021-07-06T14:28:45.988Z"
   },
   {
    "duration": 185,
    "start_time": "2021-07-06T14:28:45.994Z"
   },
   {
    "duration": 11,
    "start_time": "2021-07-06T14:28:46.184Z"
   },
   {
    "duration": 5,
    "start_time": "2021-07-06T14:28:46.197Z"
   },
   {
    "duration": 23,
    "start_time": "2021-07-06T14:28:46.203Z"
   },
   {
    "duration": 5,
    "start_time": "2021-07-06T14:28:47.545Z"
   },
   {
    "duration": 12,
    "start_time": "2021-07-06T14:28:48.067Z"
   },
   {
    "duration": 15,
    "start_time": "2021-07-06T14:28:49.004Z"
   },
   {
    "duration": 3,
    "start_time": "2021-07-06T14:28:53.414Z"
   },
   {
    "duration": 3636,
    "start_time": "2021-07-06T14:29:04.519Z"
   },
   {
    "duration": 21382,
    "start_time": "2021-07-06T14:29:11.842Z"
   },
   {
    "duration": 1254,
    "start_time": "2021-07-06T14:29:37.036Z"
   },
   {
    "duration": 4467,
    "start_time": "2021-07-06T14:29:54.424Z"
   },
   {
    "duration": 1101,
    "start_time": "2021-07-06T14:30:14.683Z"
   },
   {
    "duration": 1457,
    "start_time": "2021-07-06T14:30:29.831Z"
   },
   {
    "duration": 1144,
    "start_time": "2021-07-06T14:30:44.051Z"
   },
   {
    "duration": 21260,
    "start_time": "2021-07-06T14:32:33.500Z"
   },
   {
    "duration": 22144,
    "start_time": "2021-07-06T14:34:20.340Z"
   },
   {
    "duration": 21518,
    "start_time": "2021-07-06T14:35:11.299Z"
   },
   {
    "duration": 35098,
    "start_time": "2021-07-06T14:36:15.036Z"
   },
   {
    "duration": 282,
    "start_time": "2021-07-06T14:37:07.833Z"
   },
   {
    "duration": 16,
    "start_time": "2021-07-06T14:37:25.683Z"
   },
   {
    "duration": 5,
    "start_time": "2021-07-06T14:37:27.137Z"
   },
   {
    "duration": 22845,
    "start_time": "2021-07-06T14:37:33.879Z"
   },
   {
    "duration": 820,
    "start_time": "2021-07-06T14:38:10.772Z"
   },
   {
    "duration": 1798,
    "start_time": "2021-07-06T14:38:14.788Z"
   },
   {
    "duration": 1081,
    "start_time": "2021-07-06T14:38:19.105Z"
   },
   {
    "duration": 37,
    "start_time": "2021-07-06T14:43:13.519Z"
   },
   {
    "duration": 23469,
    "start_time": "2021-07-06T14:43:15.806Z"
   },
   {
    "duration": 1143,
    "start_time": "2021-07-06T14:44:28.181Z"
   },
   {
    "duration": 698,
    "start_time": "2021-07-06T14:44:29.326Z"
   },
   {
    "duration": 27,
    "start_time": "2021-07-06T14:44:30.026Z"
   },
   {
    "duration": 3,
    "start_time": "2021-07-06T14:44:30.055Z"
   },
   {
    "duration": 57,
    "start_time": "2021-07-06T14:44:30.060Z"
   },
   {
    "duration": 15,
    "start_time": "2021-07-06T14:44:30.119Z"
   },
   {
    "duration": 4,
    "start_time": "2021-07-06T14:44:30.184Z"
   },
   {
    "duration": 5,
    "start_time": "2021-07-06T14:44:30.334Z"
   },
   {
    "duration": 4,
    "start_time": "2021-07-06T14:44:30.497Z"
   },
   {
    "duration": 7,
    "start_time": "2021-07-06T14:44:30.663Z"
   },
   {
    "duration": 7,
    "start_time": "2021-07-06T14:44:30.818Z"
   },
   {
    "duration": 14,
    "start_time": "2021-07-06T14:44:30.988Z"
   },
   {
    "duration": 5,
    "start_time": "2021-07-06T14:44:31.153Z"
   },
   {
    "duration": 7,
    "start_time": "2021-07-06T14:44:31.817Z"
   },
   {
    "duration": 17,
    "start_time": "2021-07-06T14:44:32.484Z"
   },
   {
    "duration": 10,
    "start_time": "2021-07-06T14:44:32.806Z"
   },
   {
    "duration": 6,
    "start_time": "2021-07-06T14:44:32.964Z"
   },
   {
    "duration": 12,
    "start_time": "2021-07-06T14:44:33.303Z"
   },
   {
    "duration": 14,
    "start_time": "2021-07-06T14:44:33.623Z"
   },
   {
    "duration": 5,
    "start_time": "2021-07-06T14:44:34.479Z"
   },
   {
    "duration": 10,
    "start_time": "2021-07-06T14:44:34.672Z"
   },
   {
    "duration": 2324,
    "start_time": "2021-07-06T14:44:34.910Z"
   },
   {
    "duration": 2393,
    "start_time": "2021-07-06T14:44:37.236Z"
   },
   {
    "duration": 2263,
    "start_time": "2021-07-06T14:44:39.631Z"
   },
   {
    "duration": 4,
    "start_time": "2021-07-06T14:44:41.896Z"
   },
   {
    "duration": 674,
    "start_time": "2021-07-06T14:44:41.902Z"
   },
   {
    "duration": 6,
    "start_time": "2021-07-06T14:44:42.584Z"
   },
   {
    "duration": 1906,
    "start_time": "2021-07-06T14:44:42.592Z"
   },
   {
    "duration": 1162,
    "start_time": "2021-07-06T14:44:44.500Z"
   },
   {
    "duration": 3,
    "start_time": "2021-07-06T14:44:45.664Z"
   },
   {
    "duration": 179,
    "start_time": "2021-07-06T14:44:45.669Z"
   },
   {
    "duration": 12,
    "start_time": "2021-07-06T14:44:45.850Z"
   },
   {
    "duration": 21,
    "start_time": "2021-07-06T14:44:45.865Z"
   },
   {
    "duration": 27,
    "start_time": "2021-07-06T14:44:49.562Z"
   },
   {
    "duration": 4,
    "start_time": "2021-07-06T14:44:52.214Z"
   },
   {
    "duration": 11,
    "start_time": "2021-07-06T14:44:54.256Z"
   },
   {
    "duration": 24,
    "start_time": "2021-07-06T14:44:57.291Z"
   },
   {
    "duration": 5,
    "start_time": "2021-07-06T14:45:00.775Z"
   },
   {
    "duration": 23587,
    "start_time": "2021-07-06T14:45:14.567Z"
   },
   {
    "duration": 3,
    "start_time": "2021-07-06T14:45:38.155Z"
   },
   {
    "duration": 4,
    "start_time": "2021-07-06T14:45:58.691Z"
   },
   {
    "duration": 63610,
    "start_time": "2021-07-06T14:46:03.544Z"
   },
   {
    "duration": 34,
    "start_time": "2021-07-06T14:47:15.244Z"
   },
   {
    "duration": 8,
    "start_time": "2021-07-06T14:47:18.038Z"
   },
   {
    "duration": 8,
    "start_time": "2021-07-06T14:47:32.012Z"
   },
   {
    "duration": 80108,
    "start_time": "2021-07-06T14:48:51.276Z"
   },
   {
    "duration": 35,
    "start_time": "2021-07-06T14:50:16.506Z"
   },
   {
    "duration": 8,
    "start_time": "2021-07-06T14:50:25.281Z"
   },
   {
    "duration": 1124,
    "start_time": "2021-07-06T14:50:55.402Z"
   },
   {
    "duration": 732,
    "start_time": "2021-07-06T14:50:56.528Z"
   },
   {
    "duration": 33,
    "start_time": "2021-07-06T14:50:57.262Z"
   },
   {
    "duration": 3,
    "start_time": "2021-07-06T14:50:57.296Z"
   },
   {
    "duration": 39,
    "start_time": "2021-07-06T14:50:57.300Z"
   },
   {
    "duration": 15,
    "start_time": "2021-07-06T14:50:58.613Z"
   },
   {
    "duration": 3,
    "start_time": "2021-07-06T14:50:59.030Z"
   },
   {
    "duration": 4,
    "start_time": "2021-07-06T14:50:59.208Z"
   },
   {
    "duration": 3,
    "start_time": "2021-07-06T14:50:59.432Z"
   },
   {
    "duration": 4,
    "start_time": "2021-07-06T14:50:59.648Z"
   },
   {
    "duration": 7,
    "start_time": "2021-07-06T14:50:59.860Z"
   },
   {
    "duration": 14,
    "start_time": "2021-07-06T14:51:00.034Z"
   },
   {
    "duration": 4,
    "start_time": "2021-07-06T14:51:00.201Z"
   },
   {
    "duration": 6,
    "start_time": "2021-07-06T14:51:00.882Z"
   },
   {
    "duration": 17,
    "start_time": "2021-07-06T14:51:01.894Z"
   },
   {
    "duration": 10,
    "start_time": "2021-07-06T14:51:02.499Z"
   },
   {
    "duration": 6,
    "start_time": "2021-07-06T14:51:02.873Z"
   },
   {
    "duration": 11,
    "start_time": "2021-07-06T14:51:03.252Z"
   },
   {
    "duration": 14,
    "start_time": "2021-07-06T14:51:04.649Z"
   },
   {
    "duration": 5,
    "start_time": "2021-07-06T14:51:05.780Z"
   },
   {
    "duration": 8,
    "start_time": "2021-07-06T14:51:06.160Z"
   },
   {
    "duration": 2182,
    "start_time": "2021-07-06T14:51:06.365Z"
   },
   {
    "duration": 2240,
    "start_time": "2021-07-06T14:51:08.682Z"
   },
   {
    "duration": 2281,
    "start_time": "2021-07-06T14:51:10.924Z"
   },
   {
    "duration": 3,
    "start_time": "2021-07-06T14:51:13.207Z"
   },
   {
    "duration": 645,
    "start_time": "2021-07-06T14:51:13.212Z"
   },
   {
    "duration": 4,
    "start_time": "2021-07-06T14:51:13.859Z"
   },
   {
    "duration": 1886,
    "start_time": "2021-07-06T14:51:13.865Z"
   },
   {
    "duration": 1041,
    "start_time": "2021-07-06T14:51:15.753Z"
   },
   {
    "duration": 3,
    "start_time": "2021-07-06T14:51:16.797Z"
   },
   {
    "duration": 168,
    "start_time": "2021-07-06T14:51:16.801Z"
   },
   {
    "duration": 16,
    "start_time": "2021-07-06T14:51:16.971Z"
   },
   {
    "duration": 27,
    "start_time": "2021-07-06T14:51:23.277Z"
   },
   {
    "duration": 4,
    "start_time": "2021-07-06T14:51:25.648Z"
   },
   {
    "duration": 11,
    "start_time": "2021-07-06T14:51:27.866Z"
   },
   {
    "duration": 55,
    "start_time": "2021-07-06T14:51:37.283Z"
   },
   {
    "duration": 16,
    "start_time": "2021-07-06T14:52:03.634Z"
   },
   {
    "duration": 2,
    "start_time": "2021-07-06T14:52:09.336Z"
   },
   {
    "duration": 907,
    "start_time": "2021-07-06T14:52:15.690Z"
   },
   {
    "duration": 35002,
    "start_time": "2021-07-06T14:52:19.530Z"
   },
   {
    "duration": 3,
    "start_time": "2021-07-06T14:52:59.785Z"
   },
   {
    "duration": 93440,
    "start_time": "2021-07-06T14:53:00.234Z"
   },
   {
    "duration": 30,
    "start_time": "2021-07-06T14:54:41.803Z"
   },
   {
    "duration": 8,
    "start_time": "2021-07-06T14:54:48.147Z"
   },
   {
    "duration": 7425,
    "start_time": "2021-07-06T14:55:46.114Z"
   },
   {
    "duration": 35247,
    "start_time": "2021-07-06T14:56:15.320Z"
   },
   {
    "duration": 30,
    "start_time": "2021-07-06T14:57:14.276Z"
   },
   {
    "duration": 9,
    "start_time": "2021-07-06T14:57:17.641Z"
   },
   {
    "duration": 5,
    "start_time": "2021-07-06T15:00:43.739Z"
   },
   {
    "duration": 7,
    "start_time": "2021-07-06T15:00:54.323Z"
   },
   {
    "duration": 8,
    "start_time": "2021-07-06T15:01:22.608Z"
   },
   {
    "duration": 1083,
    "start_time": "2021-07-06T15:04:17.830Z"
   },
   {
    "duration": 754,
    "start_time": "2021-07-06T15:04:18.915Z"
   },
   {
    "duration": 24,
    "start_time": "2021-07-06T15:04:19.671Z"
   },
   {
    "duration": 2,
    "start_time": "2021-07-06T15:04:19.697Z"
   },
   {
    "duration": 38,
    "start_time": "2021-07-06T15:04:19.701Z"
   },
   {
    "duration": 15,
    "start_time": "2021-07-06T15:04:20.404Z"
   },
   {
    "duration": 3,
    "start_time": "2021-07-06T15:04:20.739Z"
   },
   {
    "duration": 4,
    "start_time": "2021-07-06T15:04:21.249Z"
   },
   {
    "duration": 3,
    "start_time": "2021-07-06T15:04:21.280Z"
   },
   {
    "duration": 4,
    "start_time": "2021-07-06T15:04:21.312Z"
   },
   {
    "duration": 7,
    "start_time": "2021-07-06T15:04:21.343Z"
   },
   {
    "duration": 13,
    "start_time": "2021-07-06T15:04:21.374Z"
   },
   {
    "duration": 5,
    "start_time": "2021-07-06T15:04:21.407Z"
   },
   {
    "duration": 7,
    "start_time": "2021-07-06T15:04:21.594Z"
   },
   {
    "duration": 17,
    "start_time": "2021-07-06T15:04:21.686Z"
   },
   {
    "duration": 10,
    "start_time": "2021-07-06T15:04:21.739Z"
   },
   {
    "duration": 7,
    "start_time": "2021-07-06T15:04:21.773Z"
   },
   {
    "duration": 12,
    "start_time": "2021-07-06T15:04:21.826Z"
   },
   {
    "duration": 14,
    "start_time": "2021-07-06T15:04:21.881Z"
   },
   {
    "duration": 5,
    "start_time": "2021-07-06T15:04:22.017Z"
   },
   {
    "duration": 7,
    "start_time": "2021-07-06T15:04:22.049Z"
   },
   {
    "duration": 2386,
    "start_time": "2021-07-06T15:04:22.083Z"
   },
   {
    "duration": 2435,
    "start_time": "2021-07-06T15:04:24.471Z"
   },
   {
    "duration": 2369,
    "start_time": "2021-07-06T15:04:26.909Z"
   },
   {
    "duration": 4,
    "start_time": "2021-07-06T15:04:29.284Z"
   },
   {
    "duration": 685,
    "start_time": "2021-07-06T15:04:29.290Z"
   },
   {
    "duration": 5,
    "start_time": "2021-07-06T15:04:29.984Z"
   },
   {
    "duration": 1924,
    "start_time": "2021-07-06T15:04:29.991Z"
   },
   {
    "duration": 1097,
    "start_time": "2021-07-06T15:04:31.917Z"
   },
   {
    "duration": 3,
    "start_time": "2021-07-06T15:04:33.016Z"
   },
   {
    "duration": 185,
    "start_time": "2021-07-06T15:04:33.021Z"
   },
   {
    "duration": 9,
    "start_time": "2021-07-06T15:04:33.207Z"
   },
   {
    "duration": 6,
    "start_time": "2021-07-06T15:04:33.218Z"
   },
   {
    "duration": 22,
    "start_time": "2021-07-06T15:04:36.517Z"
   },
   {
    "duration": 4,
    "start_time": "2021-07-06T15:04:37.655Z"
   },
   {
    "duration": 279,
    "start_time": "2021-07-06T15:04:39.614Z"
   },
   {
    "duration": 11,
    "start_time": "2021-07-06T15:04:52.255Z"
   },
   {
    "duration": 27,
    "start_time": "2021-07-06T15:05:08.950Z"
   },
   {
    "duration": 6,
    "start_time": "2021-07-06T15:05:25.154Z"
   },
   {
    "duration": 175,
    "start_time": "2021-07-06T15:10:16.875Z"
   },
   {
    "duration": 5,
    "start_time": "2021-07-06T15:10:21.859Z"
   },
   {
    "duration": 12,
    "start_time": "2021-07-06T15:10:22.745Z"
   },
   {
    "duration": 193,
    "start_time": "2021-07-06T15:10:24.674Z"
   },
   {
    "duration": 1083,
    "start_time": "2021-07-06T15:10:36.654Z"
   },
   {
    "duration": 792,
    "start_time": "2021-07-06T15:10:37.739Z"
   },
   {
    "duration": 25,
    "start_time": "2021-07-06T15:10:38.532Z"
   },
   {
    "duration": 15,
    "start_time": "2021-07-06T15:10:38.559Z"
   },
   {
    "duration": 50,
    "start_time": "2021-07-06T15:10:38.576Z"
   },
   {
    "duration": 14,
    "start_time": "2021-07-06T15:10:38.628Z"
   },
   {
    "duration": 12,
    "start_time": "2021-07-06T15:10:38.644Z"
   },
   {
    "duration": 15,
    "start_time": "2021-07-06T15:10:38.658Z"
   },
   {
    "duration": 13,
    "start_time": "2021-07-06T15:10:38.675Z"
   },
   {
    "duration": 15,
    "start_time": "2021-07-06T15:10:38.689Z"
   },
   {
    "duration": 11,
    "start_time": "2021-07-06T15:10:38.706Z"
   },
   {
    "duration": 16,
    "start_time": "2021-07-06T15:10:38.719Z"
   },
   {
    "duration": 20,
    "start_time": "2021-07-06T15:10:38.737Z"
   },
   {
    "duration": 7,
    "start_time": "2021-07-06T15:10:38.759Z"
   },
   {
    "duration": 26,
    "start_time": "2021-07-06T15:10:38.769Z"
   },
   {
    "duration": 14,
    "start_time": "2021-07-06T15:10:38.796Z"
   },
   {
    "duration": 5,
    "start_time": "2021-07-06T15:10:38.811Z"
   },
   {
    "duration": 12,
    "start_time": "2021-07-06T15:10:38.834Z"
   },
   {
    "duration": 19,
    "start_time": "2021-07-06T15:10:38.887Z"
   },
   {
    "duration": 5,
    "start_time": "2021-07-06T15:10:39.082Z"
   },
   {
    "duration": 7,
    "start_time": "2021-07-06T15:10:39.116Z"
   },
   {
    "duration": 2219,
    "start_time": "2021-07-06T15:10:39.149Z"
   },
   {
    "duration": 2220,
    "start_time": "2021-07-06T15:10:41.370Z"
   },
   {
    "duration": 2283,
    "start_time": "2021-07-06T15:10:43.592Z"
   },
   {
    "duration": 9,
    "start_time": "2021-07-06T15:10:45.877Z"
   },
   {
    "duration": 656,
    "start_time": "2021-07-06T15:10:45.888Z"
   },
   {
    "duration": 4,
    "start_time": "2021-07-06T15:10:46.546Z"
   },
   {
    "duration": 1849,
    "start_time": "2021-07-06T15:10:46.552Z"
   },
   {
    "duration": 1061,
    "start_time": "2021-07-06T15:10:48.404Z"
   },
   {
    "duration": 4,
    "start_time": "2021-07-06T15:10:49.467Z"
   },
   {
    "duration": 183,
    "start_time": "2021-07-06T15:10:49.472Z"
   },
   {
    "duration": 9,
    "start_time": "2021-07-06T15:10:49.657Z"
   },
   {
    "duration": 4,
    "start_time": "2021-07-06T15:10:49.667Z"
   },
   {
    "duration": 25,
    "start_time": "2021-07-06T15:10:49.685Z"
   },
   {
    "duration": 4,
    "start_time": "2021-07-06T15:10:49.712Z"
   },
   {
    "duration": 13,
    "start_time": "2021-07-06T15:10:49.718Z"
   },
   {
    "duration": 17,
    "start_time": "2021-07-06T15:10:49.733Z"
   },
   {
    "duration": 3,
    "start_time": "2021-07-06T15:10:52.152Z"
   },
   {
    "duration": 1153,
    "start_time": "2021-07-06T15:10:58.033Z"
   },
   {
    "duration": 3608,
    "start_time": "2021-07-06T15:11:15.253Z"
   },
   {
    "duration": 19,
    "start_time": "2021-07-06T15:11:33.179Z"
   },
   {
    "duration": 2317,
    "start_time": "2021-07-06T15:11:43.721Z"
   },
   {
    "duration": 689,
    "start_time": "2021-07-06T15:12:07.898Z"
   },
   {
    "duration": 13487,
    "start_time": "2021-07-06T15:12:29.307Z"
   },
   {
    "duration": 1162,
    "start_time": "2021-07-06T15:16:12.565Z"
   },
   {
    "duration": 742,
    "start_time": "2021-07-06T15:16:13.729Z"
   },
   {
    "duration": 24,
    "start_time": "2021-07-06T15:16:14.473Z"
   },
   {
    "duration": 4,
    "start_time": "2021-07-06T15:16:14.500Z"
   },
   {
    "duration": 40,
    "start_time": "2021-07-06T15:16:14.506Z"
   },
   {
    "duration": 15,
    "start_time": "2021-07-06T15:16:14.548Z"
   },
   {
    "duration": 3,
    "start_time": "2021-07-06T15:16:14.585Z"
   },
   {
    "duration": 5,
    "start_time": "2021-07-06T15:16:14.591Z"
   },
   {
    "duration": 4,
    "start_time": "2021-07-06T15:16:14.598Z"
   },
   {
    "duration": 5,
    "start_time": "2021-07-06T15:16:14.603Z"
   },
   {
    "duration": 5,
    "start_time": "2021-07-06T15:16:14.610Z"
   },
   {
    "duration": 12,
    "start_time": "2021-07-06T15:16:14.617Z"
   },
   {
    "duration": 5,
    "start_time": "2021-07-06T15:16:14.630Z"
   },
   {
    "duration": 7,
    "start_time": "2021-07-06T15:16:14.636Z"
   },
   {
    "duration": 16,
    "start_time": "2021-07-06T15:16:14.686Z"
   },
   {
    "duration": 8,
    "start_time": "2021-07-06T15:16:14.704Z"
   },
   {
    "duration": 5,
    "start_time": "2021-07-06T15:16:14.714Z"
   },
   {
    "duration": 13,
    "start_time": "2021-07-06T15:16:14.721Z"
   },
   {
    "duration": 13,
    "start_time": "2021-07-06T15:16:14.919Z"
   },
   {
    "duration": 5,
    "start_time": "2021-07-06T15:16:15.122Z"
   },
   {
    "duration": 8,
    "start_time": "2021-07-06T15:16:15.155Z"
   },
   {
    "duration": 2135,
    "start_time": "2021-07-06T15:16:15.189Z"
   },
   {
    "duration": 2159,
    "start_time": "2021-07-06T15:16:17.326Z"
   },
   {
    "duration": 2226,
    "start_time": "2021-07-06T15:16:19.487Z"
   },
   {
    "duration": 4,
    "start_time": "2021-07-06T15:16:21.716Z"
   },
   {
    "duration": 657,
    "start_time": "2021-07-06T15:16:21.721Z"
   },
   {
    "duration": 8,
    "start_time": "2021-07-06T15:16:22.379Z"
   },
   {
    "duration": 1875,
    "start_time": "2021-07-06T15:16:22.389Z"
   },
   {
    "duration": 1126,
    "start_time": "2021-07-06T15:16:24.266Z"
   },
   {
    "duration": 4,
    "start_time": "2021-07-06T15:16:25.393Z"
   },
   {
    "duration": 184,
    "start_time": "2021-07-06T15:16:25.398Z"
   },
   {
    "duration": 8,
    "start_time": "2021-07-06T15:16:25.584Z"
   },
   {
    "duration": 4,
    "start_time": "2021-07-06T15:16:25.594Z"
   },
   {
    "duration": 26,
    "start_time": "2021-07-06T15:16:25.600Z"
   },
   {
    "duration": 4,
    "start_time": "2021-07-06T15:16:25.628Z"
   },
   {
    "duration": 15,
    "start_time": "2021-07-06T15:16:25.633Z"
   },
   {
    "duration": 17,
    "start_time": "2021-07-06T15:16:31.606Z"
   },
   {
    "duration": 4,
    "start_time": "2021-07-06T15:16:36.173Z"
   },
   {
    "duration": 35,
    "start_time": "2021-07-06T15:16:41.921Z"
   },
   {
    "duration": 3,
    "start_time": "2021-07-06T15:16:43.382Z"
   },
   {
    "duration": 825,
    "start_time": "2021-07-06T15:17:05.066Z"
   },
   {
    "duration": 13755,
    "start_time": "2021-07-06T15:17:33.002Z"
   },
   {
    "duration": 27617,
    "start_time": "2021-07-06T15:18:34.487Z"
   },
   {
    "duration": 10,
    "start_time": "2021-07-06T15:20:46.178Z"
   },
   {
    "duration": 5,
    "start_time": "2021-07-06T15:24:02.183Z"
   },
   {
    "duration": 1160,
    "start_time": "2021-07-06T15:25:36.957Z"
   },
   {
    "duration": 721,
    "start_time": "2021-07-06T15:25:38.118Z"
   },
   {
    "duration": 24,
    "start_time": "2021-07-06T15:25:38.841Z"
   },
   {
    "duration": 4,
    "start_time": "2021-07-06T15:25:38.866Z"
   },
   {
    "duration": 49,
    "start_time": "2021-07-06T15:25:38.872Z"
   },
   {
    "duration": 15,
    "start_time": "2021-07-06T15:25:42.429Z"
   },
   {
    "duration": 4,
    "start_time": "2021-07-06T15:26:28.461Z"
   },
   {
    "duration": 4,
    "start_time": "2021-07-06T15:26:28.818Z"
   },
   {
    "duration": 4,
    "start_time": "2021-07-06T15:26:29.913Z"
   },
   {
    "duration": 5,
    "start_time": "2021-07-06T15:26:30.303Z"
   },
   {
    "duration": 6,
    "start_time": "2021-07-06T15:26:33.170Z"
   },
   {
    "duration": 12,
    "start_time": "2021-07-06T15:26:33.425Z"
   },
   {
    "duration": 5,
    "start_time": "2021-07-06T15:26:33.853Z"
   },
   {
    "duration": 8,
    "start_time": "2021-07-06T15:26:39.086Z"
   },
   {
    "duration": 19,
    "start_time": "2021-07-06T15:27:17.884Z"
   },
   {
    "duration": 19,
    "start_time": "2021-07-06T15:27:27.451Z"
   },
   {
    "duration": 14,
    "start_time": "2021-07-06T15:27:59.106Z"
   },
   {
    "duration": 7,
    "start_time": "2021-07-06T15:27:59.708Z"
   },
   {
    "duration": 12,
    "start_time": "2021-07-06T15:28:22.717Z"
   },
   {
    "duration": 8,
    "start_time": "2021-07-06T15:28:29.484Z"
   },
   {
    "duration": 6,
    "start_time": "2021-07-06T15:29:03.977Z"
   },
   {
    "duration": 18,
    "start_time": "2021-07-06T15:29:11.437Z"
   },
   {
    "duration": 5,
    "start_time": "2021-07-06T15:29:55.485Z"
   },
   {
    "duration": 7,
    "start_time": "2021-07-06T15:29:56.300Z"
   },
   {
    "duration": 2313,
    "start_time": "2021-07-06T15:29:56.844Z"
   },
   {
    "duration": 2217,
    "start_time": "2021-07-06T15:30:09.059Z"
   },
   {
    "duration": 2311,
    "start_time": "2021-07-06T15:30:13.329Z"
   },
   {
    "duration": 4,
    "start_time": "2021-07-06T15:30:21.204Z"
   },
   {
    "duration": 613,
    "start_time": "2021-07-06T15:30:21.707Z"
   },
   {
    "duration": 5,
    "start_time": "2021-07-06T15:30:24.822Z"
   },
   {
    "duration": 1828,
    "start_time": "2021-07-06T15:30:25.400Z"
   },
   {
    "duration": 1052,
    "start_time": "2021-07-06T15:30:31.523Z"
   },
   {
    "duration": 3,
    "start_time": "2021-07-06T15:30:38.915Z"
   },
   {
    "duration": 162,
    "start_time": "2021-07-06T15:30:40.188Z"
   },
   {
    "duration": 9,
    "start_time": "2021-07-06T15:30:40.352Z"
   },
   {
    "duration": 4,
    "start_time": "2021-07-06T15:30:45.926Z"
   },
   {
    "duration": 25,
    "start_time": "2021-07-06T15:30:47.548Z"
   },
   {
    "duration": 4,
    "start_time": "2021-07-06T15:30:51.020Z"
   },
   {
    "duration": 12,
    "start_time": "2021-07-06T15:31:01.806Z"
   },
   {
    "duration": 11,
    "start_time": "2021-07-06T15:31:21.885Z"
   },
   {
    "duration": 5,
    "start_time": "2021-07-06T15:31:26.534Z"
   },
   {
    "duration": 45,
    "start_time": "2021-07-06T15:33:24.804Z"
   },
   {
    "duration": 298,
    "start_time": "2021-07-06T15:34:05.832Z"
   },
   {
    "duration": 11,
    "start_time": "2021-07-06T15:34:20.242Z"
   },
   {
    "duration": 30,
    "start_time": "2021-07-06T15:34:26.776Z"
   },
   {
    "duration": 27,
    "start_time": "2021-07-06T15:35:06.505Z"
   },
   {
    "duration": 13,
    "start_time": "2021-07-06T15:35:19.882Z"
   },
   {
    "duration": 4,
    "start_time": "2021-07-06T15:35:20.163Z"
   },
   {
    "duration": 3,
    "start_time": "2021-07-06T15:35:26.616Z"
   },
   {
    "duration": 2333,
    "start_time": "2021-07-06T15:35:30.287Z"
   },
   {
    "duration": 28211,
    "start_time": "2021-07-06T15:35:38.526Z"
   },
   {
    "duration": 782,
    "start_time": "2021-07-06T15:36:15.104Z"
   },
   {
    "duration": 1425,
    "start_time": "2021-07-06T15:36:19.960Z"
   },
   {
    "duration": 4,
    "start_time": "2021-07-06T15:36:34.492Z"
   },
   {
    "duration": 156785,
    "start_time": "2021-07-06T15:37:03.367Z"
   },
   {
    "duration": 30,
    "start_time": "2021-07-06T15:39:56.618Z"
   },
   {
    "duration": 8,
    "start_time": "2021-07-06T15:40:05.486Z"
   },
   {
    "duration": 1144,
    "start_time": "2021-07-06T15:42:35.263Z"
   },
   {
    "duration": 729,
    "start_time": "2021-07-06T15:42:36.409Z"
   },
   {
    "duration": 27,
    "start_time": "2021-07-06T15:42:37.140Z"
   },
   {
    "duration": 3,
    "start_time": "2021-07-06T15:42:39.812Z"
   },
   {
    "duration": 42,
    "start_time": "2021-07-06T15:42:41.254Z"
   },
   {
    "duration": 17,
    "start_time": "2021-07-06T15:42:49.018Z"
   },
   {
    "duration": 3,
    "start_time": "2021-07-06T15:42:53.556Z"
   },
   {
    "duration": 5,
    "start_time": "2021-07-06T15:42:53.733Z"
   },
   {
    "duration": 3,
    "start_time": "2021-07-06T15:42:56.516Z"
   },
   {
    "duration": 4,
    "start_time": "2021-07-06T15:43:04.273Z"
   },
   {
    "duration": 8,
    "start_time": "2021-07-06T15:43:04.507Z"
   },
   {
    "duration": 13,
    "start_time": "2021-07-06T15:43:05.024Z"
   },
   {
    "duration": 5,
    "start_time": "2021-07-06T15:43:07.367Z"
   },
   {
    "duration": 7,
    "start_time": "2021-07-06T15:43:09.019Z"
   },
   {
    "duration": 20,
    "start_time": "2021-07-06T15:43:16.436Z"
   },
   {
    "duration": 36,
    "start_time": "2021-07-06T15:44:21.966Z"
   },
   {
    "duration": 30,
    "start_time": "2021-07-06T15:44:37.752Z"
   },
   {
    "duration": 7,
    "start_time": "2021-07-06T15:45:07.417Z"
   },
   {
    "duration": 23,
    "start_time": "2021-07-06T15:46:39.718Z"
   },
   {
    "duration": 6,
    "start_time": "2021-07-06T15:46:41.910Z"
   },
   {
    "duration": 9,
    "start_time": "2021-07-06T15:46:41.955Z"
   },
   {
    "duration": 2333,
    "start_time": "2021-07-06T15:46:41.984Z"
   },
   {
    "duration": 2435,
    "start_time": "2021-07-06T15:46:44.319Z"
   },
   {
    "duration": 2384,
    "start_time": "2021-07-06T15:46:46.757Z"
   },
   {
    "duration": 4,
    "start_time": "2021-07-06T15:46:49.144Z"
   },
   {
    "duration": 706,
    "start_time": "2021-07-06T15:46:49.150Z"
   },
   {
    "duration": 6,
    "start_time": "2021-07-06T15:46:49.858Z"
   },
   {
    "duration": 2036,
    "start_time": "2021-07-06T15:46:49.866Z"
   },
   {
    "duration": 1176,
    "start_time": "2021-07-06T15:46:51.905Z"
   },
   {
    "duration": 4,
    "start_time": "2021-07-06T15:46:53.083Z"
   },
   {
    "duration": 246,
    "start_time": "2021-07-06T15:46:53.089Z"
   },
   {
    "duration": 14,
    "start_time": "2021-07-06T15:46:53.338Z"
   },
   {
    "duration": 4,
    "start_time": "2021-07-06T15:47:57.071Z"
   },
   {
    "duration": 32,
    "start_time": "2021-07-06T15:47:57.722Z"
   },
   {
    "duration": 4,
    "start_time": "2021-07-06T15:48:09.963Z"
   },
   {
    "duration": 13,
    "start_time": "2021-07-06T15:48:14.357Z"
   },
   {
    "duration": 11,
    "start_time": "2021-07-06T15:48:19.706Z"
   },
   {
    "duration": 27,
    "start_time": "2021-07-06T15:49:16.453Z"
   },
   {
    "duration": 5,
    "start_time": "2021-07-06T15:49:26.171Z"
   },
   {
    "duration": 1124,
    "start_time": "2021-07-06T15:55:31.290Z"
   },
   {
    "duration": 750,
    "start_time": "2021-07-06T15:55:32.415Z"
   },
   {
    "duration": 25,
    "start_time": "2021-07-06T15:55:33.167Z"
   },
   {
    "duration": 2,
    "start_time": "2021-07-06T15:55:33.194Z"
   },
   {
    "duration": 44,
    "start_time": "2021-07-06T15:55:33.198Z"
   },
   {
    "duration": 15,
    "start_time": "2021-07-06T15:55:33.824Z"
   },
   {
    "duration": 4,
    "start_time": "2021-07-06T15:55:34.627Z"
   },
   {
    "duration": 4,
    "start_time": "2021-07-06T15:55:34.918Z"
   },
   {
    "duration": 4,
    "start_time": "2021-07-06T15:55:35.285Z"
   },
   {
    "duration": 4,
    "start_time": "2021-07-06T15:55:35.654Z"
   },
   {
    "duration": 6,
    "start_time": "2021-07-06T15:55:36.007Z"
   },
   {
    "duration": 13,
    "start_time": "2021-07-06T15:55:36.219Z"
   },
   {
    "duration": 5,
    "start_time": "2021-07-06T15:55:36.449Z"
   },
   {
    "duration": 7,
    "start_time": "2021-07-06T15:55:37.549Z"
   },
   {
    "duration": 16,
    "start_time": "2021-07-06T15:55:39.056Z"
   },
   {
    "duration": 10,
    "start_time": "2021-07-06T15:55:41.597Z"
   },
   {
    "duration": 6,
    "start_time": "2021-07-06T15:55:42.381Z"
   },
   {
    "duration": 6,
    "start_time": "2021-07-06T15:55:43.401Z"
   },
   {
    "duration": 14,
    "start_time": "2021-07-06T15:55:47.725Z"
   },
   {
    "duration": 6,
    "start_time": "2021-07-06T15:55:51.342Z"
   },
   {
    "duration": 9,
    "start_time": "2021-07-06T15:55:51.497Z"
   },
   {
    "duration": 2229,
    "start_time": "2021-07-06T15:55:51.649Z"
   },
   {
    "duration": 2298,
    "start_time": "2021-07-06T15:55:53.880Z"
   },
   {
    "duration": 2302,
    "start_time": "2021-07-06T15:55:56.180Z"
   },
   {
    "duration": 3,
    "start_time": "2021-07-06T15:55:58.484Z"
   },
   {
    "duration": 734,
    "start_time": "2021-07-06T15:55:58.489Z"
   },
   {
    "duration": 5,
    "start_time": "2021-07-06T15:55:59.225Z"
   },
   {
    "duration": 2017,
    "start_time": "2021-07-06T15:55:59.232Z"
   },
   {
    "duration": 1169,
    "start_time": "2021-07-06T15:56:01.253Z"
   },
   {
    "duration": 3,
    "start_time": "2021-07-06T15:56:02.425Z"
   },
   {
    "duration": 194,
    "start_time": "2021-07-06T15:56:02.430Z"
   },
   {
    "duration": 10,
    "start_time": "2021-07-06T15:56:02.626Z"
   },
   {
    "duration": 11,
    "start_time": "2021-07-06T15:56:02.638Z"
   },
   {
    "duration": 40,
    "start_time": "2021-07-06T15:56:02.651Z"
   },
   {
    "duration": 7,
    "start_time": "2021-07-06T15:56:02.693Z"
   },
   {
    "duration": 37,
    "start_time": "2021-07-06T15:58:05.435Z"
   },
   {
    "duration": 5,
    "start_time": "2021-07-06T15:58:11.189Z"
   },
   {
    "duration": 3,
    "start_time": "2021-07-06T15:58:34.533Z"
   },
   {
    "duration": 7,
    "start_time": "2021-07-06T15:58:49.025Z"
   },
   {
    "duration": 3,
    "start_time": "2021-07-06T15:59:16.430Z"
   },
   {
    "duration": 1609,
    "start_time": "2021-07-06T16:00:24.782Z"
   },
   {
    "duration": 345,
    "start_time": "2021-07-06T16:00:35.198Z"
   },
   {
    "duration": 170,
    "start_time": "2021-07-06T16:00:53.417Z"
   },
   {
    "duration": 388,
    "start_time": "2021-07-06T16:01:04.666Z"
   },
   {
    "duration": 181,
    "start_time": "2021-07-06T16:01:36.721Z"
   },
   {
    "duration": 193,
    "start_time": "2021-07-06T16:01:39.353Z"
   },
   {
    "duration": 178,
    "start_time": "2021-07-06T16:01:41.497Z"
   },
   {
    "duration": 1093,
    "start_time": "2021-07-06T16:02:02.242Z"
   },
   {
    "duration": 767,
    "start_time": "2021-07-06T16:02:03.337Z"
   },
   {
    "duration": 23,
    "start_time": "2021-07-06T16:02:04.109Z"
   },
   {
    "duration": 7,
    "start_time": "2021-07-06T16:02:04.134Z"
   },
   {
    "duration": 51,
    "start_time": "2021-07-06T16:02:04.142Z"
   },
   {
    "duration": 15,
    "start_time": "2021-07-06T16:02:04.195Z"
   },
   {
    "duration": 3,
    "start_time": "2021-07-06T16:02:04.211Z"
   },
   {
    "duration": 5,
    "start_time": "2021-07-06T16:02:04.216Z"
   },
   {
    "duration": 4,
    "start_time": "2021-07-06T16:02:04.223Z"
   },
   {
    "duration": 7,
    "start_time": "2021-07-06T16:02:04.228Z"
   },
   {
    "duration": 9,
    "start_time": "2021-07-06T16:02:04.236Z"
   },
   {
    "duration": 43,
    "start_time": "2021-07-06T16:02:04.246Z"
   },
   {
    "duration": 5,
    "start_time": "2021-07-06T16:02:04.291Z"
   },
   {
    "duration": 9,
    "start_time": "2021-07-06T16:02:04.297Z"
   },
   {
    "duration": 16,
    "start_time": "2021-07-06T16:02:04.308Z"
   },
   {
    "duration": 8,
    "start_time": "2021-07-06T16:02:04.326Z"
   },
   {
    "duration": 5,
    "start_time": "2021-07-06T16:02:04.336Z"
   },
   {
    "duration": 42,
    "start_time": "2021-07-06T16:02:04.343Z"
   },
   {
    "duration": 13,
    "start_time": "2021-07-06T16:02:04.387Z"
   },
   {
    "duration": 4,
    "start_time": "2021-07-06T16:02:04.402Z"
   },
   {
    "duration": 7,
    "start_time": "2021-07-06T16:02:04.408Z"
   },
   {
    "duration": 2432,
    "start_time": "2021-07-06T16:02:04.416Z"
   },
   {
    "duration": 2292,
    "start_time": "2021-07-06T16:02:06.851Z"
   },
   {
    "duration": 2316,
    "start_time": "2021-07-06T16:02:09.145Z"
   },
   {
    "duration": 3,
    "start_time": "2021-07-06T16:02:11.463Z"
   },
   {
    "duration": 683,
    "start_time": "2021-07-06T16:02:11.468Z"
   },
   {
    "duration": 5,
    "start_time": "2021-07-06T16:02:12.152Z"
   },
   {
    "duration": 1871,
    "start_time": "2021-07-06T16:02:12.159Z"
   },
   {
    "duration": 1116,
    "start_time": "2021-07-06T16:02:14.032Z"
   },
   {
    "duration": 4,
    "start_time": "2021-07-06T16:02:15.150Z"
   },
   {
    "duration": 197,
    "start_time": "2021-07-06T16:02:15.156Z"
   },
   {
    "duration": 10,
    "start_time": "2021-07-06T16:02:15.355Z"
   },
   {
    "duration": 18,
    "start_time": "2021-07-06T16:02:15.366Z"
   },
   {
    "duration": 25,
    "start_time": "2021-07-06T16:02:15.387Z"
   },
   {
    "duration": 5,
    "start_time": "2021-07-06T16:02:15.414Z"
   },
   {
    "duration": 5,
    "start_time": "2021-07-06T16:02:15.421Z"
   },
   {
    "duration": 11,
    "start_time": "2021-07-06T16:02:15.428Z"
   },
   {
    "duration": 5,
    "start_time": "2021-07-06T16:02:15.440Z"
   },
   {
    "duration": 5,
    "start_time": "2021-07-06T16:02:15.447Z"
   },
   {
    "duration": 31,
    "start_time": "2021-07-06T16:02:15.454Z"
   },
   {
    "duration": 6,
    "start_time": "2021-07-06T16:02:15.487Z"
   },
   {
    "duration": 4,
    "start_time": "2021-07-06T16:02:15.794Z"
   },
   {
    "duration": 1302,
    "start_time": "2021-07-06T16:02:22.290Z"
   },
   {
    "duration": 4,
    "start_time": "2021-07-06T16:03:05.053Z"
   },
   {
    "duration": 55061,
    "start_time": "2021-07-06T16:04:16.299Z"
   },
   {
    "duration": 11,
    "start_time": "2021-07-06T16:06:21.920Z"
   },
   {
    "duration": 8,
    "start_time": "2021-07-06T16:06:41.838Z"
   },
   {
    "duration": 12,
    "start_time": "2021-07-06T16:06:58.886Z"
   },
   {
    "duration": 6,
    "start_time": "2021-07-06T16:07:51.110Z"
   },
   {
    "duration": 5,
    "start_time": "2021-07-06T16:08:19.327Z"
   },
   {
    "duration": 19,
    "start_time": "2021-07-06T16:09:01.539Z"
   },
   {
    "duration": 11,
    "start_time": "2021-07-06T16:09:58.420Z"
   },
   {
    "duration": 1159,
    "start_time": "2021-07-06T16:13:13.063Z"
   },
   {
    "duration": 739,
    "start_time": "2021-07-06T16:13:14.223Z"
   },
   {
    "duration": 23,
    "start_time": "2021-07-06T16:13:14.964Z"
   },
   {
    "duration": 2,
    "start_time": "2021-07-06T16:13:14.989Z"
   },
   {
    "duration": 46,
    "start_time": "2021-07-06T16:13:14.993Z"
   },
   {
    "duration": 16,
    "start_time": "2021-07-06T16:13:15.041Z"
   },
   {
    "duration": 26,
    "start_time": "2021-07-06T16:13:15.059Z"
   },
   {
    "duration": 4,
    "start_time": "2021-07-06T16:13:15.203Z"
   },
   {
    "duration": 4,
    "start_time": "2021-07-06T16:13:15.365Z"
   },
   {
    "duration": 4,
    "start_time": "2021-07-06T16:13:15.544Z"
   },
   {
    "duration": 7,
    "start_time": "2021-07-06T16:13:15.709Z"
   },
   {
    "duration": 13,
    "start_time": "2021-07-06T16:13:15.884Z"
   },
   {
    "duration": 4,
    "start_time": "2021-07-06T16:13:16.050Z"
   },
   {
    "duration": 7,
    "start_time": "2021-07-06T16:13:16.759Z"
   },
   {
    "duration": 24,
    "start_time": "2021-07-06T16:13:22.461Z"
   },
   {
    "duration": 7,
    "start_time": "2021-07-06T16:14:01.327Z"
   },
   {
    "duration": 22,
    "start_time": "2021-07-06T16:15:05.965Z"
   },
   {
    "duration": 6,
    "start_time": "2021-07-06T16:16:48.333Z"
   },
   {
    "duration": 17,
    "start_time": "2021-07-06T16:16:52.801Z"
   },
   {
    "duration": 5,
    "start_time": "2021-07-06T16:16:58.493Z"
   },
   {
    "duration": 7,
    "start_time": "2021-07-06T16:16:58.642Z"
   },
   {
    "duration": 2278,
    "start_time": "2021-07-06T16:16:58.798Z"
   },
   {
    "duration": 2291,
    "start_time": "2021-07-06T16:17:01.085Z"
   },
   {
    "duration": 2246,
    "start_time": "2021-07-06T16:17:03.378Z"
   },
   {
    "duration": 3,
    "start_time": "2021-07-06T16:17:05.627Z"
   },
   {
    "duration": 697,
    "start_time": "2021-07-06T16:17:05.632Z"
   },
   {
    "duration": 5,
    "start_time": "2021-07-06T16:17:06.331Z"
   },
   {
    "duration": 1915,
    "start_time": "2021-07-06T16:17:06.338Z"
   },
   {
    "duration": 1092,
    "start_time": "2021-07-06T16:17:08.256Z"
   },
   {
    "duration": 4,
    "start_time": "2021-07-06T16:17:09.350Z"
   },
   {
    "duration": 175,
    "start_time": "2021-07-06T16:17:09.356Z"
   },
   {
    "duration": 8,
    "start_time": "2021-07-06T16:17:09.533Z"
   },
   {
    "duration": 6,
    "start_time": "2021-07-06T16:17:09.543Z"
   },
   {
    "duration": 42,
    "start_time": "2021-07-06T16:17:09.551Z"
   },
   {
    "duration": 4,
    "start_time": "2021-07-06T16:17:09.595Z"
   },
   {
    "duration": 19,
    "start_time": "2021-07-06T16:19:26.130Z"
   },
   {
    "duration": 3,
    "start_time": "2021-07-06T16:19:31.238Z"
   },
   {
    "duration": 2780,
    "start_time": "2021-07-06T16:19:37.706Z"
   },
   {
    "duration": 3,
    "start_time": "2021-07-06T16:20:01.477Z"
   },
   {
    "duration": 106605,
    "start_time": "2021-07-06T16:20:25.094Z"
   },
   {
    "duration": 12,
    "start_time": "2021-07-06T16:22:33.652Z"
   },
   {
    "duration": 9,
    "start_time": "2021-07-06T16:22:36.385Z"
   },
   {
    "duration": 5,
    "start_time": "2021-07-06T16:22:40.594Z"
   },
   {
    "duration": 33,
    "start_time": "2021-07-06T16:22:42.127Z"
   },
   {
    "duration": 10,
    "start_time": "2021-07-06T16:22:52.460Z"
   },
   {
    "duration": 1087,
    "start_time": "2021-07-06T16:24:16.945Z"
   },
   {
    "duration": 773,
    "start_time": "2021-07-06T16:24:18.034Z"
   },
   {
    "duration": 25,
    "start_time": "2021-07-06T16:24:18.809Z"
   },
   {
    "duration": 3,
    "start_time": "2021-07-06T16:24:18.837Z"
   },
   {
    "duration": 63,
    "start_time": "2021-07-06T16:24:18.842Z"
   },
   {
    "duration": 14,
    "start_time": "2021-07-06T16:24:18.907Z"
   },
   {
    "duration": 12,
    "start_time": "2021-07-06T16:24:18.922Z"
   },
   {
    "duration": 11,
    "start_time": "2021-07-06T16:24:18.936Z"
   },
   {
    "duration": 8,
    "start_time": "2021-07-06T16:24:18.950Z"
   },
   {
    "duration": 7,
    "start_time": "2021-07-06T16:24:18.960Z"
   },
   {
    "duration": 16,
    "start_time": "2021-07-06T16:24:18.969Z"
   },
   {
    "duration": 20,
    "start_time": "2021-07-06T16:24:18.987Z"
   },
   {
    "duration": 12,
    "start_time": "2021-07-06T16:24:19.009Z"
   },
   {
    "duration": 15,
    "start_time": "2021-07-06T16:24:19.023Z"
   },
   {
    "duration": 26,
    "start_time": "2021-07-06T16:24:19.039Z"
   },
   {
    "duration": 18,
    "start_time": "2021-07-06T16:24:19.067Z"
   },
   {
    "duration": 29,
    "start_time": "2021-07-06T16:24:19.087Z"
   },
   {
    "duration": 5,
    "start_time": "2021-07-06T16:24:19.117Z"
   },
   {
    "duration": 17,
    "start_time": "2021-07-06T16:24:19.124Z"
   },
   {
    "duration": 2249,
    "start_time": "2021-07-06T16:24:19.142Z"
   },
   {
    "duration": 2352,
    "start_time": "2021-07-06T16:24:21.393Z"
   },
   {
    "duration": 2324,
    "start_time": "2021-07-06T16:24:23.747Z"
   },
   {
    "duration": 11,
    "start_time": "2021-07-06T16:24:26.075Z"
   },
   {
    "duration": 692,
    "start_time": "2021-07-06T16:24:26.088Z"
   },
   {
    "duration": 5,
    "start_time": "2021-07-06T16:24:26.785Z"
   },
   {
    "duration": 1918,
    "start_time": "2021-07-06T16:24:26.792Z"
   },
   {
    "duration": 1079,
    "start_time": "2021-07-06T16:24:28.712Z"
   },
   {
    "duration": 4,
    "start_time": "2021-07-06T16:24:29.793Z"
   },
   {
    "duration": 188,
    "start_time": "2021-07-06T16:24:29.799Z"
   },
   {
    "duration": 10,
    "start_time": "2021-07-06T16:24:29.988Z"
   },
   {
    "duration": 8,
    "start_time": "2021-07-06T16:24:29.999Z"
   },
   {
    "duration": 37,
    "start_time": "2021-07-06T16:24:30.009Z"
   },
   {
    "duration": 4,
    "start_time": "2021-07-06T16:24:30.047Z"
   },
   {
    "duration": 34,
    "start_time": "2021-07-06T16:24:30.053Z"
   },
   {
    "duration": 12,
    "start_time": "2021-07-06T16:24:30.089Z"
   },
   {
    "duration": 2,
    "start_time": "2021-07-06T16:24:32.914Z"
   },
   {
    "duration": 3,
    "start_time": "2021-07-06T16:24:34.762Z"
   },
   {
    "duration": 2,
    "start_time": "2021-07-06T16:24:35.111Z"
   },
   {
    "duration": 1663,
    "start_time": "2021-07-06T16:24:37.030Z"
   },
   {
    "duration": 3,
    "start_time": "2021-07-06T16:24:44.808Z"
   },
   {
    "duration": 159179,
    "start_time": "2021-07-06T16:24:48.294Z"
   },
   {
    "duration": 11,
    "start_time": "2021-07-06T16:27:35.952Z"
   },
   {
    "duration": 11,
    "start_time": "2021-07-06T16:27:37.800Z"
   },
   {
    "duration": 7,
    "start_time": "2021-07-06T16:27:38.204Z"
   },
   {
    "duration": 32,
    "start_time": "2021-07-06T16:27:41.401Z"
   },
   {
    "duration": 10,
    "start_time": "2021-07-06T16:27:46.681Z"
   },
   {
    "duration": 55493,
    "start_time": "2021-07-06T16:28:21.466Z"
   },
   {
    "duration": 19,
    "start_time": "2021-07-06T16:29:22.324Z"
   },
   {
    "duration": 12,
    "start_time": "2021-07-06T16:29:26.428Z"
   },
   {
    "duration": 1165,
    "start_time": "2021-07-06T16:29:41.761Z"
   },
   {
    "duration": 756,
    "start_time": "2021-07-06T16:29:42.928Z"
   },
   {
    "duration": 23,
    "start_time": "2021-07-06T16:29:43.687Z"
   },
   {
    "duration": 2,
    "start_time": "2021-07-06T16:29:43.712Z"
   },
   {
    "duration": 38,
    "start_time": "2021-07-06T16:29:43.716Z"
   },
   {
    "duration": 38,
    "start_time": "2021-07-06T16:29:43.755Z"
   },
   {
    "duration": 3,
    "start_time": "2021-07-06T16:29:43.795Z"
   },
   {
    "duration": 6,
    "start_time": "2021-07-06T16:29:43.800Z"
   },
   {
    "duration": 2,
    "start_time": "2021-07-06T16:29:43.810Z"
   },
   {
    "duration": 5,
    "start_time": "2021-07-06T16:29:43.814Z"
   },
   {
    "duration": 7,
    "start_time": "2021-07-06T16:29:43.821Z"
   },
   {
    "duration": 59,
    "start_time": "2021-07-06T16:29:43.829Z"
   },
   {
    "duration": 5,
    "start_time": "2021-07-06T16:29:43.890Z"
   },
   {
    "duration": 6,
    "start_time": "2021-07-06T16:29:43.897Z"
   },
   {
    "duration": 19,
    "start_time": "2021-07-06T16:29:43.905Z"
   },
   {
    "duration": 6,
    "start_time": "2021-07-06T16:29:43.925Z"
   },
   {
    "duration": 57,
    "start_time": "2021-07-06T16:29:43.932Z"
   },
   {
    "duration": 3,
    "start_time": "2021-07-06T16:29:43.991Z"
   },
   {
    "duration": 8,
    "start_time": "2021-07-06T16:29:43.996Z"
   },
   {
    "duration": 2306,
    "start_time": "2021-07-06T16:29:44.006Z"
   },
   {
    "duration": 2289,
    "start_time": "2021-07-06T16:29:46.314Z"
   },
   {
    "duration": 2336,
    "start_time": "2021-07-06T16:29:48.605Z"
   },
   {
    "duration": 3,
    "start_time": "2021-07-06T16:29:50.945Z"
   },
   {
    "duration": 671,
    "start_time": "2021-07-06T16:29:50.951Z"
   },
   {
    "duration": 5,
    "start_time": "2021-07-06T16:29:51.624Z"
   },
   {
    "duration": 1981,
    "start_time": "2021-07-06T16:29:51.631Z"
   },
   {
    "duration": 1106,
    "start_time": "2021-07-06T16:29:53.614Z"
   },
   {
    "duration": 4,
    "start_time": "2021-07-06T16:29:54.722Z"
   },
   {
    "duration": 188,
    "start_time": "2021-07-06T16:29:54.728Z"
   },
   {
    "duration": 9,
    "start_time": "2021-07-06T16:29:54.917Z"
   },
   {
    "duration": 6,
    "start_time": "2021-07-06T16:29:54.928Z"
   },
   {
    "duration": 24,
    "start_time": "2021-07-06T16:29:54.935Z"
   },
   {
    "duration": 4,
    "start_time": "2021-07-06T16:29:54.984Z"
   },
   {
    "duration": 9,
    "start_time": "2021-07-06T16:29:59.645Z"
   },
   {
    "duration": 42,
    "start_time": "2021-07-06T16:30:02.765Z"
   },
   {
    "duration": 3,
    "start_time": "2021-07-06T16:30:03.477Z"
   },
   {
    "duration": 2,
    "start_time": "2021-07-06T16:30:05.494Z"
   },
   {
    "duration": 11,
    "start_time": "2021-07-06T16:30:05.498Z"
   },
   {
    "duration": 57,
    "start_time": "2021-07-06T16:30:14.790Z"
   },
   {
    "duration": 55,
    "start_time": "2021-07-06T16:30:28.446Z"
   },
   {
    "duration": 1506,
    "start_time": "2021-07-06T16:30:39.180Z"
   },
   {
    "duration": 4,
    "start_time": "2021-07-06T16:30:57.372Z"
   },
   {
    "duration": 56060,
    "start_time": "2021-07-06T16:31:09.113Z"
   },
   {
    "duration": 10,
    "start_time": "2021-07-06T16:32:12.351Z"
   },
   {
    "duration": 9,
    "start_time": "2021-07-06T16:32:13.074Z"
   },
   {
    "duration": 6,
    "start_time": "2021-07-06T16:32:15.657Z"
   },
   {
    "duration": 12,
    "start_time": "2021-07-06T16:32:18.977Z"
   },
   {
    "duration": 18,
    "start_time": "2021-07-06T16:32:39.047Z"
   },
   {
    "duration": 9,
    "start_time": "2021-07-06T16:32:44.221Z"
   },
   {
    "duration": 1174,
    "start_time": "2021-07-06T16:36:38.857Z"
   },
   {
    "duration": 717,
    "start_time": "2021-07-06T16:36:40.032Z"
   },
   {
    "duration": 22,
    "start_time": "2021-07-06T16:36:40.751Z"
   },
   {
    "duration": 11,
    "start_time": "2021-07-06T16:36:40.775Z"
   },
   {
    "duration": 37,
    "start_time": "2021-07-06T16:36:40.788Z"
   },
   {
    "duration": 15,
    "start_time": "2021-07-06T16:36:40.827Z"
   },
   {
    "duration": 3,
    "start_time": "2021-07-06T16:36:40.844Z"
   },
   {
    "duration": 5,
    "start_time": "2021-07-06T16:36:40.850Z"
   },
   {
    "duration": 4,
    "start_time": "2021-07-06T16:36:40.885Z"
   },
   {
    "duration": 9,
    "start_time": "2021-07-06T16:36:40.891Z"
   },
   {
    "duration": 10,
    "start_time": "2021-07-06T16:36:40.902Z"
   },
   {
    "duration": 11,
    "start_time": "2021-07-06T16:36:40.914Z"
   },
   {
    "duration": 5,
    "start_time": "2021-07-06T16:36:40.927Z"
   },
   {
    "duration": 8,
    "start_time": "2021-07-06T16:36:40.934Z"
   },
   {
    "duration": 49,
    "start_time": "2021-07-06T16:36:40.943Z"
   },
   {
    "duration": 5,
    "start_time": "2021-07-06T16:36:40.994Z"
   },
   {
    "duration": 13,
    "start_time": "2021-07-06T16:36:41.001Z"
   },
   {
    "duration": 5,
    "start_time": "2021-07-06T16:36:41.015Z"
   },
   {
    "duration": 7,
    "start_time": "2021-07-06T16:36:41.022Z"
   },
   {
    "duration": 2189,
    "start_time": "2021-07-06T16:36:41.030Z"
   },
   {
    "duration": 2287,
    "start_time": "2021-07-06T16:36:43.221Z"
   },
   {
    "duration": 2306,
    "start_time": "2021-07-06T16:36:45.510Z"
   },
   {
    "duration": 3,
    "start_time": "2021-07-06T16:36:47.819Z"
   },
   {
    "duration": 650,
    "start_time": "2021-07-06T16:36:47.825Z"
   },
   {
    "duration": 11,
    "start_time": "2021-07-06T16:36:48.477Z"
   },
   {
    "duration": 1817,
    "start_time": "2021-07-06T16:36:48.489Z"
   },
   {
    "duration": 1081,
    "start_time": "2021-07-06T16:36:50.307Z"
   },
   {
    "duration": 3,
    "start_time": "2021-07-06T16:36:51.389Z"
   },
   {
    "duration": 171,
    "start_time": "2021-07-06T16:36:51.394Z"
   },
   {
    "duration": 21,
    "start_time": "2021-07-06T16:36:51.567Z"
   },
   {
    "duration": 4,
    "start_time": "2021-07-06T16:36:51.590Z"
   },
   {
    "duration": 21,
    "start_time": "2021-07-06T16:36:51.596Z"
   },
   {
    "duration": 4,
    "start_time": "2021-07-06T16:36:51.619Z"
   },
   {
    "duration": 11,
    "start_time": "2021-07-06T16:36:55.321Z"
   },
   {
    "duration": 15,
    "start_time": "2021-07-06T16:37:05.847Z"
   },
   {
    "duration": 282,
    "start_time": "2021-07-06T16:37:12.842Z"
   },
   {
    "duration": 6,
    "start_time": "2021-07-06T16:37:18.514Z"
   },
   {
    "duration": 197,
    "start_time": "2021-07-06T16:37:36.587Z"
   },
   {
    "duration": 176,
    "start_time": "2021-07-06T16:37:52.926Z"
   },
   {
    "duration": 6,
    "start_time": "2021-07-06T16:38:06.003Z"
   },
   {
    "duration": 5,
    "start_time": "2021-07-06T16:38:17.244Z"
   },
   {
    "duration": 189,
    "start_time": "2021-07-06T16:38:49.599Z"
   },
   {
    "duration": 9,
    "start_time": "2021-07-06T16:38:53.993Z"
   },
   {
    "duration": 12,
    "start_time": "2021-07-06T16:39:06.655Z"
   },
   {
    "duration": 4,
    "start_time": "2021-07-06T16:39:37.954Z"
   },
   {
    "duration": 210,
    "start_time": "2021-07-06T16:39:54.032Z"
   },
   {
    "duration": 10,
    "start_time": "2021-07-06T16:40:03.022Z"
   },
   {
    "duration": 229,
    "start_time": "2021-07-06T16:40:05.502Z"
   },
   {
    "duration": 12,
    "start_time": "2021-07-06T16:40:20.460Z"
   },
   {
    "duration": 36,
    "start_time": "2021-07-06T16:40:22.050Z"
   },
   {
    "duration": 3,
    "start_time": "2021-07-06T16:40:26.146Z"
   },
   {
    "duration": 3,
    "start_time": "2021-07-06T16:40:34.679Z"
   },
   {
    "duration": 3,
    "start_time": "2021-07-06T16:40:35.039Z"
   },
   {
    "duration": 1359,
    "start_time": "2021-07-06T16:40:36.527Z"
   },
   {
    "duration": 4,
    "start_time": "2021-07-06T16:40:51.326Z"
   },
   {
    "duration": 54249,
    "start_time": "2021-07-06T16:40:53.934Z"
   },
   {
    "duration": 19,
    "start_time": "2021-07-06T16:41:52.673Z"
   },
   {
    "duration": 9,
    "start_time": "2021-07-06T16:41:55.699Z"
   },
   {
    "duration": 1178,
    "start_time": "2021-07-06T16:43:19.057Z"
   },
   {
    "duration": 732,
    "start_time": "2021-07-06T16:43:20.237Z"
   },
   {
    "duration": 22,
    "start_time": "2021-07-06T16:43:20.971Z"
   },
   {
    "duration": 4,
    "start_time": "2021-07-06T16:43:20.995Z"
   },
   {
    "duration": 42,
    "start_time": "2021-07-06T16:43:21.000Z"
   },
   {
    "duration": 16,
    "start_time": "2021-07-06T16:43:21.043Z"
   },
   {
    "duration": 3,
    "start_time": "2021-07-06T16:43:21.085Z"
   },
   {
    "duration": 6,
    "start_time": "2021-07-06T16:43:21.090Z"
   },
   {
    "duration": 4,
    "start_time": "2021-07-06T16:43:21.097Z"
   },
   {
    "duration": 6,
    "start_time": "2021-07-06T16:43:21.103Z"
   },
   {
    "duration": 9,
    "start_time": "2021-07-06T16:43:21.111Z"
   },
   {
    "duration": 11,
    "start_time": "2021-07-06T16:43:21.121Z"
   },
   {
    "duration": 6,
    "start_time": "2021-07-06T16:43:21.134Z"
   },
   {
    "duration": 6,
    "start_time": "2021-07-06T16:43:21.171Z"
   },
   {
    "duration": 21,
    "start_time": "2021-07-06T16:43:21.348Z"
   },
   {
    "duration": 12,
    "start_time": "2021-07-06T16:43:21.400Z"
   },
   {
    "duration": 18,
    "start_time": "2021-07-06T16:43:21.454Z"
   },
   {
    "duration": 6,
    "start_time": "2021-07-06T16:43:21.579Z"
   },
   {
    "duration": 7,
    "start_time": "2021-07-06T16:43:21.611Z"
   },
   {
    "duration": 2204,
    "start_time": "2021-07-06T16:43:21.656Z"
   },
   {
    "duration": 2282,
    "start_time": "2021-07-06T16:43:23.863Z"
   },
   {
    "duration": 2309,
    "start_time": "2021-07-06T16:43:26.147Z"
   },
   {
    "duration": 3,
    "start_time": "2021-07-06T16:43:28.458Z"
   },
   {
    "duration": 651,
    "start_time": "2021-07-06T16:43:28.463Z"
   },
   {
    "duration": 4,
    "start_time": "2021-07-06T16:43:29.115Z"
   },
   {
    "duration": 1822,
    "start_time": "2021-07-06T16:43:29.121Z"
   },
   {
    "duration": 1044,
    "start_time": "2021-07-06T16:43:30.945Z"
   },
   {
    "duration": 4,
    "start_time": "2021-07-06T16:43:31.991Z"
   },
   {
    "duration": 172,
    "start_time": "2021-07-06T16:43:31.996Z"
   },
   {
    "duration": 16,
    "start_time": "2021-07-06T16:43:32.170Z"
   },
   {
    "duration": 4,
    "start_time": "2021-07-06T16:43:32.188Z"
   },
   {
    "duration": 22,
    "start_time": "2021-07-06T16:43:32.194Z"
   },
   {
    "duration": 6,
    "start_time": "2021-07-06T16:43:32.218Z"
   },
   {
    "duration": 6,
    "start_time": "2021-07-06T16:43:32.225Z"
   },
   {
    "duration": 12,
    "start_time": "2021-07-06T16:43:32.233Z"
   },
   {
    "duration": 44,
    "start_time": "2021-07-06T16:43:32.246Z"
   },
   {
    "duration": 33,
    "start_time": "2021-07-06T16:43:32.293Z"
   },
   {
    "duration": 3,
    "start_time": "2021-07-06T16:43:33.311Z"
   },
   {
    "duration": 3,
    "start_time": "2021-07-06T16:43:34.009Z"
   },
   {
    "duration": 2,
    "start_time": "2021-07-06T16:43:34.347Z"
   },
   {
    "duration": 1242,
    "start_time": "2021-07-06T16:43:35.252Z"
   },
   {
    "duration": 4,
    "start_time": "2021-07-06T16:43:53.780Z"
   },
   {
    "duration": 55275,
    "start_time": "2021-07-06T16:43:54.661Z"
   },
   {
    "duration": 19,
    "start_time": "2021-07-06T16:44:57.535Z"
   },
   {
    "duration": 7,
    "start_time": "2021-07-06T16:45:15.930Z"
   },
   {
    "duration": 1075,
    "start_time": "2021-07-06T16:54:53.549Z"
   },
   {
    "duration": 742,
    "start_time": "2021-07-06T16:54:54.626Z"
   },
   {
    "duration": 25,
    "start_time": "2021-07-06T16:54:55.371Z"
   },
   {
    "duration": 3,
    "start_time": "2021-07-06T16:54:55.399Z"
   },
   {
    "duration": 42,
    "start_time": "2021-07-06T16:54:55.404Z"
   },
   {
    "duration": 38,
    "start_time": "2021-07-06T16:54:55.448Z"
   },
   {
    "duration": 3,
    "start_time": "2021-07-06T16:54:55.487Z"
   },
   {
    "duration": 5,
    "start_time": "2021-07-06T16:54:55.493Z"
   },
   {
    "duration": 5,
    "start_time": "2021-07-06T16:54:55.500Z"
   },
   {
    "duration": 9,
    "start_time": "2021-07-06T16:54:55.507Z"
   },
   {
    "duration": 8,
    "start_time": "2021-07-06T16:54:55.518Z"
   },
   {
    "duration": 12,
    "start_time": "2021-07-06T16:54:55.527Z"
   },
   {
    "duration": 4,
    "start_time": "2021-07-06T16:54:55.541Z"
   },
   {
    "duration": 39,
    "start_time": "2021-07-06T16:54:55.547Z"
   },
   {
    "duration": 28,
    "start_time": "2021-07-06T16:54:55.589Z"
   },
   {
    "duration": 12,
    "start_time": "2021-07-06T16:54:55.619Z"
   },
   {
    "duration": 17,
    "start_time": "2021-07-06T16:54:55.633Z"
   },
   {
    "duration": 5,
    "start_time": "2021-07-06T16:54:55.684Z"
   },
   {
    "duration": 7,
    "start_time": "2021-07-06T16:54:55.691Z"
   },
   {
    "duration": 2320,
    "start_time": "2021-07-06T16:54:55.699Z"
   },
   {
    "duration": 2328,
    "start_time": "2021-07-06T16:54:58.021Z"
   },
   {
    "duration": 2345,
    "start_time": "2021-07-06T16:55:00.351Z"
   },
   {
    "duration": 3,
    "start_time": "2021-07-06T16:55:02.699Z"
   },
   {
    "duration": 684,
    "start_time": "2021-07-06T16:55:02.704Z"
   },
   {
    "duration": 4,
    "start_time": "2021-07-06T16:55:03.390Z"
   },
   {
    "duration": 1911,
    "start_time": "2021-07-06T16:55:03.395Z"
   },
   {
    "duration": 1116,
    "start_time": "2021-07-06T16:55:05.308Z"
   },
   {
    "duration": 4,
    "start_time": "2021-07-06T16:55:06.427Z"
   },
   {
    "duration": 184,
    "start_time": "2021-07-06T16:55:06.433Z"
   },
   {
    "duration": 9,
    "start_time": "2021-07-06T16:55:06.618Z"
   },
   {
    "duration": 9,
    "start_time": "2021-07-06T16:55:06.629Z"
   },
   {
    "duration": 25,
    "start_time": "2021-07-06T16:55:06.640Z"
   },
   {
    "duration": 20,
    "start_time": "2021-07-06T16:55:06.667Z"
   },
   {
    "duration": 12,
    "start_time": "2021-07-06T16:55:06.689Z"
   },
   {
    "duration": 15,
    "start_time": "2021-07-06T16:55:06.703Z"
   },
   {
    "duration": 36,
    "start_time": "2021-07-06T16:55:06.720Z"
   },
   {
    "duration": 2,
    "start_time": "2021-07-06T16:55:06.758Z"
   },
   {
    "duration": 4831,
    "start_time": "2021-07-06T16:55:06.784Z"
   },
   {
    "duration": 240,
    "start_time": "2021-07-06T16:55:11.617Z"
   },
   {
    "duration": 188,
    "start_time": "2021-07-06T16:55:11.859Z"
   },
   {
    "duration": -453,
    "start_time": "2021-07-06T16:55:12.502Z"
   },
   {
    "duration": -459,
    "start_time": "2021-07-06T16:55:12.509Z"
   },
   {
    "duration": -463,
    "start_time": "2021-07-06T16:55:12.514Z"
   },
   {
    "duration": -465,
    "start_time": "2021-07-06T16:55:12.517Z"
   },
   {
    "duration": 209,
    "start_time": "2021-07-06T16:56:20.498Z"
   },
   {
    "duration": 168,
    "start_time": "2021-07-06T16:56:45.364Z"
   },
   {
    "duration": 1117,
    "start_time": "2021-07-06T16:56:52.006Z"
   },
   {
    "duration": 750,
    "start_time": "2021-07-06T16:56:53.126Z"
   },
   {
    "duration": 25,
    "start_time": "2021-07-06T16:56:53.878Z"
   },
   {
    "duration": 3,
    "start_time": "2021-07-06T16:56:53.905Z"
   },
   {
    "duration": 39,
    "start_time": "2021-07-06T16:56:53.910Z"
   },
   {
    "duration": 41,
    "start_time": "2021-07-06T16:56:53.951Z"
   },
   {
    "duration": 4,
    "start_time": "2021-07-06T16:56:53.994Z"
   },
   {
    "duration": 5,
    "start_time": "2021-07-06T16:56:54.001Z"
   },
   {
    "duration": 6,
    "start_time": "2021-07-06T16:56:54.008Z"
   },
   {
    "duration": 8,
    "start_time": "2021-07-06T16:56:54.016Z"
   },
   {
    "duration": 10,
    "start_time": "2021-07-06T16:56:54.025Z"
   },
   {
    "duration": 18,
    "start_time": "2021-07-06T16:56:54.037Z"
   },
   {
    "duration": 6,
    "start_time": "2021-07-06T16:56:54.085Z"
   },
   {
    "duration": 8,
    "start_time": "2021-07-06T16:56:54.093Z"
   },
   {
    "duration": 23,
    "start_time": "2021-07-06T16:56:54.103Z"
   },
   {
    "duration": 15,
    "start_time": "2021-07-06T16:56:54.128Z"
   },
   {
    "duration": 54,
    "start_time": "2021-07-06T16:56:54.145Z"
   },
   {
    "duration": 7,
    "start_time": "2021-07-06T16:56:54.201Z"
   },
   {
    "duration": 13,
    "start_time": "2021-07-06T16:56:54.210Z"
   },
   {
    "duration": 2236,
    "start_time": "2021-07-06T16:56:54.225Z"
   },
   {
    "duration": 2260,
    "start_time": "2021-07-06T16:56:56.463Z"
   },
   {
    "duration": 2362,
    "start_time": "2021-07-06T16:56:58.725Z"
   },
   {
    "duration": 3,
    "start_time": "2021-07-06T16:57:01.090Z"
   },
   {
    "duration": 660,
    "start_time": "2021-07-06T16:57:01.096Z"
   },
   {
    "duration": 5,
    "start_time": "2021-07-06T16:57:01.758Z"
   },
   {
    "duration": 1876,
    "start_time": "2021-07-06T16:57:01.765Z"
   },
   {
    "duration": 1097,
    "start_time": "2021-07-06T16:57:03.643Z"
   },
   {
    "duration": 4,
    "start_time": "2021-07-06T16:57:04.742Z"
   },
   {
    "duration": 191,
    "start_time": "2021-07-06T16:57:04.748Z"
   },
   {
    "duration": 9,
    "start_time": "2021-07-06T16:57:04.941Z"
   },
   {
    "duration": 6,
    "start_time": "2021-07-06T16:57:04.952Z"
   },
   {
    "duration": 44,
    "start_time": "2021-07-06T16:57:04.960Z"
   },
   {
    "duration": 4,
    "start_time": "2021-07-06T16:57:05.006Z"
   },
   {
    "duration": 16,
    "start_time": "2021-07-06T16:57:05.011Z"
   },
   {
    "duration": 16,
    "start_time": "2021-07-06T16:57:05.029Z"
   },
   {
    "duration": 60,
    "start_time": "2021-07-06T16:57:05.047Z"
   },
   {
    "duration": 2,
    "start_time": "2021-07-06T16:57:05.109Z"
   },
   {
    "duration": 4942,
    "start_time": "2021-07-06T16:57:05.113Z"
   },
   {
    "duration": 29704,
    "start_time": "2021-07-06T16:57:10.057Z"
   },
   {
    "duration": 1323,
    "start_time": "2021-07-06T16:57:39.763Z"
   },
   {
    "duration": 3,
    "start_time": "2021-07-06T16:57:41.089Z"
   },
   {
    "duration": 1108,
    "start_time": "2021-07-06T16:59:18.708Z"
   },
   {
    "duration": 717,
    "start_time": "2021-07-06T16:59:19.818Z"
   },
   {
    "duration": 22,
    "start_time": "2021-07-06T16:59:20.539Z"
   },
   {
    "duration": 2,
    "start_time": "2021-07-06T16:59:20.563Z"
   },
   {
    "duration": 37,
    "start_time": "2021-07-06T16:59:20.585Z"
   },
   {
    "duration": 13,
    "start_time": "2021-07-06T16:59:20.624Z"
   },
   {
    "duration": 2,
    "start_time": "2021-07-06T16:59:20.640Z"
   },
   {
    "duration": 5,
    "start_time": "2021-07-06T16:59:20.644Z"
   },
   {
    "duration": 4,
    "start_time": "2021-07-06T16:59:20.650Z"
   },
   {
    "duration": 29,
    "start_time": "2021-07-06T16:59:20.656Z"
   },
   {
    "duration": 6,
    "start_time": "2021-07-06T16:59:20.687Z"
   },
   {
    "duration": 12,
    "start_time": "2021-07-06T16:59:20.694Z"
   },
   {
    "duration": 7,
    "start_time": "2021-07-06T16:59:20.707Z"
   },
   {
    "duration": 8,
    "start_time": "2021-07-06T16:59:20.715Z"
   },
   {
    "duration": 18,
    "start_time": "2021-07-06T16:59:20.724Z"
   },
   {
    "duration": 42,
    "start_time": "2021-07-06T16:59:20.744Z"
   },
   {
    "duration": 13,
    "start_time": "2021-07-06T16:59:20.787Z"
   },
   {
    "duration": 5,
    "start_time": "2021-07-06T16:59:20.802Z"
   },
   {
    "duration": 9,
    "start_time": "2021-07-06T16:59:20.808Z"
   },
   {
    "duration": 2251,
    "start_time": "2021-07-06T16:59:20.819Z"
   },
   {
    "duration": 2361,
    "start_time": "2021-07-06T16:59:23.072Z"
   },
   {
    "duration": 2383,
    "start_time": "2021-07-06T16:59:25.438Z"
   },
   {
    "duration": 3,
    "start_time": "2021-07-06T16:59:27.823Z"
   },
   {
    "duration": 629,
    "start_time": "2021-07-06T16:59:27.828Z"
   },
   {
    "duration": 4,
    "start_time": "2021-07-06T16:59:28.459Z"
   },
   {
    "duration": 1841,
    "start_time": "2021-07-06T16:59:28.465Z"
   },
   {
    "duration": 1082,
    "start_time": "2021-07-06T16:59:30.308Z"
   },
   {
    "duration": 4,
    "start_time": "2021-07-06T16:59:31.391Z"
   },
   {
    "duration": 179,
    "start_time": "2021-07-06T16:59:31.397Z"
   },
   {
    "duration": 12,
    "start_time": "2021-07-06T16:59:31.578Z"
   },
   {
    "duration": 6,
    "start_time": "2021-07-06T16:59:31.591Z"
   },
   {
    "duration": 23,
    "start_time": "2021-07-06T16:59:31.598Z"
   },
   {
    "duration": 4,
    "start_time": "2021-07-06T16:59:31.623Z"
   },
   {
    "duration": 12,
    "start_time": "2021-07-06T16:59:31.629Z"
   },
   {
    "duration": 13,
    "start_time": "2021-07-06T16:59:31.643Z"
   },
   {
    "duration": 34,
    "start_time": "2021-07-06T16:59:31.684Z"
   },
   {
    "duration": 3,
    "start_time": "2021-07-06T16:59:31.719Z"
   },
   {
    "duration": 4790,
    "start_time": "2021-07-06T16:59:31.723Z"
   },
   {
    "duration": 27657,
    "start_time": "2021-07-06T16:59:36.514Z"
   },
   {
    "duration": 1315,
    "start_time": "2021-07-06T17:00:04.172Z"
   },
   {
    "duration": 5,
    "start_time": "2021-07-06T17:00:05.489Z"
   },
   {
    "duration": 1226,
    "start_time": "2021-07-06T17:03:15.493Z"
   },
   {
    "duration": 692,
    "start_time": "2021-07-06T17:03:16.721Z"
   },
   {
    "duration": 23,
    "start_time": "2021-07-06T17:03:17.415Z"
   },
   {
    "duration": 2,
    "start_time": "2021-07-06T17:03:17.440Z"
   },
   {
    "duration": 51,
    "start_time": "2021-07-06T17:03:17.444Z"
   },
   {
    "duration": 13,
    "start_time": "2021-07-06T17:03:17.497Z"
   },
   {
    "duration": 3,
    "start_time": "2021-07-06T17:03:17.512Z"
   },
   {
    "duration": 19,
    "start_time": "2021-07-06T17:03:17.517Z"
   },
   {
    "duration": 10,
    "start_time": "2021-07-06T17:03:17.538Z"
   },
   {
    "duration": 11,
    "start_time": "2021-07-06T17:03:17.550Z"
   },
   {
    "duration": 20,
    "start_time": "2021-07-06T17:03:17.562Z"
   },
   {
    "duration": 15,
    "start_time": "2021-07-06T17:03:17.584Z"
   },
   {
    "duration": 17,
    "start_time": "2021-07-06T17:03:17.601Z"
   },
   {
    "duration": 15,
    "start_time": "2021-07-06T17:03:17.619Z"
   },
   {
    "duration": 21,
    "start_time": "2021-07-06T17:03:17.635Z"
   },
   {
    "duration": 11,
    "start_time": "2021-07-06T17:03:17.658Z"
   },
   {
    "duration": 22,
    "start_time": "2021-07-06T17:03:17.670Z"
   },
   {
    "duration": 4,
    "start_time": "2021-07-06T17:03:17.693Z"
   },
   {
    "duration": 7,
    "start_time": "2021-07-06T17:03:17.699Z"
   },
   {
    "duration": 2174,
    "start_time": "2021-07-06T17:03:17.707Z"
   },
   {
    "duration": 2149,
    "start_time": "2021-07-06T17:03:19.883Z"
   },
   {
    "duration": 2231,
    "start_time": "2021-07-06T17:03:22.034Z"
   },
   {
    "duration": 3,
    "start_time": "2021-07-06T17:03:24.268Z"
   },
   {
    "duration": 684,
    "start_time": "2021-07-06T17:03:24.273Z"
   },
   {
    "duration": 4,
    "start_time": "2021-07-06T17:03:24.958Z"
   },
   {
    "duration": 1896,
    "start_time": "2021-07-06T17:03:24.964Z"
   },
   {
    "duration": 1089,
    "start_time": "2021-07-06T17:03:26.862Z"
   },
   {
    "duration": 4,
    "start_time": "2021-07-06T17:03:27.952Z"
   },
   {
    "duration": 174,
    "start_time": "2021-07-06T17:03:27.958Z"
   },
   {
    "duration": 9,
    "start_time": "2021-07-06T17:03:28.133Z"
   },
   {
    "duration": 4,
    "start_time": "2021-07-06T17:03:28.144Z"
   },
   {
    "duration": 45,
    "start_time": "2021-07-06T17:03:28.149Z"
   },
   {
    "duration": 4,
    "start_time": "2021-07-06T17:03:28.195Z"
   },
   {
    "duration": 13,
    "start_time": "2021-07-06T17:03:28.201Z"
   },
   {
    "duration": 15,
    "start_time": "2021-07-06T17:03:28.216Z"
   },
   {
    "duration": 59,
    "start_time": "2021-07-06T17:03:28.232Z"
   },
   {
    "duration": 2,
    "start_time": "2021-07-06T17:03:28.293Z"
   },
   {
    "duration": 4769,
    "start_time": "2021-07-06T17:03:28.297Z"
   },
   {
    "duration": 27816,
    "start_time": "2021-07-06T17:03:33.068Z"
   },
   {
    "duration": 1204,
    "start_time": "2021-07-06T17:04:00.886Z"
   },
   {
    "duration": 92,
    "start_time": "2021-07-06T17:04:02.093Z"
   },
   {
    "duration": 1084,
    "start_time": "2021-07-06T17:06:25.229Z"
   },
   {
    "duration": 704,
    "start_time": "2021-07-06T17:06:26.315Z"
   },
   {
    "duration": 24,
    "start_time": "2021-07-06T17:06:27.022Z"
   },
   {
    "duration": 3,
    "start_time": "2021-07-06T17:06:27.048Z"
   },
   {
    "duration": 59,
    "start_time": "2021-07-06T17:06:27.053Z"
   },
   {
    "duration": 15,
    "start_time": "2021-07-06T17:06:27.114Z"
   },
   {
    "duration": 3,
    "start_time": "2021-07-06T17:06:27.131Z"
   },
   {
    "duration": 6,
    "start_time": "2021-07-06T17:06:27.136Z"
   },
   {
    "duration": 4,
    "start_time": "2021-07-06T17:06:27.144Z"
   },
   {
    "duration": 6,
    "start_time": "2021-07-06T17:06:27.149Z"
   },
   {
    "duration": 7,
    "start_time": "2021-07-06T17:06:27.185Z"
   },
   {
    "duration": 12,
    "start_time": "2021-07-06T17:06:27.193Z"
   },
   {
    "duration": 6,
    "start_time": "2021-07-06T17:06:27.207Z"
   },
   {
    "duration": 8,
    "start_time": "2021-07-06T17:06:27.215Z"
   },
   {
    "duration": 20,
    "start_time": "2021-07-06T17:06:27.224Z"
   },
   {
    "duration": 13,
    "start_time": "2021-07-06T17:06:27.285Z"
   },
   {
    "duration": 18,
    "start_time": "2021-07-06T17:06:27.299Z"
   },
   {
    "duration": 5,
    "start_time": "2021-07-06T17:06:27.319Z"
   },
   {
    "duration": 8,
    "start_time": "2021-07-06T17:06:27.326Z"
   },
   {
    "duration": 2192,
    "start_time": "2021-07-06T17:06:27.335Z"
   },
   {
    "duration": 2293,
    "start_time": "2021-07-06T17:06:29.530Z"
   },
   {
    "duration": 2235,
    "start_time": "2021-07-06T17:06:31.825Z"
   },
   {
    "duration": 3,
    "start_time": "2021-07-06T17:06:34.064Z"
   },
   {
    "duration": 661,
    "start_time": "2021-07-06T17:06:34.070Z"
   },
   {
    "duration": 5,
    "start_time": "2021-07-06T17:06:34.733Z"
   },
   {
    "duration": 1877,
    "start_time": "2021-07-06T17:06:34.740Z"
   },
   {
    "duration": 1084,
    "start_time": "2021-07-06T17:06:36.619Z"
   },
   {
    "duration": 4,
    "start_time": "2021-07-06T17:06:37.706Z"
   },
   {
    "duration": 216,
    "start_time": "2021-07-06T17:06:37.712Z"
   },
   {
    "duration": 10,
    "start_time": "2021-07-06T17:06:37.930Z"
   },
   {
    "duration": 4,
    "start_time": "2021-07-06T17:06:37.942Z"
   },
   {
    "duration": 48,
    "start_time": "2021-07-06T17:06:37.948Z"
   },
   {
    "duration": 5,
    "start_time": "2021-07-06T17:06:37.998Z"
   },
   {
    "duration": 12,
    "start_time": "2021-07-06T17:06:38.004Z"
   },
   {
    "duration": 15,
    "start_time": "2021-07-06T17:06:38.018Z"
   },
   {
    "duration": 57,
    "start_time": "2021-07-06T17:06:38.035Z"
   },
   {
    "duration": 3,
    "start_time": "2021-07-06T17:06:38.094Z"
   },
   {
    "duration": 4724,
    "start_time": "2021-07-06T17:06:38.099Z"
   },
   {
    "duration": 27760,
    "start_time": "2021-07-06T17:06:42.825Z"
   },
   {
    "duration": 1302,
    "start_time": "2021-07-06T17:07:10.587Z"
   },
   {
    "duration": 5,
    "start_time": "2021-07-06T17:07:11.891Z"
   },
   {
    "duration": 1166,
    "start_time": "2021-07-06T17:07:50.549Z"
   },
   {
    "duration": 704,
    "start_time": "2021-07-06T17:07:51.717Z"
   },
   {
    "duration": 24,
    "start_time": "2021-07-06T17:07:52.423Z"
   },
   {
    "duration": 3,
    "start_time": "2021-07-06T17:07:52.449Z"
   },
   {
    "duration": 60,
    "start_time": "2021-07-06T17:07:52.453Z"
   },
   {
    "duration": 15,
    "start_time": "2021-07-06T17:07:52.515Z"
   },
   {
    "duration": 4,
    "start_time": "2021-07-06T17:07:52.531Z"
   },
   {
    "duration": 7,
    "start_time": "2021-07-06T17:07:52.536Z"
   },
   {
    "duration": 5,
    "start_time": "2021-07-06T17:07:52.546Z"
   },
   {
    "duration": 7,
    "start_time": "2021-07-06T17:07:52.553Z"
   },
   {
    "duration": 26,
    "start_time": "2021-07-06T17:07:52.561Z"
   },
   {
    "duration": 12,
    "start_time": "2021-07-06T17:07:52.589Z"
   },
   {
    "duration": 5,
    "start_time": "2021-07-06T17:07:52.603Z"
   },
   {
    "duration": 13,
    "start_time": "2021-07-06T17:07:52.610Z"
   },
   {
    "duration": 17,
    "start_time": "2021-07-06T17:07:52.625Z"
   },
   {
    "duration": 41,
    "start_time": "2021-07-06T17:07:52.644Z"
   },
   {
    "duration": 14,
    "start_time": "2021-07-06T17:07:52.686Z"
   },
   {
    "duration": 5,
    "start_time": "2021-07-06T17:07:52.701Z"
   },
   {
    "duration": 7,
    "start_time": "2021-07-06T17:07:52.708Z"
   },
   {
    "duration": 2198,
    "start_time": "2021-07-06T17:07:52.716Z"
   },
   {
    "duration": 2115,
    "start_time": "2021-07-06T17:07:54.916Z"
   },
   {
    "duration": 2164,
    "start_time": "2021-07-06T17:07:57.033Z"
   },
   {
    "duration": 3,
    "start_time": "2021-07-06T17:07:59.199Z"
   },
   {
    "duration": 683,
    "start_time": "2021-07-06T17:07:59.204Z"
   },
   {
    "duration": 4,
    "start_time": "2021-07-06T17:07:59.889Z"
   },
   {
    "duration": 1828,
    "start_time": "2021-07-06T17:07:59.895Z"
   },
   {
    "duration": 1043,
    "start_time": "2021-07-06T17:08:01.726Z"
   },
   {
    "duration": 4,
    "start_time": "2021-07-06T17:08:02.771Z"
   },
   {
    "duration": 180,
    "start_time": "2021-07-06T17:08:02.784Z"
   },
   {
    "duration": 8,
    "start_time": "2021-07-06T17:08:02.965Z"
   },
   {
    "duration": 14,
    "start_time": "2021-07-06T17:08:02.975Z"
   },
   {
    "duration": 28,
    "start_time": "2021-07-06T17:08:02.991Z"
   },
   {
    "duration": 4,
    "start_time": "2021-07-06T17:08:03.020Z"
   },
   {
    "duration": 15,
    "start_time": "2021-07-06T17:08:03.026Z"
   },
   {
    "duration": 15,
    "start_time": "2021-07-06T17:08:03.042Z"
   },
   {
    "duration": 51,
    "start_time": "2021-07-06T17:08:03.058Z"
   },
   {
    "duration": 2,
    "start_time": "2021-07-06T17:08:03.111Z"
   },
   {
    "duration": 5093,
    "start_time": "2021-07-06T17:08:03.115Z"
   },
   {
    "duration": 28086,
    "start_time": "2021-07-06T17:08:08.210Z"
   },
   {
    "duration": 1192,
    "start_time": "2021-07-06T17:08:36.298Z"
   },
   {
    "duration": 3,
    "start_time": "2021-07-06T17:08:37.492Z"
   },
   {
    "duration": 96,
    "start_time": "2021-07-06T17:08:37.497Z"
   },
   {
    "duration": 8,
    "start_time": "2021-07-06T17:08:37.595Z"
   },
   {
    "duration": 394,
    "start_time": "2021-07-06T17:08:37.604Z"
   },
   {
    "duration": 186,
    "start_time": "2021-07-06T17:08:38.000Z"
   },
   {
    "duration": -451,
    "start_time": "2021-07-06T17:08:38.639Z"
   },
   {
    "duration": 293,
    "start_time": "2021-07-06T17:09:11.964Z"
   },
   {
    "duration": 183,
    "start_time": "2021-07-06T17:10:00.402Z"
   },
   {
    "duration": 8,
    "start_time": "2021-07-06T17:10:03.164Z"
   },
   {
    "duration": 1057,
    "start_time": "2021-07-06T17:11:02.145Z"
   },
   {
    "duration": 692,
    "start_time": "2021-07-06T17:11:03.204Z"
   },
   {
    "duration": 24,
    "start_time": "2021-07-06T17:11:03.898Z"
   },
   {
    "duration": 2,
    "start_time": "2021-07-06T17:11:03.924Z"
   },
   {
    "duration": 58,
    "start_time": "2021-07-06T17:11:03.928Z"
   },
   {
    "duration": 15,
    "start_time": "2021-07-06T17:11:03.988Z"
   },
   {
    "duration": 4,
    "start_time": "2021-07-06T17:11:04.004Z"
   },
   {
    "duration": 5,
    "start_time": "2021-07-06T17:11:04.010Z"
   },
   {
    "duration": 6,
    "start_time": "2021-07-06T17:11:04.017Z"
   },
   {
    "duration": 6,
    "start_time": "2021-07-06T17:11:04.024Z"
   },
   {
    "duration": 8,
    "start_time": "2021-07-06T17:11:04.032Z"
   },
   {
    "duration": 13,
    "start_time": "2021-07-06T17:11:04.042Z"
   },
   {
    "duration": 33,
    "start_time": "2021-07-06T17:11:04.056Z"
   },
   {
    "duration": 11,
    "start_time": "2021-07-06T17:11:04.091Z"
   },
   {
    "duration": 17,
    "start_time": "2021-07-06T17:11:04.104Z"
   },
   {
    "duration": 8,
    "start_time": "2021-07-06T17:11:04.123Z"
   },
   {
    "duration": 14,
    "start_time": "2021-07-06T17:11:04.133Z"
   },
   {
    "duration": 40,
    "start_time": "2021-07-06T17:11:04.149Z"
   },
   {
    "duration": 8,
    "start_time": "2021-07-06T17:11:04.191Z"
   },
   {
    "duration": 2194,
    "start_time": "2021-07-06T17:11:04.201Z"
   },
   {
    "duration": 2177,
    "start_time": "2021-07-06T17:11:06.397Z"
   },
   {
    "duration": 2235,
    "start_time": "2021-07-06T17:11:08.576Z"
   },
   {
    "duration": 3,
    "start_time": "2021-07-06T17:11:10.814Z"
   },
   {
    "duration": 658,
    "start_time": "2021-07-06T17:11:10.820Z"
   },
   {
    "duration": 7,
    "start_time": "2021-07-06T17:11:11.479Z"
   },
   {
    "duration": 1886,
    "start_time": "2021-07-06T17:11:11.488Z"
   },
   {
    "duration": 1065,
    "start_time": "2021-07-06T17:11:13.376Z"
   },
   {
    "duration": 4,
    "start_time": "2021-07-06T17:11:14.442Z"
   },
   {
    "duration": 174,
    "start_time": "2021-07-06T17:11:14.447Z"
   },
   {
    "duration": 8,
    "start_time": "2021-07-06T17:11:14.623Z"
   },
   {
    "duration": 7,
    "start_time": "2021-07-06T17:11:14.632Z"
   },
   {
    "duration": 22,
    "start_time": "2021-07-06T17:11:14.640Z"
   },
   {
    "duration": 24,
    "start_time": "2021-07-06T17:11:14.663Z"
   },
   {
    "duration": 12,
    "start_time": "2021-07-06T17:11:14.689Z"
   },
   {
    "duration": 13,
    "start_time": "2021-07-06T17:11:14.703Z"
   },
   {
    "duration": 33,
    "start_time": "2021-07-06T17:11:14.718Z"
   },
   {
    "duration": 2,
    "start_time": "2021-07-06T17:11:14.753Z"
   },
   {
    "duration": 4778,
    "start_time": "2021-07-06T17:11:14.784Z"
   },
   {
    "duration": 27756,
    "start_time": "2021-07-06T17:11:19.563Z"
   },
   {
    "duration": 1365,
    "start_time": "2021-07-06T17:11:47.321Z"
   },
   {
    "duration": 5,
    "start_time": "2021-07-06T17:11:48.688Z"
   },
   {
    "duration": 1129,
    "start_time": "2021-07-06T17:12:54.780Z"
   },
   {
    "duration": 695,
    "start_time": "2021-07-06T17:12:55.911Z"
   },
   {
    "duration": 25,
    "start_time": "2021-07-06T17:12:56.608Z"
   },
   {
    "duration": 5,
    "start_time": "2021-07-06T17:12:56.635Z"
   },
   {
    "duration": 53,
    "start_time": "2021-07-06T17:12:56.641Z"
   },
   {
    "duration": 14,
    "start_time": "2021-07-06T17:12:56.695Z"
   },
   {
    "duration": 3,
    "start_time": "2021-07-06T17:12:56.710Z"
   },
   {
    "duration": 8,
    "start_time": "2021-07-06T17:12:56.715Z"
   },
   {
    "duration": 4,
    "start_time": "2021-07-06T17:12:56.726Z"
   },
   {
    "duration": 5,
    "start_time": "2021-07-06T17:12:56.732Z"
   },
   {
    "duration": 7,
    "start_time": "2021-07-06T17:12:56.739Z"
   },
   {
    "duration": 40,
    "start_time": "2021-07-06T17:12:56.748Z"
   },
   {
    "duration": 6,
    "start_time": "2021-07-06T17:12:56.790Z"
   },
   {
    "duration": 8,
    "start_time": "2021-07-06T17:12:56.797Z"
   },
   {
    "duration": 19,
    "start_time": "2021-07-06T17:12:56.807Z"
   },
   {
    "duration": 67,
    "start_time": "2021-07-06T17:12:56.828Z"
   },
   {
    "duration": 15,
    "start_time": "2021-07-06T17:12:56.897Z"
   },
   {
    "duration": 5,
    "start_time": "2021-07-06T17:12:56.914Z"
   },
   {
    "duration": 7,
    "start_time": "2021-07-06T17:12:56.920Z"
   },
   {
    "duration": 2224,
    "start_time": "2021-07-06T17:12:56.928Z"
   },
   {
    "duration": 2295,
    "start_time": "2021-07-06T17:12:59.153Z"
   },
   {
    "duration": 2215,
    "start_time": "2021-07-06T17:13:01.450Z"
   },
   {
    "duration": 3,
    "start_time": "2021-07-06T17:13:03.669Z"
   },
   {
    "duration": 640,
    "start_time": "2021-07-06T17:13:03.685Z"
   },
   {
    "duration": 5,
    "start_time": "2021-07-06T17:13:04.326Z"
   },
   {
    "duration": 1880,
    "start_time": "2021-07-06T17:13:04.332Z"
   },
   {
    "duration": 1070,
    "start_time": "2021-07-06T17:13:06.214Z"
   },
   {
    "duration": 5,
    "start_time": "2021-07-06T17:13:07.286Z"
   },
   {
    "duration": 176,
    "start_time": "2021-07-06T17:13:07.292Z"
   },
   {
    "duration": 18,
    "start_time": "2021-07-06T17:13:07.470Z"
   },
   {
    "duration": 4,
    "start_time": "2021-07-06T17:13:07.490Z"
   },
   {
    "duration": 24,
    "start_time": "2021-07-06T17:13:07.495Z"
   },
   {
    "duration": 3,
    "start_time": "2021-07-06T17:13:07.521Z"
   },
   {
    "duration": 13,
    "start_time": "2021-07-06T17:13:07.526Z"
   },
   {
    "duration": 44,
    "start_time": "2021-07-06T17:13:07.541Z"
   },
   {
    "duration": 37,
    "start_time": "2021-07-06T17:13:07.587Z"
   },
   {
    "duration": 3,
    "start_time": "2021-07-06T17:13:07.625Z"
   },
   {
    "duration": 4777,
    "start_time": "2021-07-06T17:13:07.630Z"
   },
   {
    "duration": 1064,
    "start_time": "2021-07-06T17:13:44.872Z"
   },
   {
    "duration": 696,
    "start_time": "2021-07-06T17:13:45.938Z"
   },
   {
    "duration": 22,
    "start_time": "2021-07-06T17:13:46.636Z"
   },
   {
    "duration": 2,
    "start_time": "2021-07-06T17:13:46.660Z"
   },
   {
    "duration": 44,
    "start_time": "2021-07-06T17:13:46.664Z"
   },
   {
    "duration": 13,
    "start_time": "2021-07-06T17:13:46.710Z"
   },
   {
    "duration": 3,
    "start_time": "2021-07-06T17:13:46.724Z"
   },
   {
    "duration": 5,
    "start_time": "2021-07-06T17:13:46.729Z"
   },
   {
    "duration": 4,
    "start_time": "2021-07-06T17:13:46.736Z"
   },
   {
    "duration": 5,
    "start_time": "2021-07-06T17:13:46.742Z"
   },
   {
    "duration": 7,
    "start_time": "2021-07-06T17:13:46.748Z"
   },
   {
    "duration": 11,
    "start_time": "2021-07-06T17:13:46.785Z"
   },
   {
    "duration": 5,
    "start_time": "2021-07-06T17:13:46.798Z"
   },
   {
    "duration": 11,
    "start_time": "2021-07-06T17:13:46.804Z"
   },
   {
    "duration": 16,
    "start_time": "2021-07-06T17:13:46.816Z"
   },
   {
    "duration": 53,
    "start_time": "2021-07-06T17:13:46.833Z"
   },
   {
    "duration": 14,
    "start_time": "2021-07-06T17:13:46.888Z"
   },
   {
    "duration": 4,
    "start_time": "2021-07-06T17:13:46.903Z"
   },
   {
    "duration": 8,
    "start_time": "2021-07-06T17:13:46.909Z"
   },
   {
    "duration": 2163,
    "start_time": "2021-07-06T17:13:46.919Z"
   },
   {
    "duration": 2182,
    "start_time": "2021-07-06T17:13:49.084Z"
   },
   {
    "duration": 2240,
    "start_time": "2021-07-06T17:13:51.267Z"
   },
   {
    "duration": 4,
    "start_time": "2021-07-06T17:13:53.512Z"
   },
   {
    "duration": 656,
    "start_time": "2021-07-06T17:13:53.518Z"
   },
   {
    "duration": 11,
    "start_time": "2021-07-06T17:13:54.177Z"
   },
   {
    "duration": 1836,
    "start_time": "2021-07-06T17:13:54.190Z"
   },
   {
    "duration": 1068,
    "start_time": "2021-07-06T17:13:56.028Z"
   },
   {
    "duration": 3,
    "start_time": "2021-07-06T17:13:57.099Z"
   },
   {
    "duration": 180,
    "start_time": "2021-07-06T17:13:57.104Z"
   },
   {
    "duration": 10,
    "start_time": "2021-07-06T17:13:57.286Z"
   },
   {
    "duration": 5,
    "start_time": "2021-07-06T17:13:57.298Z"
   },
   {
    "duration": 22,
    "start_time": "2021-07-06T17:13:57.305Z"
   },
   {
    "duration": 4,
    "start_time": "2021-07-06T17:13:57.329Z"
   },
   {
    "duration": 12,
    "start_time": "2021-07-06T17:13:57.335Z"
   },
   {
    "duration": 15,
    "start_time": "2021-07-06T17:13:57.385Z"
   },
   {
    "duration": 2,
    "start_time": "2021-07-06T17:13:57.401Z"
   },
   {
    "duration": 5,
    "start_time": "2021-07-06T17:13:57.405Z"
   },
   {
    "duration": 4828,
    "start_time": "2021-07-06T17:13:57.411Z"
   },
   {
    "duration": 1037,
    "start_time": "2021-07-06T17:15:17.030Z"
   },
   {
    "duration": 692,
    "start_time": "2021-07-06T17:15:18.069Z"
   },
   {
    "duration": 23,
    "start_time": "2021-07-06T17:15:18.762Z"
   },
   {
    "duration": 2,
    "start_time": "2021-07-06T17:15:18.787Z"
   },
   {
    "duration": 35,
    "start_time": "2021-07-06T17:15:18.791Z"
   },
   {
    "duration": 15,
    "start_time": "2021-07-06T17:15:18.828Z"
   },
   {
    "duration": 3,
    "start_time": "2021-07-06T17:15:18.844Z"
   },
   {
    "duration": 14,
    "start_time": "2021-07-06T17:15:18.849Z"
   },
   {
    "duration": 3,
    "start_time": "2021-07-06T17:15:18.885Z"
   },
   {
    "duration": 10,
    "start_time": "2021-07-06T17:15:18.889Z"
   },
   {
    "duration": 10,
    "start_time": "2021-07-06T17:15:18.901Z"
   },
   {
    "duration": 13,
    "start_time": "2021-07-06T17:15:18.912Z"
   },
   {
    "duration": 5,
    "start_time": "2021-07-06T17:15:18.926Z"
   },
   {
    "duration": 9,
    "start_time": "2021-07-06T17:15:18.933Z"
   },
   {
    "duration": 15,
    "start_time": "2021-07-06T17:15:18.944Z"
   },
   {
    "duration": 26,
    "start_time": "2021-07-06T17:15:18.961Z"
   },
   {
    "duration": 13,
    "start_time": "2021-07-06T17:15:18.988Z"
   },
   {
    "duration": 5,
    "start_time": "2021-07-06T17:15:19.002Z"
   },
   {
    "duration": 7,
    "start_time": "2021-07-06T17:15:19.008Z"
   },
   {
    "duration": 2213,
    "start_time": "2021-07-06T17:15:19.016Z"
   },
   {
    "duration": 2367,
    "start_time": "2021-07-06T17:15:21.231Z"
   },
   {
    "duration": 2361,
    "start_time": "2021-07-06T17:15:23.599Z"
   },
   {
    "duration": 3,
    "start_time": "2021-07-06T17:15:25.964Z"
   },
   {
    "duration": 657,
    "start_time": "2021-07-06T17:15:25.969Z"
   },
   {
    "duration": 5,
    "start_time": "2021-07-06T17:15:26.628Z"
   },
   {
    "duration": 1809,
    "start_time": "2021-07-06T17:15:26.635Z"
   },
   {
    "duration": 1025,
    "start_time": "2021-07-06T17:15:28.446Z"
   },
   {
    "duration": 3,
    "start_time": "2021-07-06T17:15:29.473Z"
   },
   {
    "duration": 177,
    "start_time": "2021-07-06T17:15:29.485Z"
   },
   {
    "duration": 9,
    "start_time": "2021-07-06T17:15:29.663Z"
   },
   {
    "duration": 12,
    "start_time": "2021-07-06T17:15:29.673Z"
   },
   {
    "duration": 24,
    "start_time": "2021-07-06T17:15:29.687Z"
   },
   {
    "duration": 4,
    "start_time": "2021-07-06T17:15:29.712Z"
   },
   {
    "duration": 14,
    "start_time": "2021-07-06T17:15:29.717Z"
   },
   {
    "duration": 53,
    "start_time": "2021-07-06T17:15:29.733Z"
   },
   {
    "duration": 11,
    "start_time": "2021-07-06T17:15:29.787Z"
   },
   {
    "duration": 6,
    "start_time": "2021-07-06T17:15:29.800Z"
   },
   {
    "duration": 8,
    "start_time": "2021-07-06T17:15:29.808Z"
   },
   {
    "duration": 4751,
    "start_time": "2021-07-06T17:15:29.818Z"
   },
   {
    "duration": 27623,
    "start_time": "2021-07-06T17:15:34.571Z"
   },
   {
    "duration": 1091,
    "start_time": "2021-07-06T17:16:02.195Z"
   },
   {
    "duration": 3,
    "start_time": "2021-07-06T17:16:03.288Z"
   },
   {
    "duration": 1144,
    "start_time": "2021-07-06T17:17:18.967Z"
   },
   {
    "duration": 695,
    "start_time": "2021-07-06T17:17:20.113Z"
   },
   {
    "duration": 24,
    "start_time": "2021-07-06T17:17:20.813Z"
   },
   {
    "duration": 2,
    "start_time": "2021-07-06T17:17:20.839Z"
   },
   {
    "duration": 50,
    "start_time": "2021-07-06T17:17:20.842Z"
   },
   {
    "duration": 13,
    "start_time": "2021-07-06T17:17:20.894Z"
   },
   {
    "duration": 4,
    "start_time": "2021-07-06T17:17:20.909Z"
   },
   {
    "duration": 7,
    "start_time": "2021-07-06T17:17:20.915Z"
   },
   {
    "duration": 4,
    "start_time": "2021-07-06T17:17:20.924Z"
   },
   {
    "duration": 7,
    "start_time": "2021-07-06T17:17:20.930Z"
   },
   {
    "duration": 9,
    "start_time": "2021-07-06T17:17:20.939Z"
   },
   {
    "duration": 36,
    "start_time": "2021-07-06T17:17:20.950Z"
   },
   {
    "duration": 4,
    "start_time": "2021-07-06T17:17:20.987Z"
   },
   {
    "duration": 7,
    "start_time": "2021-07-06T17:17:20.993Z"
   },
   {
    "duration": 16,
    "start_time": "2021-07-06T17:17:21.002Z"
   },
   {
    "duration": 5,
    "start_time": "2021-07-06T17:17:21.020Z"
   },
   {
    "duration": 15,
    "start_time": "2021-07-06T17:17:21.027Z"
   },
   {
    "duration": 4,
    "start_time": "2021-07-06T17:17:21.044Z"
   },
   {
    "duration": 7,
    "start_time": "2021-07-06T17:17:21.085Z"
   },
   {
    "duration": 2196,
    "start_time": "2021-07-06T17:17:21.093Z"
   },
   {
    "duration": 2265,
    "start_time": "2021-07-06T17:17:23.291Z"
   },
   {
    "duration": 2283,
    "start_time": "2021-07-06T17:17:25.559Z"
   },
   {
    "duration": 3,
    "start_time": "2021-07-06T17:17:27.844Z"
   },
   {
    "duration": 654,
    "start_time": "2021-07-06T17:17:27.850Z"
   },
   {
    "duration": 5,
    "start_time": "2021-07-06T17:17:28.506Z"
   },
   {
    "duration": 1872,
    "start_time": "2021-07-06T17:17:28.512Z"
   },
   {
    "duration": 1080,
    "start_time": "2021-07-06T17:17:30.386Z"
   },
   {
    "duration": 3,
    "start_time": "2021-07-06T17:17:31.468Z"
   },
   {
    "duration": 190,
    "start_time": "2021-07-06T17:17:31.473Z"
   },
   {
    "duration": 9,
    "start_time": "2021-07-06T17:17:31.664Z"
   },
   {
    "duration": 6,
    "start_time": "2021-07-06T17:17:31.684Z"
   },
   {
    "duration": 27,
    "start_time": "2021-07-06T17:17:31.692Z"
   },
   {
    "duration": 5,
    "start_time": "2021-07-06T17:17:31.721Z"
   },
   {
    "duration": 13,
    "start_time": "2021-07-06T17:17:31.728Z"
   },
   {
    "duration": 12,
    "start_time": "2021-07-06T17:17:31.743Z"
   },
   {
    "duration": 35,
    "start_time": "2021-07-06T17:17:31.757Z"
   },
   {
    "duration": 9,
    "start_time": "2021-07-06T17:17:31.795Z"
   },
   {
    "duration": 8,
    "start_time": "2021-07-06T17:17:31.806Z"
   },
   {
    "duration": 4754,
    "start_time": "2021-07-06T17:17:31.815Z"
   },
   {
    "duration": 222,
    "start_time": "2021-07-06T17:20:41.787Z"
   },
   {
    "duration": 1134,
    "start_time": "2021-07-06T17:20:49.174Z"
   },
   {
    "duration": 685,
    "start_time": "2021-07-06T17:20:50.310Z"
   },
   {
    "duration": 23,
    "start_time": "2021-07-06T17:20:50.999Z"
   },
   {
    "duration": 6,
    "start_time": "2021-07-06T17:20:51.024Z"
   },
   {
    "duration": 48,
    "start_time": "2021-07-06T17:20:51.032Z"
   },
   {
    "duration": 14,
    "start_time": "2021-07-06T17:20:51.085Z"
   },
   {
    "duration": 19,
    "start_time": "2021-07-06T17:20:51.102Z"
   },
   {
    "duration": 7,
    "start_time": "2021-07-06T17:20:51.123Z"
   },
   {
    "duration": 18,
    "start_time": "2021-07-06T17:20:51.132Z"
   },
   {
    "duration": 20,
    "start_time": "2021-07-06T17:20:51.152Z"
   },
   {
    "duration": 13,
    "start_time": "2021-07-06T17:20:51.174Z"
   },
   {
    "duration": 17,
    "start_time": "2021-07-06T17:20:51.189Z"
   },
   {
    "duration": 20,
    "start_time": "2021-07-06T17:20:51.208Z"
   },
   {
    "duration": 17,
    "start_time": "2021-07-06T17:20:51.230Z"
   },
   {
    "duration": 18,
    "start_time": "2021-07-06T17:20:51.249Z"
   },
   {
    "duration": 6,
    "start_time": "2021-07-06T17:20:51.268Z"
   },
   {
    "duration": 13,
    "start_time": "2021-07-06T17:20:51.284Z"
   },
   {
    "duration": 6,
    "start_time": "2021-07-06T17:20:51.299Z"
   },
   {
    "duration": 8,
    "start_time": "2021-07-06T17:20:51.306Z"
   },
   {
    "duration": 2244,
    "start_time": "2021-07-06T17:20:51.316Z"
   },
   {
    "duration": 2225,
    "start_time": "2021-07-06T17:20:53.562Z"
   },
   {
    "duration": 2202,
    "start_time": "2021-07-06T17:20:55.791Z"
   },
   {
    "duration": 3,
    "start_time": "2021-07-06T17:20:57.996Z"
   },
   {
    "duration": 666,
    "start_time": "2021-07-06T17:20:58.000Z"
   },
   {
    "duration": 4,
    "start_time": "2021-07-06T17:20:58.668Z"
   },
   {
    "duration": 1813,
    "start_time": "2021-07-06T17:20:58.674Z"
   },
   {
    "duration": 1045,
    "start_time": "2021-07-06T17:21:00.488Z"
   },
   {
    "duration": 3,
    "start_time": "2021-07-06T17:21:01.535Z"
   },
   {
    "duration": 175,
    "start_time": "2021-07-06T17:21:01.539Z"
   },
   {
    "duration": 8,
    "start_time": "2021-07-06T17:21:01.716Z"
   },
   {
    "duration": 14,
    "start_time": "2021-07-06T17:21:01.726Z"
   },
   {
    "duration": 34,
    "start_time": "2021-07-06T17:21:01.741Z"
   },
   {
    "duration": 4,
    "start_time": "2021-07-06T17:21:01.777Z"
   },
   {
    "duration": 6,
    "start_time": "2021-07-06T17:21:01.785Z"
   },
   {
    "duration": 7,
    "start_time": "2021-07-06T17:21:01.792Z"
   },
   {
    "duration": 12,
    "start_time": "2021-07-06T17:21:01.800Z"
   },
   {
    "duration": 6,
    "start_time": "2021-07-06T17:21:01.814Z"
   },
   {
    "duration": 10,
    "start_time": "2021-07-06T17:21:01.821Z"
   },
   {
    "duration": 4723,
    "start_time": "2021-07-06T17:21:01.832Z"
   },
   {
    "duration": 27813,
    "start_time": "2021-07-06T17:21:06.556Z"
   },
   {
    "duration": 1414,
    "start_time": "2021-07-06T17:21:34.371Z"
   },
   {
    "duration": 8,
    "start_time": "2021-07-06T17:21:35.788Z"
   },
   {
    "duration": 1040,
    "start_time": "2021-07-06T17:23:06.870Z"
   },
   {
    "duration": 681,
    "start_time": "2021-07-06T17:23:07.912Z"
   },
   {
    "duration": 21,
    "start_time": "2021-07-06T17:23:08.595Z"
   },
   {
    "duration": 9,
    "start_time": "2021-07-06T17:23:08.618Z"
   },
   {
    "duration": 52,
    "start_time": "2021-07-06T17:23:08.628Z"
   },
   {
    "duration": 14,
    "start_time": "2021-07-06T17:23:08.682Z"
   },
   {
    "duration": 7,
    "start_time": "2021-07-06T17:23:08.698Z"
   },
   {
    "duration": 12,
    "start_time": "2021-07-06T17:23:08.707Z"
   },
   {
    "duration": 3,
    "start_time": "2021-07-06T17:23:08.721Z"
   },
   {
    "duration": 7,
    "start_time": "2021-07-06T17:23:08.726Z"
   },
   {
    "duration": 10,
    "start_time": "2021-07-06T17:23:08.734Z"
   },
   {
    "duration": 11,
    "start_time": "2021-07-06T17:23:08.745Z"
   },
   {
    "duration": 15,
    "start_time": "2021-07-06T17:23:08.758Z"
   },
   {
    "duration": 7,
    "start_time": "2021-07-06T17:23:08.784Z"
   },
   {
    "duration": 26,
    "start_time": "2021-07-06T17:23:08.793Z"
   },
   {
    "duration": 6,
    "start_time": "2021-07-06T17:23:08.820Z"
   },
   {
    "duration": 17,
    "start_time": "2021-07-06T17:23:08.828Z"
   },
   {
    "duration": 5,
    "start_time": "2021-07-06T17:23:08.847Z"
   },
   {
    "duration": 6,
    "start_time": "2021-07-06T17:23:08.885Z"
   },
   {
    "duration": 2193,
    "start_time": "2021-07-06T17:23:08.893Z"
   },
   {
    "duration": 2307,
    "start_time": "2021-07-06T17:23:11.088Z"
   },
   {
    "duration": 2298,
    "start_time": "2021-07-06T17:23:13.396Z"
   },
   {
    "duration": 3,
    "start_time": "2021-07-06T17:23:15.698Z"
   },
   {
    "duration": 696,
    "start_time": "2021-07-06T17:23:15.703Z"
   },
   {
    "duration": 4,
    "start_time": "2021-07-06T17:23:16.401Z"
   },
   {
    "duration": 1977,
    "start_time": "2021-07-06T17:23:16.407Z"
   },
   {
    "duration": 1086,
    "start_time": "2021-07-06T17:23:18.386Z"
   },
   {
    "duration": 10,
    "start_time": "2021-07-06T17:23:19.474Z"
   },
   {
    "duration": 177,
    "start_time": "2021-07-06T17:23:19.486Z"
   },
   {
    "duration": 8,
    "start_time": "2021-07-06T17:23:19.665Z"
   },
   {
    "duration": 4,
    "start_time": "2021-07-06T17:23:19.685Z"
   },
   {
    "duration": 22,
    "start_time": "2021-07-06T17:23:19.690Z"
   },
   {
    "duration": 4,
    "start_time": "2021-07-06T17:23:19.714Z"
   },
   {
    "duration": 13,
    "start_time": "2021-07-06T17:23:19.720Z"
   },
   {
    "duration": 10,
    "start_time": "2021-07-06T17:23:19.734Z"
   },
   {
    "duration": 41,
    "start_time": "2021-07-06T17:23:19.745Z"
   },
   {
    "duration": 10,
    "start_time": "2021-07-06T17:23:19.788Z"
   },
   {
    "duration": 12,
    "start_time": "2021-07-06T17:23:19.800Z"
   },
   {
    "duration": 4904,
    "start_time": "2021-07-06T17:23:19.814Z"
   },
   {
    "duration": 27708,
    "start_time": "2021-07-06T17:23:24.720Z"
   },
   {
    "duration": 1356,
    "start_time": "2021-07-06T17:23:52.430Z"
   },
   {
    "duration": 4,
    "start_time": "2021-07-06T17:23:53.788Z"
   },
   {
    "duration": 54865,
    "start_time": "2021-07-06T17:23:53.793Z"
   },
   {
    "duration": 25,
    "start_time": "2021-07-06T17:24:48.660Z"
   },
   {
    "duration": 7,
    "start_time": "2021-07-06T17:24:48.687Z"
   },
   {
    "duration": 1061,
    "start_time": "2021-07-06T17:26:11.949Z"
   },
   {
    "duration": 693,
    "start_time": "2021-07-06T17:26:13.011Z"
   },
   {
    "duration": 23,
    "start_time": "2021-07-06T17:26:13.707Z"
   },
   {
    "duration": 2,
    "start_time": "2021-07-06T17:26:13.732Z"
   },
   {
    "duration": 56,
    "start_time": "2021-07-06T17:26:13.735Z"
   },
   {
    "duration": 14,
    "start_time": "2021-07-06T17:26:13.793Z"
   },
   {
    "duration": 4,
    "start_time": "2021-07-06T17:26:13.809Z"
   },
   {
    "duration": 5,
    "start_time": "2021-07-06T17:26:13.815Z"
   },
   {
    "duration": 4,
    "start_time": "2021-07-06T17:26:13.822Z"
   },
   {
    "duration": 7,
    "start_time": "2021-07-06T17:26:13.827Z"
   },
   {
    "duration": 7,
    "start_time": "2021-07-06T17:26:13.835Z"
   },
   {
    "duration": 12,
    "start_time": "2021-07-06T17:26:13.844Z"
   },
   {
    "duration": 30,
    "start_time": "2021-07-06T17:26:13.857Z"
   },
   {
    "duration": 8,
    "start_time": "2021-07-06T17:26:13.888Z"
   },
   {
    "duration": 17,
    "start_time": "2021-07-06T17:26:13.897Z"
   },
   {
    "duration": 6,
    "start_time": "2021-07-06T17:26:13.915Z"
   },
   {
    "duration": 12,
    "start_time": "2021-07-06T17:26:13.923Z"
   },
   {
    "duration": 4,
    "start_time": "2021-07-06T17:26:13.936Z"
   },
   {
    "duration": 43,
    "start_time": "2021-07-06T17:26:13.942Z"
   },
   {
    "duration": 2161,
    "start_time": "2021-07-06T17:26:13.986Z"
   },
   {
    "duration": 2194,
    "start_time": "2021-07-06T17:26:16.149Z"
   },
   {
    "duration": 2249,
    "start_time": "2021-07-06T17:26:18.347Z"
   },
   {
    "duration": 3,
    "start_time": "2021-07-06T17:26:20.598Z"
   },
   {
    "duration": 645,
    "start_time": "2021-07-06T17:26:20.603Z"
   },
   {
    "duration": 3,
    "start_time": "2021-07-06T17:26:21.250Z"
   },
   {
    "duration": 1868,
    "start_time": "2021-07-06T17:26:21.256Z"
   },
   {
    "duration": 1099,
    "start_time": "2021-07-06T17:26:23.126Z"
   },
   {
    "duration": 4,
    "start_time": "2021-07-06T17:26:24.228Z"
   },
   {
    "duration": 185,
    "start_time": "2021-07-06T17:26:24.234Z"
   },
   {
    "duration": 9,
    "start_time": "2021-07-06T17:26:24.422Z"
   },
   {
    "duration": 5,
    "start_time": "2021-07-06T17:26:24.433Z"
   },
   {
    "duration": 23,
    "start_time": "2021-07-06T17:26:24.439Z"
   },
   {
    "duration": 4,
    "start_time": "2021-07-06T17:26:24.485Z"
   },
   {
    "duration": 13,
    "start_time": "2021-07-06T17:26:24.491Z"
   },
   {
    "duration": 15,
    "start_time": "2021-07-06T17:26:24.506Z"
   },
   {
    "duration": 2,
    "start_time": "2021-07-06T17:26:24.523Z"
   },
   {
    "duration": 4,
    "start_time": "2021-07-06T17:26:24.527Z"
   },
   {
    "duration": 4780,
    "start_time": "2021-07-06T17:26:24.533Z"
   },
   {
    "duration": 27774,
    "start_time": "2021-07-06T17:26:29.315Z"
   },
   {
    "duration": 1601,
    "start_time": "2021-07-06T17:26:57.091Z"
   },
   {
    "duration": 90,
    "start_time": "2021-07-06T17:26:58.695Z"
   },
   {
    "duration": 54891,
    "start_time": "2021-07-06T17:26:58.787Z"
   },
   {
    "duration": 21,
    "start_time": "2021-07-06T17:27:53.679Z"
   },
   {
    "duration": 8,
    "start_time": "2021-07-06T17:27:53.701Z"
   },
   {
    "duration": 34896,
    "start_time": "2021-07-06T17:29:00.307Z"
   },
   {
    "duration": 27746,
    "start_time": "2021-07-06T17:29:47.414Z"
   },
   {
    "duration": 13730,
    "start_time": "2021-07-06T17:30:28.567Z"
   },
   {
    "duration": 694,
    "start_time": "2021-07-06T17:30:42.299Z"
   },
   {
    "duration": 2262,
    "start_time": "2021-07-06T17:30:57.827Z"
   },
   {
    "duration": 32286,
    "start_time": "2021-07-06T17:31:20.187Z"
   },
   {
    "duration": 18,
    "start_time": "2021-07-06T17:32:06.276Z"
   },
   {
    "duration": 9,
    "start_time": "2021-07-06T17:32:10.482Z"
   },
   {
    "duration": 22035,
    "start_time": "2021-07-06T17:33:00.621Z"
   },
   {
    "duration": 17,
    "start_time": "2021-07-06T17:33:25.532Z"
   },
   {
    "duration": 9,
    "start_time": "2021-07-06T17:33:30.291Z"
   },
   {
    "duration": 1137,
    "start_time": "2021-07-06T17:36:21.797Z"
   },
   {
    "duration": 772,
    "start_time": "2021-07-06T17:36:22.935Z"
   },
   {
    "duration": 26,
    "start_time": "2021-07-06T17:36:23.709Z"
   },
   {
    "duration": 9,
    "start_time": "2021-07-06T17:36:23.737Z"
   },
   {
    "duration": 59,
    "start_time": "2021-07-06T17:36:23.748Z"
   },
   {
    "duration": 16,
    "start_time": "2021-07-06T17:36:23.808Z"
   },
   {
    "duration": 10,
    "start_time": "2021-07-06T17:36:23.825Z"
   },
   {
    "duration": 16,
    "start_time": "2021-07-06T17:36:23.838Z"
   },
   {
    "duration": 21,
    "start_time": "2021-07-06T17:36:23.856Z"
   },
   {
    "duration": 18,
    "start_time": "2021-07-06T17:36:23.879Z"
   },
   {
    "duration": 13,
    "start_time": "2021-07-06T17:36:23.899Z"
   },
   {
    "duration": 19,
    "start_time": "2021-07-06T17:36:23.914Z"
   },
   {
    "duration": 4,
    "start_time": "2021-07-06T17:36:23.935Z"
   },
   {
    "duration": 9,
    "start_time": "2021-07-06T17:36:23.940Z"
   },
   {
    "duration": 20,
    "start_time": "2021-07-06T17:36:23.951Z"
   },
   {
    "duration": 15,
    "start_time": "2021-07-06T17:36:23.973Z"
   },
   {
    "duration": 18,
    "start_time": "2021-07-06T17:36:23.990Z"
   },
   {
    "duration": 5,
    "start_time": "2021-07-06T17:36:24.010Z"
   },
   {
    "duration": 7,
    "start_time": "2021-07-06T17:36:24.017Z"
   },
   {
    "duration": 2214,
    "start_time": "2021-07-06T17:36:24.025Z"
   },
   {
    "duration": 2207,
    "start_time": "2021-07-06T17:36:26.241Z"
   },
   {
    "duration": 2190,
    "start_time": "2021-07-06T17:36:28.450Z"
   },
   {
    "duration": 3,
    "start_time": "2021-07-06T17:36:30.643Z"
   },
   {
    "duration": 655,
    "start_time": "2021-07-06T17:36:30.648Z"
   },
   {
    "duration": 4,
    "start_time": "2021-07-06T17:36:31.305Z"
   },
   {
    "duration": 1831,
    "start_time": "2021-07-06T17:36:31.311Z"
   },
   {
    "duration": 1034,
    "start_time": "2021-07-06T17:36:33.143Z"
   },
   {
    "duration": 7,
    "start_time": "2021-07-06T17:36:34.178Z"
   },
   {
    "duration": 179,
    "start_time": "2021-07-06T17:36:34.186Z"
   },
   {
    "duration": 20,
    "start_time": "2021-07-06T17:36:34.366Z"
   },
   {
    "duration": 4,
    "start_time": "2021-07-06T17:36:34.387Z"
   },
   {
    "duration": 25,
    "start_time": "2021-07-06T17:36:34.393Z"
   },
   {
    "duration": 4,
    "start_time": "2021-07-06T17:36:34.419Z"
   },
   {
    "duration": 13,
    "start_time": "2021-07-06T17:36:34.425Z"
   },
   {
    "duration": 15,
    "start_time": "2021-07-06T17:36:34.440Z"
   },
   {
    "duration": 62,
    "start_time": "2021-07-06T17:36:34.457Z"
   },
   {
    "duration": 3,
    "start_time": "2021-07-06T17:36:34.521Z"
   },
   {
    "duration": 2326,
    "start_time": "2021-07-06T17:36:34.525Z"
   },
   {
    "duration": 13767,
    "start_time": "2021-07-06T17:36:36.853Z"
   },
   {
    "duration": 568,
    "start_time": "2021-07-06T17:36:50.621Z"
   },
   {
    "duration": 93,
    "start_time": "2021-07-06T17:36:51.192Z"
   },
   {
    "duration": 2066284,
    "start_time": "2021-07-06T17:36:51.287Z"
   },
   {
    "duration": 16,
    "start_time": "2021-07-06T18:11:17.573Z"
   },
   {
    "duration": 9,
    "start_time": "2021-07-06T18:11:17.591Z"
   },
   {
    "duration": 22444,
    "start_time": "2021-07-06T18:20:11.029Z"
   },
   {
    "duration": 18,
    "start_time": "2021-07-06T18:20:39.096Z"
   },
   {
    "duration": 8,
    "start_time": "2021-07-06T18:20:41.083Z"
   },
   {
    "duration": 38373,
    "start_time": "2021-07-06T18:20:59.394Z"
   },
   {
    "duration": 18,
    "start_time": "2021-07-06T18:21:44.900Z"
   },
   {
    "duration": 55777,
    "start_time": "2021-07-06T18:21:54.532Z"
   },
   {
    "duration": 32320,
    "start_time": "2021-07-06T18:22:52.948Z"
   },
   {
    "duration": 17,
    "start_time": "2021-07-06T18:23:28.930Z"
   },
   {
    "duration": 11596,
    "start_time": "2021-07-06T18:23:36.342Z"
   },
   {
    "duration": 16,
    "start_time": "2021-07-06T18:24:10.239Z"
   },
   {
    "duration": 22396,
    "start_time": "2021-07-06T18:24:13.114Z"
   },
   {
    "duration": 17,
    "start_time": "2021-07-06T18:24:39.301Z"
   },
   {
    "duration": 1171,
    "start_time": "2021-07-06T18:27:43.561Z"
   },
   {
    "duration": 781,
    "start_time": "2021-07-06T18:27:44.734Z"
   },
   {
    "duration": 24,
    "start_time": "2021-07-06T18:27:45.518Z"
   },
   {
    "duration": 4,
    "start_time": "2021-07-06T18:27:45.544Z"
   },
   {
    "duration": 61,
    "start_time": "2021-07-06T18:27:45.549Z"
   },
   {
    "duration": 15,
    "start_time": "2021-07-06T18:27:45.612Z"
   },
   {
    "duration": 7,
    "start_time": "2021-07-06T18:27:45.629Z"
   },
   {
    "duration": 5,
    "start_time": "2021-07-06T18:27:45.637Z"
   },
   {
    "duration": 3,
    "start_time": "2021-07-06T18:27:45.645Z"
   },
   {
    "duration": 5,
    "start_time": "2021-07-06T18:27:45.650Z"
   },
   {
    "duration": 33,
    "start_time": "2021-07-06T18:27:45.656Z"
   },
   {
    "duration": 12,
    "start_time": "2021-07-06T18:27:45.690Z"
   },
   {
    "duration": 10,
    "start_time": "2021-07-06T18:27:45.703Z"
   },
   {
    "duration": 9,
    "start_time": "2021-07-06T18:27:45.714Z"
   },
   {
    "duration": 21,
    "start_time": "2021-07-06T18:27:45.724Z"
   },
   {
    "duration": 7,
    "start_time": "2021-07-06T18:27:45.747Z"
   },
   {
    "duration": 46,
    "start_time": "2021-07-06T18:27:45.756Z"
   },
   {
    "duration": 6,
    "start_time": "2021-07-06T18:27:45.804Z"
   },
   {
    "duration": 8,
    "start_time": "2021-07-06T18:27:45.811Z"
   },
   {
    "duration": 2243,
    "start_time": "2021-07-06T18:27:45.821Z"
   },
   {
    "duration": 2253,
    "start_time": "2021-07-06T18:27:48.066Z"
   },
   {
    "duration": 2222,
    "start_time": "2021-07-06T18:27:50.321Z"
   },
   {
    "duration": 3,
    "start_time": "2021-07-06T18:27:52.545Z"
   },
   {
    "duration": 740,
    "start_time": "2021-07-06T18:27:52.550Z"
   },
   {
    "duration": 5,
    "start_time": "2021-07-06T18:27:53.292Z"
   },
   {
    "duration": 1952,
    "start_time": "2021-07-06T18:27:53.299Z"
   },
   {
    "duration": 1054,
    "start_time": "2021-07-06T18:27:55.255Z"
   },
   {
    "duration": 3,
    "start_time": "2021-07-06T18:27:56.311Z"
   },
   {
    "duration": 171,
    "start_time": "2021-07-06T18:27:56.315Z"
   },
   {
    "duration": 8,
    "start_time": "2021-07-06T18:27:56.488Z"
   },
   {
    "duration": 5,
    "start_time": "2021-07-06T18:27:56.497Z"
   },
   {
    "duration": 26,
    "start_time": "2021-07-06T18:27:56.503Z"
   },
   {
    "duration": 4,
    "start_time": "2021-07-06T18:27:56.530Z"
   },
   {
    "duration": 12,
    "start_time": "2021-07-06T18:27:56.535Z"
   },
   {
    "duration": 46,
    "start_time": "2021-07-06T18:27:56.549Z"
   },
   {
    "duration": 33,
    "start_time": "2021-07-06T18:27:56.596Z"
   },
   {
    "duration": 3,
    "start_time": "2021-07-06T18:27:56.631Z"
   },
   {
    "duration": 2417,
    "start_time": "2021-07-06T18:27:56.635Z"
   },
   {
    "duration": 14100,
    "start_time": "2021-07-06T18:27:59.054Z"
   },
   {
    "duration": 830,
    "start_time": "2021-07-06T18:28:13.156Z"
   },
   {
    "duration": 4,
    "start_time": "2021-07-06T18:28:13.988Z"
   },
   {
    "duration": 22391,
    "start_time": "2021-07-06T18:28:13.994Z"
   },
   {
    "duration": 16,
    "start_time": "2021-07-06T18:28:36.387Z"
   },
   {
    "duration": 8,
    "start_time": "2021-07-06T18:28:36.405Z"
   },
   {
    "duration": 1903,
    "start_time": "2021-07-07T10:12:38.566Z"
   },
   {
    "duration": 914,
    "start_time": "2021-07-07T10:12:44.636Z"
   },
   {
    "duration": 39,
    "start_time": "2021-07-07T10:12:45.553Z"
   },
   {
    "duration": 3,
    "start_time": "2021-07-07T10:12:48.118Z"
   },
   {
    "duration": 127,
    "start_time": "2021-07-07T10:12:52.338Z"
   },
   {
    "duration": 43,
    "start_time": "2021-07-07T10:13:12.880Z"
   },
   {
    "duration": 22,
    "start_time": "2021-07-07T10:13:16.619Z"
   },
   {
    "duration": 4,
    "start_time": "2021-07-07T10:13:16.683Z"
   },
   {
    "duration": 5,
    "start_time": "2021-07-07T10:13:16.715Z"
   },
   {
    "duration": 5,
    "start_time": "2021-07-07T10:13:16.749Z"
   },
   {
    "duration": 6,
    "start_time": "2021-07-07T10:13:16.781Z"
   },
   {
    "duration": 12,
    "start_time": "2021-07-07T10:13:16.815Z"
   },
   {
    "duration": 20,
    "start_time": "2021-07-07T10:13:16.850Z"
   },
   {
    "duration": 8,
    "start_time": "2021-07-07T10:13:16.878Z"
   },
   {
    "duration": 9,
    "start_time": "2021-07-07T10:13:16.989Z"
   },
   {
    "duration": 26,
    "start_time": "2021-07-07T10:13:17.171Z"
   },
   {
    "duration": 9,
    "start_time": "2021-07-07T10:13:17.230Z"
   },
   {
    "duration": 19,
    "start_time": "2021-07-07T10:13:17.286Z"
   },
   {
    "duration": 8,
    "start_time": "2021-07-07T10:13:17.400Z"
   },
   {
    "duration": 11,
    "start_time": "2021-07-07T10:13:17.434Z"
   },
   {
    "duration": 3682,
    "start_time": "2021-07-07T10:13:17.469Z"
   },
   {
    "duration": 3915,
    "start_time": "2021-07-07T10:13:21.155Z"
   },
   {
    "duration": 3983,
    "start_time": "2021-07-07T10:13:25.074Z"
   },
   {
    "duration": 6,
    "start_time": "2021-07-07T10:13:29.062Z"
   },
   {
    "duration": 1546,
    "start_time": "2021-07-07T10:13:29.071Z"
   },
   {
    "duration": 9,
    "start_time": "2021-07-07T10:13:30.620Z"
   },
   {
    "duration": 4212,
    "start_time": "2021-07-07T10:13:30.632Z"
   },
   {
    "duration": 1931,
    "start_time": "2021-07-07T10:13:34.847Z"
   },
   {
    "duration": 8,
    "start_time": "2021-07-07T10:13:36.782Z"
   },
   {
    "duration": 314,
    "start_time": "2021-07-07T10:13:36.793Z"
   },
   {
    "duration": 15,
    "start_time": "2021-07-07T10:13:37.110Z"
   },
   {
    "duration": 29,
    "start_time": "2021-07-07T10:13:37.129Z"
   },
   {
    "duration": 56,
    "start_time": "2021-07-07T10:13:37.160Z"
   },
   {
    "duration": 7,
    "start_time": "2021-07-07T10:13:37.219Z"
   },
   {
    "duration": 55,
    "start_time": "2021-07-07T10:13:37.229Z"
   },
   {
    "duration": 22,
    "start_time": "2021-07-07T10:13:37.288Z"
   },
   {
    "duration": 58,
    "start_time": "2021-07-07T10:13:37.312Z"
   },
   {
    "duration": 5,
    "start_time": "2021-07-07T10:13:37.373Z"
   },
   {
    "duration": 1603,
    "start_time": "2021-07-07T10:16:51.238Z"
   },
   {
    "duration": 964,
    "start_time": "2021-07-07T10:16:52.843Z"
   },
   {
    "duration": 50,
    "start_time": "2021-07-07T10:16:53.810Z"
   },
   {
    "duration": 4,
    "start_time": "2021-07-07T10:16:55.873Z"
   },
   {
    "duration": 414,
    "start_time": "2021-07-07T10:17:07.335Z"
   },
   {
    "duration": 268,
    "start_time": "2021-07-07T10:17:44.171Z"
   },
   {
    "duration": 280,
    "start_time": "2021-07-07T10:17:55.741Z"
   },
   {
    "duration": 526,
    "start_time": "2021-07-07T10:18:58.460Z"
   },
   {
    "duration": 396,
    "start_time": "2021-07-07T10:19:04.668Z"
   },
   {
    "duration": 346,
    "start_time": "2021-07-07T10:19:08.533Z"
   },
   {
    "duration": 333,
    "start_time": "2021-07-07T10:19:15.919Z"
   },
   {
    "duration": 345,
    "start_time": "2021-07-07T10:19:19.139Z"
   },
   {
    "duration": 133,
    "start_time": "2021-07-07T10:19:57.462Z"
   },
   {
    "duration": 424,
    "start_time": "2021-07-07T10:20:07.160Z"
   },
   {
    "duration": 423,
    "start_time": "2021-07-07T10:20:13.866Z"
   },
   {
    "duration": 298,
    "start_time": "2021-07-07T10:20:20.171Z"
   },
   {
    "duration": 557,
    "start_time": "2021-07-07T10:20:32.053Z"
   },
   {
    "duration": 7,
    "start_time": "2021-07-07T10:20:47.321Z"
   },
   {
    "duration": 6,
    "start_time": "2021-07-07T10:23:13.679Z"
   },
   {
    "duration": 7,
    "start_time": "2021-07-07T10:25:13.555Z"
   },
   {
    "duration": 6,
    "start_time": "2021-07-07T10:35:15.419Z"
   },
   {
    "duration": 884,
    "start_time": "2021-07-07T10:35:16.129Z"
   },
   {
    "duration": 33,
    "start_time": "2021-07-07T10:35:19.041Z"
   },
   {
    "duration": 5,
    "start_time": "2021-07-07T10:35:21.076Z"
   },
   {
    "duration": 326,
    "start_time": "2021-07-07T10:35:36.179Z"
   },
   {
    "duration": 268,
    "start_time": "2021-07-07T10:37:58.075Z"
   },
   {
    "duration": 798,
    "start_time": "2021-07-07T10:38:54.409Z"
   },
   {
    "duration": 260,
    "start_time": "2021-07-07T10:39:02.550Z"
   },
   {
    "duration": 307,
    "start_time": "2021-07-07T10:39:08.554Z"
   },
   {
    "duration": 3,
    "start_time": "2021-07-07T10:39:47.153Z"
   },
   {
    "duration": 1562,
    "start_time": "2021-07-07T10:48:24.600Z"
   },
   {
    "duration": 1987,
    "start_time": "2021-07-07T10:49:55.906Z"
   },
   {
    "duration": 7296,
    "start_time": "2021-07-07T10:49:59.795Z"
   },
   {
    "duration": 9,
    "start_time": "2021-07-07T10:50:36.179Z"
   },
   {
    "duration": 132,
    "start_time": "2021-07-07T10:50:46.792Z"
   },
   {
    "duration": 8014,
    "start_time": "2021-07-07T10:51:05.543Z"
   },
   {
    "duration": 90,
    "start_time": "2021-07-07T10:52:23.393Z"
   },
   {
    "duration": 447,
    "start_time": "2021-07-07T10:53:19.336Z"
   },
   {
    "duration": 889,
    "start_time": "2021-07-07T10:54:31.530Z"
   },
   {
    "duration": 1576,
    "start_time": "2021-07-07T10:55:23.942Z"
   },
   {
    "duration": 8,
    "start_time": "2021-07-07T10:55:29.512Z"
   },
   {
    "duration": 100,
    "start_time": "2021-07-07T10:56:30.121Z"
   },
   {
    "duration": 19281,
    "start_time": "2021-07-07T10:56:32.901Z"
   },
   {
    "duration": 1829,
    "start_time": "2021-07-07T10:57:00.382Z"
   },
   {
    "duration": 592,
    "start_time": "2021-07-07T10:58:35.450Z"
   },
   {
    "duration": 8014,
    "start_time": "2021-07-07T10:58:45.417Z"
   },
   {
    "duration": 8012,
    "start_time": "2021-07-07T10:59:14.033Z"
   },
   {
    "duration": 8027,
    "start_time": "2021-07-07T10:59:59.232Z"
   },
   {
    "duration": 8014,
    "start_time": "2021-07-07T11:01:01.165Z"
   },
   {
    "duration": 905,
    "start_time": "2021-07-07T11:01:10.877Z"
   },
   {
    "duration": 37,
    "start_time": "2021-07-07T11:01:13.496Z"
   },
   {
    "duration": 4,
    "start_time": "2021-07-07T11:01:14.567Z"
   },
   {
    "duration": 1987,
    "start_time": "2021-07-07T11:02:06.503Z"
   },
   {
    "duration": 8,
    "start_time": "2021-07-07T11:02:08.496Z"
   },
   {
    "duration": 8014,
    "start_time": "2021-07-07T11:02:09.104Z"
   },
   {
    "duration": 968,
    "start_time": "2021-07-07T11:02:43.359Z"
   },
   {
    "duration": 37,
    "start_time": "2021-07-07T11:02:44.520Z"
   },
   {
    "duration": 4,
    "start_time": "2021-07-07T11:02:45.476Z"
   },
   {
    "duration": 85,
    "start_time": "2021-07-07T11:02:46.068Z"
   },
   {
    "duration": 672,
    "start_time": "2021-07-07T11:07:34.815Z"
   },
   {
    "duration": 110,
    "start_time": "2021-07-07T11:08:44.849Z"
   },
   {
    "duration": 7,
    "start_time": "2021-07-07T11:08:54.814Z"
   },
   {
    "duration": 669,
    "start_time": "2021-07-07T11:09:16.127Z"
   },
   {
    "duration": 525,
    "start_time": "2021-07-07T11:09:33.558Z"
   },
   {
    "duration": 298,
    "start_time": "2021-07-07T11:09:46.879Z"
   },
   {
    "duration": 10336,
    "start_time": "2021-07-07T11:09:59.485Z"
   },
   {
    "duration": 150,
    "start_time": "2021-07-07T11:10:16.628Z"
   },
   {
    "duration": 147,
    "start_time": "2021-07-07T11:10:22.628Z"
   },
   {
    "duration": 4,
    "start_time": "2021-07-07T11:10:44.095Z"
   },
   {
    "duration": 46,
    "start_time": "2021-07-07T11:10:45.240Z"
   },
   {
    "duration": 25,
    "start_time": "2021-07-07T11:10:45.935Z"
   },
   {
    "duration": 5,
    "start_time": "2021-07-07T11:10:46.475Z"
   },
   {
    "duration": 6,
    "start_time": "2021-07-07T11:10:46.507Z"
   },
   {
    "duration": 4,
    "start_time": "2021-07-07T11:10:46.538Z"
   },
   {
    "duration": 5,
    "start_time": "2021-07-07T11:10:46.571Z"
   },
   {
    "duration": 20,
    "start_time": "2021-07-07T11:10:46.605Z"
   },
   {
    "duration": 18,
    "start_time": "2021-07-07T11:10:46.636Z"
   },
   {
    "duration": 6,
    "start_time": "2021-07-07T11:10:46.671Z"
   },
   {
    "duration": 9,
    "start_time": "2021-07-07T11:10:46.784Z"
   },
   {
    "duration": 23,
    "start_time": "2021-07-07T11:10:46.965Z"
   },
   {
    "duration": 9,
    "start_time": "2021-07-07T11:10:47.018Z"
   },
   {
    "duration": 23,
    "start_time": "2021-07-07T11:10:47.076Z"
   },
   {
    "duration": 13,
    "start_time": "2021-07-07T11:10:47.196Z"
   },
   {
    "duration": 10,
    "start_time": "2021-07-07T11:10:47.229Z"
   },
   {
    "duration": 3601,
    "start_time": "2021-07-07T11:10:47.270Z"
   },
   {
    "duration": 3808,
    "start_time": "2021-07-07T11:10:50.874Z"
   },
   {
    "duration": 3674,
    "start_time": "2021-07-07T11:10:54.685Z"
   },
   {
    "duration": 5,
    "start_time": "2021-07-07T11:10:58.362Z"
   },
   {
    "duration": 1073,
    "start_time": "2021-07-07T11:10:58.370Z"
   },
   {
    "duration": 15,
    "start_time": "2021-07-07T11:10:59.445Z"
   },
   {
    "duration": 3150,
    "start_time": "2021-07-07T11:10:59.463Z"
   },
   {
    "duration": 1870,
    "start_time": "2021-07-07T11:11:02.617Z"
   },
   {
    "duration": 5,
    "start_time": "2021-07-07T11:11:04.489Z"
   },
   {
    "duration": 295,
    "start_time": "2021-07-07T11:11:04.496Z"
   },
   {
    "duration": 12,
    "start_time": "2021-07-07T11:11:04.794Z"
   },
   {
    "duration": 9,
    "start_time": "2021-07-07T11:11:04.808Z"
   },
   {
    "duration": 63,
    "start_time": "2021-07-07T11:11:04.819Z"
   },
   {
    "duration": 5,
    "start_time": "2021-07-07T11:11:04.885Z"
   },
   {
    "duration": 21,
    "start_time": "2021-07-07T11:11:04.892Z"
   },
   {
    "duration": 50,
    "start_time": "2021-07-07T11:11:04.915Z"
   },
   {
    "duration": 45,
    "start_time": "2021-07-07T11:11:04.968Z"
   },
   {
    "duration": 4,
    "start_time": "2021-07-07T11:11:05.015Z"
   },
   {
    "duration": 18555,
    "start_time": "2021-07-07T11:11:15.800Z"
   },
   {
    "duration": 50,
    "start_time": "2021-07-07T11:11:42.728Z"
   },
   {
    "duration": 1605,
    "start_time": "2021-07-07T11:16:42.682Z"
   },
   {
    "duration": 4106,
    "start_time": "2021-07-07T11:16:44.290Z"
   },
   {
    "duration": 1008,
    "start_time": "2021-07-07T11:16:48.399Z"
   },
   {
    "duration": 49,
    "start_time": "2021-07-07T11:16:49.409Z"
   },
   {
    "duration": 4,
    "start_time": "2021-07-07T11:16:49.460Z"
   },
   {
    "duration": 87,
    "start_time": "2021-07-07T11:16:49.467Z"
   },
   {
    "duration": 1558,
    "start_time": "2021-07-07T11:16:57.154Z"
   },
   {
    "duration": 3,
    "start_time": "2021-07-07T11:16:58.715Z"
   },
   {
    "duration": 1007,
    "start_time": "2021-07-07T11:16:58.722Z"
   },
   {
    "duration": 52,
    "start_time": "2021-07-07T11:16:59.733Z"
   },
   {
    "duration": 4,
    "start_time": "2021-07-07T11:16:59.787Z"
   },
   {
    "duration": 86,
    "start_time": "2021-07-07T11:16:59.794Z"
   },
   {
    "duration": 22,
    "start_time": "2021-07-07T11:16:59.882Z"
   },
   {
    "duration": 11,
    "start_time": "2021-07-07T11:16:59.908Z"
   },
   {
    "duration": 12,
    "start_time": "2021-07-07T11:16:59.921Z"
   },
   {
    "duration": 28,
    "start_time": "2021-07-07T11:16:59.935Z"
   },
   {
    "duration": 13,
    "start_time": "2021-07-07T11:16:59.966Z"
   },
   {
    "duration": 23,
    "start_time": "2021-07-07T11:16:59.981Z"
   },
   {
    "duration": 23,
    "start_time": "2021-07-07T11:17:00.006Z"
   },
   {
    "duration": 17,
    "start_time": "2021-07-07T11:17:00.032Z"
   },
   {
    "duration": 23,
    "start_time": "2021-07-07T11:17:00.052Z"
   },
   {
    "duration": 43,
    "start_time": "2021-07-07T11:17:00.078Z"
   },
   {
    "duration": 10,
    "start_time": "2021-07-07T11:17:00.124Z"
   },
   {
    "duration": 37,
    "start_time": "2021-07-07T11:17:00.137Z"
   },
   {
    "duration": 8,
    "start_time": "2021-07-07T11:17:00.177Z"
   },
   {
    "duration": 21,
    "start_time": "2021-07-07T11:17:00.188Z"
   },
   {
    "duration": 3808,
    "start_time": "2021-07-07T11:17:00.212Z"
   },
   {
    "duration": 3851,
    "start_time": "2021-07-07T11:17:04.023Z"
   },
   {
    "duration": 3965,
    "start_time": "2021-07-07T11:17:07.881Z"
   },
   {
    "duration": 6,
    "start_time": "2021-07-07T11:17:11.856Z"
   },
   {
    "duration": 1106,
    "start_time": "2021-07-07T11:17:11.865Z"
   },
   {
    "duration": 7,
    "start_time": "2021-07-07T11:17:12.974Z"
   },
   {
    "duration": 3023,
    "start_time": "2021-07-07T11:17:12.984Z"
   },
   {
    "duration": 1992,
    "start_time": "2021-07-07T11:17:16.009Z"
   },
   {
    "duration": 5,
    "start_time": "2021-07-07T11:17:18.003Z"
   },
   {
    "duration": 294,
    "start_time": "2021-07-07T11:17:18.011Z"
   },
   {
    "duration": 12,
    "start_time": "2021-07-07T11:17:18.307Z"
   },
   {
    "duration": 11,
    "start_time": "2021-07-07T11:17:18.321Z"
   },
   {
    "duration": 52,
    "start_time": "2021-07-07T11:17:18.335Z"
   },
   {
    "duration": 6,
    "start_time": "2021-07-07T11:17:18.390Z"
   },
   {
    "duration": 20,
    "start_time": "2021-07-07T11:17:18.398Z"
   },
   {
    "duration": 52,
    "start_time": "2021-07-07T11:17:18.421Z"
   },
   {
    "duration": 41,
    "start_time": "2021-07-07T11:17:18.475Z"
   },
   {
    "duration": 3,
    "start_time": "2021-07-07T11:17:18.519Z"
   },
   {
    "duration": 3207,
    "start_time": "2021-07-07T11:17:18.525Z"
   },
   {
    "duration": 20240,
    "start_time": "2021-07-07T11:17:46.010Z"
   },
   {
    "duration": 19399,
    "start_time": "2021-07-07T11:18:12.382Z"
   },
   {
    "duration": 555,
    "start_time": "2021-07-07T11:19:36.688Z"
   },
   {
    "duration": 427,
    "start_time": "2021-07-07T11:20:10.679Z"
   },
   {
    "duration": 6,
    "start_time": "2021-07-07T11:20:29.931Z"
   },
   {
    "duration": 6,
    "start_time": "2021-07-07T11:20:46.671Z"
   },
   {
    "duration": 19570,
    "start_time": "2021-07-07T11:21:04.375Z"
   },
   {
    "duration": 6,
    "start_time": "2021-07-07T11:21:46.503Z"
   },
   {
    "duration": 1335,
    "start_time": "2021-07-07T11:29:03.533Z"
   },
   {
    "duration": 8,
    "start_time": "2021-07-07T11:29:17.845Z"
   },
   {
    "duration": 8011,
    "start_time": "2021-07-07T11:30:01.748Z"
   },
   {
    "duration": 8012,
    "start_time": "2021-07-07T11:30:15.122Z"
   },
   {
    "duration": 8012,
    "start_time": "2021-07-07T11:30:26.764Z"
   },
   {
    "duration": 9828,
    "start_time": "2021-07-07T11:30:54.231Z"
   },
   {
    "duration": 179,
    "start_time": "2021-07-07T11:38:05.377Z"
   },
   {
    "duration": 662,
    "start_time": "2021-07-07T11:38:55.589Z"
   },
   {
    "duration": 1007,
    "start_time": "2021-07-07T11:39:12.497Z"
   },
   {
    "duration": 1392,
    "start_time": "2021-07-07T11:39:18.045Z"
   },
   {
    "duration": 1007,
    "start_time": "2021-07-07T11:39:42.161Z"
   },
   {
    "duration": 381,
    "start_time": "2021-07-07T11:39:45.775Z"
   },
   {
    "duration": 5,
    "start_time": "2021-07-07T11:41:35.744Z"
   },
   {
    "duration": 10,
    "start_time": "2021-07-07T11:41:38.658Z"
   },
   {
    "duration": 7,
    "start_time": "2021-07-07T11:41:40.625Z"
   },
   {
    "duration": 6,
    "start_time": "2021-07-07T11:44:06.785Z"
   },
   {
    "duration": 30,
    "start_time": "2021-07-07T11:44:09.064Z"
   },
   {
    "duration": 6,
    "start_time": "2021-07-07T11:44:34.996Z"
   },
   {
    "duration": 6,
    "start_time": "2021-07-07T11:45:22.876Z"
   },
   {
    "duration": 6,
    "start_time": "2021-07-07T11:45:53.818Z"
   },
   {
    "duration": 21135,
    "start_time": "2021-07-07T11:50:23.509Z"
   },
   {
    "duration": 19931,
    "start_time": "2021-07-07T11:50:49.473Z"
   },
   {
    "duration": 141,
    "start_time": "2021-07-07T11:53:43.145Z"
   },
   {
    "duration": 62263,
    "start_time": "2021-07-07T11:53:50.061Z"
   },
   {
    "duration": 209,
    "start_time": "2021-07-07T11:55:18.684Z"
   },
   {
    "duration": 9,
    "start_time": "2021-07-07T11:55:31.284Z"
   },
   {
    "duration": 214,
    "start_time": "2021-07-07T11:55:38.219Z"
   },
   {
    "duration": 219,
    "start_time": "2021-07-07T11:55:44.102Z"
   },
   {
    "duration": 203,
    "start_time": "2021-07-07T11:56:06.860Z"
   },
   {
    "duration": 8180,
    "start_time": "2021-07-07T11:56:26.898Z"
   },
   {
    "duration": 15540,
    "start_time": "2021-07-07T11:56:43.025Z"
   },
   {
    "duration": 28724,
    "start_time": "2021-07-07T12:01:01.555Z"
   },
   {
    "duration": 27382,
    "start_time": "2021-07-07T12:01:57.369Z"
   },
   {
    "duration": 6284,
    "start_time": "2021-07-07T12:02:30.131Z"
   },
   {
    "duration": 8694,
    "start_time": "2021-07-07T12:06:57.091Z"
   },
   {
    "duration": 6005,
    "start_time": "2021-07-07T12:07:14.792Z"
   },
   {
    "duration": 7985,
    "start_time": "2021-07-07T12:09:28.168Z"
   },
   {
    "duration": 7,
    "start_time": "2021-07-07T12:11:15.958Z"
   },
   {
    "duration": 995,
    "start_time": "2021-07-07T12:11:16.638Z"
   },
   {
    "duration": 32,
    "start_time": "2021-07-07T12:11:17.912Z"
   },
   {
    "duration": 4,
    "start_time": "2021-07-07T12:11:21.823Z"
   },
   {
    "duration": 364,
    "start_time": "2021-07-07T12:11:38.698Z"
   },
   {
    "duration": 12,
    "start_time": "2021-07-07T12:12:47.781Z"
   },
   {
    "duration": 11,
    "start_time": "2021-07-07T12:12:59.609Z"
   },
   {
    "duration": 1166,
    "start_time": "2021-07-08T15:29:14.891Z"
   },
   {
    "duration": 319,
    "start_time": "2021-07-08T15:29:39.569Z"
   },
   {
    "duration": 5757,
    "start_time": "2021-07-08T15:34:28.759Z"
   },
   {
    "duration": 1849,
    "start_time": "2021-07-08T15:35:04.985Z"
   },
   {
    "duration": 845,
    "start_time": "2021-07-08T15:37:25.447Z"
   },
   {
    "duration": 35,
    "start_time": "2021-07-08T15:37:27.722Z"
   },
   {
    "duration": 4,
    "start_time": "2021-07-08T15:37:28.834Z"
   },
   {
    "duration": 57,
    "start_time": "2021-07-08T15:37:28.866Z"
   },
   {
    "duration": 19,
    "start_time": "2021-07-08T15:37:29.046Z"
   },
   {
    "duration": 4,
    "start_time": "2021-07-08T15:37:29.101Z"
   },
   {
    "duration": 6,
    "start_time": "2021-07-08T15:37:29.132Z"
   },
   {
    "duration": 4,
    "start_time": "2021-07-08T15:37:29.164Z"
   },
   {
    "duration": 5,
    "start_time": "2021-07-08T15:37:29.197Z"
   },
   {
    "duration": 13,
    "start_time": "2021-07-08T15:37:29.229Z"
   },
   {
    "duration": 17,
    "start_time": "2021-07-08T15:37:29.264Z"
   },
   {
    "duration": 6,
    "start_time": "2021-07-08T15:37:29.292Z"
   },
   {
    "duration": 8,
    "start_time": "2021-07-08T15:37:29.394Z"
   },
   {
    "duration": 24,
    "start_time": "2021-07-08T15:37:29.487Z"
   },
   {
    "duration": 9,
    "start_time": "2021-07-08T15:37:29.541Z"
   },
   {
    "duration": 19,
    "start_time": "2021-07-08T15:37:29.610Z"
   },
   {
    "duration": 8,
    "start_time": "2021-07-08T15:37:29.809Z"
   },
   {
    "duration": 10,
    "start_time": "2021-07-08T15:37:29.843Z"
   },
   {
    "duration": 3320,
    "start_time": "2021-07-08T15:37:29.877Z"
   },
   {
    "duration": 3460,
    "start_time": "2021-07-08T15:37:33.200Z"
   },
   {
    "duration": 3312,
    "start_time": "2021-07-08T15:37:36.664Z"
   },
   {
    "duration": 5,
    "start_time": "2021-07-08T15:37:39.979Z"
   },
   {
    "duration": 1008,
    "start_time": "2021-07-08T15:37:39.986Z"
   },
   {
    "duration": 6,
    "start_time": "2021-07-08T15:37:40.996Z"
   },
   {
    "duration": 2728,
    "start_time": "2021-07-08T15:37:41.004Z"
   },
   {
    "duration": 1716,
    "start_time": "2021-07-08T15:37:43.735Z"
   },
   {
    "duration": 4,
    "start_time": "2021-07-08T15:37:45.457Z"
   },
   {
    "duration": 267,
    "start_time": "2021-07-08T15:37:45.463Z"
   },
   {
    "duration": 28,
    "start_time": "2021-07-08T15:37:45.732Z"
   },
   {
    "duration": 11,
    "start_time": "2021-07-08T15:37:45.763Z"
   },
   {
    "duration": 29,
    "start_time": "2021-07-08T15:37:45.777Z"
   },
   {
    "duration": 5,
    "start_time": "2021-07-08T15:37:45.809Z"
   },
   {
    "duration": 43,
    "start_time": "2021-07-08T15:37:45.817Z"
   },
   {
    "duration": 18,
    "start_time": "2021-07-08T15:37:45.863Z"
   },
   {
    "duration": 38,
    "start_time": "2021-07-08T15:37:45.884Z"
   },
   {
    "duration": 31,
    "start_time": "2021-07-08T15:37:45.925Z"
   },
   {
    "duration": 2913,
    "start_time": "2021-07-08T15:37:45.959Z"
   },
   {
    "duration": 2198,
    "start_time": "2021-07-08T15:38:46.776Z"
   },
   {
    "duration": 847,
    "start_time": "2021-07-08T15:38:50.370Z"
   },
   {
    "duration": 43,
    "start_time": "2021-07-08T15:38:51.219Z"
   },
   {
    "duration": 3,
    "start_time": "2021-07-08T15:38:51.265Z"
   },
   {
    "duration": 65,
    "start_time": "2021-07-08T15:38:51.270Z"
   },
   {
    "duration": 20,
    "start_time": "2021-07-08T15:38:51.355Z"
   },
   {
    "duration": 4,
    "start_time": "2021-07-08T15:38:51.391Z"
   },
   {
    "duration": 6,
    "start_time": "2021-07-08T15:38:51.422Z"
   },
   {
    "duration": 5,
    "start_time": "2021-07-08T15:38:51.453Z"
   },
   {
    "duration": 4,
    "start_time": "2021-07-08T15:38:51.486Z"
   },
   {
    "duration": 11,
    "start_time": "2021-07-08T15:38:51.518Z"
   },
   {
    "duration": 18,
    "start_time": "2021-07-08T15:38:51.548Z"
   },
   {
    "duration": 7,
    "start_time": "2021-07-08T15:38:51.582Z"
   },
   {
    "duration": 10,
    "start_time": "2021-07-08T15:38:51.679Z"
   },
   {
    "duration": 21,
    "start_time": "2021-07-08T15:38:51.777Z"
   },
   {
    "duration": 8,
    "start_time": "2021-07-08T15:38:51.829Z"
   },
   {
    "duration": 18,
    "start_time": "2021-07-08T15:38:51.898Z"
   },
   {
    "duration": 6,
    "start_time": "2021-07-08T15:38:52.482Z"
   },
   {
    "duration": 10,
    "start_time": "2021-07-08T15:38:52.635Z"
   },
   {
    "duration": 3270,
    "start_time": "2021-07-08T15:38:52.790Z"
   },
   {
    "duration": 3352,
    "start_time": "2021-07-08T15:38:56.062Z"
   },
   {
    "duration": 3359,
    "start_time": "2021-07-08T15:38:59.417Z"
   },
   {
    "duration": 5,
    "start_time": "2021-07-08T15:39:02.778Z"
   },
   {
    "duration": 983,
    "start_time": "2021-07-08T15:39:02.785Z"
   },
   {
    "duration": 8,
    "start_time": "2021-07-08T15:39:03.771Z"
   },
   {
    "duration": 2828,
    "start_time": "2021-07-08T15:39:03.782Z"
   },
   {
    "duration": 1613,
    "start_time": "2021-07-08T15:39:06.613Z"
   },
   {
    "duration": 4,
    "start_time": "2021-07-08T15:39:08.229Z"
   },
   {
    "duration": 358,
    "start_time": "2021-07-08T15:39:08.236Z"
   },
   {
    "duration": 12,
    "start_time": "2021-07-08T15:39:08.597Z"
   },
   {
    "duration": 5,
    "start_time": "2021-07-08T15:39:08.612Z"
   },
   {
    "duration": 59,
    "start_time": "2021-07-08T15:39:08.620Z"
   },
   {
    "duration": 5,
    "start_time": "2021-07-08T15:39:08.682Z"
   },
   {
    "duration": 27,
    "start_time": "2021-07-08T15:39:08.690Z"
   },
   {
    "duration": 17,
    "start_time": "2021-07-08T15:39:08.720Z"
   },
   {
    "duration": 13,
    "start_time": "2021-07-08T15:39:46.620Z"
   },
   {
    "duration": 396,
    "start_time": "2021-07-08T15:39:54.167Z"
   },
   {
    "duration": 405,
    "start_time": "2021-07-08T15:40:02.794Z"
   },
   {
    "duration": 256,
    "start_time": "2021-07-08T15:40:20.232Z"
   },
   {
    "duration": 15,
    "start_time": "2021-07-08T15:40:37.659Z"
   },
   {
    "duration": 68079,
    "start_time": "2021-07-08T15:40:38.768Z"
   },
   {
    "duration": 11,
    "start_time": "2021-07-08T15:41:46.849Z"
   },
   {
    "duration": 21906,
    "start_time": "2021-07-08T15:41:56.044Z"
   },
   {
    "duration": 6,
    "start_time": "2021-07-08T15:42:35.181Z"
   },
   {
    "duration": 36131,
    "start_time": "2021-07-08T15:42:43.568Z"
   },
   {
    "duration": 35361,
    "start_time": "2021-07-08T15:46:11.517Z"
   },
   {
    "duration": 9,
    "start_time": "2021-07-08T15:47:54.541Z"
   },
   {
    "duration": 9,
    "start_time": "2021-07-08T15:48:02.899Z"
   },
   {
    "duration": 107,
    "start_time": "2021-07-08T15:48:08.948Z"
   },
   {
    "duration": 109,
    "start_time": "2021-07-08T15:48:17.327Z"
   },
   {
    "duration": 336,
    "start_time": "2021-07-08T15:48:29.566Z"
   },
   {
    "duration": 256,
    "start_time": "2021-07-08T15:48:32.725Z"
   },
   {
    "duration": 95,
    "start_time": "2021-07-08T15:48:37.080Z"
   },
   {
    "duration": 9,
    "start_time": "2021-07-08T15:48:39.614Z"
   },
   {
    "duration": 10,
    "start_time": "2021-07-08T15:49:41.140Z"
   },
   {
    "duration": 8,
    "start_time": "2021-07-08T15:49:52.901Z"
   },
   {
    "duration": 10,
    "start_time": "2021-07-08T15:49:59.570Z"
   },
   {
    "duration": 12,
    "start_time": "2021-07-08T15:50:07.854Z"
   },
   {
    "duration": 9,
    "start_time": "2021-07-08T15:50:11.238Z"
   },
   {
    "duration": 9,
    "start_time": "2021-07-08T15:50:22.019Z"
   },
   {
    "duration": 12,
    "start_time": "2021-07-08T15:55:08.476Z"
   },
   {
    "duration": 1469,
    "start_time": "2021-08-29T15:56:55.268Z"
   },
   {
    "duration": 909,
    "start_time": "2021-08-29T15:56:56.739Z"
   },
   {
    "duration": 39,
    "start_time": "2021-08-29T15:56:57.652Z"
   },
   {
    "duration": 4,
    "start_time": "2021-08-29T15:57:32.678Z"
   },
   {
    "duration": 55,
    "start_time": "2021-08-29T15:57:38.081Z"
   },
   {
    "duration": 22,
    "start_time": "2021-08-29T15:58:26.817Z"
   },
   {
    "duration": 4,
    "start_time": "2021-08-29T15:59:26.511Z"
   },
   {
    "duration": 4,
    "start_time": "2021-08-29T17:20:28.321Z"
   },
   {
    "duration": 6,
    "start_time": "2021-08-29T17:20:55.572Z"
   },
   {
    "duration": 6,
    "start_time": "2021-08-29T17:21:10.786Z"
   },
   {
    "duration": 5,
    "start_time": "2021-08-29T17:21:37.863Z"
   },
   {
    "duration": 5,
    "start_time": "2021-08-29T17:21:52.315Z"
   },
   {
    "duration": 4,
    "start_time": "2021-08-29T17:21:56.177Z"
   },
   {
    "duration": 5,
    "start_time": "2021-08-29T17:22:03.055Z"
   },
   {
    "duration": 12,
    "start_time": "2021-08-29T17:22:03.349Z"
   },
   {
    "duration": 17,
    "start_time": "2021-08-29T17:22:03.858Z"
   },
   {
    "duration": 7,
    "start_time": "2021-08-29T17:22:16.065Z"
   },
   {
    "duration": 5,
    "start_time": "2021-08-29T17:25:19.041Z"
   },
   {
    "duration": 4,
    "start_time": "2021-08-29T17:25:19.251Z"
   },
   {
    "duration": 5,
    "start_time": "2021-08-29T17:25:19.635Z"
   },
   {
    "duration": 7,
    "start_time": "2021-08-29T17:25:20.137Z"
   },
   {
    "duration": 17,
    "start_time": "2021-08-29T17:25:21.348Z"
   },
   {
    "duration": 6,
    "start_time": "2021-08-29T17:25:22.260Z"
   },
   {
    "duration": 9,
    "start_time": "2021-08-29T17:28:41.687Z"
   },
   {
    "duration": 25,
    "start_time": "2021-08-29T17:33:10.519Z"
   },
   {
    "duration": 40,
    "start_time": "2021-08-29T17:33:28.679Z"
   },
   {
    "duration": 53,
    "start_time": "2021-08-29T17:33:54.150Z"
   },
   {
    "duration": 10,
    "start_time": "2021-08-29T17:33:59.884Z"
   },
   {
    "duration": 63,
    "start_time": "2021-08-29T17:34:10.488Z"
   },
   {
    "duration": 6,
    "start_time": "2021-08-29T17:39:19.606Z"
   },
   {
    "duration": 18,
    "start_time": "2021-08-29T17:40:20.241Z"
   },
   {
    "duration": 1502,
    "start_time": "2021-08-29T17:40:52.100Z"
   },
   {
    "duration": 877,
    "start_time": "2021-08-29T17:40:53.605Z"
   },
   {
    "duration": 37,
    "start_time": "2021-08-29T17:40:54.485Z"
   },
   {
    "duration": 4,
    "start_time": "2021-08-29T17:40:54.674Z"
   },
   {
    "duration": 66,
    "start_time": "2021-08-29T17:40:54.708Z"
   },
   {
    "duration": 20,
    "start_time": "2021-08-29T17:40:54.803Z"
   },
   {
    "duration": 4,
    "start_time": "2021-08-29T17:40:54.953Z"
   },
   {
    "duration": 5,
    "start_time": "2021-08-29T17:40:54.986Z"
   },
   {
    "duration": 4,
    "start_time": "2021-08-29T17:40:55.021Z"
   },
   {
    "duration": 4,
    "start_time": "2021-08-29T17:40:55.058Z"
   },
   {
    "duration": 5,
    "start_time": "2021-08-29T17:40:55.092Z"
   },
   {
    "duration": 12,
    "start_time": "2021-08-29T17:40:55.126Z"
   },
   {
    "duration": 17,
    "start_time": "2021-08-29T17:40:55.163Z"
   },
   {
    "duration": 6,
    "start_time": "2021-08-29T17:40:55.201Z"
   },
   {
    "duration": 9,
    "start_time": "2021-08-29T17:40:55.283Z"
   },
   {
    "duration": 40,
    "start_time": "2021-08-29T17:40:55.373Z"
   },
   {
    "duration": 7,
    "start_time": "2021-08-29T17:40:55.440Z"
   },
   {
    "duration": 18,
    "start_time": "2021-08-29T17:40:55.471Z"
   },
   {
    "duration": 7,
    "start_time": "2021-08-29T17:40:56.340Z"
   },
   {
    "duration": 9,
    "start_time": "2021-08-29T17:40:56.737Z"
   },
   {
    "duration": 3288,
    "start_time": "2021-08-29T17:40:57.138Z"
   },
   {
    "duration": 1529,
    "start_time": "2021-08-29T17:41:06.764Z"
   },
   {
    "duration": 879,
    "start_time": "2021-08-29T17:41:08.296Z"
   },
   {
    "duration": 38,
    "start_time": "2021-08-29T17:41:09.178Z"
   },
   {
    "duration": 3,
    "start_time": "2021-08-29T17:41:09.219Z"
   },
   {
    "duration": 91,
    "start_time": "2021-08-29T17:41:09.224Z"
   },
   {
    "duration": 52,
    "start_time": "2021-08-29T17:41:09.317Z"
   },
   {
    "duration": 5,
    "start_time": "2021-08-29T17:41:09.372Z"
   },
   {
    "duration": 8,
    "start_time": "2021-08-29T17:41:09.381Z"
   },
   {
    "duration": 5,
    "start_time": "2021-08-29T17:41:09.392Z"
   },
   {
    "duration": 8,
    "start_time": "2021-08-29T17:41:09.399Z"
   },
   {
    "duration": 10,
    "start_time": "2021-08-29T17:41:09.410Z"
   },
   {
    "duration": 43,
    "start_time": "2021-08-29T17:41:09.422Z"
   },
   {
    "duration": 19,
    "start_time": "2021-08-29T17:41:09.467Z"
   },
   {
    "duration": 9,
    "start_time": "2021-08-29T17:41:09.488Z"
   },
   {
    "duration": 16,
    "start_time": "2021-08-29T17:41:09.499Z"
   },
   {
    "duration": 72,
    "start_time": "2021-08-29T17:41:09.518Z"
   },
   {
    "duration": 8,
    "start_time": "2021-08-29T17:41:09.779Z"
   },
   {
    "duration": 19,
    "start_time": "2021-08-29T17:41:10.678Z"
   },
   {
    "duration": 1486,
    "start_time": "2021-08-29T17:41:22.695Z"
   },
   {
    "duration": 859,
    "start_time": "2021-08-29T17:41:24.184Z"
   },
   {
    "duration": 45,
    "start_time": "2021-08-29T17:41:25.045Z"
   },
   {
    "duration": 4,
    "start_time": "2021-08-29T17:41:25.092Z"
   },
   {
    "duration": 98,
    "start_time": "2021-08-29T17:41:25.098Z"
   },
   {
    "duration": 20,
    "start_time": "2021-08-29T17:41:25.198Z"
   },
   {
    "duration": 13,
    "start_time": "2021-08-29T17:41:25.220Z"
   },
   {
    "duration": 5,
    "start_time": "2021-08-29T17:41:25.261Z"
   },
   {
    "duration": 13,
    "start_time": "2021-08-29T17:41:25.269Z"
   },
   {
    "duration": 6,
    "start_time": "2021-08-29T17:41:25.284Z"
   },
   {
    "duration": 25,
    "start_time": "2021-08-29T17:41:25.292Z"
   },
   {
    "duration": 16,
    "start_time": "2021-08-29T17:41:25.319Z"
   },
   {
    "duration": 26,
    "start_time": "2021-08-29T17:41:25.338Z"
   },
   {
    "duration": 8,
    "start_time": "2021-08-29T17:41:25.367Z"
   },
   {
    "duration": 9,
    "start_time": "2021-08-29T17:41:25.460Z"
   },
   {
    "duration": 52,
    "start_time": "2021-08-29T17:41:27.075Z"
   },
   {
    "duration": 7,
    "start_time": "2021-08-29T17:41:30.264Z"
   },
   {
    "duration": 19,
    "start_time": "2021-08-29T17:41:31.891Z"
   },
   {
    "duration": 17,
    "start_time": "2021-08-29T17:41:56.514Z"
   },
   {
    "duration": 12,
    "start_time": "2021-08-29T17:42:16.712Z"
   },
   {
    "duration": 10,
    "start_time": "2021-08-29T17:42:32.826Z"
   },
   {
    "duration": 8,
    "start_time": "2021-08-29T17:42:37.727Z"
   },
   {
    "duration": 9,
    "start_time": "2021-08-29T17:42:46.672Z"
   },
   {
    "duration": 8,
    "start_time": "2021-08-29T17:42:51.931Z"
   },
   {
    "duration": 17,
    "start_time": "2021-08-29T17:43:22.223Z"
   },
   {
    "duration": 18,
    "start_time": "2021-08-29T17:43:31.821Z"
   },
   {
    "duration": 8,
    "start_time": "2021-08-29T17:45:57.053Z"
   },
   {
    "duration": 10,
    "start_time": "2021-08-29T17:46:29.062Z"
   },
   {
    "duration": 3926,
    "start_time": "2021-08-29T17:46:29.629Z"
   },
   {
    "duration": 3288,
    "start_time": "2021-08-29T17:47:48.249Z"
   },
   {
    "duration": 3309,
    "start_time": "2021-08-29T17:48:49.999Z"
   },
   {
    "duration": 5,
    "start_time": "2021-08-29T17:52:22.197Z"
   },
   {
    "duration": 971,
    "start_time": "2021-08-29T17:52:36.612Z"
   },
   {
    "duration": 7,
    "start_time": "2021-08-29T17:53:09.662Z"
   },
   {
    "duration": 6,
    "start_time": "2021-08-29T17:54:37.606Z"
   },
   {
    "duration": 2960,
    "start_time": "2021-08-29T17:54:58.887Z"
   },
   {
    "duration": 1328,
    "start_time": "2021-08-29T17:55:27.644Z"
   },
   {
    "duration": 2427,
    "start_time": "2021-08-29T17:55:44.102Z"
   },
   {
    "duration": 1920,
    "start_time": "2021-08-29T17:57:26.041Z"
   },
   {
    "duration": 2796,
    "start_time": "2021-08-29T17:58:08.016Z"
   },
   {
    "duration": 2469,
    "start_time": "2021-08-29T17:59:02.252Z"
   },
   {
    "duration": 5,
    "start_time": "2021-08-29T18:06:48.184Z"
   },
   {
    "duration": 30,
    "start_time": "2021-08-29T18:06:48.880Z"
   },
   {
    "duration": 5,
    "start_time": "2021-08-29T18:08:02.563Z"
   },
   {
    "duration": 7,
    "start_time": "2021-08-29T18:09:19.957Z"
   },
   {
    "duration": 21,
    "start_time": "2021-08-29T18:09:23.030Z"
   },
   {
    "duration": 16,
    "start_time": "2021-08-29T18:10:05.080Z"
   },
   {
    "duration": 20,
    "start_time": "2021-08-29T18:10:07.168Z"
   },
   {
    "duration": 16,
    "start_time": "2021-08-29T18:10:09.394Z"
   },
   {
    "duration": 6,
    "start_time": "2021-08-29T18:10:09.901Z"
   },
   {
    "duration": 42,
    "start_time": "2021-08-29T18:11:21.395Z"
   },
   {
    "duration": 3,
    "start_time": "2021-08-29T18:11:31.656Z"
   },
   {
    "duration": 2921,
    "start_time": "2021-08-29T18:12:10.967Z"
   },
   {
    "duration": 16982,
    "start_time": "2021-08-29T18:12:25.539Z"
   },
   {
    "duration": 842,
    "start_time": "2021-08-29T18:12:42.526Z"
   },
   {
    "duration": 5,
    "start_time": "2021-08-29T18:14:54.637Z"
   },
   {
    "duration": 53996,
    "start_time": "2021-08-29T18:16:15.284Z"
   },
   {
    "duration": 302067,
    "start_time": "2021-08-29T18:17:58.060Z"
   },
   {
    "duration": 28,
    "start_time": "2021-08-29T18:23:55.086Z"
   },
   {
    "duration": 11,
    "start_time": "2021-08-29T18:26:31.614Z"
   },
   {
    "duration": 310,
    "start_time": "2021-08-29T18:30:28.352Z"
   },
   {
    "duration": 40,
    "start_time": "2021-08-29T18:30:34.496Z"
   },
   {
    "duration": 1096,
    "start_time": "2021-09-04T14:22:56.337Z"
   },
   {
    "duration": 685,
    "start_time": "2021-09-04T14:22:57.435Z"
   },
   {
    "duration": 23,
    "start_time": "2021-09-04T14:22:58.122Z"
   },
   {
    "duration": 2,
    "start_time": "2021-09-04T14:22:58.147Z"
   },
   {
    "duration": 59,
    "start_time": "2021-09-04T14:22:58.151Z"
   },
   {
    "duration": 14,
    "start_time": "2021-09-04T14:22:58.212Z"
   },
   {
    "duration": 4,
    "start_time": "2021-09-04T14:22:58.227Z"
   },
   {
    "duration": 5,
    "start_time": "2021-09-04T14:22:58.233Z"
   },
   {
    "duration": 5,
    "start_time": "2021-09-04T14:22:58.240Z"
   },
   {
    "duration": 4,
    "start_time": "2021-09-04T14:22:58.247Z"
   },
   {
    "duration": 38,
    "start_time": "2021-09-04T14:22:58.253Z"
   },
   {
    "duration": 5,
    "start_time": "2021-09-04T14:22:58.293Z"
   },
   {
    "duration": 11,
    "start_time": "2021-09-04T14:22:58.300Z"
   },
   {
    "duration": 6,
    "start_time": "2021-09-04T14:22:58.313Z"
   },
   {
    "duration": 10,
    "start_time": "2021-09-04T14:22:58.320Z"
   },
   {
    "duration": 68,
    "start_time": "2021-09-04T14:22:58.332Z"
   },
   {
    "duration": 8,
    "start_time": "2021-09-04T14:22:58.402Z"
   },
   {
    "duration": 14,
    "start_time": "2021-09-04T14:22:58.411Z"
   },
   {
    "duration": 5,
    "start_time": "2021-09-04T14:22:58.427Z"
   },
   {
    "duration": 7,
    "start_time": "2021-09-04T14:22:58.434Z"
   },
   {
    "duration": 2019,
    "start_time": "2021-09-04T14:22:58.443Z"
   },
   {
    "duration": 2203,
    "start_time": "2021-09-04T14:23:00.463Z"
   },
   {
    "duration": 1953,
    "start_time": "2021-09-04T14:23:02.669Z"
   },
   {
    "duration": 3,
    "start_time": "2021-09-04T14:23:04.623Z"
   },
   {
    "duration": 560,
    "start_time": "2021-09-04T14:23:04.628Z"
   },
   {
    "duration": 3,
    "start_time": "2021-09-04T14:23:05.191Z"
   },
   {
    "duration": 8,
    "start_time": "2021-09-04T14:23:05.195Z"
   },
   {
    "duration": 1633,
    "start_time": "2021-09-04T14:23:05.204Z"
   },
   {
    "duration": 936,
    "start_time": "2021-09-04T14:23:06.838Z"
   },
   {
    "duration": 3,
    "start_time": "2021-09-04T14:23:07.776Z"
   },
   {
    "duration": 32,
    "start_time": "2021-09-04T14:23:07.781Z"
   },
   {
    "duration": 4,
    "start_time": "2021-09-04T14:23:10.955Z"
   },
   {
    "duration": 11,
    "start_time": "2021-09-04T14:23:11.674Z"
   },
   {
    "duration": 15,
    "start_time": "2021-09-04T14:23:13.774Z"
   },
   {
    "duration": 35,
    "start_time": "2021-09-04T14:27:29.448Z"
   },
   {
    "duration": 3,
    "start_time": "2021-09-04T14:27:31.758Z"
   },
   {
    "duration": 1132,
    "start_time": "2021-09-04T14:27:33.660Z"
   },
   {
    "duration": 2294,
    "start_time": "2021-09-04T14:27:38.188Z"
   },
   {
    "duration": 13146,
    "start_time": "2021-09-04T14:27:45.032Z"
   },
   {
    "duration": 3,
    "start_time": "2021-09-04T14:28:49.927Z"
   },
   {
    "duration": 243230,
    "start_time": "2021-09-04T14:30:24.780Z"
   },
   {
    "duration": 16,
    "start_time": "2021-09-04T14:34:54.266Z"
   },
   {
    "duration": 8,
    "start_time": "2021-09-04T14:34:55.827Z"
   }
  ],
  "kernelspec": {
   "display_name": "Python 3",
   "language": "python",
   "name": "python3"
  },
  "language_info": {
   "codemirror_mode": {
    "name": "ipython",
    "version": 3
   },
   "file_extension": ".py",
   "mimetype": "text/x-python",
   "name": "python",
   "nbconvert_exporter": "python",
   "pygments_lexer": "ipython3",
   "version": "3.7.8"
  },
  "toc": {
   "base_numbering": 1,
   "nav_menu": {},
   "number_sections": true,
   "sideBar": true,
   "skip_h1_title": true,
   "title_cell": "Содержание",
   "title_sidebar": "Contents",
   "toc_cell": true,
   "toc_position": {},
   "toc_section_display": true,
   "toc_window_display": false
  }
 },
 "nbformat": 4,
 "nbformat_minor": 2
}
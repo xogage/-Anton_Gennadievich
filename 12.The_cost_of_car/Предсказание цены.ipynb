{
  "nbformat": 4,
  "nbformat_minor": 0,
  "metadata": {
    "ExecuteTimeLog": [
      {
        "duration": 1503,
        "start_time": "2021-08-06T14:30:34.247Z"
      },
      {
        "duration": 1178,
        "start_time": "2021-08-06T14:48:15.608Z"
      },
      {
        "duration": 40,
        "start_time": "2021-08-06T14:48:18.576Z"
      },
      {
        "duration": 20,
        "start_time": "2021-08-06T14:49:25.381Z"
      },
      {
        "duration": 6,
        "start_time": "2021-08-06T14:49:31.787Z"
      },
      {
        "duration": 403,
        "start_time": "2021-08-06T14:49:47.841Z"
      },
      {
        "duration": 7,
        "start_time": "2021-08-06T14:49:56.251Z"
      },
      {
        "duration": 125,
        "start_time": "2021-08-06T14:53:39.498Z"
      },
      {
        "duration": 159,
        "start_time": "2021-08-06T15:18:45.392Z"
      },
      {
        "duration": 7,
        "start_time": "2021-08-06T15:19:08.233Z"
      },
      {
        "duration": 22,
        "start_time": "2021-08-06T15:19:18.546Z"
      },
      {
        "duration": 19,
        "start_time": "2021-08-06T15:19:21.933Z"
      },
      {
        "duration": 21,
        "start_time": "2021-08-06T15:19:48.439Z"
      },
      {
        "duration": 20,
        "start_time": "2021-08-06T15:19:58.946Z"
      },
      {
        "duration": 22,
        "start_time": "2021-08-06T15:20:22.769Z"
      },
      {
        "duration": 21,
        "start_time": "2021-08-06T15:20:38.667Z"
      },
      {
        "duration": 302,
        "start_time": "2021-08-06T15:24:54.785Z"
      },
      {
        "duration": 313,
        "start_time": "2021-08-06T15:24:58.632Z"
      },
      {
        "duration": 619,
        "start_time": "2021-08-06T15:25:24.167Z"
      },
      {
        "duration": 600,
        "start_time": "2021-08-06T15:25:30.155Z"
      },
      {
        "duration": 575,
        "start_time": "2021-08-06T15:26:18.258Z"
      },
      {
        "duration": 7,
        "start_time": "2021-08-06T15:27:07.307Z"
      },
      {
        "duration": 7,
        "start_time": "2021-08-06T15:27:20.378Z"
      },
      {
        "duration": 154,
        "start_time": "2021-08-06T15:27:55.425Z"
      },
      {
        "duration": 43,
        "start_time": "2021-08-06T15:28:25.887Z"
      },
      {
        "duration": 777,
        "start_time": "2021-08-06T15:31:38.903Z"
      },
      {
        "duration": 37,
        "start_time": "2021-08-06T15:31:54.036Z"
      },
      {
        "duration": 36,
        "start_time": "2021-08-06T15:32:40.894Z"
      },
      {
        "duration": 297,
        "start_time": "2021-08-06T15:33:00.743Z"
      },
      {
        "duration": 296,
        "start_time": "2021-08-06T15:33:22.811Z"
      },
      {
        "duration": 306,
        "start_time": "2021-08-06T15:33:54.349Z"
      },
      {
        "duration": 966,
        "start_time": "2021-08-06T15:34:50.666Z"
      },
      {
        "duration": 804,
        "start_time": "2021-08-06T15:35:03.359Z"
      },
      {
        "duration": 724,
        "start_time": "2021-08-06T15:35:17.750Z"
      },
      {
        "duration": 37,
        "start_time": "2021-08-06T15:35:25.542Z"
      },
      {
        "duration": 605,
        "start_time": "2021-08-06T15:35:37.300Z"
      },
      {
        "duration": 143,
        "start_time": "2021-08-06T15:35:43.116Z"
      },
      {
        "duration": 148,
        "start_time": "2021-08-06T15:38:33.813Z"
      },
      {
        "duration": 19,
        "start_time": "2021-08-06T15:39:48.941Z"
      },
      {
        "duration": 30,
        "start_time": "2021-08-06T15:46:00.190Z"
      },
      {
        "duration": 524,
        "start_time": "2021-08-06T15:49:20.703Z"
      },
      {
        "duration": 298,
        "start_time": "2021-08-06T15:54:27.952Z"
      },
      {
        "duration": 37,
        "start_time": "2021-08-06T15:54:34.638Z"
      },
      {
        "duration": 30,
        "start_time": "2021-08-06T15:54:52.433Z"
      },
      {
        "duration": 106,
        "start_time": "2021-08-06T15:56:17.759Z"
      },
      {
        "duration": 1499,
        "start_time": "2021-08-06T16:08:36.821Z"
      },
      {
        "duration": 1078,
        "start_time": "2021-08-06T16:08:38.322Z"
      },
      {
        "duration": 24,
        "start_time": "2021-08-06T16:08:39.403Z"
      },
      {
        "duration": 134,
        "start_time": "2021-08-06T16:08:39.430Z"
      },
      {
        "duration": 629,
        "start_time": "2021-08-06T16:08:39.566Z"
      },
      {
        "duration": 715,
        "start_time": "2021-08-06T16:08:40.197Z"
      },
      {
        "duration": 151,
        "start_time": "2021-08-06T16:08:40.914Z"
      },
      {
        "duration": 161,
        "start_time": "2021-08-06T16:08:41.068Z"
      },
      {
        "duration": 19,
        "start_time": "2021-08-06T16:08:57.597Z"
      },
      {
        "duration": 91,
        "start_time": "2021-08-06T16:09:03.743Z"
      },
      {
        "duration": 425,
        "start_time": "2021-08-06T16:09:17.831Z"
      },
      {
        "duration": 21,
        "start_time": "2021-08-06T16:10:47.146Z"
      },
      {
        "duration": 113,
        "start_time": "2021-08-06T16:11:20.511Z"
      },
      {
        "duration": 36,
        "start_time": "2021-08-06T16:12:34.173Z"
      },
      {
        "duration": 20,
        "start_time": "2021-08-06T16:12:36.627Z"
      },
      {
        "duration": 21,
        "start_time": "2021-08-06T16:12:38.600Z"
      },
      {
        "duration": 106,
        "start_time": "2021-08-06T16:12:43.283Z"
      },
      {
        "duration": 37,
        "start_time": "2021-08-06T16:13:03.105Z"
      },
      {
        "duration": 32,
        "start_time": "2021-08-06T16:13:14.252Z"
      },
      {
        "duration": 211,
        "start_time": "2021-08-06T16:51:53.471Z"
      },
      {
        "duration": 222,
        "start_time": "2021-08-06T16:52:20.394Z"
      },
      {
        "duration": 183,
        "start_time": "2021-08-06T16:52:33.612Z"
      },
      {
        "duration": 106,
        "start_time": "2021-08-06T16:52:54.085Z"
      },
      {
        "duration": 1525,
        "start_time": "2021-08-06T16:53:05.717Z"
      },
      {
        "duration": 1115,
        "start_time": "2021-08-06T16:53:07.245Z"
      },
      {
        "duration": 24,
        "start_time": "2021-08-06T16:53:08.363Z"
      },
      {
        "duration": 158,
        "start_time": "2021-08-06T16:53:08.401Z"
      },
      {
        "duration": 722,
        "start_time": "2021-08-06T16:53:08.561Z"
      },
      {
        "duration": 756,
        "start_time": "2021-08-06T16:53:09.286Z"
      },
      {
        "duration": 161,
        "start_time": "2021-08-06T16:53:10.045Z"
      },
      {
        "duration": 151,
        "start_time": "2021-08-06T16:53:14.416Z"
      },
      {
        "duration": 534,
        "start_time": "2021-08-06T16:53:15.966Z"
      },
      {
        "duration": 261,
        "start_time": "2021-08-06T16:53:19.425Z"
      },
      {
        "duration": 106,
        "start_time": "2021-08-06T16:53:22.463Z"
      },
      {
        "duration": 212,
        "start_time": "2021-08-06T16:53:33.732Z"
      },
      {
        "duration": 104,
        "start_time": "2021-08-06T16:53:44.907Z"
      },
      {
        "duration": 21,
        "start_time": "2021-08-06T16:58:46.373Z"
      },
      {
        "duration": 7000,
        "start_time": "2021-08-06T16:58:55.768Z"
      },
      {
        "duration": 16,
        "start_time": "2021-08-06T17:00:09.916Z"
      },
      {
        "duration": 5,
        "start_time": "2021-08-06T17:00:33.218Z"
      },
      {
        "duration": 103,
        "start_time": "2021-08-06T17:00:44.983Z"
      },
      {
        "duration": 418,
        "start_time": "2021-08-06T17:00:51.177Z"
      },
      {
        "duration": 6,
        "start_time": "2021-08-06T17:00:58.443Z"
      },
      {
        "duration": 6,
        "start_time": "2021-08-06T17:01:01.862Z"
      },
      {
        "duration": 7,
        "start_time": "2021-08-06T17:01:08.458Z"
      },
      {
        "duration": 2957,
        "start_time": "2021-08-06T17:08:32.618Z"
      },
      {
        "duration": 1870,
        "start_time": "2021-08-06T17:09:10.153Z"
      },
      {
        "duration": 14,
        "start_time": "2021-08-06T17:10:59.417Z"
      },
      {
        "duration": 14,
        "start_time": "2021-08-06T17:11:11.541Z"
      },
      {
        "duration": 289,
        "start_time": "2021-08-06T17:11:20.409Z"
      },
      {
        "duration": 16,
        "start_time": "2021-08-06T17:12:25.357Z"
      },
      {
        "duration": 10,
        "start_time": "2021-08-06T17:12:35.365Z"
      },
      {
        "duration": 13,
        "start_time": "2021-08-06T17:12:41.338Z"
      },
      {
        "duration": 10,
        "start_time": "2021-08-06T17:12:47.292Z"
      },
      {
        "duration": 15,
        "start_time": "2021-08-06T17:12:54.574Z"
      },
      {
        "duration": 44,
        "start_time": "2021-08-06T17:13:17.597Z"
      },
      {
        "duration": 16,
        "start_time": "2021-08-06T17:13:47.262Z"
      },
      {
        "duration": 57,
        "start_time": "2021-08-06T17:14:11.191Z"
      },
      {
        "duration": 14,
        "start_time": "2021-08-06T17:14:19.527Z"
      },
      {
        "duration": 464,
        "start_time": "2021-08-06T17:16:13.052Z"
      },
      {
        "duration": 575,
        "start_time": "2021-08-06T17:16:23.393Z"
      },
      {
        "duration": 492,
        "start_time": "2021-08-06T17:16:29.422Z"
      },
      {
        "duration": 515,
        "start_time": "2021-08-06T17:16:38.585Z"
      },
      {
        "duration": 1614,
        "start_time": "2021-08-06T17:16:49.155Z"
      },
      {
        "duration": 1104,
        "start_time": "2021-08-06T17:17:37.232Z"
      },
      {
        "duration": 1110,
        "start_time": "2021-08-06T17:19:12.976Z"
      },
      {
        "duration": 2688,
        "start_time": "2021-08-06T17:20:20.344Z"
      },
      {
        "duration": 419,
        "start_time": "2021-08-06T17:23:08.760Z"
      },
      {
        "duration": 2470,
        "start_time": "2021-08-06T17:23:46.437Z"
      },
      {
        "duration": 895,
        "start_time": "2021-08-06T17:23:57.286Z"
      },
      {
        "duration": 348,
        "start_time": "2021-08-06T17:24:07.181Z"
      },
      {
        "duration": 3190,
        "start_time": "2021-08-06T17:24:18.146Z"
      },
      {
        "duration": 665,
        "start_time": "2021-08-06T17:24:37.780Z"
      },
      {
        "duration": 2244,
        "start_time": "2021-08-06T17:24:57.781Z"
      },
      {
        "duration": 3248,
        "start_time": "2021-08-06T17:25:08.315Z"
      },
      {
        "duration": 293,
        "start_time": "2021-08-06T17:25:39.440Z"
      },
      {
        "duration": 1967,
        "start_time": "2021-08-06T17:25:42.866Z"
      },
      {
        "duration": 101,
        "start_time": "2021-08-06T17:27:54.455Z"
      },
      {
        "duration": 609,
        "start_time": "2021-08-06T17:27:58.248Z"
      },
      {
        "duration": 746,
        "start_time": "2021-08-06T17:33:08.085Z"
      },
      {
        "duration": 702,
        "start_time": "2021-08-06T17:33:28.649Z"
      },
      {
        "duration": 1367,
        "start_time": "2021-08-06T17:33:41.086Z"
      },
      {
        "duration": 1474,
        "start_time": "2021-08-06T17:34:21.703Z"
      },
      {
        "duration": 1305,
        "start_time": "2021-08-06T17:34:31.631Z"
      },
      {
        "duration": 1899,
        "start_time": "2021-08-06T17:34:47.047Z"
      },
      {
        "duration": 2095,
        "start_time": "2021-08-06T17:34:57.922Z"
      },
      {
        "duration": 685,
        "start_time": "2021-08-06T17:39:05.905Z"
      },
      {
        "duration": 656,
        "start_time": "2021-08-06T17:39:09.251Z"
      },
      {
        "duration": 1068,
        "start_time": "2021-08-06T17:39:32.976Z"
      },
      {
        "duration": 948,
        "start_time": "2021-08-06T17:39:47.871Z"
      },
      {
        "duration": 748,
        "start_time": "2021-08-06T17:39:56.633Z"
      },
      {
        "duration": 2553,
        "start_time": "2021-08-06T17:48:34.970Z"
      },
      {
        "duration": 1997,
        "start_time": "2021-08-06T17:48:42.120Z"
      },
      {
        "duration": 2364,
        "start_time": "2021-08-06T17:48:47.988Z"
      },
      {
        "duration": 2889,
        "start_time": "2021-08-06T17:48:56.122Z"
      },
      {
        "duration": 3065,
        "start_time": "2021-08-06T17:50:50.749Z"
      },
      {
        "duration": 3033,
        "start_time": "2021-08-06T17:51:06.770Z"
      },
      {
        "duration": 3215,
        "start_time": "2021-08-06T17:51:19.296Z"
      },
      {
        "duration": 3175,
        "start_time": "2021-08-06T17:51:31.658Z"
      },
      {
        "duration": 3081,
        "start_time": "2021-08-06T17:51:52.540Z"
      },
      {
        "duration": 2943,
        "start_time": "2021-08-06T17:57:21.932Z"
      },
      {
        "duration": 3195,
        "start_time": "2021-08-06T17:57:36.053Z"
      },
      {
        "duration": 3029,
        "start_time": "2021-08-06T17:57:48.448Z"
      },
      {
        "duration": 3171,
        "start_time": "2021-08-06T17:58:35.562Z"
      },
      {
        "duration": 3122,
        "start_time": "2021-08-06T17:58:46.249Z"
      },
      {
        "duration": 2862,
        "start_time": "2021-08-06T17:59:02.690Z"
      },
      {
        "duration": 3001,
        "start_time": "2021-08-06T17:59:13.435Z"
      },
      {
        "duration": 3017,
        "start_time": "2021-08-06T17:59:25.004Z"
      },
      {
        "duration": 3174,
        "start_time": "2021-08-06T17:59:34.664Z"
      },
      {
        "duration": 3108,
        "start_time": "2021-08-06T17:59:40.470Z"
      },
      {
        "duration": 3078,
        "start_time": "2021-08-06T18:05:02.900Z"
      },
      {
        "duration": 2901,
        "start_time": "2021-08-06T18:05:18.081Z"
      },
      {
        "duration": 270,
        "start_time": "2021-08-06T18:05:44.355Z"
      },
      {
        "duration": 6,
        "start_time": "2021-08-06T18:05:49.863Z"
      },
      {
        "duration": 3138,
        "start_time": "2021-08-06T18:07:50.880Z"
      },
      {
        "duration": 3233,
        "start_time": "2021-08-06T18:08:25.939Z"
      },
      {
        "duration": 3191,
        "start_time": "2021-08-06T18:08:41.312Z"
      },
      {
        "duration": 3086,
        "start_time": "2021-08-06T18:08:49.954Z"
      },
      {
        "duration": 1270,
        "start_time": "2021-08-06T18:09:04.233Z"
      },
      {
        "duration": 3165,
        "start_time": "2021-08-06T18:09:08.638Z"
      },
      {
        "duration": 3086,
        "start_time": "2021-08-06T18:09:17.641Z"
      },
      {
        "duration": 1296,
        "start_time": "2021-08-06T18:09:27.908Z"
      },
      {
        "duration": 1422,
        "start_time": "2021-08-06T18:09:31.165Z"
      },
      {
        "duration": 3124,
        "start_time": "2021-08-06T18:09:37.810Z"
      },
      {
        "duration": 98,
        "start_time": "2021-08-06T18:09:42.911Z"
      },
      {
        "duration": 86,
        "start_time": "2021-08-06T18:09:46.789Z"
      },
      {
        "duration": 3082,
        "start_time": "2021-08-06T18:09:49.414Z"
      },
      {
        "duration": 3062,
        "start_time": "2021-08-06T18:23:42.941Z"
      },
      {
        "duration": 2962,
        "start_time": "2021-08-06T18:24:02.298Z"
      },
      {
        "duration": 3227,
        "start_time": "2021-08-06T18:25:35.942Z"
      },
      {
        "duration": 3052,
        "start_time": "2021-08-06T18:26:12.360Z"
      },
      {
        "duration": 3175,
        "start_time": "2021-08-06T18:26:29.410Z"
      },
      {
        "duration": 3134,
        "start_time": "2021-08-06T18:27:21.734Z"
      },
      {
        "duration": 2966,
        "start_time": "2021-08-06T18:28:00.190Z"
      },
      {
        "duration": 1378,
        "start_time": "2021-08-06T18:29:43.066Z"
      },
      {
        "duration": 3963,
        "start_time": "2021-08-06T18:29:56.508Z"
      },
      {
        "duration": 3050,
        "start_time": "2021-08-06T18:30:51.127Z"
      },
      {
        "duration": 3181,
        "start_time": "2021-08-06T18:37:05.356Z"
      },
      {
        "duration": 3201,
        "start_time": "2021-08-06T18:37:10.850Z"
      },
      {
        "duration": 3148,
        "start_time": "2021-08-06T18:37:20.678Z"
      },
      {
        "duration": 3347,
        "start_time": "2021-08-06T18:37:29.857Z"
      },
      {
        "duration": 3352,
        "start_time": "2021-08-06T18:37:56.007Z"
      },
      {
        "duration": 3002,
        "start_time": "2021-08-06T18:38:52.584Z"
      },
      {
        "duration": 3388,
        "start_time": "2021-08-06T18:44:11.215Z"
      },
      {
        "duration": 3564,
        "start_time": "2021-08-06T18:46:43.850Z"
      },
      {
        "duration": 7,
        "start_time": "2021-08-06T18:56:05.597Z"
      },
      {
        "duration": 8,
        "start_time": "2021-08-06T18:56:43.656Z"
      },
      {
        "duration": 303,
        "start_time": "2021-08-06T18:57:01.987Z"
      },
      {
        "duration": 8,
        "start_time": "2021-08-06T18:57:08.327Z"
      },
      {
        "duration": 10,
        "start_time": "2021-08-06T18:57:11.370Z"
      },
      {
        "duration": 31,
        "start_time": "2021-08-06T18:57:16.983Z"
      },
      {
        "duration": 21,
        "start_time": "2021-08-06T18:57:26.841Z"
      },
      {
        "duration": 51,
        "start_time": "2021-08-06T18:57:40.843Z"
      },
      {
        "duration": 26,
        "start_time": "2021-08-06T18:57:48.173Z"
      },
      {
        "duration": 29,
        "start_time": "2021-08-06T18:58:07.620Z"
      },
      {
        "duration": 30,
        "start_time": "2021-08-06T18:58:17.690Z"
      },
      {
        "duration": 309,
        "start_time": "2021-08-06T18:58:42.382Z"
      },
      {
        "duration": 294,
        "start_time": "2021-08-06T18:58:45.114Z"
      },
      {
        "duration": 36,
        "start_time": "2021-08-06T18:58:50.780Z"
      },
      {
        "duration": 26,
        "start_time": "2021-08-06T18:59:09.012Z"
      },
      {
        "duration": 6,
        "start_time": "2021-08-06T18:59:13.849Z"
      },
      {
        "duration": 7,
        "start_time": "2021-08-06T18:59:21.429Z"
      },
      {
        "duration": 41,
        "start_time": "2021-08-06T19:00:31.318Z"
      },
      {
        "duration": 63,
        "start_time": "2021-08-06T19:03:12.291Z"
      },
      {
        "duration": 12,
        "start_time": "2021-08-06T19:03:56.161Z"
      },
      {
        "duration": 55,
        "start_time": "2021-08-06T19:04:03.107Z"
      },
      {
        "duration": 54,
        "start_time": "2021-08-06T19:04:23.522Z"
      },
      {
        "duration": 50,
        "start_time": "2021-08-06T19:05:00.654Z"
      },
      {
        "duration": 46,
        "start_time": "2021-08-06T19:05:28.902Z"
      },
      {
        "duration": 48,
        "start_time": "2021-08-06T19:06:44.380Z"
      },
      {
        "duration": 57,
        "start_time": "2021-08-06T19:07:13.451Z"
      },
      {
        "duration": 49,
        "start_time": "2021-08-06T19:07:17.710Z"
      },
      {
        "duration": 55,
        "start_time": "2021-08-06T19:07:25.952Z"
      },
      {
        "duration": 79,
        "start_time": "2021-08-06T19:10:26.712Z"
      },
      {
        "duration": 42,
        "start_time": "2021-08-06T19:11:29.217Z"
      },
      {
        "duration": 65,
        "start_time": "2021-08-06T19:11:46.193Z"
      },
      {
        "duration": 56,
        "start_time": "2021-08-06T19:11:49.698Z"
      },
      {
        "duration": 29,
        "start_time": "2021-08-06T19:12:17.021Z"
      },
      {
        "duration": 38,
        "start_time": "2021-08-06T19:13:02.247Z"
      },
      {
        "duration": 6,
        "start_time": "2021-08-06T19:13:06.722Z"
      },
      {
        "duration": 103,
        "start_time": "2021-08-06T19:14:09.385Z"
      },
      {
        "duration": 8,
        "start_time": "2021-08-06T19:14:35.828Z"
      },
      {
        "duration": 6,
        "start_time": "2021-08-06T19:14:40.431Z"
      },
      {
        "duration": 74,
        "start_time": "2021-08-06T19:16:56.832Z"
      },
      {
        "duration": 57,
        "start_time": "2021-08-06T19:17:09.831Z"
      },
      {
        "duration": 6,
        "start_time": "2021-08-06T19:18:27.973Z"
      },
      {
        "duration": 6,
        "start_time": "2021-08-06T19:18:46.292Z"
      },
      {
        "duration": 96,
        "start_time": "2021-08-06T19:19:58.723Z"
      },
      {
        "duration": 63,
        "start_time": "2021-08-06T19:20:37.236Z"
      },
      {
        "duration": 26,
        "start_time": "2021-08-06T19:20:46.930Z"
      },
      {
        "duration": 27,
        "start_time": "2021-08-06T19:20:53.808Z"
      },
      {
        "duration": 27,
        "start_time": "2021-08-06T19:20:57.907Z"
      },
      {
        "duration": 28,
        "start_time": "2021-08-06T19:21:03.692Z"
      },
      {
        "duration": 28,
        "start_time": "2021-08-06T19:21:22.141Z"
      },
      {
        "duration": 28,
        "start_time": "2021-08-06T19:21:31.568Z"
      },
      {
        "duration": 30,
        "start_time": "2021-08-06T19:22:08.728Z"
      },
      {
        "duration": 29,
        "start_time": "2021-08-06T19:22:19.495Z"
      },
      {
        "duration": 27,
        "start_time": "2021-08-06T19:22:26.654Z"
      },
      {
        "duration": 30,
        "start_time": "2021-08-06T19:22:45.283Z"
      },
      {
        "duration": 28,
        "start_time": "2021-08-06T19:22:48.165Z"
      },
      {
        "duration": 28,
        "start_time": "2021-08-06T19:22:50.744Z"
      },
      {
        "duration": 201,
        "start_time": "2021-08-06T19:28:08.547Z"
      },
      {
        "duration": 28,
        "start_time": "2021-08-06T19:28:15.188Z"
      },
      {
        "duration": 220,
        "start_time": "2021-08-06T19:30:51.122Z"
      },
      {
        "duration": 135,
        "start_time": "2021-08-06T19:31:17.839Z"
      },
      {
        "duration": 122,
        "start_time": "2021-08-06T19:32:15.457Z"
      },
      {
        "duration": 109,
        "start_time": "2021-08-06T19:32:22.403Z"
      },
      {
        "duration": 8,
        "start_time": "2021-08-06T19:36:39.476Z"
      },
      {
        "duration": 573,
        "start_time": "2021-08-06T19:36:51.856Z"
      },
      {
        "duration": 39,
        "start_time": "2021-08-06T19:36:57.099Z"
      },
      {
        "duration": 40,
        "start_time": "2021-08-06T19:39:36.148Z"
      },
      {
        "duration": 98,
        "start_time": "2021-08-06T19:41:21.845Z"
      },
      {
        "duration": 99,
        "start_time": "2021-08-06T19:41:27.141Z"
      },
      {
        "duration": 50,
        "start_time": "2021-08-06T19:41:36.594Z"
      },
      {
        "duration": 99,
        "start_time": "2021-08-06T20:34:11.974Z"
      },
      {
        "duration": 96,
        "start_time": "2021-08-06T20:34:28.093Z"
      },
      {
        "duration": 1626,
        "start_time": "2021-08-07T12:10:27.817Z"
      },
      {
        "duration": -1303,
        "start_time": "2021-08-07T12:10:30.748Z"
      },
      {
        "duration": -1304,
        "start_time": "2021-08-07T12:10:30.750Z"
      },
      {
        "duration": 261,
        "start_time": "2021-08-07T12:10:30.140Z"
      },
      {
        "duration": 257,
        "start_time": "2021-08-07T12:10:31.530Z"
      },
      {
        "duration": 237,
        "start_time": "2021-08-07T12:10:33.536Z"
      },
      {
        "duration": 1451,
        "start_time": "2021-08-07T12:10:44.252Z"
      },
      {
        "duration": -1315,
        "start_time": "2021-08-07T12:10:47.020Z"
      },
      {
        "duration": -1318,
        "start_time": "2021-08-07T12:10:47.024Z"
      },
      {
        "duration": 242,
        "start_time": "2021-08-07T12:11:35.960Z"
      },
      {
        "duration": 5,
        "start_time": "2021-08-07T12:12:30.381Z"
      },
      {
        "duration": 706,
        "start_time": "2021-08-07T12:12:32.966Z"
      },
      {
        "duration": 16,
        "start_time": "2021-08-07T12:12:34.240Z"
      },
      {
        "duration": 89,
        "start_time": "2021-08-07T12:12:35.618Z"
      },
      {
        "duration": 370,
        "start_time": "2021-08-07T12:12:36.945Z"
      },
      {
        "duration": 546,
        "start_time": "2021-08-07T12:12:37.627Z"
      },
      {
        "duration": 113,
        "start_time": "2021-08-07T12:12:38.174Z"
      },
      {
        "duration": 114,
        "start_time": "2021-08-07T12:12:39.800Z"
      },
      {
        "duration": 287,
        "start_time": "2021-08-07T12:12:40.669Z"
      },
      {
        "duration": 152,
        "start_time": "2021-08-07T12:12:41.311Z"
      },
      {
        "duration": 2063,
        "start_time": "2021-08-07T12:12:42.207Z"
      },
      {
        "duration": 32,
        "start_time": "2021-08-07T12:12:44.271Z"
      },
      {
        "duration": 4,
        "start_time": "2021-08-07T12:12:44.305Z"
      },
      {
        "duration": 40,
        "start_time": "2021-08-07T12:12:44.311Z"
      },
      {
        "duration": 59,
        "start_time": "2021-08-07T12:12:44.561Z"
      },
      {
        "duration": 24,
        "start_time": "2021-08-07T12:12:45.925Z"
      },
      {
        "duration": 30,
        "start_time": "2021-08-07T12:14:50.846Z"
      },
      {
        "duration": 6407,
        "start_time": "2021-08-07T12:15:12.456Z"
      },
      {
        "duration": 44,
        "start_time": "2021-08-07T12:15:24.943Z"
      },
      {
        "duration": 276,
        "start_time": "2021-08-07T12:15:27.636Z"
      },
      {
        "duration": 43,
        "start_time": "2021-08-07T12:15:30.944Z"
      },
      {
        "duration": 23,
        "start_time": "2021-08-07T12:15:33.340Z"
      },
      {
        "duration": 25,
        "start_time": "2021-08-07T12:15:36.974Z"
      },
      {
        "duration": 22,
        "start_time": "2021-08-07T12:15:50.470Z"
      },
      {
        "duration": 33,
        "start_time": "2021-08-07T12:16:06.480Z"
      },
      {
        "duration": 13,
        "start_time": "2021-08-07T12:16:27.530Z"
      },
      {
        "duration": 9,
        "start_time": "2021-08-07T12:16:39.335Z"
      },
      {
        "duration": 23,
        "start_time": "2021-08-07T12:16:44.821Z"
      },
      {
        "duration": 1077,
        "start_time": "2021-08-07T12:17:16.394Z"
      },
      {
        "duration": 1089,
        "start_time": "2021-08-07T12:17:17.473Z"
      },
      {
        "duration": 23,
        "start_time": "2021-08-07T12:17:18.565Z"
      },
      {
        "duration": 136,
        "start_time": "2021-08-07T12:17:18.590Z"
      },
      {
        "duration": 585,
        "start_time": "2021-08-07T12:17:18.728Z"
      },
      {
        "duration": 684,
        "start_time": "2021-08-07T12:17:19.315Z"
      },
      {
        "duration": 205,
        "start_time": "2021-08-07T12:17:20.001Z"
      },
      {
        "duration": 214,
        "start_time": "2021-08-07T12:17:20.209Z"
      },
      {
        "duration": 506,
        "start_time": "2021-08-07T12:17:20.426Z"
      },
      {
        "duration": 244,
        "start_time": "2021-08-07T12:17:20.934Z"
      },
      {
        "duration": 3504,
        "start_time": "2021-08-07T12:17:21.180Z"
      },
      {
        "duration": 43,
        "start_time": "2021-08-07T12:17:24.687Z"
      },
      {
        "duration": 6,
        "start_time": "2021-08-07T12:17:24.740Z"
      },
      {
        "duration": 39,
        "start_time": "2021-08-07T12:17:24.748Z"
      },
      {
        "duration": 95,
        "start_time": "2021-08-07T12:17:24.790Z"
      },
      {
        "duration": 31,
        "start_time": "2021-08-07T12:17:24.887Z"
      },
      {
        "duration": 12,
        "start_time": "2021-08-07T12:17:28.181Z"
      },
      {
        "duration": 23,
        "start_time": "2021-08-07T12:17:30.746Z"
      },
      {
        "duration": 1112,
        "start_time": "2021-08-07T12:18:15.254Z"
      },
      {
        "duration": 705,
        "start_time": "2021-08-07T12:18:16.368Z"
      },
      {
        "duration": 13,
        "start_time": "2021-08-07T12:18:17.075Z"
      },
      {
        "duration": 85,
        "start_time": "2021-08-07T12:18:17.571Z"
      },
      {
        "duration": 370,
        "start_time": "2021-08-07T12:18:19.330Z"
      },
      {
        "duration": 462,
        "start_time": "2021-08-07T12:18:20.286Z"
      },
      {
        "duration": 104,
        "start_time": "2021-08-07T12:18:22.655Z"
      },
      {
        "duration": 20,
        "start_time": "2021-08-07T12:18:25.664Z"
      },
      {
        "duration": 108,
        "start_time": "2021-08-07T12:18:34.173Z"
      },
      {
        "duration": 301,
        "start_time": "2021-08-07T12:18:40.146Z"
      },
      {
        "duration": 146,
        "start_time": "2021-08-07T12:18:41.440Z"
      },
      {
        "duration": 22,
        "start_time": "2021-08-07T12:18:45.208Z"
      },
      {
        "duration": 2163,
        "start_time": "2021-08-07T12:19:00.579Z"
      },
      {
        "duration": 22,
        "start_time": "2021-08-07T12:19:09.519Z"
      },
      {
        "duration": 34,
        "start_time": "2021-08-07T12:20:41.903Z"
      },
      {
        "duration": 23,
        "start_time": "2021-08-07T12:20:44.491Z"
      },
      {
        "duration": 5,
        "start_time": "2021-08-07T12:20:54.184Z"
      },
      {
        "duration": 32,
        "start_time": "2021-08-07T12:20:56.859Z"
      },
      {
        "duration": 63,
        "start_time": "2021-08-07T12:20:58.201Z"
      },
      {
        "duration": 34,
        "start_time": "2021-08-07T12:21:00.022Z"
      },
      {
        "duration": 32,
        "start_time": "2021-08-07T12:21:16.609Z"
      },
      {
        "duration": 46,
        "start_time": "2021-08-07T12:21:26.989Z"
      },
      {
        "duration": 3,
        "start_time": "2021-08-07T12:21:42.516Z"
      },
      {
        "duration": 22,
        "start_time": "2021-08-07T12:21:45.480Z"
      },
      {
        "duration": 29,
        "start_time": "2021-08-07T12:21:59.815Z"
      },
      {
        "duration": 24,
        "start_time": "2021-08-07T12:22:01.329Z"
      },
      {
        "duration": 25,
        "start_time": "2021-08-07T12:22:12.004Z"
      },
      {
        "duration": 4,
        "start_time": "2021-08-07T12:22:22.797Z"
      },
      {
        "duration": 3,
        "start_time": "2021-08-07T12:22:40.557Z"
      },
      {
        "duration": 22,
        "start_time": "2021-08-07T12:22:43.755Z"
      },
      {
        "duration": 412,
        "start_time": "2021-08-07T12:23:35.042Z"
      },
      {
        "duration": 257,
        "start_time": "2021-08-07T12:24:05.750Z"
      },
      {
        "duration": 266,
        "start_time": "2021-08-07T12:24:14.064Z"
      },
      {
        "duration": 246,
        "start_time": "2021-08-07T12:24:16.981Z"
      },
      {
        "duration": 4,
        "start_time": "2021-08-07T12:24:26.885Z"
      },
      {
        "duration": 30,
        "start_time": "2021-08-07T12:24:38.511Z"
      },
      {
        "duration": 23,
        "start_time": "2021-08-07T12:24:39.606Z"
      },
      {
        "duration": 22,
        "start_time": "2021-08-07T12:24:42.748Z"
      },
      {
        "duration": 23,
        "start_time": "2021-08-07T12:24:45.034Z"
      },
      {
        "duration": 14,
        "start_time": "2021-08-07T12:24:56.399Z"
      },
      {
        "duration": 3,
        "start_time": "2021-08-07T12:25:00.837Z"
      },
      {
        "duration": 22,
        "start_time": "2021-08-07T12:25:03.387Z"
      },
      {
        "duration": 256,
        "start_time": "2021-08-07T12:25:56.867Z"
      },
      {
        "duration": 4,
        "start_time": "2021-08-07T12:26:11.543Z"
      },
      {
        "duration": 22,
        "start_time": "2021-08-07T12:26:18.020Z"
      },
      {
        "duration": 22,
        "start_time": "2021-08-07T12:26:18.431Z"
      },
      {
        "duration": 31,
        "start_time": "2021-08-07T12:27:02.134Z"
      },
      {
        "duration": 23,
        "start_time": "2021-08-07T12:27:05.048Z"
      },
      {
        "duration": 2,
        "start_time": "2021-08-07T12:27:17.129Z"
      },
      {
        "duration": 22,
        "start_time": "2021-08-07T12:27:31.454Z"
      },
      {
        "duration": 23,
        "start_time": "2021-08-07T12:27:37.326Z"
      },
      {
        "duration": 23,
        "start_time": "2021-08-07T12:27:40.389Z"
      },
      {
        "duration": 30,
        "start_time": "2021-08-07T12:27:44.042Z"
      },
      {
        "duration": 32,
        "start_time": "2021-08-07T12:33:59.735Z"
      },
      {
        "duration": 13,
        "start_time": "2021-08-07T12:36:10.649Z"
      },
      {
        "duration": 32,
        "start_time": "2021-08-07T12:36:28.681Z"
      },
      {
        "duration": 273,
        "start_time": "2021-08-07T12:36:48.665Z"
      },
      {
        "duration": 24,
        "start_time": "2021-08-07T12:38:27.146Z"
      },
      {
        "duration": 22,
        "start_time": "2021-08-07T12:38:31.977Z"
      },
      {
        "duration": 5,
        "start_time": "2021-08-07T12:38:42.146Z"
      },
      {
        "duration": 23,
        "start_time": "2021-08-07T12:47:02.517Z"
      },
      {
        "duration": 5,
        "start_time": "2021-08-07T12:47:08.259Z"
      },
      {
        "duration": 27,
        "start_time": "2021-08-07T12:47:17.314Z"
      },
      {
        "duration": 21,
        "start_time": "2021-08-07T12:47:44.364Z"
      },
      {
        "duration": 42,
        "start_time": "2021-08-07T12:47:50.023Z"
      },
      {
        "duration": 28,
        "start_time": "2021-08-07T12:50:55.668Z"
      },
      {
        "duration": 298,
        "start_time": "2021-08-07T12:51:15.565Z"
      },
      {
        "duration": 28,
        "start_time": "2021-08-07T12:51:20.137Z"
      },
      {
        "duration": 28,
        "start_time": "2021-08-07T12:51:36.593Z"
      },
      {
        "duration": 33,
        "start_time": "2021-08-07T12:53:27.104Z"
      },
      {
        "duration": 23,
        "start_time": "2021-08-07T12:53:39.261Z"
      },
      {
        "duration": 5,
        "start_time": "2021-08-07T12:53:45.287Z"
      },
      {
        "duration": 12,
        "start_time": "2021-08-07T12:55:24.646Z"
      },
      {
        "duration": 20,
        "start_time": "2021-08-07T12:55:28.954Z"
      },
      {
        "duration": 54,
        "start_time": "2021-08-07T13:00:15.654Z"
      },
      {
        "duration": 4,
        "start_time": "2021-08-07T13:00:33.298Z"
      },
      {
        "duration": 16,
        "start_time": "2021-08-07T13:02:32.111Z"
      },
      {
        "duration": 269,
        "start_time": "2021-08-07T13:02:40.797Z"
      },
      {
        "duration": 9,
        "start_time": "2021-08-07T13:02:54.370Z"
      },
      {
        "duration": 301,
        "start_time": "2021-08-07T13:03:45.142Z"
      },
      {
        "duration": 21,
        "start_time": "2021-08-07T13:04:13.410Z"
      },
      {
        "duration": 24,
        "start_time": "2021-08-07T13:04:23.648Z"
      },
      {
        "duration": 3,
        "start_time": "2021-08-07T13:05:01.894Z"
      },
      {
        "duration": 1736,
        "start_time": "2021-08-07T13:05:50.601Z"
      },
      {
        "duration": 3,
        "start_time": "2021-08-07T13:07:10.604Z"
      },
      {
        "duration": 4934,
        "start_time": "2021-08-07T13:07:13.608Z"
      },
      {
        "duration": 3,
        "start_time": "2021-08-07T13:09:06.675Z"
      },
      {
        "duration": 3397,
        "start_time": "2021-08-07T13:09:08.069Z"
      },
      {
        "duration": 259,
        "start_time": "2021-08-07T13:09:50.116Z"
      },
      {
        "duration": 5,
        "start_time": "2021-08-07T13:10:40.737Z"
      },
      {
        "duration": 5283,
        "start_time": "2021-08-07T13:11:22.484Z"
      },
      {
        "duration": 4,
        "start_time": "2021-08-07T13:11:37.929Z"
      },
      {
        "duration": 5509,
        "start_time": "2021-08-07T13:12:10.867Z"
      },
      {
        "duration": 4,
        "start_time": "2021-08-07T13:12:23.875Z"
      },
      {
        "duration": 74492,
        "start_time": "2021-08-07T13:12:42.198Z"
      },
      {
        "duration": 3,
        "start_time": "2021-08-07T13:13:56.692Z"
      },
      {
        "duration": 17,
        "start_time": "2021-08-07T13:15:15.661Z"
      },
      {
        "duration": 57,
        "start_time": "2021-08-07T13:15:17.049Z"
      },
      {
        "duration": 4,
        "start_time": "2021-08-07T13:15:17.309Z"
      },
      {
        "duration": 12,
        "start_time": "2021-08-07T13:15:18.999Z"
      },
      {
        "duration": 66912,
        "start_time": "2021-08-07T13:15:38.910Z"
      },
      {
        "duration": 5,
        "start_time": "2021-08-07T13:16:55.725Z"
      },
      {
        "duration": 3907,
        "start_time": "2021-08-07T13:18:19.149Z"
      },
      {
        "duration": 789,
        "start_time": "2021-08-07T13:19:26.335Z"
      },
      {
        "duration": 278,
        "start_time": "2021-08-07T13:20:12.100Z"
      },
      {
        "duration": 255,
        "start_time": "2021-08-07T13:20:21.725Z"
      },
      {
        "duration": 1148,
        "start_time": "2021-08-07T13:21:01.255Z"
      },
      {
        "duration": 775,
        "start_time": "2021-08-07T13:21:02.405Z"
      },
      {
        "duration": 16,
        "start_time": "2021-08-07T13:21:03.181Z"
      },
      {
        "duration": 110,
        "start_time": "2021-08-07T13:21:03.198Z"
      },
      {
        "duration": 412,
        "start_time": "2021-08-07T13:21:03.309Z"
      },
      {
        "duration": 525,
        "start_time": "2021-08-07T13:21:03.722Z"
      },
      {
        "duration": 122,
        "start_time": "2021-08-07T13:21:04.249Z"
      },
      {
        "duration": 125,
        "start_time": "2021-08-07T13:21:04.373Z"
      },
      {
        "duration": 310,
        "start_time": "2021-08-07T13:21:04.500Z"
      },
      {
        "duration": 165,
        "start_time": "2021-08-07T13:21:04.811Z"
      },
      {
        "duration": 2190,
        "start_time": "2021-08-07T13:21:04.978Z"
      },
      {
        "duration": 34,
        "start_time": "2021-08-07T13:21:07.169Z"
      },
      {
        "duration": 5,
        "start_time": "2021-08-07T13:21:07.204Z"
      },
      {
        "duration": 48,
        "start_time": "2021-08-07T13:21:07.210Z"
      },
      {
        "duration": 57,
        "start_time": "2021-08-07T13:21:07.261Z"
      },
      {
        "duration": 44,
        "start_time": "2021-08-07T13:21:07.320Z"
      },
      {
        "duration": 3,
        "start_time": "2021-08-07T13:21:07.365Z"
      },
      {
        "duration": 17,
        "start_time": "2021-08-07T13:21:07.369Z"
      },
      {
        "duration": 11,
        "start_time": "2021-08-07T13:21:07.387Z"
      },
      {
        "duration": 71,
        "start_time": "2021-08-07T13:21:07.399Z"
      },
      {
        "duration": 5,
        "start_time": "2021-08-07T13:21:09.615Z"
      },
      {
        "duration": 9,
        "start_time": "2021-08-07T13:21:13.317Z"
      },
      {
        "duration": 4,
        "start_time": "2021-08-07T13:21:14.487Z"
      },
      {
        "duration": 3,
        "start_time": "2021-08-07T13:21:15.751Z"
      },
      {
        "duration": 2235,
        "start_time": "2021-08-07T13:21:16.663Z"
      },
      {
        "duration": 3,
        "start_time": "2021-08-07T13:21:22.897Z"
      },
      {
        "duration": 894,
        "start_time": "2021-08-07T13:21:23.673Z"
      },
      {
        "duration": 1206,
        "start_time": "2021-08-07T13:22:55.002Z"
      },
      {
        "duration": 766,
        "start_time": "2021-08-07T13:22:56.209Z"
      },
      {
        "duration": 14,
        "start_time": "2021-08-07T13:22:56.977Z"
      },
      {
        "duration": 121,
        "start_time": "2021-08-07T13:22:56.993Z"
      },
      {
        "duration": 426,
        "start_time": "2021-08-07T13:22:57.116Z"
      },
      {
        "duration": 479,
        "start_time": "2021-08-07T13:22:57.543Z"
      },
      {
        "duration": 127,
        "start_time": "2021-08-07T13:22:58.024Z"
      },
      {
        "duration": 131,
        "start_time": "2021-08-07T13:22:58.155Z"
      },
      {
        "duration": 314,
        "start_time": "2021-08-07T13:22:58.289Z"
      },
      {
        "duration": 174,
        "start_time": "2021-08-07T13:22:58.605Z"
      },
      {
        "duration": 2251,
        "start_time": "2021-08-07T13:22:58.780Z"
      },
      {
        "duration": 40,
        "start_time": "2021-08-07T13:23:01.040Z"
      },
      {
        "duration": 5,
        "start_time": "2021-08-07T13:23:01.082Z"
      },
      {
        "duration": 40,
        "start_time": "2021-08-07T13:23:01.089Z"
      },
      {
        "duration": 76,
        "start_time": "2021-08-07T13:23:01.131Z"
      },
      {
        "duration": 46,
        "start_time": "2021-08-07T13:23:01.209Z"
      },
      {
        "duration": 3,
        "start_time": "2021-08-07T13:23:01.258Z"
      },
      {
        "duration": 17,
        "start_time": "2021-08-07T13:23:01.263Z"
      },
      {
        "duration": 12,
        "start_time": "2021-08-07T13:23:01.282Z"
      },
      {
        "duration": 74,
        "start_time": "2021-08-07T13:23:01.295Z"
      },
      {
        "duration": 5,
        "start_time": "2021-08-07T13:23:01.371Z"
      },
      {
        "duration": 20,
        "start_time": "2021-08-07T13:23:01.377Z"
      },
      {
        "duration": 66753,
        "start_time": "2021-08-07T13:23:01.400Z"
      },
      {
        "duration": 4,
        "start_time": "2021-08-07T13:24:08.154Z"
      },
      {
        "duration": 4,
        "start_time": "2021-08-07T13:24:08.159Z"
      },
      {
        "duration": 908,
        "start_time": "2021-08-07T13:24:08.165Z"
      },
      {
        "duration": 260,
        "start_time": "2021-08-07T13:27:54.364Z"
      },
      {
        "duration": 2,
        "start_time": "2021-08-07T13:29:16.519Z"
      },
      {
        "duration": 21,
        "start_time": "2021-08-07T13:30:01.757Z"
      },
      {
        "duration": 59,
        "start_time": "2021-08-07T13:30:02.384Z"
      },
      {
        "duration": 4,
        "start_time": "2021-08-07T13:30:02.598Z"
      },
      {
        "duration": 9,
        "start_time": "2021-08-07T13:30:02.926Z"
      },
      {
        "duration": 16,
        "start_time": "2021-08-07T13:30:37.092Z"
      },
      {
        "duration": 43,
        "start_time": "2021-08-07T13:30:37.633Z"
      },
      {
        "duration": 4,
        "start_time": "2021-08-07T13:30:37.953Z"
      },
      {
        "duration": 9,
        "start_time": "2021-08-07T13:30:38.448Z"
      },
      {
        "duration": 59439,
        "start_time": "2021-08-07T13:31:19.119Z"
      },
      {
        "duration": 4,
        "start_time": "2021-08-07T13:32:28.375Z"
      },
      {
        "duration": 59396,
        "start_time": "2021-08-07T13:32:55.187Z"
      },
      {
        "duration": 186,
        "start_time": "2021-08-07T13:35:46.054Z"
      },
      {
        "duration": 189,
        "start_time": "2021-08-07T13:35:52.544Z"
      },
      {
        "duration": 164,
        "start_time": "2021-08-07T13:35:55.317Z"
      },
      {
        "duration": 128,
        "start_time": "2021-08-07T13:36:01.829Z"
      },
      {
        "duration": 155,
        "start_time": "2021-08-07T13:36:06.606Z"
      },
      {
        "duration": 2987,
        "start_time": "2021-08-07T13:37:09.605Z"
      },
      {
        "duration": 4,
        "start_time": "2021-08-07T13:37:44.736Z"
      },
      {
        "duration": 2859,
        "start_time": "2021-08-07T13:38:11.683Z"
      },
      {
        "duration": 2975,
        "start_time": "2021-08-07T13:38:21.173Z"
      },
      {
        "duration": 3131,
        "start_time": "2021-08-07T13:38:27.782Z"
      },
      {
        "duration": 2989,
        "start_time": "2021-08-07T13:38:35.698Z"
      },
      {
        "duration": 2130,
        "start_time": "2021-08-07T13:38:53.793Z"
      },
      {
        "duration": 3554,
        "start_time": "2021-08-07T13:38:59.408Z"
      },
      {
        "duration": 24526,
        "start_time": "2021-08-07T13:39:10.052Z"
      },
      {
        "duration": 4,
        "start_time": "2021-08-07T13:39:39.430Z"
      },
      {
        "duration": 177,
        "start_time": "2021-08-07T13:40:09.984Z"
      },
      {
        "duration": 228,
        "start_time": "2021-08-07T13:41:07.500Z"
      },
      {
        "duration": 24156,
        "start_time": "2021-08-07T13:41:09.996Z"
      },
      {
        "duration": 24733,
        "start_time": "2021-08-07T13:41:38.666Z"
      },
      {
        "duration": 25686,
        "start_time": "2021-08-07T13:42:09.433Z"
      },
      {
        "duration": 25660,
        "start_time": "2021-08-07T13:42:47.688Z"
      },
      {
        "duration": 25244,
        "start_time": "2021-08-07T13:43:36.135Z"
      },
      {
        "duration": 24911,
        "start_time": "2021-08-07T13:44:25.168Z"
      },
      {
        "duration": 58198,
        "start_time": "2021-08-07T13:45:25.102Z"
      },
      {
        "duration": 5,
        "start_time": "2021-08-07T13:46:28.667Z"
      },
      {
        "duration": 57586,
        "start_time": "2021-08-07T13:46:37.513Z"
      },
      {
        "duration": 30,
        "start_time": "2021-08-07T13:48:00.087Z"
      },
      {
        "duration": 24,
        "start_time": "2021-08-07T13:48:04.682Z"
      },
      {
        "duration": 12,
        "start_time": "2021-08-07T13:48:57.332Z"
      },
      {
        "duration": 49,
        "start_time": "2021-08-07T13:48:57.966Z"
      },
      {
        "duration": 4,
        "start_time": "2021-08-07T13:48:58.154Z"
      },
      {
        "duration": 10,
        "start_time": "2021-08-07T13:48:58.432Z"
      },
      {
        "duration": 6721,
        "start_time": "2021-08-07T13:49:01.317Z"
      },
      {
        "duration": 27628,
        "start_time": "2021-08-07T13:49:16.648Z"
      },
      {
        "duration": 13,
        "start_time": "2021-08-07T13:50:09.892Z"
      },
      {
        "duration": 57,
        "start_time": "2021-08-07T13:50:10.317Z"
      },
      {
        "duration": 4,
        "start_time": "2021-08-07T13:50:10.503Z"
      },
      {
        "duration": 10,
        "start_time": "2021-08-07T13:50:10.745Z"
      },
      {
        "duration": 4,
        "start_time": "2021-08-07T13:50:51.069Z"
      },
      {
        "duration": 29206,
        "start_time": "2021-08-07T13:50:54.087Z"
      },
      {
        "duration": 3,
        "start_time": "2021-08-07T13:51:25.430Z"
      },
      {
        "duration": 4,
        "start_time": "2021-08-07T13:51:29.211Z"
      },
      {
        "duration": 4,
        "start_time": "2021-08-07T13:51:54.259Z"
      },
      {
        "duration": 29471,
        "start_time": "2021-08-07T13:51:56.299Z"
      },
      {
        "duration": 29,
        "start_time": "2021-08-07T13:53:55.591Z"
      },
      {
        "duration": 22,
        "start_time": "2021-08-07T13:53:56.038Z"
      },
      {
        "duration": 57,
        "start_time": "2021-08-07T13:53:56.672Z"
      },
      {
        "duration": 4,
        "start_time": "2021-08-07T13:53:56.952Z"
      },
      {
        "duration": 10,
        "start_time": "2021-08-07T13:53:58.017Z"
      },
      {
        "duration": 31438,
        "start_time": "2021-08-07T13:54:11.482Z"
      },
      {
        "duration": 85480,
        "start_time": "2021-08-07T13:54:53.500Z"
      },
      {
        "duration": 4,
        "start_time": "2021-08-07T13:56:23.692Z"
      },
      {
        "duration": 282,
        "start_time": "2021-08-07T13:58:15.975Z"
      },
      {
        "duration": 87117,
        "start_time": "2021-08-07T13:58:22.188Z"
      },
      {
        "duration": 3,
        "start_time": "2021-08-07T13:59:49.307Z"
      },
      {
        "duration": 86810,
        "start_time": "2021-08-07T13:59:59.680Z"
      },
      {
        "duration": 86626,
        "start_time": "2021-08-07T14:01:35.960Z"
      },
      {
        "duration": 84876,
        "start_time": "2021-08-07T14:04:11.306Z"
      },
      {
        "duration": 85778,
        "start_time": "2021-08-07T14:05:42.306Z"
      },
      {
        "duration": 87299,
        "start_time": "2021-08-07T14:07:43.194Z"
      },
      {
        "duration": 85751,
        "start_time": "2021-08-07T14:09:23.637Z"
      },
      {
        "duration": 86445,
        "start_time": "2021-08-07T14:11:05.599Z"
      },
      {
        "duration": 418,
        "start_time": "2021-08-07T14:13:00.034Z"
      },
      {
        "duration": 350,
        "start_time": "2021-08-07T14:13:08.998Z"
      },
      {
        "duration": 341,
        "start_time": "2021-08-07T14:13:58.412Z"
      },
      {
        "duration": 5,
        "start_time": "2021-08-07T14:16:43.725Z"
      },
      {
        "duration": 86301,
        "start_time": "2021-08-07T14:25:12.785Z"
      },
      {
        "duration": 187,
        "start_time": "2021-08-07T14:26:43.666Z"
      },
      {
        "duration": 86502,
        "start_time": "2021-08-07T14:27:05.477Z"
      },
      {
        "duration": 266,
        "start_time": "2021-08-07T14:28:54.988Z"
      },
      {
        "duration": 86934,
        "start_time": "2021-08-07T14:29:12.265Z"
      },
      {
        "duration": 268,
        "start_time": "2021-08-07T14:30:53.888Z"
      },
      {
        "duration": 88001,
        "start_time": "2021-08-07T14:31:24.186Z"
      },
      {
        "duration": 564,
        "start_time": "2021-08-07T14:32:52.189Z"
      },
      {
        "duration": 87715,
        "start_time": "2021-08-07T14:33:04.772Z"
      },
      {
        "duration": 410,
        "start_time": "2021-08-07T14:34:35.842Z"
      },
      {
        "duration": 88777,
        "start_time": "2021-08-07T14:34:40.611Z"
      },
      {
        "duration": 388,
        "start_time": "2021-08-07T14:36:29.666Z"
      },
      {
        "duration": 88053,
        "start_time": "2021-08-07T14:36:39.634Z"
      },
      {
        "duration": 351,
        "start_time": "2021-08-07T14:38:12.706Z"
      },
      {
        "duration": 88124,
        "start_time": "2021-08-07T14:38:19.460Z"
      },
      {
        "duration": 430,
        "start_time": "2021-08-07T14:39:51.217Z"
      },
      {
        "duration": 245,
        "start_time": "2021-08-07T14:56:33.915Z"
      },
      {
        "duration": 5,
        "start_time": "2021-08-07T14:56:47.720Z"
      },
      {
        "duration": 313,
        "start_time": "2021-08-07T14:58:16.450Z"
      },
      {
        "duration": 268,
        "start_time": "2021-08-07T14:59:42.082Z"
      },
      {
        "duration": 283,
        "start_time": "2021-08-07T15:03:42.850Z"
      },
      {
        "duration": 286,
        "start_time": "2021-08-07T15:04:03.366Z"
      },
      {
        "duration": 285,
        "start_time": "2021-08-07T15:04:08.901Z"
      },
      {
        "duration": 300,
        "start_time": "2021-08-07T15:04:20.508Z"
      },
      {
        "duration": 275,
        "start_time": "2021-08-07T15:04:26.473Z"
      },
      {
        "duration": 270,
        "start_time": "2021-08-07T15:05:50.305Z"
      },
      {
        "duration": 5,
        "start_time": "2021-08-07T15:05:56.847Z"
      },
      {
        "duration": 4,
        "start_time": "2021-08-07T15:07:48.792Z"
      },
      {
        "duration": 136,
        "start_time": "2021-08-07T15:07:50.973Z"
      },
      {
        "duration": 5,
        "start_time": "2021-08-07T15:07:52.887Z"
      },
      {
        "duration": 253,
        "start_time": "2021-08-07T15:08:04.211Z"
      },
      {
        "duration": 3,
        "start_time": "2021-08-07T15:08:14.815Z"
      },
      {
        "duration": 286,
        "start_time": "2021-08-07T15:09:58.640Z"
      },
      {
        "duration": 268,
        "start_time": "2021-08-07T15:10:06.842Z"
      },
      {
        "duration": 246,
        "start_time": "2021-08-07T15:10:16.157Z"
      },
      {
        "duration": 257,
        "start_time": "2021-08-07T15:10:43.385Z"
      },
      {
        "duration": 251,
        "start_time": "2021-08-07T15:11:35.034Z"
      },
      {
        "duration": 2,
        "start_time": "2021-08-07T15:11:46.820Z"
      },
      {
        "duration": 56097,
        "start_time": "2021-08-07T15:13:17.994Z"
      },
      {
        "duration": 207,
        "start_time": "2021-08-07T15:15:18.141Z"
      },
      {
        "duration": 133941,
        "start_time": "2021-08-07T15:15:39.444Z"
      },
      {
        "duration": 560,
        "start_time": "2021-08-07T15:18:03.491Z"
      },
      {
        "duration": 14,
        "start_time": "2021-08-07T15:22:14.861Z"
      },
      {
        "duration": 61,
        "start_time": "2021-08-07T15:22:54.287Z"
      },
      {
        "duration": 72,
        "start_time": "2021-08-07T15:23:23.419Z"
      },
      {
        "duration": 23,
        "start_time": "2021-08-07T15:23:46.153Z"
      },
      {
        "duration": 543,
        "start_time": "2021-08-07T15:28:49.781Z"
      },
      {
        "duration": 71,
        "start_time": "2021-08-07T15:28:54.074Z"
      },
      {
        "duration": 328,
        "start_time": "2021-08-07T15:32:25.021Z"
      },
      {
        "duration": 250,
        "start_time": "2021-08-07T15:32:34.276Z"
      },
      {
        "duration": 1220,
        "start_time": "2021-08-07T15:32:47.153Z"
      },
      {
        "duration": 739,
        "start_time": "2021-08-07T15:32:48.375Z"
      },
      {
        "duration": 27,
        "start_time": "2021-08-07T15:32:49.116Z"
      },
      {
        "duration": 100,
        "start_time": "2021-08-07T15:32:49.145Z"
      },
      {
        "duration": 399,
        "start_time": "2021-08-07T15:32:49.246Z"
      },
      {
        "duration": 481,
        "start_time": "2021-08-07T15:32:49.647Z"
      },
      {
        "duration": 119,
        "start_time": "2021-08-07T15:32:50.130Z"
      },
      {
        "duration": 119,
        "start_time": "2021-08-07T15:32:50.251Z"
      },
      {
        "duration": 325,
        "start_time": "2021-08-07T15:32:50.373Z"
      },
      {
        "duration": 151,
        "start_time": "2021-08-07T15:32:50.721Z"
      },
      {
        "duration": 2086,
        "start_time": "2021-08-07T15:32:51.099Z"
      },
      {
        "duration": 36,
        "start_time": "2021-08-07T15:32:53.187Z"
      },
      {
        "duration": 17,
        "start_time": "2021-08-07T15:32:53.225Z"
      },
      {
        "duration": 29,
        "start_time": "2021-08-07T15:32:53.244Z"
      },
      {
        "duration": 87,
        "start_time": "2021-08-07T15:32:53.274Z"
      },
      {
        "duration": 26,
        "start_time": "2021-08-07T15:32:53.725Z"
      },
      {
        "duration": 2,
        "start_time": "2021-08-07T15:32:54.389Z"
      },
      {
        "duration": 547,
        "start_time": "2021-08-07T15:32:59.833Z"
      },
      {
        "duration": 74,
        "start_time": "2021-08-07T15:33:13.336Z"
      },
      {
        "duration": 6871,
        "start_time": "2021-08-07T15:33:21.751Z"
      },
      {
        "duration": 5,
        "start_time": "2021-08-07T15:33:30.215Z"
      },
      {
        "duration": 5,
        "start_time": "2021-08-07T15:33:33.927Z"
      },
      {
        "duration": 5,
        "start_time": "2021-08-07T15:33:37.226Z"
      },
      {
        "duration": 5,
        "start_time": "2021-08-07T15:33:40.227Z"
      },
      {
        "duration": 4,
        "start_time": "2021-08-07T15:33:43.341Z"
      },
      {
        "duration": 4,
        "start_time": "2021-08-07T15:33:46.662Z"
      },
      {
        "duration": 5,
        "start_time": "2021-08-07T15:33:49.746Z"
      },
      {
        "duration": 165,
        "start_time": "2021-08-07T15:34:04.834Z"
      },
      {
        "duration": 555,
        "start_time": "2021-08-07T15:34:16.502Z"
      },
      {
        "duration": 30,
        "start_time": "2021-08-07T15:35:31.635Z"
      },
      {
        "duration": 14,
        "start_time": "2021-08-07T15:36:13.857Z"
      },
      {
        "duration": 72,
        "start_time": "2021-08-07T15:36:57.466Z"
      },
      {
        "duration": 32,
        "start_time": "2021-08-07T15:37:01.392Z"
      },
      {
        "duration": 1227,
        "start_time": "2021-08-07T15:37:23.415Z"
      },
      {
        "duration": 493,
        "start_time": "2021-08-07T15:37:28.036Z"
      },
      {
        "duration": 4,
        "start_time": "2021-08-07T15:37:30.554Z"
      },
      {
        "duration": 243,
        "start_time": "2021-08-07T15:37:49.731Z"
      },
      {
        "duration": 1145,
        "start_time": "2021-08-07T15:38:05.836Z"
      },
      {
        "duration": 740,
        "start_time": "2021-08-07T15:38:06.983Z"
      },
      {
        "duration": 23,
        "start_time": "2021-08-07T15:38:07.725Z"
      },
      {
        "duration": 102,
        "start_time": "2021-08-07T15:38:07.749Z"
      },
      {
        "duration": 424,
        "start_time": "2021-08-07T15:38:07.853Z"
      },
      {
        "duration": 479,
        "start_time": "2021-08-07T15:38:08.279Z"
      },
      {
        "duration": 114,
        "start_time": "2021-08-07T15:38:08.759Z"
      },
      {
        "duration": 118,
        "start_time": "2021-08-07T15:38:08.875Z"
      },
      {
        "duration": 317,
        "start_time": "2021-08-07T15:38:08.995Z"
      },
      {
        "duration": 151,
        "start_time": "2021-08-07T15:38:09.314Z"
      },
      {
        "duration": 2166,
        "start_time": "2021-08-07T15:38:09.467Z"
      },
      {
        "duration": 35,
        "start_time": "2021-08-07T15:38:11.635Z"
      },
      {
        "duration": 5,
        "start_time": "2021-08-07T15:38:11.671Z"
      },
      {
        "duration": 31,
        "start_time": "2021-08-07T15:38:11.677Z"
      },
      {
        "duration": 79,
        "start_time": "2021-08-07T15:38:11.709Z"
      },
      {
        "duration": 26,
        "start_time": "2021-08-07T15:38:11.790Z"
      },
      {
        "duration": 3,
        "start_time": "2021-08-07T15:38:11.817Z"
      },
      {
        "duration": 533,
        "start_time": "2021-08-07T15:38:15.156Z"
      },
      {
        "duration": 170,
        "start_time": "2021-08-07T15:38:15.691Z"
      },
      {
        "duration": 660,
        "start_time": "2021-08-07T15:38:15.863Z"
      },
      {
        "duration": 25,
        "start_time": "2021-08-07T15:38:16.633Z"
      },
      {
        "duration": 1411,
        "start_time": "2021-08-07T15:38:19.015Z"
      },
      {
        "duration": 571,
        "start_time": "2021-08-07T15:38:21.913Z"
      },
      {
        "duration": 4,
        "start_time": "2021-08-07T15:38:24.528Z"
      },
      {
        "duration": 1148,
        "start_time": "2021-08-07T15:39:11.740Z"
      },
      {
        "duration": 746,
        "start_time": "2021-08-07T15:39:12.890Z"
      },
      {
        "duration": 15,
        "start_time": "2021-08-07T15:39:13.640Z"
      },
      {
        "duration": 98,
        "start_time": "2021-08-07T15:39:13.657Z"
      },
      {
        "duration": 387,
        "start_time": "2021-08-07T15:39:13.757Z"
      },
      {
        "duration": 477,
        "start_time": "2021-08-07T15:39:14.145Z"
      },
      {
        "duration": 117,
        "start_time": "2021-08-07T15:39:14.624Z"
      },
      {
        "duration": 121,
        "start_time": "2021-08-07T15:39:14.744Z"
      },
      {
        "duration": 324,
        "start_time": "2021-08-07T15:39:14.868Z"
      },
      {
        "duration": 150,
        "start_time": "2021-08-07T15:39:15.194Z"
      },
      {
        "duration": 2044,
        "start_time": "2021-08-07T15:39:15.346Z"
      },
      {
        "duration": 33,
        "start_time": "2021-08-07T15:39:17.391Z"
      },
      {
        "duration": 16,
        "start_time": "2021-08-07T15:39:17.426Z"
      },
      {
        "duration": 28,
        "start_time": "2021-08-07T15:39:17.444Z"
      },
      {
        "duration": 74,
        "start_time": "2021-08-07T15:39:17.474Z"
      },
      {
        "duration": 25,
        "start_time": "2021-08-07T15:39:17.550Z"
      },
      {
        "duration": 3,
        "start_time": "2021-08-07T15:39:17.576Z"
      },
      {
        "duration": 517,
        "start_time": "2021-08-07T15:39:19.182Z"
      },
      {
        "duration": 166,
        "start_time": "2021-08-07T15:39:19.701Z"
      },
      {
        "duration": 572,
        "start_time": "2021-08-07T15:39:19.869Z"
      },
      {
        "duration": 23,
        "start_time": "2021-08-07T15:39:20.443Z"
      },
      {
        "duration": 14,
        "start_time": "2021-08-07T15:39:21.273Z"
      },
      {
        "duration": 103,
        "start_time": "2021-08-07T15:39:22.265Z"
      },
      {
        "duration": 30,
        "start_time": "2021-08-07T15:39:24.941Z"
      },
      {
        "duration": 3,
        "start_time": "2021-08-07T15:39:50.692Z"
      },
      {
        "duration": 17521,
        "start_time": "2021-08-07T15:42:52.455Z"
      },
      {
        "duration": 16717,
        "start_time": "2021-08-07T15:43:49.228Z"
      },
      {
        "duration": 5,
        "start_time": "2021-08-07T15:47:08.751Z"
      },
      {
        "duration": 268,
        "start_time": "2021-08-07T15:48:14.485Z"
      },
      {
        "duration": 4,
        "start_time": "2021-08-07T15:48:16.899Z"
      },
      {
        "duration": 6,
        "start_time": "2021-08-07T15:48:17.584Z"
      },
      {
        "duration": 5,
        "start_time": "2021-08-07T15:48:41.964Z"
      },
      {
        "duration": 3,
        "start_time": "2021-08-07T15:48:44.117Z"
      },
      {
        "duration": 5,
        "start_time": "2021-08-07T15:48:44.694Z"
      },
      {
        "duration": 4,
        "start_time": "2021-08-07T15:51:24.886Z"
      },
      {
        "duration": 4,
        "start_time": "2021-08-07T15:51:25.397Z"
      },
      {
        "duration": 1133,
        "start_time": "2021-08-07T17:33:01.553Z"
      },
      {
        "duration": 745,
        "start_time": "2021-08-07T17:33:02.688Z"
      },
      {
        "duration": 17,
        "start_time": "2021-08-07T17:33:03.435Z"
      },
      {
        "duration": 103,
        "start_time": "2021-08-07T17:33:03.454Z"
      },
      {
        "duration": 408,
        "start_time": "2021-08-07T17:33:03.558Z"
      },
      {
        "duration": 474,
        "start_time": "2021-08-07T17:33:03.968Z"
      },
      {
        "duration": 122,
        "start_time": "2021-08-07T17:33:04.444Z"
      },
      {
        "duration": 119,
        "start_time": "2021-08-07T17:33:04.569Z"
      },
      {
        "duration": 308,
        "start_time": "2021-08-07T17:33:04.691Z"
      },
      {
        "duration": 157,
        "start_time": "2021-08-07T17:33:05.001Z"
      },
      {
        "duration": 2174,
        "start_time": "2021-08-07T17:33:05.160Z"
      },
      {
        "duration": 34,
        "start_time": "2021-08-07T17:33:07.336Z"
      },
      {
        "duration": 4,
        "start_time": "2021-08-07T17:33:07.372Z"
      },
      {
        "duration": 35,
        "start_time": "2021-08-07T17:33:07.378Z"
      },
      {
        "duration": 74,
        "start_time": "2021-08-07T17:33:07.414Z"
      },
      {
        "duration": 25,
        "start_time": "2021-08-07T17:33:07.490Z"
      },
      {
        "duration": 3,
        "start_time": "2021-08-07T17:33:07.517Z"
      },
      {
        "duration": 30,
        "start_time": "2021-08-07T17:33:07.522Z"
      },
      {
        "duration": 14,
        "start_time": "2021-08-07T17:33:07.554Z"
      },
      {
        "duration": 78,
        "start_time": "2021-08-07T17:33:07.569Z"
      },
      {
        "duration": 9,
        "start_time": "2021-08-07T17:33:07.649Z"
      },
      {
        "duration": 137737,
        "start_time": "2021-08-07T17:33:07.659Z"
      },
      {
        "duration": 652,
        "start_time": "2021-08-07T17:35:25.401Z"
      },
      {
        "duration": 3,
        "start_time": "2021-08-07T17:35:26.061Z"
      },
      {
        "duration": 734,
        "start_time": "2021-08-07T17:35:26.066Z"
      },
      {
        "duration": 178,
        "start_time": "2021-08-07T17:35:26.802Z"
      },
      {
        "duration": 1122,
        "start_time": "2021-08-07T17:35:26.983Z"
      },
      {
        "duration": 18,
        "start_time": "2021-08-07T17:35:28.108Z"
      },
      {
        "duration": 185,
        "start_time": "2021-08-07T17:35:28.128Z"
      },
      {
        "duration": 22436,
        "start_time": "2021-08-07T17:35:28.315Z"
      },
      {
        "duration": 89,
        "start_time": "2021-08-07T17:35:50.754Z"
      },
      {
        "duration": 7,
        "start_time": "2021-08-07T17:35:50.845Z"
      },
      {
        "duration": 6,
        "start_time": "2021-08-07T17:35:50.854Z"
      },
      {
        "duration": 8,
        "start_time": "2021-08-07T17:51:58.866Z"
      },
      {
        "duration": 10,
        "start_time": "2021-08-07T17:52:35.427Z"
      },
      {
        "duration": 9,
        "start_time": "2021-08-07T17:53:08.106Z"
      },
      {
        "duration": 8,
        "start_time": "2021-08-07T17:53:30.263Z"
      },
      {
        "duration": 13,
        "start_time": "2021-08-07T17:53:40.336Z"
      },
      {
        "duration": 9,
        "start_time": "2021-08-07T17:53:57.865Z"
      },
      {
        "duration": 77,
        "start_time": "2021-08-07T17:54:32.322Z"
      },
      {
        "duration": 11,
        "start_time": "2021-08-07T17:54:34.853Z"
      },
      {
        "duration": 151,
        "start_time": "2021-08-07T17:55:14.093Z"
      },
      {
        "duration": 4,
        "start_time": "2021-08-07T17:55:17.660Z"
      },
      {
        "duration": 88,
        "start_time": "2021-08-07T17:55:53.495Z"
      },
      {
        "duration": 94,
        "start_time": "2021-08-07T17:56:10.501Z"
      },
      {
        "duration": 92,
        "start_time": "2021-08-07T17:56:15.870Z"
      },
      {
        "duration": 82,
        "start_time": "2021-08-07T17:56:19.060Z"
      },
      {
        "duration": 355,
        "start_time": "2021-08-07T17:56:22.367Z"
      },
      {
        "duration": 77,
        "start_time": "2021-08-07T17:56:27.168Z"
      },
      {
        "duration": 7,
        "start_time": "2021-08-07T17:56:29.979Z"
      },
      {
        "duration": 105,
        "start_time": "2021-08-07T17:56:33.936Z"
      },
      {
        "duration": 10,
        "start_time": "2021-08-07T17:56:37.019Z"
      },
      {
        "duration": 82,
        "start_time": "2021-08-07T17:56:41.542Z"
      },
      {
        "duration": 8,
        "start_time": "2021-08-07T17:56:49.109Z"
      },
      {
        "duration": 12,
        "start_time": "2021-08-07T17:56:53.857Z"
      },
      {
        "duration": 9,
        "start_time": "2021-08-07T17:57:09.601Z"
      },
      {
        "duration": 8,
        "start_time": "2021-08-07T17:57:15.511Z"
      },
      {
        "duration": 9,
        "start_time": "2021-08-07T17:57:24.200Z"
      },
      {
        "duration": 9,
        "start_time": "2021-08-07T17:57:30.694Z"
      },
      {
        "duration": 7,
        "start_time": "2021-08-07T17:57:45.726Z"
      },
      {
        "duration": 13,
        "start_time": "2021-08-07T17:58:44.169Z"
      },
      {
        "duration": 8,
        "start_time": "2021-08-07T17:58:55.277Z"
      },
      {
        "duration": 7,
        "start_time": "2021-08-07T17:59:09.480Z"
      },
      {
        "duration": 8,
        "start_time": "2021-08-07T17:59:55.672Z"
      },
      {
        "duration": 8,
        "start_time": "2021-08-07T17:59:59.332Z"
      },
      {
        "duration": 8,
        "start_time": "2021-08-07T18:00:02.104Z"
      },
      {
        "duration": 10,
        "start_time": "2021-08-07T18:00:11.078Z"
      },
      {
        "duration": 7,
        "start_time": "2021-08-07T18:00:15.732Z"
      },
      {
        "duration": 7,
        "start_time": "2021-08-07T18:00:43.224Z"
      },
      {
        "duration": 7,
        "start_time": "2021-08-07T18:00:48.235Z"
      },
      {
        "duration": 9,
        "start_time": "2021-08-07T18:01:01.843Z"
      },
      {
        "duration": 8,
        "start_time": "2021-08-07T18:01:06.088Z"
      },
      {
        "duration": 1552,
        "start_time": "2021-08-08T14:51:43.395Z"
      },
      {
        "duration": 1078,
        "start_time": "2021-08-08T14:51:44.949Z"
      },
      {
        "duration": 23,
        "start_time": "2021-08-08T14:51:46.030Z"
      },
      {
        "duration": 138,
        "start_time": "2021-08-08T14:51:46.056Z"
      },
      {
        "duration": 617,
        "start_time": "2021-08-08T14:51:46.196Z"
      },
      {
        "duration": 749,
        "start_time": "2021-08-08T14:51:46.815Z"
      },
      {
        "duration": 159,
        "start_time": "2021-08-08T14:51:47.567Z"
      },
      {
        "duration": 156,
        "start_time": "2021-08-08T14:51:47.729Z"
      },
      {
        "duration": 494,
        "start_time": "2021-08-08T14:51:47.888Z"
      },
      {
        "duration": 228,
        "start_time": "2021-08-08T14:51:48.385Z"
      },
      {
        "duration": 3800,
        "start_time": "2021-08-08T14:51:48.615Z"
      },
      {
        "duration": 57,
        "start_time": "2021-08-08T14:51:52.418Z"
      },
      {
        "duration": 6,
        "start_time": "2021-08-08T14:51:52.478Z"
      },
      {
        "duration": 60,
        "start_time": "2021-08-08T14:51:52.501Z"
      },
      {
        "duration": 117,
        "start_time": "2021-08-08T14:51:52.563Z"
      },
      {
        "duration": 58,
        "start_time": "2021-08-08T14:51:52.682Z"
      },
      {
        "duration": 5,
        "start_time": "2021-08-08T14:51:52.743Z"
      },
      {
        "duration": 27,
        "start_time": "2021-08-08T14:51:52.750Z"
      },
      {
        "duration": 35,
        "start_time": "2021-08-08T14:51:52.779Z"
      },
      {
        "duration": 156,
        "start_time": "2021-08-08T14:51:52.817Z"
      },
      {
        "duration": 15,
        "start_time": "2021-08-08T14:51:52.975Z"
      },
      {
        "duration": 220573,
        "start_time": "2021-08-08T14:51:53.001Z"
      },
      {
        "duration": 769,
        "start_time": "2021-08-08T14:55:33.579Z"
      },
      {
        "duration": 50,
        "start_time": "2021-08-08T14:55:34.352Z"
      },
      {
        "duration": 966,
        "start_time": "2021-08-08T14:55:34.405Z"
      },
      {
        "duration": 207,
        "start_time": "2021-08-08T14:55:35.374Z"
      },
      {
        "duration": 928,
        "start_time": "2021-08-08T14:55:35.584Z"
      },
      {
        "duration": 18,
        "start_time": "2021-08-08T14:55:36.515Z"
      },
      {
        "duration": 178,
        "start_time": "2021-08-08T14:55:36.536Z"
      },
      {
        "duration": 25887,
        "start_time": "2021-08-08T14:55:36.717Z"
      },
      {
        "duration": 95,
        "start_time": "2021-08-08T14:56:02.607Z"
      },
      {
        "duration": 6,
        "start_time": "2021-08-08T14:56:02.705Z"
      },
      {
        "duration": 28,
        "start_time": "2021-08-08T14:56:02.714Z"
      },
      {
        "duration": 22,
        "start_time": "2021-08-08T14:56:02.745Z"
      },
      {
        "duration": 3438,
        "start_time": "2021-08-08T15:41:15.707Z"
      },
      {
        "duration": 2987,
        "start_time": "2021-08-08T15:41:19.147Z"
      },
      {
        "duration": 88,
        "start_time": "2021-08-08T15:41:22.138Z"
      },
      {
        "duration": 282,
        "start_time": "2021-08-08T15:41:22.229Z"
      },
      {
        "duration": 1330,
        "start_time": "2021-08-08T15:41:22.514Z"
      },
      {
        "duration": 1501,
        "start_time": "2021-08-08T15:41:23.846Z"
      },
      {
        "duration": 305,
        "start_time": "2021-08-08T15:41:25.401Z"
      },
      {
        "duration": 309,
        "start_time": "2021-08-08T15:41:25.709Z"
      },
      {
        "duration": 982,
        "start_time": "2021-08-08T15:41:26.022Z"
      },
      {
        "duration": 421,
        "start_time": "2021-08-08T15:41:27.007Z"
      },
      {
        "duration": 7703,
        "start_time": "2021-08-08T15:41:27.430Z"
      },
      {
        "duration": 165,
        "start_time": "2021-08-08T15:41:35.136Z"
      },
      {
        "duration": 7,
        "start_time": "2021-08-08T15:41:35.303Z"
      },
      {
        "duration": 115,
        "start_time": "2021-08-08T15:41:35.312Z"
      },
      {
        "duration": 212,
        "start_time": "2021-08-08T15:41:35.430Z"
      },
      {
        "duration": 156,
        "start_time": "2021-08-08T15:41:35.644Z"
      },
      {
        "duration": 4,
        "start_time": "2021-08-08T15:41:35.803Z"
      },
      {
        "duration": 22,
        "start_time": "2021-08-08T15:41:35.809Z"
      },
      {
        "duration": 79,
        "start_time": "2021-08-08T15:41:35.833Z"
      },
      {
        "duration": 302,
        "start_time": "2021-08-08T15:41:35.915Z"
      },
      {
        "duration": 16,
        "start_time": "2021-08-08T15:41:36.220Z"
      },
      {
        "duration": 388264,
        "start_time": "2021-08-08T15:41:36.238Z"
      },
      {
        "duration": 735,
        "start_time": "2021-08-08T15:48:04.505Z"
      },
      {
        "duration": 58,
        "start_time": "2021-08-08T15:48:05.243Z"
      },
      {
        "duration": 722,
        "start_time": "2021-08-08T15:48:05.304Z"
      },
      {
        "duration": 208,
        "start_time": "2021-08-08T15:48:06.029Z"
      },
      {
        "duration": 933,
        "start_time": "2021-08-08T15:48:06.242Z"
      },
      {
        "duration": 26,
        "start_time": "2021-08-08T15:48:07.177Z"
      },
      {
        "duration": 166,
        "start_time": "2021-08-08T15:48:07.206Z"
      },
      {
        "duration": 28130,
        "start_time": "2021-08-08T15:48:07.374Z"
      },
      {
        "duration": 6,
        "start_time": "2021-08-08T15:48:35.507Z"
      },
      {
        "duration": 11,
        "start_time": "2021-08-08T15:48:35.601Z"
      },
      {
        "duration": 23,
        "start_time": "2021-08-08T15:48:35.615Z"
      },
      {
        "duration": 7,
        "start_time": "2021-08-08T15:48:35.641Z"
      },
      {
        "duration": 1586,
        "start_time": "2021-08-09T14:04:36.352Z"
      },
      {
        "duration": 1085,
        "start_time": "2021-08-09T14:04:37.941Z"
      },
      {
        "duration": 35,
        "start_time": "2021-08-09T14:04:39.029Z"
      },
      {
        "duration": 138,
        "start_time": "2021-08-09T14:04:39.067Z"
      },
      {
        "duration": 626,
        "start_time": "2021-08-09T14:04:39.208Z"
      },
      {
        "duration": 815,
        "start_time": "2021-08-09T14:04:39.837Z"
      },
      {
        "duration": 160,
        "start_time": "2021-08-09T14:04:40.654Z"
      },
      {
        "duration": 164,
        "start_time": "2021-08-09T14:04:40.816Z"
      },
      {
        "duration": 482,
        "start_time": "2021-08-09T14:04:40.984Z"
      },
      {
        "duration": 240,
        "start_time": "2021-08-09T14:04:41.471Z"
      },
      {
        "duration": 3924,
        "start_time": "2021-08-09T14:04:41.714Z"
      },
      {
        "duration": 66,
        "start_time": "2021-08-09T14:04:45.640Z"
      },
      {
        "duration": 6,
        "start_time": "2021-08-09T14:04:45.709Z"
      },
      {
        "duration": 78,
        "start_time": "2021-08-09T14:04:45.717Z"
      },
      {
        "duration": 111,
        "start_time": "2021-08-09T14:04:45.797Z"
      },
      {
        "duration": 68,
        "start_time": "2021-08-09T14:04:45.910Z"
      },
      {
        "duration": 5,
        "start_time": "2021-08-09T14:04:45.980Z"
      },
      {
        "duration": 20,
        "start_time": "2021-08-09T14:04:45.988Z"
      },
      {
        "duration": 24,
        "start_time": "2021-08-09T14:04:46.010Z"
      },
      {
        "duration": 167,
        "start_time": "2021-08-09T14:04:46.036Z"
      },
      {
        "duration": 16,
        "start_time": "2021-08-09T14:04:46.205Z"
      },
      {
        "duration": 213546,
        "start_time": "2021-08-09T14:04:46.224Z"
      },
      {
        "duration": 833,
        "start_time": "2021-08-09T14:08:19.772Z"
      },
      {
        "duration": 1188,
        "start_time": "2021-08-09T14:08:20.608Z"
      },
      {
        "duration": 202,
        "start_time": "2021-08-09T14:08:21.798Z"
      },
      {
        "duration": 913,
        "start_time": "2021-08-09T14:08:22.002Z"
      },
      {
        "duration": 18,
        "start_time": "2021-08-09T14:08:22.921Z"
      },
      {
        "duration": 186,
        "start_time": "2021-08-09T14:08:22.942Z"
      },
      {
        "duration": 21235,
        "start_time": "2021-08-09T14:08:23.130Z"
      },
      {
        "duration": 6,
        "start_time": "2021-08-09T14:08:44.368Z"
      },
      {
        "duration": 9,
        "start_time": "2021-08-09T14:08:44.462Z"
      },
      {
        "duration": 12,
        "start_time": "2021-08-09T14:08:44.474Z"
      },
      {
        "duration": 24,
        "start_time": "2021-08-09T14:08:44.488Z"
      },
      {
        "duration": 1704,
        "start_time": "2021-08-09T14:38:57.165Z"
      },
      {
        "duration": 1141,
        "start_time": "2021-08-09T14:38:58.871Z"
      },
      {
        "duration": 28,
        "start_time": "2021-08-09T14:39:00.015Z"
      },
      {
        "duration": 146,
        "start_time": "2021-08-09T14:39:00.046Z"
      },
      {
        "duration": 647,
        "start_time": "2021-08-09T14:39:00.194Z"
      },
      {
        "duration": 1133,
        "start_time": "2021-08-09T14:39:00.844Z"
      },
      {
        "duration": 250,
        "start_time": "2021-08-09T14:39:01.980Z"
      },
      {
        "duration": 262,
        "start_time": "2021-08-09T14:39:02.235Z"
      },
      {
        "duration": 540,
        "start_time": "2021-08-09T14:39:02.500Z"
      },
      {
        "duration": 210,
        "start_time": "2021-08-09T14:39:03.042Z"
      },
      {
        "duration": 3734,
        "start_time": "2021-08-09T14:39:03.255Z"
      },
      {
        "duration": 70,
        "start_time": "2021-08-09T14:39:06.992Z"
      },
      {
        "duration": 11,
        "start_time": "2021-08-09T14:39:07.065Z"
      },
      {
        "duration": 52,
        "start_time": "2021-08-09T14:39:07.080Z"
      },
      {
        "duration": 133,
        "start_time": "2021-08-09T14:39:07.134Z"
      },
      {
        "duration": 51,
        "start_time": "2021-08-09T14:39:07.271Z"
      },
      {
        "duration": 5,
        "start_time": "2021-08-09T14:39:07.325Z"
      },
      {
        "duration": 50,
        "start_time": "2021-08-09T14:39:07.335Z"
      },
      {
        "duration": 25,
        "start_time": "2021-08-09T14:39:07.388Z"
      },
      {
        "duration": 167,
        "start_time": "2021-08-09T14:39:07.416Z"
      },
      {
        "duration": 16,
        "start_time": "2021-08-09T14:39:07.585Z"
      },
      {
        "duration": 392,
        "start_time": "2021-08-09T14:40:03.519Z"
      },
      {
        "duration": 212,
        "start_time": "2021-08-09T14:40:17.311Z"
      },
      {
        "duration": 6,
        "start_time": "2021-08-09T14:40:43.254Z"
      },
      {
        "duration": 224,
        "start_time": "2021-08-09T14:40:51.867Z"
      },
      {
        "duration": 6,
        "start_time": "2021-08-09T14:40:55.650Z"
      },
      {
        "duration": 232,
        "start_time": "2021-08-09T14:41:06.155Z"
      },
      {
        "duration": 7,
        "start_time": "2021-08-09T14:41:10.622Z"
      },
      {
        "duration": 9627,
        "start_time": "2021-08-09T14:41:20.529Z"
      },
      {
        "duration": 5,
        "start_time": "2021-08-09T14:42:31.276Z"
      },
      {
        "duration": 4,
        "start_time": "2021-08-09T14:42:32.764Z"
      },
      {
        "duration": 9187,
        "start_time": "2021-08-09T14:42:36.695Z"
      },
      {
        "duration": 9114,
        "start_time": "2021-08-09T14:43:14.207Z"
      },
      {
        "duration": 4,
        "start_time": "2021-08-09T14:44:25.910Z"
      },
      {
        "duration": 5,
        "start_time": "2021-08-09T14:44:26.335Z"
      },
      {
        "duration": 9777,
        "start_time": "2021-08-09T14:44:27.222Z"
      },
      {
        "duration": 4,
        "start_time": "2021-08-09T14:46:13.269Z"
      },
      {
        "duration": 4,
        "start_time": "2021-08-09T14:46:15.276Z"
      },
      {
        "duration": 4,
        "start_time": "2021-08-09T14:46:15.683Z"
      },
      {
        "duration": 356,
        "start_time": "2021-08-09T14:46:24.832Z"
      },
      {
        "duration": 4,
        "start_time": "2021-08-09T14:46:44.067Z"
      },
      {
        "duration": 338,
        "start_time": "2021-08-09T14:46:46.035Z"
      },
      {
        "duration": 5,
        "start_time": "2021-08-09T14:46:57.069Z"
      },
      {
        "duration": 3,
        "start_time": "2021-08-09T14:46:58.927Z"
      },
      {
        "duration": 9279,
        "start_time": "2021-08-09T14:46:59.301Z"
      },
      {
        "duration": 5,
        "start_time": "2021-08-09T14:48:11.132Z"
      },
      {
        "duration": 10308,
        "start_time": "2021-08-09T14:48:11.369Z"
      },
      {
        "duration": 4,
        "start_time": "2021-08-09T14:51:05.128Z"
      },
      {
        "duration": 114,
        "start_time": "2021-08-09T14:51:05.526Z"
      },
      {
        "duration": 4,
        "start_time": "2021-08-09T14:51:12.342Z"
      },
      {
        "duration": 9876,
        "start_time": "2021-08-09T14:51:14.827Z"
      },
      {
        "duration": 5,
        "start_time": "2021-08-09T14:55:24.276Z"
      },
      {
        "duration": 5,
        "start_time": "2021-08-09T14:55:35.104Z"
      },
      {
        "duration": 4,
        "start_time": "2021-08-09T14:55:37.406Z"
      },
      {
        "duration": 2949,
        "start_time": "2021-08-09T14:55:38.133Z"
      },
      {
        "duration": 4,
        "start_time": "2021-08-09T14:55:48.681Z"
      },
      {
        "duration": 4,
        "start_time": "2021-08-09T14:55:49.163Z"
      },
      {
        "duration": 2719,
        "start_time": "2021-08-09T14:55:49.602Z"
      },
      {
        "duration": 3039,
        "start_time": "2021-08-09T14:56:02.125Z"
      },
      {
        "duration": 4,
        "start_time": "2021-08-09T14:56:24.333Z"
      },
      {
        "duration": 203546,
        "start_time": "2021-08-09T14:56:24.894Z"
      },
      {
        "duration": 6,
        "start_time": "2021-08-09T15:00:12.539Z"
      },
      {
        "duration": 7,
        "start_time": "2021-08-09T15:00:34.344Z"
      },
      {
        "duration": 6,
        "start_time": "2021-08-09T15:03:26.821Z"
      },
      {
        "duration": 5,
        "start_time": "2021-08-09T15:03:27.147Z"
      },
      {
        "duration": 459250,
        "start_time": "2021-08-09T15:03:29.659Z"
      },
      {
        "duration": 6,
        "start_time": "2021-08-09T15:18:34.132Z"
      },
      {
        "duration": 6,
        "start_time": "2021-08-09T15:18:44.824Z"
      },
      {
        "duration": 69764,
        "start_time": "2021-08-09T15:19:00.912Z"
      },
      {
        "duration": 314,
        "start_time": "2021-08-09T15:20:38.061Z"
      },
      {
        "duration": 6,
        "start_time": "2021-08-09T15:20:44.178Z"
      },
      {
        "duration": 4,
        "start_time": "2021-08-09T15:21:29.325Z"
      },
      {
        "duration": 371,
        "start_time": "2021-08-09T15:21:45.040Z"
      },
      {
        "duration": 5,
        "start_time": "2021-08-09T15:21:52.753Z"
      },
      {
        "duration": 5,
        "start_time": "2021-08-09T15:22:07.623Z"
      },
      {
        "duration": 5,
        "start_time": "2021-08-09T15:22:19.325Z"
      },
      {
        "duration": 5,
        "start_time": "2021-08-09T15:23:39.324Z"
      },
      {
        "duration": 4,
        "start_time": "2021-08-09T15:23:41.683Z"
      },
      {
        "duration": 6,
        "start_time": "2021-08-09T15:23:55.664Z"
      },
      {
        "duration": 4,
        "start_time": "2021-08-09T15:53:35.887Z"
      },
      {
        "duration": 4,
        "start_time": "2021-08-09T15:53:40.443Z"
      },
      {
        "duration": 320,
        "start_time": "2021-08-09T15:53:47.644Z"
      },
      {
        "duration": 4,
        "start_time": "2021-08-09T15:54:24.599Z"
      },
      {
        "duration": 4,
        "start_time": "2021-08-09T15:54:25.112Z"
      },
      {
        "duration": 292,
        "start_time": "2021-08-09T15:54:25.640Z"
      },
      {
        "duration": 358,
        "start_time": "2021-08-09T15:55:25.000Z"
      },
      {
        "duration": 1152,
        "start_time": "2021-08-09T15:55:29.685Z"
      },
      {
        "duration": 206,
        "start_time": "2021-08-09T15:55:30.840Z"
      },
      {
        "duration": 1030,
        "start_time": "2021-08-09T15:55:31.049Z"
      },
      {
        "duration": 24,
        "start_time": "2021-08-09T15:55:32.083Z"
      },
      {
        "duration": 265,
        "start_time": "2021-08-09T15:55:32.737Z"
      },
      {
        "duration": 4,
        "start_time": "2021-08-09T15:55:36.663Z"
      },
      {
        "duration": 4,
        "start_time": "2021-08-09T15:55:37.827Z"
      },
      {
        "duration": 313204,
        "start_time": "2021-08-09T15:55:38.677Z"
      },
      {
        "duration": 1518,
        "start_time": "2021-08-09T16:01:53.784Z"
      },
      {
        "duration": 360,
        "start_time": "2021-08-09T16:01:59.110Z"
      },
      {
        "duration": 9,
        "start_time": "2021-08-09T16:02:09.332Z"
      },
      {
        "duration": 1735,
        "start_time": "2021-08-09T16:02:58.158Z"
      },
      {
        "duration": 1197,
        "start_time": "2021-08-09T16:02:59.895Z"
      },
      {
        "duration": 30,
        "start_time": "2021-08-09T16:03:01.095Z"
      },
      {
        "duration": 260,
        "start_time": "2021-08-09T16:03:01.128Z"
      },
      {
        "duration": 685,
        "start_time": "2021-08-09T16:03:01.390Z"
      },
      {
        "duration": 799,
        "start_time": "2021-08-09T16:03:02.077Z"
      },
      {
        "duration": 160,
        "start_time": "2021-08-09T16:03:02.878Z"
      },
      {
        "duration": 178,
        "start_time": "2021-08-09T16:03:03.041Z"
      },
      {
        "duration": 531,
        "start_time": "2021-08-09T16:03:03.221Z"
      },
      {
        "duration": 222,
        "start_time": "2021-08-09T16:03:03.754Z"
      },
      {
        "duration": 3918,
        "start_time": "2021-08-09T16:03:03.978Z"
      },
      {
        "duration": 68,
        "start_time": "2021-08-09T16:03:07.899Z"
      },
      {
        "duration": 8,
        "start_time": "2021-08-09T16:03:07.975Z"
      },
      {
        "duration": 49,
        "start_time": "2021-08-09T16:03:07.987Z"
      },
      {
        "duration": 138,
        "start_time": "2021-08-09T16:03:08.038Z"
      },
      {
        "duration": 49,
        "start_time": "2021-08-09T16:03:08.178Z"
      },
      {
        "duration": 4,
        "start_time": "2021-08-09T16:03:08.230Z"
      },
      {
        "duration": 37,
        "start_time": "2021-08-09T16:03:08.236Z"
      },
      {
        "duration": 26,
        "start_time": "2021-08-09T16:03:08.278Z"
      },
      {
        "duration": 145,
        "start_time": "2021-08-09T16:03:09.361Z"
      },
      {
        "duration": 16,
        "start_time": "2021-08-09T16:03:10.455Z"
      },
      {
        "duration": 4,
        "start_time": "2021-08-09T16:05:11.938Z"
      },
      {
        "duration": 5,
        "start_time": "2021-08-09T16:05:14.794Z"
      },
      {
        "duration": 413,
        "start_time": "2021-08-09T16:05:27.632Z"
      },
      {
        "duration": 270,
        "start_time": "2021-08-09T16:05:48.571Z"
      },
      {
        "duration": 351,
        "start_time": "2021-08-09T16:06:20.503Z"
      },
      {
        "duration": 388,
        "start_time": "2021-08-09T16:06:27.746Z"
      },
      {
        "duration": 319,
        "start_time": "2021-08-09T16:06:33.793Z"
      },
      {
        "duration": 310,
        "start_time": "2021-08-09T16:06:40.037Z"
      },
      {
        "duration": 3,
        "start_time": "2021-08-09T16:07:03.666Z"
      },
      {
        "duration": 4,
        "start_time": "2021-08-09T16:07:04.262Z"
      },
      {
        "duration": 3,
        "start_time": "2021-08-09T16:07:07.343Z"
      },
      {
        "duration": 6,
        "start_time": "2021-08-09T16:07:11.306Z"
      },
      {
        "duration": 3,
        "start_time": "2021-08-09T16:07:23.249Z"
      },
      {
        "duration": 288,
        "start_time": "2021-08-09T16:07:24.448Z"
      },
      {
        "duration": 4,
        "start_time": "2021-08-09T16:08:04.661Z"
      },
      {
        "duration": 3,
        "start_time": "2021-08-09T16:08:05.627Z"
      },
      {
        "duration": 290,
        "start_time": "2021-08-09T16:08:05.804Z"
      },
      {
        "duration": 569,
        "start_time": "2021-08-09T16:09:33.079Z"
      },
      {
        "duration": 1684,
        "start_time": "2021-08-09T16:12:22.624Z"
      },
      {
        "duration": 1106,
        "start_time": "2021-08-09T16:12:24.311Z"
      },
      {
        "duration": 24,
        "start_time": "2021-08-09T16:12:25.419Z"
      },
      {
        "duration": 138,
        "start_time": "2021-08-09T16:12:25.446Z"
      },
      {
        "duration": 915,
        "start_time": "2021-08-09T16:12:25.588Z"
      },
      {
        "duration": 1120,
        "start_time": "2021-08-09T16:12:26.508Z"
      },
      {
        "duration": 257,
        "start_time": "2021-08-09T16:12:27.632Z"
      },
      {
        "duration": 175,
        "start_time": "2021-08-09T16:12:27.893Z"
      },
      {
        "duration": 538,
        "start_time": "2021-08-09T16:12:28.071Z"
      },
      {
        "duration": 235,
        "start_time": "2021-08-09T16:12:28.611Z"
      },
      {
        "duration": 4133,
        "start_time": "2021-08-09T16:12:28.848Z"
      },
      {
        "duration": 58,
        "start_time": "2021-08-09T16:12:32.984Z"
      },
      {
        "duration": 19,
        "start_time": "2021-08-09T16:12:33.044Z"
      },
      {
        "duration": 52,
        "start_time": "2021-08-09T16:12:33.067Z"
      },
      {
        "duration": 131,
        "start_time": "2021-08-09T16:12:33.121Z"
      },
      {
        "duration": 53,
        "start_time": "2021-08-09T16:12:33.262Z"
      },
      {
        "duration": 5,
        "start_time": "2021-08-09T16:12:33.318Z"
      },
      {
        "duration": 45,
        "start_time": "2021-08-09T16:12:33.330Z"
      },
      {
        "duration": 30,
        "start_time": "2021-08-09T16:12:33.379Z"
      },
      {
        "duration": 168,
        "start_time": "2021-08-09T16:12:33.411Z"
      },
      {
        "duration": 16,
        "start_time": "2021-08-09T16:12:33.583Z"
      },
      {
        "duration": 478876,
        "start_time": "2021-08-09T16:12:33.602Z"
      },
      {
        "duration": 5,
        "start_time": "2021-08-09T16:20:32.481Z"
      },
      {
        "duration": 12398,
        "start_time": "2021-08-09T16:20:32.488Z"
      },
      {
        "duration": 304,
        "start_time": "2021-08-09T16:20:44.889Z"
      },
      {
        "duration": 76,
        "start_time": "2021-08-09T16:20:45.195Z"
      },
      {
        "duration": 1345,
        "start_time": "2021-08-09T16:20:45.274Z"
      },
      {
        "duration": 208,
        "start_time": "2021-08-09T16:20:46.621Z"
      },
      {
        "duration": 916,
        "start_time": "2021-08-09T16:20:46.831Z"
      },
      {
        "duration": 24,
        "start_time": "2021-08-09T16:20:47.750Z"
      },
      {
        "duration": 176,
        "start_time": "2021-08-09T16:20:47.779Z"
      },
      {
        "duration": 25404,
        "start_time": "2021-08-09T16:20:47.958Z"
      },
      {
        "duration": 7,
        "start_time": "2021-08-09T16:21:13.365Z"
      },
      {
        "duration": 101,
        "start_time": "2021-08-09T16:21:13.376Z"
      },
      {
        "duration": 10,
        "start_time": "2021-08-09T16:21:13.480Z"
      },
      {
        "duration": 17677,
        "start_time": "2021-08-09T16:21:13.493Z"
      },
      {
        "duration": 1604,
        "start_time": "2021-08-09T16:21:31.173Z"
      },
      {
        "duration": 10,
        "start_time": "2021-08-09T16:21:32.780Z"
      },
      {
        "duration": 73,
        "start_time": "2021-08-09T16:21:32.793Z"
      },
      {
        "duration": 16,
        "start_time": "2021-08-09T16:22:09.058Z"
      },
      {
        "duration": 12,
        "start_time": "2021-08-09T16:28:27.777Z"
      },
      {
        "duration": 7,
        "start_time": "2021-08-09T16:28:32.384Z"
      },
      {
        "duration": 13,
        "start_time": "2021-08-09T16:28:34.809Z"
      },
      {
        "duration": 13,
        "start_time": "2021-08-09T16:28:36.824Z"
      },
      {
        "duration": 404,
        "start_time": "2021-08-09T16:29:18.715Z"
      },
      {
        "duration": 13,
        "start_time": "2021-08-09T16:29:37.801Z"
      },
      {
        "duration": 7,
        "start_time": "2021-08-09T16:29:47.416Z"
      },
      {
        "duration": 70718,
        "start_time": "2021-08-09T16:33:32.660Z"
      },
      {
        "duration": 1478,
        "start_time": "2021-08-09T16:36:19.221Z"
      },
      {
        "duration": 1089,
        "start_time": "2021-08-09T16:36:20.701Z"
      },
      {
        "duration": 25,
        "start_time": "2021-08-09T16:36:21.792Z"
      },
      {
        "duration": 139,
        "start_time": "2021-08-09T16:36:21.819Z"
      },
      {
        "duration": 620,
        "start_time": "2021-08-09T16:36:21.966Z"
      },
      {
        "duration": 754,
        "start_time": "2021-08-09T16:36:22.588Z"
      },
      {
        "duration": 160,
        "start_time": "2021-08-09T16:36:23.344Z"
      },
      {
        "duration": 169,
        "start_time": "2021-08-09T16:36:23.508Z"
      },
      {
        "duration": 764,
        "start_time": "2021-08-09T16:36:23.682Z"
      },
      {
        "duration": 325,
        "start_time": "2021-08-09T16:36:24.450Z"
      },
      {
        "duration": 3993,
        "start_time": "2021-08-09T16:36:24.778Z"
      },
      {
        "duration": 70,
        "start_time": "2021-08-09T16:36:28.775Z"
      },
      {
        "duration": 28,
        "start_time": "2021-08-09T16:36:28.848Z"
      },
      {
        "duration": 50,
        "start_time": "2021-08-09T16:36:28.879Z"
      },
      {
        "duration": 124,
        "start_time": "2021-08-09T16:36:28.931Z"
      },
      {
        "duration": 45,
        "start_time": "2021-08-09T16:36:29.061Z"
      },
      {
        "duration": 4,
        "start_time": "2021-08-09T16:36:29.108Z"
      },
      {
        "duration": 48,
        "start_time": "2021-08-09T16:36:29.114Z"
      },
      {
        "duration": 26,
        "start_time": "2021-08-09T16:36:29.170Z"
      },
      {
        "duration": 164,
        "start_time": "2021-08-09T16:36:29.198Z"
      },
      {
        "duration": 16,
        "start_time": "2021-08-09T16:36:29.364Z"
      },
      {
        "duration": 460343,
        "start_time": "2021-08-09T16:36:29.383Z"
      },
      {
        "duration": 5,
        "start_time": "2021-08-09T16:44:09.730Z"
      },
      {
        "duration": 70476,
        "start_time": "2021-08-09T16:44:09.737Z"
      },
      {
        "duration": 355,
        "start_time": "2021-08-09T16:45:20.216Z"
      },
      {
        "duration": 7,
        "start_time": "2021-08-09T16:45:20.573Z"
      },
      {
        "duration": 1199,
        "start_time": "2021-08-09T16:45:20.582Z"
      },
      {
        "duration": 206,
        "start_time": "2021-08-09T16:45:21.784Z"
      },
      {
        "duration": 953,
        "start_time": "2021-08-09T16:45:21.992Z"
      },
      {
        "duration": 32,
        "start_time": "2021-08-09T16:45:22.947Z"
      },
      {
        "duration": 174,
        "start_time": "2021-08-09T16:45:22.982Z"
      },
      {
        "duration": 22504,
        "start_time": "2021-08-09T16:45:23.159Z"
      },
      {
        "duration": 203,
        "start_time": "2021-08-09T16:45:45.665Z"
      },
      {
        "duration": 96,
        "start_time": "2021-08-09T16:45:45.871Z"
      },
      {
        "duration": 8,
        "start_time": "2021-08-09T16:45:45.969Z"
      },
      {
        "duration": 84,
        "start_time": "2021-08-09T16:45:45.980Z"
      },
      {
        "duration": 3,
        "start_time": "2021-08-09T16:45:46.067Z"
      },
      {
        "duration": 10496,
        "start_time": "2021-08-09T16:45:46.073Z"
      },
      {
        "duration": 1692,
        "start_time": "2021-08-09T16:45:56.572Z"
      },
      {
        "duration": 8,
        "start_time": "2021-08-09T16:45:58.266Z"
      },
      {
        "duration": 17,
        "start_time": "2021-08-09T16:45:58.276Z"
      },
      {
        "duration": 12,
        "start_time": "2021-08-09T16:48:09.703Z"
      },
      {
        "duration": 488,
        "start_time": "2021-08-09T16:48:19.003Z"
      },
      {
        "duration": 13,
        "start_time": "2021-08-09T16:48:50.499Z"
      },
      {
        "duration": 101,
        "start_time": "2021-08-09T16:50:33.660Z"
      },
      {
        "duration": 5,
        "start_time": "2021-08-09T16:55:15.460Z"
      },
      {
        "duration": 1565,
        "start_time": "2021-08-09T17:05:32.248Z"
      },
      {
        "duration": 1111,
        "start_time": "2021-08-09T17:05:33.815Z"
      },
      {
        "duration": 39,
        "start_time": "2021-08-09T17:05:34.929Z"
      },
      {
        "duration": 136,
        "start_time": "2021-08-09T17:05:34.971Z"
      },
      {
        "duration": 663,
        "start_time": "2021-08-09T17:05:35.109Z"
      },
      {
        "duration": 1120,
        "start_time": "2021-08-09T17:05:35.774Z"
      },
      {
        "duration": 249,
        "start_time": "2021-08-09T17:05:36.897Z"
      },
      {
        "duration": 262,
        "start_time": "2021-08-09T17:05:37.151Z"
      },
      {
        "duration": 812,
        "start_time": "2021-08-09T17:05:37.417Z"
      },
      {
        "duration": 309,
        "start_time": "2021-08-09T17:05:38.232Z"
      },
      {
        "duration": 6158,
        "start_time": "2021-08-09T17:05:38.544Z"
      },
      {
        "duration": 86,
        "start_time": "2021-08-09T17:05:44.706Z"
      },
      {
        "duration": 8,
        "start_time": "2021-08-09T17:05:44.795Z"
      },
      {
        "duration": 81,
        "start_time": "2021-08-09T17:05:44.806Z"
      },
      {
        "duration": 142,
        "start_time": "2021-08-09T17:05:44.891Z"
      },
      {
        "duration": 66,
        "start_time": "2021-08-09T17:05:45.036Z"
      },
      {
        "duration": 5,
        "start_time": "2021-08-09T17:05:45.105Z"
      },
      {
        "duration": 40,
        "start_time": "2021-08-09T17:05:45.113Z"
      },
      {
        "duration": 27,
        "start_time": "2021-08-09T17:05:45.157Z"
      },
      {
        "duration": 206,
        "start_time": "2021-08-09T17:05:45.188Z"
      },
      {
        "duration": 16,
        "start_time": "2021-08-09T17:05:45.397Z"
      },
      {
        "duration": 480828,
        "start_time": "2021-08-09T17:05:45.415Z"
      },
      {
        "duration": 6,
        "start_time": "2021-08-09T17:13:46.247Z"
      },
      {
        "duration": 75915,
        "start_time": "2021-08-09T17:13:46.255Z"
      },
      {
        "duration": 405,
        "start_time": "2021-08-09T17:15:02.173Z"
      },
      {
        "duration": 7,
        "start_time": "2021-08-09T17:15:02.581Z"
      },
      {
        "duration": 1167,
        "start_time": "2021-08-09T17:15:02.590Z"
      },
      {
        "duration": 220,
        "start_time": "2021-08-09T17:15:03.762Z"
      },
      {
        "duration": 948,
        "start_time": "2021-08-09T17:15:03.985Z"
      },
      {
        "duration": 39,
        "start_time": "2021-08-09T17:15:04.936Z"
      },
      {
        "duration": 168,
        "start_time": "2021-08-09T17:15:04.979Z"
      },
      {
        "duration": 36519,
        "start_time": "2021-08-09T17:15:05.149Z"
      },
      {
        "duration": 293,
        "start_time": "2021-08-09T17:15:41.671Z"
      },
      {
        "duration": 94,
        "start_time": "2021-08-09T17:15:41.968Z"
      },
      {
        "duration": 16,
        "start_time": "2021-08-09T17:15:42.065Z"
      },
      {
        "duration": 13,
        "start_time": "2021-08-09T17:15:42.085Z"
      },
      {
        "duration": 6,
        "start_time": "2021-08-09T17:15:42.101Z"
      },
      {
        "duration": 80054,
        "start_time": "2021-08-09T17:15:42.110Z"
      },
      {
        "duration": 9098,
        "start_time": "2021-08-09T17:17:02.167Z"
      },
      {
        "duration": 6,
        "start_time": "2021-08-09T17:17:11.268Z"
      },
      {
        "duration": 13,
        "start_time": "2021-08-09T17:17:11.276Z"
      },
      {
        "duration": 14,
        "start_time": "2021-08-09T17:31:54.626Z"
      },
      {
        "duration": 12,
        "start_time": "2021-08-09T17:32:06.366Z"
      },
      {
        "duration": 12,
        "start_time": "2021-08-09T17:32:22.354Z"
      },
      {
        "duration": 1587,
        "start_time": "2021-08-10T15:49:29.830Z"
      },
      {
        "duration": 1075,
        "start_time": "2021-08-10T15:49:31.420Z"
      },
      {
        "duration": 26,
        "start_time": "2021-08-10T15:49:32.498Z"
      },
      {
        "duration": 129,
        "start_time": "2021-08-10T15:49:32.526Z"
      },
      {
        "duration": 602,
        "start_time": "2021-08-10T15:49:32.661Z"
      },
      {
        "duration": 755,
        "start_time": "2021-08-10T15:49:33.265Z"
      },
      {
        "duration": 161,
        "start_time": "2021-08-10T15:49:34.022Z"
      },
      {
        "duration": 170,
        "start_time": "2021-08-10T15:49:34.186Z"
      },
      {
        "duration": 486,
        "start_time": "2021-08-10T15:49:34.358Z"
      },
      {
        "duration": 225,
        "start_time": "2021-08-10T15:49:34.846Z"
      },
      {
        "duration": 3671,
        "start_time": "2021-08-10T15:49:35.074Z"
      },
      {
        "duration": 61,
        "start_time": "2021-08-10T15:49:38.747Z"
      },
      {
        "duration": 6,
        "start_time": "2021-08-10T15:49:38.810Z"
      },
      {
        "duration": 81,
        "start_time": "2021-08-10T15:49:38.819Z"
      },
      {
        "duration": 116,
        "start_time": "2021-08-10T15:49:38.902Z"
      },
      {
        "duration": 60,
        "start_time": "2021-08-10T15:49:39.021Z"
      },
      {
        "duration": 4,
        "start_time": "2021-08-10T15:49:39.083Z"
      },
      {
        "duration": 19,
        "start_time": "2021-08-10T15:49:39.090Z"
      },
      {
        "duration": 51,
        "start_time": "2021-08-10T15:49:39.112Z"
      },
      {
        "duration": 151,
        "start_time": "2021-08-10T15:49:39.166Z"
      },
      {
        "duration": 16,
        "start_time": "2021-08-10T15:49:39.319Z"
      },
      {
        "duration": 453823,
        "start_time": "2021-08-10T15:49:39.337Z"
      },
      {
        "duration": 6,
        "start_time": "2021-08-10T15:57:13.167Z"
      },
      {
        "duration": 69935,
        "start_time": "2021-08-10T15:57:13.176Z"
      },
      {
        "duration": 356,
        "start_time": "2021-08-10T15:58:23.114Z"
      },
      {
        "duration": 6,
        "start_time": "2021-08-10T15:58:23.472Z"
      },
      {
        "duration": 1041,
        "start_time": "2021-08-10T15:58:23.480Z"
      },
      {
        "duration": 210,
        "start_time": "2021-08-10T15:58:24.524Z"
      },
      {
        "duration": 949,
        "start_time": "2021-08-10T15:58:24.736Z"
      },
      {
        "duration": 19,
        "start_time": "2021-08-10T15:58:25.687Z"
      },
      {
        "duration": 181,
        "start_time": "2021-08-10T15:58:25.708Z"
      },
      {
        "duration": 23878,
        "start_time": "2021-08-10T15:58:25.891Z"
      },
      {
        "duration": 199,
        "start_time": "2021-08-10T15:58:49.771Z"
      },
      {
        "duration": 11,
        "start_time": "2021-08-10T15:58:50.063Z"
      },
      {
        "duration": 6,
        "start_time": "2021-08-10T15:58:50.163Z"
      },
      {
        "duration": 9,
        "start_time": "2021-08-10T15:58:50.172Z"
      },
      {
        "duration": 6,
        "start_time": "2021-08-10T15:58:50.184Z"
      },
      {
        "duration": 9776,
        "start_time": "2021-08-10T15:58:50.192Z"
      },
      {
        "duration": 1639,
        "start_time": "2021-08-10T15:58:59.970Z"
      },
      {
        "duration": 52,
        "start_time": "2021-08-10T15:59:01.611Z"
      },
      {
        "duration": 13,
        "start_time": "2021-08-10T15:59:01.665Z"
      },
      {
        "duration": 1193,
        "start_time": "2021-08-11T12:41:42.755Z"
      },
      {
        "duration": 813,
        "start_time": "2021-08-11T12:41:44.392Z"
      },
      {
        "duration": 18,
        "start_time": "2021-08-11T12:41:46.238Z"
      },
      {
        "duration": 97,
        "start_time": "2021-08-11T12:41:48.400Z"
      },
      {
        "duration": 425,
        "start_time": "2021-08-11T12:41:49.684Z"
      },
      {
        "duration": 496,
        "start_time": "2021-08-11T12:41:51.037Z"
      },
      {
        "duration": 112,
        "start_time": "2021-08-11T12:41:54.653Z"
      },
      {
        "duration": 119,
        "start_time": "2021-08-11T12:41:56.758Z"
      },
      {
        "duration": 328,
        "start_time": "2021-08-11T12:41:57.289Z"
      },
      {
        "duration": 143,
        "start_time": "2021-08-11T12:41:58.067Z"
      },
      {
        "duration": 2383,
        "start_time": "2021-08-11T12:41:58.993Z"
      },
      {
        "duration": 33,
        "start_time": "2021-08-11T12:42:02.085Z"
      },
      {
        "duration": 6,
        "start_time": "2021-08-11T12:42:03.393Z"
      },
      {
        "duration": 29,
        "start_time": "2021-08-11T12:42:07.550Z"
      },
      {
        "duration": 65,
        "start_time": "2021-08-11T12:42:08.381Z"
      },
      {
        "duration": 27,
        "start_time": "2021-08-11T12:42:09.599Z"
      },
      {
        "duration": 3,
        "start_time": "2021-08-11T12:42:09.903Z"
      },
      {
        "duration": 14,
        "start_time": "2021-08-11T12:42:23.589Z"
      },
      {
        "duration": 15,
        "start_time": "2021-08-11T12:42:25.925Z"
      },
      {
        "duration": 70,
        "start_time": "2021-08-11T12:42:43.411Z"
      },
      {
        "duration": 12,
        "start_time": "2021-08-11T12:42:46.849Z"
      },
      {
        "duration": 4,
        "start_time": "2021-08-11T12:44:13.312Z"
      },
      {
        "duration": 17,
        "start_time": "2021-08-11T12:44:17.285Z"
      },
      {
        "duration": 9,
        "start_time": "2021-08-11T12:44:21.516Z"
      },
      {
        "duration": 54,
        "start_time": "2021-08-11T12:45:38.182Z"
      },
      {
        "duration": 58,
        "start_time": "2021-08-11T12:45:55.655Z"
      },
      {
        "duration": 456,
        "start_time": "2021-08-11T12:46:10.911Z"
      },
      {
        "duration": 264,
        "start_time": "2021-08-11T12:46:24.571Z"
      },
      {
        "duration": 477,
        "start_time": "2021-08-11T12:46:45.991Z"
      },
      {
        "duration": 3,
        "start_time": "2021-08-11T12:46:51.904Z"
      },
      {
        "duration": 191,
        "start_time": "2021-08-11T12:47:37.081Z"
      },
      {
        "duration": 54,
        "start_time": "2021-08-11T12:48:03.823Z"
      },
      {
        "duration": -1187,
        "start_time": "2021-08-11T12:48:11.822Z"
      },
      {
        "duration": 13,
        "start_time": "2021-08-11T12:48:12.020Z"
      },
      {
        "duration": 6,
        "start_time": "2021-08-11T12:48:15.650Z"
      },
      {
        "duration": 16,
        "start_time": "2021-08-11T12:48:22.190Z"
      },
      {
        "duration": 10,
        "start_time": "2021-08-11T12:48:30.784Z"
      },
      {
        "duration": 436,
        "start_time": "2021-08-11T12:51:00.913Z"
      },
      {
        "duration": 3,
        "start_time": "2021-08-11T13:06:36.400Z"
      },
      {
        "duration": 465,
        "start_time": "2021-08-11T13:07:53.058Z"
      },
      {
        "duration": 3,
        "start_time": "2021-08-11T13:07:59.387Z"
      },
      {
        "duration": 3,
        "start_time": "2021-08-11T13:08:10.293Z"
      },
      {
        "duration": 372,
        "start_time": "2021-08-11T13:08:15.256Z"
      },
      {
        "duration": 1555,
        "start_time": "2021-08-12T12:58:18.873Z"
      },
      {
        "duration": 1057,
        "start_time": "2021-08-12T12:58:20.430Z"
      },
      {
        "duration": 26,
        "start_time": "2021-08-12T12:58:21.874Z"
      },
      {
        "duration": 114,
        "start_time": "2021-08-12T12:58:24.997Z"
      },
      {
        "duration": 580,
        "start_time": "2021-08-12T12:58:35.321Z"
      },
      {
        "duration": 667,
        "start_time": "2021-08-12T12:58:37.784Z"
      },
      {
        "duration": 148,
        "start_time": "2021-08-12T12:58:40.377Z"
      },
      {
        "duration": 143,
        "start_time": "2021-08-12T12:58:52.804Z"
      },
      {
        "duration": 461,
        "start_time": "2021-08-12T12:58:56.287Z"
      },
      {
        "duration": 167,
        "start_time": "2021-08-12T13:00:49.885Z"
      },
      {
        "duration": 101,
        "start_time": "2021-08-12T13:01:11.835Z"
      },
      {
        "duration": 214,
        "start_time": "2021-08-12T13:01:23.849Z"
      },
      {
        "duration": 133,
        "start_time": "2021-08-12T13:01:41.487Z"
      },
      {
        "duration": 71,
        "start_time": "2021-08-12T13:01:49.556Z"
      },
      {
        "duration": 43,
        "start_time": "2021-08-12T13:02:04.855Z"
      },
      {
        "duration": 7,
        "start_time": "2021-08-12T13:02:05.641Z"
      },
      {
        "duration": 37,
        "start_time": "2021-08-12T13:02:06.674Z"
      },
      {
        "duration": 37,
        "start_time": "2021-08-12T13:02:10.150Z"
      },
      {
        "duration": 4,
        "start_time": "2021-08-12T13:02:10.505Z"
      },
      {
        "duration": 38,
        "start_time": "2021-08-12T13:02:14.014Z"
      },
      {
        "duration": 11,
        "start_time": "2021-08-12T13:04:54.032Z"
      },
      {
        "duration": 56,
        "start_time": "2021-08-12T13:04:55.055Z"
      },
      {
        "duration": 11,
        "start_time": "2021-08-12T13:05:07.482Z"
      },
      {
        "duration": 4,
        "start_time": "2021-08-12T13:06:47.221Z"
      },
      {
        "duration": 402,
        "start_time": "2021-08-12T13:06:56.280Z"
      },
      {
        "duration": 5,
        "start_time": "2021-08-12T13:09:37.661Z"
      },
      {
        "duration": 4,
        "start_time": "2021-08-12T13:09:53.267Z"
      },
      {
        "duration": 276,
        "start_time": "2021-08-12T13:09:53.744Z"
      },
      {
        "duration": 231,
        "start_time": "2021-08-12T13:11:28.922Z"
      },
      {
        "duration": 304,
        "start_time": "2021-08-12T13:11:36.844Z"
      },
      {
        "duration": 11,
        "start_time": "2021-08-12T13:25:23.970Z"
      },
      {
        "duration": 68,
        "start_time": "2021-08-12T13:25:24.274Z"
      },
      {
        "duration": 14,
        "start_time": "2021-08-12T13:25:26.711Z"
      },
      {
        "duration": 424,
        "start_time": "2021-08-12T13:26:05.921Z"
      },
      {
        "duration": 59,
        "start_time": "2021-08-12T13:26:14.919Z"
      },
      {
        "duration": 47,
        "start_time": "2021-08-12T13:26:17.382Z"
      },
      {
        "duration": 1509,
        "start_time": "2021-08-12T13:27:07.505Z"
      },
      {
        "duration": 1165,
        "start_time": "2021-08-12T13:27:09.017Z"
      },
      {
        "duration": 28,
        "start_time": "2021-08-12T13:27:10.185Z"
      },
      {
        "duration": 136,
        "start_time": "2021-08-12T13:27:10.215Z"
      },
      {
        "duration": 631,
        "start_time": "2021-08-12T13:27:10.353Z"
      },
      {
        "duration": 695,
        "start_time": "2021-08-12T13:27:14.350Z"
      },
      {
        "duration": 159,
        "start_time": "2021-08-12T13:27:15.048Z"
      },
      {
        "duration": 169,
        "start_time": "2021-08-12T13:27:17.113Z"
      },
      {
        "duration": 469,
        "start_time": "2021-08-12T13:27:18.270Z"
      },
      {
        "duration": 143,
        "start_time": "2021-08-12T13:27:19.952Z"
      },
      {
        "duration": 116,
        "start_time": "2021-08-12T13:27:23.351Z"
      },
      {
        "duration": 50,
        "start_time": "2021-08-12T13:27:29.126Z"
      },
      {
        "duration": 7,
        "start_time": "2021-08-12T13:27:29.641Z"
      },
      {
        "duration": 50,
        "start_time": "2021-08-12T13:27:29.844Z"
      },
      {
        "duration": 100,
        "start_time": "2021-08-12T13:27:30.847Z"
      },
      {
        "duration": 50,
        "start_time": "2021-08-12T13:27:32.215Z"
      },
      {
        "duration": 5,
        "start_time": "2021-08-12T13:27:33.217Z"
      },
      {
        "duration": 61,
        "start_time": "2021-08-12T13:27:34.646Z"
      },
      {
        "duration": 12,
        "start_time": "2021-08-12T13:27:56.943Z"
      },
      {
        "duration": 59,
        "start_time": "2021-08-12T13:28:02.133Z"
      },
      {
        "duration": 53,
        "start_time": "2021-08-12T13:28:06.089Z"
      },
      {
        "duration": 17,
        "start_time": "2021-08-12T13:28:06.672Z"
      },
      {
        "duration": 14,
        "start_time": "2021-08-12T13:28:14.361Z"
      },
      {
        "duration": 4,
        "start_time": "2021-08-12T13:28:27.707Z"
      },
      {
        "duration": 434949,
        "start_time": "2021-08-12T13:28:29.437Z"
      },
      {
        "duration": 973,
        "start_time": "2021-08-12T13:36:18.611Z"
      },
      {
        "duration": 6,
        "start_time": "2021-08-12T13:36:38.655Z"
      },
      {
        "duration": 1964,
        "start_time": "2021-08-12T13:39:31.586Z"
      },
      {
        "duration": 1448,
        "start_time": "2021-08-12T13:39:33.554Z"
      },
      {
        "duration": 29,
        "start_time": "2021-08-12T13:39:35.005Z"
      },
      {
        "duration": 139,
        "start_time": "2021-08-12T13:39:35.036Z"
      },
      {
        "duration": 589,
        "start_time": "2021-08-12T13:39:35.183Z"
      },
      {
        "duration": 772,
        "start_time": "2021-08-12T13:39:35.774Z"
      },
      {
        "duration": 164,
        "start_time": "2021-08-12T13:39:36.549Z"
      },
      {
        "duration": 164,
        "start_time": "2021-08-12T13:39:36.718Z"
      },
      {
        "duration": 448,
        "start_time": "2021-08-12T13:39:36.885Z"
      },
      {
        "duration": 215,
        "start_time": "2021-08-12T13:39:37.335Z"
      },
      {
        "duration": 3648,
        "start_time": "2021-08-12T13:39:37.552Z"
      },
      {
        "duration": 101,
        "start_time": "2021-08-12T13:39:41.202Z"
      },
      {
        "duration": 6,
        "start_time": "2021-08-12T13:39:41.305Z"
      },
      {
        "duration": 106,
        "start_time": "2021-08-12T13:39:41.313Z"
      },
      {
        "duration": 182,
        "start_time": "2021-08-12T13:39:41.422Z"
      },
      {
        "duration": 43,
        "start_time": "2021-08-12T13:39:41.607Z"
      },
      {
        "duration": 4,
        "start_time": "2021-08-12T13:39:41.652Z"
      },
      {
        "duration": 16,
        "start_time": "2021-08-12T13:39:42.359Z"
      },
      {
        "duration": 22,
        "start_time": "2021-08-12T13:40:24.187Z"
      },
      {
        "duration": 154,
        "start_time": "2021-08-12T13:41:15.904Z"
      },
      {
        "duration": 16,
        "start_time": "2021-08-12T13:41:24.450Z"
      },
      {
        "duration": 58,
        "start_time": "2021-08-12T13:41:30.926Z"
      },
      {
        "duration": 20,
        "start_time": "2021-08-12T13:41:33.090Z"
      },
      {
        "duration": 453204,
        "start_time": "2021-08-12T13:41:41.794Z"
      },
      {
        "duration": 6,
        "start_time": "2021-08-12T13:49:28.084Z"
      },
      {
        "duration": 69897,
        "start_time": "2021-08-12T13:49:37.969Z"
      },
      {
        "duration": 218,
        "start_time": "2021-08-12T13:51:48.392Z"
      },
      {
        "duration": 9,
        "start_time": "2021-08-12T13:51:59.564Z"
      },
      {
        "duration": 4,
        "start_time": "2021-08-12T13:52:30.198Z"
      },
      {
        "duration": 1608,
        "start_time": "2021-08-12T13:54:01.745Z"
      },
      {
        "duration": 1513,
        "start_time": "2021-08-12T13:54:03.356Z"
      },
      {
        "duration": 34,
        "start_time": "2021-08-12T13:54:04.873Z"
      },
      {
        "duration": 168,
        "start_time": "2021-08-12T13:54:04.910Z"
      },
      {
        "duration": 583,
        "start_time": "2021-08-12T13:54:05.081Z"
      },
      {
        "duration": 839,
        "start_time": "2021-08-12T13:54:05.666Z"
      },
      {
        "duration": 151,
        "start_time": "2021-08-12T13:54:06.508Z"
      },
      {
        "duration": 158,
        "start_time": "2021-08-12T13:54:06.661Z"
      },
      {
        "duration": 476,
        "start_time": "2021-08-12T13:54:06.823Z"
      },
      {
        "duration": 212,
        "start_time": "2021-08-12T13:54:07.302Z"
      },
      {
        "duration": 5846,
        "start_time": "2021-08-12T13:54:07.516Z"
      },
      {
        "duration": 69,
        "start_time": "2021-08-12T13:54:13.364Z"
      },
      {
        "duration": 11,
        "start_time": "2021-08-12T13:54:13.436Z"
      },
      {
        "duration": 70,
        "start_time": "2021-08-12T13:54:13.449Z"
      },
      {
        "duration": 114,
        "start_time": "2021-08-12T13:54:13.522Z"
      },
      {
        "duration": 65,
        "start_time": "2021-08-12T13:54:13.639Z"
      },
      {
        "duration": 4,
        "start_time": "2021-08-12T13:54:13.706Z"
      },
      {
        "duration": 21,
        "start_time": "2021-08-12T13:54:13.712Z"
      },
      {
        "duration": 53,
        "start_time": "2021-08-12T13:54:13.736Z"
      },
      {
        "duration": 173,
        "start_time": "2021-08-12T13:54:13.791Z"
      },
      {
        "duration": 65,
        "start_time": "2021-08-12T13:54:13.966Z"
      },
      {
        "duration": 20,
        "start_time": "2021-08-12T13:54:14.033Z"
      },
      {
        "duration": 455134,
        "start_time": "2021-08-12T13:54:14.055Z"
      },
      {
        "duration": 4,
        "start_time": "2021-08-12T14:01:49.192Z"
      },
      {
        "duration": 72165,
        "start_time": "2021-08-12T14:01:49.199Z"
      },
      {
        "duration": 234,
        "start_time": "2021-08-12T14:03:01.367Z"
      },
      {
        "duration": 7,
        "start_time": "2021-08-12T14:03:01.606Z"
      },
      {
        "duration": 844,
        "start_time": "2021-08-12T14:03:01.616Z"
      },
      {
        "duration": 205,
        "start_time": "2021-08-12T14:03:02.462Z"
      },
      {
        "duration": 940,
        "start_time": "2021-08-12T14:03:02.670Z"
      },
      {
        "duration": 17,
        "start_time": "2021-08-12T14:03:03.612Z"
      },
      {
        "duration": 175,
        "start_time": "2021-08-12T14:03:03.631Z"
      },
      {
        "duration": 28680,
        "start_time": "2021-08-12T14:03:03.808Z"
      },
      {
        "duration": 203,
        "start_time": "2021-08-12T14:03:32.491Z"
      },
      {
        "duration": 92,
        "start_time": "2021-08-12T14:03:32.697Z"
      },
      {
        "duration": 6,
        "start_time": "2021-08-12T14:03:32.791Z"
      },
      {
        "duration": 9,
        "start_time": "2021-08-12T14:03:32.800Z"
      },
      {
        "duration": 27,
        "start_time": "2021-08-12T14:03:32.884Z"
      },
      {
        "duration": 5,
        "start_time": "2021-08-12T14:03:32.914Z"
      },
      {
        "duration": 361661,
        "start_time": "2021-08-12T14:03:32.922Z"
      },
      {
        "duration": 510,
        "start_time": "2021-08-12T14:09:34.586Z"
      },
      {
        "duration": 440,
        "start_time": "2021-08-12T14:09:35.098Z"
      },
      {
        "duration": -820,
        "start_time": "2021-08-12T14:09:36.361Z"
      },
      {
        "duration": 1163,
        "start_time": "2021-08-12T14:11:14.041Z"
      },
      {
        "duration": 489,
        "start_time": "2021-08-12T14:11:33.249Z"
      },
      {
        "duration": 419,
        "start_time": "2021-08-12T14:11:42.034Z"
      },
      {
        "duration": 7,
        "start_time": "2021-08-12T14:11:59.332Z"
      },
      {
        "duration": 16,
        "start_time": "2021-08-12T14:12:12.674Z"
      }
    ],
    "kernelspec": {
      "display_name": "Python 3",
      "language": "python",
      "name": "python3"
    },
    "language_info": {
      "codemirror_mode": {
        "name": "ipython",
        "version": 3
      },
      "file_extension": ".py",
      "mimetype": "text/x-python",
      "name": "python",
      "nbconvert_exporter": "python",
      "pygments_lexer": "ipython3",
      "version": "3.7.8"
    },
    "toc": {
      "base_numbering": 1,
      "nav_menu": {},
      "number_sections": true,
      "sideBar": true,
      "skip_h1_title": true,
      "title_cell": "Table of Contents",
      "title_sidebar": "Contents",
      "toc_cell": false,
      "toc_position": {},
      "toc_section_display": true,
      "toc_window_display": false
    },
    "colab": {
      "name": "11. Градиентный бустинг. Предсказание цены.ipynb",
      "provenance": [],
      "collapsed_sections": []
    }
  },
  "cells": [
    {
      "cell_type": "markdown",
      "metadata": {
        "id": "dn5wDaHCroHV"
      },
      "source": [
        "## Подготовка данных"
      ]
    },
    {
      "cell_type": "markdown",
      "metadata": {
        "id": "teewIN-AroHV"
      },
      "source": [
        "Импортируем библиотеки которые понадобятся или могут быть полезны."
      ]
    },
    {
      "cell_type": "code",
      "metadata": {
        "id": "haXXDtcGroHV"
      },
      "source": [
        "import pandas as pd\n",
        "import numpy as np\n",
        "import matplotlib.pyplot as plt\n",
        "import pylab as pl\n",
        "import time\n",
        "\n",
        "from tqdm.notebook import trange, tqdm\n",
        "\n",
        "from sklearn.model_selection import train_test_split\n",
        "from sklearn.preprocessing import StandardScaler\n",
        "from sklearn.utils import shuffle\n",
        "from sklearn.model_selection import GridSearchCV, cross_val_score\n",
        "from scipy import stats as st\n",
        "from scipy.spatial import distance\n",
        "\n",
        "from sklearn.linear_model import LinearRegression\n",
        "from sklearn.tree import DecisionTreeRegressor\n",
        "from sklearn.ensemble import RandomForestRegressor\n",
        "from sklearn.dummy import DummyRegressor\n",
        "\n",
        "from catboost import CatBoostRegressor\n",
        "import lightgbm as lgb\n",
        "\n",
        "from sklearn.metrics import mean_squared_error, mean_absolute_error, r2_score\n",
        "from sklearn.metrics.scorer import make_scorer\n",
        "\n",
        "\n",
        "import warnings\n",
        "warnings.filterwarnings('ignore')"
      ],
      "execution_count": null,
      "outputs": []
    },
    {
      "cell_type": "code",
      "metadata": {
        "id": "PDF_AgAkroHW"
      },
      "source": [
        "df = pd.read_csv('/datasets/autos.csv')"
      ],
      "execution_count": null,
      "outputs": []
    },
    {
      "cell_type": "code",
      "metadata": {
        "scrolled": true,
        "id": "_KWB7TyyroHX",
        "outputId": "ec4323ef-8824-49cd-a584-986c00c13357"
      },
      "source": [
        "df.head()"
      ],
      "execution_count": null,
      "outputs": [
        {
          "data": {
            "text/html": [
              "<div>\n",
              "<style scoped>\n",
              "    .dataframe tbody tr th:only-of-type {\n",
              "        vertical-align: middle;\n",
              "    }\n",
              "\n",
              "    .dataframe tbody tr th {\n",
              "        vertical-align: top;\n",
              "    }\n",
              "\n",
              "    .dataframe thead th {\n",
              "        text-align: right;\n",
              "    }\n",
              "</style>\n",
              "<table border=\"1\" class=\"dataframe\">\n",
              "  <thead>\n",
              "    <tr style=\"text-align: right;\">\n",
              "      <th></th>\n",
              "      <th>DateCrawled</th>\n",
              "      <th>Price</th>\n",
              "      <th>VehicleType</th>\n",
              "      <th>RegistrationYear</th>\n",
              "      <th>Gearbox</th>\n",
              "      <th>Power</th>\n",
              "      <th>Model</th>\n",
              "      <th>Kilometer</th>\n",
              "      <th>RegistrationMonth</th>\n",
              "      <th>FuelType</th>\n",
              "      <th>Brand</th>\n",
              "      <th>NotRepaired</th>\n",
              "      <th>DateCreated</th>\n",
              "      <th>NumberOfPictures</th>\n",
              "      <th>PostalCode</th>\n",
              "      <th>LastSeen</th>\n",
              "    </tr>\n",
              "  </thead>\n",
              "  <tbody>\n",
              "    <tr>\n",
              "      <td>0</td>\n",
              "      <td>2016-03-24 11:52:17</td>\n",
              "      <td>480</td>\n",
              "      <td>NaN</td>\n",
              "      <td>1993</td>\n",
              "      <td>manual</td>\n",
              "      <td>0</td>\n",
              "      <td>golf</td>\n",
              "      <td>150000</td>\n",
              "      <td>0</td>\n",
              "      <td>petrol</td>\n",
              "      <td>volkswagen</td>\n",
              "      <td>NaN</td>\n",
              "      <td>2016-03-24 00:00:00</td>\n",
              "      <td>0</td>\n",
              "      <td>70435</td>\n",
              "      <td>2016-04-07 03:16:57</td>\n",
              "    </tr>\n",
              "    <tr>\n",
              "      <td>1</td>\n",
              "      <td>2016-03-24 10:58:45</td>\n",
              "      <td>18300</td>\n",
              "      <td>coupe</td>\n",
              "      <td>2011</td>\n",
              "      <td>manual</td>\n",
              "      <td>190</td>\n",
              "      <td>NaN</td>\n",
              "      <td>125000</td>\n",
              "      <td>5</td>\n",
              "      <td>gasoline</td>\n",
              "      <td>audi</td>\n",
              "      <td>yes</td>\n",
              "      <td>2016-03-24 00:00:00</td>\n",
              "      <td>0</td>\n",
              "      <td>66954</td>\n",
              "      <td>2016-04-07 01:46:50</td>\n",
              "    </tr>\n",
              "    <tr>\n",
              "      <td>2</td>\n",
              "      <td>2016-03-14 12:52:21</td>\n",
              "      <td>9800</td>\n",
              "      <td>suv</td>\n",
              "      <td>2004</td>\n",
              "      <td>auto</td>\n",
              "      <td>163</td>\n",
              "      <td>grand</td>\n",
              "      <td>125000</td>\n",
              "      <td>8</td>\n",
              "      <td>gasoline</td>\n",
              "      <td>jeep</td>\n",
              "      <td>NaN</td>\n",
              "      <td>2016-03-14 00:00:00</td>\n",
              "      <td>0</td>\n",
              "      <td>90480</td>\n",
              "      <td>2016-04-05 12:47:46</td>\n",
              "    </tr>\n",
              "    <tr>\n",
              "      <td>3</td>\n",
              "      <td>2016-03-17 16:54:04</td>\n",
              "      <td>1500</td>\n",
              "      <td>small</td>\n",
              "      <td>2001</td>\n",
              "      <td>manual</td>\n",
              "      <td>75</td>\n",
              "      <td>golf</td>\n",
              "      <td>150000</td>\n",
              "      <td>6</td>\n",
              "      <td>petrol</td>\n",
              "      <td>volkswagen</td>\n",
              "      <td>no</td>\n",
              "      <td>2016-03-17 00:00:00</td>\n",
              "      <td>0</td>\n",
              "      <td>91074</td>\n",
              "      <td>2016-03-17 17:40:17</td>\n",
              "    </tr>\n",
              "    <tr>\n",
              "      <td>4</td>\n",
              "      <td>2016-03-31 17:25:20</td>\n",
              "      <td>3600</td>\n",
              "      <td>small</td>\n",
              "      <td>2008</td>\n",
              "      <td>manual</td>\n",
              "      <td>69</td>\n",
              "      <td>fabia</td>\n",
              "      <td>90000</td>\n",
              "      <td>7</td>\n",
              "      <td>gasoline</td>\n",
              "      <td>skoda</td>\n",
              "      <td>no</td>\n",
              "      <td>2016-03-31 00:00:00</td>\n",
              "      <td>0</td>\n",
              "      <td>60437</td>\n",
              "      <td>2016-04-06 10:17:21</td>\n",
              "    </tr>\n",
              "  </tbody>\n",
              "</table>\n",
              "</div>"
            ],
            "text/plain": [
              "           DateCrawled  Price VehicleType  RegistrationYear Gearbox  Power  \\\n",
              "0  2016-03-24 11:52:17    480         NaN              1993  manual      0   \n",
              "1  2016-03-24 10:58:45  18300       coupe              2011  manual    190   \n",
              "2  2016-03-14 12:52:21   9800         suv              2004    auto    163   \n",
              "3  2016-03-17 16:54:04   1500       small              2001  manual     75   \n",
              "4  2016-03-31 17:25:20   3600       small              2008  manual     69   \n",
              "\n",
              "   Model  Kilometer  RegistrationMonth  FuelType       Brand NotRepaired  \\\n",
              "0   golf     150000                  0    petrol  volkswagen         NaN   \n",
              "1    NaN     125000                  5  gasoline        audi         yes   \n",
              "2  grand     125000                  8  gasoline        jeep         NaN   \n",
              "3   golf     150000                  6    petrol  volkswagen          no   \n",
              "4  fabia      90000                  7  gasoline       skoda          no   \n",
              "\n",
              "           DateCreated  NumberOfPictures  PostalCode             LastSeen  \n",
              "0  2016-03-24 00:00:00                 0       70435  2016-04-07 03:16:57  \n",
              "1  2016-03-24 00:00:00                 0       66954  2016-04-07 01:46:50  \n",
              "2  2016-03-14 00:00:00                 0       90480  2016-04-05 12:47:46  \n",
              "3  2016-03-17 00:00:00                 0       91074  2016-03-17 17:40:17  \n",
              "4  2016-03-31 00:00:00                 0       60437  2016-04-06 10:17:21  "
            ]
          },
          "execution_count": 3,
          "metadata": {},
          "output_type": "execute_result"
        }
      ]
    },
    {
      "cell_type": "markdown",
      "metadata": {
        "id": "6N7APM4froHY"
      },
      "source": [
        "**Признаки**  \n",
        "\n",
        "- DateCrawled — дата скачивания анкеты из базы\n",
        "- VehicleType — тип автомобильного кузова\n",
        "- RegistrationYear — год регистрации автомобиля\n",
        "- Gearbox — тип коробки передач\n",
        "- Power — мощность (л. с.)\n",
        "- Model — модель автомобиля\n",
        "- Kilometer — пробег (км)\n",
        "- RegistrationMonth — месяц регистрации автомобиля\n",
        "- FuelType — тип топлива\n",
        "- Brand — марка автомобиля\n",
        "- NotRepaired — была машина в ремонте или нет\n",
        "- DateCreated — дата создания анкеты\n",
        "- NumberOfPictures — количество фотографий автомобиля\n",
        "- PostalCode — почтовый индекс владельца анкеты (пользователя)\n",
        "- LastSeen — дата последней активности пользователя\n",
        "\n",
        "**Целевой признак**  \n",
        "\n",
        "- Price — цена (евро)"
      ]
    },
    {
      "cell_type": "markdown",
      "metadata": {
        "id": "sIc-muZzroHY"
      },
      "source": [
        "Глянем на распределение столбцов."
      ]
    },
    {
      "cell_type": "code",
      "metadata": {
        "id": "ywJreBU9roHY",
        "outputId": "351d3552-4cf9-4279-ea2e-4151d2a2e6a8"
      },
      "source": [
        "df.describe()"
      ],
      "execution_count": null,
      "outputs": [
        {
          "data": {
            "text/html": [
              "<div>\n",
              "<style scoped>\n",
              "    .dataframe tbody tr th:only-of-type {\n",
              "        vertical-align: middle;\n",
              "    }\n",
              "\n",
              "    .dataframe tbody tr th {\n",
              "        vertical-align: top;\n",
              "    }\n",
              "\n",
              "    .dataframe thead th {\n",
              "        text-align: right;\n",
              "    }\n",
              "</style>\n",
              "<table border=\"1\" class=\"dataframe\">\n",
              "  <thead>\n",
              "    <tr style=\"text-align: right;\">\n",
              "      <th></th>\n",
              "      <th>Price</th>\n",
              "      <th>RegistrationYear</th>\n",
              "      <th>Power</th>\n",
              "      <th>Kilometer</th>\n",
              "      <th>RegistrationMonth</th>\n",
              "      <th>NumberOfPictures</th>\n",
              "      <th>PostalCode</th>\n",
              "    </tr>\n",
              "  </thead>\n",
              "  <tbody>\n",
              "    <tr>\n",
              "      <td>count</td>\n",
              "      <td>354369.000000</td>\n",
              "      <td>354369.000000</td>\n",
              "      <td>354369.000000</td>\n",
              "      <td>354369.000000</td>\n",
              "      <td>354369.000000</td>\n",
              "      <td>354369.0</td>\n",
              "      <td>354369.000000</td>\n",
              "    </tr>\n",
              "    <tr>\n",
              "      <td>mean</td>\n",
              "      <td>4416.656776</td>\n",
              "      <td>2004.234448</td>\n",
              "      <td>110.094337</td>\n",
              "      <td>128211.172535</td>\n",
              "      <td>5.714645</td>\n",
              "      <td>0.0</td>\n",
              "      <td>50508.689087</td>\n",
              "    </tr>\n",
              "    <tr>\n",
              "      <td>std</td>\n",
              "      <td>4514.158514</td>\n",
              "      <td>90.227958</td>\n",
              "      <td>189.850405</td>\n",
              "      <td>37905.341530</td>\n",
              "      <td>3.726421</td>\n",
              "      <td>0.0</td>\n",
              "      <td>25783.096248</td>\n",
              "    </tr>\n",
              "    <tr>\n",
              "      <td>min</td>\n",
              "      <td>0.000000</td>\n",
              "      <td>1000.000000</td>\n",
              "      <td>0.000000</td>\n",
              "      <td>5000.000000</td>\n",
              "      <td>0.000000</td>\n",
              "      <td>0.0</td>\n",
              "      <td>1067.000000</td>\n",
              "    </tr>\n",
              "    <tr>\n",
              "      <td>25%</td>\n",
              "      <td>1050.000000</td>\n",
              "      <td>1999.000000</td>\n",
              "      <td>69.000000</td>\n",
              "      <td>125000.000000</td>\n",
              "      <td>3.000000</td>\n",
              "      <td>0.0</td>\n",
              "      <td>30165.000000</td>\n",
              "    </tr>\n",
              "    <tr>\n",
              "      <td>50%</td>\n",
              "      <td>2700.000000</td>\n",
              "      <td>2003.000000</td>\n",
              "      <td>105.000000</td>\n",
              "      <td>150000.000000</td>\n",
              "      <td>6.000000</td>\n",
              "      <td>0.0</td>\n",
              "      <td>49413.000000</td>\n",
              "    </tr>\n",
              "    <tr>\n",
              "      <td>75%</td>\n",
              "      <td>6400.000000</td>\n",
              "      <td>2008.000000</td>\n",
              "      <td>143.000000</td>\n",
              "      <td>150000.000000</td>\n",
              "      <td>9.000000</td>\n",
              "      <td>0.0</td>\n",
              "      <td>71083.000000</td>\n",
              "    </tr>\n",
              "    <tr>\n",
              "      <td>max</td>\n",
              "      <td>20000.000000</td>\n",
              "      <td>9999.000000</td>\n",
              "      <td>20000.000000</td>\n",
              "      <td>150000.000000</td>\n",
              "      <td>12.000000</td>\n",
              "      <td>0.0</td>\n",
              "      <td>99998.000000</td>\n",
              "    </tr>\n",
              "  </tbody>\n",
              "</table>\n",
              "</div>"
            ],
            "text/plain": [
              "               Price  RegistrationYear          Power      Kilometer  \\\n",
              "count  354369.000000     354369.000000  354369.000000  354369.000000   \n",
              "mean     4416.656776       2004.234448     110.094337  128211.172535   \n",
              "std      4514.158514         90.227958     189.850405   37905.341530   \n",
              "min         0.000000       1000.000000       0.000000    5000.000000   \n",
              "25%      1050.000000       1999.000000      69.000000  125000.000000   \n",
              "50%      2700.000000       2003.000000     105.000000  150000.000000   \n",
              "75%      6400.000000       2008.000000     143.000000  150000.000000   \n",
              "max     20000.000000       9999.000000   20000.000000  150000.000000   \n",
              "\n",
              "       RegistrationMonth  NumberOfPictures     PostalCode  \n",
              "count      354369.000000          354369.0  354369.000000  \n",
              "mean            5.714645               0.0   50508.689087  \n",
              "std             3.726421               0.0   25783.096248  \n",
              "min             0.000000               0.0    1067.000000  \n",
              "25%             3.000000               0.0   30165.000000  \n",
              "50%             6.000000               0.0   49413.000000  \n",
              "75%             9.000000               0.0   71083.000000  \n",
              "max            12.000000               0.0   99998.000000  "
            ]
          },
          "execution_count": 4,
          "metadata": {},
          "output_type": "execute_result"
        }
      ]
    },
    {
      "cell_type": "markdown",
      "metadata": {
        "id": "_GoNlkQZroHY"
      },
      "source": [
        "НАблюдаем аномалии:\n",
        "- Цена имеет значение 0.\n",
        "- Год регистрации авто 1000 год и 9999 год.\n",
        "- Мощность имеет 0 и 20000 л.с. ."
      ]
    },
    {
      "cell_type": "markdown",
      "metadata": {
        "id": "ha9ymR4BroHZ"
      },
      "source": [
        "Проверим пропуски и дубликаты."
      ]
    },
    {
      "cell_type": "code",
      "metadata": {
        "id": "5tFXMgy_roHZ",
        "outputId": "c2751eaf-1ff6-4927-f710-d3f245739a6a"
      },
      "source": [
        "df.duplicated().sum()"
      ],
      "execution_count": null,
      "outputs": [
        {
          "data": {
            "text/plain": [
              "4"
            ]
          },
          "execution_count": 5,
          "metadata": {},
          "output_type": "execute_result"
        }
      ]
    },
    {
      "cell_type": "markdown",
      "metadata": {
        "id": "cRTbZyK9roHZ"
      },
      "source": [
        "Удалим дубликаты."
      ]
    },
    {
      "cell_type": "code",
      "metadata": {
        "id": "7FeZiMbYroHZ"
      },
      "source": [
        "df = df.drop_duplicates().reset_index(drop=True)"
      ],
      "execution_count": null,
      "outputs": []
    },
    {
      "cell_type": "code",
      "metadata": {
        "id": "TYF3ewXXroHZ",
        "outputId": "02fe6cfd-7fc1-417d-eaa9-6438b53cde1b"
      },
      "source": [
        "df.isna().mean()"
      ],
      "execution_count": null,
      "outputs": [
        {
          "data": {
            "text/plain": [
              "DateCrawled          0.000000\n",
              "Price                0.000000\n",
              "VehicleType          0.105795\n",
              "RegistrationYear     0.000000\n",
              "Gearbox              0.055968\n",
              "Power                0.000000\n",
              "Model                0.055607\n",
              "Kilometer            0.000000\n",
              "RegistrationMonth    0.000000\n",
              "FuelType             0.092828\n",
              "Brand                0.000000\n",
              "NotRepaired          0.200793\n",
              "DateCreated          0.000000\n",
              "NumberOfPictures     0.000000\n",
              "PostalCode           0.000000\n",
              "LastSeen             0.000000\n",
              "dtype: float64"
            ]
          },
          "execution_count": 7,
          "metadata": {},
          "output_type": "execute_result"
        }
      ]
    },
    {
      "cell_type": "markdown",
      "metadata": {
        "id": "l5A7cVUIroHa"
      },
      "source": [
        "Наблюдайем процент пропусков:  \n",
        "\n",
        "- Тип кузова - 10.58%\n",
        "- Тип коробки передач - 5.6%\n",
        "- Модель авто - 5.56%\n",
        "- Тип топлива - 9%\n",
        "- Наличие ремонта - 20%"
      ]
    },
    {
      "cell_type": "markdown",
      "metadata": {
        "id": "4ONSaBnmroHa"
      },
      "source": [
        "ПРоверим типы данных."
      ]
    },
    {
      "cell_type": "code",
      "metadata": {
        "id": "dXqaGocGroHa",
        "outputId": "3c3c4c54-662d-442e-f3a4-43955328e610"
      },
      "source": [
        "df.info()"
      ],
      "execution_count": null,
      "outputs": [
        {
          "name": "stdout",
          "output_type": "stream",
          "text": [
            "<class 'pandas.core.frame.DataFrame'>\n",
            "RangeIndex: 354365 entries, 0 to 354364\n",
            "Data columns (total 16 columns):\n",
            "DateCrawled          354365 non-null object\n",
            "Price                354365 non-null int64\n",
            "VehicleType          316875 non-null object\n",
            "RegistrationYear     354365 non-null int64\n",
            "Gearbox              334532 non-null object\n",
            "Power                354365 non-null int64\n",
            "Model                334660 non-null object\n",
            "Kilometer            354365 non-null int64\n",
            "RegistrationMonth    354365 non-null int64\n",
            "FuelType             321470 non-null object\n",
            "Brand                354365 non-null object\n",
            "NotRepaired          283211 non-null object\n",
            "DateCreated          354365 non-null object\n",
            "NumberOfPictures     354365 non-null int64\n",
            "PostalCode           354365 non-null int64\n",
            "LastSeen             354365 non-null object\n",
            "dtypes: int64(7), object(9)\n",
            "memory usage: 43.3+ MB\n"
          ]
        }
      ]
    },
    {
      "cell_type": "markdown",
      "metadata": {
        "id": "nMjjLQc6roHb"
      },
      "source": [
        "Видим, что столбцы \"DateCrawled\", \"DateCreated\", 'LastSeen' с датой и временем имеют неправильный тип данных. Исправим"
      ]
    },
    {
      "cell_type": "code",
      "metadata": {
        "id": "LuphIyQHroHb"
      },
      "source": [
        "df[[\"DateCrawled\", \"DateCreated\", 'LastSeen']] = df[\n",
        "    [\"DateCrawled\", \"DateCreated\", 'LastSeen']].apply(pd.to_datetime, format='%Y-%m-%dT%H:%M:%S')"
      ],
      "execution_count": null,
      "outputs": []
    },
    {
      "cell_type": "markdown",
      "metadata": {
        "id": "elF0hXnyroHb"
      },
      "source": [
        "Заменим пропуски на \"unknown\"."
      ]
    },
    {
      "cell_type": "code",
      "metadata": {
        "id": "g3WNHUgKroHb"
      },
      "source": [
        "df = df.fillna('unknown')"
      ],
      "execution_count": null,
      "outputs": []
    },
    {
      "cell_type": "markdown",
      "metadata": {
        "id": "g7Qf2JBOroHc"
      },
      "source": [
        "Разберемся с аномалиями. Посмотрим на них"
      ]
    },
    {
      "cell_type": "code",
      "metadata": {
        "scrolled": false,
        "id": "OLjlztKuroHc",
        "outputId": "936b266a-dc86-4205-fa9a-3bd1de2d98a0"
      },
      "source": [
        "values = ['Price', 'RegistrationYear', \"Power\"]\n",
        "names = ['цены €', 'год регистрации', 'мощность']\n",
        "for i in range(len(values)):\n",
        "    plt.figure(figsize=(10,5))\n",
        "    df[values[i]].plot.hist(bins=200, legend=True, grid=True)\n",
        "    plt.title(('Распределение', names[i]))\n",
        "    plt.xlabel(('Количество значений', names[i]))\n",
        "    plt.ylabel('Количество этих значений (шт)')\n",
        "    plt.show()\n",
        "    \n",
        "df[values].boxplot(figsize=(10,5))\n",
        "plt.show()"
      ],
      "execution_count": null,
      "outputs": [
        {
          "data": {
            "image/png": "[encoded data removed]",
            "text/plain": [
              "<Figure size 720x360 with 1 Axes>"
            ]
          },
          "metadata": {
            "needs_background": "light"
          },
          "output_type": "display_data"
        },
        {
          "data": {
            "image/png": "[encoded data removed]",
            "text/plain": [
              "<Figure size 720x360 with 1 Axes>"
            ]
          },
          "metadata": {
            "needs_background": "light"
          },
          "output_type": "display_data"
        },
        {
          "data": {
            "image/png": "[encoded data removed]",
            "text/plain": [
              "<Figure size 720x360 with 1 Axes>"
            ]
          },
          "metadata": {
            "needs_background": "light"
          },
          "output_type": "display_data"
        },
        {
          "data": {
            "image/png": "[encoded data removed]",
            "text/plain": [
              "<Figure size 720x360 with 1 Axes>"
            ]
          },
          "metadata": {
            "needs_background": "light"
          },
          "output_type": "display_data"
        }
      ]
    },
    {
      "cell_type": "markdown",
      "metadata": {
        "id": "RlWdquxTroHc"
      },
      "source": [
        "Видим много аномалий. Обрежим года регистрации авто, мощность и цену, чтобы привести данные в норму, т.к. многих значений просто не может быть в реальности. К примеру 1000 год н.э. регистрации авто."
      ]
    },
    {
      "cell_type": "code",
      "metadata": {
        "id": "xwdWrx5hroHc"
      },
      "source": [
        "df = df.query(\"Power >= 50 and Power <= 1000\")"
      ],
      "execution_count": null,
      "outputs": []
    },
    {
      "cell_type": "markdown",
      "metadata": {
        "id": "oXdnjgcproHd"
      },
      "source": [
        "ПРоверим по дате скачивания базы данных послдений год и от этого будет зависить как в будущем мы будем резать гор регистрации авто."
      ]
    },
    {
      "cell_type": "code",
      "metadata": {
        "id": "sIQlpEznroHd",
        "outputId": "0549a2dd-9a85-4206-cc90-1c2b741e6296"
      },
      "source": [
        "df.DateCrawled.max()"
      ],
      "execution_count": null,
      "outputs": [
        {
          "data": {
            "text/plain": [
              "Timestamp('2016-04-07 14:36:58')"
            ]
          },
          "execution_count": 13,
          "metadata": {},
          "output_type": "execute_result"
        }
      ]
    },
    {
      "cell_type": "code",
      "metadata": {
        "id": "gmtmPWwlroHd"
      },
      "source": [
        "df = df.query(\"RegistrationYear >= 1930 and RegistrationYear <= 2016\")"
      ],
      "execution_count": null,
      "outputs": []
    },
    {
      "cell_type": "markdown",
      "metadata": {
        "id": "2JshgxHkroHd"
      },
      "source": [
        "Посмотрим как у нас идет рост денег до 1000€ после того, как мы убрали аномалии в годах регистрации и мощности."
      ]
    },
    {
      "cell_type": "code",
      "metadata": {
        "id": "3CYurI5HroHd",
        "outputId": "8ff1da37-6a0c-4315-950b-1b9cdde3d7cc"
      },
      "source": [
        "for i in range(5):\n",
        "    begin = i * 100\n",
        "    end = begin + 100\n",
        "    value = df.query('Price <= 1000')['Price'].value_counts().index.sort_values()[begin:end]\n",
        "    print(value)"
      ],
      "execution_count": null,
      "outputs": [
        {
          "name": "stdout",
          "output_type": "stream",
          "text": [
            "Int64Index([  0,   1,   2,   3,   5,   9,  10,  11,  12,  13,  15,  17,  20,\n",
            "             24,  25,  26,  29,  30,  35,  38,  39,  40,  45,  47,  49,  50,\n",
            "             55,  60,  65,  66,  69,  70,  75,  77,  79,  80,  85,  89,  90,\n",
            "             95,  98,  99, 100, 101, 105, 108, 110, 111, 112, 115, 117, 119,\n",
            "            120, 122, 123, 125, 126, 128, 129, 130, 132, 133, 135, 139, 140,\n",
            "            142, 145, 149, 150, 155, 156, 157, 159, 160, 162, 165, 166, 169,\n",
            "            170, 173, 175, 179, 180, 181, 185, 188, 189, 190, 192, 193, 195,\n",
            "            196, 198, 199, 200, 202, 205, 209, 210, 211],\n",
            "           dtype='int64')\n",
            "Int64Index([215, 217, 219, 220, 222, 224, 225, 229, 230, 233, 235, 236, 240,\n",
            "            243, 245, 248, 249, 250, 251, 252, 253, 255, 259, 260, 261, 263,\n",
            "            265, 266, 269, 270, 272, 273, 274, 275, 277, 278, 279, 280, 281,\n",
            "            284, 285, 289, 290, 295, 298, 299, 300, 301, 305, 308, 309, 310,\n",
            "            315, 316, 319, 320, 321, 323, 325, 329, 330, 331, 332, 333, 335,\n",
            "            338, 339, 340, 341, 344, 345, 348, 349, 350, 355, 356, 359, 360,\n",
            "            365, 366, 369, 370, 373, 375, 377, 378, 379, 380, 384, 385, 388,\n",
            "            390, 393, 395, 397, 398, 399, 400, 408, 410],\n",
            "           dtype='int64')\n",
            "Int64Index([414, 415, 418, 420, 422, 425, 429, 430, 433, 435, 439, 440, 444,\n",
            "            445, 449, 450, 455, 456, 458, 459, 460, 465, 467, 469, 470, 475,\n",
            "            477, 479, 480, 485, 487, 489, 490, 495, 498, 499, 500, 501, 505,\n",
            "            510, 514, 515, 517, 519, 520, 522, 523, 525, 530, 531, 533, 536,\n",
            "            540, 543, 544, 545, 548, 549, 550, 555, 559, 560, 566, 569, 570,\n",
            "            574, 575, 576, 577, 578, 579, 580, 585, 586, 588, 589, 590, 593,\n",
            "            595, 597, 598, 599, 600, 601, 605, 606, 610, 615, 619, 620, 622,\n",
            "            623, 625, 628, 629, 630, 632, 633, 634, 635],\n",
            "           dtype='int64')\n",
            "Int64Index([639, 640, 644, 645, 647, 648, 649, 650, 655, 656, 658, 659, 660,\n",
            "            665, 666, 667, 669, 670, 675, 679, 680, 685, 686, 688, 689, 690,\n",
            "            695, 696, 698, 699, 700, 701, 706, 709, 710, 715, 717, 719, 720,\n",
            "            722, 725, 728, 729, 730, 735, 739, 740, 744, 745, 747, 749, 750,\n",
            "            755, 759, 760, 766, 768, 769, 770, 775, 776, 777, 780, 785, 788,\n",
            "            789, 790, 793, 795, 797, 798, 799, 800, 801, 804, 810, 820, 822,\n",
            "            823, 825, 829, 830, 833, 834, 836, 837, 840, 844, 845, 846, 849,\n",
            "            850, 855, 860, 865, 868, 869, 870, 873, 875],\n",
            "           dtype='int64')\n",
            "Int64Index([ 879,  880,  885,  888,  889,  890,  895,  897,  898,  899,  900,\n",
            "             901,  907,  909,  910,  915,  919,  920,  923,  925,  929,  930,\n",
            "             934,  935,  940,  944,  945,  948,  949,  950,  951,  955,  958,\n",
            "             959,  960,  965,  966,  968,  969,  970,  975,  976,  979,  980,\n",
            "             982,  985,  987,  988,  989,  990,  991,  993,  995,  996,  997,\n",
            "             998,  999, 1000],\n",
            "           dtype='int64')\n"
          ]
        }
      ]
    },
    {
      "cell_type": "markdown",
      "metadata": {
        "id": "9TCTFt-nroHe"
      },
      "source": [
        "Видим, что рост цены у нас плавный. У меня нет под рукой бизнес менеджера который скажет поо сколько мне резать цену. Если у нас модель которая предсказывает цену авто, то отрежим по 100€. "
      ]
    },
    {
      "cell_type": "code",
      "metadata": {
        "id": "rRycBvYNroHe"
      },
      "source": [
        "df = df.query(\"Price >= 100\")"
      ],
      "execution_count": null,
      "outputs": []
    },
    {
      "cell_type": "code",
      "metadata": {
        "id": "pWPpa8drroHe"
      },
      "source": [
        "df.reset_index(drop=True, inplace=True)"
      ],
      "execution_count": null,
      "outputs": []
    },
    {
      "cell_type": "markdown",
      "metadata": {
        "id": "e48V-GwzroHe"
      },
      "source": [
        "# Вывод:"
      ]
    },
    {
      "cell_type": "markdown",
      "metadata": {
        "id": "hcKuh2T4roHe"
      },
      "source": [
        "Мы сделали предобработку данных. У нас были пропуски к категорях которые мы заменили на \"unknown\". Удалили дубликаты. НАшли аномалии и привели наши данные в норму."
      ]
    },
    {
      "cell_type": "markdown",
      "metadata": {
        "id": "AbjklnUkroHf"
      },
      "source": [
        "## Обучение моделей"
      ]
    },
    {
      "cell_type": "markdown",
      "metadata": {
        "id": "Nf2J5ivNroHf"
      },
      "source": [
        "Сделаем копию основного датасета для проверки на алгоритмах бустинга. Далее проверим на обычных алгоритмах с кодированием признаков классификации."
      ]
    },
    {
      "cell_type": "code",
      "metadata": {
        "id": "7hPsWwiqroHf"
      },
      "source": [
        "df_copy = df.copy()"
      ],
      "execution_count": null,
      "outputs": []
    },
    {
      "cell_type": "markdown",
      "metadata": {
        "id": "G16_1tQproHf"
      },
      "source": [
        "РАзделим на признаки и целевой. Удалим ненужные признаки."
      ]
    },
    {
      "cell_type": "code",
      "metadata": {
        "id": "3IP2lreKroHf"
      },
      "source": [
        "features_copy = df_copy.drop(['DateCrawled', 'Price', 'RegistrationMonth',\n",
        "                              'DateCreated', 'NumberOfPictures', 'PostalCode','LastSeen'], axis=1)\n",
        "target_copy = df_copy['Price']"
      ],
      "execution_count": null,
      "outputs": []
    },
    {
      "cell_type": "code",
      "metadata": {
        "id": "4afefALlroHg"
      },
      "source": [
        "cat_features = ['VehicleType', 'Gearbox', 'Model', 'FuelType', 'Brand', 'NotRepaired']\n",
        "for i in cat_features:\n",
        "    features_copy[i] = features_copy[i].astype('category')"
      ],
      "execution_count": null,
      "outputs": []
    },
    {
      "cell_type": "markdown",
      "metadata": {
        "id": "f1mEgep_roHg"
      },
      "source": [
        "Разделим на выборки."
      ]
    },
    {
      "cell_type": "code",
      "metadata": {
        "id": "C3hUFOaLroHg",
        "outputId": "9679499a-a596-4ce7-addd-2d1854a8fabf"
      },
      "source": [
        "features_train_c, features_test_c, target_train_c, target_test_c = train_test_split(\n",
        "    features_copy, target_copy, random_state=12345, test_size=0.3)\n",
        "features_train_c.shape, features_test_c.shape"
      ],
      "execution_count": null,
      "outputs": [
        {
          "data": {
            "text/plain": [
              "((203030, 9), (87014, 9))"
            ]
          },
          "execution_count": 21,
          "metadata": {},
          "output_type": "execute_result"
        }
      ]
    },
    {
      "cell_type": "code",
      "metadata": {
        "id": "22dpf_s0roHh",
        "outputId": "5a8fc1d1-8701-42a1-93fc-d4fc48ea66cd"
      },
      "source": [
        "features_train_c.head()"
      ],
      "execution_count": null,
      "outputs": [
        {
          "data": {
            "text/html": [
              "<div>\n",
              "<style scoped>\n",
              "    .dataframe tbody tr th:only-of-type {\n",
              "        vertical-align: middle;\n",
              "    }\n",
              "\n",
              "    .dataframe tbody tr th {\n",
              "        vertical-align: top;\n",
              "    }\n",
              "\n",
              "    .dataframe thead th {\n",
              "        text-align: right;\n",
              "    }\n",
              "</style>\n",
              "<table border=\"1\" class=\"dataframe\">\n",
              "  <thead>\n",
              "    <tr style=\"text-align: right;\">\n",
              "      <th></th>\n",
              "      <th>VehicleType</th>\n",
              "      <th>RegistrationYear</th>\n",
              "      <th>Gearbox</th>\n",
              "      <th>Power</th>\n",
              "      <th>Model</th>\n",
              "      <th>Kilometer</th>\n",
              "      <th>FuelType</th>\n",
              "      <th>Brand</th>\n",
              "      <th>NotRepaired</th>\n",
              "    </tr>\n",
              "  </thead>\n",
              "  <tbody>\n",
              "    <tr>\n",
              "      <td>208664</td>\n",
              "      <td>wagon</td>\n",
              "      <td>2005</td>\n",
              "      <td>manual</td>\n",
              "      <td>133</td>\n",
              "      <td>stilo</td>\n",
              "      <td>150000</td>\n",
              "      <td>petrol</td>\n",
              "      <td>fiat</td>\n",
              "      <td>no</td>\n",
              "    </tr>\n",
              "    <tr>\n",
              "      <td>115677</td>\n",
              "      <td>sedan</td>\n",
              "      <td>1998</td>\n",
              "      <td>manual</td>\n",
              "      <td>125</td>\n",
              "      <td>passat</td>\n",
              "      <td>150000</td>\n",
              "      <td>petrol</td>\n",
              "      <td>volkswagen</td>\n",
              "      <td>no</td>\n",
              "    </tr>\n",
              "    <tr>\n",
              "      <td>140438</td>\n",
              "      <td>bus</td>\n",
              "      <td>2013</td>\n",
              "      <td>manual</td>\n",
              "      <td>122</td>\n",
              "      <td>tiguan</td>\n",
              "      <td>60000</td>\n",
              "      <td>petrol</td>\n",
              "      <td>volkswagen</td>\n",
              "      <td>no</td>\n",
              "    </tr>\n",
              "    <tr>\n",
              "      <td>141167</td>\n",
              "      <td>coupe</td>\n",
              "      <td>1991</td>\n",
              "      <td>manual</td>\n",
              "      <td>54</td>\n",
              "      <td>polo</td>\n",
              "      <td>150000</td>\n",
              "      <td>petrol</td>\n",
              "      <td>volkswagen</td>\n",
              "      <td>no</td>\n",
              "    </tr>\n",
              "    <tr>\n",
              "      <td>217747</td>\n",
              "      <td>sedan</td>\n",
              "      <td>1997</td>\n",
              "      <td>manual</td>\n",
              "      <td>125</td>\n",
              "      <td>a4</td>\n",
              "      <td>150000</td>\n",
              "      <td>petrol</td>\n",
              "      <td>audi</td>\n",
              "      <td>unknown</td>\n",
              "    </tr>\n",
              "  </tbody>\n",
              "</table>\n",
              "</div>"
            ],
            "text/plain": [
              "       VehicleType  RegistrationYear Gearbox  Power   Model  Kilometer  \\\n",
              "208664       wagon              2005  manual    133   stilo     150000   \n",
              "115677       sedan              1998  manual    125  passat     150000   \n",
              "140438         bus              2013  manual    122  tiguan      60000   \n",
              "141167       coupe              1991  manual     54    polo     150000   \n",
              "217747       sedan              1997  manual    125      a4     150000   \n",
              "\n",
              "       FuelType       Brand NotRepaired  \n",
              "208664   petrol        fiat          no  \n",
              "115677   petrol  volkswagen          no  \n",
              "140438   petrol  volkswagen          no  \n",
              "141167   petrol  volkswagen          no  \n",
              "217747   petrol        audi     unknown  "
            ]
          },
          "execution_count": 22,
          "metadata": {},
          "output_type": "execute_result"
        }
      ]
    },
    {
      "cell_type": "markdown",
      "metadata": {
        "id": "_YE_aP9ProHh"
      },
      "source": [
        "Обучим CatBoost."
      ]
    },
    {
      "cell_type": "code",
      "metadata": {
        "id": "olqC4Q11roHh",
        "outputId": "e3e99520-a6cc-40c9-9fd2-d34cdab9db93"
      },
      "source": [
        "%%time\n",
        "model_cat = CatBoostRegressor(loss_function='RMSE', random_seed=12345, cat_features=cat_features)\n",
        "\n",
        "grid = {'iterations' : [150],\n",
        "        'learning_rate' : [0.4, 0.5],\n",
        "        'depth': [8, 10]\n",
        "       }\n",
        "\n",
        "results = model_cat.grid_search(grid, X=features_train_c, y=target_train_c, cv=3)"
      ],
      "execution_count": null,
      "outputs": [
        {
          "name": "stdout",
          "output_type": "stream",
          "text": [
            "0:\tloss: 1570.5963859\tbest: 1570.5963859 (0)\ttotal: 52.7s\tremaining: 2m 38s\n",
            "1:\tloss: 1567.7659993\tbest: 1567.7659993 (1)\ttotal: 1m 42s\tremaining: 1m 42s\n",
            "2:\tloss: 1540.5493781\tbest: 1540.5493781 (2)\ttotal: 2m 40s\tremaining: 53.7s\n",
            "3:\tloss: 1543.8886816\tbest: 1540.5493781 (2)\ttotal: 3m 40s\tremaining: 0us\n",
            "Estimating final quality...\n",
            "CPU times: user 6min 42s, sys: 43.3 s, total: 7min 25s\n",
            "Wall time: 7min 35s\n"
          ]
        }
      ]
    },
    {
      "cell_type": "code",
      "metadata": {
        "scrolled": true,
        "id": "TVmvWElwroHh",
        "outputId": "8144f863-4d32-4908-d0f7-25c8ea73452b"
      },
      "source": [
        "print(model_cat.get_best_score(), model_cat.get_params(), sep='\\n\\n')"
      ],
      "execution_count": null,
      "outputs": [
        {
          "name": "stdout",
          "output_type": "stream",
          "text": [
            "{'learn': {'RMSE': 1386.0136773607353}}\n",
            "\n",
            "{'loss_function': 'RMSE', 'random_seed': 12345, 'cat_features': ['VehicleType', 'Gearbox', 'Model', 'FuelType', 'Brand', 'NotRepaired'], 'depth': 10, 'iterations': 150, 'learning_rate': 0.4}\n"
          ]
        }
      ]
    },
    {
      "cell_type": "code",
      "metadata": {
        "id": "DvR-1oRfroHh",
        "outputId": "59d64b80-a36b-45e9-dcd4-6a25ea646d82"
      },
      "source": [
        "%%time\n",
        "model_cat.fit(features_train_c, target_train_c, verbose=100)"
      ],
      "execution_count": null,
      "outputs": [
        {
          "name": "stdout",
          "output_type": "stream",
          "text": [
            "0:\tlearn: 3380.3109910\ttotal: 457ms\tremaining: 1m 8s\n",
            "100:\tlearn: 1432.7354019\ttotal: 46.9s\tremaining: 22.8s\n",
            "149:\tlearn: 1386.0136774\ttotal: 1m 9s\tremaining: 0us\n",
            "CPU times: user 1min 3s, sys: 5.67 s, total: 1min 9s\n",
            "Wall time: 1min 12s\n"
          ]
        },
        {
          "data": {
            "text/plain": [
              "<catboost.core.CatBoostRegressor at 0x7ff0f607b450>"
            ]
          },
          "execution_count": 25,
          "metadata": {},
          "output_type": "execute_result"
        }
      ]
    },
    {
      "cell_type": "code",
      "metadata": {
        "id": "o8OJAQEvroHi",
        "outputId": "b820a899-f694-40a0-b3ec-c47cbcdd8f15"
      },
      "source": [
        "%%time\n",
        "predictions = model_cat.predict(features_test_c)"
      ],
      "execution_count": null,
      "outputs": [
        {
          "name": "stdout",
          "output_type": "stream",
          "text": [
            "CPU times: user 237 ms, sys: 9.85 ms, total: 247 ms\n",
            "Wall time: 228 ms\n"
          ]
        }
      ]
    },
    {
      "cell_type": "code",
      "metadata": {
        "id": "KZAwjzw6roHi",
        "outputId": "050c43bf-1dc5-48c6-85a2-844b652a53c9"
      },
      "source": [
        "score_cat = mean_squared_error(target_test_c, predictions) ** 0.5\n",
        "score_cat"
      ],
      "execution_count": null,
      "outputs": [
        {
          "data": {
            "text/plain": [
              "1576.7341339144757"
            ]
          },
          "execution_count": 27,
          "metadata": {},
          "output_type": "execute_result"
        }
      ]
    },
    {
      "cell_type": "markdown",
      "metadata": {
        "id": "zWnxnUUwroHi"
      },
      "source": [
        "При использовании модели CatBoost я использовал след. гиперпаарметры:\n",
        "- loss function = RMSE (Минимизировал наше ошибку по RMSE)\n",
        "- iterations - количество итераций которая совершает наша модель.\n",
        "- random_seed - используем этот гиперпараметр для воспроизводимости теста.\n",
        "- cat_features - категориальные признаки для кодирования.\n",
        "- leaning rate - это скорость обучения или шаг. Гиперпараметр помогающий регулировать наш спуск делая его плавнее или быстрее.\n",
        "- depth - глубина дерева.\n",
        "- cv - количество разбиений на кросс-валидацию.\n",
        "\n",
        "Лушчую метрику RMSE на обучении модели мы получили 1386. На тесте у нас RMSE 1576."
      ]
    },
    {
      "cell_type": "markdown",
      "metadata": {
        "id": "8Euy-WKjroHj"
      },
      "source": [
        "Обучим LinearRegression.  \n",
        "\n",
        "Закодируем категориальные признаки. Потом разделим на признаки и таргет. Поделим на выборки. Сделаем стандартизацию и обучим модель."
      ]
    },
    {
      "cell_type": "code",
      "metadata": {
        "id": "pU2fmCzOroHj"
      },
      "source": [
        "df_ohe = pd.get_dummies(df, drop_first=True)"
      ],
      "execution_count": null,
      "outputs": []
    },
    {
      "cell_type": "code",
      "metadata": {
        "id": "YJ0xDi5-roHj"
      },
      "source": [
        "features = df_ohe.drop(['DateCrawled', 'Price', 'RegistrationMonth', \n",
        "                        'DateCreated', 'NumberOfPictures', 'PostalCode','LastSeen'], axis=1)\n",
        "target = df_ohe['Price']"
      ],
      "execution_count": null,
      "outputs": []
    },
    {
      "cell_type": "code",
      "metadata": {
        "id": "HmZ10ZJOroHj",
        "outputId": "7e516eb9-ee98-4a41-aca4-251f0face26e"
      },
      "source": [
        "features_train, features_test, target_train, target_test = train_test_split(\n",
        "                                                features, target, random_state=12345, test_size=0.3)\n",
        "features_train.shape, features_test.shape"
      ],
      "execution_count": null,
      "outputs": [
        {
          "data": {
            "text/plain": [
              "((203030, 310), (87014, 310))"
            ]
          },
          "execution_count": 30,
          "metadata": {},
          "output_type": "execute_result"
        }
      ]
    },
    {
      "cell_type": "code",
      "metadata": {
        "id": "caN4WHMGroHj",
        "outputId": "89143cee-7f3d-4133-9998-9f69cc1ec086"
      },
      "source": [
        "numeric = ['RegistrationYear', 'Power', 'Kilometer']\n",
        "scaler = StandardScaler()\n",
        "scaler.fit(features_train[numeric])"
      ],
      "execution_count": null,
      "outputs": [
        {
          "data": {
            "text/plain": [
              "StandardScaler(copy=True, with_mean=True, with_std=True)"
            ]
          },
          "execution_count": 31,
          "metadata": {},
          "output_type": "execute_result"
        }
      ]
    },
    {
      "cell_type": "code",
      "metadata": {
        "id": "jQwQeNIqroHj"
      },
      "source": [
        "features_train[numeric] = scaler.transform(features_train[numeric])\n",
        "features_test[numeric] = scaler.transform(features_test[numeric])"
      ],
      "execution_count": null,
      "outputs": []
    },
    {
      "cell_type": "code",
      "metadata": {
        "id": "xhUxFdXXroHk",
        "outputId": "5778c90a-a6c2-435d-d6d7-12664e928e4f"
      },
      "source": [
        "%%time\n",
        "model_linear = LinearRegression()\n",
        "model_linear.fit(features_train, target_train)"
      ],
      "execution_count": null,
      "outputs": [
        {
          "name": "stdout",
          "output_type": "stream",
          "text": [
            "CPU times: user 18.3 s, sys: 10.4 s, total: 28.7 s\n",
            "Wall time: 28.7 s\n"
          ]
        },
        {
          "data": {
            "text/plain": [
              "LinearRegression(copy_X=True, fit_intercept=True, n_jobs=None, normalize=False)"
            ]
          },
          "execution_count": 33,
          "metadata": {},
          "output_type": "execute_result"
        }
      ]
    },
    {
      "cell_type": "code",
      "metadata": {
        "id": "xl6Vk0miroHk",
        "outputId": "e63aa806-6518-484d-f81e-917bc9a8dd8d"
      },
      "source": [
        "%%time\n",
        "predictions = model_linear.predict(features_test)"
      ],
      "execution_count": null,
      "outputs": [
        {
          "name": "stdout",
          "output_type": "stream",
          "text": [
            "CPU times: user 100 ms, sys: 103 ms, total: 203 ms\n",
            "Wall time: 194 ms\n"
          ]
        }
      ]
    },
    {
      "cell_type": "code",
      "metadata": {
        "id": "y6WS2egaroHm",
        "outputId": "94e74b0d-068e-4a40-ebbf-1b1b04aca8fa"
      },
      "source": [
        "score_linear = mean_squared_error(target_test, predictions) ** 0.5\n",
        "score_linear"
      ],
      "execution_count": null,
      "outputs": [
        {
          "data": {
            "text/plain": [
              "2593.285942441118"
            ]
          },
          "execution_count": 35,
          "metadata": {},
          "output_type": "execute_result"
        }
      ]
    },
    {
      "cell_type": "markdown",
      "metadata": {
        "id": "MHatqs4eroHm"
      },
      "source": [
        "Метрика RMSE на линейной регрессии у нас 2593."
      ]
    },
    {
      "cell_type": "markdown",
      "metadata": {
        "id": "2WVRAUDtroHm"
      },
      "source": [
        "Проверим на адекватность нашу модель."
      ]
    },
    {
      "cell_type": "code",
      "metadata": {
        "id": "K0JANu2KroHn"
      },
      "source": [
        "dummy_regr = DummyRegressor(strategy=\"mean\")\n",
        "dummy_regr.fit(features_train, target_train)\n",
        "predictions_dummy = dummy_regr.predict(features_test)"
      ],
      "execution_count": null,
      "outputs": []
    },
    {
      "cell_type": "code",
      "metadata": {
        "id": "Zoa9H18OroHn",
        "outputId": "8f4e7cc1-260b-4d63-cffc-6e917a00a606"
      },
      "source": [
        "mean_squared_error(target_test, predictions_dummy) ** 0.5"
      ],
      "execution_count": null,
      "outputs": [
        {
          "data": {
            "text/plain": [
              "4639.373240379905"
            ]
          },
          "execution_count": 37,
          "metadata": {},
          "output_type": "execute_result"
        }
      ]
    },
    {
      "cell_type": "markdown",
      "metadata": {
        "id": "djr-p49ZroHn"
      },
      "source": [
        "Видим, что наша модель предсказывает лучше, чем RMSE по среднему. "
      ]
    },
    {
      "cell_type": "markdown",
      "metadata": {
        "id": "l81q_m2croHn"
      },
      "source": [
        "Обучим LGBM"
      ]
    },
    {
      "cell_type": "code",
      "metadata": {
        "id": "uc6-JANYroHn",
        "outputId": "62e839f7-5624-415d-b2fa-69ce70958609"
      },
      "source": [
        "features_train_c.head(1)"
      ],
      "execution_count": null,
      "outputs": [
        {
          "data": {
            "text/html": [
              "<div>\n",
              "<style scoped>\n",
              "    .dataframe tbody tr th:only-of-type {\n",
              "        vertical-align: middle;\n",
              "    }\n",
              "\n",
              "    .dataframe tbody tr th {\n",
              "        vertical-align: top;\n",
              "    }\n",
              "\n",
              "    .dataframe thead th {\n",
              "        text-align: right;\n",
              "    }\n",
              "</style>\n",
              "<table border=\"1\" class=\"dataframe\">\n",
              "  <thead>\n",
              "    <tr style=\"text-align: right;\">\n",
              "      <th></th>\n",
              "      <th>VehicleType</th>\n",
              "      <th>RegistrationYear</th>\n",
              "      <th>Gearbox</th>\n",
              "      <th>Power</th>\n",
              "      <th>Model</th>\n",
              "      <th>Kilometer</th>\n",
              "      <th>FuelType</th>\n",
              "      <th>Brand</th>\n",
              "      <th>NotRepaired</th>\n",
              "    </tr>\n",
              "  </thead>\n",
              "  <tbody>\n",
              "    <tr>\n",
              "      <td>208664</td>\n",
              "      <td>wagon</td>\n",
              "      <td>2005</td>\n",
              "      <td>manual</td>\n",
              "      <td>133</td>\n",
              "      <td>stilo</td>\n",
              "      <td>150000</td>\n",
              "      <td>petrol</td>\n",
              "      <td>fiat</td>\n",
              "      <td>no</td>\n",
              "    </tr>\n",
              "  </tbody>\n",
              "</table>\n",
              "</div>"
            ],
            "text/plain": [
              "       VehicleType  RegistrationYear Gearbox  Power  Model  Kilometer  \\\n",
              "208664       wagon              2005  manual    133  stilo     150000   \n",
              "\n",
              "       FuelType Brand NotRepaired  \n",
              "208664   petrol  fiat          no  "
            ]
          },
          "execution_count": 38,
          "metadata": {},
          "output_type": "execute_result"
        }
      ]
    },
    {
      "cell_type": "code",
      "metadata": {
        "id": "vkI2Ig0CroHo"
      },
      "source": [
        "lgb_train = lgb.Dataset(features_train_c, target_train_c, categorical_feature=cat_features)\n",
        "\n",
        "params = {\n",
        "    'objective' : 'regression',\n",
        "    'metric' : 'rmse',\n",
        "    'max_depth' : 10,\n",
        "    'learning_rate' : 0.5,\n",
        "    'random_state' : 12345\n",
        "         }"
      ],
      "execution_count": null,
      "outputs": []
    },
    {
      "cell_type": "code",
      "metadata": {
        "id": "ZdnttPCmroHo",
        "outputId": "919c109b-d29f-44f5-8e52-58f12b5cb6e9"
      },
      "source": [
        "%%time\n",
        "booster = lgb.train(params,\n",
        "                    lgb_train,\n",
        "                    num_boost_round=150,\n",
        "                    verbose_eval=100)"
      ],
      "execution_count": null,
      "outputs": [
        {
          "name": "stdout",
          "output_type": "stream",
          "text": [
            "CPU times: user 5min 57s, sys: 1.37 s, total: 5min 58s\n",
            "Wall time: 6min 1s\n"
          ]
        }
      ]
    },
    {
      "cell_type": "code",
      "metadata": {
        "id": "TFEx18QcroHo",
        "outputId": "c9bfed16-44fe-4336-bd6c-88bf3cdf03e4"
      },
      "source": [
        "%%time\n",
        "predictions = booster.predict(features_test_c)"
      ],
      "execution_count": null,
      "outputs": [
        {
          "name": "stdout",
          "output_type": "stream",
          "text": [
            "CPU times: user 1.21 s, sys: 0 ns, total: 1.21 s\n",
            "Wall time: 1.16 s\n"
          ]
        }
      ]
    },
    {
      "cell_type": "code",
      "metadata": {
        "id": "8HaSPNbwroHo",
        "outputId": "9b987349-665a-4a0e-86c1-d15de35265fb"
      },
      "source": [
        "score_lgbm = mean_squared_error(target_test_c, predictions) ** 0.5\n",
        "score_lgbm"
      ],
      "execution_count": null,
      "outputs": [
        {
          "data": {
            "text/plain": [
              "1581.7363418074438"
            ]
          },
          "execution_count": 46,
          "metadata": {},
          "output_type": "execute_result"
        }
      ]
    },
    {
      "cell_type": "markdown",
      "metadata": {
        "id": "pCMNnawNroHp"
      },
      "source": [
        "При использовании LGBM использовали след. гиперпаарметры:\n",
        "\n",
        "- objective - тип модели\n",
        "- metric - мерика\n",
        "- max_depth - глубина дерева\n",
        "- learning_rate - шаг\n",
        "- random_state - воспроизводимость\n",
        "\n",
        "RMSE метрика на тесте 1589."
      ]
    },
    {
      "cell_type": "markdown",
      "metadata": {
        "id": "3OrPDsWEroHp"
      },
      "source": [
        "## Анализ моделей"
      ]
    },
    {
      "cell_type": "code",
      "metadata": {
        "id": "6tty6ZVzroHp",
        "outputId": "65a42fa9-b226-4fe5-c46b-1affd47372d5"
      },
      "source": [
        "pd.DataFrame(data={'score RMSE': [int(score_cat), int(score_linear), int(score_lgbm)],\n",
        "                   'time training': ['≈ 1min 10s', '≈ 22.4 s', '≈ 10.5 s'],\n",
        "                   'predictions speed': ['≈ 350 ms', '≈ 196 ms', '≈ 1.69 s']\n",
        "                  }, index=['CatBoost', 'LinearRegressor', 'LGBM'])"
      ],
      "execution_count": null,
      "outputs": [
        {
          "data": {
            "text/html": [
              "<div>\n",
              "<style scoped>\n",
              "    .dataframe tbody tr th:only-of-type {\n",
              "        vertical-align: middle;\n",
              "    }\n",
              "\n",
              "    .dataframe tbody tr th {\n",
              "        vertical-align: top;\n",
              "    }\n",
              "\n",
              "    .dataframe thead th {\n",
              "        text-align: right;\n",
              "    }\n",
              "</style>\n",
              "<table border=\"1\" class=\"dataframe\">\n",
              "  <thead>\n",
              "    <tr style=\"text-align: right;\">\n",
              "      <th></th>\n",
              "      <th>score RMSE</th>\n",
              "      <th>time training</th>\n",
              "      <th>predictions speed</th>\n",
              "    </tr>\n",
              "  </thead>\n",
              "  <tbody>\n",
              "    <tr>\n",
              "      <td>CatBoost</td>\n",
              "      <td>1576</td>\n",
              "      <td>≈ 1min 10s</td>\n",
              "      <td>≈ 350 ms</td>\n",
              "    </tr>\n",
              "    <tr>\n",
              "      <td>LinearRegressor</td>\n",
              "      <td>2593</td>\n",
              "      <td>≈ 22.4 s</td>\n",
              "      <td>≈ 196 ms</td>\n",
              "    </tr>\n",
              "    <tr>\n",
              "      <td>LGBM</td>\n",
              "      <td>1581</td>\n",
              "      <td>≈ 10.5 s</td>\n",
              "      <td>≈ 1.69 s</td>\n",
              "    </tr>\n",
              "  </tbody>\n",
              "</table>\n",
              "</div>"
            ],
            "text/plain": [
              "                 score RMSE time training predictions speed\n",
              "CatBoost               1576    ≈ 1min 10s          ≈ 350 ms\n",
              "LinearRegressor        2593      ≈ 22.4 s          ≈ 196 ms\n",
              "LGBM                   1581      ≈ 10.5 s          ≈ 1.69 s"
            ]
          },
          "execution_count": 47,
          "metadata": {},
          "output_type": "execute_result"
        }
      ]
    },
    {
      "cell_type": "markdown",
      "metadata": {
        "id": "LRCGxduvroHq"
      },
      "source": [
        "Видим, что алгоритм LGBM лучше всех справляется с поставленными задачами: лучше всех местрика, лучше время обучения и не так сильно отличается скорость предсказания."
      ]
    },
    {
      "cell_type": "markdown",
      "metadata": {
        "id": "eZrAr7CwroHr"
      },
      "source": [
        "# Общий вывод:"
      ]
    },
    {
      "cell_type": "markdown",
      "metadata": {
        "id": "RsRgfdVFroHr"
      },
      "source": [
        "Провели общую предобработку данных с заменой пропусков и с удалением аномалий. Обучили несколько моделей и проверили результат. В итоге модель LGBM оказалась лучше по большенству параметров."
      ]
    }
  ]
}